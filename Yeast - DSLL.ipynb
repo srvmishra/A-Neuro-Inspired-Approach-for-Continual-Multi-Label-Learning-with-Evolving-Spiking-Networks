{
 "cells": [
  {
   "cell_type": "code",
   "execution_count": 1,
   "metadata": {},
   "outputs": [],
   "source": [
    "from ContinualEvolvingSNN import *\n",
    "import arff\n",
    "import warnings\n",
    "from scipy.io import loadmat\n",
    "warnings.filterwarnings(\"ignore\")\n",
    "%matplotlib inline\n",
    "np.random.seed(0)\n",
    "torch.manual_seed(0)\n",
    "torch.cuda.manual_seed(0)\n",
    "device = torch.device('cuda:2' if torch.cuda.is_available() else 'cpu')"
   ]
  },
  {
   "cell_type": "markdown",
   "metadata": {},
   "source": [
    "## Load Data and Convert to Spikes"
   ]
  },
  {
   "cell_type": "code",
   "execution_count": 2,
   "metadata": {},
   "outputs": [
    {
     "name": "stderr",
     "output_type": "stream",
     "text": [
      "100%|██████████| 1500/1500 [00:00<00:00, 9069.18it/s]\n",
      "100%|██████████| 917/917 [00:00<00:00, 8645.06it/s]"
     ]
    },
    {
     "name": "stdout",
     "output_type": "stream",
     "text": [
      "Train data shape:  (1500, 1, 618)\n",
      "Train labels shape:  (1500, 14)\n",
      "Test data shape:  (917, 1, 618)\n",
      "Test labels shape:  (917, 14)\n"
     ]
    },
    {
     "name": "stderr",
     "output_type": "stream",
     "text": [
      "\n"
     ]
    }
   ],
   "source": [
    "train_path = '../datasets/yeast/yeast-train.arff'\n",
    "test_path = '../datasets/yeast/yeast-test.arff'\n",
    "num_features = 103\n",
    "train_data = arff.load(open(train_path, 'rt'))\n",
    "train_data = np.array(train_data['data']).astype(np.float32)\n",
    "test_data = arff.load(open(test_path, 'rt'))\n",
    "test_data = np.array(test_data['data']).astype(np.float32)\n",
    "a = train_data[:, :num_features].max(axis=0)\n",
    "b = train_data[:, :num_features].min(axis=0)\n",
    "\n",
    "train_spikes, train_labels = encode_data_to_spikes(train_data, device, num_features, a, b)\n",
    "test_spikes, test_labels = encode_data_to_spikes(test_data, device, num_features, a, b)\n",
    "print(\"Train data shape: \", np.array(train_spikes).shape)\n",
    "print(\"Train labels shape: \", np.array(train_labels).shape)\n",
    "print(\"Test data shape: \", np.array(test_spikes).shape)\n",
    "print(\"Test labels shape: \", np.array(test_labels).shape)"
   ]
  },
  {
   "cell_type": "markdown",
   "metadata": {},
   "source": [
    "## DSLL Training and Evaluation Mode"
   ]
  },
  {
   "cell_type": "code",
   "execution_count": 3,
   "metadata": {},
   "outputs": [
    {
     "name": "stdout",
     "output_type": "stream",
     "text": [
      "Training and Evaluating on task 1\n",
      "Train data shape is  (1500, 1, 618)\n",
      "Train Labels shape is  (1500, 7)\n",
      "Classes trained are: 0 to 7\n"
     ]
    },
    {
     "name": "stderr",
     "output_type": "stream",
     "text": [
      "  0%|          | 0/100 [00:00<?, ?it/s]"
     ]
    },
    {
     "name": "stdout",
     "output_type": "stream",
     "text": [
      "Class 0, class 1 neurons = 2, class 0 neurons = 1\n",
      "Class 1, class 1 neurons = 2, class 0 neurons = 1\n",
      "Class 2, class 1 neurons = 2, class 0 neurons = 1\n",
      "Class 3, class 1 neurons = 2, class 0 neurons = 1\n",
      "Class 4, class 1 neurons = 2, class 0 neurons = 1\n",
      "Class 5, class 1 neurons = 2, class 0 neurons = 1\n",
      "Class 6, class 1 neurons = 1, class 0 neurons = 2\n"
     ]
    },
    {
     "name": "stderr",
     "output_type": "stream",
     "text": [
      "100%|██████████| 100/100 [18:57<00:00, 11.38s/it]\n"
     ]
    },
    {
     "name": "stdout",
     "output_type": "stream",
     "text": [
      "Evaluating in individual mode on test set\n",
      "multilabel-indicator multilabel-indicator\n",
      "float32 int64\n",
      "(917, 7) (917, 7)\n",
      "|                     |        0 |\n",
      "|:--------------------|---------:|\n",
      "| hamming loss        | 0.211715 |\n",
      "| zero_one_loss       | 0.784079 |\n",
      "| one_error           | 0        |\n",
      "| micro av. jaccard   | 0.433041 |\n",
      "| macro av. jaccard   | 0.230304 |\n",
      "| micro av. precision | 0.713402 |\n",
      "| macro av. precision | 0.473938 |\n",
      "| micro av. recall    | 0.524242 |\n",
      "| macro av. recall    | 0.286567 |\n",
      "| micro av. f1        | 0.604367 |\n",
      "| macro av. f1        | 0.314322 |\n",
      "Evaluating in combined mode on test set\n",
      "multilabel-indicator multilabel-indicator\n",
      "float32 int64\n",
      "(917, 7) (917, 7)\n",
      "|                     |        0 |\n",
      "|:--------------------|---------:|\n",
      "| hamming loss        | 0.211715 |\n",
      "| zero_one_loss       | 0.784079 |\n",
      "| one_error           | 0        |\n",
      "| micro av. jaccard   | 0.433041 |\n",
      "| macro av. jaccard   | 0.230304 |\n",
      "| micro av. precision | 0.713402 |\n",
      "| macro av. precision | 0.473938 |\n",
      "| micro av. recall    | 0.524242 |\n",
      "| macro av. recall    | 0.286567 |\n",
      "| micro av. f1        | 0.604367 |\n",
      "| macro av. f1        | 0.314322 |\n",
      "Training and Evaluating on task 2\n",
      "Train data shape is  (1500, 1, 618)\n",
      "Train Labels shape is  (1500, 3)\n",
      "Classes trained are: 7 to 10\n",
      "Augmenting class labels...\n",
      "Train Labels shape is  (1500, 10)\n"
     ]
    },
    {
     "name": "stderr",
     "output_type": "stream",
     "text": [
      "  0%|          | 0/100 [00:00<?, ?it/s]"
     ]
    },
    {
     "name": "stdout",
     "output_type": "stream",
     "text": [
      "Class 0, class 1 neurons = 4, class 0 neurons = 2\n",
      "Class 1, class 1 neurons = 3, class 0 neurons = 2\n",
      "Class 2, class 1 neurons = 3, class 0 neurons = 2\n",
      "Class 3, class 1 neurons = 4, class 0 neurons = 2\n",
      "Class 4, class 1 neurons = 2, class 0 neurons = 1\n",
      "Class 5, class 1 neurons = 2, class 0 neurons = 1\n",
      "Class 6, class 1 neurons = 1, class 0 neurons = 3\n",
      "Class 7, class 1 neurons = 2, class 0 neurons = 1\n",
      "Class 8, class 1 neurons = 2, class 0 neurons = 1\n",
      "Class 9, class 1 neurons = 3, class 0 neurons = 1\n"
     ]
    },
    {
     "name": "stderr",
     "output_type": "stream",
     "text": [
      "100%|██████████| 100/100 [28:24<00:00, 17.05s/it]\n"
     ]
    },
    {
     "name": "stdout",
     "output_type": "stream",
     "text": [
      "Evaluating in individual mode on test set\n",
      "multilabel-indicator multilabel-indicator\n",
      "float32 int64\n",
      "(917, 3) (917, 3)\n",
      "|                     |          0 |\n",
      "|:--------------------|-----------:|\n",
      "| hamming loss        | 0.138132   |\n",
      "| zero_one_loss       | 0.353326   |\n",
      "| one_error           | 0.00327154 |\n",
      "| micro av. jaccard   | 0.226069   |\n",
      "| macro av. jaccard   | 0.115987   |\n",
      "| micro av. precision | 0.744966   |\n",
      "| macro av. precision | 0.248322   |\n",
      "| micro av. recall    | 0.245033   |\n",
      "| macro av. recall    | 0.131673   |\n",
      "| micro av. f1        | 0.368771   |\n",
      "| macro av. f1        | 0.172093   |\n",
      "Evaluating in combined mode on test set\n",
      "multilabel-indicator multilabel-indicator\n",
      "float32 int64\n",
      "(917, 10) (917, 10)\n",
      "|                     |        0 |\n",
      "|:--------------------|---------:|\n",
      "| hamming loss        | 0.193239 |\n",
      "| zero_one_loss       | 0.836423 |\n",
      "| one_error           | 0        |\n",
      "| micro av. jaccard   | 0.385362 |\n",
      "| macro av. jaccard   | 0.189367 |\n",
      "| micro av. precision | 0.711723 |\n",
      "| macro av. precision | 0.396883 |\n",
      "| micro av. recall    | 0.456638 |\n",
      "| macro av. recall    | 0.231604 |\n",
      "| micro av. f1        | 0.556335 |\n",
      "| macro av. f1        | 0.265333 |\n",
      "Training and Evaluating on task 3\n",
      "Train data shape is  (1500, 1, 618)\n",
      "Train Labels shape is  (1500, 3)\n",
      "Classes trained are: 10 to 13\n",
      "Augmenting class labels...\n",
      "Train Labels shape is  (1500, 13)\n"
     ]
    },
    {
     "name": "stderr",
     "output_type": "stream",
     "text": [
      "  0%|          | 0/100 [00:00<?, ?it/s]"
     ]
    },
    {
     "name": "stdout",
     "output_type": "stream",
     "text": [
      "Class 0, class 1 neurons = 4, class 0 neurons = 4\n",
      "Class 1, class 1 neurons = 3, class 0 neurons = 4\n",
      "Class 2, class 1 neurons = 3, class 0 neurons = 3\n",
      "Class 3, class 1 neurons = 5, class 0 neurons = 3\n",
      "Class 4, class 1 neurons = 2, class 0 neurons = 1\n",
      "Class 5, class 1 neurons = 2, class 0 neurons = 1\n",
      "Class 6, class 1 neurons = 2, class 0 neurons = 3\n",
      "Class 7, class 1 neurons = 5, class 0 neurons = 2\n",
      "Class 8, class 1 neurons = 2, class 0 neurons = 1\n",
      "Class 9, class 1 neurons = 3, class 0 neurons = 1\n",
      "Class 10, class 1 neurons = 2, class 0 neurons = 1\n",
      "Class 11, class 1 neurons = 1, class 0 neurons = 2\n",
      "Class 12, class 1 neurons = 2, class 0 neurons = 1\n"
     ]
    },
    {
     "name": "stderr",
     "output_type": "stream",
     "text": [
      "100%|██████████| 100/100 [38:57<00:00, 23.37s/it]\n"
     ]
    },
    {
     "name": "stdout",
     "output_type": "stream",
     "text": [
      "Evaluating in individual mode on test set\n",
      "multilabel-indicator multilabel-indicator\n",
      "float32 int64\n",
      "(917, 3) (917, 3)\n",
      "|                     |          0 |\n",
      "|:--------------------|-----------:|\n",
      "| hamming loss        | 0.218103   |\n",
      "| zero_one_loss       | 0.521265   |\n",
      "| one_error           | 0.00545256 |\n",
      "| micro av. jaccard   | 0.585349   |\n",
      "| macro av. jaccard   | 0.43123    |\n",
      "| micro av. precision | 0.731434   |\n",
      "| macro av. precision | 0.65195    |\n",
      "| micro av. recall    | 0.745599   |\n",
      "| macro av. recall    | 0.548997   |\n",
      "| micro av. f1        | 0.738448   |\n",
      "| macro av. f1        | 0.556692   |\n",
      "Evaluating in combined mode on test set\n",
      "multilabel-indicator multilabel-indicator\n",
      "float32 int64\n",
      "(917, 13) (917, 13)\n",
      "|                     |        0 |\n",
      "|:--------------------|---------:|\n",
      "| hamming loss        | 0.200151 |\n",
      "| zero_one_loss       | 0.854962 |\n",
      "| one_error           | 0        |\n",
      "| micro av. jaccard   | 0.449088 |\n",
      "| macro av. jaccard   | 0.242545 |\n",
      "| micro av. precision | 0.718508 |\n",
      "| macro av. precision | 0.451184 |\n",
      "| micro av. recall    | 0.544971 |\n",
      "| macro av. recall    | 0.301361 |\n",
      "| micro av. f1        | 0.619822 |\n",
      "| macro av. f1        | 0.329931 |\n",
      "Evaluating in individual mode on test set\n",
      "|                     |        0 |          1 |          2 |\n",
      "|:--------------------|---------:|-----------:|-----------:|\n",
      "| hamming loss        | 0.218726 | 0.138859   | 0.218103   |\n",
      "| zero_one_loss       | 0.802617 | 0.356598   | 0.521265   |\n",
      "| one_error           | 0        | 0.00327154 | 0.00545256 |\n",
      "| micro av. jaccard   | 0.418152 | 0.18896    | 0.585349   |\n",
      "| macro av. jaccard   | 0.223106 | 0.0992196  | 0.43123    |\n",
      "| micro av. precision | 0.699723 | 0.831776   | 0.731434   |\n",
      "| macro av. precision | 0.43968  | 0.277259   | 0.65195    |\n",
      "| micro av. recall    | 0.509596 | 0.196468   | 0.745599   |\n",
      "| macro av. recall    | 0.27914  | 0.105575   | 0.548997   |\n",
      "| micro av. f1        | 0.589714 | 0.317857   | 0.738448   |\n",
      "| macro av. f1        | 0.308609 | 0.152921   | 0.556692   |\n",
      "Evaluating in combined mode on test set\n",
      "|                     |        0 |        1 |        2 |\n",
      "|:--------------------|---------:|---------:|---------:|\n",
      "| hamming loss        | 0.218726 | 0.194766 | 0.200151 |\n",
      "| zero_one_loss       | 0.802617 | 0.840785 | 0.854962 |\n",
      "| one_error           | 0        | 0        | 0        |\n",
      "| micro av. jaccard   | 0.418152 | 0.380721 | 0.449088 |\n",
      "| macro av. jaccard   | 0.223106 | 0.18594  | 0.242545 |\n",
      "| micro av. precision | 0.699723 | 0.708844 | 0.718508 |\n",
      "| macro av. precision | 0.43968  | 0.390954 | 0.451184 |\n",
      "| micro av. recall    | 0.509596 | 0.451295 | 0.544971 |\n",
      "| macro av. recall    | 0.27914  | 0.227071 | 0.301361 |\n",
      "| micro av. f1        | 0.589714 | 0.551482 | 0.619822 |\n",
      "| macro av. f1        | 0.308609 | 0.261903 | 0.329931 |\n",
      "Number of Tasks: 3\n",
      "Forgetting in task 1: first time micro av. f1 = 0.6044, after all tasks micro av. f1 = 0.5897\n",
      "Forgetting in task 2: first time micro av. f1 = 0.3688, after all tasks micro av. f1 = 0.5897\n",
      "Forgetting in task 3: first time micro av. f1 = 0.7384, after all tasks micro av. f1 = 0.5897\n"
     ]
    },
    {
     "data": {
      "image/png": "[encoded data removed]",
      "text/plain": [
       "<Figure size 360x360 with 1 Axes>"
      ]
     },
     "metadata": {
      "needs_background": "light"
     },
     "output_type": "display_data"
    }
   ],
   "source": [
    "hparams_dict = {\n",
    "    'inputs': 618,\n",
    "    'outputs': 13,\n",
    "    'time_constant': 300,\n",
    "    'alpha_a': 0.42,\n",
    "    'alpha_m': 0.07,\n",
    "    'w_max': 100.0,\n",
    "    'w_min': -100.0,\n",
    "    'lr': 5e-3,\n",
    "    'sim_time': 600,\n",
    "    'n_epochs': 100,\n",
    "    'print_every': 10,\n",
    "    'name': 'Yeast',\n",
    "    'tasks': {'samples': None, 'labels': [7, 3, 3]},\n",
    "    'seed': 5,\n",
    "    'ckpt_dir': './checkpoints/yeast',\n",
    "    'load_from_file': None,\n",
    "    'device': device\n",
    "}\n",
    "net = OverallSNN(hparams_dict)\n",
    "net.fit_and_evaluate(train_spikes, train_labels, test_spikes, test_labels)"
   ]
  },
  {
   "cell_type": "code",
   "execution_count": 4,
   "metadata": {},
   "outputs": [
    {
     "name": "stdout",
     "output_type": "stream",
     "text": [
      "Training and Evaluating on task 1\n",
      "Train data shape is  (1500, 1, 618)\n",
      "Train Labels shape is  (1500, 7)\n",
      "Classes trained are: 0 to 7\n"
     ]
    },
    {
     "name": "stderr",
     "output_type": "stream",
     "text": [
      "  0%|          | 0/100 [00:00<?, ?it/s]"
     ]
    },
    {
     "name": "stdout",
     "output_type": "stream",
     "text": [
      "Class 0, class 1 neurons = 2, class 0 neurons = 1\n",
      "Class 1, class 1 neurons = 2, class 0 neurons = 1\n",
      "Class 2, class 1 neurons = 2, class 0 neurons = 1\n",
      "Class 3, class 1 neurons = 2, class 0 neurons = 1\n",
      "Class 4, class 1 neurons = 2, class 0 neurons = 1\n",
      "Class 5, class 1 neurons = 2, class 0 neurons = 1\n",
      "Class 6, class 1 neurons = 2, class 0 neurons = 1\n"
     ]
    },
    {
     "name": "stderr",
     "output_type": "stream",
     "text": [
      "100%|██████████| 100/100 [19:43<00:00, 11.83s/it]\n"
     ]
    },
    {
     "name": "stdout",
     "output_type": "stream",
     "text": [
      "Evaluating in individual mode on test set\n",
      "multilabel-indicator multilabel-indicator\n",
      "float32 int64\n",
      "(917, 7) (917, 7)\n",
      "|                     |        0 |\n",
      "|:--------------------|---------:|\n",
      "| hamming loss        | 0.219349 |\n",
      "| zero_one_loss       | 0.745911 |\n",
      "| one_error           | 0        |\n",
      "| micro av. jaccard   | 0.270088 |\n",
      "| macro av. jaccard   | 0.196283 |\n",
      "| micro av. precision | 0.650437 |\n",
      "| macro av. precision | 0.517163 |\n",
      "| micro av. recall    | 0.315949 |\n",
      "| macro av. recall    | 0.231605 |\n",
      "| micro av. f1        | 0.425306 |\n",
      "| macro av. f1        | 0.301018 |\n",
      "Evaluating in combined mode on test set\n",
      "multilabel-indicator multilabel-indicator\n",
      "float32 int64\n",
      "(917, 7) (917, 7)\n",
      "|                     |        0 |\n",
      "|:--------------------|---------:|\n",
      "| hamming loss        | 0.219349 |\n",
      "| zero_one_loss       | 0.745911 |\n",
      "| one_error           | 0        |\n",
      "| micro av. jaccard   | 0.270088 |\n",
      "| macro av. jaccard   | 0.196283 |\n",
      "| micro av. precision | 0.650437 |\n",
      "| macro av. precision | 0.517163 |\n",
      "| micro av. recall    | 0.315949 |\n",
      "| macro av. recall    | 0.231605 |\n",
      "| micro av. f1        | 0.425306 |\n",
      "| macro av. f1        | 0.301018 |\n",
      "Training and Evaluating on task 2\n",
      "Train data shape is  (1500, 1, 618)\n",
      "Train Labels shape is  (1500, 3)\n",
      "Classes trained are: 7 to 10\n",
      "Augmenting class labels...\n",
      "Train Labels shape is  (1500, 10)\n"
     ]
    },
    {
     "name": "stderr",
     "output_type": "stream",
     "text": [
      "  0%|          | 0/100 [00:00<?, ?it/s]"
     ]
    },
    {
     "name": "stdout",
     "output_type": "stream",
     "text": [
      "Class 0, class 1 neurons = 2, class 0 neurons = 2\n",
      "Class 1, class 1 neurons = 5, class 0 neurons = 2\n",
      "Class 2, class 1 neurons = 3, class 0 neurons = 2\n",
      "Class 3, class 1 neurons = 5, class 0 neurons = 2\n",
      "Class 4, class 1 neurons = 2, class 0 neurons = 1\n",
      "Class 5, class 1 neurons = 2, class 0 neurons = 3\n",
      "Class 6, class 1 neurons = 4, class 0 neurons = 2\n",
      "Class 7, class 1 neurons = 2, class 0 neurons = 1\n",
      "Class 8, class 1 neurons = 1, class 0 neurons = 2\n",
      "Class 9, class 1 neurons = 1, class 0 neurons = 2\n"
     ]
    },
    {
     "name": "stderr",
     "output_type": "stream",
     "text": [
      "100%|██████████| 100/100 [31:24<00:00, 18.84s/it]\n"
     ]
    },
    {
     "name": "stdout",
     "output_type": "stream",
     "text": [
      "Evaluating in individual mode on test set\n",
      "multilabel-indicator multilabel-indicator\n",
      "float32 int64\n",
      "(917, 3) (917, 3)\n",
      "|                     |         0 |\n",
      "|:--------------------|----------:|\n",
      "| hamming loss        | 0.241003  |\n",
      "| zero_one_loss       | 0.392585  |\n",
      "| one_error           | 0.0785169 |\n",
      "| micro av. jaccard   | 0.694188  |\n",
      "| macro av. jaccard   | 0.637054  |\n",
      "| micro av. precision | 0.746528  |\n",
      "| macro av. precision | 0.742092  |\n",
      "| micro av. recall    | 0.908268  |\n",
      "| macro av. recall    | 0.828948  |\n",
      "| micro av. f1        | 0.819494  |\n",
      "| macro av. f1        | 0.76688   |\n",
      "Evaluating in combined mode on test set\n",
      "multilabel-indicator multilabel-indicator\n",
      "float32 int64\n",
      "(917, 10) (917, 10)\n",
      "|                     |        0 |\n",
      "|:--------------------|---------:|\n",
      "| hamming loss        | 0.228462 |\n",
      "| zero_one_loss       | 0.832061 |\n",
      "| one_error           | 0        |\n",
      "| micro av. jaccard   | 0.4889   |\n",
      "| macro av. jaccard   | 0.325393 |\n",
      "| micro av. precision | 0.716482 |\n",
      "| macro av. precision | 0.574423 |\n",
      "| micro av. recall    | 0.606171 |\n",
      "| macro av. recall    | 0.406453 |\n",
      "| micro av. f1        | 0.656726 |\n",
      "| macro av. f1        | 0.438742 |\n",
      "Training and Evaluating on task 3\n",
      "Train data shape is  (1500, 1, 618)\n",
      "Train Labels shape is  (1500, 3)\n",
      "Classes trained are: 10 to 13\n",
      "Augmenting class labels...\n",
      "Train Labels shape is  (1500, 13)\n"
     ]
    },
    {
     "name": "stderr",
     "output_type": "stream",
     "text": [
      "  0%|          | 0/100 [00:00<?, ?it/s]"
     ]
    },
    {
     "name": "stdout",
     "output_type": "stream",
     "text": [
      "Class 0, class 1 neurons = 2, class 0 neurons = 3\n",
      "Class 1, class 1 neurons = 8, class 0 neurons = 3\n",
      "Class 2, class 1 neurons = 3, class 0 neurons = 4\n",
      "Class 3, class 1 neurons = 10, class 0 neurons = 3\n",
      "Class 4, class 1 neurons = 2, class 0 neurons = 1\n",
      "Class 5, class 1 neurons = 3, class 0 neurons = 4\n",
      "Class 6, class 1 neurons = 4, class 0 neurons = 4\n",
      "Class 7, class 1 neurons = 3, class 0 neurons = 2\n",
      "Class 8, class 1 neurons = 1, class 0 neurons = 2\n",
      "Class 9, class 1 neurons = 1, class 0 neurons = 3\n",
      "Class 10, class 1 neurons = 2, class 0 neurons = 1\n",
      "Class 11, class 1 neurons = 3, class 0 neurons = 1\n",
      "Class 12, class 1 neurons = 2, class 0 neurons = 1\n"
     ]
    },
    {
     "name": "stderr",
     "output_type": "stream",
     "text": [
      "100%|██████████| 100/100 [43:22<00:00, 26.02s/it]\n"
     ]
    },
    {
     "name": "stdout",
     "output_type": "stream",
     "text": [
      "Evaluating in individual mode on test set\n",
      "multilabel-indicator multilabel-indicator\n",
      "float32 int64\n",
      "(917, 3) (917, 3)\n",
      "|                     |          0 |\n",
      "|:--------------------|-----------:|\n",
      "| hamming loss        | 0.14104    |\n",
      "| zero_one_loss       | 0.367503   |\n",
      "| one_error           | 0.00436205 |\n",
      "| micro av. jaccard   | 0.304659   |\n",
      "| macro av. jaccard   | 0.146805   |\n",
      "| micro av. precision | 0.752212   |\n",
      "| macro av. precision | 0.250737   |\n",
      "| micro av. recall    | 0.338645   |\n",
      "| macro av. recall    | 0.171717   |\n",
      "| micro av. f1        | 0.467033   |\n",
      "| macro av. f1        | 0.203837   |\n",
      "Evaluating in combined mode on test set\n",
      "multilabel-indicator multilabel-indicator\n",
      "float32 int64\n",
      "(917, 13) (917, 13)\n",
      "|                     |        0 |\n",
      "|:--------------------|---------:|\n",
      "| hamming loss        | 0.210133 |\n",
      "| zero_one_loss       | 0.859324 |\n",
      "| one_error           | 0        |\n",
      "| micro av. jaccard   | 0.464171 |\n",
      "| macro av. jaccard   | 0.283258 |\n",
      "| micro av. precision | 0.714521 |\n",
      "| macro av. precision | 0.494356 |\n",
      "| micro av. recall    | 0.569853 |\n",
      "| macro av. recall    | 0.352317 |\n",
      "| micro av. f1        | 0.634039 |\n",
      "| macro av. f1        | 0.384115 |\n",
      "Evaluating in individual mode on test set\n",
      "|                     |        0 |         1 |          2 |\n",
      "|:--------------------|---------:|----------:|-----------:|\n",
      "| hamming loss        | 0.226048 | 0.242094  | 0.14104    |\n",
      "| zero_one_loss       | 0.763359 | 0.398037  | 0.367503   |\n",
      "| one_error           | 0        | 0.0752454 | 0.00436205 |\n",
      "| micro av. jaccard   | 0.25666  | 0.692379  | 0.304659   |\n",
      "| macro av. jaccard   | 0.190764 | 0.635531  | 0.146805   |\n",
      "| micro av. precision | 0.623134 | 0.746886  | 0.752212   |\n",
      "| macro av. precision | 0.492888 | 0.741398  | 0.250737   |\n",
      "| micro av. recall    | 0.30382  | 0.904647  | 0.338645   |\n",
      "| macro av. recall    | 0.2267   | 0.826023  | 0.171717   |\n",
      "| micro av. f1        | 0.408479 | 0.818231  | 0.467033   |\n",
      "| macro av. f1        | 0.297825 | 0.765737  | 0.203837   |\n",
      "Evaluating in combined mode on test set\n",
      "|                     |        0 |        1 |        2 |\n",
      "|:--------------------|---------:|---------:|---------:|\n",
      "| hamming loss        | 0.226048 | 0.230862 | 0.210133 |\n",
      "| zero_one_loss       | 0.763359 | 0.827699 | 0.859324 |\n",
      "| one_error           | 0        | 0        | 0        |\n",
      "| micro av. jaccard   | 0.25666  | 0.485791 | 0.464171 |\n",
      "| macro av. jaccard   | 0.190764 | 0.324194 | 0.283258 |\n",
      "| micro av. precision | 0.623134 | 0.711491 | 0.714521 |\n",
      "| macro av. precision | 0.492888 | 0.567441 | 0.494356 |\n",
      "| micro av. recall    | 0.30382  | 0.604961 | 0.569853 |\n",
      "| macro av. recall    | 0.2267   | 0.406497 | 0.352317 |\n",
      "| micro av. f1        | 0.408479 | 0.653915 | 0.634039 |\n",
      "| macro av. f1        | 0.297825 | 0.438199 | 0.384115 |\n",
      "Number of Tasks: 3\n",
      "Forgetting in task 1: first time micro av. f1 = 0.4253, after all tasks micro av. f1 = 0.4085\n",
      "Forgetting in task 2: first time micro av. f1 = 0.8195, after all tasks micro av. f1 = 0.4085\n",
      "Forgetting in task 3: first time micro av. f1 = 0.4670, after all tasks micro av. f1 = 0.4085\n"
     ]
    },
    {
     "data": {
      "image/png": "[encoded data removed]",
      "text/plain": [
       "<Figure size 360x360 with 1 Axes>"
      ]
     },
     "metadata": {
      "needs_background": "light"
     },
     "output_type": "display_data"
    }
   ],
   "source": [
    "hparams_dict = {\n",
    "    'inputs': 618,\n",
    "    'outputs': 13,\n",
    "    'time_constant': 300,\n",
    "    'alpha_a': 0.42,\n",
    "    'alpha_m': 0.07,\n",
    "    'w_max': 100.0,\n",
    "    'w_min': -100.0,\n",
    "    'lr': 5e-3,\n",
    "    'sim_time': 600,\n",
    "    'n_epochs': 100,\n",
    "    'print_every': 10,\n",
    "    'name': 'Yeast',\n",
    "    'tasks': {'samples': None, 'labels': [7, 3, 3]},\n",
    "    'seed': 3,\n",
    "    'ckpt_dir': './checkpoints/yeast',\n",
    "    'load_from_file': None,\n",
    "    'device': device\n",
    "}\n",
    "net = OverallSNN(hparams_dict)\n",
    "net.fit_and_evaluate(train_spikes, train_labels, test_spikes, test_labels)"
   ]
  },
  {
   "cell_type": "code",
   "execution_count": 5,
   "metadata": {},
   "outputs": [
    {
     "name": "stdout",
     "output_type": "stream",
     "text": [
      "Training and Evaluating on task 1\n",
      "Train data shape is  (1500, 1, 618)\n",
      "Train Labels shape is  (1500, 7)\n",
      "Classes trained are: 0 to 7\n"
     ]
    },
    {
     "name": "stderr",
     "output_type": "stream",
     "text": [
      "  0%|          | 0/100 [00:00<?, ?it/s]"
     ]
    },
    {
     "name": "stdout",
     "output_type": "stream",
     "text": [
      "Class 0, class 1 neurons = 2, class 0 neurons = 1\n",
      "Class 1, class 1 neurons = 2, class 0 neurons = 1\n",
      "Class 2, class 1 neurons = 1, class 0 neurons = 2\n",
      "Class 3, class 1 neurons = 3, class 0 neurons = 1\n",
      "Class 4, class 1 neurons = 2, class 0 neurons = 1\n",
      "Class 5, class 1 neurons = 2, class 0 neurons = 1\n",
      "Class 6, class 1 neurons = 2, class 0 neurons = 1\n"
     ]
    },
    {
     "name": "stderr",
     "output_type": "stream",
     "text": [
      "100%|██████████| 100/100 [19:47<00:00, 11.88s/it]\n"
     ]
    },
    {
     "name": "stdout",
     "output_type": "stream",
     "text": [
      "Evaluating in individual mode on test set\n",
      "multilabel-indicator multilabel-indicator\n",
      "float32 int64\n",
      "(917, 7) (917, 7)\n",
      "|                     |        0 |\n",
      "|:--------------------|---------:|\n",
      "| hamming loss        | 0.184297 |\n",
      "| zero_one_loss       | 0.736096 |\n",
      "| one_error           | 0        |\n",
      "| micro av. jaccard   | 0.500844 |\n",
      "| macro av. jaccard   | 0.299364 |\n",
      "| micro av. precision | 0.741412 |\n",
      "| macro av. precision | 0.498298 |\n",
      "| micro av. recall    | 0.606851 |\n",
      "| macro av. recall    | 0.365771 |\n",
      "| micro av. f1        | 0.667416 |\n",
      "| macro av. f1        | 0.401395 |\n",
      "Evaluating in combined mode on test set\n",
      "multilabel-indicator multilabel-indicator\n",
      "float32 int64\n",
      "(917, 7) (917, 7)\n",
      "|                     |        0 |\n",
      "|:--------------------|---------:|\n",
      "| hamming loss        | 0.184297 |\n",
      "| zero_one_loss       | 0.736096 |\n",
      "| one_error           | 0        |\n",
      "| micro av. jaccard   | 0.500844 |\n",
      "| macro av. jaccard   | 0.299364 |\n",
      "| micro av. precision | 0.741412 |\n",
      "| macro av. precision | 0.498298 |\n",
      "| micro av. recall    | 0.606851 |\n",
      "| macro av. recall    | 0.365771 |\n",
      "| micro av. f1        | 0.667416 |\n",
      "| macro av. f1        | 0.401395 |\n",
      "Training and Evaluating on task 2\n",
      "Train data shape is  (1500, 1, 618)\n",
      "Train Labels shape is  (1500, 3)\n",
      "Classes trained are: 7 to 10\n",
      "Augmenting class labels...\n",
      "Train Labels shape is  (1500, 10)\n"
     ]
    },
    {
     "name": "stderr",
     "output_type": "stream",
     "text": [
      "  0%|          | 0/100 [00:00<?, ?it/s]"
     ]
    },
    {
     "name": "stdout",
     "output_type": "stream",
     "text": [
      "Class 0, class 1 neurons = 5, class 0 neurons = 2\n",
      "Class 1, class 1 neurons = 4, class 0 neurons = 2\n",
      "Class 2, class 1 neurons = 1, class 0 neurons = 3\n",
      "Class 3, class 1 neurons = 3, class 0 neurons = 1\n",
      "Class 4, class 1 neurons = 3, class 0 neurons = 2\n",
      "Class 5, class 1 neurons = 2, class 0 neurons = 1\n",
      "Class 6, class 1 neurons = 4, class 0 neurons = 2\n",
      "Class 7, class 1 neurons = 2, class 0 neurons = 1\n",
      "Class 8, class 1 neurons = 1, class 0 neurons = 2\n",
      "Class 9, class 1 neurons = 2, class 0 neurons = 1\n"
     ]
    },
    {
     "name": "stderr",
     "output_type": "stream",
     "text": [
      "100%|██████████| 100/100 [30:30<00:00, 18.31s/it]\n"
     ]
    },
    {
     "name": "stdout",
     "output_type": "stream",
     "text": [
      "Evaluating in individual mode on test set\n",
      "multilabel-indicator multilabel-indicator\n",
      "float32 int64\n",
      "(917, 3) (917, 3)\n",
      "|                     |          0 |\n",
      "|:--------------------|-----------:|\n",
      "| hamming loss        | 0.189022   |\n",
      "| zero_one_loss       | 0.436205   |\n",
      "| one_error           | 0.00763359 |\n",
      "| micro av. jaccard   | 0.61367    |\n",
      "| macro av. jaccard   | 0.388448   |\n",
      "| micro av. precision | 0.73553    |\n",
      "| macro av. precision | 0.479127   |\n",
      "| micro av. recall    | 0.787417   |\n",
      "| macro av. recall    | 0.504742   |\n",
      "| micro av. f1        | 0.760589   |\n",
      "| macro av. f1        | 0.482424   |\n",
      "Evaluating in combined mode on test set\n",
      "multilabel-indicator multilabel-indicator\n",
      "float32 int64\n",
      "(917, 10) (917, 10)\n",
      "|                     |        0 |\n",
      "|:--------------------|---------:|\n",
      "| hamming loss        | 0.189313 |\n",
      "| zero_one_loss       | 0.791712 |\n",
      "| one_error           | 0        |\n",
      "| micro av. jaccard   | 0.531823 |\n",
      "| macro av. jaccard   | 0.315761 |\n",
      "| micro av. precision | 0.737196 |\n",
      "| macro av. precision | 0.490805 |\n",
      "| micro av. recall    | 0.65624  |\n",
      "| macro av. recall    | 0.394378 |\n",
      "| micro av. f1        | 0.694366 |\n",
      "| macro av. f1        | 0.414009 |\n",
      "Training and Evaluating on task 3\n",
      "Train data shape is  (1500, 1, 618)\n",
      "Train Labels shape is  (1500, 3)\n",
      "Classes trained are: 10 to 13\n",
      "Augmenting class labels...\n",
      "Train Labels shape is  (1500, 13)\n"
     ]
    },
    {
     "name": "stderr",
     "output_type": "stream",
     "text": [
      "  0%|          | 0/100 [00:00<?, ?it/s]"
     ]
    },
    {
     "name": "stdout",
     "output_type": "stream",
     "text": [
      "Class 0, class 1 neurons = 8, class 0 neurons = 3\n",
      "Class 1, class 1 neurons = 7, class 0 neurons = 3\n",
      "Class 2, class 1 neurons = 2, class 0 neurons = 3\n",
      "Class 3, class 1 neurons = 3, class 0 neurons = 1\n",
      "Class 4, class 1 neurons = 3, class 0 neurons = 4\n",
      "Class 5, class 1 neurons = 2, class 0 neurons = 1\n",
      "Class 6, class 1 neurons = 7, class 0 neurons = 3\n",
      "Class 7, class 1 neurons = 3, class 0 neurons = 2\n",
      "Class 8, class 1 neurons = 1, class 0 neurons = 4\n",
      "Class 9, class 1 neurons = 2, class 0 neurons = 1\n",
      "Class 10, class 1 neurons = 2, class 0 neurons = 1\n",
      "Class 11, class 1 neurons = 2, class 0 neurons = 1\n",
      "Class 12, class 1 neurons = 2, class 0 neurons = 1\n"
     ]
    },
    {
     "name": "stderr",
     "output_type": "stream",
     "text": [
      "100%|██████████| 100/100 [42:48<00:00, 25.69s/it]\n"
     ]
    },
    {
     "name": "stdout",
     "output_type": "stream",
     "text": [
      "Evaluating in individual mode on test set\n",
      "multilabel-indicator multilabel-indicator\n",
      "float32 int64\n",
      "(917, 3) (917, 3)\n",
      "|                     |         0 |\n",
      "|:--------------------|----------:|\n",
      "| hamming loss        | 0.279535  |\n",
      "| zero_one_loss       | 0.610687  |\n",
      "| one_error           | 0.0283533 |\n",
      "| micro av. jaccard   | 0.200624  |\n",
      "| macro av. jaccard   | 0.165388  |\n",
      "| micro av. precision | 0.548295  |\n",
      "| macro av. precision | 0.54629   |\n",
      "| micro av. recall    | 0.240349  |\n",
      "| macro av. recall    | 0.202543  |\n",
      "| micro av. f1        | 0.334199  |\n",
      "| macro av. f1        | 0.272843  |\n",
      "Evaluating in combined mode on test set\n",
      "multilabel-indicator multilabel-indicator\n",
      "float32 int64\n",
      "(917, 13) (917, 13)\n",
      "|                     |        0 |\n",
      "|:--------------------|---------:|\n",
      "| hamming loss        | 0.211056 |\n",
      "| zero_one_loss       | 0.861505 |\n",
      "| one_error           | 0        |\n",
      "| micro av. jaccard   | 0.462852 |\n",
      "| macro av. jaccard   | 0.281242 |\n",
      "| micro av. precision | 0.712221 |\n",
      "| macro av. precision | 0.500028 |\n",
      "| micro av. recall    | 0.569328 |\n",
      "| macro av. recall    | 0.351644 |\n",
      "| micro av. f1        | 0.632808 |\n",
      "| macro av. f1        | 0.381721 |\n",
      "Evaluating in individual mode on test set\n",
      "|                     |        0 |          1 |         2 |\n",
      "|:--------------------|---------:|-----------:|----------:|\n",
      "| hamming loss        | 0.190684 | 0.190113   | 0.279535  |\n",
      "| zero_one_loss       | 0.748092 | 0.437296   | 0.610687  |\n",
      "| one_error           | 0        | 0.00981461 | 0.0283533 |\n",
      "| micro av. jaccard   | 0.485282 | 0.610863   | 0.200624  |\n",
      "| macro av. jaccard   | 0.2855   | 0.387161   | 0.165388  |\n",
      "| micro av. precision | 0.732234 | 0.735663   | 0.548295  |\n",
      "| macro av. precision | 0.489123 | 0.47921    | 0.54629   |\n",
      "| micro av. recall    | 0.58998  | 0.78265    | 0.240349  |\n",
      "| macro av. recall    | 0.350977 | 0.502302   | 0.202543  |\n",
      "| micro av. f1        | 0.653454 | 0.75843    | 0.334199  |\n",
      "| macro av. f1        | 0.38559  | 0.481572   | 0.272843  |\n",
      "Evaluating in combined mode on test set\n",
      "|                     |        0 |        1 |        2 |\n",
      "|:--------------------|---------:|---------:|---------:|\n",
      "| hamming loss        | 0.190684 | 0.190513 | 0.211056 |\n",
      "| zero_one_loss       | 0.748092 | 0.798255 | 0.861505 |\n",
      "| one_error           | 0        | 0        | 0        |\n",
      "| micro av. jaccard   | 0.485282 | 0.530629 | 0.462852 |\n",
      "| macro av. jaccard   | 0.2855   | 0.315998 | 0.281242 |\n",
      "| micro av. precision | 0.732234 | 0.733655 | 0.712221 |\n",
      "| macro av. precision | 0.489123 | 0.486149 | 0.500028 |\n",
      "| micro av. recall    | 0.58998  | 0.657238 | 0.569328 |\n",
      "| macro av. recall    | 0.350977 | 0.396375 | 0.351644 |\n",
      "| micro av. f1        | 0.653454 | 0.693347 | 0.632808 |\n",
      "| macro av. f1        | 0.38559  | 0.414385 | 0.381721 |\n",
      "Number of Tasks: 3\n",
      "Forgetting in task 1: first time micro av. f1 = 0.6674, after all tasks micro av. f1 = 0.6535\n",
      "Forgetting in task 2: first time micro av. f1 = 0.7606, after all tasks micro av. f1 = 0.6535\n",
      "Forgetting in task 3: first time micro av. f1 = 0.3342, after all tasks micro av. f1 = 0.6535\n"
     ]
    },
    {
     "data": {
      "image/png": "[encoded data removed]",
      "text/plain": [
       "<Figure size 360x360 with 1 Axes>"
      ]
     },
     "metadata": {
      "needs_background": "light"
     },
     "output_type": "display_data"
    }
   ],
   "source": [
    "hparams_dict = {\n",
    "    'inputs': 618,\n",
    "    'outputs': 13,\n",
    "    'time_constant': 300,\n",
    "    'alpha_a': 0.42,\n",
    "    'alpha_m': 0.07,\n",
    "    'w_max': 100.0,\n",
    "    'w_min': -100.0,\n",
    "    'lr': 5e-3,\n",
    "    'sim_time': 600,\n",
    "    'n_epochs': 100,\n",
    "    'print_every': 10,\n",
    "    'name': 'Yeast',\n",
    "    'tasks': {'samples': None, 'labels': [7, 3, 3]},\n",
    "    'seed': 4,\n",
    "    'ckpt_dir': './checkpoints/yeast',\n",
    "    'load_from_file': None,\n",
    "    'device': device\n",
    "}\n",
    "net = OverallSNN(hparams_dict)\n",
    "net.fit_and_evaluate(train_spikes, train_labels, test_spikes, test_labels)"
   ]
  }
 ],
 "metadata": {
  "kernelspec": {
   "display_name": "DL_gpu",
   "language": "python",
   "name": "dl_gpu"
  },
  "language_info": {
   "codemirror_mode": {
    "name": "ipython",
    "version": 3
   },
   "file_extension": ".py",
   "mimetype": "text/x-python",
   "name": "python",
   "nbconvert_exporter": "python",
   "pygments_lexer": "ipython3",
   "version": "3.7.7"
  }
 },
 "nbformat": 4,
 "nbformat_minor": 4
}
