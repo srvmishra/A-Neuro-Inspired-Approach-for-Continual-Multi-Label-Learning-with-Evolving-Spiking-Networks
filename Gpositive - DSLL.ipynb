{
 "cells": [
  {
   "cell_type": "code",
   "execution_count": 1,
   "metadata": {},
   "outputs": [],
   "source": [
    "from ContinualEvolvingSNN import *\n",
    "import arff\n",
    "import warnings\n",
    "from scipy.io import loadmat\n",
    "warnings.filterwarnings(\"ignore\")\n",
    "%matplotlib inline\n",
    "np.random.seed(0)\n",
    "torch.manual_seed(0)\n",
    "torch.cuda.manual_seed(0)\n",
    "device = torch.device('cuda:1' if torch.cuda.is_available() else 'cpu')"
   ]
  },
  {
   "cell_type": "markdown",
   "metadata": {},
   "source": [
    "## Load Data and Convert to Spikes"
   ]
  },
  {
   "cell_type": "code",
   "execution_count": 2,
   "metadata": {},
   "outputs": [
    {
     "name": "stderr",
     "output_type": "stream",
     "text": [
      "100%|██████████| 311/311 [00:00<00:00, 2340.37it/s]\n",
      "100%|██████████| 208/208 [00:00<00:00, 2542.97it/s]"
     ]
    },
    {
     "name": "stdout",
     "output_type": "stream",
     "text": [
      "Train data shape:  (311, 1, 300)\n",
      "Train labels shape:  (311, 4)\n",
      "Test data shape:  (208, 1, 300)\n",
      "Test labels shape:  (208, 4)\n"
     ]
    },
    {
     "name": "stderr",
     "output_type": "stream",
     "text": [
      "\n"
     ]
    }
   ],
   "source": [
    "trainpath = '../datasets/GpositivePseAAC/Gram_positivePseAAC519_train_MVMD.mat'\n",
    "testpath = '../datasets/GpositivePseAAC/Gram_positivePseAAC519_test_MVMD.mat'\n",
    "\n",
    "train_ = loadmat(trainpath)\n",
    "train_data, train_labels = train_['transformed_train_data'], np.array(train_['labels'])\n",
    "\n",
    "test_ = loadmat(testpath)\n",
    "test_data, test_labels = test_['transformed_test_data'], np.array(test_['labels'])\n",
    "\n",
    "a = train_data.max(axis=0)\n",
    "b = train_data.min(axis=0)\n",
    "\n",
    "train_spikes = encoding(train_data, device, a, b)\n",
    "test_spikes = encoding(test_data, device, a, b)\n",
    "print(\"Train data shape: \", np.array(train_spikes).shape)\n",
    "print(\"Train labels shape: \", np.array(train_labels).shape)\n",
    "print(\"Test data shape: \", np.array(test_spikes).shape)\n",
    "print(\"Test labels shape: \", np.array(test_labels).shape)"
   ]
  },
  {
   "cell_type": "markdown",
   "metadata": {},
   "source": [
    "## DSLL Training and Evaluation Mode"
   ]
  },
  {
   "cell_type": "code",
   "execution_count": 3,
   "metadata": {},
   "outputs": [
    {
     "name": "stdout",
     "output_type": "stream",
     "text": [
      "Training and Evaluating on task 1\n",
      "Train data shape is  (311, 1, 300)\n",
      "Train Labels shape is  (311, 2)\n",
      "Classes trained are: 0 to 2\n"
     ]
    },
    {
     "name": "stderr",
     "output_type": "stream",
     "text": [
      "  0%|          | 0/2500 [00:00<?, ?it/s]"
     ]
    },
    {
     "name": "stdout",
     "output_type": "stream",
     "text": [
      "Class 0, class 1 neurons = 2, class 0 neurons = 4\n",
      "Class 1, class 1 neurons = 2, class 0 neurons = 2\n"
     ]
    },
    {
     "name": "stderr",
     "output_type": "stream",
     "text": [
      "100%|██████████| 2500/2500 [1:55:59<00:00,  2.78s/it]\n"
     ]
    },
    {
     "name": "stdout",
     "output_type": "stream",
     "text": [
      "Evaluating in individual mode on test set\n",
      "multilabel-indicator multilabel-indicator\n",
      "uint8 int64\n",
      "(208, 2) (208, 2)\n",
      "|                     |          0 |\n",
      "|:--------------------|-----------:|\n",
      "| hamming loss        | 0.15625    |\n",
      "| zero_one_loss       | 0.302885   |\n",
      "| one_error           | 0.00961538 |\n",
      "| micro av. jaccard   | 0.398148   |\n",
      "| macro av. jaccard   | 0.212871   |\n",
      "| micro av. precision | 0.581081   |\n",
      "| macro av. precision | 0.290541   |\n",
      "| micro av. recall    | 0.558442   |\n",
      "| macro av. recall    | 0.307143   |\n",
      "| micro av. f1        | 0.569536   |\n",
      "| macro av. f1        | 0.298611   |\n",
      "Evaluating in combined mode on test set\n",
      "multilabel-indicator multilabel-indicator\n",
      "uint8 int64\n",
      "(208, 2) (208, 2)\n",
      "|                     |          0 |\n",
      "|:--------------------|-----------:|\n",
      "| hamming loss        | 0.15625    |\n",
      "| zero_one_loss       | 0.302885   |\n",
      "| one_error           | 0.00961538 |\n",
      "| micro av. jaccard   | 0.398148   |\n",
      "| macro av. jaccard   | 0.212871   |\n",
      "| micro av. precision | 0.581081   |\n",
      "| macro av. precision | 0.290541   |\n",
      "| micro av. recall    | 0.558442   |\n",
      "| macro av. recall    | 0.307143   |\n",
      "| micro av. f1        | 0.569536   |\n",
      "| macro av. f1        | 0.298611   |\n",
      "Training and Evaluating on task 2\n",
      "Train data shape is  (311, 1, 300)\n",
      "Train Labels shape is  (311, 1)\n",
      "Classes trained are: 2 to 3\n",
      "Augmenting class labels...\n",
      "Train Labels shape is  (311, 3)\n"
     ]
    },
    {
     "name": "stderr",
     "output_type": "stream",
     "text": [
      "  0%|          | 0/2500 [00:00<?, ?it/s]"
     ]
    },
    {
     "name": "stdout",
     "output_type": "stream",
     "text": [
      "Class 0, class 1 neurons = 3, class 0 neurons = 21\n",
      "Class 1, class 1 neurons = 2, class 0 neurons = 19\n",
      "Class 2, class 1 neurons = 3, class 0 neurons = 11\n"
     ]
    },
    {
     "name": "stderr",
     "output_type": "stream",
     "text": [
      "100%|██████████| 2500/2500 [6:13:48<00:00,  8.97s/it]  \n"
     ]
    },
    {
     "name": "stdout",
     "output_type": "stream",
     "text": [
      "Evaluating in individual mode on test set\n",
      "binary binary\n",
      "uint8 int64\n",
      "(208, 1) (208, 1)\n",
      "|                     |        0 |\n",
      "|:--------------------|---------:|\n",
      "| hamming loss        | 0.225962 |\n",
      "| zero_one_loss       | 0.225962 |\n",
      "| one_error           | 0.225962 |\n",
      "| micro av. jaccard   | 0.631373 |\n",
      "| macro av. jaccard   | 0.619524 |\n",
      "| micro av. precision | 0.774038 |\n",
      "| macro av. precision | 0.764844 |\n",
      "| micro av. recall    | 0.774038 |\n",
      "| macro av. recall    | 0.761398 |\n",
      "| micro av. f1        | 0.774038 |\n",
      "| macro av. f1        | 0.762943 |\n",
      "Evaluating in combined mode on test set\n",
      "multilabel-indicator multilabel-indicator\n",
      "uint8 int64\n",
      "(208, 3) (208, 3)\n",
      "|                     |          0 |\n",
      "|:--------------------|-----------:|\n",
      "| hamming loss        | 0.173077   |\n",
      "| zero_one_loss       | 0.394231   |\n",
      "| one_error           | 0.00480769 |\n",
      "| micro av. jaccard   | 0.480769   |\n",
      "| macro av. jaccard   | 0.32996    |\n",
      "| micro av. precision | 0.675676   |\n",
      "| macro av. precision | 0.447549   |\n",
      "| micro av. recall    | 0.625      |\n",
      "| macro av. recall    | 0.432932   |\n",
      "| micro av. f1        | 0.649351   |\n",
      "| macro av. f1        | 0.440117   |\n",
      "Training and Evaluating on task 3\n",
      "Train data shape is  (311, 1, 300)\n",
      "Train Labels shape is  (311, 1)\n",
      "Classes trained are: 3 to 4\n",
      "Augmenting class labels...\n",
      "Train Labels shape is  (311, 4)\n"
     ]
    },
    {
     "name": "stderr",
     "output_type": "stream",
     "text": [
      "  0%|          | 0/2500 [00:00<?, ?it/s]"
     ]
    },
    {
     "name": "stdout",
     "output_type": "stream",
     "text": [
      "Class 0, class 1 neurons = 4, class 0 neurons = 27\n",
      "Class 1, class 1 neurons = 2, class 0 neurons = 20\n",
      "Class 2, class 1 neurons = 6, class 0 neurons = 17\n",
      "Class 3, class 1 neurons = 6, class 0 neurons = 5\n"
     ]
    },
    {
     "name": "stderr",
     "output_type": "stream",
     "text": [
      "100%|██████████| 2500/2500 [3:06:10<00:00,  4.47s/it]  \n"
     ]
    },
    {
     "name": "stdout",
     "output_type": "stream",
     "text": [
      "Evaluating in individual mode on test set\n",
      "binary binary\n",
      "uint8 int64\n",
      "(208, 1) (208, 1)\n",
      "|                     |        0 |\n",
      "|:--------------------|---------:|\n",
      "| hamming loss        | 0.192308 |\n",
      "| zero_one_loss       | 0.192308 |\n",
      "| one_error           | 0.192308 |\n",
      "| micro av. jaccard   | 0.677419 |\n",
      "| macro av. jaccard   | 0.565179 |\n",
      "| micro av. precision | 0.807692 |\n",
      "| macro av. precision | 0.738182 |\n",
      "| micro av. recall    | 0.807692 |\n",
      "| macro av. recall    | 0.67655  |\n",
      "| micro av. f1        | 0.807692 |\n",
      "| macro av. f1        | 0.696217 |\n",
      "Evaluating in combined mode on test set\n",
      "multilabel-indicator multilabel-indicator\n",
      "uint8 int64\n",
      "(208, 4) (208, 4)\n",
      "|                     |        0 |\n",
      "|:--------------------|---------:|\n",
      "| hamming loss        | 0.169471 |\n",
      "| zero_one_loss       | 0.442308 |\n",
      "| one_error           | 0        |\n",
      "| micro av. jaccard   | 0.481618 |\n",
      "| macro av. jaccard   | 0.353569 |\n",
      "| micro av. precision | 0.675258 |\n",
      "| macro av. precision | 0.498377 |\n",
      "| micro av. recall    | 0.626794 |\n",
      "| macro av. recall    | 0.46364  |\n",
      "| micro av. f1        | 0.650124 |\n",
      "| macro av. f1        | 0.475545 |\n",
      "Evaluating in individual mode on test set\n",
      "|                     |          0 |        1 |        2 |\n",
      "|:--------------------|-----------:|---------:|---------:|\n",
      "| hamming loss        | 0.137019   | 0.211538 | 0.192308 |\n",
      "| zero_one_loss       | 0.264423   | 0.211538 | 0.192308 |\n",
      "| one_error           | 0.00961538 | 0.211538 | 0.192308 |\n",
      "| micro av. jaccard   | 0.441176   | 0.650794 | 0.677419 |\n",
      "| macro av. jaccard   | 0.236842   | 0.644319 | 0.565179 |\n",
      "| micro av. precision | 0.642857   | 0.788462 | 0.807692 |\n",
      "| macro av. precision | 0.321429   | 0.78022  | 0.738182 |\n",
      "| micro av. recall    | 0.584416   | 0.788462 | 0.807692 |\n",
      "| macro av. recall    | 0.321429   | 0.787566 | 0.67655  |\n",
      "| micro av. f1        | 0.612245   | 0.788462 | 0.807692 |\n",
      "| macro av. f1        | 0.321429   | 0.782654 | 0.696217 |\n",
      "Evaluating in combined mode on test set\n",
      "|                     |          0 |        1 |        2 |\n",
      "|:--------------------|-----------:|---------:|---------:|\n",
      "| hamming loss        | 0.137019   | 0.161859 | 0.169471 |\n",
      "| zero_one_loss       | 0.264423   | 0.375    | 0.442308 |\n",
      "| one_error           | 0.00961538 | 0        | 0        |\n",
      "| micro av. jaccard   | 0.441176   | 0.521327 | 0.481618 |\n",
      "| macro av. jaccard   | 0.236842   | 0.356671 | 0.353569 |\n",
      "| micro av. precision | 0.642857   | 0.68323  | 0.675258 |\n",
      "| macro av. precision | 0.321429   | 0.452381 | 0.498377 |\n",
      "| micro av. recall    | 0.584416   | 0.6875   | 0.626794 |\n",
      "| macro av. recall    | 0.321429   | 0.47533  | 0.46364  |\n",
      "| micro av. f1        | 0.612245   | 0.685358 | 0.650124 |\n",
      "| macro av. f1        | 0.321429   | 0.463328 | 0.475545 |\n",
      "Number of Tasks: 3\n",
      "Forgetting in task 1: first time micro av. f1 = 0.5695, after all tasks micro av. f1 = 0.6122\n",
      "Forgetting in task 2: first time micro av. f1 = 0.7740, after all tasks micro av. f1 = 0.6122\n",
      "Forgetting in task 3: first time micro av. f1 = 0.8077, after all tasks micro av. f1 = 0.6122\n"
     ]
    },
    {
     "data": {
      "image/png": "[encoded data removed]",
      "text/plain": [
       "<Figure size 360x360 with 1 Axes>"
      ]
     },
     "metadata": {
      "needs_background": "light"
     },
     "output_type": "display_data"
    }
   ],
   "source": [
    "hparams_dict = {\n",
    "    'inputs': 300,\n",
    "    'outputs': 4,\n",
    "    'time_constant': 300,\n",
    "    'alpha_a': 0.42,\n",
    "    'alpha_m': 0.07,\n",
    "    'w_max': 100.0,\n",
    "    'w_min': -100.0,\n",
    "    'lr': 5e-4,\n",
    "    'sim_time': 600,\n",
    "    'n_epochs': 2500,\n",
    "    'print_every': 500,\n",
    "    'name': 'Gpositive',\n",
    "    'tasks': {'samples': None, 'labels': [2, 1, 1]},\n",
    "    'seed': 2,\n",
    "    'ckpt_dir': './checkpoints/gpositive',\n",
    "    'load_from_file': None,\n",
    "    'device': device\n",
    "}\n",
    "net = OverallSNN(hparams_dict)\n",
    "net.fit_and_evaluate(train_spikes, train_labels, test_spikes, test_labels)"
   ]
  },
  {
   "cell_type": "code",
   "execution_count": 4,
   "metadata": {},
   "outputs": [
    {
     "name": "stdout",
     "output_type": "stream",
     "text": [
      "Training and Evaluating on task 1\n",
      "Train data shape is  (311, 1, 300)\n",
      "Train Labels shape is  (311, 2)\n",
      "Classes trained are: 0 to 2\n"
     ]
    },
    {
     "name": "stderr",
     "output_type": "stream",
     "text": [
      "  0%|          | 0/2500 [00:00<?, ?it/s]"
     ]
    },
    {
     "name": "stdout",
     "output_type": "stream",
     "text": [
      "Class 0, class 1 neurons = 6, class 0 neurons = 5\n",
      "Class 1, class 1 neurons = 2, class 0 neurons = 2\n"
     ]
    },
    {
     "name": "stderr",
     "output_type": "stream",
     "text": [
      "100%|██████████| 2500/2500 [33:42<00:00,  1.24it/s]\n"
     ]
    },
    {
     "name": "stdout",
     "output_type": "stream",
     "text": [
      "Evaluating in individual mode on test set\n",
      "multilabel-indicator multilabel-indicator\n",
      "uint8 int64\n",
      "(208, 2) (208, 2)\n",
      "|                     |          0 |\n",
      "|:--------------------|-----------:|\n",
      "| hamming loss        | 0.117788   |\n",
      "| zero_one_loss       | 0.225962   |\n",
      "| one_error           | 0.00961538 |\n",
      "| micro av. jaccard   | 0.3        |\n",
      "| macro av. jaccard   | 0.166667   |\n",
      "| micro av. precision | 0.6        |\n",
      "| macro av. precision | 0.3        |\n",
      "| micro av. recall    | 0.375      |\n",
      "| macro av. recall    | 0.214286   |\n",
      "| micro av. f1        | 0.461538   |\n",
      "| macro av. f1        | 0.25       |\n",
      "Evaluating in combined mode on test set\n",
      "multilabel-indicator multilabel-indicator\n",
      "uint8 int64\n",
      "(208, 2) (208, 2)\n",
      "|                     |          0 |\n",
      "|:--------------------|-----------:|\n",
      "| hamming loss        | 0.117788   |\n",
      "| zero_one_loss       | 0.225962   |\n",
      "| one_error           | 0.00961538 |\n",
      "| micro av. jaccard   | 0.3        |\n",
      "| macro av. jaccard   | 0.166667   |\n",
      "| micro av. precision | 0.6        |\n",
      "| macro av. precision | 0.3        |\n",
      "| micro av. recall    | 0.375      |\n",
      "| macro av. recall    | 0.214286   |\n",
      "| micro av. f1        | 0.461538   |\n",
      "| macro av. f1        | 0.25       |\n",
      "Training and Evaluating on task 2\n",
      "Train data shape is  (311, 1, 300)\n",
      "Train Labels shape is  (311, 1)\n",
      "Classes trained are: 2 to 3\n",
      "Augmenting class labels...\n",
      "Train Labels shape is  (311, 3)\n"
     ]
    },
    {
     "name": "stderr",
     "output_type": "stream",
     "text": [
      "  0%|          | 0/2500 [00:00<?, ?it/s]"
     ]
    },
    {
     "name": "stdout",
     "output_type": "stream",
     "text": [
      "Class 0, class 1 neurons = 13, class 0 neurons = 13\n",
      "Class 1, class 1 neurons = 2, class 0 neurons = 19\n",
      "Class 2, class 1 neurons = 2, class 0 neurons = 4\n"
     ]
    },
    {
     "name": "stderr",
     "output_type": "stream",
     "text": [
      "100%|██████████| 2500/2500 [1:15:15<00:00,  1.81s/it]\n"
     ]
    },
    {
     "name": "stdout",
     "output_type": "stream",
     "text": [
      "Evaluating in individual mode on test set\n",
      "binary binary\n",
      "uint8 int64\n",
      "(208, 1) (208, 1)\n",
      "|                     |        0 |\n",
      "|:--------------------|---------:|\n",
      "| hamming loss        | 0.274038 |\n",
      "| zero_one_loss       | 0.274038 |\n",
      "| one_error           | 0.274038 |\n",
      "| micro av. jaccard   | 0.569811 |\n",
      "| macro av. jaccard   | 0.542273 |\n",
      "| micro av. precision | 0.725962 |\n",
      "| macro av. precision | 0.694521 |\n",
      "| micro av. recall    | 0.725962 |\n",
      "| macro av. recall    | 0.698447 |\n",
      "| micro av. f1        | 0.725962 |\n",
      "| macro av. f1        | 0.696304 |\n",
      "Evaluating in combined mode on test set\n",
      "multilabel-indicator multilabel-indicator\n",
      "uint8 int64\n",
      "(208, 3) (208, 3)\n",
      "|                     |        0 |\n",
      "|:--------------------|---------:|\n",
      "| hamming loss        | 0.166667 |\n",
      "| zero_one_loss       | 0.394231 |\n",
      "| one_error           | 0        |\n",
      "| micro av. jaccard   | 0.384615 |\n",
      "| macro av. jaccard   | 0.261613 |\n",
      "| micro av. precision | 0.601852 |\n",
      "| macro av. precision | 0.405871 |\n",
      "| micro av. recall    | 0.515873 |\n",
      "| macro av. recall    | 0.354422 |\n",
      "| micro av. f1        | 0.555556 |\n",
      "| macro av. f1        | 0.375069 |\n",
      "Training and Evaluating on task 3\n",
      "Train data shape is  (311, 1, 300)\n",
      "Train Labels shape is  (311, 1)\n",
      "Classes trained are: 3 to 4\n",
      "Augmenting class labels...\n",
      "Train Labels shape is  (311, 4)\n"
     ]
    },
    {
     "name": "stderr",
     "output_type": "stream",
     "text": [
      "  0%|          | 0/2500 [00:00<?, ?it/s]"
     ]
    },
    {
     "name": "stdout",
     "output_type": "stream",
     "text": [
      "Class 0, class 1 neurons = 16, class 0 neurons = 16\n",
      "Class 1, class 1 neurons = 2, class 0 neurons = 21\n",
      "Class 2, class 1 neurons = 3, class 0 neurons = 21\n",
      "Class 3, class 1 neurons = 3, class 0 neurons = 11\n"
     ]
    },
    {
     "name": "stderr",
     "output_type": "stream",
     "text": [
      "100%|██████████| 2500/2500 [1:59:14<00:00,  2.86s/it]\n"
     ]
    },
    {
     "name": "stdout",
     "output_type": "stream",
     "text": [
      "Evaluating in individual mode on test set\n",
      "binary binary\n",
      "uint8 int64\n",
      "(208, 1) (208, 1)\n",
      "|                     |        0 |\n",
      "|:--------------------|---------:|\n",
      "| hamming loss        | 0.225962 |\n",
      "| zero_one_loss       | 0.225962 |\n",
      "| one_error           | 0.225962 |\n",
      "| micro av. jaccard   | 0.631373 |\n",
      "| macro av. jaccard   | 0.619524 |\n",
      "| micro av. precision | 0.774038 |\n",
      "| macro av. precision | 0.764844 |\n",
      "| micro av. recall    | 0.774038 |\n",
      "| macro av. recall    | 0.761398 |\n",
      "| micro av. f1        | 0.774038 |\n",
      "| macro av. f1        | 0.762943 |\n",
      "Evaluating in combined mode on test set\n",
      "multilabel-indicator multilabel-indicator\n",
      "uint8 int64\n",
      "(208, 4) (208, 4)\n",
      "|                     |        0 |\n",
      "|:--------------------|---------:|\n",
      "| hamming loss        | 0.177885 |\n",
      "| zero_one_loss       | 0.461538 |\n",
      "| one_error           | 0        |\n",
      "| micro av. jaccard   | 0.457875 |\n",
      "| macro av. jaccard   | 0.343624 |\n",
      "| micro av. precision | 0.661376 |\n",
      "| macro av. precision | 0.488101 |\n",
      "| micro av. recall    | 0.598086 |\n",
      "| macro av. recall    | 0.45225  |\n",
      "| micro av. f1        | 0.628141 |\n",
      "| macro av. f1        | 0.468977 |\n",
      "Evaluating in individual mode on test set\n",
      "|                     |         0 |        1 |        2 |\n",
      "|:--------------------|----------:|---------:|---------:|\n",
      "| hamming loss        | 0.112981  | 0.259615 | 0.225962 |\n",
      "| zero_one_loss       | 0.206731  | 0.259615 | 0.225962 |\n",
      "| one_error           | 0.0192308 | 0.259615 | 0.225962 |\n",
      "| micro av. jaccard   | 0.347222  | 0.587786 | 0.631373 |\n",
      "| macro av. jaccard   | 0.192308  | 0.556099 | 0.619524 |\n",
      "| micro av. precision | 0.609756  | 0.740385 | 0.774038 |\n",
      "| macro av. precision | 0.304878  | 0.708824 | 0.764844 |\n",
      "| micro av. recall    | 0.446429  | 0.740385 | 0.774038 |\n",
      "| macro av. recall    | 0.255102  | 0.705797 | 0.761398 |\n",
      "| micro av. f1        | 0.515464  | 0.740385 | 0.774038 |\n",
      "| macro av. f1        | 0.277778  | 0.707226 | 0.762943 |\n",
      "Evaluating in combined mode on test set\n",
      "|                     |         0 |        1 |        2 |\n",
      "|:--------------------|----------:|---------:|---------:|\n",
      "| hamming loss        | 0.112981  | 0.161859 | 0.177885 |\n",
      "| zero_one_loss       | 0.206731  | 0.360577 | 0.461538 |\n",
      "| one_error           | 0.0192308 | 0        | 0        |\n",
      "| micro av. jaccard   | 0.347222  | 0.39881  | 0.457875 |\n",
      "| macro av. jaccard   | 0.192308  | 0.274038 | 0.343624 |\n",
      "| micro av. precision | 0.609756  | 0.614679 | 0.661376 |\n",
      "| macro av. precision | 0.304878  | 0.409134 | 0.488101 |\n",
      "| micro av. recall    | 0.446429  | 0.531746 | 0.598086 |\n",
      "| macro av. recall    | 0.255102  | 0.370068 | 0.45225  |\n",
      "| micro av. f1        | 0.515464  | 0.570213 | 0.628141 |\n",
      "| macro av. f1        | 0.277778  | 0.388084 | 0.468977 |\n",
      "Number of Tasks: 3\n",
      "Forgetting in task 1: first time micro av. f1 = 0.4615, after all tasks micro av. f1 = 0.5155\n",
      "Forgetting in task 2: first time micro av. f1 = 0.7260, after all tasks micro av. f1 = 0.5155\n",
      "Forgetting in task 3: first time micro av. f1 = 0.7740, after all tasks micro av. f1 = 0.5155\n"
     ]
    },
    {
     "data": {
      "image/png": "[encoded data removed]",
      "text/plain": [
       "<Figure size 360x360 with 1 Axes>"
      ]
     },
     "metadata": {
      "needs_background": "light"
     },
     "output_type": "display_data"
    }
   ],
   "source": [
    "hparams_dict = {\n",
    "    'inputs': 300,\n",
    "    'outputs': 4,\n",
    "    'time_constant': 300,\n",
    "    'alpha_a': 0.42,\n",
    "    'alpha_m': 0.07,\n",
    "    'w_max': 100.0,\n",
    "    'w_min': -100.0,\n",
    "    'lr': 5e-4,\n",
    "    'sim_time': 600,\n",
    "    'n_epochs': 2500,\n",
    "    'print_every': 500,\n",
    "    'name': 'Gpositive',\n",
    "    'tasks': {'samples': None, 'labels': [2, 1, 1]},\n",
    "    'seed': 3,\n",
    "    'ckpt_dir': './checkpoints/gpositive',\n",
    "    'load_from_file': None,\n",
    "    'device': device\n",
    "}\n",
    "net = OverallSNN(hparams_dict)\n",
    "net.fit_and_evaluate(train_spikes, train_labels, test_spikes, test_labels)"
   ]
  },
  {
   "cell_type": "code",
   "execution_count": 5,
   "metadata": {},
   "outputs": [
    {
     "name": "stdout",
     "output_type": "stream",
     "text": [
      "Training and Evaluating on task 1\n",
      "Train data shape is  (311, 1, 300)\n",
      "Train Labels shape is  (311, 2)\n",
      "Classes trained are: 0 to 2\n"
     ]
    },
    {
     "name": "stderr",
     "output_type": "stream",
     "text": [
      "  0%|          | 0/2500 [00:00<?, ?it/s]"
     ]
    },
    {
     "name": "stdout",
     "output_type": "stream",
     "text": [
      "Class 0, class 1 neurons = 2, class 0 neurons = 4\n",
      "Class 1, class 1 neurons = 2, class 0 neurons = 2\n"
     ]
    },
    {
     "name": "stderr",
     "output_type": "stream",
     "text": [
      "100%|██████████| 2500/2500 [28:58<00:00,  1.44it/s]\n"
     ]
    },
    {
     "name": "stdout",
     "output_type": "stream",
     "text": [
      "Evaluating in individual mode on test set\n",
      "multilabel-indicator multilabel-indicator\n",
      "uint8 int64\n",
      "(208, 2) (208, 2)\n",
      "|                     |          0 |\n",
      "|:--------------------|-----------:|\n",
      "| hamming loss        | 0.151442   |\n",
      "| zero_one_loss       | 0.293269   |\n",
      "| one_error           | 0.00961538 |\n",
      "| micro av. jaccard   | 0.416667   |\n",
      "| macro av. jaccard   | 0.222772   |\n",
      "| micro av. precision | 0.592105   |\n",
      "| macro av. precision | 0.296053   |\n",
      "| micro av. recall    | 0.584416   |\n",
      "| macro av. recall    | 0.321429   |\n",
      "| micro av. f1        | 0.588235   |\n",
      "| macro av. f1        | 0.308219   |\n",
      "Evaluating in combined mode on test set\n",
      "multilabel-indicator multilabel-indicator\n",
      "uint8 int64\n",
      "(208, 2) (208, 2)\n",
      "|                     |          0 |\n",
      "|:--------------------|-----------:|\n",
      "| hamming loss        | 0.151442   |\n",
      "| zero_one_loss       | 0.293269   |\n",
      "| one_error           | 0.00961538 |\n",
      "| micro av. jaccard   | 0.416667   |\n",
      "| macro av. jaccard   | 0.222772   |\n",
      "| micro av. precision | 0.592105   |\n",
      "| macro av. precision | 0.296053   |\n",
      "| micro av. recall    | 0.584416   |\n",
      "| macro av. recall    | 0.321429   |\n",
      "| micro av. f1        | 0.588235   |\n",
      "| macro av. f1        | 0.308219   |\n",
      "Training and Evaluating on task 2\n",
      "Train data shape is  (311, 1, 300)\n",
      "Train Labels shape is  (311, 1)\n",
      "Classes trained are: 2 to 3\n",
      "Augmenting class labels...\n",
      "Train Labels shape is  (311, 3)\n"
     ]
    },
    {
     "name": "stderr",
     "output_type": "stream",
     "text": [
      "  0%|          | 0/2500 [00:00<?, ?it/s]"
     ]
    },
    {
     "name": "stdout",
     "output_type": "stream",
     "text": [
      "Class 0, class 1 neurons = 3, class 0 neurons = 22\n",
      "Class 1, class 1 neurons = 2, class 0 neurons = 18\n",
      "Class 2, class 1 neurons = 6, class 0 neurons = 5\n"
     ]
    },
    {
     "name": "stderr",
     "output_type": "stream",
     "text": [
      "100%|██████████| 2500/2500 [1:18:55<00:00,  1.89s/it]\n"
     ]
    },
    {
     "name": "stdout",
     "output_type": "stream",
     "text": [
      "Evaluating in individual mode on test set\n",
      "binary binary\n",
      "uint8 int64\n",
      "(208, 1) (208, 1)\n",
      "|                     |        0 |\n",
      "|:--------------------|---------:|\n",
      "| hamming loss        | 0.197115 |\n",
      "| zero_one_loss       | 0.197115 |\n",
      "| one_error           | 0.197115 |\n",
      "| micro av. jaccard   | 0.670683 |\n",
      "| macro av. jaccard   | 0.559729 |\n",
      "| micro av. precision | 0.802885 |\n",
      "| macro av. precision | 0.728364 |\n",
      "| micro av. recall    | 0.802885 |\n",
      "| macro av. recall    | 0.673405 |\n",
      "| micro av. f1        | 0.802885 |\n",
      "| macro av. f1        | 0.69145  |\n",
      "Evaluating in combined mode on test set\n",
      "multilabel-indicator multilabel-indicator\n",
      "uint8 int64\n",
      "(208, 3) (208, 3)\n",
      "|                     |        0 |\n",
      "|:--------------------|---------:|\n",
      "| hamming loss        | 0.160256 |\n",
      "| zero_one_loss       | 0.389423 |\n",
      "| one_error           | 0        |\n",
      "| micro av. jaccard   | 0.39759  |\n",
      "| macro av. jaccard   | 0.267542 |\n",
      "| micro av. precision | 0.622642 |\n",
      "| macro av. precision | 0.414216 |\n",
      "| micro av. recall    | 0.52381  |\n",
      "| macro av. recall    | 0.357143 |\n",
      "| micro av. f1        | 0.568966 |\n",
      "| macro av. f1        | 0.379942 |\n",
      "Training and Evaluating on task 3\n",
      "Train data shape is  (311, 1, 300)\n",
      "Train Labels shape is  (311, 1)\n",
      "Classes trained are: 3 to 4\n",
      "Augmenting class labels...\n",
      "Train Labels shape is  (311, 4)\n"
     ]
    },
    {
     "name": "stderr",
     "output_type": "stream",
     "text": [
      "  0%|          | 0/2500 [00:00<?, ?it/s]"
     ]
    },
    {
     "name": "stdout",
     "output_type": "stream",
     "text": [
      "Class 0, class 1 neurons = 4, class 0 neurons = 33\n",
      "Class 1, class 1 neurons = 2, class 0 neurons = 21\n",
      "Class 2, class 1 neurons = 13, class 0 neurons = 13\n",
      "Class 3, class 1 neurons = 3, class 0 neurons = 11\n"
     ]
    },
    {
     "name": "stderr",
     "output_type": "stream",
     "text": [
      "100%|██████████| 2500/2500 [9:25:52<00:00, 13.58s/it]  \n"
     ]
    },
    {
     "name": "stdout",
     "output_type": "stream",
     "text": [
      "Evaluating in individual mode on test set\n",
      "binary binary\n",
      "uint8 int64\n",
      "(208, 1) (208, 1)\n",
      "|                     |        0 |\n",
      "|:--------------------|---------:|\n",
      "| hamming loss        | 0.235577 |\n",
      "| zero_one_loss       | 0.235577 |\n",
      "| one_error           | 0.235577 |\n",
      "| micro av. jaccard   | 0.618677 |\n",
      "| macro av. jaccard   | 0.609689 |\n",
      "| micro av. precision | 0.764423 |\n",
      "| macro av. precision | 0.754575 |\n",
      "| micro av. recall    | 0.764423 |\n",
      "| macro av. recall    | 0.757446 |\n",
      "| micro av. f1        | 0.764423 |\n",
      "| macro av. f1        | 0.755839 |\n",
      "Evaluating in combined mode on test set\n",
      "multilabel-indicator multilabel-indicator\n",
      "uint8 int64\n",
      "(208, 4) (208, 4)\n",
      "|                     |        0 |\n",
      "|:--------------------|---------:|\n",
      "| hamming loss        | 0.173077 |\n",
      "| zero_one_loss       | 0.456731 |\n",
      "| one_error           | 0        |\n",
      "| micro av. jaccard   | 0.476364 |\n",
      "| macro av. jaccard   | 0.355523 |\n",
      "| micro av. precision | 0.664975 |\n",
      "| macro av. precision | 0.495365 |\n",
      "| micro av. recall    | 0.626794 |\n",
      "| macro av. recall    | 0.471029 |\n",
      "| micro av. f1        | 0.64532  |\n",
      "| macro av. f1        | 0.480244 |\n",
      "Evaluating in individual mode on test set\n",
      "|                     |         0 |        1 |        2 |\n",
      "|:--------------------|----------:|---------:|---------:|\n",
      "| hamming loss        | 0.137019  | 0.182692 | 0.235577 |\n",
      "| zero_one_loss       | 0.259615  | 0.182692 | 0.235577 |\n",
      "| one_error           | 0.0144231 | 0.182692 | 0.235577 |\n",
      "| micro av. jaccard   | 0.451923  | 0.691057 | 0.618677 |\n",
      "| macro av. jaccard   | 0.242268  | 0.590288 | 0.609689 |\n",
      "| micro av. precision | 0.635135  | 0.817308 | 0.764423 |\n",
      "| macro av. precision | 0.317568  | 0.751225 | 0.754575 |\n",
      "| micro av. recall    | 0.61039   | 0.817308 | 0.764423 |\n",
      "| macro av. recall    | 0.335714  | 0.704017 | 0.757446 |\n",
      "| micro av. f1        | 0.622517  | 0.817308 | 0.764423 |\n",
      "| macro av. f1        | 0.326389  | 0.721494 | 0.755839 |\n",
      "Evaluating in combined mode on test set\n",
      "|                     |         0 |        1 |        2 |\n",
      "|:--------------------|----------:|---------:|---------:|\n",
      "| hamming loss        | 0.137019  | 0.152244 | 0.173077 |\n",
      "| zero_one_loss       | 0.259615  | 0.365385 | 0.456731 |\n",
      "| one_error           | 0.0144231 | 0        | 0        |\n",
      "| micro av. jaccard   | 0.451923  | 0.427711 | 0.476364 |\n",
      "| macro av. jaccard   | 0.242268  | 0.290544 | 0.355523 |\n",
      "| micro av. precision | 0.635135  | 0.63964  | 0.664975 |\n",
      "| macro av. precision | 0.317568  | 0.427928 | 0.495365 |\n",
      "| micro av. recall    | 0.61039   | 0.563492 | 0.626794 |\n",
      "| macro av. recall    | 0.335714  | 0.387075 | 0.471029 |\n",
      "| micro av. f1        | 0.622517  | 0.599156 | 0.64532  |\n",
      "| macro av. f1        | 0.326389  | 0.403639 | 0.480244 |\n",
      "Number of Tasks: 3\n",
      "Forgetting in task 1: first time micro av. f1 = 0.5882, after all tasks micro av. f1 = 0.6225\n",
      "Forgetting in task 2: first time micro av. f1 = 0.8029, after all tasks micro av. f1 = 0.6225\n",
      "Forgetting in task 3: first time micro av. f1 = 0.7644, after all tasks micro av. f1 = 0.6225\n"
     ]
    },
    {
     "data": {
      "image/png": "[encoded data removed]",
      "text/plain": [
       "<Figure size 360x360 with 1 Axes>"
      ]
     },
     "metadata": {
      "needs_background": "light"
     },
     "output_type": "display_data"
    }
   ],
   "source": [
    "hparams_dict = {\n",
    "    'inputs': 300,\n",
    "    'outputs': 4,\n",
    "    'time_constant': 300,\n",
    "    'alpha_a': 0.42,\n",
    "    'alpha_m': 0.07,\n",
    "    'w_max': 100.0,\n",
    "    'w_min': -100.0,\n",
    "    'lr': 5e-4,\n",
    "    'sim_time': 600,\n",
    "    'n_epochs': 2500,\n",
    "    'print_every': 500,\n",
    "    'name': 'Gpositive',\n",
    "    'tasks': {'samples': None, 'labels': [2, 1, 1]},\n",
    "    'seed': 4,\n",
    "    'ckpt_dir': './checkpoints/gpositive',\n",
    "    'load_from_file': None,\n",
    "    'device': device\n",
    "}\n",
    "net = OverallSNN(hparams_dict)\n",
    "net.fit_and_evaluate(train_spikes, train_labels, test_spikes, test_labels)"
   ]
  }
 ],
 "metadata": {
  "kernelspec": {
   "display_name": "DL_gpu",
   "language": "python",
   "name": "dl_gpu"
  },
  "language_info": {
   "codemirror_mode": {
    "name": "ipython",
    "version": 3
   },
   "file_extension": ".py",
   "mimetype": "text/x-python",
   "name": "python",
   "nbconvert_exporter": "python",
   "pygments_lexer": "ipython3",
   "version": "3.7.7"
  }
 },
 "nbformat": 4,
 "nbformat_minor": 4
}
