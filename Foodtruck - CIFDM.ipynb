{
 "cells": [
  {
   "cell_type": "code",
   "execution_count": 1,
   "metadata": {},
   "outputs": [],
   "source": [
    "from ContinualEvolvingSNN import *\n",
    "import arff\n",
    "import warnings\n",
    "from scipy.io import loadmat\n",
    "warnings.filterwarnings(\"ignore\")\n",
    "%matplotlib inline\n",
    "np.random.seed(0)\n",
    "torch.manual_seed(0)\n",
    "torch.cuda.manual_seed(0)\n",
    "device = torch.device('cuda:1' if torch.cuda.is_available() else 'cpu')"
   ]
  },
  {
   "cell_type": "markdown",
   "metadata": {},
   "source": [
    "## Load Data and Convert to Spikes"
   ]
  },
  {
   "cell_type": "code",
   "execution_count": 2,
   "metadata": {},
   "outputs": [
    {
     "name": "stdout",
     "output_type": "stream",
     "text": [
      "Before converting to spikes: \n",
      "Train data shape:  (250, 33)\n",
      "Test data shape:  (250, 33)\n"
     ]
    },
    {
     "name": "stderr",
     "output_type": "stream",
     "text": [
      "100%|██████████| 250/250 [00:00<00:00, 2388.19it/s]\n",
      "100%|██████████| 250/250 [00:00<00:00, 2533.72it/s]"
     ]
    },
    {
     "name": "stdout",
     "output_type": "stream",
     "text": [
      "Train data shape:  (250, 1, 126)\n",
      "Train labels shape:  (250, 12)\n",
      "Test data shape:  (250, 1, 126)\n",
      "Test labels shape:  (250, 12)\n"
     ]
    },
    {
     "name": "stderr",
     "output_type": "stream",
     "text": [
      "\n"
     ]
    }
   ],
   "source": [
    "train_path = '../datasets/foodtruck/foodtruck-rand-hout-tra.arff'\n",
    "test_path = '../datasets/foodtruck/foodtruck-rand-hout-tst.arff'\n",
    "num_features = 21\n",
    "\n",
    "train_data = arff.load(open(train_path, 'rt'))\n",
    "col_names = [x[0] for x in train_data['attributes']]\n",
    "train_data_arr = np.array(train_data['data'])\n",
    "train_data_arr = np.vstack([np.array(col_names), train_data_arr])\n",
    "np.savetxt('../datasets/foodtruck/train.csv', train_data_arr, fmt='%s', delimiter=',')\n",
    "train_df = pd.read_csv('../datasets/foodtruck/train.csv')\n",
    "train_df['time'].replace(['lunch', 'afternoon', 'happy_hour', 'dinner', 'dawn'], [0, 1, 2, 3, 4], inplace=True)\n",
    "train_df['motivation'].replace(['ads', 'by_chance', 'friend', 'social_network', 'web'], [0, 1, 2, 3, 4], inplace=True)\n",
    "train_df['marital.status'].replace(['divorced', 'married', 'single'], [0, 1, 2], inplace=True)\n",
    "train_df['gender'].replace(['F', 'M'], [0, 1], inplace=True)\n",
    "for c in train_df.columns:\n",
    "    train_df[c] = train_df[c].astype('float')\n",
    "train_data = train_df.to_numpy()\n",
    "\n",
    "test_data = arff.load(open(test_path, 'rt'))\n",
    "col_names = [x[0] for x in test_data['attributes']]\n",
    "test_data_arr = np.array(test_data['data'])\n",
    "test_data_arr = np.vstack([np.array(col_names), test_data_arr])\n",
    "np.savetxt('../datasets/foodtruck/test.csv', train_data_arr, fmt='%s', delimiter=',')\n",
    "test_df = pd.read_csv('../datasets/foodtruck/test.csv')\n",
    "test_df['time'].replace(['lunch', 'afternoon', 'happy_hour', 'dinner', 'dawn'], [0, 1, 2, 3, 4], inplace=True)\n",
    "test_df['motivation'].replace(['ads', 'by_chance', 'friend', 'social_network', 'web'], [0, 1, 2, 3, 4], inplace=True)\n",
    "test_df['marital.status'].replace(['divorced', 'married', 'single'], [0, 1, 2], inplace=True)\n",
    "test_df['gender'].replace(['F', 'M'], [0, 1], inplace=True)\n",
    "for c in test_df.columns:\n",
    "    test_df[c] = test_df[c].astype('float')\n",
    "test_data = test_df.to_numpy()\n",
    "\n",
    "print(\"Before converting to spikes: \")\n",
    "print(\"Train data shape: \", train_data.shape)\n",
    "print(\"Test data shape: \", test_data.shape)\n",
    "\n",
    "a = train_data[:, :num_features].max(axis=0)\n",
    "b = train_data[:, :num_features].min(axis=0)\n",
    "\n",
    "train_spikes, train_labels = encode_data_to_spikes(train_data, device, num_features, a, b)\n",
    "test_spikes, test_labels = encode_data_to_spikes(test_data, device, num_features, a, b)\n",
    "print(\"Train data shape: \", np.array(train_spikes).shape)\n",
    "print(\"Train labels shape: \", np.array(train_labels).shape)\n",
    "print(\"Test data shape: \", np.array(test_spikes).shape)\n",
    "print(\"Test labels shape: \", np.array(test_labels).shape)"
   ]
  },
  {
   "cell_type": "markdown",
   "metadata": {},
   "source": [
    "## CIFDM Training and Evaluation Mode"
   ]
  },
  {
   "cell_type": "code",
   "execution_count": 3,
   "metadata": {},
   "outputs": [
    {
     "name": "stdout",
     "output_type": "stream",
     "text": [
      "Training and Evaluating on task 1\n",
      "Train data shape is  (90, 1, 126)\n",
      "Train Labels shape is  (90, 4)\n",
      "Classes trained are: 0 to 4\n"
     ]
    },
    {
     "name": "stderr",
     "output_type": "stream",
     "text": [
      "  0%|          | 0/5000 [00:00<?, ?it/s]"
     ]
    },
    {
     "name": "stdout",
     "output_type": "stream",
     "text": [
      "Class 0, class 1 neurons = 5, class 0 neurons = 6\n",
      "Class 1, class 1 neurons = 3, class 0 neurons = 8\n",
      "Class 2, class 1 neurons = 2, class 0 neurons = 9\n",
      "Class 3, class 1 neurons = 4, class 0 neurons = 6\n"
     ]
    },
    {
     "name": "stderr",
     "output_type": "stream",
     "text": [
      "100%|██████████| 5000/5000 [3:07:13<00:00,  2.25s/it]  \n"
     ]
    },
    {
     "name": "stdout",
     "output_type": "stream",
     "text": [
      "Evaluating in individual mode on test set\n",
      "multilabel-indicator multilabel-indicator\n",
      "float64 int64\n",
      "(250, 4) (250, 4)\n",
      "|                     |        0 |\n",
      "|:--------------------|---------:|\n",
      "| hamming loss        | 0.197    |\n",
      "| zero_one_loss       | 0.48     |\n",
      "| one_error           | 0.008    |\n",
      "| micro av. jaccard   | 0.555305 |\n",
      "| macro av. jaccard   | 0.446522 |\n",
      "| micro av. precision | 0.685237 |\n",
      "| macro av. precision | 0.572074 |\n",
      "| micro av. recall    | 0.745455 |\n",
      "| macro av. recall    | 0.629198 |\n",
      "| micro av. f1        | 0.714078 |\n",
      "| macro av. f1        | 0.595821 |\n",
      "Evaluating in combined mode on test set\n",
      "multilabel-indicator multilabel-indicator\n",
      "float64 int64\n",
      "(250, 4) (250, 4)\n",
      "|                     |        0 |\n",
      "|:--------------------|---------:|\n",
      "| hamming loss        | 0.197    |\n",
      "| zero_one_loss       | 0.48     |\n",
      "| one_error           | 0.008    |\n",
      "| micro av. jaccard   | 0.555305 |\n",
      "| macro av. jaccard   | 0.446522 |\n",
      "| micro av. precision | 0.685237 |\n",
      "| macro av. precision | 0.572074 |\n",
      "| micro av. recall    | 0.745455 |\n",
      "| macro av. recall    | 0.629198 |\n",
      "| micro av. f1        | 0.714078 |\n",
      "| macro av. f1        | 0.595821 |\n",
      "Training and Evaluating on task 2\n",
      "Train data shape is  (80, 1, 126)\n",
      "Train Labels shape is  (80, 4)\n",
      "Classes trained are: 4 to 8\n",
      "Augmenting class labels...\n",
      "Train Labels shape is  (80, 8)\n"
     ]
    },
    {
     "name": "stderr",
     "output_type": "stream",
     "text": [
      "  0%|          | 0/5000 [00:00<?, ?it/s]"
     ]
    },
    {
     "name": "stdout",
     "output_type": "stream",
     "text": [
      "Class 0, class 1 neurons = 10, class 0 neurons = 7\n",
      "Class 1, class 1 neurons = 5, class 0 neurons = 12\n",
      "Class 2, class 1 neurons = 4, class 0 neurons = 15\n",
      "Class 3, class 1 neurons = 7, class 0 neurons = 11\n",
      "Class 4, class 1 neurons = 3, class 0 neurons = 8\n",
      "Class 5, class 1 neurons = 2, class 0 neurons = 8\n",
      "Class 6, class 1 neurons = 2, class 0 neurons = 9\n",
      "Class 7, class 1 neurons = 3, class 0 neurons = 7\n"
     ]
    },
    {
     "name": "stderr",
     "output_type": "stream",
     "text": [
      "100%|██████████| 5000/5000 [6:17:06<00:00,  4.53s/it]  \n"
     ]
    },
    {
     "name": "stdout",
     "output_type": "stream",
     "text": [
      "Evaluating in individual mode on test set\n",
      "multilabel-indicator multilabel-indicator\n",
      "float64 int64\n",
      "(250, 4) (250, 4)\n",
      "|                     |        0 |\n",
      "|:--------------------|---------:|\n",
      "| hamming loss        | 0.064    |\n",
      "| zero_one_loss       | 0.188    |\n",
      "| one_error           | 0        |\n",
      "| micro av. jaccard   | 0.2      |\n",
      "| macro av. jaccard   | 0.202214 |\n",
      "| micro av. precision | 0.516129 |\n",
      "| macro av. precision | 0.615385 |\n",
      "| micro av. recall    | 0.246154 |\n",
      "| macro av. recall    | 0.245105 |\n",
      "| micro av. f1        | 0.333333 |\n",
      "| macro av. f1        | 0.335714 |\n",
      "Evaluating in combined mode on test set\n",
      "multilabel-indicator multilabel-indicator\n",
      "float64 int64\n",
      "(250, 8) (250, 8)\n",
      "|                     |        0 |\n",
      "|:--------------------|---------:|\n",
      "| hamming loss        | 0.131    |\n",
      "| zero_one_loss       | 0.604    |\n",
      "| one_error           | 0        |\n",
      "| micro av. jaccard   | 0.497121 |\n",
      "| macro av. jaccard   | 0.316219 |\n",
      "| micro av. precision | 0.672727 |\n",
      "| macro av. precision | 0.589929 |\n",
      "| micro av. recall    | 0.655696 |\n",
      "| macro av. recall    | 0.418817 |\n",
      "| micro av. f1        | 0.664103 |\n",
      "| macro av. f1        | 0.454483 |\n",
      "Training and Evaluating on task 3\n",
      "Train data shape is  (80, 1, 126)\n",
      "Train Labels shape is  (80, 4)\n",
      "Classes trained are: 8 to 12\n",
      "Augmenting class labels...\n",
      "Train Labels shape is  (80, 12)\n"
     ]
    },
    {
     "name": "stderr",
     "output_type": "stream",
     "text": [
      "  0%|          | 0/5000 [00:00<?, ?it/s]"
     ]
    },
    {
     "name": "stdout",
     "output_type": "stream",
     "text": [
      "Class 0, class 1 neurons = 12, class 0 neurons = 7\n",
      "Class 1, class 1 neurons = 5, class 0 neurons = 13\n",
      "Class 2, class 1 neurons = 4, class 0 neurons = 18\n",
      "Class 3, class 1 neurons = 7, class 0 neurons = 14\n",
      "Class 4, class 1 neurons = 3, class 0 neurons = 8\n",
      "Class 5, class 1 neurons = 2, class 0 neurons = 8\n",
      "Class 6, class 1 neurons = 2, class 0 neurons = 10\n",
      "Class 7, class 1 neurons = 3, class 0 neurons = 7\n",
      "Class 8, class 1 neurons = 2, class 0 neurons = 8\n",
      "Class 9, class 1 neurons = 2, class 0 neurons = 8\n",
      "Class 10, class 1 neurons = 3, class 0 neurons = 7\n",
      "Class 11, class 1 neurons = 3, class 0 neurons = 6\n"
     ]
    },
    {
     "name": "stderr",
     "output_type": "stream",
     "text": [
      "100%|██████████| 5000/5000 [1:56:06<00:00,  1.39s/it]\n"
     ]
    },
    {
     "name": "stdout",
     "output_type": "stream",
     "text": [
      "Evaluating in individual mode on test set\n",
      "multilabel-indicator multilabel-indicator\n",
      "float64 int64\n",
      "(250, 4) (250, 4)\n",
      "|                     |        0 |\n",
      "|:--------------------|---------:|\n",
      "| hamming loss        | 0.147    |\n",
      "| zero_one_loss       | 0.436    |\n",
      "| one_error           | 0.008    |\n",
      "| micro av. jaccard   | 0.390041 |\n",
      "| macro av. jaccard   | 0.315813 |\n",
      "| micro av. precision | 0.566265 |\n",
      "| macro av. precision | 0.55503  |\n",
      "| micro av. recall    | 0.556213 |\n",
      "| macro av. recall    | 0.443569 |\n",
      "| micro av. f1        | 0.561194 |\n",
      "| macro av. f1        | 0.471713 |\n",
      "Evaluating in combined mode on test set\n",
      "multilabel-indicator multilabel-indicator\n",
      "float64 int64\n",
      "(250, 12) (250, 12)\n",
      "|                     |        0 |\n",
      "|:--------------------|---------:|\n",
      "| hamming loss        | 0.137333 |\n",
      "| zero_one_loss       | 0.796    |\n",
      "| one_error           | 0        |\n",
      "| micro av. jaccard   | 0.456464 |\n",
      "| macro av. jaccard   | 0.306104 |\n",
      "| micro av. precision | 0.640741 |\n",
      "| macro av. precision | 0.573971 |\n",
      "| micro av. recall    | 0.613475 |\n",
      "| macro av. recall    | 0.409084 |\n",
      "| micro av. f1        | 0.626812 |\n",
      "| macro av. f1        | 0.44704  |\n",
      "Evaluating in individual mode on test set\n",
      "|                     |        0 |        1 |        2 |\n",
      "|:--------------------|---------:|---------:|---------:|\n",
      "| hamming loss        | 0.201    | 0.064    | 0.147    |\n",
      "| zero_one_loss       | 0.536    | 0.184    | 0.436    |\n",
      "| one_error           | 0.004    | 0        | 0.008    |\n",
      "| micro av. jaccard   | 0.541096 | 0.189873 | 0.390041 |\n",
      "| macro av. jaccard   | 0.409344 | 0.193156 | 0.315813 |\n",
      "| micro av. precision | 0.686957 | 0.517241 | 0.566265 |\n",
      "| macro av. precision | 0.5515   | 0.615385 | 0.55503  |\n",
      "| micro av. recall    | 0.718182 | 0.230769 | 0.556213 |\n",
      "| macro av. recall    | 0.551077 | 0.232605 | 0.443569 |\n",
      "| micro av. f1        | 0.702222 | 0.319149 | 0.561194 |\n",
      "| macro av. f1        | 0.54743  | 0.321978 | 0.471713 |\n",
      "Evaluating in combined mode on test set\n",
      "|                     |        0 |        1 |        2 |\n",
      "|:--------------------|---------:|---------:|---------:|\n",
      "| hamming loss        | 0.201    | 0.1325   | 0.137333 |\n",
      "| zero_one_loss       | 0.536    | 0.616    | 0.796    |\n",
      "| one_error           | 0.004    | 0        | 0        |\n",
      "| micro av. jaccard   | 0.541096 | 0.487427 | 0.456464 |\n",
      "| macro av. jaccard   | 0.409344 | 0.30125  | 0.306104 |\n",
      "| micro av. precision | 0.686957 | 0.673797 | 0.640741 |\n",
      "| macro av. precision | 0.5515   | 0.583442 | 0.573971 |\n",
      "| micro av. recall    | 0.718182 | 0.637975 | 0.613475 |\n",
      "| macro av. recall    | 0.551077 | 0.391841 | 0.409084 |\n",
      "| micro av. f1        | 0.702222 | 0.655397 | 0.626812 |\n",
      "| macro av. f1        | 0.54743  | 0.434704 | 0.44704  |\n",
      "Number of Tasks: 3\n",
      "Forgetting in task 1: first time micro av. f1 = 0.7141, after all tasks micro av. f1 = 0.7022\n",
      "Forgetting in task 2: first time micro av. f1 = 0.3333, after all tasks micro av. f1 = 0.7022\n",
      "Forgetting in task 3: first time micro av. f1 = 0.5612, after all tasks micro av. f1 = 0.7022\n"
     ]
    },
    {
     "data": {
      "image/png": "[encoded data removed]",
      "text/plain": [
       "<Figure size 360x360 with 1 Axes>"
      ]
     },
     "metadata": {
      "needs_background": "light"
     },
     "output_type": "display_data"
    }
   ],
   "source": [
    "hparams_dict = {\n",
    "    'inputs': 126,\n",
    "    'outputs': 12,\n",
    "    'time_constant': 300,\n",
    "    'alpha_a': 0.48,\n",
    "    'alpha_m': 0.07,\n",
    "    'w_max': 100.0,\n",
    "    'w_min': -100.0,\n",
    "    'lr': 5e-4,\n",
    "    'sim_time': 600,\n",
    "    'n_epochs': 5000,\n",
    "    'print_every': 500,\n",
    "    'name': 'Foodtruck',\n",
    "    'tasks': {'samples': [90, 80, 80], 'labels': [4, 4, 4]},\n",
    "    'seed': 2,\n",
    "    'ckpt_dir': './checkpoints/foodtruck',\n",
    "    'load_from_file': None,\n",
    "    'device': device\n",
    "}\n",
    "net = OverallSNN(hparams_dict)\n",
    "net.fit_and_evaluate(train_spikes, train_labels, test_spikes, test_labels)"
   ]
  },
  {
   "cell_type": "code",
   "execution_count": 4,
   "metadata": {},
   "outputs": [
    {
     "name": "stdout",
     "output_type": "stream",
     "text": [
      "Training and Evaluating on task 1\n",
      "Train data shape is  (90, 1, 126)\n",
      "Train Labels shape is  (90, 4)\n",
      "Classes trained are: 0 to 4\n"
     ]
    },
    {
     "name": "stderr",
     "output_type": "stream",
     "text": [
      "  0%|          | 0/5000 [00:00<?, ?it/s]"
     ]
    },
    {
     "name": "stdout",
     "output_type": "stream",
     "text": [
      "Class 0, class 1 neurons = 2, class 0 neurons = 9\n",
      "Class 1, class 1 neurons = 1, class 0 neurons = 10\n",
      "Class 2, class 1 neurons = 3, class 0 neurons = 8\n",
      "Class 3, class 1 neurons = 2, class 0 neurons = 9\n"
     ]
    },
    {
     "name": "stderr",
     "output_type": "stream",
     "text": [
      "100%|██████████| 5000/5000 [40:27<00:00,  2.06it/s]\n"
     ]
    },
    {
     "name": "stdout",
     "output_type": "stream",
     "text": [
      "Evaluating in individual mode on test set\n",
      "multilabel-indicator multilabel-indicator\n",
      "float64 int64\n",
      "(250, 4) (250, 4)\n",
      "|                     |        0 |\n",
      "|:--------------------|---------:|\n",
      "| hamming loss        | 0.127    |\n",
      "| zero_one_loss       | 0.348    |\n",
      "| one_error           | 0.004    |\n",
      "| micro av. jaccard   | 0.348718 |\n",
      "| macro av. jaccard   | 0.296386 |\n",
      "| micro av. precision | 0.535433 |\n",
      "| macro av. precision | 0.48339  |\n",
      "| micro av. recall    | 0.5      |\n",
      "| macro av. recall    | 0.439161 |\n",
      "| micro av. f1        | 0.51711  |\n",
      "| macro av. f1        | 0.450884 |\n",
      "Evaluating in combined mode on test set\n",
      "multilabel-indicator multilabel-indicator\n",
      "float64 int64\n",
      "(250, 4) (250, 4)\n",
      "|                     |        0 |\n",
      "|:--------------------|---------:|\n",
      "| hamming loss        | 0.127    |\n",
      "| zero_one_loss       | 0.348    |\n",
      "| one_error           | 0.004    |\n",
      "| micro av. jaccard   | 0.348718 |\n",
      "| macro av. jaccard   | 0.296386 |\n",
      "| micro av. precision | 0.535433 |\n",
      "| macro av. precision | 0.48339  |\n",
      "| micro av. recall    | 0.5      |\n",
      "| macro av. recall    | 0.439161 |\n",
      "| micro av. f1        | 0.51711  |\n",
      "| macro av. f1        | 0.450884 |\n",
      "Training and Evaluating on task 2\n",
      "Train data shape is  (80, 1, 126)\n",
      "Train Labels shape is  (80, 4)\n",
      "Classes trained are: 4 to 8\n",
      "Augmenting class labels...\n",
      "Train Labels shape is  (80, 8)\n"
     ]
    },
    {
     "name": "stderr",
     "output_type": "stream",
     "text": [
      "  0%|          | 0/5000 [00:00<?, ?it/s]"
     ]
    },
    {
     "name": "stdout",
     "output_type": "stream",
     "text": [
      "Class 0, class 1 neurons = 2, class 0 neurons = 9\n",
      "Class 1, class 1 neurons = 1, class 0 neurons = 15\n",
      "Class 2, class 1 neurons = 5, class 0 neurons = 12\n",
      "Class 3, class 1 neurons = 2, class 0 neurons = 16\n",
      "Class 4, class 1 neurons = 6, class 0 neurons = 7\n",
      "Class 5, class 1 neurons = 2, class 0 neurons = 9\n",
      "Class 6, class 1 neurons = 3, class 0 neurons = 7\n",
      "Class 7, class 1 neurons = 6, class 0 neurons = 4\n"
     ]
    },
    {
     "name": "stderr",
     "output_type": "stream",
     "text": [
      "100%|██████████| 5000/5000 [1:36:05<00:00,  1.15s/it]\n"
     ]
    },
    {
     "name": "stdout",
     "output_type": "stream",
     "text": [
      "Evaluating in individual mode on test set\n",
      "multilabel-indicator multilabel-indicator\n",
      "float64 int64\n",
      "(250, 4) (250, 4)\n",
      "|                     |        0 |\n",
      "|:--------------------|---------:|\n",
      "| hamming loss        | 0.181    |\n",
      "| zero_one_loss       | 0.52     |\n",
      "| one_error           | 0.008    |\n",
      "| micro av. jaccard   | 0.522427 |\n",
      "| macro av. jaccard   | 0.365983 |\n",
      "| micro av. precision | 0.730627 |\n",
      "| macro av. precision | 0.601603 |\n",
      "| micro av. recall    | 0.647059 |\n",
      "| macro av. recall    | 0.457499 |\n",
      "| micro av. f1        | 0.686308 |\n",
      "| macro av. f1        | 0.507128 |\n",
      "Evaluating in combined mode on test set\n",
      "multilabel-indicator multilabel-indicator\n",
      "float64 int64\n",
      "(250, 8) (250, 8)\n",
      "|                     |        0 |\n",
      "|:--------------------|---------:|\n",
      "| hamming loss        | 0.155    |\n",
      "| zero_one_loss       | 0.724    |\n",
      "| one_error           | 0        |\n",
      "| micro av. jaccard   | 0.454225 |\n",
      "| macro av. jaccard   | 0.310147 |\n",
      "| micro av. precision | 0.671875 |\n",
      "| macro av. precision | 0.532394 |\n",
      "| micro av. recall    | 0.58371  |\n",
      "| macro av. recall    | 0.406838 |\n",
      "| micro av. f1        | 0.624697 |\n",
      "| macro av. f1        | 0.450399 |\n",
      "Training and Evaluating on task 3\n",
      "Train data shape is  (80, 1, 126)\n",
      "Train Labels shape is  (80, 4)\n",
      "Classes trained are: 8 to 12\n",
      "Augmenting class labels...\n",
      "Train Labels shape is  (80, 12)\n"
     ]
    },
    {
     "name": "stderr",
     "output_type": "stream",
     "text": [
      "  0%|          | 0/5000 [00:00<?, ?it/s]"
     ]
    },
    {
     "name": "stdout",
     "output_type": "stream",
     "text": [
      "Class 0, class 1 neurons = 2, class 0 neurons = 9\n",
      "Class 1, class 1 neurons = 1, class 0 neurons = 16\n",
      "Class 2, class 1 neurons = 5, class 0 neurons = 13\n",
      "Class 3, class 1 neurons = 2, class 0 neurons = 19\n",
      "Class 4, class 1 neurons = 9, class 0 neurons = 9\n",
      "Class 5, class 1 neurons = 2, class 0 neurons = 10\n",
      "Class 6, class 1 neurons = 3, class 0 neurons = 7\n",
      "Class 7, class 1 neurons = 10, class 0 neurons = 7\n",
      "Class 8, class 1 neurons = 5, class 0 neurons = 6\n",
      "Class 9, class 1 neurons = 2, class 0 neurons = 8\n",
      "Class 10, class 1 neurons = 2, class 0 neurons = 8\n",
      "Class 11, class 1 neurons = 3, class 0 neurons = 7\n"
     ]
    },
    {
     "name": "stderr",
     "output_type": "stream",
     "text": [
      "100%|██████████| 5000/5000 [2:14:17<00:00,  1.61s/it]  \n"
     ]
    },
    {
     "name": "stdout",
     "output_type": "stream",
     "text": [
      "Evaluating in individual mode on test set\n",
      "multilabel-indicator multilabel-indicator\n",
      "float64 int64\n",
      "(250, 4) (250, 4)\n",
      "|                     |        0 |\n",
      "|:--------------------|---------:|\n",
      "| hamming loss        | 0.116    |\n",
      "| zero_one_loss       | 0.368    |\n",
      "| one_error           | 0.004    |\n",
      "| micro av. jaccard   | 0.25641  |\n",
      "| macro av. jaccard   | 0.257155 |\n",
      "| micro av. precision | 0.540541 |\n",
      "| macro av. precision | 0.530082 |\n",
      "| micro av. recall    | 0.327869 |\n",
      "| macro av. recall    | 0.339402 |\n",
      "| micro av. f1        | 0.408163 |\n",
      "| macro av. f1        | 0.407285 |\n",
      "Evaluating in combined mode on test set\n",
      "multilabel-indicator multilabel-indicator\n",
      "float64 int64\n",
      "(250, 12) (250, 12)\n",
      "|                     |        0 |\n",
      "|:--------------------|---------:|\n",
      "| hamming loss        | 0.144333 |\n",
      "| zero_one_loss       | 0.852    |\n",
      "| one_error           | 0        |\n",
      "| micro av. jaccard   | 0.392707 |\n",
      "| macro av. jaccard   | 0.27704  |\n",
      "| micro av. precision | 0.652681 |\n",
      "| macro av. precision | 0.52417  |\n",
      "| micro av. recall    | 0.496454 |\n",
      "| macro av. recall    | 0.35865  |\n",
      "| micro av. f1        | 0.563948 |\n",
      "| macro av. f1        | 0.416359 |\n",
      "Evaluating in individual mode on test set\n",
      "|                     |        0 |        1 |        2 |\n",
      "|:--------------------|---------:|---------:|---------:|\n",
      "| hamming loss        | 0.13     | 0.187    | 0.116    |\n",
      "| zero_one_loss       | 0.376    | 0.568    | 0.368    |\n",
      "| one_error           | 0.004    | 0        | 0.004    |\n",
      "| micro av. jaccard   | 0.304813 | 0.494595 | 0.25641  |\n",
      "| macro av. jaccard   | 0.236979 | 0.336984 | 0.257155 |\n",
      "| micro av. precision | 0.527778 | 0.740891 | 0.540541 |\n",
      "| macro av. precision | 0.441706 | 0.600722 | 0.530082 |\n",
      "| micro av. recall    | 0.419118 | 0.598039 | 0.327869 |\n",
      "| macro av. recall    | 0.325583 | 0.410964 | 0.339402 |\n",
      "| micro av. f1        | 0.467213 | 0.661844 | 0.408163 |\n",
      "| macro av. f1        | 0.367912 | 0.473881 | 0.407285 |\n",
      "Evaluating in combined mode on test set\n",
      "|                     |        0 |        1 |        2 |\n",
      "|:--------------------|---------:|---------:|---------:|\n",
      "| hamming loss        | 0.13     | 0.1585   | 0.144333 |\n",
      "| zero_one_loss       | 0.376    | 0.752    | 0.852    |\n",
      "| one_error           | 0.004    | 0        | 0        |\n",
      "| micro av. jaccard   | 0.304813 | 0.43088  | 0.392707 |\n",
      "| macro av. jaccard   | 0.236979 | 0.286982 | 0.27704  |\n",
      "| micro av. precision | 0.527778 | 0.676056 | 0.652681 |\n",
      "| macro av. precision | 0.441706 | 0.521214 | 0.52417  |\n",
      "| micro av. recall    | 0.419118 | 0.542986 | 0.496454 |\n",
      "| macro av. recall    | 0.325583 | 0.368273 | 0.35865  |\n",
      "| micro av. f1        | 0.467213 | 0.602258 | 0.563948 |\n",
      "| macro av. f1        | 0.367912 | 0.420896 | 0.416359 |\n",
      "Number of Tasks: 3\n",
      "Forgetting in task 1: first time micro av. f1 = 0.5171, after all tasks micro av. f1 = 0.4672\n",
      "Forgetting in task 2: first time micro av. f1 = 0.6863, after all tasks micro av. f1 = 0.4672\n",
      "Forgetting in task 3: first time micro av. f1 = 0.4082, after all tasks micro av. f1 = 0.4672\n"
     ]
    },
    {
     "data": {
      "image/png": "[encoded data removed]",
      "text/plain": [
       "<Figure size 360x360 with 1 Axes>"
      ]
     },
     "metadata": {
      "needs_background": "light"
     },
     "output_type": "display_data"
    }
   ],
   "source": [
    "hparams_dict = {\n",
    "    'inputs': 126,\n",
    "    'outputs': 12,\n",
    "    'time_constant': 300,\n",
    "    'alpha_a': 0.48,\n",
    "    'alpha_m': 0.07,\n",
    "    'w_max': 100.0,\n",
    "    'w_min': -100.0,\n",
    "    'lr': 5e-4,\n",
    "    'sim_time': 600,\n",
    "    'n_epochs': 5000,\n",
    "    'print_every': 500,\n",
    "    'name': 'Foodtruck',\n",
    "    'tasks': {'samples': [90, 80, 80], 'labels': [4, 4, 4]},\n",
    "    'seed': 3,\n",
    "    'ckpt_dir': './checkpoints/foodtruck',\n",
    "    'load_from_file': None,\n",
    "    'device': device\n",
    "}\n",
    "net = OverallSNN(hparams_dict)\n",
    "net.fit_and_evaluate(train_spikes, train_labels, test_spikes, test_labels)"
   ]
  },
  {
   "cell_type": "code",
   "execution_count": 5,
   "metadata": {},
   "outputs": [
    {
     "name": "stdout",
     "output_type": "stream",
     "text": [
      "Training and Evaluating on task 1\n",
      "Train data shape is  (90, 1, 126)\n",
      "Train Labels shape is  (90, 4)\n",
      "Classes trained are: 0 to 4\n"
     ]
    },
    {
     "name": "stderr",
     "output_type": "stream",
     "text": [
      "  0%|          | 0/5000 [00:00<?, ?it/s]"
     ]
    },
    {
     "name": "stdout",
     "output_type": "stream",
     "text": [
      "Class 0, class 1 neurons = 4, class 0 neurons = 6\n",
      "Class 1, class 1 neurons = 1, class 0 neurons = 10\n",
      "Class 2, class 1 neurons = 4, class 0 neurons = 9\n",
      "Class 3, class 1 neurons = 1, class 0 neurons = 9\n"
     ]
    },
    {
     "name": "stderr",
     "output_type": "stream",
     "text": [
      "100%|██████████| 5000/5000 [40:20<00:00,  2.07it/s]\n"
     ]
    },
    {
     "name": "stdout",
     "output_type": "stream",
     "text": [
      "Evaluating in individual mode on test set\n",
      "multilabel-indicator multilabel-indicator\n",
      "float64 int64\n",
      "(250, 4) (250, 4)\n",
      "|                     |        0 |\n",
      "|:--------------------|---------:|\n",
      "| hamming loss        | 0.106    |\n",
      "| zero_one_loss       | 0.312    |\n",
      "| one_error           | 0        |\n",
      "| micro av. jaccard   | 0.311688 |\n",
      "| macro av. jaccard   | 0.29697  |\n",
      "| micro av. precision | 0.489796 |\n",
      "| macro av. precision | 0.496536 |\n",
      "| micro av. recall    | 0.461538 |\n",
      "| macro av. recall    | 0.433876 |\n",
      "| micro av. f1        | 0.475248 |\n",
      "| macro av. f1        | 0.456548 |\n",
      "Evaluating in combined mode on test set\n",
      "multilabel-indicator multilabel-indicator\n",
      "float64 int64\n",
      "(250, 4) (250, 4)\n",
      "|                     |        0 |\n",
      "|:--------------------|---------:|\n",
      "| hamming loss        | 0.106    |\n",
      "| zero_one_loss       | 0.312    |\n",
      "| one_error           | 0        |\n",
      "| micro av. jaccard   | 0.311688 |\n",
      "| macro av. jaccard   | 0.29697  |\n",
      "| micro av. precision | 0.489796 |\n",
      "| macro av. precision | 0.496536 |\n",
      "| micro av. recall    | 0.461538 |\n",
      "| macro av. recall    | 0.433876 |\n",
      "| micro av. f1        | 0.475248 |\n",
      "| macro av. f1        | 0.456548 |\n",
      "Training and Evaluating on task 2\n",
      "Train data shape is  (80, 1, 126)\n",
      "Train Labels shape is  (80, 4)\n",
      "Classes trained are: 4 to 8\n",
      "Augmenting class labels...\n",
      "Train Labels shape is  (80, 8)\n"
     ]
    },
    {
     "name": "stderr",
     "output_type": "stream",
     "text": [
      "  0%|          | 0/5000 [00:00<?, ?it/s]"
     ]
    },
    {
     "name": "stdout",
     "output_type": "stream",
     "text": [
      "Class 0, class 1 neurons = 7, class 0 neurons = 11\n",
      "Class 1, class 1 neurons = 1, class 0 neurons = 15\n",
      "Class 2, class 1 neurons = 4, class 0 neurons = 9\n",
      "Class 3, class 1 neurons = 2, class 0 neurons = 14\n",
      "Class 4, class 1 neurons = 4, class 0 neurons = 6\n",
      "Class 5, class 1 neurons = 2, class 0 neurons = 8\n",
      "Class 6, class 1 neurons = 6, class 0 neurons = 7\n",
      "Class 7, class 1 neurons = 6, class 0 neurons = 4\n"
     ]
    },
    {
     "name": "stderr",
     "output_type": "stream",
     "text": [
      "100%|██████████| 5000/5000 [1:18:03<00:00,  1.07it/s]\n"
     ]
    },
    {
     "name": "stdout",
     "output_type": "stream",
     "text": [
      "Evaluating in individual mode on test set\n",
      "multilabel-indicator multilabel-indicator\n",
      "float64 int64\n",
      "(250, 4) (250, 4)\n",
      "|                     |        0 |\n",
      "|:--------------------|---------:|\n",
      "| hamming loss        | 0.203    |\n",
      "| zero_one_loss       | 0.556    |\n",
      "| one_error           | 0        |\n",
      "| micro av. jaccard   | 0.527907 |\n",
      "| macro av. jaccard   | 0.444742 |\n",
      "| micro av. precision | 0.718354 |\n",
      "| macro av. precision | 0.653204 |\n",
      "| micro av. recall    | 0.665689 |\n",
      "| macro av. recall    | 0.575547 |\n",
      "| micro av. f1        | 0.69102  |\n",
      "| macro av. f1        | 0.600362 |\n",
      "Evaluating in combined mode on test set\n",
      "multilabel-indicator multilabel-indicator\n",
      "float64 int64\n",
      "(250, 8) (250, 8)\n",
      "|                     |        0 |\n",
      "|:--------------------|---------:|\n",
      "| hamming loss        | 0.155    |\n",
      "| zero_one_loss       | 0.712    |\n",
      "| one_error           | 0        |\n",
      "| micro av. jaccard   | 0.465517 |\n",
      "| macro av. jaccard   | 0.358542 |\n",
      "| micro av. precision | 0.666667 |\n",
      "| macro av. precision | 0.570548 |\n",
      "| micro av. recall    | 0.606742 |\n",
      "| macro av. recall    | 0.480439 |\n",
      "| micro av. f1        | 0.635294 |\n",
      "| macro av. f1        | 0.511519 |\n",
      "Training and Evaluating on task 3\n",
      "Train data shape is  (80, 1, 126)\n",
      "Train Labels shape is  (80, 4)\n",
      "Classes trained are: 8 to 12\n",
      "Augmenting class labels...\n",
      "Train Labels shape is  (80, 12)\n"
     ]
    },
    {
     "name": "stderr",
     "output_type": "stream",
     "text": [
      "  0%|          | 0/5000 [00:00<?, ?it/s]"
     ]
    },
    {
     "name": "stdout",
     "output_type": "stream",
     "text": [
      "Class 0, class 1 neurons = 7, class 0 neurons = 13\n",
      "Class 1, class 1 neurons = 1, class 0 neurons = 16\n",
      "Class 2, class 1 neurons = 4, class 0 neurons = 9\n",
      "Class 3, class 1 neurons = 2, class 0 neurons = 15\n",
      "Class 4, class 1 neurons = 4, class 0 neurons = 9\n",
      "Class 5, class 1 neurons = 3, class 0 neurons = 8\n",
      "Class 6, class 1 neurons = 9, class 0 neurons = 10\n",
      "Class 7, class 1 neurons = 10, class 0 neurons = 7\n",
      "Class 8, class 1 neurons = 3, class 0 neurons = 7\n",
      "Class 9, class 1 neurons = 2, class 0 neurons = 8\n",
      "Class 10, class 1 neurons = 2, class 0 neurons = 7\n",
      "Class 11, class 1 neurons = 3, class 0 neurons = 7\n"
     ]
    },
    {
     "name": "stderr",
     "output_type": "stream",
     "text": [
      "100%|██████████| 5000/5000 [1:58:10<00:00,  1.42s/it]\n"
     ]
    },
    {
     "name": "stdout",
     "output_type": "stream",
     "text": [
      "Evaluating in individual mode on test set\n",
      "multilabel-indicator multilabel-indicator\n",
      "float64 int64\n",
      "(250, 4) (250, 4)\n",
      "|                     |        0 |\n",
      "|:--------------------|---------:|\n",
      "| hamming loss        | 0.097    |\n",
      "| zero_one_loss       | 0.34     |\n",
      "| one_error           | 0        |\n",
      "| micro av. jaccard   | 0.448864 |\n",
      "| macro av. jaccard   | 0.343729 |\n",
      "| micro av. precision | 0.580882 |\n",
      "| macro av. precision | 0.537302 |\n",
      "| micro av. recall    | 0.663866 |\n",
      "| macro av. recall    | 0.489957 |\n",
      "| micro av. f1        | 0.619608 |\n",
      "| macro av. f1        | 0.501899 |\n",
      "Evaluating in combined mode on test set\n",
      "multilabel-indicator multilabel-indicator\n",
      "float64 int64\n",
      "(250, 12) (250, 12)\n",
      "|                     |        0 |\n",
      "|:--------------------|---------:|\n",
      "| hamming loss        | 0.141333 |\n",
      "| zero_one_loss       | 0.844    |\n",
      "| one_error           | 0        |\n",
      "| micro av. jaccard   | 0.430872 |\n",
      "| macro av. jaccard   | 0.323934 |\n",
      "| micro av. precision | 0.639442 |\n",
      "| macro av. precision | 0.534709 |\n",
      "| micro av. recall    | 0.569149 |\n",
      "| macro av. recall    | 0.439505 |\n",
      "| micro av. f1        | 0.602251 |\n",
      "| macro av. f1        | 0.472453 |\n",
      "Evaluating in individual mode on test set\n",
      "|                     |        0 |        1 |        2 |\n",
      "|:--------------------|---------:|---------:|---------:|\n",
      "| hamming loss        | 0.115    | 0.212    | 0.097    |\n",
      "| zero_one_loss       | 0.344    | 0.592    | 0.34     |\n",
      "| one_error           | 0        | 0        | 0        |\n",
      "| micro av. jaccard   | 0.233333 | 0.494033 | 0.448864 |\n",
      "| macro av. jaccard   | 0.219198 | 0.408877 | 0.343729 |\n",
      "| micro av. precision | 0.432099 | 0.726316 | 0.580882 |\n",
      "| macro av. precision | 0.427867 | 0.63896  | 0.537302 |\n",
      "| micro av. recall    | 0.336538 | 0.607038 | 0.663866 |\n",
      "| macro av. recall    | 0.315382 | 0.513176 | 0.489957 |\n",
      "| micro av. f1        | 0.378378 | 0.661342 | 0.619608 |\n",
      "| macro av. f1        | 0.353952 | 0.561506 | 0.501899 |\n",
      "Evaluating in combined mode on test set\n",
      "|                     |        0 |        1 |        2 |\n",
      "|:--------------------|---------:|---------:|---------:|\n",
      "| hamming loss        | 0.115    | 0.1635   | 0.141333 |\n",
      "| zero_one_loss       | 0.344    | 0.724    | 0.844    |\n",
      "| one_error           | 0        | 0        | 0        |\n",
      "| micro av. jaccard   | 0.233333 | 0.425308 | 0.430872 |\n",
      "| macro av. jaccard   | 0.219198 | 0.314037 | 0.323934 |\n",
      "| micro av. precision | 0.432099 | 0.661202 | 0.639442 |\n",
      "| macro av. precision | 0.427867 | 0.533413 | 0.534709 |\n",
      "| micro av. recall    | 0.336538 | 0.54382  | 0.569149 |\n",
      "| macro av. recall    | 0.315382 | 0.414279 | 0.439505 |\n",
      "| micro av. f1        | 0.378378 | 0.596794 | 0.602251 |\n",
      "| macro av. f1        | 0.353952 | 0.457729 | 0.472453 |\n",
      "Number of Tasks: 3\n",
      "Forgetting in task 1: first time micro av. f1 = 0.4752, after all tasks micro av. f1 = 0.3784\n",
      "Forgetting in task 2: first time micro av. f1 = 0.6910, after all tasks micro av. f1 = 0.3784\n",
      "Forgetting in task 3: first time micro av. f1 = 0.6196, after all tasks micro av. f1 = 0.3784\n"
     ]
    },
    {
     "data": {
      "image/png": "[encoded data removed]",
      "text/plain": [
       "<Figure size 360x360 with 1 Axes>"
      ]
     },
     "metadata": {
      "needs_background": "light"
     },
     "output_type": "display_data"
    }
   ],
   "source": [
    "hparams_dict = {\n",
    "    'inputs': 126,\n",
    "    'outputs': 12,\n",
    "    'time_constant': 300,\n",
    "    'alpha_a': 0.48,\n",
    "    'alpha_m': 0.07,\n",
    "    'w_max': 100.0,\n",
    "    'w_min': -100.0,\n",
    "    'lr': 5e-4,\n",
    "    'sim_time': 600,\n",
    "    'n_epochs': 5000,\n",
    "    'print_every': 500,\n",
    "    'name': 'Foodtruck',\n",
    "    'tasks': {'samples': [90, 80, 80], 'labels': [4, 4, 4]},\n",
    "    'seed': 4,\n",
    "    'ckpt_dir': './checkpoints/foodtruck',\n",
    "    'load_from_file': None,\n",
    "    'device': device\n",
    "}\n",
    "net = OverallSNN(hparams_dict)\n",
    "net.fit_and_evaluate(train_spikes, train_labels, test_spikes, test_labels)"
   ]
  }
 ],
 "metadata": {
  "kernelspec": {
   "display_name": "DL_gpu",
   "language": "python",
   "name": "dl_gpu"
  },
  "language_info": {
   "codemirror_mode": {
    "name": "ipython",
    "version": 3
   },
   "file_extension": ".py",
   "mimetype": "text/x-python",
   "name": "python",
   "nbconvert_exporter": "python",
   "pygments_lexer": "ipython3",
   "version": "3.7.7"
  }
 },
 "nbformat": 4,
 "nbformat_minor": 4
}
