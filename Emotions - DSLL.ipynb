{
 "cells": [
  {
   "cell_type": "code",
   "execution_count": 1,
   "metadata": {},
   "outputs": [],
   "source": [
    "from ContinualEvolvingSNN import *\n",
    "import arff\n",
    "import warnings\n",
    "from scipy.io import loadmat\n",
    "warnings.filterwarnings(\"ignore\")\n",
    "%matplotlib inline\n",
    "np.random.seed(0)\n",
    "torch.manual_seed(0)\n",
    "torch.cuda.manual_seed(0)\n",
    "device = torch.device('cuda:3' if torch.cuda.is_available() else 'cpu')"
   ]
  },
  {
   "cell_type": "markdown",
   "metadata": {},
   "source": [
    "## Load Data and Convert to Spikes"
   ]
  },
  {
   "cell_type": "code",
   "execution_count": 2,
   "metadata": {},
   "outputs": [
    {
     "name": "stderr",
     "output_type": "stream",
     "text": [
      "100%|██████████| 391/391 [00:00<00:00, 3092.68it/s]\n",
      "100%|██████████| 202/202 [00:00<00:00, 3055.50it/s]"
     ]
    },
    {
     "name": "stdout",
     "output_type": "stream",
     "text": [
      "Train data shape:  (391, 1, 432)\n",
      "Train labels shape:  (391, 6)\n",
      "Test data shape:  (202, 1, 432)\n",
      "Test labels shape:  (202, 6)\n"
     ]
    },
    {
     "name": "stderr",
     "output_type": "stream",
     "text": [
      "\n"
     ]
    }
   ],
   "source": [
    "train_path = '../datasets/emotions/emotions-train.arff'\n",
    "test_path = '../datasets/emotions/emotions-test.arff'\n",
    "num_features = 72\n",
    "train_data = arff.load(open(train_path, 'rt'))\n",
    "train_data = np.array(train_data['data']).astype(np.float32)\n",
    "test_data = arff.load(open(test_path, 'rt'))\n",
    "test_data = np.array(test_data['data']).astype(np.float32)\n",
    "a = train_data[:, :num_features].max(axis=0)\n",
    "b = train_data[:, :num_features].min(axis=0)\n",
    "\n",
    "train_spikes, train_labels = encode_data_to_spikes(train_data, device, num_features, a, b)\n",
    "test_spikes, test_labels = encode_data_to_spikes(test_data, device, num_features, a, b)\n",
    "print(\"Train data shape: \", np.array(train_spikes).shape)\n",
    "print(\"Train labels shape: \", np.array(train_labels).shape)\n",
    "print(\"Test data shape: \", np.array(test_spikes).shape)\n",
    "print(\"Test labels shape: \", np.array(test_labels).shape)"
   ]
  },
  {
   "cell_type": "markdown",
   "metadata": {},
   "source": [
    "## DSLL Training and Evaluation Mode"
   ]
  },
  {
   "cell_type": "code",
   "execution_count": 3,
   "metadata": {},
   "outputs": [
    {
     "name": "stdout",
     "output_type": "stream",
     "text": [
      "Training and Evaluating on task 1\n",
      "Train data shape is  (391, 1, 432)\n",
      "Train Labels shape is  (391, 2)\n",
      "Classes trained are: 0 to 2\n"
     ]
    },
    {
     "name": "stderr",
     "output_type": "stream",
     "text": [
      "  0%|          | 0/2000 [00:00<?, ?it/s]"
     ]
    },
    {
     "name": "stdout",
     "output_type": "stream",
     "text": [
      "Class 0, class 1 neurons = 5, class 0 neurons = 5\n",
      "Class 1, class 1 neurons = 5, class 0 neurons = 5\n"
     ]
    },
    {
     "name": "stderr",
     "output_type": "stream",
     "text": [
      "100%|██████████| 2000/2000 [2:28:02<00:00,  4.44s/it]  \n"
     ]
    },
    {
     "name": "stdout",
     "output_type": "stream",
     "text": [
      "Evaluating in individual mode on test set\n",
      "multilabel-indicator multilabel-indicator\n",
      "float32 int64\n",
      "(202, 2) (202, 2)\n",
      "|                     |         0 |\n",
      "|:--------------------|----------:|\n",
      "| hamming loss        | 0.212871  |\n",
      "| zero_one_loss       | 0.371287  |\n",
      "| one_error           | 0.0544554 |\n",
      "| micro av. jaccard   | 0.434211  |\n",
      "| macro av. jaccard   | 0.434459  |\n",
      "| micro av. precision | 0.628571  |\n",
      "| macro av. precision | 0.629091  |\n",
      "| micro av. recall    | 0.584071  |\n",
      "| macro av. recall    | 0.586001  |\n",
      "| micro av. f1        | 0.605505  |\n",
      "| macro av. f1        | 0.605505  |\n",
      "Evaluating in combined mode on test set\n",
      "multilabel-indicator multilabel-indicator\n",
      "float32 int64\n",
      "(202, 2) (202, 2)\n",
      "|                     |         0 |\n",
      "|:--------------------|----------:|\n",
      "| hamming loss        | 0.212871  |\n",
      "| zero_one_loss       | 0.371287  |\n",
      "| one_error           | 0.0544554 |\n",
      "| micro av. jaccard   | 0.434211  |\n",
      "| macro av. jaccard   | 0.434459  |\n",
      "| micro av. precision | 0.628571  |\n",
      "| macro av. precision | 0.629091  |\n",
      "| micro av. recall    | 0.584071  |\n",
      "| macro av. recall    | 0.586001  |\n",
      "| micro av. f1        | 0.605505  |\n",
      "| macro av. f1        | 0.605505  |\n",
      "Training and Evaluating on task 2\n",
      "Train data shape is  (391, 1, 432)\n",
      "Train Labels shape is  (391, 2)\n",
      "Classes trained are: 2 to 4\n",
      "Augmenting class labels...\n",
      "Train Labels shape is  (391, 4)\n"
     ]
    },
    {
     "name": "stderr",
     "output_type": "stream",
     "text": [
      "  0%|          | 0/2000 [00:00<?, ?it/s]"
     ]
    },
    {
     "name": "stdout",
     "output_type": "stream",
     "text": [
      "Class 0, class 1 neurons = 8, class 0 neurons = 9\n",
      "Class 1, class 1 neurons = 8, class 0 neurons = 10\n",
      "Class 2, class 1 neurons = 3, class 0 neurons = 7\n",
      "Class 3, class 1 neurons = 3, class 0 neurons = 3\n"
     ]
    },
    {
     "name": "stderr",
     "output_type": "stream",
     "text": [
      "100%|██████████| 2000/2000 [5:28:03<00:00,  9.84s/it]  \n"
     ]
    },
    {
     "name": "stdout",
     "output_type": "stream",
     "text": [
      "Evaluating in individual mode on test set\n",
      "multilabel-indicator multilabel-indicator\n",
      "float32 int64\n",
      "(202, 2) (202, 2)\n",
      "|                     |         0 |\n",
      "|:--------------------|----------:|\n",
      "| hamming loss        | 0.188119  |\n",
      "| zero_one_loss       | 0.351485  |\n",
      "| one_error           | 0.0247525 |\n",
      "| micro av. jaccard   | 0.608247  |\n",
      "| macro av. jaccard   | 0.634319  |\n",
      "| micro av. precision | 0.751592  |\n",
      "| macro av. precision | 0.767182  |\n",
      "| micro av. recall    | 0.76129   |\n",
      "| macro av. recall    | 0.777895  |\n",
      "| micro av. f1        | 0.75641   |\n",
      "| macro av. f1        | 0.7725    |\n",
      "Evaluating in combined mode on test set\n",
      "multilabel-indicator multilabel-indicator\n",
      "float32 int64\n",
      "(202, 4) (202, 4)\n",
      "|                     |        0 |\n",
      "|:--------------------|---------:|\n",
      "| hamming loss        | 0.214109 |\n",
      "| zero_one_loss       | 0.643564 |\n",
      "| one_error           | 0        |\n",
      "| micro av. jaccard   | 0.514045 |\n",
      "| macro av. jaccard   | 0.518735 |\n",
      "| micro av. precision | 0.675277 |\n",
      "| macro av. precision | 0.669184 |\n",
      "| micro av. recall    | 0.682836 |\n",
      "| macro av. recall    | 0.677319 |\n",
      "| micro av. f1        | 0.679035 |\n",
      "| macro av. f1        | 0.673219 |\n",
      "Training and Evaluating on task 3\n",
      "Train data shape is  (391, 1, 432)\n",
      "Train Labels shape is  (391, 2)\n",
      "Classes trained are: 4 to 6\n",
      "Augmenting class labels...\n",
      "Train Labels shape is  (391, 6)\n"
     ]
    },
    {
     "name": "stderr",
     "output_type": "stream",
     "text": [
      "  0%|          | 0/2000 [00:00<?, ?it/s]"
     ]
    },
    {
     "name": "stdout",
     "output_type": "stream",
     "text": [
      "Class 0, class 1 neurons = 12, class 0 neurons = 13\n",
      "Class 1, class 1 neurons = 11, class 0 neurons = 13\n",
      "Class 2, class 1 neurons = 6, class 0 neurons = 10\n",
      "Class 3, class 1 neurons = 7, class 0 neurons = 8\n",
      "Class 4, class 1 neurons = 5, class 0 neurons = 4\n",
      "Class 5, class 1 neurons = 6, class 0 neurons = 4\n"
     ]
    },
    {
     "name": "stderr",
     "output_type": "stream",
     "text": [
      "100%|██████████| 2000/2000 [7:34:45<00:00, 13.64s/it]  \n"
     ]
    },
    {
     "name": "stdout",
     "output_type": "stream",
     "text": [
      "Evaluating in individual mode on test set\n",
      "multilabel-indicator multilabel-indicator\n",
      "float32 int64\n",
      "(202, 2) (202, 2)\n",
      "|                     |        0 |\n",
      "|:--------------------|---------:|\n",
      "| hamming loss        | 0.20297  |\n",
      "| zero_one_loss       | 0.366337 |\n",
      "| one_error           | 0.039604 |\n",
      "| micro av. jaccard   | 0.456954 |\n",
      "| macro av. jaccard   | 0.458114 |\n",
      "| micro av. precision | 0.775281 |\n",
      "| macro av. precision | 0.787152 |\n",
      "| micro av. recall    | 0.526718 |\n",
      "| macro av. recall    | 0.536372 |\n",
      "| micro av. f1        | 0.627273 |\n",
      "| macro av. f1        | 0.627573 |\n",
      "Evaluating in combined mode on test set\n",
      "multilabel-indicator multilabel-indicator\n",
      "float32 int64\n",
      "(202, 6) (202, 6)\n",
      "|                     |        0 |\n",
      "|:--------------------|---------:|\n",
      "| hamming loss        | 0.207921 |\n",
      "| zero_one_loss       | 0.727723 |\n",
      "| one_error           | 0        |\n",
      "| micro av. jaccard   | 0.502959 |\n",
      "| macro av. jaccard   | 0.49806  |\n",
      "| micro av. precision | 0.702479 |\n",
      "| macro av. precision | 0.70992  |\n",
      "| micro av. recall    | 0.639098 |\n",
      "| macro av. recall    | 0.632844 |\n",
      "| micro av. f1        | 0.669291 |\n",
      "| macro av. f1        | 0.658847 |\n",
      "Evaluating in individual mode on test set\n",
      "|                     |        0 |         1 |        2 |\n",
      "|:--------------------|---------:|----------:|---------:|\n",
      "| hamming loss        | 0.230198 | 0.190594  | 0.20297  |\n",
      "| zero_one_loss       | 0.410891 | 0.346535  | 0.366337 |\n",
      "| one_error           | 0.049505 | 0.0346535 | 0.039604 |\n",
      "| micro av. jaccard   | 0.403846 | 0.615     | 0.456954 |\n",
      "| macro av. jaccard   | 0.408546 | 0.62752   | 0.458114 |\n",
      "| micro av. precision | 0.59434  | 0.732143  | 0.775281 |\n",
      "| macro av. precision | 0.603623 | 0.738984  | 0.787152 |\n",
      "| micro av. recall    | 0.557522 | 0.793548  | 0.526718 |\n",
      "| macro av. recall    | 0.558223 | 0.803937  | 0.536372 |\n",
      "| micro av. f1        | 0.575342 | 0.76161   | 0.627273 |\n",
      "| macro av. f1        | 0.578908 | 0.77006   | 0.627573 |\n",
      "Evaluating in combined mode on test set\n",
      "|                     |        0 |         1 |        2 |\n",
      "|:--------------------|---------:|----------:|---------:|\n",
      "| hamming loss        | 0.230198 | 0.210396  | 0.207921 |\n",
      "| zero_one_loss       | 0.410891 | 0.613861  | 0.727723 |\n",
      "| one_error           | 0.049505 | 0.0049505 | 0        |\n",
      "| micro av. jaccard   | 0.403846 | 0.522472  | 0.502959 |\n",
      "| macro av. jaccard   | 0.408546 | 0.518033  | 0.49806  |\n",
      "| micro av. precision | 0.59434  | 0.678832  | 0.702479 |\n",
      "| macro av. precision | 0.603623 | 0.671304  | 0.70992  |\n",
      "| micro av. recall    | 0.557522 | 0.69403   | 0.639098 |\n",
      "| macro av. recall    | 0.558223 | 0.68108   | 0.632844 |\n",
      "| micro av. f1        | 0.575342 | 0.686347  | 0.669291 |\n",
      "| macro av. f1        | 0.578908 | 0.674484  | 0.658847 |\n",
      "Number of Tasks: 3\n",
      "Forgetting in task 1: first time micro av. f1 = 0.6055, after all tasks micro av. f1 = 0.5753\n",
      "Forgetting in task 2: first time micro av. f1 = 0.7564, after all tasks micro av. f1 = 0.5753\n",
      "Forgetting in task 3: first time micro av. f1 = 0.6273, after all tasks micro av. f1 = 0.5753\n"
     ]
    },
    {
     "data": {
      "image/png": "[encoded data removed]",
      "text/plain": [
       "<Figure size 360x360 with 1 Axes>"
      ]
     },
     "metadata": {
      "needs_background": "light"
     },
     "output_type": "display_data"
    }
   ],
   "source": [
    "hparams_dict = {\n",
    "    'inputs': 432,\n",
    "    'outputs': 6,\n",
    "    'time_constant': 300,\n",
    "    'alpha_a': 0.42,\n",
    "    'alpha_m': 0.07,\n",
    "    'w_max': 100.0,\n",
    "    'w_min': -100.0,\n",
    "    'lr': 1e-3,\n",
    "    'sim_time': 600,\n",
    "    'n_epochs': 2000,\n",
    "    'print_every': 200,\n",
    "    'name': 'Emotions',\n",
    "    'tasks': {'samples': None, 'labels': [2, 2, 2]},\n",
    "    'seed': 2,\n",
    "    'ckpt_dir': './checkpoints/emotions',\n",
    "    'load_from_file': None,\n",
    "    'device': device\n",
    "}\n",
    "net = OverallSNN(hparams_dict)\n",
    "net.fit_and_evaluate(train_spikes, train_labels, test_spikes, test_labels)"
   ]
  },
  {
   "cell_type": "code",
   "execution_count": 4,
   "metadata": {},
   "outputs": [
    {
     "name": "stdout",
     "output_type": "stream",
     "text": [
      "Training and Evaluating on task 1\n",
      "Train data shape is  (391, 1, 432)\n",
      "Train Labels shape is  (391, 2)\n",
      "Classes trained are: 0 to 2\n"
     ]
    },
    {
     "name": "stderr",
     "output_type": "stream",
     "text": [
      "  0%|          | 0/2000 [00:00<?, ?it/s]"
     ]
    },
    {
     "name": "stdout",
     "output_type": "stream",
     "text": [
      "Class 0, class 1 neurons = 3, class 0 neurons = 3\n",
      "Class 1, class 1 neurons = 6, class 0 neurons = 4\n"
     ]
    },
    {
     "name": "stderr",
     "output_type": "stream",
     "text": [
      "100%|██████████| 2000/2000 [44:22<00:00,  1.33s/it]\n"
     ]
    },
    {
     "name": "stdout",
     "output_type": "stream",
     "text": [
      "Evaluating in individual mode on test set\n",
      "multilabel-indicator multilabel-indicator\n",
      "float32 int64\n",
      "(202, 2) (202, 2)\n",
      "|                     |         0 |\n",
      "|:--------------------|----------:|\n",
      "| hamming loss        | 0.128713  |\n",
      "| zero_one_loss       | 0.252475  |\n",
      "| one_error           | 0.0049505 |\n",
      "| micro av. jaccard   | 0.636364  |\n",
      "| macro av. jaccard   | 0.638258  |\n",
      "| micro av. precision | 0.777778  |\n",
      "| macro av. precision | 0.774927  |\n",
      "| micro av. recall    | 0.777778  |\n",
      "| macro av. recall    | 0.777031  |\n",
      "| micro av. f1        | 0.777778  |\n",
      "| macro av. f1        | 0.77547   |\n",
      "Evaluating in combined mode on test set\n",
      "multilabel-indicator multilabel-indicator\n",
      "float32 int64\n",
      "(202, 2) (202, 2)\n",
      "|                     |         0 |\n",
      "|:--------------------|----------:|\n",
      "| hamming loss        | 0.128713  |\n",
      "| zero_one_loss       | 0.252475  |\n",
      "| one_error           | 0.0049505 |\n",
      "| micro av. jaccard   | 0.636364  |\n",
      "| macro av. jaccard   | 0.638258  |\n",
      "| micro av. precision | 0.777778  |\n",
      "| macro av. precision | 0.774927  |\n",
      "| micro av. recall    | 0.777778  |\n",
      "| macro av. recall    | 0.777031  |\n",
      "| micro av. f1        | 0.777778  |\n",
      "| macro av. f1        | 0.77547   |\n",
      "Training and Evaluating on task 2\n",
      "Train data shape is  (391, 1, 432)\n",
      "Train Labels shape is  (391, 2)\n",
      "Classes trained are: 2 to 4\n",
      "Augmenting class labels...\n",
      "Train Labels shape is  (391, 4)\n"
     ]
    },
    {
     "name": "stderr",
     "output_type": "stream",
     "text": [
      "  0%|          | 0/2000 [00:00<?, ?it/s]"
     ]
    },
    {
     "name": "stdout",
     "output_type": "stream",
     "text": [
      "Class 0, class 1 neurons = 7, class 0 neurons = 8\n",
      "Class 1, class 1 neurons = 8, class 0 neurons = 7\n",
      "Class 2, class 1 neurons = 5, class 0 neurons = 4\n",
      "Class 3, class 1 neurons = 5, class 0 neurons = 5\n"
     ]
    },
    {
     "name": "stderr",
     "output_type": "stream",
     "text": [
      "100%|██████████| 2000/2000 [3:40:39<00:00,  6.62s/it]  \n"
     ]
    },
    {
     "name": "stdout",
     "output_type": "stream",
     "text": [
      "Evaluating in individual mode on test set\n",
      "multilabel-indicator multilabel-indicator\n",
      "float32 int64\n",
      "(202, 2) (202, 2)\n",
      "|                     |        0 |\n",
      "|:--------------------|---------:|\n",
      "| hamming loss        | 0.25     |\n",
      "| zero_one_loss       | 0.460396 |\n",
      "| one_error           | 0.039604 |\n",
      "| micro av. jaccard   | 0.36478  |\n",
      "| macro av. jaccard   | 0.365111 |\n",
      "| micro av. precision | 0.682353 |\n",
      "| macro av. precision | 0.694816 |\n",
      "| micro av. recall    | 0.439394 |\n",
      "| macro av. recall    | 0.437892 |\n",
      "| micro av. f1        | 0.534562 |\n",
      "| macro av. f1        | 0.532738 |\n",
      "Evaluating in combined mode on test set\n",
      "multilabel-indicator multilabel-indicator\n",
      "float32 int64\n",
      "(202, 4) (202, 4)\n",
      "|                     |        0 |\n",
      "|:--------------------|---------:|\n",
      "| hamming loss        | 0.193069 |\n",
      "| zero_one_loss       | 0.559406 |\n",
      "| one_error           | 0        |\n",
      "| micro av. jaccard   | 0.485149 |\n",
      "| macro av. jaccard   | 0.490374 |\n",
      "| micro av. precision | 0.731343 |\n",
      "| macro av. precision | 0.730213 |\n",
      "| micro av. recall    | 0.590361 |\n",
      "| macro av. recall    | 0.598768 |\n",
      "| micro av. f1        | 0.653333 |\n",
      "| macro av. f1        | 0.645615 |\n",
      "Training and Evaluating on task 3\n",
      "Train data shape is  (391, 1, 432)\n",
      "Train Labels shape is  (391, 2)\n",
      "Classes trained are: 4 to 6\n",
      "Augmenting class labels...\n",
      "Train Labels shape is  (391, 6)\n"
     ]
    },
    {
     "name": "stderr",
     "output_type": "stream",
     "text": [
      "  0%|          | 0/2000 [00:00<?, ?it/s]"
     ]
    },
    {
     "name": "stdout",
     "output_type": "stream",
     "text": [
      "Class 0, class 1 neurons = 10, class 0 neurons = 13\n",
      "Class 1, class 1 neurons = 10, class 0 neurons = 10\n",
      "Class 2, class 1 neurons = 8, class 0 neurons = 9\n",
      "Class 3, class 1 neurons = 8, class 0 neurons = 9\n",
      "Class 4, class 1 neurons = 5, class 0 neurons = 5\n",
      "Class 5, class 1 neurons = 3, class 0 neurons = 7\n"
     ]
    },
    {
     "name": "stderr",
     "output_type": "stream",
     "text": [
      "100%|██████████| 2000/2000 [4:10:18<00:00,  7.51s/it]  \n"
     ]
    },
    {
     "name": "stdout",
     "output_type": "stream",
     "text": [
      "Evaluating in individual mode on test set\n",
      "multilabel-indicator multilabel-indicator\n",
      "float32 int64\n",
      "(202, 2) (202, 2)\n",
      "|                     |         0 |\n",
      "|:--------------------|----------:|\n",
      "| hamming loss        | 0.240099  |\n",
      "| zero_one_loss       | 0.420792  |\n",
      "| one_error           | 0.0594059 |\n",
      "| micro av. jaccard   | 0.510101  |\n",
      "| macro av. jaccard   | 0.499891  |\n",
      "| micro av. precision | 0.677852  |\n",
      "| macro av. precision | 0.667446  |\n",
      "| micro av. recall    | 0.673333  |\n",
      "| macro av. recall    | 0.663773  |\n",
      "| micro av. f1        | 0.675585  |\n",
      "| macro av. f1        | 0.6656    |\n",
      "Evaluating in combined mode on test set\n",
      "multilabel-indicator multilabel-indicator\n",
      "float32 int64\n",
      "(202, 6) (202, 6)\n",
      "|                     |        0 |\n",
      "|:--------------------|---------:|\n",
      "| hamming loss        | 0.215347 |\n",
      "| zero_one_loss       | 0.732673 |\n",
      "| one_error           | 0        |\n",
      "| micro av. jaccard   | 0.479042 |\n",
      "| macro av. jaccard   | 0.476817 |\n",
      "| micro av. precision | 0.701754 |\n",
      "| macro av. precision | 0.698436 |\n",
      "| micro av. recall    | 0.601504 |\n",
      "| macro av. recall    | 0.598233 |\n",
      "| micro av. f1        | 0.647773 |\n",
      "| macro av. f1        | 0.635928 |\n",
      "Evaluating in individual mode on test set\n",
      "|                     |          0 |        1 |         2 |\n",
      "|:--------------------|-----------:|---------:|----------:|\n",
      "| hamming loss        | 0.148515   | 0.257426 | 0.240099  |\n",
      "| zero_one_loss       | 0.287129   | 0.475248 | 0.420792  |\n",
      "| one_error           | 0.00990099 | 0.039604 | 0.0594059 |\n",
      "| micro av. jaccard   | 0.583333   | 0.345912 | 0.510101  |\n",
      "| macro av. jaccard   | 0.584989   | 0.34557  | 0.499891  |\n",
      "| micro av. precision | 0.756757   | 0.670732 | 0.677852  |\n",
      "| macro av. precision | 0.750165   | 0.677698 | 0.667446  |\n",
      "| micro av. recall    | 0.717949   | 0.416667 | 0.673333  |\n",
      "| macro av. recall    | 0.716832   | 0.414093 | 0.663773  |\n",
      "| micro av. f1        | 0.736842   | 0.514019 | 0.675585  |\n",
      "| macro av. f1        | 0.73098    | 0.511204 | 0.6656    |\n",
      "Evaluating in combined mode on test set\n",
      "|                     |          0 |        1 |        2 |\n",
      "|:--------------------|-----------:|---------:|---------:|\n",
      "| hamming loss        | 0.148515   | 0.20297  | 0.215347 |\n",
      "| zero_one_loss       | 0.287129   | 0.579208 | 0.732673 |\n",
      "| one_error           | 0.00990099 | 0        | 0        |\n",
      "| micro av. jaccard   | 0.583333   | 0.458746 | 0.479042 |\n",
      "| macro av. jaccard   | 0.584989   | 0.46528  | 0.476817 |\n",
      "| micro av. precision | 0.756757   | 0.720207 | 0.701754 |\n",
      "| macro av. precision | 0.750165   | 0.713931 | 0.698436 |\n",
      "| micro av. recall    | 0.717949   | 0.558233 | 0.601504 |\n",
      "| macro av. recall    | 0.716832   | 0.565463 | 0.598233 |\n",
      "| micro av. f1        | 0.736842   | 0.628959 | 0.647773 |\n",
      "| macro av. f1        | 0.73098    | 0.621092 | 0.635928 |\n",
      "Number of Tasks: 3\n",
      "Forgetting in task 1: first time micro av. f1 = 0.7778, after all tasks micro av. f1 = 0.7368\n",
      "Forgetting in task 2: first time micro av. f1 = 0.5346, after all tasks micro av. f1 = 0.7368\n",
      "Forgetting in task 3: first time micro av. f1 = 0.6756, after all tasks micro av. f1 = 0.7368\n"
     ]
    },
    {
     "data": {
      "image/png": "[encoded data removed]",
      "text/plain": [
       "<Figure size 360x360 with 1 Axes>"
      ]
     },
     "metadata": {
      "needs_background": "light"
     },
     "output_type": "display_data"
    }
   ],
   "source": [
    "hparams_dict = {\n",
    "    'inputs': 432,\n",
    "    'outputs': 6,\n",
    "    'time_constant': 300,\n",
    "    'alpha_a': 0.42,\n",
    "    'alpha_m': 0.07,\n",
    "    'w_max': 100.0,\n",
    "    'w_min': -100.0,\n",
    "    'lr': 1e-3,\n",
    "    'sim_time': 600,\n",
    "    'n_epochs': 2000,\n",
    "    'print_every': 200,\n",
    "    'name': 'Emotions',\n",
    "    'tasks': {'samples': None, 'labels': [2, 2, 2]},\n",
    "    'seed': 3,\n",
    "    'ckpt_dir': './checkpoints/emotions',\n",
    "    'load_from_file': None,\n",
    "    'device': device\n",
    "}\n",
    "net = OverallSNN(hparams_dict)\n",
    "net.fit_and_evaluate(train_spikes, train_labels, test_spikes, test_labels)"
   ]
  },
  {
   "cell_type": "code",
   "execution_count": 5,
   "metadata": {},
   "outputs": [
    {
     "name": "stdout",
     "output_type": "stream",
     "text": [
      "Training and Evaluating on task 1\n",
      "Train data shape is  (391, 1, 432)\n",
      "Train Labels shape is  (391, 2)\n",
      "Classes trained are: 0 to 2\n"
     ]
    },
    {
     "name": "stderr",
     "output_type": "stream",
     "text": [
      "  0%|          | 0/2000 [00:00<?, ?it/s]"
     ]
    },
    {
     "name": "stdout",
     "output_type": "stream",
     "text": [
      "Class 0, class 1 neurons = 5, class 0 neurons = 4\n",
      "Class 1, class 1 neurons = 6, class 0 neurons = 4\n"
     ]
    },
    {
     "name": "stderr",
     "output_type": "stream",
     "text": [
      "100%|██████████| 2000/2000 [43:53<00:00,  1.32s/it]\n"
     ]
    },
    {
     "name": "stdout",
     "output_type": "stream",
     "text": [
      "Evaluating in individual mode on test set\n",
      "multilabel-indicator multilabel-indicator\n",
      "float32 int64\n",
      "(202, 2) (202, 2)\n",
      "|                     |         0 |\n",
      "|:--------------------|----------:|\n",
      "| hamming loss        | 0.195545  |\n",
      "| zero_one_loss       | 0.346535  |\n",
      "| one_error           | 0.0445545 |\n",
      "| micro av. jaccard   | 0.48366   |\n",
      "| macro av. jaccard   | 0.484872  |\n",
      "| micro av. precision | 0.770833  |\n",
      "| macro av. precision | 0.787659  |\n",
      "| micro av. recall    | 0.564885  |\n",
      "| macro av. recall    | 0.579476  |\n",
      "| micro av. f1        | 0.651982  |\n",
      "| macro av. f1        | 0.650746  |\n",
      "Evaluating in combined mode on test set\n",
      "multilabel-indicator multilabel-indicator\n",
      "float32 int64\n",
      "(202, 2) (202, 2)\n",
      "|                     |         0 |\n",
      "|:--------------------|----------:|\n",
      "| hamming loss        | 0.195545  |\n",
      "| zero_one_loss       | 0.346535  |\n",
      "| one_error           | 0.0445545 |\n",
      "| micro av. jaccard   | 0.48366   |\n",
      "| macro av. jaccard   | 0.484872  |\n",
      "| micro av. precision | 0.770833  |\n",
      "| macro av. precision | 0.787659  |\n",
      "| micro av. recall    | 0.564885  |\n",
      "| macro av. recall    | 0.579476  |\n",
      "| micro av. f1        | 0.651982  |\n",
      "| macro av. f1        | 0.650746  |\n",
      "Training and Evaluating on task 2\n",
      "Train data shape is  (391, 1, 432)\n",
      "Train Labels shape is  (391, 2)\n",
      "Classes trained are: 2 to 4\n",
      "Augmenting class labels...\n",
      "Train Labels shape is  (391, 4)\n"
     ]
    },
    {
     "name": "stderr",
     "output_type": "stream",
     "text": [
      "  0%|          | 0/2000 [00:00<?, ?it/s]"
     ]
    },
    {
     "name": "stdout",
     "output_type": "stream",
     "text": [
      "Class 0, class 1 neurons = 8, class 0 neurons = 9\n",
      "Class 1, class 1 neurons = 8, class 0 neurons = 7\n",
      "Class 2, class 1 neurons = 3, class 0 neurons = 3\n",
      "Class 3, class 1 neurons = 5, class 0 neurons = 5\n"
     ]
    },
    {
     "name": "stderr",
     "output_type": "stream",
     "text": [
      "100%|██████████| 2000/2000 [1:31:31<00:00,  2.75s/it]\n"
     ]
    },
    {
     "name": "stdout",
     "output_type": "stream",
     "text": [
      "Evaluating in individual mode on test set\n",
      "multilabel-indicator multilabel-indicator\n",
      "float32 int64\n",
      "(202, 2) (202, 2)\n",
      "|                     |         0 |\n",
      "|:--------------------|----------:|\n",
      "| hamming loss        | 0.163366  |\n",
      "| zero_one_loss       | 0.321782  |\n",
      "| one_error           | 0.0049505 |\n",
      "| micro av. jaccard   | 0.547945  |\n",
      "| macro av. jaccard   | 0.558069  |\n",
      "| micro av. precision | 0.707965  |\n",
      "| macro av. precision | 0.706767  |\n",
      "| micro av. recall    | 0.707965  |\n",
      "| macro av. recall    | 0.703076  |\n",
      "| micro av. f1        | 0.707965  |\n",
      "| macro av. f1        | 0.704702  |\n",
      "Evaluating in combined mode on test set\n",
      "multilabel-indicator multilabel-indicator\n",
      "float32 int64\n",
      "(202, 4) (202, 4)\n",
      "|                     |        0 |\n",
      "|:--------------------|---------:|\n",
      "| hamming loss        | 0.181931 |\n",
      "| zero_one_loss       | 0.539604 |\n",
      "| one_error           | 0        |\n",
      "| micro av. jaccard   | 0.505051 |\n",
      "| macro av. jaccard   | 0.51363  |\n",
      "| micro av. precision | 0.738916 |\n",
      "| macro av. precision | 0.744765 |\n",
      "| micro av. recall    | 0.614754 |\n",
      "| macro av. recall    | 0.626691 |\n",
      "| micro av. f1        | 0.671141 |\n",
      "| macro av. f1        | 0.668895 |\n",
      "Training and Evaluating on task 3\n",
      "Train data shape is  (391, 1, 432)\n",
      "Train Labels shape is  (391, 2)\n",
      "Classes trained are: 4 to 6\n",
      "Augmenting class labels...\n",
      "Train Labels shape is  (391, 6)\n"
     ]
    },
    {
     "name": "stderr",
     "output_type": "stream",
     "text": [
      "  0%|          | 0/2000 [00:00<?, ?it/s]"
     ]
    },
    {
     "name": "stdout",
     "output_type": "stream",
     "text": [
      "Class 0, class 1 neurons = 11, class 0 neurons = 13\n",
      "Class 1, class 1 neurons = 11, class 0 neurons = 10\n",
      "Class 2, class 1 neurons = 7, class 0 neurons = 8\n",
      "Class 3, class 1 neurons = 7, class 0 neurons = 9\n",
      "Class 4, class 1 neurons = 5, class 0 neurons = 5\n",
      "Class 5, class 1 neurons = 3, class 0 neurons = 7\n"
     ]
    },
    {
     "name": "stderr",
     "output_type": "stream",
     "text": [
      "100%|██████████| 2000/2000 [2:37:47<00:00,  4.73s/it]  \n"
     ]
    },
    {
     "name": "stdout",
     "output_type": "stream",
     "text": [
      "Evaluating in individual mode on test set\n",
      "multilabel-indicator multilabel-indicator\n",
      "float32 int64\n",
      "(202, 2) (202, 2)\n",
      "|                     |         0 |\n",
      "|:--------------------|----------:|\n",
      "| hamming loss        | 0.269802  |\n",
      "| zero_one_loss       | 0.470297  |\n",
      "| one_error           | 0.0693069 |\n",
      "| micro av. jaccard   | 0.475962  |\n",
      "| macro av. jaccard   | 0.460771  |\n",
      "| micro av. precision | 0.651316  |\n",
      "| macro av. precision | 0.634673  |\n",
      "| micro av. recall    | 0.63871   |\n",
      "| macro av. recall    | 0.620145  |\n",
      "| micro av. f1        | 0.644951  |\n",
      "| macro av. f1        | 0.627219  |\n",
      "Evaluating in combined mode on test set\n",
      "multilabel-indicator multilabel-indicator\n",
      "float32 int64\n",
      "(202, 6) (202, 6)\n",
      "|                     |        0 |\n",
      "|:--------------------|---------:|\n",
      "| hamming loss        | 0.210396 |\n",
      "| zero_one_loss       | 0.70297  |\n",
      "| one_error           | 0        |\n",
      "| micro av. jaccard   | 0.498031 |\n",
      "| macro av. jaccard   | 0.49998  |\n",
      "| micro av. precision | 0.698895 |\n",
      "| macro av. precision | 0.699012 |\n",
      "| micro av. recall    | 0.634085 |\n",
      "| macro av. recall    | 0.636234 |\n",
      "| micro av. f1        | 0.664915 |\n",
      "| macro av. f1        | 0.6585   |\n",
      "Evaluating in individual mode on test set\n",
      "|                     |         0 |          1 |         2 |\n",
      "|:--------------------|----------:|-----------:|----------:|\n",
      "| hamming loss        | 0.212871  | 0.148515   | 0.269802  |\n",
      "| zero_one_loss       | 0.381188  | 0.287129   | 0.470297  |\n",
      "| one_error           | 0.0445545 | 0.00990099 | 0.0693069 |\n",
      "| micro av. jaccard   | 0.441558  | 0.589041   | 0.475962  |\n",
      "| macro av. jaccard   | 0.448329  | 0.590841   | 0.460771  |\n",
      "| micro av. precision | 0.747253  | 0.722689   | 0.651316  |\n",
      "| macro av. precision | 0.747549  | 0.714815   | 0.634673  |\n",
      "| micro av. recall    | 0.519084  | 0.761062   | 0.63871   |\n",
      "| macro av. recall    | 0.533066  | 0.755493   | 0.620145  |\n",
      "| micro av. f1        | 0.612613  | 0.741379   | 0.644951  |\n",
      "| macro av. f1        | 0.614111  | 0.73417    | 0.627219  |\n",
      "Evaluating in combined mode on test set\n",
      "|                     |         0 |        1 |        2 |\n",
      "|:--------------------|----------:|---------:|---------:|\n",
      "| hamming loss        | 0.212871  | 0.180693 | 0.210396 |\n",
      "| zero_one_loss       | 0.381188  | 0.539604 | 0.70297  |\n",
      "| one_error           | 0.0445545 | 0        | 0        |\n",
      "| micro av. jaccard   | 0.441558  | 0.513333 | 0.498031 |\n",
      "| macro av. jaccard   | 0.448329  | 0.519585 | 0.49998  |\n",
      "| micro av. precision | 0.747253  | 0.733333 | 0.698895 |\n",
      "| macro av. precision | 0.747549  | 0.731182 | 0.699012 |\n",
      "| micro av. recall    | 0.519084  | 0.631148 | 0.634085 |\n",
      "| macro av. recall    | 0.533066  | 0.644279 | 0.636234 |\n",
      "| micro av. f1        | 0.612613  | 0.678414 | 0.664915 |\n",
      "| macro av. f1        | 0.614111  | 0.67414  | 0.6585   |\n",
      "Number of Tasks: 3\n",
      "Forgetting in task 1: first time micro av. f1 = 0.6520, after all tasks micro av. f1 = 0.6126\n",
      "Forgetting in task 2: first time micro av. f1 = 0.7080, after all tasks micro av. f1 = 0.6126\n",
      "Forgetting in task 3: first time micro av. f1 = 0.6450, after all tasks micro av. f1 = 0.6126\n"
     ]
    },
    {
     "data": {
      "image/png": "[encoded data removed]",
      "text/plain": [
       "<Figure size 360x360 with 1 Axes>"
      ]
     },
     "metadata": {
      "needs_background": "light"
     },
     "output_type": "display_data"
    }
   ],
   "source": [
    "hparams_dict = {\n",
    "    'inputs': 432,\n",
    "    'outputs': 6,\n",
    "    'time_constant': 300,\n",
    "    'alpha_a': 0.42,\n",
    "    'alpha_m': 0.07,\n",
    "    'w_max': 100.0,\n",
    "    'w_min': -100.0,\n",
    "    'lr': 1e-3,\n",
    "    'sim_time': 600,\n",
    "    'n_epochs': 2000,\n",
    "    'print_every': 200,\n",
    "    'name': 'Emotions',\n",
    "    'tasks': {'samples': None, 'labels': [2, 2, 2]},\n",
    "    'seed': 4,\n",
    "    'ckpt_dir': './checkpoints/emotions',\n",
    "    'load_from_file': None,\n",
    "    'device': device\n",
    "}\n",
    "net = OverallSNN(hparams_dict)\n",
    "net.fit_and_evaluate(train_spikes, train_labels, test_spikes, test_labels)"
   ]
  }
 ],
 "metadata": {
  "kernelspec": {
   "display_name": "DL_gpu",
   "language": "python",
   "name": "dl_gpu"
  },
  "language_info": {
   "codemirror_mode": {
    "name": "ipython",
    "version": 3
   },
   "file_extension": ".py",
   "mimetype": "text/x-python",
   "name": "python",
   "nbconvert_exporter": "python",
   "pygments_lexer": "ipython3",
   "version": "3.7.7"
  }
 },
 "nbformat": 4,
 "nbformat_minor": 4
}
