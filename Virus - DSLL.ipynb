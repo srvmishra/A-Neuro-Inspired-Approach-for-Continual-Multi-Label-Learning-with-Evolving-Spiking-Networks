{
 "cells": [
  {
   "cell_type": "code",
   "execution_count": 1,
   "metadata": {},
   "outputs": [],
   "source": [
    "from ContinualEvolvingSNN import *\n",
    "import arff\n",
    "import warnings\n",
    "from scipy.io import loadmat\n",
    "warnings.filterwarnings(\"ignore\")\n",
    "%matplotlib inline\n",
    "np.random.seed(0)\n",
    "torch.manual_seed(0)\n",
    "torch.cuda.manual_seed(0)\n",
    "device = torch.device('cuda:1' if torch.cuda.is_available() else 'cpu')"
   ]
  },
  {
   "cell_type": "markdown",
   "metadata": {},
   "source": [
    "## Load Data and Convert to Spikes"
   ]
  },
  {
   "cell_type": "code",
   "execution_count": 2,
   "metadata": {},
   "outputs": [
    {
     "name": "stderr",
     "output_type": "stream",
     "text": [
      "100%|██████████| 124/124 [00:00<00:00, 2952.96it/s]\n",
      "100%|██████████| 83/83 [00:00<00:00, 7137.26it/s]"
     ]
    },
    {
     "name": "stdout",
     "output_type": "stream",
     "text": [
      "Train data shape:  (124, 1, 300)\n",
      "Train labels shape:  (124, 6)\n",
      "Test data shape:  (83, 1, 300)\n",
      "Test labels shape:  (83, 6)\n"
     ]
    },
    {
     "name": "stderr",
     "output_type": "stream",
     "text": [
      "\n"
     ]
    }
   ],
   "source": [
    "trainpath = '../datasets/VirusPseAAC/VirusPseAAC207_train_MVMD.mat'\n",
    "testpath = '../datasets/VirusPseAAC/VirusPseAAC207_test_MVMD.mat'\n",
    "\n",
    "train_ = loadmat(trainpath)\n",
    "train_data, train_labels = train_['transformed_train_data'], np.array(train_['labels'])\n",
    "\n",
    "test_ = loadmat(testpath)\n",
    "test_data, test_labels = test_['transformed_test_data'], np.array(test_['labels'])\n",
    "\n",
    "a = train_data.max(axis=0)\n",
    "b = train_data.min(axis=0)\n",
    "\n",
    "train_spikes = encoding(train_data, device, a, b)\n",
    "test_spikes = encoding(test_data, device, a, b)\n",
    "print(\"Train data shape: \", np.array(train_spikes).shape)\n",
    "print(\"Train labels shape: \", np.array(train_labels).shape)\n",
    "print(\"Test data shape: \", np.array(test_spikes).shape)\n",
    "print(\"Test labels shape: \", np.array(test_labels).shape)"
   ]
  },
  {
   "cell_type": "markdown",
   "metadata": {},
   "source": [
    "## DSLL Training and Evaluation Mode"
   ]
  },
  {
   "cell_type": "code",
   "execution_count": 3,
   "metadata": {},
   "outputs": [
    {
     "name": "stdout",
     "output_type": "stream",
     "text": [
      "Training and Evaluating on task 1\n",
      "Train data shape is  (124, 1, 300)\n",
      "Train Labels shape is  (124, 2)\n",
      "Classes trained are: 0 to 2\n"
     ]
    },
    {
     "name": "stderr",
     "output_type": "stream",
     "text": [
      "  0%|          | 0/2500 [00:00<?, ?it/s]"
     ]
    },
    {
     "name": "stdout",
     "output_type": "stream",
     "text": [
      "Class 0, class 1 neurons = 1, class 0 neurons = 21\n",
      "Class 1, class 1 neurons = 5, class 0 neurons = 33\n"
     ]
    },
    {
     "name": "stderr",
     "output_type": "stream",
     "text": [
      "100%|██████████| 2500/2500 [1:56:29<00:00,  2.80s/it]\n"
     ]
    },
    {
     "name": "stdout",
     "output_type": "stream",
     "text": [
      "Evaluating in individual mode on test set\n",
      "multilabel-indicator multilabel-indicator\n",
      "uint8 int64\n",
      "(83, 2) (83, 2)\n",
      "|                     |        0 |\n",
      "|:--------------------|---------:|\n",
      "| hamming loss        | 0.10241  |\n",
      "| zero_one_loss       | 0.204819 |\n",
      "| one_error           | 0        |\n",
      "| micro av. jaccard   | 0.37037  |\n",
      "| macro av. jaccard   | 0.645833 |\n",
      "| micro av. precision | 0.47619  |\n",
      "| macro av. precision | 0.694444 |\n",
      "| micro av. recall    | 0.625    |\n",
      "| macro av. recall    | 0.769231 |\n",
      "| micro av. f1        | 0.540541 |\n",
      "| macro av. f1        | 0.725806 |\n",
      "Evaluating in combined mode on test set\n",
      "multilabel-indicator multilabel-indicator\n",
      "uint8 int64\n",
      "(83, 2) (83, 2)\n",
      "|                     |        0 |\n",
      "|:--------------------|---------:|\n",
      "| hamming loss        | 0.10241  |\n",
      "| zero_one_loss       | 0.204819 |\n",
      "| one_error           | 0        |\n",
      "| micro av. jaccard   | 0.37037  |\n",
      "| macro av. jaccard   | 0.645833 |\n",
      "| micro av. precision | 0.47619  |\n",
      "| macro av. precision | 0.694444 |\n",
      "| micro av. recall    | 0.625    |\n",
      "| macro av. recall    | 0.769231 |\n",
      "| micro av. f1        | 0.540541 |\n",
      "| macro av. f1        | 0.725806 |\n",
      "Training and Evaluating on task 2\n",
      "Train data shape is  (124, 1, 300)\n",
      "Train Labels shape is  (124, 2)\n",
      "Classes trained are: 2 to 4\n",
      "Augmenting class labels...\n",
      "Train Labels shape is  (124, 4)\n"
     ]
    },
    {
     "name": "stderr",
     "output_type": "stream",
     "text": [
      "  0%|          | 0/2500 [00:00<?, ?it/s]"
     ]
    },
    {
     "name": "stdout",
     "output_type": "stream",
     "text": [
      "Class 0, class 1 neurons = 1, class 0 neurons = 55\n",
      "Class 1, class 1 neurons = 10, class 0 neurons = 51\n",
      "Class 2, class 1 neurons = 9, class 0 neurons = 21\n",
      "Class 3, class 1 neurons = 27, class 0 neurons = 26\n"
     ]
    },
    {
     "name": "stderr",
     "output_type": "stream",
     "text": [
      "100%|██████████| 2500/2500 [5:36:19<00:00,  8.07s/it]  \n"
     ]
    },
    {
     "name": "stdout",
     "output_type": "stream",
     "text": [
      "Evaluating in individual mode on test set\n",
      "multilabel-indicator multilabel-indicator\n",
      "uint8 int64\n",
      "(83, 2) (83, 2)\n",
      "|                     |         0 |\n",
      "|:--------------------|----------:|\n",
      "| hamming loss        | 0.289157  |\n",
      "| zero_one_loss       | 0.53012   |\n",
      "| one_error           | 0.0481928 |\n",
      "| micro av. jaccard   | 0.225806  |\n",
      "| macro av. jaccard   | 0.132075  |\n",
      "| micro av. precision | 0.4       |\n",
      "| macro av. precision | 0.212121  |\n",
      "| micro av. recall    | 0.341463  |\n",
      "| macro av. recall    | 0.205882  |\n",
      "| micro av. f1        | 0.368421  |\n",
      "| macro av. f1        | 0.208955  |\n",
      "Evaluating in combined mode on test set\n",
      "multilabel-indicator multilabel-indicator\n",
      "uint8 int64\n",
      "(83, 4) (83, 4)\n",
      "|                     |        0 |\n",
      "|:--------------------|---------:|\n",
      "| hamming loss        | 0.189759 |\n",
      "| zero_one_loss       | 0.590361 |\n",
      "| one_error           | 0        |\n",
      "| micro av. jaccard   | 0.267442 |\n",
      "| macro av. jaccard   | 0.387466 |\n",
      "| micro av. precision | 0.442308 |\n",
      "| macro av. precision | 0.463203 |\n",
      "| micro av. recall    | 0.403509 |\n",
      "| macro av. recall    | 0.468326 |\n",
      "| micro av. f1        | 0.422018 |\n",
      "| macro av. f1        | 0.465589 |\n",
      "Training and Evaluating on task 3\n",
      "Train data shape is  (124, 1, 300)\n",
      "Train Labels shape is  (124, 2)\n",
      "Classes trained are: 4 to 6\n",
      "Augmenting class labels...\n",
      "Train Labels shape is  (124, 6)\n"
     ]
    },
    {
     "name": "stderr",
     "output_type": "stream",
     "text": [
      "  0%|          | 0/2500 [00:00<?, ?it/s]"
     ]
    },
    {
     "name": "stdout",
     "output_type": "stream",
     "text": [
      "Class 0, class 1 neurons = 1, class 0 neurons = 57\n",
      "Class 1, class 1 neurons = 10, class 0 neurons = 54\n",
      "Class 2, class 1 neurons = 9, class 0 neurons = 42\n",
      "Class 3, class 1 neurons = 29, class 0 neurons = 34\n",
      "Class 4, class 1 neurons = 19, class 0 neurons = 29\n",
      "Class 5, class 1 neurons = 10, class 0 neurons = 24\n"
     ]
    },
    {
     "name": "stderr",
     "output_type": "stream",
     "text": [
      "100%|██████████| 2500/2500 [3:24:18<00:00,  4.90s/it]  \n"
     ]
    },
    {
     "name": "stdout",
     "output_type": "stream",
     "text": [
      "Evaluating in individual mode on test set\n",
      "multilabel-indicator multilabel-indicator\n",
      "uint8 int64\n",
      "(83, 2) (83, 2)\n",
      "|                     |         0 |\n",
      "|:--------------------|----------:|\n",
      "| hamming loss        | 0.271084  |\n",
      "| zero_one_loss       | 0.493976  |\n",
      "| one_error           | 0.0481928 |\n",
      "| micro av. jaccard   | 0.274194  |\n",
      "| macro av. jaccard   | 0.163462  |\n",
      "| micro av. precision | 0.459459  |\n",
      "| macro av. precision | 0.236111  |\n",
      "| micro av. recall    | 0.404762  |\n",
      "| macro av. recall    | 0.257576  |\n",
      "| micro av. f1        | 0.43038   |\n",
      "| macro av. f1        | 0.246377  |\n",
      "Evaluating in combined mode on test set\n",
      "multilabel-indicator multilabel-indicator\n",
      "uint8 int64\n",
      "(83, 6) (83, 6)\n",
      "|                     |        0 |\n",
      "|:--------------------|---------:|\n",
      "| hamming loss        | 0.218876 |\n",
      "| zero_one_loss       | 0.746988 |\n",
      "| one_error           | 0        |\n",
      "| micro av. jaccard   | 0.263514 |\n",
      "| macro av. jaccard   | 0.308275 |\n",
      "| micro av. precision | 0.443182 |\n",
      "| macro av. precision | 0.38193  |\n",
      "| micro av. recall    | 0.393939 |\n",
      "| macro av. recall    | 0.393174 |\n",
      "| micro av. f1        | 0.417112 |\n",
      "| macro av. f1        | 0.386888 |\n",
      "Evaluating in individual mode on test set\n",
      "|                     |         0 |         1 |         2 |\n",
      "|:--------------------|----------:|----------:|----------:|\n",
      "| hamming loss        | 0.0963855 | 0.289157  | 0.271084  |\n",
      "| zero_one_loss       | 0.192771  | 0.542169  | 0.493976  |\n",
      "| one_error           | 0         | 0.0361446 | 0.0481928 |\n",
      "| micro av. jaccard   | 0.36      | 0.213115  | 0.274194  |\n",
      "| macro av. jaccard   | 0.636364  | 0.125     | 0.163462  |\n",
      "| micro av. precision | 0.5       | 0.393939  | 0.459459  |\n",
      "| macro av. precision | 0.7       | 0.209677  | 0.236111  |\n",
      "| micro av. recall    | 0.5625    | 0.317073  | 0.404762  |\n",
      "| macro av. recall    | 0.730769  | 0.191176  | 0.257576  |\n",
      "| micro av. f1        | 0.529412  | 0.351351  | 0.43038   |\n",
      "| macro av. f1        | 0.714286  | 0.2       | 0.246377  |\n",
      "Evaluating in combined mode on test set\n",
      "|                     |         0 |        1 |        2 |\n",
      "|:--------------------|----------:|---------:|---------:|\n",
      "| hamming loss        | 0.0963855 | 0.192771 | 0.218876 |\n",
      "| zero_one_loss       | 0.192771  | 0.626506 | 0.746988 |\n",
      "| one_error           | 0         | 0        | 0        |\n",
      "| micro av. jaccard   | 0.36      | 0.255814 | 0.263514 |\n",
      "| macro av. jaccard   | 0.636364  | 0.380682 | 0.308275 |\n",
      "| micro av. precision | 0.5       | 0.431373 | 0.443182 |\n",
      "| macro av. precision | 0.7       | 0.454839 | 0.38193  |\n",
      "| micro av. recall    | 0.5625    | 0.385965 | 0.393939 |\n",
      "| macro av. recall    | 0.730769  | 0.460973 | 0.393174 |\n",
      "| micro av. f1        | 0.529412  | 0.407407 | 0.417112 |\n",
      "| macro av. f1        | 0.714286  | 0.457143 | 0.386888 |\n",
      "Number of Tasks: 3\n",
      "Forgetting in task 1: first time micro av. f1 = 0.5405, after all tasks micro av. f1 = 0.5294\n",
      "Forgetting in task 2: first time micro av. f1 = 0.3684, after all tasks micro av. f1 = 0.5294\n",
      "Forgetting in task 3: first time micro av. f1 = 0.4304, after all tasks micro av. f1 = 0.5294\n"
     ]
    },
    {
     "data": {
      "image/png": "[encoded data removed]",
      "text/plain": [
       "<Figure size 360x360 with 1 Axes>"
      ]
     },
     "metadata": {
      "needs_background": "light"
     },
     "output_type": "display_data"
    }
   ],
   "source": [
    "hparams_dict = {\n",
    "    'inputs': 300,\n",
    "    'outputs': 6,\n",
    "    'time_constant': 300,\n",
    "    'alpha_a': 0.38,\n",
    "    'alpha_m': 0.07,\n",
    "    'w_max': 100.0,\n",
    "    'w_min': -100.0,\n",
    "    'lr': 5e-3,\n",
    "    'sim_time': 600,\n",
    "    'n_epochs': 2500,\n",
    "    'print_every': 500,\n",
    "    'name': 'Virus',\n",
    "    'tasks': {'samples': None, 'labels': [2, 2, 2]},\n",
    "    'seed': 2,\n",
    "    'ckpt_dir': './checkpoints/virus',\n",
    "    'load_from_file': None,\n",
    "    'device': device\n",
    "}\n",
    "net = OverallSNN(hparams_dict)\n",
    "net.fit_and_evaluate(train_spikes, train_labels, test_spikes, test_labels)"
   ]
  },
  {
   "cell_type": "code",
   "execution_count": 4,
   "metadata": {},
   "outputs": [
    {
     "name": "stdout",
     "output_type": "stream",
     "text": [
      "Training and Evaluating on task 1\n",
      "Train data shape is  (124, 1, 300)\n",
      "Train Labels shape is  (124, 2)\n",
      "Classes trained are: 0 to 2\n"
     ]
    },
    {
     "name": "stderr",
     "output_type": "stream",
     "text": [
      "  0%|          | 0/2500 [00:00<?, ?it/s]"
     ]
    },
    {
     "name": "stdout",
     "output_type": "stream",
     "text": [
      "Class 0, class 1 neurons = 27, class 0 neurons = 26\n",
      "Class 1, class 1 neurons = 10, class 0 neurons = 24\n"
     ]
    },
    {
     "name": "stderr",
     "output_type": "stream",
     "text": [
      "100%|██████████| 2500/2500 [58:39<00:00,  1.41s/it]\n"
     ]
    },
    {
     "name": "stdout",
     "output_type": "stream",
     "text": [
      "Evaluating in individual mode on test set\n",
      "multilabel-indicator multilabel-indicator\n",
      "uint8 int64\n",
      "(83, 2) (83, 2)\n",
      "|                     |         0 |\n",
      "|:--------------------|----------:|\n",
      "| hamming loss        | 0.313253  |\n",
      "| zero_one_loss       | 0.566265  |\n",
      "| one_error           | 0.060241  |\n",
      "| micro av. jaccard   | 0.16129   |\n",
      "| macro av. jaccard   | 0.0961538 |\n",
      "| micro av. precision | 0.344828  |\n",
      "| macro av. precision | 0.178571  |\n",
      "| micro av. recall    | 0.232558  |\n",
      "| macro av. recall    | 0.147059  |\n",
      "| micro av. f1        | 0.277778  |\n",
      "| macro av. f1        | 0.16129   |\n",
      "Evaluating in combined mode on test set\n",
      "multilabel-indicator multilabel-indicator\n",
      "uint8 int64\n",
      "(83, 2) (83, 2)\n",
      "|                     |         0 |\n",
      "|:--------------------|----------:|\n",
      "| hamming loss        | 0.313253  |\n",
      "| zero_one_loss       | 0.566265  |\n",
      "| one_error           | 0.060241  |\n",
      "| micro av. jaccard   | 0.16129   |\n",
      "| macro av. jaccard   | 0.0961538 |\n",
      "| micro av. precision | 0.344828  |\n",
      "| macro av. precision | 0.178571  |\n",
      "| micro av. recall    | 0.232558  |\n",
      "| macro av. recall    | 0.147059  |\n",
      "| micro av. f1        | 0.277778  |\n",
      "| macro av. f1        | 0.16129   |\n",
      "Training and Evaluating on task 2\n",
      "Train data shape is  (124, 1, 300)\n",
      "Train Labels shape is  (124, 2)\n",
      "Classes trained are: 2 to 4\n",
      "Augmenting class labels...\n",
      "Train Labels shape is  (124, 4)\n"
     ]
    },
    {
     "name": "stderr",
     "output_type": "stream",
     "text": [
      "  0%|          | 0/2500 [00:00<?, ?it/s]"
     ]
    },
    {
     "name": "stdout",
     "output_type": "stream",
     "text": [
      "Class 0, class 1 neurons = 28, class 0 neurons = 34\n",
      "Class 1, class 1 neurons = 10, class 0 neurons = 38\n",
      "Class 2, class 1 neurons = 19, class 0 neurons = 29\n",
      "Class 3, class 1 neurons = 5, class 0 neurons = 33\n"
     ]
    },
    {
     "name": "stderr",
     "output_type": "stream",
     "text": [
      "100%|██████████| 2500/2500 [1:41:51<00:00,  2.44s/it]\n"
     ]
    },
    {
     "name": "stdout",
     "output_type": "stream",
     "text": [
      "Evaluating in individual mode on test set\n",
      "multilabel-indicator multilabel-indicator\n",
      "uint8 int64\n",
      "(83, 2) (83, 2)\n",
      "|                     |         0 |\n",
      "|:--------------------|----------:|\n",
      "| hamming loss        | 0.307229  |\n",
      "| zero_one_loss       | 0.518072  |\n",
      "| one_error           | 0.0963855 |\n",
      "| micro av. jaccard   | 0.32      |\n",
      "| macro av. jaccard   | 0.315635  |\n",
      "| micro av. precision | 0.45283   |\n",
      "| macro av. precision | 0.441993  |\n",
      "| micro av. recall    | 0.521739  |\n",
      "| macro av. recall    | 0.526807  |\n",
      "| micro av. f1        | 0.484848  |\n",
      "| macro av. f1        | 0.47971   |\n",
      "Evaluating in combined mode on test set\n",
      "multilabel-indicator multilabel-indicator\n",
      "uint8 int64\n",
      "(83, 4) (83, 4)\n",
      "|                     |        0 |\n",
      "|:--------------------|---------:|\n",
      "| hamming loss        | 0.319277 |\n",
      "| zero_one_loss       | 0.759036 |\n",
      "| one_error           | 0        |\n",
      "| micro av. jaccard   | 0.242857 |\n",
      "| macro av. jaccard   | 0.203272 |\n",
      "| micro av. precision | 0.4      |\n",
      "| macro av. precision | 0.301642 |\n",
      "| micro av. recall    | 0.382022 |\n",
      "| macro av. recall    | 0.336933 |\n",
      "| micro av. f1        | 0.390805 |\n",
      "| macro av. f1        | 0.316778 |\n",
      "Training and Evaluating on task 3\n",
      "Train data shape is  (124, 1, 300)\n",
      "Train Labels shape is  (124, 2)\n",
      "Classes trained are: 4 to 6\n",
      "Augmenting class labels...\n",
      "Train Labels shape is  (124, 6)\n"
     ]
    },
    {
     "name": "stderr",
     "output_type": "stream",
     "text": [
      "  0%|          | 0/2500 [00:00<?, ?it/s]"
     ]
    },
    {
     "name": "stdout",
     "output_type": "stream",
     "text": [
      "Class 0, class 1 neurons = 30, class 0 neurons = 36\n",
      "Class 1, class 1 neurons = 10, class 0 neurons = 38\n",
      "Class 2, class 1 neurons = 20, class 0 neurons = 36\n",
      "Class 3, class 1 neurons = 10, class 0 neurons = 51\n",
      "Class 4, class 1 neurons = 1, class 0 neurons = 21\n",
      "Class 5, class 1 neurons = 9, class 0 neurons = 21\n"
     ]
    },
    {
     "name": "stderr",
     "output_type": "stream",
     "text": [
      "100%|██████████| 2500/2500 [2:25:56<00:00,  3.50s/it]  \n"
     ]
    },
    {
     "name": "stdout",
     "output_type": "stream",
     "text": [
      "Evaluating in individual mode on test set\n",
      "multilabel-indicator multilabel-indicator\n",
      "uint8 int64\n",
      "(83, 2) (83, 2)\n",
      "|                     |         0 |\n",
      "|:--------------------|----------:|\n",
      "| hamming loss        | 0.0542169 |\n",
      "| zero_one_loss       | 0.108434  |\n",
      "| one_error           | 0         |\n",
      "| micro av. jaccard   | 0.25      |\n",
      "| macro av. jaccard   | 0.5       |\n",
      "| micro av. precision | 0.6       |\n",
      "| macro av. precision | 0.5       |\n",
      "| micro av. recall    | 0.3       |\n",
      "| macro av. recall    | 0.5       |\n",
      "| micro av. f1        | 0.4       |\n",
      "| macro av. f1        | 0.5       |\n",
      "Evaluating in combined mode on test set\n",
      "multilabel-indicator multilabel-indicator\n",
      "uint8 int64\n",
      "(83, 6) (83, 6)\n",
      "|                     |        0 |\n",
      "|:--------------------|---------:|\n",
      "| hamming loss        | 0.23494  |\n",
      "| zero_one_loss       | 0.795181 |\n",
      "| one_error           | 0        |\n",
      "| micro av. jaccard   | 0.225166 |\n",
      "| macro av. jaccard   | 0.289468 |\n",
      "| micro av. precision | 0.395349 |\n",
      "| macro av. precision | 0.358688 |\n",
      "| micro av. recall    | 0.343434 |\n",
      "| macro av. recall    | 0.368367 |\n",
      "| micro av. f1        | 0.367568 |\n",
      "| macro av. f1        | 0.362672 |\n",
      "Evaluating in individual mode on test set\n",
      "|                     |         0 |         1 |         2 |\n",
      "|:--------------------|----------:|----------:|----------:|\n",
      "| hamming loss        | 0.331325  | 0.319277  | 0.0542169 |\n",
      "| zero_one_loss       | 0.60241   | 0.554217  | 0.108434  |\n",
      "| one_error           | 0.060241  | 0.0843373 | 0         |\n",
      "| micro av. jaccard   | 0.153846  | 0.283784  | 0.25      |\n",
      "| macro av. jaccard   | 0.0909091 | 0.277494  | 0.5       |\n",
      "| micro av. precision | 0.3125    | 0.428571  | 0.6       |\n",
      "| macro av. precision | 0.16129   | 0.414773  | 0.5       |\n",
      "| micro av. recall    | 0.232558  | 0.456522  | 0.3       |\n",
      "| macro av. recall    | 0.147059  | 0.458042  | 0.5       |\n",
      "| micro av. f1        | 0.266667  | 0.442105  | 0.4       |\n",
      "| macro av. f1        | 0.153846  | 0.434169  | 0.5       |\n",
      "Evaluating in combined mode on test set\n",
      "|                     |         0 |        1 |        2 |\n",
      "|:--------------------|----------:|---------:|---------:|\n",
      "| hamming loss        | 0.331325  | 0.325301 | 0.23494  |\n",
      "| zero_one_loss       | 0.60241   | 0.783133 | 0.795181 |\n",
      "| one_error           | 0.060241  | 0        | 0        |\n",
      "| micro av. jaccard   | 0.153846  | 0.223022 | 0.225166 |\n",
      "| macro av. jaccard   | 0.0909091 | 0.184201 | 0.289468 |\n",
      "| micro av. precision | 0.3125    | 0.382716 | 0.395349 |\n",
      "| macro av. precision | 0.16129   | 0.288032 | 0.358688 |\n",
      "| micro av. recall    | 0.232558  | 0.348315 | 0.343434 |\n",
      "| macro av. recall    | 0.147059  | 0.30255  | 0.368367 |\n",
      "| micro av. f1        | 0.266667  | 0.364706 | 0.367568 |\n",
      "| macro av. f1        | 0.153846  | 0.294008 | 0.362672 |\n",
      "Number of Tasks: 3\n",
      "Forgetting in task 1: first time micro av. f1 = 0.2778, after all tasks micro av. f1 = 0.2667\n",
      "Forgetting in task 2: first time micro av. f1 = 0.4848, after all tasks micro av. f1 = 0.2667\n",
      "Forgetting in task 3: first time micro av. f1 = 0.4000, after all tasks micro av. f1 = 0.2667\n"
     ]
    },
    {
     "data": {
      "image/png": "[encoded data removed]",
      "text/plain": [
       "<Figure size 360x360 with 1 Axes>"
      ]
     },
     "metadata": {
      "needs_background": "light"
     },
     "output_type": "display_data"
    }
   ],
   "source": [
    "hparams_dict = {\n",
    "    'inputs': 300,\n",
    "    'outputs': 6,\n",
    "    'time_constant': 300,\n",
    "    'alpha_a': 0.38,\n",
    "    'alpha_m': 0.07,\n",
    "    'w_max': 100.0,\n",
    "    'w_min': -100.0,\n",
    "    'lr': 5e-3,\n",
    "    'sim_time': 600,\n",
    "    'n_epochs': 2500,\n",
    "    'print_every': 500,\n",
    "    'name': 'Virus',\n",
    "    'tasks': {'samples': None, 'labels': [2, 2, 2]},\n",
    "    'seed': 3,\n",
    "    'ckpt_dir': './checkpoints/virus',\n",
    "    'load_from_file': None,\n",
    "    'device': device\n",
    "}\n",
    "net = OverallSNN(hparams_dict)\n",
    "net.fit_and_evaluate(train_spikes, train_labels, test_spikes, test_labels)"
   ]
  },
  {
   "cell_type": "code",
   "execution_count": 5,
   "metadata": {},
   "outputs": [
    {
     "name": "stdout",
     "output_type": "stream",
     "text": [
      "Training and Evaluating on task 1\n",
      "Train data shape is  (124, 1, 300)\n",
      "Train Labels shape is  (124, 2)\n",
      "Classes trained are: 0 to 2\n"
     ]
    },
    {
     "name": "stderr",
     "output_type": "stream",
     "text": [
      "  0%|          | 0/2500 [00:00<?, ?it/s]"
     ]
    },
    {
     "name": "stdout",
     "output_type": "stream",
     "text": [
      "Class 0, class 1 neurons = 19, class 0 neurons = 29\n",
      "Class 1, class 1 neurons = 10, class 0 neurons = 24\n"
     ]
    },
    {
     "name": "stderr",
     "output_type": "stream",
     "text": [
      "100%|██████████| 2500/2500 [44:17<00:00,  1.06s/it]\n"
     ]
    },
    {
     "name": "stdout",
     "output_type": "stream",
     "text": [
      "Evaluating in individual mode on test set\n",
      "multilabel-indicator multilabel-indicator\n",
      "uint8 int64\n",
      "(83, 2) (83, 2)\n",
      "|                     |         0 |\n",
      "|:--------------------|----------:|\n",
      "| hamming loss        | 0.283133  |\n",
      "| zero_one_loss       | 0.518072  |\n",
      "| one_error           | 0.0481928 |\n",
      "| micro av. jaccard   | 0.265625  |\n",
      "| macro av. jaccard   | 0.157407  |\n",
      "| micro av. precision | 0.435897  |\n",
      "| macro av. precision | 0.223684  |\n",
      "| micro av. recall    | 0.404762  |\n",
      "| macro av. recall    | 0.257576  |\n",
      "| micro av. f1        | 0.419753  |\n",
      "| macro av. f1        | 0.239437  |\n",
      "Evaluating in combined mode on test set\n",
      "multilabel-indicator multilabel-indicator\n",
      "uint8 int64\n",
      "(83, 2) (83, 2)\n",
      "|                     |         0 |\n",
      "|:--------------------|----------:|\n",
      "| hamming loss        | 0.283133  |\n",
      "| zero_one_loss       | 0.518072  |\n",
      "| one_error           | 0.0481928 |\n",
      "| micro av. jaccard   | 0.265625  |\n",
      "| macro av. jaccard   | 0.157407  |\n",
      "| micro av. precision | 0.435897  |\n",
      "| macro av. precision | 0.223684  |\n",
      "| micro av. recall    | 0.404762  |\n",
      "| macro av. recall    | 0.257576  |\n",
      "| micro av. f1        | 0.419753  |\n",
      "| macro av. f1        | 0.239437  |\n",
      "Training and Evaluating on task 2\n",
      "Train data shape is  (124, 1, 300)\n",
      "Train Labels shape is  (124, 2)\n",
      "Classes trained are: 2 to 4\n",
      "Augmenting class labels...\n",
      "Train Labels shape is  (124, 4)\n"
     ]
    },
    {
     "name": "stderr",
     "output_type": "stream",
     "text": [
      "  0%|          | 0/2500 [00:00<?, ?it/s]"
     ]
    },
    {
     "name": "stdout",
     "output_type": "stream",
     "text": [
      "Class 0, class 1 neurons = 20, class 0 neurons = 36\n",
      "Class 1, class 1 neurons = 10, class 0 neurons = 38\n",
      "Class 2, class 1 neurons = 27, class 0 neurons = 26\n",
      "Class 3, class 1 neurons = 1, class 0 neurons = 21\n"
     ]
    },
    {
     "name": "stderr",
     "output_type": "stream",
     "text": [
      "100%|██████████| 2500/2500 [1:33:36<00:00,  2.25s/it]\n"
     ]
    },
    {
     "name": "stdout",
     "output_type": "stream",
     "text": [
      "Evaluating in individual mode on test set\n",
      "multilabel-indicator multilabel-indicator\n",
      "uint8 int64\n",
      "(83, 2) (83, 2)\n",
      "|                     |        0 |\n",
      "|:--------------------|---------:|\n",
      "| hamming loss        | 0.26506  |\n",
      "| zero_one_loss       | 0.53012  |\n",
      "| one_error           | 0        |\n",
      "| micro av. jaccard   | 0.241379 |\n",
      "| macro av. jaccard   | 0.6      |\n",
      "| micro av. precision | 0.4      |\n",
      "| macro av. precision | 0.671875 |\n",
      "| micro av. recall    | 0.378378 |\n",
      "| macro av. recall    | 0.661765 |\n",
      "| micro av. f1        | 0.388889 |\n",
      "| macro av. f1        | 0.666667 |\n",
      "Evaluating in combined mode on test set\n",
      "multilabel-indicator multilabel-indicator\n",
      "uint8 int64\n",
      "(83, 4) (83, 4)\n",
      "|                     |        0 |\n",
      "|:--------------------|---------:|\n",
      "| hamming loss        | 0.271084 |\n",
      "| zero_one_loss       | 0.710843 |\n",
      "| one_error           | 0        |\n",
      "| micro av. jaccard   | 0.256198 |\n",
      "| macro av. jaccard   | 0.380189 |\n",
      "| micro av. precision | 0.424658 |\n",
      "| macro av. precision | 0.450802 |\n",
      "| micro av. recall    | 0.392405 |\n",
      "| macro av. recall    | 0.45967  |\n",
      "| micro av. f1        | 0.407895 |\n",
      "| macro av. f1        | 0.454762 |\n",
      "Training and Evaluating on task 3\n",
      "Train data shape is  (124, 1, 300)\n",
      "Train Labels shape is  (124, 2)\n",
      "Classes trained are: 4 to 6\n",
      "Augmenting class labels...\n",
      "Train Labels shape is  (124, 6)\n"
     ]
    },
    {
     "name": "stderr",
     "output_type": "stream",
     "text": [
      "  0%|          | 0/2500 [00:00<?, ?it/s]"
     ]
    },
    {
     "name": "stdout",
     "output_type": "stream",
     "text": [
      "Class 0, class 1 neurons = 20, class 0 neurons = 42\n",
      "Class 1, class 1 neurons = 10, class 0 neurons = 38\n",
      "Class 2, class 1 neurons = 28, class 0 neurons = 34\n",
      "Class 3, class 1 neurons = 1, class 0 neurons = 55\n",
      "Class 4, class 1 neurons = 5, class 0 neurons = 33\n",
      "Class 5, class 1 neurons = 9, class 0 neurons = 21\n"
     ]
    },
    {
     "name": "stderr",
     "output_type": "stream",
     "text": [
      "100%|██████████| 2500/2500 [2:32:36<00:00,  3.66s/it]  \n"
     ]
    },
    {
     "name": "stdout",
     "output_type": "stream",
     "text": [
      "Evaluating in individual mode on test set\n",
      "multilabel-indicator multilabel-indicator\n",
      "uint8 int64\n",
      "(83, 2) (83, 2)\n",
      "|                     |         0 |\n",
      "|:--------------------|----------:|\n",
      "| hamming loss        | 0.150602  |\n",
      "| zero_one_loss       | 0.253012  |\n",
      "| one_error           | 0.0481928 |\n",
      "| micro av. jaccard   | 0.21875   |\n",
      "| macro av. jaccard   | 0.152174  |\n",
      "| micro av. precision | 0.368421  |\n",
      "| macro av. precision | 0.205882  |\n",
      "| micro av. recall    | 0.35      |\n",
      "| macro av. recall    | 0.269231  |\n",
      "| micro av. f1        | 0.358974  |\n",
      "| macro av. f1        | 0.233333  |\n",
      "Evaluating in combined mode on test set\n",
      "multilabel-indicator multilabel-indicator\n",
      "uint8 int64\n",
      "(83, 6) (83, 6)\n",
      "|                     |        0 |\n",
      "|:--------------------|---------:|\n",
      "| hamming loss        | 0.232932 |\n",
      "| zero_one_loss       | 0.759036 |\n",
      "| one_error           | 0        |\n",
      "| micro av. jaccard   | 0.24183  |\n",
      "| macro av. jaccard   | 0.301153 |\n",
      "| micro av. precision | 0.406593 |\n",
      "| macro av. precision | 0.365634 |\n",
      "| micro av. recall    | 0.373737 |\n",
      "| macro av. recall    | 0.391288 |\n",
      "| micro av. f1        | 0.389474 |\n",
      "| macro av. f1        | 0.376679 |\n",
      "Evaluating in individual mode on test set\n",
      "|                     |         0 |        1 |         2 |\n",
      "|:--------------------|----------:|---------:|----------:|\n",
      "| hamming loss        | 0.277108  | 0.271084 | 0.150602  |\n",
      "| zero_one_loss       | 0.506024  | 0.542169 | 0.253012  |\n",
      "| one_error           | 0.0481928 | 0        | 0.0481928 |\n",
      "| micro av. jaccard   | 0.269841  | 0.224138 | 0.21875   |\n",
      "| macro av. jaccard   | 0.160377  | 0.590909 | 0.152174  |\n",
      "| micro av. precision | 0.447368  | 0.382353 | 0.368421  |\n",
      "| macro av. precision | 0.22973   | 0.66129  | 0.205882  |\n",
      "| micro av. recall    | 0.404762  | 0.351351 | 0.35      |\n",
      "| macro av. recall    | 0.257576  | 0.647059 | 0.269231  |\n",
      "| micro av. f1        | 0.425     | 0.366197 | 0.358974  |\n",
      "| macro av. f1        | 0.242857  | 0.653846 | 0.233333  |\n",
      "Evaluating in combined mode on test set\n",
      "|                     |         0 |        1 |        2 |\n",
      "|:--------------------|----------:|---------:|---------:|\n",
      "| hamming loss        | 0.277108  | 0.274096 | 0.232932 |\n",
      "| zero_one_loss       | 0.506024  | 0.710843 | 0.759036 |\n",
      "| one_error           | 0.0481928 | 0        | 0        |\n",
      "| micro av. jaccard   | 0.269841  | 0.247934 | 0.24183  |\n",
      "| macro av. jaccard   | 0.160377  | 0.375643 | 0.301153 |\n",
      "| micro av. precision | 0.447368  | 0.416667 | 0.406593 |\n",
      "| macro av. precision | 0.22973   | 0.44551  | 0.365634 |\n",
      "| micro av. recall    | 0.404762  | 0.379747 | 0.373737 |\n",
      "| macro av. recall    | 0.257576  | 0.452317 | 0.391288 |\n",
      "| micro av. f1        | 0.425     | 0.397351 | 0.389474 |\n",
      "| macro av. f1        | 0.242857  | 0.448352 | 0.376679 |\n",
      "Number of Tasks: 3\n",
      "Forgetting in task 1: first time micro av. f1 = 0.4198, after all tasks micro av. f1 = 0.4250\n",
      "Forgetting in task 2: first time micro av. f1 = 0.3889, after all tasks micro av. f1 = 0.4250\n",
      "Forgetting in task 3: first time micro av. f1 = 0.3590, after all tasks micro av. f1 = 0.4250\n"
     ]
    },
    {
     "data": {
      "image/png": "[encoded data removed]",
      "text/plain": [
       "<Figure size 360x360 with 1 Axes>"
      ]
     },
     "metadata": {
      "needs_background": "light"
     },
     "output_type": "display_data"
    }
   ],
   "source": [
    "hparams_dict = {\n",
    "    'inputs': 300,\n",
    "    'outputs': 6,\n",
    "    'time_constant': 300,\n",
    "    'alpha_a': 0.38,\n",
    "    'alpha_m': 0.07,\n",
    "    'w_max': 100.0,\n",
    "    'w_min': -100.0,\n",
    "    'lr': 5e-3,\n",
    "    'sim_time': 600,\n",
    "    'n_epochs': 2500,\n",
    "    'print_every': 500,\n",
    "    'name': 'Virus',\n",
    "    'tasks': {'samples': None, 'labels': [2, 2, 2]},\n",
    "    'seed': 4,\n",
    "    'ckpt_dir': './checkpoints/virus',\n",
    "    'load_from_file': None,\n",
    "    'device': device\n",
    "}\n",
    "net = OverallSNN(hparams_dict)\n",
    "net.fit_and_evaluate(train_spikes, train_labels, test_spikes, test_labels)"
   ]
  }
 ],
 "metadata": {
  "kernelspec": {
   "display_name": "DL_gpu",
   "language": "python",
   "name": "dl_gpu"
  },
  "language_info": {
   "codemirror_mode": {
    "name": "ipython",
    "version": 3
   },
   "file_extension": ".py",
   "mimetype": "text/x-python",
   "name": "python",
   "nbconvert_exporter": "python",
   "pygments_lexer": "ipython3",
   "version": "3.7.7"
  }
 },
 "nbformat": 4,
 "nbformat_minor": 4
}
