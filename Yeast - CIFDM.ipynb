{
 "cells": [
  {
   "cell_type": "code",
   "execution_count": 1,
   "metadata": {},
   "outputs": [],
   "source": [
    "from ContinualEvolvingSNN import *\n",
    "import arff\n",
    "import warnings\n",
    "from scipy.io import loadmat\n",
    "from utils import *\n",
    "warnings.filterwarnings(\"ignore\")\n",
    "%matplotlib inline\n",
    "np.random.seed(0)\n",
    "torch.manual_seed(0)\n",
    "torch.cuda.manual_seed(0)\n",
    "device = torch.device('cuda:0' if torch.cuda.is_available() else 'cpu')"
   ]
  },
  {
   "cell_type": "markdown",
   "metadata": {},
   "source": [
    "## Load Data and Convert to Spikes"
   ]
  },
  {
   "cell_type": "code",
   "execution_count": 2,
   "metadata": {},
   "outputs": [
    {
     "name": "stderr",
     "output_type": "stream",
     "text": [
      "100%|██████████| 1500/1500 [00:00<00:00, 9151.29it/s]\n",
      "100%|██████████| 917/917 [00:00<00:00, 9299.87it/s]"
     ]
    },
    {
     "name": "stdout",
     "output_type": "stream",
     "text": [
      "Train data shape:  (1500, 1, 618)\n",
      "Train labels shape:  (1500, 14)\n",
      "Test data shape:  (917, 1, 618)\n",
      "Test labels shape:  (917, 14)\n"
     ]
    },
    {
     "name": "stderr",
     "output_type": "stream",
     "text": [
      "\n"
     ]
    }
   ],
   "source": [
    "train_path = '../datasets/yeast/yeast-train.arff'\n",
    "test_path = '../datasets/yeast/yeast-test.arff'\n",
    "num_features = 103\n",
    "train_data = arff.load(open(train_path, 'rt'))\n",
    "train_data = np.array(train_data['data']).astype(np.float32)\n",
    "test_data = arff.load(open(test_path, 'rt'))\n",
    "test_data = np.array(test_data['data']).astype(np.float32)\n",
    "a = train_data[:, :num_features].max(axis=0)\n",
    "b = train_data[:, :num_features].min(axis=0)\n",
    "\n",
    "train_spikes, train_labels = encode_data_to_spikes(train_data, device, num_features, a, b)\n",
    "test_spikes, test_labels = encode_data_to_spikes(test_data, device, num_features, a, b)\n",
    "print(\"Train data shape: \", np.array(train_spikes).shape)\n",
    "print(\"Train labels shape: \", np.array(train_labels).shape)\n",
    "print(\"Test data shape: \", np.array(test_spikes).shape)\n",
    "print(\"Test labels shape: \", np.array(test_labels).shape)"
   ]
  },
  {
   "cell_type": "code",
   "execution_count": 3,
   "metadata": {},
   "outputs": [
    {
     "name": "stderr",
     "output_type": "stream",
     "text": [
      "  0%|          | 3/997 [00:00<00:01, 727.93it/s]\n"
     ]
    },
    {
     "data": {
      "text/plain": [
       "[3, 4, 5, 6]"
      ]
     },
     "execution_count": 3,
     "metadata": {},
     "output_type": "execute_result"
    }
   ],
   "source": [
    "samples = [500, 500, 500]\n",
    "labels = [7, 3, 3]\n",
    "seeds = return_seed(samples, labels, train_labels)\n",
    "seeds"
   ]
  },
  {
   "cell_type": "markdown",
   "metadata": {},
   "source": [
    "## CIFDM Training and Evaluation Mode"
   ]
  },
  {
   "cell_type": "code",
   "execution_count": 4,
   "metadata": {},
   "outputs": [
    {
     "name": "stdout",
     "output_type": "stream",
     "text": [
      "Training and Evaluating on task 1\n",
      "Train data shape is  (500, 1, 618)\n",
      "Train Labels shape is  (500, 7)\n",
      "Classes trained are: 0 to 7\n"
     ]
    },
    {
     "name": "stderr",
     "output_type": "stream",
     "text": [
      "  0%|          | 0/100 [00:00<?, ?it/s]"
     ]
    },
    {
     "name": "stdout",
     "output_type": "stream",
     "text": [
      "Class 0, class 1 neurons = 2, class 0 neurons = 1\n",
      "Class 1, class 1 neurons = 2, class 0 neurons = 1\n",
      "Class 2, class 1 neurons = 2, class 0 neurons = 1\n",
      "Class 3, class 1 neurons = 1, class 0 neurons = 1\n",
      "Class 4, class 1 neurons = 2, class 0 neurons = 1\n",
      "Class 5, class 1 neurons = 2, class 0 neurons = 1\n",
      "Class 6, class 1 neurons = 1, class 0 neurons = 2\n"
     ]
    },
    {
     "name": "stderr",
     "output_type": "stream",
     "text": [
      "100%|██████████| 100/100 [07:20<00:00,  4.41s/it]\n"
     ]
    },
    {
     "name": "stdout",
     "output_type": "stream",
     "text": [
      "Evaluating in individual mode on test set\n",
      "multilabel-indicator multilabel-indicator\n",
      "float32 int64\n",
      "(917, 7) (917, 7)\n",
      "|                     |        0 |\n",
      "|:--------------------|---------:|\n",
      "| hamming loss        | 0.21265  |\n",
      "| zero_one_loss       | 0.778626 |\n",
      "| one_error           | 0        |\n",
      "| micro av. jaccard   | 0.461963 |\n",
      "| macro av. jaccard   | 0.233206 |\n",
      "| micro av. precision | 0.677848 |\n",
      "| macro av. precision | 0.278123 |\n",
      "| micro av. recall    | 0.591919 |\n",
      "| macro av. recall    | 0.320742 |\n",
      "| micro av. f1        | 0.631976 |\n",
      "| macro av. f1        | 0.296829 |\n",
      "Evaluating in combined mode on test set\n",
      "multilabel-indicator multilabel-indicator\n",
      "float32 int64\n",
      "(917, 7) (917, 7)\n",
      "|                     |        0 |\n",
      "|:--------------------|---------:|\n",
      "| hamming loss        | 0.21265  |\n",
      "| zero_one_loss       | 0.778626 |\n",
      "| one_error           | 0        |\n",
      "| micro av. jaccard   | 0.461963 |\n",
      "| macro av. jaccard   | 0.233206 |\n",
      "| micro av. precision | 0.677848 |\n",
      "| macro av. precision | 0.278123 |\n",
      "| micro av. recall    | 0.591919 |\n",
      "| macro av. recall    | 0.320742 |\n",
      "| micro av. f1        | 0.631976 |\n",
      "| macro av. f1        | 0.296829 |\n",
      "Training and Evaluating on task 2\n",
      "Train data shape is  (500, 1, 618)\n",
      "Train Labels shape is  (500, 3)\n",
      "Classes trained are: 7 to 10\n",
      "Augmenting class labels...\n",
      "Train Labels shape is  (500, 10)\n"
     ]
    },
    {
     "name": "stderr",
     "output_type": "stream",
     "text": [
      "  0%|          | 0/100 [00:00<?, ?it/s]"
     ]
    },
    {
     "name": "stdout",
     "output_type": "stream",
     "text": [
      "Class 0, class 1 neurons = 2, class 0 neurons = 1\n",
      "Class 1, class 1 neurons = 4, class 0 neurons = 2\n",
      "Class 2, class 1 neurons = 2, class 0 neurons = 1\n",
      "Class 3, class 1 neurons = 2, class 0 neurons = 2\n",
      "Class 4, class 1 neurons = 2, class 0 neurons = 1\n",
      "Class 5, class 1 neurons = 2, class 0 neurons = 1\n",
      "Class 6, class 1 neurons = 1, class 0 neurons = 2\n",
      "Class 7, class 1 neurons = 2, class 0 neurons = 1\n",
      "Class 8, class 1 neurons = 2, class 0 neurons = 1\n",
      "Class 9, class 1 neurons = 2, class 0 neurons = 1\n"
     ]
    },
    {
     "name": "stderr",
     "output_type": "stream",
     "text": [
      "100%|██████████| 100/100 [10:32<00:00,  6.33s/it]\n"
     ]
    },
    {
     "name": "stdout",
     "output_type": "stream",
     "text": [
      "Evaluating in individual mode on test set\n",
      "multilabel-indicator multilabel-indicator\n",
      "float32 int64\n",
      "(917, 3) (917, 3)\n",
      "|                     |          0 |\n",
      "|:--------------------|-----------:|\n",
      "| hamming loss        | 0.145402   |\n",
      "| zero_one_loss       | 0.363141   |\n",
      "| one_error           | 0.00436205 |\n",
      "| micro av. jaccard   | 0.275362   |\n",
      "| macro av. jaccard   | 0.133333   |\n",
      "| micro av. precision | 0.605578   |\n",
      "| macro av. precision | 0.201859   |\n",
      "| micro av. recall    | 0.335541   |\n",
      "| macro av. recall    | 0.180308   |\n",
      "| micro av. f1        | 0.431818   |\n",
      "| macro av. f1        | 0.190476   |\n",
      "Evaluating in combined mode on test set\n",
      "multilabel-indicator multilabel-indicator\n",
      "float32 int64\n",
      "(917, 10) (917, 10)\n",
      "|                     |        0 |\n",
      "|:--------------------|---------:|\n",
      "| hamming loss        | 0.193784 |\n",
      "| zero_one_loss       | 0.812432 |\n",
      "| one_error           | 0        |\n",
      "| micro av. jaccard   | 0.426589 |\n",
      "| macro av. jaccard   | 0.201908 |\n",
      "| micro av. precision | 0.66499  |\n",
      "| macro av. precision | 0.253807 |\n",
      "| micro av. recall    | 0.543362 |\n",
      "| macro av. recall    | 0.278045 |\n",
      "| micro av. f1        | 0.598055 |\n",
      "| macro av. f1        | 0.263809 |\n",
      "Training and Evaluating on task 3\n",
      "Train data shape is  (500, 1, 618)\n",
      "Train Labels shape is  (500, 3)\n",
      "Classes trained are: 10 to 13\n",
      "Augmenting class labels...\n",
      "Train Labels shape is  (500, 13)\n"
     ]
    },
    {
     "name": "stderr",
     "output_type": "stream",
     "text": [
      "  0%|          | 0/100 [00:00<?, ?it/s]"
     ]
    },
    {
     "name": "stdout",
     "output_type": "stream",
     "text": [
      "Class 0, class 1 neurons = 2, class 0 neurons = 1\n",
      "Class 1, class 1 neurons = 6, class 0 neurons = 4\n",
      "Class 2, class 1 neurons = 2, class 0 neurons = 1\n",
      "Class 3, class 1 neurons = 3, class 0 neurons = 3\n",
      "Class 4, class 1 neurons = 2, class 0 neurons = 1\n",
      "Class 5, class 1 neurons = 2, class 0 neurons = 1\n",
      "Class 6, class 1 neurons = 1, class 0 neurons = 2\n",
      "Class 7, class 1 neurons = 4, class 0 neurons = 2\n",
      "Class 8, class 1 neurons = 2, class 0 neurons = 1\n",
      "Class 9, class 1 neurons = 2, class 0 neurons = 1\n",
      "Class 10, class 1 neurons = 2, class 0 neurons = 1\n",
      "Class 11, class 1 neurons = 1, class 0 neurons = 2\n",
      "Class 12, class 1 neurons = 2, class 0 neurons = 1\n"
     ]
    },
    {
     "name": "stderr",
     "output_type": "stream",
     "text": [
      "100%|██████████| 100/100 [14:20<00:00,  8.61s/it]\n"
     ]
    },
    {
     "name": "stdout",
     "output_type": "stream",
     "text": [
      "Evaluating in individual mode on test set\n",
      "multilabel-indicator multilabel-indicator\n",
      "float32 int64\n",
      "(917, 3) (917, 3)\n",
      "|                     |         0 |\n",
      "|:--------------------|----------:|\n",
      "| hamming loss        | 0.227554  |\n",
      "| zero_one_loss       | 0.534351  |\n",
      "| one_error           | 0.0119956 |\n",
      "| micro av. jaccard   | 0.572696  |\n",
      "| macro av. jaccard   | 0.413668  |\n",
      "| micro av. precision | 0.718322  |\n",
      "| macro av. precision | 0.627179  |\n",
      "| micro av. recall    | 0.738556  |\n",
      "| macro av. recall    | 0.535084  |\n",
      "| micro av. f1        | 0.728299  |\n",
      "| macro av. f1        | 0.539014  |\n",
      "Evaluating in combined mode on test set\n",
      "multilabel-indicator multilabel-indicator\n",
      "float32 int64\n",
      "(917, 13) (917, 13)\n",
      "|                     |        0 |\n",
      "|:--------------------|---------:|\n",
      "| hamming loss        | 0.203003 |\n",
      "| zero_one_loss       | 0.844057 |\n",
      "| one_error           | 0        |\n",
      "| micro av. jaccard   | 0.471962 |\n",
      "| macro av. jaccard   | 0.249569 |\n",
      "| micro av. precision | 0.680831 |\n",
      "| macro av. precision | 0.338025 |\n",
      "| micro av. recall    | 0.606052 |\n",
      "| macro av. recall    | 0.337351 |\n",
      "| micro av. f1        | 0.641269 |\n",
      "| macro av. f1        | 0.326131 |\n",
      "Evaluating in individual mode on test set\n",
      "|                     |        0 |          1 |         2 |\n",
      "|:--------------------|---------:|-----------:|----------:|\n",
      "| hamming loss        | 0.216233 | 0.147583   | 0.227554  |\n",
      "| zero_one_loss       | 0.777535 | 0.368593   | 0.534351  |\n",
      "| one_error           | 0        | 0.00436205 | 0.0119956 |\n",
      "| micro av. jaccard   | 0.458869 | 0.265823   | 0.572696  |\n",
      "| macro av. jaccard   | 0.23108  | 0.128609   | 0.413668  |\n",
      "| micro av. precision | 0.667991 | 0.595142   | 0.718322  |\n",
      "| macro av. precision | 0.27395  | 0.198381   | 0.627179  |\n",
      "| micro av. recall    | 0.594444 | 0.324503   | 0.738556  |\n",
      "| macro av. recall    | 0.322454 | 0.174377   | 0.535084  |\n",
      "| micro av. f1        | 0.629075 | 0.42       | 0.728299  |\n",
      "| macro av. f1        | 0.29512  | 0.185606   | 0.539014  |\n",
      "Evaluating in combined mode on test set\n",
      "|                     |        0 |        1 |        2 |\n",
      "|:--------------------|---------:|---------:|---------:|\n",
      "| hamming loss        | 0.216233 | 0.195638 | 0.203003 |\n",
      "| zero_one_loss       | 0.777535 | 0.813522 | 0.844057 |\n",
      "| one_error           | 0        | 0        | 0        |\n",
      "| micro av. jaccard   | 0.458869 | 0.424631 | 0.471962 |\n",
      "| macro av. jaccard   | 0.23108  | 0.200339 | 0.249569 |\n",
      "| micro av. precision | 0.667991 | 0.659034 | 0.680831 |\n",
      "| macro av. precision | 0.27395  | 0.251279 | 0.338025 |\n",
      "| micro av. recall    | 0.594444 | 0.544184 | 0.606052 |\n",
      "| macro av. recall    | 0.322454 | 0.278031 | 0.337351 |\n",
      "| micro av. f1        | 0.629075 | 0.596128 | 0.641269 |\n",
      "| macro av. f1        | 0.29512  | 0.262266 | 0.326131 |\n",
      "Number of Tasks: 3\n",
      "Forgetting in task 1: first time micro av. f1 = 0.6320, after all tasks micro av. f1 = 0.6291\n",
      "Forgetting in task 2: first time micro av. f1 = 0.4318, after all tasks micro av. f1 = 0.6291\n",
      "Forgetting in task 3: first time micro av. f1 = 0.7283, after all tasks micro av. f1 = 0.6291\n"
     ]
    },
    {
     "data": {
      "image/png": "[encoded data removed]",
      "text/plain": [
       "<Figure size 360x360 with 1 Axes>"
      ]
     },
     "metadata": {
      "needs_background": "light"
     },
     "output_type": "display_data"
    }
   ],
   "source": [
    "hparams_dict = {\n",
    "    'inputs': 618,\n",
    "    'outputs': 13,\n",
    "    'time_constant': 300,\n",
    "    'alpha_a': 0.42,\n",
    "    'alpha_m': 0.07,\n",
    "    'w_max': 100.0,\n",
    "    'w_min': -100.0,\n",
    "    'lr': 5e-3,\n",
    "    'sim_time': 600,\n",
    "    'n_epochs': 100,\n",
    "    'print_every': 10,\n",
    "    'name': 'Yeast',\n",
    "    'tasks': {'samples': [500, 500, 500], 'labels': [7, 3, 3]},\n",
    "    'seed': 5,\n",
    "    'ckpt_dir': './checkpoints/yeast',\n",
    "    'load_from_file': None,\n",
    "    'device': device\n",
    "}\n",
    "net = OverallSNN(hparams_dict)\n",
    "net.fit_and_evaluate(train_spikes, train_labels, test_spikes, test_labels)"
   ]
  },
  {
   "cell_type": "code",
   "execution_count": 4,
   "metadata": {},
   "outputs": [
    {
     "name": "stdout",
     "output_type": "stream",
     "text": [
      "Training and Evaluating on task 1\n",
      "Train data shape is  (500, 1, 618)\n",
      "Train Labels shape is  (500, 7)\n",
      "Classes trained are: 0 to 7\n"
     ]
    },
    {
     "name": "stderr",
     "output_type": "stream",
     "text": [
      "  0%|          | 0/100 [00:00<?, ?it/s]"
     ]
    },
    {
     "name": "stdout",
     "output_type": "stream",
     "text": [
      "Class 0, class 1 neurons = 2, class 0 neurons = 1\n",
      "Class 1, class 1 neurons = 2, class 0 neurons = 1\n",
      "Class 2, class 1 neurons = 2, class 0 neurons = 1\n",
      "Class 3, class 1 neurons = 1, class 0 neurons = 1\n",
      "Class 4, class 1 neurons = 2, class 0 neurons = 1\n",
      "Class 5, class 1 neurons = 2, class 0 neurons = 1\n",
      "Class 6, class 1 neurons = 2, class 0 neurons = 1\n"
     ]
    },
    {
     "name": "stderr",
     "output_type": "stream",
     "text": [
      "100%|██████████| 100/100 [18:40<00:00, 11.20s/it]\n"
     ]
    },
    {
     "name": "stdout",
     "output_type": "stream",
     "text": [
      "Evaluating in individual mode on test set\n",
      "multilabel-indicator multilabel-indicator\n",
      "float32 int64\n",
      "(917, 7) (917, 7)\n",
      "|                     |        0 |\n",
      "|:--------------------|---------:|\n",
      "| hamming loss        | 0.22449  |\n",
      "| zero_one_loss       | 0.74373  |\n",
      "| one_error           | 0        |\n",
      "| micro av. jaccard   | 0.26704  |\n",
      "| macro av. jaccard   | 0.170124 |\n",
      "| micro av. precision | 0.623515 |\n",
      "| macro av. precision | 0.501668 |\n",
      "| micro av. recall    | 0.318375 |\n",
      "| macro av. recall    | 0.214995 |\n",
      "| micro av. f1        | 0.421517 |\n",
      "| macro av. f1        | 0.253803 |\n",
      "Evaluating in combined mode on test set\n",
      "multilabel-indicator multilabel-indicator\n",
      "float32 int64\n",
      "(917, 7) (917, 7)\n",
      "|                     |        0 |\n",
      "|:--------------------|---------:|\n",
      "| hamming loss        | 0.22449  |\n",
      "| zero_one_loss       | 0.74373  |\n",
      "| one_error           | 0        |\n",
      "| micro av. jaccard   | 0.26704  |\n",
      "| macro av. jaccard   | 0.170124 |\n",
      "| micro av. precision | 0.623515 |\n",
      "| macro av. precision | 0.501668 |\n",
      "| micro av. recall    | 0.318375 |\n",
      "| macro av. recall    | 0.214995 |\n",
      "| micro av. f1        | 0.421517 |\n",
      "| macro av. f1        | 0.253803 |\n",
      "Training and Evaluating on task 2\n",
      "Train data shape is  (500, 1, 618)\n",
      "Train Labels shape is  (500, 3)\n",
      "Classes trained are: 7 to 10\n",
      "Augmenting class labels...\n",
      "Train Labels shape is  (500, 10)\n"
     ]
    },
    {
     "name": "stderr",
     "output_type": "stream",
     "text": [
      "  0%|          | 0/100 [00:00<?, ?it/s]"
     ]
    },
    {
     "name": "stdout",
     "output_type": "stream",
     "text": [
      "Class 0, class 1 neurons = 2, class 0 neurons = 1\n",
      "Class 1, class 1 neurons = 4, class 0 neurons = 2\n",
      "Class 2, class 1 neurons = 3, class 0 neurons = 2\n",
      "Class 3, class 1 neurons = 3, class 0 neurons = 2\n",
      "Class 4, class 1 neurons = 2, class 0 neurons = 1\n",
      "Class 5, class 1 neurons = 3, class 0 neurons = 2\n",
      "Class 6, class 1 neurons = 2, class 0 neurons = 1\n",
      "Class 7, class 1 neurons = 2, class 0 neurons = 1\n",
      "Class 8, class 1 neurons = 1, class 0 neurons = 2\n",
      "Class 9, class 1 neurons = 1, class 0 neurons = 2\n"
     ]
    },
    {
     "name": "stderr",
     "output_type": "stream",
     "text": [
      "100%|██████████| 100/100 [29:25<00:00, 17.66s/it]\n"
     ]
    },
    {
     "name": "stdout",
     "output_type": "stream",
     "text": [
      "Evaluating in individual mode on test set\n",
      "multilabel-indicator multilabel-indicator\n",
      "float32 int64\n",
      "(917, 3) (917, 3)\n",
      "|                     |        0 |\n",
      "|:--------------------|---------:|\n",
      "| hamming loss        | 0.246092 |\n",
      "| zero_one_loss       | 0.398037 |\n",
      "| one_error           | 0.087241 |\n",
      "| micro av. jaccard   | 0.691572 |\n",
      "| macro av. jaccard   | 0.634098 |\n",
      "| micro av. precision | 0.738327 |\n",
      "| macro av. precision | 0.719085 |\n",
      "| micro av. recall    | 0.916113 |\n",
      "| macro av. recall    | 0.837995 |\n",
      "| micro av. f1        | 0.817668 |\n",
      "| macro av. f1        | 0.76327  |\n",
      "Evaluating in combined mode on test set\n",
      "multilabel-indicator multilabel-indicator\n",
      "float32 int64\n",
      "(917, 10) (917, 10)\n",
      "|                     |        0 |\n",
      "|:--------------------|---------:|\n",
      "| hamming loss        | 0.23108  |\n",
      "| zero_one_loss       | 0.815703 |\n",
      "| one_error           | 0        |\n",
      "| micro av. jaccard   | 0.490135 |\n",
      "| macro av. jaccard   | 0.309028 |\n",
      "| micro av. precision | 0.705577 |\n",
      "| macro av. precision | 0.461791 |\n",
      "| micro av. recall    | 0.616152 |\n",
      "| macro av. recall    | 0.400907 |\n",
      "| micro av. f1        | 0.657839 |\n",
      "| macro av. f1        | 0.405876 |\n",
      "Training and Evaluating on task 3\n",
      "Train data shape is  (500, 1, 618)\n",
      "Train Labels shape is  (500, 3)\n",
      "Classes trained are: 10 to 13\n",
      "Augmenting class labels...\n",
      "Train Labels shape is  (500, 13)\n"
     ]
    },
    {
     "name": "stderr",
     "output_type": "stream",
     "text": [
      "  0%|          | 0/100 [00:00<?, ?it/s]"
     ]
    },
    {
     "name": "stdout",
     "output_type": "stream",
     "text": [
      "Class 0, class 1 neurons = 2, class 0 neurons = 1\n",
      "Class 1, class 1 neurons = 5, class 0 neurons = 3\n",
      "Class 2, class 1 neurons = 5, class 0 neurons = 3\n",
      "Class 3, class 1 neurons = 4, class 0 neurons = 3\n",
      "Class 4, class 1 neurons = 2, class 0 neurons = 1\n",
      "Class 5, class 1 neurons = 3, class 0 neurons = 3\n",
      "Class 6, class 1 neurons = 2, class 0 neurons = 1\n",
      "Class 7, class 1 neurons = 4, class 0 neurons = 2\n",
      "Class 8, class 1 neurons = 1, class 0 neurons = 2\n",
      "Class 9, class 1 neurons = 1, class 0 neurons = 2\n",
      "Class 10, class 1 neurons = 2, class 0 neurons = 1\n",
      "Class 11, class 1 neurons = 3, class 0 neurons = 1\n",
      "Class 12, class 1 neurons = 3, class 0 neurons = 1\n"
     ]
    },
    {
     "name": "stderr",
     "output_type": "stream",
     "text": [
      "100%|██████████| 100/100 [40:08<00:00, 24.08s/it]\n"
     ]
    },
    {
     "name": "stdout",
     "output_type": "stream",
     "text": [
      "Evaluating in individual mode on test set\n",
      "multilabel-indicator multilabel-indicator\n",
      "float32 int64\n",
      "(917, 3) (917, 3)\n",
      "|                     |          0 |\n",
      "|:--------------------|-----------:|\n",
      "| hamming loss        | 0.161759   |\n",
      "| zero_one_loss       | 0.410033   |\n",
      "| one_error           | 0.00436205 |\n",
      "| micro av. jaccard   | 0.274062   |\n",
      "| macro av. jaccard   | 0.126984   |\n",
      "| micro av. precision | 0.602151   |\n",
      "| macro av. precision | 0.200717   |\n",
      "| micro av. recall    | 0.334661   |\n",
      "| macro av. recall    | 0.169697   |\n",
      "| micro av. f1        | 0.430218   |\n",
      "| macro av. f1        | 0.183908   |\n",
      "Evaluating in combined mode on test set\n",
      "multilabel-indicator multilabel-indicator\n",
      "float32 int64\n",
      "(917, 13) (917, 13)\n",
      "|                     |        0 |\n",
      "|:--------------------|---------:|\n",
      "| hamming loss        | 0.216844 |\n",
      "| zero_one_loss       | 0.864776 |\n",
      "| one_error           | 0        |\n",
      "| micro av. jaccard   | 0.459431 |\n",
      "| macro av. jaccard   | 0.26519  |\n",
      "| micro av. precision | 0.692841 |\n",
      "| macro av. precision | 0.393296 |\n",
      "| micro av. recall    | 0.576943 |\n",
      "| macro av. recall    | 0.346165 |\n",
      "| micro av. f1        | 0.629603 |\n",
      "| macro av. f1        | 0.352813 |\n",
      "Evaluating in individual mode on test set\n",
      "|                     |        0 |         1 |          2 |\n",
      "|:--------------------|---------:|----------:|-----------:|\n",
      "| hamming loss        | 0.226048 | 0.250454  | 0.161759   |\n",
      "| zero_one_loss       | 0.741549 | 0.411123  | 0.410033   |\n",
      "| one_error           | 0        | 0.0883315 | 0.00436205 |\n",
      "| micro av. jaccard   | 0.261202 | 0.687528  | 0.274062   |\n",
      "| macro av. jaccard   | 0.168656 | 0.628643  | 0.126984   |\n",
      "| micro av. precision | 0.619565 | 0.734496  | 0.602151   |\n",
      "| macro av. precision | 0.340738 | 0.708509  | 0.200717   |\n",
      "| micro av. recall    | 0.311098 | 0.914906  | 0.334661   |\n",
      "| macro av. recall    | 0.212009 | 0.835664  | 0.169697   |\n",
      "| micro av. f1        | 0.414211 | 0.814835  | 0.430218   |\n",
      "| macro av. f1        | 0.25168  | 0.757695  | 0.183908   |\n",
      "Evaluating in combined mode on test set\n",
      "|                     |        0 |        1 |        2 |\n",
      "|:--------------------|---------:|---------:|---------:|\n",
      "| hamming loss        | 0.226048 | 0.23337  | 0.216844 |\n",
      "| zero_one_loss       | 0.741549 | 0.822246 | 0.864776 |\n",
      "| one_error           | 0        | 0        | 0        |\n",
      "| micro av. jaccard   | 0.261202 | 0.486687 | 0.459431 |\n",
      "| macro av. jaccard   | 0.168656 | 0.306652 | 0.26519  |\n",
      "| micro av. precision | 0.619565 | 0.701591 | 0.692841 |\n",
      "| macro av. precision | 0.340738 | 0.45107  | 0.393296 |\n",
      "| micro av. recall    | 0.311098 | 0.613733 | 0.576943 |\n",
      "| macro av. recall    | 0.212009 | 0.399106 | 0.346165 |\n",
      "| micro av. f1        | 0.414211 | 0.654727 | 0.629603 |\n",
      "| macro av. f1        | 0.25168  | 0.403484 | 0.352813 |\n",
      "Number of Tasks: 3\n",
      "Forgetting in task 1: first time micro av. f1 = 0.4215, after all tasks micro av. f1 = 0.4142\n",
      "Forgetting in task 2: first time micro av. f1 = 0.8177, after all tasks micro av. f1 = 0.4142\n",
      "Forgetting in task 3: first time micro av. f1 = 0.4302, after all tasks micro av. f1 = 0.4142\n"
     ]
    },
    {
     "data": {
      "image/png": "[encoded data removed]",
      "text/plain": [
       "<Figure size 360x360 with 1 Axes>"
      ]
     },
     "metadata": {
      "needs_background": "light"
     },
     "output_type": "display_data"
    }
   ],
   "source": [
    "hparams_dict = {\n",
    "    'inputs': 618,\n",
    "    'outputs': 13,\n",
    "    'time_constant': 300,\n",
    "    'alpha_a': 0.42,\n",
    "    'alpha_m': 0.07,\n",
    "    'w_max': 100.0,\n",
    "    'w_min': -100.0,\n",
    "    'lr': 5e-3,\n",
    "    'sim_time': 600,\n",
    "    'n_epochs': 100,\n",
    "    'print_every': 10,\n",
    "    'name': 'Yeast',\n",
    "    'tasks': {'samples': [500, 500, 500], 'labels': [7, 3, 3]},\n",
    "    'seed': 3,\n",
    "    'ckpt_dir': './checkpoints/yeast',\n",
    "    'load_from_file': None,\n",
    "    'device': device\n",
    "}\n",
    "net = OverallSNN(hparams_dict)\n",
    "net.fit_and_evaluate(train_spikes, train_labels, test_spikes, test_labels)"
   ]
  },
  {
   "cell_type": "code",
   "execution_count": 5,
   "metadata": {},
   "outputs": [
    {
     "name": "stdout",
     "output_type": "stream",
     "text": [
      "Training and Evaluating on task 1\n",
      "Train data shape is  (500, 1, 618)\n",
      "Train Labels shape is  (500, 7)\n",
      "Classes trained are: 0 to 7\n"
     ]
    },
    {
     "name": "stderr",
     "output_type": "stream",
     "text": [
      "  0%|          | 0/100 [00:00<?, ?it/s]"
     ]
    },
    {
     "name": "stdout",
     "output_type": "stream",
     "text": [
      "Class 0, class 1 neurons = 2, class 0 neurons = 1\n",
      "Class 1, class 1 neurons = 2, class 0 neurons = 1\n",
      "Class 2, class 1 neurons = 1, class 0 neurons = 2\n",
      "Class 3, class 1 neurons = 2, class 0 neurons = 1\n",
      "Class 4, class 1 neurons = 2, class 0 neurons = 1\n",
      "Class 5, class 1 neurons = 2, class 0 neurons = 1\n",
      "Class 6, class 1 neurons = 1, class 0 neurons = 1\n"
     ]
    },
    {
     "name": "stderr",
     "output_type": "stream",
     "text": [
      "100%|██████████| 100/100 [18:17<00:00, 10.97s/it]\n"
     ]
    },
    {
     "name": "stdout",
     "output_type": "stream",
     "text": [
      "Evaluating in individual mode on test set\n",
      "multilabel-indicator multilabel-indicator\n",
      "float32 int64\n",
      "(917, 7) (917, 7)\n",
      "|                     |        0 |\n",
      "|:--------------------|---------:|\n",
      "| hamming loss        | 0.192553 |\n",
      "| zero_one_loss       | 0.736096 |\n",
      "| one_error           | 0        |\n",
      "| micro av. jaccard   | 0.504808 |\n",
      "| macro av. jaccard   | 0.294102 |\n",
      "| micro av. precision | 0.7      |\n",
      "| macro av. precision | 0.485584 |\n",
      "| micro av. recall    | 0.644172 |\n",
      "| macro av. recall    | 0.385766 |\n",
      "| micro av. f1        | 0.670927 |\n",
      "| macro av. f1        | 0.390182 |\n",
      "Evaluating in combined mode on test set\n",
      "multilabel-indicator multilabel-indicator\n",
      "float32 int64\n",
      "(917, 7) (917, 7)\n",
      "|                     |        0 |\n",
      "|:--------------------|---------:|\n",
      "| hamming loss        | 0.192553 |\n",
      "| zero_one_loss       | 0.736096 |\n",
      "| one_error           | 0        |\n",
      "| micro av. jaccard   | 0.504808 |\n",
      "| macro av. jaccard   | 0.294102 |\n",
      "| micro av. precision | 0.7      |\n",
      "| macro av. precision | 0.485584 |\n",
      "| micro av. recall    | 0.644172 |\n",
      "| macro av. recall    | 0.385766 |\n",
      "| micro av. f1        | 0.670927 |\n",
      "| macro av. f1        | 0.390182 |\n",
      "Training and Evaluating on task 2\n",
      "Train data shape is  (500, 1, 618)\n",
      "Train Labels shape is  (500, 3)\n",
      "Classes trained are: 7 to 10\n",
      "Augmenting class labels...\n",
      "Train Labels shape is  (500, 10)\n"
     ]
    },
    {
     "name": "stderr",
     "output_type": "stream",
     "text": [
      "  0%|          | 0/100 [00:00<?, ?it/s]"
     ]
    },
    {
     "name": "stdout",
     "output_type": "stream",
     "text": [
      "Class 0, class 1 neurons = 4, class 0 neurons = 2\n",
      "Class 1, class 1 neurons = 4, class 0 neurons = 2\n",
      "Class 2, class 1 neurons = 1, class 0 neurons = 2\n",
      "Class 3, class 1 neurons = 2, class 0 neurons = 1\n",
      "Class 4, class 1 neurons = 2, class 0 neurons = 2\n",
      "Class 5, class 1 neurons = 2, class 0 neurons = 1\n",
      "Class 6, class 1 neurons = 2, class 0 neurons = 3\n",
      "Class 7, class 1 neurons = 2, class 0 neurons = 1\n",
      "Class 8, class 1 neurons = 1, class 0 neurons = 2\n",
      "Class 9, class 1 neurons = 2, class 0 neurons = 1\n"
     ]
    },
    {
     "name": "stderr",
     "output_type": "stream",
     "text": [
      "100%|██████████| 100/100 [28:51<00:00, 17.31s/it]\n"
     ]
    },
    {
     "name": "stdout",
     "output_type": "stream",
     "text": [
      "Evaluating in individual mode on test set\n",
      "multilabel-indicator multilabel-indicator\n",
      "float32 int64\n",
      "(917, 3) (917, 3)\n",
      "|                     |         0 |\n",
      "|:--------------------|----------:|\n",
      "| hamming loss        | 0.193384  |\n",
      "| zero_one_loss       | 0.436205  |\n",
      "| one_error           | 0.0163577 |\n",
      "| micro av. jaccard   | 0.612809  |\n",
      "| macro av. jaccard   | 0.388857  |\n",
      "| micro av. precision | 0.721508  |\n",
      "| macro av. precision | 0.460273  |\n",
      "| micro av. recall    | 0.802669  |\n",
      "| macro av. recall    | 0.518648  |\n",
      "| micro av. f1        | 0.759928  |\n",
      "| macro av. f1        | 0.482345  |\n",
      "Evaluating in combined mode on test set\n",
      "multilabel-indicator multilabel-indicator\n",
      "float32 int64\n",
      "(917, 10) (917, 10)\n",
      "|                     |        0 |\n",
      "|:--------------------|---------:|\n",
      "| hamming loss        | 0.191603 |\n",
      "| zero_one_loss       | 0.78626  |\n",
      "| one_error           | 0        |\n",
      "| micro av. jaccard   | 0.547398 |\n",
      "| macro av. jaccard   | 0.327073 |\n",
      "| micro av. precision | 0.707861 |\n",
      "| macro av. precision | 0.475238 |\n",
      "| micro av. recall    | 0.707155 |\n",
      "| macro av. recall    | 0.432871 |\n",
      "| micro av. f1        | 0.707508 |\n",
      "| macro av. f1        | 0.423381 |\n",
      "Training and Evaluating on task 3\n",
      "Train data shape is  (500, 1, 618)\n",
      "Train Labels shape is  (500, 3)\n",
      "Classes trained are: 10 to 13\n",
      "Augmenting class labels...\n",
      "Train Labels shape is  (500, 13)\n"
     ]
    },
    {
     "name": "stderr",
     "output_type": "stream",
     "text": [
      "  0%|          | 0/100 [00:00<?, ?it/s]"
     ]
    },
    {
     "name": "stdout",
     "output_type": "stream",
     "text": [
      "Class 0, class 1 neurons = 5, class 0 neurons = 3\n",
      "Class 1, class 1 neurons = 7, class 0 neurons = 3\n",
      "Class 2, class 1 neurons = 1, class 0 neurons = 2\n",
      "Class 3, class 1 neurons = 2, class 0 neurons = 1\n",
      "Class 4, class 1 neurons = 2, class 0 neurons = 3\n",
      "Class 5, class 1 neurons = 2, class 0 neurons = 1\n",
      "Class 6, class 1 neurons = 3, class 0 neurons = 4\n",
      "Class 7, class 1 neurons = 4, class 0 neurons = 2\n",
      "Class 8, class 1 neurons = 1, class 0 neurons = 2\n",
      "Class 9, class 1 neurons = 2, class 0 neurons = 1\n",
      "Class 10, class 1 neurons = 2, class 0 neurons = 1\n",
      "Class 11, class 1 neurons = 2, class 0 neurons = 1\n",
      "Class 12, class 1 neurons = 2, class 0 neurons = 1\n"
     ]
    },
    {
     "name": "stderr",
     "output_type": "stream",
     "text": [
      "100%|██████████| 100/100 [39:31<00:00, 23.72s/it]\n"
     ]
    },
    {
     "name": "stdout",
     "output_type": "stream",
     "text": [
      "Evaluating in individual mode on test set\n",
      "multilabel-indicator multilabel-indicator\n",
      "float32 int64\n",
      "(917, 3) (917, 3)\n",
      "|                     |         0 |\n",
      "|:--------------------|----------:|\n",
      "| hamming loss        | 0.291894  |\n",
      "| zero_one_loss       | 0.611778  |\n",
      "| one_error           | 0.0250818 |\n",
      "| micro av. jaccard   | 0.242453  |\n",
      "| macro av. jaccard   | 0.215219  |\n",
      "| micro av. precision | 0.5       |\n",
      "| macro av. precision | 0.467942  |\n",
      "| micro av. recall    | 0.32005   |\n",
      "| macro av. recall    | 0.290503  |\n",
      "| micro av. f1        | 0.390281  |\n",
      "| macro av. f1        | 0.345417  |\n",
      "Evaluating in combined mode on test set\n",
      "multilabel-indicator multilabel-indicator\n",
      "float32 int64\n",
      "(917, 13) (917, 13)\n",
      "|                     |        0 |\n",
      "|:--------------------|---------:|\n",
      "| hamming loss        | 0.219109 |\n",
      "| zero_one_loss       | 0.858233 |\n",
      "| one_error           | 0        |\n",
      "| micro av. jaccard   | 0.478018 |\n",
      "| macro av. jaccard   | 0.29948  |\n",
      "| micro av. precision | 0.666667 |\n",
      "| macro av. precision | 0.450156 |\n",
      "| micro av. recall    | 0.628151 |\n",
      "| macro av. recall    | 0.402993 |\n",
      "| micro av. f1        | 0.646836 |\n",
      "| macro av. f1        | 0.403594 |\n",
      "Evaluating in individual mode on test set\n",
      "|                     |        0 |         1 |         2 |\n",
      "|:--------------------|---------:|----------:|----------:|\n",
      "| hamming loss        | 0.195358 | 0.201745  | 0.291894  |\n",
      "| zero_one_loss       | 0.74482  | 0.459106  | 0.611778  |\n",
      "| one_error           | 0        | 0.0196292 | 0.0250818 |\n",
      "| micro av. jaccard   | 0.507269 | 0.603288  | 0.242453  |\n",
      "| macro av. jaccard   | 0.300324 | 0.381773  | 0.215219  |\n",
      "| micro av. precision | 0.686702 | 0.706868  | 0.5       |\n",
      "| macro av. precision | 0.446023 | 0.442016  | 0.467942  |\n",
      "| micro av. recall    | 0.66002  | 0.804576  | 0.32005   |\n",
      "| macro av. recall    | 0.400637 | 0.520979  | 0.290503  |\n",
      "| micro av. f1        | 0.673097 | 0.752564  | 0.390281  |\n",
      "| macro av. f1        | 0.397826 | 0.475229  | 0.345417  |\n",
      "Evaluating in combined mode on test set\n",
      "|                     |        0 |        1 |        2 |\n",
      "|:--------------------|---------:|---------:|---------:|\n",
      "| hamming loss        | 0.195358 | 0.197274 | 0.219109 |\n",
      "| zero_one_loss       | 0.74482  | 0.790622 | 0.858233 |\n",
      "| one_error           | 0        | 0        | 0        |\n",
      "| micro av. jaccard   | 0.507269 | 0.541329 | 0.478018 |\n",
      "| macro av. jaccard   | 0.300324 | 0.324759 | 0.29948  |\n",
      "| micro av. precision | 0.686702 | 0.694535 | 0.666667 |\n",
      "| macro av. precision | 0.446023 | 0.444821 | 0.450156 |\n",
      "| micro av. recall    | 0.66002  | 0.710483 | 0.628151 |\n",
      "| macro av. recall    | 0.400637 | 0.43674  | 0.402993 |\n",
      "| micro av. f1        | 0.673097 | 0.702418 | 0.646836 |\n",
      "| macro av. f1        | 0.397826 | 0.421047 | 0.403594 |\n",
      "Number of Tasks: 3\n",
      "Forgetting in task 1: first time micro av. f1 = 0.6709, after all tasks micro av. f1 = 0.6731\n",
      "Forgetting in task 2: first time micro av. f1 = 0.7599, after all tasks micro av. f1 = 0.6731\n",
      "Forgetting in task 3: first time micro av. f1 = 0.3903, after all tasks micro av. f1 = 0.6731\n"
     ]
    },
    {
     "data": {
      "image/png": "[encoded data removed]",
      "text/plain": [
       "<Figure size 360x360 with 1 Axes>"
      ]
     },
     "metadata": {
      "needs_background": "light"
     },
     "output_type": "display_data"
    }
   ],
   "source": [
    "hparams_dict = {\n",
    "    'inputs': 618,\n",
    "    'outputs': 13,\n",
    "    'time_constant': 300,\n",
    "    'alpha_a': 0.42,\n",
    "    'alpha_m': 0.07,\n",
    "    'w_max': 100.0,\n",
    "    'w_min': -100.0,\n",
    "    'lr': 5e-3,\n",
    "    'sim_time': 600,\n",
    "    'n_epochs': 100,\n",
    "    'print_every': 10,\n",
    "    'name': 'Yeast',\n",
    "    'tasks': {'samples': [500, 500, 500], 'labels': [7, 3, 3]},\n",
    "    'seed': 4,\n",
    "    'ckpt_dir': './checkpoints/yeast',\n",
    "    'load_from_file': None,\n",
    "    'device': device\n",
    "}\n",
    "net = OverallSNN(hparams_dict)\n",
    "net.fit_and_evaluate(train_spikes, train_labels, test_spikes, test_labels)"
   ]
  }
 ],
 "metadata": {
  "kernelspec": {
   "display_name": "DL_gpu",
   "language": "python",
   "name": "dl_gpu"
  },
  "language_info": {
   "codemirror_mode": {
    "name": "ipython",
    "version": 3
   },
   "file_extension": ".py",
   "mimetype": "text/x-python",
   "name": "python",
   "nbconvert_exporter": "python",
   "pygments_lexer": "ipython3",
   "version": "3.7.7"
  }
 },
 "nbformat": 4,
 "nbformat_minor": 4
}
