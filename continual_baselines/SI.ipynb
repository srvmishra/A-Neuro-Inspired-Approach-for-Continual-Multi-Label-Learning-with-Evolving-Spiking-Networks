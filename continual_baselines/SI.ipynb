{
 "cells": [
  {
   "cell_type": "code",
   "execution_count": 1,
   "metadata": {},
   "outputs": [],
   "source": [
    "from experiments_new import *\n",
    "from hparams import *\n",
    "from utils import *"
   ]
  },
  {
   "cell_type": "code",
   "execution_count": 2,
   "metadata": {},
   "outputs": [],
   "source": [
    "continual_method = 'SI'\n",
    "device = torch.device('cuda:2')"
   ]
  },
  {
   "cell_type": "markdown",
   "metadata": {},
   "source": [
    "## Yeast Dataset, 3 tasks"
   ]
  },
  {
   "cell_type": "code",
   "execution_count": 3,
   "metadata": {},
   "outputs": [
    {
     "name": "stdout",
     "output_type": "stream",
     "text": [
      "Processing Data ...\n",
      "(1500, 103)\n",
      "(917, 103)\n",
      "(1500, 13)\n",
      "(917, 13)\n",
      "Begin training in SI mode ...\n",
      "Training and Evaluating on task 1\n",
      "Train data shape is  (500, 103)\n",
      "Train Labels shape is  (500, 7)\n",
      "Classes trained are: 0 to 7\n",
      "Samples with all negative labels 0\n",
      "Output dimensions: 7\n"
     ]
    },
    {
     "name": "stderr",
     "output_type": "stream",
     "text": [
      "100%|██████████| 1/1 [00:00<00:00,  1.03it/s]\n"
     ]
    },
    {
     "name": "stdout",
     "output_type": "stream",
     "text": [
      "Evaluating in individual mode on test set\n",
      "multilabel-indicator multilabel-indicator\n",
      "float32 float32\n",
      "(917, 7) (917, 7)\n",
      "Evaluating in combined mode on test set\n",
      "multilabel-indicator multilabel-indicator\n",
      "float32 float32\n",
      "(917, 7) (917, 7)\n",
      "Training and Evaluating on task 2\n",
      "Train data shape is  (500, 103)\n",
      "Train Labels shape is  (500, 3)\n",
      "Classes trained are: 7 to 10\n",
      "Samples with all negative labels 0\n",
      "Augmenting class labels...\n"
     ]
    },
    {
     "name": "stderr",
     "output_type": "stream",
     "text": [
      "  0%|          | 0/1 [00:00<?, ?it/s]"
     ]
    },
    {
     "name": "stdout",
     "output_type": "stream",
     "text": [
      "Train Labels shape is  (500, 10)\n",
      "Output dimensions: 10\n",
      "growing model size ...\n"
     ]
    },
    {
     "name": "stderr",
     "output_type": "stream",
     "text": [
      "100%|██████████| 1/1 [00:00<00:00,  2.85it/s]\n"
     ]
    },
    {
     "name": "stdout",
     "output_type": "stream",
     "text": [
      "Evaluating in individual mode on test set\n",
      "multilabel-indicator multilabel-indicator\n",
      "float32 float32\n",
      "(917, 3) (917, 3)\n",
      "Evaluating in combined mode on test set\n",
      "multilabel-indicator multilabel-indicator\n",
      "float32 float32\n",
      "(917, 10) (917, 10)\n",
      "Training and Evaluating on task 3\n",
      "Train data shape is  (500, 103)\n",
      "Train Labels shape is  (500, 3)\n",
      "Classes trained are: 10 to 13\n",
      "Samples with all negative labels 0\n",
      "Augmenting class labels...\n"
     ]
    },
    {
     "name": "stderr",
     "output_type": "stream",
     "text": [
      "  0%|          | 0/1 [00:00<?, ?it/s]"
     ]
    },
    {
     "name": "stdout",
     "output_type": "stream",
     "text": [
      "Train Labels shape is  (500, 13)\n",
      "Output dimensions: 13\n",
      "growing model size ...\n"
     ]
    },
    {
     "name": "stderr",
     "output_type": "stream",
     "text": [
      "100%|██████████| 1/1 [00:00<00:00,  2.84it/s]\n"
     ]
    },
    {
     "name": "stdout",
     "output_type": "stream",
     "text": [
      "Evaluating in individual mode on test set\n",
      "multilabel-indicator multilabel-indicator\n",
      "float32 float32\n",
      "(917, 3) (917, 3)\n",
      "Evaluating in combined mode on test set\n",
      "multilabel-indicator multilabel-indicator\n",
      "float32 float32\n",
      "(917, 13) (917, 13)\n",
      "Evaluating in individual mode on test set\n",
      "|                     |         0 |        1 |        2 |\n",
      "|:--------------------|----------:|---------:|---------:|\n",
      "| hamming loss        | 0.678922  | 0.868048 | 0.468557 |\n",
      "| zero_one_loss       | 1         | 0.990185 | 0.932388 |\n",
      "| one_error           | 0.0512541 | 0.706652 | 0.223555 |\n",
      "| micro av. jaccard   | 0.321078  | 0.131952 | 0.531443 |\n",
      "| macro av. jaccard   | 0.321078  | 0.131952 | 0.531443 |\n",
      "| micro av. precision | 0.321078  | 0.131952 | 0.531443 |\n",
      "| macro av. precision | 0.321078  | 0.131952 | 0.531443 |\n",
      "| micro av. recall    | 1         | 1        | 1        |\n",
      "| macro av. recall    | 1         | 1        | 1        |\n",
      "| micro av. f1        | 0.486085  | 0.233141 | 0.694042 |\n",
      "| macro av. f1        | 0.479849  | 0.229202 | 0.630542 |\n",
      "| imb. av. f1         | 0.296189  | 0.114484 | 0.236271 |\n",
      "Evaluating in combined mode on test set\n",
      "|                     |         0 |         1 |        2 |\n",
      "|:--------------------|----------:|----------:|---------:|\n",
      "| hamming loss        | 0.678922  | 0.73566   | 0.674021 |\n",
      "| zero_one_loss       | 1         | 1         | 1        |\n",
      "| one_error           | 0.0512541 | 0.0185387 | 0        |\n",
      "| micro av. jaccard   | 0.321078  | 0.26434   | 0.325979 |\n",
      "| macro av. jaccard   | 0.321078  | 0.26434   | 0.325979 |\n",
      "| micro av. precision | 0.321078  | 0.26434   | 0.325979 |\n",
      "| macro av. precision | 0.321078  | 0.26434   | 0.325979 |\n",
      "| micro av. recall    | 1         | 1         | 1        |\n",
      "| macro av. recall    | 1         | 1         | 1        |\n",
      "| micro av. f1        | 0.486085  | 0.418147  | 0.491681 |\n",
      "| macro av. f1        | 0.479849  | 0.404655  | 0.456783 |\n",
      "| imb. av. f1         | 0.296189  | 0.200913  | 0.208104 |\n",
      "File saved to ./checkpoints_new/Yeast_0_SI_asy.pkl\n",
      "Number of Tasks: 3\n",
      "Forgetting in task 1: first time imb. av. f1 = 0.2962, after all tasks imb. av. f1 = 0.2962\n",
      "Forgetting in task 2: first time imb. av. f1 = 0.1145, after all tasks imb. av. f1 = 0.2962\n",
      "Forgetting in task 3: first time imb. av. f1 = 0.2363, after all tasks imb. av. f1 = 0.2962\n"
     ]
    },
    {
     "data": {
      "image/png": "[encoded data removed]",
      "text/plain": [
       "<Figure size 360x360 with 1 Axes>"
      ]
     },
     "metadata": {
      "needs_background": "light"
     },
     "output_type": "display_data"
    }
   ],
   "source": [
    "hparams = Hyperparameters('Yeast', continual_method, device, num_tasks=3)\n",
    "experiment = ContinualExperiment(hparams)\n",
    "experiment.run()"
   ]
  },
  {
   "cell_type": "markdown",
   "metadata": {},
   "source": [
    "## Emotions Dataset"
   ]
  },
  {
   "cell_type": "code",
   "execution_count": 4,
   "metadata": {},
   "outputs": [
    {
     "name": "stdout",
     "output_type": "stream",
     "text": [
      "Processing Data ...\n"
     ]
    },
    {
     "name": "stderr",
     "output_type": "stream",
     "text": [
      "100%|██████████| 1/1 [00:00<00:00, 19.27it/s]"
     ]
    },
    {
     "name": "stdout",
     "output_type": "stream",
     "text": [
      "(391, 72)\n",
      "(202, 72)\n",
      "(391, 6)\n",
      "(202, 6)\n",
      "Begin training in SI mode ...\n",
      "Training and Evaluating on task 1\n",
      "Train data shape is  (130, 72)\n",
      "Train Labels shape is  (130, 2)\n",
      "Classes trained are: 0 to 2\n",
      "Samples with all negative labels 0\n",
      "Output dimensions: 2\n",
      "Evaluating in individual mode on test set\n"
     ]
    },
    {
     "name": "stderr",
     "output_type": "stream",
     "text": [
      "\n"
     ]
    },
    {
     "name": "stdout",
     "output_type": "stream",
     "text": [
      "multilabel-indicator multilabel-indicator\n",
      "float32 float32\n",
      "(202, 2) (202, 2)\n",
      "Evaluating in combined mode on test set\n",
      "multilabel-indicator multilabel-indicator\n",
      "float32 float32\n",
      "(202, 2) (202, 2)\n",
      "Training and Evaluating on task 2\n",
      "Train data shape is  (130, 72)\n",
      "Train Labels shape is  (130, 2)\n",
      "Classes trained are: 2 to 4\n",
      "Samples with all negative labels 0\n",
      "Augmenting class labels...\n"
     ]
    },
    {
     "name": "stderr",
     "output_type": "stream",
     "text": [
      "100%|██████████| 1/1 [00:00<00:00, 10.60it/s]"
     ]
    },
    {
     "name": "stdout",
     "output_type": "stream",
     "text": [
      "Train Labels shape is  (130, 4)\n",
      "Output dimensions: 4\n",
      "growing model size ...\n",
      "Evaluating in individual mode on test set\n"
     ]
    },
    {
     "name": "stderr",
     "output_type": "stream",
     "text": [
      "\n"
     ]
    },
    {
     "name": "stdout",
     "output_type": "stream",
     "text": [
      "multilabel-indicator multilabel-indicator\n",
      "float32 float32\n",
      "(202, 2) (202, 2)\n",
      "Evaluating in combined mode on test set\n",
      "multilabel-indicator multilabel-indicator\n",
      "float32 float32\n",
      "(202, 4) (202, 4)\n",
      "Training and Evaluating on task 3\n",
      "Train data shape is  (131, 72)\n",
      "Train Labels shape is  (131, 2)\n",
      "Classes trained are: 4 to 6\n",
      "Samples with all negative labels 0\n",
      "Augmenting class labels...\n"
     ]
    },
    {
     "name": "stderr",
     "output_type": "stream",
     "text": [
      "100%|██████████| 1/1 [00:00<00:00, 10.53it/s]"
     ]
    },
    {
     "name": "stdout",
     "output_type": "stream",
     "text": [
      "Train Labels shape is  (131, 6)\n",
      "Output dimensions: 6\n",
      "growing model size ...\n",
      "Evaluating in individual mode on test set\n"
     ]
    },
    {
     "name": "stderr",
     "output_type": "stream",
     "text": [
      "\n"
     ]
    },
    {
     "name": "stdout",
     "output_type": "stream",
     "text": [
      "multilabel-indicator multilabel-indicator\n",
      "float32 float32\n",
      "(202, 2) (202, 2)\n",
      "Evaluating in combined mode on test set\n",
      "multilabel-indicator multilabel-indicator\n",
      "float32 float32\n",
      "(202, 6) (202, 6)\n",
      "Evaluating in individual mode on test set\n",
      "|                     |        0 |        1 |        2 |\n",
      "|:--------------------|---------:|---------:|---------:|\n",
      "| hamming loss        | 0.720297 | 0.616337 | 0.675743 |\n",
      "| zero_one_loss       | 0.886139 | 0.811881 | 0.945545 |\n",
      "| one_error           | 0.554455 | 0.420792 | 0.405941 |\n",
      "| micro av. jaccard   | 0.279703 | 0.383663 | 0.324257 |\n",
      "| macro av. jaccard   | 0.279703 | 0.383663 | 0.324257 |\n",
      "| micro av. precision | 0.279703 | 0.383663 | 0.324257 |\n",
      "| macro av. precision | 0.279703 | 0.383663 | 0.324257 |\n",
      "| micro av. recall    | 1        | 1        | 1        |\n",
      "| macro av. recall    | 1        | 1        | 1        |\n",
      "| micro av. f1        | 0.437137 | 0.554562 | 0.48972  |\n",
      "| macro av. f1        | 0.436991 | 0.548201 | 0.488531 |\n",
      "| imb. av. f1         | 0.279165 | 0.36208  | 0.32007  |\n",
      "Evaluating in combined mode on test set\n",
      "|                     |        0 |        1 |        2 |\n",
      "|:--------------------|---------:|---------:|---------:|\n",
      "| hamming loss        | 0.720297 | 0.668317 | 0.670792 |\n",
      "| zero_one_loss       | 0.886139 | 1        | 1        |\n",
      "| one_error           | 0.554455 | 0.138614 | 0        |\n",
      "| micro av. jaccard   | 0.279703 | 0.331683 | 0.329208 |\n",
      "| macro av. jaccard   | 0.279703 | 0.331683 | 0.329208 |\n",
      "| micro av. precision | 0.279703 | 0.331683 | 0.329208 |\n",
      "| macro av. precision | 0.279703 | 0.331683 | 0.329208 |\n",
      "| micro av. recall    | 1        | 1        | 1        |\n",
      "| macro av. recall    | 1        | 1        | 1        |\n",
      "| micro av. f1        | 0.437137 | 0.498141 | 0.495345 |\n",
      "| macro av. f1        | 0.436991 | 0.492596 | 0.491241 |\n",
      "| imb. av. f1         | 0.279165 | 0.315343 | 0.316903 |\n",
      "File saved to ./checkpoints_new/emotions_0_SI_asy.pkl\n",
      "Number of Tasks: 3\n",
      "Forgetting in task 1: first time imb. av. f1 = 0.2792, after all tasks imb. av. f1 = 0.2792\n",
      "Forgetting in task 2: first time imb. av. f1 = 0.3621, after all tasks imb. av. f1 = 0.2792\n",
      "Forgetting in task 3: first time imb. av. f1 = 0.3201, after all tasks imb. av. f1 = 0.2792\n"
     ]
    },
    {
     "data": {
      "image/png": "[encoded data removed]",
      "text/plain": [
       "<Figure size 360x360 with 1 Axes>"
      ]
     },
     "metadata": {
      "needs_background": "light"
     },
     "output_type": "display_data"
    }
   ],
   "source": [
    "hparams = Hyperparameters('emotions', continual_method, device)\n",
    "experiment = ContinualExperiment(hparams)\n",
    "experiment.run()"
   ]
  },
  {
   "cell_type": "markdown",
   "metadata": {},
   "source": [
    "## Flags Dataset"
   ]
  },
  {
   "cell_type": "code",
   "execution_count": 5,
   "metadata": {},
   "outputs": [
    {
     "name": "stderr",
     "output_type": "stream",
     "text": [
      "100%|██████████| 1/1 [00:00<00:00, 67.15it/s]"
     ]
    },
    {
     "name": "stdout",
     "output_type": "stream",
     "text": [
      "Processing Data ...\n",
      "(129, 19)\n",
      "(65, 19)\n",
      "(129, 7)\n",
      "(65, 7)\n",
      "Begin training in SI mode ...\n",
      "Training and Evaluating on task 1\n",
      "Train data shape is  (43, 19)\n",
      "Train Labels shape is  (43, 3)\n",
      "Classes trained are: 0 to 3\n",
      "Samples with all negative labels 0\n",
      "Output dimensions: 3\n",
      "Evaluating in individual mode on test set\n"
     ]
    },
    {
     "name": "stderr",
     "output_type": "stream",
     "text": [
      "\n",
      "100%|██████████| 1/1 [00:00<00:00, 37.23it/s]"
     ]
    },
    {
     "name": "stdout",
     "output_type": "stream",
     "text": [
      "multilabel-indicator multilabel-indicator\n",
      "float32 float32\n",
      "(65, 3) (65, 3)\n",
      "Evaluating in combined mode on test set\n",
      "multilabel-indicator multilabel-indicator\n",
      "float32 float32\n",
      "(65, 3) (65, 3)\n",
      "Training and Evaluating on task 2\n",
      "Train data shape is  (43, 19)\n",
      "Train Labels shape is  (43, 2)\n",
      "Classes trained are: 3 to 5\n",
      "Samples with all negative labels 0\n",
      "Augmenting class labels...\n",
      "Train Labels shape is  (43, 5)\n",
      "Output dimensions: 5\n",
      "growing model size ...\n",
      "Evaluating in individual mode on test set\n"
     ]
    },
    {
     "name": "stderr",
     "output_type": "stream",
     "text": [
      "\n"
     ]
    },
    {
     "name": "stdout",
     "output_type": "stream",
     "text": [
      "multilabel-indicator multilabel-indicator\n",
      "float32 float32\n",
      "(65, 2) (65, 2)\n",
      "Evaluating in combined mode on test set\n"
     ]
    },
    {
     "name": "stderr",
     "output_type": "stream",
     "text": [
      "100%|██████████| 1/1 [00:00<00:00, 34.49it/s]\n"
     ]
    },
    {
     "name": "stdout",
     "output_type": "stream",
     "text": [
      "multilabel-indicator multilabel-indicator\n",
      "float32 float32\n",
      "(65, 5) (65, 5)\n",
      "Training and Evaluating on task 3\n",
      "Train data shape is  (43, 19)\n",
      "Train Labels shape is  (43, 2)\n",
      "Classes trained are: 5 to 7\n",
      "Samples with all negative labels 0\n",
      "Augmenting class labels...\n",
      "Train Labels shape is  (43, 7)\n",
      "Output dimensions: 7\n",
      "growing model size ...\n",
      "Evaluating in individual mode on test set\n",
      "multilabel-indicator multilabel-indicator\n",
      "float32 float32\n",
      "(65, 2) (65, 2)\n",
      "Evaluating in combined mode on test set\n",
      "multilabel-indicator multilabel-indicator\n",
      "float32 float32\n",
      "(65, 7) (65, 7)\n",
      "Evaluating in individual mode on test set\n",
      "|                     |         0 |         1 |        2 |\n",
      "|:--------------------|----------:|----------:|---------:|\n",
      "| hamming loss        | 0.441026  | 0.376923  | 0.792308 |\n",
      "| zero_one_loss       | 0.861538  | 0.738462  | 0.984615 |\n",
      "| one_error           | 0.0153846 | 0.0153846 | 0.6      |\n",
      "| micro av. jaccard   | 0.558974  | 0.623077  | 0.207692 |\n",
      "| macro av. jaccard   | 0.558974  | 0.623077  | 0.207692 |\n",
      "| micro av. precision | 0.558974  | 0.623077  | 0.207692 |\n",
      "| macro av. precision | 0.558974  | 0.623077  | 0.207692 |\n",
      "| micro av. recall    | 1         | 1         | 1        |\n",
      "| macro av. recall    | 1         | 1         | 1        |\n",
      "| micro av. f1        | 0.717105  | 0.767773  | 0.343949 |\n",
      "| macro av. f1        | 0.706692  | 0.755445  | 0.328693 |\n",
      "| imb. av. f1         | 0.526798  | 0.582206  | 0.148011 |\n",
      "Evaluating in combined mode on test set\n",
      "|                     |         0 |        1 |        2 |\n",
      "|:--------------------|----------:|---------:|---------:|\n",
      "| hamming loss        | 0.441026  | 0.415385 | 0.523077 |\n",
      "| zero_one_loss       | 0.861538  | 0.923077 | 1        |\n",
      "| one_error           | 0.0153846 | 0        | 0        |\n",
      "| micro av. jaccard   | 0.558974  | 0.584615 | 0.476923 |\n",
      "| macro av. jaccard   | 0.558974  | 0.584615 | 0.476923 |\n",
      "| micro av. precision | 0.558974  | 0.584615 | 0.476923 |\n",
      "| macro av. precision | 0.558974  | 0.584615 | 0.476923 |\n",
      "| micro av. recall    | 1         | 1        | 1        |\n",
      "| macro av. recall    | 1         | 1        | 1        |\n",
      "| micro av. f1        | 0.717105  | 0.737864 | 0.645833 |\n",
      "| macro av. f1        | 0.706692  | 0.726193 | 0.612622 |\n",
      "| imb. av. f1         | 0.526798  | 0.54768  | 0.316051 |\n",
      "File saved to ./checkpoints_new/flags_0_SI_asy.pkl\n",
      "Number of Tasks: 3\n",
      "Forgetting in task 1: first time imb. av. f1 = 0.5268, after all tasks imb. av. f1 = 0.5268\n",
      "Forgetting in task 2: first time imb. av. f1 = 0.5822, after all tasks imb. av. f1 = 0.5268\n",
      "Forgetting in task 3: first time imb. av. f1 = 0.1480, after all tasks imb. av. f1 = 0.5268\n"
     ]
    },
    {
     "data": {
      "image/png": "[encoded data removed]",
      "text/plain": [
       "<Figure size 360x360 with 1 Axes>"
      ]
     },
     "metadata": {
      "needs_background": "light"
     },
     "output_type": "display_data"
    }
   ],
   "source": [
    "hparams = Hyperparameters('flags', continual_method, device)\n",
    "experiment = ContinualExperiment(hparams)\n",
    "experiment.run()"
   ]
  },
  {
   "cell_type": "markdown",
   "metadata": {},
   "source": [
    "## GPositive Dataset"
   ]
  },
  {
   "cell_type": "code",
   "execution_count": 6,
   "metadata": {},
   "outputs": [
    {
     "name": "stderr",
     "output_type": "stream",
     "text": [
      "100%|██████████| 1/1 [00:00<00:00, 27.44it/s]"
     ]
    },
    {
     "name": "stdout",
     "output_type": "stream",
     "text": [
      "Processing Data ...\n",
      "(311, 440)\n",
      "(208, 440)\n",
      "(311, 4)\n",
      "(208, 4)\n",
      "Begin training in SI mode ...\n",
      "Training and Evaluating on task 1\n",
      "Train data shape is  (103, 440)\n",
      "Train Labels shape is  (103, 2)\n",
      "Classes trained are: 0 to 2\n",
      "Samples with all negative labels 2\n",
      "Output dimensions: 2\n",
      "Evaluating in individual mode on test set\n",
      "multilabel-indicator multilabel-indicator\n",
      "float64 float32\n",
      "(208, 2) (208, 2)\n"
     ]
    },
    {
     "name": "stderr",
     "output_type": "stream",
     "text": [
      "\n"
     ]
    },
    {
     "name": "stdout",
     "output_type": "stream",
     "text": [
      "Evaluating in combined mode on test set\n",
      "multilabel-indicator multilabel-indicator\n",
      "float64 float32\n",
      "(208, 2) (208, 2)\n",
      "Training and Evaluating on task 2\n",
      "Train data shape is  (103, 440)\n",
      "Train Labels shape is  (103, 1)\n",
      "Classes trained are: 2 to 3\n",
      "Samples with all negative labels 0\n",
      "Augmenting class labels...\n"
     ]
    },
    {
     "name": "stderr",
     "output_type": "stream",
     "text": [
      "100%|██████████| 1/1 [00:00<00:00, 13.74it/s]"
     ]
    },
    {
     "name": "stdout",
     "output_type": "stream",
     "text": [
      "Train Labels shape is  (103, 3)\n",
      "Output dimensions: 3\n",
      "growing model size ...\n",
      "Evaluating in individual mode on test set\n"
     ]
    },
    {
     "name": "stderr",
     "output_type": "stream",
     "text": [
      "\n"
     ]
    },
    {
     "name": "stdout",
     "output_type": "stream",
     "text": [
      "binary binary\n",
      "float64 float32\n",
      "(208, 1) (208, 1)\n",
      "Evaluating in combined mode on test set\n",
      "multilabel-indicator multilabel-indicator\n",
      "float64 float32\n",
      "(208, 3) (208, 3)\n",
      "Training and Evaluating on task 3\n",
      "Train data shape is  (105, 440)\n",
      "Train Labels shape is  (105, 1)\n",
      "Classes trained are: 3 to 4\n",
      "Samples with all negative labels 1\n",
      "Augmenting class labels...\n"
     ]
    },
    {
     "name": "stderr",
     "output_type": "stream",
     "text": [
      "100%|██████████| 1/1 [00:00<00:00, 13.06it/s]"
     ]
    },
    {
     "name": "stdout",
     "output_type": "stream",
     "text": [
      "Train Labels shape is  (105, 4)\n",
      "Output dimensions: 4\n",
      "growing model size ...\n",
      "Evaluating in individual mode on test set\n"
     ]
    },
    {
     "name": "stderr",
     "output_type": "stream",
     "text": [
      "\n"
     ]
    },
    {
     "name": "stdout",
     "output_type": "stream",
     "text": [
      "binary binary\n",
      "float64 float32\n",
      "(208, 1) (208, 1)\n",
      "Evaluating in combined mode on test set\n",
      "multilabel-indicator multilabel-indicator\n",
      "float64 float32\n",
      "(208, 4) (208, 4)\n",
      "Evaluating in individual mode on test set\n",
      "|                     |        0 |        1 |        2 |\n",
      "|:--------------------|---------:|---------:|---------:|\n",
      "| hamming loss        | 0.185096 | 0.399038 | 0.235577 |\n",
      "| zero_one_loss       | 0.370192 | 0.399038 | 0.235577 |\n",
      "| one_error           | 0        | 0.399038 | 0.235577 |\n",
      "| micro av. jaccard   | 0        | 0.429553 | 0.618677 |\n",
      "| macro av. jaccard   | 0        | 0.300481 | 0.382212 |\n",
      "| micro av. precision | 0        | 0.600962 | 0.764423 |\n",
      "| macro av. precision | 0        | 0.300481 | 0.382212 |\n",
      "| micro av. recall    | 0        | 0.600962 | 0.764423 |\n",
      "| macro av. recall    | 0        | 0.5      | 0.5      |\n",
      "| micro av. f1        | 0        | 0.600962 | 0.764423 |\n",
      "| macro av. f1        | 0        | 0.375375 | 0.433243 |\n",
      "| imb. av. f1         | 0.935674 | 0.600962 | 0.764423 |\n",
      "Evaluating in combined mode on test set\n",
      "|                     |        0 |        1 |        2 |\n",
      "|:--------------------|---------:|---------:|---------:|\n",
      "| hamming loss        | 0.185096 | 0.25641  | 0.251202 |\n",
      "| zero_one_loss       | 0.370192 | 0.769231 | 1        |\n",
      "| one_error           | 0        | 0        | 0        |\n",
      "| micro av. jaccard   | 0        | 0        | 0        |\n",
      "| macro av. jaccard   | 0        | 0        | 0        |\n",
      "| micro av. precision | 0        | 0        | 0        |\n",
      "| macro av. precision | 0        | 0        | 0        |\n",
      "| micro av. recall    | 0        | 0        | 0        |\n",
      "| macro av. recall    | 0        | 0        | 0        |\n",
      "| micro av. f1        | 0        | 0        | 0        |\n",
      "| macro av. f1        | 0        | 0        | 0        |\n",
      "| imb. av. f1         | 0.935674 | 0.909284 | 0.89234  |\n",
      "File saved to ./checkpoints_new/gpositive_0_SI_asy.pkl\n",
      "Number of Tasks: 3\n",
      "Forgetting in task 1: first time imb. av. f1 = 0.9357, after all tasks imb. av. f1 = 0.9357\n",
      "Forgetting in task 2: first time imb. av. f1 = 0.6010, after all tasks imb. av. f1 = 0.9357\n",
      "Forgetting in task 3: first time imb. av. f1 = 0.7644, after all tasks imb. av. f1 = 0.9357\n"
     ]
    },
    {
     "data": {
      "image/png": "[encoded data removed]",
      "text/plain": [
       "<Figure size 360x360 with 1 Axes>"
      ]
     },
     "metadata": {
      "needs_background": "light"
     },
     "output_type": "display_data"
    }
   ],
   "source": [
    "hparams = Hyperparameters('gpositive', continual_method, device)\n",
    "experiment = ContinualExperiment(hparams)\n",
    "experiment.run()"
   ]
  },
  {
   "cell_type": "markdown",
   "metadata": {},
   "source": [
    "## GNegative Dataset"
   ]
  },
  {
   "cell_type": "code",
   "execution_count": 7,
   "metadata": {},
   "outputs": [
    {
     "name": "stderr",
     "output_type": "stream",
     "text": [
      "  0%|          | 0/1 [00:00<?, ?it/s]"
     ]
    },
    {
     "name": "stdout",
     "output_type": "stream",
     "text": [
      "Processing Data ...\n",
      "(836, 440)\n",
      "(556, 440)\n",
      "(836, 8)\n",
      "(556, 8)\n",
      "Begin training in SI mode ...\n",
      "Training and Evaluating on task 1\n",
      "Train data shape is  (278, 440)\n",
      "Train Labels shape is  (278, 3)\n",
      "Classes trained are: 0 to 3\n",
      "Samples with all negative labels 1\n",
      "Output dimensions: 3\n"
     ]
    },
    {
     "name": "stderr",
     "output_type": "stream",
     "text": [
      "100%|██████████| 1/1 [00:00<00:00, 10.54it/s]"
     ]
    },
    {
     "name": "stdout",
     "output_type": "stream",
     "text": [
      "Evaluating in individual mode on test set\n"
     ]
    },
    {
     "name": "stderr",
     "output_type": "stream",
     "text": [
      "\n"
     ]
    },
    {
     "name": "stdout",
     "output_type": "stream",
     "text": [
      "multilabel-indicator multilabel-indicator\n",
      "float64 float32\n",
      "(556, 3) (556, 3)\n",
      "Evaluating in combined mode on test set\n"
     ]
    },
    {
     "name": "stderr",
     "output_type": "stream",
     "text": [
      "  0%|          | 0/1 [00:00<?, ?it/s]"
     ]
    },
    {
     "name": "stdout",
     "output_type": "stream",
     "text": [
      "multilabel-indicator multilabel-indicator\n",
      "float64 float32\n",
      "(556, 3) (556, 3)\n",
      "Training and Evaluating on task 2\n",
      "Train data shape is  (280, 440)\n",
      "Train Labels shape is  (280, 2)\n",
      "Classes trained are: 3 to 5\n",
      "Samples with all negative labels 1\n",
      "Augmenting class labels...\n",
      "Train Labels shape is  (280, 5)\n",
      "Output dimensions: 5\n",
      "growing model size ...\n"
     ]
    },
    {
     "name": "stderr",
     "output_type": "stream",
     "text": [
      "100%|██████████| 1/1 [00:00<00:00,  5.28it/s]\n"
     ]
    },
    {
     "name": "stdout",
     "output_type": "stream",
     "text": [
      "Evaluating in individual mode on test set\n",
      "multilabel-indicator multilabel-indicator\n",
      "float64 float32\n",
      "(556, 2) (556, 2)\n",
      "Evaluating in combined mode on test set\n"
     ]
    },
    {
     "name": "stderr",
     "output_type": "stream",
     "text": [
      "  0%|          | 0/1 [00:00<?, ?it/s]"
     ]
    },
    {
     "name": "stdout",
     "output_type": "stream",
     "text": [
      "multilabel-indicator multilabel-indicator\n",
      "float64 float32\n",
      "(556, 5) (556, 5)\n",
      "Training and Evaluating on task 3\n",
      "Train data shape is  (278, 440)\n",
      "Train Labels shape is  (278, 3)\n",
      "Classes trained are: 5 to 8\n",
      "Samples with all negative labels 1\n",
      "Augmenting class labels...\n",
      "Train Labels shape is  (278, 8)\n",
      "Output dimensions: 8\n",
      "growing model size ...\n"
     ]
    },
    {
     "name": "stderr",
     "output_type": "stream",
     "text": [
      "100%|██████████| 1/1 [00:00<00:00,  5.17it/s]\n"
     ]
    },
    {
     "name": "stdout",
     "output_type": "stream",
     "text": [
      "Evaluating in individual mode on test set\n",
      "multilabel-indicator multilabel-indicator\n",
      "float64 float32\n",
      "(556, 3) (556, 3)\n",
      "Evaluating in combined mode on test set\n",
      "multilabel-indicator multilabel-indicator\n",
      "float64 float32\n",
      "(556, 8) (556, 8)\n",
      "Evaluating in individual mode on test set\n",
      "|                     |        0 |         1 |          2 |\n",
      "|:--------------------|---------:|----------:|-----------:|\n",
      "| hamming loss        | 0.670863 | 0.461331  | 0.378297   |\n",
      "| zero_one_loss       | 1        | 0.901079  | 0.994604   |\n",
      "| one_error           | 0.379496 | 0.0215827 | 0          |\n",
      "| micro av. jaccard   | 0.161798 | 0.096831  | 0.00473186 |\n",
      "| macro av. jaccard   | 0.129496 | 0.0494604 | 0.00179856 |\n",
      "| micro av. precision | 0.194245 | 0.0989209 | 0.00539568 |\n",
      "| macro av. precision | 0.129496 | 0.0494604 | 0.00179856 |\n",
      "| micro av. recall    | 0.492027 | 0.820896  | 0.037037   |\n",
      "| macro av. recall    | 0.666667 | 0.5       | 0.333333   |\n",
      "| micro av. f1        | 0.27853  | 0.176565  | 0.00941915 |\n",
      "| macro av. f1        | 0.208283 | 0.0900164 | 0.00357782 |\n",
      "| imb. av. f1         | 0.207079 | 0.812715  | 0.456408   |\n",
      "Evaluating in combined mode on test set\n",
      "|                     |        0 |        1 |         2 |\n",
      "|:--------------------|---------:|---------:|----------:|\n",
      "| hamming loss        | 0.670863 | 0.58705  | 0.508768  |\n",
      "| zero_one_loss       | 1        | 1        | 1         |\n",
      "| one_error           | 0.379496 | 0        | 0         |\n",
      "| micro av. jaccard   | 0.161798 | 0.142407 | 0.108002  |\n",
      "| macro av. jaccard   | 0.129496 | 0.097482 | 0.0616007 |\n",
      "| micro av. precision | 0.194245 | 0.16247  | 0.123201  |\n",
      "| macro av. precision | 0.129496 | 0.097482 | 0.0616007 |\n",
      "| micro av. recall    | 0.492027 | 0.535573 | 0.46678   |\n",
      "| macro av. recall    | 0.666667 | 0.6      | 0.5       |\n",
      "| micro av. f1        | 0.27853  | 0.24931  | 0.194948  |\n",
      "| macro av. f1        | 0.208283 | 0.160977 | 0.101952  |\n",
      "| imb. av. f1         | 0.207079 | 0.666885 | 0.501082  |\n",
      "File saved to ./checkpoints_new/gnegative_0_SI_asy.pkl\n",
      "Number of Tasks: 3\n",
      "Forgetting in task 1: first time imb. av. f1 = 0.8223, after all tasks imb. av. f1 = 0.2071\n",
      "Forgetting in task 2: first time imb. av. f1 = 0.1873, after all tasks imb. av. f1 = 0.2071\n",
      "Forgetting in task 3: first time imb. av. f1 = 0.4564, after all tasks imb. av. f1 = 0.2071\n"
     ]
    },
    {
     "data": {
      "image/png": "[encoded data removed]",
      "text/plain": [
       "<Figure size 360x360 with 1 Axes>"
      ]
     },
     "metadata": {
      "needs_background": "light"
     },
     "output_type": "display_data"
    }
   ],
   "source": [
    "hparams = Hyperparameters('gnegative', continual_method, device)\n",
    "experiment = ContinualExperiment(hparams)\n",
    "experiment.run()"
   ]
  },
  {
   "cell_type": "markdown",
   "metadata": {},
   "source": [
    "## Plants Dataset"
   ]
  },
  {
   "cell_type": "code",
   "execution_count": 8,
   "metadata": {},
   "outputs": [
    {
     "name": "stderr",
     "output_type": "stream",
     "text": [
      "  0%|          | 0/1 [00:00<?, ?it/s]"
     ]
    },
    {
     "name": "stdout",
     "output_type": "stream",
     "text": [
      "Processing Data ...\n",
      "(588, 440)\n",
      "(390, 440)\n",
      "(588, 12)\n",
      "(390, 12)\n",
      "Begin training in SI mode ...\n",
      "Training and Evaluating on task 1\n",
      "Train data shape is  (186, 440)\n",
      "Train Labels shape is  (186, 4)\n",
      "Classes trained are: 0 to 4\n",
      "Samples with all negative labels 0\n",
      "Output dimensions: 4\n"
     ]
    },
    {
     "name": "stderr",
     "output_type": "stream",
     "text": [
      "100%|██████████| 1/1 [00:00<00:00, 15.67it/s]"
     ]
    },
    {
     "name": "stdout",
     "output_type": "stream",
     "text": [
      "Evaluating in individual mode on test set\n"
     ]
    },
    {
     "name": "stderr",
     "output_type": "stream",
     "text": [
      "\n"
     ]
    },
    {
     "name": "stdout",
     "output_type": "stream",
     "text": [
      "multilabel-indicator multilabel-indicator\n",
      "float64 float32\n",
      "(390, 4) (390, 4)\n",
      "Evaluating in combined mode on test set\n"
     ]
    },
    {
     "name": "stderr",
     "output_type": "stream",
     "text": [
      "  0%|          | 0/1 [00:00<?, ?it/s]"
     ]
    },
    {
     "name": "stdout",
     "output_type": "stream",
     "text": [
      "multilabel-indicator multilabel-indicator\n",
      "float64 float32\n",
      "(390, 4) (390, 4)\n",
      "Training and Evaluating on task 2\n",
      "Train data shape is  (186, 440)\n",
      "Train Labels shape is  (186, 4)\n",
      "Classes trained are: 4 to 8\n",
      "Samples with all negative labels 0\n",
      "Augmenting class labels...\n",
      "Train Labels shape is  (186, 8)\n",
      "Output dimensions: 8\n",
      "growing model size ...\n"
     ]
    },
    {
     "name": "stderr",
     "output_type": "stream",
     "text": [
      "100%|██████████| 1/1 [00:00<00:00,  7.34it/s]\n"
     ]
    },
    {
     "name": "stdout",
     "output_type": "stream",
     "text": [
      "Evaluating in individual mode on test set\n",
      "multilabel-indicator multilabel-indicator\n",
      "float64 float32\n",
      "(390, 4) (390, 4)\n",
      "Evaluating in combined mode on test set\n"
     ]
    },
    {
     "name": "stderr",
     "output_type": "stream",
     "text": [
      "  0%|          | 0/1 [00:00<?, ?it/s]"
     ]
    },
    {
     "name": "stdout",
     "output_type": "stream",
     "text": [
      "multilabel-indicator multilabel-indicator\n",
      "float64 float32\n",
      "(390, 8) (390, 8)\n",
      "Training and Evaluating on task 3\n",
      "Train data shape is  (186, 440)\n",
      "Train Labels shape is  (186, 4)\n",
      "Classes trained are: 8 to 12\n",
      "Samples with all negative labels 4\n",
      "Augmenting class labels...\n",
      "Train Labels shape is  (186, 12)\n",
      "Output dimensions: 12\n",
      "growing model size ...\n"
     ]
    },
    {
     "name": "stderr",
     "output_type": "stream",
     "text": [
      "100%|██████████| 1/1 [00:00<00:00,  7.53it/s]\n"
     ]
    },
    {
     "name": "stdout",
     "output_type": "stream",
     "text": [
      "Evaluating in individual mode on test set\n",
      "multilabel-indicator multilabel-indicator\n",
      "float64 float32\n",
      "(390, 4) (390, 4)\n",
      "Evaluating in combined mode on test set\n",
      "multilabel-indicator multilabel-indicator\n",
      "float64 float32\n",
      "(390, 12) (390, 12)\n",
      "Evaluating in individual mode on test set\n",
      "|                     |        0 |         1 |         2 |\n",
      "|:--------------------|---------:|----------:|----------:|\n",
      "| hamming loss        | 0.140385 | 0.765385  | 0.0660256 |\n",
      "| zero_one_loss       | 0.55641  | 1         | 0.264103  |\n",
      "| one_error           | 0        | 0.146154  | 0         |\n",
      "| micro av. jaccard   | 0        | 0.0268949 | 0         |\n",
      "| macro av. jaccard   | 0        | 0.0211538 | 0         |\n",
      "| micro av. precision | 0        | 0.0282051 | 0         |\n",
      "| macro av. precision | 0        | 0.0211538 | 0         |\n",
      "| micro av. recall    | 0        | 0.366667  | 0         |\n",
      "| macro av. recall    | 0        | 0.75      | 0         |\n",
      "| micro av. f1        | 0        | 0.052381  | 0         |\n",
      "| macro av. f1        | 0        | 0.0410688 | 0         |\n",
      "| imb. av. f1         | 0.930834 | 0.0771416 | 0.958775  |\n",
      "Evaluating in combined mode on test set\n",
      "|                     |        0 |         1 |          2 |\n",
      "|:--------------------|---------:|----------:|-----------:|\n",
      "| hamming loss        | 0.140385 | 0.452885  | 0.323932   |\n",
      "| zero_one_loss       | 0.55641  | 1         | 1          |\n",
      "| one_error           | 0        | 0         | 0          |\n",
      "| micro av. jaccard   | 0        | 0.0228216 | 0.0213041  |\n",
      "| macro av. jaccard   | 0        | 0.0105769 | 0.00705128 |\n",
      "| micro av. precision | 0        | 0.0282051 | 0.0282051  |\n",
      "| macro av. precision | 0        | 0.0105769 | 0.00705128 |\n",
      "| micro av. recall    | 0        | 0.106796  | 0.0800971  |\n",
      "| macro av. recall    | 0        | 0.375     | 0.25       |\n",
      "| micro av. f1        | 0        | 0.0446247 | 0.0417193  |\n",
      "| macro av. f1        | 0        | 0.0205344 | 0.0136896  |\n",
      "| imb. av. f1         | 0.930834 | 0.364526  | 0.575743   |\n",
      "File saved to ./checkpoints_new/plants_0_SI_asy.pkl\n",
      "Number of Tasks: 3\n",
      "Forgetting in task 1: first time imb. av. f1 = 0.9308, after all tasks imb. av. f1 = 0.9308\n",
      "Forgetting in task 2: first time imb. av. f1 = 0.0771, after all tasks imb. av. f1 = 0.9308\n",
      "Forgetting in task 3: first time imb. av. f1 = 0.9588, after all tasks imb. av. f1 = 0.9308\n"
     ]
    },
    {
     "data": {
      "image/png": "[encoded data removed]",
      "text/plain": [
       "<Figure size 360x360 with 1 Axes>"
      ]
     },
     "metadata": {
      "needs_background": "light"
     },
     "output_type": "display_data"
    }
   ],
   "source": [
    "hparams = Hyperparameters('plants', continual_method, device)\n",
    "experiment = ContinualExperiment(hparams)\n",
    "experiment.run()"
   ]
  },
  {
   "cell_type": "markdown",
   "metadata": {},
   "source": [
    "## Virus Dataset"
   ]
  },
  {
   "cell_type": "code",
   "execution_count": 9,
   "metadata": {},
   "outputs": [
    {
     "name": "stderr",
     "output_type": "stream",
     "text": [
      "100%|██████████| 1/1 [00:00<00:00, 44.17it/s]"
     ]
    },
    {
     "name": "stdout",
     "output_type": "stream",
     "text": [
      "Processing Data ...\n",
      "(124, 440)\n",
      "(83, 440)\n",
      "(124, 6)\n",
      "(83, 6)\n",
      "Begin training in SI mode ...\n",
      "Training and Evaluating on task 1\n",
      "Train data shape is  (41, 440)\n",
      "Train Labels shape is  (41, 2)\n",
      "Classes trained are: 0 to 2\n",
      "Samples with all negative labels 0\n",
      "Output dimensions: 2\n",
      "Evaluating in individual mode on test set\n"
     ]
    },
    {
     "name": "stderr",
     "output_type": "stream",
     "text": [
      "\n",
      "  0%|          | 0/1 [00:00<?, ?it/s]"
     ]
    },
    {
     "name": "stdout",
     "output_type": "stream",
     "text": [
      "multilabel-indicator multilabel-indicator\n",
      "float64 float32\n",
      "(83, 2) (83, 2)\n",
      "Evaluating in combined mode on test set\n",
      "multilabel-indicator multilabel-indicator\n",
      "float64 float32\n",
      "(83, 2) (83, 2)\n",
      "Training and Evaluating on task 2\n",
      "Train data shape is  (41, 440)\n",
      "Train Labels shape is  (41, 2)\n",
      "Classes trained are: 2 to 4\n",
      "Samples with all negative labels 2\n",
      "Augmenting class labels...\n",
      "Train Labels shape is  (41, 4)\n",
      "Output dimensions: 4\n",
      "growing model size ...\n"
     ]
    },
    {
     "name": "stderr",
     "output_type": "stream",
     "text": [
      "100%|██████████| 1/1 [00:00<00:00, 26.30it/s]"
     ]
    },
    {
     "name": "stdout",
     "output_type": "stream",
     "text": [
      "Evaluating in individual mode on test set\n"
     ]
    },
    {
     "name": "stderr",
     "output_type": "stream",
     "text": [
      "\n",
      "  0%|          | 0/1 [00:00<?, ?it/s]"
     ]
    },
    {
     "name": "stdout",
     "output_type": "stream",
     "text": [
      "multilabel-indicator multilabel-indicator\n",
      "float64 float32\n",
      "(83, 2) (83, 2)\n",
      "Evaluating in combined mode on test set\n",
      "multilabel-indicator multilabel-indicator\n",
      "float64 float32\n",
      "(83, 4) (83, 4)\n",
      "Training and Evaluating on task 3\n",
      "Train data shape is  (42, 440)\n",
      "Train Labels shape is  (42, 2)\n",
      "Classes trained are: 4 to 6\n",
      "Samples with all negative labels 2\n",
      "Augmenting class labels...\n",
      "Train Labels shape is  (42, 6)\n",
      "Output dimensions: 6\n",
      "growing model size ...\n"
     ]
    },
    {
     "name": "stderr",
     "output_type": "stream",
     "text": [
      "100%|██████████| 1/1 [00:00<00:00, 25.13it/s]"
     ]
    },
    {
     "name": "stdout",
     "output_type": "stream",
     "text": [
      "Evaluating in individual mode on test set\n"
     ]
    },
    {
     "name": "stderr",
     "output_type": "stream",
     "text": [
      "\n"
     ]
    },
    {
     "name": "stdout",
     "output_type": "stream",
     "text": [
      "multilabel-indicator multilabel-indicator\n",
      "float64 float32\n",
      "(83, 2) (83, 2)\n",
      "Evaluating in combined mode on test set\n",
      "multilabel-indicator multilabel-indicator\n",
      "float64 float32\n",
      "(83, 6) (83, 6)\n",
      "Evaluating in individual mode on test set\n",
      "|                     |         0 |        1 |         2 |\n",
      "|:--------------------|----------:|---------:|----------:|\n",
      "| hamming loss        | 0.903614  | 0.246988 | 0.644578  |\n",
      "| zero_one_loss       | 1         | 0.493976 | 0.903614  |\n",
      "| one_error           | 0.807229  | 0        | 0.385542  |\n",
      "| micro av. jaccard   | 0.0963855 | 0        | 0.0775862 |\n",
      "| macro av. jaccard   | 0.0963855 | 0        | 0.0542169 |\n",
      "| micro av. precision | 0.0963855 | 0        | 0.108434  |\n",
      "| macro av. precision | 0.0963855 | 0        | 0.0542169 |\n",
      "| micro av. recall    | 1         | 0        | 0.214286  |\n",
      "| macro av. recall    | 1         | 0        | 0.5       |\n",
      "| micro av. f1        | 0.175824  | 0        | 0.144     |\n",
      "| macro av. f1        | 0.1703    | 0        | 0.0978261 |\n",
      "| imb. av. f1         | 0.0629183 | 0.855141 | 0.220701  |\n",
      "Evaluating in combined mode on test set\n",
      "|                     |         0 |         1 |         2 |\n",
      "|:--------------------|----------:|----------:|----------:|\n",
      "| hamming loss        | 0.903614  | 0.575301  | 0.598394  |\n",
      "| zero_one_loss       | 1         | 1         | 1         |\n",
      "| one_error           | 0.807229  | 0         | 0         |\n",
      "| micro av. jaccard   | 0.0963855 | 0.0772947 | 0.0773994 |\n",
      "| macro av. jaccard   | 0.0963855 | 0.0481928 | 0.0502008 |\n",
      "| micro av. precision | 0.0963855 | 0.0963855 | 0.100402  |\n",
      "| macro av. precision | 0.0963855 | 0.0481928 | 0.0502008 |\n",
      "| micro av. recall    | 1         | 0.280702  | 0.252525  |\n",
      "| macro av. recall    | 1         | 0.5       | 0.5       |\n",
      "| micro av. f1        | 0.175824  | 0.143498  | 0.143678  |\n",
      "| macro av. f1        | 0.1703    | 0.0851502 | 0.0893755 |\n",
      "| imb. av. f1         | 0.0629183 | 0.319051  | 0.297993  |\n",
      "File saved to ./checkpoints_new/virus_0_SI_asy.pkl\n",
      "Number of Tasks: 3\n",
      "Forgetting in task 1: first time imb. av. f1 = 0.0629, after all tasks imb. av. f1 = 0.0629\n",
      "Forgetting in task 2: first time imb. av. f1 = 0.8551, after all tasks imb. av. f1 = 0.0629\n",
      "Forgetting in task 3: first time imb. av. f1 = 0.2207, after all tasks imb. av. f1 = 0.0629\n"
     ]
    },
    {
     "data": {
      "image/png": "[encoded data removed]",
      "text/plain": [
       "<Figure size 360x360 with 1 Axes>"
      ]
     },
     "metadata": {
      "needs_background": "light"
     },
     "output_type": "display_data"
    }
   ],
   "source": [
    "hparams = Hyperparameters('virus', continual_method, device)\n",
    "experiment = ContinualExperiment(hparams)\n",
    "experiment.run()"
   ]
  },
  {
   "cell_type": "markdown",
   "metadata": {},
   "source": [
    "## Scene Dataset"
   ]
  },
  {
   "cell_type": "code",
   "execution_count": 10,
   "metadata": {},
   "outputs": [
    {
     "name": "stdout",
     "output_type": "stream",
     "text": [
      "Processing Data ...\n"
     ]
    },
    {
     "name": "stderr",
     "output_type": "stream",
     "text": [
      "100%|██████████| 1/1 [00:00<00:00,  6.52it/s]"
     ]
    },
    {
     "name": "stdout",
     "output_type": "stream",
     "text": [
      "(1211, 294)\n",
      "(1196, 294)\n",
      "(1211, 6)\n",
      "(1196, 6)\n",
      "Begin training in SI mode ...\n",
      "Training and Evaluating on task 1\n",
      "Train data shape is  (405, 294)\n",
      "Train Labels shape is  (405, 2)\n",
      "Classes trained are: 0 to 2\n",
      "Samples with all negative labels 0\n",
      "Output dimensions: 2\n",
      "Evaluating in individual mode on test set\n"
     ]
    },
    {
     "name": "stderr",
     "output_type": "stream",
     "text": [
      "\n"
     ]
    },
    {
     "name": "stdout",
     "output_type": "stream",
     "text": [
      "multilabel-indicator multilabel-indicator\n",
      "float32 float32\n",
      "(1196, 2) (1196, 2)\n",
      "Evaluating in combined mode on test set\n"
     ]
    },
    {
     "name": "stderr",
     "output_type": "stream",
     "text": [
      "  0%|          | 0/1 [00:00<?, ?it/s]"
     ]
    },
    {
     "name": "stdout",
     "output_type": "stream",
     "text": [
      "multilabel-indicator multilabel-indicator\n",
      "float32 float32\n",
      "(1196, 2) (1196, 2)\n",
      "Training and Evaluating on task 2\n",
      "Train data shape is  (403, 294)\n",
      "Train Labels shape is  (403, 2)\n",
      "Classes trained are: 2 to 4\n",
      "Samples with all negative labels 2\n",
      "Augmenting class labels...\n",
      "Train Labels shape is  (403, 4)\n",
      "Output dimensions: 4\n",
      "growing model size ...\n"
     ]
    },
    {
     "name": "stderr",
     "output_type": "stream",
     "text": [
      "100%|██████████| 1/1 [00:00<00:00,  3.41it/s]\n"
     ]
    },
    {
     "name": "stdout",
     "output_type": "stream",
     "text": [
      "Evaluating in individual mode on test set\n",
      "multilabel-indicator multilabel-indicator\n",
      "float32 float32\n",
      "(1196, 2) (1196, 2)\n",
      "Evaluating in combined mode on test set\n",
      "multilabel-indicator multilabel-indicator\n",
      "float32 float32\n",
      "(1196, 4) (1196, 4)\n",
      "Training and Evaluating on task 3\n",
      "Train data shape is  (403, 294)\n",
      "Train Labels shape is  (403, 2)\n",
      "Classes trained are: 4 to 6\n",
      "Samples with all negative labels 2\n",
      "Augmenting class labels...\n",
      "Train Labels shape is  (403, 6)\n",
      "Output dimensions: 6\n",
      "growing model size ...\n"
     ]
    },
    {
     "name": "stderr",
     "output_type": "stream",
     "text": [
      "100%|██████████| 1/1 [00:00<00:00,  3.41it/s]\n"
     ]
    },
    {
     "name": "stdout",
     "output_type": "stream",
     "text": [
      "Evaluating in individual mode on test set\n",
      "multilabel-indicator multilabel-indicator\n",
      "float32 float32\n",
      "(1196, 2) (1196, 2)\n",
      "Evaluating in combined mode on test set\n",
      "multilabel-indicator multilabel-indicator\n",
      "float32 float32\n",
      "(1196, 6) (1196, 6)\n",
      "Evaluating in individual mode on test set\n",
      "|                     |        0 |         1 |        2 |\n",
      "|:--------------------|---------:|----------:|---------:|\n",
      "| hamming loss        | 0.499582 | 0.182692  | 0.193562 |\n",
      "| zero_one_loss       | 0.832776 | 0.352007  | 0.387124 |\n",
      "| one_error           | 0.166388 | 0.0133779 | 0        |\n",
      "| micro av. jaccard   | 0.143369 | 0         | 0        |\n",
      "| macro av. jaccard   | 0.083612 | 0         | 0        |\n",
      "| micro av. precision | 0.167224 | 0         | 0        |\n",
      "| macro av. precision | 0.083612 | 0         | 0        |\n",
      "| micro av. recall    | 0.501253 | 0         | 0        |\n",
      "| macro av. recall    | 0.5      | 0         | 0        |\n",
      "| micro av. f1        | 0.250784 | 0         | 0        |\n",
      "| macro av. f1        | 0.143266 | 0         | 0        |\n",
      "| imb. av. f1         | 0.501249 | 0.818611  | 0.808597 |\n",
      "Evaluating in combined mode on test set\n",
      "|                     |        0 |         1 |         2 |\n",
      "|:--------------------|---------:|----------:|----------:|\n",
      "| hamming loss        | 0.499582 | 0.341137  | 0.291945  |\n",
      "| zero_one_loss       | 0.832776 | 0.833612  | 0.853679  |\n",
      "| one_error           | 0.166388 | 0         | 0         |\n",
      "| micro av. jaccard   | 0.143369 | 0.10917   | 0.087146  |\n",
      "| macro av. jaccard   | 0.083612 | 0.041806  | 0.0278707 |\n",
      "| micro av. precision | 0.167224 | 0.167224  | 0.167224  |\n",
      "| macro av. precision | 0.083612 | 0.041806  | 0.0278707 |\n",
      "| micro av. recall    | 0.501253 | 0.239234  | 0.153965  |\n",
      "| macro av. recall    | 0.5      | 0.25      | 0.166667  |\n",
      "| micro av. f1        | 0.250784 | 0.19685   | 0.160321  |\n",
      "| macro av. f1        | 0.143266 | 0.0716332 | 0.0477555 |\n",
      "| imb. av. f1         | 0.501249 | 0.653316  | 0.701816  |\n",
      "File saved to ./checkpoints_new/scene_0_SI_asy.pkl\n",
      "Number of Tasks: 3\n",
      "Forgetting in task 1: first time imb. av. f1 = 0.5012, after all tasks imb. av. f1 = 0.5012\n",
      "Forgetting in task 2: first time imb. av. f1 = 0.8186, after all tasks imb. av. f1 = 0.5012\n",
      "Forgetting in task 3: first time imb. av. f1 = 0.8086, after all tasks imb. av. f1 = 0.5012\n"
     ]
    },
    {
     "data": {
      "image/png": "[encoded data removed]",
      "text/plain": [
       "<Figure size 360x360 with 1 Axes>"
      ]
     },
     "metadata": {
      "needs_background": "light"
     },
     "output_type": "display_data"
    }
   ],
   "source": [
    "hparams = Hyperparameters('scene', continual_method, device)\n",
    "experiment = ContinualExperiment(hparams)\n",
    "experiment.run()"
   ]
  },
  {
   "cell_type": "markdown",
   "metadata": {},
   "source": [
    "## FoodTruck Dataset"
   ]
  },
  {
   "cell_type": "code",
   "execution_count": 11,
   "metadata": {},
   "outputs": [
    {
     "name": "stdout",
     "output_type": "stream",
     "text": [
      "Processing Data ...\n"
     ]
    },
    {
     "name": "stderr",
     "output_type": "stream",
     "text": [
      "100%|██████████| 1/1 [00:00<00:00, 29.38it/s]"
     ]
    },
    {
     "name": "stdout",
     "output_type": "stream",
     "text": [
      "(250, 21)\n",
      "(250, 21)\n",
      "(250, 12)\n",
      "(250, 12)\n",
      "Begin training in SI mode ...\n",
      "Training and Evaluating on task 1\n",
      "Train data shape is  (90, 21)\n",
      "Train Labels shape is  (90, 4)\n",
      "Classes trained are: 0 to 4\n",
      "Samples with all negative labels 0\n",
      "Output dimensions: 4\n",
      "Evaluating in individual mode on test set\n",
      "multilabel-indicator multilabel-indicator\n",
      "float64 float32\n",
      "(250, 4) (250, 4)\n"
     ]
    },
    {
     "name": "stderr",
     "output_type": "stream",
     "text": [
      "\n"
     ]
    },
    {
     "name": "stdout",
     "output_type": "stream",
     "text": [
      "Evaluating in combined mode on test set\n",
      "multilabel-indicator multilabel-indicator\n",
      "float64 float32\n",
      "(250, 4) (250, 4)\n",
      "Training and Evaluating on task 2\n",
      "Train data shape is  (80, 21)\n",
      "Train Labels shape is  (80, 4)\n",
      "Classes trained are: 4 to 8\n",
      "Samples with all negative labels 0\n",
      "Augmenting class labels...\n"
     ]
    },
    {
     "name": "stderr",
     "output_type": "stream",
     "text": [
      "  0%|          | 0/1 [00:00<?, ?it/s]"
     ]
    },
    {
     "name": "stdout",
     "output_type": "stream",
     "text": [
      "Train Labels shape is  (80, 8)\n",
      "Output dimensions: 8\n",
      "growing model size ...\n"
     ]
    },
    {
     "name": "stderr",
     "output_type": "stream",
     "text": [
      "100%|██████████| 1/1 [00:00<00:00, 17.69it/s]"
     ]
    },
    {
     "name": "stdout",
     "output_type": "stream",
     "text": [
      "Evaluating in individual mode on test set\n",
      "multilabel-indicator multilabel-indicator\n",
      "float64 float32\n",
      "(250, 4) (250, 4)\n"
     ]
    },
    {
     "name": "stderr",
     "output_type": "stream",
     "text": [
      "\n"
     ]
    },
    {
     "name": "stdout",
     "output_type": "stream",
     "text": [
      "Evaluating in combined mode on test set\n"
     ]
    },
    {
     "name": "stderr",
     "output_type": "stream",
     "text": [
      "  0%|          | 0/1 [00:00<?, ?it/s]"
     ]
    },
    {
     "name": "stdout",
     "output_type": "stream",
     "text": [
      "multilabel-indicator multilabel-indicator\n",
      "float64 float32\n",
      "(250, 8) (250, 8)\n",
      "Training and Evaluating on task 3\n",
      "Train data shape is  (80, 21)\n",
      "Train Labels shape is  (80, 4)\n",
      "Classes trained are: 8 to 12\n",
      "Samples with all negative labels 0\n",
      "Augmenting class labels...\n",
      "Train Labels shape is  (80, 12)\n",
      "Output dimensions: 12\n",
      "growing model size ...\n"
     ]
    },
    {
     "name": "stderr",
     "output_type": "stream",
     "text": [
      "100%|██████████| 1/1 [00:00<00:00, 17.47it/s]"
     ]
    },
    {
     "name": "stdout",
     "output_type": "stream",
     "text": [
      "Evaluating in individual mode on test set\n"
     ]
    },
    {
     "name": "stderr",
     "output_type": "stream",
     "text": [
      "\n"
     ]
    },
    {
     "name": "stdout",
     "output_type": "stream",
     "text": [
      "multilabel-indicator multilabel-indicator\n",
      "float64 float32\n",
      "(250, 4) (250, 4)\n",
      "Evaluating in combined mode on test set\n",
      "multilabel-indicator multilabel-indicator\n",
      "float64 float32\n",
      "(250, 12) (250, 12)\n",
      "Evaluating in individual mode on test set\n",
      "|                     |        0 |         1 |        2 |\n",
      "|:--------------------|---------:|----------:|---------:|\n",
      "| hamming loss        | 0.67     | 0.501     | 0.831    |\n",
      "| zero_one_loss       | 0.976    | 1         | 0.996    |\n",
      "| one_error           | 0.088    | 0.004     | 0.52     |\n",
      "| micro av. jaccard   | 0.33     | 0.0600375 | 0.169    |\n",
      "| macro av. jaccard   | 0.33     | 0.032     | 0.169    |\n",
      "| micro av. precision | 0.33     | 0.064     | 0.169    |\n",
      "| macro av. precision | 0.33     | 0.032     | 0.169    |\n",
      "| micro av. recall    | 1        | 0.492308  | 1        |\n",
      "| macro av. recall    | 1        | 0.5       | 1        |\n",
      "| micro av. f1        | 0.496241 | 0.113274  | 0.289136 |\n",
      "| macro av. f1        | 0.452252 | 0.0596719 | 0.271838 |\n",
      "| imb. av. f1         | 0.203984 | 0.469494  | 0.108521 |\n",
      "Evaluating in combined mode on test set\n",
      "|                     |        0 |        1 |        2 |\n",
      "|:--------------------|---------:|---------:|---------:|\n",
      "| hamming loss        | 0.67     | 0.5855   | 0.667333 |\n",
      "| zero_one_loss       | 0.976    | 1        | 1        |\n",
      "| one_error           | 0.088    | 0.004    | 0        |\n",
      "| micro av. jaccard   | 0.33     | 0.236138 | 0.209633 |\n",
      "| macro av. jaccard   | 0.33     | 0.181    | 0.177    |\n",
      "| micro av. precision | 0.33     | 0.241333 | 0.2124   |\n",
      "| macro av. precision | 0.33     | 0.181    | 0.177    |\n",
      "| micro av. recall    | 1        | 0.916456 | 0.941489 |\n",
      "| macro av. recall    | 1        | 0.75     | 0.833333 |\n",
      "| micro av. f1        | 0.496241 | 0.382058 | 0.346606 |\n",
      "| macro av. f1        | 0.452252 | 0.255962 | 0.261254 |\n",
      "| imb. av. f1         | 0.203984 | 0.407667 | 0.317653 |\n",
      "File saved to ./checkpoints_new/FoodTruck_0_SI_asy.pkl\n",
      "Number of Tasks: 3\n",
      "Forgetting in task 1: first time imb. av. f1 = 0.2059, after all tasks imb. av. f1 = 0.2040\n",
      "Forgetting in task 2: first time imb. av. f1 = 0.4695, after all tasks imb. av. f1 = 0.2040\n",
      "Forgetting in task 3: first time imb. av. f1 = 0.1085, after all tasks imb. av. f1 = 0.2040\n"
     ]
    },
    {
     "data": {
      "image/png": "[encoded data removed]",
      "text/plain": [
       "<Figure size 360x360 with 1 Axes>"
      ]
     },
     "metadata": {
      "needs_background": "light"
     },
     "output_type": "display_data"
    }
   ],
   "source": [
    "hparams = Hyperparameters('FoodTruck', continual_method, device)\n",
    "experiment = ContinualExperiment(hparams)\n",
    "experiment.run()"
   ]
  },
  {
   "cell_type": "markdown",
   "metadata": {},
   "source": [
    "## Human Dataset"
   ]
  },
  {
   "cell_type": "code",
   "execution_count": 12,
   "metadata": {},
   "outputs": [
    {
     "name": "stderr",
     "output_type": "stream",
     "text": [
      "  0%|          | 0/1 [00:00<?, ?it/s]"
     ]
    },
    {
     "name": "stdout",
     "output_type": "stream",
     "text": [
      "Processing Data ...\n",
      "(1862, 440)\n",
      "(1244, 440)\n",
      "(1862, 11)\n",
      "(1244, 11)\n",
      "Begin training in SI mode ...\n",
      "Training and Evaluating on task 1\n",
      "Train data shape is  (310, 440)\n",
      "Train Labels shape is  (310, 2)\n",
      "Classes trained are: 0 to 2\n",
      "Samples with all negative labels 0\n",
      "Output dimensions: 2\n"
     ]
    },
    {
     "name": "stderr",
     "output_type": "stream",
     "text": [
      "100%|██████████| 1/1 [00:00<00:00,  7.86it/s]"
     ]
    },
    {
     "name": "stdout",
     "output_type": "stream",
     "text": [
      "Evaluating in individual mode on test set\n"
     ]
    },
    {
     "name": "stderr",
     "output_type": "stream",
     "text": [
      "\n"
     ]
    },
    {
     "name": "stdout",
     "output_type": "stream",
     "text": [
      "multilabel-indicator multilabel-indicator\n",
      "float64 float32\n",
      "(1244, 2) (1244, 2)\n",
      "Evaluating in combined mode on test set\n"
     ]
    },
    {
     "name": "stderr",
     "output_type": "stream",
     "text": [
      "  0%|          | 0/1 [00:00<?, ?it/s]"
     ]
    },
    {
     "name": "stdout",
     "output_type": "stream",
     "text": [
      "multilabel-indicator multilabel-indicator\n",
      "float64 float32\n",
      "(1244, 2) (1244, 2)\n",
      "Training and Evaluating on task 2\n",
      "Train data shape is  (310, 440)\n",
      "Train Labels shape is  (310, 2)\n",
      "Classes trained are: 2 to 4\n",
      "Samples with all negative labels 0\n",
      "Augmenting class labels...\n",
      "Train Labels shape is  (310, 4)\n",
      "Output dimensions: 4\n",
      "growing model size ...\n"
     ]
    },
    {
     "name": "stderr",
     "output_type": "stream",
     "text": [
      "100%|██████████| 1/1 [00:00<00:00,  4.38it/s]\n"
     ]
    },
    {
     "name": "stdout",
     "output_type": "stream",
     "text": [
      "Evaluating in individual mode on test set\n",
      "multilabel-indicator multilabel-indicator\n",
      "float64 float32\n",
      "(1244, 2) (1244, 2)\n",
      "Evaluating in combined mode on test set\n"
     ]
    },
    {
     "name": "stderr",
     "output_type": "stream",
     "text": [
      "  0%|          | 0/1 [00:00<?, ?it/s]"
     ]
    },
    {
     "name": "stdout",
     "output_type": "stream",
     "text": [
      "multilabel-indicator multilabel-indicator\n",
      "float64 float32\n",
      "(1244, 4) (1244, 4)\n",
      "Training and Evaluating on task 3\n",
      "Train data shape is  (310, 440)\n",
      "Train Labels shape is  (310, 2)\n",
      "Classes trained are: 4 to 6\n",
      "Samples with all negative labels 2\n",
      "Augmenting class labels...\n",
      "Train Labels shape is  (310, 6)\n",
      "Output dimensions: 6\n",
      "growing model size ...\n"
     ]
    },
    {
     "name": "stderr",
     "output_type": "stream",
     "text": [
      "100%|██████████| 1/1 [00:00<00:00,  4.39it/s]\n"
     ]
    },
    {
     "name": "stdout",
     "output_type": "stream",
     "text": [
      "Evaluating in individual mode on test set\n",
      "multilabel-indicator multilabel-indicator\n",
      "float64 float32\n",
      "(1244, 2) (1244, 2)\n",
      "Evaluating in combined mode on test set\n"
     ]
    },
    {
     "name": "stderr",
     "output_type": "stream",
     "text": [
      "  0%|          | 0/1 [00:00<?, ?it/s]"
     ]
    },
    {
     "name": "stdout",
     "output_type": "stream",
     "text": [
      "multilabel-indicator multilabel-indicator\n",
      "float64 float32\n",
      "(1244, 6) (1244, 6)\n",
      "Training and Evaluating on task 4\n",
      "Train data shape is  (310, 440)\n",
      "Train Labels shape is  (310, 2)\n",
      "Classes trained are: 6 to 8\n",
      "Samples with all negative labels 0\n",
      "Augmenting class labels...\n",
      "Train Labels shape is  (310, 8)\n",
      "Output dimensions: 8\n",
      "growing model size ...\n"
     ]
    },
    {
     "name": "stderr",
     "output_type": "stream",
     "text": [
      "100%|██████████| 1/1 [00:00<00:00,  4.03it/s]\n"
     ]
    },
    {
     "name": "stdout",
     "output_type": "stream",
     "text": [
      "Evaluating in individual mode on test set\n",
      "multilabel-indicator multilabel-indicator\n",
      "float64 float32\n",
      "(1244, 2) (1244, 2)\n",
      "Evaluating in combined mode on test set\n",
      "multilabel-indicator multilabel-indicator\n",
      "float64 float32\n",
      "(1244, 8) (1244, 8)\n",
      "Training and Evaluating on task 5\n",
      "Train data shape is  (622, 440)\n",
      "Train Labels shape is  (622, 3)\n",
      "Classes trained are: 8 to 11\n",
      "Samples with all negative labels 0\n",
      "Augmenting class labels...\n"
     ]
    },
    {
     "name": "stderr",
     "output_type": "stream",
     "text": [
      "  0%|          | 0/1 [00:00<?, ?it/s]"
     ]
    },
    {
     "name": "stdout",
     "output_type": "stream",
     "text": [
      "Train Labels shape is  (622, 11)\n",
      "Output dimensions: 11\n",
      "growing model size ...\n"
     ]
    },
    {
     "name": "stderr",
     "output_type": "stream",
     "text": [
      "100%|██████████| 1/1 [00:00<00:00,  1.98it/s]\n"
     ]
    },
    {
     "name": "stdout",
     "output_type": "stream",
     "text": [
      "Evaluating in individual mode on test set\n",
      "multilabel-indicator multilabel-indicator\n",
      "float64 float32\n",
      "(1244, 3) (1244, 3)\n",
      "Evaluating in combined mode on test set\n",
      "multilabel-indicator multilabel-indicator\n",
      "float64 float32\n",
      "(1244, 11) (1244, 11)\n",
      "Evaluating in individual mode on test set\n",
      "|                     |         0 |         1 |         2 |         3 |         4 |\n",
      "|:--------------------|----------:|----------:|----------:|----------:|----------:|\n",
      "| hamming loss        | 0.381431  | 0.0502412 | 0.463424  | 0.926045  | 0.85075   |\n",
      "| zero_one_loss       | 0.741961  | 0.100482  | 0.878617  | 1         | 1         |\n",
      "| one_error           | 0.0209003 | 0         | 0.0482315 | 0.85209   | 0.553859  |\n",
      "| micro av. jaccard   | 0.255686  | 0         | 0.117152  | 0.073955  | 0.14925   |\n",
      "| macro av. jaccard   | 0.131029  | 0         | 0.0614952 | 0.073955  | 0.14925   |\n",
      "| micro av. precision | 0.262058  | 0         | 0.12299   | 0.073955  | 0.14925   |\n",
      "| macro av. precision | 0.131029  | 0         | 0.0614952 | 0.073955  | 0.14925   |\n",
      "| micro av. recall    | 0.913165  | 0         | 0.711628  | 1         | 1         |\n",
      "| macro av. recall    | 0.5       | 0         | 0.5       | 1         | 1         |\n",
      "| micro av. f1        | 0.407245  | 0         | 0.209733  | 0.137725  | 0.259734  |\n",
      "| macro av. f1        | 0.207643  | 0         | 0.10952   | 0.134208  | 0.239144  |\n",
      "| imb. av. f1         | 0.911524  | 0.96232   | 0.710015  | 0.0448778 | 0.0413064 |\n",
      "Evaluating in combined mode on test set\n",
      "|                     |         0 |         1 |         2 |         3 |         4 |\n",
      "|:--------------------|----------:|----------:|----------:|----------:|----------:|\n",
      "| hamming loss        | 0.381431  | 0.215836  | 0.298365  | 0.455285  | 0.563139  |\n",
      "| zero_one_loss       | 0.741961  | 0.749196  | 0.998392  | 1         | 1         |\n",
      "| one_error           | 0.0209003 | 0         | 0         | 0         | 0         |\n",
      "| micro av. jaccard   | 0.255686  | 0.232857  | 0.177014  | 0.127647  | 0.136679  |\n",
      "| macro av. jaccard   | 0.131029  | 0.0655145 | 0.0641747 | 0.0666198 | 0.0891552 |\n",
      "| micro av. precision | 0.262058  | 0.262058  | 0.192524  | 0.13324   | 0.140101  |\n",
      "| macro av. precision | 0.131029  | 0.0655145 | 0.0641747 | 0.0666198 | 0.0891552 |\n",
      "| micro av. recall    | 0.913165  | 0.676349  | 0.687231  | 0.752554  | 0.848401  |\n",
      "| macro av. recall    | 0.5       | 0.25      | 0.333333  | 0.5       | 0.636364  |\n",
      "| micro av. f1        | 0.407245  | 0.377752  | 0.300785  | 0.226396  | 0.240489  |\n",
      "| macro av. f1        | 0.207643  | 0.103822  | 0.105721  | 0.112843  | 0.147289  |\n",
      "| imb. av. f1         | 0.911524  | 0.939415  | 0.887299  | 0.665456  | 0.47823   |\n",
      "File saved to ./checkpoints_new/Human_0_SI_asy.pkl\n",
      "Number of Tasks: 5\n",
      "Forgetting in task 1: first time imb. av. f1 = 0.9539, after all tasks imb. av. f1 = 0.9115\n",
      "Forgetting in task 2: first time imb. av. f1 = 0.9623, after all tasks imb. av. f1 = 0.9115\n",
      "Forgetting in task 3: first time imb. av. f1 = 0.7100, after all tasks imb. av. f1 = 0.9115\n",
      "Forgetting in task 4: first time imb. av. f1 = 0.1877, after all tasks imb. av. f1 = 0.9115\n",
      "Forgetting in task 5: first time imb. av. f1 = 0.0413, after all tasks imb. av. f1 = 0.9115\n"
     ]
    },
    {
     "data": {
      "image/png": "[encoded data removed]",
      "text/plain": [
       "<Figure size 360x360 with 1 Axes>"
      ]
     },
     "metadata": {
      "needs_background": "light"
     },
     "output_type": "display_data"
    }
   ],
   "source": [
    "hparams = Hyperparameters('Human', continual_method, device)\n",
    "experiment = ContinualExperiment(hparams)\n",
    "experiment.run()"
   ]
  },
  {
   "cell_type": "markdown",
   "metadata": {},
   "source": [
    "## Birds Dataset"
   ]
  },
  {
   "cell_type": "code",
   "execution_count": 13,
   "metadata": {},
   "outputs": [
    {
     "name": "stdout",
     "output_type": "stream",
     "text": [
      "Processing Data ...\n"
     ]
    },
    {
     "name": "stderr",
     "output_type": "stream",
     "text": [
      "  0%|          | 0/1 [00:00<?, ?it/s]"
     ]
    },
    {
     "name": "stdout",
     "output_type": "stream",
     "text": [
      "(322, 260)\n",
      "(323, 260)\n",
      "(322, 19)\n",
      "(323, 19)\n",
      "Begin training in SI mode ...\n",
      "Training and Evaluating on task 1\n",
      "Train data shape is  (54, 260)\n",
      "Train Labels shape is  (54, 3)\n",
      "Classes trained are: 0 to 3\n",
      "Samples with all negative labels 0\n",
      "Output dimensions: 3\n"
     ]
    },
    {
     "name": "stderr",
     "output_type": "stream",
     "text": [
      "100%|██████████| 1/1 [00:00<00:00, 35.91it/s]"
     ]
    },
    {
     "name": "stdout",
     "output_type": "stream",
     "text": [
      "Evaluating in individual mode on test set\n",
      "multilabel-indicator multilabel-indicator\n",
      "float32 float32\n",
      "(323, 3) (323, 3)\n"
     ]
    },
    {
     "name": "stderr",
     "output_type": "stream",
     "text": [
      "\n"
     ]
    },
    {
     "name": "stdout",
     "output_type": "stream",
     "text": [
      "Evaluating in combined mode on test set\n"
     ]
    },
    {
     "name": "stderr",
     "output_type": "stream",
     "text": [
      "  0%|          | 0/1 [00:00<?, ?it/s]"
     ]
    },
    {
     "name": "stdout",
     "output_type": "stream",
     "text": [
      "multilabel-indicator multilabel-indicator\n",
      "float32 float32\n",
      "(323, 3) (323, 3)\n",
      "Training and Evaluating on task 2\n",
      "Train data shape is  (54, 260)\n",
      "Train Labels shape is  (54, 3)\n",
      "Classes trained are: 3 to 6\n",
      "Samples with all negative labels 1\n",
      "Augmenting class labels...\n",
      "Train Labels shape is  (54, 6)\n",
      "Output dimensions: 6\n",
      "growing model size ...\n"
     ]
    },
    {
     "name": "stderr",
     "output_type": "stream",
     "text": [
      "100%|██████████| 1/1 [00:00<00:00, 18.86it/s]"
     ]
    },
    {
     "name": "stdout",
     "output_type": "stream",
     "text": [
      "Evaluating in individual mode on test set\n"
     ]
    },
    {
     "name": "stderr",
     "output_type": "stream",
     "text": [
      "\n"
     ]
    },
    {
     "name": "stdout",
     "output_type": "stream",
     "text": [
      "multilabel-indicator multilabel-indicator\n",
      "float32 float32\n",
      "(323, 3) (323, 3)\n",
      "Evaluating in combined mode on test set\n",
      "multilabel-indicator multilabel-indicator\n",
      "float32 float32\n",
      "(323, 6) (323, 6)\n",
      "Training and Evaluating on task 3\n"
     ]
    },
    {
     "name": "stderr",
     "output_type": "stream",
     "text": [
      "100%|██████████| 1/1 [00:00<00:00, 18.77it/s]"
     ]
    },
    {
     "name": "stdout",
     "output_type": "stream",
     "text": [
      "Train data shape is  (54, 260)\n",
      "Train Labels shape is  (54, 3)\n",
      "Classes trained are: 6 to 9\n",
      "Samples with all negative labels 0\n",
      "Augmenting class labels...\n",
      "Train Labels shape is  (54, 9)\n",
      "Output dimensions: 9\n",
      "growing model size ...\n",
      "Evaluating in individual mode on test set\n"
     ]
    },
    {
     "name": "stderr",
     "output_type": "stream",
     "text": [
      "\n"
     ]
    },
    {
     "name": "stdout",
     "output_type": "stream",
     "text": [
      "multilabel-indicator multilabel-indicator\n",
      "float32 float32\n",
      "(323, 3) (323, 3)\n",
      "Evaluating in combined mode on test set\n",
      "multilabel-indicator multilabel-indicator\n",
      "float32 float32\n",
      "(323, 9) (323, 9)\n"
     ]
    },
    {
     "name": "stderr",
     "output_type": "stream",
     "text": [
      "100%|██████████| 1/1 [00:00<00:00, 18.77it/s]"
     ]
    },
    {
     "name": "stdout",
     "output_type": "stream",
     "text": [
      "Training and Evaluating on task 4\n",
      "Train data shape is  (54, 260)\n",
      "Train Labels shape is  (54, 3)\n",
      "Classes trained are: 9 to 12\n",
      "Samples with all negative labels 0\n",
      "Augmenting class labels...\n",
      "Train Labels shape is  (54, 12)\n",
      "Output dimensions: 12\n",
      "growing model size ...\n",
      "Evaluating in individual mode on test set\n"
     ]
    },
    {
     "name": "stderr",
     "output_type": "stream",
     "text": [
      "\n"
     ]
    },
    {
     "name": "stdout",
     "output_type": "stream",
     "text": [
      "multilabel-indicator multilabel-indicator\n",
      "float32 float32\n",
      "(323, 3) (323, 3)\n",
      "Evaluating in combined mode on test set\n",
      "multilabel-indicator multilabel-indicator\n",
      "float32 float32\n",
      "(323, 12) (323, 12)\n"
     ]
    },
    {
     "name": "stderr",
     "output_type": "stream",
     "text": [
      "100%|██████████| 1/1 [00:00<00:00, 20.66it/s]"
     ]
    },
    {
     "name": "stdout",
     "output_type": "stream",
     "text": [
      "Training and Evaluating on task 5\n",
      "Train data shape is  (54, 260)\n",
      "Train Labels shape is  (54, 3)\n",
      "Classes trained are: 12 to 15\n",
      "Samples with all negative labels 0\n",
      "Augmenting class labels...\n",
      "Train Labels shape is  (54, 15)\n",
      "Output dimensions: 15\n",
      "growing model size ...\n",
      "Evaluating in individual mode on test set\n"
     ]
    },
    {
     "name": "stderr",
     "output_type": "stream",
     "text": [
      "\n"
     ]
    },
    {
     "name": "stdout",
     "output_type": "stream",
     "text": [
      "multilabel-indicator multilabel-indicator\n",
      "float32 float32\n",
      "(323, 3) (323, 3)\n",
      "Evaluating in combined mode on test set\n",
      "multilabel-indicator multilabel-indicator\n",
      "float32 float32\n",
      "(323, 15) (323, 15)\n"
     ]
    },
    {
     "name": "stderr",
     "output_type": "stream",
     "text": [
      "100%|██████████| 1/1 [00:00<00:00, 22.08it/s]"
     ]
    },
    {
     "name": "stdout",
     "output_type": "stream",
     "text": [
      "Training and Evaluating on task 6\n",
      "Train data shape is  (52, 260)\n",
      "Train Labels shape is  (52, 4)\n",
      "Classes trained are: 15 to 19\n",
      "Samples with all negative labels 0\n",
      "Augmenting class labels...\n",
      "Train Labels shape is  (52, 19)\n",
      "Output dimensions: 19\n",
      "growing model size ...\n",
      "Evaluating in individual mode on test set\n"
     ]
    },
    {
     "name": "stderr",
     "output_type": "stream",
     "text": [
      "\n"
     ]
    },
    {
     "name": "stdout",
     "output_type": "stream",
     "text": [
      "multilabel-indicator multilabel-indicator\n",
      "float32 float32\n",
      "(323, 4) (323, 4)\n",
      "Evaluating in combined mode on test set\n",
      "multilabel-indicator multilabel-indicator\n",
      "float32 float32\n",
      "(323, 19) (323, 19)\n",
      "Evaluating in individual mode on test set\n",
      "|                     |          0 |         1 |         2 |         3 |          4 |         5 |\n",
      "|:--------------------|-----------:|----------:|----------:|----------:|-----------:|----------:|\n",
      "| hamming loss        | 0.399381   | 0.981424  | 0.925697  | 0.914345  | 0.634675   | 0.98065   |\n",
      "| zero_one_loss       | 0.978328   | 1         | 0.996904  | 1         | 0.996904   | 1         |\n",
      "| one_error           | 0.0216718  | 0.944272  | 0.798762  | 0.767802  | 0.00619195 | 0.922601  |\n",
      "| micro av. jaccard   | 0.0177665  | 0.0185759 | 0.0743034 | 0.0856553 | 0.0523883  | 0.0193498 |\n",
      "| macro av. jaccard   | 0.00722394 | 0.0185759 | 0.0743034 | 0.0856553 | 0.0350877  | 0.0193498 |\n",
      "| micro av. precision | 0.0216718  | 0.0185759 | 0.0743034 | 0.0856553 | 0.0526316  | 0.0193498 |\n",
      "| macro av. precision | 0.00722394 | 0.0185759 | 0.0743034 | 0.0856553 | 0.0350877  | 0.0193498 |\n",
      "| micro av. recall    | 0.0897436  | 1         | 1         | 1         | 0.918919   | 1         |\n",
      "| macro av. recall    | 0.333333   | 1         | 1         | 1         | 0.666667   | 1         |\n",
      "| micro av. f1        | 0.0349127  | 0.0364742 | 0.138329  | 0.157795  | 0.0995608  | 0.0379651 |\n",
      "| macro av. f1        | 0.0141414  | 0.0364621 | 0.137797  | 0.15647   | 0.0666228  | 0.0377624 |\n",
      "| imb. av. f1         | 0.305514   | 0.018279  | 0.070377  | 0.0754115 | 0.69937    | 0.0140031 |\n",
      "Evaluating in combined mode on test set\n",
      "|                     |          0 |         1 |         2 |          3 |         4 |         5 |\n",
      "|:--------------------|-----------:|----------:|----------:|-----------:|----------:|----------:|\n",
      "| hamming loss        | 0.399381   | 0.690402  | 0.768834  | 0.805212   | 0.771104  | 0.815219  |\n",
      "| zero_one_loss       | 0.978328   | 1         | 1         | 1          | 1         | 1         |\n",
      "| one_error           | 0.0216718  | 0.0216718 | 0.0154799 | 0.00928793 | 0         | 0         |\n",
      "| micro av. jaccard   | 0.0177665  | 0.0183419 | 0.0415952 | 0.0545289  | 0.0541772 | 0.0455933 |\n",
      "| macro av. jaccard   | 0.00722394 | 0.0128999 | 0.0333677 | 0.0464396  | 0.0441692 | 0.0389441 |\n",
      "| micro av. precision | 0.0216718  | 0.0193498 | 0.0429014 | 0.0557276  | 0.0552116 | 0.0462461 |\n",
      "| macro av. precision | 0.00722394 | 0.0128999 | 0.0333677 | 0.0464396  | 0.0441692 | 0.0389441 |\n",
      "| micro av. recall    | 0.0897436  | 0.260417  | 0.577381  | 0.717131   | 0.743056  | 0.763578  |\n",
      "| macro av. recall    | 0.333333   | 0.666667  | 0.777778  | 0.833333   | 0.8       | 0.842105  |\n",
      "| micro av. f1        | 0.0349127  | 0.0360231 | 0.0798683 | 0.103419   | 0.102786  | 0.0872104 |\n",
      "| macro av. f1        | 0.0141414  | 0.0253017 | 0.0628    | 0.0862174  | 0.0822985 | 0.0729225 |\n",
      "| imb. av. f1         | 0.305514   | 0.103967  | 0.0982725 | 0.0951421  | 0.273728  | 0.177301  |\n",
      "File saved to ./checkpoints_new/birds_0_SI_asy.pkl\n",
      "Number of Tasks: 6\n",
      "Forgetting in task 1: first time imb. av. f1 = 0.9528, after all tasks imb. av. f1 = 0.3055\n",
      "Forgetting in task 2: first time imb. av. f1 = 0.6100, after all tasks imb. av. f1 = 0.3055\n",
      "Forgetting in task 3: first time imb. av. f1 = 0.2626, after all tasks imb. av. f1 = 0.3055\n",
      "Forgetting in task 4: first time imb. av. f1 = 0.0754, after all tasks imb. av. f1 = 0.3055\n",
      "Forgetting in task 5: first time imb. av. f1 = 0.6994, after all tasks imb. av. f1 = 0.3055\n",
      "Forgetting in task 6: first time imb. av. f1 = 0.0140, after all tasks imb. av. f1 = 0.3055\n"
     ]
    },
    {
     "data": {
      "image/png": "[encoded data removed]",
      "text/plain": [
       "<Figure size 360x360 with 1 Axes>"
      ]
     },
     "metadata": {
      "needs_background": "light"
     },
     "output_type": "display_data"
    }
   ],
   "source": [
    "hparams = Hyperparameters('birds', continual_method, device)\n",
    "experiment = ContinualExperiment(hparams)\n",
    "experiment.run()"
   ]
  },
  {
   "cell_type": "markdown",
   "metadata": {},
   "source": [
    "## Yeast Dataset, 6 tasks"
   ]
  },
  {
   "cell_type": "code",
   "execution_count": 14,
   "metadata": {},
   "outputs": [
    {
     "name": "stdout",
     "output_type": "stream",
     "text": [
      "Processing Data ...\n"
     ]
    },
    {
     "name": "stderr",
     "output_type": "stream",
     "text": [
      "100%|██████████| 1/1 [00:00<00:00, 11.23it/s]"
     ]
    },
    {
     "name": "stdout",
     "output_type": "stream",
     "text": [
      "(1500, 103)\n",
      "(917, 103)\n",
      "(1500, 13)\n",
      "(917, 13)\n",
      "Begin training in SI mode ...\n",
      "Training and Evaluating on task 1\n",
      "Train data shape is  (250, 103)\n",
      "Train Labels shape is  (250, 2)\n",
      "Classes trained are: 0 to 2\n",
      "Samples with all negative labels 0\n",
      "Output dimensions: 2\n",
      "Evaluating in individual mode on test set\n"
     ]
    },
    {
     "name": "stderr",
     "output_type": "stream",
     "text": [
      "\n"
     ]
    },
    {
     "name": "stdout",
     "output_type": "stream",
     "text": [
      "multilabel-indicator multilabel-indicator\n",
      "float32 float32\n",
      "(917, 2) (917, 2)\n",
      "Evaluating in combined mode on test set\n"
     ]
    },
    {
     "name": "stderr",
     "output_type": "stream",
     "text": [
      "  0%|          | 0/1 [00:00<?, ?it/s]"
     ]
    },
    {
     "name": "stdout",
     "output_type": "stream",
     "text": [
      "multilabel-indicator multilabel-indicator\n",
      "float32 float32\n",
      "(917, 2) (917, 2)\n",
      "Training and Evaluating on task 2\n",
      "Train data shape is  (250, 103)\n",
      "Train Labels shape is  (250, 2)\n",
      "Classes trained are: 2 to 4\n",
      "Samples with all negative labels 0\n",
      "Augmenting class labels...\n",
      "Train Labels shape is  (250, 4)\n",
      "Output dimensions: 4\n",
      "growing model size ...\n"
     ]
    },
    {
     "name": "stderr",
     "output_type": "stream",
     "text": [
      "100%|██████████| 1/1 [00:00<00:00,  5.07it/s]\n"
     ]
    },
    {
     "name": "stdout",
     "output_type": "stream",
     "text": [
      "Evaluating in individual mode on test set\n",
      "multilabel-indicator multilabel-indicator\n",
      "float32 float32\n",
      "(917, 2) (917, 2)\n",
      "Evaluating in combined mode on test set\n"
     ]
    },
    {
     "name": "stderr",
     "output_type": "stream",
     "text": [
      "  0%|          | 0/1 [00:00<?, ?it/s]"
     ]
    },
    {
     "name": "stdout",
     "output_type": "stream",
     "text": [
      "multilabel-indicator multilabel-indicator\n",
      "float32 float32\n",
      "(917, 4) (917, 4)\n",
      "Training and Evaluating on task 3\n",
      "Train data shape is  (250, 103)\n",
      "Train Labels shape is  (250, 2)\n",
      "Classes trained are: 4 to 6\n",
      "Samples with all negative labels 0\n",
      "Augmenting class labels...\n",
      "Train Labels shape is  (250, 6)\n",
      "Output dimensions: 6\n",
      "growing model size ...\n"
     ]
    },
    {
     "name": "stderr",
     "output_type": "stream",
     "text": [
      "100%|██████████| 1/1 [00:00<00:00,  5.20it/s]\n"
     ]
    },
    {
     "name": "stdout",
     "output_type": "stream",
     "text": [
      "Evaluating in individual mode on test set\n",
      "multilabel-indicator multilabel-indicator\n",
      "float32 float32\n",
      "(917, 2) (917, 2)\n",
      "Evaluating in combined mode on test set\n"
     ]
    },
    {
     "name": "stderr",
     "output_type": "stream",
     "text": [
      "  0%|          | 0/1 [00:00<?, ?it/s]"
     ]
    },
    {
     "name": "stdout",
     "output_type": "stream",
     "text": [
      "multilabel-indicator multilabel-indicator\n",
      "float32 float32\n",
      "(917, 6) (917, 6)\n",
      "Training and Evaluating on task 4\n",
      "Train data shape is  (250, 103)\n",
      "Train Labels shape is  (250, 2)\n",
      "Classes trained are: 6 to 8\n",
      "Samples with all negative labels 0\n",
      "Augmenting class labels...\n",
      "Train Labels shape is  (250, 8)\n",
      "Output dimensions: 8\n",
      "growing model size ...\n"
     ]
    },
    {
     "name": "stderr",
     "output_type": "stream",
     "text": [
      "100%|██████████| 1/1 [00:00<00:00,  5.61it/s]\n"
     ]
    },
    {
     "name": "stdout",
     "output_type": "stream",
     "text": [
      "Evaluating in individual mode on test set\n",
      "multilabel-indicator multilabel-indicator\n",
      "float32 float32\n",
      "(917, 2) (917, 2)\n",
      "Evaluating in combined mode on test set\n"
     ]
    },
    {
     "name": "stderr",
     "output_type": "stream",
     "text": [
      "  0%|          | 0/1 [00:00<?, ?it/s]"
     ]
    },
    {
     "name": "stdout",
     "output_type": "stream",
     "text": [
      "multilabel-indicator multilabel-indicator\n",
      "float32 float32\n",
      "(917, 8) (917, 8)\n",
      "Training and Evaluating on task 5\n",
      "Train data shape is  (250, 103)\n",
      "Train Labels shape is  (250, 2)\n",
      "Classes trained are: 8 to 10\n",
      "Samples with all negative labels 0\n",
      "Augmenting class labels...\n",
      "Train Labels shape is  (250, 10)\n",
      "Output dimensions: 10\n",
      "growing model size ...\n"
     ]
    },
    {
     "name": "stderr",
     "output_type": "stream",
     "text": [
      "100%|██████████| 1/1 [00:00<00:00,  5.51it/s]\n"
     ]
    },
    {
     "name": "stdout",
     "output_type": "stream",
     "text": [
      "Evaluating in individual mode on test set\n",
      "multilabel-indicator multilabel-indicator\n",
      "float32 float32\n",
      "(917, 2) (917, 2)\n",
      "Evaluating in combined mode on test set\n"
     ]
    },
    {
     "name": "stderr",
     "output_type": "stream",
     "text": [
      "  0%|          | 0/1 [00:00<?, ?it/s]"
     ]
    },
    {
     "name": "stdout",
     "output_type": "stream",
     "text": [
      "multilabel-indicator multilabel-indicator\n",
      "float32 float32\n",
      "(917, 10) (917, 10)\n",
      "Training and Evaluating on task 6\n",
      "Train data shape is  (250, 103)\n",
      "Train Labels shape is  (250, 3)\n",
      "Classes trained are: 10 to 13\n",
      "Samples with all negative labels 0\n",
      "Augmenting class labels...\n",
      "Train Labels shape is  (250, 13)\n",
      "Output dimensions: 13\n",
      "growing model size ...\n"
     ]
    },
    {
     "name": "stderr",
     "output_type": "stream",
     "text": [
      "100%|██████████| 1/1 [00:00<00:00,  5.44it/s]\n"
     ]
    },
    {
     "name": "stdout",
     "output_type": "stream",
     "text": [
      "Evaluating in individual mode on test set\n",
      "multilabel-indicator multilabel-indicator\n",
      "float32 float32\n",
      "(917, 3) (917, 3)\n",
      "Evaluating in combined mode on test set\n",
      "multilabel-indicator multilabel-indicator\n",
      "float32 float32\n",
      "(917, 13) (917, 13)\n",
      "Evaluating in individual mode on test set\n",
      "|                     |        0 |        1 |        2 |        3 |         4 |        5 |\n",
      "|:--------------------|---------:|---------:|---------:|---------:|----------:|---------:|\n",
      "| hamming loss        | 0.629771 | 0.610142 | 0.727372 | 0.804798 | 0.906216  | 0.468557 |\n",
      "| zero_one_loss       | 0.74482  | 0.750273 | 0.80916  | 0.847328 | 0.970556  | 0.932388 |\n",
      "| one_error           | 0.514722 | 0.470011 | 0.645583 | 0.762268 | 0.841876  | 0.223555 |\n",
      "| micro av. jaccard   | 0.370229 | 0.389858 | 0.272628 | 0.195202 | 0.0937841 | 0.531443 |\n",
      "| macro av. jaccard   | 0.370229 | 0.389858 | 0.272628 | 0.195202 | 0.0937841 | 0.531443 |\n",
      "| micro av. precision | 0.370229 | 0.389858 | 0.272628 | 0.195202 | 0.0937841 | 0.531443 |\n",
      "| macro av. precision | 0.370229 | 0.389858 | 0.272628 | 0.195202 | 0.0937841 | 0.531443 |\n",
      "| micro av. recall    | 1        | 1        | 1        | 1        | 1         | 1        |\n",
      "| macro av. recall    | 1        | 1        | 1        | 1        | 1         | 1        |\n",
      "| micro av. f1        | 0.54039  | 0.561004 | 0.428449 | 0.326642 | 0.171486  | 0.694042 |\n",
      "| macro av. f1        | 0.537739 | 0.560334 | 0.427339 | 0.326442 | 0.17142   | 0.630542 |\n",
      "| imb. av. f1         | 0.361062 | 0.387558 | 0.268453 | 0.194329 | 0.0933328 | 0.236271 |\n",
      "Evaluating in combined mode on test set\n",
      "|                     |        0 |        1 |         2 |         3 |         4 |        5 |\n",
      "|:--------------------|---------:|---------:|----------:|----------:|----------:|---------:|\n",
      "| hamming loss        | 0.629771 | 0.619956 | 0.655762  | 0.693021  | 0.73566   | 0.674021 |\n",
      "| zero_one_loss       | 0.74482  | 0.964013 | 0.998909  | 1         | 1         | 1        |\n",
      "| one_error           | 0.514722 | 0.23337  | 0.0937841 | 0.0359869 | 0.0185387 | 0        |\n",
      "| micro av. jaccard   | 0.370229 | 0.380044 | 0.344238  | 0.306979  | 0.26434   | 0.325979 |\n",
      "| macro av. jaccard   | 0.370229 | 0.380044 | 0.344238  | 0.306979  | 0.26434   | 0.325979 |\n",
      "| micro av. precision | 0.370229 | 0.380044 | 0.344238  | 0.306979  | 0.26434   | 0.325979 |\n",
      "| macro av. precision | 0.370229 | 0.380044 | 0.344238  | 0.306979  | 0.26434   | 0.325979 |\n",
      "| micro av. recall    | 1        | 1        | 1         | 1         | 1         | 1        |\n",
      "| macro av. recall    | 1        | 1        | 1         | 1         | 1         | 1        |\n",
      "| micro av. f1        | 0.54039  | 0.55077  | 0.512169  | 0.469754  | 0.418147  | 0.491681 |\n",
      "| macro av. f1        | 0.537739 | 0.549037 | 0.508471  | 0.462964  | 0.404655  | 0.456783 |\n",
      "| imb. av. f1         | 0.361062 | 0.373842 | 0.330611  | 0.281366  | 0.200913  | 0.208104 |\n",
      "File saved to ./checkpoints_new/Yeast_0_SI_asy.pkl\n",
      "Number of Tasks: 6\n",
      "Forgetting in task 1: first time imb. av. f1 = 0.3611, after all tasks imb. av. f1 = 0.3611\n",
      "Forgetting in task 2: first time imb. av. f1 = 0.3876, after all tasks imb. av. f1 = 0.3611\n",
      "Forgetting in task 3: first time imb. av. f1 = 0.2685, after all tasks imb. av. f1 = 0.3611\n",
      "Forgetting in task 4: first time imb. av. f1 = 0.1943, after all tasks imb. av. f1 = 0.3611\n",
      "Forgetting in task 5: first time imb. av. f1 = 0.0933, after all tasks imb. av. f1 = 0.3611\n",
      "Forgetting in task 6: first time imb. av. f1 = 0.2363, after all tasks imb. av. f1 = 0.3611\n"
     ]
    },
    {
     "data": {
      "image/png": "[encoded data removed]",
      "text/plain": [
       "<Figure size 360x360 with 1 Axes>"
      ]
     },
     "metadata": {
      "needs_background": "light"
     },
     "output_type": "display_data"
    }
   ],
   "source": [
    "hparams = Hyperparameters('Yeast', continual_method, device, num_tasks=6)\n",
    "experiment = ContinualExperiment(hparams)\n",
    "experiment.run()"
   ]
  },
  {
   "cell_type": "markdown",
   "metadata": {},
   "source": [
    "## Eukaryote Dataset"
   ]
  },
  {
   "cell_type": "code",
   "execution_count": 15,
   "metadata": {},
   "outputs": [
    {
     "name": "stderr",
     "output_type": "stream",
     "text": [
      "  0%|          | 0/1 [00:00<?, ?it/s]"
     ]
    },
    {
     "name": "stdout",
     "output_type": "stream",
     "text": [
      "Processing Data ...\n",
      "(4658, 440)\n",
      "(3108, 440)\n",
      "(4658, 19)\n",
      "(3108, 19)\n",
      "Begin training in SI mode ...\n",
      "Training and Evaluating on task 1\n",
      "Train data shape is  (435, 440)\n",
      "Train Labels shape is  (435, 2)\n",
      "Classes trained are: 0 to 2\n",
      "Samples with all negative labels 0\n",
      "Output dimensions: 2\n"
     ]
    },
    {
     "name": "stderr",
     "output_type": "stream",
     "text": [
      "100%|██████████| 1/1 [00:00<00:00,  5.44it/s]\n"
     ]
    },
    {
     "name": "stdout",
     "output_type": "stream",
     "text": [
      "Evaluating in individual mode on test set\n",
      "multilabel-indicator multilabel-indicator\n",
      "float64 float32\n",
      "(3108, 2) (3108, 2)\n",
      "Evaluating in combined mode on test set\n",
      "multilabel-indicator multilabel-indicator\n",
      "float64 float32\n",
      "(3108, 2) (3108, 2)\n",
      "Training and Evaluating on task 2\n",
      "Train data shape is  (530, 440)\n",
      "Train Labels shape is  (530, 2)\n",
      "Classes trained are: 2 to 4\n",
      "Samples with all negative labels 0\n",
      "Augmenting class labels...\n"
     ]
    },
    {
     "name": "stderr",
     "output_type": "stream",
     "text": [
      "  0%|          | 0/1 [00:00<?, ?it/s]"
     ]
    },
    {
     "name": "stdout",
     "output_type": "stream",
     "text": [
      "Train Labels shape is  (530, 4)\n",
      "Output dimensions: 4\n",
      "growing model size ...\n"
     ]
    },
    {
     "name": "stderr",
     "output_type": "stream",
     "text": [
      "100%|██████████| 1/1 [00:00<00:00,  2.57it/s]\n"
     ]
    },
    {
     "name": "stdout",
     "output_type": "stream",
     "text": [
      "Evaluating in individual mode on test set\n",
      "multilabel-indicator multilabel-indicator\n",
      "float64 float32\n",
      "(3108, 2) (3108, 2)\n",
      "Evaluating in combined mode on test set\n",
      "multilabel-indicator multilabel-indicator\n",
      "float64 float32\n",
      "(3108, 4) (3108, 4)\n",
      "Training and Evaluating on task 3\n",
      "Train data shape is  (438, 440)\n",
      "Train Labels shape is  (438, 2)\n",
      "Classes trained are: 4 to 6\n",
      "Samples with all negative labels 1\n",
      "Augmenting class labels...\n"
     ]
    },
    {
     "name": "stderr",
     "output_type": "stream",
     "text": [
      "  0%|          | 0/1 [00:00<?, ?it/s]"
     ]
    },
    {
     "name": "stdout",
     "output_type": "stream",
     "text": [
      "Train Labels shape is  (438, 6)\n",
      "Output dimensions: 6\n",
      "growing model size ...\n"
     ]
    },
    {
     "name": "stderr",
     "output_type": "stream",
     "text": [
      "100%|██████████| 1/1 [00:00<00:00,  3.06it/s]\n"
     ]
    },
    {
     "name": "stdout",
     "output_type": "stream",
     "text": [
      "Evaluating in individual mode on test set\n",
      "multilabel-indicator multilabel-indicator\n",
      "float64 float32\n",
      "(3108, 2) (3108, 2)\n",
      "Evaluating in combined mode on test set\n",
      "multilabel-indicator multilabel-indicator\n",
      "float64 float32\n",
      "(3108, 6) (3108, 6)\n",
      "Training and Evaluating on task 4\n",
      "Train data shape is  (465, 440)\n",
      "Train Labels shape is  (465, 2)\n",
      "Classes trained are: 6 to 8\n",
      "Samples with all negative labels 1\n",
      "Augmenting class labels...\n"
     ]
    },
    {
     "name": "stderr",
     "output_type": "stream",
     "text": [
      "  0%|          | 0/1 [00:00<?, ?it/s]"
     ]
    },
    {
     "name": "stdout",
     "output_type": "stream",
     "text": [
      "Train Labels shape is  (465, 8)\n",
      "Output dimensions: 8\n",
      "growing model size ...\n"
     ]
    },
    {
     "name": "stderr",
     "output_type": "stream",
     "text": [
      "100%|██████████| 1/1 [00:00<00:00,  2.82it/s]\n"
     ]
    },
    {
     "name": "stdout",
     "output_type": "stream",
     "text": [
      "Evaluating in individual mode on test set\n",
      "multilabel-indicator multilabel-indicator\n",
      "float64 float32\n",
      "(3108, 2) (3108, 2)\n",
      "Evaluating in combined mode on test set\n",
      "multilabel-indicator multilabel-indicator\n",
      "float64 float32\n",
      "(3108, 8) (3108, 8)\n",
      "Training and Evaluating on task 5\n",
      "Train data shape is  (465, 440)\n",
      "Train Labels shape is  (465, 2)\n",
      "Classes trained are: 8 to 10\n",
      "Samples with all negative labels 0\n",
      "Augmenting class labels...\n"
     ]
    },
    {
     "name": "stderr",
     "output_type": "stream",
     "text": [
      "  0%|          | 0/1 [00:00<?, ?it/s]"
     ]
    },
    {
     "name": "stdout",
     "output_type": "stream",
     "text": [
      "Train Labels shape is  (465, 10)\n",
      "Output dimensions: 10\n",
      "growing model size ...\n"
     ]
    },
    {
     "name": "stderr",
     "output_type": "stream",
     "text": [
      "100%|██████████| 1/1 [00:00<00:00,  2.79it/s]\n"
     ]
    },
    {
     "name": "stdout",
     "output_type": "stream",
     "text": [
      "Evaluating in individual mode on test set\n",
      "multilabel-indicator multilabel-indicator\n",
      "float64 float32\n",
      "(3108, 2) (3108, 2)\n",
      "Evaluating in combined mode on test set\n",
      "multilabel-indicator multilabel-indicator\n",
      "float64 float32\n",
      "(3108, 10) (3108, 10)\n",
      "Training and Evaluating on task 6\n",
      "Train data shape is  (465, 440)\n",
      "Train Labels shape is  (465, 2)\n",
      "Classes trained are: 10 to 12\n",
      "Samples with all negative labels 2\n",
      "Augmenting class labels...\n"
     ]
    },
    {
     "name": "stderr",
     "output_type": "stream",
     "text": [
      "  0%|          | 0/1 [00:00<?, ?it/s]"
     ]
    },
    {
     "name": "stdout",
     "output_type": "stream",
     "text": [
      "Train Labels shape is  (465, 12)\n",
      "Output dimensions: 12\n",
      "growing model size ...\n"
     ]
    },
    {
     "name": "stderr",
     "output_type": "stream",
     "text": [
      "100%|██████████| 1/1 [00:00<00:00,  2.86it/s]\n"
     ]
    },
    {
     "name": "stdout",
     "output_type": "stream",
     "text": [
      "Evaluating in individual mode on test set\n",
      "multilabel-indicator multilabel-indicator\n",
      "float64 float32\n",
      "(3108, 2) (3108, 2)\n",
      "Evaluating in combined mode on test set\n",
      "multilabel-indicator multilabel-indicator\n",
      "float64 float32\n",
      "(3108, 12) (3108, 12)\n",
      "Training and Evaluating on task 7\n",
      "Train data shape is  (465, 440)\n",
      "Train Labels shape is  (465, 2)\n",
      "Classes trained are: 12 to 14\n",
      "Samples with all negative labels 2\n",
      "Augmenting class labels...\n"
     ]
    },
    {
     "name": "stderr",
     "output_type": "stream",
     "text": [
      "  0%|          | 0/1 [00:00<?, ?it/s]"
     ]
    },
    {
     "name": "stdout",
     "output_type": "stream",
     "text": [
      "Train Labels shape is  (465, 14)\n",
      "Output dimensions: 14\n",
      "growing model size ...\n"
     ]
    },
    {
     "name": "stderr",
     "output_type": "stream",
     "text": [
      "100%|██████████| 1/1 [00:00<00:00,  2.85it/s]\n"
     ]
    },
    {
     "name": "stdout",
     "output_type": "stream",
     "text": [
      "Evaluating in individual mode on test set\n",
      "multilabel-indicator multilabel-indicator\n",
      "float64 float32\n",
      "(3108, 2) (3108, 2)\n",
      "Evaluating in combined mode on test set\n",
      "multilabel-indicator multilabel-indicator\n",
      "float64 float32\n",
      "(3108, 14) (3108, 14)\n",
      "Training and Evaluating on task 8\n",
      "Train data shape is  (465, 440)\n",
      "Train Labels shape is  (465, 2)\n",
      "Classes trained are: 14 to 16\n",
      "Samples with all negative labels 2\n",
      "Augmenting class labels...\n"
     ]
    },
    {
     "name": "stderr",
     "output_type": "stream",
     "text": [
      "  0%|          | 0/1 [00:00<?, ?it/s]"
     ]
    },
    {
     "name": "stdout",
     "output_type": "stream",
     "text": [
      "Train Labels shape is  (465, 16)\n",
      "Output dimensions: 16\n",
      "growing model size ...\n"
     ]
    },
    {
     "name": "stderr",
     "output_type": "stream",
     "text": [
      "100%|██████████| 1/1 [00:00<00:00,  2.59it/s]\n"
     ]
    },
    {
     "name": "stdout",
     "output_type": "stream",
     "text": [
      "Evaluating in individual mode on test set\n",
      "multilabel-indicator multilabel-indicator\n",
      "float64 float32\n",
      "(3108, 2) (3108, 2)\n",
      "Evaluating in combined mode on test set\n",
      "multilabel-indicator multilabel-indicator\n",
      "float64 float32\n",
      "(3108, 16) (3108, 16)\n",
      "Training and Evaluating on task 9\n",
      "Train data shape is  (465, 440)\n",
      "Train Labels shape is  (465, 2)\n",
      "Classes trained are: 16 to 18\n",
      "Samples with all negative labels 2\n",
      "Augmenting class labels...\n"
     ]
    },
    {
     "name": "stderr",
     "output_type": "stream",
     "text": [
      "  0%|          | 0/1 [00:00<?, ?it/s]"
     ]
    },
    {
     "name": "stdout",
     "output_type": "stream",
     "text": [
      "Train Labels shape is  (465, 18)\n",
      "Output dimensions: 18\n",
      "growing model size ...\n"
     ]
    },
    {
     "name": "stderr",
     "output_type": "stream",
     "text": [
      "100%|██████████| 1/1 [00:00<00:00,  2.58it/s]\n"
     ]
    },
    {
     "name": "stdout",
     "output_type": "stream",
     "text": [
      "Evaluating in individual mode on test set\n",
      "multilabel-indicator multilabel-indicator\n",
      "float64 float32\n",
      "(3108, 2) (3108, 2)\n",
      "Evaluating in combined mode on test set\n",
      "multilabel-indicator multilabel-indicator\n",
      "float64 float32\n",
      "(3108, 18) (3108, 18)\n",
      "Training and Evaluating on task 10\n",
      "Train data shape is  (465, 440)\n",
      "Train Labels shape is  (465, 1)\n",
      "Classes trained are: 18 to 19\n",
      "Samples with all negative labels 0\n",
      "Augmenting class labels...\n"
     ]
    },
    {
     "name": "stderr",
     "output_type": "stream",
     "text": [
      "  0%|          | 0/1 [00:00<?, ?it/s]"
     ]
    },
    {
     "name": "stdout",
     "output_type": "stream",
     "text": [
      "Train Labels shape is  (465, 19)\n",
      "Output dimensions: 19\n",
      "growing model size ...\n"
     ]
    },
    {
     "name": "stderr",
     "output_type": "stream",
     "text": [
      "100%|██████████| 1/1 [00:00<00:00,  2.58it/s]\n"
     ]
    },
    {
     "name": "stdout",
     "output_type": "stream",
     "text": [
      "Evaluating in individual mode on test set\n",
      "binary binary\n",
      "float64 float32\n",
      "(3108, 1) (3108, 1)\n",
      "Evaluating in combined mode on test set\n",
      "multilabel-indicator multilabel-indicator\n",
      "float64 float32\n",
      "(3108, 19) (3108, 19)\n",
      "Evaluating in individual mode on test set\n",
      "|                     |          0 |         1 |        2 |         3 |         4 |         5 |         6 |        7 |          8 |         9 |\n",
      "|:--------------------|-----------:|----------:|---------:|----------:|----------:|----------:|----------:|---------:|-----------:|----------:|\n",
      "| hamming loss        | 0.0479408  | 0.030888  | 0.145753 | 0.037323  | 0.0701416 | 0.0210746 | 0.0407014 | 0.157497 | 0.00788288 | 0.978121  |\n",
      "| zero_one_loss       | 0.0955598  | 0.0617761 | 0.291506 | 0.0746461 | 0.140283  | 0.0421493 | 0.0814028 | 0.314994 | 0.0157658  | 0.978121  |\n",
      "| one_error           | 0.00032175 | 0         | 0        | 0         | 0         | 0         | 0         | 0        | 0          | 0.978121  |\n",
      "| micro av. jaccard   | 0          | 0         | 0        | 0         | 0         | 0         | 0         | 0        | 0          | 0.0110605 |\n",
      "| macro av. jaccard   | 0          | 0         | 0        | 0         | 0         | 0         | 0         | 0        | 0          | 0.0109395 |\n",
      "| micro av. precision | 0          | 0         | 0        | 0         | 0         | 0         | 0         | 0        | 0          | 0.021879  |\n",
      "| macro av. precision | 0          | 0         | 0        | 0         | 0         | 0         | 0         | 0        | 0          | 0.0109395 |\n",
      "| micro av. recall    | 0          | 0         | 0        | 0         | 0         | 0         | 0         | 0        | 0          | 0.021879  |\n",
      "| macro av. recall    | 0          | 0         | 0        | 0         | 0         | 0         | 0         | 0        | 0          | 0.5       |\n",
      "| micro av. f1        | 0          | 0         | 0        | 0         | 0         | 0         | 0         | 0        | 0          | 0.021879  |\n",
      "| macro av. f1        | 0          | 0         | 0        | 0         | 0         | 0         | 0         | 0        | 0          | 0.0214106 |\n",
      "| imb. av. f1         | 0.987754   | 0.98027   | 0.979858 | 0.973941  | 0.989215  | 0.988081  | 0.991237  | 0.971526 | 0.992146   | 0.021879  |\n",
      "Evaluating in combined mode on test set\n",
      "|                     |          0 |         1 |         2 |         3 |         4 |         5 |         6 |         7 |         8 |          9 |\n",
      "|:--------------------|-----------:|----------:|----------:|----------:|----------:|----------:|----------:|----------:|----------:|-----------:|\n",
      "| hamming loss        | 0.0479408  | 0.0394144 | 0.0748606 | 0.0654762 | 0.0664093 | 0.0588535 | 0.0562603 | 0.0689149 | 0.0621336 | 0.110343   |\n",
      "| zero_one_loss       | 0.0955598  | 0.157336  | 0.440154  | 0.509331  | 0.644466  | 0.674067  | 0.751287  | 0.969112  | 0.976834  | 0.981338   |\n",
      "| one_error           | 0.00032175 | 0         | 0         | 0         | 0         | 0         | 0         | 0         | 0         | 0          |\n",
      "| micro av. jaccard   | 0          | 0         | 0         | 0         | 0         | 0         | 0         | 0         | 0         | 0.0103281  |\n",
      "| macro av. jaccard   | 0          | 0         | 0         | 0         | 0         | 0         | 0         | 0         | 0         | 0.00115153 |\n",
      "| micro av. precision | 0          | 0         | 0         | 0         | 0         | 0         | 0         | 0         | 0         | 0.021879   |\n",
      "| macro av. precision | 0          | 0         | 0         | 0         | 0         | 0         | 0         | 0         | 0         | 0.00115153 |\n",
      "| micro av. recall    | 0          | 0         | 0         | 0         | 0         | 0         | 0         | 0         | 0         | 0.0191874  |\n",
      "| macro av. recall    | 0          | 0         | 0         | 0         | 0         | 0         | 0         | 0         | 0         | 0.0526316  |\n",
      "| micro av. f1        | 0          | 0         | 0         | 0         | 0         | 0         | 0         | 0         | 0         | 0.020445   |\n",
      "| macro av. f1        | 0          | 0         | 0         | 0         | 0         | 0         | 0         | 0         | 0         | 0.00225375 |\n",
      "| imb. av. f1         | 0.987754   | 0.984871  | 0.983497  | 0.981822  | 0.983995  | 0.984855  | 0.986266  | 0.985305  | 0.986582  | 0.954517   |\n",
      "File saved to ./checkpoints_new/Eukaryote_0_SI_asy.pkl\n",
      "Number of Tasks: 10\n",
      "Forgetting in task 1: first time imb. av. f1 = 0.9878, after all tasks imb. av. f1 = 0.9878\n",
      "Forgetting in task 2: first time imb. av. f1 = 0.9803, after all tasks imb. av. f1 = 0.9878\n",
      "Forgetting in task 3: first time imb. av. f1 = 0.9799, after all tasks imb. av. f1 = 0.9878\n",
      "Forgetting in task 4: first time imb. av. f1 = 0.9739, after all tasks imb. av. f1 = 0.9878\n",
      "Forgetting in task 5: first time imb. av. f1 = 0.9892, after all tasks imb. av. f1 = 0.9878\n",
      "Forgetting in task 6: first time imb. av. f1 = 0.9881, after all tasks imb. av. f1 = 0.9878\n",
      "Forgetting in task 7: first time imb. av. f1 = 0.9912, after all tasks imb. av. f1 = 0.9878\n",
      "Forgetting in task 8: first time imb. av. f1 = 0.9715, after all tasks imb. av. f1 = 0.9878\n",
      "Forgetting in task 9: first time imb. av. f1 = 0.9921, after all tasks imb. av. f1 = 0.9878\n",
      "Forgetting in task 10: first time imb. av. f1 = 0.0219, after all tasks imb. av. f1 = 0.9878\n"
     ]
    },
    {
     "data": {
      "image/png": "[encoded data removed]",
      "text/plain": [
       "<Figure size 360x360 with 1 Axes>"
      ]
     },
     "metadata": {
      "needs_background": "light"
     },
     "output_type": "display_data"
    }
   ],
   "source": [
    "hparams = Hyperparameters('Eukaryote', continual_method, device)\n",
    "experiment = ContinualExperiment(hparams)\n",
    "experiment.run()"
   ]
  },
  {
   "cell_type": "markdown",
   "metadata": {},
   "source": [
    "## Enron Dataset"
   ]
  },
  {
   "cell_type": "code",
   "execution_count": 16,
   "metadata": {},
   "outputs": [
    {
     "name": "stdout",
     "output_type": "stream",
     "text": [
      "Processing Data ...\n"
     ]
    },
    {
     "name": "stderr",
     "output_type": "stream",
     "text": [
      "100%|██████████| 1/1 [00:00<00:00, 15.97it/s]"
     ]
    },
    {
     "name": "stdout",
     "output_type": "stream",
     "text": [
      "(1123, 1001)\n",
      "(579, 1001)\n",
      "(1123, 53)\n",
      "(579, 53)\n",
      "Begin training in SI mode ...\n",
      "Training and Evaluating on task 1\n",
      "Train data shape is  (112, 1001)\n",
      "Train Labels shape is  (112, 5)\n",
      "Classes trained are: 0 to 5\n",
      "Samples with all negative labels 0\n",
      "Output dimensions: 5\n",
      "Evaluating in individual mode on test set\n"
     ]
    },
    {
     "name": "stderr",
     "output_type": "stream",
     "text": [
      "\n"
     ]
    },
    {
     "name": "stdout",
     "output_type": "stream",
     "text": [
      "multilabel-indicator multilabel-indicator\n",
      "float32 float32\n",
      "(579, 5) (579, 5)\n",
      "Evaluating in combined mode on test set\n"
     ]
    },
    {
     "name": "stderr",
     "output_type": "stream",
     "text": [
      "  0%|          | 0/1 [00:00<?, ?it/s]"
     ]
    },
    {
     "name": "stdout",
     "output_type": "stream",
     "text": [
      "multilabel-indicator multilabel-indicator\n",
      "float32 float32\n",
      "(579, 5) (579, 5)\n",
      "Training and Evaluating on task 2\n",
      "Train data shape is  (112, 1001)\n",
      "Train Labels shape is  (112, 5)\n",
      "Classes trained are: 5 to 10\n",
      "Samples with all negative labels 1\n",
      "Augmenting class labels...\n",
      "Train Labels shape is  (112, 10)\n",
      "Output dimensions: 10\n",
      "growing model size ...\n"
     ]
    },
    {
     "name": "stderr",
     "output_type": "stream",
     "text": [
      "100%|██████████| 1/1 [00:00<00:00,  8.47it/s]\n"
     ]
    },
    {
     "name": "stdout",
     "output_type": "stream",
     "text": [
      "Evaluating in individual mode on test set\n",
      "multilabel-indicator multilabel-indicator\n",
      "float32 float32\n",
      "(579, 5) (579, 5)\n",
      "Evaluating in combined mode on test set\n"
     ]
    },
    {
     "name": "stderr",
     "output_type": "stream",
     "text": [
      "  0%|          | 0/1 [00:00<?, ?it/s]"
     ]
    },
    {
     "name": "stdout",
     "output_type": "stream",
     "text": [
      "multilabel-indicator multilabel-indicator\n",
      "float32 float32\n",
      "(579, 10) (579, 10)\n",
      "Training and Evaluating on task 3\n",
      "Train data shape is  (112, 1001)\n",
      "Train Labels shape is  (112, 5)\n",
      "Classes trained are: 10 to 15\n",
      "Samples with all negative labels 1\n",
      "Augmenting class labels...\n",
      "Train Labels shape is  (112, 15)\n",
      "Output dimensions: 15\n",
      "growing model size ...\n"
     ]
    },
    {
     "name": "stderr",
     "output_type": "stream",
     "text": [
      "100%|██████████| 1/1 [00:00<00:00,  8.41it/s]\n"
     ]
    },
    {
     "name": "stdout",
     "output_type": "stream",
     "text": [
      "Evaluating in individual mode on test set\n",
      "multilabel-indicator multilabel-indicator\n",
      "float32 float32\n",
      "(579, 5) (579, 5)\n",
      "Evaluating in combined mode on test set\n"
     ]
    },
    {
     "name": "stderr",
     "output_type": "stream",
     "text": [
      "  0%|          | 0/1 [00:00<?, ?it/s]"
     ]
    },
    {
     "name": "stdout",
     "output_type": "stream",
     "text": [
      "multilabel-indicator multilabel-indicator\n",
      "float32 float32\n",
      "(579, 15) (579, 15)\n",
      "Training and Evaluating on task 4\n",
      "Train data shape is  (112, 1001)\n",
      "Train Labels shape is  (112, 5)\n",
      "Classes trained are: 15 to 20\n",
      "Samples with all negative labels 1\n",
      "Augmenting class labels...\n",
      "Train Labels shape is  (112, 20)\n",
      "Output dimensions: 20\n",
      "growing model size ...\n"
     ]
    },
    {
     "name": "stderr",
     "output_type": "stream",
     "text": [
      "100%|██████████| 1/1 [00:00<00:00,  8.37it/s]\n"
     ]
    },
    {
     "name": "stdout",
     "output_type": "stream",
     "text": [
      "Evaluating in individual mode on test set\n",
      "multilabel-indicator multilabel-indicator\n",
      "float32 float32\n",
      "(579, 5) (579, 5)\n",
      "Evaluating in combined mode on test set\n"
     ]
    },
    {
     "name": "stderr",
     "output_type": "stream",
     "text": [
      "  0%|          | 0/1 [00:00<?, ?it/s]"
     ]
    },
    {
     "name": "stdout",
     "output_type": "stream",
     "text": [
      "multilabel-indicator multilabel-indicator\n",
      "float32 float32\n",
      "(579, 20) (579, 20)\n",
      "Training and Evaluating on task 5\n",
      "Train data shape is  (112, 1001)\n",
      "Train Labels shape is  (112, 5)\n",
      "Classes trained are: 20 to 25\n",
      "Samples with all negative labels 3\n",
      "Augmenting class labels...\n",
      "Train Labels shape is  (112, 25)\n",
      "Output dimensions: 25\n",
      "growing model size ...\n"
     ]
    },
    {
     "name": "stderr",
     "output_type": "stream",
     "text": [
      "100%|██████████| 1/1 [00:00<00:00,  8.35it/s]\n"
     ]
    },
    {
     "name": "stdout",
     "output_type": "stream",
     "text": [
      "Evaluating in individual mode on test set\n",
      "multilabel-indicator multilabel-indicator\n",
      "float32 float32\n",
      "(579, 5) (579, 5)\n",
      "Evaluating in combined mode on test set\n"
     ]
    },
    {
     "name": "stderr",
     "output_type": "stream",
     "text": [
      "  0%|          | 0/1 [00:00<?, ?it/s]"
     ]
    },
    {
     "name": "stdout",
     "output_type": "stream",
     "text": [
      "multilabel-indicator multilabel-indicator\n",
      "float32 float32\n",
      "(579, 25) (579, 25)\n",
      "Training and Evaluating on task 6\n",
      "Train data shape is  (112, 1001)\n",
      "Train Labels shape is  (112, 5)\n",
      "Classes trained are: 25 to 30\n",
      "Samples with all negative labels 1\n",
      "Augmenting class labels...\n",
      "Train Labels shape is  (112, 30)\n",
      "Output dimensions: 30\n",
      "growing model size ...\n"
     ]
    },
    {
     "name": "stderr",
     "output_type": "stream",
     "text": [
      "100%|██████████| 1/1 [00:00<00:00,  7.82it/s]\n"
     ]
    },
    {
     "name": "stdout",
     "output_type": "stream",
     "text": [
      "Evaluating in individual mode on test set\n",
      "multilabel-indicator multilabel-indicator\n",
      "float32 float32\n",
      "(579, 5) (579, 5)\n",
      "Evaluating in combined mode on test set\n"
     ]
    },
    {
     "name": "stderr",
     "output_type": "stream",
     "text": [
      "  0%|          | 0/1 [00:00<?, ?it/s]"
     ]
    },
    {
     "name": "stdout",
     "output_type": "stream",
     "text": [
      "multilabel-indicator multilabel-indicator\n",
      "float32 float32\n",
      "(579, 30) (579, 30)\n",
      "Training and Evaluating on task 7\n",
      "Train data shape is  (112, 1001)\n",
      "Train Labels shape is  (112, 5)\n",
      "Classes trained are: 30 to 35\n",
      "Samples with all negative labels 0\n",
      "Augmenting class labels...\n",
      "Train Labels shape is  (112, 35)\n",
      "Output dimensions: 35\n",
      "growing model size ...\n"
     ]
    },
    {
     "name": "stderr",
     "output_type": "stream",
     "text": [
      "100%|██████████| 1/1 [00:00<00:00,  8.21it/s]\n"
     ]
    },
    {
     "name": "stdout",
     "output_type": "stream",
     "text": [
      "Evaluating in individual mode on test set\n",
      "multilabel-indicator multilabel-indicator\n",
      "float32 float32\n",
      "(579, 5) (579, 5)\n",
      "Evaluating in combined mode on test set\n"
     ]
    },
    {
     "name": "stderr",
     "output_type": "stream",
     "text": [
      "  0%|          | 0/1 [00:00<?, ?it/s]"
     ]
    },
    {
     "name": "stdout",
     "output_type": "stream",
     "text": [
      "multilabel-indicator multilabel-indicator\n",
      "float32 float32\n",
      "(579, 35) (579, 35)\n",
      "Training and Evaluating on task 8\n",
      "Train data shape is  (112, 1001)\n",
      "Train Labels shape is  (112, 5)\n",
      "Classes trained are: 35 to 40\n",
      "Samples with all negative labels 3\n",
      "Augmenting class labels...\n",
      "Train Labels shape is  (112, 40)\n",
      "Output dimensions: 40\n",
      "growing model size ...\n"
     ]
    },
    {
     "name": "stderr",
     "output_type": "stream",
     "text": [
      "100%|██████████| 1/1 [00:00<00:00,  8.25it/s]\n"
     ]
    },
    {
     "name": "stdout",
     "output_type": "stream",
     "text": [
      "Evaluating in individual mode on test set\n",
      "multilabel-indicator multilabel-indicator\n",
      "float32 float32\n",
      "(579, 5) (579, 5)\n",
      "Evaluating in combined mode on test set\n"
     ]
    },
    {
     "name": "stderr",
     "output_type": "stream",
     "text": [
      "  0%|          | 0/1 [00:00<?, ?it/s]"
     ]
    },
    {
     "name": "stdout",
     "output_type": "stream",
     "text": [
      "multilabel-indicator multilabel-indicator\n",
      "float32 float32\n",
      "(579, 40) (579, 40)\n",
      "Training and Evaluating on task 9\n",
      "Train data shape is  (112, 1001)\n",
      "Train Labels shape is  (112, 5)\n",
      "Classes trained are: 40 to 45\n",
      "Samples with all negative labels 0\n",
      "Augmenting class labels...\n",
      "Train Labels shape is  (112, 45)\n",
      "Output dimensions: 45\n",
      "growing model size ...\n"
     ]
    },
    {
     "name": "stderr",
     "output_type": "stream",
     "text": [
      "100%|██████████| 1/1 [00:00<00:00,  8.40it/s]\n"
     ]
    },
    {
     "name": "stdout",
     "output_type": "stream",
     "text": [
      "Evaluating in individual mode on test set\n",
      "multilabel-indicator multilabel-indicator\n",
      "float32 float32\n",
      "(579, 5) (579, 5)\n",
      "Evaluating in combined mode on test set\n"
     ]
    },
    {
     "name": "stderr",
     "output_type": "stream",
     "text": [
      "  0%|          | 0/1 [00:00<?, ?it/s]"
     ]
    },
    {
     "name": "stdout",
     "output_type": "stream",
     "text": [
      "multilabel-indicator multilabel-indicator\n",
      "float32 float32\n",
      "(579, 45) (579, 45)\n",
      "Training and Evaluating on task 10\n",
      "Train data shape is  (115, 1001)\n",
      "Train Labels shape is  (115, 8)\n",
      "Classes trained are: 45 to 53\n",
      "Samples with all negative labels 1\n",
      "Augmenting class labels...\n",
      "Train Labels shape is  (115, 53)\n",
      "Output dimensions: 53\n",
      "growing model size ...\n"
     ]
    },
    {
     "name": "stderr",
     "output_type": "stream",
     "text": [
      "100%|██████████| 1/1 [00:00<00:00,  7.56it/s]\n"
     ]
    },
    {
     "name": "stdout",
     "output_type": "stream",
     "text": [
      "Evaluating in individual mode on test set\n",
      "multilabel-indicator multilabel-indicator\n",
      "float32 float32\n",
      "(579, 8) (579, 8)\n",
      "Evaluating in combined mode on test set\n",
      "multilabel-indicator multilabel-indicator\n",
      "float32 float32\n",
      "(579, 53) (579, 53)\n",
      "Evaluating in individual mode on test set\n",
      "|                     |         0 |          1 |          2 |         3 |          4 |         5 |          6 |          7 |         8 |         9 |\n",
      "|:--------------------|----------:|-----------:|-----------:|----------:|-----------:|----------:|-----------:|-----------:|----------:|----------:|\n",
      "| hamming loss        | 0.4038    | 0.691537   | 0.601727   | 0.788946  | 0.243869   | 0.668394  | 0.782038   | 0.242487   | 0.781347  | 0.634283  |\n",
      "| zero_one_loss       | 1         | 1          | 0.998273   | 1         | 0.939551   | 1         | 1          | 0.989637   | 1         | 1         |\n",
      "| one_error           | 0         | 0.00518135 | 0.00345423 | 0.0120898 | 0.00172712 | 0.015544  | 0.00172712 | 0          | 0.0379965 | 0         |\n",
      "| micro av. jaccard   | 0.0322848 | 0.0219834  | 0.249785   | 0.0167886 | 0.0536193  | 0.0251889 | 0.0169344  | 0.0168067  | 0.0325064 | 0.025539  |\n",
      "| macro av. jaccard   | 0.0134715 | 0.0156308  | 0.20144    | 0.0134715 | 0.0139616  | 0.0208004 | 0.0135703  | 0.00415945 | 0.0262617 | 0.0183821 |\n",
      "| micro av. precision | 0.0333049 | 0.0259965  | 0.250108   | 0.0168394 | 0.0645161  | 0.0283607 | 0.0169418  | 0.0194489  | 0.0328436 | 0.02657   |\n",
      "| macro av. precision | 0.0134715 | 0.0156308  | 0.20144    | 0.0134715 | 0.0139616  | 0.0972212 | 0.0135703  | 0.00415945 | 0.0262617 | 0.033134  |\n",
      "| micro av. recall    | 0.513158  | 0.124654   | 0.994854   | 0.847826  | 0.240964   | 0.183824  | 0.975      | 0.110092   | 0.76      | 0.396907  |\n",
      "| macro av. recall    | 0.4       | 0.6        | 0.8        | 0.8       | 0.2        | 0.606195  | 0.8        | 0.2        | 0.8       | 0.62126   |\n",
      "| micro av. f1        | 0.0625501 | 0.043021   | 0.399724   | 0.0330229 | 0.101781   | 0.04914   | 0.0333049  | 0.0330579  | 0.062966  | 0.049806  |\n",
      "| macro av. f1        | 0.0257793 | 0.0303247  | 0.299307   | 0.0264116 | 0.0261011  | 0.0400287 | 0.0265166  | 0.00814941 | 0.0496559 | 0.034151  |\n",
      "| imb. av. f1         | 0.71786   | 0.543256   | 0.841844   | 0.211312  | 0.823407   | 0.422994  | 0.516349   | 0.879498   | 0.105181  | 0.439148  |\n",
      "Evaluating in combined mode on test set\n",
      "|                     |         0 |         1 |         2 |         3 |         4 |         5 |         6 |         7 |         8 |         9 |\n",
      "|:--------------------|----------:|----------:|----------:|----------:|----------:|----------:|----------:|----------:|----------:|----------:|\n",
      "| hamming loss        | 0.4038    | 0.547668  | 0.565688  | 0.621503  | 0.545976  | 0.566379  | 0.597187  | 0.55285   | 0.578238  | 0.586698  |\n",
      "| zero_one_loss       | 1         | 1         | 1         | 1         | 1         | 1         | 1         | 1         | 1         | 1         |\n",
      "| one_error           | 0         | 0         | 0         | 0         | 0         | 0         | 0         | 0         | 0         | 0         |\n",
      "| micro av. jaccard   | 0.0322848 | 0.0258065 | 0.11906   | 0.0889873 | 0.0859357 | 0.0745932 | 0.0643266 | 0.0618406 | 0.0575504 | 0.0524709 |\n",
      "| macro av. jaccard   | 0.0134715 | 0.0145512 | 0.0768474 | 0.0610034 | 0.0515951 | 0.0464626 | 0.0417637 | 0.0370632 | 0.035863  | 0.0332244 |\n",
      "| micro av. precision | 0.0333049 | 0.0289456 | 0.127179  | 0.0932732 | 0.0910874 | 0.0799395 | 0.068074  | 0.0657372 | 0.0607141 | 0.0552324 |\n",
      "| macro av. precision | 0.0134715 | 0.0145512 | 0.0768474 | 0.0610034 | 0.0515951 | 0.0591994 | 0.052681  | 0.0466158 | 0.0443542 | 0.0426606 |\n",
      "| micro av. recall    | 0.513158  | 0.19222   | 0.65098   | 0.659475  | 0.603084  | 0.527261  | 0.53886   | 0.510587  | 0.524815  | 0.51207   |\n",
      "| macro av. recall    | 0.4       | 0.5       | 0.6       | 0.65      | 0.56      | 0.567699  | 0.600885  | 0.550774  | 0.578466  | 0.584926  |\n",
      "| micro av. f1        | 0.0625501 | 0.0503145 | 0.212786  | 0.163431  | 0.15827   | 0.138831  | 0.120878  | 0.116478  | 0.108837  | 0.09971   |\n",
      "| macro av. f1        | 0.0257793 | 0.028052  | 0.11847   | 0.0954556 | 0.0815847 | 0.0746587 | 0.0677813 | 0.0603273 | 0.0591416 | 0.0553694 |\n",
      "| imb. av. f1         | 0.71786   | 0.634347  | 0.682445  | 0.529819  | 0.556181  | 0.526577  | 0.523826  | 0.584693  | 0.542338  | 0.513058  |\n",
      "File saved to ./checkpoints_new/enron_0_SI_asy.pkl\n",
      "Number of Tasks: 10\n",
      "Forgetting in task 1: first time imb. av. f1 = 0.7354, after all tasks imb. av. f1 = 0.7179\n",
      "Forgetting in task 2: first time imb. av. f1 = 0.7004, after all tasks imb. av. f1 = 0.7179\n",
      "Forgetting in task 3: first time imb. av. f1 = 0.8624, after all tasks imb. av. f1 = 0.7179\n",
      "Forgetting in task 4: first time imb. av. f1 = 0.2113, after all tasks imb. av. f1 = 0.7179\n",
      "Forgetting in task 5: first time imb. av. f1 = 0.8429, after all tasks imb. av. f1 = 0.7179\n",
      "Forgetting in task 6: first time imb. av. f1 = 0.4303, after all tasks imb. av. f1 = 0.7179\n",
      "Forgetting in task 7: first time imb. av. f1 = 0.5136, after all tasks imb. av. f1 = 0.7179\n",
      "Forgetting in task 8: first time imb. av. f1 = 0.8915, after all tasks imb. av. f1 = 0.7179\n",
      "Forgetting in task 9: first time imb. av. f1 = 0.1043, after all tasks imb. av. f1 = 0.7179\n",
      "Forgetting in task 10: first time imb. av. f1 = 0.4391, after all tasks imb. av. f1 = 0.7179\n"
     ]
    },
    {
     "data": {
      "image/png": "[encoded data removed]",
      "text/plain": [
       "<Figure size 360x360 with 1 Axes>"
      ]
     },
     "metadata": {
      "needs_background": "light"
     },
     "output_type": "display_data"
    }
   ],
   "source": [
    "hparams = Hyperparameters('enron', continual_method, device)\n",
    "experiment = ContinualExperiment(hparams)\n",
    "experiment.run()"
   ]
  },
  {
   "cell_type": "markdown",
   "metadata": {},
   "source": [
    "## Delicious, 20 tasks"
   ]
  },
  {
   "cell_type": "code",
   "execution_count": 17,
   "metadata": {},
   "outputs": [
    {
     "name": "stdout",
     "output_type": "stream",
     "text": [
      "Processing Data ...\n"
     ]
    },
    {
     "name": "stderr",
     "output_type": "stream",
     "text": [
      "  0%|          | 0/1 [00:00<?, ?it/s]"
     ]
    },
    {
     "name": "stdout",
     "output_type": "stream",
     "text": [
      "(12920, 500)\n",
      "(3185, 500)\n",
      "(12920, 983)\n",
      "(3185, 983)\n",
      "Begin training in SI mode ...\n",
      "Training and Evaluating on task 1\n",
      "Train data shape is  (646, 500)\n",
      "Train Labels shape is  (646, 49)\n",
      "Classes trained are: 0 to 49\n",
      "Samples with all negative labels 1\n",
      "Output dimensions: 49\n"
     ]
    },
    {
     "name": "stderr",
     "output_type": "stream",
     "text": [
      "100%|██████████| 1/1 [00:00<00:00,  3.06it/s]\n"
     ]
    },
    {
     "name": "stdout",
     "output_type": "stream",
     "text": [
      "Evaluating in individual mode on test set\n",
      "multilabel-indicator multilabel-indicator\n",
      "float32 float32\n",
      "(3185, 49) (3185, 49)\n",
      "Evaluating in combined mode on test set\n",
      "multilabel-indicator multilabel-indicator\n",
      "float32 float32\n",
      "(3185, 49) (3185, 49)\n",
      "Training and Evaluating on task 2\n",
      "Train data shape is  (646, 500)\n",
      "Train Labels shape is  (646, 49)\n",
      "Classes trained are: 49 to 98\n",
      "Samples with all negative labels 1\n",
      "Augmenting class labels...\n"
     ]
    },
    {
     "name": "stderr",
     "output_type": "stream",
     "text": [
      "  0%|          | 0/1 [00:00<?, ?it/s]"
     ]
    },
    {
     "name": "stdout",
     "output_type": "stream",
     "text": [
      "Train Labels shape is  (646, 98)\n",
      "Output dimensions: 98\n",
      "growing model size ...\n"
     ]
    },
    {
     "name": "stderr",
     "output_type": "stream",
     "text": [
      "100%|██████████| 1/1 [00:00<00:00,  1.50it/s]\n"
     ]
    },
    {
     "name": "stdout",
     "output_type": "stream",
     "text": [
      "Evaluating in individual mode on test set\n",
      "multilabel-indicator multilabel-indicator\n",
      "float32 float32\n",
      "(3185, 49) (3185, 49)\n",
      "Evaluating in combined mode on test set\n",
      "multilabel-indicator multilabel-indicator\n",
      "float32 float32\n",
      "(3185, 98) (3185, 98)\n",
      "Training and Evaluating on task 3\n",
      "Train data shape is  (646, 500)\n",
      "Train Labels shape is  (646, 49)\n",
      "Classes trained are: 98 to 147\n",
      "Samples with all negative labels 2\n",
      "Augmenting class labels...\n"
     ]
    },
    {
     "name": "stderr",
     "output_type": "stream",
     "text": [
      "  0%|          | 0/1 [00:00<?, ?it/s]"
     ]
    },
    {
     "name": "stdout",
     "output_type": "stream",
     "text": [
      "Train Labels shape is  (646, 147)\n",
      "Output dimensions: 147\n",
      "growing model size ...\n"
     ]
    },
    {
     "name": "stderr",
     "output_type": "stream",
     "text": [
      "100%|██████████| 1/1 [00:00<00:00,  1.53it/s]\n"
     ]
    },
    {
     "name": "stdout",
     "output_type": "stream",
     "text": [
      "Evaluating in individual mode on test set\n",
      "multilabel-indicator multilabel-indicator\n",
      "float32 float32\n",
      "(3185, 49) (3185, 49)\n",
      "Evaluating in combined mode on test set\n",
      "multilabel-indicator multilabel-indicator\n",
      "float32 float32\n",
      "(3185, 147) (3185, 147)\n",
      "Training and Evaluating on task 4\n",
      "Train data shape is  (646, 500)\n",
      "Train Labels shape is  (646, 49)\n",
      "Classes trained are: 147 to 196\n",
      "Samples with all negative labels 2\n",
      "Augmenting class labels...\n"
     ]
    },
    {
     "name": "stderr",
     "output_type": "stream",
     "text": [
      "  0%|          | 0/1 [00:00<?, ?it/s]"
     ]
    },
    {
     "name": "stdout",
     "output_type": "stream",
     "text": [
      "Train Labels shape is  (646, 196)\n",
      "Output dimensions: 196\n",
      "growing model size ...\n"
     ]
    },
    {
     "name": "stderr",
     "output_type": "stream",
     "text": [
      "100%|██████████| 1/1 [00:00<00:00,  1.63it/s]\n"
     ]
    },
    {
     "name": "stdout",
     "output_type": "stream",
     "text": [
      "Evaluating in individual mode on test set\n",
      "multilabel-indicator multilabel-indicator\n",
      "float32 float32\n",
      "(3185, 49) (3185, 49)\n",
      "Evaluating in combined mode on test set\n",
      "multilabel-indicator multilabel-indicator\n",
      "float32 float32\n",
      "(3185, 196) (3185, 196)\n",
      "Training and Evaluating on task 5\n",
      "Train data shape is  (646, 500)\n",
      "Train Labels shape is  (646, 49)\n",
      "Classes trained are: 196 to 245\n",
      "Samples with all negative labels 2\n",
      "Augmenting class labels...\n"
     ]
    },
    {
     "name": "stderr",
     "output_type": "stream",
     "text": [
      "  0%|          | 0/1 [00:00<?, ?it/s]"
     ]
    },
    {
     "name": "stdout",
     "output_type": "stream",
     "text": [
      "Train Labels shape is  (646, 245)\n",
      "Output dimensions: 245\n",
      "growing model size ...\n"
     ]
    },
    {
     "name": "stderr",
     "output_type": "stream",
     "text": [
      "100%|██████████| 1/1 [00:00<00:00,  1.59it/s]\n"
     ]
    },
    {
     "name": "stdout",
     "output_type": "stream",
     "text": [
      "Evaluating in individual mode on test set\n",
      "multilabel-indicator multilabel-indicator\n",
      "float32 float32\n",
      "(3185, 49) (3185, 49)\n",
      "Evaluating in combined mode on test set\n",
      "multilabel-indicator multilabel-indicator\n",
      "float32 float32\n",
      "(3185, 245) (3185, 245)\n",
      "Training and Evaluating on task 6\n",
      "Train data shape is  (646, 500)\n",
      "Train Labels shape is  (646, 49)\n",
      "Classes trained are: 245 to 294\n",
      "Samples with all negative labels 4\n",
      "Augmenting class labels...\n"
     ]
    },
    {
     "name": "stderr",
     "output_type": "stream",
     "text": [
      "  0%|          | 0/1 [00:00<?, ?it/s]"
     ]
    },
    {
     "name": "stdout",
     "output_type": "stream",
     "text": [
      "Train Labels shape is  (646, 294)\n",
      "Output dimensions: 294\n",
      "growing model size ...\n"
     ]
    },
    {
     "name": "stderr",
     "output_type": "stream",
     "text": [
      "100%|██████████| 1/1 [00:00<00:00,  1.75it/s]\n"
     ]
    },
    {
     "name": "stdout",
     "output_type": "stream",
     "text": [
      "Evaluating in individual mode on test set\n",
      "multilabel-indicator multilabel-indicator\n",
      "float32 float32\n",
      "(3185, 49) (3185, 49)\n",
      "Evaluating in combined mode on test set\n",
      "multilabel-indicator multilabel-indicator\n",
      "float32 float32\n",
      "(3185, 294) (3185, 294)\n",
      "Training and Evaluating on task 7\n",
      "Train data shape is  (646, 500)\n",
      "Train Labels shape is  (646, 49)\n",
      "Classes trained are: 294 to 343\n",
      "Samples with all negative labels 2\n",
      "Augmenting class labels...\n"
     ]
    },
    {
     "name": "stderr",
     "output_type": "stream",
     "text": [
      "  0%|          | 0/1 [00:00<?, ?it/s]"
     ]
    },
    {
     "name": "stdout",
     "output_type": "stream",
     "text": [
      "Train Labels shape is  (646, 343)\n",
      "Output dimensions: 343\n",
      "growing model size ...\n"
     ]
    },
    {
     "name": "stderr",
     "output_type": "stream",
     "text": [
      "100%|██████████| 1/1 [00:00<00:00,  1.60it/s]\n"
     ]
    },
    {
     "name": "stdout",
     "output_type": "stream",
     "text": [
      "Evaluating in individual mode on test set\n",
      "multilabel-indicator multilabel-indicator\n",
      "float32 float32\n",
      "(3185, 49) (3185, 49)\n",
      "Evaluating in combined mode on test set\n",
      "multilabel-indicator multilabel-indicator\n",
      "float32 float32\n",
      "(3185, 343) (3185, 343)\n",
      "Training and Evaluating on task 8\n",
      "Train data shape is  (646, 500)\n",
      "Train Labels shape is  (646, 49)\n",
      "Classes trained are: 343 to 392\n",
      "Samples with all negative labels 4\n",
      "Augmenting class labels...\n"
     ]
    },
    {
     "name": "stderr",
     "output_type": "stream",
     "text": [
      "  0%|          | 0/1 [00:00<?, ?it/s]"
     ]
    },
    {
     "name": "stdout",
     "output_type": "stream",
     "text": [
      "Train Labels shape is  (646, 392)\n",
      "Output dimensions: 392\n",
      "growing model size ...\n"
     ]
    },
    {
     "name": "stderr",
     "output_type": "stream",
     "text": [
      "100%|██████████| 1/1 [00:00<00:00,  1.60it/s]\n"
     ]
    },
    {
     "name": "stdout",
     "output_type": "stream",
     "text": [
      "Evaluating in individual mode on test set\n",
      "multilabel-indicator multilabel-indicator\n",
      "float32 float32\n",
      "(3185, 49) (3185, 49)\n",
      "Evaluating in combined mode on test set\n",
      "multilabel-indicator multilabel-indicator\n",
      "float32 float32\n",
      "(3185, 392) (3185, 392)\n",
      "Training and Evaluating on task 9\n",
      "Train data shape is  (646, 500)\n",
      "Train Labels shape is  (646, 49)\n",
      "Classes trained are: 392 to 441\n",
      "Samples with all negative labels 2\n",
      "Augmenting class labels...\n"
     ]
    },
    {
     "name": "stderr",
     "output_type": "stream",
     "text": [
      "  0%|          | 0/1 [00:00<?, ?it/s]"
     ]
    },
    {
     "name": "stdout",
     "output_type": "stream",
     "text": [
      "Train Labels shape is  (646, 441)\n",
      "Output dimensions: 441\n",
      "growing model size ...\n"
     ]
    },
    {
     "name": "stderr",
     "output_type": "stream",
     "text": [
      "100%|██████████| 1/1 [00:00<00:00,  1.71it/s]\n"
     ]
    },
    {
     "name": "stdout",
     "output_type": "stream",
     "text": [
      "Evaluating in individual mode on test set\n",
      "multilabel-indicator multilabel-indicator\n",
      "float32 float32\n",
      "(3185, 49) (3185, 49)\n",
      "Evaluating in combined mode on test set\n",
      "multilabel-indicator multilabel-indicator\n",
      "float32 float32\n",
      "(3185, 441) (3185, 441)\n",
      "Training and Evaluating on task 10\n",
      "Train data shape is  (646, 500)\n",
      "Train Labels shape is  (646, 49)\n",
      "Classes trained are: 441 to 490\n",
      "Samples with all negative labels 0\n",
      "Augmenting class labels...\n"
     ]
    },
    {
     "name": "stderr",
     "output_type": "stream",
     "text": [
      "  0%|          | 0/1 [00:00<?, ?it/s]"
     ]
    },
    {
     "name": "stdout",
     "output_type": "stream",
     "text": [
      "Train Labels shape is  (646, 490)\n",
      "Output dimensions: 490\n",
      "growing model size ...\n"
     ]
    },
    {
     "name": "stderr",
     "output_type": "stream",
     "text": [
      "100%|██████████| 1/1 [00:00<00:00,  1.70it/s]\n"
     ]
    },
    {
     "name": "stdout",
     "output_type": "stream",
     "text": [
      "Evaluating in individual mode on test set\n",
      "multilabel-indicator multilabel-indicator\n",
      "float32 float32\n",
      "(3185, 49) (3185, 49)\n",
      "Evaluating in combined mode on test set\n",
      "multilabel-indicator multilabel-indicator\n",
      "float32 float32\n",
      "(3185, 490) (3185, 490)\n",
      "Training and Evaluating on task 11\n",
      "Train data shape is  (646, 500)\n",
      "Train Labels shape is  (646, 49)\n",
      "Classes trained are: 490 to 539\n",
      "Samples with all negative labels 0\n",
      "Augmenting class labels...\n"
     ]
    },
    {
     "name": "stderr",
     "output_type": "stream",
     "text": [
      "  0%|          | 0/1 [00:00<?, ?it/s]"
     ]
    },
    {
     "name": "stdout",
     "output_type": "stream",
     "text": [
      "Train Labels shape is  (646, 539)\n",
      "Output dimensions: 539\n",
      "growing model size ...\n"
     ]
    },
    {
     "name": "stderr",
     "output_type": "stream",
     "text": [
      "100%|██████████| 1/1 [00:00<00:00,  1.54it/s]\n"
     ]
    },
    {
     "name": "stdout",
     "output_type": "stream",
     "text": [
      "Evaluating in individual mode on test set\n",
      "multilabel-indicator multilabel-indicator\n",
      "float32 float32\n",
      "(3185, 49) (3185, 49)\n",
      "Evaluating in combined mode on test set\n",
      "multilabel-indicator multilabel-indicator\n",
      "float32 float32\n",
      "(3185, 539) (3185, 539)\n",
      "Training and Evaluating on task 12\n",
      "Train data shape is  (646, 500)\n",
      "Train Labels shape is  (646, 49)\n",
      "Classes trained are: 539 to 588\n",
      "Samples with all negative labels 4\n",
      "Augmenting class labels...\n"
     ]
    },
    {
     "name": "stderr",
     "output_type": "stream",
     "text": [
      "  0%|          | 0/1 [00:00<?, ?it/s]"
     ]
    },
    {
     "name": "stdout",
     "output_type": "stream",
     "text": [
      "Train Labels shape is  (646, 588)\n",
      "Output dimensions: 588\n",
      "growing model size ...\n"
     ]
    },
    {
     "name": "stderr",
     "output_type": "stream",
     "text": [
      "100%|██████████| 1/1 [00:00<00:00,  1.60it/s]\n"
     ]
    },
    {
     "name": "stdout",
     "output_type": "stream",
     "text": [
      "Evaluating in individual mode on test set\n",
      "multilabel-indicator multilabel-indicator\n",
      "float32 float32\n",
      "(3185, 49) (3185, 49)\n",
      "Evaluating in combined mode on test set\n",
      "multilabel-indicator multilabel-indicator\n",
      "float32 float32\n",
      "(3185, 588) (3185, 588)\n",
      "Training and Evaluating on task 13\n",
      "Train data shape is  (646, 500)\n",
      "Train Labels shape is  (646, 49)\n",
      "Classes trained are: 588 to 637\n",
      "Samples with all negative labels 3\n",
      "Augmenting class labels...\n"
     ]
    },
    {
     "name": "stderr",
     "output_type": "stream",
     "text": [
      "  0%|          | 0/1 [00:00<?, ?it/s]"
     ]
    },
    {
     "name": "stdout",
     "output_type": "stream",
     "text": [
      "Train Labels shape is  (646, 637)\n",
      "Output dimensions: 637\n",
      "growing model size ...\n"
     ]
    },
    {
     "name": "stderr",
     "output_type": "stream",
     "text": [
      "100%|██████████| 1/1 [00:00<00:00,  1.52it/s]\n"
     ]
    },
    {
     "name": "stdout",
     "output_type": "stream",
     "text": [
      "Evaluating in individual mode on test set\n",
      "multilabel-indicator multilabel-indicator\n",
      "float32 float32\n",
      "(3185, 49) (3185, 49)\n",
      "Evaluating in combined mode on test set\n",
      "multilabel-indicator multilabel-indicator\n",
      "float32 float32\n",
      "(3185, 637) (3185, 637)\n",
      "Training and Evaluating on task 14\n",
      "Train data shape is  (646, 500)\n",
      "Train Labels shape is  (646, 49)\n",
      "Classes trained are: 637 to 686\n",
      "Samples with all negative labels 3\n",
      "Augmenting class labels...\n"
     ]
    },
    {
     "name": "stderr",
     "output_type": "stream",
     "text": [
      "  0%|          | 0/1 [00:00<?, ?it/s]"
     ]
    },
    {
     "name": "stdout",
     "output_type": "stream",
     "text": [
      "Train Labels shape is  (646, 686)\n",
      "Output dimensions: 686\n",
      "growing model size ...\n"
     ]
    },
    {
     "name": "stderr",
     "output_type": "stream",
     "text": [
      "100%|██████████| 1/1 [00:00<00:00,  1.63it/s]\n"
     ]
    },
    {
     "name": "stdout",
     "output_type": "stream",
     "text": [
      "Evaluating in individual mode on test set\n",
      "multilabel-indicator multilabel-indicator\n",
      "float32 float32\n",
      "(3185, 49) (3185, 49)\n",
      "Evaluating in combined mode on test set\n",
      "multilabel-indicator multilabel-indicator\n",
      "float32 float32\n",
      "(3185, 686) (3185, 686)\n",
      "Training and Evaluating on task 15\n",
      "Train data shape is  (646, 500)\n",
      "Train Labels shape is  (646, 49)\n",
      "Classes trained are: 686 to 735\n",
      "Samples with all negative labels 8\n",
      "Augmenting class labels...\n"
     ]
    },
    {
     "name": "stderr",
     "output_type": "stream",
     "text": [
      "  0%|          | 0/1 [00:00<?, ?it/s]"
     ]
    },
    {
     "name": "stdout",
     "output_type": "stream",
     "text": [
      "Train Labels shape is  (646, 735)\n",
      "Output dimensions: 735\n",
      "growing model size ...\n"
     ]
    },
    {
     "name": "stderr",
     "output_type": "stream",
     "text": [
      "100%|██████████| 1/1 [00:00<00:00,  1.61it/s]\n"
     ]
    },
    {
     "name": "stdout",
     "output_type": "stream",
     "text": [
      "Evaluating in individual mode on test set\n",
      "multilabel-indicator multilabel-indicator\n",
      "float32 float32\n",
      "(3185, 49) (3185, 49)\n",
      "Evaluating in combined mode on test set\n",
      "multilabel-indicator multilabel-indicator\n",
      "float32 float32\n",
      "(3185, 735) (3185, 735)\n",
      "Training and Evaluating on task 16\n",
      "Train data shape is  (646, 500)\n",
      "Train Labels shape is  (646, 49)\n",
      "Classes trained are: 735 to 784\n",
      "Samples with all negative labels 1\n",
      "Augmenting class labels...\n"
     ]
    },
    {
     "name": "stderr",
     "output_type": "stream",
     "text": [
      "  0%|          | 0/1 [00:00<?, ?it/s]"
     ]
    },
    {
     "name": "stdout",
     "output_type": "stream",
     "text": [
      "Train Labels shape is  (646, 784)\n",
      "Output dimensions: 784\n",
      "growing model size ...\n"
     ]
    },
    {
     "name": "stderr",
     "output_type": "stream",
     "text": [
      "100%|██████████| 1/1 [00:00<00:00,  1.57it/s]\n"
     ]
    },
    {
     "name": "stdout",
     "output_type": "stream",
     "text": [
      "Evaluating in individual mode on test set\n",
      "multilabel-indicator multilabel-indicator\n",
      "float32 float32\n",
      "(3185, 49) (3185, 49)\n",
      "Evaluating in combined mode on test set\n",
      "multilabel-indicator multilabel-indicator\n",
      "float32 float32\n",
      "(3185, 784) (3185, 784)\n",
      "Training and Evaluating on task 17\n",
      "Train data shape is  (646, 500)\n",
      "Train Labels shape is  (646, 49)\n",
      "Classes trained are: 784 to 833\n",
      "Samples with all negative labels 3\n",
      "Augmenting class labels...\n"
     ]
    },
    {
     "name": "stderr",
     "output_type": "stream",
     "text": [
      "  0%|          | 0/1 [00:00<?, ?it/s]"
     ]
    },
    {
     "name": "stdout",
     "output_type": "stream",
     "text": [
      "Train Labels shape is  (646, 833)\n",
      "Output dimensions: 833\n",
      "growing model size ...\n"
     ]
    },
    {
     "name": "stderr",
     "output_type": "stream",
     "text": [
      "100%|██████████| 1/1 [00:00<00:00,  1.59it/s]\n"
     ]
    },
    {
     "name": "stdout",
     "output_type": "stream",
     "text": [
      "Evaluating in individual mode on test set\n",
      "multilabel-indicator multilabel-indicator\n",
      "float32 float32\n",
      "(3185, 49) (3185, 49)\n",
      "Evaluating in combined mode on test set\n",
      "multilabel-indicator multilabel-indicator\n",
      "float32 float32\n",
      "(3185, 833) (3185, 833)\n",
      "Training and Evaluating on task 18\n",
      "Train data shape is  (646, 500)\n",
      "Train Labels shape is  (646, 49)\n",
      "Classes trained are: 833 to 882\n",
      "Samples with all negative labels 4\n",
      "Augmenting class labels...\n"
     ]
    },
    {
     "name": "stderr",
     "output_type": "stream",
     "text": [
      "  0%|          | 0/1 [00:00<?, ?it/s]"
     ]
    },
    {
     "name": "stdout",
     "output_type": "stream",
     "text": [
      "Train Labels shape is  (646, 882)\n",
      "Output dimensions: 882\n",
      "growing model size ...\n"
     ]
    },
    {
     "name": "stderr",
     "output_type": "stream",
     "text": [
      "100%|██████████| 1/1 [00:00<00:00,  1.60it/s]\n"
     ]
    },
    {
     "name": "stdout",
     "output_type": "stream",
     "text": [
      "Evaluating in individual mode on test set\n",
      "multilabel-indicator multilabel-indicator\n",
      "float32 float32\n",
      "(3185, 49) (3185, 49)\n",
      "Evaluating in combined mode on test set\n",
      "multilabel-indicator multilabel-indicator\n",
      "float32 float32\n",
      "(3185, 882) (3185, 882)\n",
      "Training and Evaluating on task 19\n",
      "Train data shape is  (646, 500)\n",
      "Train Labels shape is  (646, 49)\n",
      "Classes trained are: 882 to 931\n",
      "Samples with all negative labels 1\n",
      "Augmenting class labels...\n"
     ]
    },
    {
     "name": "stderr",
     "output_type": "stream",
     "text": [
      "  0%|          | 0/1 [00:00<?, ?it/s]"
     ]
    },
    {
     "name": "stdout",
     "output_type": "stream",
     "text": [
      "Train Labels shape is  (646, 931)\n",
      "Output dimensions: 931\n",
      "growing model size ...\n"
     ]
    },
    {
     "name": "stderr",
     "output_type": "stream",
     "text": [
      "100%|██████████| 1/1 [00:00<00:00,  1.62it/s]\n"
     ]
    },
    {
     "name": "stdout",
     "output_type": "stream",
     "text": [
      "Evaluating in individual mode on test set\n",
      "multilabel-indicator multilabel-indicator\n",
      "float32 float32\n",
      "(3185, 49) (3185, 49)\n",
      "Evaluating in combined mode on test set\n",
      "multilabel-indicator multilabel-indicator\n",
      "float32 float32\n",
      "(3185, 931) (3185, 931)\n",
      "Training and Evaluating on task 20\n",
      "Train data shape is  (646, 500)\n",
      "Train Labels shape is  (646, 52)\n",
      "Classes trained are: 931 to 983\n",
      "Samples with all negative labels 1\n",
      "Augmenting class labels...\n"
     ]
    },
    {
     "name": "stderr",
     "output_type": "stream",
     "text": [
      "  0%|          | 0/1 [00:00<?, ?it/s]"
     ]
    },
    {
     "name": "stdout",
     "output_type": "stream",
     "text": [
      "Train Labels shape is  (646, 983)\n",
      "Output dimensions: 983\n",
      "growing model size ...\n"
     ]
    },
    {
     "name": "stderr",
     "output_type": "stream",
     "text": [
      "100%|██████████| 1/1 [00:00<00:00,  1.53it/s]\n"
     ]
    },
    {
     "name": "stdout",
     "output_type": "stream",
     "text": [
      "Evaluating in individual mode on test set\n",
      "multilabel-indicator multilabel-indicator\n",
      "float32 float32\n",
      "(3185, 52) (3185, 52)\n",
      "Evaluating in combined mode on test set\n",
      "multilabel-indicator multilabel-indicator\n",
      "float32 float32\n",
      "(3185, 983) (3185, 983)\n",
      "Evaluating in individual mode on test set\n",
      "|                     |          0 |         1 |          2 |          3 |          4 |          5 |          6 |         7 |          8 |          9 |         10 |         11 |         12 |         13 |         14 |        15 |         16 |         17 |         18 |         19 |\n",
      "|:--------------------|-----------:|----------:|-----------:|-----------:|-----------:|-----------:|-----------:|----------:|-----------:|-----------:|-----------:|-----------:|-----------:|-----------:|-----------:|----------:|-----------:|-----------:|-----------:|-----------:|\n",
      "| hamming loss        | 0.392317   | 0.351142  | 0.267158   | 0.411495   | 0.204299   | 0.291936   | 0.290936   | 0.40387   | 0.294095   | 0.262903   | 0.312338   | 0.351245   | 0.278371   | 0.392708   | 0.324647   | 0.291411  | 0.263448   | 0.264659   | 0.331516   | 0.328433   |\n",
      "| zero_one_loss       | 1          | 1         | 1          | 1          | 1          | 1          | 1          | 1         | 1          | 1          | 1          | 1          | 1          | 1          | 1          | 1         | 1          | 1          | 1          | 1          |\n",
      "| one_error           | 0          | 0         | 0          | 0          | 0          | 0          | 0          | 0         | 0          | 0          | 0          | 0          | 0          | 0          | 0          | 0         | 0          | 0          | 0          | 0          |\n",
      "| micro av. jaccard   | 0.00692575 | 0.0174806 | 0.0342575  | 0.0153931  | 0.00710015 | 0.0194555  | 0.0110429  | 0.0308445 | 0.0175101  | 0.0217676  | 0.0128994  | 0.019216   | 0.00799196 | 0.0142503  | 0.00569118 | 0.0207145 | 0.0340202  | 0.0146476  | 0.0200023  | 0.0109281  |\n",
      "| macro av. jaccard   | 0.00273604 | 0.0062474 | 0.00947682 | 0.00643322 | 0.00146093 | 0.00579246 | 0.00324865 | 0.0128536 | 0.00524141 | 0.00585013 | 0.00408163 | 0.00688175 | 0.00224266 | 0.00567712 | 0.0018582  | 0.0061641 | 0.00927819 | 0.00393426 | 0.00676641 | 0.00362879 |\n",
      "| micro av. precision | 0.0070561  | 0.0180072 | 0.0357203  | 0.0157614  | 0.00795395 | 0.0202736  | 0.0113703  | 0.0314914 | 0.0183449  | 0.023888   | 0.0133333  | 0.0198356  | 0.00845309 | 0.014641   | 0.00607012 | 0.0215743 | 0.0349716  | 0.0160649  | 0.0207221  | 0.0117936  |\n",
      "| macro av. precision | 0.00273604 | 0.0062474 | 0.00947682 | 0.00643322 | 0.00146093 | 0.00579246 | 0.00324865 | 0.0128536 | 0.00524141 | 0.00585013 | 0.00408163 | 0.00688175 | 0.00224266 | 0.00567712 | 0.0018582  | 0.0061641 | 0.00927819 | 0.00393426 | 0.00676641 | 0.00362879 |\n",
      "| micro av. recall    | 0.272669   | 0.374137  | 0.455497   | 0.397152   | 0.0620408  | 0.325297   | 0.277201   | 0.600239  | 0.277853   | 0.196937   | 0.283868   | 0.380851   | 0.127784   | 0.348134   | 0.0835494  | 0.341984  | 0.555641   | 0.142393   | 0.365398   | 0.12961    |\n",
      "| macro av. recall    | 0.387755   | 0.346939  | 0.265306   | 0.408163   | 0.183673   | 0.285714   | 0.285714   | 0.408163  | 0.285714   | 0.244898   | 0.306122   | 0.346939   | 0.265306   | 0.387755   | 0.306122   | 0.285714  | 0.265306   | 0.244898   | 0.326531   | 0.307692   |\n",
      "| micro av. f1        | 0.0137562  | 0.0343606 | 0.0662456  | 0.0303195  | 0.0141002  | 0.0381684  | 0.0218445  | 0.0598431 | 0.0344175  | 0.0426078  | 0.0254703  | 0.0377074  | 0.0158572  | 0.0281002  | 0.011318   | 0.0405881 | 0.0658017  | 0.0288724  | 0.0392201  | 0.0216199  |\n",
      "| macro av. f1        | 0.00541482 | 0.0115249 | 0.015927   | 0.0120996  | 0.0028771  | 0.0110124  | 0.00619135 | 0.0227899 | 0.0101953  | 0.010648   | 0.00793513 | 0.0131838  | 0.0043883  | 0.0110261  | 0.00367301 | 0.0116516 | 0.0153961  | 0.0073882  | 0.0126663  | 0.00709035 |\n",
      "| imb. av. f1         | 0.675893   | 0.626526  | 0.778011   | 0.533124   | 0.791064   | 0.777354   | 0.659281   | 0.6006    | 0.777641   | 0.80108    | 0.718648   | 0.689826   | 0.675969   | 0.608226   | 0.645221   | 0.76297   | 0.796626   | 0.720555   | 0.673428   | 0.661202   |\n",
      "Evaluating in combined mode on test set\n",
      "|                     |          0 |          1 |          2 |          3 |          4 |          5 |          6 |          7 |          8 |          9 |         10 |         11 |         12 |         13 |         14 |         15 |         16 |         17 |         18 |        19 |\n",
      "|:--------------------|-----------:|-----------:|-----------:|-----------:|-----------:|-----------:|-----------:|-----------:|-----------:|-----------:|-----------:|-----------:|-----------:|-----------:|-----------:|-----------:|-----------:|-----------:|-----------:|----------:|\n",
      "| hamming loss        | 0.392317   | 0.37173    | 0.336872   | 0.355528   | 0.325282   | 0.319725   | 0.315612   | 0.326644   | 0.323028   | 0.317015   | 0.31659    | 0.319478   | 0.316316   | 0.321773   | 0.321964   | 0.320055   | 0.316725   | 0.313832   | 0.314763   | 0.315486  |\n",
      "| zero_one_loss       | 1          | 1          | 1          | 1          | 1          | 1          | 1          | 1          | 1          | 1          | 1          | 1          | 1          | 1          | 1          | 1          | 1          | 1          | 1          | 1         |\n",
      "| one_error           | 0          | 0          | 0          | 0          | 0          | 0          | 0          | 0          | 0          | 0          | 0          | 0          | 0          | 0          | 0          | 0          | 0          | 0          | 0          | 0         |\n",
      "| micro av. jaccard   | 0.00692575 | 0.011939   | 0.0179386  | 0.0172034  | 0.0159456  | 0.0164814  | 0.0157686  | 0.0181292  | 0.0180666  | 0.0183746  | 0.017886   | 0.018008   | 0.0173364  | 0.0170681  | 0.0163115  | 0.0165631  | 0.0174319  | 0.0173018  | 0.0174519  | 0.0170949 |\n",
      "| macro av. jaccard   | 0.00273604 | 0.00449172 | 0.00615342 | 0.00622337 | 0.00527088 | 0.00535781 | 0.0050565  | 0.00603114 | 0.00594339 | 0.00593407 | 0.00576566 | 0.00585867 | 0.00558052 | 0.00558742 | 0.0053388  | 0.00539038 | 0.00561908 | 0.00552548 | 0.00559079 | 0.005487  |\n",
      "| micro av. precision | 0.0070561  | 0.0122275  | 0.0184603  | 0.017678   | 0.016556   | 0.0171217  | 0.0163621  | 0.0187635  | 0.0187217  | 0.0191296  | 0.0186089  | 0.0187223  | 0.0180446  | 0.0177452  | 0.0169871  | 0.0172492  | 0.0181422  | 0.0180499  | 0.0181994  | 0.01786   |\n",
      "| macro av. precision | 0.00273604 | 0.00449172 | 0.00615342 | 0.00622337 | 0.00527088 | 0.00535781 | 0.0050565  | 0.00603114 | 0.00594339 | 0.00593407 | 0.00576566 | 0.00585867 | 0.00558052 | 0.00558742 | 0.0053388  | 0.00539038 | 0.00561908 | 0.00552548 | 0.00559079 | 0.005487  |\n",
      "| micro av. recall    | 0.272669   | 0.33605    | 0.388327   | 0.39057    | 0.301938   | 0.305896   | 0.303017   | 0.349064   | 0.340512   | 0.31768    | 0.315263   | 0.320669   | 0.306373   | 0.309063   | 0.290847   | 0.293989   | 0.30808    | 0.294524   | 0.298208   | 0.285228  |\n",
      "| macro av. recall    | 0.387755   | 0.367347   | 0.333333   | 0.352041   | 0.318367   | 0.312925   | 0.309038   | 0.321429   | 0.31746    | 0.310204   | 0.309833   | 0.312925   | 0.309262   | 0.314869   | 0.314286   | 0.3125     | 0.309724   | 0.306122   | 0.307197   | 0.307223  |\n",
      "| micro av. f1        | 0.0137562  | 0.0235963  | 0.035245   | 0.033825   | 0.0313907  | 0.0324283  | 0.0310477  | 0.0356128  | 0.035492   | 0.0360861  | 0.0351435  | 0.0353789  | 0.0340819  | 0.0335634  | 0.0320994  | 0.0325865  | 0.0342665  | 0.0340152  | 0.0343052  | 0.0336151 |\n",
      "| macro av. f1        | 0.00541482 | 0.00846984 | 0.0109556  | 0.0112416  | 0.00956867 | 0.00980928 | 0.00929243 | 0.0109796  | 0.0108925  | 0.010868   | 0.0106014  | 0.0108166  | 0.0103221  | 0.0103724  | 0.00992577 | 0.0100336  | 0.0103491  | 0.0101846  | 0.0103152  | 0.0101446 |\n",
      "| imb. av. f1         | 0.675893   | 0.655417   | 0.692433   | 0.654949   | 0.680004   | 0.69434    | 0.690229   | 0.681452   | 0.68933    | 0.699809   | 0.701181   | 0.700258   | 0.698187   | 0.692718   | 0.688987   | 0.693644   | 0.700207   | 0.701172   | 0.699872   | 0.698146  |\n",
      "File saved to ./checkpoints_new/delicious_0_SI_asy.pkl\n",
      "Number of Tasks: 20\n",
      "Forgetting in task 1: first time imb. av. f1 = 0.6759, after all tasks imb. av. f1 = 0.6759\n",
      "Forgetting in task 2: first time imb. av. f1 = 0.6265, after all tasks imb. av. f1 = 0.6759\n",
      "Forgetting in task 3: first time imb. av. f1 = 0.7780, after all tasks imb. av. f1 = 0.6759\n",
      "Forgetting in task 4: first time imb. av. f1 = 0.5331, after all tasks imb. av. f1 = 0.6759\n",
      "Forgetting in task 5: first time imb. av. f1 = 0.7911, after all tasks imb. av. f1 = 0.6759\n",
      "Forgetting in task 6: first time imb. av. f1 = 0.7774, after all tasks imb. av. f1 = 0.6759\n",
      "Forgetting in task 7: first time imb. av. f1 = 0.6593, after all tasks imb. av. f1 = 0.6759\n",
      "Forgetting in task 8: first time imb. av. f1 = 0.6006, after all tasks imb. av. f1 = 0.6759\n",
      "Forgetting in task 9: first time imb. av. f1 = 0.7776, after all tasks imb. av. f1 = 0.6759\n",
      "Forgetting in task 10: first time imb. av. f1 = 0.8011, after all tasks imb. av. f1 = 0.6759\n",
      "Forgetting in task 11: first time imb. av. f1 = 0.7186, after all tasks imb. av. f1 = 0.6759\n",
      "Forgetting in task 12: first time imb. av. f1 = 0.6898, after all tasks imb. av. f1 = 0.6759\n",
      "Forgetting in task 13: first time imb. av. f1 = 0.6760, after all tasks imb. av. f1 = 0.6759\n",
      "Forgetting in task 14: first time imb. av. f1 = 0.6082, after all tasks imb. av. f1 = 0.6759\n",
      "Forgetting in task 15: first time imb. av. f1 = 0.6452, after all tasks imb. av. f1 = 0.6759\n",
      "Forgetting in task 16: first time imb. av. f1 = 0.7630, after all tasks imb. av. f1 = 0.6759\n",
      "Forgetting in task 17: first time imb. av. f1 = 0.7966, after all tasks imb. av. f1 = 0.6759\n",
      "Forgetting in task 18: first time imb. av. f1 = 0.7206, after all tasks imb. av. f1 = 0.6759\n",
      "Forgetting in task 19: first time imb. av. f1 = 0.6734, after all tasks imb. av. f1 = 0.6759\n",
      "Forgetting in task 20: first time imb. av. f1 = 0.6612, after all tasks imb. av. f1 = 0.6759\n"
     ]
    },
    {
     "data": {
      "image/png": "[encoded data removed]",
      "text/plain": [
       "<Figure size 360x360 with 1 Axes>"
      ]
     },
     "metadata": {
      "needs_background": "light"
     },
     "output_type": "display_data"
    }
   ],
   "source": [
    "hparams = Hyperparameters('delicious', continual_method, device, num_tasks=20)\n",
    "experiment = ContinualExperiment(hparams)\n",
    "experiment.run()"
   ]
  },
  {
   "cell_type": "markdown",
   "metadata": {},
   "source": [
    "## Mediamill, 20 tasks"
   ]
  },
  {
   "cell_type": "code",
   "execution_count": 18,
   "metadata": {},
   "outputs": [
    {
     "name": "stdout",
     "output_type": "stream",
     "text": [
      "Processing Data ...\n"
     ]
    },
    {
     "name": "stderr",
     "output_type": "stream",
     "text": [
      "  0%|          | 0/1 [00:00<?, ?it/s]"
     ]
    },
    {
     "name": "stdout",
     "output_type": "stream",
     "text": [
      "(30993, 120)\n",
      "(12914, 120)\n",
      "(30993, 101)\n",
      "(12914, 101)\n",
      "Begin training in SI mode ...\n",
      "Training and Evaluating on task 1\n",
      "Train data shape is  (1549, 120)\n",
      "Train Labels shape is  (1549, 5)\n",
      "Classes trained are: 0 to 5\n",
      "Samples with all negative labels 0\n",
      "Output dimensions: 5\n"
     ]
    },
    {
     "name": "stderr",
     "output_type": "stream",
     "text": [
      "100%|██████████| 1/1 [00:00<00:00,  1.30it/s]\n"
     ]
    },
    {
     "name": "stdout",
     "output_type": "stream",
     "text": [
      "Evaluating in individual mode on test set\n",
      "multilabel-indicator multilabel-indicator\n",
      "float32 float32\n",
      "(12914, 5) (12914, 5)\n",
      "Evaluating in combined mode on test set\n",
      "multilabel-indicator multilabel-indicator\n",
      "float32 float32\n",
      "(12914, 5) (12914, 5)\n",
      "Training and Evaluating on task 2\n",
      "Train data shape is  (1549, 120)\n",
      "Train Labels shape is  (1549, 5)\n",
      "Classes trained are: 5 to 10\n",
      "Samples with all negative labels 2\n",
      "Augmenting class labels...\n"
     ]
    },
    {
     "name": "stderr",
     "output_type": "stream",
     "text": [
      "  0%|          | 0/1 [00:00<?, ?it/s]"
     ]
    },
    {
     "name": "stdout",
     "output_type": "stream",
     "text": [
      "Train Labels shape is  (1549, 10)\n",
      "Output dimensions: 10\n",
      "growing model size ...\n"
     ]
    },
    {
     "name": "stderr",
     "output_type": "stream",
     "text": [
      "100%|██████████| 1/1 [00:01<00:00,  1.59s/it]\n"
     ]
    },
    {
     "name": "stdout",
     "output_type": "stream",
     "text": [
      "Evaluating in individual mode on test set\n",
      "multilabel-indicator multilabel-indicator\n",
      "float32 float32\n",
      "(12914, 5) (12914, 5)\n",
      "Evaluating in combined mode on test set\n",
      "multilabel-indicator multilabel-indicator\n",
      "float32 float32\n",
      "(12914, 10) (12914, 10)\n",
      "Training and Evaluating on task 3\n",
      "Train data shape is  (1549, 120)\n",
      "Train Labels shape is  (1549, 5)\n",
      "Classes trained are: 10 to 15\n",
      "Samples with all negative labels 3\n",
      "Augmenting class labels...\n"
     ]
    },
    {
     "name": "stderr",
     "output_type": "stream",
     "text": [
      "  0%|          | 0/1 [00:00<?, ?it/s]"
     ]
    },
    {
     "name": "stdout",
     "output_type": "stream",
     "text": [
      "Train Labels shape is  (1549, 15)\n",
      "Output dimensions: 15\n",
      "growing model size ...\n"
     ]
    },
    {
     "name": "stderr",
     "output_type": "stream",
     "text": [
      "100%|██████████| 1/1 [00:01<00:00,  1.65s/it]\n"
     ]
    },
    {
     "name": "stdout",
     "output_type": "stream",
     "text": [
      "Evaluating in individual mode on test set\n",
      "multilabel-indicator multilabel-indicator\n",
      "float32 float32\n",
      "(12914, 5) (12914, 5)\n",
      "Evaluating in combined mode on test set\n",
      "multilabel-indicator multilabel-indicator\n",
      "float32 float32\n",
      "(12914, 15) (12914, 15)\n",
      "Training and Evaluating on task 4\n",
      "Train data shape is  (1549, 120)\n",
      "Train Labels shape is  (1549, 5)\n",
      "Classes trained are: 15 to 20\n",
      "Samples with all negative labels 1\n",
      "Augmenting class labels...\n"
     ]
    },
    {
     "name": "stderr",
     "output_type": "stream",
     "text": [
      "  0%|          | 0/1 [00:00<?, ?it/s]"
     ]
    },
    {
     "name": "stdout",
     "output_type": "stream",
     "text": [
      "Train Labels shape is  (1549, 20)\n",
      "Output dimensions: 20\n",
      "growing model size ...\n"
     ]
    },
    {
     "name": "stderr",
     "output_type": "stream",
     "text": [
      "100%|██████████| 1/1 [00:01<00:00,  1.42s/it]\n"
     ]
    },
    {
     "name": "stdout",
     "output_type": "stream",
     "text": [
      "Evaluating in individual mode on test set\n",
      "multilabel-indicator multilabel-indicator\n",
      "float32 float32\n",
      "(12914, 5) (12914, 5)\n",
      "Evaluating in combined mode on test set\n",
      "multilabel-indicator multilabel-indicator\n",
      "float32 float32\n",
      "(12914, 20) (12914, 20)\n",
      "Training and Evaluating on task 5\n",
      "Train data shape is  (1549, 120)\n",
      "Train Labels shape is  (1549, 5)\n",
      "Classes trained are: 20 to 25\n",
      "Samples with all negative labels 1\n",
      "Augmenting class labels...\n"
     ]
    },
    {
     "name": "stderr",
     "output_type": "stream",
     "text": [
      "  0%|          | 0/1 [00:00<?, ?it/s]"
     ]
    },
    {
     "name": "stdout",
     "output_type": "stream",
     "text": [
      "Train Labels shape is  (1549, 25)\n",
      "Output dimensions: 25\n",
      "growing model size ...\n"
     ]
    },
    {
     "name": "stderr",
     "output_type": "stream",
     "text": [
      "100%|██████████| 1/1 [00:01<00:00,  1.57s/it]\n"
     ]
    },
    {
     "name": "stdout",
     "output_type": "stream",
     "text": [
      "Evaluating in individual mode on test set\n",
      "multilabel-indicator multilabel-indicator\n",
      "float32 float32\n",
      "(12914, 5) (12914, 5)\n",
      "Evaluating in combined mode on test set\n",
      "multilabel-indicator multilabel-indicator\n",
      "float32 float32\n",
      "(12914, 25) (12914, 25)\n",
      "Training and Evaluating on task 6\n",
      "Train data shape is  (1549, 120)\n",
      "Train Labels shape is  (1549, 5)\n",
      "Classes trained are: 25 to 30\n",
      "Samples with all negative labels 1\n",
      "Augmenting class labels...\n"
     ]
    },
    {
     "name": "stderr",
     "output_type": "stream",
     "text": [
      "  0%|          | 0/1 [00:00<?, ?it/s]"
     ]
    },
    {
     "name": "stdout",
     "output_type": "stream",
     "text": [
      "Train Labels shape is  (1549, 30)\n",
      "Output dimensions: 30\n",
      "growing model size ...\n"
     ]
    },
    {
     "name": "stderr",
     "output_type": "stream",
     "text": [
      "100%|██████████| 1/1 [00:01<00:00,  1.61s/it]\n"
     ]
    },
    {
     "name": "stdout",
     "output_type": "stream",
     "text": [
      "Evaluating in individual mode on test set\n",
      "multilabel-indicator multilabel-indicator\n",
      "float32 float32\n",
      "(12914, 5) (12914, 5)\n",
      "Evaluating in combined mode on test set\n",
      "multilabel-indicator multilabel-indicator\n",
      "float32 float32\n",
      "(12914, 30) (12914, 30)\n",
      "Training and Evaluating on task 7\n",
      "Train data shape is  (1549, 120)\n",
      "Train Labels shape is  (1549, 5)\n",
      "Classes trained are: 30 to 35\n",
      "Samples with all negative labels 0\n",
      "Augmenting class labels...\n"
     ]
    },
    {
     "name": "stderr",
     "output_type": "stream",
     "text": [
      "  0%|          | 0/1 [00:00<?, ?it/s]"
     ]
    },
    {
     "name": "stdout",
     "output_type": "stream",
     "text": [
      "Train Labels shape is  (1549, 35)\n",
      "Output dimensions: 35\n",
      "growing model size ...\n"
     ]
    },
    {
     "name": "stderr",
     "output_type": "stream",
     "text": [
      "100%|██████████| 1/1 [00:01<00:00,  1.65s/it]\n"
     ]
    },
    {
     "name": "stdout",
     "output_type": "stream",
     "text": [
      "Evaluating in individual mode on test set\n",
      "multilabel-indicator multilabel-indicator\n",
      "float32 float32\n",
      "(12914, 5) (12914, 5)\n",
      "Evaluating in combined mode on test set\n",
      "multilabel-indicator multilabel-indicator\n",
      "float32 float32\n",
      "(12914, 35) (12914, 35)\n",
      "Training and Evaluating on task 8\n",
      "Train data shape is  (1549, 120)\n",
      "Train Labels shape is  (1549, 5)\n",
      "Classes trained are: 35 to 40\n",
      "Samples with all negative labels 2\n",
      "Augmenting class labels...\n"
     ]
    },
    {
     "name": "stderr",
     "output_type": "stream",
     "text": [
      "  0%|          | 0/1 [00:00<?, ?it/s]"
     ]
    },
    {
     "name": "stdout",
     "output_type": "stream",
     "text": [
      "Train Labels shape is  (1549, 40)\n",
      "Output dimensions: 40\n",
      "growing model size ...\n"
     ]
    },
    {
     "name": "stderr",
     "output_type": "stream",
     "text": [
      "100%|██████████| 1/1 [00:01<00:00,  1.54s/it]\n"
     ]
    },
    {
     "name": "stdout",
     "output_type": "stream",
     "text": [
      "Evaluating in individual mode on test set\n",
      "multilabel-indicator multilabel-indicator\n",
      "float32 float32\n",
      "(12914, 5) (12914, 5)\n",
      "Evaluating in combined mode on test set\n",
      "multilabel-indicator multilabel-indicator\n",
      "float32 float32\n",
      "(12914, 40) (12914, 40)\n",
      "Training and Evaluating on task 9\n",
      "Train data shape is  (1549, 120)\n",
      "Train Labels shape is  (1549, 5)\n",
      "Classes trained are: 40 to 45\n",
      "Samples with all negative labels 1\n",
      "Augmenting class labels...\n"
     ]
    },
    {
     "name": "stderr",
     "output_type": "stream",
     "text": [
      "  0%|          | 0/1 [00:00<?, ?it/s]"
     ]
    },
    {
     "name": "stdout",
     "output_type": "stream",
     "text": [
      "Train Labels shape is  (1549, 45)\n",
      "Output dimensions: 45\n",
      "growing model size ...\n"
     ]
    },
    {
     "name": "stderr",
     "output_type": "stream",
     "text": [
      "100%|██████████| 1/1 [00:01<00:00,  1.38s/it]\n"
     ]
    },
    {
     "name": "stdout",
     "output_type": "stream",
     "text": [
      "Evaluating in individual mode on test set\n",
      "multilabel-indicator multilabel-indicator\n",
      "float32 float32\n",
      "(12914, 5) (12914, 5)\n",
      "Evaluating in combined mode on test set\n",
      "multilabel-indicator multilabel-indicator\n",
      "float32 float32\n",
      "(12914, 45) (12914, 45)\n",
      "Training and Evaluating on task 10\n",
      "Train data shape is  (1549, 120)\n",
      "Train Labels shape is  (1549, 5)\n",
      "Classes trained are: 45 to 50\n",
      "Samples with all negative labels 2\n",
      "Augmenting class labels...\n"
     ]
    },
    {
     "name": "stderr",
     "output_type": "stream",
     "text": [
      "  0%|          | 0/1 [00:00<?, ?it/s]"
     ]
    },
    {
     "name": "stdout",
     "output_type": "stream",
     "text": [
      "Train Labels shape is  (1549, 50)\n",
      "Output dimensions: 50\n",
      "growing model size ...\n"
     ]
    },
    {
     "name": "stderr",
     "output_type": "stream",
     "text": [
      "100%|██████████| 1/1 [00:01<00:00,  1.61s/it]\n"
     ]
    },
    {
     "name": "stdout",
     "output_type": "stream",
     "text": [
      "Evaluating in individual mode on test set\n",
      "multilabel-indicator multilabel-indicator\n",
      "float32 float32\n",
      "(12914, 5) (12914, 5)\n",
      "Evaluating in combined mode on test set\n",
      "multilabel-indicator multilabel-indicator\n",
      "float32 float32\n",
      "(12914, 50) (12914, 50)\n",
      "Training and Evaluating on task 11\n",
      "Train data shape is  (1549, 120)\n",
      "Train Labels shape is  (1549, 5)\n",
      "Classes trained are: 50 to 55\n",
      "Samples with all negative labels 1\n",
      "Augmenting class labels...\n"
     ]
    },
    {
     "name": "stderr",
     "output_type": "stream",
     "text": [
      "  0%|          | 0/1 [00:00<?, ?it/s]"
     ]
    },
    {
     "name": "stdout",
     "output_type": "stream",
     "text": [
      "Train Labels shape is  (1549, 55)\n",
      "Output dimensions: 55\n",
      "growing model size ...\n"
     ]
    },
    {
     "name": "stderr",
     "output_type": "stream",
     "text": [
      "100%|██████████| 1/1 [00:01<00:00,  1.46s/it]\n"
     ]
    },
    {
     "name": "stdout",
     "output_type": "stream",
     "text": [
      "Evaluating in individual mode on test set\n",
      "multilabel-indicator multilabel-indicator\n",
      "float32 float32\n",
      "(12914, 5) (12914, 5)\n",
      "Evaluating in combined mode on test set\n",
      "multilabel-indicator multilabel-indicator\n",
      "float32 float32\n",
      "(12914, 55) (12914, 55)\n",
      "Training and Evaluating on task 12\n",
      "Train data shape is  (1549, 120)\n",
      "Train Labels shape is  (1549, 5)\n",
      "Classes trained are: 55 to 60\n",
      "Samples with all negative labels 0\n",
      "Augmenting class labels...\n"
     ]
    },
    {
     "name": "stderr",
     "output_type": "stream",
     "text": [
      "  0%|          | 0/1 [00:00<?, ?it/s]"
     ]
    },
    {
     "name": "stdout",
     "output_type": "stream",
     "text": [
      "Train Labels shape is  (1549, 60)\n",
      "Output dimensions: 60\n",
      "growing model size ...\n"
     ]
    },
    {
     "name": "stderr",
     "output_type": "stream",
     "text": [
      "100%|██████████| 1/1 [00:01<00:00,  1.49s/it]\n"
     ]
    },
    {
     "name": "stdout",
     "output_type": "stream",
     "text": [
      "Evaluating in individual mode on test set\n",
      "multilabel-indicator multilabel-indicator\n",
      "float32 float32\n",
      "(12914, 5) (12914, 5)\n",
      "Evaluating in combined mode on test set\n",
      "multilabel-indicator multilabel-indicator\n",
      "float32 float32\n",
      "(12914, 60) (12914, 60)\n",
      "Training and Evaluating on task 13\n",
      "Train data shape is  (1549, 120)\n",
      "Train Labels shape is  (1549, 5)\n",
      "Classes trained are: 60 to 65\n",
      "Samples with all negative labels 1\n",
      "Augmenting class labels...\n"
     ]
    },
    {
     "name": "stderr",
     "output_type": "stream",
     "text": [
      "  0%|          | 0/1 [00:00<?, ?it/s]"
     ]
    },
    {
     "name": "stdout",
     "output_type": "stream",
     "text": [
      "Train Labels shape is  (1549, 65)\n",
      "Output dimensions: 65\n",
      "growing model size ...\n"
     ]
    },
    {
     "name": "stderr",
     "output_type": "stream",
     "text": [
      "100%|██████████| 1/1 [00:01<00:00,  1.48s/it]\n"
     ]
    },
    {
     "name": "stdout",
     "output_type": "stream",
     "text": [
      "Evaluating in individual mode on test set\n",
      "multilabel-indicator multilabel-indicator\n",
      "float32 float32\n",
      "(12914, 5) (12914, 5)\n",
      "Evaluating in combined mode on test set\n",
      "multilabel-indicator multilabel-indicator\n",
      "float32 float32\n",
      "(12914, 65) (12914, 65)\n",
      "Training and Evaluating on task 14\n",
      "Train data shape is  (1549, 120)\n",
      "Train Labels shape is  (1549, 5)\n",
      "Classes trained are: 65 to 70\n",
      "Samples with all negative labels 1\n",
      "Augmenting class labels...\n"
     ]
    },
    {
     "name": "stderr",
     "output_type": "stream",
     "text": [
      "  0%|          | 0/1 [00:00<?, ?it/s]"
     ]
    },
    {
     "name": "stdout",
     "output_type": "stream",
     "text": [
      "Train Labels shape is  (1549, 70)\n",
      "Output dimensions: 70\n",
      "growing model size ...\n"
     ]
    },
    {
     "name": "stderr",
     "output_type": "stream",
     "text": [
      "100%|██████████| 1/1 [00:01<00:00,  1.49s/it]\n"
     ]
    },
    {
     "name": "stdout",
     "output_type": "stream",
     "text": [
      "Evaluating in individual mode on test set\n",
      "multilabel-indicator multilabel-indicator\n",
      "float32 float32\n",
      "(12914, 5) (12914, 5)\n",
      "Evaluating in combined mode on test set\n",
      "multilabel-indicator multilabel-indicator\n",
      "float32 float32\n",
      "(12914, 70) (12914, 70)\n",
      "Training and Evaluating on task 15\n",
      "Train data shape is  (1549, 120)\n",
      "Train Labels shape is  (1549, 5)\n",
      "Classes trained are: 70 to 75\n",
      "Samples with all negative labels 2\n",
      "Augmenting class labels...\n"
     ]
    },
    {
     "name": "stderr",
     "output_type": "stream",
     "text": [
      "  0%|          | 0/1 [00:00<?, ?it/s]"
     ]
    },
    {
     "name": "stdout",
     "output_type": "stream",
     "text": [
      "Train Labels shape is  (1549, 75)\n",
      "Output dimensions: 75\n",
      "growing model size ...\n"
     ]
    },
    {
     "name": "stderr",
     "output_type": "stream",
     "text": [
      "100%|██████████| 1/1 [00:01<00:00,  1.48s/it]\n"
     ]
    },
    {
     "name": "stdout",
     "output_type": "stream",
     "text": [
      "Evaluating in individual mode on test set\n",
      "multilabel-indicator multilabel-indicator\n",
      "float32 float32\n",
      "(12914, 5) (12914, 5)\n",
      "Evaluating in combined mode on test set\n",
      "multilabel-indicator multilabel-indicator\n",
      "float32 float32\n",
      "(12914, 75) (12914, 75)\n",
      "Training and Evaluating on task 16\n",
      "Train data shape is  (1549, 120)\n",
      "Train Labels shape is  (1549, 5)\n",
      "Classes trained are: 75 to 80\n",
      "Samples with all negative labels 4\n",
      "Augmenting class labels...\n"
     ]
    },
    {
     "name": "stderr",
     "output_type": "stream",
     "text": [
      "  0%|          | 0/1 [00:00<?, ?it/s]"
     ]
    },
    {
     "name": "stdout",
     "output_type": "stream",
     "text": [
      "Train Labels shape is  (1549, 80)\n",
      "Output dimensions: 80\n",
      "growing model size ...\n"
     ]
    },
    {
     "name": "stderr",
     "output_type": "stream",
     "text": [
      "100%|██████████| 1/1 [00:01<00:00,  1.60s/it]\n"
     ]
    },
    {
     "name": "stdout",
     "output_type": "stream",
     "text": [
      "Evaluating in individual mode on test set\n",
      "multilabel-indicator multilabel-indicator\n",
      "float32 float32\n",
      "(12914, 5) (12914, 5)\n",
      "Evaluating in combined mode on test set\n",
      "multilabel-indicator multilabel-indicator\n",
      "float32 float32\n",
      "(12914, 80) (12914, 80)\n",
      "Training and Evaluating on task 17\n",
      "Train data shape is  (1549, 120)\n",
      "Train Labels shape is  (1549, 5)\n",
      "Classes trained are: 80 to 85\n",
      "Samples with all negative labels 0\n",
      "Augmenting class labels...\n"
     ]
    },
    {
     "name": "stderr",
     "output_type": "stream",
     "text": [
      "  0%|          | 0/1 [00:00<?, ?it/s]"
     ]
    },
    {
     "name": "stdout",
     "output_type": "stream",
     "text": [
      "Train Labels shape is  (1549, 85)\n",
      "Output dimensions: 85\n",
      "growing model size ...\n"
     ]
    },
    {
     "name": "stderr",
     "output_type": "stream",
     "text": [
      "100%|██████████| 1/1 [00:01<00:00,  1.46s/it]\n"
     ]
    },
    {
     "name": "stdout",
     "output_type": "stream",
     "text": [
      "Evaluating in individual mode on test set\n",
      "multilabel-indicator multilabel-indicator\n",
      "float32 float32\n",
      "(12914, 5) (12914, 5)\n",
      "Evaluating in combined mode on test set\n",
      "multilabel-indicator multilabel-indicator\n",
      "float32 float32\n",
      "(12914, 85) (12914, 85)\n",
      "Training and Evaluating on task 18\n",
      "Train data shape is  (1549, 120)\n",
      "Train Labels shape is  (1549, 5)\n",
      "Classes trained are: 85 to 90\n",
      "Samples with all negative labels 1\n",
      "Augmenting class labels...\n"
     ]
    },
    {
     "name": "stderr",
     "output_type": "stream",
     "text": [
      "  0%|          | 0/1 [00:00<?, ?it/s]"
     ]
    },
    {
     "name": "stdout",
     "output_type": "stream",
     "text": [
      "Train Labels shape is  (1549, 90)\n",
      "Output dimensions: 90\n",
      "growing model size ...\n"
     ]
    },
    {
     "name": "stderr",
     "output_type": "stream",
     "text": [
      "100%|██████████| 1/1 [00:01<00:00,  1.55s/it]\n"
     ]
    },
    {
     "name": "stdout",
     "output_type": "stream",
     "text": [
      "Evaluating in individual mode on test set\n",
      "multilabel-indicator multilabel-indicator\n",
      "float32 float32\n",
      "(12914, 5) (12914, 5)\n",
      "Evaluating in combined mode on test set\n",
      "multilabel-indicator multilabel-indicator\n",
      "float32 float32\n",
      "(12914, 90) (12914, 90)\n",
      "Training and Evaluating on task 19\n",
      "Train data shape is  (1549, 120)\n",
      "Train Labels shape is  (1549, 5)\n",
      "Classes trained are: 90 to 95\n",
      "Samples with all negative labels 2\n",
      "Augmenting class labels...\n"
     ]
    },
    {
     "name": "stderr",
     "output_type": "stream",
     "text": [
      "  0%|          | 0/1 [00:00<?, ?it/s]"
     ]
    },
    {
     "name": "stdout",
     "output_type": "stream",
     "text": [
      "Train Labels shape is  (1549, 95)\n",
      "Output dimensions: 95\n",
      "growing model size ...\n"
     ]
    },
    {
     "name": "stderr",
     "output_type": "stream",
     "text": [
      "100%|██████████| 1/1 [00:01<00:00,  1.58s/it]\n"
     ]
    },
    {
     "name": "stdout",
     "output_type": "stream",
     "text": [
      "Evaluating in individual mode on test set\n",
      "multilabel-indicator multilabel-indicator\n",
      "float32 float32\n",
      "(12914, 5) (12914, 5)\n",
      "Evaluating in combined mode on test set\n",
      "multilabel-indicator multilabel-indicator\n",
      "float32 float32\n",
      "(12914, 95) (12914, 95)\n",
      "Training and Evaluating on task 20\n",
      "Train data shape is  (1562, 120)\n",
      "Train Labels shape is  (1562, 6)\n",
      "Classes trained are: 95 to 101\n",
      "Samples with all negative labels 2\n",
      "Augmenting class labels...\n"
     ]
    },
    {
     "name": "stderr",
     "output_type": "stream",
     "text": [
      "  0%|          | 0/1 [00:00<?, ?it/s]"
     ]
    },
    {
     "name": "stdout",
     "output_type": "stream",
     "text": [
      "Train Labels shape is  (1562, 101)\n",
      "Output dimensions: 101\n",
      "growing model size ...\n"
     ]
    },
    {
     "name": "stderr",
     "output_type": "stream",
     "text": [
      "100%|██████████| 1/1 [00:01<00:00,  1.45s/it]\n"
     ]
    },
    {
     "name": "stdout",
     "output_type": "stream",
     "text": [
      "Evaluating in individual mode on test set\n",
      "multilabel-indicator multilabel-indicator\n",
      "float32 float32\n",
      "(12914, 6) (12914, 6)\n",
      "Evaluating in combined mode on test set\n",
      "multilabel-indicator multilabel-indicator\n",
      "float32 float32\n",
      "(12914, 101) (12914, 101)\n",
      "Evaluating in individual mode on test set\n",
      "|                     |          0 |          1 |         2 |          3 |         4 |           5 |         6 |          7 |          8 |           9 |         10 |         11 |          12 |       13 |         14 |          15 |        16 |         17 |        18 |        19 |\n",
      "|:--------------------|-----------:|-----------:|----------:|-----------:|----------:|------------:|----------:|-----------:|-----------:|------------:|-----------:|-----------:|------------:|---------:|-----------:|------------:|----------:|-----------:|----------:|----------:|\n",
      "| hamming loss        | 0.804197   | 0.600124   | 0.576816  | 0.411941   | 0.767214  | 0.403159    | 0.306288  | 0.401239   | 0.608255   | 0.597816    | 0.639399   | 0.225445   | 0.792179    | 0.449621 | 0.599117   | 0.435063    | 0.377265  | 0.599365   | 0.786697  | 0.336934  |\n",
      "| zero_one_loss       | 1          | 1          | 1         | 1          | 1         | 1           | 0.974988  | 1          | 1          | 1           | 1          | 0.988075   | 1           | 0.999226 | 1          | 1           | 0.994037  | 1          | 1         | 0.999768  |\n",
      "| one_error           | 0.0482422  | 0          | 0         | 0          | 0.0147902 | 0           | 0         | 0          | 0          | 0.000232306 | 0.00286511 | 0          | 0.000387177 | 0        | 0          | 7.74353e-05 | 0         | 0          | 0.036472  | 0         |\n",
      "| micro av. jaccard   | 0.0067901  | 0.00170033 | 0.0407201 | 0.00329749 | 0.044663  | 0.00203182  | 0.0757547 | 0.00720417 | 0.0131414  | 0.00379374  | 0.00785812 | 0.0106029  | 0.00991038  | 0.337048 | 0.00260403 | 0.010636    | 0.0727418 | 0.00303975 | 0.0279016 | 0.0820969 |\n",
      "| macro av. jaccard   | 0.00549791 | 0.00102215 | 0.0244851 | 0.00136286 | 0.0358681 | 0.000820815 | 0.0251045 | 0.00291157 | 0.00809974 | 0.0022766   | 0.00506427 | 0.00241598 | 0.00792938  | 0.228589 | 0.00156419 | 0.00467709  | 0.0295958 | 0.00182747 | 0.0225801 | 0.0301353 |\n",
      "| micro av. precision | 0.00687239 | 0.00170358 | 0.0408084 | 0.00340716 | 0.0448351 | 0.00205204  | 0.125523  | 0.00727892 | 0.0134996  | 0.00379433  | 0.00844045 | 0.0120799  | 0.00991172  | 0.380982 | 0.00260699 | 0.0116927   | 0.0739895 | 0.00304579 | 0.0282252 | 0.0904058 |\n",
      "| macro av. precision | 0.00549791 | 0.00102215 | 0.0244851 | 0.00136286 | 0.0358681 | 0.000820815 | 0.0251045 | 0.00291157 | 0.00809974 | 0.0022766   | 0.00506427 | 0.00241598 | 0.00792938  | 0.228589 | 0.00156419 | 0.00467709  | 0.0295958 | 0.00182747 | 0.0225801 | 0.0301353 |\n",
      "| micro av. recall    | 0.361876   | 0.471429   | 0.94955   | 0.092925   | 0.920875  | 0.170968    | 0.160416  | 0.412281   | 0.331222   | 0.960784    | 0.102251   | 0.0797954  | 0.986513    | 0.745078 | 0.696552   | 0.1053      | 0.81181   | 0.605128   | 0.708799  | 0.471812  |\n",
      "| macro av. recall    | 0.8        | 0.6        | 0.6       | 0.4        | 0.8       | 0.4         | 0.2       | 0.4        | 0.6        | 0.6         | 0.6        | 0.2        | 0.8         | 0.6      | 0.6        | 0.4         | 0.4       | 0.6        | 0.8       | 0.333333  |\n",
      "| micro av. f1        | 0.0134886  | 0.00339489 | 0.0782538 | 0.0065733  | 0.085507  | 0.0040554   | 0.14084   | 0.0143053  | 0.0259418  | 0.00755881  | 0.0155937  | 0.0209833  | 0.0196263   | 0.504167 | 0.00519454 | 0.0210482   | 0.135618  | 0.00606107 | 0.0542885 | 0.151737  |\n",
      "| macro av. f1        | 0.0108975  | 0.00203737 | 0.0444663 | 0.00271191 | 0.0627105 | 0.00163585  | 0.0446096 | 0.00577764 | 0.0157248  | 0.00453277  | 0.00990687 | 0.00477429 | 0.0156605   | 0.290566 | 0.0031172  | 0.00917252  | 0.0521132 | 0.00363957 | 0.04223   | 0.0521339 |\n",
      "| imb. av. f1         | 0.00652053 | 0.155481   | 0.946839  | 0.379869   | 0.0724918 | 0.237987    | 0.984203  | 0.765155   | 0.291824   | 0.871545    | 0.0140142  | 0.886046   | 0.723823    | 0.827495 | 0.413002   | 0.121673    | 0.761935  | 0.480081   | 0.0605022 | 0.934377  |\n",
      "Evaluating in combined mode on test set\n",
      "|                     |          0 |          1 |         2 |          3 |         4 |         5 |         6 |         7 |         8 |         9 |        10 |         11 |         12 |        13 |        14 |        15 |        16 |        17 |        18 |        19 |\n",
      "|:--------------------|-----------:|-----------:|----------:|-----------:|----------:|----------:|----------:|----------:|----------:|----------:|----------:|-----------:|-----------:|----------:|----------:|----------:|----------:|----------:|----------:|----------:|\n",
      "| hamming loss        | 0.804197   | 0.70216    | 0.660379  | 0.598269   | 0.632058  | 0.593908  | 0.55282   | 0.533872  | 0.542137  | 0.547705  | 0.556041  | 0.528491   | 0.548775   | 0.541692  | 0.545521  | 0.538617  | 0.529126  | 0.533028  | 0.546379  | 0.533937  |\n",
      "| zero_one_loss       | 1          | 1          | 1         | 1          | 1         | 1         | 1         | 1         | 1         | 1         | 1         | 1          | 1          | 1         | 1         | 1         | 1         | 1         | 1         | 1         |\n",
      "| one_error           | 0.0482422  | 0          | 0         | 0          | 0         | 0         | 0         | 0         | 0         | 0         | 0         | 0          | 0          | 0         | 0         | 0         | 0         | 0         | 0         | 0         |\n",
      "| micro av. jaccard   | 0.0067901  | 0.0046214  | 0.015409  | 0.0133452  | 0.0211353 | 0.0190108 | 0.0237547 | 0.0222234 | 0.0211004 | 0.0192406 | 0.018063  | 0.0177997  | 0.0169299  | 0.0442901 | 0.0413566 | 0.0398515 | 0.0412777 | 0.0389751 | 0.0381448 | 0.0398683 |\n",
      "| macro av. jaccard   | 0.00549791 | 0.00326003 | 0.010335  | 0.00809199 | 0.0136472 | 0.0115095 | 0.0134516 | 0.0121341 | 0.0116859 | 0.0107449 | 0.0102285 | 0.00957746 | 0.00945069 | 0.0251034 | 0.0235341 | 0.0223556 | 0.0227815 | 0.0216174 | 0.021668  | 0.022171  |\n",
      "| micro av. precision | 0.00687239 | 0.00465718 | 0.0155026 | 0.0134867  | 0.0213238 | 0.0191825 | 0.0247793 | 0.0231126 | 0.021911  | 0.019898  | 0.0187523 | 0.018537   | 0.0175513  | 0.0462432 | 0.0430503 | 0.0415918 | 0.0430317 | 0.0405326 | 0.0395858 | 0.0414681 |\n",
      "| macro av. precision | 0.00549791 | 0.00326003 | 0.010335  | 0.00809199 | 0.0136472 | 0.0115095 | 0.0134516 | 0.0121341 | 0.0116859 | 0.0107449 | 0.0102285 | 0.00957746 | 0.00945069 | 0.0251034 | 0.0235341 | 0.0223556 | 0.0227815 | 0.0216174 | 0.021668  | 0.022171  |\n",
      "| micro av. recall    | 0.361876   | 0.375558   | 0.718593  | 0.559871   | 0.705186  | 0.679933  | 0.36488   | 0.366143  | 0.363194  | 0.368044  | 0.329493  | 0.309157   | 0.323492   | 0.511876  | 0.512478  | 0.487813  | 0.503159  | 0.503557  | 0.511684  | 0.508216  |\n",
      "| macro av. recall    | 0.8        | 0.7        | 0.666667  | 0.6        | 0.64      | 0.6       | 0.542857  | 0.525     | 0.533333  | 0.54      | 0.545455  | 0.516667   | 0.538462   | 0.542857  | 0.546667  | 0.5375    | 0.529412  | 0.533333  | 0.547368  | 0.534653  |\n",
      "| micro av. f1        | 0.0134886  | 0.00920028 | 0.0303503 | 0.0263388  | 0.0413958 | 0.0373122 | 0.0464071 | 0.0434805 | 0.0413287 | 0.0377548 | 0.035485  | 0.0349768  | 0.033296   | 0.0848233 | 0.0794282 | 0.0766484 | 0.0792828 | 0.0750261 | 0.0734865 | 0.0766794 |\n",
      "| macro av. f1        | 0.0108975  | 0.00646745 | 0.0191337 | 0.0150283  | 0.0245647 | 0.0207432 | 0.0241527 | 0.0218558 | 0.0211746 | 0.0195104 | 0.0186374 | 0.0174821  | 0.017342   | 0.036858  | 0.0346086 | 0.0330189 | 0.0341421 | 0.0324475 | 0.0329624 | 0.0341013 |\n",
      "| imb. av. f1         | 0.00652053 | 0.0897573  | 0.486399  | 0.475254   | 0.454164  | 0.416686  | 0.434337  | 0.452147  | 0.444806  | 0.543611  | 0.445847  | 0.454077   | 0.468348   | 0.469694  | 0.466041  | 0.461396  | 0.466092  | 0.466895  | 0.463599  | 0.475858  |\n",
      "File saved to ./checkpoints_new/mediamill_0_SI_asy.pkl\n",
      "Number of Tasks: 20\n",
      "Forgetting in task 1: first time imb. av. f1 = 0.9676, after all tasks imb. av. f1 = 0.0065\n",
      "Forgetting in task 2: first time imb. av. f1 = 0.9074, after all tasks imb. av. f1 = 0.0065\n",
      "Forgetting in task 3: first time imb. av. f1 = 0.9736, after all tasks imb. av. f1 = 0.0065\n",
      "Forgetting in task 4: first time imb. av. f1 = 0.9888, after all tasks imb. av. f1 = 0.0065\n",
      "Forgetting in task 5: first time imb. av. f1 = 0.3499, after all tasks imb. av. f1 = 0.0065\n",
      "Forgetting in task 6: first time imb. av. f1 = 0.7113, after all tasks imb. av. f1 = 0.0065\n",
      "Forgetting in task 7: first time imb. av. f1 = 0.9278, after all tasks imb. av. f1 = 0.0065\n",
      "Forgetting in task 8: first time imb. av. f1 = 0.6859, after all tasks imb. av. f1 = 0.0065\n",
      "Forgetting in task 9: first time imb. av. f1 = 0.5386, after all tasks imb. av. f1 = 0.0065\n",
      "Forgetting in task 10: first time imb. av. f1 = 0.8715, after all tasks imb. av. f1 = 0.0065\n",
      "Forgetting in task 11: first time imb. av. f1 = 0.0136, after all tasks imb. av. f1 = 0.0065\n",
      "Forgetting in task 12: first time imb. av. f1 = 0.8860, after all tasks imb. av. f1 = 0.0065\n",
      "Forgetting in task 13: first time imb. av. f1 = 0.1864, after all tasks imb. av. f1 = 0.0065\n",
      "Forgetting in task 14: first time imb. av. f1 = 0.8275, after all tasks imb. av. f1 = 0.0065\n",
      "Forgetting in task 15: first time imb. av. f1 = 0.3002, after all tasks imb. av. f1 = 0.0065\n",
      "Forgetting in task 16: first time imb. av. f1 = 0.1005, after all tasks imb. av. f1 = 0.0065\n",
      "Forgetting in task 17: first time imb. av. f1 = 0.7323, after all tasks imb. av. f1 = 0.0065\n",
      "Forgetting in task 18: first time imb. av. f1 = 0.4531, after all tasks imb. av. f1 = 0.0065\n",
      "Forgetting in task 19: first time imb. av. f1 = 0.4446, after all tasks imb. av. f1 = 0.0065\n",
      "Forgetting in task 20: first time imb. av. f1 = 0.9344, after all tasks imb. av. f1 = 0.0065\n"
     ]
    },
    {
     "data": {
      "image/png": "[encoded data removed]",
      "text/plain": [
       "<Figure size 360x360 with 1 Axes>"
      ]
     },
     "metadata": {
      "needs_background": "light"
     },
     "output_type": "display_data"
    }
   ],
   "source": [
    "hparams = Hyperparameters('mediamill', continual_method, device, num_tasks=20)\n",
    "experiment = ContinualExperiment(hparams)\n",
    "experiment.run()"
   ]
  },
  {
   "cell_type": "markdown",
   "metadata": {},
   "source": [
    "## Delicious, 50 tasks"
   ]
  },
  {
   "cell_type": "code",
   "execution_count": 19,
   "metadata": {},
   "outputs": [
    {
     "name": "stdout",
     "output_type": "stream",
     "text": [
      "Processing Data ...\n"
     ]
    },
    {
     "name": "stderr",
     "output_type": "stream",
     "text": [
      "  0%|          | 0/1 [00:00<?, ?it/s]"
     ]
    },
    {
     "name": "stdout",
     "output_type": "stream",
     "text": [
      "(12920, 500)\n",
      "(3185, 500)\n",
      "(12920, 983)\n",
      "(3185, 983)\n",
      "Begin training in SI mode ...\n",
      "Training and Evaluating on task 1\n",
      "Train data shape is  (258, 500)\n",
      "Train Labels shape is  (258, 20)\n",
      "Classes trained are: 0 to 20\n",
      "Samples with all negative labels 7\n",
      "Output dimensions: 20\n"
     ]
    },
    {
     "name": "stderr",
     "output_type": "stream",
     "text": [
      "100%|██████████| 1/1 [00:00<00:00,  7.96it/s]\n"
     ]
    },
    {
     "name": "stdout",
     "output_type": "stream",
     "text": [
      "Evaluating in individual mode on test set\n",
      "multilabel-indicator multilabel-indicator\n",
      "float32 float32\n",
      "(3185, 20) (3185, 20)\n",
      "Evaluating in combined mode on test set\n",
      "multilabel-indicator multilabel-indicator\n",
      "float32 float32\n",
      "(3185, 20) (3185, 20)\n",
      "Training and Evaluating on task 2\n",
      "Train data shape is  (258, 500)\n",
      "Train Labels shape is  (258, 20)\n",
      "Classes trained are: 20 to 40\n",
      "Samples with all negative labels 8\n",
      "Augmenting class labels...\n"
     ]
    },
    {
     "name": "stderr",
     "output_type": "stream",
     "text": [
      "  0%|          | 0/1 [00:00<?, ?it/s]"
     ]
    },
    {
     "name": "stdout",
     "output_type": "stream",
     "text": [
      "Train Labels shape is  (258, 40)\n",
      "Output dimensions: 40\n",
      "growing model size ...\n"
     ]
    },
    {
     "name": "stderr",
     "output_type": "stream",
     "text": [
      "100%|██████████| 1/1 [00:00<00:00,  4.08it/s]\n"
     ]
    },
    {
     "name": "stdout",
     "output_type": "stream",
     "text": [
      "Evaluating in individual mode on test set\n",
      "multilabel-indicator multilabel-indicator\n",
      "float32 float32\n",
      "(3185, 20) (3185, 20)\n",
      "Evaluating in combined mode on test set\n",
      "multilabel-indicator multilabel-indicator\n",
      "float32 float32\n",
      "(3185, 40) (3185, 40)\n"
     ]
    },
    {
     "name": "stderr",
     "output_type": "stream",
     "text": [
      "  0%|          | 0/1 [00:00<?, ?it/s]"
     ]
    },
    {
     "name": "stdout",
     "output_type": "stream",
     "text": [
      "Training and Evaluating on task 3\n",
      "Train data shape is  (258, 500)\n",
      "Train Labels shape is  (258, 20)\n",
      "Classes trained are: 40 to 60\n",
      "Samples with all negative labels 3\n",
      "Augmenting class labels...\n",
      "Train Labels shape is  (258, 60)\n",
      "Output dimensions: 60\n",
      "growing model size ...\n"
     ]
    },
    {
     "name": "stderr",
     "output_type": "stream",
     "text": [
      "100%|██████████| 1/1 [00:00<00:00,  4.01it/s]\n"
     ]
    },
    {
     "name": "stdout",
     "output_type": "stream",
     "text": [
      "Evaluating in individual mode on test set\n",
      "multilabel-indicator multilabel-indicator\n",
      "float32 float32\n",
      "(3185, 20) (3185, 20)\n",
      "Evaluating in combined mode on test set\n",
      "multilabel-indicator multilabel-indicator\n",
      "float32 float32\n",
      "(3185, 60) (3185, 60)\n"
     ]
    },
    {
     "name": "stderr",
     "output_type": "stream",
     "text": [
      "  0%|          | 0/1 [00:00<?, ?it/s]"
     ]
    },
    {
     "name": "stdout",
     "output_type": "stream",
     "text": [
      "Training and Evaluating on task 4\n",
      "Train data shape is  (258, 500)\n",
      "Train Labels shape is  (258, 20)\n",
      "Classes trained are: 60 to 80\n",
      "Samples with all negative labels 6\n",
      "Augmenting class labels...\n",
      "Train Labels shape is  (258, 80)\n",
      "Output dimensions: 80\n",
      "growing model size ...\n"
     ]
    },
    {
     "name": "stderr",
     "output_type": "stream",
     "text": [
      "100%|██████████| 1/1 [00:00<00:00,  3.90it/s]\n"
     ]
    },
    {
     "name": "stdout",
     "output_type": "stream",
     "text": [
      "Evaluating in individual mode on test set\n",
      "multilabel-indicator multilabel-indicator\n",
      "float32 float32\n",
      "(3185, 20) (3185, 20)\n",
      "Evaluating in combined mode on test set\n",
      "multilabel-indicator multilabel-indicator\n",
      "float32 float32\n",
      "(3185, 80) (3185, 80)\n"
     ]
    },
    {
     "name": "stderr",
     "output_type": "stream",
     "text": [
      "  0%|          | 0/1 [00:00<?, ?it/s]"
     ]
    },
    {
     "name": "stdout",
     "output_type": "stream",
     "text": [
      "Training and Evaluating on task 5\n",
      "Train data shape is  (258, 500)\n",
      "Train Labels shape is  (258, 20)\n",
      "Classes trained are: 80 to 100\n",
      "Samples with all negative labels 3\n",
      "Augmenting class labels...\n",
      "Train Labels shape is  (258, 100)\n",
      "Output dimensions: 100\n",
      "growing model size ...\n"
     ]
    },
    {
     "name": "stderr",
     "output_type": "stream",
     "text": [
      "100%|██████████| 1/1 [00:00<00:00,  3.89it/s]\n"
     ]
    },
    {
     "name": "stdout",
     "output_type": "stream",
     "text": [
      "Evaluating in individual mode on test set\n",
      "multilabel-indicator multilabel-indicator\n",
      "float32 float32\n",
      "(3185, 20) (3185, 20)\n",
      "Evaluating in combined mode on test set\n",
      "multilabel-indicator multilabel-indicator\n",
      "float32 float32\n",
      "(3185, 100) (3185, 100)\n"
     ]
    },
    {
     "name": "stderr",
     "output_type": "stream",
     "text": [
      "  0%|          | 0/1 [00:00<?, ?it/s]"
     ]
    },
    {
     "name": "stdout",
     "output_type": "stream",
     "text": [
      "Training and Evaluating on task 6\n",
      "Train data shape is  (258, 500)\n",
      "Train Labels shape is  (258, 20)\n",
      "Classes trained are: 100 to 120\n",
      "Samples with all negative labels 2\n",
      "Augmenting class labels...\n",
      "Train Labels shape is  (258, 120)\n",
      "Output dimensions: 120\n",
      "growing model size ...\n"
     ]
    },
    {
     "name": "stderr",
     "output_type": "stream",
     "text": [
      "100%|██████████| 1/1 [00:00<00:00,  3.92it/s]\n"
     ]
    },
    {
     "name": "stdout",
     "output_type": "stream",
     "text": [
      "Evaluating in individual mode on test set\n",
      "multilabel-indicator multilabel-indicator\n",
      "float32 float32\n",
      "(3185, 20) (3185, 20)\n",
      "Evaluating in combined mode on test set\n",
      "multilabel-indicator multilabel-indicator\n",
      "float32 float32\n",
      "(3185, 120) (3185, 120)\n"
     ]
    },
    {
     "name": "stderr",
     "output_type": "stream",
     "text": [
      "  0%|          | 0/1 [00:00<?, ?it/s]"
     ]
    },
    {
     "name": "stdout",
     "output_type": "stream",
     "text": [
      "Training and Evaluating on task 7\n",
      "Train data shape is  (258, 500)\n",
      "Train Labels shape is  (258, 20)\n",
      "Classes trained are: 120 to 140\n",
      "Samples with all negative labels 6\n",
      "Augmenting class labels...\n",
      "Train Labels shape is  (258, 140)\n",
      "Output dimensions: 140\n",
      "growing model size ...\n"
     ]
    },
    {
     "name": "stderr",
     "output_type": "stream",
     "text": [
      "100%|██████████| 1/1 [00:00<00:00,  4.08it/s]\n"
     ]
    },
    {
     "name": "stdout",
     "output_type": "stream",
     "text": [
      "Evaluating in individual mode on test set\n",
      "multilabel-indicator multilabel-indicator\n",
      "float32 float32\n",
      "(3185, 20) (3185, 20)\n",
      "Evaluating in combined mode on test set\n",
      "multilabel-indicator multilabel-indicator\n",
      "float32 float32\n",
      "(3185, 140) (3185, 140)\n"
     ]
    },
    {
     "name": "stderr",
     "output_type": "stream",
     "text": [
      "  0%|          | 0/1 [00:00<?, ?it/s]"
     ]
    },
    {
     "name": "stdout",
     "output_type": "stream",
     "text": [
      "Training and Evaluating on task 8\n",
      "Train data shape is  (258, 500)\n",
      "Train Labels shape is  (258, 20)\n",
      "Classes trained are: 140 to 160\n",
      "Samples with all negative labels 5\n",
      "Augmenting class labels...\n",
      "Train Labels shape is  (258, 160)\n",
      "Output dimensions: 160\n",
      "growing model size ...\n"
     ]
    },
    {
     "name": "stderr",
     "output_type": "stream",
     "text": [
      "100%|██████████| 1/1 [00:00<00:00,  3.90it/s]\n"
     ]
    },
    {
     "name": "stdout",
     "output_type": "stream",
     "text": [
      "Evaluating in individual mode on test set\n",
      "multilabel-indicator multilabel-indicator\n",
      "float32 float32\n",
      "(3185, 20) (3185, 20)\n",
      "Evaluating in combined mode on test set\n",
      "multilabel-indicator multilabel-indicator\n",
      "float32 float32\n",
      "(3185, 160) (3185, 160)\n"
     ]
    },
    {
     "name": "stderr",
     "output_type": "stream",
     "text": [
      "  0%|          | 0/1 [00:00<?, ?it/s]"
     ]
    },
    {
     "name": "stdout",
     "output_type": "stream",
     "text": [
      "Training and Evaluating on task 9\n",
      "Train data shape is  (258, 500)\n",
      "Train Labels shape is  (258, 20)\n",
      "Classes trained are: 160 to 180\n",
      "Samples with all negative labels 6\n",
      "Augmenting class labels...\n",
      "Train Labels shape is  (258, 180)\n",
      "Output dimensions: 180\n",
      "growing model size ...\n"
     ]
    },
    {
     "name": "stderr",
     "output_type": "stream",
     "text": [
      "100%|██████████| 1/1 [00:00<00:00,  3.92it/s]\n"
     ]
    },
    {
     "name": "stdout",
     "output_type": "stream",
     "text": [
      "Evaluating in individual mode on test set\n",
      "multilabel-indicator multilabel-indicator\n",
      "float32 float32\n",
      "(3185, 20) (3185, 20)\n",
      "Evaluating in combined mode on test set\n",
      "multilabel-indicator multilabel-indicator\n",
      "float32 float32\n",
      "(3185, 180) (3185, 180)\n"
     ]
    },
    {
     "name": "stderr",
     "output_type": "stream",
     "text": [
      "  0%|          | 0/1 [00:00<?, ?it/s]"
     ]
    },
    {
     "name": "stdout",
     "output_type": "stream",
     "text": [
      "Training and Evaluating on task 10\n",
      "Train data shape is  (258, 500)\n",
      "Train Labels shape is  (258, 20)\n",
      "Classes trained are: 180 to 200\n",
      "Samples with all negative labels 2\n",
      "Augmenting class labels...\n",
      "Train Labels shape is  (258, 200)\n",
      "Output dimensions: 200\n",
      "growing model size ...\n"
     ]
    },
    {
     "name": "stderr",
     "output_type": "stream",
     "text": [
      "100%|██████████| 1/1 [00:00<00:00,  4.00it/s]\n"
     ]
    },
    {
     "name": "stdout",
     "output_type": "stream",
     "text": [
      "Evaluating in individual mode on test set\n",
      "multilabel-indicator multilabel-indicator\n",
      "float32 float32\n",
      "(3185, 20) (3185, 20)\n",
      "Evaluating in combined mode on test set\n",
      "multilabel-indicator multilabel-indicator\n",
      "float32 float32\n",
      "(3185, 200) (3185, 200)\n"
     ]
    },
    {
     "name": "stderr",
     "output_type": "stream",
     "text": [
      "  0%|          | 0/1 [00:00<?, ?it/s]"
     ]
    },
    {
     "name": "stdout",
     "output_type": "stream",
     "text": [
      "Training and Evaluating on task 11\n",
      "Train data shape is  (258, 500)\n",
      "Train Labels shape is  (258, 20)\n",
      "Classes trained are: 200 to 220\n",
      "Samples with all negative labels 6\n",
      "Augmenting class labels...\n",
      "Train Labels shape is  (258, 220)\n",
      "Output dimensions: 220\n",
      "growing model size ...\n"
     ]
    },
    {
     "name": "stderr",
     "output_type": "stream",
     "text": [
      "100%|██████████| 1/1 [00:00<00:00,  3.96it/s]\n"
     ]
    },
    {
     "name": "stdout",
     "output_type": "stream",
     "text": [
      "Evaluating in individual mode on test set\n",
      "multilabel-indicator multilabel-indicator\n",
      "float32 float32\n",
      "(3185, 20) (3185, 20)\n",
      "Evaluating in combined mode on test set\n",
      "multilabel-indicator multilabel-indicator\n",
      "float32 float32\n",
      "(3185, 220) (3185, 220)\n"
     ]
    },
    {
     "name": "stderr",
     "output_type": "stream",
     "text": [
      "  0%|          | 0/1 [00:00<?, ?it/s]"
     ]
    },
    {
     "name": "stdout",
     "output_type": "stream",
     "text": [
      "Training and Evaluating on task 12\n",
      "Train data shape is  (258, 500)\n",
      "Train Labels shape is  (258, 20)\n",
      "Classes trained are: 220 to 240\n",
      "Samples with all negative labels 6\n",
      "Augmenting class labels...\n",
      "Train Labels shape is  (258, 240)\n",
      "Output dimensions: 240\n",
      "growing model size ...\n"
     ]
    },
    {
     "name": "stderr",
     "output_type": "stream",
     "text": [
      "100%|██████████| 1/1 [00:00<00:00,  4.09it/s]\n"
     ]
    },
    {
     "name": "stdout",
     "output_type": "stream",
     "text": [
      "Evaluating in individual mode on test set\n",
      "multilabel-indicator multilabel-indicator\n",
      "float32 float32\n",
      "(3185, 20) (3185, 20)\n",
      "Evaluating in combined mode on test set\n",
      "multilabel-indicator multilabel-indicator\n",
      "float32 float32\n",
      "(3185, 240) (3185, 240)\n",
      "Training and Evaluating on task 13\n",
      "Train data shape is  (258, 500)\n",
      "Train Labels shape is  (258, 20)\n",
      "Classes trained are: 240 to 260\n",
      "Samples with all negative labels 3\n",
      "Augmenting class labels...\n"
     ]
    },
    {
     "name": "stderr",
     "output_type": "stream",
     "text": [
      "  0%|          | 0/1 [00:00<?, ?it/s]"
     ]
    },
    {
     "name": "stdout",
     "output_type": "stream",
     "text": [
      "Train Labels shape is  (258, 260)\n",
      "Output dimensions: 260\n",
      "growing model size ...\n"
     ]
    },
    {
     "name": "stderr",
     "output_type": "stream",
     "text": [
      "100%|██████████| 1/1 [00:00<00:00,  3.35it/s]\n"
     ]
    },
    {
     "name": "stdout",
     "output_type": "stream",
     "text": [
      "Evaluating in individual mode on test set\n",
      "multilabel-indicator multilabel-indicator\n",
      "float32 float32\n",
      "(3185, 20) (3185, 20)\n",
      "Evaluating in combined mode on test set\n",
      "multilabel-indicator multilabel-indicator\n",
      "float32 float32\n",
      "(3185, 260) (3185, 260)\n",
      "Training and Evaluating on task 14\n",
      "Train data shape is  (258, 500)\n",
      "Train Labels shape is  (258, 20)\n",
      "Classes trained are: 260 to 280\n",
      "Samples with all negative labels 2\n",
      "Augmenting class labels...\n"
     ]
    },
    {
     "name": "stderr",
     "output_type": "stream",
     "text": [
      "  0%|          | 0/1 [00:00<?, ?it/s]"
     ]
    },
    {
     "name": "stdout",
     "output_type": "stream",
     "text": [
      "Train Labels shape is  (258, 280)\n",
      "Output dimensions: 280\n",
      "growing model size ...\n"
     ]
    },
    {
     "name": "stderr",
     "output_type": "stream",
     "text": [
      "100%|██████████| 1/1 [00:00<00:00,  3.65it/s]\n"
     ]
    },
    {
     "name": "stdout",
     "output_type": "stream",
     "text": [
      "Evaluating in individual mode on test set\n",
      "multilabel-indicator multilabel-indicator\n",
      "float32 float32\n",
      "(3185, 20) (3185, 20)\n",
      "Evaluating in combined mode on test set\n",
      "multilabel-indicator multilabel-indicator\n",
      "float32 float32\n",
      "(3185, 280) (3185, 280)\n"
     ]
    },
    {
     "name": "stderr",
     "output_type": "stream",
     "text": [
      "  0%|          | 0/1 [00:00<?, ?it/s]"
     ]
    },
    {
     "name": "stdout",
     "output_type": "stream",
     "text": [
      "Training and Evaluating on task 15\n",
      "Train data shape is  (258, 500)\n",
      "Train Labels shape is  (258, 20)\n",
      "Classes trained are: 280 to 300\n",
      "Samples with all negative labels 8\n",
      "Augmenting class labels...\n",
      "Train Labels shape is  (258, 300)\n",
      "Output dimensions: 300\n",
      "growing model size ...\n"
     ]
    },
    {
     "name": "stderr",
     "output_type": "stream",
     "text": [
      "100%|██████████| 1/1 [00:00<00:00,  3.81it/s]\n"
     ]
    },
    {
     "name": "stdout",
     "output_type": "stream",
     "text": [
      "Evaluating in individual mode on test set\n",
      "multilabel-indicator multilabel-indicator\n",
      "float32 float32\n",
      "(3185, 20) (3185, 20)\n",
      "Evaluating in combined mode on test set\n",
      "multilabel-indicator multilabel-indicator\n",
      "float32 float32\n",
      "(3185, 300) (3185, 300)\n"
     ]
    },
    {
     "name": "stderr",
     "output_type": "stream",
     "text": [
      "  0%|          | 0/1 [00:00<?, ?it/s]"
     ]
    },
    {
     "name": "stdout",
     "output_type": "stream",
     "text": [
      "Training and Evaluating on task 16\n",
      "Train data shape is  (258, 500)\n",
      "Train Labels shape is  (258, 20)\n",
      "Classes trained are: 300 to 320\n",
      "Samples with all negative labels 5\n",
      "Augmenting class labels...\n",
      "Train Labels shape is  (258, 320)\n",
      "Output dimensions: 320\n",
      "growing model size ...\n"
     ]
    },
    {
     "name": "stderr",
     "output_type": "stream",
     "text": [
      "100%|██████████| 1/1 [00:00<00:00,  3.94it/s]\n"
     ]
    },
    {
     "name": "stdout",
     "output_type": "stream",
     "text": [
      "Evaluating in individual mode on test set\n",
      "multilabel-indicator multilabel-indicator\n",
      "float32 float32\n",
      "(3185, 20) (3185, 20)\n",
      "Evaluating in combined mode on test set\n",
      "multilabel-indicator multilabel-indicator\n",
      "float32 float32\n",
      "(3185, 320) (3185, 320)\n"
     ]
    },
    {
     "name": "stderr",
     "output_type": "stream",
     "text": [
      "  0%|          | 0/1 [00:00<?, ?it/s]"
     ]
    },
    {
     "name": "stdout",
     "output_type": "stream",
     "text": [
      "Training and Evaluating on task 17\n",
      "Train data shape is  (258, 500)\n",
      "Train Labels shape is  (258, 20)\n",
      "Classes trained are: 320 to 340\n",
      "Samples with all negative labels 2\n",
      "Augmenting class labels...\n",
      "Train Labels shape is  (258, 340)\n",
      "Output dimensions: 340\n",
      "growing model size ...\n"
     ]
    },
    {
     "name": "stderr",
     "output_type": "stream",
     "text": [
      "100%|██████████| 1/1 [00:00<00:00,  3.95it/s]\n"
     ]
    },
    {
     "name": "stdout",
     "output_type": "stream",
     "text": [
      "Evaluating in individual mode on test set\n",
      "multilabel-indicator multilabel-indicator\n",
      "float32 float32\n",
      "(3185, 20) (3185, 20)\n",
      "Evaluating in combined mode on test set\n",
      "multilabel-indicator multilabel-indicator\n",
      "float32 float32\n",
      "(3185, 340) (3185, 340)\n"
     ]
    },
    {
     "name": "stderr",
     "output_type": "stream",
     "text": [
      "  0%|          | 0/1 [00:00<?, ?it/s]"
     ]
    },
    {
     "name": "stdout",
     "output_type": "stream",
     "text": [
      "Training and Evaluating on task 18\n",
      "Train data shape is  (258, 500)\n",
      "Train Labels shape is  (258, 20)\n",
      "Classes trained are: 340 to 360\n",
      "Samples with all negative labels 5\n",
      "Augmenting class labels...\n",
      "Train Labels shape is  (258, 360)\n",
      "Output dimensions: 360\n",
      "growing model size ...\n"
     ]
    },
    {
     "name": "stderr",
     "output_type": "stream",
     "text": [
      "100%|██████████| 1/1 [00:00<00:00,  3.86it/s]\n"
     ]
    },
    {
     "name": "stdout",
     "output_type": "stream",
     "text": [
      "Evaluating in individual mode on test set\n",
      "multilabel-indicator multilabel-indicator\n",
      "float32 float32\n",
      "(3185, 20) (3185, 20)\n",
      "Evaluating in combined mode on test set\n",
      "multilabel-indicator multilabel-indicator\n",
      "float32 float32\n",
      "(3185, 360) (3185, 360)\n"
     ]
    },
    {
     "name": "stderr",
     "output_type": "stream",
     "text": [
      "  0%|          | 0/1 [00:00<?, ?it/s]"
     ]
    },
    {
     "name": "stdout",
     "output_type": "stream",
     "text": [
      "Training and Evaluating on task 19\n",
      "Train data shape is  (258, 500)\n",
      "Train Labels shape is  (258, 20)\n",
      "Classes trained are: 360 to 380\n",
      "Samples with all negative labels 5\n",
      "Augmenting class labels...\n",
      "Train Labels shape is  (258, 380)\n",
      "Output dimensions: 380\n",
      "growing model size ...\n"
     ]
    },
    {
     "name": "stderr",
     "output_type": "stream",
     "text": [
      "100%|██████████| 1/1 [00:00<00:00,  4.03it/s]\n"
     ]
    },
    {
     "name": "stdout",
     "output_type": "stream",
     "text": [
      "Evaluating in individual mode on test set\n",
      "multilabel-indicator multilabel-indicator\n",
      "float32 float32\n",
      "(3185, 20) (3185, 20)\n",
      "Evaluating in combined mode on test set\n",
      "multilabel-indicator multilabel-indicator\n",
      "float32 float32\n",
      "(3185, 380) (3185, 380)\n"
     ]
    },
    {
     "name": "stderr",
     "output_type": "stream",
     "text": [
      "  0%|          | 0/1 [00:00<?, ?it/s]"
     ]
    },
    {
     "name": "stdout",
     "output_type": "stream",
     "text": [
      "Training and Evaluating on task 20\n",
      "Train data shape is  (258, 500)\n",
      "Train Labels shape is  (258, 20)\n",
      "Classes trained are: 380 to 400\n",
      "Samples with all negative labels 2\n",
      "Augmenting class labels...\n",
      "Train Labels shape is  (258, 400)\n",
      "Output dimensions: 400\n",
      "growing model size ...\n"
     ]
    },
    {
     "name": "stderr",
     "output_type": "stream",
     "text": [
      "100%|██████████| 1/1 [00:00<00:00,  3.99it/s]\n"
     ]
    },
    {
     "name": "stdout",
     "output_type": "stream",
     "text": [
      "Evaluating in individual mode on test set\n",
      "multilabel-indicator multilabel-indicator\n",
      "float32 float32\n",
      "(3185, 20) (3185, 20)\n",
      "Evaluating in combined mode on test set\n",
      "multilabel-indicator multilabel-indicator\n",
      "float32 float32\n",
      "(3185, 400) (3185, 400)\n"
     ]
    },
    {
     "name": "stderr",
     "output_type": "stream",
     "text": [
      "  0%|          | 0/1 [00:00<?, ?it/s]"
     ]
    },
    {
     "name": "stdout",
     "output_type": "stream",
     "text": [
      "Training and Evaluating on task 21\n",
      "Train data shape is  (258, 500)\n",
      "Train Labels shape is  (258, 20)\n",
      "Classes trained are: 400 to 420\n",
      "Samples with all negative labels 3\n",
      "Augmenting class labels...\n",
      "Train Labels shape is  (258, 420)\n",
      "Output dimensions: 420\n",
      "growing model size ...\n"
     ]
    },
    {
     "name": "stderr",
     "output_type": "stream",
     "text": [
      "100%|██████████| 1/1 [00:00<00:00,  4.00it/s]\n"
     ]
    },
    {
     "name": "stdout",
     "output_type": "stream",
     "text": [
      "Evaluating in individual mode on test set\n",
      "multilabel-indicator multilabel-indicator\n",
      "float32 float32\n",
      "(3185, 20) (3185, 20)\n",
      "Evaluating in combined mode on test set\n",
      "multilabel-indicator multilabel-indicator\n",
      "float32 float32\n",
      "(3185, 420) (3185, 420)\n"
     ]
    },
    {
     "name": "stderr",
     "output_type": "stream",
     "text": [
      "  0%|          | 0/1 [00:00<?, ?it/s]"
     ]
    },
    {
     "name": "stdout",
     "output_type": "stream",
     "text": [
      "Training and Evaluating on task 22\n",
      "Train data shape is  (258, 500)\n",
      "Train Labels shape is  (258, 20)\n",
      "Classes trained are: 420 to 440\n",
      "Samples with all negative labels 6\n",
      "Augmenting class labels...\n",
      "Train Labels shape is  (258, 440)\n",
      "Output dimensions: 440\n",
      "growing model size ...\n"
     ]
    },
    {
     "name": "stderr",
     "output_type": "stream",
     "text": [
      "100%|██████████| 1/1 [00:00<00:00,  4.13it/s]\n"
     ]
    },
    {
     "name": "stdout",
     "output_type": "stream",
     "text": [
      "Evaluating in individual mode on test set\n",
      "multilabel-indicator multilabel-indicator\n",
      "float32 float32\n",
      "(3185, 20) (3185, 20)\n",
      "Evaluating in combined mode on test set\n",
      "multilabel-indicator multilabel-indicator\n",
      "float32 float32\n",
      "(3185, 440) (3185, 440)\n"
     ]
    },
    {
     "name": "stderr",
     "output_type": "stream",
     "text": [
      "  0%|          | 0/1 [00:00<?, ?it/s]"
     ]
    },
    {
     "name": "stdout",
     "output_type": "stream",
     "text": [
      "Training and Evaluating on task 23\n",
      "Train data shape is  (258, 500)\n",
      "Train Labels shape is  (258, 20)\n",
      "Classes trained are: 440 to 460\n",
      "Samples with all negative labels 1\n",
      "Augmenting class labels...\n",
      "Train Labels shape is  (258, 460)\n",
      "Output dimensions: 460\n",
      "growing model size ...\n"
     ]
    },
    {
     "name": "stderr",
     "output_type": "stream",
     "text": [
      "100%|██████████| 1/1 [00:00<00:00,  3.76it/s]\n"
     ]
    },
    {
     "name": "stdout",
     "output_type": "stream",
     "text": [
      "Evaluating in individual mode on test set\n",
      "multilabel-indicator multilabel-indicator\n",
      "float32 float32\n",
      "(3185, 20) (3185, 20)\n",
      "Evaluating in combined mode on test set\n",
      "multilabel-indicator multilabel-indicator\n",
      "float32 float32\n",
      "(3185, 460) (3185, 460)\n"
     ]
    },
    {
     "name": "stderr",
     "output_type": "stream",
     "text": [
      "  0%|          | 0/1 [00:00<?, ?it/s]"
     ]
    },
    {
     "name": "stdout",
     "output_type": "stream",
     "text": [
      "Training and Evaluating on task 24\n",
      "Train data shape is  (258, 500)\n",
      "Train Labels shape is  (258, 20)\n",
      "Classes trained are: 460 to 480\n",
      "Samples with all negative labels 10\n",
      "Augmenting class labels...\n",
      "Train Labels shape is  (258, 480)\n",
      "Output dimensions: 480\n",
      "growing model size ...\n"
     ]
    },
    {
     "name": "stderr",
     "output_type": "stream",
     "text": [
      "100%|██████████| 1/1 [00:00<00:00,  3.96it/s]\n"
     ]
    },
    {
     "name": "stdout",
     "output_type": "stream",
     "text": [
      "Evaluating in individual mode on test set\n",
      "multilabel-indicator multilabel-indicator\n",
      "float32 float32\n",
      "(3185, 20) (3185, 20)\n",
      "Evaluating in combined mode on test set\n",
      "multilabel-indicator multilabel-indicator\n",
      "float32 float32\n",
      "(3185, 480) (3185, 480)\n"
     ]
    },
    {
     "name": "stderr",
     "output_type": "stream",
     "text": [
      "  0%|          | 0/1 [00:00<?, ?it/s]"
     ]
    },
    {
     "name": "stdout",
     "output_type": "stream",
     "text": [
      "Training and Evaluating on task 25\n",
      "Train data shape is  (258, 500)\n",
      "Train Labels shape is  (258, 20)\n",
      "Classes trained are: 480 to 500\n",
      "Samples with all negative labels 4\n",
      "Augmenting class labels...\n",
      "Train Labels shape is  (258, 500)\n",
      "Output dimensions: 500\n",
      "growing model size ...\n"
     ]
    },
    {
     "name": "stderr",
     "output_type": "stream",
     "text": [
      "100%|██████████| 1/1 [00:00<00:00,  3.99it/s]\n"
     ]
    },
    {
     "name": "stdout",
     "output_type": "stream",
     "text": [
      "Evaluating in individual mode on test set\n",
      "multilabel-indicator multilabel-indicator\n",
      "float32 float32\n",
      "(3185, 20) (3185, 20)\n",
      "Evaluating in combined mode on test set\n",
      "multilabel-indicator multilabel-indicator\n",
      "float32 float32\n",
      "(3185, 500) (3185, 500)\n"
     ]
    },
    {
     "name": "stderr",
     "output_type": "stream",
     "text": [
      "  0%|          | 0/1 [00:00<?, ?it/s]"
     ]
    },
    {
     "name": "stdout",
     "output_type": "stream",
     "text": [
      "Training and Evaluating on task 26\n",
      "Train data shape is  (258, 500)\n",
      "Train Labels shape is  (258, 20)\n",
      "Classes trained are: 500 to 520\n",
      "Samples with all negative labels 2\n",
      "Augmenting class labels...\n",
      "Train Labels shape is  (258, 520)\n",
      "Output dimensions: 520\n",
      "growing model size ...\n"
     ]
    },
    {
     "name": "stderr",
     "output_type": "stream",
     "text": [
      "100%|██████████| 1/1 [00:00<00:00,  3.95it/s]\n"
     ]
    },
    {
     "name": "stdout",
     "output_type": "stream",
     "text": [
      "Evaluating in individual mode on test set\n",
      "multilabel-indicator multilabel-indicator\n",
      "float32 float32\n",
      "(3185, 20) (3185, 20)\n",
      "Evaluating in combined mode on test set\n",
      "multilabel-indicator multilabel-indicator\n",
      "float32 float32\n",
      "(3185, 520) (3185, 520)\n"
     ]
    },
    {
     "name": "stderr",
     "output_type": "stream",
     "text": [
      "  0%|          | 0/1 [00:00<?, ?it/s]"
     ]
    },
    {
     "name": "stdout",
     "output_type": "stream",
     "text": [
      "Training and Evaluating on task 27\n",
      "Train data shape is  (258, 500)\n",
      "Train Labels shape is  (258, 20)\n",
      "Classes trained are: 520 to 540\n",
      "Samples with all negative labels 3\n",
      "Augmenting class labels...\n",
      "Train Labels shape is  (258, 540)\n",
      "Output dimensions: 540\n",
      "growing model size ...\n"
     ]
    },
    {
     "name": "stderr",
     "output_type": "stream",
     "text": [
      "100%|██████████| 1/1 [00:00<00:00,  3.99it/s]\n"
     ]
    },
    {
     "name": "stdout",
     "output_type": "stream",
     "text": [
      "Evaluating in individual mode on test set\n",
      "multilabel-indicator multilabel-indicator\n",
      "float32 float32\n",
      "(3185, 20) (3185, 20)\n",
      "Evaluating in combined mode on test set\n",
      "multilabel-indicator multilabel-indicator\n",
      "float32 float32\n",
      "(3185, 540) (3185, 540)\n"
     ]
    },
    {
     "name": "stderr",
     "output_type": "stream",
     "text": [
      "  0%|          | 0/1 [00:00<?, ?it/s]"
     ]
    },
    {
     "name": "stdout",
     "output_type": "stream",
     "text": [
      "Training and Evaluating on task 28\n",
      "Train data shape is  (258, 500)\n",
      "Train Labels shape is  (258, 20)\n",
      "Classes trained are: 540 to 560\n",
      "Samples with all negative labels 4\n",
      "Augmenting class labels...\n",
      "Train Labels shape is  (258, 560)\n",
      "Output dimensions: 560\n",
      "growing model size ...\n"
     ]
    },
    {
     "name": "stderr",
     "output_type": "stream",
     "text": [
      "100%|██████████| 1/1 [00:00<00:00,  4.01it/s]\n"
     ]
    },
    {
     "name": "stdout",
     "output_type": "stream",
     "text": [
      "Evaluating in individual mode on test set\n",
      "multilabel-indicator multilabel-indicator\n",
      "float32 float32\n",
      "(3185, 20) (3185, 20)\n",
      "Evaluating in combined mode on test set\n",
      "multilabel-indicator multilabel-indicator\n",
      "float32 float32\n",
      "(3185, 560) (3185, 560)\n"
     ]
    },
    {
     "name": "stderr",
     "output_type": "stream",
     "text": [
      "  0%|          | 0/1 [00:00<?, ?it/s]"
     ]
    },
    {
     "name": "stdout",
     "output_type": "stream",
     "text": [
      "Training and Evaluating on task 29\n",
      "Train data shape is  (258, 500)\n",
      "Train Labels shape is  (258, 20)\n",
      "Classes trained are: 560 to 580\n",
      "Samples with all negative labels 3\n",
      "Augmenting class labels...\n",
      "Train Labels shape is  (258, 580)\n",
      "Output dimensions: 580\n",
      "growing model size ...\n"
     ]
    },
    {
     "name": "stderr",
     "output_type": "stream",
     "text": [
      "100%|██████████| 1/1 [00:00<00:00,  4.05it/s]\n"
     ]
    },
    {
     "name": "stdout",
     "output_type": "stream",
     "text": [
      "Evaluating in individual mode on test set\n",
      "multilabel-indicator multilabel-indicator\n",
      "float32 float32\n",
      "(3185, 20) (3185, 20)\n",
      "Evaluating in combined mode on test set\n",
      "multilabel-indicator multilabel-indicator\n",
      "float32 float32\n",
      "(3185, 580) (3185, 580)\n"
     ]
    },
    {
     "name": "stderr",
     "output_type": "stream",
     "text": [
      "  0%|          | 0/1 [00:00<?, ?it/s]"
     ]
    },
    {
     "name": "stdout",
     "output_type": "stream",
     "text": [
      "Training and Evaluating on task 30\n",
      "Train data shape is  (258, 500)\n",
      "Train Labels shape is  (258, 20)\n",
      "Classes trained are: 580 to 600\n",
      "Samples with all negative labels 6\n",
      "Augmenting class labels...\n",
      "Train Labels shape is  (258, 600)\n",
      "Output dimensions: 600\n",
      "growing model size ...\n"
     ]
    },
    {
     "name": "stderr",
     "output_type": "stream",
     "text": [
      "100%|██████████| 1/1 [00:00<00:00,  4.10it/s]\n"
     ]
    },
    {
     "name": "stdout",
     "output_type": "stream",
     "text": [
      "Evaluating in individual mode on test set\n",
      "multilabel-indicator multilabel-indicator\n",
      "float32 float32\n",
      "(3185, 20) (3185, 20)\n",
      "Evaluating in combined mode on test set\n",
      "multilabel-indicator multilabel-indicator\n",
      "float32 float32\n",
      "(3185, 600) (3185, 600)\n"
     ]
    },
    {
     "name": "stderr",
     "output_type": "stream",
     "text": [
      "  0%|          | 0/1 [00:00<?, ?it/s]"
     ]
    },
    {
     "name": "stdout",
     "output_type": "stream",
     "text": [
      "Training and Evaluating on task 31\n",
      "Train data shape is  (258, 500)\n",
      "Train Labels shape is  (258, 20)\n",
      "Classes trained are: 600 to 620\n",
      "Samples with all negative labels 3\n",
      "Augmenting class labels...\n",
      "Train Labels shape is  (258, 620)\n",
      "Output dimensions: 620\n",
      "growing model size ...\n"
     ]
    },
    {
     "name": "stderr",
     "output_type": "stream",
     "text": [
      "100%|██████████| 1/1 [00:00<00:00,  4.10it/s]\n"
     ]
    },
    {
     "name": "stdout",
     "output_type": "stream",
     "text": [
      "Evaluating in individual mode on test set\n",
      "multilabel-indicator multilabel-indicator\n",
      "float32 float32\n",
      "(3185, 20) (3185, 20)\n",
      "Evaluating in combined mode on test set\n",
      "multilabel-indicator multilabel-indicator\n",
      "float32 float32\n",
      "(3185, 620) (3185, 620)\n"
     ]
    },
    {
     "name": "stderr",
     "output_type": "stream",
     "text": [
      "  0%|          | 0/1 [00:00<?, ?it/s]"
     ]
    },
    {
     "name": "stdout",
     "output_type": "stream",
     "text": [
      "Training and Evaluating on task 32\n",
      "Train data shape is  (258, 500)\n",
      "Train Labels shape is  (258, 20)\n",
      "Classes trained are: 620 to 640\n",
      "Samples with all negative labels 3\n",
      "Augmenting class labels...\n",
      "Train Labels shape is  (258, 640)\n",
      "Output dimensions: 640\n",
      "growing model size ...\n"
     ]
    },
    {
     "name": "stderr",
     "output_type": "stream",
     "text": [
      "100%|██████████| 1/1 [00:00<00:00,  4.07it/s]\n"
     ]
    },
    {
     "name": "stdout",
     "output_type": "stream",
     "text": [
      "Evaluating in individual mode on test set\n",
      "multilabel-indicator multilabel-indicator\n",
      "float32 float32\n",
      "(3185, 20) (3185, 20)\n",
      "Evaluating in combined mode on test set\n",
      "multilabel-indicator multilabel-indicator\n",
      "float32 float32\n",
      "(3185, 640) (3185, 640)\n"
     ]
    },
    {
     "name": "stderr",
     "output_type": "stream",
     "text": [
      "  0%|          | 0/1 [00:00<?, ?it/s]"
     ]
    },
    {
     "name": "stdout",
     "output_type": "stream",
     "text": [
      "Training and Evaluating on task 33\n",
      "Train data shape is  (258, 500)\n",
      "Train Labels shape is  (258, 20)\n",
      "Classes trained are: 640 to 660\n",
      "Samples with all negative labels 5\n",
      "Augmenting class labels...\n",
      "Train Labels shape is  (258, 660)\n",
      "Output dimensions: 660\n",
      "growing model size ...\n"
     ]
    },
    {
     "name": "stderr",
     "output_type": "stream",
     "text": [
      "100%|██████████| 1/1 [00:00<00:00,  3.89it/s]\n"
     ]
    },
    {
     "name": "stdout",
     "output_type": "stream",
     "text": [
      "Evaluating in individual mode on test set\n",
      "multilabel-indicator multilabel-indicator\n",
      "float32 float32\n",
      "(3185, 20) (3185, 20)\n",
      "Evaluating in combined mode on test set\n",
      "multilabel-indicator multilabel-indicator\n",
      "float32 float32\n",
      "(3185, 660) (3185, 660)\n"
     ]
    },
    {
     "name": "stderr",
     "output_type": "stream",
     "text": [
      "  0%|          | 0/1 [00:00<?, ?it/s]"
     ]
    },
    {
     "name": "stdout",
     "output_type": "stream",
     "text": [
      "Training and Evaluating on task 34\n",
      "Train data shape is  (258, 500)\n",
      "Train Labels shape is  (258, 20)\n",
      "Classes trained are: 660 to 680\n",
      "Samples with all negative labels 3\n",
      "Augmenting class labels...\n",
      "Train Labels shape is  (258, 680)\n",
      "Output dimensions: 680\n",
      "growing model size ...\n"
     ]
    },
    {
     "name": "stderr",
     "output_type": "stream",
     "text": [
      "100%|██████████| 1/1 [00:00<00:00,  3.82it/s]\n"
     ]
    },
    {
     "name": "stdout",
     "output_type": "stream",
     "text": [
      "Evaluating in individual mode on test set\n",
      "multilabel-indicator multilabel-indicator\n",
      "float32 float32\n",
      "(3185, 20) (3185, 20)\n",
      "Evaluating in combined mode on test set\n",
      "multilabel-indicator multilabel-indicator\n",
      "float32 float32\n",
      "(3185, 680) (3185, 680)\n"
     ]
    },
    {
     "name": "stderr",
     "output_type": "stream",
     "text": [
      "  0%|          | 0/1 [00:00<?, ?it/s]"
     ]
    },
    {
     "name": "stdout",
     "output_type": "stream",
     "text": [
      "Training and Evaluating on task 35\n",
      "Train data shape is  (258, 500)\n",
      "Train Labels shape is  (258, 20)\n",
      "Classes trained are: 680 to 700\n",
      "Samples with all negative labels 8\n",
      "Augmenting class labels...\n",
      "Train Labels shape is  (258, 700)\n",
      "Output dimensions: 700\n",
      "growing model size ...\n"
     ]
    },
    {
     "name": "stderr",
     "output_type": "stream",
     "text": [
      "100%|██████████| 1/1 [00:00<00:00,  4.02it/s]\n"
     ]
    },
    {
     "name": "stdout",
     "output_type": "stream",
     "text": [
      "Evaluating in individual mode on test set\n",
      "multilabel-indicator multilabel-indicator\n",
      "float32 float32\n",
      "(3185, 20) (3185, 20)\n",
      "Evaluating in combined mode on test set\n",
      "multilabel-indicator multilabel-indicator\n",
      "float32 float32\n",
      "(3185, 700) (3185, 700)\n"
     ]
    },
    {
     "name": "stderr",
     "output_type": "stream",
     "text": [
      "  0%|          | 0/1 [00:00<?, ?it/s]"
     ]
    },
    {
     "name": "stdout",
     "output_type": "stream",
     "text": [
      "Training and Evaluating on task 36\n",
      "Train data shape is  (258, 500)\n",
      "Train Labels shape is  (258, 20)\n",
      "Classes trained are: 700 to 720\n",
      "Samples with all negative labels 6\n",
      "Augmenting class labels...\n",
      "Train Labels shape is  (258, 720)\n",
      "Output dimensions: 720\n",
      "growing model size ...\n"
     ]
    },
    {
     "name": "stderr",
     "output_type": "stream",
     "text": [
      "100%|██████████| 1/1 [00:00<00:00,  3.77it/s]\n"
     ]
    },
    {
     "name": "stdout",
     "output_type": "stream",
     "text": [
      "Evaluating in individual mode on test set\n",
      "multilabel-indicator multilabel-indicator\n",
      "float32 float32\n",
      "(3185, 20) (3185, 20)\n",
      "Evaluating in combined mode on test set\n",
      "multilabel-indicator multilabel-indicator\n",
      "float32 float32\n",
      "(3185, 720) (3185, 720)\n"
     ]
    },
    {
     "name": "stderr",
     "output_type": "stream",
     "text": [
      "  0%|          | 0/1 [00:00<?, ?it/s]"
     ]
    },
    {
     "name": "stdout",
     "output_type": "stream",
     "text": [
      "Training and Evaluating on task 37\n",
      "Train data shape is  (258, 500)\n",
      "Train Labels shape is  (258, 20)\n",
      "Classes trained are: 720 to 740\n",
      "Samples with all negative labels 3\n",
      "Augmenting class labels...\n",
      "Train Labels shape is  (258, 740)\n",
      "Output dimensions: 740\n",
      "growing model size ...\n"
     ]
    },
    {
     "name": "stderr",
     "output_type": "stream",
     "text": [
      "100%|██████████| 1/1 [00:00<00:00,  4.06it/s]\n"
     ]
    },
    {
     "name": "stdout",
     "output_type": "stream",
     "text": [
      "Evaluating in individual mode on test set\n",
      "multilabel-indicator multilabel-indicator\n",
      "float32 float32\n",
      "(3185, 20) (3185, 20)\n",
      "Evaluating in combined mode on test set\n",
      "multilabel-indicator multilabel-indicator\n",
      "float32 float32\n",
      "(3185, 740) (3185, 740)\n"
     ]
    },
    {
     "name": "stderr",
     "output_type": "stream",
     "text": [
      "  0%|          | 0/1 [00:00<?, ?it/s]"
     ]
    },
    {
     "name": "stdout",
     "output_type": "stream",
     "text": [
      "Training and Evaluating on task 38\n",
      "Train data shape is  (258, 500)\n",
      "Train Labels shape is  (258, 20)\n",
      "Classes trained are: 740 to 760\n",
      "Samples with all negative labels 4\n",
      "Augmenting class labels...\n",
      "Train Labels shape is  (258, 760)\n",
      "Output dimensions: 760\n",
      "growing model size ...\n"
     ]
    },
    {
     "name": "stderr",
     "output_type": "stream",
     "text": [
      "100%|██████████| 1/1 [00:00<00:00,  3.92it/s]\n"
     ]
    },
    {
     "name": "stdout",
     "output_type": "stream",
     "text": [
      "Evaluating in individual mode on test set\n",
      "multilabel-indicator multilabel-indicator\n",
      "float32 float32\n",
      "(3185, 20) (3185, 20)\n",
      "Evaluating in combined mode on test set\n",
      "multilabel-indicator multilabel-indicator\n",
      "float32 float32\n",
      "(3185, 760) (3185, 760)\n"
     ]
    },
    {
     "name": "stderr",
     "output_type": "stream",
     "text": [
      "  0%|          | 0/1 [00:00<?, ?it/s]"
     ]
    },
    {
     "name": "stdout",
     "output_type": "stream",
     "text": [
      "Training and Evaluating on task 39\n",
      "Train data shape is  (258, 500)\n",
      "Train Labels shape is  (258, 20)\n",
      "Classes trained are: 760 to 780\n",
      "Samples with all negative labels 6\n",
      "Augmenting class labels...\n",
      "Train Labels shape is  (258, 780)\n",
      "Output dimensions: 780\n",
      "growing model size ...\n"
     ]
    },
    {
     "name": "stderr",
     "output_type": "stream",
     "text": [
      "100%|██████████| 1/1 [00:00<00:00,  4.01it/s]\n"
     ]
    },
    {
     "name": "stdout",
     "output_type": "stream",
     "text": [
      "Evaluating in individual mode on test set\n",
      "multilabel-indicator multilabel-indicator\n",
      "float32 float32\n",
      "(3185, 20) (3185, 20)\n",
      "Evaluating in combined mode on test set\n",
      "multilabel-indicator multilabel-indicator\n",
      "float32 float32\n",
      "(3185, 780) (3185, 780)\n"
     ]
    },
    {
     "name": "stderr",
     "output_type": "stream",
     "text": [
      "  0%|          | 0/1 [00:00<?, ?it/s]"
     ]
    },
    {
     "name": "stdout",
     "output_type": "stream",
     "text": [
      "Training and Evaluating on task 40\n",
      "Train data shape is  (258, 500)\n",
      "Train Labels shape is  (258, 20)\n",
      "Classes trained are: 780 to 800\n",
      "Samples with all negative labels 2\n",
      "Augmenting class labels...\n",
      "Train Labels shape is  (258, 800)\n",
      "Output dimensions: 800\n",
      "growing model size ...\n"
     ]
    },
    {
     "name": "stderr",
     "output_type": "stream",
     "text": [
      "100%|██████████| 1/1 [00:00<00:00,  3.62it/s]\n"
     ]
    },
    {
     "name": "stdout",
     "output_type": "stream",
     "text": [
      "Evaluating in individual mode on test set\n",
      "multilabel-indicator multilabel-indicator\n",
      "float32 float32\n",
      "(3185, 20) (3185, 20)\n",
      "Evaluating in combined mode on test set\n",
      "multilabel-indicator multilabel-indicator\n",
      "float32 float32\n",
      "(3185, 800) (3185, 800)\n"
     ]
    },
    {
     "name": "stderr",
     "output_type": "stream",
     "text": [
      "  0%|          | 0/1 [00:00<?, ?it/s]"
     ]
    },
    {
     "name": "stdout",
     "output_type": "stream",
     "text": [
      "Training and Evaluating on task 41\n",
      "Train data shape is  (258, 500)\n",
      "Train Labels shape is  (258, 20)\n",
      "Classes trained are: 800 to 820\n",
      "Samples with all negative labels 4\n",
      "Augmenting class labels...\n",
      "Train Labels shape is  (258, 820)\n",
      "Output dimensions: 820\n",
      "growing model size ...\n"
     ]
    },
    {
     "name": "stderr",
     "output_type": "stream",
     "text": [
      "100%|██████████| 1/1 [00:00<00:00,  3.35it/s]\n"
     ]
    },
    {
     "name": "stdout",
     "output_type": "stream",
     "text": [
      "Evaluating in individual mode on test set\n",
      "multilabel-indicator multilabel-indicator\n",
      "float32 float32\n",
      "(3185, 20) (3185, 20)\n",
      "Evaluating in combined mode on test set\n",
      "multilabel-indicator multilabel-indicator\n",
      "float32 float32\n",
      "(3185, 820) (3185, 820)\n"
     ]
    },
    {
     "name": "stderr",
     "output_type": "stream",
     "text": [
      "  0%|          | 0/1 [00:00<?, ?it/s]"
     ]
    },
    {
     "name": "stdout",
     "output_type": "stream",
     "text": [
      "Training and Evaluating on task 42\n",
      "Train data shape is  (258, 500)\n",
      "Train Labels shape is  (258, 20)\n",
      "Classes trained are: 820 to 840\n",
      "Samples with all negative labels 4\n",
      "Augmenting class labels...\n",
      "Train Labels shape is  (258, 840)\n",
      "Output dimensions: 840\n",
      "growing model size ...\n"
     ]
    },
    {
     "name": "stderr",
     "output_type": "stream",
     "text": [
      "100%|██████████| 1/1 [00:00<00:00,  3.36it/s]\n"
     ]
    },
    {
     "name": "stdout",
     "output_type": "stream",
     "text": [
      "Evaluating in individual mode on test set\n",
      "multilabel-indicator multilabel-indicator\n",
      "float32 float32\n",
      "(3185, 20) (3185, 20)\n",
      "Evaluating in combined mode on test set\n",
      "multilabel-indicator multilabel-indicator\n",
      "float32 float32\n",
      "(3185, 840) (3185, 840)\n"
     ]
    },
    {
     "name": "stderr",
     "output_type": "stream",
     "text": [
      "  0%|          | 0/1 [00:00<?, ?it/s]"
     ]
    },
    {
     "name": "stdout",
     "output_type": "stream",
     "text": [
      "Training and Evaluating on task 43\n",
      "Train data shape is  (258, 500)\n",
      "Train Labels shape is  (258, 20)\n",
      "Classes trained are: 840 to 860\n",
      "Samples with all negative labels 4\n",
      "Augmenting class labels...\n",
      "Train Labels shape is  (258, 860)\n",
      "Output dimensions: 860\n",
      "growing model size ...\n"
     ]
    },
    {
     "name": "stderr",
     "output_type": "stream",
     "text": [
      "100%|██████████| 1/1 [00:00<00:00,  3.85it/s]\n"
     ]
    },
    {
     "name": "stdout",
     "output_type": "stream",
     "text": [
      "Evaluating in individual mode on test set\n",
      "multilabel-indicator multilabel-indicator\n",
      "float32 float32\n",
      "(3185, 20) (3185, 20)\n",
      "Evaluating in combined mode on test set\n",
      "multilabel-indicator multilabel-indicator\n",
      "float32 float32\n",
      "(3185, 860) (3185, 860)\n"
     ]
    },
    {
     "name": "stderr",
     "output_type": "stream",
     "text": [
      "  0%|          | 0/1 [00:00<?, ?it/s]"
     ]
    },
    {
     "name": "stdout",
     "output_type": "stream",
     "text": [
      "Training and Evaluating on task 44\n",
      "Train data shape is  (258, 500)\n",
      "Train Labels shape is  (258, 20)\n",
      "Classes trained are: 860 to 880\n",
      "Samples with all negative labels 5\n",
      "Augmenting class labels...\n",
      "Train Labels shape is  (258, 880)\n",
      "Output dimensions: 880\n",
      "growing model size ...\n"
     ]
    },
    {
     "name": "stderr",
     "output_type": "stream",
     "text": [
      "100%|██████████| 1/1 [00:00<00:00,  3.53it/s]\n"
     ]
    },
    {
     "name": "stdout",
     "output_type": "stream",
     "text": [
      "Evaluating in individual mode on test set\n",
      "multilabel-indicator multilabel-indicator\n",
      "float32 float32\n",
      "(3185, 20) (3185, 20)\n",
      "Evaluating in combined mode on test set\n",
      "multilabel-indicator multilabel-indicator\n",
      "float32 float32\n",
      "(3185, 880) (3185, 880)\n"
     ]
    },
    {
     "name": "stderr",
     "output_type": "stream",
     "text": [
      "  0%|          | 0/1 [00:00<?, ?it/s]"
     ]
    },
    {
     "name": "stdout",
     "output_type": "stream",
     "text": [
      "Training and Evaluating on task 45\n",
      "Train data shape is  (258, 500)\n",
      "Train Labels shape is  (258, 20)\n",
      "Classes trained are: 880 to 900\n",
      "Samples with all negative labels 2\n",
      "Augmenting class labels...\n",
      "Train Labels shape is  (258, 900)\n",
      "Output dimensions: 900\n",
      "growing model size ...\n"
     ]
    },
    {
     "name": "stderr",
     "output_type": "stream",
     "text": [
      "100%|██████████| 1/1 [00:00<00:00,  3.75it/s]\n"
     ]
    },
    {
     "name": "stdout",
     "output_type": "stream",
     "text": [
      "Evaluating in individual mode on test set\n",
      "multilabel-indicator multilabel-indicator\n",
      "float32 float32\n",
      "(3185, 20) (3185, 20)\n",
      "Evaluating in combined mode on test set\n",
      "multilabel-indicator multilabel-indicator\n",
      "float32 float32\n",
      "(3185, 900) (3185, 900)\n"
     ]
    },
    {
     "name": "stderr",
     "output_type": "stream",
     "text": [
      "  0%|          | 0/1 [00:00<?, ?it/s]"
     ]
    },
    {
     "name": "stdout",
     "output_type": "stream",
     "text": [
      "Training and Evaluating on task 46\n",
      "Train data shape is  (258, 500)\n",
      "Train Labels shape is  (258, 20)\n",
      "Classes trained are: 900 to 920\n",
      "Samples with all negative labels 3\n",
      "Augmenting class labels...\n",
      "Train Labels shape is  (258, 920)\n",
      "Output dimensions: 920\n",
      "growing model size ...\n"
     ]
    },
    {
     "name": "stderr",
     "output_type": "stream",
     "text": [
      "100%|██████████| 1/1 [00:00<00:00,  4.02it/s]\n"
     ]
    },
    {
     "name": "stdout",
     "output_type": "stream",
     "text": [
      "Evaluating in individual mode on test set\n",
      "multilabel-indicator multilabel-indicator\n",
      "float32 float32\n",
      "(3185, 20) (3185, 20)\n",
      "Evaluating in combined mode on test set\n",
      "multilabel-indicator multilabel-indicator\n",
      "float32 float32\n",
      "(3185, 920) (3185, 920)\n"
     ]
    },
    {
     "name": "stderr",
     "output_type": "stream",
     "text": [
      "  0%|          | 0/1 [00:00<?, ?it/s]"
     ]
    },
    {
     "name": "stdout",
     "output_type": "stream",
     "text": [
      "Training and Evaluating on task 47\n",
      "Train data shape is  (258, 500)\n",
      "Train Labels shape is  (258, 20)\n",
      "Classes trained are: 920 to 940\n",
      "Samples with all negative labels 4\n",
      "Augmenting class labels...\n",
      "Train Labels shape is  (258, 940)\n",
      "Output dimensions: 940\n",
      "growing model size ...\n"
     ]
    },
    {
     "name": "stderr",
     "output_type": "stream",
     "text": [
      "100%|██████████| 1/1 [00:00<00:00,  3.63it/s]\n"
     ]
    },
    {
     "name": "stdout",
     "output_type": "stream",
     "text": [
      "Evaluating in individual mode on test set\n",
      "multilabel-indicator multilabel-indicator\n",
      "float32 float32\n",
      "(3185, 20) (3185, 20)\n",
      "Evaluating in combined mode on test set\n",
      "multilabel-indicator multilabel-indicator\n",
      "float32 float32\n",
      "(3185, 940) (3185, 940)\n"
     ]
    },
    {
     "name": "stderr",
     "output_type": "stream",
     "text": [
      "  0%|          | 0/1 [00:00<?, ?it/s]"
     ]
    },
    {
     "name": "stdout",
     "output_type": "stream",
     "text": [
      "Training and Evaluating on task 48\n",
      "Train data shape is  (258, 500)\n",
      "Train Labels shape is  (258, 20)\n",
      "Classes trained are: 940 to 960\n",
      "Samples with all negative labels 5\n",
      "Augmenting class labels...\n",
      "Train Labels shape is  (258, 960)\n",
      "Output dimensions: 960\n",
      "growing model size ...\n"
     ]
    },
    {
     "name": "stderr",
     "output_type": "stream",
     "text": [
      "100%|██████████| 1/1 [00:00<00:00,  3.84it/s]\n"
     ]
    },
    {
     "name": "stdout",
     "output_type": "stream",
     "text": [
      "Evaluating in individual mode on test set\n",
      "multilabel-indicator multilabel-indicator\n",
      "float32 float32\n",
      "(3185, 20) (3185, 20)\n",
      "Evaluating in combined mode on test set\n",
      "multilabel-indicator multilabel-indicator\n",
      "float32 float32\n",
      "(3185, 960) (3185, 960)\n"
     ]
    },
    {
     "name": "stderr",
     "output_type": "stream",
     "text": [
      "  0%|          | 0/1 [00:00<?, ?it/s]"
     ]
    },
    {
     "name": "stdout",
     "output_type": "stream",
     "text": [
      "Training and Evaluating on task 49\n",
      "Train data shape is  (258, 500)\n",
      "Train Labels shape is  (258, 20)\n",
      "Classes trained are: 960 to 980\n",
      "Samples with all negative labels 2\n",
      "Augmenting class labels...\n",
      "Train Labels shape is  (258, 980)\n",
      "Output dimensions: 980\n",
      "growing model size ...\n"
     ]
    },
    {
     "name": "stderr",
     "output_type": "stream",
     "text": [
      "100%|██████████| 1/1 [00:00<00:00,  3.70it/s]\n"
     ]
    },
    {
     "name": "stdout",
     "output_type": "stream",
     "text": [
      "Evaluating in individual mode on test set\n",
      "multilabel-indicator multilabel-indicator\n",
      "float32 float32\n",
      "(3185, 20) (3185, 20)\n",
      "Evaluating in combined mode on test set\n",
      "multilabel-indicator multilabel-indicator\n",
      "float32 float32\n",
      "(3185, 980) (3185, 980)\n"
     ]
    },
    {
     "name": "stderr",
     "output_type": "stream",
     "text": [
      "  0%|          | 0/1 [00:00<?, ?it/s]"
     ]
    },
    {
     "name": "stdout",
     "output_type": "stream",
     "text": [
      "Training and Evaluating on task 50\n",
      "Train data shape is  (278, 500)\n",
      "Train Labels shape is  (278, 3)\n",
      "Classes trained are: 980 to 983\n",
      "Samples with all negative labels 0\n",
      "Augmenting class labels...\n",
      "Train Labels shape is  (278, 983)\n",
      "Output dimensions: 983\n",
      "growing model size ...\n"
     ]
    },
    {
     "name": "stderr",
     "output_type": "stream",
     "text": [
      "100%|██████████| 1/1 [00:00<00:00,  3.80it/s]\n"
     ]
    },
    {
     "name": "stdout",
     "output_type": "stream",
     "text": [
      "Evaluating in individual mode on test set\n",
      "multilabel-indicator multilabel-indicator\n",
      "float32 float32\n",
      "(3185, 3) (3185, 3)\n",
      "Evaluating in combined mode on test set\n",
      "multilabel-indicator multilabel-indicator\n",
      "float32 float32\n",
      "(3185, 983) (3185, 983)\n",
      "Evaluating in individual mode on test set\n",
      "|                     |           0 |          1 |          2 |          3 |          4 |          5 |          6 |          7 |          8 |          9 |        10 |         11 |         12 |        13 |         14 |         15 |         16 |         17 |        18 |         19 |         20 |         21 |         22 |         23 |        24 |         25 |         26 |         27 |         28 |          29 |         30 |         31 |         32 |         33 |         34 |         35 |        36 |         37 |         38 |         39 |         40 |         41 |         42 |        43 |         44 |         45 |         46 |        47 |        48 |        49 |\n",
      "|:--------------------|------------:|-----------:|-----------:|-----------:|-----------:|-----------:|-----------:|-----------:|-----------:|-----------:|----------:|-----------:|-----------:|----------:|-----------:|-----------:|-----------:|-----------:|----------:|-----------:|-----------:|-----------:|-----------:|-----------:|----------:|-----------:|-----------:|-----------:|-----------:|------------:|-----------:|-----------:|-----------:|-----------:|-----------:|-----------:|----------:|-----------:|-----------:|-----------:|-----------:|-----------:|-----------:|----------:|-----------:|-----------:|-----------:|----------:|----------:|----------:|\n",
      "| hamming loss        | 0.206138    | 0.210047   | 0.20438    | 0.225243   | 0.415777   | 0.554458   | 0.45606    | 0.351978   | 0.458885   | 0.362386   | 0.439482  | 0.268854   | 0.32741    | 0.353438  | 0.256845   | 0.251586   | 0.30179    | 0.306515   | 0.390377  | 0.314584   | 0.399451   | 0.261978   | 0.462449   | 0.173862   | 0.34854   | 0.453925   | 0.409294   | 0.113626   | 0.353077   | 0.109859    | 0.505306   | 0.420078   | 0.257363   | 0.457378   | 0.207943   | 0.312057   | 0.332292  | 0.452873   | 0.26427    | 0.204976   | 0.271601   | 0.402245   | 0.50383    | 0.423328  | 0.409874   | 0.451162   | 0.250408   | 0.440597  | 0.496264  | 0.0128728 |\n",
      "| zero_one_loss       | 1           | 1          | 1          | 1          | 1          | 1          | 1          | 1          | 1          | 1          | 1         | 1          | 1          | 1         | 1          | 1          | 1          | 1          | 1         | 1          | 1          | 1          | 1          | 1          | 1         | 1          | 1          | 0.999372   | 1          | 1           | 1          | 1          | 1          | 1          | 1          | 1          | 1         | 1          | 1          | 1          | 1          | 1          | 1          | 1         | 1          | 1          | 1          | 1         | 1         | 0.0383046 |\n",
      "| one_error           | 0           | 0          | 0          | 0          | 0          | 0          | 0          | 0          | 0          | 0          | 0         | 0          | 0          | 0         | 0          | 0          | 0          | 0          | 0         | 0          | 0          | 0          | 0          | 0          | 0         | 0          | 0          | 0          | 0          | 0           | 0          | 0          | 0          | 0          | 0          | 0          | 0         | 0          | 0          | 0          | 0          | 0          | 0          | 0         | 0          | 0          | 0          | 0         | 0         | 0         |\n",
      "| micro av. jaccard   | 0.00462401  | 0.00727111 | 0.0181009  | 0.00609587 | 0.00443559 | 0.0152512  | 0.00649773 | 0.00567653 | 0.00848004 | 0.0106292  | 0.0307112 | 0.00568974 | 0.0160872  | 0.0185702 | 0.0102238  | 0.0203558  | 0.013091   | 0.00787602 | 0.0400324 | 0.0229644  | 0.0118447  | 0.0243218  | 0.0169525  | 0.0187827  | 0.029548  | 0.0108104  | 0.0122746  | 0.0292382  | 0.0199146  | 0.00270771  | 0.00822678 | 0.00490871 | 0.0109201  | 0.0150439  | 0.00875552 | 0.0136456  | 0.0714599 | 0.0160982  | 0.00783875 | 0.0149378  | 0.00580393 | 0.00866638 | 0.00953615 | 0.0250551 | 0.0216951  | 0.0148092  | 0.0211108  | 0.0632489 | 0.0214518 | 0         |\n",
      "| macro av. jaccard   | 0.000957614 | 0.00153846 | 0.00376766 | 0.00138148 | 0.00185243 | 0.00858713 | 0.00298273 | 0.00200942 | 0.00392465 | 0.00389325 | 0.0139246 | 0.00153846 | 0.00535322 | 0.0066876 | 0.00265306 | 0.00522763 | 0.00400314 | 0.00243328 | 0.0162794 | 0.00739403 | 0.00478807 | 0.00653061 | 0.00797488 | 0.0033281  | 0.0106122 | 0.00496075 | 0.00508634 | 0.00342229 | 0.00717425 | 0.000298273 | 0.00419152 | 0.00207221 | 0.00284144 | 0.00698587 | 0.00183673 | 0.00431711 | 0.025573  | 0.00740973 | 0.00208791 | 0.00310832 | 0.00158556 | 0.00351648 | 0.00485086 | 0.0108791 | 0.00908948 | 0.00678179 | 0.00540031 | 0.0297488 | 0.0108791 | 0         |\n",
      "| micro av. precision | 0.00478807  | 0.00769231 | 0.0188383  | 0.00690738 | 0.00463108 | 0.015613   | 0.00662829 | 0.0057412  | 0.00872144 | 0.0111236  | 0.0309437 | 0.00615385 | 0.0178441  | 0.0191074 | 0.0106122  | 0.0209105  | 0.0133438  | 0.00811094 | 0.0406986 | 0.0246468  | 0.0119702  | 0.0261224  | 0.017722   | 0.0221873  | 0.0303207 | 0.0110239  | 0.0127159  | 0.0342229  | 0.0204979  | 0.00298273  | 0.00838305 | 0.00518053 | 0.0113658  | 0.0155242  | 0.00918367 | 0.0143904  | 0.0730657 | 0.0164661  | 0.00835165 | 0.0155416  | 0.00634223 | 0.00879121 | 0.00970173 | 0.0271978 | 0.0227237  | 0.0150706  | 0.0216013  | 0.0661085 | 0.0217582 | 0         |\n",
      "| macro av. precision | 0.000957614 | 0.00153846 | 0.00376766 | 0.00138148 | 0.00185243 | 0.00858713 | 0.00298273 | 0.00200942 | 0.00392465 | 0.00389325 | 0.0139246 | 0.00153846 | 0.00535322 | 0.0066876 | 0.00265306 | 0.00522763 | 0.00400314 | 0.00243328 | 0.0162794 | 0.00739403 | 0.00478807 | 0.00653061 | 0.00797488 | 0.0033281  | 0.0106122 | 0.00496075 | 0.00508634 | 0.00342229 | 0.00717425 | 0.000298273 | 0.00419152 | 0.00207221 | 0.00284144 | 0.00698587 | 0.00183673 | 0.00431711 | 0.025573  | 0.00740973 | 0.00208791 | 0.00310832 | 0.00158556 | 0.00351648 | 0.00485086 | 0.0108791 | 0.00908948 | 0.00678179 | 0.00540031 | 0.0297488 | 0.0108791 | 0         |\n",
      "| micro av. recall    | 0.118908    | 0.117225   | 0.316206   | 0.0493274  | 0.0950846  | 0.396952   | 0.248042   | 0.335079   | 0.234522   | 0.192996   | 0.803442  | 0.0701503  | 0.140445   | 0.397759  | 0.218346   | 0.434159   | 0.408654   | 0.213793   | 0.709788  | 0.251737   | 0.530435   | 0.260815   | 0.280818   | 0.109053   | 0.536934  | 0.358277   | 0.26129    | 0.167178   | 0.411712   | 0.0285285   | 0.306193   | 0.0855476  | 0.21781    | 0.327206   | 0.158108   | 0.208649   | 0.764789  | 0.418811   | 0.113191   | 0.2777     | 0.0640051  | 0.379019   | 0.358469   | 0.241295  | 0.324007   | 0.460554   | 0.481793   | 0.593858  | 0.603659  | 0         |\n",
      "| macro av. recall    | 0.2         | 0.2        | 0.2        | 0.2        | 0.4        | 0.55       | 0.45       | 0.35       | 0.45       | 0.35       | 0.45      | 0.25       | 0.3        | 0.35      | 0.25       | 0.25       | 0.3        | 0.3        | 0.4       | 0.3        | 0.4        | 0.25       | 0.45       | 0.15       | 0.35      | 0.45       | 0.4        | 0.1        | 0.35       | 0.1         | 0.5        | 0.4        | 0.25       | 0.45       | 0.2        | 0.3        | 0.35      | 0.45       | 0.25       | 0.2        | 0.25       | 0.4        | 0.5        | 0.4       | 0.4        | 0.45       | 0.25       | 0.45      | 0.5       | 0         |\n",
      "| micro av. f1        | 0.00920546  | 0.0144372  | 0.0355582  | 0.0121179  | 0.008832   | 0.0300442  | 0.0129116  | 0.011289   | 0.0168175  | 0.0210348  | 0.0595922 | 0.0113151  | 0.031665   | 0.0364632 | 0.0202407  | 0.0398994  | 0.0258437  | 0.0156289  | 0.076983  | 0.0448978  | 0.023412   | 0.0474886  | 0.0333399  | 0.0368728  | 0.0574    | 0.0213897  | 0.0242515  | 0.0568152  | 0.0390515  | 0.0054008   | 0.0163193  | 0.00976946 | 0.0216042  | 0.029642   | 0.0173591  | 0.0269238  | 0.133388  | 0.0316864  | 0.0155556  | 0.0294358  | 0.0115409  | 0.0171838  | 0.0188921  | 0.0488854 | 0.0424689  | 0.0291862  | 0.0413486  | 0.118973  | 0.0420025 | 0         |\n",
      "| macro av. f1        | 0.00190142  | 0.00304738 | 0.00729965 | 0.00272829 | 0.00367977 | 0.0165822  | 0.00588756 | 0.00399104 | 0.00774603 | 0.00750184 | 0.0243998 | 0.00305366 | 0.010368   | 0.012404  | 0.005224   | 0.0100261  | 0.00782031 | 0.00481126 | 0.0275999 | 0.0141904  | 0.00933146 | 0.0125474  | 0.0153348  | 0.00637766 | 0.0188148 | 0.00966191 | 0.00998441 | 0.00659098 | 0.0131075  | 0.000594533 | 0.00819516 | 0.00411836 | 0.00560108 | 0.013517   | 0.00361173 | 0.0084647  | 0.0387233 | 0.0143712  | 0.00412157 | 0.00604238 | 0.00314477 | 0.00693179 | 0.00948555 | 0.0196052 | 0.0168596  | 0.0132751  | 0.0100284  | 0.0468369 | 0.020872  | 0         |\n",
      "| imb. av. f1         | 0.826934    | 0.813608   | 0.870996   | 0.658047   | 0.533467   | 0.55284    | 0.49619    | 0.652949   | 0.507048   | 0.641433   | 0.634834  | 0.668194   | 0.668605   | 0.58086   | 0.772094   | 0.719485   | 0.700855   | 0.663416   | 0.591893  | 0.782598   | 0.58093    | 0.741546   | 0.343822   | 0.847507   | 0.596001  | 0.543913   | 0.636246   | 0.975816   | 0.582402   | 0.843661    | 0.349382   | 0.459724   | 0.764347   | 0.396515   | 0.832504   | 0.774965   | 0.691892  | 0.484289   | 0.629134   | 0.851407   | 0.739302   | 0.587621   | 0.446919   | 0.604166  | 0.626941   | 0.617811   | 0.771622   | 0.653775  | 0.467529  | 0.988854  |\n",
      "Evaluating in combined mode on test set\n",
      "|                     |           0 |          1 |          2 |          3 |          4 |          5 |          6 |          7 |          8 |          9 |         10 |         11 |         12 |         13 |         14 |         15 |         16 |         17 |         18 |         19 |         20 |         21 |         22 |         23 |         24 |         25 |         26 |         27 |         28 |         29 |         30 |        31 |         32 |         33 |         34 |         35 |         36 |         37 |         38 |         39 |         40 |         41 |         42 |         43 |         44 |         45 |         46 |         47 |        48 |        49 |\n",
      "|:--------------------|------------:|-----------:|-----------:|-----------:|-----------:|-----------:|-----------:|-----------:|-----------:|-----------:|-----------:|-----------:|-----------:|-----------:|-----------:|-----------:|-----------:|-----------:|-----------:|-----------:|-----------:|-----------:|-----------:|-----------:|-----------:|-----------:|-----------:|-----------:|-----------:|-----------:|-----------:|----------:|-----------:|-----------:|-----------:|-----------:|-----------:|-----------:|-----------:|-----------:|-----------:|-----------:|-----------:|-----------:|-----------:|-----------:|-----------:|-----------:|----------:|----------:|\n",
      "| hamming loss        | 0.206138    | 0.208093   | 0.206855   | 0.211452   | 0.252317   | 0.302674   | 0.324586   | 0.32801    | 0.342552   | 0.344535   | 0.353167   | 0.346141   | 0.3447     | 0.345324   | 0.339425   | 0.333935   | 0.332045   | 0.330626   | 0.333771   | 0.332812   | 0.335985   | 0.332621   | 0.338266   | 0.331415   | 0.3321     | 0.336786   | 0.339471   | 0.331406   | 0.332153   | 0.324743   | 0.330568   | 0.333365  | 0.331062   | 0.334777   | 0.331153   | 0.330623   | 0.330668   | 0.333884   | 0.332099   | 0.328921   | 0.327523   | 0.329302   | 0.333361   | 0.335405   | 0.33706    | 0.339541   | 0.337644   | 0.339789   | 0.342982  | 0.341975  |\n",
      "| zero_one_loss       | 1           | 1          | 1          | 1          | 1          | 1          | 1          | 1          | 1          | 1          | 1          | 1          | 1          | 1          | 1          | 1          | 1          | 1          | 1          | 1          | 1          | 1          | 1          | 1          | 1          | 1          | 1          | 1          | 1          | 1          | 1          | 1         | 1          | 1          | 1          | 1          | 1          | 1          | 1          | 1          | 1          | 1          | 1          | 1          | 1          | 1          | 1          | 1          | 1         | 1         |\n",
      "| one_error           | 0           | 0          | 0          | 0          | 0          | 0          | 0          | 0          | 0          | 0          | 0          | 0          | 0          | 0          | 0          | 0          | 0          | 0          | 0          | 0          | 0          | 0          | 0          | 0          | 0          | 0          | 0          | 0          | 0          | 0          | 0          | 0         | 0          | 0          | 0          | 0          | 0          | 0          | 0          | 0          | 0          | 0          | 0          | 0          | 0          | 0          | 0          | 0          | 0         | 0         |\n",
      "| micro av. jaccard   | 0.00462401  | 0.00596175 | 0.00999274 | 0.00895797 | 0.00747209 | 0.00986014 | 0.00918706 | 0.00871762 | 0.00868226 | 0.0088874  | 0.0114054  | 0.0110375  | 0.0114082  | 0.0119353  | 0.0118491  | 0.012253   | 0.0122978  | 0.0120711  | 0.0138393  | 0.0142744  | 0.0141371  | 0.0145054  | 0.0146512  | 0.0147419  | 0.0153725  | 0.0151371  | 0.0150096  | 0.0151864  | 0.0153605  | 0.0152196  | 0.0148771  | 0.0144883 | 0.0144046  | 0.0144303  | 0.014329   | 0.0143111  | 0.015956   | 0.0159611  | 0.0157967  | 0.0157834  | 0.0155835  | 0.0153837  | 0.0151793  | 0.0154654  | 0.0156348  | 0.015611   | 0.0156982  | 0.0170461  | 0.0171768 | 0.0171748 |\n",
      "| macro av. jaccard   | 0.000957614 | 0.00124804 | 0.00208791 | 0.0019113  | 0.00189953 | 0.00301413 | 0.00300964 | 0.00288462 | 0.00300017 | 0.00308948 | 0.0040745  | 0.00386316 | 0.00397778 | 0.00417134 | 0.00407012 | 0.00414246 | 0.00413427 | 0.00403977 | 0.00468396 | 0.00481947 | 0.00481797 | 0.00489582 | 0.00502969 | 0.00495879 | 0.00518493 | 0.00517631 | 0.00517298 | 0.00511045 | 0.00518162 | 0.00501884 | 0.00499215 | 0.0049009 | 0.00483849 | 0.00490165 | 0.00481408 | 0.00480028 | 0.0053617  | 0.0054156  | 0.00533027 | 0.00527473 | 0.00518475 | 0.00514503 | 0.00513818 | 0.00526866 | 0.00535357 | 0.00538462 | 0.00538495 | 0.00589253 | 0.0059943 | 0.005976  |\n",
      "| micro av. precision | 0.00478807  | 0.00624019 | 0.0104396  | 0.00955651 | 0.0079147  | 0.0103342  | 0.00957614 | 0.00904977 | 0.00900052 | 0.00922233 | 0.0117946  | 0.0114464  | 0.0118876  | 0.0124253  | 0.0123337  | 0.012746   | 0.0127786  | 0.0125372  | 0.0143541  | 0.0148291  | 0.0146634  | 0.0150641  | 0.0152214  | 0.0153563  | 0.0160029  | 0.0157408  | 0.0156056  | 0.0158113  | 0.0159858  | 0.015849   | 0.0154757  | 0.0150797 | 0.0149925  | 0.0150141  | 0.0149109  | 0.0148974  | 0.0166011  | 0.0165962  | 0.0164333  | 0.0164194  | 0.0162271  | 0.0160067  | 0.0157816  | 0.0160987  | 0.0162777  | 0.0162421  | 0.0163286  | 0.017733   | 0.0178554 | 0.0178554 |\n",
      "| macro av. precision | 0.000957614 | 0.00124804 | 0.00208791 | 0.0019113  | 0.00189953 | 0.00301413 | 0.00300964 | 0.00288462 | 0.00300017 | 0.00308948 | 0.0040745  | 0.00386316 | 0.00397778 | 0.00417134 | 0.00407012 | 0.00414246 | 0.00413427 | 0.00403977 | 0.00468396 | 0.00481947 | 0.00481797 | 0.00489582 | 0.00502969 | 0.00495879 | 0.00518493 | 0.00517631 | 0.00517298 | 0.00511045 | 0.00518162 | 0.00501884 | 0.00499215 | 0.0049009 | 0.00483849 | 0.00490165 | 0.00481408 | 0.00480028 | 0.0053617  | 0.0054156  | 0.00533027 | 0.00527473 | 0.00518475 | 0.00514503 | 0.00513818 | 0.00526866 | 0.00535357 | 0.00538462 | 0.00538495 | 0.00589253 | 0.0059943 | 0.005976  |\n",
      "| micro av. recall    | 0.118908    | 0.117865   | 0.189279   | 0.125128   | 0.117865   | 0.176931   | 0.184417   | 0.191931   | 0.197135   | 0.196603   | 0.256883   | 0.236032   | 0.220497   | 0.232355   | 0.231709   | 0.240556   | 0.246327   | 0.245079   | 0.278424   | 0.276178   | 0.282589   | 0.281165   | 0.281142   | 0.269259   | 0.280717   | 0.282975   | 0.282122   | 0.277558   | 0.281944   | 0.277068   | 0.277784   | 0.269774  | 0.268633   | 0.270664   | 0.26858    | 0.266667   | 0.291108   | 0.29434    | 0.289683   | 0.289499   | 0.282087   | 0.283265   | 0.284576   | 0.282201   | 0.283581   | 0.286597   | 0.289096   | 0.30559    | 0.311283  | 0.310648  |\n",
      "| macro av. recall    | 0.2         | 0.2        | 0.2        | 0.2        | 0.24       | 0.291667   | 0.314286   | 0.31875    | 0.333333   | 0.335      | 0.345455   | 0.3375     | 0.334615   | 0.335714   | 0.33       | 0.325      | 0.323529   | 0.322222   | 0.326316   | 0.325      | 0.328571   | 0.325      | 0.330435   | 0.322917   | 0.324      | 0.328846   | 0.331481   | 0.323214   | 0.324138   | 0.316667   | 0.322581   | 0.325     | 0.322727   | 0.326471   | 0.322857   | 0.322222   | 0.322973   | 0.326316   | 0.324359   | 0.32125    | 0.319512   | 0.321429   | 0.325581   | 0.327273   | 0.328889   | 0.331522   | 0.329787   | 0.332292   | 0.335714  | 0.33469   |\n",
      "| micro av. f1        | 0.00920546  | 0.0118528  | 0.0197877  | 0.0177569  | 0.0148333  | 0.0195277  | 0.0182069  | 0.0172846  | 0.0172151  | 0.0176182  | 0.0225537  | 0.021834   | 0.022559   | 0.0235891  | 0.0234207  | 0.0242093  | 0.0242969  | 0.0238542  | 0.0273007  | 0.0281469  | 0.0278801  | 0.028596   | 0.0288793  | 0.0290554  | 0.0302796  | 0.0298227  | 0.0295753  | 0.0299184  | 0.0302562  | 0.0299828  | 0.029318   | 0.0285628 | 0.0284     | 0.02845    | 0.0282532  | 0.0282184  | 0.0314109  | 0.0314207  | 0.0311021  | 0.0310762  | 0.0306888  | 0.0303012  | 0.0299047  | 0.0304597  | 0.0307882  | 0.030742   | 0.0309112  | 0.0335208  | 0.0337734 | 0.0337697 |\n",
      "| macro av. f1        | 0.00190142  | 0.0024744  | 0.00408282 | 0.00374418 | 0.0037313  | 0.00587312 | 0.00587518 | 0.00563967 | 0.00587371 | 0.00603652 | 0.00770591 | 0.00731822 | 0.00755282 | 0.00789933 | 0.00772098 | 0.00786505 | 0.00786242 | 0.00769291 | 0.00874064 | 0.00901313 | 0.00902829 | 0.00918825 | 0.00945549 | 0.00932725 | 0.00970675 | 0.00970503 | 0.00971537 | 0.00960379 | 0.00972461 | 0.00942027 | 0.00938075 | 0.0092163 | 0.00910675 | 0.00923646 | 0.00907576 | 0.00905878 | 0.00986052 | 0.00997923 | 0.00982903 | 0.00973436 | 0.00957364 | 0.00951074 | 0.00951016 | 0.00973959 | 0.00989781 | 0.00997123 | 0.00997245 | 0.0107405  | 0.0109472 | 0.0109138 |\n",
      "| imb. av. f1         | 0.826934    | 0.822728   | 0.833984   | 0.807088   | 0.749344   | 0.721551   | 0.68828    | 0.684171   | 0.66756    | 0.664845   | 0.661826   | 0.662206   | 0.662548   | 0.656439   | 0.662546   | 0.665386   | 0.667094   | 0.666926   | 0.663866   | 0.667938   | 0.664118   | 0.666281   | 0.649953   | 0.655729   | 0.653782   | 0.650149   | 0.649789   | 0.660698   | 0.658056   | 0.665701   | 0.653772   | 0.648316  | 0.650771   | 0.643371   | 0.650224   | 0.654157   | 0.655211   | 0.650036   | 0.64965    | 0.656212   | 0.658388   | 0.656865   | 0.652398   | 0.651555   | 0.651046   | 0.650518   | 0.653589   | 0.653592   | 0.651271  | 0.651776  |\n",
      "File saved to ./checkpoints_new/delicious_0_SI_asy.pkl\n",
      "Number of Tasks: 50\n",
      "Forgetting in task 1: first time imb. av. f1 = 0.8269, after all tasks imb. av. f1 = 0.8269\n",
      "Forgetting in task 2: first time imb. av. f1 = 0.8136, after all tasks imb. av. f1 = 0.8269\n",
      "Forgetting in task 3: first time imb. av. f1 = 0.8710, after all tasks imb. av. f1 = 0.8269\n",
      "Forgetting in task 4: first time imb. av. f1 = 0.6580, after all tasks imb. av. f1 = 0.8269\n",
      "Forgetting in task 5: first time imb. av. f1 = 0.5335, after all tasks imb. av. f1 = 0.8269\n",
      "Forgetting in task 6: first time imb. av. f1 = 0.5528, after all tasks imb. av. f1 = 0.8269\n",
      "Forgetting in task 7: first time imb. av. f1 = 0.4962, after all tasks imb. av. f1 = 0.8269\n",
      "Forgetting in task 8: first time imb. av. f1 = 0.6530, after all tasks imb. av. f1 = 0.8269\n",
      "Forgetting in task 9: first time imb. av. f1 = 0.5070, after all tasks imb. av. f1 = 0.8269\n",
      "Forgetting in task 10: first time imb. av. f1 = 0.6414, after all tasks imb. av. f1 = 0.8269\n",
      "Forgetting in task 11: first time imb. av. f1 = 0.6348, after all tasks imb. av. f1 = 0.8269\n",
      "Forgetting in task 12: first time imb. av. f1 = 0.6682, after all tasks imb. av. f1 = 0.8269\n",
      "Forgetting in task 13: first time imb. av. f1 = 0.6686, after all tasks imb. av. f1 = 0.8269\n",
      "Forgetting in task 14: first time imb. av. f1 = 0.5809, after all tasks imb. av. f1 = 0.8269\n",
      "Forgetting in task 15: first time imb. av. f1 = 0.7721, after all tasks imb. av. f1 = 0.8269\n",
      "Forgetting in task 16: first time imb. av. f1 = 0.7195, after all tasks imb. av. f1 = 0.8269\n",
      "Forgetting in task 17: first time imb. av. f1 = 0.7009, after all tasks imb. av. f1 = 0.8269\n",
      "Forgetting in task 18: first time imb. av. f1 = 0.6635, after all tasks imb. av. f1 = 0.8269\n",
      "Forgetting in task 19: first time imb. av. f1 = 0.5919, after all tasks imb. av. f1 = 0.8269\n",
      "Forgetting in task 20: first time imb. av. f1 = 0.7826, after all tasks imb. av. f1 = 0.8269\n",
      "Forgetting in task 21: first time imb. av. f1 = 0.5809, after all tasks imb. av. f1 = 0.8269\n",
      "Forgetting in task 22: first time imb. av. f1 = 0.7416, after all tasks imb. av. f1 = 0.8269\n",
      "Forgetting in task 23: first time imb. av. f1 = 0.3438, after all tasks imb. av. f1 = 0.8269\n",
      "Forgetting in task 24: first time imb. av. f1 = 0.8475, after all tasks imb. av. f1 = 0.8269\n",
      "Forgetting in task 25: first time imb. av. f1 = 0.5960, after all tasks imb. av. f1 = 0.8269\n",
      "Forgetting in task 26: first time imb. av. f1 = 0.5439, after all tasks imb. av. f1 = 0.8269\n",
      "Forgetting in task 27: first time imb. av. f1 = 0.6362, after all tasks imb. av. f1 = 0.8269\n",
      "Forgetting in task 28: first time imb. av. f1 = 0.9758, after all tasks imb. av. f1 = 0.8269\n",
      "Forgetting in task 29: first time imb. av. f1 = 0.5824, after all tasks imb. av. f1 = 0.8269\n",
      "Forgetting in task 30: first time imb. av. f1 = 0.8437, after all tasks imb. av. f1 = 0.8269\n",
      "Forgetting in task 31: first time imb. av. f1 = 0.3494, after all tasks imb. av. f1 = 0.8269\n",
      "Forgetting in task 32: first time imb. av. f1 = 0.4597, after all tasks imb. av. f1 = 0.8269\n",
      "Forgetting in task 33: first time imb. av. f1 = 0.7643, after all tasks imb. av. f1 = 0.8269\n",
      "Forgetting in task 34: first time imb. av. f1 = 0.3965, after all tasks imb. av. f1 = 0.8269\n",
      "Forgetting in task 35: first time imb. av. f1 = 0.8325, after all tasks imb. av. f1 = 0.8269\n",
      "Forgetting in task 36: first time imb. av. f1 = 0.7750, after all tasks imb. av. f1 = 0.8269\n",
      "Forgetting in task 37: first time imb. av. f1 = 0.6919, after all tasks imb. av. f1 = 0.8269\n",
      "Forgetting in task 38: first time imb. av. f1 = 0.4843, after all tasks imb. av. f1 = 0.8269\n",
      "Forgetting in task 39: first time imb. av. f1 = 0.6291, after all tasks imb. av. f1 = 0.8269\n",
      "Forgetting in task 40: first time imb. av. f1 = 0.8514, after all tasks imb. av. f1 = 0.8269\n",
      "Forgetting in task 41: first time imb. av. f1 = 0.7393, after all tasks imb. av. f1 = 0.8269\n",
      "Forgetting in task 42: first time imb. av. f1 = 0.5876, after all tasks imb. av. f1 = 0.8269\n",
      "Forgetting in task 43: first time imb. av. f1 = 0.4469, after all tasks imb. av. f1 = 0.8269\n",
      "Forgetting in task 44: first time imb. av. f1 = 0.6042, after all tasks imb. av. f1 = 0.8269\n",
      "Forgetting in task 45: first time imb. av. f1 = 0.6269, after all tasks imb. av. f1 = 0.8269\n",
      "Forgetting in task 46: first time imb. av. f1 = 0.6178, after all tasks imb. av. f1 = 0.8269\n",
      "Forgetting in task 47: first time imb. av. f1 = 0.7716, after all tasks imb. av. f1 = 0.8269\n",
      "Forgetting in task 48: first time imb. av. f1 = 0.6538, after all tasks imb. av. f1 = 0.8269\n",
      "Forgetting in task 49: first time imb. av. f1 = 0.4675, after all tasks imb. av. f1 = 0.8269\n",
      "Forgetting in task 50: first time imb. av. f1 = 0.9889, after all tasks imb. av. f1 = 0.8269\n"
     ]
    },
    {
     "data": {
      "image/png": "[encoded data removed]",
      "text/plain": [
       "<Figure size 360x360 with 1 Axes>"
      ]
     },
     "metadata": {
      "needs_background": "light"
     },
     "output_type": "display_data"
    }
   ],
   "source": [
    "hparams = Hyperparameters('delicious', continual_method, device, num_tasks=50)\n",
    "experiment = ContinualExperiment(hparams)\n",
    "experiment.run()"
   ]
  },
  {
   "cell_type": "markdown",
   "metadata": {},
   "source": [
    "## Mediamill, 50 tasks"
   ]
  },
  {
   "cell_type": "code",
   "execution_count": 20,
   "metadata": {},
   "outputs": [
    {
     "name": "stdout",
     "output_type": "stream",
     "text": [
      "Processing Data ...\n"
     ]
    },
    {
     "name": "stderr",
     "output_type": "stream",
     "text": [
      "  0%|          | 0/1 [00:00<?, ?it/s]"
     ]
    },
    {
     "name": "stdout",
     "output_type": "stream",
     "text": [
      "(30993, 120)\n",
      "(12914, 120)\n",
      "(30993, 101)\n",
      "(12914, 101)\n",
      "Begin training in SI mode ...\n",
      "Training and Evaluating on task 1\n",
      "Train data shape is  (619, 120)\n",
      "Train Labels shape is  (619, 2)\n",
      "Classes trained are: 0 to 2\n",
      "Samples with all negative labels 0\n",
      "Output dimensions: 2\n"
     ]
    },
    {
     "name": "stderr",
     "output_type": "stream",
     "text": [
      "100%|██████████| 1/1 [00:00<00:00,  3.12it/s]\n"
     ]
    },
    {
     "name": "stdout",
     "output_type": "stream",
     "text": [
      "Evaluating in individual mode on test set\n",
      "multilabel-indicator multilabel-indicator\n",
      "float32 float32\n",
      "(12914, 2) (12914, 2)\n",
      "Evaluating in combined mode on test set\n",
      "multilabel-indicator multilabel-indicator\n",
      "float32 float32\n",
      "(12914, 2) (12914, 2)\n",
      "Training and Evaluating on task 2\n",
      "Train data shape is  (619, 120)\n",
      "Train Labels shape is  (619, 2)\n",
      "Classes trained are: 2 to 4\n",
      "Samples with all negative labels 1\n",
      "Augmenting class labels...\n"
     ]
    },
    {
     "name": "stderr",
     "output_type": "stream",
     "text": [
      "  0%|          | 0/1 [00:00<?, ?it/s]"
     ]
    },
    {
     "name": "stdout",
     "output_type": "stream",
     "text": [
      "Train Labels shape is  (619, 4)\n",
      "Output dimensions: 4\n",
      "growing model size ...\n"
     ]
    },
    {
     "name": "stderr",
     "output_type": "stream",
     "text": [
      "100%|██████████| 1/1 [00:00<00:00,  1.64it/s]\n"
     ]
    },
    {
     "name": "stdout",
     "output_type": "stream",
     "text": [
      "Evaluating in individual mode on test set\n",
      "multilabel-indicator multilabel-indicator\n",
      "float32 float32\n",
      "(12914, 2) (12914, 2)\n",
      "Evaluating in combined mode on test set\n",
      "multilabel-indicator multilabel-indicator\n",
      "float32 float32\n",
      "(12914, 4) (12914, 4)\n",
      "Training and Evaluating on task 3\n",
      "Train data shape is  (619, 120)\n",
      "Train Labels shape is  (619, 2)\n",
      "Classes trained are: 4 to 6\n",
      "Samples with all negative labels 1\n",
      "Augmenting class labels...\n"
     ]
    },
    {
     "name": "stderr",
     "output_type": "stream",
     "text": [
      "  0%|          | 0/1 [00:00<?, ?it/s]"
     ]
    },
    {
     "name": "stdout",
     "output_type": "stream",
     "text": [
      "Train Labels shape is  (619, 6)\n",
      "Output dimensions: 6\n",
      "growing model size ...\n"
     ]
    },
    {
     "name": "stderr",
     "output_type": "stream",
     "text": [
      "100%|██████████| 1/1 [00:00<00:00,  1.60it/s]\n"
     ]
    },
    {
     "name": "stdout",
     "output_type": "stream",
     "text": [
      "Evaluating in individual mode on test set\n",
      "multilabel-indicator multilabel-indicator\n",
      "float32 float32\n",
      "(12914, 2) (12914, 2)\n",
      "Evaluating in combined mode on test set\n",
      "multilabel-indicator multilabel-indicator\n",
      "float32 float32\n",
      "(12914, 6) (12914, 6)\n",
      "Training and Evaluating on task 4\n",
      "Train data shape is  (619, 120)\n",
      "Train Labels shape is  (619, 2)\n",
      "Classes trained are: 6 to 8\n",
      "Samples with all negative labels 1\n",
      "Augmenting class labels...\n"
     ]
    },
    {
     "name": "stderr",
     "output_type": "stream",
     "text": [
      "  0%|          | 0/1 [00:00<?, ?it/s]"
     ]
    },
    {
     "name": "stdout",
     "output_type": "stream",
     "text": [
      "Train Labels shape is  (619, 8)\n",
      "Output dimensions: 8\n",
      "growing model size ...\n"
     ]
    },
    {
     "name": "stderr",
     "output_type": "stream",
     "text": [
      "100%|██████████| 1/1 [00:00<00:00,  1.44it/s]\n"
     ]
    },
    {
     "name": "stdout",
     "output_type": "stream",
     "text": [
      "Evaluating in individual mode on test set\n",
      "multilabel-indicator multilabel-indicator\n",
      "float32 float32\n",
      "(12914, 2) (12914, 2)\n",
      "Evaluating in combined mode on test set\n",
      "multilabel-indicator multilabel-indicator\n",
      "float32 float32\n",
      "(12914, 8) (12914, 8)\n",
      "Training and Evaluating on task 5\n",
      "Train data shape is  (619, 120)\n",
      "Train Labels shape is  (619, 2)\n",
      "Classes trained are: 8 to 10\n",
      "Samples with all negative labels 2\n",
      "Augmenting class labels...\n"
     ]
    },
    {
     "name": "stderr",
     "output_type": "stream",
     "text": [
      "  0%|          | 0/1 [00:00<?, ?it/s]"
     ]
    },
    {
     "name": "stdout",
     "output_type": "stream",
     "text": [
      "Train Labels shape is  (619, 10)\n",
      "Output dimensions: 10\n",
      "growing model size ...\n"
     ]
    },
    {
     "name": "stderr",
     "output_type": "stream",
     "text": [
      "100%|██████████| 1/1 [00:00<00:00,  1.73it/s]\n"
     ]
    },
    {
     "name": "stdout",
     "output_type": "stream",
     "text": [
      "Evaluating in individual mode on test set\n",
      "multilabel-indicator multilabel-indicator\n",
      "float32 float32\n",
      "(12914, 2) (12914, 2)\n",
      "Evaluating in combined mode on test set\n",
      "multilabel-indicator multilabel-indicator\n",
      "float32 float32\n",
      "(12914, 10) (12914, 10)\n",
      "Training and Evaluating on task 6\n",
      "Train data shape is  (619, 120)\n",
      "Train Labels shape is  (619, 2)\n",
      "Classes trained are: 10 to 12\n",
      "Samples with all negative labels 1\n",
      "Augmenting class labels...\n"
     ]
    },
    {
     "name": "stderr",
     "output_type": "stream",
     "text": [
      "  0%|          | 0/1 [00:00<?, ?it/s]"
     ]
    },
    {
     "name": "stdout",
     "output_type": "stream",
     "text": [
      "Train Labels shape is  (619, 12)\n",
      "Output dimensions: 12\n",
      "growing model size ...\n"
     ]
    },
    {
     "name": "stderr",
     "output_type": "stream",
     "text": [
      "100%|██████████| 1/1 [00:00<00:00,  1.53it/s]\n"
     ]
    },
    {
     "name": "stdout",
     "output_type": "stream",
     "text": [
      "Evaluating in individual mode on test set\n",
      "multilabel-indicator multilabel-indicator\n",
      "float32 float32\n",
      "(12914, 2) (12914, 2)\n",
      "Evaluating in combined mode on test set\n",
      "multilabel-indicator multilabel-indicator\n",
      "float32 float32\n",
      "(12914, 12) (12914, 12)\n",
      "Training and Evaluating on task 7\n",
      "Train data shape is  (619, 120)\n",
      "Train Labels shape is  (619, 2)\n",
      "Classes trained are: 12 to 14\n",
      "Samples with all negative labels 0\n",
      "Augmenting class labels...\n"
     ]
    },
    {
     "name": "stderr",
     "output_type": "stream",
     "text": [
      "  0%|          | 0/1 [00:00<?, ?it/s]"
     ]
    },
    {
     "name": "stdout",
     "output_type": "stream",
     "text": [
      "Train Labels shape is  (619, 14)\n",
      "Output dimensions: 14\n",
      "growing model size ...\n"
     ]
    },
    {
     "name": "stderr",
     "output_type": "stream",
     "text": [
      "100%|██████████| 1/1 [00:00<00:00,  1.60it/s]\n"
     ]
    },
    {
     "name": "stdout",
     "output_type": "stream",
     "text": [
      "Evaluating in individual mode on test set\n",
      "multilabel-indicator multilabel-indicator\n",
      "float32 float32\n",
      "(12914, 2) (12914, 2)\n",
      "Evaluating in combined mode on test set\n",
      "multilabel-indicator multilabel-indicator\n",
      "float32 float32\n",
      "(12914, 14) (12914, 14)\n",
      "Training and Evaluating on task 8\n",
      "Train data shape is  (619, 120)\n",
      "Train Labels shape is  (619, 2)\n",
      "Classes trained are: 14 to 16\n",
      "Samples with all negative labels 0\n",
      "Augmenting class labels...\n"
     ]
    },
    {
     "name": "stderr",
     "output_type": "stream",
     "text": [
      "  0%|          | 0/1 [00:00<?, ?it/s]"
     ]
    },
    {
     "name": "stdout",
     "output_type": "stream",
     "text": [
      "Train Labels shape is  (619, 16)\n",
      "Output dimensions: 16\n",
      "growing model size ...\n"
     ]
    },
    {
     "name": "stderr",
     "output_type": "stream",
     "text": [
      "100%|██████████| 1/1 [00:00<00:00,  1.48it/s]\n"
     ]
    },
    {
     "name": "stdout",
     "output_type": "stream",
     "text": [
      "Evaluating in individual mode on test set\n",
      "multilabel-indicator multilabel-indicator\n",
      "float32 float32\n",
      "(12914, 2) (12914, 2)\n",
      "Evaluating in combined mode on test set\n",
      "multilabel-indicator multilabel-indicator\n",
      "float32 float32\n",
      "(12914, 16) (12914, 16)\n",
      "Training and Evaluating on task 9\n",
      "Train data shape is  (619, 120)\n",
      "Train Labels shape is  (619, 2)\n",
      "Classes trained are: 16 to 18\n",
      "Samples with all negative labels 0\n",
      "Augmenting class labels...\n"
     ]
    },
    {
     "name": "stderr",
     "output_type": "stream",
     "text": [
      "  0%|          | 0/1 [00:00<?, ?it/s]"
     ]
    },
    {
     "name": "stdout",
     "output_type": "stream",
     "text": [
      "Train Labels shape is  (619, 18)\n",
      "Output dimensions: 18\n",
      "growing model size ...\n"
     ]
    },
    {
     "name": "stderr",
     "output_type": "stream",
     "text": [
      "100%|██████████| 1/1 [00:00<00:00,  1.61it/s]\n"
     ]
    },
    {
     "name": "stdout",
     "output_type": "stream",
     "text": [
      "Evaluating in individual mode on test set\n",
      "multilabel-indicator multilabel-indicator\n",
      "float32 float32\n",
      "(12914, 2) (12914, 2)\n",
      "Evaluating in combined mode on test set\n",
      "multilabel-indicator multilabel-indicator\n",
      "float32 float32\n",
      "(12914, 18) (12914, 18)\n",
      "Training and Evaluating on task 10\n",
      "Train data shape is  (619, 120)\n",
      "Train Labels shape is  (619, 2)\n",
      "Classes trained are: 18 to 20\n",
      "Samples with all negative labels 1\n",
      "Augmenting class labels...\n"
     ]
    },
    {
     "name": "stderr",
     "output_type": "stream",
     "text": [
      "  0%|          | 0/1 [00:00<?, ?it/s]"
     ]
    },
    {
     "name": "stdout",
     "output_type": "stream",
     "text": [
      "Train Labels shape is  (619, 20)\n",
      "Output dimensions: 20\n",
      "growing model size ...\n"
     ]
    },
    {
     "name": "stderr",
     "output_type": "stream",
     "text": [
      "100%|██████████| 1/1 [00:00<00:00,  1.68it/s]\n"
     ]
    },
    {
     "name": "stdout",
     "output_type": "stream",
     "text": [
      "Evaluating in individual mode on test set\n",
      "multilabel-indicator multilabel-indicator\n",
      "float32 float32\n",
      "(12914, 2) (12914, 2)\n",
      "Evaluating in combined mode on test set\n",
      "multilabel-indicator multilabel-indicator\n",
      "float32 float32\n",
      "(12914, 20) (12914, 20)\n",
      "Training and Evaluating on task 11\n",
      "Train data shape is  (619, 120)\n",
      "Train Labels shape is  (619, 2)\n",
      "Classes trained are: 20 to 22\n",
      "Samples with all negative labels 0\n",
      "Augmenting class labels...\n"
     ]
    },
    {
     "name": "stderr",
     "output_type": "stream",
     "text": [
      "  0%|          | 0/1 [00:00<?, ?it/s]"
     ]
    },
    {
     "name": "stdout",
     "output_type": "stream",
     "text": [
      "Train Labels shape is  (619, 22)\n",
      "Output dimensions: 22\n",
      "growing model size ...\n"
     ]
    },
    {
     "name": "stderr",
     "output_type": "stream",
     "text": [
      "100%|██████████| 1/1 [00:00<00:00,  1.73it/s]\n"
     ]
    },
    {
     "name": "stdout",
     "output_type": "stream",
     "text": [
      "Evaluating in individual mode on test set\n",
      "multilabel-indicator multilabel-indicator\n",
      "float32 float32\n",
      "(12914, 2) (12914, 2)\n",
      "Evaluating in combined mode on test set\n",
      "multilabel-indicator multilabel-indicator\n",
      "float32 float32\n",
      "(12914, 22) (12914, 22)\n",
      "Training and Evaluating on task 12\n",
      "Train data shape is  (619, 120)\n",
      "Train Labels shape is  (619, 2)\n",
      "Classes trained are: 22 to 24\n",
      "Samples with all negative labels 1\n",
      "Augmenting class labels...\n"
     ]
    },
    {
     "name": "stderr",
     "output_type": "stream",
     "text": [
      "  0%|          | 0/1 [00:00<?, ?it/s]"
     ]
    },
    {
     "name": "stdout",
     "output_type": "stream",
     "text": [
      "Train Labels shape is  (619, 24)\n",
      "Output dimensions: 24\n",
      "growing model size ...\n"
     ]
    },
    {
     "name": "stderr",
     "output_type": "stream",
     "text": [
      "100%|██████████| 1/1 [00:00<00:00,  1.73it/s]\n"
     ]
    },
    {
     "name": "stdout",
     "output_type": "stream",
     "text": [
      "Evaluating in individual mode on test set\n",
      "multilabel-indicator multilabel-indicator\n",
      "float32 float32\n",
      "(12914, 2) (12914, 2)\n",
      "Evaluating in combined mode on test set\n",
      "multilabel-indicator multilabel-indicator\n",
      "float32 float32\n",
      "(12914, 24) (12914, 24)\n",
      "Training and Evaluating on task 13\n",
      "Train data shape is  (619, 120)\n",
      "Train Labels shape is  (619, 2)\n",
      "Classes trained are: 24 to 26\n",
      "Samples with all negative labels 2\n",
      "Augmenting class labels...\n"
     ]
    },
    {
     "name": "stderr",
     "output_type": "stream",
     "text": [
      "  0%|          | 0/1 [00:00<?, ?it/s]"
     ]
    },
    {
     "name": "stdout",
     "output_type": "stream",
     "text": [
      "Train Labels shape is  (619, 26)\n",
      "Output dimensions: 26\n",
      "growing model size ...\n"
     ]
    },
    {
     "name": "stderr",
     "output_type": "stream",
     "text": [
      "100%|██████████| 1/1 [00:00<00:00,  1.73it/s]\n"
     ]
    },
    {
     "name": "stdout",
     "output_type": "stream",
     "text": [
      "Evaluating in individual mode on test set\n",
      "multilabel-indicator multilabel-indicator\n",
      "float32 float32\n",
      "(12914, 2) (12914, 2)\n",
      "Evaluating in combined mode on test set\n",
      "multilabel-indicator multilabel-indicator\n",
      "float32 float32\n",
      "(12914, 26) (12914, 26)\n",
      "Training and Evaluating on task 14\n",
      "Train data shape is  (619, 120)\n",
      "Train Labels shape is  (619, 2)\n",
      "Classes trained are: 26 to 28\n",
      "Samples with all negative labels 1\n",
      "Augmenting class labels...\n"
     ]
    },
    {
     "name": "stderr",
     "output_type": "stream",
     "text": [
      "  0%|          | 0/1 [00:00<?, ?it/s]"
     ]
    },
    {
     "name": "stdout",
     "output_type": "stream",
     "text": [
      "Train Labels shape is  (619, 28)\n",
      "Output dimensions: 28\n",
      "growing model size ...\n"
     ]
    },
    {
     "name": "stderr",
     "output_type": "stream",
     "text": [
      "100%|██████████| 1/1 [00:00<00:00,  1.70it/s]\n"
     ]
    },
    {
     "name": "stdout",
     "output_type": "stream",
     "text": [
      "Evaluating in individual mode on test set\n",
      "multilabel-indicator multilabel-indicator\n",
      "float32 float32\n",
      "(12914, 2) (12914, 2)\n",
      "Evaluating in combined mode on test set\n",
      "multilabel-indicator multilabel-indicator\n",
      "float32 float32\n",
      "(12914, 28) (12914, 28)\n",
      "Training and Evaluating on task 15\n",
      "Train data shape is  (619, 120)\n",
      "Train Labels shape is  (619, 2)\n",
      "Classes trained are: 28 to 30\n",
      "Samples with all negative labels 1\n",
      "Augmenting class labels...\n"
     ]
    },
    {
     "name": "stderr",
     "output_type": "stream",
     "text": [
      "  0%|          | 0/1 [00:00<?, ?it/s]"
     ]
    },
    {
     "name": "stdout",
     "output_type": "stream",
     "text": [
      "Train Labels shape is  (619, 30)\n",
      "Output dimensions: 30\n",
      "growing model size ...\n"
     ]
    },
    {
     "name": "stderr",
     "output_type": "stream",
     "text": [
      "100%|██████████| 1/1 [00:00<00:00,  1.49it/s]\n"
     ]
    },
    {
     "name": "stdout",
     "output_type": "stream",
     "text": [
      "Evaluating in individual mode on test set\n",
      "multilabel-indicator multilabel-indicator\n",
      "float32 float32\n",
      "(12914, 2) (12914, 2)\n",
      "Evaluating in combined mode on test set\n",
      "multilabel-indicator multilabel-indicator\n",
      "float32 float32\n",
      "(12914, 30) (12914, 30)\n",
      "Training and Evaluating on task 16\n",
      "Train data shape is  (619, 120)\n",
      "Train Labels shape is  (619, 2)\n",
      "Classes trained are: 30 to 32\n",
      "Samples with all negative labels 1\n",
      "Augmenting class labels...\n"
     ]
    },
    {
     "name": "stderr",
     "output_type": "stream",
     "text": [
      "  0%|          | 0/1 [00:00<?, ?it/s]"
     ]
    },
    {
     "name": "stdout",
     "output_type": "stream",
     "text": [
      "Train Labels shape is  (619, 32)\n",
      "Output dimensions: 32\n",
      "growing model size ...\n"
     ]
    },
    {
     "name": "stderr",
     "output_type": "stream",
     "text": [
      "100%|██████████| 1/1 [00:00<00:00,  1.90it/s]\n"
     ]
    },
    {
     "name": "stdout",
     "output_type": "stream",
     "text": [
      "Evaluating in individual mode on test set\n",
      "multilabel-indicator multilabel-indicator\n",
      "float32 float32\n",
      "(12914, 2) (12914, 2)\n",
      "Evaluating in combined mode on test set\n",
      "multilabel-indicator multilabel-indicator\n",
      "float32 float32\n",
      "(12914, 32) (12914, 32)\n",
      "Training and Evaluating on task 17\n",
      "Train data shape is  (619, 120)\n",
      "Train Labels shape is  (619, 2)\n",
      "Classes trained are: 32 to 34\n",
      "Samples with all negative labels 1\n",
      "Augmenting class labels...\n"
     ]
    },
    {
     "name": "stderr",
     "output_type": "stream",
     "text": [
      "  0%|          | 0/1 [00:00<?, ?it/s]"
     ]
    },
    {
     "name": "stdout",
     "output_type": "stream",
     "text": [
      "Train Labels shape is  (619, 34)\n",
      "Output dimensions: 34\n",
      "growing model size ...\n"
     ]
    },
    {
     "name": "stderr",
     "output_type": "stream",
     "text": [
      "100%|██████████| 1/1 [00:00<00:00,  1.70it/s]\n"
     ]
    },
    {
     "name": "stdout",
     "output_type": "stream",
     "text": [
      "Evaluating in individual mode on test set\n",
      "multilabel-indicator multilabel-indicator\n",
      "float32 float32\n",
      "(12914, 2) (12914, 2)\n",
      "Evaluating in combined mode on test set\n",
      "multilabel-indicator multilabel-indicator\n",
      "float32 float32\n",
      "(12914, 34) (12914, 34)\n",
      "Training and Evaluating on task 18\n",
      "Train data shape is  (619, 120)\n",
      "Train Labels shape is  (619, 2)\n",
      "Classes trained are: 34 to 36\n",
      "Samples with all negative labels 0\n",
      "Augmenting class labels...\n"
     ]
    },
    {
     "name": "stderr",
     "output_type": "stream",
     "text": [
      "  0%|          | 0/1 [00:00<?, ?it/s]"
     ]
    },
    {
     "name": "stdout",
     "output_type": "stream",
     "text": [
      "Train Labels shape is  (619, 36)\n",
      "Output dimensions: 36\n",
      "growing model size ...\n"
     ]
    },
    {
     "name": "stderr",
     "output_type": "stream",
     "text": [
      "100%|██████████| 1/1 [00:00<00:00,  1.65it/s]\n"
     ]
    },
    {
     "name": "stdout",
     "output_type": "stream",
     "text": [
      "Evaluating in individual mode on test set\n",
      "multilabel-indicator multilabel-indicator\n",
      "float32 float32\n",
      "(12914, 2) (12914, 2)\n",
      "Evaluating in combined mode on test set\n",
      "multilabel-indicator multilabel-indicator\n",
      "float32 float32\n",
      "(12914, 36) (12914, 36)\n",
      "Training and Evaluating on task 19\n",
      "Train data shape is  (619, 120)\n",
      "Train Labels shape is  (619, 2)\n",
      "Classes trained are: 36 to 38\n",
      "Samples with all negative labels 1\n",
      "Augmenting class labels...\n"
     ]
    },
    {
     "name": "stderr",
     "output_type": "stream",
     "text": [
      "  0%|          | 0/1 [00:00<?, ?it/s]"
     ]
    },
    {
     "name": "stdout",
     "output_type": "stream",
     "text": [
      "Train Labels shape is  (619, 38)\n",
      "Output dimensions: 38\n",
      "growing model size ...\n"
     ]
    },
    {
     "name": "stderr",
     "output_type": "stream",
     "text": [
      "100%|██████████| 1/1 [00:00<00:00,  1.65it/s]\n"
     ]
    },
    {
     "name": "stdout",
     "output_type": "stream",
     "text": [
      "Evaluating in individual mode on test set\n",
      "multilabel-indicator multilabel-indicator\n",
      "float32 float32\n",
      "(12914, 2) (12914, 2)\n",
      "Evaluating in combined mode on test set\n",
      "multilabel-indicator multilabel-indicator\n",
      "float32 float32\n",
      "(12914, 38) (12914, 38)\n",
      "Training and Evaluating on task 20\n",
      "Train data shape is  (619, 120)\n",
      "Train Labels shape is  (619, 2)\n",
      "Classes trained are: 38 to 40\n",
      "Samples with all negative labels 1\n",
      "Augmenting class labels...\n"
     ]
    },
    {
     "name": "stderr",
     "output_type": "stream",
     "text": [
      "  0%|          | 0/1 [00:00<?, ?it/s]"
     ]
    },
    {
     "name": "stdout",
     "output_type": "stream",
     "text": [
      "Train Labels shape is  (619, 40)\n",
      "Output dimensions: 40\n",
      "growing model size ...\n"
     ]
    },
    {
     "name": "stderr",
     "output_type": "stream",
     "text": [
      "100%|██████████| 1/1 [00:00<00:00,  1.71it/s]\n"
     ]
    },
    {
     "name": "stdout",
     "output_type": "stream",
     "text": [
      "Evaluating in individual mode on test set\n",
      "multilabel-indicator multilabel-indicator\n",
      "float32 float32\n",
      "(12914, 2) (12914, 2)\n",
      "Evaluating in combined mode on test set\n",
      "multilabel-indicator multilabel-indicator\n",
      "float32 float32\n",
      "(12914, 40) (12914, 40)\n",
      "Training and Evaluating on task 21\n",
      "Train data shape is  (619, 120)\n",
      "Train Labels shape is  (619, 2)\n",
      "Classes trained are: 40 to 42\n",
      "Samples with all negative labels 0\n",
      "Augmenting class labels...\n"
     ]
    },
    {
     "name": "stderr",
     "output_type": "stream",
     "text": [
      "  0%|          | 0/1 [00:00<?, ?it/s]"
     ]
    },
    {
     "name": "stdout",
     "output_type": "stream",
     "text": [
      "Train Labels shape is  (619, 42)\n",
      "Output dimensions: 42\n",
      "growing model size ...\n"
     ]
    },
    {
     "name": "stderr",
     "output_type": "stream",
     "text": [
      "100%|██████████| 1/1 [00:00<00:00,  1.69it/s]\n"
     ]
    },
    {
     "name": "stdout",
     "output_type": "stream",
     "text": [
      "Evaluating in individual mode on test set\n",
      "multilabel-indicator multilabel-indicator\n",
      "float32 float32\n",
      "(12914, 2) (12914, 2)\n",
      "Evaluating in combined mode on test set\n",
      "multilabel-indicator multilabel-indicator\n",
      "float32 float32\n",
      "(12914, 42) (12914, 42)\n",
      "Training and Evaluating on task 22\n",
      "Train data shape is  (619, 120)\n",
      "Train Labels shape is  (619, 2)\n",
      "Classes trained are: 42 to 44\n",
      "Samples with all negative labels 0\n",
      "Augmenting class labels...\n"
     ]
    },
    {
     "name": "stderr",
     "output_type": "stream",
     "text": [
      "  0%|          | 0/1 [00:00<?, ?it/s]"
     ]
    },
    {
     "name": "stdout",
     "output_type": "stream",
     "text": [
      "Train Labels shape is  (619, 44)\n",
      "Output dimensions: 44\n",
      "growing model size ...\n"
     ]
    },
    {
     "name": "stderr",
     "output_type": "stream",
     "text": [
      "100%|██████████| 1/1 [00:00<00:00,  1.71it/s]\n"
     ]
    },
    {
     "name": "stdout",
     "output_type": "stream",
     "text": [
      "Evaluating in individual mode on test set\n",
      "multilabel-indicator multilabel-indicator\n",
      "float32 float32\n",
      "(12914, 2) (12914, 2)\n",
      "Evaluating in combined mode on test set\n",
      "multilabel-indicator multilabel-indicator\n",
      "float32 float32\n",
      "(12914, 44) (12914, 44)\n",
      "Training and Evaluating on task 23\n",
      "Train data shape is  (619, 120)\n",
      "Train Labels shape is  (619, 2)\n",
      "Classes trained are: 44 to 46\n",
      "Samples with all negative labels 2\n",
      "Augmenting class labels...\n"
     ]
    },
    {
     "name": "stderr",
     "output_type": "stream",
     "text": [
      "  0%|          | 0/1 [00:00<?, ?it/s]"
     ]
    },
    {
     "name": "stdout",
     "output_type": "stream",
     "text": [
      "Train Labels shape is  (619, 46)\n",
      "Output dimensions: 46\n",
      "growing model size ...\n"
     ]
    },
    {
     "name": "stderr",
     "output_type": "stream",
     "text": [
      "100%|██████████| 1/1 [00:00<00:00,  1.74it/s]\n"
     ]
    },
    {
     "name": "stdout",
     "output_type": "stream",
     "text": [
      "Evaluating in individual mode on test set\n",
      "multilabel-indicator multilabel-indicator\n",
      "float32 float32\n",
      "(12914, 2) (12914, 2)\n",
      "Evaluating in combined mode on test set\n",
      "multilabel-indicator multilabel-indicator\n",
      "float32 float32\n",
      "(12914, 46) (12914, 46)\n",
      "Training and Evaluating on task 24\n",
      "Train data shape is  (619, 120)\n",
      "Train Labels shape is  (619, 2)\n",
      "Classes trained are: 46 to 48\n",
      "Samples with all negative labels 1\n",
      "Augmenting class labels...\n"
     ]
    },
    {
     "name": "stderr",
     "output_type": "stream",
     "text": [
      "  0%|          | 0/1 [00:00<?, ?it/s]"
     ]
    },
    {
     "name": "stdout",
     "output_type": "stream",
     "text": [
      "Train Labels shape is  (619, 48)\n",
      "Output dimensions: 48\n",
      "growing model size ...\n"
     ]
    },
    {
     "name": "stderr",
     "output_type": "stream",
     "text": [
      "100%|██████████| 1/1 [00:00<00:00,  1.53it/s]\n"
     ]
    },
    {
     "name": "stdout",
     "output_type": "stream",
     "text": [
      "Evaluating in individual mode on test set\n",
      "multilabel-indicator multilabel-indicator\n",
      "float32 float32\n",
      "(12914, 2) (12914, 2)\n",
      "Evaluating in combined mode on test set\n",
      "multilabel-indicator multilabel-indicator\n",
      "float32 float32\n",
      "(12914, 48) (12914, 48)\n",
      "Training and Evaluating on task 25\n",
      "Train data shape is  (619, 120)\n",
      "Train Labels shape is  (619, 2)\n",
      "Classes trained are: 48 to 50\n",
      "Samples with all negative labels 1\n",
      "Augmenting class labels...\n"
     ]
    },
    {
     "name": "stderr",
     "output_type": "stream",
     "text": [
      "  0%|          | 0/1 [00:00<?, ?it/s]"
     ]
    },
    {
     "name": "stdout",
     "output_type": "stream",
     "text": [
      "Train Labels shape is  (619, 50)\n",
      "Output dimensions: 50\n",
      "growing model size ...\n"
     ]
    },
    {
     "name": "stderr",
     "output_type": "stream",
     "text": [
      "100%|██████████| 1/1 [00:00<00:00,  1.50it/s]\n"
     ]
    },
    {
     "name": "stdout",
     "output_type": "stream",
     "text": [
      "Evaluating in individual mode on test set\n",
      "multilabel-indicator multilabel-indicator\n",
      "float32 float32\n",
      "(12914, 2) (12914, 2)\n",
      "Evaluating in combined mode on test set\n",
      "multilabel-indicator multilabel-indicator\n",
      "float32 float32\n",
      "(12914, 50) (12914, 50)\n",
      "Training and Evaluating on task 26\n",
      "Train data shape is  (619, 120)\n",
      "Train Labels shape is  (619, 2)\n",
      "Classes trained are: 50 to 52\n",
      "Samples with all negative labels 2\n",
      "Augmenting class labels...\n"
     ]
    },
    {
     "name": "stderr",
     "output_type": "stream",
     "text": [
      "  0%|          | 0/1 [00:00<?, ?it/s]"
     ]
    },
    {
     "name": "stdout",
     "output_type": "stream",
     "text": [
      "Train Labels shape is  (619, 52)\n",
      "Output dimensions: 52\n",
      "growing model size ...\n"
     ]
    },
    {
     "name": "stderr",
     "output_type": "stream",
     "text": [
      "100%|██████████| 1/1 [00:00<00:00,  1.51it/s]\n"
     ]
    },
    {
     "name": "stdout",
     "output_type": "stream",
     "text": [
      "Evaluating in individual mode on test set\n",
      "multilabel-indicator multilabel-indicator\n",
      "float32 float32\n",
      "(12914, 2) (12914, 2)\n",
      "Evaluating in combined mode on test set\n",
      "multilabel-indicator multilabel-indicator\n",
      "float32 float32\n",
      "(12914, 52) (12914, 52)\n",
      "Training and Evaluating on task 27\n",
      "Train data shape is  (619, 120)\n",
      "Train Labels shape is  (619, 2)\n",
      "Classes trained are: 52 to 54\n",
      "Samples with all negative labels 1\n",
      "Augmenting class labels...\n"
     ]
    },
    {
     "name": "stderr",
     "output_type": "stream",
     "text": [
      "  0%|          | 0/1 [00:00<?, ?it/s]"
     ]
    },
    {
     "name": "stdout",
     "output_type": "stream",
     "text": [
      "Train Labels shape is  (619, 54)\n",
      "Output dimensions: 54\n",
      "growing model size ...\n"
     ]
    },
    {
     "name": "stderr",
     "output_type": "stream",
     "text": [
      "100%|██████████| 1/1 [00:00<00:00,  1.72it/s]\n"
     ]
    },
    {
     "name": "stdout",
     "output_type": "stream",
     "text": [
      "Evaluating in individual mode on test set\n",
      "multilabel-indicator multilabel-indicator\n",
      "float32 float32\n",
      "(12914, 2) (12914, 2)\n",
      "Evaluating in combined mode on test set\n",
      "multilabel-indicator multilabel-indicator\n",
      "float32 float32\n",
      "(12914, 54) (12914, 54)\n",
      "Training and Evaluating on task 28\n",
      "Train data shape is  (619, 120)\n",
      "Train Labels shape is  (619, 2)\n",
      "Classes trained are: 54 to 56\n",
      "Samples with all negative labels 1\n",
      "Augmenting class labels...\n"
     ]
    },
    {
     "name": "stderr",
     "output_type": "stream",
     "text": [
      "  0%|          | 0/1 [00:00<?, ?it/s]"
     ]
    },
    {
     "name": "stdout",
     "output_type": "stream",
     "text": [
      "Train Labels shape is  (619, 56)\n",
      "Output dimensions: 56\n",
      "growing model size ...\n"
     ]
    },
    {
     "name": "stderr",
     "output_type": "stream",
     "text": [
      "100%|██████████| 1/1 [00:00<00:00,  1.71it/s]\n"
     ]
    },
    {
     "name": "stdout",
     "output_type": "stream",
     "text": [
      "Evaluating in individual mode on test set\n",
      "multilabel-indicator multilabel-indicator\n",
      "float32 float32\n",
      "(12914, 2) (12914, 2)\n",
      "Evaluating in combined mode on test set\n",
      "multilabel-indicator multilabel-indicator\n",
      "float32 float32\n",
      "(12914, 56) (12914, 56)\n",
      "Training and Evaluating on task 29\n",
      "Train data shape is  (619, 120)\n",
      "Train Labels shape is  (619, 2)\n",
      "Classes trained are: 56 to 58\n",
      "Samples with all negative labels 0\n",
      "Augmenting class labels...\n"
     ]
    },
    {
     "name": "stderr",
     "output_type": "stream",
     "text": [
      "  0%|          | 0/1 [00:00<?, ?it/s]"
     ]
    },
    {
     "name": "stdout",
     "output_type": "stream",
     "text": [
      "Train Labels shape is  (619, 58)\n",
      "Output dimensions: 58\n",
      "growing model size ...\n"
     ]
    },
    {
     "name": "stderr",
     "output_type": "stream",
     "text": [
      "100%|██████████| 1/1 [00:00<00:00,  1.74it/s]\n"
     ]
    },
    {
     "name": "stdout",
     "output_type": "stream",
     "text": [
      "Evaluating in individual mode on test set\n",
      "multilabel-indicator multilabel-indicator\n",
      "float32 float32\n",
      "(12914, 2) (12914, 2)\n",
      "Evaluating in combined mode on test set\n",
      "multilabel-indicator multilabel-indicator\n",
      "float32 float32\n",
      "(12914, 58) (12914, 58)\n",
      "Training and Evaluating on task 30\n",
      "Train data shape is  (619, 120)\n",
      "Train Labels shape is  (619, 2)\n",
      "Classes trained are: 58 to 60\n",
      "Samples with all negative labels 0\n",
      "Augmenting class labels...\n"
     ]
    },
    {
     "name": "stderr",
     "output_type": "stream",
     "text": [
      "  0%|          | 0/1 [00:00<?, ?it/s]"
     ]
    },
    {
     "name": "stdout",
     "output_type": "stream",
     "text": [
      "Train Labels shape is  (619, 60)\n",
      "Output dimensions: 60\n",
      "growing model size ...\n"
     ]
    },
    {
     "name": "stderr",
     "output_type": "stream",
     "text": [
      "100%|██████████| 1/1 [00:00<00:00,  1.42it/s]\n"
     ]
    },
    {
     "name": "stdout",
     "output_type": "stream",
     "text": [
      "Evaluating in individual mode on test set\n",
      "multilabel-indicator multilabel-indicator\n",
      "float32 float32\n",
      "(12914, 2) (12914, 2)\n",
      "Evaluating in combined mode on test set\n",
      "multilabel-indicator multilabel-indicator\n",
      "float32 float32\n",
      "(12914, 60) (12914, 60)\n",
      "Training and Evaluating on task 31\n",
      "Train data shape is  (619, 120)\n",
      "Train Labels shape is  (619, 2)\n",
      "Classes trained are: 60 to 62\n",
      "Samples with all negative labels 0\n",
      "Augmenting class labels...\n"
     ]
    },
    {
     "name": "stderr",
     "output_type": "stream",
     "text": [
      "  0%|          | 0/1 [00:00<?, ?it/s]"
     ]
    },
    {
     "name": "stdout",
     "output_type": "stream",
     "text": [
      "Train Labels shape is  (619, 62)\n",
      "Output dimensions: 62\n",
      "growing model size ...\n"
     ]
    },
    {
     "name": "stderr",
     "output_type": "stream",
     "text": [
      "100%|██████████| 1/1 [00:00<00:00,  1.29it/s]\n"
     ]
    },
    {
     "name": "stdout",
     "output_type": "stream",
     "text": [
      "Evaluating in individual mode on test set\n",
      "multilabel-indicator multilabel-indicator\n",
      "float32 float32\n",
      "(12914, 2) (12914, 2)\n",
      "Evaluating in combined mode on test set\n",
      "multilabel-indicator multilabel-indicator\n",
      "float32 float32\n",
      "(12914, 62) (12914, 62)\n",
      "Training and Evaluating on task 32\n",
      "Train data shape is  (619, 120)\n",
      "Train Labels shape is  (619, 2)\n",
      "Classes trained are: 62 to 64\n",
      "Samples with all negative labels 0\n",
      "Augmenting class labels...\n"
     ]
    },
    {
     "name": "stderr",
     "output_type": "stream",
     "text": [
      "  0%|          | 0/1 [00:00<?, ?it/s]"
     ]
    },
    {
     "name": "stdout",
     "output_type": "stream",
     "text": [
      "Train Labels shape is  (619, 64)\n",
      "Output dimensions: 64\n",
      "growing model size ...\n"
     ]
    },
    {
     "name": "stderr",
     "output_type": "stream",
     "text": [
      "100%|██████████| 1/1 [00:00<00:00,  1.44it/s]\n"
     ]
    },
    {
     "name": "stdout",
     "output_type": "stream",
     "text": [
      "Evaluating in individual mode on test set\n",
      "multilabel-indicator multilabel-indicator\n",
      "float32 float32\n",
      "(12914, 2) (12914, 2)\n",
      "Evaluating in combined mode on test set\n",
      "multilabel-indicator multilabel-indicator\n",
      "float32 float32\n",
      "(12914, 64) (12914, 64)\n",
      "Training and Evaluating on task 33\n",
      "Train data shape is  (619, 120)\n",
      "Train Labels shape is  (619, 2)\n",
      "Classes trained are: 64 to 66\n",
      "Samples with all negative labels 2\n",
      "Augmenting class labels...\n"
     ]
    },
    {
     "name": "stderr",
     "output_type": "stream",
     "text": [
      "  0%|          | 0/1 [00:00<?, ?it/s]"
     ]
    },
    {
     "name": "stdout",
     "output_type": "stream",
     "text": [
      "Train Labels shape is  (619, 66)\n",
      "Output dimensions: 66\n",
      "growing model size ...\n"
     ]
    },
    {
     "name": "stderr",
     "output_type": "stream",
     "text": [
      "100%|██████████| 1/1 [00:00<00:00,  1.48it/s]\n"
     ]
    },
    {
     "name": "stdout",
     "output_type": "stream",
     "text": [
      "Evaluating in individual mode on test set\n",
      "multilabel-indicator multilabel-indicator\n",
      "float32 float32\n",
      "(12914, 2) (12914, 2)\n",
      "Evaluating in combined mode on test set\n",
      "multilabel-indicator multilabel-indicator\n",
      "float32 float32\n",
      "(12914, 66) (12914, 66)\n",
      "Training and Evaluating on task 34\n",
      "Train data shape is  (619, 120)\n",
      "Train Labels shape is  (619, 2)\n",
      "Classes trained are: 66 to 68\n",
      "Samples with all negative labels 1\n",
      "Augmenting class labels...\n"
     ]
    },
    {
     "name": "stderr",
     "output_type": "stream",
     "text": [
      "  0%|          | 0/1 [00:00<?, ?it/s]"
     ]
    },
    {
     "name": "stdout",
     "output_type": "stream",
     "text": [
      "Train Labels shape is  (619, 68)\n",
      "Output dimensions: 68\n",
      "growing model size ...\n"
     ]
    },
    {
     "name": "stderr",
     "output_type": "stream",
     "text": [
      "100%|██████████| 1/1 [00:00<00:00,  1.67it/s]\n"
     ]
    },
    {
     "name": "stdout",
     "output_type": "stream",
     "text": [
      "Evaluating in individual mode on test set\n",
      "multilabel-indicator multilabel-indicator\n",
      "float32 float32\n",
      "(12914, 2) (12914, 2)\n",
      "Evaluating in combined mode on test set\n",
      "multilabel-indicator multilabel-indicator\n",
      "float32 float32\n",
      "(12914, 68) (12914, 68)\n",
      "Training and Evaluating on task 35\n",
      "Train data shape is  (619, 120)\n",
      "Train Labels shape is  (619, 2)\n",
      "Classes trained are: 68 to 70\n",
      "Samples with all negative labels 0\n",
      "Augmenting class labels...\n"
     ]
    },
    {
     "name": "stderr",
     "output_type": "stream",
     "text": [
      "  0%|          | 0/1 [00:00<?, ?it/s]"
     ]
    },
    {
     "name": "stdout",
     "output_type": "stream",
     "text": [
      "Train Labels shape is  (619, 70)\n",
      "Output dimensions: 70\n",
      "growing model size ...\n"
     ]
    },
    {
     "name": "stderr",
     "output_type": "stream",
     "text": [
      "100%|██████████| 1/1 [00:00<00:00,  1.68it/s]\n"
     ]
    },
    {
     "name": "stdout",
     "output_type": "stream",
     "text": [
      "Evaluating in individual mode on test set\n",
      "multilabel-indicator multilabel-indicator\n",
      "float32 float32\n",
      "(12914, 2) (12914, 2)\n",
      "Evaluating in combined mode on test set\n",
      "multilabel-indicator multilabel-indicator\n",
      "float32 float32\n",
      "(12914, 70) (12914, 70)\n",
      "Training and Evaluating on task 36\n",
      "Train data shape is  (619, 120)\n",
      "Train Labels shape is  (619, 2)\n",
      "Classes trained are: 70 to 72\n",
      "Samples with all negative labels 0\n",
      "Augmenting class labels...\n"
     ]
    },
    {
     "name": "stderr",
     "output_type": "stream",
     "text": [
      "  0%|          | 0/1 [00:00<?, ?it/s]"
     ]
    },
    {
     "name": "stdout",
     "output_type": "stream",
     "text": [
      "Train Labels shape is  (619, 72)\n",
      "Output dimensions: 72\n",
      "growing model size ...\n"
     ]
    },
    {
     "name": "stderr",
     "output_type": "stream",
     "text": [
      "100%|██████████| 1/1 [00:00<00:00,  1.74it/s]\n"
     ]
    },
    {
     "name": "stdout",
     "output_type": "stream",
     "text": [
      "Evaluating in individual mode on test set\n",
      "multilabel-indicator multilabel-indicator\n",
      "float32 float32\n",
      "(12914, 2) (12914, 2)\n",
      "Evaluating in combined mode on test set\n",
      "multilabel-indicator multilabel-indicator\n",
      "float32 float32\n",
      "(12914, 72) (12914, 72)\n",
      "Training and Evaluating on task 37\n",
      "Train data shape is  (619, 120)\n",
      "Train Labels shape is  (619, 2)\n",
      "Classes trained are: 72 to 74\n",
      "Samples with all negative labels 0\n",
      "Augmenting class labels...\n"
     ]
    },
    {
     "name": "stderr",
     "output_type": "stream",
     "text": [
      "  0%|          | 0/1 [00:00<?, ?it/s]"
     ]
    },
    {
     "name": "stdout",
     "output_type": "stream",
     "text": [
      "Train Labels shape is  (619, 74)\n",
      "Output dimensions: 74\n",
      "growing model size ...\n"
     ]
    },
    {
     "name": "stderr",
     "output_type": "stream",
     "text": [
      "100%|██████████| 1/1 [00:00<00:00,  1.57it/s]\n"
     ]
    },
    {
     "name": "stdout",
     "output_type": "stream",
     "text": [
      "Evaluating in individual mode on test set\n",
      "multilabel-indicator multilabel-indicator\n",
      "float32 float32\n",
      "(12914, 2) (12914, 2)\n",
      "Evaluating in combined mode on test set\n",
      "multilabel-indicator multilabel-indicator\n",
      "float32 float32\n",
      "(12914, 74) (12914, 74)\n",
      "Training and Evaluating on task 38\n",
      "Train data shape is  (619, 120)\n",
      "Train Labels shape is  (619, 2)\n",
      "Classes trained are: 74 to 76\n",
      "Samples with all negative labels 1\n",
      "Augmenting class labels...\n"
     ]
    },
    {
     "name": "stderr",
     "output_type": "stream",
     "text": [
      "  0%|          | 0/1 [00:00<?, ?it/s]"
     ]
    },
    {
     "name": "stdout",
     "output_type": "stream",
     "text": [
      "Train Labels shape is  (619, 76)\n",
      "Output dimensions: 76\n",
      "growing model size ...\n"
     ]
    },
    {
     "name": "stderr",
     "output_type": "stream",
     "text": [
      "100%|██████████| 1/1 [00:00<00:00,  1.73it/s]\n"
     ]
    },
    {
     "name": "stdout",
     "output_type": "stream",
     "text": [
      "Evaluating in individual mode on test set\n",
      "multilabel-indicator multilabel-indicator\n",
      "float32 float32\n",
      "(12914, 2) (12914, 2)\n",
      "Evaluating in combined mode on test set\n",
      "multilabel-indicator multilabel-indicator\n",
      "float32 float32\n",
      "(12914, 76) (12914, 76)\n",
      "Training and Evaluating on task 39\n",
      "Train data shape is  (619, 120)\n",
      "Train Labels shape is  (619, 2)\n",
      "Classes trained are: 76 to 78\n",
      "Samples with all negative labels 0\n",
      "Augmenting class labels...\n"
     ]
    },
    {
     "name": "stderr",
     "output_type": "stream",
     "text": [
      "  0%|          | 0/1 [00:00<?, ?it/s]"
     ]
    },
    {
     "name": "stdout",
     "output_type": "stream",
     "text": [
      "Train Labels shape is  (619, 78)\n",
      "Output dimensions: 78\n",
      "growing model size ...\n"
     ]
    },
    {
     "name": "stderr",
     "output_type": "stream",
     "text": [
      "100%|██████████| 1/1 [00:00<00:00,  1.55it/s]\n"
     ]
    },
    {
     "name": "stdout",
     "output_type": "stream",
     "text": [
      "Evaluating in individual mode on test set\n",
      "multilabel-indicator multilabel-indicator\n",
      "float32 float32\n",
      "(12914, 2) (12914, 2)\n",
      "Evaluating in combined mode on test set\n",
      "multilabel-indicator multilabel-indicator\n",
      "float32 float32\n",
      "(12914, 78) (12914, 78)\n",
      "Training and Evaluating on task 40\n",
      "Train data shape is  (619, 120)\n",
      "Train Labels shape is  (619, 2)\n",
      "Classes trained are: 78 to 80\n",
      "Samples with all negative labels 1\n",
      "Augmenting class labels...\n"
     ]
    },
    {
     "name": "stderr",
     "output_type": "stream",
     "text": [
      "  0%|          | 0/1 [00:00<?, ?it/s]"
     ]
    },
    {
     "name": "stdout",
     "output_type": "stream",
     "text": [
      "Train Labels shape is  (619, 80)\n",
      "Output dimensions: 80\n",
      "growing model size ...\n"
     ]
    },
    {
     "name": "stderr",
     "output_type": "stream",
     "text": [
      "100%|██████████| 1/1 [00:00<00:00,  1.68it/s]\n"
     ]
    },
    {
     "name": "stdout",
     "output_type": "stream",
     "text": [
      "Evaluating in individual mode on test set\n",
      "multilabel-indicator multilabel-indicator\n",
      "float32 float32\n",
      "(12914, 2) (12914, 2)\n",
      "Evaluating in combined mode on test set\n",
      "multilabel-indicator multilabel-indicator\n",
      "float32 float32\n",
      "(12914, 80) (12914, 80)\n",
      "Training and Evaluating on task 41\n",
      "Train data shape is  (619, 120)\n",
      "Train Labels shape is  (619, 2)\n",
      "Classes trained are: 80 to 82\n",
      "Samples with all negative labels 1\n",
      "Augmenting class labels...\n"
     ]
    },
    {
     "name": "stderr",
     "output_type": "stream",
     "text": [
      "  0%|          | 0/1 [00:00<?, ?it/s]"
     ]
    },
    {
     "name": "stdout",
     "output_type": "stream",
     "text": [
      "Train Labels shape is  (619, 82)\n",
      "Output dimensions: 82\n",
      "growing model size ...\n"
     ]
    },
    {
     "name": "stderr",
     "output_type": "stream",
     "text": [
      "100%|██████████| 1/1 [00:00<00:00,  1.72it/s]\n"
     ]
    },
    {
     "name": "stdout",
     "output_type": "stream",
     "text": [
      "Evaluating in individual mode on test set\n",
      "multilabel-indicator multilabel-indicator\n",
      "float32 float32\n",
      "(12914, 2) (12914, 2)\n",
      "Evaluating in combined mode on test set\n",
      "multilabel-indicator multilabel-indicator\n",
      "float32 float32\n",
      "(12914, 82) (12914, 82)\n",
      "Training and Evaluating on task 42\n",
      "Train data shape is  (619, 120)\n",
      "Train Labels shape is  (619, 2)\n",
      "Classes trained are: 82 to 84\n",
      "Samples with all negative labels 0\n",
      "Augmenting class labels...\n"
     ]
    },
    {
     "name": "stderr",
     "output_type": "stream",
     "text": [
      "  0%|          | 0/1 [00:00<?, ?it/s]"
     ]
    },
    {
     "name": "stdout",
     "output_type": "stream",
     "text": [
      "Train Labels shape is  (619, 84)\n",
      "Output dimensions: 84\n",
      "growing model size ...\n"
     ]
    },
    {
     "name": "stderr",
     "output_type": "stream",
     "text": [
      "100%|██████████| 1/1 [00:00<00:00,  1.68it/s]\n"
     ]
    },
    {
     "name": "stdout",
     "output_type": "stream",
     "text": [
      "Evaluating in individual mode on test set\n",
      "multilabel-indicator multilabel-indicator\n",
      "float32 float32\n",
      "(12914, 2) (12914, 2)\n",
      "Evaluating in combined mode on test set\n",
      "multilabel-indicator multilabel-indicator\n",
      "float32 float32\n",
      "(12914, 84) (12914, 84)\n",
      "Training and Evaluating on task 43\n",
      "Train data shape is  (619, 120)\n",
      "Train Labels shape is  (619, 2)\n",
      "Classes trained are: 84 to 86\n",
      "Samples with all negative labels 1\n",
      "Augmenting class labels...\n"
     ]
    },
    {
     "name": "stderr",
     "output_type": "stream",
     "text": [
      "  0%|          | 0/1 [00:00<?, ?it/s]"
     ]
    },
    {
     "name": "stdout",
     "output_type": "stream",
     "text": [
      "Train Labels shape is  (619, 86)\n",
      "Output dimensions: 86\n",
      "growing model size ...\n"
     ]
    },
    {
     "name": "stderr",
     "output_type": "stream",
     "text": [
      "100%|██████████| 1/1 [00:00<00:00,  1.70it/s]\n"
     ]
    },
    {
     "name": "stdout",
     "output_type": "stream",
     "text": [
      "Evaluating in individual mode on test set\n",
      "multilabel-indicator multilabel-indicator\n",
      "float32 float32\n",
      "(12914, 2) (12914, 2)\n",
      "Evaluating in combined mode on test set\n",
      "multilabel-indicator multilabel-indicator\n",
      "float32 float32\n",
      "(12914, 86) (12914, 86)\n",
      "Training and Evaluating on task 44\n",
      "Train data shape is  (619, 120)\n",
      "Train Labels shape is  (619, 2)\n",
      "Classes trained are: 86 to 88\n",
      "Samples with all negative labels 1\n",
      "Augmenting class labels...\n"
     ]
    },
    {
     "name": "stderr",
     "output_type": "stream",
     "text": [
      "  0%|          | 0/1 [00:00<?, ?it/s]"
     ]
    },
    {
     "name": "stdout",
     "output_type": "stream",
     "text": [
      "Train Labels shape is  (619, 88)\n",
      "Output dimensions: 88\n",
      "growing model size ...\n"
     ]
    },
    {
     "name": "stderr",
     "output_type": "stream",
     "text": [
      "100%|██████████| 1/1 [00:00<00:00,  1.76it/s]\n"
     ]
    },
    {
     "name": "stdout",
     "output_type": "stream",
     "text": [
      "Evaluating in individual mode on test set\n",
      "multilabel-indicator multilabel-indicator\n",
      "float32 float32\n",
      "(12914, 2) (12914, 2)\n",
      "Evaluating in combined mode on test set\n",
      "multilabel-indicator multilabel-indicator\n",
      "float32 float32\n",
      "(12914, 88) (12914, 88)\n",
      "Training and Evaluating on task 45\n",
      "Train data shape is  (619, 120)\n",
      "Train Labels shape is  (619, 2)\n",
      "Classes trained are: 88 to 90\n",
      "Samples with all negative labels 0\n",
      "Augmenting class labels...\n"
     ]
    },
    {
     "name": "stderr",
     "output_type": "stream",
     "text": [
      "  0%|          | 0/1 [00:00<?, ?it/s]"
     ]
    },
    {
     "name": "stdout",
     "output_type": "stream",
     "text": [
      "Train Labels shape is  (619, 90)\n",
      "Output dimensions: 90\n",
      "growing model size ...\n"
     ]
    },
    {
     "name": "stderr",
     "output_type": "stream",
     "text": [
      "100%|██████████| 1/1 [00:00<00:00,  1.84it/s]\n"
     ]
    },
    {
     "name": "stdout",
     "output_type": "stream",
     "text": [
      "Evaluating in individual mode on test set\n",
      "multilabel-indicator multilabel-indicator\n",
      "float32 float32\n",
      "(12914, 2) (12914, 2)\n",
      "Evaluating in combined mode on test set\n",
      "multilabel-indicator multilabel-indicator\n",
      "float32 float32\n",
      "(12914, 90) (12914, 90)\n",
      "Training and Evaluating on task 46\n",
      "Train data shape is  (619, 120)\n",
      "Train Labels shape is  (619, 2)\n",
      "Classes trained are: 90 to 92\n",
      "Samples with all negative labels 1\n",
      "Augmenting class labels...\n"
     ]
    },
    {
     "name": "stderr",
     "output_type": "stream",
     "text": [
      "  0%|          | 0/1 [00:00<?, ?it/s]"
     ]
    },
    {
     "name": "stdout",
     "output_type": "stream",
     "text": [
      "Train Labels shape is  (619, 92)\n",
      "Output dimensions: 92\n",
      "growing model size ...\n"
     ]
    },
    {
     "name": "stderr",
     "output_type": "stream",
     "text": [
      "100%|██████████| 1/1 [00:00<00:00,  1.61it/s]\n"
     ]
    },
    {
     "name": "stdout",
     "output_type": "stream",
     "text": [
      "Evaluating in individual mode on test set\n",
      "multilabel-indicator multilabel-indicator\n",
      "float32 float32\n",
      "(12914, 2) (12914, 2)\n",
      "Evaluating in combined mode on test set\n",
      "multilabel-indicator multilabel-indicator\n",
      "float32 float32\n",
      "(12914, 92) (12914, 92)\n",
      "Training and Evaluating on task 47\n",
      "Train data shape is  (619, 120)\n",
      "Train Labels shape is  (619, 2)\n",
      "Classes trained are: 92 to 94\n",
      "Samples with all negative labels 0\n",
      "Augmenting class labels...\n"
     ]
    },
    {
     "name": "stderr",
     "output_type": "stream",
     "text": [
      "  0%|          | 0/1 [00:00<?, ?it/s]"
     ]
    },
    {
     "name": "stdout",
     "output_type": "stream",
     "text": [
      "Train Labels shape is  (619, 94)\n",
      "Output dimensions: 94\n",
      "growing model size ...\n"
     ]
    },
    {
     "name": "stderr",
     "output_type": "stream",
     "text": [
      "100%|██████████| 1/1 [00:00<00:00,  1.41it/s]\n"
     ]
    },
    {
     "name": "stdout",
     "output_type": "stream",
     "text": [
      "Evaluating in individual mode on test set\n",
      "multilabel-indicator multilabel-indicator\n",
      "float32 float32\n",
      "(12914, 2) (12914, 2)\n",
      "Evaluating in combined mode on test set\n",
      "multilabel-indicator multilabel-indicator\n",
      "float32 float32\n",
      "(12914, 94) (12914, 94)\n",
      "Training and Evaluating on task 48\n",
      "Train data shape is  (619, 120)\n",
      "Train Labels shape is  (619, 2)\n",
      "Classes trained are: 94 to 96\n",
      "Samples with all negative labels 1\n",
      "Augmenting class labels...\n"
     ]
    },
    {
     "name": "stderr",
     "output_type": "stream",
     "text": [
      "  0%|          | 0/1 [00:00<?, ?it/s]"
     ]
    },
    {
     "name": "stdout",
     "output_type": "stream",
     "text": [
      "Train Labels shape is  (619, 96)\n",
      "Output dimensions: 96\n",
      "growing model size ...\n"
     ]
    },
    {
     "name": "stderr",
     "output_type": "stream",
     "text": [
      "100%|██████████| 1/1 [00:00<00:00,  1.57it/s]\n"
     ]
    },
    {
     "name": "stdout",
     "output_type": "stream",
     "text": [
      "Evaluating in individual mode on test set\n",
      "multilabel-indicator multilabel-indicator\n",
      "float32 float32\n",
      "(12914, 2) (12914, 2)\n",
      "Evaluating in combined mode on test set\n",
      "multilabel-indicator multilabel-indicator\n",
      "float32 float32\n",
      "(12914, 96) (12914, 96)\n",
      "Training and Evaluating on task 49\n",
      "Train data shape is  (619, 120)\n",
      "Train Labels shape is  (619, 2)\n",
      "Classes trained are: 96 to 98\n",
      "Samples with all negative labels 1\n",
      "Augmenting class labels...\n"
     ]
    },
    {
     "name": "stderr",
     "output_type": "stream",
     "text": [
      "  0%|          | 0/1 [00:00<?, ?it/s]"
     ]
    },
    {
     "name": "stdout",
     "output_type": "stream",
     "text": [
      "Train Labels shape is  (619, 98)\n",
      "Output dimensions: 98\n",
      "growing model size ...\n"
     ]
    },
    {
     "name": "stderr",
     "output_type": "stream",
     "text": [
      "100%|██████████| 1/1 [00:00<00:00,  1.57it/s]\n"
     ]
    },
    {
     "name": "stdout",
     "output_type": "stream",
     "text": [
      "Evaluating in individual mode on test set\n",
      "multilabel-indicator multilabel-indicator\n",
      "float32 float32\n",
      "(12914, 2) (12914, 2)\n",
      "Evaluating in combined mode on test set\n",
      "multilabel-indicator multilabel-indicator\n",
      "float32 float32\n",
      "(12914, 98) (12914, 98)\n",
      "Training and Evaluating on task 50\n",
      "Train data shape is  (662, 120)\n",
      "Train Labels shape is  (662, 3)\n",
      "Classes trained are: 98 to 101\n",
      "Samples with all negative labels 2\n",
      "Augmenting class labels...\n"
     ]
    },
    {
     "name": "stderr",
     "output_type": "stream",
     "text": [
      "  0%|          | 0/1 [00:00<?, ?it/s]"
     ]
    },
    {
     "name": "stdout",
     "output_type": "stream",
     "text": [
      "Train Labels shape is  (662, 101)\n",
      "Output dimensions: 101\n",
      "growing model size ...\n"
     ]
    },
    {
     "name": "stderr",
     "output_type": "stream",
     "text": [
      "100%|██████████| 1/1 [00:00<00:00,  1.50it/s]\n"
     ]
    },
    {
     "name": "stdout",
     "output_type": "stream",
     "text": [
      "Evaluating in individual mode on test set\n",
      "multilabel-indicator multilabel-indicator\n",
      "float32 float32\n",
      "(12914, 3) (12914, 3)\n",
      "Evaluating in combined mode on test set\n",
      "multilabel-indicator multilabel-indicator\n",
      "float32 float32\n",
      "(12914, 101) (12914, 101)\n",
      "Evaluating in individual mode on test set\n",
      "|                     |          0 |           1 |          2 |          3 |          4 |          5 |          6 |           7 |         8 |          9 |         10 |         11 |          12 |         13 |         14 |         15 |         16 |         17 |         18 |         19 |         20 |         21 |         22 |         23 |          24 |        25 |          26 |        27 |        28 |         29 |         30 |          31 |         32 |       33 |         34 |         35 |         36 |          37 |        38 |        39 |         40 |        41 |        42 |         43 |         44 |          45 |         46 |        47 |       48 |          49 |\n",
      "|:--------------------|-----------:|------------:|-----------:|-----------:|-----------:|-----------:|-----------:|------------:|----------:|-----------:|-----------:|-----------:|------------:|-----------:|-----------:|-----------:|-----------:|-----------:|-----------:|-----------:|-----------:|-----------:|-----------:|-----------:|------------:|----------:|------------:|----------:|----------:|-----------:|-----------:|------------:|-----------:|---------:|-----------:|-----------:|-----------:|------------:|----------:|----------:|-----------:|----------:|----------:|-----------:|-----------:|------------:|-----------:|----------:|---------:|------------:|\n",
      "| hamming loss        | 0.00483971 | 0.0287672   | 0.993573   | 0.00201332 | 0.00135512 | 0.446918   | 0.500503   | 0.999458    | 0.0307031 | 0.00545919 | 0.493341   | 0.504995   | 0.580455    | 0.505304   | 0.498955   | 0.438129   | 0.806683   | 0.986875   | 0.00623354 | 0.00882763 | 0.00348459 | 0.959734   | 0.514442   | 0.00104538 | 0.998064    | 0.888842  | 0.499303    | 0.982074  | 0.942814  | 0.489159   | 0.499574   | 0.498916    | 0.682902   | 0.707875 | 0.516765   | 0.498722   | 0.499497   | 0.467438    | 0.0104538 | 0.0676011 | 0.00410407 | 0.0160291 | 0.0715115 | 0.997019   | 0.00406536 | 0.00735636  | 0.461127   | 0.519436  | 0.132918 | 0.343529    |\n",
      "| zero_one_loss       | 0.00967942 | 0.0573022   | 1          | 0.00402664 | 0.00271024 | 0.889345   | 0.99458    | 1           | 0.0614062 | 0.0109184  | 0.98459    | 0.997057   | 0.999845    | 0.996206   | 0.997909   | 0.874864   | 0.992334   | 1          | 0.0124671  | 0.0176553  | 0.00696918 | 0.999923   | 0.994115   | 0.00209075 | 1           | 0.997135  | 0.998529    | 0.999148  | 0.999381  | 0.976692   | 0.989856   | 0.99729     | 0.984435   | 0.908007 | 0.992256   | 0.995276   | 0.997754   | 0.934103    | 0.0209075 | 0.121341  | 0.00820815 | 0.0320582 | 0.143023  | 1          | 0.00813071 | 0.0145578   | 0.914666   | 0.960895  | 0.186851 | 1           |\n",
      "| one_error           | 0          | 0.000232306 | 0.987146   | 0          | 0          | 0.00449125 | 0.00642713 | 0.998916    | 0         | 0          | 0.00209075 | 0.0129317  | 0.161066    | 0.014403   | 0          | 0.00139384 | 0.621031   | 0.973749   | 0          | 0          | 0          | 0.919545   | 0.0347685  | 0          | 0.996128    | 0.780548  | 7.74353e-05 | 0.964999  | 0.886247  | 0.00162614 | 0.00929224 | 0.000542047 | 0.381369   | 0.507744 | 0.041273   | 0.00216819 | 0.00123897 | 0.000774353 | 0         | 0.0138609 | 0          | 0         | 0         | 0.994037   | 0          | 0.000154871 | 0.00758866 | 0.0779774 | 0.078984 | 0           |\n",
      "| micro av. jaccard   | 0          | 0           | 0.00642713 | 0          | 0          | 0.110983   | 0.00538586 | 0.000542047 | 0         | 0          | 0.0153775  | 0.0029812  | 0.000266738 | 0.00374046 | 0.00378788 | 0.1253     | 0.00639039 | 0.0131253  | 0          | 0          | 0          | 0.0402664  | 0.00568735 | 0          | 0.00193588  | 0.111158  | 0.00147116  | 0.0179263 | 0.057186  | 0.0232702  | 0.0100506  | 0.00270877  | 0.0126511  | 0.195007 | 0.0074366  | 0.00471334 | 0.00224285 | 0.0659188   | 0         | 0         | 0          | 0         | 0         | 0.00298126 | 0          | 0           | 0.0870765  | 0.0427399 | 0        | 0.000750807 |\n",
      "| macro av. jaccard   | 0          | 0           | 0.00642713 | 0          | 0          | 0.0557922  | 0.00271024 | 0.000542047 | 0         | 0          | 0.00770482 | 0.00150999 | 0.000154871 | 0.00189717 | 0.00189717 | 0.0627613  | 0.00518817 | 0.0131253  | 0          | 0          | 0          | 0.0402664  | 0.00294254 | 0          | 0.00193588  | 0.111158  | 0.000735636 | 0.0179263 | 0.057186  | 0.011654   | 0.00507201 | 0.00135512  | 0.00875019 | 0.171481 | 0.00387177 | 0.00236178 | 0.00112281 | 0.0329875   | 0         | 0         | 0          | 0         | 0         | 0.00298126 | 0          | 0           | 0.0439833  | 0.0231919 | 0        | 0.000258118 |\n",
      "| micro av. precision | 0          | 0           | 0.00642713 | 0          | 0          | 0.111584   | 0.00542047 | 0.000542047 | 0         | 0          | 0.0154096  | 0.00301998 | 0.000309741 | 0.00379433 | 0.00379433 | 0.125523   | 0.0103763  | 0.0131253  | 0          | 0          | 0          | 0.0402664  | 0.00588509 | 0          | 0.00193588  | 0.111158  | 0.00147127  | 0.0179263 | 0.057186  | 0.023308   | 0.010144   | 0.00271024  | 0.0175004  | 0.342961 | 0.00774353 | 0.00472356 | 0.00224562 | 0.0659749   | 0         | 0         | 0          | 0         | 0         | 0.00298126 | 0          | 0           | 0.0879665  | 0.0463838 | 0        | 0.000774353 |\n",
      "| macro av. precision | 0          | 0           | 0.00642713 | 0          | 0          | 0.0557922  | 0.00271024 | 0.000542047 | 0         | 0          | 0.00770482 | 0.00150999 | 0.000154871 | 0.00189717 | 0.00189717 | 0.0627613  | 0.00518817 | 0.0131253  | 0          | 0          | 0          | 0.0402664  | 0.00294254 | 0          | 0.00193588  | 0.111158  | 0.000735636 | 0.0179263 | 0.057186  | 0.011654   | 0.00507201 | 0.00135512  | 0.00875019 | 0.171481 | 0.00387177 | 0.00236178 | 0.00112281 | 0.0329875   | 0         | 0         | 0          | 0         | 0         | 0.00298126 | 0          | 0           | 0.0439833  | 0.0231919 | 0        | 0.000258118 |\n",
      "| micro av. recall    | 0          | 0           | 1          | 0          | 0          | 0.953673   | 0.457516   | 1           | 0         | 0          | 0.880531   | 0.188406   | 0.00191755  | 0.208511   | 0.690141   | 0.98601    | 0.0163634  | 1          | 0          | 0          | 0          | 1          | 0.144762   | 0          | 1           | 1         | 0.95        | 1         | 1         | 0.934783   | 0.521912   | 0.833333    | 0.0436631  | 0.311309 | 0.157978   | 0.685393   | 0.644444   | 0.987254    | 0         | 0         | 0          | 0         | 0         | 1          | 0          | 0           | 0.895899   | 0.352353  | 0        | 0.0240964   |\n",
      "| macro av. recall    | 0          | 0           | 1          | 0          | 0          | 0.5        | 0.5        | 1           | 0         | 0          | 0.5        | 0.5        | 0.5         | 0.5        | 0.5        | 0.5        | 0.5        | 1          | 0          | 0          | 0          | 1          | 0.5        | 0          | 1           | 1         | 0.5         | 1         | 1         | 0.5        | 0.5        | 0.5         | 0.5        | 0.5      | 0.5        | 0.5        | 0.5        | 0.5         | 0         | 0         | 0          | 0         | 0         | 1          | 0          | 0           | 0.5        | 0.5       | 0        | 0.333333    |\n",
      "| micro av. f1        | 0          | 0           | 0.0127722  | 0          | 0          | 0.199792   | 0.010714   | 0.00108351  | 0         | 0          | 0.0302892  | 0.00594467 | 0.000533333 | 0.00745304 | 0.00754717 | 0.222695   | 0.0126996  | 0.0259105  | 0          | 0          | 0          | 0.0774155  | 0.0113104  | 0          | 0.00386429  | 0.200077  | 0.00293799  | 0.0352212 | 0.108185  | 0.045482   | 0.0199013  | 0.0054029   | 0.0249862  | 0.32637  | 0.0147634  | 0.00938245 | 0.00447565 | 0.123684    | 0         | 0         | 0          | 0         | 0         | 0.0059448  | 0          | 0           | 0.160203   | 0.0819762 | 0        | 0.00150049  |\n",
      "| macro av. f1        | 0          | 0           | 0.0127616  | 0          | 0          | 0.100383   | 0.00539125 | 0.00108308  | 0         | 0          | 0.0151758  | 0.00301089 | 0.000309645 | 0.00377999 | 0.00377999 | 0.111524   | 0.0102698  | 0.0257893  | 0          | 0          | 0          | 0.0747911  | 0.00585065 | 0          | 0.00385852  | 0.185124  | 0.00146911  | 0.0351564 | 0.108059  | 0.0227771  | 0.0100422  | 0.00270291  | 0.0171994  | 0.255377 | 0.00768403 | 0.00470135 | 0.00224059 | 0.0618916   | 0         | 0         | 0          | 0         | 0         | 0.00593514 | 0          | 0           | 0.0808541  | 0.0443277 | 0        | 0.000515836 |\n",
      "| imb. av. f1         | 0.999477   | 0.984697    | 0.00559747 | 0.998916   | 0.999299   | 0.953144   | 0.458058   | 0.000193588 | 0.995894  | 0.994563   | 0.877251   | 0.19134    | 0.00231757  | 0.210926   | 0.68496    | 0.985494   | 0.0164066  | 0.00835371 | 0.997719   | 0.991205   | 0.996558   | 0.00370144 | 0.146055   | 0.999543   | 0.000494395 | 0.0197073 | 0.909154    | 0.0160278 | 0.0558842 | 0.932166   | 0.521743   | 0.818231    | 0.0437687  | 0.311307 | 0.159002   | 0.681347   | 0.638319   | 0.986202    | 0.996436  | 0.963871  | 0.996219   | 0.990263  | 0.997926  | 0.00138894 | 0.996485   | 0.992802    | 0.895337   | 0.352504  | 0.876519 | 0.100538    |\n",
      "Evaluating in combined mode on test set\n",
      "|                     |          0 |         1 |          2 |          3 |          4 |         5 |          6 |          7 |          8 |          9 |        10 |         11 |         12 |         13 |         14 |         15 |         16 |        17 |         18 |         19 |         20 |         21 |         22 |         23 |         24 |        25 |        26 |        27 |        28 |        29 |        30 |        31 |        32 |        33 |        34 |        35 |        36 |        37 |        38 |        39 |        40 |        41 |        42 |        43 |        44 |        45 |        46 |        47 |        48 |        49 |\n",
      "|:--------------------|-----------:|----------:|-----------:|-----------:|-----------:|----------:|-----------:|-----------:|-----------:|-----------:|----------:|-----------:|-----------:|-----------:|-----------:|-----------:|-----------:|----------:|-----------:|-----------:|-----------:|-----------:|-----------:|-----------:|-----------:|----------:|----------:|----------:|----------:|----------:|----------:|----------:|----------:|----------:|----------:|----------:|----------:|----------:|----------:|----------:|----------:|----------:|----------:|----------:|----------:|----------:|----------:|----------:|----------:|----------:|\n",
      "| hamming loss        | 0.00483971 | 0.0168035 | 0.342393   | 0.257298   | 0.20611    | 0.246244  | 0.282567   | 0.372178   | 0.334237   | 0.301359   | 0.318812  | 0.334327   | 0.35326    | 0.36412    | 0.373109   | 0.377173   | 0.402438   | 0.434907  | 0.412345   | 0.392169   | 0.373661   | 0.4003     | 0.405263   | 0.388421   | 0.412806   | 0.431115  | 0.433641  | 0.453228  | 0.47011   | 0.470745  | 0.471675  | 0.472526  | 0.478901  | 0.485636  | 0.486525  | 0.486864  | 0.487205  | 0.486685  | 0.474474  | 0.464302  | 0.453078  | 0.442672  | 0.43404   | 0.446835  | 0.436996  | 0.427656  | 0.428368  | 0.430265  | 0.424197  | 0.421801  |\n",
      "| zero_one_loss       | 0.00967942 | 0.0669816 | 1          | 1          | 1          | 1         | 1          | 1          | 1          | 1          | 1         | 1          | 1          | 1          | 1          | 1          | 1          | 1         | 1          | 1          | 1          | 1          | 1          | 1          | 1          | 1         | 1         | 1         | 1         | 1         | 1         | 1         | 1         | 1         | 1         | 1         | 1         | 1         | 1         | 1         | 1         | 1         | 1         | 1         | 1         | 1         | 1         | 1         | 1         | 1         |\n",
      "| one_error           | 0          | 0         | 0          | 0          | 0          | 0         | 0          | 0          | 0          | 0          | 0         | 0          | 0          | 0          | 0          | 0          | 0          | 0         | 0          | 0          | 0          | 0          | 0          | 0          | 0          | 0         | 0         | 0         | 0         | 0         | 0         | 0         | 0         | 0         | 0         | 0         | 0         | 0         | 0         | 0         | 0         | 0         | 0         | 0         | 0         | 0         | 0         | 0         | 0         | 0         |\n",
      "| micro av. jaccard   | 0          | 0         | 0.00621816 | 0.00620607 | 0.00619796 | 0.0404104 | 0.031783   | 0.0215162  | 0.0213013  | 0.0212635  | 0.0204397 | 0.0182759  | 0.0160355  | 0.0148303  | 0.0138558  | 0.022894   | 0.0209766  | 0.0199937 | 0.0199781  | 0.0199561  | 0.0199474  | 0.0222034  | 0.0213062  | 0.0213038  | 0.0194637  | 0.0274198 | 0.0263408 | 0.0256948 | 0.0279401 | 0.0277791 | 0.0271839 | 0.0263955 | 0.0258095 | 0.0345095 | 0.0337096 | 0.0329079 | 0.0320836 | 0.032969  | 0.032951  | 0.032835  | 0.032828  | 0.0328006 | 0.032679  | 0.0312157 | 0.0312094 | 0.0311981 | 0.0325544 | 0.0328132 | 0.0326102 | 0.0318635 |\n",
      "| macro av. jaccard   | 0          | 0         | 0.00214238 | 0.00160678 | 0.00128543 | 0.0103699 | 0.00927565 | 0.00818395 | 0.00727462 | 0.00654716 | 0.0066524 | 0.00622387 | 0.00575702 | 0.00548132 | 0.00524237 | 0.00883731 | 0.00862265 | 0.0088728 | 0.00840581 | 0.00798552 | 0.00760526 | 0.00908985 | 0.00882258 | 0.00845497 | 0.00819421 | 0.0121544 | 0.0117315 | 0.0119527 | 0.0135125 | 0.0134505 | 0.0131802 | 0.0128107 | 0.0126877 | 0.017358  | 0.0169727 | 0.0165669 | 0.0161495 | 0.0165926 | 0.0161671 | 0.0157629 | 0.0153785 | 0.0150123 | 0.0146632 | 0.0143977 | 0.0140777 | 0.0137717 | 0.0144145 | 0.0145974 | 0.0142995 | 0.0138824 |\n",
      "| micro av. precision | 0          | 0         | 0.00642713 | 0.00642713 | 0.00642713 | 0.0414795 | 0.0324648  | 0.0218239  | 0.0218239  | 0.0218239  | 0.0209075 | 0.0186716  | 0.0166314  | 0.0153477  | 0.0142974  | 0.0235662  | 0.0225516  | 0.0212947 | 0.0212947  | 0.0212947  | 0.0212947  | 0.0235267  | 0.0225466  | 0.0225466  | 0.0204855  | 0.0287285 | 0.0275434 | 0.026774  | 0.0290268 | 0.0288225 | 0.0281785 | 0.0273295 | 0.0270124 | 0.0368858 | 0.0360027 | 0.0350828 | 0.0341446 | 0.0350287 | 0.0350287 | 0.0350287 | 0.0350287 | 0.0350287 | 0.0350287 | 0.033342  | 0.033342  | 0.033342  | 0.0347427 | 0.0350337 | 0.0350337 | 0.0341981 |\n",
      "| macro av. precision | 0          | 0         | 0.00214238 | 0.00160678 | 0.00128543 | 0.0103699 | 0.00927565 | 0.00818395 | 0.00727462 | 0.00654716 | 0.0066524 | 0.00622387 | 0.00575702 | 0.00548132 | 0.00524237 | 0.00883731 | 0.00862265 | 0.0088728 | 0.00840581 | 0.00798552 | 0.00760526 | 0.00908985 | 0.00882258 | 0.00845497 | 0.00819421 | 0.0121544 | 0.0117315 | 0.0119527 | 0.0135125 | 0.0134505 | 0.0131802 | 0.0128107 | 0.0126877 | 0.017358  | 0.0169727 | 0.0165669 | 0.0161495 | 0.0165926 | 0.0161671 | 0.0157629 | 0.0153785 | 0.0150123 | 0.0146632 | 0.0143977 | 0.0140777 | 0.0137717 | 0.0144145 | 0.0145974 | 0.0142995 | 0.0138824 |\n",
      "| micro av. recall    | 0          | 0         | 0.160542   | 0.152855   | 0.148082   | 0.610562  | 0.602154   | 0.604144   | 0.470768   | 0.452987   | 0.477393  | 0.463034   | 0.309181   | 0.305534   | 0.309698   | 0.445257   | 0.23098    | 0.246563  | 0.244213   | 0.24096    | 0.2397     | 0.283029   | 0.279163   | 0.278762   | 0.280675   | 0.375748  | 0.376276  | 0.389282  | 0.427371  | 0.434178  | 0.435086  | 0.435774  | 0.366912  | 0.34881   | 0.346085  | 0.346765  | 0.347066  | 0.359254  | 0.357127  | 0.343957  | 0.343189  | 0.340221  | 0.32758   | 0.32862   | 0.327929  | 0.326685  | 0.34074   | 0.341112  | 0.32038   | 0.318219  |\n",
      "| macro av. recall    | 0          | 0         | 0.333333   | 0.25       | 0.2        | 0.25      | 0.285714   | 0.375      | 0.333333   | 0.3        | 0.318182  | 0.333333   | 0.346154   | 0.357143   | 0.366667   | 0.375      | 0.382353   | 0.416667  | 0.394737   | 0.375      | 0.357143   | 0.386364   | 0.391304   | 0.375      | 0.4        | 0.423077  | 0.425926  | 0.446429  | 0.465517  | 0.466667  | 0.467742  | 0.46875   | 0.469697  | 0.470588  | 0.471429  | 0.472222  | 0.472973  | 0.473684  | 0.461538  | 0.45      | 0.439024  | 0.428571  | 0.418605  | 0.431818  | 0.422222  | 0.413043  | 0.414894  | 0.416667  | 0.408163  | 0.405941  |\n",
      "| micro av. f1        | 0          | 0         | 0.0123595  | 0.0123356  | 0.0123196  | 0.0776816 | 0.061608   | 0.042126   | 0.0417139  | 0.0416415  | 0.0400606 | 0.0358957  | 0.0315649  | 0.0292272  | 0.0273329  | 0.0447631  | 0.0410912  | 0.0392036 | 0.0391736  | 0.0391312  | 0.0391145  | 0.0434422  | 0.0417234  | 0.0417189  | 0.0381841  | 0.0533761 | 0.0513295 | 0.0501022 | 0.0543614 | 0.0540566 | 0.0529289 | 0.0514334 | 0.0503203 | 0.0667166 | 0.0652207 | 0.063719  | 0.0621726 | 0.0638335 | 0.0637997 | 0.0635822 | 0.0635691 | 0.0635178 | 0.0632898 | 0.0605415 | 0.0605297 | 0.0605085 | 0.063056  | 0.0635414 | 0.0631607 | 0.0617591 |\n",
      "| macro av. f1        | 0          | 0         | 0.00425386 | 0.0031904  | 0.00255232 | 0.0188575 | 0.0169337  | 0.0149524  | 0.013291   | 0.0119619  | 0.0122541 | 0.0114838  | 0.0106243  | 0.0101354  | 0.00971169 | 0.016075   | 0.0157335  | 0.0162921 | 0.0154347  | 0.0146629  | 0.0139647  | 0.0167295  | 0.0162565  | 0.0155792  | 0.0151103  | 0.0216493 | 0.0209019 | 0.021411  | 0.0243989 | 0.0243448 | 0.0238834 | 0.0232215 | 0.023039  | 0.0298725 | 0.0292386 | 0.028557  | 0.0278457 | 0.0287417 | 0.0280047 | 0.0273046 | 0.0266386 | 0.0260044 | 0.0253996 | 0.0249572 | 0.0244026 | 0.0238721 | 0.0250845 | 0.0254854 | 0.0249653 | 0.0242391 |\n",
      "| imb. av. f1         | 0.999477   | 0.998923  | 0.907182   | 0.935705   | 0.955857   | 0.955795  | 0.936445   | 0.504973   | 0.519204   | 0.529434   | 0.539956  | 0.532127   | 0.464781   | 0.460765   | 0.469308   | 0.482084   | 0.48004    | 0.475044  | 0.494115   | 0.49889    | 0.510654   | 0.499732   | 0.496927   | 0.562956   | 0.50149    | 0.499973  | 0.574096  | 0.572334  | 0.571866  | 0.577538  | 0.577255  | 0.588527  | 0.58776   | 0.587732  | 0.586194  | 0.587639  | 0.589003  | 0.598566  | 0.603329  | 0.603762  | 0.608141  | 0.609811  | 0.617392  | 0.600227  | 0.604683  | 0.606826  | 0.607454  | 0.607284  | 0.607371  | 0.59445   |\n",
      "File saved to ./checkpoints_new/mediamill_0_SI_asy.pkl\n",
      "Number of Tasks: 50\n",
      "Forgetting in task 1: first time imb. av. f1 = 0.9995, after all tasks imb. av. f1 = 0.9995\n",
      "Forgetting in task 2: first time imb. av. f1 = 0.8417, after all tasks imb. av. f1 = 0.9995\n",
      "Forgetting in task 3: first time imb. av. f1 = 0.6786, after all tasks imb. av. f1 = 0.9995\n",
      "Forgetting in task 4: first time imb. av. f1 = 0.9989, after all tasks imb. av. f1 = 0.9995\n",
      "Forgetting in task 5: first time imb. av. f1 = 0.0007, after all tasks imb. av. f1 = 0.9995\n",
      "Forgetting in task 6: first time imb. av. f1 = 0.9896, after all tasks imb. av. f1 = 0.9995\n",
      "Forgetting in task 7: first time imb. av. f1 = 0.0059, after all tasks imb. av. f1 = 0.9995\n",
      "Forgetting in task 8: first time imb. av. f1 = 0.0002, after all tasks imb. av. f1 = 0.9995\n",
      "Forgetting in task 9: first time imb. av. f1 = 0.9649, after all tasks imb. av. f1 = 0.9995\n",
      "Forgetting in task 10: first time imb. av. f1 = 0.9946, after all tasks imb. av. f1 = 0.9995\n",
      "Forgetting in task 11: first time imb. av. f1 = 0.1227, after all tasks imb. av. f1 = 0.9995\n",
      "Forgetting in task 12: first time imb. av. f1 = 0.9951, after all tasks imb. av. f1 = 0.9995\n",
      "Forgetting in task 13: first time imb. av. f1 = 0.9993, after all tasks imb. av. f1 = 0.9995\n",
      "Forgetting in task 14: first time imb. av. f1 = 0.0060, after all tasks imb. av. f1 = 0.9995\n",
      "Forgetting in task 15: first time imb. av. f1 = 0.6850, after all tasks imb. av. f1 = 0.9995\n",
      "Forgetting in task 16: first time imb. av. f1 = 0.0145, after all tasks imb. av. f1 = 0.9995\n",
      "Forgetting in task 17: first time imb. av. f1 = 0.0164, after all tasks imb. av. f1 = 0.9995\n",
      "Forgetting in task 18: first time imb. av. f1 = 0.8006, after all tasks imb. av. f1 = 0.9995\n",
      "Forgetting in task 19: first time imb. av. f1 = 0.1042, after all tasks imb. av. f1 = 0.9995\n",
      "Forgetting in task 20: first time imb. av. f1 = 0.5304, after all tasks imb. av. f1 = 0.9995\n",
      "Forgetting in task 21: first time imb. av. f1 = 0.0034, after all tasks imb. av. f1 = 0.9995\n",
      "Forgetting in task 22: first time imb. av. f1 = 0.0037, after all tasks imb. av. f1 = 0.9995\n",
      "Forgetting in task 23: first time imb. av. f1 = 0.0101, after all tasks imb. av. f1 = 0.9995\n",
      "Forgetting in task 24: first time imb. av. f1 = 0.1379, after all tasks imb. av. f1 = 0.9995\n",
      "Forgetting in task 25: first time imb. av. f1 = 0.9231, after all tasks imb. av. f1 = 0.9995\n",
      "Forgetting in task 26: first time imb. av. f1 = 0.9803, after all tasks imb. av. f1 = 0.9995\n",
      "Forgetting in task 27: first time imb. av. f1 = 0.0908, after all tasks imb. av. f1 = 0.9995\n",
      "Forgetting in task 28: first time imb. av. f1 = 0.3376, after all tasks imb. av. f1 = 0.9995\n",
      "Forgetting in task 29: first time imb. av. f1 = 0.5754, after all tasks imb. av. f1 = 0.9995\n",
      "Forgetting in task 30: first time imb. av. f1 = 0.9322, after all tasks imb. av. f1 = 0.9995\n",
      "Forgetting in task 31: first time imb. av. f1 = 0.0097, after all tasks imb. av. f1 = 0.9995\n",
      "Forgetting in task 32: first time imb. av. f1 = 0.0009, after all tasks imb. av. f1 = 0.9995\n",
      "Forgetting in task 33: first time imb. av. f1 = 0.0335, after all tasks imb. av. f1 = 0.9995\n",
      "Forgetting in task 34: first time imb. av. f1 = 0.6887, after all tasks imb. av. f1 = 0.9995\n",
      "Forgetting in task 35: first time imb. av. f1 = 0.8410, after all tasks imb. av. f1 = 0.9995\n",
      "Forgetting in task 36: first time imb. av. f1 = 0.0030, after all tasks imb. av. f1 = 0.9995\n",
      "Forgetting in task 37: first time imb. av. f1 = 0.3617, after all tasks imb. av. f1 = 0.9995\n",
      "Forgetting in task 38: first time imb. av. f1 = 0.0018, after all tasks imb. av. f1 = 0.9995\n",
      "Forgetting in task 39: first time imb. av. f1 = 0.9964, after all tasks imb. av. f1 = 0.9995\n",
      "Forgetting in task 40: first time imb. av. f1 = 0.9639, after all tasks imb. av. f1 = 0.9995\n",
      "Forgetting in task 41: first time imb. av. f1 = 0.9962, after all tasks imb. av. f1 = 0.9995\n",
      "Forgetting in task 42: first time imb. av. f1 = 0.8125, after all tasks imb. av. f1 = 0.9995\n",
      "Forgetting in task 43: first time imb. av. f1 = 0.0021, after all tasks imb. av. f1 = 0.9995\n",
      "Forgetting in task 44: first time imb. av. f1 = 0.0014, after all tasks imb. av. f1 = 0.9995\n",
      "Forgetting in task 45: first time imb. av. f1 = 0.6823, after all tasks imb. av. f1 = 0.9995\n",
      "Forgetting in task 46: first time imb. av. f1 = 0.9928, after all tasks imb. av. f1 = 0.9995\n",
      "Forgetting in task 47: first time imb. av. f1 = 0.8953, after all tasks imb. av. f1 = 0.9995\n",
      "Forgetting in task 48: first time imb. av. f1 = 0.6475, after all tasks imb. av. f1 = 0.9995\n",
      "Forgetting in task 49: first time imb. av. f1 = 0.6332, after all tasks imb. av. f1 = 0.9995\n",
      "Forgetting in task 50: first time imb. av. f1 = 0.1005, after all tasks imb. av. f1 = 0.9995\n"
     ]
    },
    {
     "data": {
      "image/png": "[encoded data removed]",
      "text/plain": [
       "<Figure size 360x360 with 1 Axes>"
      ]
     },
     "metadata": {
      "needs_background": "light"
     },
     "output_type": "display_data"
    }
   ],
   "source": [
    "hparams = Hyperparameters('mediamill', continual_method, device, num_tasks=50)\n",
    "experiment = ContinualExperiment(hparams)\n",
    "experiment.run()"
   ]
  }
 ],
 "metadata": {
  "kernelspec": {
   "display_name": "DL_gpu",
   "language": "python",
   "name": "dl_gpu"
  },
  "language_info": {
   "codemirror_mode": {
    "name": "ipython",
    "version": 3
   },
   "file_extension": ".py",
   "mimetype": "text/x-python",
   "name": "python",
   "nbconvert_exporter": "python",
   "pygments_lexer": "ipython3",
   "version": "3.7.7"
  }
 },
 "nbformat": 4,
 "nbformat_minor": 2
}
