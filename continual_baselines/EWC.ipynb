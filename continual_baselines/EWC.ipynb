{
 "cells": [
  {
   "cell_type": "code",
   "execution_count": 1,
   "metadata": {},
   "outputs": [],
   "source": [
    "from experiments_new import *\n",
    "from hparams import *\n",
    "from utils import *"
   ]
  },
  {
   "cell_type": "code",
   "execution_count": 2,
   "metadata": {},
   "outputs": [],
   "source": [
    "continual_method = 'EWC'\n",
    "device = torch.device('cuda:0')"
   ]
  },
  {
   "cell_type": "markdown",
   "metadata": {},
   "source": [
    "## Yeast Dataset, 3 tasks"
   ]
  },
  {
   "cell_type": "code",
   "execution_count": 3,
   "metadata": {},
   "outputs": [
    {
     "name": "stdout",
     "output_type": "stream",
     "text": [
      "Processing Data ...\n",
      "(1500, 103)\n",
      "(917, 103)\n",
      "(1500, 13)\n",
      "(917, 13)\n",
      "Begin training in EWC mode ...\n",
      "Training and Evaluating on task 1\n",
      "Train data shape is  (500, 103)\n",
      "Train Labels shape is  (500, 7)\n",
      "Classes trained are: 0 to 7\n",
      "Samples with all negative labels 0\n",
      "Output dimensions: 7\n"
     ]
    },
    {
     "name": "stderr",
     "output_type": "stream",
     "text": [
      "100%|██████████| 1/1 [00:00<00:00,  1.02it/s]\n"
     ]
    },
    {
     "name": "stdout",
     "output_type": "stream",
     "text": [
      "Evaluating in individual mode on test set\n",
      "multilabel-indicator multilabel-indicator\n",
      "float32 float32\n",
      "(917, 7) (917, 7)\n",
      "Evaluating in combined mode on test set\n",
      "multilabel-indicator multilabel-indicator\n",
      "float32 float32\n",
      "(917, 7) (917, 7)\n",
      "Training and Evaluating on task 2\n",
      "Train data shape is  (500, 103)\n",
      "Train Labels shape is  (500, 3)\n",
      "Classes trained are: 7 to 10\n",
      "Samples with all negative labels 0\n",
      "Augmenting class labels...\n"
     ]
    },
    {
     "name": "stderr",
     "output_type": "stream",
     "text": [
      "  0%|          | 0/1 [00:00<?, ?it/s]"
     ]
    },
    {
     "name": "stdout",
     "output_type": "stream",
     "text": [
      "Train Labels shape is  (500, 10)\n",
      "Output dimensions: 10\n",
      "growing model size ...\n"
     ]
    },
    {
     "name": "stderr",
     "output_type": "stream",
     "text": [
      "100%|██████████| 1/1 [00:00<00:00,  3.57it/s]\n"
     ]
    },
    {
     "name": "stdout",
     "output_type": "stream",
     "text": [
      "Evaluating in individual mode on test set\n",
      "multilabel-indicator multilabel-indicator\n",
      "float32 float32\n",
      "(917, 3) (917, 3)\n",
      "Evaluating in combined mode on test set\n",
      "multilabel-indicator multilabel-indicator\n",
      "float32 float32\n",
      "(917, 10) (917, 10)\n",
      "Training and Evaluating on task 3\n",
      "Train data shape is  (500, 103)\n",
      "Train Labels shape is  (500, 3)\n",
      "Classes trained are: 10 to 13\n",
      "Samples with all negative labels 0\n",
      "Augmenting class labels...\n"
     ]
    },
    {
     "name": "stderr",
     "output_type": "stream",
     "text": [
      "  0%|          | 0/1 [00:00<?, ?it/s]"
     ]
    },
    {
     "name": "stdout",
     "output_type": "stream",
     "text": [
      "Train Labels shape is  (500, 13)\n",
      "Output dimensions: 13\n",
      "growing model size ...\n"
     ]
    },
    {
     "name": "stderr",
     "output_type": "stream",
     "text": [
      "100%|██████████| 1/1 [00:00<00:00,  3.49it/s]\n"
     ]
    },
    {
     "name": "stdout",
     "output_type": "stream",
     "text": [
      "Evaluating in individual mode on test set\n",
      "multilabel-indicator multilabel-indicator\n",
      "float32 float32\n",
      "(917, 3) (917, 3)\n",
      "Evaluating in combined mode on test set\n",
      "multilabel-indicator multilabel-indicator\n",
      "float32 float32\n",
      "(917, 13) (917, 13)\n",
      "Evaluating in individual mode on test set\n",
      "|                     |         0 |        1 |        2 |\n",
      "|:--------------------|----------:|---------:|---------:|\n",
      "| hamming loss        | 0.678922  | 0.868048 | 0.468557 |\n",
      "| zero_one_loss       | 1         | 0.990185 | 0.932388 |\n",
      "| one_error           | 0.0512541 | 0.706652 | 0.223555 |\n",
      "| micro av. jaccard   | 0.321078  | 0.131952 | 0.531443 |\n",
      "| macro av. jaccard   | 0.321078  | 0.131952 | 0.531443 |\n",
      "| micro av. precision | 0.321078  | 0.131952 | 0.531443 |\n",
      "| macro av. precision | 0.321078  | 0.131952 | 0.531443 |\n",
      "| micro av. recall    | 1         | 1        | 1        |\n",
      "| macro av. recall    | 1         | 1        | 1        |\n",
      "| micro av. f1        | 0.486085  | 0.233141 | 0.694042 |\n",
      "| macro av. f1        | 0.479849  | 0.229202 | 0.630542 |\n",
      "| imb. av. f1         | 0.296189  | 0.114484 | 0.236271 |\n",
      "Evaluating in combined mode on test set\n",
      "|                     |         0 |         1 |        2 |\n",
      "|:--------------------|----------:|----------:|---------:|\n",
      "| hamming loss        | 0.678922  | 0.73566   | 0.674021 |\n",
      "| zero_one_loss       | 1         | 1         | 1        |\n",
      "| one_error           | 0.0512541 | 0.0185387 | 0        |\n",
      "| micro av. jaccard   | 0.321078  | 0.26434   | 0.325979 |\n",
      "| macro av. jaccard   | 0.321078  | 0.26434   | 0.325979 |\n",
      "| micro av. precision | 0.321078  | 0.26434   | 0.325979 |\n",
      "| macro av. precision | 0.321078  | 0.26434   | 0.325979 |\n",
      "| micro av. recall    | 1         | 1         | 1        |\n",
      "| macro av. recall    | 1         | 1         | 1        |\n",
      "| micro av. f1        | 0.486085  | 0.418147  | 0.491681 |\n",
      "| macro av. f1        | 0.479849  | 0.404655  | 0.456783 |\n",
      "| imb. av. f1         | 0.296189  | 0.200913  | 0.208104 |\n",
      "File saved to ./checkpoints_new/Yeast_0_EWC_asy.pkl\n",
      "Number of Tasks: 3\n",
      "Forgetting in task 1: first time imb. av. f1 = 0.2962, after all tasks imb. av. f1 = 0.2962\n",
      "Forgetting in task 2: first time imb. av. f1 = 0.1145, after all tasks imb. av. f1 = 0.2962\n",
      "Forgetting in task 3: first time imb. av. f1 = 0.2363, after all tasks imb. av. f1 = 0.2962\n"
     ]
    },
    {
     "data": {
      "image/png": "[encoded data removed]",
      "text/plain": [
       "<Figure size 360x360 with 1 Axes>"
      ]
     },
     "metadata": {
      "needs_background": "light"
     },
     "output_type": "display_data"
    }
   ],
   "source": [
    "hparams = Hyperparameters('Yeast', continual_method, device, num_tasks=3)\n",
    "experiment = ContinualExperiment(hparams)\n",
    "experiment.run()"
   ]
  },
  {
   "cell_type": "markdown",
   "metadata": {},
   "source": [
    "## Emotions Dataset"
   ]
  },
  {
   "cell_type": "code",
   "execution_count": 4,
   "metadata": {},
   "outputs": [
    {
     "name": "stdout",
     "output_type": "stream",
     "text": [
      "Processing Data ...\n"
     ]
    },
    {
     "name": "stderr",
     "output_type": "stream",
     "text": [
      "100%|██████████| 1/1 [00:00<00:00, 18.11it/s]"
     ]
    },
    {
     "name": "stdout",
     "output_type": "stream",
     "text": [
      "(391, 72)\n",
      "(202, 72)\n",
      "(391, 6)\n",
      "(202, 6)\n",
      "Begin training in EWC mode ...\n",
      "Training and Evaluating on task 1\n",
      "Train data shape is  (130, 72)\n",
      "Train Labels shape is  (130, 2)\n",
      "Classes trained are: 0 to 2\n",
      "Samples with all negative labels 0\n",
      "Output dimensions: 2\n",
      "Evaluating in individual mode on test set\n"
     ]
    },
    {
     "name": "stderr",
     "output_type": "stream",
     "text": [
      "\n"
     ]
    },
    {
     "name": "stdout",
     "output_type": "stream",
     "text": [
      "multilabel-indicator multilabel-indicator\n",
      "float32 float32\n",
      "(202, 2) (202, 2)\n",
      "Evaluating in combined mode on test set\n",
      "multilabel-indicator multilabel-indicator\n",
      "float32 float32\n",
      "(202, 2) (202, 2)\n",
      "Training and Evaluating on task 2\n",
      "Train data shape is  (130, 72)\n"
     ]
    },
    {
     "name": "stderr",
     "output_type": "stream",
     "text": [
      "  0%|          | 0/1 [00:00<?, ?it/s]"
     ]
    },
    {
     "name": "stdout",
     "output_type": "stream",
     "text": [
      "Train Labels shape is  (130, 2)\n",
      "Classes trained are: 2 to 4\n",
      "Samples with all negative labels 0\n",
      "Augmenting class labels...\n",
      "Train Labels shape is  (130, 4)\n",
      "Output dimensions: 4\n",
      "growing model size ...\n"
     ]
    },
    {
     "name": "stderr",
     "output_type": "stream",
     "text": [
      "100%|██████████| 1/1 [00:00<00:00, 11.58it/s]\n"
     ]
    },
    {
     "name": "stdout",
     "output_type": "stream",
     "text": [
      "Evaluating in individual mode on test set\n",
      "multilabel-indicator multilabel-indicator\n",
      "float32 float32\n",
      "(202, 2) (202, 2)\n",
      "Evaluating in combined mode on test set\n"
     ]
    },
    {
     "name": "stderr",
     "output_type": "stream",
     "text": [
      "  0%|          | 0/1 [00:00<?, ?it/s]"
     ]
    },
    {
     "name": "stdout",
     "output_type": "stream",
     "text": [
      "multilabel-indicator multilabel-indicator\n",
      "float32 float32\n",
      "(202, 4) (202, 4)\n",
      "Training and Evaluating on task 3\n",
      "Train data shape is  (131, 72)\n",
      "Train Labels shape is  (131, 2)\n",
      "Classes trained are: 4 to 6\n",
      "Samples with all negative labels 0\n",
      "Augmenting class labels...\n",
      "Train Labels shape is  (131, 6)\n",
      "Output dimensions: 6\n",
      "growing model size ...\n"
     ]
    },
    {
     "name": "stderr",
     "output_type": "stream",
     "text": [
      "100%|██████████| 1/1 [00:00<00:00, 11.88it/s]\n"
     ]
    },
    {
     "name": "stdout",
     "output_type": "stream",
     "text": [
      "Evaluating in individual mode on test set\n",
      "multilabel-indicator multilabel-indicator\n",
      "float32 float32\n",
      "(202, 2) (202, 2)\n",
      "Evaluating in combined mode on test set\n",
      "multilabel-indicator multilabel-indicator\n",
      "float32 float32\n",
      "(202, 6) (202, 6)\n",
      "Evaluating in individual mode on test set\n",
      "|                     |        0 |        1 |        2 |\n",
      "|:--------------------|---------:|---------:|---------:|\n",
      "| hamming loss        | 0.720297 | 0.616337 | 0.675743 |\n",
      "| zero_one_loss       | 0.886139 | 0.811881 | 0.945545 |\n",
      "| one_error           | 0.554455 | 0.420792 | 0.405941 |\n",
      "| micro av. jaccard   | 0.279703 | 0.383663 | 0.324257 |\n",
      "| macro av. jaccard   | 0.279703 | 0.383663 | 0.324257 |\n",
      "| micro av. precision | 0.279703 | 0.383663 | 0.324257 |\n",
      "| macro av. precision | 0.279703 | 0.383663 | 0.324257 |\n",
      "| micro av. recall    | 1        | 1        | 1        |\n",
      "| macro av. recall    | 1        | 1        | 1        |\n",
      "| micro av. f1        | 0.437137 | 0.554562 | 0.48972  |\n",
      "| macro av. f1        | 0.436991 | 0.548201 | 0.488531 |\n",
      "| imb. av. f1         | 0.279165 | 0.36208  | 0.32007  |\n",
      "Evaluating in combined mode on test set\n",
      "|                     |        0 |        1 |        2 |\n",
      "|:--------------------|---------:|---------:|---------:|\n",
      "| hamming loss        | 0.720297 | 0.668317 | 0.670792 |\n",
      "| zero_one_loss       | 0.886139 | 1        | 1        |\n",
      "| one_error           | 0.554455 | 0.138614 | 0        |\n",
      "| micro av. jaccard   | 0.279703 | 0.331683 | 0.329208 |\n",
      "| macro av. jaccard   | 0.279703 | 0.331683 | 0.329208 |\n",
      "| micro av. precision | 0.279703 | 0.331683 | 0.329208 |\n",
      "| macro av. precision | 0.279703 | 0.331683 | 0.329208 |\n",
      "| micro av. recall    | 1        | 1        | 1        |\n",
      "| macro av. recall    | 1        | 1        | 1        |\n",
      "| micro av. f1        | 0.437137 | 0.498141 | 0.495345 |\n",
      "| macro av. f1        | 0.436991 | 0.492596 | 0.491241 |\n",
      "| imb. av. f1         | 0.279165 | 0.315343 | 0.316903 |\n",
      "File saved to ./checkpoints_new/emotions_0_EWC_asy.pkl\n",
      "Number of Tasks: 3\n",
      "Forgetting in task 1: first time imb. av. f1 = 0.2792, after all tasks imb. av. f1 = 0.2792\n",
      "Forgetting in task 2: first time imb. av. f1 = 0.3621, after all tasks imb. av. f1 = 0.2792\n",
      "Forgetting in task 3: first time imb. av. f1 = 0.3201, after all tasks imb. av. f1 = 0.2792\n"
     ]
    },
    {
     "data": {
      "image/png": "[encoded data removed]",
      "text/plain": [
       "<Figure size 360x360 with 1 Axes>"
      ]
     },
     "metadata": {
      "needs_background": "light"
     },
     "output_type": "display_data"
    }
   ],
   "source": [
    "hparams = Hyperparameters('emotions', continual_method, device)\n",
    "experiment = ContinualExperiment(hparams)\n",
    "experiment.run()"
   ]
  },
  {
   "cell_type": "markdown",
   "metadata": {},
   "source": [
    "## Flags Dataset"
   ]
  },
  {
   "cell_type": "code",
   "execution_count": 5,
   "metadata": {},
   "outputs": [
    {
     "name": "stderr",
     "output_type": "stream",
     "text": [
      "100%|██████████| 1/1 [00:00<00:00, 39.47it/s]"
     ]
    },
    {
     "name": "stdout",
     "output_type": "stream",
     "text": [
      "Processing Data ...\n",
      "(129, 19)\n",
      "(65, 19)\n",
      "(129, 7)\n",
      "(65, 7)\n",
      "Begin training in EWC mode ...\n",
      "Training and Evaluating on task 1\n",
      "Train data shape is  (43, 19)\n",
      "Train Labels shape is  (43, 3)\n",
      "Classes trained are: 0 to 3\n",
      "Samples with all negative labels 0\n",
      "Output dimensions: 3\n",
      "Evaluating in individual mode on test set\n",
      "multilabel-indicator multilabel-indicator\n",
      "float32 float32\n",
      "(65, 3) (65, 3)\n",
      "Evaluating in combined mode on test set\n",
      "multilabel-indicator multilabel-indicator\n",
      "float32 float32\n",
      "(65, 3) (65, 3)\n",
      "Training and Evaluating on task 2\n",
      "Train data shape is  (43, 19)\n",
      "Train Labels shape is  (43, 2)\n",
      "Classes trained are: 3 to 5\n",
      "Samples with all negative labels 0\n",
      "Augmenting class labels...\n",
      "Train Labels shape is  (43, 5)\n",
      "Output dimensions: 5\n",
      "growing model size ...\n"
     ]
    },
    {
     "name": "stderr",
     "output_type": "stream",
     "text": [
      "\n",
      "100%|██████████| 1/1 [00:00<00:00, 39.53it/s]"
     ]
    },
    {
     "name": "stdout",
     "output_type": "stream",
     "text": [
      "Evaluating in individual mode on test set\n"
     ]
    },
    {
     "name": "stderr",
     "output_type": "stream",
     "text": [
      "\n",
      "100%|██████████| 1/1 [00:00<00:00, 40.79it/s]\n"
     ]
    },
    {
     "name": "stdout",
     "output_type": "stream",
     "text": [
      "multilabel-indicator multilabel-indicator\n",
      "float32 float32\n",
      "(65, 2) (65, 2)\n",
      "Evaluating in combined mode on test set\n",
      "multilabel-indicator multilabel-indicator\n",
      "float32 float32\n",
      "(65, 5) (65, 5)\n",
      "Training and Evaluating on task 3\n",
      "Train data shape is  (43, 19)\n",
      "Train Labels shape is  (43, 2)\n",
      "Classes trained are: 5 to 7\n",
      "Samples with all negative labels 0\n",
      "Augmenting class labels...\n",
      "Train Labels shape is  (43, 7)\n",
      "Output dimensions: 7\n",
      "growing model size ...\n",
      "Evaluating in individual mode on test set\n",
      "multilabel-indicator multilabel-indicator\n",
      "float32 float32\n",
      "(65, 2) (65, 2)\n",
      "Evaluating in combined mode on test set\n",
      "multilabel-indicator multilabel-indicator\n",
      "float32 float32\n",
      "(65, 7) (65, 7)\n",
      "Evaluating in individual mode on test set\n",
      "|                     |        0 |         1 |        2 |\n",
      "|:--------------------|---------:|----------:|---------:|\n",
      "| hamming loss        | 0.610256 | 0.376923  | 0.792308 |\n",
      "| zero_one_loss       | 0.984615 | 0.738462  | 0.984615 |\n",
      "| one_error           | 0.215385 | 0.0153846 | 0.6      |\n",
      "| micro av. jaccard   | 0.335196 | 0.623077  | 0.207692 |\n",
      "| macro av. jaccard   | 0.307692 | 0.623077  | 0.207692 |\n",
      "| micro av. precision | 0.461538 | 0.623077  | 0.207692 |\n",
      "| macro av. precision | 0.307692 | 0.623077  | 0.207692 |\n",
      "| micro av. recall    | 0.550459 | 1         | 1        |\n",
      "| macro av. recall    | 0.666667 | 1         | 1        |\n",
      "| micro av. f1        | 0.502092 | 0.767773  | 0.343949 |\n",
      "| macro av. f1        | 0.420142 | 0.755445  | 0.328693 |\n",
      "| imb. av. f1         | 0.407518 | 0.582206  | 0.148011 |\n",
      "Evaluating in combined mode on test set\n",
      "|                     |        0 |        1 |        2 |\n",
      "|:--------------------|---------:|---------:|---------:|\n",
      "| hamming loss        | 0.610256 | 0.516923 | 0.595604 |\n",
      "| zero_one_loss       | 0.984615 | 0.984615 | 1        |\n",
      "| one_error           | 0.215385 | 0        | 0        |\n",
      "| micro av. jaccard   | 0.335196 | 0.456311 | 0.382688 |\n",
      "| macro av. jaccard   | 0.307692 | 0.433846 | 0.369231 |\n",
      "| micro av. precision | 0.461538 | 0.542308 | 0.430769 |\n",
      "| macro av. precision | 0.307692 | 0.433846 | 0.369231 |\n",
      "| micro av. recall    | 0.550459 | 0.742105 | 0.774194 |\n",
      "| macro av. recall    | 0.666667 | 0.8      | 0.857143 |\n",
      "| micro av. f1        | 0.502092 | 0.626667 | 0.553542 |\n",
      "| macro av. f1        | 0.420142 | 0.554263 | 0.489814 |\n",
      "| imb. av. f1         | 0.407518 | 0.473356 | 0.284802 |\n",
      "File saved to ./checkpoints_new/flags_0_EWC_asy.pkl\n",
      "Number of Tasks: 3\n",
      "Forgetting in task 1: first time imb. av. f1 = 0.4075, after all tasks imb. av. f1 = 0.4075\n",
      "Forgetting in task 2: first time imb. av. f1 = 0.5822, after all tasks imb. av. f1 = 0.4075\n",
      "Forgetting in task 3: first time imb. av. f1 = 0.1480, after all tasks imb. av. f1 = 0.4075\n"
     ]
    },
    {
     "data": {
      "image/png": "[encoded data removed]",
      "text/plain": [
       "<Figure size 360x360 with 1 Axes>"
      ]
     },
     "metadata": {
      "needs_background": "light"
     },
     "output_type": "display_data"
    }
   ],
   "source": [
    "hparams = Hyperparameters('flags', continual_method, device)\n",
    "experiment = ContinualExperiment(hparams)\n",
    "experiment.run()"
   ]
  },
  {
   "cell_type": "markdown",
   "metadata": {},
   "source": [
    "## GPositive Dataset"
   ]
  },
  {
   "cell_type": "code",
   "execution_count": 6,
   "metadata": {},
   "outputs": [
    {
     "name": "stderr",
     "output_type": "stream",
     "text": [
      "100%|██████████| 1/1 [00:00<00:00, 23.16it/s]"
     ]
    },
    {
     "name": "stdout",
     "output_type": "stream",
     "text": [
      "Processing Data ...\n",
      "(311, 440)\n",
      "(208, 440)\n",
      "(311, 4)\n",
      "(208, 4)\n",
      "Begin training in EWC mode ...\n",
      "Training and Evaluating on task 1\n",
      "Train data shape is  (103, 440)\n",
      "Train Labels shape is  (103, 2)\n",
      "Classes trained are: 0 to 2\n",
      "Samples with all negative labels 2\n",
      "Output dimensions: 2\n",
      "Evaluating in individual mode on test set\n"
     ]
    },
    {
     "name": "stderr",
     "output_type": "stream",
     "text": [
      "\n"
     ]
    },
    {
     "name": "stdout",
     "output_type": "stream",
     "text": [
      "multilabel-indicator multilabel-indicator\n",
      "float64 float32\n",
      "(208, 2) (208, 2)\n",
      "Evaluating in combined mode on test set\n",
      "multilabel-indicator multilabel-indicator\n",
      "float64 float32\n",
      "(208, 2) (208, 2)\n",
      "Training and Evaluating on task 2\n",
      "Train data shape is  (103, 440)\n",
      "Train Labels shape is  (103, 1)\n",
      "Classes trained are: 2 to 3\n",
      "Samples with all negative labels 0\n",
      "Augmenting class labels...\n"
     ]
    },
    {
     "name": "stderr",
     "output_type": "stream",
     "text": [
      "100%|██████████| 1/1 [00:00<00:00, 15.52it/s]"
     ]
    },
    {
     "name": "stdout",
     "output_type": "stream",
     "text": [
      "Train Labels shape is  (103, 3)\n",
      "Output dimensions: 3\n",
      "growing model size ...\n",
      "Evaluating in individual mode on test set\n"
     ]
    },
    {
     "name": "stderr",
     "output_type": "stream",
     "text": [
      "\n"
     ]
    },
    {
     "name": "stdout",
     "output_type": "stream",
     "text": [
      "binary binary\n",
      "float64 float32\n",
      "(208, 1) (208, 1)\n",
      "Evaluating in combined mode on test set\n",
      "multilabel-indicator multilabel-indicator\n",
      "float64 float32\n",
      "(208, 3) (208, 3)\n",
      "Training and Evaluating on task 3\n",
      "Train data shape is  (105, 440)\n",
      "Train Labels shape is  (105, 1)\n",
      "Classes trained are: 3 to 4\n",
      "Samples with all negative labels 1\n",
      "Augmenting class labels...\n"
     ]
    },
    {
     "name": "stderr",
     "output_type": "stream",
     "text": [
      "100%|██████████| 1/1 [00:00<00:00, 16.43it/s]"
     ]
    },
    {
     "name": "stdout",
     "output_type": "stream",
     "text": [
      "Train Labels shape is  (105, 4)\n",
      "Output dimensions: 4\n",
      "growing model size ...\n",
      "Evaluating in individual mode on test set\n"
     ]
    },
    {
     "name": "stderr",
     "output_type": "stream",
     "text": [
      "\n"
     ]
    },
    {
     "name": "stdout",
     "output_type": "stream",
     "text": [
      "binary binary\n",
      "float64 float32\n",
      "(208, 1) (208, 1)\n",
      "Evaluating in combined mode on test set\n",
      "multilabel-indicator multilabel-indicator\n",
      "float64 float32\n",
      "(208, 4) (208, 4)\n",
      "Evaluating in individual mode on test set\n",
      "|                     |         0 |        1 |        2 |\n",
      "|:--------------------|----------:|---------:|---------:|\n",
      "| hamming loss        | 0.814904  | 0.399038 | 0.235577 |\n",
      "| zero_one_loss       | 1         | 0.399038 | 0.235577 |\n",
      "| one_error           | 0.629808  | 0.399038 | 0.235577 |\n",
      "| micro av. jaccard   | 0.185096  | 0.429553 | 0.618677 |\n",
      "| macro av. jaccard   | 0.185096  | 0.300481 | 0.382212 |\n",
      "| micro av. precision | 0.185096  | 0.600962 | 0.764423 |\n",
      "| macro av. precision | 0.185096  | 0.300481 | 0.382212 |\n",
      "| micro av. recall    | 1         | 0.600962 | 0.764423 |\n",
      "| macro av. recall    | 1         | 0.5      | 0.5      |\n",
      "| micro av. f1        | 0.312373  | 0.600962 | 0.764423 |\n",
      "| macro av. f1        | 0.284357  | 0.375375 | 0.433243 |\n",
      "| imb. av. f1         | 0.0643257 | 0.600962 | 0.764423 |\n",
      "Evaluating in combined mode on test set\n",
      "|                     |         0 |        1 |         2 |\n",
      "|:--------------------|----------:|---------:|----------:|\n",
      "| hamming loss        | 0.814904  | 0.676282 | 0.566106  |\n",
      "| zero_one_loss       | 1         | 1        | 1         |\n",
      "| one_error           | 0.629808  | 0.399038 | 0         |\n",
      "| micro av. jaccard   | 0.185096  | 0.154309 | 0.140511  |\n",
      "| macro av. jaccard   | 0.185096  | 0.123397 | 0.0925481 |\n",
      "| micro av. precision | 0.185096  | 0.185096 | 0.185096  |\n",
      "| macro av. precision | 0.185096  | 0.123397 | 0.0925481 |\n",
      "| micro av. recall    | 1         | 0.48125  | 0.368421  |\n",
      "| macro av. recall    | 1         | 0.666667 | 0.5       |\n",
      "| micro av. f1        | 0.312373  | 0.267361 | 0.2464    |\n",
      "| macro av. f1        | 0.284357  | 0.189571 | 0.142178  |\n",
      "| imb. av. f1         | 0.0643257 | 0.106637 | 0.183576  |\n",
      "File saved to ./checkpoints_new/gpositive_0_EWC_asy.pkl\n",
      "Number of Tasks: 3\n",
      "Forgetting in task 1: first time imb. av. f1 = 0.9357, after all tasks imb. av. f1 = 0.0643\n",
      "Forgetting in task 2: first time imb. av. f1 = 0.6010, after all tasks imb. av. f1 = 0.0643\n",
      "Forgetting in task 3: first time imb. av. f1 = 0.7644, after all tasks imb. av. f1 = 0.0643\n"
     ]
    },
    {
     "data": {
      "image/png": "[encoded data removed]",
      "text/plain": [
       "<Figure size 360x360 with 1 Axes>"
      ]
     },
     "metadata": {
      "needs_background": "light"
     },
     "output_type": "display_data"
    }
   ],
   "source": [
    "hparams = Hyperparameters('gpositive', continual_method, device)\n",
    "experiment = ContinualExperiment(hparams)\n",
    "experiment.run()"
   ]
  },
  {
   "cell_type": "markdown",
   "metadata": {},
   "source": [
    "## GNegative Dataset"
   ]
  },
  {
   "cell_type": "code",
   "execution_count": 7,
   "metadata": {},
   "outputs": [
    {
     "name": "stderr",
     "output_type": "stream",
     "text": [
      "  0%|          | 0/1 [00:00<?, ?it/s]"
     ]
    },
    {
     "name": "stdout",
     "output_type": "stream",
     "text": [
      "Processing Data ...\n",
      "(836, 440)\n",
      "(556, 440)\n",
      "(836, 8)\n",
      "(556, 8)\n",
      "Begin training in EWC mode ...\n",
      "Training and Evaluating on task 1\n",
      "Train data shape is  (278, 440)\n",
      "Train Labels shape is  (278, 3)\n",
      "Classes trained are: 0 to 3\n",
      "Samples with all negative labels 1\n",
      "Output dimensions: 3\n"
     ]
    },
    {
     "name": "stderr",
     "output_type": "stream",
     "text": [
      "100%|██████████| 1/1 [00:00<00:00,  8.09it/s]"
     ]
    },
    {
     "name": "stdout",
     "output_type": "stream",
     "text": [
      "Evaluating in individual mode on test set\n"
     ]
    },
    {
     "name": "stderr",
     "output_type": "stream",
     "text": [
      "\n"
     ]
    },
    {
     "name": "stdout",
     "output_type": "stream",
     "text": [
      "multilabel-indicator multilabel-indicator\n",
      "float64 float32\n",
      "(556, 3) (556, 3)\n",
      "Evaluating in combined mode on test set\n",
      "multilabel-indicator multilabel-indicator\n",
      "float64 float32\n",
      "(556, 3) (556, 3)\n",
      "Training and Evaluating on task 2\n",
      "Train data shape is  (280, 440)\n",
      "Train Labels shape is  (280, 2)\n",
      "Classes trained are: 3 to 5\n",
      "Samples with all negative labels 1\n",
      "Augmenting class labels...\n",
      "Train Labels shape is  (280, 5)\n",
      "Output dimensions: 5\n",
      "growing model size ...\n"
     ]
    },
    {
     "name": "stderr",
     "output_type": "stream",
     "text": [
      "100%|██████████| 1/1 [00:00<00:00,  5.57it/s]\n"
     ]
    },
    {
     "name": "stdout",
     "output_type": "stream",
     "text": [
      "Evaluating in individual mode on test set\n",
      "multilabel-indicator multilabel-indicator\n",
      "float64 float32\n",
      "(556, 2) (556, 2)\n",
      "Evaluating in combined mode on test set\n",
      "multilabel-indicator multilabel-indicator\n",
      "float64 float32\n",
      "(556, 5) (556, 5)\n",
      "Training and Evaluating on task 3\n",
      "Train data shape is  (278, 440)\n",
      "Train Labels shape is  (278, 3)\n",
      "Classes trained are: 5 to 8\n",
      "Samples with all negative labels 1\n",
      "Augmenting class labels...\n",
      "Train Labels shape is  (278, 8)\n",
      "Output dimensions: 8\n",
      "growing model size ...\n"
     ]
    },
    {
     "name": "stderr",
     "output_type": "stream",
     "text": [
      "100%|██████████| 1/1 [00:00<00:00,  6.72it/s]\n"
     ]
    },
    {
     "name": "stdout",
     "output_type": "stream",
     "text": [
      "Evaluating in individual mode on test set\n",
      "multilabel-indicator multilabel-indicator\n",
      "float64 float32\n",
      "(556, 3) (556, 3)\n",
      "Evaluating in combined mode on test set\n",
      "multilabel-indicator multilabel-indicator\n",
      "float64 float32\n",
      "(556, 8) (556, 8)\n",
      "Evaluating in individual mode on test set\n",
      "|                     |        0 |         1 |          2 |\n",
      "|:--------------------|---------:|----------:|-----------:|\n",
      "| hamming loss        | 0.670863 | 0.538669  | 0.378297   |\n",
      "| zero_one_loss       | 1        | 0.978417  | 0.994604   |\n",
      "| one_error           | 0.379496 | 0.0989209 | 0          |\n",
      "| micro av. jaccard   | 0.161798 | 0.0196399 | 0.00473186 |\n",
      "| macro av. jaccard   | 0.129496 | 0.0107914 | 0.00179856 |\n",
      "| micro av. precision | 0.194245 | 0.0215827 | 0.00539568 |\n",
      "| macro av. precision | 0.129496 | 0.0107914 | 0.00179856 |\n",
      "| micro av. recall    | 0.492027 | 0.179104  | 0.037037   |\n",
      "| macro av. recall    | 0.666667 | 0.5       | 0.333333   |\n",
      "| micro av. f1        | 0.27853  | 0.0385233 | 0.00941915 |\n",
      "| macro av. f1        | 0.208283 | 0.0211268 | 0.00357782 |\n",
      "| imb. av. f1         | 0.207079 | 0.187285  | 0.456408   |\n",
      "Evaluating in combined mode on test set\n",
      "|                     |        0 |         1 |         2 |\n",
      "|:--------------------|---------:|----------:|----------:|\n",
      "| hamming loss        | 0.670863 | 0.617986  | 0.528103  |\n",
      "| zero_one_loss       | 1        | 1         | 1         |\n",
      "| one_error           | 0.379496 | 0         | 0         |\n",
      "| micro av. jaccard   | 0.161798 | 0.117163  | 0.0895349 |\n",
      "| macro av. jaccard   | 0.129496 | 0.0820144 | 0.0519335 |\n",
      "| micro av. precision | 0.194245 | 0.136691  | 0.103867  |\n",
      "| macro av. precision | 0.129496 | 0.0820144 | 0.0519335 |\n",
      "| micro av. recall    | 0.492027 | 0.450593  | 0.393526  |\n",
      "| macro av. recall    | 0.666667 | 0.6       | 0.5       |\n",
      "| micro av. f1        | 0.27853  | 0.209752  | 0.164354  |\n",
      "| macro av. f1        | 0.208283 | 0.133421  | 0.0847297 |\n",
      "| imb. av. f1         | 0.207079 | 0.192051  | 0.400298  |\n",
      "File saved to ./checkpoints_new/gnegative_0_EWC_asy.pkl\n",
      "Number of Tasks: 3\n",
      "Forgetting in task 1: first time imb. av. f1 = 0.8223, after all tasks imb. av. f1 = 0.2071\n",
      "Forgetting in task 2: first time imb. av. f1 = 0.8127, after all tasks imb. av. f1 = 0.2071\n",
      "Forgetting in task 3: first time imb. av. f1 = 0.4564, after all tasks imb. av. f1 = 0.2071\n"
     ]
    },
    {
     "data": {
      "image/png": "[encoded data removed]",
      "text/plain": [
       "<Figure size 360x360 with 1 Axes>"
      ]
     },
     "metadata": {
      "needs_background": "light"
     },
     "output_type": "display_data"
    }
   ],
   "source": [
    "hparams = Hyperparameters('gnegative', continual_method, device)\n",
    "experiment = ContinualExperiment(hparams)\n",
    "experiment.run()"
   ]
  },
  {
   "cell_type": "markdown",
   "metadata": {},
   "source": [
    "## Plants Dataset"
   ]
  },
  {
   "cell_type": "code",
   "execution_count": 8,
   "metadata": {},
   "outputs": [
    {
     "name": "stderr",
     "output_type": "stream",
     "text": [
      "  0%|          | 0/1 [00:00<?, ?it/s]"
     ]
    },
    {
     "name": "stdout",
     "output_type": "stream",
     "text": [
      "Processing Data ...\n",
      "(588, 440)\n",
      "(390, 440)\n",
      "(588, 12)\n",
      "(390, 12)\n",
      "Begin training in EWC mode ...\n",
      "Training and Evaluating on task 1\n",
      "Train data shape is  (186, 440)\n",
      "Train Labels shape is  (186, 4)\n",
      "Classes trained are: 0 to 4\n",
      "Samples with all negative labels 0\n",
      "Output dimensions: 4\n"
     ]
    },
    {
     "name": "stderr",
     "output_type": "stream",
     "text": [
      "100%|██████████| 1/1 [00:00<00:00, 15.38it/s]"
     ]
    },
    {
     "name": "stdout",
     "output_type": "stream",
     "text": [
      "Evaluating in individual mode on test set\n"
     ]
    },
    {
     "name": "stderr",
     "output_type": "stream",
     "text": [
      "\n"
     ]
    },
    {
     "name": "stdout",
     "output_type": "stream",
     "text": [
      "multilabel-indicator multilabel-indicator\n",
      "float64 float32\n",
      "(390, 4) (390, 4)\n",
      "Evaluating in combined mode on test set\n"
     ]
    },
    {
     "name": "stderr",
     "output_type": "stream",
     "text": [
      "  0%|          | 0/1 [00:00<?, ?it/s]"
     ]
    },
    {
     "name": "stdout",
     "output_type": "stream",
     "text": [
      "multilabel-indicator multilabel-indicator\n",
      "float64 float32\n",
      "(390, 4) (390, 4)\n",
      "Training and Evaluating on task 2\n",
      "Train data shape is  (186, 440)\n",
      "Train Labels shape is  (186, 4)\n",
      "Classes trained are: 4 to 8\n",
      "Samples with all negative labels 0\n",
      "Augmenting class labels...\n",
      "Train Labels shape is  (186, 8)\n",
      "Output dimensions: 8\n",
      "growing model size ...\n"
     ]
    },
    {
     "name": "stderr",
     "output_type": "stream",
     "text": [
      "100%|██████████| 1/1 [00:00<00:00, 10.59it/s]\n"
     ]
    },
    {
     "name": "stdout",
     "output_type": "stream",
     "text": [
      "Evaluating in individual mode on test set\n",
      "multilabel-indicator multilabel-indicator\n",
      "float64 float32\n",
      "(390, 4) (390, 4)\n",
      "Evaluating in combined mode on test set\n"
     ]
    },
    {
     "name": "stderr",
     "output_type": "stream",
     "text": [
      "  0%|          | 0/1 [00:00<?, ?it/s]"
     ]
    },
    {
     "name": "stdout",
     "output_type": "stream",
     "text": [
      "multilabel-indicator multilabel-indicator\n",
      "float64 float32\n",
      "(390, 8) (390, 8)\n",
      "Training and Evaluating on task 3\n",
      "Train data shape is  (186, 440)\n",
      "Train Labels shape is  (186, 4)\n",
      "Classes trained are: 8 to 12\n",
      "Samples with all negative labels 4\n",
      "Augmenting class labels...\n",
      "Train Labels shape is  (186, 12)\n",
      "Output dimensions: 12\n",
      "growing model size ...\n"
     ]
    },
    {
     "name": "stderr",
     "output_type": "stream",
     "text": [
      "100%|██████████| 1/1 [00:00<00:00, 10.52it/s]\n"
     ]
    },
    {
     "name": "stdout",
     "output_type": "stream",
     "text": [
      "Evaluating in individual mode on test set\n",
      "multilabel-indicator multilabel-indicator\n",
      "float64 float32\n",
      "(390, 4) (390, 4)\n",
      "Evaluating in combined mode on test set\n",
      "multilabel-indicator multilabel-indicator\n",
      "float64 float32\n",
      "(390, 12) (390, 12)\n",
      "Evaluating in individual mode on test set\n",
      "|                     |         0 |          1 |         2 |\n",
      "|:--------------------|----------:|-----------:|----------:|\n",
      "| hamming loss        | 0.521154  | 0.288462   | 0.704487  |\n",
      "| zero_one_loss       | 0.997436  | 0.961538   | 1         |\n",
      "| one_error           | 0         | 0          | 0.0410256 |\n",
      "| micro av. jaccard   | 0.102649  | 0.0322581  | 0.0733558 |\n",
      "| macro av. jaccard   | 0.0596154 | 0.00961538 | 0.0557692 |\n",
      "| micro av. precision | 0.119231  | 0.0384615  | 0.074359  |\n",
      "| macro av. precision | 0.0596154 | 0.00961538 | 0.0557692 |\n",
      "| micro av. recall    | 0.424658  | 0.166667   | 0.84466   |\n",
      "| macro av. recall    | 0.5       | 0.25       | 0.75      |\n",
      "| micro av. f1        | 0.186186  | 0.0625     | 0.136685  |\n",
      "| macro av. f1        | 0.103706  | 0.0185185  | 0.100142  |\n",
      "| imb. av. f1         | 0.599298  | 0.761407   | 0.271765  |\n",
      "Evaluating in combined mode on test set\n",
      "|                     |         0 |         1 |         2 |\n",
      "|:--------------------|----------:|----------:|----------:|\n",
      "| hamming loss        | 0.521154  | 0.404808  | 0.504701  |\n",
      "| zero_one_loss       | 0.997436  | 1         | 1         |\n",
      "| one_error           | 0         | 0         | 0         |\n",
      "| micro av. jaccard   | 0.102649  | 0.0787746 | 0.0762612 |\n",
      "| macro av. jaccard   | 0.0596154 | 0.0346154 | 0.0416667 |\n",
      "| micro av. precision | 0.119231  | 0.0923077 | 0.0833333 |\n",
      "| macro av. precision | 0.0596154 | 0.0346154 | 0.0416667 |\n",
      "| micro av. recall    | 0.424658  | 0.349515  | 0.473301  |\n",
      "| macro av. recall    | 0.5       | 0.375     | 0.5       |\n",
      "| micro av. f1        | 0.186186  | 0.146045  | 0.141715  |\n",
      "| macro av. f1        | 0.103706  | 0.061112  | 0.074122  |\n",
      "| imb. av. f1         | 0.599298  | 0.706835  | 0.552196  |\n",
      "File saved to ./checkpoints_new/plants_0_EWC_asy.pkl\n",
      "Number of Tasks: 3\n",
      "Forgetting in task 1: first time imb. av. f1 = 0.9308, after all tasks imb. av. f1 = 0.5993\n",
      "Forgetting in task 2: first time imb. av. f1 = 0.0338, after all tasks imb. av. f1 = 0.5993\n",
      "Forgetting in task 3: first time imb. av. f1 = 0.2718, after all tasks imb. av. f1 = 0.5993\n"
     ]
    },
    {
     "data": {
      "image/png": "[encoded data removed]",
      "text/plain": [
       "<Figure size 360x360 with 1 Axes>"
      ]
     },
     "metadata": {
      "needs_background": "light"
     },
     "output_type": "display_data"
    }
   ],
   "source": [
    "hparams = Hyperparameters('plants', continual_method, device)\n",
    "experiment = ContinualExperiment(hparams)\n",
    "experiment.run()"
   ]
  },
  {
   "cell_type": "markdown",
   "metadata": {},
   "source": [
    "## Virus Dataset"
   ]
  },
  {
   "cell_type": "code",
   "execution_count": 9,
   "metadata": {},
   "outputs": [
    {
     "name": "stderr",
     "output_type": "stream",
     "text": [
      "100%|██████████| 1/1 [00:00<00:00, 55.13it/s]"
     ]
    },
    {
     "name": "stdout",
     "output_type": "stream",
     "text": [
      "Processing Data ...\n",
      "(124, 440)\n",
      "(83, 440)\n",
      "(124, 6)\n",
      "(83, 6)\n",
      "Begin training in EWC mode ...\n",
      "Training and Evaluating on task 1\n",
      "Train data shape is  (41, 440)\n",
      "Train Labels shape is  (41, 2)\n",
      "Classes trained are: 0 to 2\n",
      "Samples with all negative labels 0\n",
      "Output dimensions: 2\n",
      "Evaluating in individual mode on test set\n",
      "multilabel-indicator multilabel-indicator\n",
      "float64 float32\n",
      "(83, 2) (83, 2)\n",
      "Evaluating in combined mode on test set\n",
      "multilabel-indicator multilabel-indicator\n",
      "float64 float32\n",
      "(83, 2) (83, 2)\n",
      "Training and Evaluating on task 2\n",
      "Train data shape is  (41, 440)\n",
      "Train Labels shape is  (41, 2)\n",
      "Classes trained are: 2 to 4\n",
      "Samples with all negative labels 2\n",
      "Augmenting class labels...\n"
     ]
    },
    {
     "name": "stderr",
     "output_type": "stream",
     "text": [
      "\n",
      "100%|██████████| 1/1 [00:00<00:00, 41.19it/s]"
     ]
    },
    {
     "name": "stdout",
     "output_type": "stream",
     "text": [
      "Train Labels shape is  (41, 4)\n",
      "Output dimensions: 4\n",
      "growing model size ...\n",
      "Evaluating in individual mode on test set\n",
      "multilabel-indicator multilabel-indicator\n",
      "float64 float32\n",
      "(83, 2) (83, 2)\n",
      "Evaluating in combined mode on test set\n",
      "multilabel-indicator multilabel-indicator\n",
      "float64 float32\n",
      "(83, 4) (83, 4)\n",
      "Training and Evaluating on task 3\n",
      "Train data shape is  (42, 440)\n",
      "Train Labels shape is  (42, 2)\n",
      "Classes trained are: 4 to 6\n",
      "Samples with all negative labels 2\n",
      "Augmenting class labels...\n"
     ]
    },
    {
     "name": "stderr",
     "output_type": "stream",
     "text": [
      "\n",
      "100%|██████████| 1/1 [00:00<00:00, 42.13it/s]"
     ]
    },
    {
     "name": "stdout",
     "output_type": "stream",
     "text": [
      "Train Labels shape is  (42, 6)\n",
      "Output dimensions: 6\n",
      "growing model size ...\n",
      "Evaluating in individual mode on test set\n",
      "multilabel-indicator multilabel-indicator\n",
      "float64 float32\n",
      "(83, 2) (83, 2)\n",
      "Evaluating in combined mode on test set\n",
      "multilabel-indicator multilabel-indicator\n",
      "float64 float32\n",
      "(83, 6) (83, 6)\n"
     ]
    },
    {
     "name": "stderr",
     "output_type": "stream",
     "text": [
      "\n"
     ]
    },
    {
     "name": "stdout",
     "output_type": "stream",
     "text": [
      "Evaluating in individual mode on test set\n",
      "|                     |         0 |        1 |         2 |\n",
      "|:--------------------|----------:|---------:|----------:|\n",
      "| hamming loss        | 0.439759  | 0.246988 | 0.253012  |\n",
      "| zero_one_loss       | 0.843373  | 0.493976 | 0.493976  |\n",
      "| one_error           | 0.0361446 | 0        | 0.0120482 |\n",
      "| micro av. jaccard   | 0.151163  | 0        | 0         |\n",
      "| macro av. jaccard   | 0.0783133 | 0        | 0         |\n",
      "| micro av. precision | 0.156627  | 0        | 0         |\n",
      "| macro av. precision | 0.0783133 | 0        | 0         |\n",
      "| micro av. recall    | 0.8125    | 0        | 0         |\n",
      "| macro av. recall    | 0.5       | 0        | 0         |\n",
      "| micro av. f1        | 0.262626  | 0        | 0         |\n",
      "| macro av. f1        | 0.135417  | 0        | 0         |\n",
      "| imb. av. f1         | 0.784471  | 0.855141 | 0.825849  |\n",
      "Evaluating in combined mode on test set\n",
      "|                     |         0 |         1 |         2 |\n",
      "|:--------------------|----------:|----------:|----------:|\n",
      "| hamming loss        | 0.439759  | 0.343373  | 0.313253  |\n",
      "| zero_one_loss       | 0.843373  | 0.855422  | 0.86747   |\n",
      "| one_error           | 0.0361446 | 0         | 0         |\n",
      "| micro av. jaccard   | 0.151163  | 0.102362  | 0.0769231 |\n",
      "| macro av. jaccard   | 0.0783133 | 0.0391566 | 0.0261044 |\n",
      "| micro av. precision | 0.156627  | 0.156627  | 0.156627  |\n",
      "| macro av. precision | 0.0783133 | 0.0391566 | 0.0261044 |\n",
      "| micro av. recall    | 0.8125    | 0.22807   | 0.131313  |\n",
      "| macro av. recall    | 0.5       | 0.25      | 0.166667  |\n",
      "| micro av. f1        | 0.262626  | 0.185714  | 0.142857  |\n",
      "| macro av. f1        | 0.135417  | 0.0677083 | 0.0451389 |\n",
      "| imb. av. f1         | 0.784471  | 0.80732   | 0.811287  |\n",
      "File saved to ./checkpoints_new/virus_0_EWC_asy.pkl\n",
      "Number of Tasks: 3\n",
      "Forgetting in task 1: first time imb. av. f1 = 0.7845, after all tasks imb. av. f1 = 0.7845\n",
      "Forgetting in task 2: first time imb. av. f1 = 0.8551, after all tasks imb. av. f1 = 0.7845\n",
      "Forgetting in task 3: first time imb. av. f1 = 0.8258, after all tasks imb. av. f1 = 0.7845\n"
     ]
    },
    {
     "data": {
      "image/png": "[encoded data removed]",
      "text/plain": [
       "<Figure size 360x360 with 1 Axes>"
      ]
     },
     "metadata": {
      "needs_background": "light"
     },
     "output_type": "display_data"
    }
   ],
   "source": [
    "hparams = Hyperparameters('virus', continual_method, device)\n",
    "experiment = ContinualExperiment(hparams)\n",
    "experiment.run()"
   ]
  },
  {
   "cell_type": "markdown",
   "metadata": {},
   "source": [
    "## Scene Dataset"
   ]
  },
  {
   "cell_type": "code",
   "execution_count": 10,
   "metadata": {},
   "outputs": [
    {
     "name": "stdout",
     "output_type": "stream",
     "text": [
      "Processing Data ...\n"
     ]
    },
    {
     "name": "stderr",
     "output_type": "stream",
     "text": [
      "100%|██████████| 1/1 [00:00<00:00,  7.04it/s]"
     ]
    },
    {
     "name": "stdout",
     "output_type": "stream",
     "text": [
      "(1211, 294)\n",
      "(1196, 294)\n",
      "(1211, 6)\n",
      "(1196, 6)\n",
      "Begin training in EWC mode ...\n",
      "Training and Evaluating on task 1\n",
      "Train data shape is  (405, 294)\n",
      "Train Labels shape is  (405, 2)\n",
      "Classes trained are: 0 to 2\n",
      "Samples with all negative labels 0\n",
      "Output dimensions: 2\n",
      "Evaluating in individual mode on test set\n"
     ]
    },
    {
     "name": "stderr",
     "output_type": "stream",
     "text": [
      "\n"
     ]
    },
    {
     "name": "stdout",
     "output_type": "stream",
     "text": [
      "multilabel-indicator multilabel-indicator\n",
      "float32 float32\n",
      "(1196, 2) (1196, 2)\n",
      "Evaluating in combined mode on test set\n",
      "multilabel-indicator multilabel-indicator\n",
      "float32 float32\n",
      "(1196, 2) (1196, 2)\n",
      "Training and Evaluating on task 2\n",
      "Train data shape is  (403, 294)\n",
      "Train Labels shape is  (403, 2)\n",
      "Classes trained are: 2 to 4\n",
      "Samples with all negative labels 2\n",
      "Augmenting class labels...\n"
     ]
    },
    {
     "name": "stderr",
     "output_type": "stream",
     "text": [
      "  0%|          | 0/1 [00:00<?, ?it/s]"
     ]
    },
    {
     "name": "stdout",
     "output_type": "stream",
     "text": [
      "Train Labels shape is  (403, 4)\n",
      "Output dimensions: 4\n",
      "growing model size ...\n"
     ]
    },
    {
     "name": "stderr",
     "output_type": "stream",
     "text": [
      "100%|██████████| 1/1 [00:00<00:00,  4.44it/s]\n"
     ]
    },
    {
     "name": "stdout",
     "output_type": "stream",
     "text": [
      "Evaluating in individual mode on test set\n",
      "multilabel-indicator multilabel-indicator\n",
      "float32 float32\n",
      "(1196, 2) (1196, 2)\n",
      "Evaluating in combined mode on test set\n",
      "multilabel-indicator multilabel-indicator\n",
      "float32 float32\n",
      "(1196, 4) (1196, 4)\n",
      "Training and Evaluating on task 3\n",
      "Train data shape is  (403, 294)\n",
      "Train Labels shape is  (403, 2)\n",
      "Classes trained are: 4 to 6\n",
      "Samples with all negative labels 2\n",
      "Augmenting class labels...\n"
     ]
    },
    {
     "name": "stderr",
     "output_type": "stream",
     "text": [
      "  0%|          | 0/1 [00:00<?, ?it/s]"
     ]
    },
    {
     "name": "stdout",
     "output_type": "stream",
     "text": [
      "Train Labels shape is  (403, 6)\n",
      "Output dimensions: 6\n",
      "growing model size ...\n"
     ]
    },
    {
     "name": "stderr",
     "output_type": "stream",
     "text": [
      "100%|██████████| 1/1 [00:00<00:00,  3.39it/s]\n"
     ]
    },
    {
     "name": "stdout",
     "output_type": "stream",
     "text": [
      "Evaluating in individual mode on test set\n",
      "multilabel-indicator multilabel-indicator\n",
      "float32 float32\n",
      "(1196, 2) (1196, 2)\n",
      "Evaluating in combined mode on test set\n",
      "multilabel-indicator multilabel-indicator\n",
      "float32 float32\n",
      "(1196, 6) (1196, 6)\n",
      "Evaluating in individual mode on test set\n",
      "|                     |        0 |         1 |        2 |\n",
      "|:--------------------|---------:|----------:|---------:|\n",
      "| hamming loss        | 0.166806 | 0.182692  | 0.193562 |\n",
      "| zero_one_loss       | 0.333612 | 0.352007  | 0.387124 |\n",
      "| one_error           | 0        | 0.0133779 | 0        |\n",
      "| micro av. jaccard   | 0        | 0         | 0        |\n",
      "| macro av. jaccard   | 0        | 0         | 0        |\n",
      "| micro av. precision | 0        | 0         | 0        |\n",
      "| macro av. precision | 0        | 0         | 0        |\n",
      "| micro av. recall    | 0        | 0         | 0        |\n",
      "| macro av. recall    | 0        | 0         | 0        |\n",
      "| micro av. f1        | 0        | 0         | 0        |\n",
      "| macro av. f1        | 0        | 0         | 0        |\n",
      "| imb. av. f1         | 0.833195 | 0.818611  | 0.808597 |\n",
      "Evaluating in combined mode on test set\n",
      "|                     |        0 |        1 |        2 |\n",
      "|:--------------------|---------:|---------:|---------:|\n",
      "| hamming loss        | 0.166806 | 0.174749 | 0.18102  |\n",
      "| zero_one_loss       | 0.333612 | 0.684783 | 1        |\n",
      "| one_error           | 0        | 0        | 0        |\n",
      "| micro av. jaccard   | 0        | 0        | 0        |\n",
      "| macro av. jaccard   | 0        | 0        | 0        |\n",
      "| micro av. precision | 0        | 0        | 0        |\n",
      "| macro av. precision | 0        | 0        | 0        |\n",
      "| micro av. recall    | 0        | 0        | 0        |\n",
      "| macro av. recall    | 0        | 0        | 0        |\n",
      "| micro av. f1        | 0        | 0        | 0        |\n",
      "| macro av. f1        | 0        | 0        | 0        |\n",
      "| imb. av. f1         | 0.833195 | 0.826207 | 0.820707 |\n",
      "File saved to ./checkpoints_new/scene_0_EWC_asy.pkl\n",
      "Number of Tasks: 3\n",
      "Forgetting in task 1: first time imb. av. f1 = 0.8332, after all tasks imb. av. f1 = 0.8332\n",
      "Forgetting in task 2: first time imb. av. f1 = 0.8186, after all tasks imb. av. f1 = 0.8332\n",
      "Forgetting in task 3: first time imb. av. f1 = 0.8086, after all tasks imb. av. f1 = 0.8332\n"
     ]
    },
    {
     "data": {
      "image/png": "[encoded data removed]",
      "text/plain": [
       "<Figure size 360x360 with 1 Axes>"
      ]
     },
     "metadata": {
      "needs_background": "light"
     },
     "output_type": "display_data"
    }
   ],
   "source": [
    "hparams = Hyperparameters('scene', continual_method, device)\n",
    "experiment = ContinualExperiment(hparams)\n",
    "experiment.run()"
   ]
  },
  {
   "cell_type": "markdown",
   "metadata": {},
   "source": [
    "## FoodTruck Dataset"
   ]
  },
  {
   "cell_type": "code",
   "execution_count": 11,
   "metadata": {},
   "outputs": [
    {
     "name": "stderr",
     "output_type": "stream",
     "text": [
      "  0%|          | 0/1 [00:00<?, ?it/s]"
     ]
    },
    {
     "name": "stdout",
     "output_type": "stream",
     "text": [
      "Processing Data ...\n",
      "(250, 21)\n",
      "(250, 21)\n",
      "(250, 12)\n",
      "(250, 12)\n",
      "Begin training in EWC mode ...\n",
      "Training and Evaluating on task 1\n",
      "Train data shape is  (90, 21)\n",
      "Train Labels shape is  (90, 4)\n",
      "Classes trained are: 0 to 4\n",
      "Samples with all negative labels 0\n",
      "Output dimensions: 4\n"
     ]
    },
    {
     "name": "stderr",
     "output_type": "stream",
     "text": [
      "100%|██████████| 1/1 [00:00<00:00, 23.51it/s]"
     ]
    },
    {
     "name": "stdout",
     "output_type": "stream",
     "text": [
      "Evaluating in individual mode on test set\n"
     ]
    },
    {
     "name": "stderr",
     "output_type": "stream",
     "text": [
      "\n"
     ]
    },
    {
     "name": "stdout",
     "output_type": "stream",
     "text": [
      "multilabel-indicator multilabel-indicator\n",
      "float64 float32\n",
      "(250, 4) (250, 4)\n",
      "Evaluating in combined mode on test set\n",
      "multilabel-indicator multilabel-indicator\n",
      "float64 float32\n",
      "(250, 4) (250, 4)\n",
      "Training and Evaluating on task 2\n",
      "Train data shape is  (80, 21)\n",
      "Train Labels shape is  (80, 4)\n",
      "Classes trained are: 4 to 8\n",
      "Samples with all negative labels 0\n",
      "Augmenting class labels...\n",
      "Train Labels shape is  (80, 8)\n",
      "Output dimensions: 8\n",
      "growing model size ...\n"
     ]
    },
    {
     "name": "stderr",
     "output_type": "stream",
     "text": [
      "100%|██████████| 1/1 [00:00<00:00, 25.72it/s]"
     ]
    },
    {
     "name": "stdout",
     "output_type": "stream",
     "text": [
      "Evaluating in individual mode on test set\n"
     ]
    },
    {
     "name": "stderr",
     "output_type": "stream",
     "text": [
      "\n"
     ]
    },
    {
     "name": "stdout",
     "output_type": "stream",
     "text": [
      "multilabel-indicator multilabel-indicator\n",
      "float64 float32\n",
      "(250, 4) (250, 4)\n",
      "Evaluating in combined mode on test set\n",
      "multilabel-indicator multilabel-indicator\n",
      "float64 float32\n",
      "(250, 8) (250, 8)\n",
      "Training and Evaluating on task 3\n",
      "Train data shape is  (80, 21)\n",
      "Train Labels shape is  (80, 4)\n",
      "Classes trained are: 8 to 12\n",
      "Samples with all negative labels 0\n",
      "Augmenting class labels...\n"
     ]
    },
    {
     "name": "stderr",
     "output_type": "stream",
     "text": [
      "100%|██████████| 1/1 [00:00<00:00, 26.89it/s]"
     ]
    },
    {
     "name": "stdout",
     "output_type": "stream",
     "text": [
      "Train Labels shape is  (80, 12)\n",
      "Output dimensions: 12\n",
      "growing model size ...\n",
      "Evaluating in individual mode on test set\n"
     ]
    },
    {
     "name": "stderr",
     "output_type": "stream",
     "text": [
      "\n"
     ]
    },
    {
     "name": "stdout",
     "output_type": "stream",
     "text": [
      "multilabel-indicator multilabel-indicator\n",
      "float64 float32\n",
      "(250, 4) (250, 4)\n",
      "Evaluating in combined mode on test set\n",
      "multilabel-indicator multilabel-indicator\n",
      "float64 float32\n",
      "(250, 12) (250, 12)\n",
      "Evaluating in individual mode on test set\n",
      "|                     |        0 |         1 |        2 |\n",
      "|:--------------------|---------:|----------:|---------:|\n",
      "| hamming loss        | 0.472    | 0.725     | 0.831    |\n",
      "| zero_one_loss       | 0.976    | 1         | 0.996    |\n",
      "| one_error           | 0.008    | 0.036     | 0.52     |\n",
      "| micro av. jaccard   | 0.391753 | 0.0584416 | 0.169    |\n",
      "| macro av. jaccard   | 0.304    | 0.045     | 0.169    |\n",
      "| micro av. precision | 0.405333 | 0.06      | 0.169    |\n",
      "| macro av. precision | 0.304    | 0.045     | 0.169    |\n",
      "| micro av. recall    | 0.921212 | 0.692308  | 1        |\n",
      "| macro av. recall    | 0.75     | 0.75      | 1        |\n",
      "| micro av. f1        | 0.562963 | 0.110429  | 0.289136 |\n",
      "| macro av. f1        | 0.40515  | 0.0843868 | 0.271838 |\n",
      "| imb. av. f1         | 0.585289 | 0.216964  | 0.108521 |\n",
      "Evaluating in combined mode on test set\n",
      "|                     |        0 |        1 |        2 |\n",
      "|:--------------------|---------:|---------:|---------:|\n",
      "| hamming loss        | 0.472    | 0.5985   | 0.676    |\n",
      "| zero_one_loss       | 0.976    | 1        | 1        |\n",
      "| one_error           | 0.008    | 0        | 0        |\n",
      "| micro av. jaccard   | 0.391753 | 0.225744 | 0.203456 |\n",
      "| macro av. jaccard   | 0.304    | 0.1745   | 0.172667 |\n",
      "| micro av. precision | 0.405333 | 0.232667 | 0.2072   |\n",
      "| macro av. precision | 0.304    | 0.1745   | 0.172667 |\n",
      "| micro av. recall    | 0.921212 | 0.883544 | 0.91844  |\n",
      "| macro av. recall    | 0.75     | 0.75     | 0.833333 |\n",
      "| micro av. f1        | 0.562963 | 0.368338 | 0.33812  |\n",
      "| macro av. f1        | 0.40515  | 0.244769 | 0.253792 |\n",
      "| imb. av. f1         | 0.585289 | 0.302732 | 0.244293 |\n",
      "File saved to ./checkpoints_new/FoodTruck_0_EWC_asy.pkl\n",
      "Number of Tasks: 3\n",
      "Forgetting in task 1: first time imb. av. f1 = 0.5853, after all tasks imb. av. f1 = 0.5853\n",
      "Forgetting in task 2: first time imb. av. f1 = 0.2170, after all tasks imb. av. f1 = 0.5853\n",
      "Forgetting in task 3: first time imb. av. f1 = 0.1085, after all tasks imb. av. f1 = 0.5853\n"
     ]
    },
    {
     "data": {
      "image/png": "[encoded data removed]",
      "text/plain": [
       "<Figure size 360x360 with 1 Axes>"
      ]
     },
     "metadata": {
      "needs_background": "light"
     },
     "output_type": "display_data"
    }
   ],
   "source": [
    "hparams = Hyperparameters('FoodTruck', continual_method, device)\n",
    "experiment = ContinualExperiment(hparams)\n",
    "experiment.run()"
   ]
  },
  {
   "cell_type": "markdown",
   "metadata": {},
   "source": [
    "## Human Dataset"
   ]
  },
  {
   "cell_type": "code",
   "execution_count": 12,
   "metadata": {},
   "outputs": [
    {
     "name": "stderr",
     "output_type": "stream",
     "text": [
      "  0%|          | 0/1 [00:00<?, ?it/s]"
     ]
    },
    {
     "name": "stdout",
     "output_type": "stream",
     "text": [
      "Processing Data ...\n",
      "(1862, 440)\n",
      "(1244, 440)\n",
      "(1862, 11)\n",
      "(1244, 11)\n",
      "Begin training in EWC mode ...\n",
      "Training and Evaluating on task 1\n",
      "Train data shape is  (310, 440)\n",
      "Train Labels shape is  (310, 2)\n",
      "Classes trained are: 0 to 2\n",
      "Samples with all negative labels 0\n",
      "Output dimensions: 2\n"
     ]
    },
    {
     "name": "stderr",
     "output_type": "stream",
     "text": [
      "100%|██████████| 1/1 [00:00<00:00,  7.92it/s]"
     ]
    },
    {
     "name": "stdout",
     "output_type": "stream",
     "text": [
      "Evaluating in individual mode on test set\n"
     ]
    },
    {
     "name": "stderr",
     "output_type": "stream",
     "text": [
      "\n"
     ]
    },
    {
     "name": "stdout",
     "output_type": "stream",
     "text": [
      "multilabel-indicator multilabel-indicator\n",
      "float64 float32\n",
      "(1244, 2) (1244, 2)\n",
      "Evaluating in combined mode on test set\n",
      "multilabel-indicator multilabel-indicator\n",
      "float64 float32\n",
      "(1244, 2) (1244, 2)\n",
      "Training and Evaluating on task 2\n",
      "Train data shape is  (310, 440)\n",
      "Train Labels shape is  (310, 2)\n",
      "Classes trained are: 2 to 4\n",
      "Samples with all negative labels 0\n",
      "Augmenting class labels...\n",
      "Train Labels shape is  (310, 4)\n",
      "Output dimensions: 4\n",
      "growing model size ...\n"
     ]
    },
    {
     "name": "stderr",
     "output_type": "stream",
     "text": [
      "100%|██████████| 1/1 [00:00<00:00,  4.65it/s]\n"
     ]
    },
    {
     "name": "stdout",
     "output_type": "stream",
     "text": [
      "Evaluating in individual mode on test set\n",
      "multilabel-indicator multilabel-indicator\n",
      "float64 float32\n",
      "(1244, 2) (1244, 2)\n",
      "Evaluating in combined mode on test set\n",
      "multilabel-indicator multilabel-indicator\n",
      "float64 float32\n",
      "(1244, 4) (1244, 4)\n",
      "Training and Evaluating on task 3\n",
      "Train data shape is  (310, 440)\n",
      "Train Labels shape is  (310, 2)\n",
      "Classes trained are: 4 to 6\n",
      "Samples with all negative labels 2\n",
      "Augmenting class labels...\n",
      "Train Labels shape is  (310, 6)\n",
      "Output dimensions: 6\n",
      "growing model size ...\n"
     ]
    },
    {
     "name": "stderr",
     "output_type": "stream",
     "text": [
      "100%|██████████| 1/1 [00:00<00:00,  5.88it/s]\n"
     ]
    },
    {
     "name": "stdout",
     "output_type": "stream",
     "text": [
      "Evaluating in individual mode on test set\n",
      "multilabel-indicator multilabel-indicator\n",
      "float64 float32\n",
      "(1244, 2) (1244, 2)\n",
      "Evaluating in combined mode on test set\n",
      "multilabel-indicator multilabel-indicator\n",
      "float64 float32\n",
      "(1244, 6) (1244, 6)\n",
      "Training and Evaluating on task 4\n",
      "Train data shape is  (310, 440)\n",
      "Train Labels shape is  (310, 2)\n",
      "Classes trained are: 6 to 8\n",
      "Samples with all negative labels 0\n",
      "Augmenting class labels...\n"
     ]
    },
    {
     "name": "stderr",
     "output_type": "stream",
     "text": [
      "  0%|          | 0/1 [00:00<?, ?it/s]"
     ]
    },
    {
     "name": "stdout",
     "output_type": "stream",
     "text": [
      "Train Labels shape is  (310, 8)\n",
      "Output dimensions: 8\n",
      "growing model size ...\n"
     ]
    },
    {
     "name": "stderr",
     "output_type": "stream",
     "text": [
      "100%|██████████| 1/1 [00:00<00:00,  5.41it/s]\n"
     ]
    },
    {
     "name": "stdout",
     "output_type": "stream",
     "text": [
      "Evaluating in individual mode on test set\n",
      "multilabel-indicator multilabel-indicator\n",
      "float64 float32\n",
      "(1244, 2) (1244, 2)\n",
      "Evaluating in combined mode on test set\n",
      "multilabel-indicator multilabel-indicator\n",
      "float64 float32\n",
      "(1244, 8) (1244, 8)\n",
      "Training and Evaluating on task 5\n",
      "Train data shape is  (622, 440)\n",
      "Train Labels shape is  (622, 3)\n",
      "Classes trained are: 8 to 11\n",
      "Samples with all negative labels 0\n",
      "Augmenting class labels...\n",
      "Train Labels shape is  (622, 11)\n",
      "Output dimensions: 11\n",
      "growing model size ...\n"
     ]
    },
    {
     "name": "stderr",
     "output_type": "stream",
     "text": [
      "100%|██████████| 1/1 [00:00<00:00,  2.66it/s]\n"
     ]
    },
    {
     "name": "stdout",
     "output_type": "stream",
     "text": [
      "Evaluating in individual mode on test set\n",
      "multilabel-indicator multilabel-indicator\n",
      "float64 float32\n",
      "(1244, 3) (1244, 3)\n",
      "Evaluating in combined mode on test set\n",
      "multilabel-indicator multilabel-indicator\n",
      "float64 float32\n",
      "(1244, 11) (1244, 11)\n",
      "Evaluating in individual mode on test set\n",
      "|                     |         0 |         1 |         2 |         3 |         4 |\n",
      "|:--------------------|----------:|----------:|----------:|----------:|----------:|\n",
      "| hamming loss        | 0.381431  | 0.949759  | 0.913585  | 0.453376  | 0.408092  |\n",
      "| zero_one_loss       | 0.741961  | 1         | 0.998392  | 0.879421  | 0.889871  |\n",
      "| one_error           | 0.0209003 | 0.899518  | 0.828778  | 0.0273312 | 0         |\n",
      "| micro av. jaccard   | 0.255686  | 0.0502412 | 0.0864148 | 0.117371  | 0.0836342 |\n",
      "| macro av. jaccard   | 0.131029  | 0.0502412 | 0.0864148 | 0.0602894 | 0.0372454 |\n",
      "| micro av. precision | 0.262058  | 0.0502412 | 0.0864148 | 0.120579  | 0.111736  |\n",
      "| macro av. precision | 0.131029  | 0.0502412 | 0.0864148 | 0.0602894 | 0.0372454 |\n",
      "| micro av. recall    | 0.913165  | 1         | 1         | 0.815217  | 0.249551  |\n",
      "| macro av. recall    | 0.5       | 1         | 1         | 0.5       | 0.333333  |\n",
      "| micro av. f1        | 0.407245  | 0.0956755 | 0.159083  | 0.210084  | 0.154359  |\n",
      "| macro av. f1        | 0.207643  | 0.0945678 | 0.156994  | 0.107604  | 0.0670041 |\n",
      "| imb. av. f1         | 0.911524  | 0.0376801 | 0.0710767 | 0.812329  | 0.86184   |\n",
      "Evaluating in combined mode on test set\n",
      "|                     |         0 |        1 |         2 |         3 |         4 |\n",
      "|:--------------------|----------:|---------:|----------:|----------:|----------:|\n",
      "| hamming loss        | 0.381431  | 0.665595 | 0.748258  | 0.674538  | 0.601871  |\n",
      "| zero_one_loss       | 0.741961  | 1        | 1         | 1         | 1         |\n",
      "| one_error           | 0.0209003 | 0.016881 | 0.016881  | 0         | 0         |\n",
      "| micro av. jaccard   | 0.255686  | 0.119851 | 0.106543  | 0.108381  | 0.103906  |\n",
      "| macro av. jaccard   | 0.131029  | 0.090635 | 0.0892283 | 0.0819936 | 0.0697895 |\n",
      "| micro av. precision | 0.262058  | 0.120847 | 0.107074  | 0.109325  | 0.109669  |\n",
      "| macro av. precision | 0.131029  | 0.090635 | 0.0892283 | 0.0819936 | 0.0697895 |\n",
      "| micro av. recall    | 0.913165  | 0.935685 | 0.955524  | 0.92622   | 0.664117  |\n",
      "| macro av. recall    | 0.5       | 0.75     | 0.833333  | 0.75      | 0.636364  |\n",
      "| micro av. f1        | 0.407245  | 0.214048 | 0.192569  | 0.195566  | 0.188252  |\n",
      "| macro av. f1        | 0.207643  | 0.151106 | 0.153068  | 0.141702  | 0.12133   |\n",
      "| imb. av. f1         | 0.911524  | 0.431715 | 0.349784  | 0.47159   | 0.588653  |\n",
      "File saved to ./checkpoints_new/Human_0_EWC_asy.pkl\n",
      "Number of Tasks: 5\n",
      "Forgetting in task 1: first time imb. av. f1 = 0.9539, after all tasks imb. av. f1 = 0.9115\n",
      "Forgetting in task 2: first time imb. av. f1 = 0.2516, after all tasks imb. av. f1 = 0.9115\n",
      "Forgetting in task 3: first time imb. av. f1 = 0.7100, after all tasks imb. av. f1 = 0.9115\n",
      "Forgetting in task 4: first time imb. av. f1 = 0.8123, after all tasks imb. av. f1 = 0.9115\n",
      "Forgetting in task 5: first time imb. av. f1 = 0.8618, after all tasks imb. av. f1 = 0.9115\n"
     ]
    },
    {
     "data": {
      "image/png": "[encoded data removed]",
      "text/plain": [
       "<Figure size 360x360 with 1 Axes>"
      ]
     },
     "metadata": {
      "needs_background": "light"
     },
     "output_type": "display_data"
    }
   ],
   "source": [
    "hparams = Hyperparameters('Human', continual_method, device)\n",
    "experiment = ContinualExperiment(hparams)\n",
    "experiment.run()"
   ]
  },
  {
   "cell_type": "markdown",
   "metadata": {},
   "source": [
    "## Birds Dataset"
   ]
  },
  {
   "cell_type": "code",
   "execution_count": 13,
   "metadata": {},
   "outputs": [
    {
     "name": "stdout",
     "output_type": "stream",
     "text": [
      "Processing Data ...\n"
     ]
    },
    {
     "name": "stderr",
     "output_type": "stream",
     "text": [
      "  0%|          | 0/1 [00:00<?, ?it/s]"
     ]
    },
    {
     "name": "stdout",
     "output_type": "stream",
     "text": [
      "(322, 260)\n",
      "(323, 260)\n",
      "(322, 19)\n",
      "(323, 19)\n",
      "Begin training in EWC mode ...\n",
      "Training and Evaluating on task 1\n",
      "Train data shape is  (54, 260)\n",
      "Train Labels shape is  (54, 3)\n",
      "Classes trained are: 0 to 3\n",
      "Samples with all negative labels 0\n",
      "Output dimensions: 3\n"
     ]
    },
    {
     "name": "stderr",
     "output_type": "stream",
     "text": [
      "100%|██████████| 1/1 [00:00<00:00, 41.20it/s]"
     ]
    },
    {
     "name": "stdout",
     "output_type": "stream",
     "text": [
      "Evaluating in individual mode on test set\n"
     ]
    },
    {
     "name": "stderr",
     "output_type": "stream",
     "text": [
      "\n"
     ]
    },
    {
     "name": "stdout",
     "output_type": "stream",
     "text": [
      "multilabel-indicator multilabel-indicator\n",
      "float32 float32\n",
      "(323, 3) (323, 3)\n",
      "Evaluating in combined mode on test set\n",
      "multilabel-indicator multilabel-indicator\n",
      "float32 float32\n",
      "(323, 3) (323, 3)\n",
      "Training and Evaluating on task 2\n",
      "Train data shape is  (54, 260)\n",
      "Train Labels shape is  (54, 3)\n",
      "Classes trained are: 3 to 6\n",
      "Samples with all negative labels 1\n",
      "Augmenting class labels...\n"
     ]
    },
    {
     "name": "stderr",
     "output_type": "stream",
     "text": [
      "100%|██████████| 1/1 [00:00<00:00, 35.86it/s]"
     ]
    },
    {
     "name": "stdout",
     "output_type": "stream",
     "text": [
      "Train Labels shape is  (54, 6)\n",
      "Output dimensions: 6\n",
      "growing model size ...\n",
      "Evaluating in individual mode on test set\n"
     ]
    },
    {
     "name": "stderr",
     "output_type": "stream",
     "text": [
      "\n"
     ]
    },
    {
     "name": "stdout",
     "output_type": "stream",
     "text": [
      "multilabel-indicator multilabel-indicator\n",
      "float32 float32\n",
      "(323, 3) (323, 3)\n",
      "Evaluating in combined mode on test set\n",
      "multilabel-indicator multilabel-indicator\n",
      "float32 float32\n",
      "(323, 6) (323, 6)\n"
     ]
    },
    {
     "name": "stderr",
     "output_type": "stream",
     "text": [
      "100%|██████████| 1/1 [00:00<00:00, 36.92it/s]"
     ]
    },
    {
     "name": "stdout",
     "output_type": "stream",
     "text": [
      "Training and Evaluating on task 3\n",
      "Train data shape is  (54, 260)\n",
      "Train Labels shape is  (54, 3)\n",
      "Classes trained are: 6 to 9\n",
      "Samples with all negative labels 0\n",
      "Augmenting class labels...\n",
      "Train Labels shape is  (54, 9)\n",
      "Output dimensions: 9\n",
      "growing model size ...\n",
      "Evaluating in individual mode on test set\n"
     ]
    },
    {
     "name": "stderr",
     "output_type": "stream",
     "text": [
      "\n"
     ]
    },
    {
     "name": "stdout",
     "output_type": "stream",
     "text": [
      "multilabel-indicator multilabel-indicator\n",
      "float32 float32\n",
      "(323, 3) (323, 3)\n",
      "Evaluating in combined mode on test set\n",
      "multilabel-indicator multilabel-indicator\n",
      "float32 float32\n",
      "(323, 9) (323, 9)\n"
     ]
    },
    {
     "name": "stderr",
     "output_type": "stream",
     "text": [
      "100%|██████████| 1/1 [00:00<00:00, 36.89it/s]"
     ]
    },
    {
     "name": "stdout",
     "output_type": "stream",
     "text": [
      "Training and Evaluating on task 4\n",
      "Train data shape is  (54, 260)\n",
      "Train Labels shape is  (54, 3)\n",
      "Classes trained are: 9 to 12\n",
      "Samples with all negative labels 0\n",
      "Augmenting class labels...\n",
      "Train Labels shape is  (54, 12)\n",
      "Output dimensions: 12\n",
      "growing model size ...\n",
      "Evaluating in individual mode on test set\n"
     ]
    },
    {
     "name": "stderr",
     "output_type": "stream",
     "text": [
      "\n"
     ]
    },
    {
     "name": "stdout",
     "output_type": "stream",
     "text": [
      "multilabel-indicator multilabel-indicator\n",
      "float32 float32\n",
      "(323, 3) (323, 3)\n",
      "Evaluating in combined mode on test set\n",
      "multilabel-indicator multilabel-indicator\n",
      "float32 float32\n",
      "(323, 12) (323, 12)\n"
     ]
    },
    {
     "name": "stderr",
     "output_type": "stream",
     "text": [
      "100%|██████████| 1/1 [00:00<00:00, 28.57it/s]"
     ]
    },
    {
     "name": "stdout",
     "output_type": "stream",
     "text": [
      "Training and Evaluating on task 5\n",
      "Train data shape is  (54, 260)\n",
      "Train Labels shape is  (54, 3)\n",
      "Classes trained are: 12 to 15\n",
      "Samples with all negative labels 0\n",
      "Augmenting class labels...\n",
      "Train Labels shape is  (54, 15)\n",
      "Output dimensions: 15\n",
      "growing model size ...\n",
      "Evaluating in individual mode on test set\n"
     ]
    },
    {
     "name": "stderr",
     "output_type": "stream",
     "text": [
      "\n"
     ]
    },
    {
     "name": "stdout",
     "output_type": "stream",
     "text": [
      "multilabel-indicator multilabel-indicator\n",
      "float32 float32\n",
      "(323, 3) (323, 3)\n",
      "Evaluating in combined mode on test set\n",
      "multilabel-indicator multilabel-indicator\n",
      "float32 float32\n",
      "(323, 15) (323, 15)\n"
     ]
    },
    {
     "name": "stderr",
     "output_type": "stream",
     "text": [
      "100%|██████████| 1/1 [00:00<00:00, 27.73it/s]"
     ]
    },
    {
     "name": "stdout",
     "output_type": "stream",
     "text": [
      "Training and Evaluating on task 6\n",
      "Train data shape is  (52, 260)\n",
      "Train Labels shape is  (52, 4)\n",
      "Classes trained are: 15 to 19\n",
      "Samples with all negative labels 0\n",
      "Augmenting class labels...\n",
      "Train Labels shape is  (52, 19)\n",
      "Output dimensions: 19\n",
      "growing model size ...\n",
      "Evaluating in individual mode on test set\n"
     ]
    },
    {
     "name": "stderr",
     "output_type": "stream",
     "text": [
      "\n"
     ]
    },
    {
     "name": "stdout",
     "output_type": "stream",
     "text": [
      "multilabel-indicator multilabel-indicator\n",
      "float32 float32\n",
      "(323, 4) (323, 4)\n",
      "Evaluating in combined mode on test set\n",
      "multilabel-indicator multilabel-indicator\n",
      "float32 float32\n",
      "(323, 19) (323, 19)\n",
      "Evaluating in individual mode on test set\n",
      "|                     |         0 |         1 |          2 |          3 |         4 |          5 |\n",
      "|:--------------------|----------:|----------:|-----------:|-----------:|----------:|-----------:|\n",
      "| hamming loss        | 0.637771  | 0.658411  | 0.0743034  | 0.385965   | 0.332301  | 0.25387    |\n",
      "| zero_one_loss       | 1         | 1         | 0.201238   | 0.965944   | 0.947368  | 0.96904    |\n",
      "| one_error           | 0.0557276 | 0.0154799 | 0.00309598 | 0.00928793 | 0         | 0          |\n",
      "| micro av. jaccard   | 0.0789866 | 0.0199693 | 0          | 0.0410256  | 0.0557185 | 0.0295858  |\n",
      "| macro av. jaccard   | 0.0546956 | 0.0134159 | 0          | 0.0165119  | 0.0196078 | 0.00773994 |\n",
      "| micro av. precision | 0.0820433 | 0.0201238 | 0          | 0.0495356  | 0.0588235 | 0.0309598  |\n",
      "| macro av. precision | 0.0546956 | 0.0134159 | 0          | 0.0165119  | 0.0196078 | 0.00773994 |\n",
      "| micro av. recall    | 0.679487  | 0.722222  | 0          | 0.192771   | 0.513514  | 0.4        |\n",
      "| macro av. recall    | 0.666667  | 0.666667  | 0          | 0.333333   | 0.333333  | 0.25       |\n",
      "| micro av. f1        | 0.146409  | 0.0391566 | 0          | 0.0788177  | 0.105556  | 0.0574713  |\n",
      "| macro av. f1        | 0.0972489 | 0.0262995 | 0          | 0.0314651  | 0.037037  | 0.015015   |\n",
      "| imb. av. f1         | 0.223147  | 0.389966  | 0.929623   | 0.476634   | 0.85577   | 0.868246   |\n",
      "Evaluating in combined mode on test set\n",
      "|                     |         0 |         1 |         2 |         3 |         4 |         5 |\n",
      "|:--------------------|----------:|----------:|----------:|----------:|----------:|----------:|\n",
      "| hamming loss        | 0.637771  | 0.648091  | 0.456828  | 0.439112  | 0.41775   | 0.383249  |\n",
      "| zero_one_loss       | 1         | 1         | 1         | 1         | 1         | 1         |\n",
      "| one_error           | 0.0557276 | 0         | 0         | 0         | 0         | 0         |\n",
      "| micro av. jaccard   | 0.0789866 | 0.0499244 | 0.0473458 | 0.0459641 | 0.0475294 | 0.045067  |\n",
      "| macro av. jaccard   | 0.0546956 | 0.0340557 | 0.0227038 | 0.0211558 | 0.0208462 | 0.018087  |\n",
      "| micro av. precision | 0.0820433 | 0.0510836 | 0.0510836 | 0.050774  | 0.0521156 | 0.0490933 |\n",
      "| macro av. precision | 0.0546956 | 0.0340557 | 0.0227038 | 0.0211558 | 0.0208462 | 0.018087  |\n",
      "| micro av. recall    | 0.679487  | 0.6875    | 0.392857  | 0.326693  | 0.350694  | 0.354633  |\n",
      "| macro av. recall    | 0.666667  | 0.666667  | 0.444444  | 0.416667  | 0.4       | 0.368421  |\n",
      "| micro av. f1        | 0.146409  | 0.0951009 | 0.090411  | 0.0878885 | 0.0907457 | 0.0862471 |\n",
      "| macro av. f1        | 0.0972489 | 0.0617742 | 0.0411828 | 0.0387534 | 0.0384101 | 0.0334848 |\n",
      "| imb. av. f1         | 0.223147  | 0.3402    | 0.440124  | 0.445123  | 0.566495  | 0.678525  |\n",
      "File saved to ./checkpoints_new/birds_0_EWC_asy.pkl\n",
      "Number of Tasks: 6\n",
      "Forgetting in task 1: first time imb. av. f1 = 0.3055, after all tasks imb. av. f1 = 0.2231\n",
      "Forgetting in task 2: first time imb. av. f1 = 0.6100, after all tasks imb. av. f1 = 0.2231\n",
      "Forgetting in task 3: first time imb. av. f1 = 0.0704, after all tasks imb. av. f1 = 0.2231\n",
      "Forgetting in task 4: first time imb. av. f1 = 0.9246, after all tasks imb. av. f1 = 0.2231\n",
      "Forgetting in task 5: first time imb. av. f1 = 0.1442, after all tasks imb. av. f1 = 0.2231\n",
      "Forgetting in task 6: first time imb. av. f1 = 0.8682, after all tasks imb. av. f1 = 0.2231\n"
     ]
    },
    {
     "data": {
      "image/png": "[encoded data removed]",
      "text/plain": [
       "<Figure size 360x360 with 1 Axes>"
      ]
     },
     "metadata": {
      "needs_background": "light"
     },
     "output_type": "display_data"
    }
   ],
   "source": [
    "hparams = Hyperparameters('birds', continual_method, device)\n",
    "experiment = ContinualExperiment(hparams)\n",
    "experiment.run()"
   ]
  },
  {
   "cell_type": "markdown",
   "metadata": {},
   "source": [
    "## Yeast Dataset, 6 tasks"
   ]
  },
  {
   "cell_type": "code",
   "execution_count": 14,
   "metadata": {},
   "outputs": [
    {
     "name": "stdout",
     "output_type": "stream",
     "text": [
      "Processing Data ...\n"
     ]
    },
    {
     "name": "stderr",
     "output_type": "stream",
     "text": [
      "100%|██████████| 1/1 [00:00<00:00,  8.53it/s]"
     ]
    },
    {
     "name": "stdout",
     "output_type": "stream",
     "text": [
      "(1500, 103)\n",
      "(917, 103)\n",
      "(1500, 13)\n",
      "(917, 13)\n",
      "Begin training in EWC mode ...\n",
      "Training and Evaluating on task 1\n",
      "Train data shape is  (250, 103)\n",
      "Train Labels shape is  (250, 2)\n",
      "Classes trained are: 0 to 2\n",
      "Samples with all negative labels 0\n",
      "Output dimensions: 2\n",
      "Evaluating in individual mode on test set\n"
     ]
    },
    {
     "name": "stderr",
     "output_type": "stream",
     "text": [
      "\n"
     ]
    },
    {
     "name": "stdout",
     "output_type": "stream",
     "text": [
      "multilabel-indicator multilabel-indicator\n",
      "float32 float32\n",
      "(917, 2) (917, 2)\n",
      "Evaluating in combined mode on test set\n",
      "multilabel-indicator multilabel-indicator\n",
      "float32 float32\n",
      "(917, 2) (917, 2)\n",
      "Training and Evaluating on task 2\n",
      "Train data shape is  (250, 103)\n",
      "Train Labels shape is  (250, 2)\n",
      "Classes trained are: 2 to 4\n",
      "Samples with all negative labels 0\n",
      "Augmenting class labels...\n",
      "Train Labels shape is  (250, 4)\n",
      "Output dimensions: 4\n",
      "growing model size ...\n"
     ]
    },
    {
     "name": "stderr",
     "output_type": "stream",
     "text": [
      "100%|██████████| 1/1 [00:00<00:00,  6.47it/s]\n"
     ]
    },
    {
     "name": "stdout",
     "output_type": "stream",
     "text": [
      "Evaluating in individual mode on test set\n",
      "multilabel-indicator multilabel-indicator\n",
      "float32 float32\n",
      "(917, 2) (917, 2)\n",
      "Evaluating in combined mode on test set\n",
      "multilabel-indicator multilabel-indicator\n",
      "float32 float32\n",
      "(917, 4) (917, 4)\n",
      "Training and Evaluating on task 3\n",
      "Train data shape is  (250, 103)\n",
      "Train Labels shape is  (250, 2)\n",
      "Classes trained are: 4 to 6\n",
      "Samples with all negative labels 0\n",
      "Augmenting class labels...\n",
      "Train Labels shape is  (250, 6)\n",
      "Output dimensions: 6\n",
      "growing model size ...\n"
     ]
    },
    {
     "name": "stderr",
     "output_type": "stream",
     "text": [
      "100%|██████████| 1/1 [00:00<00:00,  8.09it/s]\n"
     ]
    },
    {
     "name": "stdout",
     "output_type": "stream",
     "text": [
      "Evaluating in individual mode on test set\n",
      "multilabel-indicator multilabel-indicator\n",
      "float32 float32\n",
      "(917, 2) (917, 2)\n",
      "Evaluating in combined mode on test set\n",
      "multilabel-indicator multilabel-indicator\n",
      "float32 float32\n",
      "(917, 6) (917, 6)\n",
      "Training and Evaluating on task 4\n",
      "Train data shape is  (250, 103)\n",
      "Train Labels shape is  (250, 2)\n",
      "Classes trained are: 6 to 8\n",
      "Samples with all negative labels 0\n",
      "Augmenting class labels...\n",
      "Train Labels shape is  (250, 8)\n",
      "Output dimensions: 8\n",
      "growing model size ...\n"
     ]
    },
    {
     "name": "stderr",
     "output_type": "stream",
     "text": [
      "100%|██████████| 1/1 [00:00<00:00,  8.03it/s]\n"
     ]
    },
    {
     "name": "stdout",
     "output_type": "stream",
     "text": [
      "Evaluating in individual mode on test set\n",
      "multilabel-indicator multilabel-indicator\n",
      "float32 float32\n",
      "(917, 2) (917, 2)\n",
      "Evaluating in combined mode on test set\n",
      "multilabel-indicator multilabel-indicator\n",
      "float32 float32\n",
      "(917, 8) (917, 8)\n",
      "Training and Evaluating on task 5\n",
      "Train data shape is  (250, 103)\n",
      "Train Labels shape is  (250, 2)\n",
      "Classes trained are: 8 to 10\n",
      "Samples with all negative labels 0\n",
      "Augmenting class labels...\n",
      "Train Labels shape is  (250, 10)\n",
      "Output dimensions: 10\n",
      "growing model size ...\n"
     ]
    },
    {
     "name": "stderr",
     "output_type": "stream",
     "text": [
      "100%|██████████| 1/1 [00:00<00:00,  6.91it/s]\n"
     ]
    },
    {
     "name": "stdout",
     "output_type": "stream",
     "text": [
      "Evaluating in individual mode on test set\n",
      "multilabel-indicator multilabel-indicator\n",
      "float32 float32\n",
      "(917, 2) (917, 2)\n",
      "Evaluating in combined mode on test set\n",
      "multilabel-indicator multilabel-indicator\n",
      "float32 float32\n",
      "(917, 10) (917, 10)\n",
      "Training and Evaluating on task 6\n",
      "Train data shape is  (250, 103)\n",
      "Train Labels shape is  (250, 3)\n",
      "Classes trained are: 10 to 13\n",
      "Samples with all negative labels 0\n",
      "Augmenting class labels...\n",
      "Train Labels shape is  (250, 13)\n",
      "Output dimensions: 13\n",
      "growing model size ...\n"
     ]
    },
    {
     "name": "stderr",
     "output_type": "stream",
     "text": [
      "100%|██████████| 1/1 [00:00<00:00,  7.17it/s]\n"
     ]
    },
    {
     "name": "stdout",
     "output_type": "stream",
     "text": [
      "Evaluating in individual mode on test set\n",
      "multilabel-indicator multilabel-indicator\n",
      "float32 float32\n",
      "(917, 3) (917, 3)\n",
      "Evaluating in combined mode on test set\n",
      "multilabel-indicator multilabel-indicator\n",
      "float32 float32\n",
      "(917, 13) (917, 13)\n",
      "Evaluating in individual mode on test set\n",
      "|                     |        0 |        1 |        2 |        3 |         4 |        5 |\n",
      "|:--------------------|---------:|---------:|---------:|---------:|----------:|---------:|\n",
      "| hamming loss        | 0.629771 | 0.610142 | 0.727372 | 0.804798 | 0.906216  | 0.468557 |\n",
      "| zero_one_loss       | 0.74482  | 0.750273 | 0.80916  | 0.847328 | 0.970556  | 0.932388 |\n",
      "| one_error           | 0.514722 | 0.470011 | 0.645583 | 0.762268 | 0.841876  | 0.223555 |\n",
      "| micro av. jaccard   | 0.370229 | 0.389858 | 0.272628 | 0.195202 | 0.0937841 | 0.531443 |\n",
      "| macro av. jaccard   | 0.370229 | 0.389858 | 0.272628 | 0.195202 | 0.0937841 | 0.531443 |\n",
      "| micro av. precision | 0.370229 | 0.389858 | 0.272628 | 0.195202 | 0.0937841 | 0.531443 |\n",
      "| macro av. precision | 0.370229 | 0.389858 | 0.272628 | 0.195202 | 0.0937841 | 0.531443 |\n",
      "| micro av. recall    | 1        | 1        | 1        | 1        | 1         | 1        |\n",
      "| macro av. recall    | 1        | 1        | 1        | 1        | 1         | 1        |\n",
      "| micro av. f1        | 0.54039  | 0.561004 | 0.428449 | 0.326642 | 0.171486  | 0.694042 |\n",
      "| macro av. f1        | 0.537739 | 0.560334 | 0.427339 | 0.326442 | 0.17142   | 0.630542 |\n",
      "| imb. av. f1         | 0.361062 | 0.387558 | 0.268453 | 0.194329 | 0.0933328 | 0.236271 |\n",
      "Evaluating in combined mode on test set\n",
      "|                     |        0 |        1 |         2 |         3 |         4 |        5 |\n",
      "|:--------------------|---------:|---------:|----------:|----------:|----------:|---------:|\n",
      "| hamming loss        | 0.629771 | 0.619956 | 0.655762  | 0.693021  | 0.73566   | 0.674021 |\n",
      "| zero_one_loss       | 0.74482  | 0.964013 | 0.998909  | 1         | 1         | 1        |\n",
      "| one_error           | 0.514722 | 0.23337  | 0.0937841 | 0.0359869 | 0.0185387 | 0        |\n",
      "| micro av. jaccard   | 0.370229 | 0.380044 | 0.344238  | 0.306979  | 0.26434   | 0.325979 |\n",
      "| macro av. jaccard   | 0.370229 | 0.380044 | 0.344238  | 0.306979  | 0.26434   | 0.325979 |\n",
      "| micro av. precision | 0.370229 | 0.380044 | 0.344238  | 0.306979  | 0.26434   | 0.325979 |\n",
      "| macro av. precision | 0.370229 | 0.380044 | 0.344238  | 0.306979  | 0.26434   | 0.325979 |\n",
      "| micro av. recall    | 1        | 1        | 1         | 1         | 1         | 1        |\n",
      "| macro av. recall    | 1        | 1        | 1         | 1         | 1         | 1        |\n",
      "| micro av. f1        | 0.54039  | 0.55077  | 0.512169  | 0.469754  | 0.418147  | 0.491681 |\n",
      "| macro av. f1        | 0.537739 | 0.549037 | 0.508471  | 0.462964  | 0.404655  | 0.456783 |\n",
      "| imb. av. f1         | 0.361062 | 0.373842 | 0.330611  | 0.281366  | 0.200913  | 0.208104 |\n",
      "File saved to ./checkpoints_new/Yeast_0_EWC_asy.pkl\n",
      "Number of Tasks: 6\n",
      "Forgetting in task 1: first time imb. av. f1 = 0.3611, after all tasks imb. av. f1 = 0.3611\n",
      "Forgetting in task 2: first time imb. av. f1 = 0.3876, after all tasks imb. av. f1 = 0.3611\n",
      "Forgetting in task 3: first time imb. av. f1 = 0.2685, after all tasks imb. av. f1 = 0.3611\n",
      "Forgetting in task 4: first time imb. av. f1 = 0.1943, after all tasks imb. av. f1 = 0.3611\n",
      "Forgetting in task 5: first time imb. av. f1 = 0.0933, after all tasks imb. av. f1 = 0.3611\n",
      "Forgetting in task 6: first time imb. av. f1 = 0.2363, after all tasks imb. av. f1 = 0.3611\n"
     ]
    },
    {
     "data": {
      "image/png": "[encoded data removed]",
      "text/plain": [
       "<Figure size 360x360 with 1 Axes>"
      ]
     },
     "metadata": {
      "needs_background": "light"
     },
     "output_type": "display_data"
    }
   ],
   "source": [
    "hparams = Hyperparameters('Yeast', continual_method, device, num_tasks=6)\n",
    "experiment = ContinualExperiment(hparams)\n",
    "experiment.run()"
   ]
  },
  {
   "cell_type": "markdown",
   "metadata": {},
   "source": [
    "## Eukaryote Dataset"
   ]
  },
  {
   "cell_type": "code",
   "execution_count": 15,
   "metadata": {},
   "outputs": [
    {
     "name": "stderr",
     "output_type": "stream",
     "text": [
      "  0%|          | 0/1 [00:00<?, ?it/s]"
     ]
    },
    {
     "name": "stdout",
     "output_type": "stream",
     "text": [
      "Processing Data ...\n",
      "(4658, 440)\n",
      "(3108, 440)\n",
      "(4658, 19)\n",
      "(3108, 19)\n",
      "Begin training in EWC mode ...\n",
      "Training and Evaluating on task 1\n",
      "Train data shape is  (435, 440)\n",
      "Train Labels shape is  (435, 2)\n",
      "Classes trained are: 0 to 2\n",
      "Samples with all negative labels 0\n",
      "Output dimensions: 2\n"
     ]
    },
    {
     "name": "stderr",
     "output_type": "stream",
     "text": [
      "100%|██████████| 1/1 [00:00<00:00,  4.67it/s]\n"
     ]
    },
    {
     "name": "stdout",
     "output_type": "stream",
     "text": [
      "Evaluating in individual mode on test set\n",
      "multilabel-indicator multilabel-indicator\n",
      "float64 float32\n",
      "(3108, 2) (3108, 2)\n",
      "Evaluating in combined mode on test set\n",
      "multilabel-indicator multilabel-indicator\n",
      "float64 float32\n",
      "(3108, 2) (3108, 2)\n",
      "Training and Evaluating on task 2\n",
      "Train data shape is  (530, 440)\n",
      "Train Labels shape is  (530, 2)\n",
      "Classes trained are: 2 to 4\n",
      "Samples with all negative labels 0\n",
      "Augmenting class labels...\n",
      "Train Labels shape is  (530, 4)\n",
      "Output dimensions: 4\n",
      "growing model size ...\n"
     ]
    },
    {
     "name": "stderr",
     "output_type": "stream",
     "text": [
      "100%|██████████| 1/1 [00:00<00:00,  2.66it/s]\n"
     ]
    },
    {
     "name": "stdout",
     "output_type": "stream",
     "text": [
      "Evaluating in individual mode on test set\n",
      "multilabel-indicator multilabel-indicator\n",
      "float64 float32\n",
      "(3108, 2) (3108, 2)\n",
      "Evaluating in combined mode on test set\n",
      "multilabel-indicator multilabel-indicator\n",
      "float64 float32\n",
      "(3108, 4) (3108, 4)\n",
      "Training and Evaluating on task 3\n",
      "Train data shape is  (438, 440)\n",
      "Train Labels shape is  (438, 2)\n",
      "Classes trained are: 4 to 6\n",
      "Samples with all negative labels 1\n",
      "Augmenting class labels...\n"
     ]
    },
    {
     "name": "stderr",
     "output_type": "stream",
     "text": [
      "  0%|          | 0/1 [00:00<?, ?it/s]"
     ]
    },
    {
     "name": "stdout",
     "output_type": "stream",
     "text": [
      "Train Labels shape is  (438, 6)\n",
      "Output dimensions: 6\n",
      "growing model size ...\n"
     ]
    },
    {
     "name": "stderr",
     "output_type": "stream",
     "text": [
      "100%|██████████| 1/1 [00:00<00:00,  3.35it/s]\n"
     ]
    },
    {
     "name": "stdout",
     "output_type": "stream",
     "text": [
      "Evaluating in individual mode on test set\n",
      "multilabel-indicator multilabel-indicator\n",
      "float64 float32\n",
      "(3108, 2) (3108, 2)\n",
      "Evaluating in combined mode on test set\n",
      "multilabel-indicator multilabel-indicator\n",
      "float64 float32\n",
      "(3108, 6) (3108, 6)\n",
      "Training and Evaluating on task 4\n",
      "Train data shape is  (465, 440)\n",
      "Train Labels shape is  (465, 2)\n",
      "Classes trained are: 6 to 8\n",
      "Samples with all negative labels 1\n",
      "Augmenting class labels...\n",
      "Train Labels shape is  (465, 8)\n",
      "Output dimensions: 8\n",
      "growing model size ...\n"
     ]
    },
    {
     "name": "stderr",
     "output_type": "stream",
     "text": [
      "100%|██████████| 1/1 [00:00<00:00,  3.11it/s]\n"
     ]
    },
    {
     "name": "stdout",
     "output_type": "stream",
     "text": [
      "Evaluating in individual mode on test set\n",
      "multilabel-indicator multilabel-indicator\n",
      "float64 float32\n",
      "(3108, 2) (3108, 2)\n",
      "Evaluating in combined mode on test set\n",
      "multilabel-indicator multilabel-indicator\n",
      "float64 float32\n",
      "(3108, 8) (3108, 8)\n",
      "Training and Evaluating on task 5\n",
      "Train data shape is  (465, 440)\n",
      "Train Labels shape is  (465, 2)\n",
      "Classes trained are: 8 to 10\n",
      "Samples with all negative labels 0\n",
      "Augmenting class labels...\n"
     ]
    },
    {
     "name": "stderr",
     "output_type": "stream",
     "text": [
      "  0%|          | 0/1 [00:00<?, ?it/s]"
     ]
    },
    {
     "name": "stdout",
     "output_type": "stream",
     "text": [
      "Train Labels shape is  (465, 10)\n",
      "Output dimensions: 10\n",
      "growing model size ...\n"
     ]
    },
    {
     "name": "stderr",
     "output_type": "stream",
     "text": [
      "100%|██████████| 1/1 [00:00<00:00,  3.07it/s]\n"
     ]
    },
    {
     "name": "stdout",
     "output_type": "stream",
     "text": [
      "Evaluating in individual mode on test set\n",
      "multilabel-indicator multilabel-indicator\n",
      "float64 float32\n",
      "(3108, 2) (3108, 2)\n",
      "Evaluating in combined mode on test set\n",
      "multilabel-indicator multilabel-indicator\n",
      "float64 float32\n",
      "(3108, 10) (3108, 10)\n",
      "Training and Evaluating on task 6\n",
      "Train data shape is  (465, 440)\n",
      "Train Labels shape is  (465, 2)\n",
      "Classes trained are: 10 to 12\n",
      "Samples with all negative labels 2\n",
      "Augmenting class labels...\n"
     ]
    },
    {
     "name": "stderr",
     "output_type": "stream",
     "text": [
      "  0%|          | 0/1 [00:00<?, ?it/s]"
     ]
    },
    {
     "name": "stdout",
     "output_type": "stream",
     "text": [
      "Train Labels shape is  (465, 12)\n",
      "Output dimensions: 12\n",
      "growing model size ...\n"
     ]
    },
    {
     "name": "stderr",
     "output_type": "stream",
     "text": [
      "100%|██████████| 1/1 [00:00<00:00,  3.00it/s]\n"
     ]
    },
    {
     "name": "stdout",
     "output_type": "stream",
     "text": [
      "Evaluating in individual mode on test set\n",
      "multilabel-indicator multilabel-indicator\n",
      "float64 float32\n",
      "(3108, 2) (3108, 2)\n",
      "Evaluating in combined mode on test set\n",
      "multilabel-indicator multilabel-indicator\n",
      "float64 float32\n",
      "(3108, 12) (3108, 12)\n",
      "Training and Evaluating on task 7\n",
      "Train data shape is  (465, 440)\n",
      "Train Labels shape is  (465, 2)\n",
      "Classes trained are: 12 to 14\n",
      "Samples with all negative labels 2\n",
      "Augmenting class labels...\n"
     ]
    },
    {
     "name": "stderr",
     "output_type": "stream",
     "text": [
      "  0%|          | 0/1 [00:00<?, ?it/s]"
     ]
    },
    {
     "name": "stdout",
     "output_type": "stream",
     "text": [
      "Train Labels shape is  (465, 14)\n",
      "Output dimensions: 14\n",
      "growing model size ...\n"
     ]
    },
    {
     "name": "stderr",
     "output_type": "stream",
     "text": [
      "100%|██████████| 1/1 [00:00<00:00,  2.97it/s]\n"
     ]
    },
    {
     "name": "stdout",
     "output_type": "stream",
     "text": [
      "Evaluating in individual mode on test set\n",
      "multilabel-indicator multilabel-indicator\n",
      "float64 float32\n",
      "(3108, 2) (3108, 2)\n",
      "Evaluating in combined mode on test set\n",
      "multilabel-indicator multilabel-indicator\n",
      "float64 float32\n",
      "(3108, 14) (3108, 14)\n",
      "Training and Evaluating on task 8\n",
      "Train data shape is  (465, 440)\n",
      "Train Labels shape is  (465, 2)\n",
      "Classes trained are: 14 to 16\n",
      "Samples with all negative labels 2\n",
      "Augmenting class labels...\n"
     ]
    },
    {
     "name": "stderr",
     "output_type": "stream",
     "text": [
      "  0%|          | 0/1 [00:00<?, ?it/s]"
     ]
    },
    {
     "name": "stdout",
     "output_type": "stream",
     "text": [
      "Train Labels shape is  (465, 16)\n",
      "Output dimensions: 16\n",
      "growing model size ...\n"
     ]
    },
    {
     "name": "stderr",
     "output_type": "stream",
     "text": [
      "100%|██████████| 1/1 [00:00<00:00,  2.94it/s]\n"
     ]
    },
    {
     "name": "stdout",
     "output_type": "stream",
     "text": [
      "Evaluating in individual mode on test set\n",
      "multilabel-indicator multilabel-indicator\n",
      "float64 float32\n",
      "(3108, 2) (3108, 2)\n",
      "Evaluating in combined mode on test set\n",
      "multilabel-indicator multilabel-indicator\n",
      "float64 float32\n",
      "(3108, 16) (3108, 16)\n",
      "Training and Evaluating on task 9\n",
      "Train data shape is  (465, 440)\n",
      "Train Labels shape is  (465, 2)\n",
      "Classes trained are: 16 to 18\n",
      "Samples with all negative labels 2\n",
      "Augmenting class labels...\n"
     ]
    },
    {
     "name": "stderr",
     "output_type": "stream",
     "text": [
      "  0%|          | 0/1 [00:00<?, ?it/s]"
     ]
    },
    {
     "name": "stdout",
     "output_type": "stream",
     "text": [
      "Train Labels shape is  (465, 18)\n",
      "Output dimensions: 18\n",
      "growing model size ...\n"
     ]
    },
    {
     "name": "stderr",
     "output_type": "stream",
     "text": [
      "100%|██████████| 1/1 [00:00<00:00,  2.98it/s]\n"
     ]
    },
    {
     "name": "stdout",
     "output_type": "stream",
     "text": [
      "Evaluating in individual mode on test set\n",
      "multilabel-indicator multilabel-indicator\n",
      "float64 float32\n",
      "(3108, 2) (3108, 2)\n",
      "Evaluating in combined mode on test set\n",
      "multilabel-indicator multilabel-indicator\n",
      "float64 float32\n",
      "(3108, 18) (3108, 18)\n",
      "Training and Evaluating on task 10\n",
      "Train data shape is  (465, 440)\n",
      "Train Labels shape is  (465, 1)\n",
      "Classes trained are: 18 to 19\n",
      "Samples with all negative labels 0\n",
      "Augmenting class labels...\n"
     ]
    },
    {
     "name": "stderr",
     "output_type": "stream",
     "text": [
      "  0%|          | 0/1 [00:00<?, ?it/s]"
     ]
    },
    {
     "name": "stdout",
     "output_type": "stream",
     "text": [
      "Train Labels shape is  (465, 19)\n",
      "Output dimensions: 19\n",
      "growing model size ...\n"
     ]
    },
    {
     "name": "stderr",
     "output_type": "stream",
     "text": [
      "100%|██████████| 1/1 [00:00<00:00,  3.59it/s]\n"
     ]
    },
    {
     "name": "stdout",
     "output_type": "stream",
     "text": [
      "Evaluating in individual mode on test set\n",
      "binary binary\n",
      "float64 float32\n",
      "(3108, 1) (3108, 1)\n",
      "Evaluating in combined mode on test set\n",
      "multilabel-indicator multilabel-indicator\n",
      "float64 float32\n",
      "(3108, 19) (3108, 19)\n",
      "Evaluating in individual mode on test set\n",
      "|                     |          0 |         1 |        2 |         3 |         4 |         5 |         6 |        7 |          8 |         9 |\n",
      "|:--------------------|-----------:|----------:|---------:|----------:|----------:|----------:|----------:|---------:|-----------:|----------:|\n",
      "| hamming loss        | 0.541506   | 0.969112  | 0.145753 | 0.037323  | 0.0701416 | 0.0210746 | 0.0407014 | 0.157497 | 0.00788288 | 0.978121  |\n",
      "| zero_one_loss       | 0.993887   | 1         | 0.291506 | 0.0746461 | 0.140283  | 0.0421493 | 0.0814028 | 0.314994 | 0.0157658  | 0.978121  |\n",
      "| one_error           | 0.0891248  | 0.938224  | 0        | 0         | 0         | 0         | 0         | 0        | 0          | 0.978121  |\n",
      "| micro av. jaccard   | 0.00590667 | 0.030888  | 0        | 0         | 0         | 0         | 0         | 0        | 0          | 0.0110605 |\n",
      "| macro av. jaccard   | 0.0032175  | 0.030888  | 0        | 0         | 0         | 0         | 0         | 0        | 0          | 0.0109395 |\n",
      "| micro av. precision | 0.00643501 | 0.030888  | 0        | 0         | 0         | 0         | 0         | 0        | 0          | 0.021879  |\n",
      "| macro av. precision | 0.0032175  | 0.030888  | 0        | 0         | 0         | 0         | 0         | 0        | 0          | 0.0109395 |\n",
      "| micro av. recall    | 0.0671141  | 1         | 0        | 0         | 0         | 0         | 0         | 0        | 0          | 0.021879  |\n",
      "| macro av. recall    | 0.5        | 1         | 0        | 0         | 0         | 0         | 0         | 0        | 0          | 0.5       |\n",
      "| micro av. f1        | 0.011744   | 0.0599251 | 0        | 0         | 0         | 0         | 0         | 0        | 0          | 0.021879  |\n",
      "| macro av. f1        | 0.00639386 | 0.0592891 | 0        | 0         | 0         | 0         | 0         | 0        | 0          | 0.0214106 |\n",
      "| imb. av. f1         | 0.0697233  | 0.0197296 | 0.979858 | 0.973941  | 0.989215  | 0.988081  | 0.991237  | 0.971526 | 0.992146   | 0.021879  |\n",
      "Evaluating in combined mode on test set\n",
      "|                     |          0 |         1 |         2 |          3 |          4 |          5 |          6 |          7 |          8 |          9 |\n",
      "|:--------------------|-----------:|----------:|----------:|-----------:|-----------:|-----------:|-----------:|-----------:|-----------:|-----------:|\n",
      "| hamming loss        | 0.541506   | 0.755309  | 0.552124  | 0.423423   | 0.352767   | 0.297485   | 0.260802   | 0.247889   | 0.221221   | 0.261058   |\n",
      "| zero_one_loss       | 0.993887   | 1         | 1         | 1          | 1          | 1          | 1          | 1          | 1          | 1          |\n",
      "| one_error           | 0.0891248  | 0.0891248 | 0         | 0          | 0          | 0          | 0          | 0          | 0          | 0          |\n",
      "| micro av. jaccard   | 0.00590667 | 0.0220787 | 0.0201751 | 0.0197393  | 0.0189692  | 0.0187494  | 0.0183391  | 0.0169072  | 0.0168414  | 0.0178389  |\n",
      "| macro av. jaccard   | 0.0032175  | 0.0170528 | 0.0113685 | 0.00852638 | 0.00682111 | 0.00568426 | 0.00487222 | 0.00426319 | 0.0037895  | 0.00474158 |\n",
      "| micro av. precision | 0.00643501 | 0.022737  | 0.022737  | 0.022737   | 0.022737   | 0.022737   | 0.022737   | 0.022737   | 0.022737   | 0.0225225  |\n",
      "| macro av. precision | 0.0032175  | 0.0170528 | 0.0113685 | 0.00852638 | 0.00682111 | 0.00568426 | 0.00487222 | 0.00426319 | 0.0037895  | 0.00474158 |\n",
      "| micro av. recall    | 0.0671141  | 0.432653  | 0.151862  | 0.130221   | 0.102713   | 0.0965831  | 0.0866013  | 0.0618617  | 0.0609896  | 0.0790068  |\n",
      "| macro av. recall    | 0.5        | 0.75      | 0.5       | 0.375      | 0.3        | 0.25       | 0.214286   | 0.1875     | 0.166667   | 0.210526   |\n",
      "| micro av. f1        | 0.011744   | 0.0432036 | 0.0395522 | 0.0387144  | 0.0372322  | 0.0368088  | 0.0360177  | 0.0332523  | 0.033125   | 0.0350526  |\n",
      "| macro av. f1        | 0.00639386 | 0.0328415 | 0.0218943 | 0.0164207  | 0.0131366  | 0.0109472  | 0.00938328 | 0.00821037 | 0.00729811 | 0.00916774 |\n",
      "| imb. av. f1         | 0.0697233  | 0.0504615 | 0.30517   | 0.422417   | 0.589049   | 0.673077   | 0.743399   | 0.75827    | 0.801937   | 0.776009   |\n",
      "File saved to ./checkpoints_new/Eukaryote_0_EWC_asy.pkl\n",
      "Number of Tasks: 10\n",
      "Forgetting in task 1: first time imb. av. f1 = 0.9878, after all tasks imb. av. f1 = 0.0697\n",
      "Forgetting in task 2: first time imb. av. f1 = 0.0197, after all tasks imb. av. f1 = 0.0697\n",
      "Forgetting in task 3: first time imb. av. f1 = 0.9796, after all tasks imb. av. f1 = 0.0697\n",
      "Forgetting in task 4: first time imb. av. f1 = 0.9739, after all tasks imb. av. f1 = 0.0697\n",
      "Forgetting in task 5: first time imb. av. f1 = 0.9827, after all tasks imb. av. f1 = 0.0697\n",
      "Forgetting in task 6: first time imb. av. f1 = 0.9881, after all tasks imb. av. f1 = 0.0697\n",
      "Forgetting in task 7: first time imb. av. f1 = 0.9912, after all tasks imb. av. f1 = 0.0697\n",
      "Forgetting in task 8: first time imb. av. f1 = 0.9715, after all tasks imb. av. f1 = 0.0697\n",
      "Forgetting in task 9: first time imb. av. f1 = 0.9921, after all tasks imb. av. f1 = 0.0697\n",
      "Forgetting in task 10: first time imb. av. f1 = 0.0219, after all tasks imb. av. f1 = 0.0697\n"
     ]
    },
    {
     "data": {
      "image/png": "[encoded data removed]",
      "text/plain": [
       "<Figure size 360x360 with 1 Axes>"
      ]
     },
     "metadata": {
      "needs_background": "light"
     },
     "output_type": "display_data"
    }
   ],
   "source": [
    "hparams = Hyperparameters('Eukaryote', continual_method, device)\n",
    "experiment = ContinualExperiment(hparams)\n",
    "experiment.run()"
   ]
  },
  {
   "cell_type": "markdown",
   "metadata": {},
   "source": [
    "## Enron Dataset"
   ]
  },
  {
   "cell_type": "code",
   "execution_count": 16,
   "metadata": {},
   "outputs": [
    {
     "name": "stdout",
     "output_type": "stream",
     "text": [
      "Processing Data ...\n"
     ]
    },
    {
     "name": "stderr",
     "output_type": "stream",
     "text": [
      "100%|██████████| 1/1 [00:00<00:00, 15.17it/s]"
     ]
    },
    {
     "name": "stdout",
     "output_type": "stream",
     "text": [
      "(1123, 1001)\n",
      "(579, 1001)\n",
      "(1123, 53)\n",
      "(579, 53)\n",
      "Begin training in EWC mode ...\n",
      "Training and Evaluating on task 1\n",
      "Train data shape is  (112, 1001)\n",
      "Train Labels shape is  (112, 5)\n",
      "Classes trained are: 0 to 5\n",
      "Samples with all negative labels 0\n",
      "Output dimensions: 5\n",
      "Evaluating in individual mode on test set\n"
     ]
    },
    {
     "name": "stderr",
     "output_type": "stream",
     "text": [
      "\n"
     ]
    },
    {
     "name": "stdout",
     "output_type": "stream",
     "text": [
      "multilabel-indicator multilabel-indicator\n",
      "float32 float32\n",
      "(579, 5) (579, 5)\n",
      "Evaluating in combined mode on test set\n"
     ]
    },
    {
     "name": "stderr",
     "output_type": "stream",
     "text": [
      "  0%|          | 0/1 [00:00<?, ?it/s]"
     ]
    },
    {
     "name": "stdout",
     "output_type": "stream",
     "text": [
      "multilabel-indicator multilabel-indicator\n",
      "float32 float32\n",
      "(579, 5) (579, 5)\n",
      "Training and Evaluating on task 2\n",
      "Train data shape is  (112, 1001)\n",
      "Train Labels shape is  (112, 5)\n",
      "Classes trained are: 5 to 10\n",
      "Samples with all negative labels 1\n",
      "Augmenting class labels...\n",
      "Train Labels shape is  (112, 10)\n",
      "Output dimensions: 10\n",
      "growing model size ...\n"
     ]
    },
    {
     "name": "stderr",
     "output_type": "stream",
     "text": [
      "100%|██████████| 1/1 [00:00<00:00,  8.90it/s]\n"
     ]
    },
    {
     "name": "stdout",
     "output_type": "stream",
     "text": [
      "Evaluating in individual mode on test set\n",
      "multilabel-indicator multilabel-indicator\n",
      "float32 float32\n",
      "(579, 5) (579, 5)\n",
      "Evaluating in combined mode on test set\n"
     ]
    },
    {
     "name": "stderr",
     "output_type": "stream",
     "text": [
      "  0%|          | 0/1 [00:00<?, ?it/s]"
     ]
    },
    {
     "name": "stdout",
     "output_type": "stream",
     "text": [
      "multilabel-indicator multilabel-indicator\n",
      "float32 float32\n",
      "(579, 10) (579, 10)\n",
      "Training and Evaluating on task 3\n",
      "Train data shape is  (112, 1001)\n",
      "Train Labels shape is  (112, 5)\n",
      "Classes trained are: 10 to 15\n",
      "Samples with all negative labels 1\n",
      "Augmenting class labels...\n",
      "Train Labels shape is  (112, 15)\n",
      "Output dimensions: 15\n",
      "growing model size ...\n"
     ]
    },
    {
     "name": "stderr",
     "output_type": "stream",
     "text": [
      "100%|██████████| 1/1 [00:00<00:00, 13.97it/s]\n"
     ]
    },
    {
     "name": "stdout",
     "output_type": "stream",
     "text": [
      "Evaluating in individual mode on test set\n",
      "multilabel-indicator multilabel-indicator\n",
      "float32 float32\n",
      "(579, 5) (579, 5)\n",
      "Evaluating in combined mode on test set\n"
     ]
    },
    {
     "name": "stderr",
     "output_type": "stream",
     "text": [
      "  0%|          | 0/1 [00:00<?, ?it/s]"
     ]
    },
    {
     "name": "stdout",
     "output_type": "stream",
     "text": [
      "multilabel-indicator multilabel-indicator\n",
      "float32 float32\n",
      "(579, 15) (579, 15)\n",
      "Training and Evaluating on task 4\n",
      "Train data shape is  (112, 1001)\n",
      "Train Labels shape is  (112, 5)\n",
      "Classes trained are: 15 to 20\n",
      "Samples with all negative labels 1\n",
      "Augmenting class labels...\n",
      "Train Labels shape is  (112, 20)\n",
      "Output dimensions: 20\n",
      "growing model size ...\n"
     ]
    },
    {
     "name": "stderr",
     "output_type": "stream",
     "text": [
      "100%|██████████| 1/1 [00:00<00:00, 13.33it/s]\n"
     ]
    },
    {
     "name": "stdout",
     "output_type": "stream",
     "text": [
      "Evaluating in individual mode on test set\n",
      "multilabel-indicator multilabel-indicator\n",
      "float32 float32\n",
      "(579, 5) (579, 5)\n",
      "Evaluating in combined mode on test set\n"
     ]
    },
    {
     "name": "stderr",
     "output_type": "stream",
     "text": [
      "  0%|          | 0/1 [00:00<?, ?it/s]"
     ]
    },
    {
     "name": "stdout",
     "output_type": "stream",
     "text": [
      "multilabel-indicator multilabel-indicator\n",
      "float32 float32\n",
      "(579, 20) (579, 20)\n",
      "Training and Evaluating on task 5\n",
      "Train data shape is  (112, 1001)\n",
      "Train Labels shape is  (112, 5)\n",
      "Classes trained are: 20 to 25\n",
      "Samples with all negative labels 3\n",
      "Augmenting class labels...\n",
      "Train Labels shape is  (112, 25)\n",
      "Output dimensions: 25\n",
      "growing model size ...\n"
     ]
    },
    {
     "name": "stderr",
     "output_type": "stream",
     "text": [
      "100%|██████████| 1/1 [00:00<00:00, 12.80it/s]\n"
     ]
    },
    {
     "name": "stdout",
     "output_type": "stream",
     "text": [
      "Evaluating in individual mode on test set\n",
      "multilabel-indicator multilabel-indicator\n",
      "float32 float32\n",
      "(579, 5) (579, 5)\n",
      "Evaluating in combined mode on test set\n"
     ]
    },
    {
     "name": "stderr",
     "output_type": "stream",
     "text": [
      "  0%|          | 0/1 [00:00<?, ?it/s]"
     ]
    },
    {
     "name": "stdout",
     "output_type": "stream",
     "text": [
      "multilabel-indicator multilabel-indicator\n",
      "float32 float32\n",
      "(579, 25) (579, 25)\n",
      "Training and Evaluating on task 6\n",
      "Train data shape is  (112, 1001)\n",
      "Train Labels shape is  (112, 5)\n",
      "Classes trained are: 25 to 30\n",
      "Samples with all negative labels 1\n",
      "Augmenting class labels...\n",
      "Train Labels shape is  (112, 30)\n",
      "Output dimensions: 30\n",
      "growing model size ...\n"
     ]
    },
    {
     "name": "stderr",
     "output_type": "stream",
     "text": [
      "100%|██████████| 1/1 [00:00<00:00, 12.68it/s]\n"
     ]
    },
    {
     "name": "stdout",
     "output_type": "stream",
     "text": [
      "Evaluating in individual mode on test set\n",
      "multilabel-indicator multilabel-indicator\n",
      "float32 float32\n",
      "(579, 5) (579, 5)\n",
      "Evaluating in combined mode on test set\n"
     ]
    },
    {
     "name": "stderr",
     "output_type": "stream",
     "text": [
      "  0%|          | 0/1 [00:00<?, ?it/s]"
     ]
    },
    {
     "name": "stdout",
     "output_type": "stream",
     "text": [
      "multilabel-indicator multilabel-indicator\n",
      "float32 float32\n",
      "(579, 30) (579, 30)\n",
      "Training and Evaluating on task 7\n",
      "Train data shape is  (112, 1001)\n",
      "Train Labels shape is  (112, 5)\n",
      "Classes trained are: 30 to 35\n",
      "Samples with all negative labels 0\n",
      "Augmenting class labels...\n",
      "Train Labels shape is  (112, 35)\n",
      "Output dimensions: 35\n",
      "growing model size ...\n"
     ]
    },
    {
     "name": "stderr",
     "output_type": "stream",
     "text": [
      "100%|██████████| 1/1 [00:00<00:00, 12.78it/s]\n"
     ]
    },
    {
     "name": "stdout",
     "output_type": "stream",
     "text": [
      "Evaluating in individual mode on test set\n",
      "multilabel-indicator multilabel-indicator\n",
      "float32 float32\n",
      "(579, 5) (579, 5)\n",
      "Evaluating in combined mode on test set\n",
      "multilabel-indicator multilabel-indicator\n",
      "float32 float32\n",
      "(579, 35) (579, 35)\n",
      "Training and Evaluating on task 8\n",
      "Train data shape is  (112, 1001)\n",
      "Train Labels shape is  (112, 5)\n",
      "Classes trained are: 35 to 40\n",
      "Samples with all negative labels 3\n",
      "Augmenting class labels...\n",
      "Train Labels shape is  (112, 40)\n",
      "Output dimensions: 40\n",
      "growing model size ...\n"
     ]
    },
    {
     "name": "stderr",
     "output_type": "stream",
     "text": [
      "100%|██████████| 1/1 [00:00<00:00, 11.49it/s]\n"
     ]
    },
    {
     "name": "stdout",
     "output_type": "stream",
     "text": [
      "Evaluating in individual mode on test set\n",
      "multilabel-indicator multilabel-indicator\n",
      "float32 float32\n",
      "(579, 5) (579, 5)\n",
      "Evaluating in combined mode on test set\n",
      "multilabel-indicator multilabel-indicator\n",
      "float32 float32\n",
      "(579, 40) (579, 40)\n",
      "Training and Evaluating on task 9\n",
      "Train data shape is  (112, 1001)\n",
      "Train Labels shape is  (112, 5)\n",
      "Classes trained are: 40 to 45\n",
      "Samples with all negative labels 0\n",
      "Augmenting class labels...\n",
      "Train Labels shape is  (112, 45)\n",
      "Output dimensions: 45\n",
      "growing model size ...\n"
     ]
    },
    {
     "name": "stderr",
     "output_type": "stream",
     "text": [
      "100%|██████████| 1/1 [00:00<00:00, 11.35it/s]\n"
     ]
    },
    {
     "name": "stdout",
     "output_type": "stream",
     "text": [
      "Evaluating in individual mode on test set\n",
      "multilabel-indicator multilabel-indicator\n",
      "float32 float32\n",
      "(579, 5) (579, 5)\n",
      "Evaluating in combined mode on test set\n",
      "multilabel-indicator multilabel-indicator\n",
      "float32 float32\n",
      "(579, 45) (579, 45)\n",
      "Training and Evaluating on task 10\n",
      "Train data shape is  (115, 1001)\n",
      "Train Labels shape is  (115, 8)\n",
      "Classes trained are: 45 to 53\n",
      "Samples with all negative labels 1\n",
      "Augmenting class labels...\n",
      "Train Labels shape is  (115, 53)\n",
      "Output dimensions: 53\n",
      "growing model size ...\n"
     ]
    },
    {
     "name": "stderr",
     "output_type": "stream",
     "text": [
      "100%|██████████| 1/1 [00:00<00:00, 11.98it/s]\n"
     ]
    },
    {
     "name": "stdout",
     "output_type": "stream",
     "text": [
      "Evaluating in individual mode on test set\n",
      "multilabel-indicator multilabel-indicator\n",
      "float32 float32\n",
      "(579, 8) (579, 8)\n",
      "Evaluating in combined mode on test set\n",
      "multilabel-indicator multilabel-indicator\n",
      "float32 float32\n",
      "(579, 53) (579, 53)\n",
      "Evaluating in individual mode on test set\n",
      "|                     |         0 |        1 |          2 |          3 |         4 |         5 |          6 |         7 |         8 |          9 |\n",
      "|:--------------------|----------:|---------:|-----------:|-----------:|----------:|----------:|-----------:|----------:|----------:|-----------:|\n",
      "| hamming loss        | 0.204836  | 0.483592 | 0.595509   | 0.598618   | 0.419344  | 0.467703  | 0.8        | 0.0376511 | 0.202073  | 0.412565   |\n",
      "| zero_one_loss       | 0.948187  | 1        | 1          | 1          | 1         | 1         | 1          | 0.172712  | 0.924007  | 1          |\n",
      "| one_error           | 0         | 0        | 0.00172712 | 0          | 0         | 0         | 0.0328152  | 0         | 0         | 0          |\n",
      "| micro av. jaccard   | 0.0496795 | 0.199543 | 0.147379   | 0.0142207  | 0.0433412 | 0.0272989 | 0.00856164 | 0         | 0.0743671 | 0.00520562 |\n",
      "| macro av. jaccard   | 0.0107081 | 0.120553 | 0.102936   | 0.00863558 | 0.0189983 | 0.0131261 | 0.00690846 | 0         | 0.0162349 | 0.00215889 |\n",
      "| micro av. precision | 0.0535406 | 0.200921 | 0.17156    | 0.0143926  | 0.0474957 | 0.0328152 | 0.00863558 | 0         | 0.0811744 | 0.00575705 |\n",
      "| macro av. precision | 0.0107081 | 0.120553 | 0.102936   | 0.00863558 | 0.0189983 | 0.0131261 | 0.00690846 | 0         | 0.0162349 | 0.00215889 |\n",
      "| micro av. recall    | 0.407895  | 0.966759 | 0.511149   | 0.543478   | 0.331325  | 0.139706  | 0.5        | 0         | 0.47      | 0.0515464  |\n",
      "| macro av. recall    | 0.2       | 0.6      | 0.6        | 0.6        | 0.4       | 0.4       | 0.8        | 0         | 0.2       | 0.375      |\n",
      "| micro av. f1        | 0.0946565 | 0.332698 | 0.256897   | 0.0280426  | 0.0830816 | 0.0531469 | 0.0169779  | 0         | 0.138439  | 0.0103573  |\n",
      "| macro av. f1        | 0.0203279 | 0.164401 | 0.167138   | 0.0169681  | 0.0359492 | 0.0250518 | 0.0136637  | 0         | 0.0300319 | 0.0042838  |\n",
      "| imb. av. f1         | 0.930467  | 0.749029 | 0.861926   | 0.314791   | 0.525463  | 0.706413  | 0.0521137  | 0.99029   | 0.940706  | 0.532621   |\n",
      "Evaluating in combined mode on test set\n",
      "|                     |         0 |         1 |         2 |         3 |         4 |         5 |         6 |         7 |         8 |         9 |\n",
      "|:--------------------|----------:|----------:|----------:|----------:|----------:|----------:|----------:|----------:|----------:|----------:|\n",
      "| hamming loss        | 0.204836  | 0.344214  | 0.427979  | 0.470639  | 0.46038   | 0.4616    | 0.509943  | 0.450907  | 0.423258  | 0.421644  |\n",
      "| zero_one_loss       | 0.948187  | 1         | 1         | 1         | 1         | 1         | 1         | 1         | 1         | 1         |\n",
      "| one_error           | 0         | 0         | 0         | 0         | 0         | 0         | 0         | 0         | 0         | 0         |\n",
      "| micro av. jaccard   | 0.0496795 | 0.160135  | 0.154266  | 0.114253  | 0.102129  | 0.0903109 | 0.0731839 | 0.0724754 | 0.0725759 | 0.0632059 |\n",
      "| macro av. jaccard   | 0.0107081 | 0.0656304 | 0.0780656 | 0.0607081 | 0.0523661 | 0.0458261 | 0.0402665 | 0.0352332 | 0.0331222 | 0.0284485 |\n",
      "| micro av. precision | 0.0535406 | 0.164076  | 0.167283  | 0.121416  | 0.109096  | 0.0981989 | 0.0782959 | 0.0782959 | 0.0784474 | 0.0685351 |\n",
      "| macro av. precision | 0.0107081 | 0.0656304 | 0.0780656 | 0.0607081 | 0.0523661 | 0.0458261 | 0.0402665 | 0.0352332 | 0.0331222 | 0.0284485 |\n",
      "| micro av. recall    | 0.407895  | 0.869565  | 0.664706  | 0.659475  | 0.61526   | 0.529255  | 0.528497  | 0.493648  | 0.492299  | 0.448382  |\n",
      "| macro av. recall    | 0.2       | 0.4       | 0.466667  | 0.5       | 0.48      | 0.466667  | 0.514286  | 0.45      | 0.422222  | 0.415094  |\n",
      "| micro av. f1        | 0.0946565 | 0.276062  | 0.267297  | 0.205076  | 0.18533   | 0.165661  | 0.136386  | 0.135155  | 0.13533   | 0.118897  |\n",
      "| macro av. f1        | 0.0203279 | 0.0923644 | 0.117289  | 0.0922086 | 0.0809567 | 0.0716393 | 0.063357  | 0.0554374 | 0.0526146 | 0.0453194 |\n",
      "| imb. av. f1         | 0.930467  | 0.843685  | 0.847913  | 0.675206  | 0.661761  | 0.671685  | 0.50503   | 0.588074  | 0.619222  | 0.59465   |\n",
      "File saved to ./checkpoints_new/enron_0_EWC_asy.pkl\n",
      "Number of Tasks: 10\n",
      "Forgetting in task 1: first time imb. av. f1 = 0.9305, after all tasks imb. av. f1 = 0.9305\n",
      "Forgetting in task 2: first time imb. av. f1 = 0.7490, after all tasks imb. av. f1 = 0.9305\n",
      "Forgetting in task 3: first time imb. av. f1 = 0.8619, after all tasks imb. av. f1 = 0.9305\n",
      "Forgetting in task 4: first time imb. av. f1 = 0.3148, after all tasks imb. av. f1 = 0.9305\n",
      "Forgetting in task 5: first time imb. av. f1 = 0.5255, after all tasks imb. av. f1 = 0.9305\n",
      "Forgetting in task 6: first time imb. av. f1 = 0.7064, after all tasks imb. av. f1 = 0.9305\n",
      "Forgetting in task 7: first time imb. av. f1 = 0.0521, after all tasks imb. av. f1 = 0.9305\n",
      "Forgetting in task 8: first time imb. av. f1 = 0.9903, after all tasks imb. av. f1 = 0.9305\n",
      "Forgetting in task 9: first time imb. av. f1 = 0.9407, after all tasks imb. av. f1 = 0.9305\n",
      "Forgetting in task 10: first time imb. av. f1 = 0.5326, after all tasks imb. av. f1 = 0.9305\n"
     ]
    },
    {
     "data": {
      "image/png": "[encoded data removed]",
      "text/plain": [
       "<Figure size 360x360 with 1 Axes>"
      ]
     },
     "metadata": {
      "needs_background": "light"
     },
     "output_type": "display_data"
    }
   ],
   "source": [
    "hparams = Hyperparameters('enron', continual_method, device)\n",
    "experiment = ContinualExperiment(hparams)\n",
    "experiment.run()"
   ]
  },
  {
   "cell_type": "markdown",
   "metadata": {},
   "source": [
    "## Delicious, 20 tasks"
   ]
  },
  {
   "cell_type": "code",
   "execution_count": 17,
   "metadata": {},
   "outputs": [
    {
     "name": "stdout",
     "output_type": "stream",
     "text": [
      "Processing Data ...\n"
     ]
    },
    {
     "name": "stderr",
     "output_type": "stream",
     "text": [
      "  0%|          | 0/1 [00:00<?, ?it/s]"
     ]
    },
    {
     "name": "stdout",
     "output_type": "stream",
     "text": [
      "(12920, 500)\n",
      "(3185, 500)\n",
      "(12920, 983)\n",
      "(3185, 983)\n",
      "Begin training in EWC mode ...\n",
      "Training and Evaluating on task 1\n",
      "Train data shape is  (646, 500)\n",
      "Train Labels shape is  (646, 49)\n",
      "Classes trained are: 0 to 49\n",
      "Samples with all negative labels 1\n",
      "Output dimensions: 49\n"
     ]
    },
    {
     "name": "stderr",
     "output_type": "stream",
     "text": [
      "100%|██████████| 1/1 [00:00<00:00,  2.96it/s]\n"
     ]
    },
    {
     "name": "stdout",
     "output_type": "stream",
     "text": [
      "Evaluating in individual mode on test set\n",
      "multilabel-indicator multilabel-indicator\n",
      "float32 float32\n",
      "(3185, 49) (3185, 49)\n",
      "Evaluating in combined mode on test set\n",
      "multilabel-indicator multilabel-indicator\n",
      "float32 float32\n",
      "(3185, 49) (3185, 49)\n",
      "Training and Evaluating on task 2\n",
      "Train data shape is  (646, 500)\n",
      "Train Labels shape is  (646, 49)\n",
      "Classes trained are: 49 to 98\n",
      "Samples with all negative labels 1\n",
      "Augmenting class labels...\n",
      "Train Labels shape is  (646, 98)\n",
      "Output dimensions: 98\n",
      "growing model size ...\n"
     ]
    },
    {
     "name": "stderr",
     "output_type": "stream",
     "text": [
      "100%|██████████| 1/1 [00:00<00:00,  1.80it/s]\n"
     ]
    },
    {
     "name": "stdout",
     "output_type": "stream",
     "text": [
      "Evaluating in individual mode on test set\n",
      "multilabel-indicator multilabel-indicator\n",
      "float32 float32\n",
      "(3185, 49) (3185, 49)\n",
      "Evaluating in combined mode on test set\n",
      "multilabel-indicator multilabel-indicator\n",
      "float32 float32\n",
      "(3185, 98) (3185, 98)\n",
      "Training and Evaluating on task 3\n",
      "Train data shape is  (646, 500)\n",
      "Train Labels shape is  (646, 49)\n",
      "Classes trained are: 98 to 147\n",
      "Samples with all negative labels 2\n",
      "Augmenting class labels...\n",
      "Train Labels shape is  (646, 147)\n",
      "Output dimensions: 147\n",
      "growing model size ...\n"
     ]
    },
    {
     "name": "stderr",
     "output_type": "stream",
     "text": [
      "100%|██████████| 1/1 [00:00<00:00,  1.80it/s]\n"
     ]
    },
    {
     "name": "stdout",
     "output_type": "stream",
     "text": [
      "Evaluating in individual mode on test set\n",
      "multilabel-indicator multilabel-indicator\n",
      "float32 float32\n",
      "(3185, 49) (3185, 49)\n",
      "Evaluating in combined mode on test set\n",
      "multilabel-indicator multilabel-indicator\n",
      "float32 float32\n",
      "(3185, 147) (3185, 147)\n",
      "Training and Evaluating on task 4\n",
      "Train data shape is  (646, 500)\n",
      "Train Labels shape is  (646, 49)\n",
      "Classes trained are: 147 to 196\n",
      "Samples with all negative labels 2\n",
      "Augmenting class labels...\n",
      "Train Labels shape is  (646, 196)\n",
      "Output dimensions: 196\n",
      "growing model size ...\n"
     ]
    },
    {
     "name": "stderr",
     "output_type": "stream",
     "text": [
      "100%|██████████| 1/1 [00:00<00:00,  1.76it/s]\n"
     ]
    },
    {
     "name": "stdout",
     "output_type": "stream",
     "text": [
      "Evaluating in individual mode on test set\n",
      "multilabel-indicator multilabel-indicator\n",
      "float32 float32\n",
      "(3185, 49) (3185, 49)\n",
      "Evaluating in combined mode on test set\n",
      "multilabel-indicator multilabel-indicator\n",
      "float32 float32\n",
      "(3185, 196) (3185, 196)\n",
      "Training and Evaluating on task 5\n",
      "Train data shape is  (646, 500)\n",
      "Train Labels shape is  (646, 49)\n",
      "Classes trained are: 196 to 245\n",
      "Samples with all negative labels 2\n",
      "Augmenting class labels...\n",
      "Train Labels shape is  (646, 245)\n",
      "Output dimensions: 245\n",
      "growing model size ...\n"
     ]
    },
    {
     "name": "stderr",
     "output_type": "stream",
     "text": [
      "100%|██████████| 1/1 [00:00<00:00,  2.14it/s]\n"
     ]
    },
    {
     "name": "stdout",
     "output_type": "stream",
     "text": [
      "Evaluating in individual mode on test set\n",
      "multilabel-indicator multilabel-indicator\n",
      "float32 float32\n",
      "(3185, 49) (3185, 49)\n",
      "Evaluating in combined mode on test set\n",
      "multilabel-indicator multilabel-indicator\n",
      "float32 float32\n",
      "(3185, 245) (3185, 245)\n",
      "Training and Evaluating on task 6\n",
      "Train data shape is  (646, 500)\n",
      "Train Labels shape is  (646, 49)\n",
      "Classes trained are: 245 to 294\n",
      "Samples with all negative labels 4\n",
      "Augmenting class labels...\n",
      "Train Labels shape is  (646, 294)\n",
      "Output dimensions: 294\n",
      "growing model size ...\n"
     ]
    },
    {
     "name": "stderr",
     "output_type": "stream",
     "text": [
      "100%|██████████| 1/1 [00:00<00:00,  2.16it/s]\n"
     ]
    },
    {
     "name": "stdout",
     "output_type": "stream",
     "text": [
      "Evaluating in individual mode on test set\n",
      "multilabel-indicator multilabel-indicator\n",
      "float32 float32\n",
      "(3185, 49) (3185, 49)\n",
      "Evaluating in combined mode on test set\n",
      "multilabel-indicator multilabel-indicator\n",
      "float32 float32\n",
      "(3185, 294) (3185, 294)\n",
      "Training and Evaluating on task 7\n",
      "Train data shape is  (646, 500)\n",
      "Train Labels shape is  (646, 49)\n",
      "Classes trained are: 294 to 343\n",
      "Samples with all negative labels 2\n",
      "Augmenting class labels...\n",
      "Train Labels shape is  (646, 343)\n",
      "Output dimensions: 343\n",
      "growing model size ...\n"
     ]
    },
    {
     "name": "stderr",
     "output_type": "stream",
     "text": [
      "100%|██████████| 1/1 [00:00<00:00,  2.14it/s]\n"
     ]
    },
    {
     "name": "stdout",
     "output_type": "stream",
     "text": [
      "Evaluating in individual mode on test set\n",
      "multilabel-indicator multilabel-indicator\n",
      "float32 float32\n",
      "(3185, 49) (3185, 49)\n",
      "Evaluating in combined mode on test set\n",
      "multilabel-indicator multilabel-indicator\n",
      "float32 float32\n",
      "(3185, 343) (3185, 343)\n",
      "Training and Evaluating on task 8\n",
      "Train data shape is  (646, 500)\n",
      "Train Labels shape is  (646, 49)\n",
      "Classes trained are: 343 to 392\n",
      "Samples with all negative labels 4\n",
      "Augmenting class labels...\n",
      "Train Labels shape is  (646, 392)\n",
      "Output dimensions: 392\n",
      "growing model size ...\n"
     ]
    },
    {
     "name": "stderr",
     "output_type": "stream",
     "text": [
      "100%|██████████| 1/1 [00:00<00:00,  1.87it/s]\n"
     ]
    },
    {
     "name": "stdout",
     "output_type": "stream",
     "text": [
      "Evaluating in individual mode on test set\n",
      "multilabel-indicator multilabel-indicator\n",
      "float32 float32\n",
      "(3185, 49) (3185, 49)\n",
      "Evaluating in combined mode on test set\n",
      "multilabel-indicator multilabel-indicator\n",
      "float32 float32\n",
      "(3185, 392) (3185, 392)\n",
      "Training and Evaluating on task 9\n",
      "Train data shape is  (646, 500)\n",
      "Train Labels shape is  (646, 49)\n",
      "Classes trained are: 392 to 441\n",
      "Samples with all negative labels 2\n",
      "Augmenting class labels...\n",
      "Train Labels shape is  (646, 441)\n",
      "Output dimensions: 441\n",
      "growing model size ...\n"
     ]
    },
    {
     "name": "stderr",
     "output_type": "stream",
     "text": [
      "100%|██████████| 1/1 [00:00<00:00,  1.88it/s]\n"
     ]
    },
    {
     "name": "stdout",
     "output_type": "stream",
     "text": [
      "Evaluating in individual mode on test set\n",
      "multilabel-indicator multilabel-indicator\n",
      "float32 float32\n",
      "(3185, 49) (3185, 49)\n",
      "Evaluating in combined mode on test set\n",
      "multilabel-indicator multilabel-indicator\n",
      "float32 float32\n",
      "(3185, 441) (3185, 441)\n",
      "Training and Evaluating on task 10\n",
      "Train data shape is  (646, 500)\n",
      "Train Labels shape is  (646, 49)\n",
      "Classes trained are: 441 to 490\n",
      "Samples with all negative labels 0\n",
      "Augmenting class labels...\n",
      "Train Labels shape is  (646, 490)\n",
      "Output dimensions: 490\n",
      "growing model size ...\n"
     ]
    },
    {
     "name": "stderr",
     "output_type": "stream",
     "text": [
      "100%|██████████| 1/1 [00:00<00:00,  1.88it/s]\n"
     ]
    },
    {
     "name": "stdout",
     "output_type": "stream",
     "text": [
      "Evaluating in individual mode on test set\n",
      "multilabel-indicator multilabel-indicator\n",
      "float32 float32\n",
      "(3185, 49) (3185, 49)\n",
      "Evaluating in combined mode on test set\n",
      "multilabel-indicator multilabel-indicator\n",
      "float32 float32\n",
      "(3185, 490) (3185, 490)\n",
      "Training and Evaluating on task 11\n",
      "Train data shape is  (646, 500)\n",
      "Train Labels shape is  (646, 49)\n",
      "Classes trained are: 490 to 539\n",
      "Samples with all negative labels 0\n",
      "Augmenting class labels...\n",
      "Train Labels shape is  (646, 539)\n",
      "Output dimensions: 539\n",
      "growing model size ...\n"
     ]
    },
    {
     "name": "stderr",
     "output_type": "stream",
     "text": [
      "100%|██████████| 1/1 [00:00<00:00,  1.77it/s]\n"
     ]
    },
    {
     "name": "stdout",
     "output_type": "stream",
     "text": [
      "Evaluating in individual mode on test set\n",
      "multilabel-indicator multilabel-indicator\n",
      "float32 float32\n",
      "(3185, 49) (3185, 49)\n",
      "Evaluating in combined mode on test set\n",
      "multilabel-indicator multilabel-indicator\n",
      "float32 float32\n",
      "(3185, 539) (3185, 539)\n",
      "Training and Evaluating on task 12\n",
      "Train data shape is  (646, 500)\n",
      "Train Labels shape is  (646, 49)\n",
      "Classes trained are: 539 to 588\n",
      "Samples with all negative labels 4\n",
      "Augmenting class labels...\n",
      "Train Labels shape is  (646, 588)\n",
      "Output dimensions: 588\n",
      "growing model size ...\n"
     ]
    },
    {
     "name": "stderr",
     "output_type": "stream",
     "text": [
      "100%|██████████| 1/1 [00:00<00:00,  1.86it/s]\n"
     ]
    },
    {
     "name": "stdout",
     "output_type": "stream",
     "text": [
      "Evaluating in individual mode on test set\n",
      "multilabel-indicator multilabel-indicator\n",
      "float32 float32\n",
      "(3185, 49) (3185, 49)\n",
      "Evaluating in combined mode on test set\n",
      "multilabel-indicator multilabel-indicator\n",
      "float32 float32\n",
      "(3185, 588) (3185, 588)\n",
      "Training and Evaluating on task 13\n",
      "Train data shape is  (646, 500)\n",
      "Train Labels shape is  (646, 49)\n",
      "Classes trained are: 588 to 637\n",
      "Samples with all negative labels 3\n",
      "Augmenting class labels...\n",
      "Train Labels shape is  (646, 637)\n",
      "Output dimensions: 637\n",
      "growing model size ...\n"
     ]
    },
    {
     "name": "stderr",
     "output_type": "stream",
     "text": [
      "100%|██████████| 1/1 [00:00<00:00,  1.85it/s]\n"
     ]
    },
    {
     "name": "stdout",
     "output_type": "stream",
     "text": [
      "Evaluating in individual mode on test set\n",
      "multilabel-indicator multilabel-indicator\n",
      "float32 float32\n",
      "(3185, 49) (3185, 49)\n",
      "Evaluating in combined mode on test set\n",
      "multilabel-indicator multilabel-indicator\n",
      "float32 float32\n",
      "(3185, 637) (3185, 637)\n",
      "Training and Evaluating on task 14\n",
      "Train data shape is  (646, 500)\n",
      "Train Labels shape is  (646, 49)\n",
      "Classes trained are: 637 to 686\n",
      "Samples with all negative labels 3\n",
      "Augmenting class labels...\n",
      "Train Labels shape is  (646, 686)\n",
      "Output dimensions: 686\n",
      "growing model size ...\n"
     ]
    },
    {
     "name": "stderr",
     "output_type": "stream",
     "text": [
      "100%|██████████| 1/1 [00:00<00:00,  1.85it/s]\n"
     ]
    },
    {
     "name": "stdout",
     "output_type": "stream",
     "text": [
      "Evaluating in individual mode on test set\n",
      "multilabel-indicator multilabel-indicator\n",
      "float32 float32\n",
      "(3185, 49) (3185, 49)\n",
      "Evaluating in combined mode on test set\n",
      "multilabel-indicator multilabel-indicator\n",
      "float32 float32\n",
      "(3185, 686) (3185, 686)\n",
      "Training and Evaluating on task 15\n",
      "Train data shape is  (646, 500)\n",
      "Train Labels shape is  (646, 49)\n",
      "Classes trained are: 686 to 735\n",
      "Samples with all negative labels 8\n",
      "Augmenting class labels...\n",
      "Train Labels shape is  (646, 735)\n",
      "Output dimensions: 735\n",
      "growing model size ...\n"
     ]
    },
    {
     "name": "stderr",
     "output_type": "stream",
     "text": [
      "100%|██████████| 1/1 [00:00<00:00,  1.57it/s]\n"
     ]
    },
    {
     "name": "stdout",
     "output_type": "stream",
     "text": [
      "Evaluating in individual mode on test set\n",
      "multilabel-indicator multilabel-indicator\n",
      "float32 float32\n",
      "(3185, 49) (3185, 49)\n",
      "Evaluating in combined mode on test set\n",
      "multilabel-indicator multilabel-indicator\n",
      "float32 float32\n",
      "(3185, 735) (3185, 735)\n",
      "Training and Evaluating on task 16\n",
      "Train data shape is  (646, 500)\n",
      "Train Labels shape is  (646, 49)\n",
      "Classes trained are: 735 to 784\n",
      "Samples with all negative labels 1\n",
      "Augmenting class labels...\n",
      "Train Labels shape is  (646, 784)\n",
      "Output dimensions: 784\n",
      "growing model size ...\n"
     ]
    },
    {
     "name": "stderr",
     "output_type": "stream",
     "text": [
      "100%|██████████| 1/1 [00:00<00:00,  1.60it/s]\n"
     ]
    },
    {
     "name": "stdout",
     "output_type": "stream",
     "text": [
      "Evaluating in individual mode on test set\n",
      "multilabel-indicator multilabel-indicator\n",
      "float32 float32\n",
      "(3185, 49) (3185, 49)\n",
      "Evaluating in combined mode on test set\n",
      "multilabel-indicator multilabel-indicator\n",
      "float32 float32\n",
      "(3185, 784) (3185, 784)\n",
      "Training and Evaluating on task 17\n",
      "Train data shape is  (646, 500)\n",
      "Train Labels shape is  (646, 49)\n",
      "Classes trained are: 784 to 833\n",
      "Samples with all negative labels 3\n",
      "Augmenting class labels...\n",
      "Train Labels shape is  (646, 833)\n",
      "Output dimensions: 833\n",
      "growing model size ...\n"
     ]
    },
    {
     "name": "stderr",
     "output_type": "stream",
     "text": [
      "100%|██████████| 1/1 [00:00<00:00,  1.84it/s]\n"
     ]
    },
    {
     "name": "stdout",
     "output_type": "stream",
     "text": [
      "Evaluating in individual mode on test set\n",
      "multilabel-indicator multilabel-indicator\n",
      "float32 float32\n",
      "(3185, 49) (3185, 49)\n",
      "Evaluating in combined mode on test set\n",
      "multilabel-indicator multilabel-indicator\n",
      "float32 float32\n",
      "(3185, 833) (3185, 833)\n",
      "Training and Evaluating on task 18\n",
      "Train data shape is  (646, 500)\n",
      "Train Labels shape is  (646, 49)\n",
      "Classes trained are: 833 to 882\n",
      "Samples with all negative labels 4\n",
      "Augmenting class labels...\n",
      "Train Labels shape is  (646, 882)\n",
      "Output dimensions: 882\n",
      "growing model size ...\n"
     ]
    },
    {
     "name": "stderr",
     "output_type": "stream",
     "text": [
      "100%|██████████| 1/1 [00:00<00:00,  1.87it/s]\n"
     ]
    },
    {
     "name": "stdout",
     "output_type": "stream",
     "text": [
      "Evaluating in individual mode on test set\n",
      "multilabel-indicator multilabel-indicator\n",
      "float32 float32\n",
      "(3185, 49) (3185, 49)\n",
      "Evaluating in combined mode on test set\n",
      "multilabel-indicator multilabel-indicator\n",
      "float32 float32\n",
      "(3185, 882) (3185, 882)\n",
      "Training and Evaluating on task 19\n",
      "Train data shape is  (646, 500)\n",
      "Train Labels shape is  (646, 49)\n",
      "Classes trained are: 882 to 931\n",
      "Samples with all negative labels 1\n",
      "Augmenting class labels...\n",
      "Train Labels shape is  (646, 931)\n",
      "Output dimensions: 931\n",
      "growing model size ...\n"
     ]
    },
    {
     "name": "stderr",
     "output_type": "stream",
     "text": [
      "100%|██████████| 1/1 [00:00<00:00,  1.87it/s]\n"
     ]
    },
    {
     "name": "stdout",
     "output_type": "stream",
     "text": [
      "Evaluating in individual mode on test set\n",
      "multilabel-indicator multilabel-indicator\n",
      "float32 float32\n",
      "(3185, 49) (3185, 49)\n",
      "Evaluating in combined mode on test set\n",
      "multilabel-indicator multilabel-indicator\n",
      "float32 float32\n",
      "(3185, 931) (3185, 931)\n",
      "Training and Evaluating on task 20\n",
      "Train data shape is  (646, 500)\n",
      "Train Labels shape is  (646, 52)\n",
      "Classes trained are: 931 to 983\n",
      "Samples with all negative labels 1\n",
      "Augmenting class labels...\n",
      "Train Labels shape is  (646, 983)\n",
      "Output dimensions: 983\n",
      "growing model size ...\n"
     ]
    },
    {
     "name": "stderr",
     "output_type": "stream",
     "text": [
      "100%|██████████| 1/1 [00:00<00:00,  2.09it/s]\n"
     ]
    },
    {
     "name": "stdout",
     "output_type": "stream",
     "text": [
      "Evaluating in individual mode on test set\n",
      "multilabel-indicator multilabel-indicator\n",
      "float32 float32\n",
      "(3185, 52) (3185, 52)\n",
      "Evaluating in combined mode on test set\n",
      "multilabel-indicator multilabel-indicator\n",
      "float32 float32\n",
      "(3185, 983) (3185, 983)\n",
      "Evaluating in individual mode on test set\n",
      "|                     |          0 |          1 |          2 |          3 |          4 |          5 |          6 |         7 |          8 |          9 |         10 |         11 |         12 |         13 |         14 |         15 |        16 |         17 |         18 |        19 |\n",
      "|:--------------------|-----------:|-----------:|-----------:|-----------:|-----------:|-----------:|-----------:|----------:|-----------:|-----------:|-----------:|-----------:|-----------:|-----------:|-----------:|-----------:|----------:|-----------:|-----------:|----------:|\n",
      "| hamming loss        | 0.391984   | 0.375139   | 0.337404   | 0.356537   | 0.253978   | 0.330971   | 0.330382   | 0.364092  | 0.274905   | 0.339871   | 0.347695   | 0.349015   | 0.33734    | 0.432076   | 0.344376   | 0.328241   | 0.301342  | 0.364906   | 0.390818   | 0.345133  |\n",
      "| zero_one_loss       | 1          | 1          | 1          | 1          | 1          | 1          | 1          | 1         | 1          | 1          | 1          | 1          | 1          | 1          | 1          | 1          | 1         | 1          | 1          | 1         |\n",
      "| one_error           | 0          | 0          | 0          | 0          | 0          | 0          | 0          | 0         | 0          | 0          | 0          | 0          | 0          | 0          | 0          | 0          | 0         | 0          | 0          | 0         |\n",
      "| micro av. jaccard   | 0.00735055 | 0.0117317  | 0.0145044  | 0.00917055 | 0.0276946  | 0.0197928  | 0.0117681  | 0.0327676 | 0.0165727  | 0.0235093  | 0.0192134  | 0.0223989  | 0.00989224 | 0.0145986  | 0.00634152 | 0.0242476  | 0.0344113 | 0.0130669  | 0.0193894  | 0.0403432 |\n",
      "| macro av. jaccard   | 0.00290264 | 0.00445327 | 0.00496588 | 0.00329991 | 0.00723417 | 0.00668311 | 0.00393426 | 0.0123346 | 0.00463269 | 0.00818249 | 0.00681126 | 0.00799667 | 0.00337039 | 0.00640118 | 0.0021978  | 0.00815686 | 0.0107391 | 0.00483132 | 0.00772755 | 0.0145091 |\n",
      "| micro av. precision | 0.00748575 | 0.0121228  | 0.015208   | 0.0095115  | 0.0295395  | 0.020467   | 0.0120487  | 0.0335775 | 0.0174617  | 0.0250589  | 0.0196325  | 0.0230492  | 0.0103218  | 0.0149361  | 0.00673077 | 0.0249804  | 0.0350811 | 0.0139256  | 0.0199289  | 0.0419152 |\n",
      "| macro av. precision | 0.00290264 | 0.00445327 | 0.00496588 | 0.00329991 | 0.00723417 | 0.00668311 | 0.00393426 | 0.0123346 | 0.00463269 | 0.00818249 | 0.00681126 | 0.00799667 | 0.00337039 | 0.00640118 | 0.0021978  | 0.00815686 | 0.0107391 | 0.00483132 | 0.00772755 | 0.0145091 |\n",
      "| micro av. recall    | 0.289272   | 0.266692   | 0.238682   | 0.203718   | 0.307211   | 0.375315   | 0.335703   | 0.576002  | 0.245584   | 0.275453   | 0.473708   | 0.442553   | 0.192041   | 0.392534   | 0.0988188  | 0.452542   | 0.643131  | 0.174861   | 0.417301   | 0.518223  |\n",
      "| macro av. recall    | 0.387755   | 0.367347   | 0.326531   | 0.346939   | 0.244898   | 0.326531   | 0.326531   | 0.367347  | 0.265306   | 0.326531   | 0.346939   | 0.346939   | 0.326531   | 0.428571   | 0.326531   | 0.326531   | 0.306122  | 0.346939   | 0.387755   | 0.346154  |\n",
      "| micro av. f1        | 0.0145938  | 0.0231914  | 0.0285941  | 0.0181744  | 0.0538966  | 0.0388172  | 0.0232624  | 0.063456  | 0.032605   | 0.0459386  | 0.0377024  | 0.0438164  | 0.0195907  | 0.0287772  | 0.0126031  | 0.0473472  | 0.066533  | 0.0257967  | 0.0380412  | 0.0775574 |\n",
      "| macro av. f1        | 0.00574122 | 0.00868843 | 0.00956709 | 0.00643869 | 0.0128377  | 0.0127061  | 0.00752916 | 0.0217661 | 0.00896105 | 0.0151213  | 0.0130734  | 0.0152874  | 0.00657996 | 0.0124296  | 0.00433126 | 0.0153016  | 0.0181355 | 0.00916481 | 0.0145368  | 0.0236408 |\n",
      "| imb. av. f1         | 0.682376   | 0.641763   | 0.688912   | 0.595523   | 0.763808   | 0.705238   | 0.631717   | 0.611864  | 0.724579   | 0.772513   | 0.722383   | 0.747047   | 0.636995   | 0.56829    | 0.593253   | 0.726667   | 0.757217  | 0.639485   | 0.62906    | 0.687508  |\n",
      "Evaluating in combined mode on test set\n",
      "|                     |          0 |          1 |          2 |          3 |          4 |          5 |          6 |          7 |         8 |         9 |         10 |         11 |         12 |         13 |         14 |         15 |         16 |         17 |         18 |         19 |\n",
      "|:--------------------|-----------:|-----------:|-----------:|-----------:|-----------:|-----------:|-----------:|-----------:|----------:|----------:|-----------:|-----------:|-----------:|-----------:|-----------:|-----------:|-----------:|-----------:|-----------:|-----------:|\n",
      "| hamming loss        | 0.391984   | 0.383561   | 0.368176   | 0.365266   | 0.343008   | 0.341002   | 0.339485   | 0.342561   | 0.335043  | 0.335526  | 0.336632   | 0.337664   | 0.337639   | 0.344385   | 0.344384   | 0.343375   | 0.340903   | 0.342236   | 0.344793   | 0.344811   |\n",
      "| zero_one_loss       | 1          | 1          | 1          | 1          | 1          | 1          | 1          | 1          | 1         | 1         | 1          | 1          | 1          | 1          | 1          | 1          | 1          | 1          | 1          | 1          |\n",
      "| one_error           | 0          | 0          | 0          | 0          | 0          | 0          | 0          | 0          | 0         | 0         | 0          | 0          | 0          | 0          | 0          | 0          | 0          | 0          | 0          | 0          |\n",
      "| micro av. jaccard   | 0.00735055 | 0.00949789 | 0.0110326  | 0.0105789  | 0.0131514  | 0.0142319  | 0.0138901  | 0.0164404  | 0.0164525 | 0.0171719 | 0.017364   | 0.0177997  | 0.0171965  | 0.0169642  | 0.0162631  | 0.0167438  | 0.0176784  | 0.0174064  | 0.017525   | 0.0187603  |\n",
      "| macro av. jaccard   | 0.00290264 | 0.00367795 | 0.00410726 | 0.00390542 | 0.00457117 | 0.00492316 | 0.00478189 | 0.00572598 | 0.0056045 | 0.0058623 | 0.00594857 | 0.00611925 | 0.00590779 | 0.00594304 | 0.00569335 | 0.00584732 | 0.00613508 | 0.00606264 | 0.00615027 | 0.00659245 |\n",
      "| micro av. precision | 0.00748575 | 0.00974161 | 0.0113918  | 0.0109352  | 0.0136578  | 0.0147695  | 0.0143876  | 0.0170044  | 0.0170454 | 0.0178418 | 0.0180128  | 0.0184519  | 0.0178354  | 0.0175729  | 0.0168734  | 0.0173648  | 0.0183173  | 0.018065   | 0.0181775  | 0.0194606  |\n",
      "| macro av. precision | 0.00290264 | 0.00367795 | 0.00410726 | 0.00390542 | 0.00457117 | 0.00492316 | 0.00478189 | 0.00572598 | 0.0056045 | 0.0058623 | 0.00594857 | 0.00611925 | 0.00590779 | 0.00594304 | 0.00569335 | 0.00584732 | 0.00613508 | 0.00606264 | 0.00615027 | 0.00659245 |\n",
      "| micro av. recall    | 0.289272   | 0.275168   | 0.259199   | 0.245099   | 0.261856   | 0.28108    | 0.286561   | 0.331402   | 0.321096  | 0.313838  | 0.325264   | 0.334931   | 0.32434    | 0.328734   | 0.310163   | 0.318911   | 0.336371   | 0.323157   | 0.328051   | 0.342692   |\n",
      "| macro av. recall    | 0.387755   | 0.377551   | 0.360544   | 0.357143   | 0.334694   | 0.333333   | 0.332362   | 0.336735   | 0.328798  | 0.328571  | 0.330241   | 0.331633   | 0.33124    | 0.338192   | 0.337415   | 0.336735   | 0.334934   | 0.335601   | 0.338346   | 0.338759   |\n",
      "| micro av. f1        | 0.0145938  | 0.0188171  | 0.0218245  | 0.0209363  | 0.0259615  | 0.0280643  | 0.0273996  | 0.032349   | 0.0323723 | 0.0337641 | 0.0341352  | 0.0349768  | 0.0338115  | 0.0333625  | 0.0320057  | 0.0329362  | 0.0347426  | 0.0342173  | 0.0344463  | 0.0368297  |\n",
      "| macro av. f1        | 0.00574122 | 0.00721482 | 0.00799891 | 0.00760886 | 0.00865463 | 0.00932987 | 0.00907262 | 0.0106593  | 0.0104706 | 0.0109357 | 0.01113    | 0.0114765  | 0.0110998  | 0.0111948  | 0.0107372  | 0.0110225  | 0.0114409  | 0.0113145  | 0.0114841  | 0.0121271  |\n",
      "| imb. av. f1         | 0.682376   | 0.665531   | 0.672591   | 0.654458   | 0.674586   | 0.6791     | 0.673544   | 0.667504   | 0.672178  | 0.681587  | 0.684559   | 0.689641   | 0.685153   | 0.678048   | 0.671386   | 0.674866   | 0.680115   | 0.678188   | 0.675885   | 0.676404   |\n",
      "File saved to ./checkpoints_new/delicious_0_EWC_asy.pkl\n",
      "Number of Tasks: 20\n",
      "Forgetting in task 1: first time imb. av. f1 = 0.6824, after all tasks imb. av. f1 = 0.6824\n",
      "Forgetting in task 2: first time imb. av. f1 = 0.6418, after all tasks imb. av. f1 = 0.6824\n",
      "Forgetting in task 3: first time imb. av. f1 = 0.6889, after all tasks imb. av. f1 = 0.6824\n",
      "Forgetting in task 4: first time imb. av. f1 = 0.5955, after all tasks imb. av. f1 = 0.6824\n",
      "Forgetting in task 5: first time imb. av. f1 = 0.7638, after all tasks imb. av. f1 = 0.6824\n",
      "Forgetting in task 6: first time imb. av. f1 = 0.7052, after all tasks imb. av. f1 = 0.6824\n",
      "Forgetting in task 7: first time imb. av. f1 = 0.6317, after all tasks imb. av. f1 = 0.6824\n",
      "Forgetting in task 8: first time imb. av. f1 = 0.6119, after all tasks imb. av. f1 = 0.6824\n",
      "Forgetting in task 9: first time imb. av. f1 = 0.7246, after all tasks imb. av. f1 = 0.6824\n",
      "Forgetting in task 10: first time imb. av. f1 = 0.7725, after all tasks imb. av. f1 = 0.6824\n",
      "Forgetting in task 11: first time imb. av. f1 = 0.7224, after all tasks imb. av. f1 = 0.6824\n",
      "Forgetting in task 12: first time imb. av. f1 = 0.7470, after all tasks imb. av. f1 = 0.6824\n",
      "Forgetting in task 13: first time imb. av. f1 = 0.6370, after all tasks imb. av. f1 = 0.6824\n",
      "Forgetting in task 14: first time imb. av. f1 = 0.5683, after all tasks imb. av. f1 = 0.6824\n",
      "Forgetting in task 15: first time imb. av. f1 = 0.5933, after all tasks imb. av. f1 = 0.6824\n",
      "Forgetting in task 16: first time imb. av. f1 = 0.7267, after all tasks imb. av. f1 = 0.6824\n",
      "Forgetting in task 17: first time imb. av. f1 = 0.7572, after all tasks imb. av. f1 = 0.6824\n",
      "Forgetting in task 18: first time imb. av. f1 = 0.6395, after all tasks imb. av. f1 = 0.6824\n",
      "Forgetting in task 19: first time imb. av. f1 = 0.6291, after all tasks imb. av. f1 = 0.6824\n",
      "Forgetting in task 20: first time imb. av. f1 = 0.6875, after all tasks imb. av. f1 = 0.6824\n"
     ]
    },
    {
     "data": {
      "image/png": "[encoded data removed]",
      "text/plain": [
       "<Figure size 360x360 with 1 Axes>"
      ]
     },
     "metadata": {
      "needs_background": "light"
     },
     "output_type": "display_data"
    }
   ],
   "source": [
    "hparams = Hyperparameters('delicious', continual_method, device, num_tasks=20)\n",
    "experiment = ContinualExperiment(hparams)\n",
    "experiment.run()"
   ]
  },
  {
   "cell_type": "markdown",
   "metadata": {},
   "source": [
    "## Mediamill, 20 tasks"
   ]
  },
  {
   "cell_type": "code",
   "execution_count": 18,
   "metadata": {},
   "outputs": [
    {
     "name": "stdout",
     "output_type": "stream",
     "text": [
      "Processing Data ...\n"
     ]
    },
    {
     "name": "stderr",
     "output_type": "stream",
     "text": [
      "  0%|          | 0/1 [00:00<?, ?it/s]"
     ]
    },
    {
     "name": "stdout",
     "output_type": "stream",
     "text": [
      "(30993, 120)\n",
      "(12914, 120)\n",
      "(30993, 101)\n",
      "(12914, 101)\n",
      "Begin training in EWC mode ...\n",
      "Training and Evaluating on task 1\n",
      "Train data shape is  (1549, 120)\n",
      "Train Labels shape is  (1549, 5)\n",
      "Classes trained are: 0 to 5\n",
      "Samples with all negative labels 0\n",
      "Output dimensions: 5\n"
     ]
    },
    {
     "name": "stderr",
     "output_type": "stream",
     "text": [
      "100%|██████████| 1/1 [00:00<00:00,  1.36it/s]\n"
     ]
    },
    {
     "name": "stdout",
     "output_type": "stream",
     "text": [
      "Evaluating in individual mode on test set\n",
      "multilabel-indicator multilabel-indicator\n",
      "float32 float32\n",
      "(12914, 5) (12914, 5)\n",
      "Evaluating in combined mode on test set\n",
      "multilabel-indicator multilabel-indicator\n",
      "float32 float32\n",
      "(12914, 5) (12914, 5)\n",
      "Training and Evaluating on task 2\n",
      "Train data shape is  (1549, 120)\n",
      "Train Labels shape is  (1549, 5)\n",
      "Classes trained are: 5 to 10\n",
      "Samples with all negative labels 2\n",
      "Augmenting class labels...\n",
      "Train Labels shape is  (1549, 10)\n",
      "Output dimensions: 10\n",
      "growing model size ...\n"
     ]
    },
    {
     "name": "stderr",
     "output_type": "stream",
     "text": [
      "100%|██████████| 1/1 [00:01<00:00,  1.20s/it]\n"
     ]
    },
    {
     "name": "stdout",
     "output_type": "stream",
     "text": [
      "Evaluating in individual mode on test set\n",
      "multilabel-indicator multilabel-indicator\n",
      "float32 float32\n",
      "(12914, 5) (12914, 5)\n",
      "Evaluating in combined mode on test set\n",
      "multilabel-indicator multilabel-indicator\n",
      "float32 float32\n",
      "(12914, 10) (12914, 10)\n",
      "Training and Evaluating on task 3\n",
      "Train data shape is  (1549, 120)\n",
      "Train Labels shape is  (1549, 5)\n",
      "Classes trained are: 10 to 15\n",
      "Samples with all negative labels 3\n",
      "Augmenting class labels...\n",
      "Train Labels shape is  (1549, 15)\n",
      "Output dimensions: 15\n",
      "growing model size ...\n"
     ]
    },
    {
     "name": "stderr",
     "output_type": "stream",
     "text": [
      "100%|██████████| 1/1 [00:01<00:00,  1.09s/it]\n"
     ]
    },
    {
     "name": "stdout",
     "output_type": "stream",
     "text": [
      "Evaluating in individual mode on test set\n",
      "multilabel-indicator multilabel-indicator\n",
      "float32 float32\n",
      "(12914, 5) (12914, 5)\n",
      "Evaluating in combined mode on test set\n",
      "multilabel-indicator multilabel-indicator\n",
      "float32 float32\n",
      "(12914, 15) (12914, 15)\n",
      "Training and Evaluating on task 4\n",
      "Train data shape is  (1549, 120)\n",
      "Train Labels shape is  (1549, 5)\n",
      "Classes trained are: 15 to 20\n",
      "Samples with all negative labels 1\n",
      "Augmenting class labels...\n",
      "Train Labels shape is  (1549, 20)\n",
      "Output dimensions: 20\n",
      "growing model size ...\n"
     ]
    },
    {
     "name": "stderr",
     "output_type": "stream",
     "text": [
      "100%|██████████| 1/1 [00:01<00:00,  1.12s/it]\n"
     ]
    },
    {
     "name": "stdout",
     "output_type": "stream",
     "text": [
      "Evaluating in individual mode on test set\n",
      "multilabel-indicator multilabel-indicator\n",
      "float32 float32\n",
      "(12914, 5) (12914, 5)\n",
      "Evaluating in combined mode on test set\n",
      "multilabel-indicator multilabel-indicator\n",
      "float32 float32\n",
      "(12914, 20) (12914, 20)\n",
      "Training and Evaluating on task 5\n",
      "Train data shape is  (1549, 120)\n",
      "Train Labels shape is  (1549, 5)\n",
      "Classes trained are: 20 to 25\n",
      "Samples with all negative labels 1\n",
      "Augmenting class labels...\n",
      "Train Labels shape is  (1549, 25)\n",
      "Output dimensions: 25\n",
      "growing model size ...\n"
     ]
    },
    {
     "name": "stderr",
     "output_type": "stream",
     "text": [
      "100%|██████████| 1/1 [00:01<00:00,  1.13s/it]\n"
     ]
    },
    {
     "name": "stdout",
     "output_type": "stream",
     "text": [
      "Evaluating in individual mode on test set\n",
      "multilabel-indicator multilabel-indicator\n",
      "float32 float32\n",
      "(12914, 5) (12914, 5)\n",
      "Evaluating in combined mode on test set\n",
      "multilabel-indicator multilabel-indicator\n",
      "float32 float32\n",
      "(12914, 25) (12914, 25)\n",
      "Training and Evaluating on task 6\n",
      "Train data shape is  (1549, 120)\n",
      "Train Labels shape is  (1549, 5)\n",
      "Classes trained are: 25 to 30\n",
      "Samples with all negative labels 1\n",
      "Augmenting class labels...\n",
      "Train Labels shape is  (1549, 30)\n",
      "Output dimensions: 30\n",
      "growing model size ...\n"
     ]
    },
    {
     "name": "stderr",
     "output_type": "stream",
     "text": [
      "100%|██████████| 1/1 [00:01<00:00,  1.21s/it]\n"
     ]
    },
    {
     "name": "stdout",
     "output_type": "stream",
     "text": [
      "Evaluating in individual mode on test set\n",
      "multilabel-indicator multilabel-indicator\n",
      "float32 float32\n",
      "(12914, 5) (12914, 5)\n",
      "Evaluating in combined mode on test set\n",
      "multilabel-indicator multilabel-indicator\n",
      "float32 float32\n",
      "(12914, 30) (12914, 30)\n",
      "Training and Evaluating on task 7\n",
      "Train data shape is  (1549, 120)\n",
      "Train Labels shape is  (1549, 5)\n",
      "Classes trained are: 30 to 35\n",
      "Samples with all negative labels 0\n",
      "Augmenting class labels...\n",
      "Train Labels shape is  (1549, 35)\n",
      "Output dimensions: 35\n",
      "growing model size ...\n"
     ]
    },
    {
     "name": "stderr",
     "output_type": "stream",
     "text": [
      "100%|██████████| 1/1 [00:01<00:00,  1.22s/it]\n"
     ]
    },
    {
     "name": "stdout",
     "output_type": "stream",
     "text": [
      "Evaluating in individual mode on test set\n",
      "multilabel-indicator multilabel-indicator\n",
      "float32 float32\n",
      "(12914, 5) (12914, 5)\n",
      "Evaluating in combined mode on test set\n",
      "multilabel-indicator multilabel-indicator\n",
      "float32 float32\n",
      "(12914, 35) (12914, 35)\n",
      "Training and Evaluating on task 8\n",
      "Train data shape is  (1549, 120)\n",
      "Train Labels shape is  (1549, 5)\n",
      "Classes trained are: 35 to 40\n",
      "Samples with all negative labels 2\n",
      "Augmenting class labels...\n",
      "Train Labels shape is  (1549, 40)\n",
      "Output dimensions: 40\n",
      "growing model size ...\n"
     ]
    },
    {
     "name": "stderr",
     "output_type": "stream",
     "text": [
      "100%|██████████| 1/1 [00:01<00:00,  1.26s/it]\n"
     ]
    },
    {
     "name": "stdout",
     "output_type": "stream",
     "text": [
      "Evaluating in individual mode on test set\n",
      "multilabel-indicator multilabel-indicator\n",
      "float32 float32\n",
      "(12914, 5) (12914, 5)\n",
      "Evaluating in combined mode on test set\n",
      "multilabel-indicator multilabel-indicator\n",
      "float32 float32\n",
      "(12914, 40) (12914, 40)\n",
      "Training and Evaluating on task 9\n",
      "Train data shape is  (1549, 120)\n",
      "Train Labels shape is  (1549, 5)\n",
      "Classes trained are: 40 to 45\n",
      "Samples with all negative labels 1\n",
      "Augmenting class labels...\n",
      "Train Labels shape is  (1549, 45)\n",
      "Output dimensions: 45\n",
      "growing model size ...\n"
     ]
    },
    {
     "name": "stderr",
     "output_type": "stream",
     "text": [
      "100%|██████████| 1/1 [00:01<00:00,  1.03s/it]\n"
     ]
    },
    {
     "name": "stdout",
     "output_type": "stream",
     "text": [
      "Evaluating in individual mode on test set\n",
      "multilabel-indicator multilabel-indicator\n",
      "float32 float32\n",
      "(12914, 5) (12914, 5)\n",
      "Evaluating in combined mode on test set\n",
      "multilabel-indicator multilabel-indicator\n",
      "float32 float32\n",
      "(12914, 45) (12914, 45)\n",
      "Training and Evaluating on task 10\n",
      "Train data shape is  (1549, 120)\n",
      "Train Labels shape is  (1549, 5)\n",
      "Classes trained are: 45 to 50\n",
      "Samples with all negative labels 2\n",
      "Augmenting class labels...\n",
      "Train Labels shape is  (1549, 50)\n",
      "Output dimensions: 50\n",
      "growing model size ...\n"
     ]
    },
    {
     "name": "stderr",
     "output_type": "stream",
     "text": [
      "100%|██████████| 1/1 [00:01<00:00,  1.08s/it]\n"
     ]
    },
    {
     "name": "stdout",
     "output_type": "stream",
     "text": [
      "Evaluating in individual mode on test set\n",
      "multilabel-indicator multilabel-indicator\n",
      "float32 float32\n",
      "(12914, 5) (12914, 5)\n",
      "Evaluating in combined mode on test set\n",
      "multilabel-indicator multilabel-indicator\n",
      "float32 float32\n",
      "(12914, 50) (12914, 50)\n",
      "Training and Evaluating on task 11\n",
      "Train data shape is  (1549, 120)\n",
      "Train Labels shape is  (1549, 5)\n",
      "Classes trained are: 50 to 55\n",
      "Samples with all negative labels 1\n",
      "Augmenting class labels...\n",
      "Train Labels shape is  (1549, 55)\n",
      "Output dimensions: 55\n",
      "growing model size ...\n"
     ]
    },
    {
     "name": "stderr",
     "output_type": "stream",
     "text": [
      "100%|██████████| 1/1 [00:01<00:00,  1.50s/it]\n"
     ]
    },
    {
     "name": "stdout",
     "output_type": "stream",
     "text": [
      "Evaluating in individual mode on test set\n",
      "multilabel-indicator multilabel-indicator\n",
      "float32 float32\n",
      "(12914, 5) (12914, 5)\n",
      "Evaluating in combined mode on test set\n",
      "multilabel-indicator multilabel-indicator\n",
      "float32 float32\n",
      "(12914, 55) (12914, 55)\n",
      "Training and Evaluating on task 12\n",
      "Train data shape is  (1549, 120)\n",
      "Train Labels shape is  (1549, 5)\n",
      "Classes trained are: 55 to 60\n",
      "Samples with all negative labels 0\n",
      "Augmenting class labels...\n",
      "Train Labels shape is  (1549, 60)\n",
      "Output dimensions: 60\n",
      "growing model size ...\n"
     ]
    },
    {
     "name": "stderr",
     "output_type": "stream",
     "text": [
      "100%|██████████| 1/1 [00:01<00:00,  1.29s/it]\n"
     ]
    },
    {
     "name": "stdout",
     "output_type": "stream",
     "text": [
      "Evaluating in individual mode on test set\n",
      "multilabel-indicator multilabel-indicator\n",
      "float32 float32\n",
      "(12914, 5) (12914, 5)\n",
      "Evaluating in combined mode on test set\n",
      "multilabel-indicator multilabel-indicator\n",
      "float32 float32\n",
      "(12914, 60) (12914, 60)\n",
      "Training and Evaluating on task 13\n",
      "Train data shape is  (1549, 120)\n",
      "Train Labels shape is  (1549, 5)\n",
      "Classes trained are: 60 to 65\n",
      "Samples with all negative labels 1\n",
      "Augmenting class labels...\n",
      "Train Labels shape is  (1549, 65)\n",
      "Output dimensions: 65\n",
      "growing model size ...\n"
     ]
    },
    {
     "name": "stderr",
     "output_type": "stream",
     "text": [
      "100%|██████████| 1/1 [00:01<00:00,  1.25s/it]\n"
     ]
    },
    {
     "name": "stdout",
     "output_type": "stream",
     "text": [
      "Evaluating in individual mode on test set\n",
      "multilabel-indicator multilabel-indicator\n",
      "float32 float32\n",
      "(12914, 5) (12914, 5)\n",
      "Evaluating in combined mode on test set\n",
      "multilabel-indicator multilabel-indicator\n",
      "float32 float32\n",
      "(12914, 65) (12914, 65)\n",
      "Training and Evaluating on task 14\n",
      "Train data shape is  (1549, 120)\n",
      "Train Labels shape is  (1549, 5)\n",
      "Classes trained are: 65 to 70\n",
      "Samples with all negative labels 1\n",
      "Augmenting class labels...\n",
      "Train Labels shape is  (1549, 70)\n",
      "Output dimensions: 70\n",
      "growing model size ...\n"
     ]
    },
    {
     "name": "stderr",
     "output_type": "stream",
     "text": [
      "100%|██████████| 1/1 [00:01<00:00,  1.24s/it]\n"
     ]
    },
    {
     "name": "stdout",
     "output_type": "stream",
     "text": [
      "Evaluating in individual mode on test set\n",
      "multilabel-indicator multilabel-indicator\n",
      "float32 float32\n",
      "(12914, 5) (12914, 5)\n",
      "Evaluating in combined mode on test set\n",
      "multilabel-indicator multilabel-indicator\n",
      "float32 float32\n",
      "(12914, 70) (12914, 70)\n",
      "Training and Evaluating on task 15\n",
      "Train data shape is  (1549, 120)\n",
      "Train Labels shape is  (1549, 5)\n",
      "Classes trained are: 70 to 75\n",
      "Samples with all negative labels 2\n",
      "Augmenting class labels...\n",
      "Train Labels shape is  (1549, 75)\n",
      "Output dimensions: 75\n",
      "growing model size ...\n"
     ]
    },
    {
     "name": "stderr",
     "output_type": "stream",
     "text": [
      "100%|██████████| 1/1 [00:01<00:00,  1.16s/it]\n"
     ]
    },
    {
     "name": "stdout",
     "output_type": "stream",
     "text": [
      "Evaluating in individual mode on test set\n",
      "multilabel-indicator multilabel-indicator\n",
      "float32 float32\n",
      "(12914, 5) (12914, 5)\n",
      "Evaluating in combined mode on test set\n",
      "multilabel-indicator multilabel-indicator\n",
      "float32 float32\n",
      "(12914, 75) (12914, 75)\n",
      "Training and Evaluating on task 16\n",
      "Train data shape is  (1549, 120)\n",
      "Train Labels shape is  (1549, 5)\n",
      "Classes trained are: 75 to 80\n",
      "Samples with all negative labels 4\n",
      "Augmenting class labels...\n",
      "Train Labels shape is  (1549, 80)\n",
      "Output dimensions: 80\n",
      "growing model size ...\n"
     ]
    },
    {
     "name": "stderr",
     "output_type": "stream",
     "text": [
      "100%|██████████| 1/1 [00:01<00:00,  1.25s/it]\n"
     ]
    },
    {
     "name": "stdout",
     "output_type": "stream",
     "text": [
      "Evaluating in individual mode on test set\n",
      "multilabel-indicator multilabel-indicator\n",
      "float32 float32\n",
      "(12914, 5) (12914, 5)\n",
      "Evaluating in combined mode on test set\n",
      "multilabel-indicator multilabel-indicator\n",
      "float32 float32\n",
      "(12914, 80) (12914, 80)\n",
      "Training and Evaluating on task 17\n",
      "Train data shape is  (1549, 120)\n",
      "Train Labels shape is  (1549, 5)\n",
      "Classes trained are: 80 to 85\n",
      "Samples with all negative labels 0\n",
      "Augmenting class labels...\n",
      "Train Labels shape is  (1549, 85)\n",
      "Output dimensions: 85\n",
      "growing model size ...\n"
     ]
    },
    {
     "name": "stderr",
     "output_type": "stream",
     "text": [
      "100%|██████████| 1/1 [00:01<00:00,  1.26s/it]\n"
     ]
    },
    {
     "name": "stdout",
     "output_type": "stream",
     "text": [
      "Evaluating in individual mode on test set\n",
      "multilabel-indicator multilabel-indicator\n",
      "float32 float32\n",
      "(12914, 5) (12914, 5)\n",
      "Evaluating in combined mode on test set\n",
      "multilabel-indicator multilabel-indicator\n",
      "float32 float32\n",
      "(12914, 85) (12914, 85)\n",
      "Training and Evaluating on task 18\n",
      "Train data shape is  (1549, 120)\n",
      "Train Labels shape is  (1549, 5)\n",
      "Classes trained are: 85 to 90\n",
      "Samples with all negative labels 1\n",
      "Augmenting class labels...\n",
      "Train Labels shape is  (1549, 90)\n",
      "Output dimensions: 90\n",
      "growing model size ...\n"
     ]
    },
    {
     "name": "stderr",
     "output_type": "stream",
     "text": [
      "100%|██████████| 1/1 [00:01<00:00,  1.25s/it]\n"
     ]
    },
    {
     "name": "stdout",
     "output_type": "stream",
     "text": [
      "Evaluating in individual mode on test set\n",
      "multilabel-indicator multilabel-indicator\n",
      "float32 float32\n",
      "(12914, 5) (12914, 5)\n",
      "Evaluating in combined mode on test set\n",
      "multilabel-indicator multilabel-indicator\n",
      "float32 float32\n",
      "(12914, 90) (12914, 90)\n",
      "Training and Evaluating on task 19\n",
      "Train data shape is  (1549, 120)\n",
      "Train Labels shape is  (1549, 5)\n",
      "Classes trained are: 90 to 95\n",
      "Samples with all negative labels 2\n",
      "Augmenting class labels...\n",
      "Train Labels shape is  (1549, 95)\n",
      "Output dimensions: 95\n",
      "growing model size ...\n"
     ]
    },
    {
     "name": "stderr",
     "output_type": "stream",
     "text": [
      "100%|██████████| 1/1 [00:01<00:00,  1.25s/it]\n"
     ]
    },
    {
     "name": "stdout",
     "output_type": "stream",
     "text": [
      "Evaluating in individual mode on test set\n",
      "multilabel-indicator multilabel-indicator\n",
      "float32 float32\n",
      "(12914, 5) (12914, 5)\n",
      "Evaluating in combined mode on test set\n",
      "multilabel-indicator multilabel-indicator\n",
      "float32 float32\n",
      "(12914, 95) (12914, 95)\n",
      "Training and Evaluating on task 20\n",
      "Train data shape is  (1562, 120)\n",
      "Train Labels shape is  (1562, 6)\n",
      "Classes trained are: 95 to 101\n",
      "Samples with all negative labels 2\n",
      "Augmenting class labels...\n",
      "Train Labels shape is  (1562, 101)\n",
      "Output dimensions: 101\n",
      "growing model size ...\n"
     ]
    },
    {
     "name": "stderr",
     "output_type": "stream",
     "text": [
      "100%|██████████| 1/1 [00:01<00:00,  1.27s/it]\n"
     ]
    },
    {
     "name": "stdout",
     "output_type": "stream",
     "text": [
      "Evaluating in individual mode on test set\n",
      "multilabel-indicator multilabel-indicator\n",
      "float32 float32\n",
      "(12914, 6) (12914, 6)\n",
      "Evaluating in combined mode on test set\n",
      "multilabel-indicator multilabel-indicator\n",
      "float32 float32\n",
      "(12914, 101) (12914, 101)\n",
      "Evaluating in individual mode on test set\n",
      "|                     |          0 |          1 |        2 |          3 |         4 |          5 |          6 |          7 |          8 |          9 |          10 |          11 |         12 |       13 |         14 |        15 |         16 |         17 |          18 |         19 |\n",
      "|:--------------------|-----------:|-----------:|---------:|-----------:|----------:|-----------:|-----------:|-----------:|-----------:|-----------:|------------:|------------:|-----------:|---------:|-----------:|----------:|-----------:|-----------:|------------:|-----------:|\n",
      "| hamming loss        | 0.211569   | 0.599628   | 0.025786 | 0.611383   | 0.761886  | 0.398916   | 0.843503   | 0.203748   | 0.421666   | 0.201626   | 0.448908    | 0.615472    | 0.397321   | 0.306799 | 0.599985   | 0.391327  | 0.621527   | 0.40048    | 0.424392    | 0.386751   |\n",
      "| zero_one_loss       | 0.991172   | 1          | 0.126065 | 1          | 1         | 1          | 1          | 0.991714   | 1          | 0.998142   | 1           | 1           | 1          | 0.929534 | 1          | 0.998993  | 1          | 1          | 0.999923    | 1          |\n",
      "| one_error           | 0          | 0          | 0        | 0          | 0.0013164 | 0          | 0.343581   | 0          | 0          | 0          | 0           | 0.000619483 | 0          | 0        | 0          | 0         | 0          | 0          | 0.000309741 | 0          |\n",
      "| micro av. jaccard   | 0.0084918  | 0.0021134  | 0        | 0.00267792 | 0.0481396 | 0.00732234 | 0.156497   | 0.00806756 | 0.00329465 | 0.00184007 | 0.000689513 | 0.0118849   | 0.0133072  | 0        | 0.00188076 | 0.0635238 | 0.0118678  | 0.00316102 | 0.00871799  | 0.0133347  |\n",
      "| macro av. jaccard   | 0.00181199 | 0.00126994 | 0        | 0.00164163 | 0.0385318 | 0.00294254 | 0.156497   | 0.00165712 | 0.00139384 | 0.00037169 | 0.000309741 | 0.00740282  | 0.00535853 | 0        | 0.00113056 | 0.0265448 | 0.00746477 | 0.00126994 | 0.00373238  | 0.00522689 |\n",
      "| micro av. precision | 0.00905993 | 0.00211657 | 0        | 0.00273605 | 0.0481648 | 0.00735636 | 0.156497   | 0.00828558 | 0.00348459 | 0.00185845 | 0.000774353 | 0.012338    | 0.0133963  | 0        | 0.00188426 | 0.0663621 | 0.0124413  | 0.00317485 | 0.00933096  | 0.0156807  |\n",
      "| macro av. precision | 0.00181199 | 0.00126994 | 0        | 0.00164163 | 0.0385318 | 0.00294254 | 0.156497   | 0.00165712 | 0.00139384 | 0.00037169 | 0.000309741 | 0.00740282  | 0.00535853 | 0        | 0.00113056 | 0.0265448 | 0.00746477 | 0.00126994 | 0.00373238  | 0.00522689 |\n",
      "| micro av. recall    | 0.119266   | 0.585714   | 0        | 0.111932   | 0.989264  | 0.612903   | 1          | 0.234649   | 0.0569981  | 0.156863   | 0.00625391  | 0.244501    | 0.666667   | 0        | 0.503448   | 0.597629  | 0.204758   | 0.420513   | 0.117161    | 0.0818347  |\n",
      "| macro av. recall    | 0.2        | 0.6        | 0        | 0.6        | 0.8       | 0.4        | 1          | 0.2        | 0.4        | 0.2        | 0.4         | 0.6         | 0.4        | 0        | 0.6        | 0.4       | 0.6        | 0.4        | 0.4         | 0.333333   |\n",
      "| micro av. f1        | 0.0168406  | 0.00421789 | 0        | 0.00534153 | 0.0918573 | 0.0145382  | 0.270639   | 0.016006   | 0.00656767 | 0.00367338 | 0.00137807  | 0.0234907   | 0.0262648  | 0        | 0.00375447 | 0.119459  | 0.0234573  | 0.00630212 | 0.0172853   | 0.0263184  |\n",
      "| macro av. f1        | 0.00359144 | 0.00253294 | 0        | 0.00327071 | 0.0679463 | 0.00580325 | 0.211335   | 0.003287   | 0.00277787 | 0.000742   | 0.000618616 | 0.0145346   | 0.0105624  | 0        | 0.00225661 | 0.0483012 | 0.0146389  | 0.00252727 | 0.00739514  | 0.0102858  |\n",
      "| imb. av. f1         | 0.968637   | 0.528154   | 0.999361 | 0.106429   | 0.498485  | 0.288725   | 0.00716253 | 0.903046   | 0.494567   | 0.929954   | 0.0195257   | 0.0490621   | 0.926393   | 0.968608 | 0.440234   | 0.899539  | 0.465181   | 0.524495   | 0.467727    | 0.899318   |\n",
      "Evaluating in combined mode on test set\n",
      "|                     |          0 |          1 |          2 |          3 |          4 |          5 |         6 |         7 |         8 |         9 |        10 |        11 |        12 |        13 |        14 |        15 |        16 |        17 |        18 |        19 |\n",
      "|:--------------------|-----------:|-----------:|-----------:|-----------:|-----------:|-----------:|----------:|----------:|----------:|----------:|----------:|----------:|----------:|----------:|----------:|----------:|----------:|----------:|----------:|----------:|\n",
      "| hamming loss        | 0.211569   | 0.405599   | 0.278994   | 0.362092   | 0.44205    | 0.434861   | 0.493239  | 0.457052  | 0.453121  | 0.427971  | 0.429875  | 0.445341  | 0.441647  | 0.432015  | 0.443213  | 0.43997   | 0.45065   | 0.447863  | 0.446627  | 0.44307   |\n",
      "| zero_one_loss       | 0.991172   | 1          | 1          | 1          | 1          | 1          | 1         | 1         | 1         | 1         | 1         | 1         | 1         | 1         | 1         | 1         | 1         | 1         | 1         | 1         |\n",
      "| one_error           | 0          | 0          | 0          | 0          | 0          | 0          | 0         | 0         | 0         | 0         | 0         | 0         | 0         | 0         | 0         | 0         | 0         | 0         | 0         | 0         |\n",
      "| micro av. jaccard   | 0.0084918  | 0.00378485 | 0.00366868 | 0.0032507  | 0.0191947  | 0.0173979  | 0.0554513 | 0.0529303 | 0.0480284 | 0.0459486 | 0.0418288 | 0.038473  | 0.0367729 | 0.0349728 | 0.0320767 | 0.0338801 | 0.0321309 | 0.0307316 | 0.0296539 | 0.028821  |\n",
      "| macro av. jaccard   | 0.00181199 | 0.00154096 | 0.00102731 | 0.00118089 | 0.00865108 | 0.00769965 | 0.0289564 | 0.025544  | 0.0228606 | 0.0206117 | 0.0187661 | 0.0178192 | 0.0168607 | 0.0156563 | 0.0146879 | 0.015429  | 0.0149605 | 0.0141999 | 0.013649  | 0.0131487 |\n",
      "| micro av. precision | 0.00905993 | 0.00385241 | 0.00385241 | 0.00337397 | 0.0196615  | 0.0177684  | 0.0563041 | 0.0537768 | 0.0489871 | 0.0468449 | 0.0430057 | 0.0395981 | 0.0377911 | 0.0377911 | 0.0344248 | 0.0363035 | 0.0343687 | 0.032769  | 0.0316257 | 0.0308841 |\n",
      "| macro av. precision | 0.00181199 | 0.00154096 | 0.00102731 | 0.00118089 | 0.00865108 | 0.00769965 | 0.0289564 | 0.025544  | 0.0228606 | 0.0206117 | 0.0187661 | 0.0178192 | 0.0168607 | 0.0156563 | 0.0146879 | 0.015429  | 0.0149605 | 0.0141999 | 0.013649  | 0.0131487 |\n",
      "| micro av. recall    | 0.119266   | 0.17752    | 0.0714286  | 0.0817037  | 0.447023   | 0.454864   | 0.785453  | 0.770781  | 0.710504  | 0.70601   | 0.604517  | 0.575196  | 0.577132  | 0.319243  | 0.319844  | 0.33667   | 0.330423  | 0.330775  | 0.322317  | 0.301401  |\n",
      "| macro av. recall    | 0.2        | 0.4        | 0.266667   | 0.35       | 0.44       | 0.433333   | 0.514286  | 0.475     | 0.466667  | 0.44      | 0.436364  | 0.45      | 0.446154  | 0.414286  | 0.426667  | 0.425     | 0.435294  | 0.433333  | 0.431579  | 0.425743  |\n",
      "| micro av. f1        | 0.0168406  | 0.00754116 | 0.00731053 | 0.00648033 | 0.0376664  | 0.0342009  | 0.105076  | 0.100539  | 0.0916548 | 0.0878601 | 0.0802988 | 0.0740953 | 0.0709372 | 0.0675821 | 0.0621595 | 0.0655398 | 0.0622614 | 0.0596306 | 0.0575998 | 0.0560272 |\n",
      "| macro av. f1        | 0.00359144 | 0.00306219 | 0.00204146 | 0.00234877 | 0.0154683  | 0.0138574  | 0.0420685 | 0.0372209 | 0.0333939 | 0.0301287 | 0.0274459 | 0.02637   | 0.025154  | 0.0233573 | 0.0219506 | 0.0235975 | 0.0230705 | 0.0219292 | 0.0211643 | 0.020518  |\n",
      "| imb. av. f1         | 0.968637   | 0.722501   | 0.850627   | 0.772771   | 0.758409   | 0.676982   | 0.656149  | 0.669441  | 0.661434  | 0.723606  | 0.593632  | 0.583452  | 0.601596  | 0.602971  | 0.592484  | 0.596626  | 0.594572  | 0.590548  | 0.589551  | 0.597618  |\n",
      "File saved to ./checkpoints_new/mediamill_0_EWC_asy.pkl\n",
      "Number of Tasks: 20\n",
      "Forgetting in task 1: first time imb. av. f1 = 0.9676, after all tasks imb. av. f1 = 0.9686\n",
      "Forgetting in task 2: first time imb. av. f1 = 0.2078, after all tasks imb. av. f1 = 0.9686\n",
      "Forgetting in task 3: first time imb. av. f1 = 0.9478, after all tasks imb. av. f1 = 0.9686\n",
      "Forgetting in task 4: first time imb. av. f1 = 0.7854, after all tasks imb. av. f1 = 0.9686\n",
      "Forgetting in task 5: first time imb. av. f1 = 0.5657, after all tasks imb. av. f1 = 0.9686\n",
      "Forgetting in task 6: first time imb. av. f1 = 0.9808, after all tasks imb. av. f1 = 0.9686\n",
      "Forgetting in task 7: first time imb. av. f1 = 0.1514, after all tasks imb. av. f1 = 0.9686\n",
      "Forgetting in task 8: first time imb. av. f1 = 0.9139, after all tasks imb. av. f1 = 0.9686\n",
      "Forgetting in task 9: first time imb. av. f1 = 0.7177, after all tasks imb. av. f1 = 0.9686\n",
      "Forgetting in task 10: first time imb. av. f1 = 0.5279, after all tasks imb. av. f1 = 0.9686\n",
      "Forgetting in task 11: first time imb. av. f1 = 0.0195, after all tasks imb. av. f1 = 0.9686\n",
      "Forgetting in task 12: first time imb. av. f1 = 0.0491, after all tasks imb. av. f1 = 0.9686\n",
      "Forgetting in task 13: first time imb. av. f1 = 0.2087, after all tasks imb. av. f1 = 0.9686\n",
      "Forgetting in task 14: first time imb. av. f1 = 0.9671, after all tasks imb. av. f1 = 0.9686\n",
      "Forgetting in task 15: first time imb. av. f1 = 0.7759, after all tasks imb. av. f1 = 0.9686\n",
      "Forgetting in task 16: first time imb. av. f1 = 0.0907, after all tasks imb. av. f1 = 0.9686\n",
      "Forgetting in task 17: first time imb. av. f1 = 0.5348, after all tasks imb. av. f1 = 0.9686\n",
      "Forgetting in task 18: first time imb. av. f1 = 0.4140, after all tasks imb. av. f1 = 0.9686\n",
      "Forgetting in task 19: first time imb. av. f1 = 0.6544, after all tasks imb. av. f1 = 0.9686\n",
      "Forgetting in task 20: first time imb. av. f1 = 0.8993, after all tasks imb. av. f1 = 0.9686\n"
     ]
    },
    {
     "data": {
      "image/png": "[encoded data removed]",
      "text/plain": [
       "<Figure size 360x360 with 1 Axes>"
      ]
     },
     "metadata": {
      "needs_background": "light"
     },
     "output_type": "display_data"
    }
   ],
   "source": [
    "hparams = Hyperparameters('mediamill', continual_method, device, num_tasks=20)\n",
    "experiment = ContinualExperiment(hparams)\n",
    "experiment.run()"
   ]
  },
  {
   "cell_type": "markdown",
   "metadata": {},
   "source": [
    "## Delicious, 50 tasks"
   ]
  },
  {
   "cell_type": "code",
   "execution_count": 19,
   "metadata": {},
   "outputs": [
    {
     "name": "stdout",
     "output_type": "stream",
     "text": [
      "Processing Data ...\n"
     ]
    },
    {
     "name": "stderr",
     "output_type": "stream",
     "text": [
      "  0%|          | 0/1 [00:00<?, ?it/s]"
     ]
    },
    {
     "name": "stdout",
     "output_type": "stream",
     "text": [
      "(12920, 500)\n",
      "(3185, 500)\n",
      "(12920, 983)\n",
      "(3185, 983)\n",
      "Begin training in EWC mode ...\n",
      "Training and Evaluating on task 1\n",
      "Train data shape is  (258, 500)\n",
      "Train Labels shape is  (258, 20)\n",
      "Classes trained are: 0 to 20\n",
      "Samples with all negative labels 7\n",
      "Output dimensions: 20\n"
     ]
    },
    {
     "name": "stderr",
     "output_type": "stream",
     "text": [
      "100%|██████████| 1/1 [00:00<00:00,  8.41it/s]\n"
     ]
    },
    {
     "name": "stdout",
     "output_type": "stream",
     "text": [
      "Evaluating in individual mode on test set\n",
      "multilabel-indicator multilabel-indicator\n",
      "float32 float32\n",
      "(3185, 20) (3185, 20)\n",
      "Evaluating in combined mode on test set\n",
      "multilabel-indicator multilabel-indicator\n",
      "float32 float32\n",
      "(3185, 20) (3185, 20)\n",
      "Training and Evaluating on task 2\n",
      "Train data shape is  (258, 500)\n",
      "Train Labels shape is  (258, 20)\n",
      "Classes trained are: 20 to 40\n",
      "Samples with all negative labels 8\n",
      "Augmenting class labels...\n"
     ]
    },
    {
     "name": "stderr",
     "output_type": "stream",
     "text": [
      "  0%|          | 0/1 [00:00<?, ?it/s]"
     ]
    },
    {
     "name": "stdout",
     "output_type": "stream",
     "text": [
      "Train Labels shape is  (258, 40)\n",
      "Output dimensions: 40\n",
      "growing model size ...\n"
     ]
    },
    {
     "name": "stderr",
     "output_type": "stream",
     "text": [
      "100%|██████████| 1/1 [00:00<00:00,  5.31it/s]\n"
     ]
    },
    {
     "name": "stdout",
     "output_type": "stream",
     "text": [
      "Evaluating in individual mode on test set\n",
      "multilabel-indicator multilabel-indicator\n",
      "float32 float32\n",
      "(3185, 20) (3185, 20)\n",
      "Evaluating in combined mode on test set\n",
      "multilabel-indicator multilabel-indicator\n",
      "float32 float32\n",
      "(3185, 40) (3185, 40)\n",
      "Training and Evaluating on task 3\n",
      "Train data shape is  (258, 500)\n",
      "Train Labels shape is  (258, 20)\n",
      "Classes trained are: 40 to 60\n",
      "Samples with all negative labels 3\n",
      "Augmenting class labels...\n",
      "Train Labels shape is  (258, 60)\n",
      "Output dimensions: 60\n",
      "growing model size ...\n"
     ]
    },
    {
     "name": "stderr",
     "output_type": "stream",
     "text": [
      "100%|██████████| 1/1 [00:00<00:00,  4.63it/s]\n"
     ]
    },
    {
     "name": "stdout",
     "output_type": "stream",
     "text": [
      "Evaluating in individual mode on test set\n",
      "multilabel-indicator multilabel-indicator\n",
      "float32 float32\n",
      "(3185, 20) (3185, 20)\n",
      "Evaluating in combined mode on test set\n",
      "multilabel-indicator multilabel-indicator\n",
      "float32 float32\n",
      "(3185, 60) (3185, 60)\n",
      "Training and Evaluating on task 4\n",
      "Train data shape is  (258, 500)\n",
      "Train Labels shape is  (258, 20)\n",
      "Classes trained are: 60 to 80\n",
      "Samples with all negative labels 6\n",
      "Augmenting class labels...\n",
      "Train Labels shape is  (258, 80)\n",
      "Output dimensions: 80\n",
      "growing model size ...\n"
     ]
    },
    {
     "name": "stderr",
     "output_type": "stream",
     "text": [
      "100%|██████████| 1/1 [00:00<00:00,  4.60it/s]\n"
     ]
    },
    {
     "name": "stdout",
     "output_type": "stream",
     "text": [
      "Evaluating in individual mode on test set\n",
      "multilabel-indicator multilabel-indicator\n",
      "float32 float32\n",
      "(3185, 20) (3185, 20)\n",
      "Evaluating in combined mode on test set\n",
      "multilabel-indicator multilabel-indicator\n",
      "float32 float32\n",
      "(3185, 80) (3185, 80)\n",
      "Training and Evaluating on task 5\n",
      "Train data shape is  (258, 500)\n",
      "Train Labels shape is  (258, 20)\n",
      "Classes trained are: 80 to 100\n",
      "Samples with all negative labels 3\n",
      "Augmenting class labels...\n",
      "Train Labels shape is  (258, 100)\n",
      "Output dimensions: 100\n",
      "growing model size ...\n"
     ]
    },
    {
     "name": "stderr",
     "output_type": "stream",
     "text": [
      "100%|██████████| 1/1 [00:00<00:00,  4.53it/s]\n"
     ]
    },
    {
     "name": "stdout",
     "output_type": "stream",
     "text": [
      "Evaluating in individual mode on test set\n",
      "multilabel-indicator multilabel-indicator\n",
      "float32 float32\n",
      "(3185, 20) (3185, 20)\n",
      "Evaluating in combined mode on test set\n",
      "multilabel-indicator multilabel-indicator\n",
      "float32 float32\n",
      "(3185, 100) (3185, 100)\n",
      "Training and Evaluating on task 6\n",
      "Train data shape is  (258, 500)\n",
      "Train Labels shape is  (258, 20)\n",
      "Classes trained are: 100 to 120\n",
      "Samples with all negative labels 2\n",
      "Augmenting class labels...\n",
      "Train Labels shape is  (258, 120)\n",
      "Output dimensions: 120\n",
      "growing model size ...\n"
     ]
    },
    {
     "name": "stderr",
     "output_type": "stream",
     "text": [
      "100%|██████████| 1/1 [00:00<00:00,  4.54it/s]\n"
     ]
    },
    {
     "name": "stdout",
     "output_type": "stream",
     "text": [
      "Evaluating in individual mode on test set\n",
      "multilabel-indicator multilabel-indicator\n",
      "float32 float32\n",
      "(3185, 20) (3185, 20)\n",
      "Evaluating in combined mode on test set\n",
      "multilabel-indicator multilabel-indicator\n",
      "float32 float32\n",
      "(3185, 120) (3185, 120)\n",
      "Training and Evaluating on task 7\n",
      "Train data shape is  (258, 500)\n",
      "Train Labels shape is  (258, 20)\n",
      "Classes trained are: 120 to 140\n",
      "Samples with all negative labels 6\n",
      "Augmenting class labels...\n",
      "Train Labels shape is  (258, 140)\n",
      "Output dimensions: 140\n",
      "growing model size ...\n"
     ]
    },
    {
     "name": "stderr",
     "output_type": "stream",
     "text": [
      "100%|██████████| 1/1 [00:00<00:00,  5.28it/s]\n"
     ]
    },
    {
     "name": "stdout",
     "output_type": "stream",
     "text": [
      "Evaluating in individual mode on test set\n",
      "multilabel-indicator multilabel-indicator\n",
      "float32 float32\n",
      "(3185, 20) (3185, 20)\n",
      "Evaluating in combined mode on test set\n",
      "multilabel-indicator multilabel-indicator\n",
      "float32 float32\n",
      "(3185, 140) (3185, 140)\n",
      "Training and Evaluating on task 8\n",
      "Train data shape is  (258, 500)\n",
      "Train Labels shape is  (258, 20)\n",
      "Classes trained are: 140 to 160\n",
      "Samples with all negative labels 5\n",
      "Augmenting class labels...\n",
      "Train Labels shape is  (258, 160)\n",
      "Output dimensions: 160\n",
      "growing model size ...\n"
     ]
    },
    {
     "name": "stderr",
     "output_type": "stream",
     "text": [
      "100%|██████████| 1/1 [00:00<00:00,  5.19it/s]\n"
     ]
    },
    {
     "name": "stdout",
     "output_type": "stream",
     "text": [
      "Evaluating in individual mode on test set\n",
      "multilabel-indicator multilabel-indicator\n",
      "float32 float32\n",
      "(3185, 20) (3185, 20)\n",
      "Evaluating in combined mode on test set\n",
      "multilabel-indicator multilabel-indicator\n",
      "float32 float32\n",
      "(3185, 160) (3185, 160)\n",
      "Training and Evaluating on task 9\n",
      "Train data shape is  (258, 500)\n",
      "Train Labels shape is  (258, 20)\n",
      "Classes trained are: 160 to 180\n",
      "Samples with all negative labels 6\n",
      "Augmenting class labels...\n",
      "Train Labels shape is  (258, 180)\n",
      "Output dimensions: 180\n",
      "growing model size ...\n"
     ]
    },
    {
     "name": "stderr",
     "output_type": "stream",
     "text": [
      "100%|██████████| 1/1 [00:00<00:00,  5.48it/s]\n"
     ]
    },
    {
     "name": "stdout",
     "output_type": "stream",
     "text": [
      "Evaluating in individual mode on test set\n",
      "multilabel-indicator multilabel-indicator\n",
      "float32 float32\n",
      "(3185, 20) (3185, 20)\n",
      "Evaluating in combined mode on test set\n",
      "multilabel-indicator multilabel-indicator\n",
      "float32 float32\n",
      "(3185, 180) (3185, 180)\n",
      "Training and Evaluating on task 10\n",
      "Train data shape is  (258, 500)\n",
      "Train Labels shape is  (258, 20)\n",
      "Classes trained are: 180 to 200\n",
      "Samples with all negative labels 2\n",
      "Augmenting class labels...\n",
      "Train Labels shape is  (258, 200)\n",
      "Output dimensions: 200\n",
      "growing model size ...\n"
     ]
    },
    {
     "name": "stderr",
     "output_type": "stream",
     "text": [
      "100%|██████████| 1/1 [00:00<00:00,  5.48it/s]\n"
     ]
    },
    {
     "name": "stdout",
     "output_type": "stream",
     "text": [
      "Evaluating in individual mode on test set\n",
      "multilabel-indicator multilabel-indicator\n",
      "float32 float32\n",
      "(3185, 20) (3185, 20)\n",
      "Evaluating in combined mode on test set\n",
      "multilabel-indicator multilabel-indicator\n",
      "float32 float32\n",
      "(3185, 200) (3185, 200)\n",
      "Training and Evaluating on task 11\n",
      "Train data shape is  (258, 500)\n",
      "Train Labels shape is  (258, 20)\n",
      "Classes trained are: 200 to 220\n",
      "Samples with all negative labels 6\n",
      "Augmenting class labels...\n",
      "Train Labels shape is  (258, 220)\n",
      "Output dimensions: 220\n",
      "growing model size ...\n"
     ]
    },
    {
     "name": "stderr",
     "output_type": "stream",
     "text": [
      "100%|██████████| 1/1 [00:00<00:00,  5.21it/s]\n"
     ]
    },
    {
     "name": "stdout",
     "output_type": "stream",
     "text": [
      "Evaluating in individual mode on test set\n",
      "multilabel-indicator multilabel-indicator\n",
      "float32 float32\n",
      "(3185, 20) (3185, 20)\n",
      "Evaluating in combined mode on test set\n",
      "multilabel-indicator multilabel-indicator\n",
      "float32 float32\n",
      "(3185, 220) (3185, 220)\n",
      "Training and Evaluating on task 12\n",
      "Train data shape is  (258, 500)\n",
      "Train Labels shape is  (258, 20)\n",
      "Classes trained are: 220 to 240\n",
      "Samples with all negative labels 6\n",
      "Augmenting class labels...\n",
      "Train Labels shape is  (258, 240)\n",
      "Output dimensions: 240\n",
      "growing model size ...\n"
     ]
    },
    {
     "name": "stderr",
     "output_type": "stream",
     "text": [
      "100%|██████████| 1/1 [00:00<00:00,  4.54it/s]\n"
     ]
    },
    {
     "name": "stdout",
     "output_type": "stream",
     "text": [
      "Evaluating in individual mode on test set\n",
      "multilabel-indicator multilabel-indicator\n",
      "float32 float32\n",
      "(3185, 20) (3185, 20)\n",
      "Evaluating in combined mode on test set\n",
      "multilabel-indicator multilabel-indicator\n",
      "float32 float32\n",
      "(3185, 240) (3185, 240)\n",
      "Training and Evaluating on task 13\n",
      "Train data shape is  (258, 500)\n",
      "Train Labels shape is  (258, 20)\n",
      "Classes trained are: 240 to 260\n",
      "Samples with all negative labels 3\n",
      "Augmenting class labels...\n",
      "Train Labels shape is  (258, 260)\n",
      "Output dimensions: 260\n",
      "growing model size ...\n"
     ]
    },
    {
     "name": "stderr",
     "output_type": "stream",
     "text": [
      "100%|██████████| 1/1 [00:00<00:00,  4.60it/s]\n"
     ]
    },
    {
     "name": "stdout",
     "output_type": "stream",
     "text": [
      "Evaluating in individual mode on test set\n",
      "multilabel-indicator multilabel-indicator\n",
      "float32 float32\n",
      "(3185, 20) (3185, 20)\n",
      "Evaluating in combined mode on test set\n",
      "multilabel-indicator multilabel-indicator\n",
      "float32 float32\n",
      "(3185, 260) (3185, 260)\n",
      "Training and Evaluating on task 14\n",
      "Train data shape is  (258, 500)\n",
      "Train Labels shape is  (258, 20)\n",
      "Classes trained are: 260 to 280\n",
      "Samples with all negative labels 2\n",
      "Augmenting class labels...\n",
      "Train Labels shape is  (258, 280)\n",
      "Output dimensions: 280\n",
      "growing model size ...\n"
     ]
    },
    {
     "name": "stderr",
     "output_type": "stream",
     "text": [
      "100%|██████████| 1/1 [00:00<00:00,  4.62it/s]\n"
     ]
    },
    {
     "name": "stdout",
     "output_type": "stream",
     "text": [
      "Evaluating in individual mode on test set\n",
      "multilabel-indicator multilabel-indicator\n",
      "float32 float32\n",
      "(3185, 20) (3185, 20)\n",
      "Evaluating in combined mode on test set\n",
      "multilabel-indicator multilabel-indicator\n",
      "float32 float32\n",
      "(3185, 280) (3185, 280)\n",
      "Training and Evaluating on task 15\n",
      "Train data shape is  (258, 500)\n",
      "Train Labels shape is  (258, 20)\n",
      "Classes trained are: 280 to 300\n",
      "Samples with all negative labels 8\n",
      "Augmenting class labels...\n",
      "Train Labels shape is  (258, 300)\n",
      "Output dimensions: 300\n",
      "growing model size ...\n"
     ]
    },
    {
     "name": "stderr",
     "output_type": "stream",
     "text": [
      "100%|██████████| 1/1 [00:00<00:00,  4.77it/s]\n"
     ]
    },
    {
     "name": "stdout",
     "output_type": "stream",
     "text": [
      "Evaluating in individual mode on test set\n",
      "multilabel-indicator multilabel-indicator\n",
      "float32 float32\n",
      "(3185, 20) (3185, 20)\n",
      "Evaluating in combined mode on test set\n",
      "multilabel-indicator multilabel-indicator\n",
      "float32 float32\n",
      "(3185, 300) (3185, 300)\n",
      "Training and Evaluating on task 16\n",
      "Train data shape is  (258, 500)\n",
      "Train Labels shape is  (258, 20)\n",
      "Classes trained are: 300 to 320\n",
      "Samples with all negative labels 5\n",
      "Augmenting class labels...\n",
      "Train Labels shape is  (258, 320)\n",
      "Output dimensions: 320\n",
      "growing model size ...\n"
     ]
    },
    {
     "name": "stderr",
     "output_type": "stream",
     "text": [
      "100%|██████████| 1/1 [00:00<00:00,  4.44it/s]\n"
     ]
    },
    {
     "name": "stdout",
     "output_type": "stream",
     "text": [
      "Evaluating in individual mode on test set\n",
      "multilabel-indicator multilabel-indicator\n",
      "float32 float32\n",
      "(3185, 20) (3185, 20)\n",
      "Evaluating in combined mode on test set\n",
      "multilabel-indicator multilabel-indicator\n",
      "float32 float32\n",
      "(3185, 320) (3185, 320)\n",
      "Training and Evaluating on task 17\n",
      "Train data shape is  (258, 500)\n",
      "Train Labels shape is  (258, 20)\n",
      "Classes trained are: 320 to 340\n",
      "Samples with all negative labels 2\n",
      "Augmenting class labels...\n",
      "Train Labels shape is  (258, 340)\n",
      "Output dimensions: 340\n",
      "growing model size ...\n"
     ]
    },
    {
     "name": "stderr",
     "output_type": "stream",
     "text": [
      "100%|██████████| 1/1 [00:00<00:00,  4.61it/s]\n"
     ]
    },
    {
     "name": "stdout",
     "output_type": "stream",
     "text": [
      "Evaluating in individual mode on test set\n",
      "multilabel-indicator multilabel-indicator\n",
      "float32 float32\n",
      "(3185, 20) (3185, 20)\n",
      "Evaluating in combined mode on test set\n",
      "multilabel-indicator multilabel-indicator\n",
      "float32 float32\n",
      "(3185, 340) (3185, 340)\n",
      "Training and Evaluating on task 18\n",
      "Train data shape is  (258, 500)\n",
      "Train Labels shape is  (258, 20)\n",
      "Classes trained are: 340 to 360\n",
      "Samples with all negative labels 5\n",
      "Augmenting class labels...\n",
      "Train Labels shape is  (258, 360)\n",
      "Output dimensions: 360\n",
      "growing model size ...\n"
     ]
    },
    {
     "name": "stderr",
     "output_type": "stream",
     "text": [
      "100%|██████████| 1/1 [00:00<00:00,  4.08it/s]\n"
     ]
    },
    {
     "name": "stdout",
     "output_type": "stream",
     "text": [
      "Evaluating in individual mode on test set\n",
      "multilabel-indicator multilabel-indicator\n",
      "float32 float32\n",
      "(3185, 20) (3185, 20)\n",
      "Evaluating in combined mode on test set\n",
      "multilabel-indicator multilabel-indicator\n",
      "float32 float32\n",
      "(3185, 360) (3185, 360)\n",
      "Training and Evaluating on task 19\n",
      "Train data shape is  (258, 500)\n",
      "Train Labels shape is  (258, 20)\n",
      "Classes trained are: 360 to 380\n",
      "Samples with all negative labels 5\n",
      "Augmenting class labels...\n",
      "Train Labels shape is  (258, 380)\n",
      "Output dimensions: 380\n",
      "growing model size ...\n"
     ]
    },
    {
     "name": "stderr",
     "output_type": "stream",
     "text": [
      "100%|██████████| 1/1 [00:00<00:00,  5.42it/s]\n"
     ]
    },
    {
     "name": "stdout",
     "output_type": "stream",
     "text": [
      "Evaluating in individual mode on test set\n",
      "multilabel-indicator multilabel-indicator\n",
      "float32 float32\n",
      "(3185, 20) (3185, 20)\n",
      "Evaluating in combined mode on test set\n",
      "multilabel-indicator multilabel-indicator\n",
      "float32 float32\n",
      "(3185, 380) (3185, 380)\n",
      "Training and Evaluating on task 20\n",
      "Train data shape is  (258, 500)\n",
      "Train Labels shape is  (258, 20)\n",
      "Classes trained are: 380 to 400\n",
      "Samples with all negative labels 2\n",
      "Augmenting class labels...\n",
      "Train Labels shape is  (258, 400)\n",
      "Output dimensions: 400\n",
      "growing model size ...\n"
     ]
    },
    {
     "name": "stderr",
     "output_type": "stream",
     "text": [
      "100%|██████████| 1/1 [00:00<00:00,  4.55it/s]\n"
     ]
    },
    {
     "name": "stdout",
     "output_type": "stream",
     "text": [
      "Evaluating in individual mode on test set\n",
      "multilabel-indicator multilabel-indicator\n",
      "float32 float32\n",
      "(3185, 20) (3185, 20)\n",
      "Evaluating in combined mode on test set\n",
      "multilabel-indicator multilabel-indicator\n",
      "float32 float32\n",
      "(3185, 400) (3185, 400)\n",
      "Training and Evaluating on task 21\n",
      "Train data shape is  (258, 500)\n",
      "Train Labels shape is  (258, 20)\n",
      "Classes trained are: 400 to 420\n",
      "Samples with all negative labels 3\n",
      "Augmenting class labels...\n",
      "Train Labels shape is  (258, 420)\n",
      "Output dimensions: 420\n",
      "growing model size ...\n"
     ]
    },
    {
     "name": "stderr",
     "output_type": "stream",
     "text": [
      "100%|██████████| 1/1 [00:00<00:00,  3.84it/s]\n"
     ]
    },
    {
     "name": "stdout",
     "output_type": "stream",
     "text": [
      "Evaluating in individual mode on test set\n",
      "multilabel-indicator multilabel-indicator\n",
      "float32 float32\n",
      "(3185, 20) (3185, 20)\n",
      "Evaluating in combined mode on test set\n",
      "multilabel-indicator multilabel-indicator\n",
      "float32 float32\n",
      "(3185, 420) (3185, 420)\n",
      "Training and Evaluating on task 22\n",
      "Train data shape is  (258, 500)\n",
      "Train Labels shape is  (258, 20)\n",
      "Classes trained are: 420 to 440\n",
      "Samples with all negative labels 6\n",
      "Augmenting class labels...\n"
     ]
    },
    {
     "name": "stderr",
     "output_type": "stream",
     "text": [
      "  0%|          | 0/1 [00:00<?, ?it/s]"
     ]
    },
    {
     "name": "stdout",
     "output_type": "stream",
     "text": [
      "Train Labels shape is  (258, 440)\n",
      "Output dimensions: 440\n",
      "growing model size ...\n"
     ]
    },
    {
     "name": "stderr",
     "output_type": "stream",
     "text": [
      "100%|██████████| 1/1 [00:00<00:00,  3.83it/s]\n"
     ]
    },
    {
     "name": "stdout",
     "output_type": "stream",
     "text": [
      "Evaluating in individual mode on test set\n",
      "multilabel-indicator multilabel-indicator\n",
      "float32 float32\n",
      "(3185, 20) (3185, 20)\n",
      "Evaluating in combined mode on test set\n",
      "multilabel-indicator multilabel-indicator\n",
      "float32 float32\n",
      "(3185, 440) (3185, 440)\n",
      "Training and Evaluating on task 23\n",
      "Train data shape is  (258, 500)\n",
      "Train Labels shape is  (258, 20)\n",
      "Classes trained are: 440 to 460\n",
      "Samples with all negative labels 1\n",
      "Augmenting class labels...\n",
      "Train Labels shape is  (258, 460)\n",
      "Output dimensions: 460\n",
      "growing model size ...\n"
     ]
    },
    {
     "name": "stderr",
     "output_type": "stream",
     "text": [
      "100%|██████████| 1/1 [00:00<00:00,  4.33it/s]\n"
     ]
    },
    {
     "name": "stdout",
     "output_type": "stream",
     "text": [
      "Evaluating in individual mode on test set\n",
      "multilabel-indicator multilabel-indicator\n",
      "float32 float32\n",
      "(3185, 20) (3185, 20)\n",
      "Evaluating in combined mode on test set\n",
      "multilabel-indicator multilabel-indicator\n",
      "float32 float32\n",
      "(3185, 460) (3185, 460)\n",
      "Training and Evaluating on task 24\n",
      "Train data shape is  (258, 500)\n",
      "Train Labels shape is  (258, 20)\n",
      "Classes trained are: 460 to 480\n",
      "Samples with all negative labels 10\n",
      "Augmenting class labels...\n"
     ]
    },
    {
     "name": "stderr",
     "output_type": "stream",
     "text": [
      "  0%|          | 0/1 [00:00<?, ?it/s]"
     ]
    },
    {
     "name": "stdout",
     "output_type": "stream",
     "text": [
      "Train Labels shape is  (258, 480)\n",
      "Output dimensions: 480\n",
      "growing model size ...\n"
     ]
    },
    {
     "name": "stderr",
     "output_type": "stream",
     "text": [
      "100%|██████████| 1/1 [00:00<00:00,  4.27it/s]\n"
     ]
    },
    {
     "name": "stdout",
     "output_type": "stream",
     "text": [
      "Evaluating in individual mode on test set\n",
      "multilabel-indicator multilabel-indicator\n",
      "float32 float32\n",
      "(3185, 20) (3185, 20)\n",
      "Evaluating in combined mode on test set\n",
      "multilabel-indicator multilabel-indicator\n",
      "float32 float32\n",
      "(3185, 480) (3185, 480)\n",
      "Training and Evaluating on task 25\n",
      "Train data shape is  (258, 500)\n",
      "Train Labels shape is  (258, 20)\n",
      "Classes trained are: 480 to 500\n",
      "Samples with all negative labels 4\n",
      "Augmenting class labels...\n"
     ]
    },
    {
     "name": "stderr",
     "output_type": "stream",
     "text": [
      "  0%|          | 0/1 [00:00<?, ?it/s]"
     ]
    },
    {
     "name": "stdout",
     "output_type": "stream",
     "text": [
      "Train Labels shape is  (258, 500)\n",
      "Output dimensions: 500\n",
      "growing model size ...\n"
     ]
    },
    {
     "name": "stderr",
     "output_type": "stream",
     "text": [
      "100%|██████████| 1/1 [00:00<00:00,  4.34it/s]\n"
     ]
    },
    {
     "name": "stdout",
     "output_type": "stream",
     "text": [
      "Evaluating in individual mode on test set\n",
      "multilabel-indicator multilabel-indicator\n",
      "float32 float32\n",
      "(3185, 20) (3185, 20)\n",
      "Evaluating in combined mode on test set\n",
      "multilabel-indicator multilabel-indicator\n",
      "float32 float32\n",
      "(3185, 500) (3185, 500)\n",
      "Training and Evaluating on task 26\n",
      "Train data shape is  (258, 500)\n",
      "Train Labels shape is  (258, 20)\n",
      "Classes trained are: 500 to 520\n",
      "Samples with all negative labels 2\n",
      "Augmenting class labels...\n"
     ]
    },
    {
     "name": "stderr",
     "output_type": "stream",
     "text": [
      "  0%|          | 0/1 [00:00<?, ?it/s]"
     ]
    },
    {
     "name": "stdout",
     "output_type": "stream",
     "text": [
      "Train Labels shape is  (258, 520)\n",
      "Output dimensions: 520\n",
      "growing model size ...\n"
     ]
    },
    {
     "name": "stderr",
     "output_type": "stream",
     "text": [
      "100%|██████████| 1/1 [00:00<00:00,  4.20it/s]\n"
     ]
    },
    {
     "name": "stdout",
     "output_type": "stream",
     "text": [
      "Evaluating in individual mode on test set\n",
      "multilabel-indicator multilabel-indicator\n",
      "float32 float32\n",
      "(3185, 20) (3185, 20)\n",
      "Evaluating in combined mode on test set\n",
      "multilabel-indicator multilabel-indicator\n",
      "float32 float32\n",
      "(3185, 520) (3185, 520)\n",
      "Training and Evaluating on task 27\n",
      "Train data shape is  (258, 500)\n",
      "Train Labels shape is  (258, 20)\n",
      "Classes trained are: 520 to 540\n",
      "Samples with all negative labels 3\n",
      "Augmenting class labels...\n"
     ]
    },
    {
     "name": "stderr",
     "output_type": "stream",
     "text": [
      "  0%|          | 0/1 [00:00<?, ?it/s]"
     ]
    },
    {
     "name": "stdout",
     "output_type": "stream",
     "text": [
      "Train Labels shape is  (258, 540)\n",
      "Output dimensions: 540\n",
      "growing model size ...\n"
     ]
    },
    {
     "name": "stderr",
     "output_type": "stream",
     "text": [
      "100%|██████████| 1/1 [00:00<00:00,  4.52it/s]\n"
     ]
    },
    {
     "name": "stdout",
     "output_type": "stream",
     "text": [
      "Evaluating in individual mode on test set\n",
      "multilabel-indicator multilabel-indicator\n",
      "float32 float32\n",
      "(3185, 20) (3185, 20)\n",
      "Evaluating in combined mode on test set\n",
      "multilabel-indicator multilabel-indicator\n",
      "float32 float32\n",
      "(3185, 540) (3185, 540)\n",
      "Training and Evaluating on task 28\n",
      "Train data shape is  (258, 500)\n",
      "Train Labels shape is  (258, 20)\n",
      "Classes trained are: 540 to 560\n",
      "Samples with all negative labels 4\n",
      "Augmenting class labels...\n"
     ]
    },
    {
     "name": "stderr",
     "output_type": "stream",
     "text": [
      "  0%|          | 0/1 [00:00<?, ?it/s]"
     ]
    },
    {
     "name": "stdout",
     "output_type": "stream",
     "text": [
      "Train Labels shape is  (258, 560)\n",
      "Output dimensions: 560\n",
      "growing model size ...\n"
     ]
    },
    {
     "name": "stderr",
     "output_type": "stream",
     "text": [
      "100%|██████████| 1/1 [00:00<00:00,  4.39it/s]\n"
     ]
    },
    {
     "name": "stdout",
     "output_type": "stream",
     "text": [
      "Evaluating in individual mode on test set\n",
      "multilabel-indicator multilabel-indicator\n",
      "float32 float32\n",
      "(3185, 20) (3185, 20)\n",
      "Evaluating in combined mode on test set\n",
      "multilabel-indicator multilabel-indicator\n",
      "float32 float32\n",
      "(3185, 560) (3185, 560)\n",
      "Training and Evaluating on task 29\n",
      "Train data shape is  (258, 500)\n",
      "Train Labels shape is  (258, 20)\n",
      "Classes trained are: 560 to 580\n",
      "Samples with all negative labels 3\n",
      "Augmenting class labels...\n"
     ]
    },
    {
     "name": "stderr",
     "output_type": "stream",
     "text": [
      "  0%|          | 0/1 [00:00<?, ?it/s]"
     ]
    },
    {
     "name": "stdout",
     "output_type": "stream",
     "text": [
      "Train Labels shape is  (258, 580)\n",
      "Output dimensions: 580\n",
      "growing model size ...\n"
     ]
    },
    {
     "name": "stderr",
     "output_type": "stream",
     "text": [
      "100%|██████████| 1/1 [00:00<00:00,  4.43it/s]\n"
     ]
    },
    {
     "name": "stdout",
     "output_type": "stream",
     "text": [
      "Evaluating in individual mode on test set\n",
      "multilabel-indicator multilabel-indicator\n",
      "float32 float32\n",
      "(3185, 20) (3185, 20)\n",
      "Evaluating in combined mode on test set\n",
      "multilabel-indicator multilabel-indicator\n",
      "float32 float32\n",
      "(3185, 580) (3185, 580)\n",
      "Training and Evaluating on task 30\n",
      "Train data shape is  (258, 500)\n",
      "Train Labels shape is  (258, 20)\n",
      "Classes trained are: 580 to 600\n",
      "Samples with all negative labels 6\n",
      "Augmenting class labels...\n"
     ]
    },
    {
     "name": "stderr",
     "output_type": "stream",
     "text": [
      "  0%|          | 0/1 [00:00<?, ?it/s]"
     ]
    },
    {
     "name": "stdout",
     "output_type": "stream",
     "text": [
      "Train Labels shape is  (258, 600)\n",
      "Output dimensions: 600\n",
      "growing model size ...\n"
     ]
    },
    {
     "name": "stderr",
     "output_type": "stream",
     "text": [
      "100%|██████████| 1/1 [00:00<00:00,  4.32it/s]\n"
     ]
    },
    {
     "name": "stdout",
     "output_type": "stream",
     "text": [
      "Evaluating in individual mode on test set\n",
      "multilabel-indicator multilabel-indicator\n",
      "float32 float32\n",
      "(3185, 20) (3185, 20)\n",
      "Evaluating in combined mode on test set\n",
      "multilabel-indicator multilabel-indicator\n",
      "float32 float32\n",
      "(3185, 600) (3185, 600)\n",
      "Training and Evaluating on task 31\n",
      "Train data shape is  (258, 500)\n",
      "Train Labels shape is  (258, 20)\n",
      "Classes trained are: 600 to 620\n",
      "Samples with all negative labels 3\n",
      "Augmenting class labels...\n",
      "Train Labels shape is  (258, 620)\n",
      "Output dimensions: 620\n",
      "growing model size ...\n"
     ]
    },
    {
     "name": "stderr",
     "output_type": "stream",
     "text": [
      "100%|██████████| 1/1 [00:00<00:00,  4.44it/s]\n"
     ]
    },
    {
     "name": "stdout",
     "output_type": "stream",
     "text": [
      "Evaluating in individual mode on test set\n",
      "multilabel-indicator multilabel-indicator\n",
      "float32 float32\n",
      "(3185, 20) (3185, 20)\n",
      "Evaluating in combined mode on test set\n",
      "multilabel-indicator multilabel-indicator\n",
      "float32 float32\n",
      "(3185, 620) (3185, 620)\n",
      "Training and Evaluating on task 32\n",
      "Train data shape is  (258, 500)\n",
      "Train Labels shape is  (258, 20)\n",
      "Classes trained are: 620 to 640\n",
      "Samples with all negative labels 3\n",
      "Augmenting class labels...\n"
     ]
    },
    {
     "name": "stderr",
     "output_type": "stream",
     "text": [
      "  0%|          | 0/1 [00:00<?, ?it/s]"
     ]
    },
    {
     "name": "stdout",
     "output_type": "stream",
     "text": [
      "Train Labels shape is  (258, 640)\n",
      "Output dimensions: 640\n",
      "growing model size ...\n"
     ]
    },
    {
     "name": "stderr",
     "output_type": "stream",
     "text": [
      "100%|██████████| 1/1 [00:00<00:00,  4.30it/s]\n"
     ]
    },
    {
     "name": "stdout",
     "output_type": "stream",
     "text": [
      "Evaluating in individual mode on test set\n",
      "multilabel-indicator multilabel-indicator\n",
      "float32 float32\n",
      "(3185, 20) (3185, 20)\n",
      "Evaluating in combined mode on test set\n",
      "multilabel-indicator multilabel-indicator\n",
      "float32 float32\n",
      "(3185, 640) (3185, 640)\n",
      "Training and Evaluating on task 33\n",
      "Train data shape is  (258, 500)\n",
      "Train Labels shape is  (258, 20)\n",
      "Classes trained are: 640 to 660\n",
      "Samples with all negative labels 5\n",
      "Augmenting class labels...\n"
     ]
    },
    {
     "name": "stderr",
     "output_type": "stream",
     "text": [
      "  0%|          | 0/1 [00:00<?, ?it/s]"
     ]
    },
    {
     "name": "stdout",
     "output_type": "stream",
     "text": [
      "Train Labels shape is  (258, 660)\n",
      "Output dimensions: 660\n",
      "growing model size ...\n"
     ]
    },
    {
     "name": "stderr",
     "output_type": "stream",
     "text": [
      "100%|██████████| 1/1 [00:00<00:00,  4.50it/s]\n"
     ]
    },
    {
     "name": "stdout",
     "output_type": "stream",
     "text": [
      "Evaluating in individual mode on test set\n",
      "multilabel-indicator multilabel-indicator\n",
      "float32 float32\n",
      "(3185, 20) (3185, 20)\n",
      "Evaluating in combined mode on test set\n",
      "multilabel-indicator multilabel-indicator\n",
      "float32 float32\n",
      "(3185, 660) (3185, 660)\n",
      "Training and Evaluating on task 34\n",
      "Train data shape is  (258, 500)\n",
      "Train Labels shape is  (258, 20)\n",
      "Classes trained are: 660 to 680\n",
      "Samples with all negative labels 3\n",
      "Augmenting class labels...\n"
     ]
    },
    {
     "name": "stderr",
     "output_type": "stream",
     "text": [
      "  0%|          | 0/1 [00:00<?, ?it/s]"
     ]
    },
    {
     "name": "stdout",
     "output_type": "stream",
     "text": [
      "Train Labels shape is  (258, 680)\n",
      "Output dimensions: 680\n",
      "growing model size ...\n"
     ]
    },
    {
     "name": "stderr",
     "output_type": "stream",
     "text": [
      "100%|██████████| 1/1 [00:00<00:00,  4.33it/s]\n"
     ]
    },
    {
     "name": "stdout",
     "output_type": "stream",
     "text": [
      "Evaluating in individual mode on test set\n",
      "multilabel-indicator multilabel-indicator\n",
      "float32 float32\n",
      "(3185, 20) (3185, 20)\n",
      "Evaluating in combined mode on test set\n",
      "multilabel-indicator multilabel-indicator\n",
      "float32 float32\n",
      "(3185, 680) (3185, 680)\n",
      "Training and Evaluating on task 35\n",
      "Train data shape is  (258, 500)\n",
      "Train Labels shape is  (258, 20)\n",
      "Classes trained are: 680 to 700\n",
      "Samples with all negative labels 8\n",
      "Augmenting class labels...\n"
     ]
    },
    {
     "name": "stderr",
     "output_type": "stream",
     "text": [
      "  0%|          | 0/1 [00:00<?, ?it/s]"
     ]
    },
    {
     "name": "stdout",
     "output_type": "stream",
     "text": [
      "Train Labels shape is  (258, 700)\n",
      "Output dimensions: 700\n",
      "growing model size ...\n"
     ]
    },
    {
     "name": "stderr",
     "output_type": "stream",
     "text": [
      "100%|██████████| 1/1 [00:00<00:00,  4.45it/s]\n"
     ]
    },
    {
     "name": "stdout",
     "output_type": "stream",
     "text": [
      "Evaluating in individual mode on test set\n",
      "multilabel-indicator multilabel-indicator\n",
      "float32 float32\n",
      "(3185, 20) (3185, 20)\n",
      "Evaluating in combined mode on test set\n",
      "multilabel-indicator multilabel-indicator\n",
      "float32 float32\n",
      "(3185, 700) (3185, 700)\n",
      "Training and Evaluating on task 36\n",
      "Train data shape is  (258, 500)\n",
      "Train Labels shape is  (258, 20)\n",
      "Classes trained are: 700 to 720\n",
      "Samples with all negative labels 6\n",
      "Augmenting class labels...\n"
     ]
    },
    {
     "name": "stderr",
     "output_type": "stream",
     "text": [
      "  0%|          | 0/1 [00:00<?, ?it/s]"
     ]
    },
    {
     "name": "stdout",
     "output_type": "stream",
     "text": [
      "Train Labels shape is  (258, 720)\n",
      "Output dimensions: 720\n",
      "growing model size ...\n"
     ]
    },
    {
     "name": "stderr",
     "output_type": "stream",
     "text": [
      "100%|██████████| 1/1 [00:00<00:00,  4.41it/s]\n"
     ]
    },
    {
     "name": "stdout",
     "output_type": "stream",
     "text": [
      "Evaluating in individual mode on test set\n",
      "multilabel-indicator multilabel-indicator\n",
      "float32 float32\n",
      "(3185, 20) (3185, 20)\n",
      "Evaluating in combined mode on test set\n",
      "multilabel-indicator multilabel-indicator\n",
      "float32 float32\n",
      "(3185, 720) (3185, 720)\n",
      "Training and Evaluating on task 37\n",
      "Train data shape is  (258, 500)\n",
      "Train Labels shape is  (258, 20)\n",
      "Classes trained are: 720 to 740\n",
      "Samples with all negative labels 3\n",
      "Augmenting class labels...\n",
      "Train Labels shape is  (258, 740)\n",
      "Output dimensions: 740\n",
      "growing model size ...\n"
     ]
    },
    {
     "name": "stderr",
     "output_type": "stream",
     "text": [
      "100%|██████████| 1/1 [00:00<00:00,  5.69it/s]\n"
     ]
    },
    {
     "name": "stdout",
     "output_type": "stream",
     "text": [
      "Evaluating in individual mode on test set\n",
      "multilabel-indicator multilabel-indicator\n",
      "float32 float32\n",
      "(3185, 20) (3185, 20)\n",
      "Evaluating in combined mode on test set\n",
      "multilabel-indicator multilabel-indicator\n",
      "float32 float32\n",
      "(3185, 740) (3185, 740)\n",
      "Training and Evaluating on task 38\n",
      "Train data shape is  (258, 500)\n",
      "Train Labels shape is  (258, 20)\n",
      "Classes trained are: 740 to 760\n",
      "Samples with all negative labels 4\n",
      "Augmenting class labels...\n",
      "Train Labels shape is  (258, 760)\n",
      "Output dimensions: 760\n",
      "growing model size ...\n"
     ]
    },
    {
     "name": "stderr",
     "output_type": "stream",
     "text": [
      "100%|██████████| 1/1 [00:00<00:00,  4.72it/s]\n"
     ]
    },
    {
     "name": "stdout",
     "output_type": "stream",
     "text": [
      "Evaluating in individual mode on test set\n",
      "multilabel-indicator multilabel-indicator\n",
      "float32 float32\n",
      "(3185, 20) (3185, 20)\n",
      "Evaluating in combined mode on test set\n",
      "multilabel-indicator multilabel-indicator\n",
      "float32 float32\n",
      "(3185, 760) (3185, 760)\n",
      "Training and Evaluating on task 39\n",
      "Train data shape is  (258, 500)\n",
      "Train Labels shape is  (258, 20)\n",
      "Classes trained are: 760 to 780\n",
      "Samples with all negative labels 6\n",
      "Augmenting class labels...\n",
      "Train Labels shape is  (258, 780)\n",
      "Output dimensions: 780\n",
      "growing model size ...\n"
     ]
    },
    {
     "name": "stderr",
     "output_type": "stream",
     "text": [
      "100%|██████████| 1/1 [00:00<00:00,  4.93it/s]\n"
     ]
    },
    {
     "name": "stdout",
     "output_type": "stream",
     "text": [
      "Evaluating in individual mode on test set\n",
      "multilabel-indicator multilabel-indicator\n",
      "float32 float32\n",
      "(3185, 20) (3185, 20)\n",
      "Evaluating in combined mode on test set\n",
      "multilabel-indicator multilabel-indicator\n",
      "float32 float32\n",
      "(3185, 780) (3185, 780)\n",
      "Training and Evaluating on task 40\n",
      "Train data shape is  (258, 500)\n",
      "Train Labels shape is  (258, 20)\n",
      "Classes trained are: 780 to 800\n",
      "Samples with all negative labels 2\n",
      "Augmenting class labels...\n",
      "Train Labels shape is  (258, 800)\n",
      "Output dimensions: 800\n",
      "growing model size ...\n"
     ]
    },
    {
     "name": "stderr",
     "output_type": "stream",
     "text": [
      "100%|██████████| 1/1 [00:00<00:00,  4.66it/s]\n"
     ]
    },
    {
     "name": "stdout",
     "output_type": "stream",
     "text": [
      "Evaluating in individual mode on test set\n",
      "multilabel-indicator multilabel-indicator\n",
      "float32 float32\n",
      "(3185, 20) (3185, 20)\n",
      "Evaluating in combined mode on test set\n",
      "multilabel-indicator multilabel-indicator\n",
      "float32 float32\n",
      "(3185, 800) (3185, 800)\n",
      "Training and Evaluating on task 41\n",
      "Train data shape is  (258, 500)\n",
      "Train Labels shape is  (258, 20)\n",
      "Classes trained are: 800 to 820\n",
      "Samples with all negative labels 4\n",
      "Augmenting class labels...\n",
      "Train Labels shape is  (258, 820)\n",
      "Output dimensions: 820\n",
      "growing model size ...\n"
     ]
    },
    {
     "name": "stderr",
     "output_type": "stream",
     "text": [
      "100%|██████████| 1/1 [00:00<00:00,  4.57it/s]\n"
     ]
    },
    {
     "name": "stdout",
     "output_type": "stream",
     "text": [
      "Evaluating in individual mode on test set\n",
      "multilabel-indicator multilabel-indicator\n",
      "float32 float32\n",
      "(3185, 20) (3185, 20)\n",
      "Evaluating in combined mode on test set\n",
      "multilabel-indicator multilabel-indicator\n",
      "float32 float32\n",
      "(3185, 820) (3185, 820)\n",
      "Training and Evaluating on task 42\n",
      "Train data shape is  (258, 500)\n",
      "Train Labels shape is  (258, 20)\n",
      "Classes trained are: 820 to 840\n",
      "Samples with all negative labels 4\n",
      "Augmenting class labels...\n",
      "Train Labels shape is  (258, 840)\n",
      "Output dimensions: 840\n",
      "growing model size ...\n"
     ]
    },
    {
     "name": "stderr",
     "output_type": "stream",
     "text": [
      "100%|██████████| 1/1 [00:00<00:00,  4.57it/s]\n"
     ]
    },
    {
     "name": "stdout",
     "output_type": "stream",
     "text": [
      "Evaluating in individual mode on test set\n",
      "multilabel-indicator multilabel-indicator\n",
      "float32 float32\n",
      "(3185, 20) (3185, 20)\n",
      "Evaluating in combined mode on test set\n",
      "multilabel-indicator multilabel-indicator\n",
      "float32 float32\n",
      "(3185, 840) (3185, 840)\n",
      "Training and Evaluating on task 43\n",
      "Train data shape is  (258, 500)\n",
      "Train Labels shape is  (258, 20)\n",
      "Classes trained are: 840 to 860\n",
      "Samples with all negative labels 4\n",
      "Augmenting class labels...\n",
      "Train Labels shape is  (258, 860)\n",
      "Output dimensions: 860\n",
      "growing model size ...\n"
     ]
    },
    {
     "name": "stderr",
     "output_type": "stream",
     "text": [
      "100%|██████████| 1/1 [00:00<00:00,  4.54it/s]\n"
     ]
    },
    {
     "name": "stdout",
     "output_type": "stream",
     "text": [
      "Evaluating in individual mode on test set\n",
      "multilabel-indicator multilabel-indicator\n",
      "float32 float32\n",
      "(3185, 20) (3185, 20)\n",
      "Evaluating in combined mode on test set\n",
      "multilabel-indicator multilabel-indicator\n",
      "float32 float32\n",
      "(3185, 860) (3185, 860)\n",
      "Training and Evaluating on task 44\n",
      "Train data shape is  (258, 500)\n",
      "Train Labels shape is  (258, 20)\n",
      "Classes trained are: 860 to 880\n",
      "Samples with all negative labels 5\n",
      "Augmenting class labels...\n",
      "Train Labels shape is  (258, 880)\n",
      "Output dimensions: 880\n",
      "growing model size ...\n"
     ]
    },
    {
     "name": "stderr",
     "output_type": "stream",
     "text": [
      "100%|██████████| 1/1 [00:00<00:00,  4.54it/s]\n"
     ]
    },
    {
     "name": "stdout",
     "output_type": "stream",
     "text": [
      "Evaluating in individual mode on test set\n",
      "multilabel-indicator multilabel-indicator\n",
      "float32 float32\n",
      "(3185, 20) (3185, 20)\n",
      "Evaluating in combined mode on test set\n",
      "multilabel-indicator multilabel-indicator\n",
      "float32 float32\n",
      "(3185, 880) (3185, 880)\n",
      "Training and Evaluating on task 45\n",
      "Train data shape is  (258, 500)\n",
      "Train Labels shape is  (258, 20)\n",
      "Classes trained are: 880 to 900\n",
      "Samples with all negative labels 2\n",
      "Augmenting class labels...\n",
      "Train Labels shape is  (258, 900)\n",
      "Output dimensions: 900\n",
      "growing model size ...\n"
     ]
    },
    {
     "name": "stderr",
     "output_type": "stream",
     "text": [
      "100%|██████████| 1/1 [00:00<00:00,  4.58it/s]\n"
     ]
    },
    {
     "name": "stdout",
     "output_type": "stream",
     "text": [
      "Evaluating in individual mode on test set\n",
      "multilabel-indicator multilabel-indicator\n",
      "float32 float32\n",
      "(3185, 20) (3185, 20)\n",
      "Evaluating in combined mode on test set\n",
      "multilabel-indicator multilabel-indicator\n",
      "float32 float32\n",
      "(3185, 900) (3185, 900)\n",
      "Training and Evaluating on task 46\n",
      "Train data shape is  (258, 500)\n",
      "Train Labels shape is  (258, 20)\n",
      "Classes trained are: 900 to 920\n",
      "Samples with all negative labels 3\n",
      "Augmenting class labels...\n",
      "Train Labels shape is  (258, 920)\n",
      "Output dimensions: 920\n",
      "growing model size ...\n"
     ]
    },
    {
     "name": "stderr",
     "output_type": "stream",
     "text": [
      "100%|██████████| 1/1 [00:00<00:00,  4.70it/s]\n"
     ]
    },
    {
     "name": "stdout",
     "output_type": "stream",
     "text": [
      "Evaluating in individual mode on test set\n",
      "multilabel-indicator multilabel-indicator\n",
      "float32 float32\n",
      "(3185, 20) (3185, 20)\n",
      "Evaluating in combined mode on test set\n",
      "multilabel-indicator multilabel-indicator\n",
      "float32 float32\n",
      "(3185, 920) (3185, 920)\n",
      "Training and Evaluating on task 47\n",
      "Train data shape is  (258, 500)\n",
      "Train Labels shape is  (258, 20)\n",
      "Classes trained are: 920 to 940\n",
      "Samples with all negative labels 4\n",
      "Augmenting class labels...\n",
      "Train Labels shape is  (258, 940)\n",
      "Output dimensions: 940\n",
      "growing model size ...\n"
     ]
    },
    {
     "name": "stderr",
     "output_type": "stream",
     "text": [
      "100%|██████████| 1/1 [00:00<00:00,  4.57it/s]\n"
     ]
    },
    {
     "name": "stdout",
     "output_type": "stream",
     "text": [
      "Evaluating in individual mode on test set\n",
      "multilabel-indicator multilabel-indicator\n",
      "float32 float32\n",
      "(3185, 20) (3185, 20)\n",
      "Evaluating in combined mode on test set\n",
      "multilabel-indicator multilabel-indicator\n",
      "float32 float32\n",
      "(3185, 940) (3185, 940)\n",
      "Training and Evaluating on task 48\n",
      "Train data shape is  (258, 500)\n",
      "Train Labels shape is  (258, 20)\n",
      "Classes trained are: 940 to 960\n",
      "Samples with all negative labels 5\n",
      "Augmenting class labels...\n",
      "Train Labels shape is  (258, 960)\n",
      "Output dimensions: 960\n",
      "growing model size ...\n"
     ]
    },
    {
     "name": "stderr",
     "output_type": "stream",
     "text": [
      "100%|██████████| 1/1 [00:00<00:00,  4.55it/s]\n"
     ]
    },
    {
     "name": "stdout",
     "output_type": "stream",
     "text": [
      "Evaluating in individual mode on test set\n",
      "multilabel-indicator multilabel-indicator\n",
      "float32 float32\n",
      "(3185, 20) (3185, 20)\n",
      "Evaluating in combined mode on test set\n",
      "multilabel-indicator multilabel-indicator\n",
      "float32 float32\n",
      "(3185, 960) (3185, 960)\n",
      "Training and Evaluating on task 49\n",
      "Train data shape is  (258, 500)\n",
      "Train Labels shape is  (258, 20)\n",
      "Classes trained are: 960 to 980\n",
      "Samples with all negative labels 2\n",
      "Augmenting class labels...\n",
      "Train Labels shape is  (258, 980)\n",
      "Output dimensions: 980\n",
      "growing model size ...\n"
     ]
    },
    {
     "name": "stderr",
     "output_type": "stream",
     "text": [
      "100%|██████████| 1/1 [00:00<00:00,  4.62it/s]\n"
     ]
    },
    {
     "name": "stdout",
     "output_type": "stream",
     "text": [
      "Evaluating in individual mode on test set\n",
      "multilabel-indicator multilabel-indicator\n",
      "float32 float32\n",
      "(3185, 20) (3185, 20)\n",
      "Evaluating in combined mode on test set\n",
      "multilabel-indicator multilabel-indicator\n",
      "float32 float32\n",
      "(3185, 980) (3185, 980)\n",
      "Training and Evaluating on task 50\n",
      "Train data shape is  (278, 500)\n",
      "Train Labels shape is  (278, 3)\n",
      "Classes trained are: 980 to 983\n",
      "Samples with all negative labels 0\n",
      "Augmenting class labels...\n",
      "Train Labels shape is  (278, 983)\n",
      "Output dimensions: 983\n",
      "growing model size ...\n"
     ]
    },
    {
     "name": "stderr",
     "output_type": "stream",
     "text": [
      "100%|██████████| 1/1 [00:00<00:00,  4.31it/s]\n"
     ]
    },
    {
     "name": "stdout",
     "output_type": "stream",
     "text": [
      "Evaluating in individual mode on test set\n",
      "multilabel-indicator multilabel-indicator\n",
      "float32 float32\n",
      "(3185, 3) (3185, 3)\n",
      "Evaluating in combined mode on test set\n",
      "multilabel-indicator multilabel-indicator\n",
      "float32 float32\n",
      "(3185, 983) (3185, 983)\n",
      "Evaluating in individual mode on test set\n",
      "|                     |          0 |          1 |          2 |          3 |          4 |         5 |         6 |          7 |          8 |          9 |        10 |         11 |         12 |         13 |         14 |         15 |        16 |        17 |          18 |        19 |         20 |         21 |         22 |          23 |        24 |         25 |        26 |         27 |         28 |         29 |         30 |         31 |         32 |         33 |         34 |        35 |        36 |         37 |         38 |         39 |         40 |         41 |         42 |         43 |         44 |        45 |         46 |         47 |         48 |         49 |\n",
      "|:--------------------|-----------:|-----------:|-----------:|-----------:|-----------:|----------:|----------:|-----------:|-----------:|-----------:|----------:|-----------:|-----------:|-----------:|-----------:|-----------:|----------:|----------:|------------:|----------:|-----------:|-----------:|-----------:|------------:|----------:|-----------:|----------:|-----------:|-----------:|-----------:|-----------:|-----------:|-----------:|-----------:|-----------:|----------:|----------:|-----------:|-----------:|-----------:|-----------:|-----------:|-----------:|-----------:|-----------:|----------:|-----------:|-----------:|-----------:|-----------:|\n",
      "| hamming loss        | 0.254631   | 0.258069   | 0.354066   | 0.321005   | 0.464867   | 0.394914  | 0.246546  | 0.203265   | 0.460204   | 0.262857   | 0.343501  | 0.219294   | 0.332496   | 0.250204   | 0.209105   | 0.206986   | 0.39865   | 0.400235  | 0.221209    | 0.442763  | 0.201523   | 0.217347   | 0.358807   | 0.0801727   | 0.3481    | 0.259827   | 0.306122  | 0.306091   | 0.214003   | 0.157347   | 0.206876   | 0.221962   | 0.253846   | 0.262904   | 0.257724   | 0.339294  | 0.183768  | 0.259529   | 0.360628   | 0.3073     | 0.222606   | 0.253658   | 0.355055   | 0.339121   | 0.371397   | 0.251444  | 0.25697    | 0.181193   | 0.253454   | 0.658817   |\n",
      "| zero_one_loss       | 1          | 1          | 1          | 1          | 1          | 1         | 1         | 1          | 1          | 1          | 1         | 1          | 1          | 1          | 1          | 1          | 1         | 1         | 1           | 1         | 1          | 1          | 1          | 1           | 1         | 1          | 1         | 1          | 1          | 1          | 1          | 1          | 1          | 1          | 1          | 1         | 1         | 1          | 1          | 1          | 1          | 1          | 1          | 1          | 1          | 1         | 1          | 1          | 1          | 1          |\n",
      "| one_error           | 0          | 0          | 0          | 0          | 0          | 0         | 0         | 0          | 0          | 0          | 0         | 0          | 0          | 0          | 0          | 0          | 0         | 0         | 0           | 0         | 0          | 0          | 0          | 0           | 0         | 0          | 0         | 0          | 0          | 0          | 0          | 0          | 0          | 0          | 0          | 0         | 0         | 0          | 0          | 0          | 0          | 0          | 0          | 0          | 0          | 0         | 0          | 0          | 0          | 0.00722135 |\n",
      "| micro av. jaccard   | 0.00667524 | 0.0096988  | 0.010963   | 0.0107881  | 0.00493968 | 0.032722  | 0.0304359 | 0.00667434 | 0.00704535 | 0.0137245  | 0.0335247 | 0.00597737 | 0.00838054 | 0.0321249  | 0.00722963 | 0.0120635  | 0.0137869 | 0.0137331 | 0.00388802  | 0.0397004 | 0.0182778  | 0.0173882  | 0.0265758  | 0.00214928  | 0.0301784 | 0.00767432 | 0.02133   | 0.0229505  | 0.00793246 | 0.00978068 | 0.0162001  | 0.0050665  | 0.0177975  | 0.0158087  | 0.00749652 | 0.0442223 | 0.119055  | 0.0154836  | 0.0107231  | 0.00629474 | 0.00484245 | 0.0109567  | 0.0117971  | 0.0087188  | 0.00888144 | 0.0257299 | 0.00817984 | 0.0495718  | 0.0279367  | 0.0154833  |\n",
      "| macro av. jaccard   | 0.00171115 | 0.00252747 | 0.00392465 | 0.00350078 | 0.00230769 | 0.0133595 | 0.0077394 | 0.00136578 | 0.00326531 | 0.00365777 | 0.0119152 | 0.00131868 | 0.00281005 | 0.00830455 | 0.00152276 | 0.00252747 | 0.005573  | 0.005573  | 0.000863422 | 0.0183046 | 0.00375196 | 0.00384615 | 0.00979592 | 0.000172684 | 0.010832  | 0.00200942 | 0.0066719 | 0.00718995 | 0.00171115 | 0.00155416 | 0.00340659 | 0.0011303  | 0.00459969 | 0.00422292 | 0.00194662 | 0.0156986 | 0.0248352 | 0.00408163 | 0.00390895 | 0.00194662 | 0.0010832  | 0.00281005 | 0.00423862 | 0.00298273 | 0.0033281  | 0.0066405 | 0.00211931 | 0.00945055 | 0.00728414 | 0.0103611  |\n",
      "| micro av. precision | 0.00684458 | 0.0101099  | 0.0112133  | 0.0116693  | 0.00512821 | 0.0333987 | 0.0309576 | 0.00682889 | 0.00725624 | 0.0146311  | 0.0340435 | 0.00659341 | 0.00936682 | 0.0332182  | 0.00761381 | 0.0126374  | 0.0139325 | 0.0139325 | 0.00431711  | 0.0406768 | 0.0187598  | 0.0192308  | 0.0279883  | 0.00345369  | 0.0309486 | 0.00803768 | 0.0222397 | 0.0239665  | 0.00855573 | 0.0103611  | 0.017033   | 0.00565149 | 0.0183987  | 0.0168917  | 0.0077865  | 0.0448531 | 0.124176  | 0.0163265  | 0.0111684  | 0.00648875 | 0.00541601 | 0.0112402  | 0.0121103  | 0.00994244 | 0.00950886 | 0.026562  | 0.00847724 | 0.0630037  | 0.0291366  | 0.0155416  |\n",
      "| macro av. precision | 0.00171115 | 0.00252747 | 0.00392465 | 0.00350078 | 0.00230769 | 0.0133595 | 0.0077394 | 0.00136578 | 0.00326531 | 0.00365777 | 0.0119152 | 0.00131868 | 0.00281005 | 0.00830455 | 0.00152276 | 0.00252747 | 0.005573  | 0.005573  | 0.000863422 | 0.0183046 | 0.00375196 | 0.00384615 | 0.00979592 | 0.000172684 | 0.010832  | 0.00200942 | 0.0066719 | 0.00718995 | 0.00171115 | 0.00155416 | 0.00340659 | 0.0011303  | 0.00459969 | 0.00422292 | 0.00194662 | 0.0156986 | 0.0248352 | 0.00408163 | 0.00390895 | 0.00194662 | 0.0010832  | 0.00281005 | 0.00423862 | 0.00298273 | 0.0033281  | 0.0066405 | 0.00211931 | 0.00945055 | 0.00728414 | 0.0103611  |\n",
      "| micro av. recall    | 0.212476   | 0.192584   | 0.329381   | 0.125      | 0.118453   | 0.617562  | 0.643603  | 0.227749   | 0.195122   | 0.181323   | 0.6875    | 0.0601288  | 0.0737232  | 0.493931   | 0.125323   | 0.209909   | 0.56891   | 0.489655  | 0.0376454   | 0.623196  | 0.415652   | 0.153605   | 0.344942   | 0.00565844  | 0.548054  | 0.145125   | 0.342742  | 0.351227   | 0.0981982  | 0.148649   | 0.248853   | 0.0466623  | 0.352587   | 0.197794   | 0.167568   | 0.758725  | 0.742723  | 0.230701   | 0.211915   | 0.173913   | 0.0437262  | 0.302876   | 0.313225   | 0.066156   | 0.118635   | 0.450959  | 0.189076   | 0.188656   | 0.404181   | 0.804878   |\n",
      "| macro av. recall    | 0.25       | 0.25       | 0.35       | 0.3        | 0.45       | 0.4       | 0.25      | 0.2        | 0.45       | 0.25       | 0.35      | 0.2        | 0.3        | 0.25       | 0.2        | 0.2        | 0.4       | 0.4       | 0.2         | 0.45      | 0.2        | 0.2        | 0.35       | 0.05        | 0.35      | 0.25       | 0.3       | 0.3        | 0.2        | 0.15       | 0.2        | 0.2        | 0.25       | 0.25       | 0.25       | 0.35      | 0.2       | 0.25       | 0.35       | 0.3        | 0.2        | 0.25       | 0.35       | 0.3        | 0.35       | 0.25      | 0.25       | 0.15       | 0.25       | 0.666667   |\n",
      "| micro av. f1        | 0.013262   | 0.0192113  | 0.0216882  | 0.0213458  | 0.0098308  | 0.0633703 | 0.0590738 | 0.0132602  | 0.0139921  | 0.0270773  | 0.0648746 | 0.0118837  | 0.0166218  | 0.0622499  | 0.0143555  | 0.0238395  | 0.0271989 | 0.0270941 | 0.00774593  | 0.0763689 | 0.0358994  | 0.0341821  | 0.0517756  | 0.00428934  | 0.0585888 | 0.0152317  | 0.041769  | 0.0448712  | 0.0157401  | 0.0193719  | 0.0318836  | 0.0100819  | 0.0349725  | 0.0311253  | 0.0148815  | 0.0846991 | 0.212777  | 0.030495   | 0.0212186  | 0.0125107  | 0.00963822 | 0.021676   | 0.0233191  | 0.0172869  | 0.0176065  | 0.050169  | 0.0162269  | 0.094461   | 0.0543548  | 0.0304944  |\n",
      "| macro av. f1        | 0.0033861  | 0.00498703 | 0.00771992 | 0.0068515  | 0.00458316 | 0.023839  | 0.0141741 | 0.00271006 | 0.00645259 | 0.007032   | 0.0205048 | 0.00261644 | 0.00553393 | 0.015386   | 0.0030196  | 0.00495633 | 0.0109022 | 0.0107959 | 0.00171803  | 0.0339859 | 0.0072831  | 0.00746079 | 0.0188007  | 0.00034418  | 0.0192506 | 0.00397808 | 0.0128768 | 0.0139415  | 0.00338211 | 0.00304476 | 0.00662792 | 0.00224578 | 0.00894304 | 0.0079584  | 0.00383103 | 0.0270069 | 0.037256  | 0.00788694 | 0.00759461 | 0.00385238 | 0.00214789 | 0.00552579 | 0.00826641 | 0.00589584 | 0.00652132 | 0.0128492 | 0.00417928 | 0.0161708  | 0.0138759  | 0.0203854  |\n",
      "| imb. av. f1         | 0.818874   | 0.800355   | 0.723575   | 0.608961   | 0.503377   | 0.651078  | 0.838692  | 0.833298   | 0.442704   | 0.811086   | 0.681809  | 0.74847    | 0.602513   | 0.709252   | 0.820459   | 0.827255   | 0.687535  | 0.623077  | 0.659255    | 0.737351  | 0.904214   | 0.775959   | 0.555862   | 0.890582    | 0.68112   | 0.732394   | 0.800004  | 0.8044     | 0.826102   | 0.835291   | 0.872237   | 0.760565   | 0.809295   | 0.575039   | 0.746008   | 0.774385  | 0.865807  | 0.588869   | 0.487288   | 0.712126   | 0.736586   | 0.774283   | 0.667676   | 0.719594   | 0.612413   | 0.901226  | 0.785689   | 0.874579   | 0.768144   | 0.490496   |\n",
      "Evaluating in combined mode on test set\n",
      "|                     |          0 |          1 |          2 |          3 |          4 |          5 |          6 |          7 |          8 |          9 |         10 |         11 |         12 |         13 |         14 |         15 |        16 |         17 |         18 |         19 |         20 |         21 |         22 |         23 |         24 |         25 |         26 |         27 |         28 |         29 |         30 |         31 |         32 |         33 |         34 |         35 |         36 |         37 |         38 |         39 |         40 |        41 |         42 |         43 |         44 |         45 |         46 |         47 |         48 |         49 |\n",
      "|:--------------------|-----------:|-----------:|-----------:|-----------:|-----------:|-----------:|-----------:|-----------:|-----------:|-----------:|-----------:|-----------:|-----------:|-----------:|-----------:|-----------:|----------:|-----------:|-----------:|-----------:|-----------:|-----------:|-----------:|-----------:|-----------:|-----------:|-----------:|-----------:|-----------:|-----------:|-----------:|-----------:|-----------:|-----------:|-----------:|-----------:|-----------:|-----------:|-----------:|-----------:|-----------:|----------:|-----------:|-----------:|-----------:|-----------:|-----------:|-----------:|-----------:|-----------:|\n",
      "| hamming loss        | 0.254631   | 0.25635    | 0.288922   | 0.296943   | 0.330527   | 0.341259   | 0.327728   | 0.31217    | 0.328619   | 0.322042   | 0.323993   | 0.315268   | 0.316593   | 0.311851   | 0.305002   | 0.298876   | 0.304745  | 0.31005    | 0.305374   | 0.312243   | 0.306971   | 0.302897   | 0.305328   | 0.295946   | 0.298033   | 0.296563   | 0.296917   | 0.297245   | 0.294374   | 0.289807   | 0.287132   | 0.285095   | 0.284148   | 0.283523   | 0.282786   | 0.284356   | 0.281637   | 0.281056   | 0.283096   | 0.283701   | 0.282211   | 0.281531  | 0.283241   | 0.284511   | 0.286442   | 0.285681   | 0.28507    | 0.282906   | 0.282305   | 0.283454   |\n",
      "| zero_one_loss       | 1          | 1          | 1          | 1          | 1          | 1          | 1          | 1          | 1          | 1          | 1          | 1          | 1          | 1          | 1          | 1          | 1         | 1          | 1          | 1          | 1          | 1          | 1          | 1          | 1          | 1          | 1          | 1          | 1          | 1          | 1          | 1          | 1          | 1          | 1          | 1          | 1          | 1          | 1          | 1          | 1          | 1         | 1          | 1          | 1          | 1          | 1          | 1          | 1          | 1          |\n",
      "| one_error           | 0          | 0          | 0          | 0          | 0          | 0          | 0          | 0          | 0          | 0          | 0          | 0          | 0          | 0          | 0          | 0          | 0         | 0          | 0          | 0          | 0          | 0          | 0          | 0          | 0          | 0          | 0          | 0          | 0          | 0          | 0          | 0          | 0          | 0          | 0          | 0          | 0          | 0          | 0          | 0          | 0          | 0         | 0          | 0          | 0          | 0          | 0          | 0          | 0          | 0          |\n",
      "| micro av. jaccard   | 0.00667524 | 0.00819946 | 0.0093302  | 0.00972462 | 0.00838334 | 0.0131724  | 0.0150572  | 0.0143802  | 0.013246   | 0.013285   | 0.0152726  | 0.0147386  | 0.014228   | 0.0152715  | 0.0149068  | 0.014784   | 0.0147074 | 0.0146376  | 0.014232   | 0.0160821  | 0.0161509  | 0.0161913  | 0.0167273  | 0.0165651  | 0.0172096  | 0.0168913  | 0.0170615  | 0.0172793  | 0.0170472  | 0.0169166  | 0.0169     | 0.0166154  | 0.0166475  | 0.0166246  | 0.016389   | 0.0173375  | 0.0193344  | 0.0192411  | 0.0189652  | 0.0186264  | 0.0183648  | 0.018207  | 0.0180213  | 0.0177716  | 0.0175177  | 0.0176762  | 0.0174957  | 0.017938   | 0.018123   | 0.0181043  |\n",
      "| macro av. jaccard   | 0.00171115 | 0.00211931 | 0.00272109 | 0.00291601 | 0.00279435 | 0.00455521 | 0.00501009 | 0.00455455 | 0.0044113  | 0.00433595 | 0.00502498 | 0.00471612 | 0.0045695  | 0.00483629 | 0.00461538 | 0.00448489 | 0.0045489 | 0.00460579 | 0.00440882 | 0.00510361 | 0.00503925 | 0.00498501 | 0.00519418 | 0.00498496 | 0.00521884 | 0.0050954  | 0.00515379 | 0.00522651 | 0.00510529 | 0.00498692 | 0.00493594 | 0.00481701 | 0.00481043 | 0.00479315 | 0.00471182 | 0.00501701 | 0.00555263 | 0.00551392 | 0.00547277 | 0.00538462 | 0.0052797  | 0.0052209 | 0.00519806 | 0.00514771 | 0.00510727 | 0.0051406  | 0.00507632 | 0.00516745 | 0.00521065 | 0.00522637 |\n",
      "| micro av. precision | 0.00684458 | 0.00847724 | 0.00960384 | 0.0101427  | 0.00873234 | 0.0136656  | 0.015587   | 0.014872   | 0.0136903  | 0.0137649  | 0.0157928  | 0.0152955  | 0.0148509  | 0.0159313  | 0.0155575  | 0.0154319  | 0.0153131 | 0.0152118  | 0.0148261  | 0.0167331  | 0.0167975  | 0.0168724  | 0.0174403  | 0.017339   | 0.017996   | 0.0176641  | 0.01784    | 0.0180669  | 0.0178378  | 0.017705   | 0.0176895  | 0.0174174  | 0.0174444  | 0.0174296  | 0.0171785  | 0.018152   | 0.0202411  | 0.020147   | 0.0198547  | 0.0194918  | 0.0192416  | 0.0190676 | 0.0188622  | 0.0186419  | 0.0183862  | 0.0185465  | 0.0183529  | 0.0188622  | 0.0190539  | 0.0190279  |\n",
      "| macro av. precision | 0.00171115 | 0.00211931 | 0.00272109 | 0.00291601 | 0.00279435 | 0.00455521 | 0.00501009 | 0.00455455 | 0.0044113  | 0.00433595 | 0.00502498 | 0.00471612 | 0.0045695  | 0.00483629 | 0.00461538 | 0.00448489 | 0.0045489 | 0.00460579 | 0.00440882 | 0.00510361 | 0.00503925 | 0.00498501 | 0.00519418 | 0.00498496 | 0.00521884 | 0.0050954  | 0.00515379 | 0.00522651 | 0.00510529 | 0.00498692 | 0.00493594 | 0.00481701 | 0.00481043 | 0.00479315 | 0.00471182 | 0.00501701 | 0.00555263 | 0.00551392 | 0.00547277 | 0.00538462 | 0.0052797  | 0.0052209 | 0.00519806 | 0.00514771 | 0.00510727 | 0.0051406  | 0.00507632 | 0.00516745 | 0.00521065 | 0.00522637 |\n",
      "| micro av. recall    | 0.212476   | 0.200148   | 0.246679   | 0.190904   | 0.173388   | 0.267394   | 0.306995   | 0.303042   | 0.289857   | 0.275924   | 0.316808   | 0.288146   | 0.253297   | 0.269394   | 0.26275    | 0.260441   | 0.271032  | 0.279418   | 0.26207    | 0.292461   | 0.295567   | 0.286288   | 0.290336   | 0.27068    | 0.282553   | 0.278552   | 0.281076   | 0.283861   | 0.277791   | 0.275306   | 0.274656   | 0.265156   | 0.267075   | 0.264673   | 0.262875   | 0.278706   | 0.301474   | 0.299683   | 0.297427   | 0.29553    | 0.287253   | 0.287443  | 0.287892   | 0.275722   | 0.270535   | 0.273609   | 0.272527   | 0.267987   | 0.270589   | 0.27168    |\n",
      "| macro av. recall    | 0.25       | 0.25       | 0.283333   | 0.2875     | 0.32       | 0.333333   | 0.321429   | 0.30625    | 0.322222   | 0.315      | 0.318182   | 0.308333   | 0.307692   | 0.303571   | 0.296667   | 0.290625   | 0.297059  | 0.302778   | 0.297368   | 0.305      | 0.3        | 0.295455   | 0.297826   | 0.2875     | 0.29       | 0.288462   | 0.288889   | 0.289286   | 0.286207   | 0.281667   | 0.279032   | 0.276562   | 0.275758   | 0.275      | 0.274286   | 0.276389   | 0.274324   | 0.273684   | 0.275641   | 0.27625    | 0.27439    | 0.27381   | 0.275581   | 0.276136   | 0.277778   | 0.277174   | 0.276596   | 0.273958   | 0.273469   | 0.274669   |\n",
      "| micro av. f1        | 0.013262   | 0.0162656  | 0.0184879  | 0.0192619  | 0.0166273  | 0.0260023  | 0.0296676  | 0.0283526  | 0.0261456  | 0.0262217  | 0.0300858  | 0.029049   | 0.0280568  | 0.0300835  | 0.0293756  | 0.0291373  | 0.0289884 | 0.0288528  | 0.0280646  | 0.0316552  | 0.0317884  | 0.0318667  | 0.0329041  | 0.0325903  | 0.0338369  | 0.0332214  | 0.0335506  | 0.0339717  | 0.0335229  | 0.0332704  | 0.0332382  | 0.0326877  | 0.0327497  | 0.0327055  | 0.0322495  | 0.0340841  | 0.0379353  | 0.0377558  | 0.0372245  | 0.0365716  | 0.0360672  | 0.0357629 | 0.0354047  | 0.0349227  | 0.0344323  | 0.0347383  | 0.0343898  | 0.0352437  | 0.0356009  | 0.0355648  |\n",
      "| macro av. f1        | 0.0033861  | 0.00418657 | 0.00536435 | 0.00573614 | 0.00550554 | 0.00856112 | 0.00936297 | 0.00853136 | 0.00830039 | 0.00817355 | 0.00929457 | 0.00873806 | 0.00849158 | 0.00898405 | 0.00858642 | 0.00835954 | 0.0085091 | 0.00863615 | 0.00827204 | 0.00955773 | 0.00944941 | 0.00935902 | 0.00976953 | 0.00937681 | 0.00977176 | 0.00954892 | 0.00967218 | 0.00982465 | 0.0096025  | 0.0093839  | 0.009295   | 0.00907471 | 0.00907072 | 0.00903801 | 0.00888924 | 0.00939251 | 0.0101456  | 0.0100861  | 0.0100222  | 0.009868   | 0.00967971 | 0.0095808 | 0.00955024 | 0.00946718 | 0.00940172 | 0.00947666 | 0.00936395 | 0.00950576 | 0.00959495 | 0.00962788 |\n",
      "| imb. av. f1         | 0.818874   | 0.81303    | 0.792169   | 0.764161   | 0.709127   | 0.700916   | 0.721256   | 0.734286   | 0.70694    | 0.717762   | 0.714144   | 0.716194   | 0.710119   | 0.710054   | 0.715884   | 0.72144    | 0.719807  | 0.715387   | 0.713098   | 0.71393    | 0.722283   | 0.723782   | 0.71528    | 0.720405   | 0.719125   | 0.719563   | 0.721649   | 0.724418   | 0.727848   | 0.732273   | 0.737551   | 0.738198   | 0.739703   | 0.73491    | 0.735312   | 0.736544   | 0.740155   | 0.735574   | 0.730993   | 0.730379   | 0.730542   | 0.731483  | 0.730125   | 0.729941   | 0.72751    | 0.730272   | 0.731677   | 0.734406   | 0.734827   | 0.734462   |\n",
      "File saved to ./checkpoints_new/delicious_0_EWC_asy.pkl\n",
      "Number of Tasks: 50\n",
      "Forgetting in task 1: first time imb. av. f1 = 0.8194, after all tasks imb. av. f1 = 0.8189\n",
      "Forgetting in task 2: first time imb. av. f1 = 0.8594, after all tasks imb. av. f1 = 0.8189\n",
      "Forgetting in task 3: first time imb. av. f1 = 0.7465, after all tasks imb. av. f1 = 0.8189\n",
      "Forgetting in task 4: first time imb. av. f1 = 0.6090, after all tasks imb. av. f1 = 0.8189\n",
      "Forgetting in task 5: first time imb. av. f1 = 0.5034, after all tasks imb. av. f1 = 0.8189\n",
      "Forgetting in task 6: first time imb. av. f1 = 0.6511, after all tasks imb. av. f1 = 0.8189\n",
      "Forgetting in task 7: first time imb. av. f1 = 0.8387, after all tasks imb. av. f1 = 0.8189\n",
      "Forgetting in task 8: first time imb. av. f1 = 0.8333, after all tasks imb. av. f1 = 0.8189\n",
      "Forgetting in task 9: first time imb. av. f1 = 0.4427, after all tasks imb. av. f1 = 0.8189\n",
      "Forgetting in task 10: first time imb. av. f1 = 0.8111, after all tasks imb. av. f1 = 0.8189\n",
      "Forgetting in task 11: first time imb. av. f1 = 0.6818, after all tasks imb. av. f1 = 0.8189\n",
      "Forgetting in task 12: first time imb. av. f1 = 0.7485, after all tasks imb. av. f1 = 0.8189\n",
      "Forgetting in task 13: first time imb. av. f1 = 0.6025, after all tasks imb. av. f1 = 0.8189\n",
      "Forgetting in task 14: first time imb. av. f1 = 0.7093, after all tasks imb. av. f1 = 0.8189\n",
      "Forgetting in task 15: first time imb. av. f1 = 0.8205, after all tasks imb. av. f1 = 0.8189\n",
      "Forgetting in task 16: first time imb. av. f1 = 0.8273, after all tasks imb. av. f1 = 0.8189\n",
      "Forgetting in task 17: first time imb. av. f1 = 0.6875, after all tasks imb. av. f1 = 0.8189\n",
      "Forgetting in task 18: first time imb. av. f1 = 0.6231, after all tasks imb. av. f1 = 0.8189\n",
      "Forgetting in task 19: first time imb. av. f1 = 0.6593, after all tasks imb. av. f1 = 0.8189\n",
      "Forgetting in task 20: first time imb. av. f1 = 0.7374, after all tasks imb. av. f1 = 0.8189\n",
      "Forgetting in task 21: first time imb. av. f1 = 0.9042, after all tasks imb. av. f1 = 0.8189\n",
      "Forgetting in task 22: first time imb. av. f1 = 0.7760, after all tasks imb. av. f1 = 0.8189\n",
      "Forgetting in task 23: first time imb. av. f1 = 0.5559, after all tasks imb. av. f1 = 0.8189\n",
      "Forgetting in task 24: first time imb. av. f1 = 0.8906, after all tasks imb. av. f1 = 0.8189\n",
      "Forgetting in task 25: first time imb. av. f1 = 0.6811, after all tasks imb. av. f1 = 0.8189\n",
      "Forgetting in task 26: first time imb. av. f1 = 0.7324, after all tasks imb. av. f1 = 0.8189\n",
      "Forgetting in task 27: first time imb. av. f1 = 0.8000, after all tasks imb. av. f1 = 0.8189\n",
      "Forgetting in task 28: first time imb. av. f1 = 0.8044, after all tasks imb. av. f1 = 0.8189\n",
      "Forgetting in task 29: first time imb. av. f1 = 0.8261, after all tasks imb. av. f1 = 0.8189\n",
      "Forgetting in task 30: first time imb. av. f1 = 0.8353, after all tasks imb. av. f1 = 0.8189\n",
      "Forgetting in task 31: first time imb. av. f1 = 0.8722, after all tasks imb. av. f1 = 0.8189\n",
      "Forgetting in task 32: first time imb. av. f1 = 0.7606, after all tasks imb. av. f1 = 0.8189\n",
      "Forgetting in task 33: first time imb. av. f1 = 0.8093, after all tasks imb. av. f1 = 0.8189\n",
      "Forgetting in task 34: first time imb. av. f1 = 0.5750, after all tasks imb. av. f1 = 0.8189\n",
      "Forgetting in task 35: first time imb. av. f1 = 0.7460, after all tasks imb. av. f1 = 0.8189\n",
      "Forgetting in task 36: first time imb. av. f1 = 0.7744, after all tasks imb. av. f1 = 0.8189\n",
      "Forgetting in task 37: first time imb. av. f1 = 0.8658, after all tasks imb. av. f1 = 0.8189\n",
      "Forgetting in task 38: first time imb. av. f1 = 0.5889, after all tasks imb. av. f1 = 0.8189\n",
      "Forgetting in task 39: first time imb. av. f1 = 0.4873, after all tasks imb. av. f1 = 0.8189\n",
      "Forgetting in task 40: first time imb. av. f1 = 0.7121, after all tasks imb. av. f1 = 0.8189\n",
      "Forgetting in task 41: first time imb. av. f1 = 0.7366, after all tasks imb. av. f1 = 0.8189\n",
      "Forgetting in task 42: first time imb. av. f1 = 0.7743, after all tasks imb. av. f1 = 0.8189\n",
      "Forgetting in task 43: first time imb. av. f1 = 0.6677, after all tasks imb. av. f1 = 0.8189\n",
      "Forgetting in task 44: first time imb. av. f1 = 0.7196, after all tasks imb. av. f1 = 0.8189\n",
      "Forgetting in task 45: first time imb. av. f1 = 0.6124, after all tasks imb. av. f1 = 0.8189\n",
      "Forgetting in task 46: first time imb. av. f1 = 0.9012, after all tasks imb. av. f1 = 0.8189\n",
      "Forgetting in task 47: first time imb. av. f1 = 0.7857, after all tasks imb. av. f1 = 0.8189\n",
      "Forgetting in task 48: first time imb. av. f1 = 0.8746, after all tasks imb. av. f1 = 0.8189\n",
      "Forgetting in task 49: first time imb. av. f1 = 0.7681, after all tasks imb. av. f1 = 0.8189\n",
      "Forgetting in task 50: first time imb. av. f1 = 0.4905, after all tasks imb. av. f1 = 0.8189\n"
     ]
    },
    {
     "data": {
      "image/png": "[encoded data removed]",
      "text/plain": [
       "<Figure size 360x360 with 1 Axes>"
      ]
     },
     "metadata": {
      "needs_background": "light"
     },
     "output_type": "display_data"
    }
   ],
   "source": [
    "hparams = Hyperparameters('delicious', continual_method, device, num_tasks=50)\n",
    "experiment = ContinualExperiment(hparams)\n",
    "experiment.run()"
   ]
  },
  {
   "cell_type": "markdown",
   "metadata": {},
   "source": [
    "## Mediamill, 50 tasks"
   ]
  },
  {
   "cell_type": "code",
   "execution_count": 20,
   "metadata": {},
   "outputs": [
    {
     "name": "stdout",
     "output_type": "stream",
     "text": [
      "Processing Data ...\n"
     ]
    },
    {
     "name": "stderr",
     "output_type": "stream",
     "text": [
      "  0%|          | 0/1 [00:00<?, ?it/s]"
     ]
    },
    {
     "name": "stdout",
     "output_type": "stream",
     "text": [
      "(30993, 120)\n",
      "(12914, 120)\n",
      "(30993, 101)\n",
      "(12914, 101)\n",
      "Begin training in EWC mode ...\n",
      "Training and Evaluating on task 1\n",
      "Train data shape is  (619, 120)\n",
      "Train Labels shape is  (619, 2)\n",
      "Classes trained are: 0 to 2\n",
      "Samples with all negative labels 0\n",
      "Output dimensions: 2\n"
     ]
    },
    {
     "name": "stderr",
     "output_type": "stream",
     "text": [
      "100%|██████████| 1/1 [00:00<00:00,  2.35it/s]\n"
     ]
    },
    {
     "name": "stdout",
     "output_type": "stream",
     "text": [
      "Evaluating in individual mode on test set\n",
      "multilabel-indicator multilabel-indicator\n",
      "float32 float32\n",
      "(12914, 2) (12914, 2)\n",
      "Evaluating in combined mode on test set\n",
      "multilabel-indicator multilabel-indicator\n",
      "float32 float32\n",
      "(12914, 2) (12914, 2)\n",
      "Training and Evaluating on task 2\n",
      "Train data shape is  (619, 120)\n",
      "Train Labels shape is  (619, 2)\n",
      "Classes trained are: 2 to 4\n",
      "Samples with all negative labels 1\n",
      "Augmenting class labels...\n",
      "Train Labels shape is  (619, 4)\n",
      "Output dimensions: 4\n",
      "growing model size ...\n"
     ]
    },
    {
     "name": "stderr",
     "output_type": "stream",
     "text": [
      "100%|██████████| 1/1 [00:00<00:00,  1.67it/s]\n"
     ]
    },
    {
     "name": "stdout",
     "output_type": "stream",
     "text": [
      "Evaluating in individual mode on test set\n",
      "multilabel-indicator multilabel-indicator\n",
      "float32 float32\n",
      "(12914, 2) (12914, 2)\n",
      "Evaluating in combined mode on test set\n",
      "multilabel-indicator multilabel-indicator\n",
      "float32 float32\n",
      "(12914, 4) (12914, 4)\n",
      "Training and Evaluating on task 3\n",
      "Train data shape is  (619, 120)\n",
      "Train Labels shape is  (619, 2)\n",
      "Classes trained are: 4 to 6\n",
      "Samples with all negative labels 1\n",
      "Augmenting class labels...\n",
      "Train Labels shape is  (619, 6)\n",
      "Output dimensions: 6\n",
      "growing model size ...\n"
     ]
    },
    {
     "name": "stderr",
     "output_type": "stream",
     "text": [
      "100%|██████████| 1/1 [00:00<00:00,  1.66it/s]\n"
     ]
    },
    {
     "name": "stdout",
     "output_type": "stream",
     "text": [
      "Evaluating in individual mode on test set\n",
      "multilabel-indicator multilabel-indicator\n",
      "float32 float32\n",
      "(12914, 2) (12914, 2)\n",
      "Evaluating in combined mode on test set\n",
      "multilabel-indicator multilabel-indicator\n",
      "float32 float32\n",
      "(12914, 6) (12914, 6)\n",
      "Training and Evaluating on task 4\n",
      "Train data shape is  (619, 120)\n",
      "Train Labels shape is  (619, 2)\n",
      "Classes trained are: 6 to 8\n",
      "Samples with all negative labels 1\n",
      "Augmenting class labels...\n",
      "Train Labels shape is  (619, 8)\n",
      "Output dimensions: 8\n",
      "growing model size ...\n"
     ]
    },
    {
     "name": "stderr",
     "output_type": "stream",
     "text": [
      "100%|██████████| 1/1 [00:00<00:00,  1.98it/s]\n"
     ]
    },
    {
     "name": "stdout",
     "output_type": "stream",
     "text": [
      "Evaluating in individual mode on test set\n",
      "multilabel-indicator multilabel-indicator\n",
      "float32 float32\n",
      "(12914, 2) (12914, 2)\n",
      "Evaluating in combined mode on test set\n",
      "multilabel-indicator multilabel-indicator\n",
      "float32 float32\n",
      "(12914, 8) (12914, 8)\n",
      "Training and Evaluating on task 5\n",
      "Train data shape is  (619, 120)\n",
      "Train Labels shape is  (619, 2)\n",
      "Classes trained are: 8 to 10\n",
      "Samples with all negative labels 2\n",
      "Augmenting class labels...\n",
      "Train Labels shape is  (619, 10)\n",
      "Output dimensions: 10\n",
      "growing model size ...\n"
     ]
    },
    {
     "name": "stderr",
     "output_type": "stream",
     "text": [
      "100%|██████████| 1/1 [00:00<00:00,  1.99it/s]\n"
     ]
    },
    {
     "name": "stdout",
     "output_type": "stream",
     "text": [
      "Evaluating in individual mode on test set\n",
      "multilabel-indicator multilabel-indicator\n",
      "float32 float32\n",
      "(12914, 2) (12914, 2)\n",
      "Evaluating in combined mode on test set\n",
      "multilabel-indicator multilabel-indicator\n",
      "float32 float32\n",
      "(12914, 10) (12914, 10)\n",
      "Training and Evaluating on task 6\n",
      "Train data shape is  (619, 120)\n",
      "Train Labels shape is  (619, 2)\n",
      "Classes trained are: 10 to 12\n",
      "Samples with all negative labels 1\n",
      "Augmenting class labels...\n",
      "Train Labels shape is  (619, 12)\n",
      "Output dimensions: 12\n",
      "growing model size ...\n"
     ]
    },
    {
     "name": "stderr",
     "output_type": "stream",
     "text": [
      "100%|██████████| 1/1 [00:00<00:00,  1.73it/s]\n"
     ]
    },
    {
     "name": "stdout",
     "output_type": "stream",
     "text": [
      "Evaluating in individual mode on test set\n",
      "multilabel-indicator multilabel-indicator\n",
      "float32 float32\n",
      "(12914, 2) (12914, 2)\n",
      "Evaluating in combined mode on test set\n",
      "multilabel-indicator multilabel-indicator\n",
      "float32 float32\n",
      "(12914, 12) (12914, 12)\n",
      "Training and Evaluating on task 7\n",
      "Train data shape is  (619, 120)\n",
      "Train Labels shape is  (619, 2)\n",
      "Classes trained are: 12 to 14\n",
      "Samples with all negative labels 0\n",
      "Augmenting class labels...\n",
      "Train Labels shape is  (619, 14)\n",
      "Output dimensions: 14\n",
      "growing model size ...\n"
     ]
    },
    {
     "name": "stderr",
     "output_type": "stream",
     "text": [
      "100%|██████████| 1/1 [00:00<00:00,  1.76it/s]\n"
     ]
    },
    {
     "name": "stdout",
     "output_type": "stream",
     "text": [
      "Evaluating in individual mode on test set\n",
      "multilabel-indicator multilabel-indicator\n",
      "float32 float32\n",
      "(12914, 2) (12914, 2)\n",
      "Evaluating in combined mode on test set\n",
      "multilabel-indicator multilabel-indicator\n",
      "float32 float32\n",
      "(12914, 14) (12914, 14)\n",
      "Training and Evaluating on task 8\n",
      "Train data shape is  (619, 120)\n",
      "Train Labels shape is  (619, 2)\n",
      "Classes trained are: 14 to 16\n",
      "Samples with all negative labels 0\n",
      "Augmenting class labels...\n",
      "Train Labels shape is  (619, 16)\n",
      "Output dimensions: 16\n",
      "growing model size ...\n"
     ]
    },
    {
     "name": "stderr",
     "output_type": "stream",
     "text": [
      "100%|██████████| 1/1 [00:00<00:00,  1.91it/s]\n"
     ]
    },
    {
     "name": "stdout",
     "output_type": "stream",
     "text": [
      "Evaluating in individual mode on test set\n",
      "multilabel-indicator multilabel-indicator\n",
      "float32 float32\n",
      "(12914, 2) (12914, 2)\n",
      "Evaluating in combined mode on test set\n",
      "multilabel-indicator multilabel-indicator\n",
      "float32 float32\n",
      "(12914, 16) (12914, 16)\n",
      "Training and Evaluating on task 9\n",
      "Train data shape is  (619, 120)\n",
      "Train Labels shape is  (619, 2)\n",
      "Classes trained are: 16 to 18\n",
      "Samples with all negative labels 0\n",
      "Augmenting class labels...\n",
      "Train Labels shape is  (619, 18)\n",
      "Output dimensions: 18\n",
      "growing model size ...\n"
     ]
    },
    {
     "name": "stderr",
     "output_type": "stream",
     "text": [
      "100%|██████████| 1/1 [00:00<00:00,  1.65it/s]\n"
     ]
    },
    {
     "name": "stdout",
     "output_type": "stream",
     "text": [
      "Evaluating in individual mode on test set\n",
      "multilabel-indicator multilabel-indicator\n",
      "float32 float32\n",
      "(12914, 2) (12914, 2)\n",
      "Evaluating in combined mode on test set\n",
      "multilabel-indicator multilabel-indicator\n",
      "float32 float32\n",
      "(12914, 18) (12914, 18)\n",
      "Training and Evaluating on task 10\n",
      "Train data shape is  (619, 120)\n",
      "Train Labels shape is  (619, 2)\n",
      "Classes trained are: 18 to 20\n",
      "Samples with all negative labels 1\n",
      "Augmenting class labels...\n",
      "Train Labels shape is  (619, 20)\n",
      "Output dimensions: 20\n",
      "growing model size ...\n"
     ]
    },
    {
     "name": "stderr",
     "output_type": "stream",
     "text": [
      "100%|██████████| 1/1 [00:00<00:00,  1.68it/s]\n"
     ]
    },
    {
     "name": "stdout",
     "output_type": "stream",
     "text": [
      "Evaluating in individual mode on test set\n",
      "multilabel-indicator multilabel-indicator\n",
      "float32 float32\n",
      "(12914, 2) (12914, 2)\n",
      "Evaluating in combined mode on test set\n",
      "multilabel-indicator multilabel-indicator\n",
      "float32 float32\n",
      "(12914, 20) (12914, 20)\n",
      "Training and Evaluating on task 11\n",
      "Train data shape is  (619, 120)\n",
      "Train Labels shape is  (619, 2)\n",
      "Classes trained are: 20 to 22\n",
      "Samples with all negative labels 0\n",
      "Augmenting class labels...\n",
      "Train Labels shape is  (619, 22)\n",
      "Output dimensions: 22\n",
      "growing model size ...\n"
     ]
    },
    {
     "name": "stderr",
     "output_type": "stream",
     "text": [
      "100%|██████████| 1/1 [00:00<00:00,  2.01it/s]\n"
     ]
    },
    {
     "name": "stdout",
     "output_type": "stream",
     "text": [
      "Evaluating in individual mode on test set\n",
      "multilabel-indicator multilabel-indicator\n",
      "float32 float32\n",
      "(12914, 2) (12914, 2)\n",
      "Evaluating in combined mode on test set\n",
      "multilabel-indicator multilabel-indicator\n",
      "float32 float32\n",
      "(12914, 22) (12914, 22)\n",
      "Training and Evaluating on task 12\n",
      "Train data shape is  (619, 120)\n",
      "Train Labels shape is  (619, 2)\n",
      "Classes trained are: 22 to 24\n",
      "Samples with all negative labels 1\n",
      "Augmenting class labels...\n",
      "Train Labels shape is  (619, 24)\n",
      "Output dimensions: 24\n",
      "growing model size ...\n"
     ]
    },
    {
     "name": "stderr",
     "output_type": "stream",
     "text": [
      "100%|██████████| 1/1 [00:00<00:00,  1.65it/s]\n"
     ]
    },
    {
     "name": "stdout",
     "output_type": "stream",
     "text": [
      "Evaluating in individual mode on test set\n",
      "multilabel-indicator multilabel-indicator\n",
      "float32 float32\n",
      "(12914, 2) (12914, 2)\n",
      "Evaluating in combined mode on test set\n",
      "multilabel-indicator multilabel-indicator\n",
      "float32 float32\n",
      "(12914, 24) (12914, 24)\n",
      "Training and Evaluating on task 13\n",
      "Train data shape is  (619, 120)\n",
      "Train Labels shape is  (619, 2)\n",
      "Classes trained are: 24 to 26\n",
      "Samples with all negative labels 2\n",
      "Augmenting class labels...\n",
      "Train Labels shape is  (619, 26)\n",
      "Output dimensions: 26\n",
      "growing model size ...\n"
     ]
    },
    {
     "name": "stderr",
     "output_type": "stream",
     "text": [
      "100%|██████████| 1/1 [00:00<00:00,  2.22it/s]\n"
     ]
    },
    {
     "name": "stdout",
     "output_type": "stream",
     "text": [
      "Evaluating in individual mode on test set\n",
      "multilabel-indicator multilabel-indicator\n",
      "float32 float32\n",
      "(12914, 2) (12914, 2)\n",
      "Evaluating in combined mode on test set\n",
      "multilabel-indicator multilabel-indicator\n",
      "float32 float32\n",
      "(12914, 26) (12914, 26)\n",
      "Training and Evaluating on task 14\n",
      "Train data shape is  (619, 120)\n",
      "Train Labels shape is  (619, 2)\n",
      "Classes trained are: 26 to 28\n",
      "Samples with all negative labels 1\n",
      "Augmenting class labels...\n",
      "Train Labels shape is  (619, 28)\n",
      "Output dimensions: 28\n",
      "growing model size ...\n"
     ]
    },
    {
     "name": "stderr",
     "output_type": "stream",
     "text": [
      "100%|██████████| 1/1 [00:00<00:00,  2.00it/s]\n"
     ]
    },
    {
     "name": "stdout",
     "output_type": "stream",
     "text": [
      "Evaluating in individual mode on test set\n",
      "multilabel-indicator multilabel-indicator\n",
      "float32 float32\n",
      "(12914, 2) (12914, 2)\n",
      "Evaluating in combined mode on test set\n",
      "multilabel-indicator multilabel-indicator\n",
      "float32 float32\n",
      "(12914, 28) (12914, 28)\n",
      "Training and Evaluating on task 15\n",
      "Train data shape is  (619, 120)\n",
      "Train Labels shape is  (619, 2)\n",
      "Classes trained are: 28 to 30\n",
      "Samples with all negative labels 1\n",
      "Augmenting class labels...\n",
      "Train Labels shape is  (619, 30)\n",
      "Output dimensions: 30\n",
      "growing model size ...\n"
     ]
    },
    {
     "name": "stderr",
     "output_type": "stream",
     "text": [
      "100%|██████████| 1/1 [00:00<00:00,  1.98it/s]\n"
     ]
    },
    {
     "name": "stdout",
     "output_type": "stream",
     "text": [
      "Evaluating in individual mode on test set\n",
      "multilabel-indicator multilabel-indicator\n",
      "float32 float32\n",
      "(12914, 2) (12914, 2)\n",
      "Evaluating in combined mode on test set\n",
      "multilabel-indicator multilabel-indicator\n",
      "float32 float32\n",
      "(12914, 30) (12914, 30)\n",
      "Training and Evaluating on task 16\n",
      "Train data shape is  (619, 120)\n",
      "Train Labels shape is  (619, 2)\n",
      "Classes trained are: 30 to 32\n",
      "Samples with all negative labels 1\n",
      "Augmenting class labels...\n",
      "Train Labels shape is  (619, 32)\n",
      "Output dimensions: 32\n",
      "growing model size ...\n"
     ]
    },
    {
     "name": "stderr",
     "output_type": "stream",
     "text": [
      "100%|██████████| 1/1 [00:00<00:00,  1.99it/s]\n"
     ]
    },
    {
     "name": "stdout",
     "output_type": "stream",
     "text": [
      "Evaluating in individual mode on test set\n",
      "multilabel-indicator multilabel-indicator\n",
      "float32 float32\n",
      "(12914, 2) (12914, 2)\n",
      "Evaluating in combined mode on test set\n",
      "multilabel-indicator multilabel-indicator\n",
      "float32 float32\n",
      "(12914, 32) (12914, 32)\n",
      "Training and Evaluating on task 17\n",
      "Train data shape is  (619, 120)\n",
      "Train Labels shape is  (619, 2)\n",
      "Classes trained are: 32 to 34\n",
      "Samples with all negative labels 1\n",
      "Augmenting class labels...\n",
      "Train Labels shape is  (619, 34)\n",
      "Output dimensions: 34\n",
      "growing model size ...\n"
     ]
    },
    {
     "name": "stderr",
     "output_type": "stream",
     "text": [
      "100%|██████████| 1/1 [00:00<00:00,  1.86it/s]\n"
     ]
    },
    {
     "name": "stdout",
     "output_type": "stream",
     "text": [
      "Evaluating in individual mode on test set\n",
      "multilabel-indicator multilabel-indicator\n",
      "float32 float32\n",
      "(12914, 2) (12914, 2)\n",
      "Evaluating in combined mode on test set\n",
      "multilabel-indicator multilabel-indicator\n",
      "float32 float32\n",
      "(12914, 34) (12914, 34)\n",
      "Training and Evaluating on task 18\n",
      "Train data shape is  (619, 120)\n",
      "Train Labels shape is  (619, 2)\n",
      "Classes trained are: 34 to 36\n",
      "Samples with all negative labels 0\n",
      "Augmenting class labels...\n",
      "Train Labels shape is  (619, 36)\n",
      "Output dimensions: 36\n",
      "growing model size ...\n"
     ]
    },
    {
     "name": "stderr",
     "output_type": "stream",
     "text": [
      "100%|██████████| 1/1 [00:00<00:00,  1.97it/s]\n"
     ]
    },
    {
     "name": "stdout",
     "output_type": "stream",
     "text": [
      "Evaluating in individual mode on test set\n",
      "multilabel-indicator multilabel-indicator\n",
      "float32 float32\n",
      "(12914, 2) (12914, 2)\n",
      "Evaluating in combined mode on test set\n",
      "multilabel-indicator multilabel-indicator\n",
      "float32 float32\n",
      "(12914, 36) (12914, 36)\n",
      "Training and Evaluating on task 19\n",
      "Train data shape is  (619, 120)\n",
      "Train Labels shape is  (619, 2)\n",
      "Classes trained are: 36 to 38\n",
      "Samples with all negative labels 1\n",
      "Augmenting class labels...\n",
      "Train Labels shape is  (619, 38)\n",
      "Output dimensions: 38\n",
      "growing model size ...\n"
     ]
    },
    {
     "name": "stderr",
     "output_type": "stream",
     "text": [
      "100%|██████████| 1/1 [00:00<00:00,  1.98it/s]\n"
     ]
    },
    {
     "name": "stdout",
     "output_type": "stream",
     "text": [
      "Evaluating in individual mode on test set\n",
      "multilabel-indicator multilabel-indicator\n",
      "float32 float32\n",
      "(12914, 2) (12914, 2)\n",
      "Evaluating in combined mode on test set\n",
      "multilabel-indicator multilabel-indicator\n",
      "float32 float32\n",
      "(12914, 38) (12914, 38)\n",
      "Training and Evaluating on task 20\n",
      "Train data shape is  (619, 120)\n",
      "Train Labels shape is  (619, 2)\n",
      "Classes trained are: 38 to 40\n",
      "Samples with all negative labels 1\n",
      "Augmenting class labels...\n",
      "Train Labels shape is  (619, 40)\n",
      "Output dimensions: 40\n",
      "growing model size ...\n"
     ]
    },
    {
     "name": "stderr",
     "output_type": "stream",
     "text": [
      "100%|██████████| 1/1 [00:00<00:00,  1.99it/s]\n"
     ]
    },
    {
     "name": "stdout",
     "output_type": "stream",
     "text": [
      "Evaluating in individual mode on test set\n",
      "multilabel-indicator multilabel-indicator\n",
      "float32 float32\n",
      "(12914, 2) (12914, 2)\n",
      "Evaluating in combined mode on test set\n",
      "multilabel-indicator multilabel-indicator\n",
      "float32 float32\n",
      "(12914, 40) (12914, 40)\n",
      "Training and Evaluating on task 21\n",
      "Train data shape is  (619, 120)\n",
      "Train Labels shape is  (619, 2)\n",
      "Classes trained are: 40 to 42\n",
      "Samples with all negative labels 0\n",
      "Augmenting class labels...\n",
      "Train Labels shape is  (619, 42)\n",
      "Output dimensions: 42\n",
      "growing model size ...\n"
     ]
    },
    {
     "name": "stderr",
     "output_type": "stream",
     "text": [
      "100%|██████████| 1/1 [00:00<00:00,  1.98it/s]\n"
     ]
    },
    {
     "name": "stdout",
     "output_type": "stream",
     "text": [
      "Evaluating in individual mode on test set\n",
      "multilabel-indicator multilabel-indicator\n",
      "float32 float32\n",
      "(12914, 2) (12914, 2)\n",
      "Evaluating in combined mode on test set\n",
      "multilabel-indicator multilabel-indicator\n",
      "float32 float32\n",
      "(12914, 42) (12914, 42)\n",
      "Training and Evaluating on task 22\n",
      "Train data shape is  (619, 120)\n",
      "Train Labels shape is  (619, 2)\n",
      "Classes trained are: 42 to 44\n",
      "Samples with all negative labels 0\n",
      "Augmenting class labels...\n",
      "Train Labels shape is  (619, 44)\n",
      "Output dimensions: 44\n",
      "growing model size ...\n"
     ]
    },
    {
     "name": "stderr",
     "output_type": "stream",
     "text": [
      "100%|██████████| 1/1 [00:00<00:00,  1.88it/s]\n"
     ]
    },
    {
     "name": "stdout",
     "output_type": "stream",
     "text": [
      "Evaluating in individual mode on test set\n",
      "multilabel-indicator multilabel-indicator\n",
      "float32 float32\n",
      "(12914, 2) (12914, 2)\n",
      "Evaluating in combined mode on test set\n",
      "multilabel-indicator multilabel-indicator\n",
      "float32 float32\n",
      "(12914, 44) (12914, 44)\n",
      "Training and Evaluating on task 23\n",
      "Train data shape is  (619, 120)\n",
      "Train Labels shape is  (619, 2)\n",
      "Classes trained are: 44 to 46\n",
      "Samples with all negative labels 2\n",
      "Augmenting class labels...\n",
      "Train Labels shape is  (619, 46)\n",
      "Output dimensions: 46\n",
      "growing model size ...\n"
     ]
    },
    {
     "name": "stderr",
     "output_type": "stream",
     "text": [
      "100%|██████████| 1/1 [00:00<00:00,  1.99it/s]\n"
     ]
    },
    {
     "name": "stdout",
     "output_type": "stream",
     "text": [
      "Evaluating in individual mode on test set\n",
      "multilabel-indicator multilabel-indicator\n",
      "float32 float32\n",
      "(12914, 2) (12914, 2)\n",
      "Evaluating in combined mode on test set\n",
      "multilabel-indicator multilabel-indicator\n",
      "float32 float32\n",
      "(12914, 46) (12914, 46)\n",
      "Training and Evaluating on task 24\n",
      "Train data shape is  (619, 120)\n",
      "Train Labels shape is  (619, 2)\n",
      "Classes trained are: 46 to 48\n",
      "Samples with all negative labels 1\n",
      "Augmenting class labels...\n",
      "Train Labels shape is  (619, 48)\n",
      "Output dimensions: 48\n",
      "growing model size ...\n"
     ]
    },
    {
     "name": "stderr",
     "output_type": "stream",
     "text": [
      "100%|██████████| 1/1 [00:00<00:00,  1.98it/s]\n"
     ]
    },
    {
     "name": "stdout",
     "output_type": "stream",
     "text": [
      "Evaluating in individual mode on test set\n",
      "multilabel-indicator multilabel-indicator\n",
      "float32 float32\n",
      "(12914, 2) (12914, 2)\n",
      "Evaluating in combined mode on test set\n",
      "multilabel-indicator multilabel-indicator\n",
      "float32 float32\n",
      "(12914, 48) (12914, 48)\n",
      "Training and Evaluating on task 25\n",
      "Train data shape is  (619, 120)\n",
      "Train Labels shape is  (619, 2)\n",
      "Classes trained are: 48 to 50\n",
      "Samples with all negative labels 1\n",
      "Augmenting class labels...\n",
      "Train Labels shape is  (619, 50)\n",
      "Output dimensions: 50\n",
      "growing model size ...\n"
     ]
    },
    {
     "name": "stderr",
     "output_type": "stream",
     "text": [
      "100%|██████████| 1/1 [00:00<00:00,  1.98it/s]\n"
     ]
    },
    {
     "name": "stdout",
     "output_type": "stream",
     "text": [
      "Evaluating in individual mode on test set\n",
      "multilabel-indicator multilabel-indicator\n",
      "float32 float32\n",
      "(12914, 2) (12914, 2)\n",
      "Evaluating in combined mode on test set\n",
      "multilabel-indicator multilabel-indicator\n",
      "float32 float32\n",
      "(12914, 50) (12914, 50)\n",
      "Training and Evaluating on task 26\n",
      "Train data shape is  (619, 120)\n",
      "Train Labels shape is  (619, 2)\n",
      "Classes trained are: 50 to 52\n",
      "Samples with all negative labels 2\n",
      "Augmenting class labels...\n",
      "Train Labels shape is  (619, 52)\n",
      "Output dimensions: 52\n",
      "growing model size ...\n"
     ]
    },
    {
     "name": "stderr",
     "output_type": "stream",
     "text": [
      "100%|██████████| 1/1 [00:00<00:00,  1.98it/s]\n"
     ]
    },
    {
     "name": "stdout",
     "output_type": "stream",
     "text": [
      "Evaluating in individual mode on test set\n",
      "multilabel-indicator multilabel-indicator\n",
      "float32 float32\n",
      "(12914, 2) (12914, 2)\n",
      "Evaluating in combined mode on test set\n",
      "multilabel-indicator multilabel-indicator\n",
      "float32 float32\n",
      "(12914, 52) (12914, 52)\n",
      "Training and Evaluating on task 27\n",
      "Train data shape is  (619, 120)\n",
      "Train Labels shape is  (619, 2)\n",
      "Classes trained are: 52 to 54\n",
      "Samples with all negative labels 1\n",
      "Augmenting class labels...\n",
      "Train Labels shape is  (619, 54)\n",
      "Output dimensions: 54\n",
      "growing model size ...\n"
     ]
    },
    {
     "name": "stderr",
     "output_type": "stream",
     "text": [
      "100%|██████████| 1/1 [00:00<00:00,  1.91it/s]\n"
     ]
    },
    {
     "name": "stdout",
     "output_type": "stream",
     "text": [
      "Evaluating in individual mode on test set\n",
      "multilabel-indicator multilabel-indicator\n",
      "float32 float32\n",
      "(12914, 2) (12914, 2)\n",
      "Evaluating in combined mode on test set\n",
      "multilabel-indicator multilabel-indicator\n",
      "float32 float32\n",
      "(12914, 54) (12914, 54)\n",
      "Training and Evaluating on task 28\n",
      "Train data shape is  (619, 120)\n",
      "Train Labels shape is  (619, 2)\n",
      "Classes trained are: 54 to 56\n",
      "Samples with all negative labels 1\n",
      "Augmenting class labels...\n",
      "Train Labels shape is  (619, 56)\n",
      "Output dimensions: 56\n",
      "growing model size ...\n"
     ]
    },
    {
     "name": "stderr",
     "output_type": "stream",
     "text": [
      "100%|██████████| 1/1 [00:00<00:00,  1.96it/s]\n"
     ]
    },
    {
     "name": "stdout",
     "output_type": "stream",
     "text": [
      "Evaluating in individual mode on test set\n",
      "multilabel-indicator multilabel-indicator\n",
      "float32 float32\n",
      "(12914, 2) (12914, 2)\n",
      "Evaluating in combined mode on test set\n",
      "multilabel-indicator multilabel-indicator\n",
      "float32 float32\n",
      "(12914, 56) (12914, 56)\n",
      "Training and Evaluating on task 29\n",
      "Train data shape is  (619, 120)\n",
      "Train Labels shape is  (619, 2)\n",
      "Classes trained are: 56 to 58\n",
      "Samples with all negative labels 0\n",
      "Augmenting class labels...\n",
      "Train Labels shape is  (619, 58)\n",
      "Output dimensions: 58\n",
      "growing model size ...\n"
     ]
    },
    {
     "name": "stderr",
     "output_type": "stream",
     "text": [
      "100%|██████████| 1/1 [00:00<00:00,  1.98it/s]\n"
     ]
    },
    {
     "name": "stdout",
     "output_type": "stream",
     "text": [
      "Evaluating in individual mode on test set\n",
      "multilabel-indicator multilabel-indicator\n",
      "float32 float32\n",
      "(12914, 2) (12914, 2)\n",
      "Evaluating in combined mode on test set\n",
      "multilabel-indicator multilabel-indicator\n",
      "float32 float32\n",
      "(12914, 58) (12914, 58)\n",
      "Training and Evaluating on task 30\n",
      "Train data shape is  (619, 120)\n",
      "Train Labels shape is  (619, 2)\n",
      "Classes trained are: 58 to 60\n",
      "Samples with all negative labels 0\n",
      "Augmenting class labels...\n",
      "Train Labels shape is  (619, 60)\n",
      "Output dimensions: 60\n",
      "growing model size ...\n"
     ]
    },
    {
     "name": "stderr",
     "output_type": "stream",
     "text": [
      "100%|██████████| 1/1 [00:00<00:00,  1.99it/s]\n"
     ]
    },
    {
     "name": "stdout",
     "output_type": "stream",
     "text": [
      "Evaluating in individual mode on test set\n",
      "multilabel-indicator multilabel-indicator\n",
      "float32 float32\n",
      "(12914, 2) (12914, 2)\n",
      "Evaluating in combined mode on test set\n",
      "multilabel-indicator multilabel-indicator\n",
      "float32 float32\n",
      "(12914, 60) (12914, 60)\n",
      "Training and Evaluating on task 31\n",
      "Train data shape is  (619, 120)\n",
      "Train Labels shape is  (619, 2)\n",
      "Classes trained are: 60 to 62\n",
      "Samples with all negative labels 0\n",
      "Augmenting class labels...\n",
      "Train Labels shape is  (619, 62)\n",
      "Output dimensions: 62\n",
      "growing model size ...\n"
     ]
    },
    {
     "name": "stderr",
     "output_type": "stream",
     "text": [
      "100%|██████████| 1/1 [00:00<00:00,  2.11it/s]\n"
     ]
    },
    {
     "name": "stdout",
     "output_type": "stream",
     "text": [
      "Evaluating in individual mode on test set\n",
      "multilabel-indicator multilabel-indicator\n",
      "float32 float32\n",
      "(12914, 2) (12914, 2)\n",
      "Evaluating in combined mode on test set\n",
      "multilabel-indicator multilabel-indicator\n",
      "float32 float32\n",
      "(12914, 62) (12914, 62)\n",
      "Training and Evaluating on task 32\n",
      "Train data shape is  (619, 120)\n",
      "Train Labels shape is  (619, 2)\n",
      "Classes trained are: 62 to 64\n",
      "Samples with all negative labels 0\n",
      "Augmenting class labels...\n",
      "Train Labels shape is  (619, 64)\n",
      "Output dimensions: 64\n",
      "growing model size ...\n"
     ]
    },
    {
     "name": "stderr",
     "output_type": "stream",
     "text": [
      "100%|██████████| 1/1 [00:00<00:00,  1.97it/s]\n"
     ]
    },
    {
     "name": "stdout",
     "output_type": "stream",
     "text": [
      "Evaluating in individual mode on test set\n",
      "multilabel-indicator multilabel-indicator\n",
      "float32 float32\n",
      "(12914, 2) (12914, 2)\n",
      "Evaluating in combined mode on test set\n",
      "multilabel-indicator multilabel-indicator\n",
      "float32 float32\n",
      "(12914, 64) (12914, 64)\n",
      "Training and Evaluating on task 33\n",
      "Train data shape is  (619, 120)\n",
      "Train Labels shape is  (619, 2)\n",
      "Classes trained are: 64 to 66\n",
      "Samples with all negative labels 2\n",
      "Augmenting class labels...\n",
      "Train Labels shape is  (619, 66)\n",
      "Output dimensions: 66\n",
      "growing model size ...\n"
     ]
    },
    {
     "name": "stderr",
     "output_type": "stream",
     "text": [
      "100%|██████████| 1/1 [00:00<00:00,  1.98it/s]\n"
     ]
    },
    {
     "name": "stdout",
     "output_type": "stream",
     "text": [
      "Evaluating in individual mode on test set\n",
      "multilabel-indicator multilabel-indicator\n",
      "float32 float32\n",
      "(12914, 2) (12914, 2)\n",
      "Evaluating in combined mode on test set\n",
      "multilabel-indicator multilabel-indicator\n",
      "float32 float32\n",
      "(12914, 66) (12914, 66)\n",
      "Training and Evaluating on task 34\n",
      "Train data shape is  (619, 120)\n",
      "Train Labels shape is  (619, 2)\n",
      "Classes trained are: 66 to 68\n",
      "Samples with all negative labels 1\n",
      "Augmenting class labels...\n",
      "Train Labels shape is  (619, 68)\n",
      "Output dimensions: 68\n",
      "growing model size ...\n"
     ]
    },
    {
     "name": "stderr",
     "output_type": "stream",
     "text": [
      "100%|██████████| 1/1 [00:00<00:00,  1.98it/s]\n"
     ]
    },
    {
     "name": "stdout",
     "output_type": "stream",
     "text": [
      "Evaluating in individual mode on test set\n",
      "multilabel-indicator multilabel-indicator\n",
      "float32 float32\n",
      "(12914, 2) (12914, 2)\n",
      "Evaluating in combined mode on test set\n",
      "multilabel-indicator multilabel-indicator\n",
      "float32 float32\n",
      "(12914, 68) (12914, 68)\n",
      "Training and Evaluating on task 35\n",
      "Train data shape is  (619, 120)\n",
      "Train Labels shape is  (619, 2)\n",
      "Classes trained are: 68 to 70\n",
      "Samples with all negative labels 0\n",
      "Augmenting class labels...\n",
      "Train Labels shape is  (619, 70)\n",
      "Output dimensions: 70\n",
      "growing model size ...\n"
     ]
    },
    {
     "name": "stderr",
     "output_type": "stream",
     "text": [
      "100%|██████████| 1/1 [00:00<00:00,  1.80it/s]\n"
     ]
    },
    {
     "name": "stdout",
     "output_type": "stream",
     "text": [
      "Evaluating in individual mode on test set\n",
      "multilabel-indicator multilabel-indicator\n",
      "float32 float32\n",
      "(12914, 2) (12914, 2)\n",
      "Evaluating in combined mode on test set\n",
      "multilabel-indicator multilabel-indicator\n",
      "float32 float32\n",
      "(12914, 70) (12914, 70)\n",
      "Training and Evaluating on task 36\n",
      "Train data shape is  (619, 120)\n",
      "Train Labels shape is  (619, 2)\n",
      "Classes trained are: 70 to 72\n",
      "Samples with all negative labels 0\n",
      "Augmenting class labels...\n",
      "Train Labels shape is  (619, 72)\n",
      "Output dimensions: 72\n",
      "growing model size ...\n"
     ]
    },
    {
     "name": "stderr",
     "output_type": "stream",
     "text": [
      "100%|██████████| 1/1 [00:00<00:00,  1.98it/s]\n"
     ]
    },
    {
     "name": "stdout",
     "output_type": "stream",
     "text": [
      "Evaluating in individual mode on test set\n",
      "multilabel-indicator multilabel-indicator\n",
      "float32 float32\n",
      "(12914, 2) (12914, 2)\n",
      "Evaluating in combined mode on test set\n",
      "multilabel-indicator multilabel-indicator\n",
      "float32 float32\n",
      "(12914, 72) (12914, 72)\n",
      "Training and Evaluating on task 37\n",
      "Train data shape is  (619, 120)\n",
      "Train Labels shape is  (619, 2)\n",
      "Classes trained are: 72 to 74\n",
      "Samples with all negative labels 0\n",
      "Augmenting class labels...\n",
      "Train Labels shape is  (619, 74)\n",
      "Output dimensions: 74\n",
      "growing model size ...\n"
     ]
    },
    {
     "name": "stderr",
     "output_type": "stream",
     "text": [
      "100%|██████████| 1/1 [00:00<00:00,  1.99it/s]\n"
     ]
    },
    {
     "name": "stdout",
     "output_type": "stream",
     "text": [
      "Evaluating in individual mode on test set\n",
      "multilabel-indicator multilabel-indicator\n",
      "float32 float32\n",
      "(12914, 2) (12914, 2)\n",
      "Evaluating in combined mode on test set\n",
      "multilabel-indicator multilabel-indicator\n",
      "float32 float32\n",
      "(12914, 74) (12914, 74)\n",
      "Training and Evaluating on task 38\n",
      "Train data shape is  (619, 120)\n",
      "Train Labels shape is  (619, 2)\n",
      "Classes trained are: 74 to 76\n",
      "Samples with all negative labels 1\n",
      "Augmenting class labels...\n",
      "Train Labels shape is  (619, 76)\n",
      "Output dimensions: 76\n",
      "growing model size ...\n"
     ]
    },
    {
     "name": "stderr",
     "output_type": "stream",
     "text": [
      "100%|██████████| 1/1 [00:00<00:00,  1.96it/s]\n"
     ]
    },
    {
     "name": "stdout",
     "output_type": "stream",
     "text": [
      "Evaluating in individual mode on test set\n",
      "multilabel-indicator multilabel-indicator\n",
      "float32 float32\n",
      "(12914, 2) (12914, 2)\n",
      "Evaluating in combined mode on test set\n",
      "multilabel-indicator multilabel-indicator\n",
      "float32 float32\n",
      "(12914, 76) (12914, 76)\n",
      "Training and Evaluating on task 39\n",
      "Train data shape is  (619, 120)\n",
      "Train Labels shape is  (619, 2)\n",
      "Classes trained are: 76 to 78\n",
      "Samples with all negative labels 0\n",
      "Augmenting class labels...\n",
      "Train Labels shape is  (619, 78)\n",
      "Output dimensions: 78\n",
      "growing model size ...\n"
     ]
    },
    {
     "name": "stderr",
     "output_type": "stream",
     "text": [
      "100%|██████████| 1/1 [00:00<00:00,  2.23it/s]\n"
     ]
    },
    {
     "name": "stdout",
     "output_type": "stream",
     "text": [
      "Evaluating in individual mode on test set\n",
      "multilabel-indicator multilabel-indicator\n",
      "float32 float32\n",
      "(12914, 2) (12914, 2)\n",
      "Evaluating in combined mode on test set\n",
      "multilabel-indicator multilabel-indicator\n",
      "float32 float32\n",
      "(12914, 78) (12914, 78)\n",
      "Training and Evaluating on task 40\n",
      "Train data shape is  (619, 120)\n",
      "Train Labels shape is  (619, 2)\n",
      "Classes trained are: 78 to 80\n",
      "Samples with all negative labels 1\n",
      "Augmenting class labels...\n",
      "Train Labels shape is  (619, 80)\n",
      "Output dimensions: 80\n",
      "growing model size ...\n"
     ]
    },
    {
     "name": "stderr",
     "output_type": "stream",
     "text": [
      "100%|██████████| 1/1 [00:00<00:00,  1.71it/s]\n"
     ]
    },
    {
     "name": "stdout",
     "output_type": "stream",
     "text": [
      "Evaluating in individual mode on test set\n",
      "multilabel-indicator multilabel-indicator\n",
      "float32 float32\n",
      "(12914, 2) (12914, 2)\n",
      "Evaluating in combined mode on test set\n",
      "multilabel-indicator multilabel-indicator\n",
      "float32 float32\n",
      "(12914, 80) (12914, 80)\n",
      "Training and Evaluating on task 41\n",
      "Train data shape is  (619, 120)\n",
      "Train Labels shape is  (619, 2)\n",
      "Classes trained are: 80 to 82\n",
      "Samples with all negative labels 1\n",
      "Augmenting class labels...\n",
      "Train Labels shape is  (619, 82)\n",
      "Output dimensions: 82\n",
      "growing model size ...\n"
     ]
    },
    {
     "name": "stderr",
     "output_type": "stream",
     "text": [
      "100%|██████████| 1/1 [00:00<00:00,  1.91it/s]\n"
     ]
    },
    {
     "name": "stdout",
     "output_type": "stream",
     "text": [
      "Evaluating in individual mode on test set\n",
      "multilabel-indicator multilabel-indicator\n",
      "float32 float32\n",
      "(12914, 2) (12914, 2)\n",
      "Evaluating in combined mode on test set\n",
      "multilabel-indicator multilabel-indicator\n",
      "float32 float32\n",
      "(12914, 82) (12914, 82)\n",
      "Training and Evaluating on task 42\n",
      "Train data shape is  (619, 120)\n",
      "Train Labels shape is  (619, 2)\n",
      "Classes trained are: 82 to 84\n",
      "Samples with all negative labels 0\n",
      "Augmenting class labels...\n",
      "Train Labels shape is  (619, 84)\n",
      "Output dimensions: 84\n",
      "growing model size ...\n"
     ]
    },
    {
     "name": "stderr",
     "output_type": "stream",
     "text": [
      "100%|██████████| 1/1 [00:00<00:00,  2.00it/s]\n"
     ]
    },
    {
     "name": "stdout",
     "output_type": "stream",
     "text": [
      "Evaluating in individual mode on test set\n",
      "multilabel-indicator multilabel-indicator\n",
      "float32 float32\n",
      "(12914, 2) (12914, 2)\n",
      "Evaluating in combined mode on test set\n",
      "multilabel-indicator multilabel-indicator\n",
      "float32 float32\n",
      "(12914, 84) (12914, 84)\n",
      "Training and Evaluating on task 43\n",
      "Train data shape is  (619, 120)\n",
      "Train Labels shape is  (619, 2)\n",
      "Classes trained are: 84 to 86\n",
      "Samples with all negative labels 1\n",
      "Augmenting class labels...\n",
      "Train Labels shape is  (619, 86)\n",
      "Output dimensions: 86\n",
      "growing model size ...\n"
     ]
    },
    {
     "name": "stderr",
     "output_type": "stream",
     "text": [
      "100%|██████████| 1/1 [00:00<00:00,  2.23it/s]\n"
     ]
    },
    {
     "name": "stdout",
     "output_type": "stream",
     "text": [
      "Evaluating in individual mode on test set\n",
      "multilabel-indicator multilabel-indicator\n",
      "float32 float32\n",
      "(12914, 2) (12914, 2)\n",
      "Evaluating in combined mode on test set\n",
      "multilabel-indicator multilabel-indicator\n",
      "float32 float32\n",
      "(12914, 86) (12914, 86)\n",
      "Training and Evaluating on task 44\n",
      "Train data shape is  (619, 120)\n",
      "Train Labels shape is  (619, 2)\n",
      "Classes trained are: 86 to 88\n",
      "Samples with all negative labels 1\n",
      "Augmenting class labels...\n",
      "Train Labels shape is  (619, 88)\n",
      "Output dimensions: 88\n",
      "growing model size ...\n"
     ]
    },
    {
     "name": "stderr",
     "output_type": "stream",
     "text": [
      "100%|██████████| 1/1 [00:00<00:00,  2.61it/s]\n"
     ]
    },
    {
     "name": "stdout",
     "output_type": "stream",
     "text": [
      "Evaluating in individual mode on test set\n",
      "multilabel-indicator multilabel-indicator\n",
      "float32 float32\n",
      "(12914, 2) (12914, 2)\n",
      "Evaluating in combined mode on test set\n",
      "multilabel-indicator multilabel-indicator\n",
      "float32 float32\n",
      "(12914, 88) (12914, 88)\n",
      "Training and Evaluating on task 45\n",
      "Train data shape is  (619, 120)\n",
      "Train Labels shape is  (619, 2)\n",
      "Classes trained are: 88 to 90\n",
      "Samples with all negative labels 0\n",
      "Augmenting class labels...\n",
      "Train Labels shape is  (619, 90)\n",
      "Output dimensions: 90\n",
      "growing model size ...\n"
     ]
    },
    {
     "name": "stderr",
     "output_type": "stream",
     "text": [
      "100%|██████████| 1/1 [00:00<00:00,  2.62it/s]\n"
     ]
    },
    {
     "name": "stdout",
     "output_type": "stream",
     "text": [
      "Evaluating in individual mode on test set\n",
      "multilabel-indicator multilabel-indicator\n",
      "float32 float32\n",
      "(12914, 2) (12914, 2)\n",
      "Evaluating in combined mode on test set\n",
      "multilabel-indicator multilabel-indicator\n",
      "float32 float32\n",
      "(12914, 90) (12914, 90)\n",
      "Training and Evaluating on task 46\n",
      "Train data shape is  (619, 120)\n",
      "Train Labels shape is  (619, 2)\n",
      "Classes trained are: 90 to 92\n",
      "Samples with all negative labels 1\n",
      "Augmenting class labels...\n",
      "Train Labels shape is  (619, 92)\n",
      "Output dimensions: 92\n",
      "growing model size ...\n"
     ]
    },
    {
     "name": "stderr",
     "output_type": "stream",
     "text": [
      "100%|██████████| 1/1 [00:00<00:00,  2.61it/s]\n"
     ]
    },
    {
     "name": "stdout",
     "output_type": "stream",
     "text": [
      "Evaluating in individual mode on test set\n",
      "multilabel-indicator multilabel-indicator\n",
      "float32 float32\n",
      "(12914, 2) (12914, 2)\n",
      "Evaluating in combined mode on test set\n",
      "multilabel-indicator multilabel-indicator\n",
      "float32 float32\n",
      "(12914, 92) (12914, 92)\n",
      "Training and Evaluating on task 47\n",
      "Train data shape is  (619, 120)\n",
      "Train Labels shape is  (619, 2)\n",
      "Classes trained are: 92 to 94\n",
      "Samples with all negative labels 0\n",
      "Augmenting class labels...\n",
      "Train Labels shape is  (619, 94)\n",
      "Output dimensions: 94\n",
      "growing model size ...\n"
     ]
    },
    {
     "name": "stderr",
     "output_type": "stream",
     "text": [
      "100%|██████████| 1/1 [00:00<00:00,  1.64it/s]\n"
     ]
    },
    {
     "name": "stdout",
     "output_type": "stream",
     "text": [
      "Evaluating in individual mode on test set\n",
      "multilabel-indicator multilabel-indicator\n",
      "float32 float32\n",
      "(12914, 2) (12914, 2)\n",
      "Evaluating in combined mode on test set\n",
      "multilabel-indicator multilabel-indicator\n",
      "float32 float32\n",
      "(12914, 94) (12914, 94)\n",
      "Training and Evaluating on task 48\n",
      "Train data shape is  (619, 120)\n",
      "Train Labels shape is  (619, 2)\n",
      "Classes trained are: 94 to 96\n",
      "Samples with all negative labels 1\n",
      "Augmenting class labels...\n",
      "Train Labels shape is  (619, 96)\n",
      "Output dimensions: 96\n",
      "growing model size ...\n"
     ]
    },
    {
     "name": "stderr",
     "output_type": "stream",
     "text": [
      "100%|██████████| 1/1 [00:00<00:00,  1.97it/s]\n"
     ]
    },
    {
     "name": "stdout",
     "output_type": "stream",
     "text": [
      "Evaluating in individual mode on test set\n",
      "multilabel-indicator multilabel-indicator\n",
      "float32 float32\n",
      "(12914, 2) (12914, 2)\n",
      "Evaluating in combined mode on test set\n",
      "multilabel-indicator multilabel-indicator\n",
      "float32 float32\n",
      "(12914, 96) (12914, 96)\n",
      "Training and Evaluating on task 49\n",
      "Train data shape is  (619, 120)\n",
      "Train Labels shape is  (619, 2)\n",
      "Classes trained are: 96 to 98\n",
      "Samples with all negative labels 1\n",
      "Augmenting class labels...\n",
      "Train Labels shape is  (619, 98)\n",
      "Output dimensions: 98\n",
      "growing model size ...\n"
     ]
    },
    {
     "name": "stderr",
     "output_type": "stream",
     "text": [
      "100%|██████████| 1/1 [00:00<00:00,  1.96it/s]\n"
     ]
    },
    {
     "name": "stdout",
     "output_type": "stream",
     "text": [
      "Evaluating in individual mode on test set\n",
      "multilabel-indicator multilabel-indicator\n",
      "float32 float32\n",
      "(12914, 2) (12914, 2)\n",
      "Evaluating in combined mode on test set\n",
      "multilabel-indicator multilabel-indicator\n",
      "float32 float32\n",
      "(12914, 98) (12914, 98)\n",
      "Training and Evaluating on task 50\n",
      "Train data shape is  (662, 120)\n",
      "Train Labels shape is  (662, 3)\n",
      "Classes trained are: 98 to 101\n",
      "Samples with all negative labels 2\n",
      "Augmenting class labels...\n",
      "Train Labels shape is  (662, 101)\n",
      "Output dimensions: 101\n",
      "growing model size ...\n"
     ]
    },
    {
     "name": "stderr",
     "output_type": "stream",
     "text": [
      "100%|██████████| 1/1 [00:00<00:00,  1.81it/s]\n"
     ]
    },
    {
     "name": "stdout",
     "output_type": "stream",
     "text": [
      "Evaluating in individual mode on test set\n",
      "multilabel-indicator multilabel-indicator\n",
      "float32 float32\n",
      "(12914, 3) (12914, 3)\n",
      "Evaluating in combined mode on test set\n",
      "multilabel-indicator multilabel-indicator\n",
      "float32 float32\n",
      "(12914, 101) (12914, 101)\n",
      "Evaluating in individual mode on test set\n",
      "|                     |           0 |          1 |          2 |          3 |           4 |          5 |         6 |           7 |          8 |          9 |         10 |          11 |          12 |         13 |         14 |         15 |        16 |        17 |         18 |         19 |         20 |          21 |         22 |          23 |         24 |         25 |          26 |          27 |          28 |         29 |         30 |          31 |         32 |       33 |         34 |         35 |         36 |         37 |        38 |        39 |         40 |         41 |          42 |         43 |         44 |          45 |        46 |         47 |        48 |         49 |\n",
      "|:--------------------|------------:|-----------:|-----------:|-----------:|------------:|-----------:|----------:|------------:|-----------:|-----------:|-----------:|------------:|------------:|-----------:|-----------:|-----------:|----------:|----------:|-----------:|-----------:|-----------:|------------:|-----------:|------------:|-----------:|-----------:|------------:|------------:|------------:|-----------:|-----------:|------------:|-----------:|---------:|-----------:|-----------:|-----------:|-----------:|----------:|----------:|-----------:|-----------:|------------:|-----------:|-----------:|------------:|----------:|-----------:|----------:|-----------:|\n",
      "| hamming loss        | 0.504607    | 0.480293   | 0.993573   | 0.997987   | 0.500968    | 0.446918   | 0.0059238 | 0.499535    | 0.528612   | 0.500348   | 0.00875019 | 0.00801456  | 0.0807651   | 0.505304   | 0.00274895 | 0.438129   | 0.682941  | 0.0131253 | 0.00623354 | 0.991172   | 0.996515   | 0.0402664   | 0.514442   | 0.998955    | 0.00193588 | 0.111158   | 0.000774353 | 0.0179263   | 0.057186    | 0.489159   | 0.500426   | 0.501084    | 0.200403   | 0.550836 | 0.483235   | 0.501278   | 0.499497   | 0.966587   | 0.0104538 | 0.932399  | 0.995896   | 0.510067   | 0.570505    | 0.997019   | 0.00406536 | 0.00735636  | 0.950906  | 0.06582    | 0.535427  | 0.664266   |\n",
      "| zero_one_loss       | 0.999768    | 0.951758   | 1          | 1          | 0.999613    | 0.889345   | 0.0118476 | 0.998993    | 0.997909   | 0.994889   | 0.0175004  | 0.0159517   | 0.161375    | 0.996206   | 0.00379433 | 0.874864   | 0.99729   | 0.0262506 | 0.0124671  | 1          | 1          | 0.0804553   | 0.994115   | 1           | 0.00387177 | 0.219452   | 0.00154871  | 0.0350008   | 0.113753    | 0.976692   | 0.990708   | 0.999458    | 0.398869   | 0.850705 | 0.958727   | 0.997832   | 0.997754   | 0.999923   | 0.0209075 | 0.986139  | 1          | 0.994037   | 0.998993    | 1          | 0.00813071 | 0.0145578   | 0.997367  | 0.124361   | 0.981493  | 0.999226   |\n",
      "| one_error           | 0.00944711  | 0.00882763 | 0.987146   | 0.995973   | 0.00232306  | 0.00449125 | 0         | 7.74353e-05 | 0.0593155  | 0.00580765 | 0          | 7.74353e-05 | 0.000154871 | 0.014403   | 0.00170358 | 0.00139384 | 0.368592  | 0         | 0          | 0.982345   | 0.993031   | 7.74353e-05 | 0.0347685  | 0.997909    | 0          | 0.00286511 | 0           | 0.000851789 | 0.000619483 | 0.00162614 | 0.010144   | 0.00271024  | 0.00193588 | 0.250968 | 0.00774353 | 0.00472356 | 0.00123897 | 0.933251   | 0         | 0.878659  | 0.991792   | 0.0260957  | 0.142016    | 0.994037   | 0          | 0.000154871 | 0.904445  | 0.00727892 | 0.0893604 | 0.0124671  |\n",
      "| micro av. jaccard   | 0.000230132 | 0.0480393  | 0.00642713 | 0.00201332 | 0.000386279 | 0.110983   | 0         | 0.00100658  | 0.00197368 | 0.00508122 | 0          | 0           | 0           | 0.00374046 | 0          | 0.1253     | 0.317059  | 0         | 0          | 0.00882763 | 0.00348459 | 0           | 0.00568735 | 0.00104538  | 0          | 0          | 0           | 0           | 0           | 0.0232702  | 0.00919893 | 0.000540582 | 0          | 0        | 0.0409559  | 0.002158   | 0.00224285 | 0.0334133  | 0         | 0.0676011 | 0.00410407 | 0.00581088 | 0.000881475 | 0.00298126 | 0          | 0           | 0.049094  | 0          | 0.0834438 | 0.00977337 |\n",
      "| macro av. jaccard   | 0.000116153 | 0.0242373  | 0.00642713 | 0.00201332 | 0.000193588 | 0.0557922  | 0         | 0.00050333  | 0.00104538 | 0.00255537 | 0          | 0           | 0           | 0.00189717 | 0          | 0.0627613  | 0.317059  | 0         | 0          | 0.00882763 | 0.00348459 | 0           | 0.00294254 | 0.00104538  | 0          | 0          | 0           | 0           | 0           | 0.011654   | 0.00464612 | 0.000271024 | 0          | 0        | 0.0206365  | 0.00108409 | 0.00112281 | 0.0334133  | 0         | 0.0676011 | 0.00410407 | 0.00298126 | 0.00050333  | 0.00298126 | 0          | 0           | 0.049094  | 0          | 0.0487455 | 0.00655619 |\n",
      "| micro av. precision | 0.000232306 | 0.0484745  | 0.00642713 | 0.00201332 | 0.000387177 | 0.111584   | 0         | 0.00100666  | 0.00209075 | 0.00511073 | 0          | 0           | 0           | 0.00379433 | 0          | 0.125523   | 0.317059  | 0         | 0          | 0.00882763 | 0.00348459 | 0           | 0.00588509 | 0.00104538  | 0          | 0          | 0           | 0           | 0           | 0.023308   | 0.00929224 | 0.000542047 | 0          | 0        | 0.041273   | 0.00216819 | 0.00224562 | 0.0334133  | 0         | 0.0676011 | 0.00410407 | 0.00596252 | 0.00100666  | 0.00298126 | 0          | 0           | 0.049094  | 0          | 0.0974911 | 0.00983429 |\n",
      "| macro av. precision | 0.000116153 | 0.0242373  | 0.00642713 | 0.00201332 | 0.000193588 | 0.0557922  | 0         | 0.00050333  | 0.00104538 | 0.00255537 | 0          | 0           | 0           | 0.00189717 | 0          | 0.0627613  | 0.317059  | 0         | 0          | 0.00882763 | 0.00348459 | 0           | 0.00294254 | 0.00104538  | 0          | 0          | 0           | 0           | 0           | 0.011654   | 0.00464612 | 0.000271024 | 0          | 0        | 0.0206365  | 0.00108409 | 0.00112281 | 0.0334133  | 0         | 0.0676011 | 0.00410407 | 0.00298126 | 0.00050333  | 0.00298126 | 0          | 0           | 0.049094  | 0          | 0.0487455 | 0.00655619 |\n",
      "| micro av. recall    | 0.024       | 0.84253    | 1          | 1          | 0.142857    | 0.953673   | 0         | 0.928571    | 0.0340479  | 0.468085   | 0          | 0           | 0           | 0.208511   | 0          | 0.98601    | 1         | 0         | 0          | 1          | 1          | 0           | 0.144762   | 1           | 0          | 0          | 0           | 0           | 0           | 0.934783   | 0.478088   | 0.166667    | 0          | 0        | 0.842022   | 0.314607   | 0.644444   | 1          | 0         | 1         | 1          | 0.18599    | 0.00703844  | 1          | 0          | 0           | 1         | 0          | 0.366735  | 0.612048   |\n",
      "| macro av. recall    | 0.5         | 0.5        | 1          | 1          | 0.5         | 0.5        | 0         | 0.5         | 0.5        | 0.5        | 0          | 0           | 0           | 0.5        | 0          | 0.5        | 1         | 0         | 0          | 1          | 1          | 0           | 0.5        | 1           | 0          | 0          | 0           | 0           | 0           | 0.5        | 0.5        | 0.5         | 0          | 0        | 0.5        | 0.5        | 0.5        | 1          | 0         | 1         | 1          | 0.5        | 0.5         | 1          | 0          | 0           | 1         | 0          | 0.5       | 0.666667   |\n",
      "| micro av. f1        | 0.000460158 | 0.0916746  | 0.0127722  | 0.00401855 | 0.00077226  | 0.199792   | 0         | 0.00201114  | 0.00393959 | 0.0101111  | 0          | 0           | 0           | 0.00745304 | 0          | 0.222695   | 0.481465  | 0         | 0          | 0.0175008  | 0.00694498 | 0           | 0.0113104  | 0.00208857  | 0          | 0          | 0           | 0           | 0           | 0.045482   | 0.0182302  | 0.00108058  | 0          | 0        | 0.078689   | 0.0043067  | 0.00447565 | 0.064666   | 0         | 0.126641  | 0.0081746  | 0.0115546  | 0.0017614   | 0.0059448  | 0          | 0           | 0.0935932 | 0          | 0.154034  | 0.0193575  |\n",
      "| macro av. f1        | 0.000232252 | 0.0462334  | 0.0127616  | 0.00401468 | 0.000387027 | 0.100383   | 0         | 0.00100565  | 0.00208639 | 0.00508475 | 0          | 0           | 0           | 0.00377999 | 0          | 0.111524   | 0.394408  | 0         | 0          | 0.0175002  | 0.00694468 | 0           | 0.00585065 | 0.00208725  | 0          | 0          | 0           | 0           | 0           | 0.0227771  | 0.00920669 | 0.000541754 | 0          | 0        | 0.0396371  | 0.0021635  | 0.00224059 | 0.0627427  | 0         | 0.123134  | 0.00817193 | 0.00592718 | 0.00100565  | 0.00593514 | 0          | 0           | 0.0909721 | 0          | 0.0888309 | 0.0128784  |\n",
      "| imb. av. f1         | 0.0314235   | 0.841664   | 0.00559747 | 0.00108409 | 0.16211     | 0.953144   | 0.994118  | 0.875058    | 0.0351481  | 0.468527   | 0.996274   | 0.995068    | 0.999305    | 0.210926   | 0.997638   | 0.985494   | 0.0204855 | 0.991646  | 0.997719   | 0.00879464 | 0.00344251 | 0.996299    | 0.146055   | 0.000456601 | 0.999506   | 0.980293   | 0.999796    | 0.983972    | 0.944116    | 0.932166   | 0.478258   | 0.181769    | 0.966463   | 0.527601 | 0.840998   | 0.318653   | 0.638319   | 0.00175523 | 0.996436  | 0.0361293 | 0.00378143 | 0.187452   | 0.0074954   | 0.00138894 | 0.996485   | 0.992802    | 0.0183633 | 0.939913   | 0.366792  | 0.0617159  |\n",
      "Evaluating in combined mode on test set\n",
      "|                     |           0 |         1 |         2 |          3 |          4 |         5 |         6 |         7 |         8 |          9 |         10 |         11 |        12 |         13 |         14 |         15 |        16 |        17 |        18 |        19 |        20 |        21 |        22 |        23 |        24 |        25 |        26 |        27 |        28 |        29 |        30 |        31 |        32 |        33 |        34 |        35 |        36 |        37 |        38 |        39 |        40 |        41 |        42 |        43 |        44 |        45 |        46 |        47 |        48 |        49 |\n",
      "|:--------------------|------------:|----------:|----------:|-----------:|-----------:|----------:|----------:|----------:|----------:|-----------:|-----------:|-----------:|----------:|-----------:|-----------:|-----------:|----------:|----------:|----------:|----------:|----------:|----------:|----------:|----------:|----------:|----------:|----------:|----------:|----------:|----------:|----------:|----------:|----------:|----------:|----------:|----------:|----------:|----------:|----------:|----------:|----------:|----------:|----------:|----------:|----------:|----------:|----------:|----------:|----------:|----------:|\n",
      "| hamming loss        | 0.504607    | 0.49245   | 0.659491  | 0.744115   | 0.695486   | 0.654058  | 0.561467  | 0.553726  | 0.550935  | 0.545877   | 0.497047   | 0.456294   | 0.427407  | 0.432971   | 0.40429    | 0.406405   | 0.422672  | 0.399919  | 0.379199  | 0.409798  | 0.437736  | 0.41967   | 0.42379   | 0.447755  | 0.429923  | 0.417662  | 0.402222  | 0.388497  | 0.377073  | 0.380809  | 0.384668  | 0.388306  | 0.382612  | 0.387559  | 0.390293  | 0.393376  | 0.396244  | 0.411253  | 0.400976  | 0.414262  | 0.428448  | 0.430391  | 0.43365   | 0.446453  | 0.436623  | 0.427291  | 0.438431  | 0.430669  | 0.432807  | 0.439682  |\n",
      "| zero_one_loss       | 0.999768    | 1         | 1         | 1          | 1          | 1         | 1         | 1         | 1         | 1          | 1          | 1          | 1         | 1          | 1          | 1          | 1         | 1         | 1         | 1         | 1         | 1         | 1         | 1         | 1         | 1         | 1         | 1         | 1         | 1         | 1         | 1         | 1         | 1         | 1         | 1         | 1         | 1         | 1         | 1         | 1         | 1         | 1         | 1         | 1         | 1         | 1         | 1         | 1         | 1         |\n",
      "| one_error           | 0.00944711  | 0         | 0         | 0          | 0          | 0         | 0         | 0         | 0         | 0          | 0          | 0          | 0         | 0          | 0          | 0          | 0         | 0         | 0         | 0         | 0         | 0         | 0         | 0         | 0         | 0         | 0         | 0         | 0         | 0         | 0         | 0         | 0         | 0         | 0         | 0         | 0         | 0         | 0         | 0         | 0         | 0         | 0         | 0         | 0         | 0         | 0         | 0         | 0         | 0         |\n",
      "| micro av. jaccard   | 0.000230132 | 0.0241301 | 0.0153194 | 0.0108977  | 0.00939702 | 0.0221223 | 0.0220897 | 0.0197569 | 0.0178912 | 0.0167308  | 0.0167045  | 0.0166805  | 0.016442  | 0.0153955  | 0.0153887  | 0.0236549  | 0.0619582 | 0.0618522 | 0.061802  | 0.0556986 | 0.0503042 | 0.0500958 | 0.0478514 | 0.043686  | 0.0436785 | 0.0432507 | 0.0432478 | 0.0431796 | 0.0429635 | 0.0421366 | 0.0407984 | 0.0392378 | 0.0386391 | 0.0370838 | 0.0372213 | 0.0360223 | 0.0349091 | 0.0348167 | 0.0347942 | 0.0367014 | 0.0349105 | 0.0341128 | 0.0331289 | 0.0316428 | 0.0316364 | 0.0316249 | 0.0324452 | 0.0323452 | 0.0337053 | 0.0326562 |\n",
      "| macro av. jaccard   | 0.000116153 | 0.0121767 | 0.0102602 | 0.00819847 | 0.00659749 | 0.0147966 | 0.0126828 | 0.0111604 | 0.0100365 | 0.00928837 | 0.00844397 | 0.00774031 | 0.0071449 | 0.00677006 | 0.00631872 | 0.00984639 | 0.0279177 | 0.0263667 | 0.024979  | 0.0241714 | 0.0231864 | 0.0221324 | 0.0212981 | 0.0204542 | 0.0196361 | 0.0188808 | 0.0181815 | 0.0175322 | 0.0169276 | 0.0167518 | 0.0163613 | 0.0158585 | 0.015378  | 0.0149257 | 0.0150888 | 0.0146998 | 0.0143329 | 0.014835  | 0.0144546 | 0.0157833 | 0.0154984 | 0.0152004 | 0.0148586 | 0.0145886 | 0.0142645 | 0.0139544 | 0.014702  | 0.0143957 | 0.0150967 | 0.0148431 |\n",
      "| micro av. precision | 0.000232306 | 0.0243534 | 0.0153903 | 0.0109313  | 0.00942499 | 0.0221949 | 0.0221949 | 0.0198407 | 0.0180657 | 0.0168879  | 0.0168879  | 0.0168879  | 0.0168879 | 0.0157968  | 0.0157968  | 0.0242373  | 0.0632802 | 0.0632802 | 0.0632802 | 0.056874  | 0.051254  | 0.051254  | 0.0489856 | 0.0446274 | 0.0446274 | 0.0446274 | 0.0446274 | 0.0446274 | 0.0446274 | 0.0437005 | 0.0422668 | 0.0405978 | 0.0405978 | 0.0405978 | 0.0406238 | 0.0391995 | 0.0378797 | 0.037582  | 0.037582  | 0.0394581 | 0.0373785 | 0.0364809 | 0.0354955 | 0.0337842 | 0.0337842 | 0.0337842 | 0.0345497 | 0.0345497 | 0.0360849 | 0.0348639 |\n",
      "| macro av. precision | 0.000116153 | 0.0121767 | 0.0102602 | 0.00819847 | 0.00659749 | 0.0147966 | 0.0126828 | 0.0111604 | 0.0100365 | 0.00928837 | 0.00844397 | 0.00774031 | 0.0071449 | 0.00677006 | 0.00631872 | 0.00984639 | 0.0279177 | 0.0263667 | 0.024979  | 0.0241714 | 0.0231864 | 0.0221324 | 0.0212981 | 0.0204542 | 0.0196361 | 0.0188808 | 0.0181815 | 0.0175322 | 0.0169276 | 0.0167518 | 0.0163613 | 0.0158585 | 0.015378  | 0.0149257 | 0.0150888 | 0.0146998 | 0.0143329 | 0.014835  | 0.0144546 | 0.0157833 | 0.0154984 | 0.0152004 | 0.0148586 | 0.0145886 | 0.0142645 | 0.0139544 | 0.014702  | 0.0143957 | 0.0150967 | 0.0148431 |\n",
      "| micro av. recall    | 0.024       | 0.724654  | 0.768859  | 0.779926   | 0.760036   | 0.871201  | 0.823339  | 0.823866  | 0.649499  | 0.642647   | 0.605961   | 0.575852   | 0.383717  | 0.37737    | 0.373285   | 0.496099   | 0.747849  | 0.732696  | 0.725712  | 0.729365  | 0.73078   | 0.689134  | 0.673911  | 0.674379  | 0.67259   | 0.583694  | 0.583157  | 0.570998  | 0.535386  | 0.540743  | 0.540095  | 0.539449  | 0.444712  | 0.299931  | 0.307671  | 0.307685  | 0.308026  | 0.3212    | 0.319298  | 0.344401  | 0.345865  | 0.344483  | 0.331945  | 0.332979  | 0.332278  | 0.331017  | 0.347536  | 0.336399  | 0.338243  | 0.34024   |\n",
      "| macro av. recall    | 0.5         | 0.5       | 0.666667  | 0.75       | 0.7        | 0.666667  | 0.571429  | 0.5625    | 0.555556  | 0.55       | 0.5        | 0.458333   | 0.423077  | 0.428571   | 0.4        | 0.40625    | 0.441176  | 0.416667  | 0.394737  | 0.425     | 0.452381  | 0.431818  | 0.434783  | 0.458333  | 0.44      | 0.423077  | 0.407407  | 0.392857  | 0.37931   | 0.383333  | 0.387097  | 0.390625  | 0.378788  | 0.367647  | 0.371429  | 0.375     | 0.378378  | 0.394737  | 0.384615  | 0.4       | 0.414634  | 0.416667  | 0.418605  | 0.431818  | 0.422222  | 0.413043  | 0.425532  | 0.416667  | 0.418367  | 0.425743  |\n",
      "| micro av. f1        | 0.000460158 | 0.0471232 | 0.0301765 | 0.0215604  | 0.0186191  | 0.043287  | 0.0432246 | 0.0387482 | 0.0351535 | 0.032911   | 0.0328601  | 0.0328136  | 0.032352  | 0.0303242  | 0.0303109  | 0.0462166  | 0.116687  | 0.116499  | 0.11641   | 0.10552   | 0.0957898 | 0.0954119 | 0.0913324 | 0.0837149 | 0.0837011 | 0.0829153 | 0.0829099 | 0.0827846 | 0.0823873 | 0.0808657 | 0.0783983 | 0.0755127 | 0.0744033 | 0.0715155 | 0.0717712 | 0.0695396 | 0.0674631 | 0.0672906 | 0.0672486 | 0.0708042 | 0.0674658 | 0.065975  | 0.0641331 | 0.0613444 | 0.0613325 | 0.0613109 | 0.0628512 | 0.0626636 | 0.0652126 | 0.063247  |\n",
      "| macro av. f1        | 0.000232252 | 0.0232328 | 0.0197424 | 0.0158105  | 0.0127258  | 0.0273353 | 0.0234303 | 0.0206272 | 0.0185671 | 0.0172189  | 0.0156535  | 0.0143491  | 0.0132453 | 0.0125692  | 0.0117313  | 0.0179683  | 0.0401118 | 0.0378834 | 0.0358895 | 0.0349701 | 0.0336355 | 0.0321066 | 0.0309651 | 0.0297618 | 0.0285714 | 0.0274725 | 0.026455  | 0.0255101 | 0.0246305 | 0.0245687 | 0.0240731 | 0.0233378 | 0.0226306 | 0.021965  | 0.0224699 | 0.0219058 | 0.0213743 | 0.022463  | 0.021887  | 0.0244182 | 0.0240219 | 0.0235911 | 0.0230659 | 0.0226765 | 0.0221726 | 0.0216906 | 0.0231647 | 0.0226821 | 0.024032  | 0.0237007 |\n",
      "| imb. av. f1         | 0.0314235   | 0.0618437 | 0.056649  | 0.0393723  | 0.0782661  | 0.0983882 | 0.133211  | 0.475091  | 0.462338  | 0.462471   | 0.47862    | 0.490219   | 0.554931  | 0.54949    | 0.566566   | 0.576935   | 0.574492  | 0.578911  | 0.594192  | 0.588569  | 0.574738  | 0.58382   | 0.580348  | 0.504167  | 0.558298  | 0.559627  | 0.639364  | 0.640452  | 0.640727  | 0.645316  | 0.644466  | 0.622821  | 0.623305  | 0.623296  | 0.624077  | 0.619439  | 0.619947  | 0.605063  | 0.609748  | 0.609058  | 0.602305  | 0.600493  | 0.588909  | 0.572538  | 0.577306  | 0.5796    | 0.57838   | 0.578621  | 0.578552  | 0.565375  |\n",
      "File saved to ./checkpoints_new/mediamill_0_EWC_asy.pkl\n",
      "Number of Tasks: 50\n",
      "Forgetting in task 1: first time imb. av. f1 = 0.9995, after all tasks imb. av. f1 = 0.0314\n",
      "Forgetting in task 2: first time imb. av. f1 = 0.9847, after all tasks imb. av. f1 = 0.0314\n",
      "Forgetting in task 3: first time imb. av. f1 = 0.3214, after all tasks imb. av. f1 = 0.0314\n",
      "Forgetting in task 4: first time imb. av. f1 = 0.1666, after all tasks imb. av. f1 = 0.0314\n",
      "Forgetting in task 5: first time imb. av. f1 = 0.8379, after all tasks imb. av. f1 = 0.0314\n",
      "Forgetting in task 6: first time imb. av. f1 = 0.0469, after all tasks imb. av. f1 = 0.0314\n",
      "Forgetting in task 7: first time imb. av. f1 = 0.4581, after all tasks imb. av. f1 = 0.0314\n",
      "Forgetting in task 8: first time imb. av. f1 = 0.0002, after all tasks imb. av. f1 = 0.0314\n",
      "Forgetting in task 9: first time imb. av. f1 = 0.0351, after all tasks imb. av. f1 = 0.0314\n",
      "Forgetting in task 10: first time imb. av. f1 = 0.5315, after all tasks imb. av. f1 = 0.0314\n",
      "Forgetting in task 11: first time imb. av. f1 = 0.0037, after all tasks imb. av. f1 = 0.0314\n",
      "Forgetting in task 12: first time imb. av. f1 = 0.1913, after all tasks imb. av. f1 = 0.0314\n",
      "Forgetting in task 13: first time imb. av. f1 = 0.9993, after all tasks imb. av. f1 = 0.0314\n",
      "Forgetting in task 14: first time imb. av. f1 = 0.0060, after all tasks imb. av. f1 = 0.0314\n",
      "Forgetting in task 15: first time imb. av. f1 = 0.6850, after all tasks imb. av. f1 = 0.0314\n",
      "Forgetting in task 16: first time imb. av. f1 = 0.0036, after all tasks imb. av. f1 = 0.0314\n",
      "Forgetting in task 17: first time imb. av. f1 = 0.9836, after all tasks imb. av. f1 = 0.0314\n",
      "Forgetting in task 18: first time imb. av. f1 = 0.0084, after all tasks imb. av. f1 = 0.0314\n",
      "Forgetting in task 19: first time imb. av. f1 = 0.9977, after all tasks imb. av. f1 = 0.0314\n",
      "Forgetting in task 20: first time imb. av. f1 = 0.0088, after all tasks imb. av. f1 = 0.0314\n",
      "Forgetting in task 21: first time imb. av. f1 = 0.5544, after all tasks imb. av. f1 = 0.0314\n",
      "Forgetting in task 22: first time imb. av. f1 = 0.0037, after all tasks imb. av. f1 = 0.0314\n",
      "Forgetting in task 23: first time imb. av. f1 = 0.0101, after all tasks imb. av. f1 = 0.0314\n",
      "Forgetting in task 24: first time imb. av. f1 = 0.0005, after all tasks imb. av. f1 = 0.0314\n",
      "Forgetting in task 25: first time imb. av. f1 = 0.9231, after all tasks imb. av. f1 = 0.0314\n",
      "Forgetting in task 26: first time imb. av. f1 = 0.9803, after all tasks imb. av. f1 = 0.0314\n",
      "Forgetting in task 27: first time imb. av. f1 = 0.9092, after all tasks imb. av. f1 = 0.0314\n",
      "Forgetting in task 28: first time imb. av. f1 = 0.3376, after all tasks imb. av. f1 = 0.0314\n",
      "Forgetting in task 29: first time imb. av. f1 = 0.9441, after all tasks imb. av. f1 = 0.0314\n",
      "Forgetting in task 30: first time imb. av. f1 = 0.0031, after all tasks imb. av. f1 = 0.0314\n",
      "Forgetting in task 31: first time imb. av. f1 = 0.9903, after all tasks imb. av. f1 = 0.0314\n",
      "Forgetting in task 32: first time imb. av. f1 = 0.8182, after all tasks imb. av. f1 = 0.0314\n",
      "Forgetting in task 33: first time imb. av. f1 = 0.9562, after all tasks imb. av. f1 = 0.0314\n",
      "Forgetting in task 34: first time imb. av. f1 = 0.3113, after all tasks imb. av. f1 = 0.0314\n",
      "Forgetting in task 35: first time imb. av. f1 = 0.0131, after all tasks imb. av. f1 = 0.0314\n",
      "Forgetting in task 36: first time imb. av. f1 = 0.6813, after all tasks imb. av. f1 = 0.0314\n",
      "Forgetting in task 37: first time imb. av. f1 = 0.6383, after all tasks imb. av. f1 = 0.0314\n",
      "Forgetting in task 38: first time imb. av. f1 = 0.9982, after all tasks imb. av. f1 = 0.0314\n",
      "Forgetting in task 39: first time imb. av. f1 = 0.0036, after all tasks imb. av. f1 = 0.0314\n",
      "Forgetting in task 40: first time imb. av. f1 = 0.8410, after all tasks imb. av. f1 = 0.0314\n",
      "Forgetting in task 41: first time imb. av. f1 = 0.9962, after all tasks imb. av. f1 = 0.0314\n",
      "Forgetting in task 42: first time imb. av. f1 = 0.0097, after all tasks imb. av. f1 = 0.0314\n",
      "Forgetting in task 43: first time imb. av. f1 = 0.9925, after all tasks imb. av. f1 = 0.0314\n",
      "Forgetting in task 44: first time imb. av. f1 = 0.0014, after all tasks imb. av. f1 = 0.0314\n",
      "Forgetting in task 45: first time imb. av. f1 = 0.6823, after all tasks imb. av. f1 = 0.0314\n",
      "Forgetting in task 46: first time imb. av. f1 = 0.5729, after all tasks imb. av. f1 = 0.0314\n",
      "Forgetting in task 47: first time imb. av. f1 = 0.1047, after all tasks imb. av. f1 = 0.0314\n",
      "Forgetting in task 48: first time imb. av. f1 = 0.0601, after all tasks imb. av. f1 = 0.0314\n",
      "Forgetting in task 49: first time imb. av. f1 = 0.6332, after all tasks imb. av. f1 = 0.0314\n",
      "Forgetting in task 50: first time imb. av. f1 = 0.0617, after all tasks imb. av. f1 = 0.0314\n"
     ]
    },
    {
     "data": {
      "image/png": "[encoded data removed]",
      "text/plain": [
       "<Figure size 360x360 with 1 Axes>"
      ]
     },
     "metadata": {
      "needs_background": "light"
     },
     "output_type": "display_data"
    }
   ],
   "source": [
    "hparams = Hyperparameters('mediamill', continual_method, device, num_tasks=50)\n",
    "experiment = ContinualExperiment(hparams)\n",
    "experiment.run()"
   ]
  }
 ],
 "metadata": {
  "kernelspec": {
   "display_name": "DL_gpu",
   "language": "python",
   "name": "dl_gpu"
  },
  "language_info": {
   "codemirror_mode": {
    "name": "ipython",
    "version": 3
   },
   "file_extension": ".py",
   "mimetype": "text/x-python",
   "name": "python",
   "nbconvert_exporter": "python",
   "pygments_lexer": "ipython3",
   "version": "3.7.7"
  }
 },
 "nbformat": 4,
 "nbformat_minor": 2
}
