{
 "cells": [
  {
   "cell_type": "code",
   "execution_count": 1,
   "metadata": {},
   "outputs": [],
   "source": [
    "from experiments import *"
   ]
  },
  {
   "cell_type": "code",
   "execution_count": 2,
   "metadata": {},
   "outputs": [],
   "source": [
    "hparams = {}\n",
    "hparams['hidden_dim'] = 10 #20\n",
    "hparams['device'] = torch.device(\"cuda:3\" if torch.cuda.is_available() else \"cpu\")\n",
    "hparams['batch_size'] = 8\n",
    "hparams['lr'] = 1e-1 #1e-3\n",
    "hparams['epochs'] = 30 #50\n",
    "hparams['loss_type'] = 'asy'\n",
    "hparams['seed'] = 2\n",
    "hparams['ckpt_dir'] = './checkpoints'\n",
    "hparams['name'] = 'Human'\n",
    "hparams['trainpath'] = '../../datasets/HumanPseAAC/HumanPseAAC3106-train.mat'\n",
    "hparams['testpath'] = '../../datasets/HumanPseAAC/HumanPseAAC3106-test.mat'\n",
    "hparams['num_features'] = 440\n",
    "hparams['input_dim'] = 440\n",
    "hparams['tasks'] = {}\n",
    "hparams['tasks']['samples'] = [310]*4 + [622]\n",
    "hparams['tasks']['labels'] = [2]*4 + [3]\n",
    "hparams['continual_mode'] = {}\n",
    "hparams['continual_mode']['cparams'] = {}\n",
    "hparams['continual_mode']['cparams']['importance'] = 0.1"
   ]
  },
  {
   "cell_type": "markdown",
   "metadata": {},
   "source": [
    "## EWC"
   ]
  },
  {
   "cell_type": "code",
   "execution_count": 3,
   "metadata": {},
   "outputs": [
    {
     "name": "stdout",
     "output_type": "stream",
     "text": [
      "Processing Data ...\n",
      "(1862, 440)\n",
      "(1244, 440)\n",
      "(1862, 11)\n",
      "(1244, 11)\n",
      "Begin training in EWC mode ...\n",
      "Training and Evaluating on task 1\n",
      "Train data shape is  (310, 440)\n",
      "Train Labels shape is  (310, 2)\n",
      "Classes trained are: 0 to 2\n",
      "Samples with all negative labels 0\n",
      "Output dimensions: 2\n"
     ]
    },
    {
     "name": "stderr",
     "output_type": "stream",
     "text": [
      "100%|██████████| 30/30 [00:24<00:00,  1.24it/s]\n"
     ]
    },
    {
     "name": "stdout",
     "output_type": "stream",
     "text": [
      "Evaluating in individual mode on test set\n",
      "multilabel-indicator multilabel-indicator\n",
      "float64 float32\n",
      "(1244, 2) (1244, 2)\n",
      "|                     |        0 |\n",
      "|:--------------------|---------:|\n",
      "| hamming loss        | 0.8541   |\n",
      "| zero_one_loss       | 0.992765 |\n",
      "| one_error           | 0.715434 |\n",
      "| micro av. jaccard   | 0.143836 |\n",
      "| macro av. jaccard   | 0.143549 |\n",
      "| micro av. precision | 0.143836 |\n",
      "| macro av. precision | 0.143549 |\n",
      "| micro av. recall    | 1        |\n",
      "| macro av. recall    | 1        |\n",
      "| micro av. f1        | 0.251497 |\n",
      "| macro av. f1        | 0.232072 |\n",
      "Evaluating in combined mode on test set\n",
      "multilabel-indicator multilabel-indicator\n",
      "float64 float32\n",
      "(1244, 2) (1244, 2)\n",
      "|                     |        0 |\n",
      "|:--------------------|---------:|\n",
      "| hamming loss        | 0.8541   |\n",
      "| zero_one_loss       | 0.992765 |\n",
      "| one_error           | 0.715434 |\n",
      "| micro av. jaccard   | 0.143836 |\n",
      "| macro av. jaccard   | 0.143549 |\n",
      "| micro av. precision | 0.143836 |\n",
      "| macro av. precision | 0.143549 |\n",
      "| micro av. recall    | 1        |\n",
      "| macro av. recall    | 1        |\n",
      "| micro av. f1        | 0.251497 |\n",
      "| macro av. f1        | 0.232072 |\n",
      "Training and Evaluating on task 2\n",
      "Train data shape is  (310, 440)\n",
      "Train Labels shape is  (310, 2)\n",
      "Classes trained are: 2 to 4\n",
      "Samples with all negative labels 0\n",
      "Augmenting class labels...\n",
      "Train Labels shape is  (310, 4)\n",
      "Output dimensions: 4\n",
      "growing model size ...\n"
     ]
    },
    {
     "name": "stderr",
     "output_type": "stream",
     "text": [
      "100%|██████████| 30/30 [00:31<00:00,  1.05s/it]\n"
     ]
    },
    {
     "name": "stdout",
     "output_type": "stream",
     "text": [
      "Evaluating in individual mode on test set\n",
      "multilabel-indicator multilabel-indicator\n",
      "float64 float32\n",
      "(1244, 2) (1244, 2)\n",
      "|                     |         0 |\n",
      "|:--------------------|----------:|\n",
      "| hamming loss        | 0.949759  |\n",
      "| zero_one_loss       | 1         |\n",
      "| one_error           | 0.899518  |\n",
      "| micro av. jaccard   | 0.0502412 |\n",
      "| macro av. jaccard   | 0.0502412 |\n",
      "| micro av. precision | 0.0502412 |\n",
      "| macro av. precision | 0.0502412 |\n",
      "| micro av. recall    | 1         |\n",
      "| macro av. recall    | 1         |\n",
      "| micro av. f1        | 0.0956755 |\n",
      "| macro av. f1        | 0.0945678 |\n",
      "Evaluating in combined mode on test set\n",
      "multilabel-indicator multilabel-indicator\n",
      "float64 float32\n",
      "(1244, 4) (1244, 4)\n",
      "|                     |         0 |\n",
      "|:--------------------|----------:|\n",
      "| hamming loss        | 0.902532  |\n",
      "| zero_one_loss       | 1         |\n",
      "| one_error           | 0.627814  |\n",
      "| micro av. jaccard   | 0.0969234 |\n",
      "| macro av. jaccard   | 0.09688   |\n",
      "| micro av. precision | 0.0969234 |\n",
      "| macro av. precision | 0.09688   |\n",
      "| micro av. recall    | 1         |\n",
      "| macro av. recall    | 1         |\n",
      "| micro av. f1        | 0.176719  |\n",
      "| macro av. f1        | 0.163291  |\n",
      "Training and Evaluating on task 3\n",
      "Train data shape is  (310, 440)\n",
      "Train Labels shape is  (310, 2)\n",
      "Classes trained are: 4 to 6\n",
      "Samples with all negative labels 0\n",
      "Augmenting class labels...\n",
      "Train Labels shape is  (310, 6)\n",
      "Output dimensions: 6\n",
      "growing model size ...\n"
     ]
    },
    {
     "name": "stderr",
     "output_type": "stream",
     "text": [
      "100%|██████████| 30/30 [00:31<00:00,  1.06s/it]\n"
     ]
    },
    {
     "name": "stdout",
     "output_type": "stream",
     "text": [
      "Evaluating in individual mode on test set\n",
      "multilabel-indicator multilabel-indicator\n",
      "float64 float32\n",
      "(1244, 2) (1244, 2)\n",
      "|                     |         0 |\n",
      "|:--------------------|----------:|\n",
      "| hamming loss        | 0.913585  |\n",
      "| zero_one_loss       | 0.998392  |\n",
      "| one_error           | 0.828778  |\n",
      "| micro av. jaccard   | 0.0864148 |\n",
      "| macro av. jaccard   | 0.0864148 |\n",
      "| micro av. precision | 0.0864148 |\n",
      "| macro av. precision | 0.0864148 |\n",
      "| micro av. recall    | 1         |\n",
      "| macro av. recall    | 1         |\n",
      "| micro av. f1        | 0.159083  |\n",
      "| macro av. f1        | 0.156994  |\n",
      "Evaluating in combined mode on test set\n",
      "multilabel-indicator multilabel-indicator\n",
      "float64 float32\n",
      "(1244, 6) (1244, 6)\n",
      "|                     |         0 |\n",
      "|:--------------------|----------:|\n",
      "| hamming loss        | 0.906618  |\n",
      "| zero_one_loss       | 1         |\n",
      "| one_error           | 0.471061  |\n",
      "| micro av. jaccard   | 0.0933816 |\n",
      "| macro av. jaccard   | 0.0933816 |\n",
      "| micro av. precision | 0.0933816 |\n",
      "| macro av. precision | 0.0933816 |\n",
      "| micro av. recall    | 1         |\n",
      "| macro av. recall    | 1         |\n",
      "| micro av. f1        | 0.170812  |\n",
      "| macro av. f1        | 0.161173  |\n",
      "Training and Evaluating on task 4\n",
      "Train data shape is  (310, 440)\n",
      "Train Labels shape is  (310, 2)\n",
      "Classes trained are: 6 to 8\n",
      "Samples with all negative labels 0\n",
      "Augmenting class labels...\n",
      "Train Labels shape is  (310, 8)\n",
      "Output dimensions: 8\n",
      "growing model size ...\n"
     ]
    },
    {
     "name": "stderr",
     "output_type": "stream",
     "text": [
      "100%|██████████| 30/30 [00:33<00:00,  1.11s/it]\n"
     ]
    },
    {
     "name": "stdout",
     "output_type": "stream",
     "text": [
      "Evaluating in individual mode on test set\n",
      "multilabel-indicator multilabel-indicator\n",
      "float64 float32\n",
      "(1244, 2) (1244, 2)\n",
      "|                     |         0 |\n",
      "|:--------------------|----------:|\n",
      "| hamming loss        | 0.453376  |\n",
      "| zero_one_loss       | 0.879421  |\n",
      "| one_error           | 0.0273312 |\n",
      "| micro av. jaccard   | 0.117371  |\n",
      "| macro av. jaccard   | 0.0602894 |\n",
      "| micro av. precision | 0.120579  |\n",
      "| macro av. precision | 0.0602894 |\n",
      "| micro av. recall    | 0.815217  |\n",
      "| macro av. recall    | 0.5       |\n",
      "| micro av. f1        | 0.210084  |\n",
      "| macro av. f1        | 0.107604  |\n",
      "Evaluating in combined mode on test set\n",
      "multilabel-indicator multilabel-indicator\n",
      "float64 float32\n",
      "(1244, 8) (1244, 8)\n",
      "|                     |         0 |\n",
      "|:--------------------|----------:|\n",
      "| hamming loss        | 0.792705  |\n",
      "| zero_one_loss       | 1         |\n",
      "| one_error           | 0.0217042 |\n",
      "| micro av. jaccard   | 0.0969551 |\n",
      "| macro av. jaccard   | 0.0851389 |\n",
      "| micro av. precision | 0.0973339 |\n",
      "| macro av. precision | 0.0851389 |\n",
      "| micro av. recall    | 0.961407  |\n",
      "| macro av. recall    | 0.875     |\n",
      "| micro av. f1        | 0.176771  |\n",
      "| macro av. f1        | 0.147834  |\n",
      "Training and Evaluating on task 5\n",
      "Train data shape is  (622, 440)\n",
      "Train Labels shape is  (622, 3)\n",
      "Classes trained are: 8 to 11\n",
      "Samples with all negative labels 0\n",
      "Augmenting class labels...\n",
      "Train Labels shape is  (622, 11)\n",
      "Output dimensions: 11\n",
      "growing model size ...\n"
     ]
    },
    {
     "name": "stderr",
     "output_type": "stream",
     "text": [
      "100%|██████████| 30/30 [01:06<00:00,  2.21s/it]\n"
     ]
    },
    {
     "name": "stdout",
     "output_type": "stream",
     "text": [
      "Evaluating in individual mode on test set\n",
      "multilabel-indicator multilabel-indicator\n",
      "float64 float32\n",
      "(1244, 3) (1244, 3)\n",
      "|                     |         0 |\n",
      "|:--------------------|----------:|\n",
      "| hamming loss        | 0.527063  |\n",
      "| zero_one_loss       | 0.998392  |\n",
      "| one_error           | 0.0160772 |\n",
      "| micro av. jaccard   | 0.214457  |\n",
      "| macro av. jaccard   | 0.144011  |\n",
      "| micro av. precision | 0.216184  |\n",
      "| macro av. precision | 0.144011  |\n",
      "| micro av. recall    | 0.964093  |\n",
      "| macro av. recall    | 0.666667  |\n",
      "| micro av. f1        | 0.353173  |\n",
      "| macro av. f1        | 0.22879   |\n",
      "Evaluating in combined mode on test set\n",
      "multilabel-indicator multilabel-indicator\n",
      "float64 float32\n",
      "(1244, 11) (1244, 11)\n",
      "|                     |        0 |\n",
      "|:--------------------|---------:|\n",
      "| hamming loss        | 0.720769 |\n",
      "| zero_one_loss       | 1        |\n",
      "| one_error           | 0        |\n",
      "| micro av. jaccard   | 0.123055 |\n",
      "| macro av. jaccard   | 0.101178 |\n",
      "| micro av. precision | 0.123649 |\n",
      "| macro av. precision | 0.101178 |\n",
      "| micro av. recall    | 0.962448 |\n",
      "| macro av. recall    | 0.818182 |\n",
      "| micro av. f1        | 0.219143 |\n",
      "| macro av. f1        | 0.169885 |\n",
      "Evaluating in individual mode on test set\n",
      "|                     |        0 |         1 |         2 |         3 |         4 |\n",
      "|:--------------------|---------:|----------:|----------:|----------:|----------:|\n",
      "| hamming loss        | 0.855305 | 0.949759  | 0.913585  | 0.454984  | 0.527063  |\n",
      "| zero_one_loss       | 0.993569 | 1         | 0.998392  | 0.879421  | 0.998392  |\n",
      "| one_error           | 0.717042 | 0.899518  | 0.828778  | 0.0305466 | 0.0160772 |\n",
      "| micro av. jaccard   | 0.143662 | 0.0502412 | 0.0864148 | 0.117005  | 0.214457  |\n",
      "| macro av. jaccard   | 0.143519 | 0.0502412 | 0.0864148 | 0.0602894 | 0.144011  |\n",
      "| micro av. precision | 0.143662 | 0.0502412 | 0.0864148 | 0.120192  | 0.216184  |\n",
      "| macro av. precision | 0.143519 | 0.0502412 | 0.0864148 | 0.0602894 | 0.144011  |\n",
      "| micro av. recall    | 1        | 1         | 1         | 0.815217  | 0.964093  |\n",
      "| macro av. recall    | 1        | 1         | 1         | 0.5       | 0.666667  |\n",
      "| micro av. f1        | 0.251232 | 0.0956755 | 0.159083  | 0.209497  | 0.353173  |\n",
      "| macro av. f1        | 0.232014 | 0.0945678 | 0.156994  | 0.107604  | 0.22879   |\n",
      "Evaluating in combined mode on test set\n",
      "|                     |        0 |         1 |         2 |         3 |        4 |\n",
      "|:--------------------|---------:|----------:|----------:|----------:|---------:|\n",
      "| hamming loss        | 0.855305 | 0.902532  | 0.906217  | 0.793408  | 0.720769 |\n",
      "| zero_one_loss       | 0.993569 | 1         | 1         | 1         | 1        |\n",
      "| one_error           | 0.717042 | 0.627814  | 0.471061  | 0.0217042 | 0        |\n",
      "| micro av. jaccard   | 0.143662 | 0.0969234 | 0.0934191 | 0.0968775 | 0.123055 |\n",
      "| macro av. jaccard   | 0.143519 | 0.09688   | 0.0933916 | 0.0851161 | 0.101178 |\n",
      "| micro av. precision | 0.143662 | 0.0969234 | 0.0934191 | 0.0972557 | 0.123649 |\n",
      "| macro av. precision | 0.143519 | 0.09688   | 0.0933916 | 0.0851161 | 0.101178 |\n",
      "| micro av. recall    | 1        | 1         | 1         | 0.961407  | 0.962448 |\n",
      "| macro av. recall    | 1        | 1         | 1         | 0.875     | 0.818182 |\n",
      "| micro av. f1        | 0.251232 | 0.176719  | 0.170875  | 0.176642  | 0.219143 |\n",
      "| macro av. f1        | 0.232014 | 0.163291  | 0.161192  | 0.147795  | 0.169885 |\n",
      "File saved to ./checkpoints/Human_2_EWC_asy.pkl\n",
      "Number of Tasks: 5\n",
      "Forgetting in task 1: first time micro av. f1 = 0.2515, after all tasks micro av. f1 = 0.2512\n",
      "Forgetting in task 2: first time micro av. f1 = 0.0957, after all tasks micro av. f1 = 0.2512\n",
      "Forgetting in task 3: first time micro av. f1 = 0.1591, after all tasks micro av. f1 = 0.2512\n",
      "Forgetting in task 4: first time micro av. f1 = 0.2101, after all tasks micro av. f1 = 0.2512\n",
      "Forgetting in task 5: first time micro av. f1 = 0.3532, after all tasks micro av. f1 = 0.2512\n"
     ]
    },
    {
     "data": {
      "image/png": "[encoded data removed]",
      "text/plain": [
       "<Figure size 360x360 with 1 Axes>"
      ]
     },
     "metadata": {
      "needs_background": "light"
     },
     "output_type": "display_data"
    }
   ],
   "source": [
    "\n",
    "hparams['continual_mode']['name'] = 'EWC'\n",
    "expt = ContinualExperiment(hparams)\n",
    "expt.run()"
   ]
  },
  {
   "cell_type": "markdown",
   "metadata": {},
   "source": [
    "## SI"
   ]
  },
  {
   "cell_type": "code",
   "execution_count": 4,
   "metadata": {},
   "outputs": [
    {
     "name": "stderr",
     "output_type": "stream",
     "text": [
      "  0%|          | 0/30 [00:00<?, ?it/s]"
     ]
    },
    {
     "name": "stdout",
     "output_type": "stream",
     "text": [
      "Processing Data ...\n",
      "(1862, 440)\n",
      "(1244, 440)\n",
      "(1862, 11)\n",
      "(1244, 11)\n",
      "Begin training in SI mode ...\n",
      "Training and Evaluating on task 1\n",
      "Train data shape is  (310, 440)\n",
      "Train Labels shape is  (310, 2)\n",
      "Classes trained are: 0 to 2\n",
      "Samples with all negative labels 0\n",
      "Output dimensions: 2\n"
     ]
    },
    {
     "name": "stderr",
     "output_type": "stream",
     "text": [
      "100%|██████████| 30/30 [00:23<00:00,  1.27it/s]\n"
     ]
    },
    {
     "name": "stdout",
     "output_type": "stream",
     "text": [
      "Evaluating in individual mode on test set\n",
      "multilabel-indicator multilabel-indicator\n",
      "float64 float32\n",
      "(1244, 2) (1244, 2)\n",
      "|                     |         0 |\n",
      "|:--------------------|----------:|\n",
      "| hamming loss        | 0.385852  |\n",
      "| zero_one_loss       | 0.742765  |\n",
      "| one_error           | 0.0289389 |\n",
      "| micro av. jaccard   | 0.253499  |\n",
      "| macro av. jaccard   | 0.131029  |\n",
      "| micro av. precision | 0.259761  |\n",
      "| macro av. precision | 0.131029  |\n",
      "| micro av. recall    | 0.913165  |\n",
      "| macro av. recall    | 0.5       |\n",
      "| micro av. f1        | 0.404467  |\n",
      "| macro av. f1        | 0.207643  |\n",
      "Evaluating in combined mode on test set\n"
     ]
    },
    {
     "name": "stderr",
     "output_type": "stream",
     "text": [
      "  0%|          | 0/30 [00:00<?, ?it/s]"
     ]
    },
    {
     "name": "stdout",
     "output_type": "stream",
     "text": [
      "multilabel-indicator multilabel-indicator\n",
      "float64 float32\n",
      "(1244, 2) (1244, 2)\n",
      "|                     |         0 |\n",
      "|:--------------------|----------:|\n",
      "| hamming loss        | 0.385852  |\n",
      "| zero_one_loss       | 0.742765  |\n",
      "| one_error           | 0.0289389 |\n",
      "| micro av. jaccard   | 0.253499  |\n",
      "| macro av. jaccard   | 0.131029  |\n",
      "| micro av. precision | 0.259761  |\n",
      "| macro av. precision | 0.131029  |\n",
      "| micro av. recall    | 0.913165  |\n",
      "| macro av. recall    | 0.5       |\n",
      "| micro av. f1        | 0.404467  |\n",
      "| macro av. f1        | 0.207643  |\n",
      "Training and Evaluating on task 2\n",
      "Train data shape is  (310, 440)\n",
      "Train Labels shape is  (310, 2)\n",
      "Classes trained are: 2 to 4\n",
      "Samples with all negative labels 0\n",
      "Augmenting class labels...\n",
      "Train Labels shape is  (310, 4)\n",
      "Output dimensions: 4\n",
      "growing model size ...\n"
     ]
    },
    {
     "name": "stderr",
     "output_type": "stream",
     "text": [
      "100%|██████████| 30/30 [00:50<00:00,  1.68s/it]\n"
     ]
    },
    {
     "name": "stdout",
     "output_type": "stream",
     "text": [
      "Evaluating in individual mode on test set\n",
      "multilabel-indicator multilabel-indicator\n",
      "float64 float32\n",
      "(1244, 2) (1244, 2)\n",
      "|                     |         0 |\n",
      "|:--------------------|----------:|\n",
      "| hamming loss        | 0.949759  |\n",
      "| zero_one_loss       | 1         |\n",
      "| one_error           | 0.899518  |\n",
      "| micro av. jaccard   | 0.0502412 |\n",
      "| macro av. jaccard   | 0.0502412 |\n",
      "| micro av. precision | 0.0502412 |\n",
      "| macro av. precision | 0.0502412 |\n",
      "| micro av. recall    | 1         |\n",
      "| macro av. recall    | 1         |\n",
      "| micro av. f1        | 0.0956755 |\n",
      "| macro av. f1        | 0.0945678 |\n",
      "Evaluating in combined mode on test set\n"
     ]
    },
    {
     "name": "stderr",
     "output_type": "stream",
     "text": [
      "  0%|          | 0/30 [00:00<?, ?it/s]"
     ]
    },
    {
     "name": "stdout",
     "output_type": "stream",
     "text": [
      "multilabel-indicator multilabel-indicator\n",
      "float64 float32\n",
      "(1244, 4) (1244, 4)\n",
      "|                     |        0 |\n",
      "|:--------------------|---------:|\n",
      "| hamming loss        | 0.903135 |\n",
      "| zero_one_loss       | 1        |\n",
      "| one_error           | 0.627814 |\n",
      "| micro av. jaccard   | 0.096865 |\n",
      "| macro av. jaccard   | 0.096865 |\n",
      "| micro av. precision | 0.096865 |\n",
      "| macro av. precision | 0.096865 |\n",
      "| micro av. recall    | 1        |\n",
      "| macro av. recall    | 1        |\n",
      "| micro av. f1        | 0.176621 |\n",
      "| macro av. f1        | 0.163262 |\n",
      "Training and Evaluating on task 3\n",
      "Train data shape is  (310, 440)\n",
      "Train Labels shape is  (310, 2)\n",
      "Classes trained are: 4 to 6\n",
      "Samples with all negative labels 0\n",
      "Augmenting class labels...\n",
      "Train Labels shape is  (310, 6)\n",
      "Output dimensions: 6\n",
      "growing model size ...\n"
     ]
    },
    {
     "name": "stderr",
     "output_type": "stream",
     "text": [
      "100%|██████████| 30/30 [00:49<00:00,  1.64s/it]\n"
     ]
    },
    {
     "name": "stdout",
     "output_type": "stream",
     "text": [
      "Evaluating in individual mode on test set\n",
      "multilabel-indicator multilabel-indicator\n",
      "float64 float32\n",
      "(1244, 2) (1244, 2)\n",
      "|                     |         0 |\n",
      "|:--------------------|----------:|\n",
      "| hamming loss        | 0.463424  |\n",
      "| zero_one_loss       | 0.878617  |\n",
      "| one_error           | 0.0482315 |\n",
      "| micro av. jaccard   | 0.117152  |\n",
      "| macro av. jaccard   | 0.0614952 |\n",
      "| micro av. precision | 0.12299   |\n",
      "| macro av. precision | 0.0614952 |\n",
      "| micro av. recall    | 0.711628  |\n",
      "| macro av. recall    | 0.5       |\n",
      "| micro av. f1        | 0.209733  |\n",
      "| macro av. f1        | 0.10952   |\n",
      "Evaluating in combined mode on test set\n",
      "multilabel-indicator multilabel-indicator\n",
      "float64 float32\n",
      "(1244, 6) (1244, 6)\n",
      "|                     |         0 |\n",
      "|:--------------------|----------:|\n",
      "| hamming loss        | 0.756565  |\n",
      "| zero_one_loss       | 1         |\n",
      "| one_error           | 0.0361736 |\n",
      "| micro av. jaccard   | 0.101082  |\n",
      "| macro av. jaccard   | 0.085075  |\n",
      "| micro av. precision | 0.10209   |\n",
      "| macro av. precision | 0.085075  |\n",
      "| micro av. recall    | 0.911047  |\n",
      "| macro av. recall    | 0.833333  |\n",
      "| micro av. f1        | 0.183606  |\n",
      "| macro av. f1        | 0.145348  |\n",
      "Training and Evaluating on task 4\n",
      "Train data shape is  (310, 440)\n",
      "Train Labels shape is  (310, 2)\n",
      "Classes trained are: 6 to 8\n",
      "Samples with all negative labels 0\n",
      "Augmenting class labels...\n",
      "Train Labels shape is  (310, 8)\n",
      "Output dimensions: 8\n",
      "growing model size ...\n"
     ]
    },
    {
     "name": "stderr",
     "output_type": "stream",
     "text": [
      "100%|██████████| 30/30 [00:47<00:00,  1.58s/it]\n"
     ]
    },
    {
     "name": "stdout",
     "output_type": "stream",
     "text": [
      "Evaluating in individual mode on test set\n",
      "multilabel-indicator multilabel-indicator\n",
      "float64 float32\n",
      "(1244, 2) (1244, 2)\n",
      "|                     |        0 |\n",
      "|:--------------------|---------:|\n",
      "| hamming loss        | 0.926045 |\n",
      "| zero_one_loss       | 1        |\n",
      "| one_error           | 0.85209  |\n",
      "| micro av. jaccard   | 0.073955 |\n",
      "| macro av. jaccard   | 0.073955 |\n",
      "| micro av. precision | 0.073955 |\n",
      "| macro av. precision | 0.073955 |\n",
      "| micro av. recall    | 1        |\n",
      "| macro av. recall    | 1        |\n",
      "| micro av. f1        | 0.137725 |\n",
      "| macro av. f1        | 0.134208 |\n",
      "Evaluating in combined mode on test set\n",
      "multilabel-indicator multilabel-indicator\n",
      "float64 float32\n",
      "(1244, 8) (1244, 8)\n",
      "|                     |         0 |\n",
      "|:--------------------|----------:|\n",
      "| hamming loss        | 0.798935  |\n",
      "| zero_one_loss       | 1         |\n",
      "| one_error           | 0.0353698 |\n",
      "| micro av. jaccard   | 0.0933865 |\n",
      "| macro av. jaccard   | 0.082295  |\n",
      "| micro av. precision | 0.0940514 |\n",
      "| macro av. precision | 0.082295  |\n",
      "| micro av. recall    | 0.929625  |\n",
      "| macro av. recall    | 0.875     |\n",
      "| micro av. f1        | 0.170821  |\n",
      "| macro av. f1        | 0.142563  |\n",
      "Training and Evaluating on task 5\n",
      "Train data shape is  (622, 440)\n",
      "Train Labels shape is  (622, 3)\n",
      "Classes trained are: 8 to 11\n",
      "Samples with all negative labels 0\n",
      "Augmenting class labels...\n"
     ]
    },
    {
     "name": "stderr",
     "output_type": "stream",
     "text": [
      "  0%|          | 0/30 [00:00<?, ?it/s]"
     ]
    },
    {
     "name": "stdout",
     "output_type": "stream",
     "text": [
      "Train Labels shape is  (622, 11)\n",
      "Output dimensions: 11\n",
      "growing model size ...\n"
     ]
    },
    {
     "name": "stderr",
     "output_type": "stream",
     "text": [
      "100%|██████████| 30/30 [01:30<00:00,  3.00s/it]\n"
     ]
    },
    {
     "name": "stdout",
     "output_type": "stream",
     "text": [
      "Evaluating in individual mode on test set\n",
      "multilabel-indicator multilabel-indicator\n",
      "float64 float32\n",
      "(1244, 3) (1244, 3)\n",
      "|                     |        0 |\n",
      "|:--------------------|---------:|\n",
      "| hamming loss        | 0.85075  |\n",
      "| zero_one_loss       | 1        |\n",
      "| one_error           | 0.553859 |\n",
      "| micro av. jaccard   | 0.14925  |\n",
      "| macro av. jaccard   | 0.14925  |\n",
      "| micro av. precision | 0.14925  |\n",
      "| macro av. precision | 0.14925  |\n",
      "| micro av. recall    | 1        |\n",
      "| macro av. recall    | 1        |\n",
      "| micro av. f1        | 0.259734 |\n",
      "| macro av. f1        | 0.239144 |\n",
      "Evaluating in combined mode on test set\n",
      "multilabel-indicator multilabel-indicator\n",
      "float64 float32\n",
      "(1244, 11) (1244, 11)\n",
      "|                     |         0 |\n",
      "|:--------------------|----------:|\n",
      "| hamming loss        | 0.813066  |\n",
      "| zero_one_loss       | 1         |\n",
      "| one_error           | 0.0329582 |\n",
      "| micro av. jaccard   | 0.110062  |\n",
      "| macro av. jaccard   | 0.100555  |\n",
      "| micro av. precision | 0.110611  |\n",
      "| macro av. precision | 0.100555  |\n",
      "| micro av. recall    | 0.956885  |\n",
      "| macro av. recall    | 0.909091  |\n",
      "| micro av. f1        | 0.198299  |\n",
      "| macro av. f1        | 0.168904  |\n",
      "Evaluating in individual mode on test set\n",
      "|                     |        0 |         1 |         2 |        3 |        4 |\n",
      "|:--------------------|---------:|----------:|----------:|---------:|---------:|\n",
      "| hamming loss        | 0.856511 | 0.949759  | 0.463424  | 0.926045 | 0.85075  |\n",
      "| zero_one_loss       | 0.995981 | 1         | 0.878617  | 1        | 1        |\n",
      "| one_error           | 0.717042 | 0.899518  | 0.0482315 | 0.85209  | 0.553859 |\n",
      "| micro av. jaccard   | 0.143489 | 0.0502412 | 0.117152  | 0.073955 | 0.14925  |\n",
      "| macro av. jaccard   | 0.143489 | 0.0502412 | 0.0614952 | 0.073955 | 0.14925  |\n",
      "| micro av. precision | 0.143489 | 0.0502412 | 0.12299   | 0.073955 | 0.14925  |\n",
      "| macro av. precision | 0.143489 | 0.0502412 | 0.0614952 | 0.073955 | 0.14925  |\n",
      "| micro av. recall    | 1        | 1         | 0.711628  | 1        | 1        |\n",
      "| macro av. recall    | 1        | 1         | 0.5       | 1        | 1        |\n",
      "| micro av. f1        | 0.250967 | 0.0956755 | 0.209733  | 0.137725 | 0.259734 |\n",
      "| macro av. f1        | 0.231957 | 0.0945678 | 0.10952   | 0.134208 | 0.239144 |\n",
      "Evaluating in combined mode on test set\n",
      "|                     |        0 |        1 |         2 |         3 |         4 |\n",
      "|:--------------------|---------:|---------:|----------:|----------:|----------:|\n",
      "| hamming loss        | 0.856511 | 0.903135 | 0.756565  | 0.798935  | 0.813066  |\n",
      "| zero_one_loss       | 0.995981 | 1        | 1         | 1         | 1         |\n",
      "| one_error           | 0.717042 | 0.627814 | 0.0361736 | 0.0353698 | 0.0329582 |\n",
      "| micro av. jaccard   | 0.143489 | 0.096865 | 0.101082  | 0.0933865 | 0.110062  |\n",
      "| macro av. jaccard   | 0.143489 | 0.096865 | 0.085075  | 0.082295  | 0.100555  |\n",
      "| micro av. precision | 0.143489 | 0.096865 | 0.10209   | 0.0940514 | 0.110611  |\n",
      "| macro av. precision | 0.143489 | 0.096865 | 0.085075  | 0.082295  | 0.100555  |\n",
      "| micro av. recall    | 1        | 1        | 0.911047  | 0.929625  | 0.956885  |\n",
      "| macro av. recall    | 1        | 1        | 0.833333  | 0.875     | 0.909091  |\n",
      "| micro av. f1        | 0.250967 | 0.176621 | 0.183606  | 0.170821  | 0.198299  |\n",
      "| macro av. f1        | 0.231957 | 0.163262 | 0.145348  | 0.142563  | 0.168904  |\n",
      "File saved to ./checkpoints/Human_2_SI_asy.pkl\n",
      "Number of Tasks: 5\n",
      "Forgetting in task 1: first time micro av. f1 = 0.4045, after all tasks micro av. f1 = 0.2510\n",
      "Forgetting in task 2: first time micro av. f1 = 0.0957, after all tasks micro av. f1 = 0.2510\n",
      "Forgetting in task 3: first time micro av. f1 = 0.2097, after all tasks micro av. f1 = 0.2510\n",
      "Forgetting in task 4: first time micro av. f1 = 0.1377, after all tasks micro av. f1 = 0.2510\n",
      "Forgetting in task 5: first time micro av. f1 = 0.2597, after all tasks micro av. f1 = 0.2510\n"
     ]
    },
    {
     "data": {
      "image/png": "[encoded data removed]",
      "text/plain": [
       "<Figure size 360x360 with 1 Axes>"
      ]
     },
     "metadata": {
      "needs_background": "light"
     },
     "output_type": "display_data"
    }
   ],
   "source": [
    "hparams['continual_mode']['name'] = 'SI'\n",
    "expt = ContinualExperiment(hparams)\n",
    "expt.run()"
   ]
  }
 ],
 "metadata": {
  "kernelspec": {
   "display_name": "DL_gpu",
   "language": "python",
   "name": "dl_gpu"
  },
  "language_info": {
   "codemirror_mode": {
    "name": "ipython",
    "version": 3
   },
   "file_extension": ".py",
   "mimetype": "text/x-python",
   "name": "python",
   "nbconvert_exporter": "python",
   "pygments_lexer": "ipython3",
   "version": "3.7.7"
  }
 },
 "nbformat": 4,
 "nbformat_minor": 4
}
