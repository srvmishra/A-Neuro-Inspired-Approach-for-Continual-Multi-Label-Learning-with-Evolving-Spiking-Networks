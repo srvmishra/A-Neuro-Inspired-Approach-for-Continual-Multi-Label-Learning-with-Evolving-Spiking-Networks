{
 "cells": [
  {
   "cell_type": "code",
   "execution_count": null,
   "metadata": {},
   "outputs": [],
   "source": [
    "from experiments import *"
   ]
  },
  {
   "cell_type": "code",
   "execution_count": null,
   "metadata": {},
   "outputs": [],
   "source": [
    "hparams = {}\n",
    "hparams['hidden_dim'] = 10 #20\n",
    "hparams['device'] = torch.device(\"cuda:2\" if torch.cuda.is_available() else \"cpu\")\n",
    "hparams['batch_size'] = 8\n",
    "hparams['lr'] = 1e-1 #1e-3\n",
    "hparams['epochs'] = 30 #50\n",
    "hparams['loss_type'] = 'asy'\n",
    "hparams['seed'] = 5\n",
    "hparams['ckpt_dir'] = './checkpoints'\n",
    "hparams['name'] = 'Birds'\n",
    "hparams['trainpath'] = '../../datasets/birds/birds-train.mat'\n",
    "hparams['testpath'] = '../../datasets/birds/birds-test.mat' \n",
    "hparams['num_features'] = 260\n",
    "hparams['input_dim'] = 260\n",
    "hparams['tasks'] = {}\n",
    "hparams['tasks']['samples'] = [54]*5 + [52]\n",
    "hparams['tasks']['labels'] = [3]*5 + [4]\n",
    "hparams['continual_mode'] = {}\n",
    "hparams['continual_mode']['cparams'] = {}\n",
    "hparams['continual_mode']['cparams']['importance'] = 0.1"
   ]
  },
  {
   "cell_type": "markdown",
   "metadata": {},
   "source": [
    "## EWC"
   ]
  },
  {
   "cell_type": "code",
   "execution_count": null,
   "metadata": {},
   "outputs": [],
   "source": [
    "\n",
    "hparams['continual_mode']['name'] = 'EWC'\n",
    "expt = ContinualExperiment(hparams)\n",
    "expt.run()"
   ]
  },
  {
   "cell_type": "markdown",
   "metadata": {},
   "source": [
    "## SI"
   ]
  },
  {
   "cell_type": "code",
   "execution_count": null,
   "metadata": {},
   "outputs": [],
   "source": [
    "hparams['continual_mode']['name'] = 'SI'\n",
    "expt = ContinualExperiment(hparams)\n",
    "expt.run()"
   ]
  },
  {
   "cell_type": "markdown",
   "metadata": {},
   "source": [
    "## LwF"
   ]
  },
  {
   "cell_type": "code",
   "execution_count": null,
   "metadata": {},
   "outputs": [],
   "source": [
    "hparams['continual_mode']['name'] = 'LwF'\n",
    "expt = ContinualExperiment(hparams)\n",
    "expt.run()"
   ]
  }
 ],
 "metadata": {
  "kernelspec": {
   "display_name": "DL_gpu",
   "language": "python",
   "name": "dl_gpu"
  },
  "language_info": {
   "codemirror_mode": {
    "name": "ipython",
    "version": 3
   },
   "file_extension": ".py",
   "mimetype": "text/x-python",
   "name": "python",
   "nbconvert_exporter": "python",
   "pygments_lexer": "ipython3",
   "version": "3.7.7"
  }
 },
 "nbformat": 4,
 "nbformat_minor": 4
}
