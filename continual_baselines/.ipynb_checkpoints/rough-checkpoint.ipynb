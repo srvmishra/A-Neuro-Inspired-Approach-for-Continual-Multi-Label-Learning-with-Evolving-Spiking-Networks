{
 "cells": [
  {
   "cell_type": "code",
   "execution_count": 102,
   "metadata": {},
   "outputs": [],
   "source": [
    "import os\n",
    "import numpy as np\n",
    "from sklearn.metrics import accuracy_score, roc_auc_score, precision_score, recall_score, f1_score, zero_one_loss, hamming_loss, jaccard_score\n",
    "from sklearn.utils.multiclass import type_of_target\n",
    "import torch\n",
    "from random import shuffle\n",
    "from torch.autograd import Variable\n",
    "import torch.nn as nn\n",
    "import torch.nn.functional as F\n",
    "import torch.optim as optim\n",
    "from tqdm import tqdm\n",
    "import pandas as pd\n",
    "import pickle\n",
    "import matplotlib.pyplot as plt\n",
    "import markdown\n",
    "import arff\n",
    "import warnings\n",
    "from scipy.io import loadmat\n",
    "warnings.filterwarnings(\"ignore\")"
   ]
  },
  {
   "cell_type": "code",
   "execution_count": 103,
   "metadata": {},
   "outputs": [],
   "source": [
    "class MLP(nn.Module):\n",
    "    def __init__(self, input_dim, hidden_dim, out_dim):\n",
    "        super(MLP, self).__init__()\n",
    "        self.layer1 = nn.Linear(input_dim, hidden_dim)\n",
    "        self.layer2 = nn.Linear(hidden_dim, hidden_dim)\n",
    "        self.layer3 = nn.Linear(hidden_dim, out_dim)\n",
    "\n",
    "    def forward(self, x):\n",
    "        x = F.relu(self.layer1(x))\n",
    "        x = F.relu(self.layer2(x))\n",
    "        x = self.layer3(x)\n",
    "        return x\n",
    "    \n"
   ]
  },
  {
   "cell_type": "code",
   "execution_count": 104,
   "metadata": {},
   "outputs": [],
   "source": [
    "def process_data(trainpath, testpath, num_features):\n",
    "    if trainpath.endswith('.arff'):\n",
    "        train_ = arff.load(open(trainpath, 'rt'))\n",
    "        train_ = np.array(train_['data']).astype(np.float32)\n",
    "        train_data = train_[:, :num_features]\n",
    "        train_labels = train_[:, num_features:]\n",
    "    if testpath.endswith('.arff'):\n",
    "        test_ = arff.load(open(testpath, 'rt'))\n",
    "        test_ = np.array(test_['data']).astype(np.float32)\n",
    "        test_data = test_[:, :num_features]\n",
    "        test_labels = test_[:, num_features:]\n",
    "\n",
    "    if trainpath.endswith('.mat'):\n",
    "        train_ = loadmat(trainpath)\n",
    "        train_data, train_labels = train_['transformed_train_data'], np.array(train_['labels'])\n",
    "    if testpath.endswith('.mat'):\n",
    "        test_ = loadmat(testpath)\n",
    "        test_data, test_labels = test_['transformed_test_data'], np.array(test_['labels'])\n",
    "\n",
    "    print(train_data.shape)\n",
    "    print(test_data.shape)\n",
    "    print(train_labels.shape)\n",
    "    print(test_labels.shape)\n",
    "\n",
    "    return train_data, train_labels, test_data, test_labels"
   ]
  },
  {
   "cell_type": "code",
   "execution_count": 105,
   "metadata": {},
   "outputs": [
    {
     "name": "stdout",
     "output_type": "stream",
     "text": [
      "(391, 72)\n",
      "(202, 72)\n",
      "(391, 6)\n",
      "(202, 6)\n"
     ]
    }
   ],
   "source": [
    "train_path = '../../datasets/emotions/emotions-train.arff'\n",
    "test_path = '../../datasets/emotions/emotions-test.arff'\n",
    "num_features = 72\n",
    "train_data, train_labels, test_data, test_labels = process_data(train_path, test_path, num_features)\n"
   ]
  },
  {
   "cell_type": "code",
   "execution_count": 106,
   "metadata": {},
   "outputs": [
    {
     "name": "stdout",
     "output_type": "stream",
     "text": [
      "(588, 50)\n",
      "(390, 50)\n",
      "(588, 12)\n",
      "(390, 12)\n"
     ]
    }
   ],
   "source": [
    "train_path = '../../datasets/PlantPseAAC/PlantPseAAC978_train_MVMD.mat'\n",
    "test_path = '../../datasets/PlantPseAAC/PlantPseAAC978_test_MVMD.mat'\n",
    "num_features = None\n",
    "train_data, train_labels, test_data, test_labels = process_data(train_path, test_path, num_features)"
   ]
  },
  {
   "cell_type": "code",
   "execution_count": 107,
   "metadata": {},
   "outputs": [
    {
     "data": {
      "text/plain": [
       "MLP(\n",
       "  (layer1): Linear(in_features=50, out_features=50, bias=True)\n",
       "  (layer2): Linear(in_features=50, out_features=50, bias=True)\n",
       "  (layer3): Linear(in_features=50, out_features=12, bias=True)\n",
       ")"
      ]
     },
     "execution_count": 107,
     "metadata": {},
     "output_type": "execute_result"
    }
   ],
   "source": [
    "model = MLP(50, 50, 12)\n",
    "criterion = nn.BCEWithLogitsLoss()\n",
    "optimizer = optim.SGD(model.parameters(), lr=1e-3)\n",
    "device = torch.device('cuda')\n",
    "model = model.to(device)\n",
    "model.train()"
   ]
  },
  {
   "cell_type": "code",
   "execution_count": 108,
   "metadata": {},
   "outputs": [
    {
     "name": "stdout",
     "output_type": "stream",
     "text": [
      "[ 0.15321085  0.01776857 -0.05494427  0.02334477 -0.14920974 -0.08815467\n",
      " -0.01932213  0.07984602 -0.13703047 -0.0528156   0.07766266 -0.071203  ]\n",
      "tensor([1., 1., 0., 1., 0., 0., 0., 1., 0., 0., 1., 0.], device='cuda:0')\n",
      "[ 0.05372935  0.0422705  -0.06528257 -0.04421222 -0.0282203  -0.10516891\n",
      " -0.07358302  0.06730875 -0.18951145 -0.00730871  0.04436081 -0.1857901 ]\n",
      "tensor([1., 1., 0., 0., 0., 0., 0., 1., 0., 0., 1., 0.], device='cuda:0')\n",
      "[ 0.17442651  0.03050392 -0.05486777  0.05210872 -0.07170446 -0.07718332\n",
      " -0.04504975  0.02258481 -0.09351757 -0.00396907  0.04738387 -0.16172786]\n",
      "tensor([1., 1., 0., 1., 0., 0., 0., 1., 0., 0., 1., 0.], device='cuda:0')\n",
      "[ 0.08618999 -0.00316789 -0.02295219  0.00983439 -0.19028026 -0.06961147\n",
      " -0.02552857  0.05869208 -0.20561808 -0.05211977  0.11302964 -0.14903364]\n",
      "tensor([1., 0., 0., 1., 0., 0., 0., 1., 0., 0., 1., 0.], device='cuda:0')\n"
     ]
    }
   ],
   "source": [
    "for i in range(len(train_data)):\n",
    "    x = torch.from_numpy(train_data[i]).to(device)\n",
    "    y = torch.from_numpy(train_labels[i]).to(device)\n",
    "\n",
    "    yhat = model(x.float())\n",
    "    loss = criterion(yhat, y.float())\n",
    "    loss.backward()\n",
    "    optimizer.step()\n",
    "    optimizer.zero_grad()\n",
    "\n",
    "    print(yhat.detach().cpu().numpy())\n",
    "    ypred = torch.zeros_like(yhat)\n",
    "    ypred[torch.where(yhat > 0)] = 1\n",
    "    print(ypred)\n",
    "\n",
    "    if i>=3:\n",
    "        break"
   ]
  },
  {
   "cell_type": "code",
   "execution_count": 1,
   "metadata": {},
   "outputs": [],
   "source": [
    "a = 5\n",
    "b = a"
   ]
  },
  {
   "cell_type": "code",
   "execution_count": 2,
   "metadata": {},
   "outputs": [
    {
     "data": {
      "text/plain": [
       "5"
      ]
     },
     "execution_count": 2,
     "metadata": {},
     "output_type": "execute_result"
    }
   ],
   "source": [
    "a"
   ]
  },
  {
   "cell_type": "code",
   "execution_count": 3,
   "metadata": {},
   "outputs": [
    {
     "data": {
      "text/plain": [
       "5"
      ]
     },
     "execution_count": 3,
     "metadata": {},
     "output_type": "execute_result"
    }
   ],
   "source": [
    "b"
   ]
  },
  {
   "cell_type": "code",
   "execution_count": 4,
   "metadata": {},
   "outputs": [],
   "source": [
    "a = 6"
   ]
  },
  {
   "cell_type": "code",
   "execution_count": 5,
   "metadata": {},
   "outputs": [
    {
     "data": {
      "text/plain": [
       "5"
      ]
     },
     "execution_count": 5,
     "metadata": {},
     "output_type": "execute_result"
    }
   ],
   "source": [
    "b"
   ]
  },
  {
   "cell_type": "code",
   "execution_count": 6,
   "metadata": {},
   "outputs": [
    {
     "data": {
      "text/plain": [
       "6"
      ]
     },
     "execution_count": 6,
     "metadata": {},
     "output_type": "execute_result"
    }
   ],
   "source": [
    "a"
   ]
  },
  {
   "cell_type": "code",
   "execution_count": null,
   "metadata": {},
   "outputs": [],
   "source": []
  }
 ],
 "metadata": {
  "kernelspec": {
   "display_name": "DL_gpu",
   "language": "python",
   "name": "dl_gpu"
  },
  "language_info": {
   "codemirror_mode": {
    "name": "ipython",
    "version": 3
   },
   "file_extension": ".py",
   "mimetype": "text/x-python",
   "name": "python",
   "nbconvert_exporter": "python",
   "pygments_lexer": "ipython3",
   "version": "3.7.7"
  }
 },
 "nbformat": 4,
 "nbformat_minor": 4
}
