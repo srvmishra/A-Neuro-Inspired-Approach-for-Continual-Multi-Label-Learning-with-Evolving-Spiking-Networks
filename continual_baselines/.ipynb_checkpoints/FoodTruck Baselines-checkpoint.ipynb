{
 "cells": [
  {
   "cell_type": "code",
   "execution_count": 1,
   "metadata": {},
   "outputs": [],
   "source": [
    "from experiments import *"
   ]
  },
  {
   "cell_type": "code",
   "execution_count": 2,
   "metadata": {},
   "outputs": [],
   "source": [
    "hparams = {}\n",
    "hparams['hidden_dim'] = 10 #20\n",
    "hparams['device'] = torch.device(\"cuda:3\" if torch.cuda.is_available() else \"cpu\")\n",
    "hparams['batch_size'] = 8\n",
    "hparams['lr'] = 1e-1 #1e-3\n",
    "hparams['epochs'] = 30 #50\n",
    "hparams['loss_type'] = 'asy'\n",
    "hparams['seed'] = 5\n",
    "hparams['ckpt_dir'] = './checkpoints'\n",
    "hparams['name'] = 'FoodTruck'\n",
    "hparams['trainpath'] = '../../datasets/foodtruck/foodtruck-rand-hout-tra.arff'\n",
    "hparams['testpath'] = '../../datasets/foodtruck/foodtruck-rand-hout-tst.arff' \n",
    "hparams['num_features'] = 21\n",
    "hparams['input_dim'] = 21\n",
    "hparams['tasks'] = {}\n",
    "hparams['tasks']['samples'] = [40, 40, 40, 40, 40, 50]\n",
    "hparams['tasks']['labels'] = [2, 2, 2, 2, 2, 2]\n",
    "hparams['continual_mode'] = {}\n",
    "hparams['continual_mode']['cparams'] = {}\n",
    "hparams['continual_mode']['cparams']['importance'] = 0.1"
   ]
  },
  {
   "cell_type": "markdown",
   "metadata": {},
   "source": [
    "## EWC"
   ]
  },
  {
   "cell_type": "code",
   "execution_count": null,
   "metadata": {},
   "outputs": [
    {
     "name": "stdout",
     "output_type": "stream",
     "text": [
      "Processing Data ...\n",
      "(250, 21)\n",
      "(250, 21)\n",
      "(250, 12)\n",
      "(250, 12)\n",
      "Begin training in EWC mode ...\n",
      "Training and Evaluating on task 1\n",
      "Train data shape is  (40, 21)\n",
      "Train Labels shape is  (40, 2)\n",
      "Classes trained are: 0 to 2\n",
      "Samples with all negative labels 0\n",
      "Output dimensions: 2\n"
     ]
    },
    {
     "name": "stderr",
     "output_type": "stream",
     "text": [
      "100%|██████████| 30/30 [00:03<00:00,  9.19it/s]\n"
     ]
    },
    {
     "name": "stdout",
     "output_type": "stream",
     "text": [
      "Evaluating in individual mode on test set\n",
      "multilabel-indicator multilabel-indicator\n",
      "float64 float32\n",
      "(250, 2) (250, 2)\n",
      "|                     |        0 |\n",
      "|:--------------------|---------:|\n",
      "| hamming loss        | 0.496    |\n",
      "| zero_one_loss       | 0.816    |\n",
      "| one_error           | 0.176    |\n",
      "| micro av. jaccard   | 0.398058 |\n",
      "| macro av. jaccard   | 0.389962 |\n",
      "| micro av. precision | 0.51735  |\n",
      "| macro av. precision | 0.527487 |\n",
      "| micro av. recall    | 0.633205 |\n",
      "| macro av. recall    | 0.642726 |\n",
      "| micro av. f1        | 0.569444 |\n",
      "| macro av. f1        | 0.550464 |\n",
      "Evaluating in combined mode on test set\n"
     ]
    },
    {
     "name": "stderr",
     "output_type": "stream",
     "text": [
      "  0%|          | 0/30 [00:00<?, ?it/s]"
     ]
    },
    {
     "name": "stdout",
     "output_type": "stream",
     "text": [
      "multilabel-indicator multilabel-indicator\n",
      "float64 float32\n",
      "(250, 2) (250, 2)\n",
      "|                     |        0 |\n",
      "|:--------------------|---------:|\n",
      "| hamming loss        | 0.496    |\n",
      "| zero_one_loss       | 0.816    |\n",
      "| one_error           | 0.176    |\n",
      "| micro av. jaccard   | 0.398058 |\n",
      "| macro av. jaccard   | 0.389962 |\n",
      "| micro av. precision | 0.51735  |\n",
      "| macro av. precision | 0.527487 |\n",
      "| micro av. recall    | 0.633205 |\n",
      "| macro av. recall    | 0.642726 |\n",
      "| micro av. f1        | 0.569444 |\n",
      "| macro av. f1        | 0.550464 |\n",
      "Training and Evaluating on task 2\n",
      "Train data shape is  (40, 21)\n",
      "Train Labels shape is  (40, 2)\n",
      "Classes trained are: 2 to 4\n",
      "Samples with all negative labels 0\n",
      "Augmenting class labels...\n",
      "Train Labels shape is  (40, 4)\n",
      "Output dimensions: 4\n",
      "growing model size ...\n"
     ]
    },
    {
     "name": "stderr",
     "output_type": "stream",
     "text": [
      "100%|██████████| 30/30 [00:03<00:00,  7.72it/s]\n"
     ]
    },
    {
     "name": "stdout",
     "output_type": "stream",
     "text": [
      "Evaluating in individual mode on test set\n",
      "multilabel-indicator multilabel-indicator\n",
      "float64 float32\n",
      "(250, 2) (250, 2)\n",
      "|                     |        0 |\n",
      "|:--------------------|---------:|\n",
      "| hamming loss        | 0.858    |\n",
      "| zero_one_loss       | 0.948    |\n",
      "| one_error           | 0.768    |\n",
      "| micro av. jaccard   | 0.142    |\n",
      "| macro av. jaccard   | 0.142    |\n",
      "| micro av. precision | 0.142    |\n",
      "| macro av. precision | 0.142    |\n",
      "| micro av. recall    | 1        |\n",
      "| macro av. recall    | 1        |\n",
      "| micro av. f1        | 0.248687 |\n",
      "| macro av. f1        | 0.246745 |\n",
      "Evaluating in combined mode on test set\n"
     ]
    },
    {
     "name": "stderr",
     "output_type": "stream",
     "text": [
      "  0%|          | 0/30 [00:00<?, ?it/s]"
     ]
    },
    {
     "name": "stdout",
     "output_type": "stream",
     "text": [
      "multilabel-indicator multilabel-indicator\n",
      "float64 float32\n",
      "(250, 4) (250, 4)\n",
      "|                     |        0 |\n",
      "|:--------------------|---------:|\n",
      "| hamming loss        | 0.67     |\n",
      "| zero_one_loss       | 0.976    |\n",
      "| one_error           | 0.088    |\n",
      "| micro av. jaccard   | 0.33     |\n",
      "| macro av. jaccard   | 0.33     |\n",
      "| micro av. precision | 0.33     |\n",
      "| macro av. precision | 0.33     |\n",
      "| micro av. recall    | 1        |\n",
      "| macro av. recall    | 1        |\n",
      "| micro av. f1        | 0.496241 |\n",
      "| macro av. f1        | 0.452252 |\n",
      "Training and Evaluating on task 3\n",
      "Train data shape is  (40, 21)\n",
      "Train Labels shape is  (40, 2)\n",
      "Classes trained are: 4 to 6\n",
      "Samples with all negative labels 0\n",
      "Augmenting class labels...\n",
      "Train Labels shape is  (40, 6)\n",
      "Output dimensions: 6\n",
      "growing model size ...\n"
     ]
    },
    {
     "name": "stderr",
     "output_type": "stream",
     "text": [
      "100%|██████████| 30/30 [00:04<00:00,  7.31it/s]\n"
     ]
    },
    {
     "name": "stdout",
     "output_type": "stream",
     "text": [
      "Evaluating in individual mode on test set\n",
      "multilabel-indicator multilabel-indicator\n",
      "float64 float32\n",
      "(250, 2) (250, 2)\n",
      "|                     |         0 |\n",
      "|:--------------------|----------:|\n",
      "| hamming loss        | 0.878     |\n",
      "| zero_one_loss       | 0.98      |\n",
      "| one_error           | 0.776     |\n",
      "| micro av. jaccard   | 0.0619658 |\n",
      "| macro av. jaccard   | 0.063578  |\n",
      "| micro av. precision | 0.0623656 |\n",
      "| macro av. precision | 0.064186  |\n",
      "| micro av. recall    | 0.90625   |\n",
      "| macro av. recall    | 0.931818  |\n",
      "| micro av. f1        | 0.1167    |\n",
      "| macro av. f1        | 0.11863   |\n",
      "Evaluating in combined mode on test set\n"
     ]
    }
   ],
   "source": [
    "hparams['continual_mode']['name'] = 'EWC'\n",
    "expt = ContinualExperiment(hparams)\n",
    "expt.run()"
   ]
  },
  {
   "cell_type": "markdown",
   "metadata": {},
   "source": [
    "## SI"
   ]
  },
  {
   "cell_type": "code",
   "execution_count": null,
   "metadata": {},
   "outputs": [],
   "source": [
    "hparams['continual_mode']['name'] = 'SI'\n",
    "expt = ContinualExperiment(hparams)\n",
    "expt.run()"
   ]
  },
  {
   "cell_type": "markdown",
   "metadata": {},
   "source": [
    "## LwF"
   ]
  },
  {
   "cell_type": "code",
   "execution_count": null,
   "metadata": {},
   "outputs": [],
   "source": [
    "hparams['continual_mode']['name'] = 'LwF'\n",
    "expt = ContinualExperiment(hparams)\n",
    "expt.run()"
   ]
  }
 ],
 "metadata": {
  "kernelspec": {
   "display_name": "DL_gpu",
   "language": "python",
   "name": "dl_gpu"
  },
  "language_info": {
   "codemirror_mode": {
    "name": "ipython",
    "version": 3
   },
   "file_extension": ".py",
   "mimetype": "text/x-python",
   "name": "python",
   "nbconvert_exporter": "python",
   "pygments_lexer": "ipython3",
   "version": "3.7.7"
  }
 },
 "nbformat": 4,
 "nbformat_minor": 4
}
