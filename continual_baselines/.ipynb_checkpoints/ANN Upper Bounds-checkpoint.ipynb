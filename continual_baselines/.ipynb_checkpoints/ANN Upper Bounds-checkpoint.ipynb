{
 "cells": [
  {
   "cell_type": "code",
   "execution_count": 1,
   "metadata": {},
   "outputs": [],
   "source": [
    "from experiments import *"
   ]
  },
  {
   "cell_type": "markdown",
   "metadata": {},
   "source": [
    "## Common Hyperparameters"
   ]
  },
  {
   "cell_type": "code",
   "execution_count": 2,
   "metadata": {},
   "outputs": [],
   "source": [
    "hparams = {}\n",
    "hparams['hidden_dim'] = 10 #20\n",
    "hparams['device'] = torch.device(\"cuda\" if torch.cuda.is_available() else \"cpu\")\n",
    "hparams['batch_size'] = 8\n",
    "hparams['lr'] = 1e-1 #1e-3\n",
    "hparams['epochs'] = 30 #50\n",
    "hparams['loss_type'] = 'asy'\n",
    "hparams['seed'] = 5\n",
    "hparams['ckpt_dir'] = './checkpoints'"
   ]
  },
  {
   "cell_type": "markdown",
   "metadata": {},
   "source": [
    "## Emotions Dataset"
   ]
  },
  {
   "cell_type": "code",
   "execution_count": 3,
   "metadata": {},
   "outputs": [
    {
     "name": "stdout",
     "output_type": "stream",
     "text": [
      "###################### Running on emotions dataset ####################\n"
     ]
    },
    {
     "name": "stderr",
     "output_type": "stream",
     "text": [
      "  0%|          | 0/30 [00:00<?, ?it/s]"
     ]
    },
    {
     "name": "stdout",
     "output_type": "stream",
     "text": [
      "(391, 72)\n",
      "(202, 72)\n",
      "(391, 6)\n",
      "(202, 6)\n"
     ]
    },
    {
     "name": "stderr",
     "output_type": "stream",
     "text": [
      "100%|██████████| 30/30 [00:05<00:00,  5.88it/s]\n"
     ]
    },
    {
     "name": "stdout",
     "output_type": "stream",
     "text": [
      "Evaluating on train set\n",
      "|                     |        0 |\n",
      "|:--------------------|---------:|\n",
      "| hamming loss        | 0.697783 |\n",
      "| zero_one_loss       | 1        |\n",
      "| one_error           | 0        |\n",
      "| micro av. jaccard   | 0.302217 |\n",
      "| macro av. jaccard   | 0.302217 |\n",
      "| micro av. precision | 0.302217 |\n",
      "| macro av. precision | 0.302217 |\n",
      "| micro av. recall    | 1        |\n",
      "| macro av. recall    | 1        |\n",
      "| micro av. f1        | 0.464157 |\n",
      "| macro av. f1        | 0.460192 |\n",
      "Evaluating on test set\n",
      "|                     |        0 |\n",
      "|:--------------------|---------:|\n",
      "| hamming loss        | 0.670792 |\n",
      "| zero_one_loss       | 1        |\n",
      "| one_error           | 0        |\n",
      "| micro av. jaccard   | 0.329208 |\n",
      "| macro av. jaccard   | 0.329208 |\n",
      "| micro av. precision | 0.329208 |\n",
      "| macro av. precision | 0.329208 |\n",
      "| micro av. recall    | 1        |\n",
      "| macro av. recall    | 1        |\n",
      "| micro av. f1        | 0.495345 |\n",
      "| macro av. f1        | 0.491241 |\n",
      "Evaluating on combined set\n",
      "|                     |        0 |\n",
      "|:--------------------|---------:|\n",
      "| hamming loss        | 0.688589 |\n",
      "| zero_one_loss       | 1        |\n",
      "| one_error           | 0        |\n",
      "| micro av. jaccard   | 0.311411 |\n",
      "| macro av. jaccard   | 0.311411 |\n",
      "| micro av. precision | 0.311411 |\n",
      "| macro av. precision | 0.311411 |\n",
      "| micro av. recall    | 1        |\n",
      "| macro av. recall    | 1        |\n",
      "| micro av. f1        | 0.474925 |\n",
      "| macro av. f1        | 0.471596 |\n",
      "File saved to ./checkpoints/emotions_5_upperbound_asy.pkl\n"
     ]
    }
   ],
   "source": [
    "hparams['name'] = 'emotions'\n",
    "hparams['trainpath'] = '../../datasets/emotions/emotions-train.arff'\n",
    "hparams['testpath'] = '../../datasets/emotions/emotions-test.arff' \n",
    "hparams['num_features'] = 72\n",
    "hparams['input_dim'] = 72\n",
    "hparams['out_dim'] = 6\n",
    "experiment = ANNUpperBoundExperiment(hparams)\n",
    "experiment.run()"
   ]
  },
  {
   "cell_type": "markdown",
   "metadata": {},
   "source": [
    "## Flags Dataset"
   ]
  },
  {
   "cell_type": "code",
   "execution_count": 4,
   "metadata": {},
   "outputs": [
    {
     "name": "stderr",
     "output_type": "stream",
     "text": [
      " 10%|█         | 3/30 [00:00<00:01, 20.42it/s]"
     ]
    },
    {
     "name": "stdout",
     "output_type": "stream",
     "text": [
      "###################### Running on Flags dataset ####################\n",
      "(129, 19)\n",
      "(65, 19)\n",
      "(129, 7)\n",
      "(65, 7)\n"
     ]
    },
    {
     "name": "stderr",
     "output_type": "stream",
     "text": [
      "100%|██████████| 30/30 [00:01<00:00, 20.22it/s]\n"
     ]
    },
    {
     "name": "stdout",
     "output_type": "stream",
     "text": [
      "Evaluating on train set\n",
      "|                     |        0 |\n",
      "|:--------------------|---------:|\n",
      "| hamming loss        | 0.511628 |\n",
      "| zero_one_loss       | 0.984496 |\n",
      "| one_error           | 0        |\n",
      "| micro av. jaccard   | 0.488372 |\n",
      "| macro av. jaccard   | 0.488372 |\n",
      "| micro av. precision | 0.488372 |\n",
      "| macro av. precision | 0.488372 |\n",
      "| micro av. recall    | 1        |\n",
      "| macro av. recall    | 1        |\n",
      "| micro av. f1        | 0.65625  |\n",
      "| macro av. f1        | 0.625588 |\n",
      "Evaluating on test set\n",
      "|                     |        0 |\n",
      "|:--------------------|---------:|\n",
      "| hamming loss        | 0.523077 |\n",
      "| zero_one_loss       | 1        |\n",
      "| one_error           | 0        |\n",
      "| micro av. jaccard   | 0.476923 |\n",
      "| macro av. jaccard   | 0.476923 |\n",
      "| micro av. precision | 0.476923 |\n",
      "| macro av. precision | 0.476923 |\n",
      "| micro av. recall    | 1        |\n",
      "| macro av. recall    | 1        |\n",
      "| micro av. f1        | 0.645833 |\n",
      "| macro av. f1        | 0.612622 |\n",
      "Evaluating on combined set\n",
      "|                     |        0 |\n",
      "|:--------------------|---------:|\n",
      "| hamming loss        | 0.515464 |\n",
      "| zero_one_loss       | 0.989691 |\n",
      "| one_error           | 0        |\n",
      "| micro av. jaccard   | 0.484536 |\n",
      "| macro av. jaccard   | 0.484536 |\n",
      "| micro av. precision | 0.484536 |\n",
      "| macro av. precision | 0.484536 |\n",
      "| micro av. recall    | 1        |\n",
      "| macro av. recall    | 1        |\n",
      "| micro av. f1        | 0.652778 |\n",
      "| macro av. f1        | 0.621822 |\n",
      "File saved to ./checkpoints/Flags_5_upperbound_asy.pkl\n"
     ]
    }
   ],
   "source": [
    "hparams['name'] = 'Flags'\n",
    "hparams['trainpath'] = '../../datasets/flags/flags-train.arff'\n",
    "hparams['testpath'] = '../../datasets/flags/flags-test.arff' \n",
    "hparams['num_features'] = 19\n",
    "hparams['input_dim'] = 19\n",
    "hparams['out_dim'] = 7\n",
    "experiment = ANNUpperBoundExperiment(hparams)\n",
    "experiment.run()"
   ]
  },
  {
   "cell_type": "markdown",
   "metadata": {},
   "source": [
    "## FoodTruck Dataset"
   ]
  },
  {
   "cell_type": "code",
   "execution_count": 5,
   "metadata": {},
   "outputs": [
    {
     "name": "stderr",
     "output_type": "stream",
     "text": [
      "  0%|          | 0/30 [00:00<?, ?it/s]"
     ]
    },
    {
     "name": "stdout",
     "output_type": "stream",
     "text": [
      "###################### Running on FoodTruck dataset ####################\n",
      "(250, 21)\n",
      "(250, 21)\n",
      "(250, 12)\n",
      "(250, 12)\n"
     ]
    },
    {
     "name": "stderr",
     "output_type": "stream",
     "text": [
      "100%|██████████| 30/30 [00:02<00:00, 10.36it/s]\n"
     ]
    },
    {
     "name": "stdout",
     "output_type": "stream",
     "text": [
      "Evaluating on train set\n",
      "|                     |        0 |\n",
      "|:--------------------|---------:|\n",
      "| hamming loss        | 0.812    |\n",
      "| zero_one_loss       | 1        |\n",
      "| one_error           | 0        |\n",
      "| micro av. jaccard   | 0.188    |\n",
      "| macro av. jaccard   | 0.188    |\n",
      "| micro av. precision | 0.188    |\n",
      "| macro av. precision | 0.188    |\n",
      "| micro av. recall    | 1        |\n",
      "| macro av. recall    | 1        |\n",
      "| micro av. f1        | 0.316498 |\n",
      "| macro av. f1        | 0.281838 |\n",
      "Evaluating on test set\n",
      "|                     |        0 |\n",
      "|:--------------------|---------:|\n",
      "| hamming loss        | 0.812    |\n",
      "| zero_one_loss       | 1        |\n",
      "| one_error           | 0        |\n",
      "| micro av. jaccard   | 0.188    |\n",
      "| macro av. jaccard   | 0.188    |\n",
      "| micro av. precision | 0.188    |\n",
      "| macro av. precision | 0.188    |\n",
      "| micro av. recall    | 1        |\n",
      "| macro av. recall    | 1        |\n",
      "| micro av. f1        | 0.316498 |\n",
      "| macro av. f1        | 0.281838 |\n",
      "Evaluating on combined set\n",
      "|                     |        0 |\n",
      "|:--------------------|---------:|\n",
      "| hamming loss        | 0.812    |\n",
      "| zero_one_loss       | 1        |\n",
      "| one_error           | 0        |\n",
      "| micro av. jaccard   | 0.188    |\n",
      "| macro av. jaccard   | 0.188    |\n",
      "| micro av. precision | 0.188    |\n",
      "| macro av. precision | 0.188    |\n",
      "| micro av. recall    | 1        |\n",
      "| macro av. recall    | 1        |\n",
      "| micro av. f1        | 0.316498 |\n",
      "| macro av. f1        | 0.281838 |\n",
      "File saved to ./checkpoints/FoodTruck_5_upperbound_asy.pkl\n"
     ]
    }
   ],
   "source": [
    "hparams['name'] = 'FoodTruck'\n",
    "hparams['trainpath'] = '../../datasets/foodtruck/foodtruck-rand-hout-tra.arff'\n",
    "hparams['testpath'] = '../../datasets/foodtruck/foodtruck-rand-hout-tst.arff' \n",
    "hparams['num_features'] = 21\n",
    "hparams['input_dim'] = 21\n",
    "hparams['out_dim'] = 12\n",
    "experiment = ANNUpperBoundExperiment(hparams)\n",
    "experiment.run()"
   ]
  },
  {
   "cell_type": "markdown",
   "metadata": {},
   "source": [
    "## GPositive Dataset"
   ]
  },
  {
   "cell_type": "code",
   "execution_count": 6,
   "metadata": {},
   "outputs": [
    {
     "name": "stdout",
     "output_type": "stream",
     "text": [
      "###################### Running on GPositive dataset ####################\n"
     ]
    },
    {
     "name": "stderr",
     "output_type": "stream",
     "text": [
      "  3%|▎         | 1/30 [00:00<00:03,  8.50it/s]"
     ]
    },
    {
     "name": "stdout",
     "output_type": "stream",
     "text": [
      "(311, 440)\n",
      "(208, 440)\n",
      "(311, 4)\n",
      "(208, 4)\n"
     ]
    },
    {
     "name": "stderr",
     "output_type": "stream",
     "text": [
      "100%|██████████| 30/30 [00:03<00:00,  8.32it/s]\n"
     ]
    },
    {
     "name": "stdout",
     "output_type": "stream",
     "text": [
      "Evaluating on train set\n",
      "|                     |         0 |\n",
      "|:--------------------|----------:|\n",
      "| hamming loss        | 0.335209  |\n",
      "| zero_one_loss       | 0.66881   |\n",
      "| one_error           | 0         |\n",
      "| micro av. jaccard   | 0.199616  |\n",
      "| macro av. jaccard   | 0.0836013 |\n",
      "| micro av. precision | 0.334405  |\n",
      "| macro av. precision | 0.0836013 |\n",
      "| micro av. recall    | 0.33121   |\n",
      "| macro av. recall    | 0.25      |\n",
      "| micro av. f1        | 0.3328    |\n",
      "| macro av. f1        | 0.125301  |\n",
      "Evaluating on test set\n",
      "|                     |         0 |\n",
      "|:--------------------|----------:|\n",
      "| hamming loss        | 0.332933  |\n",
      "| zero_one_loss       | 0.668269  |\n",
      "| one_error           | 0         |\n",
      "| micro av. jaccard   | 0.201729  |\n",
      "| macro av. jaccard   | 0.0841346 |\n",
      "| micro av. precision | 0.336538  |\n",
      "| macro av. precision | 0.0841346 |\n",
      "| micro av. recall    | 0.334928  |\n",
      "| macro av. recall    | 0.25      |\n",
      "| micro av. f1        | 0.335731  |\n",
      "| macro av. f1        | 0.125899  |\n",
      "Evaluating on combined set\n",
      "|                     |        0 |\n",
      "|:--------------------|---------:|\n",
      "| hamming loss        | 0.334297 |\n",
      "| zero_one_loss       | 0.668593 |\n",
      "| one_error           | 0        |\n",
      "| micro av. jaccard   | 0.200461 |\n",
      "| macro av. jaccard   | 0.083815 |\n",
      "| micro av. precision | 0.33526  |\n",
      "| macro av. precision | 0.083815 |\n",
      "| micro av. recall    | 0.332696 |\n",
      "| macro av. recall    | 0.25     |\n",
      "| micro av. f1        | 0.333973 |\n",
      "| macro av. f1        | 0.125541 |\n",
      "File saved to ./checkpoints/GPositive_5_upperbound_asy.pkl\n"
     ]
    }
   ],
   "source": [
    "hparams['name'] = 'GPositive'\n",
    "hparams['trainpath'] = '../../datasets/GpositivePseAAC/Gram_positivePseAAC519-train.mat'\n",
    "hparams['testpath'] = '../../datasets/GpositivePseAAC/Gram_positivePseAAC519-test.mat' \n",
    "hparams['num_features'] = 440\n",
    "hparams['input_dim'] = 440\n",
    "hparams['out_dim'] = 4\n",
    "experiment = ANNUpperBoundExperiment(hparams)\n",
    "experiment.run()"
   ]
  },
  {
   "cell_type": "markdown",
   "metadata": {},
   "source": [
    "## GNegative Dataset"
   ]
  },
  {
   "cell_type": "code",
   "execution_count": 7,
   "metadata": {},
   "outputs": [
    {
     "name": "stderr",
     "output_type": "stream",
     "text": [
      "  0%|          | 0/30 [00:00<?, ?it/s]"
     ]
    },
    {
     "name": "stdout",
     "output_type": "stream",
     "text": [
      "###################### Running on GNegative dataset ####################\n",
      "(836, 440)\n",
      "(556, 440)\n",
      "(836, 8)\n",
      "(556, 8)\n"
     ]
    },
    {
     "name": "stderr",
     "output_type": "stream",
     "text": [
      "100%|██████████| 30/30 [00:09<00:00,  3.11it/s]\n"
     ]
    },
    {
     "name": "stdout",
     "output_type": "stream",
     "text": [
      "Evaluating on train set\n",
      "|                     |         0 |\n",
      "|:--------------------|----------:|\n",
      "| hamming loss        | 0.155054  |\n",
      "| zero_one_loss       | 0.614833  |\n",
      "| one_error           | 0         |\n",
      "| micro av. jaccard   | 0.243618  |\n",
      "| macro av. jaccard   | 0.0499402 |\n",
      "| micro av. precision | 0.399522  |\n",
      "| macro av. precision | 0.0499402 |\n",
      "| micro av. recall    | 0.38435   |\n",
      "| macro av. recall    | 0.125     |\n",
      "| micro av. f1        | 0.391789  |\n",
      "| macro av. f1        | 0.0713675 |\n",
      "Evaluating on test set\n",
      "|                     |         0 |\n",
      "|:--------------------|----------:|\n",
      "| hamming loss        | 0.1567    |\n",
      "| zero_one_loss       | 0.620504  |\n",
      "| one_error           | 0         |\n",
      "| micro av. jaccard   | 0.242391  |\n",
      "| macro av. jaccard   | 0.0501349 |\n",
      "| micro av. precision | 0.401079  |\n",
      "| macro av. precision | 0.0501349 |\n",
      "| micro av. recall    | 0.379898  |\n",
      "| macro av. recall    | 0.125     |\n",
      "| micro av. f1        | 0.390201  |\n",
      "| macro av. f1        | 0.0715661 |\n",
      "Evaluating on combined set\n",
      "|                     |         0 |\n",
      "|:--------------------|----------:|\n",
      "| hamming loss        | 0.155711  |\n",
      "| zero_one_loss       | 0.617098  |\n",
      "| one_error           | 0         |\n",
      "| micro av. jaccard   | 0.243125  |\n",
      "| macro av. jaccard   | 0.050018  |\n",
      "| micro av. precision | 0.400144  |\n",
      "| macro av. precision | 0.050018  |\n",
      "| micro av. recall    | 0.382555  |\n",
      "| macro av. recall    | 0.125     |\n",
      "| micro av. f1        | 0.391152  |\n",
      "| macro av. f1        | 0.0714469 |\n",
      "File saved to ./checkpoints/GNegative_5_upperbound_asy.pkl\n"
     ]
    }
   ],
   "source": [
    "hparams['name'] = 'GNegative'\n",
    "hparams['trainpath'] = '../../datasets/GnegativePseAAC/Gram_negativePseAAC1392-train.mat'\n",
    "hparams['testpath'] = '../../datasets/GnegativePseAAC/Gram_negativePseAAC1392-test.mat' \n",
    "hparams['num_features'] = 440\n",
    "hparams['input_dim'] = 440\n",
    "hparams['out_dim'] = 8\n",
    "experiment = ANNUpperBoundExperiment(hparams)\n",
    "experiment.run()"
   ]
  },
  {
   "cell_type": "markdown",
   "metadata": {},
   "source": [
    "## Scene Dataset"
   ]
  },
  {
   "cell_type": "code",
   "execution_count": 8,
   "metadata": {},
   "outputs": [
    {
     "name": "stdout",
     "output_type": "stream",
     "text": [
      "###################### Running on Scene dataset ####################\n"
     ]
    },
    {
     "name": "stderr",
     "output_type": "stream",
     "text": [
      "  0%|          | 0/30 [00:00<?, ?it/s]"
     ]
    },
    {
     "name": "stdout",
     "output_type": "stream",
     "text": [
      "(1211, 294)\n",
      "(1196, 294)\n",
      "(1211, 6)\n",
      "(1196, 6)\n"
     ]
    },
    {
     "name": "stderr",
     "output_type": "stream",
     "text": [
      "100%|██████████| 30/30 [00:13<00:00,  2.21it/s]\n"
     ]
    },
    {
     "name": "stdout",
     "output_type": "stream",
     "text": [
      "Evaluating on train set\n",
      "|                     |         0 |\n",
      "|:--------------------|----------:|\n",
      "| hamming loss        | 0.281998  |\n",
      "| zero_one_loss       | 0.82659   |\n",
      "| one_error           | 0         |\n",
      "| micro av. jaccard   | 0.0985482 |\n",
      "| macro av. jaccard   | 0.0308285 |\n",
      "| micro av. precision | 0.184971  |\n",
      "| macro av. precision | 0.0308285 |\n",
      "| micro av. recall    | 0.174184  |\n",
      "| macro av. recall    | 0.166667  |\n",
      "| micro av. f1        | 0.179415  |\n",
      "| macro av. f1        | 0.0520325 |\n",
      "Evaluating on test set\n",
      "|                     |         0 |\n",
      "|:--------------------|----------:|\n",
      "| hamming loss        | 0.289994  |\n",
      "| zero_one_loss       | 0.836957  |\n",
      "| one_error           | 0         |\n",
      "| micro av. jaccard   | 0.090472  |\n",
      "| macro av. jaccard   | 0.0288462 |\n",
      "| micro av. precision | 0.173077  |\n",
      "| macro av. precision | 0.0288462 |\n",
      "| micro av. recall    | 0.159353  |\n",
      "| macro av. recall    | 0.166667  |\n",
      "| micro av. f1        | 0.165932  |\n",
      "| macro av. f1        | 0.0491803 |\n",
      "Evaluating on combined set\n",
      "|                     |         0 |\n",
      "|:--------------------|----------:|\n",
      "| hamming loss        | 0.285971  |\n",
      "| zero_one_loss       | 0.831741  |\n",
      "| one_error           | 0         |\n",
      "| micro av. jaccard   | 0.0944968 |\n",
      "| macro av. jaccard   | 0.0298435 |\n",
      "| micro av. precision | 0.179061  |\n",
      "| macro av. precision | 0.0298435 |\n",
      "| micro av. recall    | 0.166731  |\n",
      "| macro av. recall    | 0.166667  |\n",
      "| micro av. f1        | 0.172676  |\n",
      "| macro av. f1        | 0.0506225 |\n",
      "File saved to ./checkpoints/Scene_5_upperbound_asy.pkl\n"
     ]
    }
   ],
   "source": [
    "hparams['name'] = 'Scene'\n",
    "hparams['trainpath'] = '../../datasets/scene/scene-train.arff'\n",
    "hparams['testpath'] = '../../datasets/scene/scene-test.arff' \n",
    "hparams['num_features'] = 294\n",
    "hparams['input_dim'] = 294\n",
    "hparams['out_dim'] = 6\n",
    "experiment = ANNUpperBoundExperiment(hparams)\n",
    "experiment.run()"
   ]
  },
  {
   "cell_type": "markdown",
   "metadata": {},
   "source": [
    "## Virus Dataset"
   ]
  },
  {
   "cell_type": "code",
   "execution_count": 9,
   "metadata": {},
   "outputs": [
    {
     "name": "stderr",
     "output_type": "stream",
     "text": [
      " 10%|█         | 3/30 [00:00<00:01, 21.31it/s]"
     ]
    },
    {
     "name": "stdout",
     "output_type": "stream",
     "text": [
      "###################### Running on Virus dataset ####################\n",
      "(124, 440)\n",
      "(83, 440)\n",
      "(124, 6)\n",
      "(83, 6)\n"
     ]
    },
    {
     "name": "stderr",
     "output_type": "stream",
     "text": [
      "100%|██████████| 30/30 [00:01<00:00, 20.47it/s]\n"
     ]
    },
    {
     "name": "stdout",
     "output_type": "stream",
     "text": [
      "Evaluating on train set\n",
      "|                     |        0 |\n",
      "|:--------------------|---------:|\n",
      "| hamming loss        | 0.794355 |\n",
      "| zero_one_loss       | 1        |\n",
      "| one_error           | 0        |\n",
      "| micro av. jaccard   | 0.205645 |\n",
      "| macro av. jaccard   | 0.205645 |\n",
      "| micro av. precision | 0.205645 |\n",
      "| macro av. precision | 0.205645 |\n",
      "| micro av. recall    | 1        |\n",
      "| macro av. recall    | 1        |\n",
      "| micro av. f1        | 0.341137 |\n",
      "| macro av. f1        | 0.314961 |\n",
      "Evaluating on test set\n",
      "|                     |        0 |\n",
      "|:--------------------|---------:|\n",
      "| hamming loss        | 0.801205 |\n",
      "| zero_one_loss       | 1        |\n",
      "| one_error           | 0        |\n",
      "| micro av. jaccard   | 0.198795 |\n",
      "| macro av. jaccard   | 0.198795 |\n",
      "| micro av. precision | 0.198795 |\n",
      "| macro av. precision | 0.198795 |\n",
      "| micro av. recall    | 1        |\n",
      "| macro av. recall    | 1        |\n",
      "| micro av. f1        | 0.331658 |\n",
      "| macro av. f1        | 0.306995 |\n",
      "Evaluating on combined set\n",
      "|                     |        0 |\n",
      "|:--------------------|---------:|\n",
      "| hamming loss        | 0.797101 |\n",
      "| zero_one_loss       | 1        |\n",
      "| one_error           | 0        |\n",
      "| micro av. jaccard   | 0.202899 |\n",
      "| macro av. jaccard   | 0.202899 |\n",
      "| micro av. precision | 0.202899 |\n",
      "| macro av. precision | 0.202899 |\n",
      "| micro av. recall    | 1        |\n",
      "| macro av. recall    | 1        |\n",
      "| micro av. f1        | 0.337349 |\n",
      "| macro av. f1        | 0.311833 |\n",
      "File saved to ./checkpoints/Virus_5_upperbound_asy.pkl\n"
     ]
    }
   ],
   "source": [
    "hparams['name'] = 'Virus'\n",
    "hparams['trainpath'] = '../../datasets/VirusPseAAC/VirusPseAAC207-train.mat'\n",
    "hparams['testpath'] = '../../datasets/VirusPseAAC/VirusPseAAC207-test.mat' \n",
    "hparams['num_features'] = 440\n",
    "hparams['input_dim'] = 440\n",
    "hparams['out_dim'] = 6\n",
    "experiment = ANNUpperBoundExperiment(hparams)\n",
    "experiment.run()"
   ]
  },
  {
   "cell_type": "markdown",
   "metadata": {},
   "source": [
    "## Plants Dataset"
   ]
  },
  {
   "cell_type": "code",
   "execution_count": 10,
   "metadata": {},
   "outputs": [
    {
     "name": "stderr",
     "output_type": "stream",
     "text": [
      "  0%|          | 0/30 [00:00<?, ?it/s]"
     ]
    },
    {
     "name": "stdout",
     "output_type": "stream",
     "text": [
      "###################### Running on Plant dataset ####################\n",
      "(588, 440)\n",
      "(390, 440)\n",
      "(588, 12)\n",
      "(390, 12)\n"
     ]
    },
    {
     "name": "stderr",
     "output_type": "stream",
     "text": [
      "100%|██████████| 30/30 [00:06<00:00,  4.40it/s]\n"
     ]
    },
    {
     "name": "stdout",
     "output_type": "stream",
     "text": [
      "Evaluating on train set\n",
      "|                     |         0 |\n",
      "|:--------------------|----------:|\n",
      "| hamming loss        | 0.67106   |\n",
      "| zero_one_loss       | 1         |\n",
      "| one_error           | 0         |\n",
      "| micro av. jaccard   | 0.0607022 |\n",
      "| macro av. jaccard   | 0.0433673 |\n",
      "| micro av. precision | 0.065051  |\n",
      "| macro av. precision | 0.0433673 |\n",
      "| micro av. recall    | 0.475894  |\n",
      "| macro av. recall    | 0.666667  |\n",
      "| micro av. f1        | 0.114457  |\n",
      "| macro av. f1        | 0.0782579 |\n",
      "Evaluating on test set\n",
      "|                     |         0 |\n",
      "|:--------------------|----------:|\n",
      "| hamming loss        | 0.672222  |\n",
      "| zero_one_loss       | 1         |\n",
      "| one_error           | 0         |\n",
      "| micro av. jaccard   | 0.0578017 |\n",
      "| macro av. jaccard   | 0.0412393 |\n",
      "| micro av. precision | 0.061859  |\n",
      "| macro av. precision | 0.0412393 |\n",
      "| micro av. recall    | 0.468447  |\n",
      "| macro av. recall    | 0.666667  |\n",
      "| micro av. f1        | 0.109287  |\n",
      "| macro av. f1        | 0.0748912 |\n",
      "Evaluating on combined set\n",
      "|                     |         0 |\n",
      "|:--------------------|----------:|\n",
      "| hamming loss        | 0.671524  |\n",
      "| zero_one_loss       | 1         |\n",
      "| one_error           | 0         |\n",
      "| micro av. jaccard   | 0.0595465 |\n",
      "| macro av. jaccard   | 0.0425187 |\n",
      "| micro av. precision | 0.0637781 |\n",
      "| macro av. precision | 0.0425187 |\n",
      "| micro av. recall    | 0.472986  |\n",
      "| macro av. recall    | 0.666667  |\n",
      "| micro av. f1        | 0.1124    |\n",
      "| macro av. f1        | 0.076924  |\n",
      "File saved to ./checkpoints/Plant_5_upperbound_asy.pkl\n"
     ]
    }
   ],
   "source": [
    "hparams['name'] = 'Plant'\n",
    "hparams['trainpath'] = '../../datasets/PlantPseAAC/PlantPseAAC978-train.mat'\n",
    "hparams['testpath'] = '../../datasets/PlantPseAAC/PlantPseAAC978-test.mat' \n",
    "hparams['num_features'] = 440\n",
    "hparams['input_dim'] = 440\n",
    "hparams['out_dim'] = 12\n",
    "experiment = ANNUpperBoundExperiment(hparams)\n",
    "experiment.run()"
   ]
  },
  {
   "cell_type": "markdown",
   "metadata": {},
   "source": [
    "## Yeast Dataset"
   ]
  },
  {
   "cell_type": "code",
   "execution_count": 11,
   "metadata": {},
   "outputs": [
    {
     "name": "stdout",
     "output_type": "stream",
     "text": [
      "###################### Running on Yeast dataset ####################\n"
     ]
    },
    {
     "name": "stderr",
     "output_type": "stream",
     "text": [
      "  0%|          | 0/30 [00:00<?, ?it/s]"
     ]
    },
    {
     "name": "stdout",
     "output_type": "stream",
     "text": [
      "(1500, 103)\n",
      "(917, 103)\n",
      "(1500, 13)\n",
      "(917, 13)\n"
     ]
    },
    {
     "name": "stderr",
     "output_type": "stream",
     "text": [
      "100%|██████████| 30/30 [00:16<00:00,  1.80it/s]\n"
     ]
    },
    {
     "name": "stdout",
     "output_type": "stream",
     "text": [
      "Evaluating on train set\n",
      "|                     |        0 |\n",
      "|:--------------------|---------:|\n",
      "| hamming loss        | 0.675846 |\n",
      "| zero_one_loss       | 1        |\n",
      "| one_error           | 0        |\n",
      "| micro av. jaccard   | 0.324154 |\n",
      "| macro av. jaccard   | 0.324154 |\n",
      "| micro av. precision | 0.324154 |\n",
      "| macro av. precision | 0.324154 |\n",
      "| micro av. recall    | 1        |\n",
      "| macro av. recall    | 1        |\n",
      "| micro av. f1        | 0.489601 |\n",
      "| macro av. f1        | 0.454979 |\n",
      "Evaluating on test set\n",
      "|                     |        0 |\n",
      "|:--------------------|---------:|\n",
      "| hamming loss        | 0.674021 |\n",
      "| zero_one_loss       | 1        |\n",
      "| one_error           | 0        |\n",
      "| micro av. jaccard   | 0.325979 |\n",
      "| macro av. jaccard   | 0.325979 |\n",
      "| micro av. precision | 0.325979 |\n",
      "| macro av. precision | 0.325979 |\n",
      "| micro av. recall    | 1        |\n",
      "| macro av. recall    | 1        |\n",
      "| micro av. f1        | 0.491681 |\n",
      "| macro av. f1        | 0.456783 |\n",
      "Evaluating on combined set\n",
      "|                     |        0 |\n",
      "|:--------------------|---------:|\n",
      "| hamming loss        | 0.675154 |\n",
      "| zero_one_loss       | 1        |\n",
      "| one_error           | 0        |\n",
      "| micro av. jaccard   | 0.324846 |\n",
      "| macro av. jaccard   | 0.324846 |\n",
      "| micro av. precision | 0.324846 |\n",
      "| macro av. precision | 0.324846 |\n",
      "| micro av. recall    | 1        |\n",
      "| macro av. recall    | 1        |\n",
      "| micro av. f1        | 0.490391 |\n",
      "| macro av. f1        | 0.455725 |\n",
      "File saved to ./checkpoints/Yeast_5_upperbound_asy.pkl\n"
     ]
    }
   ],
   "source": [
    "hparams['name'] = 'Yeast'\n",
    "hparams['trainpath'] = '../../datasets/yeast/yeast-train.arff'\n",
    "hparams['testpath'] = '../../datasets/yeast/yeast-test.arff' \n",
    "hparams['num_features'] = 103\n",
    "hparams['input_dim'] = 103\n",
    "hparams['out_dim'] = 13\n",
    "experiment = ANNUpperBoundExperiment(hparams)\n",
    "experiment.run()"
   ]
  },
  {
   "cell_type": "markdown",
   "metadata": {},
   "source": [
    "## Birds Dataset"
   ]
  },
  {
   "cell_type": "code",
   "execution_count": 12,
   "metadata": {},
   "outputs": [
    {
     "name": "stderr",
     "output_type": "stream",
     "text": [
      "  3%|▎         | 1/30 [00:00<00:03,  8.23it/s]"
     ]
    },
    {
     "name": "stdout",
     "output_type": "stream",
     "text": [
      "###################### Running on Birds dataset ####################\n",
      "(322, 260)\n",
      "(323, 260)\n",
      "(322, 19)\n",
      "(323, 19)\n"
     ]
    },
    {
     "name": "stderr",
     "output_type": "stream",
     "text": [
      "100%|██████████| 30/30 [00:03<00:00,  8.00it/s]\n"
     ]
    },
    {
     "name": "stdout",
     "output_type": "stream",
     "text": [
      "Evaluating on train set\n",
      "|                     |         0 |\n",
      "|:--------------------|----------:|\n",
      "| hamming loss        | 0.792252  |\n",
      "| zero_one_loss       | 1         |\n",
      "| one_error           | 0         |\n",
      "| micro av. jaccard   | 0.0624758 |\n",
      "| macro av. jaccard   | 0.052795  |\n",
      "| micro av. precision | 0.0626941 |\n",
      "| macro av. precision | 0.052795  |\n",
      "| micro av. recall    | 0.947214  |\n",
      "| macro av. recall    | 0.842105  |\n",
      "| micro av. f1        | 0.117604  |\n",
      "| macro av. f1        | 0.0968178 |\n",
      "Evaluating on test set\n",
      "|                     |         0 |\n",
      "|:--------------------|----------:|\n",
      "| hamming loss        | 0.795014  |\n",
      "| zero_one_loss       | 1         |\n",
      "| one_error           | 0         |\n",
      "| micro av. jaccard   | 0.0581081 |\n",
      "| macro av. jaccard   | 0.0490468 |\n",
      "| micro av. precision | 0.058243  |\n",
      "| macro av. precision | 0.0490468 |\n",
      "| micro av. recall    | 0.961661  |\n",
      "| macro av. recall    | 0.842105  |\n",
      "| micro av. f1        | 0.109834  |\n",
      "| macro av. f1        | 0.0907203 |\n",
      "Evaluating on combined set\n",
      "|                     |         0 |\n",
      "|:--------------------|----------:|\n",
      "| hamming loss        | 0.793635  |\n",
      "| zero_one_loss       | 1         |\n",
      "| one_error           | 0         |\n",
      "| micro av. jaccard   | 0.0602899 |\n",
      "| macro av. jaccard   | 0.050918  |\n",
      "| micro av. precision | 0.0604651 |\n",
      "| macro av. precision | 0.050918  |\n",
      "| micro av. recall    | 0.954128  |\n",
      "| macro av. recall    | 0.842105  |\n",
      "| micro av. f1        | 0.113723  |\n",
      "| macro av. f1        | 0.093925  |\n",
      "File saved to ./checkpoints/Birds_5_upperbound_asy.pkl\n"
     ]
    }
   ],
   "source": [
    "hparams['name'] = 'Birds'\n",
    "hparams['trainpath'] = '../../datasets/birds/birds-train.mat'\n",
    "hparams['testpath'] = '../../datasets/birds/birds-test.mat' \n",
    "hparams['num_features'] = 260\n",
    "hparams['input_dim'] = 260\n",
    "hparams['out_dim'] = 19\n",
    "experiment = ANNUpperBoundExperiment(hparams)\n",
    "experiment.run()"
   ]
  },
  {
   "cell_type": "markdown",
   "metadata": {},
   "source": [
    "## Human Dataset"
   ]
  },
  {
   "cell_type": "code",
   "execution_count": 3,
   "metadata": {},
   "outputs": [
    {
     "name": "stdout",
     "output_type": "stream",
     "text": [
      "###################### Running on Human dataset ####################\n"
     ]
    },
    {
     "name": "stderr",
     "output_type": "stream",
     "text": [
      "  0%|          | 0/30 [00:00<?, ?it/s]"
     ]
    },
    {
     "name": "stdout",
     "output_type": "stream",
     "text": [
      "(1862, 440)\n",
      "(1244, 440)\n",
      "(1862, 11)\n",
      "(1244, 11)\n"
     ]
    },
    {
     "name": "stderr",
     "output_type": "stream",
     "text": [
      "100%|██████████| 30/30 [00:22<00:00,  1.31it/s]\n"
     ]
    },
    {
     "name": "stdout",
     "output_type": "stream",
     "text": [
      "Evaluating on train set\n",
      "|                     |         0 |\n",
      "|:--------------------|----------:|\n",
      "| hamming loss        | 0.264281  |\n",
      "| zero_one_loss       | 1         |\n",
      "| one_error           | 0         |\n",
      "| micro av. jaccard   | 0.042794  |\n",
      "| macro av. jaccard   | 0.0118153 |\n",
      "| micro av. precision | 0.0649839 |\n",
      "| macro av. precision | 0.0118153 |\n",
      "| micro av. recall    | 0.111367  |\n",
      "| macro av. recall    | 0.181818  |\n",
      "| micro av. f1        | 0.0820756 |\n",
      "| macro av. f1        | 0.0214196 |\n",
      "Evaluating on test set\n",
      "|                     |         0 |\n",
      "|:--------------------|----------:|\n",
      "| hamming loss        | 0.263666  |\n",
      "| zero_one_loss       | 1         |\n",
      "| one_error           | 0         |\n",
      "| micro av. jaccard   | 0.0422087 |\n",
      "| macro av. jaccard   | 0.0116194 |\n",
      "| micro av. precision | 0.0639068 |\n",
      "| macro av. precision | 0.0116194 |\n",
      "| micro av. recall    | 0.11057   |\n",
      "| macro av. recall    | 0.181818  |\n",
      "| micro av. f1        | 0.0809985 |\n",
      "| macro av. f1        | 0.0211507 |\n",
      "Evaluating on combined set\n",
      "|                     |         0 |\n",
      "|:--------------------|----------:|\n",
      "| hamming loss        | 0.264034  |\n",
      "| zero_one_loss       | 1         |\n",
      "| one_error           | 0         |\n",
      "| micro av. jaccard   | 0.04256   |\n",
      "| macro av. jaccard   | 0.0117368 |\n",
      "| micro av. precision | 0.0645525 |\n",
      "| macro av. precision | 0.0117368 |\n",
      "| micro av. recall    | 0.11105   |\n",
      "| macro av. recall    | 0.181818  |\n",
      "| micro av. f1        | 0.0816451 |\n",
      "| macro av. f1        | 0.0213125 |\n",
      "File saved to ./checkpoints/Human_2_upperbound_asy.pkl\n"
     ]
    }
   ],
   "source": [
    "hparams['name'] = 'Human'\n",
    "hparams['trainpath'] = '../../datasets/HumanPseAAC/HumanPseAAC3106-train.mat'\n",
    "hparams['testpath'] = '../../datasets/HumanPseAAC/HumanPseAAC3106-test.mat'\n",
    "hparams['num_features'] = 440\n",
    "hparams['input_dim'] = 440\n",
    "hparams['out_dim'] = 11\n",
    "hparams['seed'] = 2\n",
    "experiment = ANNUpperBoundExperiment(hparams)\n",
    "experiment.run()"
   ]
  },
  {
   "cell_type": "markdown",
   "metadata": {},
   "source": [
    "## Eukaryote Dataset"
   ]
  },
  {
   "cell_type": "code",
   "execution_count": 4,
   "metadata": {},
   "outputs": [
    {
     "name": "stderr",
     "output_type": "stream",
     "text": [
      "  0%|          | 0/30 [00:00<?, ?it/s]"
     ]
    },
    {
     "name": "stdout",
     "output_type": "stream",
     "text": [
      "###################### Running on Eukaryote dataset ####################\n",
      "(4658, 440)\n",
      "(3108, 440)\n",
      "(4658, 19)\n",
      "(3108, 19)\n"
     ]
    },
    {
     "name": "stderr",
     "output_type": "stream",
     "text": [
      "100%|██████████| 30/30 [00:55<00:00,  1.86s/it]\n"
     ]
    },
    {
     "name": "stdout",
     "output_type": "stream",
     "text": [
      "Evaluating on train set\n",
      "|                     |          0 |\n",
      "|:--------------------|-----------:|\n",
      "| hamming loss        | 0.214165   |\n",
      "| zero_one_loss       | 1          |\n",
      "| one_error           | 0          |\n",
      "| micro av. jaccard   | 0.00878569 |\n",
      "| macro av. jaccard   | 0.00189826 |\n",
      "| micro av. precision | 0.0120223  |\n",
      "| macro av. precision | 0.00189826 |\n",
      "| micro av. recall    | 0.0316027  |\n",
      "| macro av. recall    | 0.157895   |\n",
      "| micro av. f1        | 0.0174184  |\n",
      "| macro av. f1        | 0.00373587 |\n",
      "Evaluating on test set\n",
      "|                     |          0 |\n",
      "|:--------------------|-----------:|\n",
      "| hamming loss        | 0.213947   |\n",
      "| zero_one_loss       | 1          |\n",
      "| one_error           | 0          |\n",
      "| micro av. jaccard   | 0.00917575 |\n",
      "| macro av. jaccard   | 0.0019813  |\n",
      "| micro av. precision | 0.0125483  |\n",
      "| macro av. precision | 0.0019813  |\n",
      "| micro av. recall    | 0.0330135  |\n",
      "| macro av. recall    | 0.157895   |\n",
      "| micro av. f1        | 0.0181846  |\n",
      "| macro av. f1        | 0.00390027 |\n",
      "Evaluating on combined set\n",
      "|                     |          0 |\n",
      "|:--------------------|-----------:|\n",
      "| hamming loss        | 0.214078   |\n",
      "| zero_one_loss       | 1          |\n",
      "| one_error           | 0          |\n",
      "| micro av. jaccard   | 0.00894174 |\n",
      "| macro av. jaccard   | 0.0019315  |\n",
      "| micro av. precision | 0.0122328  |\n",
      "| macro av. precision | 0.0019315  |\n",
      "| micro av. recall    | 0.032167   |\n",
      "| macro av. recall    | 0.157895   |\n",
      "| micro av. f1        | 0.017725   |\n",
      "| macro av. f1        | 0.0038018  |\n",
      "File saved to ./checkpoints/Eukaryote_2_upperbound_asy.pkl\n"
     ]
    }
   ],
   "source": [
    "hparams['name'] = 'Eukaryote'\n",
    "hparams['trainpath'] = '../../datasets/EukaryotePseAAC/EukaryotePseAAC7766-train.mat'\n",
    "hparams['testpath'] = '../../datasets/EukaryotePseAAC/EukaryotePseAAC7766-test.mat'\n",
    "hparams['num_features'] = 440\n",
    "hparams['input_dim'] = 440\n",
    "hparams['out_dim'] = 19\n",
    "hparams['seed'] = 2\n",
    "experiment = ANNUpperBoundExperiment(hparams)\n",
    "experiment.run()"
   ]
  }
 ],
 "metadata": {
  "kernelspec": {
   "display_name": "DL_gpu",
   "language": "python",
   "name": "dl_gpu"
  },
  "language_info": {
   "codemirror_mode": {
    "name": "ipython",
    "version": 3
   },
   "file_extension": ".py",
   "mimetype": "text/x-python",
   "name": "python",
   "nbconvert_exporter": "python",
   "pygments_lexer": "ipython3",
   "version": "3.7.7"
  }
 },
 "nbformat": 4,
 "nbformat_minor": 4
}
