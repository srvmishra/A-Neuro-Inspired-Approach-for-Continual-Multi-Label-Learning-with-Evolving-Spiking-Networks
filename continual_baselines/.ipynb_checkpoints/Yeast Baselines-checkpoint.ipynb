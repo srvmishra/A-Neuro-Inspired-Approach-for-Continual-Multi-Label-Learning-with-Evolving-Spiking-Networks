{
 "cells": [
  {
   "cell_type": "code",
   "execution_count": 1,
   "metadata": {},
   "outputs": [],
   "source": [
    "from experiments import *"
   ]
  },
  {
   "cell_type": "code",
   "execution_count": 2,
   "metadata": {},
   "outputs": [],
   "source": [
    "hparams = {}\n",
    "hparams['hidden_dim'] = 10 #20\n",
    "hparams['device'] = torch.device(\"cuda:1\" if torch.cuda.is_available() else \"cpu\")\n",
    "hparams['batch_size'] = 8\n",
    "hparams['lr'] = 1e-1 #1e-3\n",
    "hparams['epochs'] = 30 #50\n",
    "hparams['loss_type'] = 'asy'\n",
    "hparams['seed'] = 5\n",
    "hparams['ckpt_dir'] = './checkpoints'\n",
    "hparams['name'] = 'Yeast'\n",
    "hparams['trainpath'] = '../../datasets/yeast/yeast-train.arff'\n",
    "hparams['testpath'] = '../../datasets/yeast/yeast-test.arff' \n",
    "hparams['num_features'] = 103\n",
    "hparams['input_dim'] = 103\n",
    "hparams['tasks'] = {}\n",
    "hparams['tasks']['samples'] = [250, 250, 250, 250, 250, 250]\n",
    "hparams['tasks']['labels'] = [2, 2, 2, 2, 2, 3]\n",
    "hparams['continual_mode'] = {}\n",
    "hparams['continual_mode']['cparams'] = {}\n",
    "hparams['continual_mode']['cparams']['importance'] = 0.1"
   ]
  },
  {
   "cell_type": "markdown",
   "metadata": {},
   "source": [
    "### EWC"
   ]
  },
  {
   "cell_type": "code",
   "execution_count": null,
   "metadata": {},
   "outputs": [
    {
     "name": "stdout",
     "output_type": "stream",
     "text": [
      "Processing Data ...\n",
      "(1500, 103)\n",
      "(917, 103)\n",
      "(1500, 13)\n",
      "(917, 13)\n",
      "Begin training in EWC mode ...\n",
      "Training and Evaluating on task 1\n",
      "Train data shape is  (250, 103)\n",
      "Train Labels shape is  (250, 2)\n",
      "Classes trained are: 0 to 2\n",
      "Samples with all negative labels 0\n",
      "Output dimensions: 2\n"
     ]
    },
    {
     "name": "stderr",
     "output_type": "stream",
     "text": [
      "100%|██████████| 30/30 [00:19<00:00,  1.56it/s]\n"
     ]
    },
    {
     "name": "stdout",
     "output_type": "stream",
     "text": [
      "Evaluating in individual mode on test set\n",
      "multilabel-indicator multilabel-indicator\n",
      "float32 float32\n",
      "(917, 2) (917, 2)\n",
      "|                     |        0 |\n",
      "|:--------------------|---------:|\n",
      "| hamming loss        | 0.615594 |\n",
      "| zero_one_loss       | 0.789531 |\n",
      "| one_error           | 0.441658 |\n",
      "| micro av. jaccard   | 0.347776 |\n",
      "| macro av. jaccard   | 0.342664 |\n",
      "| micro av. precision | 0.363966 |\n",
      "| macro av. precision | 0.356077 |\n",
      "| micro av. recall    | 0.886598 |\n",
      "| macro av. recall    | 0.865385 |\n",
      "| micro av. f1        | 0.516074 |\n",
      "| macro av. f1        | 0.504301 |\n",
      "Evaluating in combined mode on test set\n",
      "multilabel-indicator multilabel-indicator\n",
      "float32 float32\n",
      "(917, 2) (917, 2)\n",
      "|                     |        0 |\n",
      "|:--------------------|---------:|\n",
      "| hamming loss        | 0.615594 |\n",
      "| zero_one_loss       | 0.789531 |\n",
      "| one_error           | 0.441658 |\n",
      "| micro av. jaccard   | 0.347776 |\n",
      "| macro av. jaccard   | 0.342664 |\n",
      "| micro av. precision | 0.363966 |\n",
      "| macro av. precision | 0.356077 |\n",
      "| micro av. recall    | 0.886598 |\n",
      "| macro av. recall    | 0.865385 |\n",
      "| micro av. f1        | 0.516074 |\n",
      "| macro av. f1        | 0.504301 |\n",
      "Training and Evaluating on task 2\n",
      "Train data shape is  (250, 103)\n",
      "Train Labels shape is  (250, 2)\n",
      "Classes trained are: 2 to 4\n",
      "Samples with all negative labels 0\n",
      "Augmenting class labels...\n",
      "Train Labels shape is  (250, 4)\n",
      "Output dimensions: 4\n",
      "growing model size ...\n"
     ]
    },
    {
     "name": "stderr",
     "output_type": "stream",
     "text": [
      " 20%|██        | 6/30 [00:05<00:22,  1.09it/s]"
     ]
    }
   ],
   "source": [
    "hparams['continual_mode']['name'] = 'EWC'\n",
    "expt = ContinualExperiment(hparams)\n",
    "expt.run()"
   ]
  },
  {
   "cell_type": "markdown",
   "metadata": {},
   "source": [
    "### SI"
   ]
  },
  {
   "cell_type": "code",
   "execution_count": null,
   "metadata": {},
   "outputs": [],
   "source": [
    "hparams['continual_mode']['name'] = 'SI'\n",
    "expt = ContinualExperiment(hparams)\n",
    "expt.run()"
   ]
  },
  {
   "cell_type": "markdown",
   "metadata": {},
   "source": [
    "### LwF"
   ]
  },
  {
   "cell_type": "code",
   "execution_count": null,
   "metadata": {},
   "outputs": [],
   "source": [
    "hparams['continual_mode']['name'] = 'LwF'\n",
    "expt = ContinualExperiment(hparams)\n",
    "expt.run()"
   ]
  }
 ],
 "metadata": {
  "kernelspec": {
   "display_name": "DL_gpu",
   "language": "python",
   "name": "dl_gpu"
  },
  "language_info": {
   "codemirror_mode": {
    "name": "ipython",
    "version": 3
   },
   "file_extension": ".py",
   "mimetype": "text/x-python",
   "name": "python",
   "nbconvert_exporter": "python",
   "pygments_lexer": "ipython3",
   "version": "3.7.7"
  }
 },
 "nbformat": 4,
 "nbformat_minor": 4
}
