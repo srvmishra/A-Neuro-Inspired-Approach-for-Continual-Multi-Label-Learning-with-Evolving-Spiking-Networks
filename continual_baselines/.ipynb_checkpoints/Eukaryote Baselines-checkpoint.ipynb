{
 "cells": [
  {
   "cell_type": "code",
   "execution_count": 1,
   "metadata": {},
   "outputs": [],
   "source": [
    "from experiments import *"
   ]
  },
  {
   "cell_type": "code",
   "execution_count": 2,
   "metadata": {},
   "outputs": [],
   "source": [
    "hparams = {}\n",
    "hparams['hidden_dim'] = 10 #20\n",
    "hparams['device'] = torch.device(\"cuda:1\" if torch.cuda.is_available() else \"cpu\")\n",
    "hparams['batch_size'] = 8\n",
    "hparams['lr'] = 1e-1 #1e-3\n",
    "hparams['epochs'] = 30 #50\n",
    "hparams['loss_type'] = 'asy'\n",
    "hparams['seed'] = 2\n",
    "hparams['ckpt_dir'] = './checkpoints'\n",
    "hparams['name'] = 'Eukaryote'\n",
    "hparams['trainpath'] = '../../datasets/EukaryotePseAAC/EukaryotePseAAC7766-train.mat'\n",
    "hparams['testpath'] = '../../datasets/EukaryotePseAAC/EukaryotePseAAC7766-test.mat'\n",
    "hparams['num_features'] = 440\n",
    "hparams['input_dim'] = 440\n",
    "hparams['tasks'] = {}\n",
    "hparams['tasks']['samples'] = [435, 530, 438] + [465]*7\n",
    "hparams['tasks']['labels'] = [2]*9 + [1]\n",
    "hparams['continual_mode'] = {}\n",
    "hparams['continual_mode']['cparams'] = {}\n",
    "hparams['continual_mode']['cparams']['importance'] = 0.1"
   ]
  },
  {
   "cell_type": "markdown",
   "metadata": {},
   "source": [
    "## EWC"
   ]
  },
  {
   "cell_type": "code",
   "execution_count": 3,
   "metadata": {},
   "outputs": [
    {
     "name": "stdout",
     "output_type": "stream",
     "text": [
      "Processing Data ...\n",
      "(4658, 440)\n",
      "(3108, 440)\n",
      "(4658, 19)\n",
      "(3108, 19)\n",
      "Begin training in EWC mode ...\n",
      "Training and Evaluating on task 1\n",
      "Train data shape is  (435, 440)\n",
      "Train Labels shape is  (435, 2)\n",
      "Classes trained are: 0 to 2\n",
      "Samples with all negative labels 0\n",
      "Output dimensions: 2\n"
     ]
    },
    {
     "name": "stderr",
     "output_type": "stream",
     "text": [
      "100%|██████████| 30/30 [00:32<00:00,  1.07s/it]\n"
     ]
    },
    {
     "name": "stdout",
     "output_type": "stream",
     "text": [
      "Evaluating in individual mode on test set\n",
      "multilabel-indicator multilabel-indicator\n",
      "float64 float32\n",
      "(3108, 2) (3108, 2)\n",
      "|                     |         0 |\n",
      "|:--------------------|----------:|\n",
      "| hamming loss        | 0.952059  |\n",
      "| zero_one_loss       | 0.999678  |\n",
      "| one_error           | 0.90444   |\n",
      "| micro av. jaccard   | 0.0479408 |\n",
      "| macro av. jaccard   | 0.0479408 |\n",
      "| micro av. precision | 0.0479408 |\n",
      "| macro av. precision | 0.0479408 |\n",
      "| micro av. recall    | 1         |\n",
      "| macro av. recall    | 1         |\n",
      "| micro av. f1        | 0.0914952 |\n",
      "| macro av. f1        | 0.0884966 |\n",
      "Evaluating in combined mode on test set\n",
      "multilabel-indicator multilabel-indicator\n",
      "float64 float32\n",
      "(3108, 2) (3108, 2)\n",
      "|                     |         0 |\n",
      "|:--------------------|----------:|\n",
      "| hamming loss        | 0.952059  |\n",
      "| zero_one_loss       | 0.999678  |\n",
      "| one_error           | 0.90444   |\n",
      "| micro av. jaccard   | 0.0479408 |\n",
      "| macro av. jaccard   | 0.0479408 |\n",
      "| micro av. precision | 0.0479408 |\n",
      "| macro av. precision | 0.0479408 |\n",
      "| micro av. recall    | 1         |\n",
      "| macro av. recall    | 1         |\n",
      "| micro av. f1        | 0.0914952 |\n",
      "| macro av. f1        | 0.0884966 |\n",
      "Training and Evaluating on task 2\n",
      "Train data shape is  (530, 440)\n",
      "Train Labels shape is  (530, 2)\n",
      "Classes trained are: 2 to 4\n",
      "Samples with all negative labels 0\n",
      "Augmenting class labels...\n",
      "Train Labels shape is  (530, 4)\n",
      "Output dimensions: 4\n",
      "growing model size ...\n"
     ]
    },
    {
     "name": "stderr",
     "output_type": "stream",
     "text": [
      "100%|██████████| 30/30 [00:54<00:00,  1.81s/it]\n"
     ]
    },
    {
     "name": "stdout",
     "output_type": "stream",
     "text": [
      "Evaluating in individual mode on test set\n",
      "multilabel-indicator multilabel-indicator\n",
      "float64 float32\n",
      "(3108, 2) (3108, 2)\n",
      "|                     |         0 |\n",
      "|:--------------------|----------:|\n",
      "| hamming loss        | 0.481338  |\n",
      "| zero_one_loss       | 0.95045   |\n",
      "| one_error           | 0.0122265 |\n",
      "| micro av. jaccard   | 0.0468302 |\n",
      "| macro av. jaccard   | 0.023702  |\n",
      "| micro av. precision | 0.0475113 |\n",
      "| macro av. precision | 0.0237557 |\n",
      "| micro av. recall    | 0.765625  |\n",
      "| macro av. recall    | 0.477273  |\n",
      "| micro av. f1        | 0.0894705 |\n",
      "| macro av. f1        | 0.0452586 |\n",
      "Evaluating in combined mode on test set\n",
      "multilabel-indicator multilabel-indicator\n",
      "float64 float32\n",
      "(3108, 4) (3108, 4)\n",
      "|                     |         0 |\n",
      "|:--------------------|----------:|\n",
      "| hamming loss        | 0.716699  |\n",
      "| zero_one_loss       | 1         |\n",
      "| one_error           | 0.0122265 |\n",
      "| micro av. jaccard   | 0.0475681 |\n",
      "| macro av. jaccard   | 0.0358214 |\n",
      "| micro av. precision | 0.0477981 |\n",
      "| macro av. precision | 0.0358482 |\n",
      "| micro av. recall    | 0.908163  |\n",
      "| macro av. recall    | 0.738636  |\n",
      "| micro av. f1        | 0.0908163 |\n",
      "| macro av. f1        | 0.0668776 |\n",
      "Training and Evaluating on task 3\n",
      "Train data shape is  (438, 440)\n",
      "Train Labels shape is  (438, 2)\n",
      "Classes trained are: 4 to 6\n",
      "Samples with all negative labels 1\n",
      "Augmenting class labels...\n",
      "Train Labels shape is  (438, 6)\n",
      "Output dimensions: 6\n",
      "growing model size ...\n"
     ]
    },
    {
     "name": "stderr",
     "output_type": "stream",
     "text": [
      "100%|██████████| 30/30 [00:45<00:00,  1.52s/it]\n"
     ]
    },
    {
     "name": "stdout",
     "output_type": "stream",
     "text": [
      "Evaluating in individual mode on test set\n",
      "multilabel-indicator multilabel-indicator\n",
      "float64 float32\n",
      "(3108, 2) (3108, 2)\n",
      "|                     |        0 |\n",
      "|:--------------------|---------:|\n",
      "| hamming loss        | 0.364543 |\n",
      "| zero_one_loss       | 0.71879  |\n",
      "| one_error           | 0.010296 |\n",
      "| micro av. jaccard   | 0.278344 |\n",
      "| macro av. jaccard   | 0.140605 |\n",
      "| micro av. precision | 0.28121  |\n",
      "| macro av. precision | 0.140605 |\n",
      "| micro av. recall    | 0.96468  |\n",
      "| macro av. recall    | 0.5      |\n",
      "| micro av. f1        | 0.435476 |\n",
      "| macro av. f1        | 0.219488 |\n",
      "Evaluating in combined mode on test set\n",
      "multilabel-indicator multilabel-indicator\n",
      "float64 float32\n",
      "(3108, 6) (3108, 6)\n",
      "|                     |         0 |\n",
      "|:--------------------|----------:|\n",
      "| hamming loss        | 0.599314  |\n",
      "| zero_one_loss       | 1         |\n",
      "| one_error           | 0         |\n",
      "| micro av. jaccard   | 0.106063  |\n",
      "| macro av. jaccard   | 0.0711068 |\n",
      "| micro av. precision | 0.10666   |\n",
      "| macro av. precision | 0.0711068 |\n",
      "| micro av. recall    | 0.949857  |\n",
      "| macro av. recall    | 0.666667  |\n",
      "| micro av. f1        | 0.191785  |\n",
      "| macro av. f1        | 0.118398  |\n",
      "Training and Evaluating on task 4\n",
      "Train data shape is  (465, 440)\n",
      "Train Labels shape is  (465, 2)\n",
      "Classes trained are: 6 to 8\n",
      "Samples with all negative labels 0\n",
      "Augmenting class labels...\n",
      "Train Labels shape is  (465, 8)\n",
      "Output dimensions: 8\n",
      "growing model size ...\n"
     ]
    },
    {
     "name": "stderr",
     "output_type": "stream",
     "text": [
      "100%|██████████| 30/30 [00:47<00:00,  1.59s/it]\n"
     ]
    },
    {
     "name": "stdout",
     "output_type": "stream",
     "text": [
      "Evaluating in individual mode on test set\n",
      "multilabel-indicator multilabel-indicator\n",
      "float64 float32\n",
      "(3108, 2) (3108, 2)\n",
      "|                     |         0 |\n",
      "|:--------------------|----------:|\n",
      "| hamming loss        | 0.037323  |\n",
      "| zero_one_loss       | 0.0746461 |\n",
      "| one_error           | 0         |\n",
      "| micro av. jaccard   | 0         |\n",
      "| macro av. jaccard   | 0         |\n",
      "| micro av. precision | 0         |\n",
      "| macro av. precision | 0         |\n",
      "| micro av. recall    | 0         |\n",
      "| macro av. recall    | 0         |\n",
      "| micro av. f1        | 0         |\n",
      "| macro av. f1        | 0         |\n",
      "Evaluating in combined mode on test set\n",
      "multilabel-indicator multilabel-indicator\n",
      "float64 float32\n",
      "(3108, 8) (3108, 8)\n",
      "|                     |         0 |\n",
      "|:--------------------|----------:|\n",
      "| hamming loss        | 0.458816  |\n",
      "| zero_one_loss       | 1         |\n",
      "| one_error           | 0         |\n",
      "| micro av. jaccard   | 0.104131  |\n",
      "| macro av. jaccard   | 0.0533301 |\n",
      "| micro av. precision | 0.10666   |\n",
      "| macro av. precision | 0.0533301 |\n",
      "| micro av. recall    | 0.814496  |\n",
      "| macro av. recall    | 0.5       |\n",
      "| micro av. f1        | 0.18862   |\n",
      "| macro av. f1        | 0.0887987 |\n",
      "Training and Evaluating on task 5\n",
      "Train data shape is  (465, 440)\n",
      "Train Labels shape is  (465, 2)\n",
      "Classes trained are: 8 to 10\n",
      "Samples with all negative labels 0\n",
      "Augmenting class labels...\n",
      "Train Labels shape is  (465, 10)\n",
      "Output dimensions: 10\n",
      "growing model size ...\n"
     ]
    },
    {
     "name": "stderr",
     "output_type": "stream",
     "text": [
      "100%|██████████| 30/30 [00:47<00:00,  1.57s/it]\n"
     ]
    },
    {
     "name": "stdout",
     "output_type": "stream",
     "text": [
      "Evaluating in individual mode on test set\n",
      "multilabel-indicator multilabel-indicator\n",
      "float64 float32\n",
      "(3108, 2) (3108, 2)\n",
      "|                     |          0 |\n",
      "|:--------------------|-----------:|\n",
      "| hamming loss        | 0.0701416  |\n",
      "| zero_one_loss       | 0.140283   |\n",
      "| one_error           | 0          |\n",
      "| micro av. jaccard   | 0.00683371 |\n",
      "| macro av. jaccard   | 0.0035545  |\n",
      "| micro av. precision | 0.5        |\n",
      "| macro av. precision | 0.25       |\n",
      "| micro av. recall    | 0.00688073 |\n",
      "| macro av. recall    | 0.00357995 |\n",
      "| micro av. f1        | 0.0135747  |\n",
      "| macro av. f1        | 0.00705882 |\n",
      "Evaluating in combined mode on test set\n",
      "multilabel-indicator multilabel-indicator\n",
      "float64 float32\n",
      "(3108, 10) (3108, 10)\n",
      "|                     |         0 |\n",
      "|:--------------------|----------:|\n",
      "| hamming loss        | 0.381081  |\n",
      "| zero_one_loss       | 1         |\n",
      "| one_error           | 0         |\n",
      "| micro av. jaccard   | 0.100888  |\n",
      "| macro av. jaccard   | 0.043375  |\n",
      "| micro av. precision | 0.10685   |\n",
      "| macro av. precision | 0.0926641 |\n",
      "| micro av. recall    | 0.643895  |\n",
      "| macro av. recall    | 0.400716  |\n",
      "| micro av. f1        | 0.183285  |\n",
      "| macro av. f1        | 0.0724507 |\n",
      "Training and Evaluating on task 6\n",
      "Train data shape is  (465, 440)\n",
      "Train Labels shape is  (465, 2)\n",
      "Classes trained are: 10 to 12\n",
      "Samples with all negative labels 0\n",
      "Augmenting class labels...\n",
      "Train Labels shape is  (465, 12)\n",
      "Output dimensions: 12\n",
      "growing model size ...\n"
     ]
    },
    {
     "name": "stderr",
     "output_type": "stream",
     "text": [
      "100%|██████████| 30/30 [00:48<00:00,  1.61s/it]\n"
     ]
    },
    {
     "name": "stdout",
     "output_type": "stream",
     "text": [
      "Evaluating in individual mode on test set\n",
      "multilabel-indicator multilabel-indicator\n",
      "float64 float32\n",
      "(3108, 2) (3108, 2)\n",
      "|                     |         0 |\n",
      "|:--------------------|----------:|\n",
      "| hamming loss        | 0.0210746 |\n",
      "| zero_one_loss       | 0.0421493 |\n",
      "| one_error           | 0         |\n",
      "| micro av. jaccard   | 0         |\n",
      "| macro av. jaccard   | 0         |\n",
      "| micro av. precision | 0         |\n",
      "| macro av. precision | 0         |\n",
      "| micro av. recall    | 0         |\n",
      "| macro av. recall    | 0         |\n",
      "| micro av. f1        | 0         |\n",
      "| macro av. f1        | 0         |\n",
      "Evaluating in combined mode on test set\n",
      "multilabel-indicator multilabel-indicator\n",
      "float64 float32\n",
      "(3108, 12) (3108, 12)\n",
      "|                     |         0 |\n",
      "|:--------------------|----------:|\n",
      "| hamming loss        | 0.321187  |\n",
      "| zero_one_loss       | 1         |\n",
      "| one_error           | 0         |\n",
      "| micro av. jaccard   | 0.100068  |\n",
      "| macro av. jaccard   | 0.0367189 |\n",
      "| micro av. precision | 0.107005  |\n",
      "| macro av. precision | 0.0668034 |\n",
      "| micro av. recall    | 0.606834  |\n",
      "| macro av. recall    | 0.334527  |\n",
      "| micro av. f1        | 0.18193   |\n",
      "| macro av. f1        | 0.061498  |\n",
      "Training and Evaluating on task 7\n",
      "Train data shape is  (465, 440)\n",
      "Train Labels shape is  (465, 2)\n",
      "Classes trained are: 12 to 14\n",
      "Samples with all negative labels 0\n",
      "Augmenting class labels...\n",
      "Train Labels shape is  (465, 14)\n",
      "Output dimensions: 14\n",
      "growing model size ...\n"
     ]
    },
    {
     "name": "stderr",
     "output_type": "stream",
     "text": [
      "100%|██████████| 30/30 [00:48<00:00,  1.62s/it]\n"
     ]
    },
    {
     "name": "stdout",
     "output_type": "stream",
     "text": [
      "Evaluating in individual mode on test set\n",
      "multilabel-indicator multilabel-indicator\n",
      "float64 float32\n",
      "(3108, 2) (3108, 2)\n",
      "|                     |         0 |\n",
      "|:--------------------|----------:|\n",
      "| hamming loss        | 0.480534  |\n",
      "| zero_one_loss       | 0.924389  |\n",
      "| one_error           | 0.0366795 |\n",
      "| micro av. jaccard   | 0.0743725 |\n",
      "| macro av. jaccard   | 0.0426508 |\n",
      "| micro av. precision | 0.0746733 |\n",
      "| macro av. precision | 0.0431661 |\n",
      "| micro av. recall    | 0.948617  |\n",
      "| macro av. recall    | 0.535714  |\n",
      "| micro av. f1        | 0.138448  |\n",
      "| macro av. f1        | 0.0797406 |\n",
      "Evaluating in combined mode on test set\n",
      "multilabel-indicator multilabel-indicator\n",
      "float64 float32\n",
      "(3108, 14) (3108, 14)\n",
      "|                     |         0 |\n",
      "|:--------------------|----------:|\n",
      "| hamming loss        | 0.343905  |\n",
      "| zero_one_loss       | 1         |\n",
      "| one_error           | 0         |\n",
      "| micro av. jaccard   | 0.0949558 |\n",
      "| macro av. jaccard   | 0.0372396 |\n",
      "| micro av. precision | 0.100281  |\n",
      "| macro av. precision | 0.0652124 |\n",
      "| micro av. recall    | 0.64134   |\n",
      "| macro av. recall    | 0.362927  |\n",
      "| micro av. f1        | 0.173442  |\n",
      "| macro av. f1        | 0.0634656 |\n",
      "Training and Evaluating on task 8\n",
      "Train data shape is  (465, 440)\n",
      "Train Labels shape is  (465, 2)\n",
      "Classes trained are: 14 to 16\n",
      "Samples with all negative labels 1\n",
      "Augmenting class labels...\n",
      "Train Labels shape is  (465, 16)\n",
      "Output dimensions: 16\n",
      "growing model size ...\n"
     ]
    },
    {
     "name": "stderr",
     "output_type": "stream",
     "text": [
      "100%|██████████| 30/30 [00:47<00:00,  1.59s/it]\n"
     ]
    },
    {
     "name": "stdout",
     "output_type": "stream",
     "text": [
      "Evaluating in individual mode on test set\n",
      "multilabel-indicator multilabel-indicator\n",
      "float64 float32\n",
      "(3108, 2) (3108, 2)\n",
      "|                     |         0 |\n",
      "|:--------------------|----------:|\n",
      "| hamming loss        | 0.357304  |\n",
      "| zero_one_loss       | 0.699807  |\n",
      "| one_error           | 0.0148005 |\n",
      "| micro av. jaccard   | 0.295815  |\n",
      "| macro av. jaccard   | 0.150097  |\n",
      "| micro av. precision | 0.300193  |\n",
      "| macro av. precision | 0.150097  |\n",
      "| micro av. recall    | 0.953013  |\n",
      "| macro av. recall    | 0.5       |\n",
      "| micro av. f1        | 0.45657   |\n",
      "| macro av. f1        | 0.230883  |\n",
      "Evaluating in combined mode on test set\n",
      "multilabel-indicator multilabel-indicator\n",
      "float64 float32\n",
      "(3108, 16) (3108, 16)\n",
      "|                     |         0 |\n",
      "|:--------------------|----------:|\n",
      "| hamming loss        | 0.346666  |\n",
      "| zero_one_loss       | 1         |\n",
      "| one_error           | 0         |\n",
      "| micro av. jaccard   | 0.126874  |\n",
      "| macro av. jaccard   | 0.0514728 |\n",
      "| micro av. precision | 0.133089  |\n",
      "| macro av. precision | 0.0847076 |\n",
      "| micro av. recall    | 0.73096   |\n",
      "| macro av. recall    | 0.380359  |\n",
      "| micro av. f1        | 0.225179  |\n",
      "| macro av. f1        | 0.0846361 |\n",
      "Training and Evaluating on task 9\n",
      "Train data shape is  (465, 440)\n",
      "Train Labels shape is  (465, 2)\n",
      "Classes trained are: 16 to 18\n",
      "Samples with all negative labels 1\n",
      "Augmenting class labels...\n",
      "Train Labels shape is  (465, 18)\n",
      "Output dimensions: 18\n",
      "growing model size ...\n"
     ]
    },
    {
     "name": "stderr",
     "output_type": "stream",
     "text": [
      "100%|██████████| 30/30 [00:48<00:00,  1.61s/it]\n"
     ]
    },
    {
     "name": "stdout",
     "output_type": "stream",
     "text": [
      "Evaluating in individual mode on test set\n",
      "multilabel-indicator multilabel-indicator\n",
      "float64 float32\n",
      "(3108, 2) (3108, 2)\n",
      "|                     |          0 |\n",
      "|:--------------------|-----------:|\n",
      "| hamming loss        | 0.00868726 |\n",
      "| zero_one_loss       | 0.0173745  |\n",
      "| one_error           | 0          |\n",
      "| micro av. jaccard   | 0          |\n",
      "| macro av. jaccard   | 0          |\n",
      "| micro av. precision | 0          |\n",
      "| macro av. precision | 0          |\n",
      "| micro av. recall    | 0          |\n",
      "| macro av. recall    | 0          |\n",
      "| micro av. f1        | 0          |\n",
      "| macro av. f1        | 0          |\n",
      "Evaluating in combined mode on test set\n",
      "multilabel-indicator multilabel-indicator\n",
      "float64 float32\n",
      "(3108, 18) (3108, 18)\n",
      "|                     |         0 |\n",
      "|:--------------------|----------:|\n",
      "| hamming loss        | 0.312437  |\n",
      "| zero_one_loss       | 1         |\n",
      "| one_error           | 0         |\n",
      "| micro av. jaccard   | 0.12535   |\n",
      "| macro av. jaccard   | 0.0456364 |\n",
      "| micro av. precision | 0.131752  |\n",
      "| macro av. precision | 0.0673502 |\n",
      "| micro av. recall    | 0.720656  |\n",
      "| macro av. recall    | 0.345768  |\n",
      "| micro av. f1        | 0.222776  |\n",
      "| macro av. f1        | 0.0750057 |\n",
      "Training and Evaluating on task 10\n",
      "Train data shape is  (465, 440)\n",
      "Train Labels shape is  (465, 1)\n",
      "Classes trained are: 18 to 19\n",
      "Samples with all negative labels 0\n",
      "Augmenting class labels...\n",
      "Train Labels shape is  (465, 19)\n",
      "Output dimensions: 19\n",
      "growing model size ...\n"
     ]
    },
    {
     "name": "stderr",
     "output_type": "stream",
     "text": [
      "100%|██████████| 30/30 [00:47<00:00,  1.59s/it]\n"
     ]
    },
    {
     "name": "stdout",
     "output_type": "stream",
     "text": [
      "Evaluating in individual mode on test set\n",
      "binary binary\n",
      "float64 float32\n",
      "(3108, 1) (3108, 1)\n",
      "|                     |         0 |\n",
      "|:--------------------|----------:|\n",
      "| hamming loss        | 0.94112   |\n",
      "| zero_one_loss       | 0.94112   |\n",
      "| one_error           | 0.94112   |\n",
      "| micro av. jaccard   | 0.0303332 |\n",
      "| macro av. jaccard   | 0.0302692 |\n",
      "| micro av. precision | 0.0588803 |\n",
      "| macro av. precision | 0.506927  |\n",
      "| micro av. recall    | 0.0588803 |\n",
      "| macro av. recall    | 0.511726  |\n",
      "| micro av. f1        | 0.0588803 |\n",
      "| macro av. f1        | 0.0586463 |\n",
      "Evaluating in combined mode on test set\n",
      "multilabel-indicator multilabel-indicator\n",
      "float64 float32\n",
      "(3108, 19) (3108, 19)\n",
      "|                     |         0 |\n",
      "|:--------------------|----------:|\n",
      "| hamming loss        | 0.363679  |\n",
      "| zero_one_loss       | 1         |\n",
      "| one_error           | 0         |\n",
      "| micro av. jaccard   | 0.107324  |\n",
      "| macro av. jaccard   | 0.0451272 |\n",
      "| micro av. precision | 0.111794  |\n",
      "| macro av. precision | 0.0824271 |\n",
      "| micro av. recall    | 0.728555  |\n",
      "| macro av. recall    | 0.397281  |\n",
      "| micro av. f1        | 0.193844  |\n",
      "| macro av. f1        | 0.0747632 |\n",
      "Evaluating in individual mode on test set\n",
      "|                     |         0 |         1 |        2 |         3 |          4 |         5 |         6 |         7 |          8 |         9 |\n",
      "|:--------------------|----------:|----------:|---------:|----------:|-----------:|----------:|----------:|----------:|-----------:|----------:|\n",
      "| hamming loss        | 0.952059  | 0.481338  | 0.364543 | 0.037323  | 0.0693372  | 0.0210746 | 0.622426  | 0.357304  | 0.0789897  | 0.94112   |\n",
      "| zero_one_loss       | 0.999678  | 0.95045   | 0.71879  | 0.0746461 | 0.138674   | 0.0421493 | 0.948198  | 0.699807  | 0.156371   | 0.94112   |\n",
      "| one_error           | 0.90444   | 0.0122265 | 0.010296 | 0         | 0          | 0         | 0.296654  | 0.0148005 | 0.00160875 | 0.94112   |\n",
      "| micro av. jaccard   | 0.0479408 | 0.048951  | 0.278344 | 0         | 0.0182232  | 0         | 0.0595527 | 0.295815  | 0.00607287 | 0.0303332 |\n",
      "| macro av. jaccard   | 0.0479408 | 0.0247748 | 0.140605 | 0         | 0.00947867 | 0         | 0.0414313 | 0.150097  | 0.00318471 | 0.0302692 |\n",
      "| micro av. precision | 0.0479408 | 0.0495495 | 0.28121  | 0         | 0.727273   | 0         | 0.0596688 | 0.300193  | 0.00669643 | 0.0588803 |\n",
      "| macro av. precision | 0.0479408 | 0.0247748 | 0.140605 | 0         | 0.363636   | 0         | 0.0414552 | 0.150097  | 0.00334821 | 0.506927  |\n",
      "| micro av. recall    | 1         | 0.802083  | 0.96468  | 0         | 0.0183486  | 0         | 0.968379  | 0.953013  | 0.0612245  | 0.0588803 |\n",
      "| macro av. recall    | 1         | 0.5       | 0.5      | 0         | 0.00954654 | 0         | 0.714286  | 0.5       | 0.0576923  | 0.511726  |\n",
      "| micro av. f1        | 0.0914952 | 0.0933333 | 0.435476 | 0         | 0.0357942  | 0         | 0.112411  | 0.45657   | 0.0120724  | 0.0588803 |\n",
      "| macro av. f1        | 0.0884966 | 0.0472103 | 0.219488 | 0         | 0.0186047  | 0         | 0.0773361 | 0.230883  | 0.00632911 | 0.0586463 |\n",
      "Evaluating in combined mode on test set\n",
      "|                     |         0 |         1 |         2 |         3 |         4 |         5 |         6 |         7 |         8 |         9 |\n",
      "|:--------------------|----------:|----------:|----------:|----------:|----------:|----------:|----------:|----------:|----------:|----------:|\n",
      "| hamming loss        | 0.952059  | 0.716699  | 0.599314  | 0.458816  | 0.38092   | 0.320946  | 0.364015  | 0.363176  | 0.331599  | 0.363679  |\n",
      "| zero_one_loss       | 0.999678  | 1         | 1         | 1         | 1         | 1         | 1         | 1         | 1         | 1         |\n",
      "| one_error           | 0.90444   | 0.0122265 | 0         | 0         | 0         | 0         | 0         | 0         | 0         | 0         |\n",
      "| micro av. jaccard   | 0.0479408 | 0.0482803 | 0.106063  | 0.104131  | 0.101268  | 0.100271  | 0.0906533 | 0.122108  | 0.119387  | 0.107324  |\n",
      "| macro av. jaccard   | 0.0479408 | 0.0363578 | 0.0711068 | 0.0533301 | 0.0445598 | 0.0371332 | 0.0377472 | 0.0517909 | 0.0463902 | 0.0451272 |\n",
      "| micro av. precision | 0.0479408 | 0.048477  | 0.10666   | 0.10666   | 0.107209  | 0.107209  | 0.0954136 | 0.127792  | 0.125093  | 0.111794  |\n",
      "| macro av. precision | 0.0479408 | 0.0363578 | 0.0711068 | 0.0533301 | 0.115391  | 0.0961595 | 0.0883446 | 0.0960636 | 0.0857619 | 0.0824271 |\n",
      "| micro av. recall    | 1         | 0.922449  | 0.949857  | 0.814496  | 0.646318  | 0.607745  | 0.645016  | 0.733003  | 0.723533  | 0.728555  |\n",
      "| macro av. recall    | 1         | 0.75      | 0.666667  | 0.5       | 0.401909  | 0.334924  | 0.389119  | 0.402979  | 0.364614  | 0.397281  |\n",
      "| micro av. f1        | 0.0914952 | 0.0921133 | 0.191785  | 0.18862   | 0.183911  | 0.182265  | 0.166237  | 0.21764   | 0.213307  | 0.193844  |\n",
      "| macro av. f1        | 0.0884966 | 0.0678535 | 0.118398  | 0.0887987 | 0.0747599 | 0.0622999 | 0.0644479 | 0.0852524 | 0.0764831 | 0.0747632 |\n",
      "File saved to ./checkpoints/Eukaryote_2_EWC_asy.pkl\n",
      "Number of Tasks: 10\n",
      "Forgetting in task 1: first time micro av. f1 = 0.0915, after all tasks micro av. f1 = 0.0915\n",
      "Forgetting in task 2: first time micro av. f1 = 0.0895, after all tasks micro av. f1 = 0.0915\n",
      "Forgetting in task 3: first time micro av. f1 = 0.4355, after all tasks micro av. f1 = 0.0915\n",
      "Forgetting in task 4: first time micro av. f1 = 0.0000, after all tasks micro av. f1 = 0.0915\n",
      "Forgetting in task 5: first time micro av. f1 = 0.0136, after all tasks micro av. f1 = 0.0915\n",
      "Forgetting in task 6: first time micro av. f1 = 0.0000, after all tasks micro av. f1 = 0.0915\n",
      "Forgetting in task 7: first time micro av. f1 = 0.1384, after all tasks micro av. f1 = 0.0915\n",
      "Forgetting in task 8: first time micro av. f1 = 0.4566, after all tasks micro av. f1 = 0.0915\n",
      "Forgetting in task 9: first time micro av. f1 = 0.0000, after all tasks micro av. f1 = 0.0915\n",
      "Forgetting in task 10: first time micro av. f1 = 0.0589, after all tasks micro av. f1 = 0.0915\n"
     ]
    },
    {
     "data": {
      "image/png": "[encoded data removed]",
      "text/plain": [
       "<Figure size 360x360 with 1 Axes>"
      ]
     },
     "metadata": {
      "needs_background": "light"
     },
     "output_type": "display_data"
    }
   ],
   "source": [
    "\n",
    "hparams['continual_mode']['name'] = 'EWC'\n",
    "expt = ContinualExperiment(hparams)\n",
    "expt.run()"
   ]
  },
  {
   "cell_type": "markdown",
   "metadata": {},
   "source": [
    "## SI"
   ]
  },
  {
   "cell_type": "code",
   "execution_count": 4,
   "metadata": {},
   "outputs": [
    {
     "name": "stderr",
     "output_type": "stream",
     "text": [
      "  0%|          | 0/30 [00:00<?, ?it/s]"
     ]
    },
    {
     "name": "stdout",
     "output_type": "stream",
     "text": [
      "Processing Data ...\n",
      "(4658, 440)\n",
      "(3108, 440)\n",
      "(4658, 19)\n",
      "(3108, 19)\n",
      "Begin training in SI mode ...\n",
      "Training and Evaluating on task 1\n",
      "Train data shape is  (435, 440)\n",
      "Train Labels shape is  (435, 2)\n",
      "Classes trained are: 0 to 2\n",
      "Samples with all negative labels 0\n",
      "Output dimensions: 2\n"
     ]
    },
    {
     "name": "stderr",
     "output_type": "stream",
     "text": [
      "100%|██████████| 30/30 [00:30<00:00,  1.02s/it]\n"
     ]
    },
    {
     "name": "stdout",
     "output_type": "stream",
     "text": [
      "Evaluating in individual mode on test set\n",
      "multilabel-indicator multilabel-indicator\n",
      "float64 float32\n",
      "(3108, 2) (3108, 2)\n",
      "|                     |         0 |\n",
      "|:--------------------|----------:|\n",
      "| hamming loss        | 0.925515  |\n",
      "| zero_one_loss       | 0.991634  |\n",
      "| one_error           | 0.859395  |\n",
      "| micro av. jaccard   | 0.0490909 |\n",
      "| macro av. jaccard   | 0.0479524 |\n",
      "| micro av. precision | 0.049099  |\n",
      "| macro av. precision | 0.0479535 |\n",
      "| micro av. recall    | 0.996644  |\n",
      "| macro av. recall    | 0.975     |\n",
      "| micro av. f1        | 0.0935875 |\n",
      "| macro av. f1        | 0.0885195 |\n",
      "Evaluating in combined mode on test set\n",
      "multilabel-indicator multilabel-indicator\n",
      "float64 float32\n",
      "(3108, 2) (3108, 2)\n",
      "|                     |         0 |\n",
      "|:--------------------|----------:|\n",
      "| hamming loss        | 0.925515  |\n",
      "| zero_one_loss       | 0.991634  |\n",
      "| one_error           | 0.859395  |\n",
      "| micro av. jaccard   | 0.0490909 |\n",
      "| macro av. jaccard   | 0.0479524 |\n",
      "| micro av. precision | 0.049099  |\n",
      "| macro av. precision | 0.0479535 |\n",
      "| micro av. recall    | 0.996644  |\n",
      "| macro av. recall    | 0.975     |\n",
      "| micro av. f1        | 0.0935875 |\n",
      "| macro av. f1        | 0.0885195 |\n",
      "Training and Evaluating on task 2\n",
      "Train data shape is  (530, 440)\n",
      "Train Labels shape is  (530, 2)\n",
      "Classes trained are: 2 to 4\n",
      "Samples with all negative labels 0\n",
      "Augmenting class labels...\n"
     ]
    },
    {
     "name": "stderr",
     "output_type": "stream",
     "text": [
      "  0%|          | 0/30 [00:00<?, ?it/s]"
     ]
    },
    {
     "name": "stdout",
     "output_type": "stream",
     "text": [
      "Train Labels shape is  (530, 4)\n",
      "Output dimensions: 4\n",
      "growing model size ...\n"
     ]
    },
    {
     "name": "stderr",
     "output_type": "stream",
     "text": [
      "100%|██████████| 30/30 [01:21<00:00,  2.71s/it]\n"
     ]
    },
    {
     "name": "stdout",
     "output_type": "stream",
     "text": [
      "Evaluating in individual mode on test set\n",
      "multilabel-indicator multilabel-indicator\n",
      "float64 float32\n",
      "(3108, 2) (3108, 2)\n",
      "|                     |         0 |\n",
      "|:--------------------|----------:|\n",
      "| hamming loss        | 0.969112  |\n",
      "| zero_one_loss       | 1         |\n",
      "| one_error           | 0.938224  |\n",
      "| micro av. jaccard   | 0.030888  |\n",
      "| macro av. jaccard   | 0.030888  |\n",
      "| micro av. precision | 0.030888  |\n",
      "| macro av. precision | 0.030888  |\n",
      "| micro av. recall    | 1         |\n",
      "| macro av. recall    | 1         |\n",
      "| micro av. f1        | 0.0599251 |\n",
      "| macro av. f1        | 0.0592891 |\n",
      "Evaluating in combined mode on test set\n",
      "multilabel-indicator multilabel-indicator\n",
      "float64 float32\n",
      "(3108, 4) (3108, 4)\n",
      "|                     |         0 |\n",
      "|:--------------------|----------:|\n",
      "| hamming loss        | 0.960586  |\n",
      "| zero_one_loss       | 1         |\n",
      "| one_error           | 0.842664  |\n",
      "| micro av. jaccard   | 0.0394144 |\n",
      "| macro av. jaccard   | 0.0394144 |\n",
      "| micro av. precision | 0.0394144 |\n",
      "| macro av. precision | 0.0394144 |\n",
      "| micro av. recall    | 1         |\n",
      "| macro av. recall    | 1         |\n",
      "| micro av. f1        | 0.0758397 |\n",
      "| macro av. f1        | 0.0738929 |\n",
      "Training and Evaluating on task 3\n",
      "Train data shape is  (438, 440)\n",
      "Train Labels shape is  (438, 2)\n",
      "Classes trained are: 4 to 6\n",
      "Samples with all negative labels 1\n",
      "Augmenting class labels...\n"
     ]
    },
    {
     "name": "stderr",
     "output_type": "stream",
     "text": [
      "  0%|          | 0/30 [00:00<?, ?it/s]"
     ]
    },
    {
     "name": "stdout",
     "output_type": "stream",
     "text": [
      "Train Labels shape is  (438, 6)\n",
      "Output dimensions: 6\n",
      "growing model size ...\n"
     ]
    },
    {
     "name": "stderr",
     "output_type": "stream",
     "text": [
      "100%|██████████| 30/30 [01:06<00:00,  2.21s/it]\n"
     ]
    },
    {
     "name": "stdout",
     "output_type": "stream",
     "text": [
      "Evaluating in individual mode on test set\n",
      "multilabel-indicator multilabel-indicator\n",
      "float64 float32\n",
      "(3108, 2) (3108, 2)\n",
      "|                     |        0 |\n",
      "|:--------------------|---------:|\n",
      "| hamming loss        | 0.364543 |\n",
      "| zero_one_loss       | 0.71879  |\n",
      "| one_error           | 0.010296 |\n",
      "| micro av. jaccard   | 0.278344 |\n",
      "| macro av. jaccard   | 0.140605 |\n",
      "| micro av. precision | 0.28121  |\n",
      "| macro av. precision | 0.140605 |\n",
      "| micro av. recall    | 0.96468  |\n",
      "| macro av. recall    | 0.5      |\n",
      "| micro av. f1        | 0.435476 |\n",
      "| macro av. f1        | 0.219488 |\n",
      "Evaluating in combined mode on test set\n",
      "multilabel-indicator multilabel-indicator\n",
      "float64 float32\n",
      "(3108, 6) (3108, 6)\n",
      "|                     |         0 |\n",
      "|:--------------------|----------:|\n",
      "| hamming loss        | 0.761905  |\n",
      "| zero_one_loss       | 1         |\n",
      "| one_error           | 0.010296  |\n",
      "| micro av. jaccard   | 0.0875931 |\n",
      "| macro av. jaccard   | 0.0731446 |\n",
      "| micro av. precision | 0.0877735 |\n",
      "| macro av. precision | 0.0731446 |\n",
      "| micro av. recall    | 0.977077  |\n",
      "| macro av. recall    | 0.833333  |\n",
      "| micro av. f1        | 0.161077  |\n",
      "| macro av. f1        | 0.122424  |\n",
      "Training and Evaluating on task 4\n",
      "Train data shape is  (465, 440)\n",
      "Train Labels shape is  (465, 2)\n",
      "Classes trained are: 6 to 8\n",
      "Samples with all negative labels 0\n",
      "Augmenting class labels...\n"
     ]
    },
    {
     "name": "stderr",
     "output_type": "stream",
     "text": [
      "  0%|          | 0/30 [00:00<?, ?it/s]"
     ]
    },
    {
     "name": "stdout",
     "output_type": "stream",
     "text": [
      "Train Labels shape is  (465, 8)\n",
      "Output dimensions: 8\n",
      "growing model size ...\n"
     ]
    },
    {
     "name": "stderr",
     "output_type": "stream",
     "text": [
      "100%|██████████| 30/30 [01:09<00:00,  2.30s/it]\n"
     ]
    },
    {
     "name": "stdout",
     "output_type": "stream",
     "text": [
      "Evaluating in individual mode on test set\n",
      "multilabel-indicator multilabel-indicator\n",
      "float64 float32\n",
      "(3108, 2) (3108, 2)\n",
      "|                     |          0 |\n",
      "|:--------------------|-----------:|\n",
      "| hamming loss        | 0.520592   |\n",
      "| zero_one_loss       | 0.983269   |\n",
      "| one_error           | 0.0579151  |\n",
      "| micro av. jaccard   | 0.0158151  |\n",
      "| macro av. jaccard   | 0.00836551 |\n",
      "| micro av. precision | 0.016731   |\n",
      "| macro av. precision | 0.00836551 |\n",
      "| micro av. recall    | 0.224138   |\n",
      "| macro av. recall    | 0.5        |\n",
      "| micro av. f1        | 0.0311377  |\n",
      "| macro av. f1        | 0.0164557  |\n",
      "Evaluating in combined mode on test set\n",
      "multilabel-indicator multilabel-indicator\n",
      "float64 float32\n",
      "(3108, 8) (3108, 8)\n",
      "|                     |         0 |\n",
      "|:--------------------|----------:|\n",
      "| hamming loss        | 0.701577  |\n",
      "| zero_one_loss       | 1         |\n",
      "| one_error           | 0         |\n",
      "| micro av. jaccard   | 0.0750795 |\n",
      "| macro av. jaccard   | 0.0569498 |\n",
      "| micro av. precision | 0.0759331 |\n",
      "| macro av. precision | 0.0569498 |\n",
      "| micro av. recall    | 0.869779  |\n",
      "| macro av. recall    | 0.75      |\n",
      "| micro av. f1        | 0.139673  |\n",
      "| macro av. f1        | 0.0959323 |\n",
      "Training and Evaluating on task 5\n",
      "Train data shape is  (465, 440)\n",
      "Train Labels shape is  (465, 2)\n",
      "Classes trained are: 8 to 10\n",
      "Samples with all negative labels 0\n",
      "Augmenting class labels...\n"
     ]
    },
    {
     "name": "stderr",
     "output_type": "stream",
     "text": [
      "  0%|          | 0/30 [00:00<?, ?it/s]"
     ]
    },
    {
     "name": "stdout",
     "output_type": "stream",
     "text": [
      "Train Labels shape is  (465, 10)\n",
      "Output dimensions: 10\n",
      "growing model size ...\n"
     ]
    },
    {
     "name": "stderr",
     "output_type": "stream",
     "text": [
      "100%|██████████| 30/30 [01:10<00:00,  2.33s/it]\n"
     ]
    },
    {
     "name": "stdout",
     "output_type": "stream",
     "text": [
      "Evaluating in individual mode on test set\n",
      "multilabel-indicator multilabel-indicator\n",
      "float64 float32\n",
      "(3108, 2) (3108, 2)\n",
      "|                     |          0 |\n",
      "|:--------------------|-----------:|\n",
      "| hamming loss        | 0.564672   |\n",
      "| zero_one_loss       | 0.99453    |\n",
      "| one_error           | 0.134813   |\n",
      "| micro av. jaccard   | 0.00481996 |\n",
      "| macro av. jaccard   | 0.00273488 |\n",
      "| micro av. precision | 0.00546976 |\n",
      "| macro av. precision | 0.00273488 |\n",
      "| micro av. recall    | 0.0389908  |\n",
      "| macro av. recall    | 0.5        |\n",
      "| micro av. f1        | 0.00959368 |\n",
      "| macro av. f1        | 0.00544    |\n",
      "Evaluating in combined mode on test set\n",
      "multilabel-indicator multilabel-indicator\n",
      "float64 float32\n",
      "(3108, 10) (3108, 10)\n",
      "|                     |         0 |\n",
      "|:--------------------|----------:|\n",
      "| hamming loss        | 0.674196  |\n",
      "| zero_one_loss       | 1         |\n",
      "| one_error           | 0         |\n",
      "| micro av. jaccard   | 0.0640104 |\n",
      "| macro av. jaccard   | 0.0461068 |\n",
      "| micro av. precision | 0.0658669 |\n",
      "| macro av. precision | 0.0461068 |\n",
      "| micro av. recall    | 0.694283  |\n",
      "| macro av. recall    | 0.7       |\n",
      "| micro av. f1        | 0.120319  |\n",
      "| macro av. f1        | 0.0778338 |\n",
      "Training and Evaluating on task 6\n",
      "Train data shape is  (465, 440)\n",
      "Train Labels shape is  (465, 2)\n",
      "Classes trained are: 10 to 12\n",
      "Samples with all negative labels 0\n",
      "Augmenting class labels...\n"
     ]
    },
    {
     "name": "stderr",
     "output_type": "stream",
     "text": [
      "  0%|          | 0/30 [00:00<?, ?it/s]"
     ]
    },
    {
     "name": "stdout",
     "output_type": "stream",
     "text": [
      "Train Labels shape is  (465, 12)\n",
      "Output dimensions: 12\n",
      "growing model size ...\n"
     ]
    },
    {
     "name": "stderr",
     "output_type": "stream",
     "text": [
      "100%|██████████| 30/30 [01:10<00:00,  2.34s/it]\n"
     ]
    },
    {
     "name": "stdout",
     "output_type": "stream",
     "text": [
      "Evaluating in individual mode on test set\n",
      "multilabel-indicator multilabel-indicator\n",
      "float64 float32\n",
      "(3108, 2) (3108, 2)\n",
      "|                     |          0 |\n",
      "|:--------------------|-----------:|\n",
      "| hamming loss        | 0.513996   |\n",
      "| zero_one_loss       | 0.992921   |\n",
      "| one_error           | 0.0350708  |\n",
      "| micro av. jaccard   | 0.00683867 |\n",
      "| macro av. jaccard   | 0.00353925 |\n",
      "| micro av. precision | 0.00707851 |\n",
      "| macro av. precision | 0.00353925 |\n",
      "| micro av. recall    | 0.167939   |\n",
      "| macro av. recall    | 0.5        |\n",
      "| micro av. f1        | 0.0135844  |\n",
      "| macro av. f1        | 0.00702875 |\n",
      "Evaluating in combined mode on test set\n",
      "multilabel-indicator multilabel-indicator\n",
      "float64 float32\n",
      "(3108, 12) (3108, 12)\n",
      "|                     |         0 |\n",
      "|:--------------------|----------:|\n",
      "| hamming loss        | 0.647496  |\n",
      "| zero_one_loss       | 1         |\n",
      "| one_error           | 0         |\n",
      "| micro av. jaccard   | 0.0568271 |\n",
      "| macro av. jaccard   | 0.0390122 |\n",
      "| micro av. precision | 0.0585183 |\n",
      "| macro av. precision | 0.0390122 |\n",
      "| micro av. recall    | 0.66287   |\n",
      "| macro av. recall    | 0.666667  |\n",
      "| micro av. f1        | 0.107543  |\n",
      "| macro av. f1        | 0.066033  |\n",
      "Training and Evaluating on task 7\n",
      "Train data shape is  (465, 440)\n",
      "Train Labels shape is  (465, 2)\n",
      "Classes trained are: 12 to 14\n",
      "Samples with all negative labels 0\n",
      "Augmenting class labels...\n"
     ]
    },
    {
     "name": "stderr",
     "output_type": "stream",
     "text": [
      "  0%|          | 0/30 [00:00<?, ?it/s]"
     ]
    },
    {
     "name": "stdout",
     "output_type": "stream",
     "text": [
      "Train Labels shape is  (465, 14)\n",
      "Output dimensions: 14\n",
      "growing model size ...\n"
     ]
    },
    {
     "name": "stderr",
     "output_type": "stream",
     "text": [
      "100%|██████████| 30/30 [01:10<00:00,  2.34s/it]\n"
     ]
    },
    {
     "name": "stdout",
     "output_type": "stream",
     "text": [
      "Evaluating in individual mode on test set\n",
      "multilabel-indicator multilabel-indicator\n",
      "float64 float32\n",
      "(3108, 2) (3108, 2)\n",
      "|                     |          0 |\n",
      "|:--------------------|-----------:|\n",
      "| hamming loss        | 0.536197   |\n",
      "| zero_one_loss       | 0.995495   |\n",
      "| one_error           | 0.0768983  |\n",
      "| micro av. jaccard   | 0.00418285 |\n",
      "| macro av. jaccard   | 0.00225225 |\n",
      "| micro av. precision | 0.0045045  |\n",
      "| macro av. precision | 0.00225225 |\n",
      "| micro av. recall    | 0.055336   |\n",
      "| macro av. recall    | 0.5        |\n",
      "| micro av. f1        | 0.00833085 |\n",
      "| macro av. f1        | 0.0044843  |\n",
      "Evaluating in combined mode on test set\n",
      "multilabel-indicator multilabel-indicator\n",
      "float64 float32\n",
      "(3108, 14) (3108, 14)\n",
      "|                     |         0 |\n",
      "|:--------------------|----------:|\n",
      "| hamming loss        | 0.631596  |\n",
      "| zero_one_loss       | 1         |\n",
      "| one_error           | 0         |\n",
      "| micro av. jaccard   | 0.0507409 |\n",
      "| macro av. jaccard   | 0.0337608 |\n",
      "| micro av. precision | 0.0525168 |\n",
      "| macro av. precision | 0.0337608 |\n",
      "| micro av. recall    | 0.600082  |\n",
      "| macro av. recall    | 0.642857  |\n",
      "| micro av. f1        | 0.0965812 |\n",
      "| macro av. f1        | 0.0572403 |\n",
      "Training and Evaluating on task 8\n",
      "Train data shape is  (465, 440)\n",
      "Train Labels shape is  (465, 2)\n",
      "Classes trained are: 14 to 16\n",
      "Samples with all negative labels 1\n",
      "Augmenting class labels...\n"
     ]
    },
    {
     "name": "stderr",
     "output_type": "stream",
     "text": [
      "  0%|          | 0/30 [00:00<?, ?it/s]"
     ]
    },
    {
     "name": "stdout",
     "output_type": "stream",
     "text": [
      "Train Labels shape is  (465, 16)\n",
      "Output dimensions: 16\n",
      "growing model size ...\n"
     ]
    },
    {
     "name": "stderr",
     "output_type": "stream",
     "text": [
      "100%|██████████| 30/30 [01:10<00:00,  2.35s/it]\n"
     ]
    },
    {
     "name": "stdout",
     "output_type": "stream",
     "text": [
      "Evaluating in individual mode on test set\n",
      "multilabel-indicator multilabel-indicator\n",
      "float64 float32\n",
      "(3108, 2) (3108, 2)\n",
      "|                     |         0 |\n",
      "|:--------------------|----------:|\n",
      "| hamming loss        | 0.357304  |\n",
      "| zero_one_loss       | 0.699807  |\n",
      "| one_error           | 0.0148005 |\n",
      "| micro av. jaccard   | 0.295815  |\n",
      "| macro av. jaccard   | 0.150097  |\n",
      "| micro av. precision | 0.300193  |\n",
      "| macro av. precision | 0.150097  |\n",
      "| micro av. recall    | 0.953013  |\n",
      "| macro av. recall    | 0.5       |\n",
      "| micro av. f1        | 0.45657   |\n",
      "| macro av. f1        | 0.230883  |\n",
      "Evaluating in combined mode on test set\n",
      "multilabel-indicator multilabel-indicator\n",
      "float64 float32\n",
      "(3108, 16) (3108, 16)\n",
      "|                     |         0 |\n",
      "|:--------------------|----------:|\n",
      "| hamming loss        | 0.597309  |\n",
      "| zero_one_loss       | 1         |\n",
      "| one_error           | 0         |\n",
      "| micro av. jaccard   | 0.074817  |\n",
      "| macro av. jaccard   | 0.0483028 |\n",
      "| micro av. precision | 0.0772844 |\n",
      "| macro av. precision | 0.0483028 |\n",
      "| micro av. recall    | 0.700905  |\n",
      "| macro av. recall    | 0.625     |\n",
      "| micro av. f1        | 0.139218  |\n",
      "| macro av. f1        | 0.0789457 |\n",
      "Training and Evaluating on task 9\n",
      "Train data shape is  (465, 440)\n",
      "Train Labels shape is  (465, 2)\n",
      "Classes trained are: 16 to 18\n",
      "Samples with all negative labels 1\n",
      "Augmenting class labels...\n"
     ]
    },
    {
     "name": "stderr",
     "output_type": "stream",
     "text": [
      "  0%|          | 0/30 [00:00<?, ?it/s]"
     ]
    },
    {
     "name": "stdout",
     "output_type": "stream",
     "text": [
      "Train Labels shape is  (465, 18)\n",
      "Output dimensions: 18\n",
      "growing model size ...\n"
     ]
    },
    {
     "name": "stderr",
     "output_type": "stream",
     "text": [
      "100%|██████████| 30/30 [01:10<00:00,  2.34s/it]\n"
     ]
    },
    {
     "name": "stdout",
     "output_type": "stream",
     "text": [
      "Evaluating in individual mode on test set\n",
      "multilabel-indicator multilabel-indicator\n",
      "float64 float32\n",
      "(3108, 2) (3108, 2)\n",
      "|                     |          0 |\n",
      "|:--------------------|-----------:|\n",
      "| hamming loss        | 0.00788288 |\n",
      "| zero_one_loss       | 0.0157658  |\n",
      "| one_error           | 0          |\n",
      "| micro av. jaccard   | 0          |\n",
      "| macro av. jaccard   | 0          |\n",
      "| micro av. precision | 0          |\n",
      "| macro av. precision | 0          |\n",
      "| micro av. recall    | 0          |\n",
      "| macro av. recall    | 0          |\n",
      "| micro av. f1        | 0          |\n",
      "| macro av. f1        | 0          |\n",
      "Evaluating in combined mode on test set\n",
      "multilabel-indicator multilabel-indicator\n",
      "float64 float32\n",
      "(3108, 18) (3108, 18)\n",
      "|                     |         0 |\n",
      "|:--------------------|----------:|\n",
      "| hamming loss        | 0.531818  |\n",
      "| zero_one_loss       | 1         |\n",
      "| one_error           | 0         |\n",
      "| micro av. jaccard   | 0.074703  |\n",
      "| macro av. jaccard   | 0.0429358 |\n",
      "| micro av. precision | 0.0772844 |\n",
      "| macro av. precision | 0.0429358 |\n",
      "| micro av. recall    | 0.691024  |\n",
      "| macro av. recall    | 0.555556  |\n",
      "| micro av. f1        | 0.139021  |\n",
      "| macro av. f1        | 0.070174  |\n",
      "Training and Evaluating on task 10\n",
      "Train data shape is  (465, 440)\n",
      "Train Labels shape is  (465, 1)\n",
      "Classes trained are: 18 to 19\n",
      "Samples with all negative labels 0\n",
      "Augmenting class labels...\n"
     ]
    },
    {
     "name": "stderr",
     "output_type": "stream",
     "text": [
      "  0%|          | 0/30 [00:00<?, ?it/s]"
     ]
    },
    {
     "name": "stdout",
     "output_type": "stream",
     "text": [
      "Train Labels shape is  (465, 19)\n",
      "Output dimensions: 19\n",
      "growing model size ...\n"
     ]
    },
    {
     "name": "stderr",
     "output_type": "stream",
     "text": [
      "100%|██████████| 30/30 [01:09<00:00,  2.31s/it]\n"
     ]
    },
    {
     "name": "stdout",
     "output_type": "stream",
     "text": [
      "Evaluating in individual mode on test set\n",
      "binary binary\n",
      "float64 float32\n",
      "(3108, 1) (3108, 1)\n",
      "|                     |        0 |\n",
      "|:--------------------|---------:|\n",
      "| hamming loss        | 0.021879 |\n",
      "| zero_one_loss       | 0.021879 |\n",
      "| one_error           | 0.021879 |\n",
      "| micro av. jaccard   | 0.957179 |\n",
      "| macro av. jaccard   | 0.48906  |\n",
      "| micro av. precision | 0.978121 |\n",
      "| macro av. precision | 0.48906  |\n",
      "| micro av. recall    | 0.978121 |\n",
      "| macro av. recall    | 0.5      |\n",
      "| micro av. f1        | 0.978121 |\n",
      "| macro av. f1        | 0.49447  |\n",
      "Evaluating in combined mode on test set\n",
      "multilabel-indicator multilabel-indicator\n",
      "float64 float32\n",
      "(3108, 19) (3108, 19)\n",
      "|                     |         0 |\n",
      "|:--------------------|----------:|\n",
      "| hamming loss        | 0.504979  |\n",
      "| zero_one_loss       | 1         |\n",
      "| one_error           | 0         |\n",
      "| micro av. jaccard   | 0.0745453 |\n",
      "| macro av. jaccard   | 0.040676  |\n",
      "| micro av. precision | 0.0772844 |\n",
      "| macro av. precision | 0.040676  |\n",
      "| micro av. recall    | 0.677765  |\n",
      "| macro av. recall    | 0.526316  |\n",
      "| micro av. f1        | 0.138748  |\n",
      "| macro av. f1        | 0.0664806 |\n",
      "Evaluating in individual mode on test set\n",
      "|                     |         0 |         1 |        2 |          3 |          4 |          5 |          6 |         7 |          8 |        9 |\n",
      "|:--------------------|----------:|----------:|---------:|-----------:|-----------:|-----------:|-----------:|----------:|-----------:|---------:|\n",
      "| hamming loss        | 0.952059  | 0.969112  | 0.364543 | 0.520592   | 0.564672   | 0.513996   | 0.536197   | 0.357304  | 0.00788288 | 0.021879 |\n",
      "| zero_one_loss       | 0.999678  | 1         | 0.71879  | 0.983269   | 0.99453    | 0.992921   | 0.995495   | 0.699807  | 0.0157658  | 0.021879 |\n",
      "| one_error           | 0.90444   | 0.938224  | 0.010296 | 0.0579151  | 0.134813   | 0.0350708  | 0.0768983  | 0.0148005 | 0          | 0.021879 |\n",
      "| micro av. jaccard   | 0.0479408 | 0.030888  | 0.278344 | 0.0158151  | 0.00481996 | 0.00683867 | 0.00418285 | 0.295815  | 0          | 0.957179 |\n",
      "| macro av. jaccard   | 0.0479408 | 0.030888  | 0.140605 | 0.00836551 | 0.00273488 | 0.00353925 | 0.00225225 | 0.150097  | 0          | 0.48906  |\n",
      "| micro av. precision | 0.0479408 | 0.030888  | 0.28121  | 0.016731   | 0.00546976 | 0.00707851 | 0.0045045  | 0.300193  | 0          | 0.978121 |\n",
      "| macro av. precision | 0.0479408 | 0.030888  | 0.140605 | 0.00836551 | 0.00273488 | 0.00353925 | 0.00225225 | 0.150097  | 0          | 0.48906  |\n",
      "| micro av. recall    | 1         | 1         | 0.96468  | 0.224138   | 0.0389908  | 0.167939   | 0.055336   | 0.953013  | 0          | 0.978121 |\n",
      "| macro av. recall    | 1         | 1         | 0.5      | 0.5        | 0.5        | 0.5        | 0.5        | 0.5       | 0          | 0.5      |\n",
      "| micro av. f1        | 0.0914952 | 0.0599251 | 0.435476 | 0.0311377  | 0.00959368 | 0.0135844  | 0.00833085 | 0.45657   | 0          | 0.978121 |\n",
      "| macro av. f1        | 0.0884966 | 0.0592891 | 0.219488 | 0.0164557  | 0.00544    | 0.00702875 | 0.0044843  | 0.230883  | 0          | 0.49447  |\n",
      "Evaluating in combined mode on test set\n",
      "|                     |         0 |         1 |         2 |         3 |         4 |         5 |         6 |         7 |         8 |         9 |\n",
      "|:--------------------|----------:|----------:|----------:|----------:|----------:|----------:|----------:|----------:|----------:|----------:|\n",
      "| hamming loss        | 0.952059  | 0.960586  | 0.761905  | 0.701577  | 0.674196  | 0.647496  | 0.631596  | 0.597309  | 0.531818  | 0.504979  |\n",
      "| zero_one_loss       | 0.999678  | 1         | 1         | 1         | 1         | 1         | 1         | 1         | 1         | 1         |\n",
      "| one_error           | 0.90444   | 0.842664  | 0.010296  | 0         | 0         | 0         | 0         | 0         | 0         | 0         |\n",
      "| micro av. jaccard   | 0.0479408 | 0.0394144 | 0.0875931 | 0.0750795 | 0.0640104 | 0.0568271 | 0.0507409 | 0.074817  | 0.074703  | 0.0745453 |\n",
      "| macro av. jaccard   | 0.0479408 | 0.0394144 | 0.0731446 | 0.0569498 | 0.0461068 | 0.0390122 | 0.0337608 | 0.0483028 | 0.0429358 | 0.040676  |\n",
      "| micro av. precision | 0.0479408 | 0.0394144 | 0.0877735 | 0.0759331 | 0.0658669 | 0.0585183 | 0.0525168 | 0.0772844 | 0.0772844 | 0.0772844 |\n",
      "| macro av. precision | 0.0479408 | 0.0394144 | 0.0731446 | 0.0569498 | 0.0461068 | 0.0390122 | 0.0337608 | 0.0483028 | 0.0429358 | 0.040676  |\n",
      "| micro av. recall    | 1         | 1         | 0.977077  | 0.869779  | 0.694283  | 0.66287   | 0.600082  | 0.700905  | 0.691024  | 0.677765  |\n",
      "| macro av. recall    | 1         | 1         | 0.833333  | 0.75      | 0.7       | 0.666667  | 0.642857  | 0.625     | 0.555556  | 0.526316  |\n",
      "| micro av. f1        | 0.0914952 | 0.0758397 | 0.161077  | 0.139673  | 0.120319  | 0.107543  | 0.0965812 | 0.139218  | 0.139021  | 0.138748  |\n",
      "| macro av. f1        | 0.0884966 | 0.0738929 | 0.122424  | 0.0959323 | 0.0778338 | 0.066033  | 0.0572403 | 0.0789457 | 0.070174  | 0.0664806 |\n",
      "File saved to ./checkpoints/Eukaryote_2_SI_asy.pkl\n",
      "Number of Tasks: 10\n",
      "Forgetting in task 1: first time micro av. f1 = 0.0936, after all tasks micro av. f1 = 0.0915\n",
      "Forgetting in task 2: first time micro av. f1 = 0.0599, after all tasks micro av. f1 = 0.0915\n",
      "Forgetting in task 3: first time micro av. f1 = 0.4355, after all tasks micro av. f1 = 0.0915\n",
      "Forgetting in task 4: first time micro av. f1 = 0.0311, after all tasks micro av. f1 = 0.0915\n",
      "Forgetting in task 5: first time micro av. f1 = 0.0096, after all tasks micro av. f1 = 0.0915\n",
      "Forgetting in task 6: first time micro av. f1 = 0.0136, after all tasks micro av. f1 = 0.0915\n",
      "Forgetting in task 7: first time micro av. f1 = 0.0083, after all tasks micro av. f1 = 0.0915\n",
      "Forgetting in task 8: first time micro av. f1 = 0.4566, after all tasks micro av. f1 = 0.0915\n",
      "Forgetting in task 9: first time micro av. f1 = 0.0000, after all tasks micro av. f1 = 0.0915\n",
      "Forgetting in task 10: first time micro av. f1 = 0.9781, after all tasks micro av. f1 = 0.0915\n"
     ]
    },
    {
     "data": {
      "image/png": "[encoded data removed]",
      "text/plain": [
       "<Figure size 360x360 with 1 Axes>"
      ]
     },
     "metadata": {
      "needs_background": "light"
     },
     "output_type": "display_data"
    }
   ],
   "source": [
    "hparams['continual_mode']['name'] = 'SI'\n",
    "expt = ContinualExperiment(hparams)\n",
    "expt.run()"
   ]
  }
 ],
 "metadata": {
  "kernelspec": {
   "display_name": "DL_gpu",
   "language": "python",
   "name": "dl_gpu"
  },
  "language_info": {
   "codemirror_mode": {
    "name": "ipython",
    "version": 3
   },
   "file_extension": ".py",
   "mimetype": "text/x-python",
   "name": "python",
   "nbconvert_exporter": "python",
   "pygments_lexer": "ipython3",
   "version": "3.7.7"
  }
 },
 "nbformat": 4,
 "nbformat_minor": 4
}
