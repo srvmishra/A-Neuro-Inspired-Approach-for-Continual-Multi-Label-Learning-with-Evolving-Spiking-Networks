{
 "cells": [
  {
   "cell_type": "code",
   "execution_count": 1,
   "metadata": {},
   "outputs": [],
   "source": [
    "from experiments_new import *\n",
    "from hparams import *\n",
    "from utils import *"
   ]
  },
  {
   "cell_type": "code",
   "execution_count": 2,
   "metadata": {},
   "outputs": [],
   "source": [
    "continual_method = 'LwF'\n",
    "device = torch.device('cuda:3')"
   ]
  },
  {
   "cell_type": "markdown",
   "metadata": {},
   "source": [
    "## Yeast Dataset, 3 tasks"
   ]
  },
  {
   "cell_type": "code",
   "execution_count": 3,
   "metadata": {},
   "outputs": [
    {
     "name": "stdout",
     "output_type": "stream",
     "text": [
      "Processing Data ...\n",
      "(1500, 103)\n",
      "(917, 103)\n",
      "(1500, 13)\n",
      "(917, 13)\n",
      "Begin training in LwF mode ...\n",
      "Training and Evaluating on task 1\n",
      "Train data shape is  (500, 103)\n",
      "Train Labels shape is  (500, 7)\n",
      "Classes trained are: 0 to 7\n",
      "Samples with all negative labels 0\n",
      "Output dimensions: 7\n"
     ]
    },
    {
     "name": "stderr",
     "output_type": "stream",
     "text": [
      "100%|██████████| 1/1 [00:01<00:00,  1.01s/it]\n"
     ]
    },
    {
     "name": "stdout",
     "output_type": "stream",
     "text": [
      "Evaluating in individual mode on test set\n",
      "multilabel-indicator multilabel-indicator\n",
      "float32 float32\n",
      "(917, 7) (917, 7)\n",
      "Evaluating in combined mode on test set\n",
      "multilabel-indicator multilabel-indicator\n",
      "float32 float32\n",
      "(917, 7) (917, 7)\n",
      "Training and Evaluating on task 2\n",
      "Train data shape is  (500, 103)\n",
      "Train Labels shape is  (500, 3)\n",
      "Classes trained are: 7 to 10\n",
      "Samples with all negative labels 0\n",
      "Augmenting class labels...\n"
     ]
    },
    {
     "name": "stderr",
     "output_type": "stream",
     "text": [
      "  0%|          | 0/1 [00:00<?, ?it/s]"
     ]
    },
    {
     "name": "stdout",
     "output_type": "stream",
     "text": [
      "Train Labels shape is  (500, 10)\n",
      "Output dimensions: 10\n",
      "growing model size ...\n"
     ]
    },
    {
     "name": "stderr",
     "output_type": "stream",
     "text": [
      "100%|██████████| 1/1 [00:35<00:00, 35.39s/it]\n"
     ]
    },
    {
     "name": "stdout",
     "output_type": "stream",
     "text": [
      "Evaluating in individual mode on test set\n",
      "multilabel-indicator multilabel-indicator\n",
      "float32 float32\n",
      "(917, 3) (917, 3)\n",
      "Evaluating in combined mode on test set\n",
      "multilabel-indicator multilabel-indicator\n",
      "float32 float32\n",
      "(917, 10) (917, 10)\n",
      "Training and Evaluating on task 3\n",
      "Train data shape is  (500, 103)\n",
      "Train Labels shape is  (500, 3)\n",
      "Classes trained are: 10 to 13\n",
      "Samples with all negative labels 0\n",
      "Augmenting class labels...\n"
     ]
    },
    {
     "name": "stderr",
     "output_type": "stream",
     "text": [
      "  0%|          | 0/1 [00:00<?, ?it/s]"
     ]
    },
    {
     "name": "stdout",
     "output_type": "stream",
     "text": [
      "Train Labels shape is  (500, 13)\n",
      "Output dimensions: 13\n",
      "growing model size ...\n"
     ]
    },
    {
     "name": "stderr",
     "output_type": "stream",
     "text": [
      "100%|██████████| 1/1 [00:34<00:00, 34.56s/it]\n"
     ]
    },
    {
     "name": "stdout",
     "output_type": "stream",
     "text": [
      "Evaluating in individual mode on test set\n",
      "multilabel-indicator multilabel-indicator\n",
      "float32 float32\n",
      "(917, 3) (917, 3)\n",
      "Evaluating in combined mode on test set\n",
      "multilabel-indicator multilabel-indicator\n",
      "float32 float32\n",
      "(917, 13) (917, 13)\n",
      "Evaluating in individual mode on test set\n",
      "|                     |        0 |         1 |        2 |\n",
      "|:--------------------|---------:|----------:|---------:|\n",
      "| hamming loss        | 0.6043   | 0.326427  | 0.63177  |\n",
      "| zero_one_loss       | 1        | 0.864776  | 0.994547 |\n",
      "| one_error           | 0        | 0.0196292 | 0        |\n",
      "| micro av. jaccard   | 0.321972 | 0.17539   | 0.309495 |\n",
      "| macro av. jaccard   | 0.286961 | 0.0694293 | 0.28317  |\n",
      "| micro av. precision | 0.334787 | 0.208288  | 0.424755 |\n",
      "| macro av. precision | 0.286961 | 0.0694293 | 0.28317  |\n",
      "| micro av. recall    | 0.893741 | 0.526171  | 0.532832 |\n",
      "| macro av. recall    | 0.857143 | 0.333333  | 0.666667 |\n",
      "| micro av. f1        | 0.487108 | 0.298438  | 0.472694 |\n",
      "| macro av. f1        | 0.424768 | 0.114922  | 0.345959 |\n",
      "| imb. av. f1         | 0.388655 | 0.778168  | 0.184334 |\n",
      "Evaluating in combined mode on test set\n",
      "|                     |        0 |        1 |        2 |\n",
      "|:--------------------|---------:|---------:|---------:|\n",
      "| hamming loss        | 0.6043   | 0.520938 | 0.546515 |\n",
      "| zero_one_loss       | 1        | 1        | 1        |\n",
      "| one_error           | 0        | 0        | 0        |\n",
      "| micro av. jaccard   | 0.321972 | 0.298532 | 0.30149  |\n",
      "| macro av. jaccard   | 0.286961 | 0.221701 | 0.235886 |\n",
      "| micro av. precision | 0.334787 | 0.316716 | 0.340725 |\n",
      "| macro av. precision | 0.286961 | 0.221701 | 0.235886 |\n",
      "| micro av. recall    | 0.893741 | 0.838696 | 0.723623 |\n",
      "| macro av. recall    | 0.857143 | 0.7      | 0.692308 |\n",
      "| micro av. f1        | 0.487108 | 0.459799 | 0.4633   |\n",
      "| macro av. f1        | 0.424768 | 0.331814 | 0.335079 |\n",
      "| imb. av. f1         | 0.388655 | 0.592894 | 0.509799 |\n",
      "File saved to ./checkpoints_new/Yeast_0_LwF_asy.pkl\n",
      "Number of Tasks: 3\n",
      "Forgetting in task 1: first time imb. av. f1 = 0.2962, after all tasks imb. av. f1 = 0.3887\n",
      "Forgetting in task 2: first time imb. av. f1 = 0.7782, after all tasks imb. av. f1 = 0.3887\n",
      "Forgetting in task 3: first time imb. av. f1 = 0.1843, after all tasks imb. av. f1 = 0.3887\n"
     ]
    },
    {
     "data": {
      "image/png": "[encoded data removed]",
      "text/plain": [
       "<Figure size 360x360 with 1 Axes>"
      ]
     },
     "metadata": {
      "needs_background": "light"
     },
     "output_type": "display_data"
    }
   ],
   "source": [
    "hparams = Hyperparameters('Yeast', continual_method, device, num_tasks=3)\n",
    "experiment = ContinualExperiment(hparams)\n",
    "experiment.run()"
   ]
  },
  {
   "cell_type": "markdown",
   "metadata": {},
   "source": [
    "## Emotions Dataset"
   ]
  },
  {
   "cell_type": "code",
   "execution_count": 4,
   "metadata": {},
   "outputs": [
    {
     "name": "stdout",
     "output_type": "stream",
     "text": [
      "Processing Data ...\n"
     ]
    },
    {
     "name": "stderr",
     "output_type": "stream",
     "text": [
      "100%|██████████| 1/1 [00:00<00:00, 21.55it/s]"
     ]
    },
    {
     "name": "stdout",
     "output_type": "stream",
     "text": [
      "(391, 72)\n",
      "(202, 72)\n",
      "(391, 6)\n",
      "(202, 6)\n",
      "Begin training in LwF mode ...\n",
      "Training and Evaluating on task 1\n",
      "Train data shape is  (130, 72)\n",
      "Train Labels shape is  (130, 2)\n",
      "Classes trained are: 0 to 2\n",
      "Samples with all negative labels 0\n",
      "Output dimensions: 2\n",
      "Evaluating in individual mode on test set\n",
      "multilabel-indicator multilabel-indicator\n",
      "float32 float32\n",
      "(202, 2) (202, 2)\n"
     ]
    },
    {
     "name": "stderr",
     "output_type": "stream",
     "text": [
      "\n"
     ]
    },
    {
     "name": "stdout",
     "output_type": "stream",
     "text": [
      "Evaluating in combined mode on test set\n",
      "multilabel-indicator multilabel-indicator\n",
      "float32 float32\n",
      "(202, 2) (202, 2)\n",
      "Training and Evaluating on task 2\n",
      "Train data shape is  (130, 72)\n",
      "Train Labels shape is  (130, 2)\n",
      "Classes trained are: 2 to 4\n",
      "Samples with all negative labels 0\n",
      "Augmenting class labels...\n"
     ]
    },
    {
     "name": "stderr",
     "output_type": "stream",
     "text": [
      "  0%|          | 0/1 [00:00<?, ?it/s]"
     ]
    },
    {
     "name": "stdout",
     "output_type": "stream",
     "text": [
      "Train Labels shape is  (130, 4)\n",
      "Output dimensions: 4\n",
      "growing model size ...\n"
     ]
    },
    {
     "name": "stderr",
     "output_type": "stream",
     "text": [
      "100%|██████████| 1/1 [00:02<00:00,  2.45s/it]\n"
     ]
    },
    {
     "name": "stdout",
     "output_type": "stream",
     "text": [
      "Evaluating in individual mode on test set\n",
      "multilabel-indicator multilabel-indicator\n",
      "float32 float32\n",
      "(202, 2) (202, 2)\n",
      "Evaluating in combined mode on test set\n"
     ]
    },
    {
     "name": "stderr",
     "output_type": "stream",
     "text": [
      "  0%|          | 0/1 [00:00<?, ?it/s]"
     ]
    },
    {
     "name": "stdout",
     "output_type": "stream",
     "text": [
      "multilabel-indicator multilabel-indicator\n",
      "float32 float32\n",
      "(202, 4) (202, 4)\n",
      "Training and Evaluating on task 3\n",
      "Train data shape is  (131, 72)\n",
      "Train Labels shape is  (131, 2)\n",
      "Classes trained are: 4 to 6\n",
      "Samples with all negative labels 0\n",
      "Augmenting class labels...\n",
      "Train Labels shape is  (131, 6)\n",
      "Output dimensions: 6\n",
      "growing model size ...\n"
     ]
    },
    {
     "name": "stderr",
     "output_type": "stream",
     "text": [
      "100%|██████████| 1/1 [00:02<00:00,  2.36s/it]\n"
     ]
    },
    {
     "name": "stdout",
     "output_type": "stream",
     "text": [
      "Evaluating in individual mode on test set\n",
      "multilabel-indicator multilabel-indicator\n",
      "float32 float32\n",
      "(202, 2) (202, 2)\n",
      "Evaluating in combined mode on test set\n",
      "multilabel-indicator multilabel-indicator\n",
      "float32 float32\n",
      "(202, 6) (202, 6)\n",
      "Evaluating in individual mode on test set\n",
      "|                     |        0 |        1 |        2 |\n",
      "|:--------------------|---------:|---------:|---------:|\n",
      "| hamming loss        | 0.720297 | 0.383663 | 0.537129 |\n",
      "| zero_one_loss       | 0.886139 | 0.579208 | 0.767327 |\n",
      "| one_error           | 0.554455 | 0.188119 | 0.306931 |\n",
      "| micro av. jaccard   | 0.279703 | 0        | 0.210909 |\n",
      "| macro av. jaccard   | 0.279703 | 0        | 0.143564 |\n",
      "| micro av. precision | 0.279703 | 0        | 0.287129 |\n",
      "| macro av. precision | 0.279703 | 0        | 0.143564 |\n",
      "| micro av. recall    | 1        | 0        | 0.442748 |\n",
      "| macro av. recall    | 1        | 0        | 0.5      |\n",
      "| micro av. f1        | 0.437137 | 0        | 0.348348 |\n",
      "| macro av. f1        | 0.436991 | 0        | 0.223077 |\n",
      "| imb. av. f1         | 0.279165 | 0.63792  | 0.443051 |\n",
      "Evaluating in combined mode on test set\n",
      "|                     |        0 |        1 |        2 |\n",
      "|:--------------------|---------:|---------:|---------:|\n",
      "| hamming loss        | 0.720297 | 0.55198  | 0.54703  |\n",
      "| zero_one_loss       | 0.886139 | 0.905941 | 0.980198 |\n",
      "| one_error           | 0.554455 | 0.183168 | 0.138614 |\n",
      "| micro av. jaccard   | 0.279703 | 0.202147 | 0.205036 |\n",
      "| macro av. jaccard   | 0.279703 | 0.139851 | 0.141089 |\n",
      "| micro av. precision | 0.279703 | 0.279703 | 0.282178 |\n",
      "| macro av. precision | 0.279703 | 0.139851 | 0.141089 |\n",
      "| micro av. recall    | 1        | 0.421642 | 0.428571 |\n",
      "| macro av. recall    | 1        | 0.5      | 0.5      |\n",
      "| micro av. f1        | 0.437137 | 0.33631  | 0.340299 |\n",
      "| macro av. f1        | 0.436991 | 0.218496 | 0.220023 |\n",
      "| imb. av. f1         | 0.279165 | 0.435701 | 0.438127 |\n",
      "File saved to ./checkpoints_new/emotions_0_LwF_asy.pkl\n",
      "Number of Tasks: 3\n",
      "Forgetting in task 1: first time imb. av. f1 = 0.2792, after all tasks imb. av. f1 = 0.2792\n",
      "Forgetting in task 2: first time imb. av. f1 = 0.6379, after all tasks imb. av. f1 = 0.2792\n",
      "Forgetting in task 3: first time imb. av. f1 = 0.4431, after all tasks imb. av. f1 = 0.2792\n"
     ]
    },
    {
     "data": {
      "image/png": "[encoded data removed]",
      "text/plain": [
       "<Figure size 360x360 with 1 Axes>"
      ]
     },
     "metadata": {
      "needs_background": "light"
     },
     "output_type": "display_data"
    }
   ],
   "source": [
    "hparams = Hyperparameters('emotions', continual_method, device)\n",
    "experiment = ContinualExperiment(hparams)\n",
    "experiment.run()"
   ]
  },
  {
   "cell_type": "markdown",
   "metadata": {},
   "source": [
    "## Flags Dataset"
   ]
  },
  {
   "cell_type": "code",
   "execution_count": 5,
   "metadata": {},
   "outputs": [
    {
     "name": "stderr",
     "output_type": "stream",
     "text": [
      "100%|██████████| 1/1 [00:00<00:00, 67.58it/s]"
     ]
    },
    {
     "name": "stdout",
     "output_type": "stream",
     "text": [
      "Processing Data ...\n",
      "(129, 19)\n",
      "(65, 19)\n",
      "(129, 7)\n",
      "(65, 7)\n",
      "Begin training in LwF mode ...\n",
      "Training and Evaluating on task 1\n",
      "Train data shape is  (43, 19)\n",
      "Train Labels shape is  (43, 3)\n",
      "Classes trained are: 0 to 3\n",
      "Samples with all negative labels 0\n",
      "Output dimensions: 3\n",
      "Evaluating in individual mode on test set\n"
     ]
    },
    {
     "name": "stderr",
     "output_type": "stream",
     "text": [
      "\n",
      "  0%|          | 0/1 [00:00<?, ?it/s]"
     ]
    },
    {
     "name": "stdout",
     "output_type": "stream",
     "text": [
      "multilabel-indicator multilabel-indicator\n",
      "float32 float32\n",
      "(65, 3) (65, 3)\n",
      "Evaluating in combined mode on test set\n",
      "multilabel-indicator multilabel-indicator\n",
      "float32 float32\n",
      "(65, 3) (65, 3)\n",
      "Training and Evaluating on task 2\n",
      "Train data shape is  (43, 19)\n",
      "Train Labels shape is  (43, 2)\n",
      "Classes trained are: 3 to 5\n",
      "Samples with all negative labels 0\n",
      "Augmenting class labels...\n",
      "Train Labels shape is  (43, 5)\n",
      "Output dimensions: 5\n",
      "growing model size ...\n"
     ]
    },
    {
     "name": "stderr",
     "output_type": "stream",
     "text": [
      "100%|██████████| 1/1 [00:00<00:00,  4.26it/s]\n",
      "  0%|          | 0/1 [00:00<?, ?it/s]"
     ]
    },
    {
     "name": "stdout",
     "output_type": "stream",
     "text": [
      "Evaluating in individual mode on test set\n",
      "multilabel-indicator multilabel-indicator\n",
      "float32 float32\n",
      "(65, 2) (65, 2)\n",
      "Evaluating in combined mode on test set\n",
      "multilabel-indicator multilabel-indicator\n",
      "float32 float32\n",
      "(65, 5) (65, 5)\n",
      "Training and Evaluating on task 3\n",
      "Train data shape is  (43, 19)\n",
      "Train Labels shape is  (43, 2)\n",
      "Classes trained are: 5 to 7\n",
      "Samples with all negative labels 0\n",
      "Augmenting class labels...\n",
      "Train Labels shape is  (43, 7)\n",
      "Output dimensions: 7\n",
      "growing model size ...\n"
     ]
    },
    {
     "name": "stderr",
     "output_type": "stream",
     "text": [
      "100%|██████████| 1/1 [00:00<00:00,  4.20it/s]\n"
     ]
    },
    {
     "name": "stdout",
     "output_type": "stream",
     "text": [
      "Evaluating in individual mode on test set\n",
      "multilabel-indicator multilabel-indicator\n",
      "float32 float32\n",
      "(65, 2) (65, 2)\n",
      "Evaluating in combined mode on test set\n",
      "multilabel-indicator multilabel-indicator\n",
      "float32 float32\n",
      "(65, 7) (65, 7)\n",
      "Evaluating in individual mode on test set\n",
      "|                     |        0 |        1 |         2 |\n",
      "|:--------------------|---------:|---------:|----------:|\n",
      "| hamming loss        | 0.446154 | 0.623077 | 0.384615  |\n",
      "| zero_one_loss       | 0.8      | 0.984615 | 0.692308  |\n",
      "| one_error           | 0.153846 | 0.261538 | 0.0769231 |\n",
      "| micro av. jaccard   | 0.466258 | 0        | 0.295775  |\n",
      "| macro av. jaccard   | 0.389744 | 0        | 0.161538  |\n",
      "| micro av. precision | 0.584615 | 0        | 0.323077  |\n",
      "| macro av. precision | 0.389744 | 0        | 0.161538  |\n",
      "| micro av. recall    | 0.697248 | 0        | 0.777778  |\n",
      "| macro av. recall    | 0.666667 | 0        | 0.5       |\n",
      "| micro av. f1        | 0.635983 | 0        | 0.456522  |\n",
      "| macro av. f1        | 0.482202 | 0        | 0.244186  |\n",
      "| imb. av. f1         | 0.521482 | 0.417794 | 0.766578  |\n",
      "Evaluating in combined mode on test set\n",
      "|                     |        0 |         1 |        2 |\n",
      "|:--------------------|---------:|----------:|---------:|\n",
      "| hamming loss        | 0.446154 | 0.516923  | 0.479121 |\n",
      "| zero_one_loss       | 0.8      | 0.984615  | 1        |\n",
      "| one_error           | 0.153846 | 0.0307692 | 0        |\n",
      "| micro av. jaccard   | 0.466258 | 0.311475  | 0.307937 |\n",
      "| macro av. jaccard   | 0.389744 | 0.233846  | 0.213187 |\n",
      "| micro av. precision | 0.584615 | 0.584615  | 0.497436 |\n",
      "| macro av. precision | 0.389744 | 0.233846  | 0.213187 |\n",
      "| micro av. recall    | 0.697248 | 0.4       | 0.447005 |\n",
      "| macro av. recall    | 0.666667 | 0.4       | 0.428571 |\n",
      "| micro av. f1        | 0.635983 | 0.475     | 0.470874 |\n",
      "| macro av. f1        | 0.482202 | 0.289321  | 0.276425 |\n",
      "| imb. av. f1         | 0.521482 | 0.482403  | 0.647097 |\n",
      "File saved to ./checkpoints_new/flags_0_LwF_asy.pkl\n",
      "Number of Tasks: 3\n",
      "Forgetting in task 1: first time imb. av. f1 = 0.5268, after all tasks imb. av. f1 = 0.5215\n",
      "Forgetting in task 2: first time imb. av. f1 = 0.5822, after all tasks imb. av. f1 = 0.5215\n",
      "Forgetting in task 3: first time imb. av. f1 = 0.7666, after all tasks imb. av. f1 = 0.5215\n"
     ]
    },
    {
     "data": {
      "image/png": "[encoded data removed]",
      "text/plain": [
       "<Figure size 360x360 with 1 Axes>"
      ]
     },
     "metadata": {
      "needs_background": "light"
     },
     "output_type": "display_data"
    }
   ],
   "source": [
    "hparams = Hyperparameters('flags', continual_method, device)\n",
    "experiment = ContinualExperiment(hparams)\n",
    "experiment.run()"
   ]
  },
  {
   "cell_type": "markdown",
   "metadata": {},
   "source": [
    "## GPositive Dataset"
   ]
  },
  {
   "cell_type": "code",
   "execution_count": 6,
   "metadata": {},
   "outputs": [
    {
     "name": "stderr",
     "output_type": "stream",
     "text": [
      "100%|██████████| 1/1 [00:00<00:00, 27.45it/s]"
     ]
    },
    {
     "name": "stdout",
     "output_type": "stream",
     "text": [
      "Processing Data ...\n",
      "(311, 440)\n",
      "(208, 440)\n",
      "(311, 4)\n",
      "(208, 4)\n",
      "Begin training in LwF mode ...\n",
      "Training and Evaluating on task 1\n",
      "Train data shape is  (103, 440)\n",
      "Train Labels shape is  (103, 2)\n",
      "Classes trained are: 0 to 2\n",
      "Samples with all negative labels 2\n",
      "Output dimensions: 2\n",
      "Evaluating in individual mode on test set\n",
      "multilabel-indicator multilabel-indicator\n",
      "float64 float32\n",
      "(208, 2) (208, 2)\n"
     ]
    },
    {
     "name": "stderr",
     "output_type": "stream",
     "text": [
      "\n"
     ]
    },
    {
     "name": "stdout",
     "output_type": "stream",
     "text": [
      "Evaluating in combined mode on test set\n",
      "multilabel-indicator multilabel-indicator\n",
      "float64 float32\n",
      "(208, 2) (208, 2)\n",
      "Training and Evaluating on task 2\n",
      "Train data shape is  (103, 440)\n",
      "Train Labels shape is  (103, 1)\n",
      "Classes trained are: 2 to 3\n",
      "Samples with all negative labels 0\n",
      "Augmenting class labels...\n"
     ]
    },
    {
     "name": "stderr",
     "output_type": "stream",
     "text": [
      "  0%|          | 0/1 [00:00<?, ?it/s]"
     ]
    },
    {
     "name": "stdout",
     "output_type": "stream",
     "text": [
      "Train Labels shape is  (103, 3)\n",
      "Output dimensions: 3\n",
      "growing model size ...\n"
     ]
    },
    {
     "name": "stderr",
     "output_type": "stream",
     "text": [
      "100%|██████████| 1/1 [00:01<00:00,  1.49s/it]\n"
     ]
    },
    {
     "name": "stdout",
     "output_type": "stream",
     "text": [
      "Evaluating in individual mode on test set\n",
      "binary binary\n",
      "float64 float32\n",
      "(208, 1) (208, 1)\n",
      "Evaluating in combined mode on test set\n"
     ]
    },
    {
     "name": "stderr",
     "output_type": "stream",
     "text": [
      "  0%|          | 0/1 [00:00<?, ?it/s]"
     ]
    },
    {
     "name": "stdout",
     "output_type": "stream",
     "text": [
      "multilabel-indicator multilabel-indicator\n",
      "float64 float32\n",
      "(208, 3) (208, 3)\n",
      "Training and Evaluating on task 3\n",
      "Train data shape is  (105, 440)\n",
      "Train Labels shape is  (105, 1)\n",
      "Classes trained are: 3 to 4\n",
      "Samples with all negative labels 1\n",
      "Augmenting class labels...\n",
      "Train Labels shape is  (105, 4)\n",
      "Output dimensions: 4\n",
      "growing model size ...\n"
     ]
    },
    {
     "name": "stderr",
     "output_type": "stream",
     "text": [
      "100%|██████████| 1/1 [00:01<00:00,  1.64s/it]\n"
     ]
    },
    {
     "name": "stdout",
     "output_type": "stream",
     "text": [
      "Evaluating in individual mode on test set\n",
      "binary binary\n",
      "float64 float32\n",
      "(208, 1) (208, 1)\n",
      "Evaluating in combined mode on test set\n",
      "multilabel-indicator multilabel-indicator\n",
      "float64 float32\n",
      "(208, 4) (208, 4)\n",
      "Evaluating in individual mode on test set\n",
      "|                     |        0 |        1 |        2 |\n",
      "|:--------------------|---------:|---------:|---------:|\n",
      "| hamming loss        | 0.185096 | 0.399038 | 0.235577 |\n",
      "| zero_one_loss       | 0.370192 | 0.399038 | 0.235577 |\n",
      "| one_error           | 0        | 0.399038 | 0.235577 |\n",
      "| micro av. jaccard   | 0        | 0.429553 | 0.618677 |\n",
      "| macro av. jaccard   | 0        | 0.300481 | 0.382212 |\n",
      "| micro av. precision | 0        | 0.600962 | 0.764423 |\n",
      "| macro av. precision | 0        | 0.300481 | 0.382212 |\n",
      "| micro av. recall    | 0        | 0.600962 | 0.764423 |\n",
      "| macro av. recall    | 0        | 0.5      | 0.5      |\n",
      "| micro av. f1        | 0        | 0.600962 | 0.764423 |\n",
      "| macro av. f1        | 0        | 0.375375 | 0.433243 |\n",
      "| imb. av. f1         | 0.935674 | 0.600962 | 0.764423 |\n",
      "Evaluating in combined mode on test set\n",
      "|                     |        0 |        1 |        2 |\n",
      "|:--------------------|---------:|---------:|---------:|\n",
      "| hamming loss        | 0.185096 | 0.25641  | 0.251202 |\n",
      "| zero_one_loss       | 0.370192 | 0.769231 | 1        |\n",
      "| one_error           | 0        | 0        | 0        |\n",
      "| micro av. jaccard   | 0        | 0        | 0        |\n",
      "| macro av. jaccard   | 0        | 0        | 0        |\n",
      "| micro av. precision | 0        | 0        | 0        |\n",
      "| macro av. precision | 0        | 0        | 0        |\n",
      "| micro av. recall    | 0        | 0        | 0        |\n",
      "| macro av. recall    | 0        | 0        | 0        |\n",
      "| micro av. f1        | 0        | 0        | 0        |\n",
      "| macro av. f1        | 0        | 0        | 0        |\n",
      "| imb. av. f1         | 0.935674 | 0.909284 | 0.89234  |\n",
      "File saved to ./checkpoints_new/gpositive_0_LwF_asy.pkl\n",
      "Number of Tasks: 3\n",
      "Forgetting in task 1: first time imb. av. f1 = 0.9357, after all tasks imb. av. f1 = 0.9357\n",
      "Forgetting in task 2: first time imb. av. f1 = 0.6010, after all tasks imb. av. f1 = 0.9357\n",
      "Forgetting in task 3: first time imb. av. f1 = 0.7644, after all tasks imb. av. f1 = 0.9357\n"
     ]
    },
    {
     "data": {
      "image/png": "[encoded data removed]",
      "text/plain": [
       "<Figure size 360x360 with 1 Axes>"
      ]
     },
     "metadata": {
      "needs_background": "light"
     },
     "output_type": "display_data"
    }
   ],
   "source": [
    "hparams = Hyperparameters('gpositive', continual_method, device)\n",
    "experiment = ContinualExperiment(hparams)\n",
    "experiment.run()"
   ]
  },
  {
   "cell_type": "markdown",
   "metadata": {},
   "source": [
    "## GNegative Dataset"
   ]
  },
  {
   "cell_type": "code",
   "execution_count": 7,
   "metadata": {},
   "outputs": [
    {
     "name": "stderr",
     "output_type": "stream",
     "text": [
      "  0%|          | 0/1 [00:00<?, ?it/s]"
     ]
    },
    {
     "name": "stdout",
     "output_type": "stream",
     "text": [
      "Processing Data ...\n",
      "(836, 440)\n",
      "(556, 440)\n",
      "(836, 8)\n",
      "(556, 8)\n",
      "Begin training in LwF mode ...\n",
      "Training and Evaluating on task 1\n",
      "Train data shape is  (278, 440)\n",
      "Train Labels shape is  (278, 3)\n",
      "Classes trained are: 0 to 3\n",
      "Samples with all negative labels 1\n",
      "Output dimensions: 3\n"
     ]
    },
    {
     "name": "stderr",
     "output_type": "stream",
     "text": [
      "100%|██████████| 1/1 [00:00<00:00, 10.44it/s]"
     ]
    },
    {
     "name": "stdout",
     "output_type": "stream",
     "text": [
      "Evaluating in individual mode on test set\n"
     ]
    },
    {
     "name": "stderr",
     "output_type": "stream",
     "text": [
      "\n"
     ]
    },
    {
     "name": "stdout",
     "output_type": "stream",
     "text": [
      "multilabel-indicator multilabel-indicator\n",
      "float64 float32\n",
      "(556, 3) (556, 3)\n",
      "Evaluating in combined mode on test set\n"
     ]
    },
    {
     "name": "stderr",
     "output_type": "stream",
     "text": [
      "  0%|          | 0/1 [00:00<?, ?it/s]"
     ]
    },
    {
     "name": "stdout",
     "output_type": "stream",
     "text": [
      "multilabel-indicator multilabel-indicator\n",
      "float64 float32\n",
      "(556, 3) (556, 3)\n",
      "Training and Evaluating on task 2\n",
      "Train data shape is  (280, 440)\n",
      "Train Labels shape is  (280, 2)\n",
      "Classes trained are: 3 to 5\n",
      "Samples with all negative labels 1\n",
      "Augmenting class labels...\n",
      "Train Labels shape is  (280, 5)\n",
      "Output dimensions: 5\n",
      "growing model size ...\n"
     ]
    },
    {
     "name": "stderr",
     "output_type": "stream",
     "text": [
      "100%|██████████| 1/1 [00:11<00:00, 11.35s/it]\n"
     ]
    },
    {
     "name": "stdout",
     "output_type": "stream",
     "text": [
      "Evaluating in individual mode on test set\n",
      "multilabel-indicator multilabel-indicator\n",
      "float64 float32\n",
      "(556, 2) (556, 2)\n",
      "Evaluating in combined mode on test set\n"
     ]
    },
    {
     "name": "stderr",
     "output_type": "stream",
     "text": [
      "  0%|          | 0/1 [00:00<?, ?it/s]"
     ]
    },
    {
     "name": "stdout",
     "output_type": "stream",
     "text": [
      "multilabel-indicator multilabel-indicator\n",
      "float64 float32\n",
      "(556, 5) (556, 5)\n",
      "Training and Evaluating on task 3\n",
      "Train data shape is  (278, 440)\n",
      "Train Labels shape is  (278, 3)\n",
      "Classes trained are: 5 to 8\n",
      "Samples with all negative labels 1\n",
      "Augmenting class labels...\n",
      "Train Labels shape is  (278, 8)\n",
      "Output dimensions: 8\n",
      "growing model size ...\n"
     ]
    },
    {
     "name": "stderr",
     "output_type": "stream",
     "text": [
      "100%|██████████| 1/1 [00:11<00:00, 11.29s/it]\n"
     ]
    },
    {
     "name": "stdout",
     "output_type": "stream",
     "text": [
      "Evaluating in individual mode on test set\n",
      "multilabel-indicator multilabel-indicator\n",
      "float64 float32\n",
      "(556, 3) (556, 3)\n",
      "Evaluating in combined mode on test set\n",
      "multilabel-indicator multilabel-indicator\n",
      "float64 float32\n",
      "(556, 8) (556, 8)\n",
      "Evaluating in individual mode on test set\n",
      "|                     |        0 |         1 |         2 |\n",
      "|:--------------------|---------:|----------:|----------:|\n",
      "| hamming loss        | 0.263189 | 0.0602518 | 0.0485612 |\n",
      "| zero_one_loss       | 0.767986 | 0.120504  | 0.145683  |\n",
      "| one_error           | 0        | 0         | 0         |\n",
      "| micro av. jaccard   | 0        | 0         | 0         |\n",
      "| macro av. jaccard   | 0        | 0         | 0         |\n",
      "| micro av. precision | 0        | 0         | 0         |\n",
      "| macro av. precision | 0        | 0         | 0         |\n",
      "| micro av. recall    | 0        | 0         | 0         |\n",
      "| macro av. recall    | 0        | 0         | 0         |\n",
      "| micro av. f1        | 0        | 0         | 0         |\n",
      "| macro av. f1        | 0        | 0         | 0         |\n",
      "| imb. av. f1         | 0.822302 | 0.963846  | 0.990153  |\n",
      "Evaluating in combined mode on test set\n",
      "|                     |        0 |        1 |        2 |\n",
      "|:--------------------|---------:|---------:|---------:|\n",
      "| hamming loss        | 0.263189 | 0.182014 | 0.131969 |\n",
      "| zero_one_loss       | 0.767986 | 0.877698 | 1        |\n",
      "| one_error           | 0        | 0        | 0        |\n",
      "| micro av. jaccard   | 0        | 0        | 0        |\n",
      "| macro av. jaccard   | 0        | 0        | 0        |\n",
      "| micro av. precision | 0        | 0        | 0        |\n",
      "| macro av. precision | 0        | 0        | 0        |\n",
      "| micro av. recall    | 0        | 0        | 0        |\n",
      "| macro av. recall    | 0        | 0        | 0        |\n",
      "| micro av. f1        | 0        | 0        | 0        |\n",
      "| macro av. f1        | 0        | 0        | 0        |\n",
      "| imb. av. f1         | 0.822302 | 0.929764 | 0.977336 |\n",
      "File saved to ./checkpoints_new/gnegative_0_LwF_asy.pkl\n",
      "Number of Tasks: 3\n",
      "Forgetting in task 1: first time imb. av. f1 = 0.8223, after all tasks imb. av. f1 = 0.8223\n",
      "Forgetting in task 2: first time imb. av. f1 = 0.9638, after all tasks imb. av. f1 = 0.8223\n",
      "Forgetting in task 3: first time imb. av. f1 = 0.9902, after all tasks imb. av. f1 = 0.8223\n"
     ]
    },
    {
     "data": {
      "image/png": "[encoded data removed]",
      "text/plain": [
       "<Figure size 360x360 with 1 Axes>"
      ]
     },
     "metadata": {
      "needs_background": "light"
     },
     "output_type": "display_data"
    }
   ],
   "source": [
    "hparams = Hyperparameters('gnegative', continual_method, device)\n",
    "experiment = ContinualExperiment(hparams)\n",
    "experiment.run()"
   ]
  },
  {
   "cell_type": "markdown",
   "metadata": {},
   "source": [
    "## Plants Dataset"
   ]
  },
  {
   "cell_type": "code",
   "execution_count": 8,
   "metadata": {},
   "outputs": [
    {
     "name": "stderr",
     "output_type": "stream",
     "text": [
      "  0%|          | 0/1 [00:00<?, ?it/s]"
     ]
    },
    {
     "name": "stdout",
     "output_type": "stream",
     "text": [
      "Processing Data ...\n",
      "(588, 440)\n",
      "(390, 440)\n",
      "(588, 12)\n",
      "(390, 12)\n",
      "Begin training in LwF mode ...\n",
      "Training and Evaluating on task 1\n",
      "Train data shape is  (186, 440)\n",
      "Train Labels shape is  (186, 4)\n",
      "Classes trained are: 0 to 4\n",
      "Samples with all negative labels 0\n",
      "Output dimensions: 4\n"
     ]
    },
    {
     "name": "stderr",
     "output_type": "stream",
     "text": [
      "100%|██████████| 1/1 [00:00<00:00, 11.05it/s]"
     ]
    },
    {
     "name": "stdout",
     "output_type": "stream",
     "text": [
      "Evaluating in individual mode on test set\n"
     ]
    },
    {
     "name": "stderr",
     "output_type": "stream",
     "text": [
      "\n"
     ]
    },
    {
     "name": "stdout",
     "output_type": "stream",
     "text": [
      "multilabel-indicator multilabel-indicator\n",
      "float64 float32\n",
      "(390, 4) (390, 4)\n",
      "Evaluating in combined mode on test set\n"
     ]
    },
    {
     "name": "stderr",
     "output_type": "stream",
     "text": [
      "  0%|          | 0/1 [00:00<?, ?it/s]"
     ]
    },
    {
     "name": "stdout",
     "output_type": "stream",
     "text": [
      "multilabel-indicator multilabel-indicator\n",
      "float64 float32\n",
      "(390, 4) (390, 4)\n",
      "Training and Evaluating on task 2\n",
      "Train data shape is  (186, 440)\n",
      "Train Labels shape is  (186, 4)\n",
      "Classes trained are: 4 to 8\n",
      "Samples with all negative labels 0\n",
      "Augmenting class labels...\n",
      "Train Labels shape is  (186, 8)\n",
      "Output dimensions: 8\n",
      "growing model size ...\n"
     ]
    },
    {
     "name": "stderr",
     "output_type": "stream",
     "text": [
      "100%|██████████| 1/1 [00:05<00:00,  5.55s/it]\n"
     ]
    },
    {
     "name": "stdout",
     "output_type": "stream",
     "text": [
      "Evaluating in individual mode on test set\n",
      "multilabel-indicator multilabel-indicator\n",
      "float64 float32\n",
      "(390, 4) (390, 4)\n",
      "Evaluating in combined mode on test set\n"
     ]
    },
    {
     "name": "stderr",
     "output_type": "stream",
     "text": [
      "  0%|          | 0/1 [00:00<?, ?it/s]"
     ]
    },
    {
     "name": "stdout",
     "output_type": "stream",
     "text": [
      "multilabel-indicator multilabel-indicator\n",
      "float64 float32\n",
      "(390, 8) (390, 8)\n",
      "Training and Evaluating on task 3\n",
      "Train data shape is  (186, 440)\n",
      "Train Labels shape is  (186, 4)\n",
      "Classes trained are: 8 to 12\n",
      "Samples with all negative labels 4\n",
      "Augmenting class labels...\n",
      "Train Labels shape is  (186, 12)\n",
      "Output dimensions: 12\n",
      "growing model size ...\n"
     ]
    },
    {
     "name": "stderr",
     "output_type": "stream",
     "text": [
      "100%|██████████| 1/1 [00:05<00:00,  5.57s/it]\n"
     ]
    },
    {
     "name": "stdout",
     "output_type": "stream",
     "text": [
      "Evaluating in individual mode on test set\n",
      "multilabel-indicator multilabel-indicator\n",
      "float64 float32\n",
      "(390, 4) (390, 4)\n",
      "Evaluating in combined mode on test set\n",
      "multilabel-indicator multilabel-indicator\n",
      "float64 float32\n",
      "(390, 12) (390, 12)\n",
      "Evaluating in individual mode on test set\n",
      "|                     |        0 |         1 |         2 |\n",
      "|:--------------------|---------:|----------:|----------:|\n",
      "| hamming loss        | 0.140385 | 0.0576923 | 0.0660256 |\n",
      "| zero_one_loss       | 0.55641  | 0.230769  | 0.264103  |\n",
      "| one_error           | 0        | 0         | 0         |\n",
      "| micro av. jaccard   | 0        | 0         | 0         |\n",
      "| macro av. jaccard   | 0        | 0         | 0         |\n",
      "| micro av. precision | 0        | 0         | 0         |\n",
      "| macro av. precision | 0        | 0         | 0         |\n",
      "| micro av. recall    | 0        | 0         | 0         |\n",
      "| macro av. recall    | 0        | 0         | 0         |\n",
      "| micro av. f1        | 0        | 0         | 0         |\n",
      "| macro av. f1        | 0        | 0         | 0         |\n",
      "| imb. av. f1         | 0.930834 | 0.966163  | 0.958775  |\n",
      "Evaluating in combined mode on test set\n",
      "|                     |        0 |         1 |         2 |\n",
      "|:--------------------|---------:|----------:|----------:|\n",
      "| hamming loss        | 0.140385 | 0.0990385 | 0.0880342 |\n",
      "| zero_one_loss       | 0.55641  | 0.771795  | 1         |\n",
      "| one_error           | 0        | 0         | 0         |\n",
      "| micro av. jaccard   | 0        | 0         | 0         |\n",
      "| macro av. jaccard   | 0        | 0         | 0         |\n",
      "| micro av. precision | 0        | 0         | 0         |\n",
      "| macro av. precision | 0        | 0         | 0         |\n",
      "| micro av. recall    | 0        | 0         | 0         |\n",
      "| macro av. recall    | 0        | 0         | 0         |\n",
      "| micro av. f1        | 0        | 0         | 0         |\n",
      "| macro av. f1        | 0        | 0         | 0         |\n",
      "| imb. av. f1         | 0.930834 | 0.95427   | 0.955871  |\n",
      "File saved to ./checkpoints_new/plants_0_LwF_asy.pkl\n",
      "Number of Tasks: 3\n",
      "Forgetting in task 1: first time imb. av. f1 = 0.9308, after all tasks imb. av. f1 = 0.9308\n",
      "Forgetting in task 2: first time imb. av. f1 = 0.9662, after all tasks imb. av. f1 = 0.9308\n",
      "Forgetting in task 3: first time imb. av. f1 = 0.9588, after all tasks imb. av. f1 = 0.9308\n"
     ]
    },
    {
     "data": {
      "image/png": "[encoded data removed]",
      "text/plain": [
       "<Figure size 360x360 with 1 Axes>"
      ]
     },
     "metadata": {
      "needs_background": "light"
     },
     "output_type": "display_data"
    }
   ],
   "source": [
    "hparams = Hyperparameters('plants', continual_method, device)\n",
    "experiment = ContinualExperiment(hparams)\n",
    "experiment.run()"
   ]
  },
  {
   "cell_type": "markdown",
   "metadata": {},
   "source": [
    "## Virus Dataset"
   ]
  },
  {
   "cell_type": "code",
   "execution_count": 9,
   "metadata": {},
   "outputs": [
    {
     "name": "stderr",
     "output_type": "stream",
     "text": [
      "100%|██████████| 1/1 [00:00<00:00, 41.90it/s]"
     ]
    },
    {
     "name": "stdout",
     "output_type": "stream",
     "text": [
      "Processing Data ...\n",
      "(124, 440)\n",
      "(83, 440)\n",
      "(124, 6)\n",
      "(83, 6)\n",
      "Begin training in LwF mode ...\n",
      "Training and Evaluating on task 1\n",
      "Train data shape is  (41, 440)\n",
      "Train Labels shape is  (41, 2)\n",
      "Classes trained are: 0 to 2\n",
      "Samples with all negative labels 0\n",
      "Output dimensions: 2\n",
      "Evaluating in individual mode on test set\n",
      "multilabel-indicator multilabel-indicator\n",
      "float64 float32\n",
      "(83, 2) (83, 2)\n",
      "Evaluating in combined mode on test set\n",
      "multilabel-indicator multilabel-indicator\n",
      "float64 float32\n",
      "(83, 2) (83, 2)\n",
      "Training and Evaluating on task 2\n",
      "Train data shape is  (41, 440)\n",
      "Train Labels shape is  (41, 2)\n",
      "Classes trained are: 2 to 4\n",
      "Samples with all negative labels 2\n",
      "Augmenting class labels...\n"
     ]
    },
    {
     "name": "stderr",
     "output_type": "stream",
     "text": [
      "\n",
      "  0%|          | 0/1 [00:00<?, ?it/s]"
     ]
    },
    {
     "name": "stdout",
     "output_type": "stream",
     "text": [
      "Train Labels shape is  (41, 4)\n",
      "Output dimensions: 4\n",
      "growing model size ...\n"
     ]
    },
    {
     "name": "stderr",
     "output_type": "stream",
     "text": [
      "100%|██████████| 1/1 [00:00<00:00,  2.84it/s]\n"
     ]
    },
    {
     "name": "stdout",
     "output_type": "stream",
     "text": [
      "Evaluating in individual mode on test set\n",
      "multilabel-indicator multilabel-indicator\n",
      "float64 float32\n",
      "(83, 2) (83, 2)\n",
      "Evaluating in combined mode on test set\n",
      "multilabel-indicator multilabel-indicator\n",
      "float64 float32\n",
      "(83, 4) (83, 4)\n",
      "Training and Evaluating on task 3\n",
      "Train data shape is  (42, 440)\n",
      "Train Labels shape is  (42, 2)\n",
      "Classes trained are: 4 to 6\n",
      "Samples with all negative labels 2\n",
      "Augmenting class labels...\n"
     ]
    },
    {
     "name": "stderr",
     "output_type": "stream",
     "text": [
      "  0%|          | 0/1 [00:00<?, ?it/s]"
     ]
    },
    {
     "name": "stdout",
     "output_type": "stream",
     "text": [
      "Train Labels shape is  (42, 6)\n",
      "Output dimensions: 6\n",
      "growing model size ...\n"
     ]
    },
    {
     "name": "stderr",
     "output_type": "stream",
     "text": [
      "100%|██████████| 1/1 [00:00<00:00,  2.53it/s]\n"
     ]
    },
    {
     "name": "stdout",
     "output_type": "stream",
     "text": [
      "Evaluating in individual mode on test set\n",
      "multilabel-indicator multilabel-indicator\n",
      "float64 float32\n",
      "(83, 2) (83, 2)\n",
      "Evaluating in combined mode on test set\n",
      "multilabel-indicator multilabel-indicator\n",
      "float64 float32\n",
      "(83, 6) (83, 6)\n",
      "Evaluating in individual mode on test set\n",
      "|                     |         0 |        1 |         2 |\n",
      "|:--------------------|----------:|---------:|----------:|\n",
      "| hamming loss        | 0.439759  | 0.246988 | 0.253012  |\n",
      "| zero_one_loss       | 0.843373  | 0.493976 | 0.493976  |\n",
      "| one_error           | 0.0361446 | 0        | 0.0120482 |\n",
      "| micro av. jaccard   | 0.151163  | 0        | 0         |\n",
      "| macro av. jaccard   | 0.0783133 | 0        | 0         |\n",
      "| micro av. precision | 0.156627  | 0        | 0         |\n",
      "| macro av. precision | 0.0783133 | 0        | 0         |\n",
      "| micro av. recall    | 0.8125    | 0        | 0         |\n",
      "| macro av. recall    | 0.5       | 0        | 0         |\n",
      "| micro av. f1        | 0.262626  | 0        | 0         |\n",
      "| macro av. f1        | 0.135417  | 0        | 0         |\n",
      "| imb. av. f1         | 0.784471  | 0.855141 | 0.825849  |\n",
      "Evaluating in combined mode on test set\n",
      "|                     |         0 |         1 |         2 |\n",
      "|:--------------------|----------:|----------:|----------:|\n",
      "| hamming loss        | 0.439759  | 0.343373  | 0.313253  |\n",
      "| zero_one_loss       | 0.843373  | 0.855422  | 0.86747   |\n",
      "| one_error           | 0.0361446 | 0         | 0         |\n",
      "| micro av. jaccard   | 0.151163  | 0.102362  | 0.0769231 |\n",
      "| macro av. jaccard   | 0.0783133 | 0.0391566 | 0.0261044 |\n",
      "| micro av. precision | 0.156627  | 0.156627  | 0.156627  |\n",
      "| macro av. precision | 0.0783133 | 0.0391566 | 0.0261044 |\n",
      "| micro av. recall    | 0.8125    | 0.22807   | 0.131313  |\n",
      "| macro av. recall    | 0.5       | 0.25      | 0.166667  |\n",
      "| micro av. f1        | 0.262626  | 0.185714  | 0.142857  |\n",
      "| macro av. f1        | 0.135417  | 0.0677083 | 0.0451389 |\n",
      "| imb. av. f1         | 0.784471  | 0.80732   | 0.811287  |\n",
      "File saved to ./checkpoints_new/virus_0_LwF_asy.pkl\n",
      "Number of Tasks: 3\n",
      "Forgetting in task 1: first time imb. av. f1 = 0.0629, after all tasks imb. av. f1 = 0.7845\n",
      "Forgetting in task 2: first time imb. av. f1 = 0.8551, after all tasks imb. av. f1 = 0.7845\n",
      "Forgetting in task 3: first time imb. av. f1 = 0.8258, after all tasks imb. av. f1 = 0.7845\n"
     ]
    },
    {
     "data": {
      "image/png": "[encoded data removed]",
      "text/plain": [
       "<Figure size 360x360 with 1 Axes>"
      ]
     },
     "metadata": {
      "needs_background": "light"
     },
     "output_type": "display_data"
    }
   ],
   "source": [
    "hparams = Hyperparameters('virus', continual_method, device)\n",
    "experiment = ContinualExperiment(hparams)\n",
    "experiment.run()"
   ]
  },
  {
   "cell_type": "markdown",
   "metadata": {},
   "source": [
    "## Scene Dataset"
   ]
  },
  {
   "cell_type": "code",
   "execution_count": 10,
   "metadata": {},
   "outputs": [
    {
     "name": "stdout",
     "output_type": "stream",
     "text": [
      "Processing Data ...\n"
     ]
    },
    {
     "name": "stderr",
     "output_type": "stream",
     "text": [
      "100%|██████████| 1/1 [00:00<00:00,  5.24it/s]"
     ]
    },
    {
     "name": "stdout",
     "output_type": "stream",
     "text": [
      "(1211, 294)\n",
      "(1196, 294)\n",
      "(1211, 6)\n",
      "(1196, 6)\n",
      "Begin training in LwF mode ...\n",
      "Training and Evaluating on task 1\n",
      "Train data shape is  (405, 294)\n",
      "Train Labels shape is  (405, 2)\n",
      "Classes trained are: 0 to 2\n",
      "Samples with all negative labels 0\n",
      "Output dimensions: 2\n",
      "Evaluating in individual mode on test set\n"
     ]
    },
    {
     "name": "stderr",
     "output_type": "stream",
     "text": [
      "\n"
     ]
    },
    {
     "name": "stdout",
     "output_type": "stream",
     "text": [
      "multilabel-indicator multilabel-indicator\n",
      "float32 float32\n",
      "(1196, 2) (1196, 2)\n",
      "Evaluating in combined mode on test set\n"
     ]
    },
    {
     "name": "stderr",
     "output_type": "stream",
     "text": [
      "  0%|          | 0/1 [00:00<?, ?it/s]"
     ]
    },
    {
     "name": "stdout",
     "output_type": "stream",
     "text": [
      "multilabel-indicator multilabel-indicator\n",
      "float32 float32\n",
      "(1196, 2) (1196, 2)\n",
      "Training and Evaluating on task 2\n",
      "Train data shape is  (403, 294)\n",
      "Train Labels shape is  (403, 2)\n",
      "Classes trained are: 2 to 4\n",
      "Samples with all negative labels 2\n",
      "Augmenting class labels...\n",
      "Train Labels shape is  (403, 4)\n",
      "Output dimensions: 4\n",
      "growing model size ...\n"
     ]
    },
    {
     "name": "stderr",
     "output_type": "stream",
     "text": [
      "100%|██████████| 1/1 [00:23<00:00, 23.74s/it]\n"
     ]
    },
    {
     "name": "stdout",
     "output_type": "stream",
     "text": [
      "Evaluating in individual mode on test set\n",
      "multilabel-indicator multilabel-indicator\n",
      "float32 float32\n",
      "(1196, 2) (1196, 2)\n",
      "Evaluating in combined mode on test set\n",
      "multilabel-indicator multilabel-indicator\n",
      "float32 float32\n",
      "(1196, 4) (1196, 4)\n",
      "Training and Evaluating on task 3\n",
      "Train data shape is  (403, 294)\n",
      "Train Labels shape is  (403, 2)\n",
      "Classes trained are: 4 to 6\n",
      "Samples with all negative labels 2\n",
      "Augmenting class labels...\n"
     ]
    },
    {
     "name": "stderr",
     "output_type": "stream",
     "text": [
      "  0%|          | 0/1 [00:00<?, ?it/s]"
     ]
    },
    {
     "name": "stdout",
     "output_type": "stream",
     "text": [
      "Train Labels shape is  (403, 6)\n",
      "Output dimensions: 6\n",
      "growing model size ...\n"
     ]
    },
    {
     "name": "stderr",
     "output_type": "stream",
     "text": [
      "100%|██████████| 1/1 [00:24<00:00, 24.03s/it]\n"
     ]
    },
    {
     "name": "stdout",
     "output_type": "stream",
     "text": [
      "Evaluating in individual mode on test set\n",
      "multilabel-indicator multilabel-indicator\n",
      "float32 float32\n",
      "(1196, 2) (1196, 2)\n",
      "Evaluating in combined mode on test set\n",
      "multilabel-indicator multilabel-indicator\n",
      "float32 float32\n",
      "(1196, 6) (1196, 6)\n",
      "Evaluating in individual mode on test set\n",
      "|                     |        0 |         1 |        2 |\n",
      "|:--------------------|---------:|----------:|---------:|\n",
      "| hamming loss        | 0.166806 | 0.182692  | 0.193562 |\n",
      "| zero_one_loss       | 0.333612 | 0.352007  | 0.387124 |\n",
      "| one_error           | 0        | 0.0133779 | 0        |\n",
      "| micro av. jaccard   | 0        | 0         | 0        |\n",
      "| macro av. jaccard   | 0        | 0         | 0        |\n",
      "| micro av. precision | 0        | 0         | 0        |\n",
      "| macro av. precision | 0        | 0         | 0        |\n",
      "| micro av. recall    | 0        | 0         | 0        |\n",
      "| macro av. recall    | 0        | 0         | 0        |\n",
      "| micro av. f1        | 0        | 0         | 0        |\n",
      "| macro av. f1        | 0        | 0         | 0        |\n",
      "| imb. av. f1         | 0.833195 | 0.818611  | 0.808597 |\n",
      "Evaluating in combined mode on test set\n",
      "|                     |        0 |        1 |        2 |\n",
      "|:--------------------|---------:|---------:|---------:|\n",
      "| hamming loss        | 0.166806 | 0.174749 | 0.18102  |\n",
      "| zero_one_loss       | 0.333612 | 0.684783 | 1        |\n",
      "| one_error           | 0        | 0        | 0        |\n",
      "| micro av. jaccard   | 0        | 0        | 0        |\n",
      "| macro av. jaccard   | 0        | 0        | 0        |\n",
      "| micro av. precision | 0        | 0        | 0        |\n",
      "| macro av. precision | 0        | 0        | 0        |\n",
      "| micro av. recall    | 0        | 0        | 0        |\n",
      "| macro av. recall    | 0        | 0        | 0        |\n",
      "| micro av. f1        | 0        | 0        | 0        |\n",
      "| macro av. f1        | 0        | 0        | 0        |\n",
      "| imb. av. f1         | 0.833195 | 0.826207 | 0.820707 |\n",
      "File saved to ./checkpoints_new/scene_0_LwF_asy.pkl\n",
      "Number of Tasks: 3\n",
      "Forgetting in task 1: first time imb. av. f1 = 0.8332, after all tasks imb. av. f1 = 0.8332\n",
      "Forgetting in task 2: first time imb. av. f1 = 0.8186, after all tasks imb. av. f1 = 0.8332\n",
      "Forgetting in task 3: first time imb. av. f1 = 0.8086, after all tasks imb. av. f1 = 0.8332\n"
     ]
    },
    {
     "data": {
      "image/png": "[encoded data removed]",
      "text/plain": [
       "<Figure size 360x360 with 1 Axes>"
      ]
     },
     "metadata": {
      "needs_background": "light"
     },
     "output_type": "display_data"
    }
   ],
   "source": [
    "hparams = Hyperparameters('scene', continual_method, device)\n",
    "experiment = ContinualExperiment(hparams)\n",
    "experiment.run()"
   ]
  },
  {
   "cell_type": "markdown",
   "metadata": {},
   "source": [
    "## FoodTruck Dataset"
   ]
  },
  {
   "cell_type": "code",
   "execution_count": 11,
   "metadata": {},
   "outputs": [
    {
     "name": "stdout",
     "output_type": "stream",
     "text": [
      "Processing Data ...\n"
     ]
    },
    {
     "name": "stderr",
     "output_type": "stream",
     "text": [
      "  0%|          | 0/1 [00:00<?, ?it/s]"
     ]
    },
    {
     "name": "stdout",
     "output_type": "stream",
     "text": [
      "(250, 21)\n",
      "(250, 21)\n",
      "(250, 12)\n",
      "(250, 12)\n",
      "Begin training in LwF mode ...\n",
      "Training and Evaluating on task 1\n",
      "Train data shape is  (90, 21)\n",
      "Train Labels shape is  (90, 4)\n",
      "Classes trained are: 0 to 4\n",
      "Samples with all negative labels 0\n",
      "Output dimensions: 4\n"
     ]
    },
    {
     "name": "stderr",
     "output_type": "stream",
     "text": [
      "100%|██████████| 1/1 [00:00<00:00, 30.13it/s]"
     ]
    },
    {
     "name": "stdout",
     "output_type": "stream",
     "text": [
      "Evaluating in individual mode on test set\n",
      "multilabel-indicator multilabel-indicator\n",
      "float64 float32\n",
      "(250, 4) (250, 4)\n"
     ]
    },
    {
     "name": "stderr",
     "output_type": "stream",
     "text": [
      "\n"
     ]
    },
    {
     "name": "stdout",
     "output_type": "stream",
     "text": [
      "Evaluating in combined mode on test set\n"
     ]
    },
    {
     "name": "stderr",
     "output_type": "stream",
     "text": [
      "  0%|          | 0/1 [00:00<?, ?it/s]"
     ]
    },
    {
     "name": "stdout",
     "output_type": "stream",
     "text": [
      "multilabel-indicator multilabel-indicator\n",
      "float64 float32\n",
      "(250, 4) (250, 4)\n",
      "Training and Evaluating on task 2\n",
      "Train data shape is  (80, 21)\n",
      "Train Labels shape is  (80, 4)\n",
      "Classes trained are: 4 to 8\n",
      "Samples with all negative labels 0\n",
      "Augmenting class labels...\n",
      "Train Labels shape is  (80, 8)\n",
      "Output dimensions: 8\n",
      "growing model size ...\n"
     ]
    },
    {
     "name": "stderr",
     "output_type": "stream",
     "text": [
      "100%|██████████| 1/1 [00:00<00:00,  1.20it/s]\n"
     ]
    },
    {
     "name": "stdout",
     "output_type": "stream",
     "text": [
      "Evaluating in individual mode on test set\n",
      "multilabel-indicator multilabel-indicator\n",
      "float64 float32\n",
      "(250, 4) (250, 4)\n",
      "Evaluating in combined mode on test set\n"
     ]
    },
    {
     "name": "stderr",
     "output_type": "stream",
     "text": [
      "  0%|          | 0/1 [00:00<?, ?it/s]"
     ]
    },
    {
     "name": "stdout",
     "output_type": "stream",
     "text": [
      "multilabel-indicator multilabel-indicator\n",
      "float64 float32\n",
      "(250, 8) (250, 8)\n",
      "Training and Evaluating on task 3\n",
      "Train data shape is  (80, 21)\n",
      "Train Labels shape is  (80, 4)\n",
      "Classes trained are: 8 to 12\n",
      "Samples with all negative labels 0\n",
      "Augmenting class labels...\n",
      "Train Labels shape is  (80, 12)\n",
      "Output dimensions: 12\n",
      "growing model size ...\n"
     ]
    },
    {
     "name": "stderr",
     "output_type": "stream",
     "text": [
      "100%|██████████| 1/1 [00:00<00:00,  1.17it/s]\n"
     ]
    },
    {
     "name": "stdout",
     "output_type": "stream",
     "text": [
      "Evaluating in individual mode on test set\n",
      "multilabel-indicator multilabel-indicator\n",
      "float64 float32\n",
      "(250, 4) (250, 4)\n",
      "Evaluating in combined mode on test set\n",
      "multilabel-indicator multilabel-indicator\n",
      "float64 float32\n",
      "(250, 12) (250, 12)\n",
      "Evaluating in individual mode on test set\n",
      "|                     |        0 |        1 |        2 |\n",
      "|:--------------------|---------:|---------:|---------:|\n",
      "| hamming loss        | 0.312    | 0.065    | 0.169    |\n",
      "| zero_one_loss       | 0.888    | 0.184    | 0.48     |\n",
      "| one_error           | 0.004    | 0.004    | 0.004    |\n",
      "| micro av. jaccard   | 0.45359  | 0        | 0        |\n",
      "| macro av. jaccard   | 0.259    | 0        | 0        |\n",
      "| micro av. precision | 0.518    | 0        | 0        |\n",
      "| macro av. precision | 0.259    | 0        | 0        |\n",
      "| micro av. recall    | 0.784848 | 0        | 0        |\n",
      "| macro av. recall    | 0.5      | 0        | 0        |\n",
      "| micro av. f1        | 0.624096 | 0        | 0        |\n",
      "| macro av. f1        | 0.328879 | 0        | 0        |\n",
      "| imb. av. f1         | 0.766145 | 0.940867 | 0.891479 |\n",
      "Evaluating in combined mode on test set\n",
      "|                     |        0 |        1 |         2 |\n",
      "|:--------------------|---------:|---------:|----------:|\n",
      "| hamming loss        | 0.312    | 0.1885   | 0.182     |\n",
      "| zero_one_loss       | 0.888    | 0.912    | 0.984     |\n",
      "| one_error           | 0.004    | 0        | 0         |\n",
      "| micro av. jaccard   | 0.45359  | 0.407233 | 0.321739  |\n",
      "| macro av. jaccard   | 0.259    | 0.1295   | 0.0863333 |\n",
      "| micro av. precision | 0.518    | 0.518    | 0.518     |\n",
      "| macro av. precision | 0.259    | 0.1295   | 0.0863333 |\n",
      "| micro av. recall    | 0.784848 | 0.655696 | 0.45922   |\n",
      "| macro av. recall    | 0.5      | 0.25     | 0.166667  |\n",
      "| micro av. f1        | 0.624096 | 0.578771 | 0.486842  |\n",
      "| macro av. f1        | 0.328879 | 0.16444  | 0.109626  |\n",
      "| imb. av. f1         | 0.766145 | 0.900181 | 0.897563  |\n",
      "File saved to ./checkpoints_new/FoodTruck_0_LwF_asy.pkl\n",
      "Number of Tasks: 3\n",
      "Forgetting in task 1: first time imb. av. f1 = 0.3848, after all tasks imb. av. f1 = 0.7661\n",
      "Forgetting in task 2: first time imb. av. f1 = 0.9409, after all tasks imb. av. f1 = 0.7661\n",
      "Forgetting in task 3: first time imb. av. f1 = 0.8915, after all tasks imb. av. f1 = 0.7661\n"
     ]
    },
    {
     "data": {
      "image/png": "[encoded data removed]",
      "text/plain": [
       "<Figure size 360x360 with 1 Axes>"
      ]
     },
     "metadata": {
      "needs_background": "light"
     },
     "output_type": "display_data"
    }
   ],
   "source": [
    "hparams = Hyperparameters('FoodTruck', continual_method, device)\n",
    "experiment = ContinualExperiment(hparams)\n",
    "experiment.run()"
   ]
  },
  {
   "cell_type": "markdown",
   "metadata": {},
   "source": [
    "## Human Dataset"
   ]
  },
  {
   "cell_type": "code",
   "execution_count": 12,
   "metadata": {},
   "outputs": [
    {
     "name": "stderr",
     "output_type": "stream",
     "text": [
      "  0%|          | 0/1 [00:00<?, ?it/s]"
     ]
    },
    {
     "name": "stdout",
     "output_type": "stream",
     "text": [
      "Processing Data ...\n",
      "(1862, 440)\n",
      "(1244, 440)\n",
      "(1862, 11)\n",
      "(1244, 11)\n",
      "Begin training in LwF mode ...\n",
      "Training and Evaluating on task 1\n",
      "Train data shape is  (310, 440)\n",
      "Train Labels shape is  (310, 2)\n",
      "Classes trained are: 0 to 2\n",
      "Samples with all negative labels 0\n",
      "Output dimensions: 2\n"
     ]
    },
    {
     "name": "stderr",
     "output_type": "stream",
     "text": [
      "100%|██████████| 1/1 [00:00<00:00,  7.51it/s]"
     ]
    },
    {
     "name": "stdout",
     "output_type": "stream",
     "text": [
      "Evaluating in individual mode on test set\n"
     ]
    },
    {
     "name": "stderr",
     "output_type": "stream",
     "text": [
      "\n"
     ]
    },
    {
     "name": "stdout",
     "output_type": "stream",
     "text": [
      "multilabel-indicator multilabel-indicator\n",
      "float64 float32\n",
      "(1244, 2) (1244, 2)\n",
      "Evaluating in combined mode on test set\n"
     ]
    },
    {
     "name": "stderr",
     "output_type": "stream",
     "text": [
      "  0%|          | 0/1 [00:00<?, ?it/s]"
     ]
    },
    {
     "name": "stdout",
     "output_type": "stream",
     "text": [
      "multilabel-indicator multilabel-indicator\n",
      "float64 float32\n",
      "(1244, 2) (1244, 2)\n",
      "Training and Evaluating on task 2\n",
      "Train data shape is  (310, 440)\n",
      "Train Labels shape is  (310, 2)\n",
      "Classes trained are: 2 to 4\n",
      "Samples with all negative labels 0\n",
      "Augmenting class labels...\n",
      "Train Labels shape is  (310, 4)\n",
      "Output dimensions: 4\n",
      "growing model size ...\n"
     ]
    },
    {
     "name": "stderr",
     "output_type": "stream",
     "text": [
      "100%|██████████| 1/1 [00:15<00:00, 15.15s/it]\n"
     ]
    },
    {
     "name": "stdout",
     "output_type": "stream",
     "text": [
      "Evaluating in individual mode on test set\n",
      "multilabel-indicator multilabel-indicator\n",
      "float64 float32\n",
      "(1244, 2) (1244, 2)\n",
      "Evaluating in combined mode on test set\n"
     ]
    },
    {
     "name": "stderr",
     "output_type": "stream",
     "text": [
      "  0%|          | 0/1 [00:00<?, ?it/s]"
     ]
    },
    {
     "name": "stdout",
     "output_type": "stream",
     "text": [
      "multilabel-indicator multilabel-indicator\n",
      "float64 float32\n",
      "(1244, 4) (1244, 4)\n",
      "Training and Evaluating on task 3\n",
      "Train data shape is  (310, 440)\n",
      "Train Labels shape is  (310, 2)\n",
      "Classes trained are: 4 to 6\n",
      "Samples with all negative labels 2\n",
      "Augmenting class labels...\n",
      "Train Labels shape is  (310, 6)\n",
      "Output dimensions: 6\n",
      "growing model size ...\n"
     ]
    },
    {
     "name": "stderr",
     "output_type": "stream",
     "text": [
      "100%|██████████| 1/1 [00:15<00:00, 15.12s/it]\n"
     ]
    },
    {
     "name": "stdout",
     "output_type": "stream",
     "text": [
      "Evaluating in individual mode on test set\n",
      "multilabel-indicator multilabel-indicator\n",
      "float64 float32\n",
      "(1244, 2) (1244, 2)\n",
      "Evaluating in combined mode on test set\n"
     ]
    },
    {
     "name": "stderr",
     "output_type": "stream",
     "text": [
      "  0%|          | 0/1 [00:00<?, ?it/s]"
     ]
    },
    {
     "name": "stdout",
     "output_type": "stream",
     "text": [
      "multilabel-indicator multilabel-indicator\n",
      "float64 float32\n",
      "(1244, 6) (1244, 6)\n",
      "Training and Evaluating on task 4\n",
      "Train data shape is  (310, 440)\n",
      "Train Labels shape is  (310, 2)\n",
      "Classes trained are: 6 to 8\n",
      "Samples with all negative labels 0\n",
      "Augmenting class labels...\n",
      "Train Labels shape is  (310, 8)\n",
      "Output dimensions: 8\n",
      "growing model size ...\n"
     ]
    },
    {
     "name": "stderr",
     "output_type": "stream",
     "text": [
      "100%|██████████| 1/1 [00:15<00:00, 15.04s/it]\n"
     ]
    },
    {
     "name": "stdout",
     "output_type": "stream",
     "text": [
      "Evaluating in individual mode on test set\n",
      "multilabel-indicator multilabel-indicator\n",
      "float64 float32\n",
      "(1244, 2) (1244, 2)\n",
      "Evaluating in combined mode on test set\n",
      "multilabel-indicator multilabel-indicator\n",
      "float64 float32\n",
      "(1244, 8) (1244, 8)\n",
      "Training and Evaluating on task 5\n",
      "Train data shape is  (622, 440)\n",
      "Train Labels shape is  (622, 3)\n",
      "Classes trained are: 8 to 11\n",
      "Samples with all negative labels 0\n",
      "Augmenting class labels...\n"
     ]
    },
    {
     "name": "stderr",
     "output_type": "stream",
     "text": [
      "  0%|          | 0/1 [00:00<?, ?it/s]"
     ]
    },
    {
     "name": "stdout",
     "output_type": "stream",
     "text": [
      "Train Labels shape is  (622, 11)\n",
      "Output dimensions: 11\n",
      "growing model size ...\n"
     ]
    },
    {
     "name": "stderr",
     "output_type": "stream",
     "text": [
      "100%|██████████| 1/1 [00:59<00:00, 59.64s/it]\n"
     ]
    },
    {
     "name": "stdout",
     "output_type": "stream",
     "text": [
      "Evaluating in individual mode on test set\n",
      "multilabel-indicator multilabel-indicator\n",
      "float64 float32\n",
      "(1244, 3) (1244, 3)\n",
      "Evaluating in combined mode on test set\n",
      "multilabel-indicator multilabel-indicator\n",
      "float64 float32\n",
      "(1244, 11) (1244, 11)\n",
      "Evaluating in individual mode on test set\n",
      "|                     |         0 |         1 |         2 |        3 |        4 |\n",
      "|:--------------------|----------:|----------:|----------:|---------:|---------:|\n",
      "| hamming loss        | 0.381431  | 0.474678  | 0.536576  | 0.073955 | 0.269293 |\n",
      "| zero_one_loss       | 0.741961  | 0.924437  | 0.951768  | 0.14791  | 0.681672 |\n",
      "| one_error           | 0.0209003 | 0.0249196 | 0.121383  | 0        | 0        |\n",
      "| micro av. jaccard   | 0.255686  | 0.0737255 | 0.0443808 | 0        | 0.283678 |\n",
      "| macro av. jaccard   | 0.131029  | 0.0377814 | 0.0249196 | 0        | 0.106645 |\n",
      "| micro av. precision | 0.262058  | 0.0755627 | 0.0498392 | 0        | 0.319936 |\n",
      "| macro av. precision | 0.131029  | 0.0377814 | 0.0249196 | 0        | 0.106645 |\n",
      "| micro av. recall    | 0.913165  | 0.752     | 0.288372  | 0        | 0.714542 |\n",
      "| macro av. recall    | 0.5       | 0.5       | 0.5       | 0        | 0.333333 |\n",
      "| micro av. f1        | 0.407245  | 0.137327  | 0.0849897 | 0        | 0.441977 |\n",
      "| macro av. f1        | 0.207643  | 0.0702541 | 0.0474732 | 0        | 0.161592 |\n",
      "| imb. av. f1         | 0.911524  | 0.74843   | 0.289985  | 0.955122 | 0.942933 |\n",
      "Evaluating in combined mode on test set\n",
      "|                     |         0 |          1 |         2 |         3 |         4 |\n",
      "|:--------------------|----------:|-----------:|----------:|----------:|----------:|\n",
      "| hamming loss        | 0.381431  | 0.428055   | 0.464228  | 0.36666   | 0.340105  |\n",
      "| zero_one_loss       | 0.741961  | 0.995177   | 0.999196  | 0.999196  | 1         |\n",
      "| one_error           | 0.0209003 | 0.00321543 | 0         | 0         | 0         |\n",
      "| micro av. jaccard   | 0.255686  | 0.164706   | 0.122118  | 0.116679  | 0.159017  |\n",
      "| macro av. jaccard   | 0.131029  | 0.0844051  | 0.0645766 | 0.0484325 | 0.0643087 |\n",
      "| micro av. precision | 0.262058  | 0.16881    | 0.129153  | 0.129153  | 0.176849  |\n",
      "| macro av. precision | 0.131029  | 0.0844051  | 0.0645766 | 0.0484325 | 0.0643087 |\n",
      "| micro av. recall    | 0.913165  | 0.871369   | 0.691535  | 0.547106  | 0.611961  |\n",
      "| macro av. recall    | 0.5       | 0.5        | 0.5       | 0.375     | 0.363636  |\n",
      "| micro av. f1        | 0.407245  | 0.282828   | 0.217656  | 0.208975  | 0.2744    |\n",
      "| macro av. f1        | 0.207643  | 0.138949   | 0.108457  | 0.0813427 | 0.103229  |\n",
      "| imb. av. f1         | 0.911524  | 0.821973   | 0.701114  | 0.768004  | 0.820477  |\n",
      "File saved to ./checkpoints_new/Human_0_LwF_asy.pkl\n",
      "Number of Tasks: 5\n",
      "Forgetting in task 1: first time imb. av. f1 = 0.9539, after all tasks imb. av. f1 = 0.9115\n",
      "Forgetting in task 2: first time imb. av. f1 = 0.9623, after all tasks imb. av. f1 = 0.9115\n",
      "Forgetting in task 3: first time imb. av. f1 = 0.9289, after all tasks imb. av. f1 = 0.9115\n",
      "Forgetting in task 4: first time imb. av. f1 = 0.9551, after all tasks imb. av. f1 = 0.9115\n",
      "Forgetting in task 5: first time imb. av. f1 = 0.9429, after all tasks imb. av. f1 = 0.9115\n"
     ]
    },
    {
     "data": {
      "image/png": "[encoded data removed]",
      "text/plain": [
       "<Figure size 360x360 with 1 Axes>"
      ]
     },
     "metadata": {
      "needs_background": "light"
     },
     "output_type": "display_data"
    }
   ],
   "source": [
    "hparams = Hyperparameters('Human', continual_method, device)\n",
    "experiment = ContinualExperiment(hparams)\n",
    "experiment.run()"
   ]
  },
  {
   "cell_type": "markdown",
   "metadata": {},
   "source": [
    "## Birds Dataset"
   ]
  },
  {
   "cell_type": "code",
   "execution_count": 13,
   "metadata": {},
   "outputs": [
    {
     "name": "stdout",
     "output_type": "stream",
     "text": [
      "Processing Data ...\n"
     ]
    },
    {
     "name": "stderr",
     "output_type": "stream",
     "text": [
      "100%|██████████| 1/1 [00:00<00:00, 42.38it/s]"
     ]
    },
    {
     "name": "stdout",
     "output_type": "stream",
     "text": [
      "(322, 260)\n",
      "(323, 260)\n",
      "(322, 19)\n",
      "(323, 19)\n",
      "Begin training in LwF mode ...\n",
      "Training and Evaluating on task 1\n",
      "Train data shape is  (54, 260)\n",
      "Train Labels shape is  (54, 3)\n",
      "Classes trained are: 0 to 3\n",
      "Samples with all negative labels 0\n",
      "Output dimensions: 3\n",
      "Evaluating in individual mode on test set\n"
     ]
    },
    {
     "name": "stderr",
     "output_type": "stream",
     "text": [
      "\n"
     ]
    },
    {
     "name": "stdout",
     "output_type": "stream",
     "text": [
      "multilabel-indicator multilabel-indicator\n",
      "float32 float32\n",
      "(323, 3) (323, 3)\n",
      "Evaluating in combined mode on test set\n",
      "multilabel-indicator multilabel-indicator\n",
      "float32 float32\n",
      "(323, 3) (323, 3)\n"
     ]
    },
    {
     "name": "stderr",
     "output_type": "stream",
     "text": [
      "  0%|          | 0/1 [00:00<?, ?it/s]"
     ]
    },
    {
     "name": "stdout",
     "output_type": "stream",
     "text": [
      "Training and Evaluating on task 2\n",
      "Train data shape is  (54, 260)\n",
      "Train Labels shape is  (54, 3)\n",
      "Classes trained are: 3 to 6\n",
      "Samples with all negative labels 1\n",
      "Augmenting class labels...\n",
      "Train Labels shape is  (54, 6)\n",
      "Output dimensions: 6\n",
      "growing model size ...\n"
     ]
    },
    {
     "name": "stderr",
     "output_type": "stream",
     "text": [
      "100%|██████████| 1/1 [00:00<00:00,  2.10it/s]\n"
     ]
    },
    {
     "name": "stdout",
     "output_type": "stream",
     "text": [
      "Evaluating in individual mode on test set\n",
      "multilabel-indicator multilabel-indicator\n",
      "float32 float32\n",
      "(323, 3) (323, 3)\n",
      "Evaluating in combined mode on test set\n"
     ]
    },
    {
     "name": "stderr",
     "output_type": "stream",
     "text": [
      "  0%|          | 0/1 [00:00<?, ?it/s]"
     ]
    },
    {
     "name": "stdout",
     "output_type": "stream",
     "text": [
      "multilabel-indicator multilabel-indicator\n",
      "float32 float32\n",
      "(323, 6) (323, 6)\n",
      "Training and Evaluating on task 3\n",
      "Train data shape is  (54, 260)\n",
      "Train Labels shape is  (54, 3)\n",
      "Classes trained are: 6 to 9\n",
      "Samples with all negative labels 0\n",
      "Augmenting class labels...\n",
      "Train Labels shape is  (54, 9)\n",
      "Output dimensions: 9\n",
      "growing model size ...\n"
     ]
    },
    {
     "name": "stderr",
     "output_type": "stream",
     "text": [
      "100%|██████████| 1/1 [00:00<00:00,  2.06it/s]\n"
     ]
    },
    {
     "name": "stdout",
     "output_type": "stream",
     "text": [
      "Evaluating in individual mode on test set\n",
      "multilabel-indicator multilabel-indicator\n",
      "float32 float32\n",
      "(323, 3) (323, 3)\n",
      "Evaluating in combined mode on test set\n"
     ]
    },
    {
     "name": "stderr",
     "output_type": "stream",
     "text": [
      "  0%|          | 0/1 [00:00<?, ?it/s]"
     ]
    },
    {
     "name": "stdout",
     "output_type": "stream",
     "text": [
      "multilabel-indicator multilabel-indicator\n",
      "float32 float32\n",
      "(323, 9) (323, 9)\n",
      "Training and Evaluating on task 4\n",
      "Train data shape is  (54, 260)\n",
      "Train Labels shape is  (54, 3)\n",
      "Classes trained are: 9 to 12\n",
      "Samples with all negative labels 0\n",
      "Augmenting class labels...\n",
      "Train Labels shape is  (54, 12)\n",
      "Output dimensions: 12\n",
      "growing model size ...\n"
     ]
    },
    {
     "name": "stderr",
     "output_type": "stream",
     "text": [
      "100%|██████████| 1/1 [00:00<00:00,  2.05it/s]\n"
     ]
    },
    {
     "name": "stdout",
     "output_type": "stream",
     "text": [
      "Evaluating in individual mode on test set\n",
      "multilabel-indicator multilabel-indicator\n",
      "float32 float32\n",
      "(323, 3) (323, 3)\n",
      "Evaluating in combined mode on test set\n"
     ]
    },
    {
     "name": "stderr",
     "output_type": "stream",
     "text": [
      "  0%|          | 0/1 [00:00<?, ?it/s]"
     ]
    },
    {
     "name": "stdout",
     "output_type": "stream",
     "text": [
      "multilabel-indicator multilabel-indicator\n",
      "float32 float32\n",
      "(323, 12) (323, 12)\n",
      "Training and Evaluating on task 5\n",
      "Train data shape is  (54, 260)\n",
      "Train Labels shape is  (54, 3)\n",
      "Classes trained are: 12 to 15\n",
      "Samples with all negative labels 0\n",
      "Augmenting class labels...\n",
      "Train Labels shape is  (54, 15)\n",
      "Output dimensions: 15\n",
      "growing model size ...\n"
     ]
    },
    {
     "name": "stderr",
     "output_type": "stream",
     "text": [
      "100%|██████████| 1/1 [00:00<00:00,  2.11it/s]\n"
     ]
    },
    {
     "name": "stdout",
     "output_type": "stream",
     "text": [
      "Evaluating in individual mode on test set\n",
      "multilabel-indicator multilabel-indicator\n",
      "float32 float32\n",
      "(323, 3) (323, 3)\n",
      "Evaluating in combined mode on test set\n"
     ]
    },
    {
     "name": "stderr",
     "output_type": "stream",
     "text": [
      "  0%|          | 0/1 [00:00<?, ?it/s]"
     ]
    },
    {
     "name": "stdout",
     "output_type": "stream",
     "text": [
      "multilabel-indicator multilabel-indicator\n",
      "float32 float32\n",
      "(323, 15) (323, 15)\n",
      "Training and Evaluating on task 6\n",
      "Train data shape is  (52, 260)\n",
      "Train Labels shape is  (52, 4)\n",
      "Classes trained are: 15 to 19\n",
      "Samples with all negative labels 0\n",
      "Augmenting class labels...\n",
      "Train Labels shape is  (52, 19)\n",
      "Output dimensions: 19\n",
      "growing model size ...\n"
     ]
    },
    {
     "name": "stderr",
     "output_type": "stream",
     "text": [
      "100%|██████████| 1/1 [00:00<00:00,  2.15it/s]\n"
     ]
    },
    {
     "name": "stdout",
     "output_type": "stream",
     "text": [
      "Evaluating in individual mode on test set\n",
      "multilabel-indicator multilabel-indicator\n",
      "float32 float32\n",
      "(323, 4) (323, 4)\n",
      "Evaluating in combined mode on test set\n",
      "multilabel-indicator multilabel-indicator\n",
      "float32 float32\n",
      "(323, 19) (323, 19)\n",
      "Evaluating in individual mode on test set\n",
      "|                     |         0 |         1 |          2 |         3 |         4 |         5 |\n",
      "|:--------------------|----------:|----------:|-----------:|----------:|----------:|----------:|\n",
      "| hamming loss        | 0.0804954 | 0.0185759 | 0.0743034  | 0.0856553 | 0.0381837 | 0.0193498 |\n",
      "| zero_one_loss       | 0.219814  | 0.0557276 | 0.201238   | 0.232198  | 0.108359  | 0.0773994 |\n",
      "| one_error           | 0         | 0         | 0.00309598 | 0         | 0         | 0         |\n",
      "| micro av. jaccard   | 0         | 0         | 0          | 0         | 0         | 0         |\n",
      "| macro av. jaccard   | 0         | 0         | 0          | 0         | 0         | 0         |\n",
      "| micro av. precision | 0         | 0         | 0          | 0         | 0         | 0         |\n",
      "| macro av. precision | 0         | 0         | 0          | 0         | 0         | 0         |\n",
      "| micro av. recall    | 0         | 0         | 0          | 0         | 0         | 0         |\n",
      "| macro av. recall    | 0         | 0         | 0          | 0         | 0         | 0         |\n",
      "| micro av. f1        | 0         | 0         | 0          | 0         | 0         | 0         |\n",
      "| macro av. f1        | 0         | 0         | 0          | 0         | 0         | 0         |\n",
      "| imb. av. f1         | 0.95282   | 0.981721  | 0.929623   | 0.924588  | 0.977474  | 0.985997  |\n",
      "Evaluating in combined mode on test set\n",
      "|                     |         0 |         1 |         2 |         3 |         4 |         5 |\n",
      "|:--------------------|----------:|----------:|----------:|----------:|----------:|----------:|\n",
      "| hamming loss        | 0.0804954 | 0.0495356 | 0.0577915 | 0.0647575 | 0.0594427 | 0.0510021 |\n",
      "| zero_one_loss       | 0.219814  | 0.26935   | 0.390093  | 0.479876  | 0.495356  | 0.532508  |\n",
      "| one_error           | 0         | 0         | 0         | 0         | 0         | 0         |\n",
      "| micro av. jaccard   | 0         | 0         | 0         | 0         | 0         | 0         |\n",
      "| macro av. jaccard   | 0         | 0         | 0         | 0         | 0         | 0         |\n",
      "| micro av. precision | 0         | 0         | 0         | 0         | 0         | 0         |\n",
      "| macro av. precision | 0         | 0         | 0         | 0         | 0         | 0         |\n",
      "| micro av. recall    | 0         | 0         | 0         | 0         | 0         | 0         |\n",
      "| macro av. recall    | 0         | 0         | 0         | 0         | 0         | 0         |\n",
      "| micro av. f1        | 0         | 0         | 0         | 0         | 0         | 0         |\n",
      "| macro av. f1        | 0         | 0         | 0         | 0         | 0         | 0         |\n",
      "| imb. av. f1         | 0.95282   | 0.973099  | 0.965729  | 0.960095  | 0.965232  | 0.972941  |\n",
      "File saved to ./checkpoints_new/birds_0_LwF_asy.pkl\n",
      "Number of Tasks: 6\n",
      "Forgetting in task 1: first time imb. av. f1 = 0.9525, after all tasks imb. av. f1 = 0.9528\n",
      "Forgetting in task 2: first time imb. av. f1 = 0.9817, after all tasks imb. av. f1 = 0.9528\n",
      "Forgetting in task 3: first time imb. av. f1 = 0.9296, after all tasks imb. av. f1 = 0.9528\n",
      "Forgetting in task 4: first time imb. av. f1 = 0.9246, after all tasks imb. av. f1 = 0.9528\n",
      "Forgetting in task 5: first time imb. av. f1 = 0.9775, after all tasks imb. av. f1 = 0.9528\n",
      "Forgetting in task 6: first time imb. av. f1 = 0.9860, after all tasks imb. av. f1 = 0.9528\n"
     ]
    },
    {
     "data": {
      "image/png": "[encoded data removed]",
      "text/plain": [
       "<Figure size 360x360 with 1 Axes>"
      ]
     },
     "metadata": {
      "needs_background": "light"
     },
     "output_type": "display_data"
    }
   ],
   "source": [
    "hparams = Hyperparameters('birds', continual_method, device)\n",
    "experiment = ContinualExperiment(hparams)\n",
    "experiment.run()"
   ]
  },
  {
   "cell_type": "markdown",
   "metadata": {},
   "source": [
    "## Yeast Dataset, 6 tasks"
   ]
  },
  {
   "cell_type": "code",
   "execution_count": 14,
   "metadata": {},
   "outputs": [
    {
     "name": "stdout",
     "output_type": "stream",
     "text": [
      "Processing Data ...\n"
     ]
    },
    {
     "name": "stderr",
     "output_type": "stream",
     "text": [
      "100%|██████████| 1/1 [00:00<00:00,  9.02it/s]"
     ]
    },
    {
     "name": "stdout",
     "output_type": "stream",
     "text": [
      "(1500, 103)\n",
      "(917, 103)\n",
      "(1500, 13)\n",
      "(917, 13)\n",
      "Begin training in LwF mode ...\n",
      "Training and Evaluating on task 1\n",
      "Train data shape is  (250, 103)\n",
      "Train Labels shape is  (250, 2)\n",
      "Classes trained are: 0 to 2\n",
      "Samples with all negative labels 0\n",
      "Output dimensions: 2\n",
      "Evaluating in individual mode on test set\n"
     ]
    },
    {
     "name": "stderr",
     "output_type": "stream",
     "text": [
      "\n"
     ]
    },
    {
     "name": "stdout",
     "output_type": "stream",
     "text": [
      "multilabel-indicator multilabel-indicator\n",
      "float32 float32\n",
      "(917, 2) (917, 2)\n",
      "Evaluating in combined mode on test set\n"
     ]
    },
    {
     "name": "stderr",
     "output_type": "stream",
     "text": [
      "  0%|          | 0/1 [00:00<?, ?it/s]"
     ]
    },
    {
     "name": "stdout",
     "output_type": "stream",
     "text": [
      "multilabel-indicator multilabel-indicator\n",
      "float32 float32\n",
      "(917, 2) (917, 2)\n",
      "Training and Evaluating on task 2\n",
      "Train data shape is  (250, 103)\n",
      "Train Labels shape is  (250, 2)\n",
      "Classes trained are: 2 to 4\n",
      "Samples with all negative labels 0\n",
      "Augmenting class labels...\n",
      "Train Labels shape is  (250, 4)\n",
      "Output dimensions: 4\n",
      "growing model size ...\n"
     ]
    },
    {
     "name": "stderr",
     "output_type": "stream",
     "text": [
      "100%|██████████| 1/1 [00:09<00:00,  9.26s/it]\n"
     ]
    },
    {
     "name": "stdout",
     "output_type": "stream",
     "text": [
      "Evaluating in individual mode on test set\n",
      "multilabel-indicator multilabel-indicator\n",
      "float32 float32\n",
      "(917, 2) (917, 2)\n",
      "Evaluating in combined mode on test set\n"
     ]
    },
    {
     "name": "stderr",
     "output_type": "stream",
     "text": [
      "  0%|          | 0/1 [00:00<?, ?it/s]"
     ]
    },
    {
     "name": "stdout",
     "output_type": "stream",
     "text": [
      "multilabel-indicator multilabel-indicator\n",
      "float32 float32\n",
      "(917, 4) (917, 4)\n",
      "Training and Evaluating on task 3\n",
      "Train data shape is  (250, 103)\n",
      "Train Labels shape is  (250, 2)\n",
      "Classes trained are: 4 to 6\n",
      "Samples with all negative labels 0\n",
      "Augmenting class labels...\n",
      "Train Labels shape is  (250, 6)\n",
      "Output dimensions: 6\n",
      "growing model size ...\n"
     ]
    },
    {
     "name": "stderr",
     "output_type": "stream",
     "text": [
      "100%|██████████| 1/1 [00:09<00:00,  9.26s/it]\n"
     ]
    },
    {
     "name": "stdout",
     "output_type": "stream",
     "text": [
      "Evaluating in individual mode on test set\n",
      "multilabel-indicator multilabel-indicator\n",
      "float32 float32\n",
      "(917, 2) (917, 2)\n",
      "Evaluating in combined mode on test set\n"
     ]
    },
    {
     "name": "stderr",
     "output_type": "stream",
     "text": [
      "  0%|          | 0/1 [00:00<?, ?it/s]"
     ]
    },
    {
     "name": "stdout",
     "output_type": "stream",
     "text": [
      "multilabel-indicator multilabel-indicator\n",
      "float32 float32\n",
      "(917, 6) (917, 6)\n",
      "Training and Evaluating on task 4\n",
      "Train data shape is  (250, 103)\n",
      "Train Labels shape is  (250, 2)\n",
      "Classes trained are: 6 to 8\n",
      "Samples with all negative labels 0\n",
      "Augmenting class labels...\n",
      "Train Labels shape is  (250, 8)\n",
      "Output dimensions: 8\n",
      "growing model size ...\n"
     ]
    },
    {
     "name": "stderr",
     "output_type": "stream",
     "text": [
      "100%|██████████| 1/1 [00:09<00:00,  9.40s/it]\n"
     ]
    },
    {
     "name": "stdout",
     "output_type": "stream",
     "text": [
      "Evaluating in individual mode on test set\n",
      "multilabel-indicator multilabel-indicator\n",
      "float32 float32\n",
      "(917, 2) (917, 2)\n",
      "Evaluating in combined mode on test set\n"
     ]
    },
    {
     "name": "stderr",
     "output_type": "stream",
     "text": [
      "  0%|          | 0/1 [00:00<?, ?it/s]"
     ]
    },
    {
     "name": "stdout",
     "output_type": "stream",
     "text": [
      "multilabel-indicator multilabel-indicator\n",
      "float32 float32\n",
      "(917, 8) (917, 8)\n",
      "Training and Evaluating on task 5\n",
      "Train data shape is  (250, 103)\n",
      "Train Labels shape is  (250, 2)\n",
      "Classes trained are: 8 to 10\n",
      "Samples with all negative labels 0\n",
      "Augmenting class labels...\n",
      "Train Labels shape is  (250, 10)\n",
      "Output dimensions: 10\n",
      "growing model size ...\n"
     ]
    },
    {
     "name": "stderr",
     "output_type": "stream",
     "text": [
      "100%|██████████| 1/1 [00:09<00:00,  9.44s/it]\n"
     ]
    },
    {
     "name": "stdout",
     "output_type": "stream",
     "text": [
      "Evaluating in individual mode on test set\n",
      "multilabel-indicator multilabel-indicator\n",
      "float32 float32\n",
      "(917, 2) (917, 2)\n",
      "Evaluating in combined mode on test set\n"
     ]
    },
    {
     "name": "stderr",
     "output_type": "stream",
     "text": [
      "  0%|          | 0/1 [00:00<?, ?it/s]"
     ]
    },
    {
     "name": "stdout",
     "output_type": "stream",
     "text": [
      "multilabel-indicator multilabel-indicator\n",
      "float32 float32\n",
      "(917, 10) (917, 10)\n",
      "Training and Evaluating on task 6\n",
      "Train data shape is  (250, 103)\n",
      "Train Labels shape is  (250, 3)\n",
      "Classes trained are: 10 to 13\n",
      "Samples with all negative labels 0\n",
      "Augmenting class labels...\n",
      "Train Labels shape is  (250, 13)\n",
      "Output dimensions: 13\n",
      "growing model size ...\n"
     ]
    },
    {
     "name": "stderr",
     "output_type": "stream",
     "text": [
      "100%|██████████| 1/1 [00:09<00:00,  9.29s/it]\n"
     ]
    },
    {
     "name": "stdout",
     "output_type": "stream",
     "text": [
      "Evaluating in individual mode on test set\n",
      "multilabel-indicator multilabel-indicator\n",
      "float32 float32\n",
      "(917, 3) (917, 3)\n",
      "Evaluating in combined mode on test set\n",
      "multilabel-indicator multilabel-indicator\n",
      "float32 float32\n",
      "(917, 13) (917, 13)\n",
      "Evaluating in individual mode on test set\n",
      "|                     |        0 |        1 |         2 |        3 |         4 |        5 |\n",
      "|:--------------------|---------:|---------:|----------:|---------:|----------:|---------:|\n",
      "| hamming loss        | 0.629771 | 0.529989 | 0.466194  | 0.195202 | 0.506543  | 0.364595 |\n",
      "| zero_one_loss       | 0.74482  | 0.889858 | 0.884406  | 0.237732 | 0.942203  | 1        |\n",
      "| one_error           | 0.514722 | 0.17012  | 0.0479826 | 0.152672 | 0.0708833 | 0        |\n",
      "| micro av. jaccard   | 0.370229 | 0.253456 | 0.247359  | 0        | 0.0792864 | 0.40686  |\n",
      "| macro av. jaccard   | 0.370229 | 0.179935 | 0.153217  | 0        | 0.0436205 | 0.250091 |\n",
      "| micro av. precision | 0.370229 | 0.359869 | 0.306434  | 0        | 0.087241  | 0.750273 |\n",
      "| macro av. precision | 0.370229 | 0.179935 | 0.153217  | 0        | 0.0436205 | 0.250091 |\n",
      "| micro av. recall    | 1        | 0.461538 | 0.562     | 0        | 0.465116  | 0.470588 |\n",
      "| macro av. recall    | 1        | 0.5      | 0.5       | 0        | 0.5       | 0.333333 |\n",
      "| micro av. f1        | 0.54039  | 0.404412 | 0.396613  | 0        | 0.146924  | 0.578394 |\n",
      "| macro av. f1        | 0.537739 | 0.264635 | 0.234558  | 0        | 0.0802407 | 0.285774 |\n",
      "| imb. av. f1         | 0.361062 | 0.461562 | 0.561888  | 0.805671 | 0.465442  | 0.816438 |\n",
      "Evaluating in combined mode on test set\n",
      "|                     |        0 |        1 |        2 |        3 |        4 |        5 |\n",
      "|:--------------------|---------:|---------:|---------:|---------:|---------:|---------:|\n",
      "| hamming loss        | 0.629771 | 0.57988  | 0.541985 | 0.455289 | 0.46554  | 0.442245 |\n",
      "| zero_one_loss       | 0.74482  | 0.997819 | 0.997819 | 0.997819 | 1        | 1        |\n",
      "| one_error           | 0.514722 | 0        | 0        | 0        | 0        | 0        |\n",
      "| micro av. jaccard   | 0.370229 | 0.321747 | 0.301966 | 0.278618 | 0.242951 | 0.280764 |\n",
      "| macro av. jaccard   | 0.370229 | 0.275082 | 0.23446  | 0.175845 | 0.1494   | 0.172637 |\n",
      "| micro av. precision | 0.370229 | 0.366776 | 0.35169  | 0.35169  | 0.2988   | 0.374046 |\n",
      "| macro av. precision | 0.370229 | 0.275082 | 0.23446  | 0.175845 | 0.1494   | 0.172637 |\n",
      "| micro av. recall    | 1        | 0.723816 | 0.681098 | 0.572824 | 0.565182 | 0.529593 |\n",
      "| macro av. recall    | 1        | 0.75     | 0.666667 | 0.5      | 0.5      | 0.461538 |\n",
      "| micro av. f1        | 0.54039  | 0.486852 | 0.463862 | 0.435811 | 0.390926 | 0.438432 |\n",
      "| macro av. f1        | 0.537739 | 0.401187 | 0.345644 | 0.259233 | 0.223434 | 0.23782  |\n",
      "| imb. av. f1         | 0.361062 | 0.409539 | 0.472033 | 0.592592 | 0.538188 | 0.59478  |\n",
      "File saved to ./checkpoints_new/Yeast_0_LwF_asy.pkl\n",
      "Number of Tasks: 6\n",
      "Forgetting in task 1: first time imb. av. f1 = 0.3611, after all tasks imb. av. f1 = 0.3611\n",
      "Forgetting in task 2: first time imb. av. f1 = 0.4616, after all tasks imb. av. f1 = 0.3611\n",
      "Forgetting in task 3: first time imb. av. f1 = 0.5619, after all tasks imb. av. f1 = 0.3611\n",
      "Forgetting in task 4: first time imb. av. f1 = 0.8057, after all tasks imb. av. f1 = 0.3611\n",
      "Forgetting in task 5: first time imb. av. f1 = 0.4654, after all tasks imb. av. f1 = 0.3611\n",
      "Forgetting in task 6: first time imb. av. f1 = 0.8164, after all tasks imb. av. f1 = 0.3611\n"
     ]
    },
    {
     "data": {
      "image/png": "[encoded data removed]",
      "text/plain": [
       "<Figure size 360x360 with 1 Axes>"
      ]
     },
     "metadata": {
      "needs_background": "light"
     },
     "output_type": "display_data"
    }
   ],
   "source": [
    "hparams = Hyperparameters('Yeast', continual_method, device, num_tasks=6)\n",
    "experiment = ContinualExperiment(hparams)\n",
    "experiment.run()"
   ]
  },
  {
   "cell_type": "markdown",
   "metadata": {},
   "source": [
    "## Eukaryote Dataset"
   ]
  },
  {
   "cell_type": "code",
   "execution_count": 15,
   "metadata": {},
   "outputs": [
    {
     "name": "stderr",
     "output_type": "stream",
     "text": [
      "  0%|          | 0/1 [00:00<?, ?it/s]"
     ]
    },
    {
     "name": "stdout",
     "output_type": "stream",
     "text": [
      "Processing Data ...\n",
      "(4658, 440)\n",
      "(3108, 440)\n",
      "(4658, 19)\n",
      "(3108, 19)\n",
      "Begin training in LwF mode ...\n",
      "Training and Evaluating on task 1\n",
      "Train data shape is  (435, 440)\n",
      "Train Labels shape is  (435, 2)\n",
      "Classes trained are: 0 to 2\n",
      "Samples with all negative labels 0\n",
      "Output dimensions: 2\n"
     ]
    },
    {
     "name": "stderr",
     "output_type": "stream",
     "text": [
      "100%|██████████| 1/1 [00:00<00:00,  5.91it/s]"
     ]
    },
    {
     "name": "stdout",
     "output_type": "stream",
     "text": [
      "Evaluating in individual mode on test set\n"
     ]
    },
    {
     "name": "stderr",
     "output_type": "stream",
     "text": [
      "\n"
     ]
    },
    {
     "name": "stdout",
     "output_type": "stream",
     "text": [
      "multilabel-indicator multilabel-indicator\n",
      "float64 float32\n",
      "(3108, 2) (3108, 2)\n",
      "Evaluating in combined mode on test set\n",
      "multilabel-indicator multilabel-indicator\n",
      "float64 float32\n",
      "(3108, 2) (3108, 2)\n",
      "Training and Evaluating on task 2\n",
      "Train data shape is  (530, 440)\n",
      "Train Labels shape is  (530, 2)\n",
      "Classes trained are: 2 to 4\n",
      "Samples with all negative labels 0\n",
      "Augmenting class labels...\n"
     ]
    },
    {
     "name": "stderr",
     "output_type": "stream",
     "text": [
      "  0%|          | 0/1 [00:00<?, ?it/s]"
     ]
    },
    {
     "name": "stdout",
     "output_type": "stream",
     "text": [
      "Train Labels shape is  (530, 4)\n",
      "Output dimensions: 4\n",
      "growing model size ...\n"
     ]
    },
    {
     "name": "stderr",
     "output_type": "stream",
     "text": [
      "100%|██████████| 1/1 [00:43<00:00, 43.51s/it]\n"
     ]
    },
    {
     "name": "stdout",
     "output_type": "stream",
     "text": [
      "Evaluating in individual mode on test set\n",
      "multilabel-indicator multilabel-indicator\n",
      "float64 float32\n",
      "(3108, 2) (3108, 2)\n",
      "Evaluating in combined mode on test set\n",
      "multilabel-indicator multilabel-indicator\n",
      "float64 float32\n",
      "(3108, 4) (3108, 4)\n",
      "Training and Evaluating on task 3\n",
      "Train data shape is  (438, 440)\n",
      "Train Labels shape is  (438, 2)\n",
      "Classes trained are: 4 to 6\n",
      "Samples with all negative labels 1\n",
      "Augmenting class labels...\n"
     ]
    },
    {
     "name": "stderr",
     "output_type": "stream",
     "text": [
      "  0%|          | 0/1 [00:00<?, ?it/s]"
     ]
    },
    {
     "name": "stdout",
     "output_type": "stream",
     "text": [
      "Train Labels shape is  (438, 6)\n",
      "Output dimensions: 6\n",
      "growing model size ...\n"
     ]
    },
    {
     "name": "stderr",
     "output_type": "stream",
     "text": [
      "100%|██████████| 1/1 [00:30<00:00, 30.04s/it]\n"
     ]
    },
    {
     "name": "stdout",
     "output_type": "stream",
     "text": [
      "Evaluating in individual mode on test set\n",
      "multilabel-indicator multilabel-indicator\n",
      "float64 float32\n",
      "(3108, 2) (3108, 2)\n",
      "Evaluating in combined mode on test set\n",
      "multilabel-indicator multilabel-indicator\n",
      "float64 float32\n",
      "(3108, 6) (3108, 6)\n",
      "Training and Evaluating on task 4\n",
      "Train data shape is  (465, 440)\n",
      "Train Labels shape is  (465, 2)\n",
      "Classes trained are: 6 to 8\n",
      "Samples with all negative labels 1\n",
      "Augmenting class labels...\n"
     ]
    },
    {
     "name": "stderr",
     "output_type": "stream",
     "text": [
      "  0%|          | 0/1 [00:00<?, ?it/s]"
     ]
    },
    {
     "name": "stdout",
     "output_type": "stream",
     "text": [
      "Train Labels shape is  (465, 8)\n",
      "Output dimensions: 8\n",
      "growing model size ...\n"
     ]
    },
    {
     "name": "stderr",
     "output_type": "stream",
     "text": [
      "100%|██████████| 1/1 [00:33<00:00, 33.24s/it]\n"
     ]
    },
    {
     "name": "stdout",
     "output_type": "stream",
     "text": [
      "Evaluating in individual mode on test set\n",
      "multilabel-indicator multilabel-indicator\n",
      "float64 float32\n",
      "(3108, 2) (3108, 2)\n",
      "Evaluating in combined mode on test set\n",
      "multilabel-indicator multilabel-indicator\n",
      "float64 float32\n",
      "(3108, 8) (3108, 8)\n",
      "Training and Evaluating on task 5\n",
      "Train data shape is  (465, 440)\n",
      "Train Labels shape is  (465, 2)\n",
      "Classes trained are: 8 to 10\n",
      "Samples with all negative labels 0\n",
      "Augmenting class labels...\n"
     ]
    },
    {
     "name": "stderr",
     "output_type": "stream",
     "text": [
      "  0%|          | 0/1 [00:00<?, ?it/s]"
     ]
    },
    {
     "name": "stdout",
     "output_type": "stream",
     "text": [
      "Train Labels shape is  (465, 10)\n",
      "Output dimensions: 10\n",
      "growing model size ...\n"
     ]
    },
    {
     "name": "stderr",
     "output_type": "stream",
     "text": [
      "100%|██████████| 1/1 [00:33<00:00, 33.38s/it]\n"
     ]
    },
    {
     "name": "stdout",
     "output_type": "stream",
     "text": [
      "Evaluating in individual mode on test set\n",
      "multilabel-indicator multilabel-indicator\n",
      "float64 float32\n",
      "(3108, 2) (3108, 2)\n",
      "Evaluating in combined mode on test set\n",
      "multilabel-indicator multilabel-indicator\n",
      "float64 float32\n",
      "(3108, 10) (3108, 10)\n",
      "Training and Evaluating on task 6\n",
      "Train data shape is  (465, 440)\n",
      "Train Labels shape is  (465, 2)\n",
      "Classes trained are: 10 to 12\n",
      "Samples with all negative labels 2\n",
      "Augmenting class labels...\n"
     ]
    },
    {
     "name": "stderr",
     "output_type": "stream",
     "text": [
      "  0%|          | 0/1 [00:00<?, ?it/s]"
     ]
    },
    {
     "name": "stdout",
     "output_type": "stream",
     "text": [
      "Train Labels shape is  (465, 12)\n",
      "Output dimensions: 12\n",
      "growing model size ...\n"
     ]
    },
    {
     "name": "stderr",
     "output_type": "stream",
     "text": [
      "100%|██████████| 1/1 [00:33<00:00, 33.26s/it]\n"
     ]
    },
    {
     "name": "stdout",
     "output_type": "stream",
     "text": [
      "Evaluating in individual mode on test set\n",
      "multilabel-indicator multilabel-indicator\n",
      "float64 float32\n",
      "(3108, 2) (3108, 2)\n",
      "Evaluating in combined mode on test set\n",
      "multilabel-indicator multilabel-indicator\n",
      "float64 float32\n",
      "(3108, 12) (3108, 12)\n",
      "Training and Evaluating on task 7\n",
      "Train data shape is  (465, 440)\n",
      "Train Labels shape is  (465, 2)\n",
      "Classes trained are: 12 to 14\n",
      "Samples with all negative labels 2\n",
      "Augmenting class labels...\n"
     ]
    },
    {
     "name": "stderr",
     "output_type": "stream",
     "text": [
      "  0%|          | 0/1 [00:00<?, ?it/s]"
     ]
    },
    {
     "name": "stdout",
     "output_type": "stream",
     "text": [
      "Train Labels shape is  (465, 14)\n",
      "Output dimensions: 14\n",
      "growing model size ...\n"
     ]
    },
    {
     "name": "stderr",
     "output_type": "stream",
     "text": [
      "100%|██████████| 1/1 [00:34<00:00, 34.39s/it]\n"
     ]
    },
    {
     "name": "stdout",
     "output_type": "stream",
     "text": [
      "Evaluating in individual mode on test set\n",
      "multilabel-indicator multilabel-indicator\n",
      "float64 float32\n",
      "(3108, 2) (3108, 2)\n",
      "Evaluating in combined mode on test set\n",
      "multilabel-indicator multilabel-indicator\n",
      "float64 float32\n",
      "(3108, 14) (3108, 14)\n",
      "Training and Evaluating on task 8\n",
      "Train data shape is  (465, 440)\n",
      "Train Labels shape is  (465, 2)\n",
      "Classes trained are: 14 to 16\n",
      "Samples with all negative labels 2\n",
      "Augmenting class labels...\n"
     ]
    },
    {
     "name": "stderr",
     "output_type": "stream",
     "text": [
      "  0%|          | 0/1 [00:00<?, ?it/s]"
     ]
    },
    {
     "name": "stdout",
     "output_type": "stream",
     "text": [
      "Train Labels shape is  (465, 16)\n",
      "Output dimensions: 16\n",
      "growing model size ...\n"
     ]
    },
    {
     "name": "stderr",
     "output_type": "stream",
     "text": [
      "100%|██████████| 1/1 [00:33<00:00, 33.66s/it]\n"
     ]
    },
    {
     "name": "stdout",
     "output_type": "stream",
     "text": [
      "Evaluating in individual mode on test set\n",
      "multilabel-indicator multilabel-indicator\n",
      "float64 float32\n",
      "(3108, 2) (3108, 2)\n",
      "Evaluating in combined mode on test set\n",
      "multilabel-indicator multilabel-indicator\n",
      "float64 float32\n",
      "(3108, 16) (3108, 16)\n",
      "Training and Evaluating on task 9\n",
      "Train data shape is  (465, 440)\n",
      "Train Labels shape is  (465, 2)\n",
      "Classes trained are: 16 to 18\n",
      "Samples with all negative labels 2\n",
      "Augmenting class labels...\n"
     ]
    },
    {
     "name": "stderr",
     "output_type": "stream",
     "text": [
      "  0%|          | 0/1 [00:00<?, ?it/s]"
     ]
    },
    {
     "name": "stdout",
     "output_type": "stream",
     "text": [
      "Train Labels shape is  (465, 18)\n",
      "Output dimensions: 18\n",
      "growing model size ...\n"
     ]
    },
    {
     "name": "stderr",
     "output_type": "stream",
     "text": [
      "100%|██████████| 1/1 [00:35<00:00, 35.44s/it]\n"
     ]
    },
    {
     "name": "stdout",
     "output_type": "stream",
     "text": [
      "Evaluating in individual mode on test set\n",
      "multilabel-indicator multilabel-indicator\n",
      "float64 float32\n",
      "(3108, 2) (3108, 2)\n",
      "Evaluating in combined mode on test set\n",
      "multilabel-indicator multilabel-indicator\n",
      "float64 float32\n",
      "(3108, 18) (3108, 18)\n",
      "Training and Evaluating on task 10\n",
      "Train data shape is  (465, 440)\n",
      "Train Labels shape is  (465, 1)\n",
      "Classes trained are: 18 to 19\n",
      "Samples with all negative labels 0\n",
      "Augmenting class labels...\n"
     ]
    },
    {
     "name": "stderr",
     "output_type": "stream",
     "text": [
      "  0%|          | 0/1 [00:00<?, ?it/s]"
     ]
    },
    {
     "name": "stdout",
     "output_type": "stream",
     "text": [
      "Train Labels shape is  (465, 19)\n",
      "Output dimensions: 19\n",
      "growing model size ...\n"
     ]
    },
    {
     "name": "stderr",
     "output_type": "stream",
     "text": [
      "100%|██████████| 1/1 [00:33<00:00, 33.52s/it]\n"
     ]
    },
    {
     "name": "stdout",
     "output_type": "stream",
     "text": [
      "Evaluating in individual mode on test set\n",
      "binary binary\n",
      "float64 float32\n",
      "(3108, 1) (3108, 1)\n",
      "Evaluating in combined mode on test set\n",
      "multilabel-indicator multilabel-indicator\n",
      "float64 float32\n",
      "(3108, 19) (3108, 19)\n",
      "Evaluating in individual mode on test set\n",
      "|                     |         0 |         1 |        2 |         3 |          4 |          5 |         6 |         7 |          8 |        9 |\n",
      "|:--------------------|----------:|----------:|---------:|----------:|-----------:|-----------:|----------:|----------:|-----------:|---------:|\n",
      "| hamming loss        | 0.952059  | 0.030888  | 0.854247 | 0.962677  | 0.435328   | 0.486004   | 0.463803  | 0.842503  | 0.992117   | 0.021879 |\n",
      "| zero_one_loss       | 0.999678  | 0.0617761 | 1        | 1         | 0.865187   | 0.964929   | 0.923102  | 1         | 1          | 0.021879 |\n",
      "| one_error           | 0.90444   | 0         | 0.708494 | 0.925354  | 0.00546976 | 0.00707851 | 0.0045045 | 0.685006  | 0.984234   | 0.021879 |\n",
      "| micro av. jaccard   | 0.0479408 | 0         | 0.145753 | 0.037323  | 0.13408    | 0.0348243  | 0.0765535 | 0.157497  | 0.00788288 | 0.957179 |\n",
      "| macro av. jaccard   | 0.0479408 | 0         | 0.145753 | 0.037323  | 0.0674067  | 0.0175354  | 0.0384492 | 0.157497  | 0.00788288 | 0.48906  |\n",
      "| micro av. precision | 0.0479408 | 0         | 0.145753 | 0.037323  | 0.134813   | 0.0350708  | 0.0768983 | 0.157497  | 0.00788288 | 0.978121 |\n",
      "| macro av. precision | 0.0479408 | 0         | 0.145753 | 0.037323  | 0.0674067  | 0.0175354  | 0.0384492 | 0.157497  | 0.00788288 | 0.48906  |\n",
      "| micro av. recall    | 1         | 0         | 1        | 1         | 0.961009   | 0.832061   | 0.944664  | 1         | 1          | 0.978121 |\n",
      "| macro av. recall    | 1         | 0         | 1        | 1         | 0.5        | 0.5        | 0.5       | 1         | 1          | 0.5      |\n",
      "| micro av. f1        | 0.0914952 | 0         | 0.254423 | 0.0719603 | 0.236456   | 0.0673047  | 0.14222   | 0.272133  | 0.0156425  | 0.978121 |\n",
      "| macro av. f1        | 0.0884966 | 0         | 0.229679 | 0.0712002 | 0.118798   | 0.0338825  | 0.0714072 | 0.245468  | 0.015642   | 0.49447  |\n",
      "| imb. av. f1         | 0.0122458 | 0.98027   | 0.020142 | 0.026059  | 0.959199   | 0.827278   | 0.94146   | 0.0284738 | 0.00785449 | 0.978121 |\n",
      "Evaluating in combined mode on test set\n",
      "|                     |         0 |         1 |         2 |         3 |         4 |         5 |         6 |         7 |         8 |         9 |\n",
      "|:--------------------|----------:|----------:|----------:|----------:|----------:|----------:|----------:|----------:|----------:|----------:|\n",
      "| hamming loss        | 0.952059  | 0.491474  | 0.612398  | 0.699968  | 0.64704   | 0.620201  | 0.597858  | 0.628439  | 0.668847  | 0.634796  |\n",
      "| zero_one_loss       | 0.999678  | 0.999678  | 1         | 1         | 1         | 1         | 1         | 1         | 1         | 1         |\n",
      "| one_error           | 0.90444   | 0         | 0         | 0         | 0         | 0         | 0         | 0         | 0         | 0         |\n",
      "| micro av. jaccard   | 0.0479408 | 0.0465044 | 0.0953739 | 0.0762208 | 0.0844525 | 0.0782626 | 0.0780735 | 0.0924113 | 0.0794854 | 0.0793526 |\n",
      "| macro av. jaccard   | 0.0479408 | 0.0239704 | 0.0645646 | 0.0577542 | 0.0596847 | 0.0526598 | 0.0506297 | 0.0639881 | 0.0577542 | 0.0547145 |\n",
      "| micro av. precision | 0.0479408 | 0.0479408 | 0.0968468 | 0.0770056 | 0.0852638 | 0.0789897 | 0.0787573 | 0.0930736 | 0.0799673 | 0.0799673 |\n",
      "| macro av. precision | 0.0479408 | 0.0239704 | 0.0645646 | 0.0577542 | 0.0596847 | 0.0526598 | 0.0506297 | 0.0639881 | 0.0577542 | 0.0547145 |\n",
      "| micro av. recall    | 1         | 0.608163  | 0.862464  | 0.882064  | 0.89874   | 0.894761  | 0.899918  | 0.928509  | 0.929517  | 0.911682  |\n",
      "| macro av. recall    | 1         | 0.5       | 0.666667  | 0.75      | 0.7       | 0.666667  | 0.642857  | 0.6875    | 0.722222  | 0.684211  |\n",
      "| micro av. f1        | 0.0914952 | 0.0888756 | 0.174139  | 0.141645  | 0.155751  | 0.145164  | 0.144839  | 0.169188  | 0.147265  | 0.147037  |\n",
      "| macro av. f1        | 0.0884966 | 0.0442483 | 0.106058  | 0.0973439 | 0.101635  | 0.0903427 | 0.0876376 | 0.107366  | 0.0971748 | 0.0920603 |\n",
      "| imb. av. f1         | 0.0122458 | 0.385211  | 0.285161  | 0.239736  | 0.451249  | 0.530433  | 0.621281  | 0.582638  | 0.475319  | 0.492032  |\n",
      "File saved to ./checkpoints_new/Eukaryote_0_LwF_asy.pkl\n",
      "Number of Tasks: 10\n",
      "Forgetting in task 1: first time imb. av. f1 = 0.9303, after all tasks imb. av. f1 = 0.0122\n",
      "Forgetting in task 2: first time imb. av. f1 = 0.9803, after all tasks imb. av. f1 = 0.0122\n",
      "Forgetting in task 3: first time imb. av. f1 = 0.9799, after all tasks imb. av. f1 = 0.0122\n",
      "Forgetting in task 4: first time imb. av. f1 = 0.9739, after all tasks imb. av. f1 = 0.0122\n",
      "Forgetting in task 5: first time imb. av. f1 = 0.9892, after all tasks imb. av. f1 = 0.0122\n",
      "Forgetting in task 6: first time imb. av. f1 = 0.9881, after all tasks imb. av. f1 = 0.0122\n",
      "Forgetting in task 7: first time imb. av. f1 = 0.9912, after all tasks imb. av. f1 = 0.0122\n",
      "Forgetting in task 8: first time imb. av. f1 = 0.9715, after all tasks imb. av. f1 = 0.0122\n",
      "Forgetting in task 9: first time imb. av. f1 = 0.9921, after all tasks imb. av. f1 = 0.0122\n",
      "Forgetting in task 10: first time imb. av. f1 = 0.9781, after all tasks imb. av. f1 = 0.0122\n"
     ]
    },
    {
     "data": {
      "image/png": "[encoded data removed]",
      "text/plain": [
       "<Figure size 360x360 with 1 Axes>"
      ]
     },
     "metadata": {
      "needs_background": "light"
     },
     "output_type": "display_data"
    }
   ],
   "source": [
    "hparams = Hyperparameters('Eukaryote', continual_method, device)\n",
    "experiment = ContinualExperiment(hparams)\n",
    "experiment.run()"
   ]
  },
  {
   "cell_type": "markdown",
   "metadata": {},
   "source": [
    "## Enron Dataset"
   ]
  },
  {
   "cell_type": "code",
   "execution_count": 16,
   "metadata": {},
   "outputs": [
    {
     "name": "stdout",
     "output_type": "stream",
     "text": [
      "Processing Data ...\n"
     ]
    },
    {
     "name": "stderr",
     "output_type": "stream",
     "text": [
      "100%|██████████| 1/1 [00:00<00:00, 18.53it/s]"
     ]
    },
    {
     "name": "stdout",
     "output_type": "stream",
     "text": [
      "(1123, 1001)\n",
      "(579, 1001)\n",
      "(1123, 53)\n",
      "(579, 53)\n",
      "Begin training in LwF mode ...\n",
      "Training and Evaluating on task 1\n",
      "Train data shape is  (112, 1001)\n",
      "Train Labels shape is  (112, 5)\n",
      "Classes trained are: 0 to 5\n",
      "Samples with all negative labels 0\n",
      "Output dimensions: 5\n",
      "Evaluating in individual mode on test set\n"
     ]
    },
    {
     "name": "stderr",
     "output_type": "stream",
     "text": [
      "\n"
     ]
    },
    {
     "name": "stdout",
     "output_type": "stream",
     "text": [
      "multilabel-indicator multilabel-indicator\n",
      "float32 float32\n",
      "(579, 5) (579, 5)\n",
      "Evaluating in combined mode on test set\n"
     ]
    },
    {
     "name": "stderr",
     "output_type": "stream",
     "text": [
      "  0%|          | 0/1 [00:00<?, ?it/s]"
     ]
    },
    {
     "name": "stdout",
     "output_type": "stream",
     "text": [
      "multilabel-indicator multilabel-indicator\n",
      "float32 float32\n",
      "(579, 5) (579, 5)\n",
      "Training and Evaluating on task 2\n",
      "Train data shape is  (112, 1001)\n",
      "Train Labels shape is  (112, 5)\n",
      "Classes trained are: 5 to 10\n",
      "Samples with all negative labels 1\n",
      "Augmenting class labels...\n",
      "Train Labels shape is  (112, 10)\n",
      "Output dimensions: 10\n",
      "growing model size ...\n"
     ]
    },
    {
     "name": "stderr",
     "output_type": "stream",
     "text": [
      "100%|██████████| 1/1 [00:03<00:00,  3.02s/it]\n"
     ]
    },
    {
     "name": "stdout",
     "output_type": "stream",
     "text": [
      "Evaluating in individual mode on test set\n",
      "multilabel-indicator multilabel-indicator\n",
      "float32 float32\n",
      "(579, 5) (579, 5)\n",
      "Evaluating in combined mode on test set\n"
     ]
    },
    {
     "name": "stderr",
     "output_type": "stream",
     "text": [
      "  0%|          | 0/1 [00:00<?, ?it/s]"
     ]
    },
    {
     "name": "stdout",
     "output_type": "stream",
     "text": [
      "multilabel-indicator multilabel-indicator\n",
      "float32 float32\n",
      "(579, 10) (579, 10)\n",
      "Training and Evaluating on task 3\n",
      "Train data shape is  (112, 1001)\n",
      "Train Labels shape is  (112, 5)\n",
      "Classes trained are: 10 to 15\n",
      "Samples with all negative labels 1\n",
      "Augmenting class labels...\n",
      "Train Labels shape is  (112, 15)\n",
      "Output dimensions: 15\n",
      "growing model size ...\n"
     ]
    },
    {
     "name": "stderr",
     "output_type": "stream",
     "text": [
      "100%|██████████| 1/1 [00:02<00:00,  2.82s/it]\n"
     ]
    },
    {
     "name": "stdout",
     "output_type": "stream",
     "text": [
      "Evaluating in individual mode on test set\n",
      "multilabel-indicator multilabel-indicator\n",
      "float32 float32\n",
      "(579, 5) (579, 5)\n",
      "Evaluating in combined mode on test set\n"
     ]
    },
    {
     "name": "stderr",
     "output_type": "stream",
     "text": [
      "  0%|          | 0/1 [00:00<?, ?it/s]"
     ]
    },
    {
     "name": "stdout",
     "output_type": "stream",
     "text": [
      "multilabel-indicator multilabel-indicator\n",
      "float32 float32\n",
      "(579, 15) (579, 15)\n",
      "Training and Evaluating on task 4\n",
      "Train data shape is  (112, 1001)\n",
      "Train Labels shape is  (112, 5)\n",
      "Classes trained are: 15 to 20\n",
      "Samples with all negative labels 1\n",
      "Augmenting class labels...\n",
      "Train Labels shape is  (112, 20)\n",
      "Output dimensions: 20\n",
      "growing model size ...\n"
     ]
    },
    {
     "name": "stderr",
     "output_type": "stream",
     "text": [
      "100%|██████████| 1/1 [00:02<00:00,  2.80s/it]\n"
     ]
    },
    {
     "name": "stdout",
     "output_type": "stream",
     "text": [
      "Evaluating in individual mode on test set\n",
      "multilabel-indicator multilabel-indicator\n",
      "float32 float32\n",
      "(579, 5) (579, 5)\n",
      "Evaluating in combined mode on test set\n"
     ]
    },
    {
     "name": "stderr",
     "output_type": "stream",
     "text": [
      "  0%|          | 0/1 [00:00<?, ?it/s]"
     ]
    },
    {
     "name": "stdout",
     "output_type": "stream",
     "text": [
      "multilabel-indicator multilabel-indicator\n",
      "float32 float32\n",
      "(579, 20) (579, 20)\n",
      "Training and Evaluating on task 5\n",
      "Train data shape is  (112, 1001)\n",
      "Train Labels shape is  (112, 5)\n",
      "Classes trained are: 20 to 25\n",
      "Samples with all negative labels 3\n",
      "Augmenting class labels...\n",
      "Train Labels shape is  (112, 25)\n",
      "Output dimensions: 25\n",
      "growing model size ...\n"
     ]
    },
    {
     "name": "stderr",
     "output_type": "stream",
     "text": [
      "100%|██████████| 1/1 [00:02<00:00,  2.80s/it]\n"
     ]
    },
    {
     "name": "stdout",
     "output_type": "stream",
     "text": [
      "Evaluating in individual mode on test set\n",
      "multilabel-indicator multilabel-indicator\n",
      "float32 float32\n",
      "(579, 5) (579, 5)\n",
      "Evaluating in combined mode on test set\n"
     ]
    },
    {
     "name": "stderr",
     "output_type": "stream",
     "text": [
      "  0%|          | 0/1 [00:00<?, ?it/s]"
     ]
    },
    {
     "name": "stdout",
     "output_type": "stream",
     "text": [
      "multilabel-indicator multilabel-indicator\n",
      "float32 float32\n",
      "(579, 25) (579, 25)\n",
      "Training and Evaluating on task 6\n",
      "Train data shape is  (112, 1001)\n",
      "Train Labels shape is  (112, 5)\n",
      "Classes trained are: 25 to 30\n",
      "Samples with all negative labels 1\n",
      "Augmenting class labels...\n",
      "Train Labels shape is  (112, 30)\n",
      "Output dimensions: 30\n",
      "growing model size ...\n"
     ]
    },
    {
     "name": "stderr",
     "output_type": "stream",
     "text": [
      "100%|██████████| 1/1 [00:02<00:00,  2.77s/it]\n"
     ]
    },
    {
     "name": "stdout",
     "output_type": "stream",
     "text": [
      "Evaluating in individual mode on test set\n",
      "multilabel-indicator multilabel-indicator\n",
      "float32 float32\n",
      "(579, 5) (579, 5)\n",
      "Evaluating in combined mode on test set\n"
     ]
    },
    {
     "name": "stderr",
     "output_type": "stream",
     "text": [
      "  0%|          | 0/1 [00:00<?, ?it/s]"
     ]
    },
    {
     "name": "stdout",
     "output_type": "stream",
     "text": [
      "multilabel-indicator multilabel-indicator\n",
      "float32 float32\n",
      "(579, 30) (579, 30)\n",
      "Training and Evaluating on task 7\n",
      "Train data shape is  (112, 1001)\n",
      "Train Labels shape is  (112, 5)\n",
      "Classes trained are: 30 to 35\n",
      "Samples with all negative labels 0\n",
      "Augmenting class labels...\n",
      "Train Labels shape is  (112, 35)\n",
      "Output dimensions: 35\n",
      "growing model size ...\n"
     ]
    },
    {
     "name": "stderr",
     "output_type": "stream",
     "text": [
      "100%|██████████| 1/1 [00:02<00:00,  2.61s/it]\n"
     ]
    },
    {
     "name": "stdout",
     "output_type": "stream",
     "text": [
      "Evaluating in individual mode on test set\n",
      "multilabel-indicator multilabel-indicator\n",
      "float32 float32\n",
      "(579, 5) (579, 5)\n",
      "Evaluating in combined mode on test set\n"
     ]
    },
    {
     "name": "stderr",
     "output_type": "stream",
     "text": [
      "  0%|          | 0/1 [00:00<?, ?it/s]"
     ]
    },
    {
     "name": "stdout",
     "output_type": "stream",
     "text": [
      "multilabel-indicator multilabel-indicator\n",
      "float32 float32\n",
      "(579, 35) (579, 35)\n",
      "Training and Evaluating on task 8\n",
      "Train data shape is  (112, 1001)\n",
      "Train Labels shape is  (112, 5)\n",
      "Classes trained are: 35 to 40\n",
      "Samples with all negative labels 3\n",
      "Augmenting class labels...\n",
      "Train Labels shape is  (112, 40)\n",
      "Output dimensions: 40\n",
      "growing model size ...\n"
     ]
    },
    {
     "name": "stderr",
     "output_type": "stream",
     "text": [
      "100%|██████████| 1/1 [00:02<00:00,  2.71s/it]\n"
     ]
    },
    {
     "name": "stdout",
     "output_type": "stream",
     "text": [
      "Evaluating in individual mode on test set\n",
      "multilabel-indicator multilabel-indicator\n",
      "float32 float32\n",
      "(579, 5) (579, 5)\n",
      "Evaluating in combined mode on test set\n"
     ]
    },
    {
     "name": "stderr",
     "output_type": "stream",
     "text": [
      "  0%|          | 0/1 [00:00<?, ?it/s]"
     ]
    },
    {
     "name": "stdout",
     "output_type": "stream",
     "text": [
      "multilabel-indicator multilabel-indicator\n",
      "float32 float32\n",
      "(579, 40) (579, 40)\n",
      "Training and Evaluating on task 9\n",
      "Train data shape is  (112, 1001)\n",
      "Train Labels shape is  (112, 5)\n",
      "Classes trained are: 40 to 45\n",
      "Samples with all negative labels 0\n",
      "Augmenting class labels...\n",
      "Train Labels shape is  (112, 45)\n",
      "Output dimensions: 45\n",
      "growing model size ...\n"
     ]
    },
    {
     "name": "stderr",
     "output_type": "stream",
     "text": [
      "100%|██████████| 1/1 [00:02<00:00,  2.63s/it]\n"
     ]
    },
    {
     "name": "stdout",
     "output_type": "stream",
     "text": [
      "Evaluating in individual mode on test set\n",
      "multilabel-indicator multilabel-indicator\n",
      "float32 float32\n",
      "(579, 5) (579, 5)\n",
      "Evaluating in combined mode on test set\n"
     ]
    },
    {
     "name": "stderr",
     "output_type": "stream",
     "text": [
      "  0%|          | 0/1 [00:00<?, ?it/s]"
     ]
    },
    {
     "name": "stdout",
     "output_type": "stream",
     "text": [
      "multilabel-indicator multilabel-indicator\n",
      "float32 float32\n",
      "(579, 45) (579, 45)\n",
      "Training and Evaluating on task 10\n",
      "Train data shape is  (115, 1001)\n",
      "Train Labels shape is  (115, 8)\n",
      "Classes trained are: 45 to 53\n",
      "Samples with all negative labels 1\n",
      "Augmenting class labels...\n",
      "Train Labels shape is  (115, 53)\n",
      "Output dimensions: 53\n",
      "growing model size ...\n"
     ]
    },
    {
     "name": "stderr",
     "output_type": "stream",
     "text": [
      "100%|██████████| 1/1 [00:03<00:00,  3.25s/it]\n"
     ]
    },
    {
     "name": "stdout",
     "output_type": "stream",
     "text": [
      "Evaluating in individual mode on test set\n",
      "multilabel-indicator multilabel-indicator\n",
      "float32 float32\n",
      "(579, 8) (579, 8)\n",
      "Evaluating in combined mode on test set\n",
      "multilabel-indicator multilabel-indicator\n",
      "float32 float32\n",
      "(579, 53) (579, 53)\n",
      "Evaluating in individual mode on test set\n",
      "|                     |         0 |         1 |        2 |         3 |         4 |          5 |          6 |         7 |         8 |          9 |\n",
      "|:--------------------|----------:|----------:|---------:|----------:|----------:|-----------:|-----------:|----------:|----------:|-----------:|\n",
      "| hamming loss        | 0.396546  | 0.683592  | 0.600691 | 0.793782  | 0.0573402 | 0.486356   | 0.594473   | 0.567876  | 0.0345423 | 0.412565   |\n",
      "| zero_one_loss       | 0.998273  | 1         | 0.998273 | 1         | 0.26943   | 1          | 1          | 1         | 0.165803  | 1          |\n",
      "| one_error           | 0         | 0.0120898 | 0        | 0.0224525 | 0         | 0          | 0          | 0         | 0         | 0          |\n",
      "| micro av. jaccard   | 0.0361041 | 0.149914  | 0.250108 | 0.0137339 | 0         | 0.00775194 | 0.0160091  | 0.0578797 | 0         | 0.00520562 |\n",
      "| macro av. jaccard   | 0.0148532 | 0.120553  | 0.200345 | 0.0110535 | 0         | 0.00379965 | 0.00967185 | 0.0348877 | 0         | 0.00215889 |\n",
      "| micro av. precision | 0.037133  | 0.150691  | 0.250432 | 0.0138169 | 0         | 0.00949914 | 0.0161197  | 0.0581462 | 0         | 0.00575705 |\n",
      "| macro av. precision | 0.0148532 | 0.120553  | 0.200345 | 0.0110535 | 0         | 0.00379965 | 0.00967185 | 0.0348877 | 0         | 0.00215889 |\n",
      "| micro av. recall    | 0.565789  | 0.966759  | 0.994854 | 0.695652  | 0         | 0.0404412  | 0.7        | 0.926606  | 0         | 0.0515464  |\n",
      "| macro av. recall    | 0.4       | 0.8       | 0.8      | 0.8       | 0         | 0.4        | 0.6        | 0.6       | 0         | 0.375      |\n",
      "| micro av. f1        | 0.0696921 | 0.26074   | 0.400138 | 0.0270957 | 0         | 0.0153846  | 0.0315138  | 0.109426  | 0         | 0.0103573  |\n",
      "| macro av. f1        | 0.0284497 | 0.164463  | 0.298148 | 0.0217462 | 0         | 0.00752722 | 0.0188234  | 0.061913  | 0         | 0.0042838  |\n",
      "| imb. av. f1         | 0.786669  | 0.173488  | 0.861618 | 0.115837  | 0.955473  | 0.476141   | 0.317378   | 0.554281  | 0.981527  | 0.532621   |\n",
      "Evaluating in combined mode on test set\n",
      "|                     |         0 |         1 |        2 |         3 |        4 |         5 |         6 |         7 |         8 |         9 |\n",
      "|:--------------------|----------:|----------:|---------:|----------:|---------:|----------:|----------:|----------:|----------:|----------:|\n",
      "| hamming loss        | 0.396546  | 0.540069  | 0.560276 | 0.618653  | 0.50639  | 0.503051  | 0.516112  | 0.522582  | 0.468355  | 0.459934  |\n",
      "| zero_one_loss       | 0.998273  | 1         | 1        | 1         | 1        | 1         | 1         | 1         | 1         | 1         |\n",
      "| one_error           | 0         | 0         | 0        | 0         | 0        | 0         | 0         | 0         | 0         | 0         |\n",
      "| micro av. jaccard   | 0.0361041 | 0.111395  | 0.166495 | 0.122919  | 0.12047  | 0.104071  | 0.0906799 | 0.0863592 | 0.0857121 | 0.0755829 |\n",
      "| macro av. jaccard   | 0.0148532 | 0.0677029 | 0.111917 | 0.0867012 | 0.069361 | 0.0584341 | 0.051468  | 0.0493955 | 0.0439071 | 0.0376055 |\n",
      "| micro av. precision | 0.037133  | 0.112838  | 0.167876 | 0.123859  | 0.123859 | 0.109564  | 0.0948096 | 0.08981   | 0.08981   | 0.0797237 |\n",
      "| macro av. precision | 0.0148532 | 0.0677029 | 0.111917 | 0.0867012 | 0.069361 | 0.0584341 | 0.051468  | 0.0493955 | 0.0439071 | 0.0376055 |\n",
      "| micro av. recall    | 0.565789  | 0.897025  | 0.952941 | 0.941839  | 0.814935 | 0.674867  | 0.675518  | 0.692075  | 0.652596  | 0.592707  |\n",
      "| macro av. recall    | 0.4       | 0.6       | 0.666667 | 0.7       | 0.56     | 0.533333  | 0.542857  | 0.55      | 0.488889  | 0.471698  |\n",
      "| micro av. f1        | 0.0696921 | 0.20046   | 0.285463 | 0.218927  | 0.215035 | 0.188522  | 0.166281  | 0.158988  | 0.157891  | 0.140543  |\n",
      "| macro av. f1        | 0.0284497 | 0.0964566 | 0.163687 | 0.128202  | 0.102561 | 0.0867225 | 0.0770226 | 0.0751339 | 0.0667857 | 0.0573514 |\n",
      "| imb. av. f1         | 0.786669  | 0.493384  | 0.57874  | 0.428781  | 0.476073 | 0.476088  | 0.433398  | 0.454085  | 0.500674  | 0.509739  |\n",
      "File saved to ./checkpoints_new/enron_0_LwF_asy.pkl\n",
      "Number of Tasks: 10\n",
      "Forgetting in task 1: first time imb. av. f1 = 0.8567, after all tasks imb. av. f1 = 0.7867\n",
      "Forgetting in task 2: first time imb. av. f1 = 0.9053, after all tasks imb. av. f1 = 0.7867\n",
      "Forgetting in task 3: first time imb. av. f1 = 0.9726, after all tasks imb. av. f1 = 0.7867\n",
      "Forgetting in task 4: first time imb. av. f1 = 0.9876, after all tasks imb. av. f1 = 0.7867\n",
      "Forgetting in task 5: first time imb. av. f1 = 0.9555, after all tasks imb. av. f1 = 0.7867\n",
      "Forgetting in task 6: first time imb. av. f1 = 0.7518, after all tasks imb. av. f1 = 0.7867\n",
      "Forgetting in task 7: first time imb. av. f1 = 0.9929, after all tasks imb. av. f1 = 0.7867\n",
      "Forgetting in task 8: first time imb. av. f1 = 0.9903, after all tasks imb. av. f1 = 0.7867\n",
      "Forgetting in task 9: first time imb. av. f1 = 0.9815, after all tasks imb. av. f1 = 0.7867\n",
      "Forgetting in task 10: first time imb. av. f1 = 0.5326, after all tasks imb. av. f1 = 0.7867\n"
     ]
    },
    {
     "data": {
      "image/png": "[encoded data removed]",
      "text/plain": [
       "<Figure size 360x360 with 1 Axes>"
      ]
     },
     "metadata": {
      "needs_background": "light"
     },
     "output_type": "display_data"
    }
   ],
   "source": [
    "hparams = Hyperparameters('enron', continual_method, device)\n",
    "experiment = ContinualExperiment(hparams)\n",
    "experiment.run()"
   ]
  },
  {
   "cell_type": "markdown",
   "metadata": {},
   "source": [
    "## Delicious, 20 tasks"
   ]
  },
  {
   "cell_type": "code",
   "execution_count": 17,
   "metadata": {},
   "outputs": [
    {
     "name": "stdout",
     "output_type": "stream",
     "text": [
      "Processing Data ...\n"
     ]
    },
    {
     "name": "stderr",
     "output_type": "stream",
     "text": [
      "  0%|          | 0/1 [00:00<?, ?it/s]"
     ]
    },
    {
     "name": "stdout",
     "output_type": "stream",
     "text": [
      "(12920, 500)\n",
      "(3185, 500)\n",
      "(12920, 983)\n",
      "(3185, 983)\n",
      "Begin training in LwF mode ...\n",
      "Training and Evaluating on task 1\n",
      "Train data shape is  (646, 500)\n",
      "Train Labels shape is  (646, 49)\n",
      "Classes trained are: 0 to 49\n",
      "Samples with all negative labels 1\n",
      "Output dimensions: 49\n"
     ]
    },
    {
     "name": "stderr",
     "output_type": "stream",
     "text": [
      "100%|██████████| 1/1 [00:00<00:00,  3.20it/s]\n"
     ]
    },
    {
     "name": "stdout",
     "output_type": "stream",
     "text": [
      "Evaluating in individual mode on test set\n",
      "multilabel-indicator multilabel-indicator\n",
      "float32 float32\n",
      "(3185, 49) (3185, 49)\n",
      "Evaluating in combined mode on test set\n",
      "multilabel-indicator multilabel-indicator\n",
      "float32 float32\n",
      "(3185, 49) (3185, 49)\n",
      "Training and Evaluating on task 2\n",
      "Train data shape is  (646, 500)\n",
      "Train Labels shape is  (646, 49)\n",
      "Classes trained are: 49 to 98\n",
      "Samples with all negative labels 1\n",
      "Augmenting class labels...\n"
     ]
    },
    {
     "name": "stderr",
     "output_type": "stream",
     "text": [
      "  0%|          | 0/1 [00:00<?, ?it/s]"
     ]
    },
    {
     "name": "stdout",
     "output_type": "stream",
     "text": [
      "Train Labels shape is  (646, 98)\n",
      "Output dimensions: 98\n",
      "growing model size ...\n"
     ]
    },
    {
     "name": "stderr",
     "output_type": "stream",
     "text": [
      "100%|██████████| 1/1 [01:25<00:00, 85.82s/it]\n"
     ]
    },
    {
     "name": "stdout",
     "output_type": "stream",
     "text": [
      "Evaluating in individual mode on test set\n",
      "multilabel-indicator multilabel-indicator\n",
      "float32 float32\n",
      "(3185, 49) (3185, 49)\n",
      "Evaluating in combined mode on test set\n",
      "multilabel-indicator multilabel-indicator\n",
      "float32 float32\n",
      "(3185, 98) (3185, 98)\n",
      "Training and Evaluating on task 3\n",
      "Train data shape is  (646, 500)\n",
      "Train Labels shape is  (646, 49)\n",
      "Classes trained are: 98 to 147\n",
      "Samples with all negative labels 2\n",
      "Augmenting class labels...\n"
     ]
    },
    {
     "name": "stderr",
     "output_type": "stream",
     "text": [
      "  0%|          | 0/1 [00:00<?, ?it/s]"
     ]
    },
    {
     "name": "stdout",
     "output_type": "stream",
     "text": [
      "Train Labels shape is  (646, 147)\n",
      "Output dimensions: 147\n",
      "growing model size ...\n"
     ]
    },
    {
     "name": "stderr",
     "output_type": "stream",
     "text": [
      "100%|██████████| 1/1 [01:25<00:00, 85.42s/it]\n"
     ]
    },
    {
     "name": "stdout",
     "output_type": "stream",
     "text": [
      "Evaluating in individual mode on test set\n",
      "multilabel-indicator multilabel-indicator\n",
      "float32 float32\n",
      "(3185, 49) (3185, 49)\n",
      "Evaluating in combined mode on test set\n",
      "multilabel-indicator multilabel-indicator\n",
      "float32 float32\n",
      "(3185, 147) (3185, 147)\n",
      "Training and Evaluating on task 4\n",
      "Train data shape is  (646, 500)\n",
      "Train Labels shape is  (646, 49)\n",
      "Classes trained are: 147 to 196\n",
      "Samples with all negative labels 2\n",
      "Augmenting class labels...\n"
     ]
    },
    {
     "name": "stderr",
     "output_type": "stream",
     "text": [
      "  0%|          | 0/1 [00:00<?, ?it/s]"
     ]
    },
    {
     "name": "stdout",
     "output_type": "stream",
     "text": [
      "Train Labels shape is  (646, 196)\n",
      "Output dimensions: 196\n",
      "growing model size ...\n"
     ]
    },
    {
     "name": "stderr",
     "output_type": "stream",
     "text": [
      "100%|██████████| 1/1 [01:27<00:00, 87.51s/it]\n"
     ]
    },
    {
     "name": "stdout",
     "output_type": "stream",
     "text": [
      "Evaluating in individual mode on test set\n",
      "multilabel-indicator multilabel-indicator\n",
      "float32 float32\n",
      "(3185, 49) (3185, 49)\n",
      "Evaluating in combined mode on test set\n",
      "multilabel-indicator multilabel-indicator\n",
      "float32 float32\n",
      "(3185, 196) (3185, 196)\n",
      "Training and Evaluating on task 5\n",
      "Train data shape is  (646, 500)\n",
      "Train Labels shape is  (646, 49)\n",
      "Classes trained are: 196 to 245\n",
      "Samples with all negative labels 2\n",
      "Augmenting class labels...\n"
     ]
    },
    {
     "name": "stderr",
     "output_type": "stream",
     "text": [
      "  0%|          | 0/1 [00:00<?, ?it/s]"
     ]
    },
    {
     "name": "stdout",
     "output_type": "stream",
     "text": [
      "Train Labels shape is  (646, 245)\n",
      "Output dimensions: 245\n",
      "growing model size ...\n"
     ]
    },
    {
     "name": "stderr",
     "output_type": "stream",
     "text": [
      "100%|██████████| 1/1 [01:22<00:00, 82.80s/it]\n"
     ]
    },
    {
     "name": "stdout",
     "output_type": "stream",
     "text": [
      "Evaluating in individual mode on test set\n",
      "multilabel-indicator multilabel-indicator\n",
      "float32 float32\n",
      "(3185, 49) (3185, 49)\n",
      "Evaluating in combined mode on test set\n",
      "multilabel-indicator multilabel-indicator\n",
      "float32 float32\n",
      "(3185, 245) (3185, 245)\n",
      "Training and Evaluating on task 6\n",
      "Train data shape is  (646, 500)\n",
      "Train Labels shape is  (646, 49)\n",
      "Classes trained are: 245 to 294\n",
      "Samples with all negative labels 4\n",
      "Augmenting class labels...\n"
     ]
    },
    {
     "name": "stderr",
     "output_type": "stream",
     "text": [
      "  0%|          | 0/1 [00:00<?, ?it/s]"
     ]
    },
    {
     "name": "stdout",
     "output_type": "stream",
     "text": [
      "Train Labels shape is  (646, 294)\n",
      "Output dimensions: 294\n",
      "growing model size ...\n"
     ]
    },
    {
     "name": "stderr",
     "output_type": "stream",
     "text": [
      "100%|██████████| 1/1 [01:21<00:00, 81.99s/it]\n"
     ]
    },
    {
     "name": "stdout",
     "output_type": "stream",
     "text": [
      "Evaluating in individual mode on test set\n",
      "multilabel-indicator multilabel-indicator\n",
      "float32 float32\n",
      "(3185, 49) (3185, 49)\n",
      "Evaluating in combined mode on test set\n",
      "multilabel-indicator multilabel-indicator\n",
      "float32 float32\n",
      "(3185, 294) (3185, 294)\n",
      "Training and Evaluating on task 7\n",
      "Train data shape is  (646, 500)\n",
      "Train Labels shape is  (646, 49)\n",
      "Classes trained are: 294 to 343\n",
      "Samples with all negative labels 2\n",
      "Augmenting class labels...\n"
     ]
    },
    {
     "name": "stderr",
     "output_type": "stream",
     "text": [
      "  0%|          | 0/1 [00:00<?, ?it/s]"
     ]
    },
    {
     "name": "stdout",
     "output_type": "stream",
     "text": [
      "Train Labels shape is  (646, 343)\n",
      "Output dimensions: 343\n",
      "growing model size ...\n"
     ]
    },
    {
     "name": "stderr",
     "output_type": "stream",
     "text": [
      "100%|██████████| 1/1 [01:21<00:00, 81.39s/it]\n"
     ]
    },
    {
     "name": "stdout",
     "output_type": "stream",
     "text": [
      "Evaluating in individual mode on test set\n",
      "multilabel-indicator multilabel-indicator\n",
      "float32 float32\n",
      "(3185, 49) (3185, 49)\n",
      "Evaluating in combined mode on test set\n",
      "multilabel-indicator multilabel-indicator\n",
      "float32 float32\n",
      "(3185, 343) (3185, 343)\n",
      "Training and Evaluating on task 8\n",
      "Train data shape is  (646, 500)\n",
      "Train Labels shape is  (646, 49)\n",
      "Classes trained are: 343 to 392\n",
      "Samples with all negative labels 4\n",
      "Augmenting class labels...\n"
     ]
    },
    {
     "name": "stderr",
     "output_type": "stream",
     "text": [
      "  0%|          | 0/1 [00:00<?, ?it/s]"
     ]
    },
    {
     "name": "stdout",
     "output_type": "stream",
     "text": [
      "Train Labels shape is  (646, 392)\n",
      "Output dimensions: 392\n",
      "growing model size ...\n"
     ]
    },
    {
     "name": "stderr",
     "output_type": "stream",
     "text": [
      "100%|██████████| 1/1 [01:24<00:00, 84.57s/it]\n"
     ]
    },
    {
     "name": "stdout",
     "output_type": "stream",
     "text": [
      "Evaluating in individual mode on test set\n",
      "multilabel-indicator multilabel-indicator\n",
      "float32 float32\n",
      "(3185, 49) (3185, 49)\n",
      "Evaluating in combined mode on test set\n",
      "multilabel-indicator multilabel-indicator\n",
      "float32 float32\n",
      "(3185, 392) (3185, 392)\n",
      "Training and Evaluating on task 9\n",
      "Train data shape is  (646, 500)\n",
      "Train Labels shape is  (646, 49)\n",
      "Classes trained are: 392 to 441\n",
      "Samples with all negative labels 2\n",
      "Augmenting class labels...\n"
     ]
    },
    {
     "name": "stderr",
     "output_type": "stream",
     "text": [
      "  0%|          | 0/1 [00:00<?, ?it/s]"
     ]
    },
    {
     "name": "stdout",
     "output_type": "stream",
     "text": [
      "Train Labels shape is  (646, 441)\n",
      "Output dimensions: 441\n",
      "growing model size ...\n"
     ]
    },
    {
     "name": "stderr",
     "output_type": "stream",
     "text": [
      "100%|██████████| 1/1 [01:24<00:00, 84.45s/it]\n"
     ]
    },
    {
     "name": "stdout",
     "output_type": "stream",
     "text": [
      "Evaluating in individual mode on test set\n",
      "multilabel-indicator multilabel-indicator\n",
      "float32 float32\n",
      "(3185, 49) (3185, 49)\n",
      "Evaluating in combined mode on test set\n",
      "multilabel-indicator multilabel-indicator\n",
      "float32 float32\n",
      "(3185, 441) (3185, 441)\n",
      "Training and Evaluating on task 10\n",
      "Train data shape is  (646, 500)\n",
      "Train Labels shape is  (646, 49)\n",
      "Classes trained are: 441 to 490\n",
      "Samples with all negative labels 0\n",
      "Augmenting class labels...\n"
     ]
    },
    {
     "name": "stderr",
     "output_type": "stream",
     "text": [
      "  0%|          | 0/1 [00:00<?, ?it/s]"
     ]
    },
    {
     "name": "stdout",
     "output_type": "stream",
     "text": [
      "Train Labels shape is  (646, 490)\n",
      "Output dimensions: 490\n",
      "growing model size ...\n"
     ]
    },
    {
     "name": "stderr",
     "output_type": "stream",
     "text": [
      "100%|██████████| 1/1 [01:24<00:00, 84.25s/it]\n"
     ]
    },
    {
     "name": "stdout",
     "output_type": "stream",
     "text": [
      "Evaluating in individual mode on test set\n",
      "multilabel-indicator multilabel-indicator\n",
      "float32 float32\n",
      "(3185, 49) (3185, 49)\n",
      "Evaluating in combined mode on test set\n",
      "multilabel-indicator multilabel-indicator\n",
      "float32 float32\n",
      "(3185, 490) (3185, 490)\n",
      "Training and Evaluating on task 11\n",
      "Train data shape is  (646, 500)\n",
      "Train Labels shape is  (646, 49)\n",
      "Classes trained are: 490 to 539\n",
      "Samples with all negative labels 0\n",
      "Augmenting class labels...\n"
     ]
    },
    {
     "name": "stderr",
     "output_type": "stream",
     "text": [
      "  0%|          | 0/1 [00:00<?, ?it/s]"
     ]
    },
    {
     "name": "stdout",
     "output_type": "stream",
     "text": [
      "Train Labels shape is  (646, 539)\n",
      "Output dimensions: 539\n",
      "growing model size ...\n"
     ]
    },
    {
     "name": "stderr",
     "output_type": "stream",
     "text": [
      "100%|██████████| 1/1 [01:25<00:00, 85.74s/it]\n"
     ]
    },
    {
     "name": "stdout",
     "output_type": "stream",
     "text": [
      "Evaluating in individual mode on test set\n",
      "multilabel-indicator multilabel-indicator\n",
      "float32 float32\n",
      "(3185, 49) (3185, 49)\n",
      "Evaluating in combined mode on test set\n",
      "multilabel-indicator multilabel-indicator\n",
      "float32 float32\n",
      "(3185, 539) (3185, 539)\n",
      "Training and Evaluating on task 12\n",
      "Train data shape is  (646, 500)\n",
      "Train Labels shape is  (646, 49)\n",
      "Classes trained are: 539 to 588\n",
      "Samples with all negative labels 4\n",
      "Augmenting class labels...\n"
     ]
    },
    {
     "name": "stderr",
     "output_type": "stream",
     "text": [
      "  0%|          | 0/1 [00:00<?, ?it/s]"
     ]
    },
    {
     "name": "stdout",
     "output_type": "stream",
     "text": [
      "Train Labels shape is  (646, 588)\n",
      "Output dimensions: 588\n",
      "growing model size ...\n"
     ]
    },
    {
     "name": "stderr",
     "output_type": "stream",
     "text": [
      "100%|██████████| 1/1 [01:25<00:00, 85.99s/it]\n"
     ]
    },
    {
     "name": "stdout",
     "output_type": "stream",
     "text": [
      "Evaluating in individual mode on test set\n",
      "multilabel-indicator multilabel-indicator\n",
      "float32 float32\n",
      "(3185, 49) (3185, 49)\n",
      "Evaluating in combined mode on test set\n",
      "multilabel-indicator multilabel-indicator\n",
      "float32 float32\n",
      "(3185, 588) (3185, 588)\n",
      "Training and Evaluating on task 13\n",
      "Train data shape is  (646, 500)\n",
      "Train Labels shape is  (646, 49)\n",
      "Classes trained are: 588 to 637\n",
      "Samples with all negative labels 3\n",
      "Augmenting class labels...\n"
     ]
    },
    {
     "name": "stderr",
     "output_type": "stream",
     "text": [
      "  0%|          | 0/1 [00:00<?, ?it/s]"
     ]
    },
    {
     "name": "stdout",
     "output_type": "stream",
     "text": [
      "Train Labels shape is  (646, 637)\n",
      "Output dimensions: 637\n",
      "growing model size ...\n"
     ]
    },
    {
     "name": "stderr",
     "output_type": "stream",
     "text": [
      "100%|██████████| 1/1 [01:25<00:00, 85.67s/it]\n"
     ]
    },
    {
     "name": "stdout",
     "output_type": "stream",
     "text": [
      "Evaluating in individual mode on test set\n",
      "multilabel-indicator multilabel-indicator\n",
      "float32 float32\n",
      "(3185, 49) (3185, 49)\n",
      "Evaluating in combined mode on test set\n",
      "multilabel-indicator multilabel-indicator\n",
      "float32 float32\n",
      "(3185, 637) (3185, 637)\n",
      "Training and Evaluating on task 14\n",
      "Train data shape is  (646, 500)\n",
      "Train Labels shape is  (646, 49)\n",
      "Classes trained are: 637 to 686\n",
      "Samples with all negative labels 3\n",
      "Augmenting class labels...\n"
     ]
    },
    {
     "name": "stderr",
     "output_type": "stream",
     "text": [
      "  0%|          | 0/1 [00:00<?, ?it/s]"
     ]
    },
    {
     "name": "stdout",
     "output_type": "stream",
     "text": [
      "Train Labels shape is  (646, 686)\n",
      "Output dimensions: 686\n",
      "growing model size ...\n"
     ]
    },
    {
     "name": "stderr",
     "output_type": "stream",
     "text": [
      "100%|██████████| 1/1 [01:24<00:00, 84.76s/it]\n"
     ]
    },
    {
     "name": "stdout",
     "output_type": "stream",
     "text": [
      "Evaluating in individual mode on test set\n",
      "multilabel-indicator multilabel-indicator\n",
      "float32 float32\n",
      "(3185, 49) (3185, 49)\n",
      "Evaluating in combined mode on test set\n",
      "multilabel-indicator multilabel-indicator\n",
      "float32 float32\n",
      "(3185, 686) (3185, 686)\n",
      "Training and Evaluating on task 15\n",
      "Train data shape is  (646, 500)\n",
      "Train Labels shape is  (646, 49)\n",
      "Classes trained are: 686 to 735\n",
      "Samples with all negative labels 8\n",
      "Augmenting class labels...\n"
     ]
    },
    {
     "name": "stderr",
     "output_type": "stream",
     "text": [
      "  0%|          | 0/1 [00:00<?, ?it/s]"
     ]
    },
    {
     "name": "stdout",
     "output_type": "stream",
     "text": [
      "Train Labels shape is  (646, 735)\n",
      "Output dimensions: 735\n",
      "growing model size ...\n"
     ]
    },
    {
     "name": "stderr",
     "output_type": "stream",
     "text": [
      "100%|██████████| 1/1 [01:24<00:00, 84.69s/it]\n"
     ]
    },
    {
     "name": "stdout",
     "output_type": "stream",
     "text": [
      "Evaluating in individual mode on test set\n",
      "multilabel-indicator multilabel-indicator\n",
      "float32 float32\n",
      "(3185, 49) (3185, 49)\n",
      "Evaluating in combined mode on test set\n",
      "multilabel-indicator multilabel-indicator\n",
      "float32 float32\n",
      "(3185, 735) (3185, 735)\n",
      "Training and Evaluating on task 16\n",
      "Train data shape is  (646, 500)\n",
      "Train Labels shape is  (646, 49)\n",
      "Classes trained are: 735 to 784\n",
      "Samples with all negative labels 1\n",
      "Augmenting class labels...\n"
     ]
    },
    {
     "name": "stderr",
     "output_type": "stream",
     "text": [
      "  0%|          | 0/1 [00:00<?, ?it/s]"
     ]
    },
    {
     "name": "stdout",
     "output_type": "stream",
     "text": [
      "Train Labels shape is  (646, 784)\n",
      "Output dimensions: 784\n",
      "growing model size ...\n"
     ]
    },
    {
     "name": "stderr",
     "output_type": "stream",
     "text": [
      "100%|██████████| 1/1 [01:24<00:00, 84.54s/it]\n"
     ]
    },
    {
     "name": "stdout",
     "output_type": "stream",
     "text": [
      "Evaluating in individual mode on test set\n",
      "multilabel-indicator multilabel-indicator\n",
      "float32 float32\n",
      "(3185, 49) (3185, 49)\n",
      "Evaluating in combined mode on test set\n",
      "multilabel-indicator multilabel-indicator\n",
      "float32 float32\n",
      "(3185, 784) (3185, 784)\n",
      "Training and Evaluating on task 17\n",
      "Train data shape is  (646, 500)\n",
      "Train Labels shape is  (646, 49)\n",
      "Classes trained are: 784 to 833\n",
      "Samples with all negative labels 3\n",
      "Augmenting class labels...\n"
     ]
    },
    {
     "name": "stderr",
     "output_type": "stream",
     "text": [
      "  0%|          | 0/1 [00:00<?, ?it/s]"
     ]
    },
    {
     "name": "stdout",
     "output_type": "stream",
     "text": [
      "Train Labels shape is  (646, 833)\n",
      "Output dimensions: 833\n",
      "growing model size ...\n"
     ]
    },
    {
     "name": "stderr",
     "output_type": "stream",
     "text": [
      "100%|██████████| 1/1 [01:21<00:00, 81.88s/it]\n"
     ]
    },
    {
     "name": "stdout",
     "output_type": "stream",
     "text": [
      "Evaluating in individual mode on test set\n",
      "multilabel-indicator multilabel-indicator\n",
      "float32 float32\n",
      "(3185, 49) (3185, 49)\n",
      "Evaluating in combined mode on test set\n",
      "multilabel-indicator multilabel-indicator\n",
      "float32 float32\n",
      "(3185, 833) (3185, 833)\n",
      "Training and Evaluating on task 18\n",
      "Train data shape is  (646, 500)\n",
      "Train Labels shape is  (646, 49)\n",
      "Classes trained are: 833 to 882\n",
      "Samples with all negative labels 4\n",
      "Augmenting class labels...\n"
     ]
    },
    {
     "name": "stderr",
     "output_type": "stream",
     "text": [
      "  0%|          | 0/1 [00:00<?, ?it/s]"
     ]
    },
    {
     "name": "stdout",
     "output_type": "stream",
     "text": [
      "Train Labels shape is  (646, 882)\n",
      "Output dimensions: 882\n",
      "growing model size ...\n"
     ]
    },
    {
     "name": "stderr",
     "output_type": "stream",
     "text": [
      "100%|██████████| 1/1 [01:19<00:00, 79.53s/it]\n"
     ]
    },
    {
     "name": "stdout",
     "output_type": "stream",
     "text": [
      "Evaluating in individual mode on test set\n",
      "multilabel-indicator multilabel-indicator\n",
      "float32 float32\n",
      "(3185, 49) (3185, 49)\n",
      "Evaluating in combined mode on test set\n",
      "multilabel-indicator multilabel-indicator\n",
      "float32 float32\n",
      "(3185, 882) (3185, 882)\n",
      "Training and Evaluating on task 19\n",
      "Train data shape is  (646, 500)\n",
      "Train Labels shape is  (646, 49)\n",
      "Classes trained are: 882 to 931\n",
      "Samples with all negative labels 1\n",
      "Augmenting class labels...\n"
     ]
    },
    {
     "name": "stderr",
     "output_type": "stream",
     "text": [
      "  0%|          | 0/1 [00:00<?, ?it/s]"
     ]
    },
    {
     "name": "stdout",
     "output_type": "stream",
     "text": [
      "Train Labels shape is  (646, 931)\n",
      "Output dimensions: 931\n",
      "growing model size ...\n"
     ]
    },
    {
     "name": "stderr",
     "output_type": "stream",
     "text": [
      "100%|██████████| 1/1 [01:24<00:00, 84.92s/it]\n"
     ]
    },
    {
     "name": "stdout",
     "output_type": "stream",
     "text": [
      "Evaluating in individual mode on test set\n",
      "multilabel-indicator multilabel-indicator\n",
      "float32 float32\n",
      "(3185, 49) (3185, 49)\n",
      "Evaluating in combined mode on test set\n",
      "multilabel-indicator multilabel-indicator\n",
      "float32 float32\n",
      "(3185, 931) (3185, 931)\n",
      "Training and Evaluating on task 20\n",
      "Train data shape is  (646, 500)\n",
      "Train Labels shape is  (646, 52)\n",
      "Classes trained are: 931 to 983\n",
      "Samples with all negative labels 1\n",
      "Augmenting class labels...\n"
     ]
    },
    {
     "name": "stderr",
     "output_type": "stream",
     "text": [
      "  0%|          | 0/1 [00:00<?, ?it/s]"
     ]
    },
    {
     "name": "stdout",
     "output_type": "stream",
     "text": [
      "Train Labels shape is  (646, 983)\n",
      "Output dimensions: 983\n",
      "growing model size ...\n"
     ]
    },
    {
     "name": "stderr",
     "output_type": "stream",
     "text": [
      "100%|██████████| 1/1 [01:24<00:00, 84.49s/it]\n"
     ]
    },
    {
     "name": "stdout",
     "output_type": "stream",
     "text": [
      "Evaluating in individual mode on test set\n",
      "multilabel-indicator multilabel-indicator\n",
      "float32 float32\n",
      "(3185, 52) (3185, 52)\n",
      "Evaluating in combined mode on test set\n",
      "multilabel-indicator multilabel-indicator\n",
      "float32 float32\n",
      "(3185, 983) (3185, 983)\n",
      "Evaluating in individual mode on test set\n",
      "|                     |          0 |         1 |          2 |          3 |         4 |          5 |          6 |         7 |          8 |         9 |         10 |        11 |        12 |         13 |        14 |         15 |        16 |        17 |         18 |        19 |\n",
      "|:--------------------|-----------:|----------:|-----------:|-----------:|----------:|-----------:|-----------:|----------:|-----------:|----------:|-----------:|----------:|----------:|-----------:|----------:|-----------:|----------:|----------:|-----------:|----------:|\n",
      "| hamming loss        | 0.593644   | 0.527037  | 0.494057   | 0.432993   | 0.536597  | 0.497158   | 0.472829   | 0.417916  | 0.489988   | 0.620748  | 0.56966    | 0.46735   | 0.546849  | 0.469702   | 0.575587  | 0.57073    | 0.502784  | 0.486041  | 0.390126   | 0.0279978 |\n",
      "| zero_one_loss       | 1          | 1         | 1          | 1          | 1         | 1          | 1          | 1         | 1          | 1         | 1          | 1         | 1         | 1          | 1         | 1          | 1         | 1         | 1          | 0.642072  |\n",
      "| one_error           | 0          | 0         | 0          | 0          | 0         | 0          | 0          | 0         | 0          | 0         | 0          | 0         | 0         | 0          | 0         | 0          | 0         | 0         | 0          | 0         |\n",
      "| micro av. jaccard   | 0.00688184 | 0.0188706 | 0.0164677  | 0.0134172  | 0.0341726 | 0.0103949  | 0.00867836 | 0.0137604 | 0.018697   | 0.0324298 | 0.0139745  | 0.0210587 | 0.019474  | 0.01674    | 0.0154647 | 0.0161379  | 0.0234228 | 0.0312759 | 0.0202752  | 0         |\n",
      "| macro av. jaccard   | 0.00411367 | 0.0101368 | 0.00827219 | 0.00588857 | 0.0189857 | 0.00522218 | 0.0041393  | 0.0058309 | 0.00933585 | 0.0208054 | 0.00807356 | 0.0100535 | 0.0108609 | 0.00799667 | 0.0090411 | 0.00936148 | 0.0120591 | 0.0156922 | 0.00807356 | 0         |\n",
      "| micro av. precision | 0.00695068 | 0.019104  | 0.0168891  | 0.01374    | 0.0344555 | 0.010662   | 0.00881851 | 0.0142857 | 0.0190607  | 0.032886  | 0.0141287  | 0.0214183 | 0.0197104 | 0.0170364  | 0.0158219 | 0.0163826  | 0.0236358 | 0.0320382 | 0.0208213  | 0         |\n",
      "| macro av. precision | 0.00411367 | 0.0101368 | 0.00827219 | 0.00588857 | 0.0189857 | 0.00522218 | 0.0041393  | 0.0058309 | 0.00933585 | 0.0208054 | 0.00807356 | 0.0100535 | 0.0108609 | 0.00799667 | 0.0090411 | 0.00936148 | 0.0120591 | 0.0156922 | 0.00807356 | 0         |\n",
      "| micro av. recall    | 0.409962   | 0.607061  | 0.397598   | 0.363528   | 0.806259  | 0.293271   | 0.353198   | 0.272292  | 0.494905   | 0.700388  | 0.561497   | 0.556383  | 0.618839  | 0.490373   | 0.406511  | 0.519374   | 0.72218   | 0.56795   | 0.435986   | 0         |\n",
      "| macro av. recall    | 0.571429   | 0.530612  | 0.489796   | 0.428571   | 0.55102   | 0.489796   | 0.469388   | 0.408163  | 0.489796   | 0.632653  | 0.571429   | 0.469388  | 0.55102   | 0.469388   | 0.571429  | 0.571429   | 0.510204  | 0.489796  | 0.387755   | 0         |\n",
      "| micro av. f1        | 0.0136696  | 0.0370422 | 0.0324018  | 0.0264792  | 0.0660868 | 0.0205759  | 0.0172074  | 0.0271472 | 0.0367076  | 0.0628223 | 0.0275639  | 0.0412488 | 0.0382041 | 0.0329288  | 0.0304584 | 0.0317633  | 0.0457735 | 0.0606548 | 0.0397445  | 0         |\n",
      "| macro av. f1        | 0.0081153  | 0.0190694 | 0.0152658  | 0.0111316  | 0.0326859 | 0.0101325  | 0.00817677 | 0.0112668 | 0.0180111  | 0.0376179 | 0.0156406  | 0.0191203 | 0.0202815 | 0.0155397  | 0.0162415 | 0.017936   | 0.0207443 | 0.0284483 | 0.0152034  | 0         |\n",
      "| imb. av. f1         | 0.275044   | 0.543681  | 0.502623   | 0.550065   | 0.447449  | 0.370194   | 0.520547   | 0.574308  | 0.516583   | 0.400071  | 0.467152   | 0.607999  | 0.434093  | 0.554539   | 0.458484  | 0.427125   | 0.460128  | 0.542012  | 0.603293   | 0.993666  |\n",
      "Evaluating in combined mode on test set\n",
      "|                     |          0 |          1 |          2 |          3 |          4 |          5 |          6 |          7 |          8 |          9 |         10 |         11 |         12 |         13 |         14 |         15 |         16 |        17 |         18 |         19 |\n",
      "|:--------------------|-----------:|-----------:|-----------:|-----------:|-----------:|-----------:|-----------:|-----------:|-----------:|-----------:|-----------:|-----------:|-----------:|-----------:|-----------:|-----------:|-----------:|----------:|-----------:|-----------:|\n",
      "| hamming loss        | 0.593644   | 0.56034    | 0.538246   | 0.511933   | 0.516865   | 0.513581   | 0.507759   | 0.496529   | 0.495802   | 0.508297   | 0.513875   | 0.509998   | 0.512833   | 0.509752   | 0.514141   | 0.517678   | 0.516802   | 0.515093  | 0.508516   | 0.483096   |\n",
      "| zero_one_loss       | 1          | 1          | 1          | 1          | 1          | 1          | 1          | 1          | 1          | 1          | 1          | 1          | 1          | 1          | 1          | 1          | 1          | 1         | 1          | 1          |\n",
      "| one_error           | 0          | 0          | 0          | 0          | 0          | 0          | 0          | 0          | 0          | 0          | 0          | 0          | 0          | 0          | 0          | 0          | 0          | 0         | 0          | 0          |\n",
      "| micro av. jaccard   | 0.00688184 | 0.0125562  | 0.0137563  | 0.0136846  | 0.0180098  | 0.0167892  | 0.0157179  | 0.0155123  | 0.015863   | 0.0179165  | 0.0175207  | 0.0177918  | 0.01793    | 0.0178518  | 0.017674   | 0.0175683  | 0.0179052  | 0.0186153 | 0.0186825  | 0.0186262  |\n",
      "| macro av. jaccard   | 0.00411367 | 0.00712524 | 0.00750756 | 0.00710281 | 0.00947938 | 0.00876985 | 0.00810834 | 0.00782366 | 0.00799168 | 0.00927306 | 0.00916401 | 0.00923814 | 0.00936296 | 0.00926537 | 0.00925042 | 0.00925736 | 0.00942217 | 0.0097705 | 0.00968119 | 0.00916906 |\n",
      "| micro av. precision | 0.00695068 | 0.0126959  | 0.0139698  | 0.0139215  | 0.018287   | 0.0170751  | 0.0159837  | 0.0158086  | 0.0161667  | 0.0182482  | 0.0178318  | 0.0181068  | 0.0182392  | 0.0181601  | 0.0179869  | 0.0178763  | 0.0182104  | 0.0189397 | 0.0190152  | 0.0190152  |\n",
      "| macro av. precision | 0.00411367 | 0.00712524 | 0.00750756 | 0.00710281 | 0.00947938 | 0.00876985 | 0.00810834 | 0.00782366 | 0.00799168 | 0.00927306 | 0.00916401 | 0.00923814 | 0.00936296 | 0.00926537 | 0.00925042 | 0.00925736 | 0.00942217 | 0.0097705 | 0.00968119 | 0.00916906 |\n",
      "| micro av. recall    | 0.409962   | 0.533078   | 0.473784   | 0.445763   | 0.543019   | 0.500701   | 0.485902   | 0.452809   | 0.457864   | 0.496432   | 0.501083   | 0.505641   | 0.514031   | 0.512506   | 0.503945   | 0.504893   | 0.516594   | 0.520796  | 0.516387   | 0.476631   |\n",
      "| macro av. recall    | 0.571429   | 0.55102    | 0.530612   | 0.505102   | 0.514286   | 0.510204   | 0.504373   | 0.492347   | 0.492063   | 0.506122   | 0.512059   | 0.508503   | 0.511774   | 0.508746   | 0.512925   | 0.516582   | 0.516206   | 0.514739  | 0.508056   | 0.48118    |\n",
      "| micro av. f1        | 0.0136696  | 0.0248011  | 0.0271393  | 0.0269998  | 0.0353824  | 0.033024   | 0.0309493  | 0.0305507  | 0.0312306  | 0.0352024  | 0.034438   | 0.0349615  | 0.0352283  | 0.0350773  | 0.0347341  | 0.03453    | 0.0351806  | 0.0365503 | 0.0366797  | 0.0365713  |\n",
      "| macro av. f1        | 0.0081153  | 0.0135923  | 0.0141502  | 0.0133955  | 0.0172536  | 0.0160667  | 0.0149396  | 0.0144805  | 0.0148728  | 0.0171473  | 0.0170103  | 0.0171862  | 0.0174243  | 0.0172897  | 0.0172198  | 0.0172645  | 0.0174692  | 0.0180792 | 0.0179278  | 0.0169795  |\n",
      "| imb. av. f1         | 0.275044   | 0.386467   | 0.421539   | 0.45178    | 0.450983   | 0.439086   | 0.448638   | 0.460944   | 0.465501   | 0.459365   | 0.459933   | 0.471975   | 0.468745   | 0.473961   | 0.472745   | 0.469873   | 0.469252   | 0.472703  | 0.478823   | 0.501802   |\n",
      "File saved to ./checkpoints_new/delicious_0_LwF_asy.pkl\n",
      "Number of Tasks: 20\n",
      "Forgetting in task 1: first time imb. av. f1 = 0.6824, after all tasks imb. av. f1 = 0.2750\n",
      "Forgetting in task 2: first time imb. av. f1 = 0.9950, after all tasks imb. av. f1 = 0.2750\n",
      "Forgetting in task 3: first time imb. av. f1 = 0.9952, after all tasks imb. av. f1 = 0.2750\n",
      "Forgetting in task 4: first time imb. av. f1 = 0.9953, after all tasks imb. av. f1 = 0.2750\n",
      "Forgetting in task 5: first time imb. av. f1 = 0.9951, after all tasks imb. av. f1 = 0.2750\n",
      "Forgetting in task 6: first time imb. av. f1 = 0.9947, after all tasks imb. av. f1 = 0.2750\n",
      "Forgetting in task 7: first time imb. av. f1 = 0.9941, after all tasks imb. av. f1 = 0.2750\n",
      "Forgetting in task 8: first time imb. av. f1 = 0.9936, after all tasks imb. av. f1 = 0.2750\n",
      "Forgetting in task 9: first time imb. av. f1 = 0.9930, after all tasks imb. av. f1 = 0.2750\n",
      "Forgetting in task 10: first time imb. av. f1 = 0.9945, after all tasks imb. av. f1 = 0.2750\n",
      "Forgetting in task 11: first time imb. av. f1 = 0.9934, after all tasks imb. av. f1 = 0.2750\n",
      "Forgetting in task 12: first time imb. av. f1 = 0.9787, after all tasks imb. av. f1 = 0.2750\n",
      "Forgetting in task 13: first time imb. av. f1 = 0.9595, after all tasks imb. av. f1 = 0.2750\n",
      "Forgetting in task 14: first time imb. av. f1 = 0.9917, after all tasks imb. av. f1 = 0.2750\n",
      "Forgetting in task 15: first time imb. av. f1 = 0.9905, after all tasks imb. av. f1 = 0.2750\n",
      "Forgetting in task 16: first time imb. av. f1 = 0.9635, after all tasks imb. av. f1 = 0.2750\n",
      "Forgetting in task 17: first time imb. av. f1 = 0.9953, after all tasks imb. av. f1 = 0.2750\n",
      "Forgetting in task 18: first time imb. av. f1 = 0.9855, after all tasks imb. av. f1 = 0.2750\n",
      "Forgetting in task 19: first time imb. av. f1 = 0.9704, after all tasks imb. av. f1 = 0.2750\n",
      "Forgetting in task 20: first time imb. av. f1 = 0.9937, after all tasks imb. av. f1 = 0.2750\n"
     ]
    },
    {
     "data": {
      "image/png": "[encoded data removed]",
      "text/plain": [
       "<Figure size 360x360 with 1 Axes>"
      ]
     },
     "metadata": {
      "needs_background": "light"
     },
     "output_type": "display_data"
    }
   ],
   "source": [
    "hparams = Hyperparameters('delicious', continual_method, device, num_tasks=20)\n",
    "experiment = ContinualExperiment(hparams)\n",
    "experiment.run()"
   ]
  },
  {
   "cell_type": "markdown",
   "metadata": {},
   "source": [
    "## Mediamill, 20 tasks"
   ]
  },
  {
   "cell_type": "code",
   "execution_count": 18,
   "metadata": {},
   "outputs": [
    {
     "name": "stdout",
     "output_type": "stream",
     "text": [
      "Processing Data ...\n"
     ]
    },
    {
     "name": "stderr",
     "output_type": "stream",
     "text": [
      "  0%|          | 0/1 [00:00<?, ?it/s]"
     ]
    },
    {
     "name": "stdout",
     "output_type": "stream",
     "text": [
      "(30993, 120)\n",
      "(12914, 120)\n",
      "(30993, 101)\n",
      "(12914, 101)\n",
      "Begin training in LwF mode ...\n",
      "Training and Evaluating on task 1\n",
      "Train data shape is  (1549, 120)\n",
      "Train Labels shape is  (1549, 5)\n",
      "Classes trained are: 0 to 5\n",
      "Samples with all negative labels 0\n",
      "Output dimensions: 5\n"
     ]
    },
    {
     "name": "stderr",
     "output_type": "stream",
     "text": [
      "100%|██████████| 1/1 [00:00<00:00,  1.62it/s]\n"
     ]
    },
    {
     "name": "stdout",
     "output_type": "stream",
     "text": [
      "Evaluating in individual mode on test set\n",
      "multilabel-indicator multilabel-indicator\n",
      "float32 float32\n",
      "(12914, 5) (12914, 5)\n",
      "Evaluating in combined mode on test set\n",
      "multilabel-indicator multilabel-indicator\n",
      "float32 float32\n",
      "(12914, 5) (12914, 5)\n",
      "Training and Evaluating on task 2\n",
      "Train data shape is  (1549, 120)\n",
      "Train Labels shape is  (1549, 5)\n",
      "Classes trained are: 5 to 10\n",
      "Samples with all negative labels 2\n",
      "Augmenting class labels...\n"
     ]
    },
    {
     "name": "stderr",
     "output_type": "stream",
     "text": [
      "  0%|          | 0/1 [00:00<?, ?it/s]"
     ]
    },
    {
     "name": "stdout",
     "output_type": "stream",
     "text": [
      "Train Labels shape is  (1549, 10)\n",
      "Output dimensions: 10\n",
      "growing model size ...\n"
     ]
    },
    {
     "name": "stderr",
     "output_type": "stream",
     "text": [
      "100%|██████████| 1/1 [07:08<00:00, 428.77s/it]\n"
     ]
    },
    {
     "name": "stdout",
     "output_type": "stream",
     "text": [
      "Evaluating in individual mode on test set\n",
      "multilabel-indicator multilabel-indicator\n",
      "float32 float32\n",
      "(12914, 5) (12914, 5)\n",
      "Evaluating in combined mode on test set\n",
      "multilabel-indicator multilabel-indicator\n",
      "float32 float32\n",
      "(12914, 10) (12914, 10)\n",
      "Training and Evaluating on task 3\n",
      "Train data shape is  (1549, 120)\n",
      "Train Labels shape is  (1549, 5)\n",
      "Classes trained are: 10 to 15\n",
      "Samples with all negative labels 3\n",
      "Augmenting class labels...\n"
     ]
    },
    {
     "name": "stderr",
     "output_type": "stream",
     "text": [
      "  0%|          | 0/1 [00:00<?, ?it/s]"
     ]
    },
    {
     "name": "stdout",
     "output_type": "stream",
     "text": [
      "Train Labels shape is  (1549, 15)\n",
      "Output dimensions: 15\n",
      "growing model size ...\n"
     ]
    },
    {
     "name": "stderr",
     "output_type": "stream",
     "text": [
      "100%|██████████| 1/1 [07:07<00:00, 427.28s/it]\n"
     ]
    },
    {
     "name": "stdout",
     "output_type": "stream",
     "text": [
      "Evaluating in individual mode on test set\n",
      "multilabel-indicator multilabel-indicator\n",
      "float32 float32\n",
      "(12914, 5) (12914, 5)\n",
      "Evaluating in combined mode on test set\n",
      "multilabel-indicator multilabel-indicator\n",
      "float32 float32\n",
      "(12914, 15) (12914, 15)\n",
      "Training and Evaluating on task 4\n",
      "Train data shape is  (1549, 120)\n",
      "Train Labels shape is  (1549, 5)\n",
      "Classes trained are: 15 to 20\n",
      "Samples with all negative labels 1\n",
      "Augmenting class labels...\n"
     ]
    },
    {
     "name": "stderr",
     "output_type": "stream",
     "text": [
      "  0%|          | 0/1 [00:00<?, ?it/s]"
     ]
    },
    {
     "name": "stdout",
     "output_type": "stream",
     "text": [
      "Train Labels shape is  (1549, 20)\n",
      "Output dimensions: 20\n",
      "growing model size ...\n"
     ]
    },
    {
     "name": "stderr",
     "output_type": "stream",
     "text": [
      "100%|██████████| 1/1 [07:10<00:00, 430.53s/it]\n"
     ]
    },
    {
     "name": "stdout",
     "output_type": "stream",
     "text": [
      "Evaluating in individual mode on test set\n",
      "multilabel-indicator multilabel-indicator\n",
      "float32 float32\n",
      "(12914, 5) (12914, 5)\n",
      "Evaluating in combined mode on test set\n",
      "multilabel-indicator multilabel-indicator\n",
      "float32 float32\n",
      "(12914, 20) (12914, 20)\n",
      "Training and Evaluating on task 5\n",
      "Train data shape is  (1549, 120)\n",
      "Train Labels shape is  (1549, 5)\n",
      "Classes trained are: 20 to 25\n",
      "Samples with all negative labels 1\n",
      "Augmenting class labels...\n"
     ]
    },
    {
     "name": "stderr",
     "output_type": "stream",
     "text": [
      "  0%|          | 0/1 [00:00<?, ?it/s]"
     ]
    },
    {
     "name": "stdout",
     "output_type": "stream",
     "text": [
      "Train Labels shape is  (1549, 25)\n",
      "Output dimensions: 25\n",
      "growing model size ...\n"
     ]
    },
    {
     "name": "stderr",
     "output_type": "stream",
     "text": [
      "100%|██████████| 1/1 [07:07<00:00, 427.52s/it]\n"
     ]
    },
    {
     "name": "stdout",
     "output_type": "stream",
     "text": [
      "Evaluating in individual mode on test set\n",
      "multilabel-indicator multilabel-indicator\n",
      "float32 float32\n",
      "(12914, 5) (12914, 5)\n",
      "Evaluating in combined mode on test set\n",
      "multilabel-indicator multilabel-indicator\n",
      "float32 float32\n",
      "(12914, 25) (12914, 25)\n",
      "Training and Evaluating on task 6\n",
      "Train data shape is  (1549, 120)\n",
      "Train Labels shape is  (1549, 5)\n",
      "Classes trained are: 25 to 30\n",
      "Samples with all negative labels 1\n",
      "Augmenting class labels...\n"
     ]
    },
    {
     "name": "stderr",
     "output_type": "stream",
     "text": [
      "  0%|          | 0/1 [00:00<?, ?it/s]"
     ]
    },
    {
     "name": "stdout",
     "output_type": "stream",
     "text": [
      "Train Labels shape is  (1549, 30)\n",
      "Output dimensions: 30\n",
      "growing model size ...\n"
     ]
    },
    {
     "name": "stderr",
     "output_type": "stream",
     "text": [
      "100%|██████████| 1/1 [07:06<00:00, 426.71s/it]\n"
     ]
    },
    {
     "name": "stdout",
     "output_type": "stream",
     "text": [
      "Evaluating in individual mode on test set\n",
      "multilabel-indicator multilabel-indicator\n",
      "float32 float32\n",
      "(12914, 5) (12914, 5)\n",
      "Evaluating in combined mode on test set\n",
      "multilabel-indicator multilabel-indicator\n",
      "float32 float32\n",
      "(12914, 30) (12914, 30)\n",
      "Training and Evaluating on task 7\n",
      "Train data shape is  (1549, 120)\n",
      "Train Labels shape is  (1549, 5)\n",
      "Classes trained are: 30 to 35\n",
      "Samples with all negative labels 0\n",
      "Augmenting class labels...\n"
     ]
    },
    {
     "name": "stderr",
     "output_type": "stream",
     "text": [
      "  0%|          | 0/1 [00:00<?, ?it/s]"
     ]
    },
    {
     "name": "stdout",
     "output_type": "stream",
     "text": [
      "Train Labels shape is  (1549, 35)\n",
      "Output dimensions: 35\n",
      "growing model size ...\n"
     ]
    },
    {
     "name": "stderr",
     "output_type": "stream",
     "text": [
      "100%|██████████| 1/1 [07:04<00:00, 424.93s/it]\n"
     ]
    },
    {
     "name": "stdout",
     "output_type": "stream",
     "text": [
      "Evaluating in individual mode on test set\n",
      "multilabel-indicator multilabel-indicator\n",
      "float32 float32\n",
      "(12914, 5) (12914, 5)\n",
      "Evaluating in combined mode on test set\n",
      "multilabel-indicator multilabel-indicator\n",
      "float32 float32\n",
      "(12914, 35) (12914, 35)\n",
      "Training and Evaluating on task 8\n",
      "Train data shape is  (1549, 120)\n",
      "Train Labels shape is  (1549, 5)\n",
      "Classes trained are: 35 to 40\n",
      "Samples with all negative labels 2\n",
      "Augmenting class labels...\n"
     ]
    },
    {
     "name": "stderr",
     "output_type": "stream",
     "text": [
      "  0%|          | 0/1 [00:00<?, ?it/s]"
     ]
    },
    {
     "name": "stdout",
     "output_type": "stream",
     "text": [
      "Train Labels shape is  (1549, 40)\n",
      "Output dimensions: 40\n",
      "growing model size ...\n"
     ]
    },
    {
     "name": "stderr",
     "output_type": "stream",
     "text": [
      "100%|██████████| 1/1 [07:08<00:00, 428.61s/it]\n"
     ]
    },
    {
     "name": "stdout",
     "output_type": "stream",
     "text": [
      "Evaluating in individual mode on test set\n",
      "multilabel-indicator multilabel-indicator\n",
      "float32 float32\n",
      "(12914, 5) (12914, 5)\n",
      "Evaluating in combined mode on test set\n",
      "multilabel-indicator multilabel-indicator\n",
      "float32 float32\n",
      "(12914, 40) (12914, 40)\n",
      "Training and Evaluating on task 9\n",
      "Train data shape is  (1549, 120)\n",
      "Train Labels shape is  (1549, 5)\n",
      "Classes trained are: 40 to 45\n",
      "Samples with all negative labels 1\n",
      "Augmenting class labels...\n"
     ]
    },
    {
     "name": "stderr",
     "output_type": "stream",
     "text": [
      "  0%|          | 0/1 [00:00<?, ?it/s]"
     ]
    },
    {
     "name": "stdout",
     "output_type": "stream",
     "text": [
      "Train Labels shape is  (1549, 45)\n",
      "Output dimensions: 45\n",
      "growing model size ...\n"
     ]
    },
    {
     "name": "stderr",
     "output_type": "stream",
     "text": [
      "100%|██████████| 1/1 [07:09<00:00, 429.20s/it]\n"
     ]
    },
    {
     "name": "stdout",
     "output_type": "stream",
     "text": [
      "Evaluating in individual mode on test set\n",
      "multilabel-indicator multilabel-indicator\n",
      "float32 float32\n",
      "(12914, 5) (12914, 5)\n",
      "Evaluating in combined mode on test set\n",
      "multilabel-indicator multilabel-indicator\n",
      "float32 float32\n",
      "(12914, 45) (12914, 45)\n",
      "Training and Evaluating on task 10\n",
      "Train data shape is  (1549, 120)\n",
      "Train Labels shape is  (1549, 5)\n",
      "Classes trained are: 45 to 50\n",
      "Samples with all negative labels 2\n",
      "Augmenting class labels...\n"
     ]
    },
    {
     "name": "stderr",
     "output_type": "stream",
     "text": [
      "  0%|          | 0/1 [00:00<?, ?it/s]"
     ]
    },
    {
     "name": "stdout",
     "output_type": "stream",
     "text": [
      "Train Labels shape is  (1549, 50)\n",
      "Output dimensions: 50\n",
      "growing model size ...\n"
     ]
    },
    {
     "name": "stderr",
     "output_type": "stream",
     "text": [
      "100%|██████████| 1/1 [07:06<00:00, 426.12s/it]\n"
     ]
    },
    {
     "name": "stdout",
     "output_type": "stream",
     "text": [
      "Evaluating in individual mode on test set\n",
      "multilabel-indicator multilabel-indicator\n",
      "float32 float32\n",
      "(12914, 5) (12914, 5)\n",
      "Evaluating in combined mode on test set\n",
      "multilabel-indicator multilabel-indicator\n",
      "float32 float32\n",
      "(12914, 50) (12914, 50)\n",
      "Training and Evaluating on task 11\n",
      "Train data shape is  (1549, 120)\n",
      "Train Labels shape is  (1549, 5)\n",
      "Classes trained are: 50 to 55\n",
      "Samples with all negative labels 1\n",
      "Augmenting class labels...\n"
     ]
    },
    {
     "name": "stderr",
     "output_type": "stream",
     "text": [
      "  0%|          | 0/1 [00:00<?, ?it/s]"
     ]
    },
    {
     "name": "stdout",
     "output_type": "stream",
     "text": [
      "Train Labels shape is  (1549, 55)\n",
      "Output dimensions: 55\n",
      "growing model size ...\n"
     ]
    },
    {
     "name": "stderr",
     "output_type": "stream",
     "text": [
      "100%|██████████| 1/1 [07:07<00:00, 427.11s/it]\n"
     ]
    },
    {
     "name": "stdout",
     "output_type": "stream",
     "text": [
      "Evaluating in individual mode on test set\n",
      "multilabel-indicator multilabel-indicator\n",
      "float32 float32\n",
      "(12914, 5) (12914, 5)\n",
      "Evaluating in combined mode on test set\n",
      "multilabel-indicator multilabel-indicator\n",
      "float32 float32\n",
      "(12914, 55) (12914, 55)\n",
      "Training and Evaluating on task 12\n",
      "Train data shape is  (1549, 120)\n",
      "Train Labels shape is  (1549, 5)\n",
      "Classes trained are: 55 to 60\n",
      "Samples with all negative labels 0\n",
      "Augmenting class labels...\n"
     ]
    },
    {
     "name": "stderr",
     "output_type": "stream",
     "text": [
      "  0%|          | 0/1 [00:00<?, ?it/s]"
     ]
    },
    {
     "name": "stdout",
     "output_type": "stream",
     "text": [
      "Train Labels shape is  (1549, 60)\n",
      "Output dimensions: 60\n",
      "growing model size ...\n"
     ]
    },
    {
     "name": "stderr",
     "output_type": "stream",
     "text": [
      "100%|██████████| 1/1 [07:08<00:00, 428.56s/it]\n"
     ]
    },
    {
     "name": "stdout",
     "output_type": "stream",
     "text": [
      "Evaluating in individual mode on test set\n",
      "multilabel-indicator multilabel-indicator\n",
      "float32 float32\n",
      "(12914, 5) (12914, 5)\n",
      "Evaluating in combined mode on test set\n",
      "multilabel-indicator multilabel-indicator\n",
      "float32 float32\n",
      "(12914, 60) (12914, 60)\n",
      "Training and Evaluating on task 13\n",
      "Train data shape is  (1549, 120)\n",
      "Train Labels shape is  (1549, 5)\n",
      "Classes trained are: 60 to 65\n",
      "Samples with all negative labels 1\n",
      "Augmenting class labels...\n"
     ]
    },
    {
     "name": "stderr",
     "output_type": "stream",
     "text": [
      "  0%|          | 0/1 [00:00<?, ?it/s]"
     ]
    },
    {
     "name": "stdout",
     "output_type": "stream",
     "text": [
      "Train Labels shape is  (1549, 65)\n",
      "Output dimensions: 65\n",
      "growing model size ...\n"
     ]
    },
    {
     "name": "stderr",
     "output_type": "stream",
     "text": [
      "100%|██████████| 1/1 [07:10<00:00, 430.05s/it]\n"
     ]
    },
    {
     "name": "stdout",
     "output_type": "stream",
     "text": [
      "Evaluating in individual mode on test set\n",
      "multilabel-indicator multilabel-indicator\n",
      "float32 float32\n",
      "(12914, 5) (12914, 5)\n",
      "Evaluating in combined mode on test set\n",
      "multilabel-indicator multilabel-indicator\n",
      "float32 float32\n",
      "(12914, 65) (12914, 65)\n",
      "Training and Evaluating on task 14\n",
      "Train data shape is  (1549, 120)\n",
      "Train Labels shape is  (1549, 5)\n",
      "Classes trained are: 65 to 70\n",
      "Samples with all negative labels 1\n",
      "Augmenting class labels...\n"
     ]
    },
    {
     "name": "stderr",
     "output_type": "stream",
     "text": [
      "  0%|          | 0/1 [00:00<?, ?it/s]"
     ]
    },
    {
     "name": "stdout",
     "output_type": "stream",
     "text": [
      "Train Labels shape is  (1549, 70)\n",
      "Output dimensions: 70\n",
      "growing model size ...\n"
     ]
    },
    {
     "name": "stderr",
     "output_type": "stream",
     "text": [
      "100%|██████████| 1/1 [07:09<00:00, 429.05s/it]\n"
     ]
    },
    {
     "name": "stdout",
     "output_type": "stream",
     "text": [
      "Evaluating in individual mode on test set\n",
      "multilabel-indicator multilabel-indicator\n",
      "float32 float32\n",
      "(12914, 5) (12914, 5)\n",
      "Evaluating in combined mode on test set\n",
      "multilabel-indicator multilabel-indicator\n",
      "float32 float32\n",
      "(12914, 70) (12914, 70)\n",
      "Training and Evaluating on task 15\n",
      "Train data shape is  (1549, 120)\n",
      "Train Labels shape is  (1549, 5)\n",
      "Classes trained are: 70 to 75\n",
      "Samples with all negative labels 2\n",
      "Augmenting class labels...\n"
     ]
    },
    {
     "name": "stderr",
     "output_type": "stream",
     "text": [
      "  0%|          | 0/1 [00:00<?, ?it/s]"
     ]
    },
    {
     "name": "stdout",
     "output_type": "stream",
     "text": [
      "Train Labels shape is  (1549, 75)\n",
      "Output dimensions: 75\n",
      "growing model size ...\n"
     ]
    },
    {
     "name": "stderr",
     "output_type": "stream",
     "text": [
      "100%|██████████| 1/1 [07:07<00:00, 427.57s/it]\n"
     ]
    },
    {
     "name": "stdout",
     "output_type": "stream",
     "text": [
      "Evaluating in individual mode on test set\n",
      "multilabel-indicator multilabel-indicator\n",
      "float32 float32\n",
      "(12914, 5) (12914, 5)\n",
      "Evaluating in combined mode on test set\n",
      "multilabel-indicator multilabel-indicator\n",
      "float32 float32\n",
      "(12914, 75) (12914, 75)\n",
      "Training and Evaluating on task 16\n",
      "Train data shape is  (1549, 120)\n",
      "Train Labels shape is  (1549, 5)\n",
      "Classes trained are: 75 to 80\n",
      "Samples with all negative labels 4\n",
      "Augmenting class labels...\n"
     ]
    },
    {
     "name": "stderr",
     "output_type": "stream",
     "text": [
      "  0%|          | 0/1 [00:00<?, ?it/s]"
     ]
    },
    {
     "name": "stdout",
     "output_type": "stream",
     "text": [
      "Train Labels shape is  (1549, 80)\n",
      "Output dimensions: 80\n",
      "growing model size ...\n"
     ]
    },
    {
     "name": "stderr",
     "output_type": "stream",
     "text": [
      "100%|██████████| 1/1 [07:08<00:00, 428.52s/it]\n"
     ]
    },
    {
     "name": "stdout",
     "output_type": "stream",
     "text": [
      "Evaluating in individual mode on test set\n",
      "multilabel-indicator multilabel-indicator\n",
      "float32 float32\n",
      "(12914, 5) (12914, 5)\n",
      "Evaluating in combined mode on test set\n",
      "multilabel-indicator multilabel-indicator\n",
      "float32 float32\n",
      "(12914, 80) (12914, 80)\n",
      "Training and Evaluating on task 17\n",
      "Train data shape is  (1549, 120)\n",
      "Train Labels shape is  (1549, 5)\n",
      "Classes trained are: 80 to 85\n",
      "Samples with all negative labels 0\n",
      "Augmenting class labels...\n"
     ]
    },
    {
     "name": "stderr",
     "output_type": "stream",
     "text": [
      "  0%|          | 0/1 [00:00<?, ?it/s]"
     ]
    },
    {
     "name": "stdout",
     "output_type": "stream",
     "text": [
      "Train Labels shape is  (1549, 85)\n",
      "Output dimensions: 85\n",
      "growing model size ...\n"
     ]
    },
    {
     "name": "stderr",
     "output_type": "stream",
     "text": [
      "100%|██████████| 1/1 [07:06<00:00, 426.25s/it]\n"
     ]
    },
    {
     "name": "stdout",
     "output_type": "stream",
     "text": [
      "Evaluating in individual mode on test set\n",
      "multilabel-indicator multilabel-indicator\n",
      "float32 float32\n",
      "(12914, 5) (12914, 5)\n",
      "Evaluating in combined mode on test set\n",
      "multilabel-indicator multilabel-indicator\n",
      "float32 float32\n",
      "(12914, 85) (12914, 85)\n",
      "Training and Evaluating on task 18\n",
      "Train data shape is  (1549, 120)\n",
      "Train Labels shape is  (1549, 5)\n",
      "Classes trained are: 85 to 90\n",
      "Samples with all negative labels 1\n",
      "Augmenting class labels...\n"
     ]
    },
    {
     "name": "stderr",
     "output_type": "stream",
     "text": [
      "  0%|          | 0/1 [00:00<?, ?it/s]"
     ]
    },
    {
     "name": "stdout",
     "output_type": "stream",
     "text": [
      "Train Labels shape is  (1549, 90)\n",
      "Output dimensions: 90\n",
      "growing model size ...\n"
     ]
    },
    {
     "name": "stderr",
     "output_type": "stream",
     "text": [
      "100%|██████████| 1/1 [07:07<00:00, 427.65s/it]\n"
     ]
    },
    {
     "name": "stdout",
     "output_type": "stream",
     "text": [
      "Evaluating in individual mode on test set\n",
      "multilabel-indicator multilabel-indicator\n",
      "float32 float32\n",
      "(12914, 5) (12914, 5)\n",
      "Evaluating in combined mode on test set\n",
      "multilabel-indicator multilabel-indicator\n",
      "float32 float32\n",
      "(12914, 90) (12914, 90)\n",
      "Training and Evaluating on task 19\n",
      "Train data shape is  (1549, 120)\n",
      "Train Labels shape is  (1549, 5)\n",
      "Classes trained are: 90 to 95\n",
      "Samples with all negative labels 2\n",
      "Augmenting class labels...\n"
     ]
    },
    {
     "name": "stderr",
     "output_type": "stream",
     "text": [
      "  0%|          | 0/1 [00:00<?, ?it/s]"
     ]
    },
    {
     "name": "stdout",
     "output_type": "stream",
     "text": [
      "Train Labels shape is  (1549, 95)\n",
      "Output dimensions: 95\n",
      "growing model size ...\n"
     ]
    },
    {
     "name": "stderr",
     "output_type": "stream",
     "text": [
      "100%|██████████| 1/1 [07:06<00:00, 426.03s/it]\n"
     ]
    },
    {
     "name": "stdout",
     "output_type": "stream",
     "text": [
      "Evaluating in individual mode on test set\n",
      "multilabel-indicator multilabel-indicator\n",
      "float32 float32\n",
      "(12914, 5) (12914, 5)\n",
      "Evaluating in combined mode on test set\n",
      "multilabel-indicator multilabel-indicator\n",
      "float32 float32\n",
      "(12914, 95) (12914, 95)\n",
      "Training and Evaluating on task 20\n",
      "Train data shape is  (1562, 120)\n",
      "Train Labels shape is  (1562, 6)\n",
      "Classes trained are: 95 to 101\n",
      "Samples with all negative labels 2\n",
      "Augmenting class labels...\n"
     ]
    },
    {
     "name": "stderr",
     "output_type": "stream",
     "text": [
      "  0%|          | 0/1 [00:00<?, ?it/s]"
     ]
    },
    {
     "name": "stdout",
     "output_type": "stream",
     "text": [
      "Train Labels shape is  (1562, 101)\n",
      "Output dimensions: 101\n",
      "growing model size ...\n"
     ]
    },
    {
     "name": "stderr",
     "output_type": "stream",
     "text": [
      "100%|██████████| 1/1 [07:16<00:00, 436.84s/it]\n"
     ]
    },
    {
     "name": "stdout",
     "output_type": "stream",
     "text": [
      "Evaluating in individual mode on test set\n",
      "multilabel-indicator multilabel-indicator\n",
      "float32 float32\n",
      "(12914, 6) (12914, 6)\n",
      "Evaluating in combined mode on test set\n",
      "multilabel-indicator multilabel-indicator\n",
      "float32 float32\n",
      "(12914, 101) (12914, 101)\n",
      "Evaluating in individual mode on test set\n",
      "|                     |         0 |          1 |        2 |         3 |        4 |          5 |        6 |         7 |         8 |          9 |        10 |        11 |         12 |       13 |         14 |        15 |        16 |         17 |        18 |        19 |\n",
      "|:--------------------|----------:|-----------:|---------:|----------:|---------:|-----------:|---------:|----------:|----------:|-----------:|----------:|----------:|-----------:|---------:|-----------:|----------:|----------:|-----------:|----------:|----------:|\n",
      "| hamming loss        | 0.0151928 | 0.00216819 | 0.025786 | 0.0146663 | 0.03895  | 0.00480099 | 0.156497 | 0.0070621 | 0.0244541 | 0.00236952 | 0.0495276 | 0.0302772 | 0.00803779 | 0.306799 | 0.00224562 | 0.0444169 | 0.0364566 | 0.00301998 | 0.0318569 | 0.0638713 |\n",
      "| zero_one_loss       | 0.0757318 | 0.0108409  | 0.126065 | 0.0733313 | 0.190181 | 0.0223014  | 0.656419 | 0.0259408 | 0.121961  | 0.0115379  | 0.229286  | 0.148986  | 0.0400341  | 0.929534 | 0.0112281  | 0.176475  | 0.170667  | 0.0150999  | 0.139616  | 0.270172  |\n",
      "| one_error           | 0         | 0          | 0        | 0         | 0        | 0          | 0        | 0         | 0         | 0          | 0         | 0         | 0          | 0        | 0          | 0         | 0         | 0          | 0         | 0         |\n",
      "| micro av. jaccard   | 0         | 0          | 0        | 0         | 0        | 0          | 0        | 0         | 0         | 0          | 0         | 0         | 0          | 0        | 0          | 0         | 0         | 0          | 0         | 0         |\n",
      "| macro av. jaccard   | 0         | 0          | 0        | 0         | 0        | 0          | 0        | 0         | 0         | 0          | 0         | 0         | 0          | 0        | 0          | 0         | 0         | 0          | 0         | 0         |\n",
      "| micro av. precision | 0         | 0          | 0        | 0         | 0        | 0          | 0        | 0         | 0         | 0          | 0         | 0         | 0          | 0        | 0          | 0         | 0         | 0          | 0         | 0         |\n",
      "| macro av. precision | 0         | 0          | 0        | 0         | 0        | 0          | 0        | 0         | 0         | 0          | 0         | 0         | 0          | 0        | 0          | 0         | 0         | 0          | 0         | 0         |\n",
      "| micro av. recall    | 0         | 0          | 0        | 0         | 0        | 0          | 0        | 0         | 0         | 0          | 0         | 0         | 0          | 0        | 0          | 0         | 0         | 0          | 0         | 0         |\n",
      "| macro av. recall    | 0         | 0          | 0        | 0         | 0        | 0          | 0        | 0         | 0         | 0          | 0         | 0         | 0          | 0        | 0          | 0         | 0         | 0          | 0         | 0         |\n",
      "| micro av. f1        | 0         | 0          | 0        | 0         | 0        | 0          | 0        | 0         | 0         | 0          | 0         | 0         | 0          | 0        | 0          | 0         | 0         | 0          | 0         | 0         |\n",
      "| macro av. f1        | 0         | 0          | 0        | 0         | 0        | 0          | 0        | 0         | 0         | 0          | 0         | 0         | 0          | 0        | 0          | 0         | 0         | 0          | 0         | 0         |\n",
      "| imb. av. f1         | 0.99868   | 0.998974   | 0.999361 | 0.997242  | 0.994708 | 0.998737   | 0.992837 | 0.99612   | 0.995637  | 0.999403   | 0.999387  | 0.993391  | 0.99784    | 0.968608 | 0.998365   | 0.992007  | 0.99322   | 0.998319   | 0.987728  | 0.995581  |\n",
      "Evaluating in combined mode on test set\n",
      "|                     |         0 |         1 |         2 |         3 |         4 |         5 |         6 |         7 |         8 |         9 |        10 |        11 |        12 |       13 |        14 |        15 |        16 |        17 |        18 |        19 |\n",
      "|:--------------------|----------:|----------:|----------:|----------:|----------:|----------:|----------:|----------:|----------:|----------:|----------:|----------:|----------:|---------:|----------:|----------:|----------:|----------:|----------:|----------:|\n",
      "| hamming loss        | 0.0151928 | 0.0086805 | 0.0143823 | 0.0144533 | 0.0193526 | 0.0169274 | 0.0368659 | 0.0331404 | 0.0321752 | 0.0291947 | 0.0310431 | 0.0309793 | 0.0292146 | 0.049042 | 0.0459223 | 0.0458282 | 0.0452769 | 0.0429293 | 0.0423465 | 0.0436252 |\n",
      "| zero_one_loss       | 0.0757318 | 0.0841722 | 0.205901  | 0.257705  | 0.396004  | 0.406458  | 0.821047  | 0.827861  | 0.845207  | 0.845516  | 0.855351  | 0.864488  | 0.867586  | 0.955862 | 0.955862  | 0.958107  | 0.958107  | 0.958107  | 0.958107  | 0.958107  |\n",
      "| one_error           | 0         | 0         | 0         | 0         | 0         | 0         | 0         | 0         | 0         | 0         | 0         | 0         | 0         | 0        | 0         | 0         | 0         | 0         | 0         | 0         |\n",
      "| micro av. jaccard   | 0         | 0         | 0         | 0         | 0         | 0         | 0         | 0         | 0         | 0         | 0         | 0         | 0         | 0        | 0         | 0         | 0         | 0         | 0         | 0         |\n",
      "| macro av. jaccard   | 0         | 0         | 0         | 0         | 0         | 0         | 0         | 0         | 0         | 0         | 0         | 0         | 0         | 0        | 0         | 0         | 0         | 0         | 0         | 0         |\n",
      "| micro av. precision | 0         | 0         | 0         | 0         | 0         | 0         | 0         | 0         | 0         | 0         | 0         | 0         | 0         | 0        | 0         | 0         | 0         | 0         | 0         | 0         |\n",
      "| macro av. precision | 0         | 0         | 0         | 0         | 0         | 0         | 0         | 0         | 0         | 0         | 0         | 0         | 0         | 0        | 0         | 0         | 0         | 0         | 0         | 0         |\n",
      "| micro av. recall    | 0         | 0         | 0         | 0         | 0         | 0         | 0         | 0         | 0         | 0         | 0         | 0         | 0         | 0        | 0         | 0         | 0         | 0         | 0         | 0         |\n",
      "| macro av. recall    | 0         | 0         | 0         | 0         | 0         | 0         | 0         | 0         | 0         | 0         | 0         | 0         | 0         | 0        | 0         | 0         | 0         | 0         | 0         | 0         |\n",
      "| micro av. f1        | 0         | 0         | 0         | 0         | 0         | 0         | 0         | 0         | 0         | 0         | 0         | 0         | 0         | 0        | 0         | 0         | 0         | 0         | 0         | 0         |\n",
      "| macro av. f1        | 0         | 0         | 0         | 0         | 0         | 0         | 0         | 0         | 0         | 0         | 0         | 0         | 0         | 0        | 0         | 0         | 0         | 0         | 0         | 0         |\n",
      "| imb. av. f1         | 0.99868   | 0.998844  | 0.999083  | 0.998891  | 0.998672  | 0.998683  | 0.998501  | 0.998373  | 0.998248  | 0.998515  | 0.998676  | 0.998577  | 0.998538  | 0.998426 | 0.998422  | 0.998336  | 0.998256  | 0.998259  | 0.998174  | 0.998107  |\n",
      "File saved to ./checkpoints_new/mediamill_0_LwF_asy.pkl\n",
      "Number of Tasks: 20\n",
      "Forgetting in task 1: first time imb. av. f1 = 0.9624, after all tasks imb. av. f1 = 0.9987\n",
      "Forgetting in task 2: first time imb. av. f1 = 0.9990, after all tasks imb. av. f1 = 0.9987\n",
      "Forgetting in task 3: first time imb. av. f1 = 0.9994, after all tasks imb. av. f1 = 0.9987\n",
      "Forgetting in task 4: first time imb. av. f1 = 0.9972, after all tasks imb. av. f1 = 0.9987\n",
      "Forgetting in task 5: first time imb. av. f1 = 0.9947, after all tasks imb. av. f1 = 0.9987\n",
      "Forgetting in task 6: first time imb. av. f1 = 0.9987, after all tasks imb. av. f1 = 0.9987\n",
      "Forgetting in task 7: first time imb. av. f1 = 0.9928, after all tasks imb. av. f1 = 0.9987\n",
      "Forgetting in task 8: first time imb. av. f1 = 0.9961, after all tasks imb. av. f1 = 0.9987\n",
      "Forgetting in task 9: first time imb. av. f1 = 0.9956, after all tasks imb. av. f1 = 0.9987\n",
      "Forgetting in task 10: first time imb. av. f1 = 0.9994, after all tasks imb. av. f1 = 0.9987\n",
      "Forgetting in task 11: first time imb. av. f1 = 0.9994, after all tasks imb. av. f1 = 0.9987\n",
      "Forgetting in task 12: first time imb. av. f1 = 0.9934, after all tasks imb. av. f1 = 0.9987\n",
      "Forgetting in task 13: first time imb. av. f1 = 0.9510, after all tasks imb. av. f1 = 0.9987\n",
      "Forgetting in task 14: first time imb. av. f1 = 0.9686, after all tasks imb. av. f1 = 0.9987\n",
      "Forgetting in task 15: first time imb. av. f1 = 0.9984, after all tasks imb. av. f1 = 0.9987\n",
      "Forgetting in task 16: first time imb. av. f1 = 0.9920, after all tasks imb. av. f1 = 0.9987\n",
      "Forgetting in task 17: first time imb. av. f1 = 0.9932, after all tasks imb. av. f1 = 0.9987\n",
      "Forgetting in task 18: first time imb. av. f1 = 0.9983, after all tasks imb. av. f1 = 0.9987\n",
      "Forgetting in task 19: first time imb. av. f1 = 0.9877, after all tasks imb. av. f1 = 0.9987\n",
      "Forgetting in task 20: first time imb. av. f1 = 0.9956, after all tasks imb. av. f1 = 0.9987\n"
     ]
    },
    {
     "data": {
      "image/png": "[encoded data removed]",
      "text/plain": [
       "<Figure size 360x360 with 1 Axes>"
      ]
     },
     "metadata": {
      "needs_background": "light"
     },
     "output_type": "display_data"
    }
   ],
   "source": [
    "hparams = Hyperparameters('mediamill', continual_method, device, num_tasks=20)\n",
    "experiment = ContinualExperiment(hparams)\n",
    "experiment.run()"
   ]
  },
  {
   "cell_type": "markdown",
   "metadata": {},
   "source": [
    "## Delicious, 50 tasks"
   ]
  },
  {
   "cell_type": "code",
   "execution_count": 19,
   "metadata": {},
   "outputs": [
    {
     "name": "stdout",
     "output_type": "stream",
     "text": [
      "Processing Data ...\n"
     ]
    },
    {
     "name": "stderr",
     "output_type": "stream",
     "text": [
      "  0%|          | 0/1 [00:00<?, ?it/s]"
     ]
    },
    {
     "name": "stdout",
     "output_type": "stream",
     "text": [
      "(12920, 500)\n",
      "(3185, 500)\n",
      "(12920, 983)\n",
      "(3185, 983)\n",
      "Begin training in LwF mode ...\n",
      "Training and Evaluating on task 1\n",
      "Train data shape is  (258, 500)\n",
      "Train Labels shape is  (258, 20)\n",
      "Classes trained are: 0 to 20\n",
      "Samples with all negative labels 7\n",
      "Output dimensions: 20\n"
     ]
    },
    {
     "name": "stderr",
     "output_type": "stream",
     "text": [
      "100%|██████████| 1/1 [00:00<00:00,  6.95it/s]\n"
     ]
    },
    {
     "name": "stdout",
     "output_type": "stream",
     "text": [
      "Evaluating in individual mode on test set\n",
      "multilabel-indicator multilabel-indicator\n",
      "float32 float32\n",
      "(3185, 20) (3185, 20)\n",
      "Evaluating in combined mode on test set\n",
      "multilabel-indicator multilabel-indicator\n",
      "float32 float32\n",
      "(3185, 20) (3185, 20)\n",
      "Training and Evaluating on task 2\n",
      "Train data shape is  (258, 500)\n",
      "Train Labels shape is  (258, 20)\n",
      "Classes trained are: 20 to 40\n",
      "Samples with all negative labels 8\n",
      "Augmenting class labels...\n"
     ]
    },
    {
     "name": "stderr",
     "output_type": "stream",
     "text": [
      "  0%|          | 0/1 [00:00<?, ?it/s]"
     ]
    },
    {
     "name": "stdout",
     "output_type": "stream",
     "text": [
      "Train Labels shape is  (258, 40)\n",
      "Output dimensions: 40\n",
      "growing model size ...\n"
     ]
    },
    {
     "name": "stderr",
     "output_type": "stream",
     "text": [
      "100%|██████████| 1/1 [00:12<00:00, 12.02s/it]\n"
     ]
    },
    {
     "name": "stdout",
     "output_type": "stream",
     "text": [
      "Evaluating in individual mode on test set\n",
      "multilabel-indicator multilabel-indicator\n",
      "float32 float32\n",
      "(3185, 20) (3185, 20)\n",
      "Evaluating in combined mode on test set\n",
      "multilabel-indicator multilabel-indicator\n",
      "float32 float32\n",
      "(3185, 40) (3185, 40)\n"
     ]
    },
    {
     "name": "stderr",
     "output_type": "stream",
     "text": [
      "  0%|          | 0/1 [00:00<?, ?it/s]"
     ]
    },
    {
     "name": "stdout",
     "output_type": "stream",
     "text": [
      "Training and Evaluating on task 3\n",
      "Train data shape is  (258, 500)\n",
      "Train Labels shape is  (258, 20)\n",
      "Classes trained are: 40 to 60\n",
      "Samples with all negative labels 3\n",
      "Augmenting class labels...\n",
      "Train Labels shape is  (258, 60)\n",
      "Output dimensions: 60\n",
      "growing model size ...\n"
     ]
    },
    {
     "name": "stderr",
     "output_type": "stream",
     "text": [
      "100%|██████████| 1/1 [00:12<00:00, 12.15s/it]\n"
     ]
    },
    {
     "name": "stdout",
     "output_type": "stream",
     "text": [
      "Evaluating in individual mode on test set\n",
      "multilabel-indicator multilabel-indicator\n",
      "float32 float32\n",
      "(3185, 20) (3185, 20)\n",
      "Evaluating in combined mode on test set\n",
      "multilabel-indicator multilabel-indicator\n",
      "float32 float32\n",
      "(3185, 60) (3185, 60)\n"
     ]
    },
    {
     "name": "stderr",
     "output_type": "stream",
     "text": [
      "  0%|          | 0/1 [00:00<?, ?it/s]"
     ]
    },
    {
     "name": "stdout",
     "output_type": "stream",
     "text": [
      "Training and Evaluating on task 4\n",
      "Train data shape is  (258, 500)\n",
      "Train Labels shape is  (258, 20)\n",
      "Classes trained are: 60 to 80\n",
      "Samples with all negative labels 6\n",
      "Augmenting class labels...\n",
      "Train Labels shape is  (258, 80)\n",
      "Output dimensions: 80\n",
      "growing model size ...\n"
     ]
    },
    {
     "name": "stderr",
     "output_type": "stream",
     "text": [
      "100%|██████████| 1/1 [00:12<00:00, 12.16s/it]\n"
     ]
    },
    {
     "name": "stdout",
     "output_type": "stream",
     "text": [
      "Evaluating in individual mode on test set\n",
      "multilabel-indicator multilabel-indicator\n",
      "float32 float32\n",
      "(3185, 20) (3185, 20)\n",
      "Evaluating in combined mode on test set\n",
      "multilabel-indicator multilabel-indicator\n",
      "float32 float32\n",
      "(3185, 80) (3185, 80)\n"
     ]
    },
    {
     "name": "stderr",
     "output_type": "stream",
     "text": [
      "  0%|          | 0/1 [00:00<?, ?it/s]"
     ]
    },
    {
     "name": "stdout",
     "output_type": "stream",
     "text": [
      "Training and Evaluating on task 5\n",
      "Train data shape is  (258, 500)\n",
      "Train Labels shape is  (258, 20)\n",
      "Classes trained are: 80 to 100\n",
      "Samples with all negative labels 3\n",
      "Augmenting class labels...\n",
      "Train Labels shape is  (258, 100)\n",
      "Output dimensions: 100\n",
      "growing model size ...\n"
     ]
    },
    {
     "name": "stderr",
     "output_type": "stream",
     "text": [
      "100%|██████████| 1/1 [00:12<00:00, 12.11s/it]\n"
     ]
    },
    {
     "name": "stdout",
     "output_type": "stream",
     "text": [
      "Evaluating in individual mode on test set\n",
      "multilabel-indicator multilabel-indicator\n",
      "float32 float32\n",
      "(3185, 20) (3185, 20)\n",
      "Evaluating in combined mode on test set\n",
      "multilabel-indicator multilabel-indicator\n",
      "float32 float32\n",
      "(3185, 100) (3185, 100)\n"
     ]
    },
    {
     "name": "stderr",
     "output_type": "stream",
     "text": [
      "  0%|          | 0/1 [00:00<?, ?it/s]"
     ]
    },
    {
     "name": "stdout",
     "output_type": "stream",
     "text": [
      "Training and Evaluating on task 6\n",
      "Train data shape is  (258, 500)\n",
      "Train Labels shape is  (258, 20)\n",
      "Classes trained are: 100 to 120\n",
      "Samples with all negative labels 2\n",
      "Augmenting class labels...\n",
      "Train Labels shape is  (258, 120)\n",
      "Output dimensions: 120\n",
      "growing model size ...\n"
     ]
    },
    {
     "name": "stderr",
     "output_type": "stream",
     "text": [
      "100%|██████████| 1/1 [00:12<00:00, 12.08s/it]\n"
     ]
    },
    {
     "name": "stdout",
     "output_type": "stream",
     "text": [
      "Evaluating in individual mode on test set\n",
      "multilabel-indicator multilabel-indicator\n",
      "float32 float32\n",
      "(3185, 20) (3185, 20)\n",
      "Evaluating in combined mode on test set\n",
      "multilabel-indicator multilabel-indicator\n",
      "float32 float32\n",
      "(3185, 120) (3185, 120)\n"
     ]
    },
    {
     "name": "stderr",
     "output_type": "stream",
     "text": [
      "  0%|          | 0/1 [00:00<?, ?it/s]"
     ]
    },
    {
     "name": "stdout",
     "output_type": "stream",
     "text": [
      "Training and Evaluating on task 7\n",
      "Train data shape is  (258, 500)\n",
      "Train Labels shape is  (258, 20)\n",
      "Classes trained are: 120 to 140\n",
      "Samples with all negative labels 6\n",
      "Augmenting class labels...\n",
      "Train Labels shape is  (258, 140)\n",
      "Output dimensions: 140\n",
      "growing model size ...\n"
     ]
    },
    {
     "name": "stderr",
     "output_type": "stream",
     "text": [
      "100%|██████████| 1/1 [00:12<00:00, 12.18s/it]\n"
     ]
    },
    {
     "name": "stdout",
     "output_type": "stream",
     "text": [
      "Evaluating in individual mode on test set\n",
      "multilabel-indicator multilabel-indicator\n",
      "float32 float32\n",
      "(3185, 20) (3185, 20)\n",
      "Evaluating in combined mode on test set\n",
      "multilabel-indicator multilabel-indicator\n",
      "float32 float32\n",
      "(3185, 140) (3185, 140)\n"
     ]
    },
    {
     "name": "stderr",
     "output_type": "stream",
     "text": [
      "  0%|          | 0/1 [00:00<?, ?it/s]"
     ]
    },
    {
     "name": "stdout",
     "output_type": "stream",
     "text": [
      "Training and Evaluating on task 8\n",
      "Train data shape is  (258, 500)\n",
      "Train Labels shape is  (258, 20)\n",
      "Classes trained are: 140 to 160\n",
      "Samples with all negative labels 5\n",
      "Augmenting class labels...\n",
      "Train Labels shape is  (258, 160)\n",
      "Output dimensions: 160\n",
      "growing model size ...\n"
     ]
    },
    {
     "name": "stderr",
     "output_type": "stream",
     "text": [
      "100%|██████████| 1/1 [00:12<00:00, 12.46s/it]\n"
     ]
    },
    {
     "name": "stdout",
     "output_type": "stream",
     "text": [
      "Evaluating in individual mode on test set\n",
      "multilabel-indicator multilabel-indicator\n",
      "float32 float32\n",
      "(3185, 20) (3185, 20)\n",
      "Evaluating in combined mode on test set\n",
      "multilabel-indicator multilabel-indicator\n",
      "float32 float32\n",
      "(3185, 160) (3185, 160)\n"
     ]
    },
    {
     "name": "stderr",
     "output_type": "stream",
     "text": [
      "  0%|          | 0/1 [00:00<?, ?it/s]"
     ]
    },
    {
     "name": "stdout",
     "output_type": "stream",
     "text": [
      "Training and Evaluating on task 9\n",
      "Train data shape is  (258, 500)\n",
      "Train Labels shape is  (258, 20)\n",
      "Classes trained are: 160 to 180\n",
      "Samples with all negative labels 6\n",
      "Augmenting class labels...\n",
      "Train Labels shape is  (258, 180)\n",
      "Output dimensions: 180\n",
      "growing model size ...\n"
     ]
    },
    {
     "name": "stderr",
     "output_type": "stream",
     "text": [
      "100%|██████████| 1/1 [00:12<00:00, 12.09s/it]\n"
     ]
    },
    {
     "name": "stdout",
     "output_type": "stream",
     "text": [
      "Evaluating in individual mode on test set\n",
      "multilabel-indicator multilabel-indicator\n",
      "float32 float32\n",
      "(3185, 20) (3185, 20)\n",
      "Evaluating in combined mode on test set\n",
      "multilabel-indicator multilabel-indicator\n",
      "float32 float32\n",
      "(3185, 180) (3185, 180)\n"
     ]
    },
    {
     "name": "stderr",
     "output_type": "stream",
     "text": [
      "  0%|          | 0/1 [00:00<?, ?it/s]"
     ]
    },
    {
     "name": "stdout",
     "output_type": "stream",
     "text": [
      "Training and Evaluating on task 10\n",
      "Train data shape is  (258, 500)\n",
      "Train Labels shape is  (258, 20)\n",
      "Classes trained are: 180 to 200\n",
      "Samples with all negative labels 2\n",
      "Augmenting class labels...\n",
      "Train Labels shape is  (258, 200)\n",
      "Output dimensions: 200\n",
      "growing model size ...\n"
     ]
    },
    {
     "name": "stderr",
     "output_type": "stream",
     "text": [
      "100%|██████████| 1/1 [00:12<00:00, 12.21s/it]\n"
     ]
    },
    {
     "name": "stdout",
     "output_type": "stream",
     "text": [
      "Evaluating in individual mode on test set\n",
      "multilabel-indicator multilabel-indicator\n",
      "float32 float32\n",
      "(3185, 20) (3185, 20)\n",
      "Evaluating in combined mode on test set\n",
      "multilabel-indicator multilabel-indicator\n",
      "float32 float32\n",
      "(3185, 200) (3185, 200)\n"
     ]
    },
    {
     "name": "stderr",
     "output_type": "stream",
     "text": [
      "  0%|          | 0/1 [00:00<?, ?it/s]"
     ]
    },
    {
     "name": "stdout",
     "output_type": "stream",
     "text": [
      "Training and Evaluating on task 11\n",
      "Train data shape is  (258, 500)\n",
      "Train Labels shape is  (258, 20)\n",
      "Classes trained are: 200 to 220\n",
      "Samples with all negative labels 6\n",
      "Augmenting class labels...\n",
      "Train Labels shape is  (258, 220)\n",
      "Output dimensions: 220\n",
      "growing model size ...\n"
     ]
    },
    {
     "name": "stderr",
     "output_type": "stream",
     "text": [
      "100%|██████████| 1/1 [00:12<00:00, 12.27s/it]\n"
     ]
    },
    {
     "name": "stdout",
     "output_type": "stream",
     "text": [
      "Evaluating in individual mode on test set\n",
      "multilabel-indicator multilabel-indicator\n",
      "float32 float32\n",
      "(3185, 20) (3185, 20)\n",
      "Evaluating in combined mode on test set\n",
      "multilabel-indicator multilabel-indicator\n",
      "float32 float32\n",
      "(3185, 220) (3185, 220)\n"
     ]
    },
    {
     "name": "stderr",
     "output_type": "stream",
     "text": [
      "  0%|          | 0/1 [00:00<?, ?it/s]"
     ]
    },
    {
     "name": "stdout",
     "output_type": "stream",
     "text": [
      "Training and Evaluating on task 12\n",
      "Train data shape is  (258, 500)\n",
      "Train Labels shape is  (258, 20)\n",
      "Classes trained are: 220 to 240\n",
      "Samples with all negative labels 6\n",
      "Augmenting class labels...\n",
      "Train Labels shape is  (258, 240)\n",
      "Output dimensions: 240\n",
      "growing model size ...\n"
     ]
    },
    {
     "name": "stderr",
     "output_type": "stream",
     "text": [
      "100%|██████████| 1/1 [00:12<00:00, 12.23s/it]\n"
     ]
    },
    {
     "name": "stdout",
     "output_type": "stream",
     "text": [
      "Evaluating in individual mode on test set\n",
      "multilabel-indicator multilabel-indicator\n",
      "float32 float32\n",
      "(3185, 20) (3185, 20)\n",
      "Evaluating in combined mode on test set\n",
      "multilabel-indicator multilabel-indicator\n",
      "float32 float32\n",
      "(3185, 240) (3185, 240)\n"
     ]
    },
    {
     "name": "stderr",
     "output_type": "stream",
     "text": [
      "  0%|          | 0/1 [00:00<?, ?it/s]"
     ]
    },
    {
     "name": "stdout",
     "output_type": "stream",
     "text": [
      "Training and Evaluating on task 13\n",
      "Train data shape is  (258, 500)\n",
      "Train Labels shape is  (258, 20)\n",
      "Classes trained are: 240 to 260\n",
      "Samples with all negative labels 3\n",
      "Augmenting class labels...\n",
      "Train Labels shape is  (258, 260)\n",
      "Output dimensions: 260\n",
      "growing model size ...\n"
     ]
    },
    {
     "name": "stderr",
     "output_type": "stream",
     "text": [
      "100%|██████████| 1/1 [00:12<00:00, 12.18s/it]\n"
     ]
    },
    {
     "name": "stdout",
     "output_type": "stream",
     "text": [
      "Evaluating in individual mode on test set\n",
      "multilabel-indicator multilabel-indicator\n",
      "float32 float32\n",
      "(3185, 20) (3185, 20)\n",
      "Evaluating in combined mode on test set\n",
      "multilabel-indicator multilabel-indicator\n",
      "float32 float32\n",
      "(3185, 260) (3185, 260)\n"
     ]
    },
    {
     "name": "stderr",
     "output_type": "stream",
     "text": [
      "  0%|          | 0/1 [00:00<?, ?it/s]"
     ]
    },
    {
     "name": "stdout",
     "output_type": "stream",
     "text": [
      "Training and Evaluating on task 14\n",
      "Train data shape is  (258, 500)\n",
      "Train Labels shape is  (258, 20)\n",
      "Classes trained are: 260 to 280\n",
      "Samples with all negative labels 2\n",
      "Augmenting class labels...\n",
      "Train Labels shape is  (258, 280)\n",
      "Output dimensions: 280\n",
      "growing model size ...\n"
     ]
    },
    {
     "name": "stderr",
     "output_type": "stream",
     "text": [
      "100%|██████████| 1/1 [00:12<00:00, 12.25s/it]\n"
     ]
    },
    {
     "name": "stdout",
     "output_type": "stream",
     "text": [
      "Evaluating in individual mode on test set\n",
      "multilabel-indicator multilabel-indicator\n",
      "float32 float32\n",
      "(3185, 20) (3185, 20)\n",
      "Evaluating in combined mode on test set\n",
      "multilabel-indicator multilabel-indicator\n",
      "float32 float32\n",
      "(3185, 280) (3185, 280)\n"
     ]
    },
    {
     "name": "stderr",
     "output_type": "stream",
     "text": [
      "  0%|          | 0/1 [00:00<?, ?it/s]"
     ]
    },
    {
     "name": "stdout",
     "output_type": "stream",
     "text": [
      "Training and Evaluating on task 15\n",
      "Train data shape is  (258, 500)\n",
      "Train Labels shape is  (258, 20)\n",
      "Classes trained are: 280 to 300\n",
      "Samples with all negative labels 8\n",
      "Augmenting class labels...\n",
      "Train Labels shape is  (258, 300)\n",
      "Output dimensions: 300\n",
      "growing model size ...\n"
     ]
    },
    {
     "name": "stderr",
     "output_type": "stream",
     "text": [
      "100%|██████████| 1/1 [00:12<00:00, 12.16s/it]\n"
     ]
    },
    {
     "name": "stdout",
     "output_type": "stream",
     "text": [
      "Evaluating in individual mode on test set\n",
      "multilabel-indicator multilabel-indicator\n",
      "float32 float32\n",
      "(3185, 20) (3185, 20)\n",
      "Evaluating in combined mode on test set\n",
      "multilabel-indicator multilabel-indicator\n",
      "float32 float32\n",
      "(3185, 300) (3185, 300)\n"
     ]
    },
    {
     "name": "stderr",
     "output_type": "stream",
     "text": [
      "  0%|          | 0/1 [00:00<?, ?it/s]"
     ]
    },
    {
     "name": "stdout",
     "output_type": "stream",
     "text": [
      "Training and Evaluating on task 16\n",
      "Train data shape is  (258, 500)\n",
      "Train Labels shape is  (258, 20)\n",
      "Classes trained are: 300 to 320\n",
      "Samples with all negative labels 5\n",
      "Augmenting class labels...\n",
      "Train Labels shape is  (258, 320)\n",
      "Output dimensions: 320\n",
      "growing model size ...\n"
     ]
    },
    {
     "name": "stderr",
     "output_type": "stream",
     "text": [
      "100%|██████████| 1/1 [00:12<00:00, 12.16s/it]\n"
     ]
    },
    {
     "name": "stdout",
     "output_type": "stream",
     "text": [
      "Evaluating in individual mode on test set\n",
      "multilabel-indicator multilabel-indicator\n",
      "float32 float32\n",
      "(3185, 20) (3185, 20)\n",
      "Evaluating in combined mode on test set\n",
      "multilabel-indicator multilabel-indicator\n",
      "float32 float32\n",
      "(3185, 320) (3185, 320)\n"
     ]
    },
    {
     "name": "stderr",
     "output_type": "stream",
     "text": [
      "  0%|          | 0/1 [00:00<?, ?it/s]"
     ]
    },
    {
     "name": "stdout",
     "output_type": "stream",
     "text": [
      "Training and Evaluating on task 17\n",
      "Train data shape is  (258, 500)\n",
      "Train Labels shape is  (258, 20)\n",
      "Classes trained are: 320 to 340\n",
      "Samples with all negative labels 2\n",
      "Augmenting class labels...\n",
      "Train Labels shape is  (258, 340)\n",
      "Output dimensions: 340\n",
      "growing model size ...\n"
     ]
    },
    {
     "name": "stderr",
     "output_type": "stream",
     "text": [
      "100%|██████████| 1/1 [00:12<00:00, 12.20s/it]\n"
     ]
    },
    {
     "name": "stdout",
     "output_type": "stream",
     "text": [
      "Evaluating in individual mode on test set\n",
      "multilabel-indicator multilabel-indicator\n",
      "float32 float32\n",
      "(3185, 20) (3185, 20)\n",
      "Evaluating in combined mode on test set\n",
      "multilabel-indicator multilabel-indicator\n",
      "float32 float32\n",
      "(3185, 340) (3185, 340)\n"
     ]
    },
    {
     "name": "stderr",
     "output_type": "stream",
     "text": [
      "  0%|          | 0/1 [00:00<?, ?it/s]"
     ]
    },
    {
     "name": "stdout",
     "output_type": "stream",
     "text": [
      "Training and Evaluating on task 18\n",
      "Train data shape is  (258, 500)\n",
      "Train Labels shape is  (258, 20)\n",
      "Classes trained are: 340 to 360\n",
      "Samples with all negative labels 5\n",
      "Augmenting class labels...\n",
      "Train Labels shape is  (258, 360)\n",
      "Output dimensions: 360\n",
      "growing model size ...\n"
     ]
    },
    {
     "name": "stderr",
     "output_type": "stream",
     "text": [
      "100%|██████████| 1/1 [00:12<00:00, 12.12s/it]\n"
     ]
    },
    {
     "name": "stdout",
     "output_type": "stream",
     "text": [
      "Evaluating in individual mode on test set\n",
      "multilabel-indicator multilabel-indicator\n",
      "float32 float32\n",
      "(3185, 20) (3185, 20)\n",
      "Evaluating in combined mode on test set\n",
      "multilabel-indicator multilabel-indicator\n",
      "float32 float32\n",
      "(3185, 360) (3185, 360)\n"
     ]
    },
    {
     "name": "stderr",
     "output_type": "stream",
     "text": [
      "  0%|          | 0/1 [00:00<?, ?it/s]"
     ]
    },
    {
     "name": "stdout",
     "output_type": "stream",
     "text": [
      "Training and Evaluating on task 19\n",
      "Train data shape is  (258, 500)\n",
      "Train Labels shape is  (258, 20)\n",
      "Classes trained are: 360 to 380\n",
      "Samples with all negative labels 5\n",
      "Augmenting class labels...\n",
      "Train Labels shape is  (258, 380)\n",
      "Output dimensions: 380\n",
      "growing model size ...\n"
     ]
    },
    {
     "name": "stderr",
     "output_type": "stream",
     "text": [
      "100%|██████████| 1/1 [00:12<00:00, 12.14s/it]\n"
     ]
    },
    {
     "name": "stdout",
     "output_type": "stream",
     "text": [
      "Evaluating in individual mode on test set\n",
      "multilabel-indicator multilabel-indicator\n",
      "float32 float32\n",
      "(3185, 20) (3185, 20)\n",
      "Evaluating in combined mode on test set\n",
      "multilabel-indicator multilabel-indicator\n",
      "float32 float32\n",
      "(3185, 380) (3185, 380)\n"
     ]
    },
    {
     "name": "stderr",
     "output_type": "stream",
     "text": [
      "  0%|          | 0/1 [00:00<?, ?it/s]"
     ]
    },
    {
     "name": "stdout",
     "output_type": "stream",
     "text": [
      "Training and Evaluating on task 20\n",
      "Train data shape is  (258, 500)\n",
      "Train Labels shape is  (258, 20)\n",
      "Classes trained are: 380 to 400\n",
      "Samples with all negative labels 2\n",
      "Augmenting class labels...\n",
      "Train Labels shape is  (258, 400)\n",
      "Output dimensions: 400\n",
      "growing model size ...\n"
     ]
    },
    {
     "name": "stderr",
     "output_type": "stream",
     "text": [
      "100%|██████████| 1/1 [00:12<00:00, 12.02s/it]\n"
     ]
    },
    {
     "name": "stdout",
     "output_type": "stream",
     "text": [
      "Evaluating in individual mode on test set\n",
      "multilabel-indicator multilabel-indicator\n",
      "float32 float32\n",
      "(3185, 20) (3185, 20)\n",
      "Evaluating in combined mode on test set\n",
      "multilabel-indicator multilabel-indicator\n",
      "float32 float32\n",
      "(3185, 400) (3185, 400)\n"
     ]
    },
    {
     "name": "stderr",
     "output_type": "stream",
     "text": [
      "  0%|          | 0/1 [00:00<?, ?it/s]"
     ]
    },
    {
     "name": "stdout",
     "output_type": "stream",
     "text": [
      "Training and Evaluating on task 21\n",
      "Train data shape is  (258, 500)\n",
      "Train Labels shape is  (258, 20)\n",
      "Classes trained are: 400 to 420\n",
      "Samples with all negative labels 3\n",
      "Augmenting class labels...\n",
      "Train Labels shape is  (258, 420)\n",
      "Output dimensions: 420\n",
      "growing model size ...\n"
     ]
    },
    {
     "name": "stderr",
     "output_type": "stream",
     "text": [
      "100%|██████████| 1/1 [00:12<00:00, 12.27s/it]\n"
     ]
    },
    {
     "name": "stdout",
     "output_type": "stream",
     "text": [
      "Evaluating in individual mode on test set\n",
      "multilabel-indicator multilabel-indicator\n",
      "float32 float32\n",
      "(3185, 20) (3185, 20)\n",
      "Evaluating in combined mode on test set\n",
      "multilabel-indicator multilabel-indicator\n",
      "float32 float32\n",
      "(3185, 420) (3185, 420)\n"
     ]
    },
    {
     "name": "stderr",
     "output_type": "stream",
     "text": [
      "  0%|          | 0/1 [00:00<?, ?it/s]"
     ]
    },
    {
     "name": "stdout",
     "output_type": "stream",
     "text": [
      "Training and Evaluating on task 22\n",
      "Train data shape is  (258, 500)\n",
      "Train Labels shape is  (258, 20)\n",
      "Classes trained are: 420 to 440\n",
      "Samples with all negative labels 6\n",
      "Augmenting class labels...\n",
      "Train Labels shape is  (258, 440)\n",
      "Output dimensions: 440\n",
      "growing model size ...\n"
     ]
    },
    {
     "name": "stderr",
     "output_type": "stream",
     "text": [
      "100%|██████████| 1/1 [00:12<00:00, 12.87s/it]\n"
     ]
    },
    {
     "name": "stdout",
     "output_type": "stream",
     "text": [
      "Evaluating in individual mode on test set\n",
      "multilabel-indicator multilabel-indicator\n",
      "float32 float32\n",
      "(3185, 20) (3185, 20)\n",
      "Evaluating in combined mode on test set\n",
      "multilabel-indicator multilabel-indicator\n",
      "float32 float32\n",
      "(3185, 440) (3185, 440)\n"
     ]
    },
    {
     "name": "stderr",
     "output_type": "stream",
     "text": [
      "  0%|          | 0/1 [00:00<?, ?it/s]"
     ]
    },
    {
     "name": "stdout",
     "output_type": "stream",
     "text": [
      "Training and Evaluating on task 23\n",
      "Train data shape is  (258, 500)\n",
      "Train Labels shape is  (258, 20)\n",
      "Classes trained are: 440 to 460\n",
      "Samples with all negative labels 1\n",
      "Augmenting class labels...\n",
      "Train Labels shape is  (258, 460)\n",
      "Output dimensions: 460\n",
      "growing model size ...\n"
     ]
    },
    {
     "name": "stderr",
     "output_type": "stream",
     "text": [
      "100%|██████████| 1/1 [00:12<00:00, 12.57s/it]\n"
     ]
    },
    {
     "name": "stdout",
     "output_type": "stream",
     "text": [
      "Evaluating in individual mode on test set\n",
      "multilabel-indicator multilabel-indicator\n",
      "float32 float32\n",
      "(3185, 20) (3185, 20)\n",
      "Evaluating in combined mode on test set\n",
      "multilabel-indicator multilabel-indicator\n",
      "float32 float32\n",
      "(3185, 460) (3185, 460)\n"
     ]
    },
    {
     "name": "stderr",
     "output_type": "stream",
     "text": [
      "  0%|          | 0/1 [00:00<?, ?it/s]"
     ]
    },
    {
     "name": "stdout",
     "output_type": "stream",
     "text": [
      "Training and Evaluating on task 24\n",
      "Train data shape is  (258, 500)\n",
      "Train Labels shape is  (258, 20)\n",
      "Classes trained are: 460 to 480\n",
      "Samples with all negative labels 10\n",
      "Augmenting class labels...\n",
      "Train Labels shape is  (258, 480)\n",
      "Output dimensions: 480\n",
      "growing model size ...\n"
     ]
    },
    {
     "name": "stderr",
     "output_type": "stream",
     "text": [
      "100%|██████████| 1/1 [00:12<00:00, 12.22s/it]\n"
     ]
    },
    {
     "name": "stdout",
     "output_type": "stream",
     "text": [
      "Evaluating in individual mode on test set\n",
      "multilabel-indicator multilabel-indicator\n",
      "float32 float32\n",
      "(3185, 20) (3185, 20)\n",
      "Evaluating in combined mode on test set\n",
      "multilabel-indicator multilabel-indicator\n",
      "float32 float32\n",
      "(3185, 480) (3185, 480)\n"
     ]
    },
    {
     "name": "stderr",
     "output_type": "stream",
     "text": [
      "  0%|          | 0/1 [00:00<?, ?it/s]"
     ]
    },
    {
     "name": "stdout",
     "output_type": "stream",
     "text": [
      "Training and Evaluating on task 25\n",
      "Train data shape is  (258, 500)\n",
      "Train Labels shape is  (258, 20)\n",
      "Classes trained are: 480 to 500\n",
      "Samples with all negative labels 4\n",
      "Augmenting class labels...\n",
      "Train Labels shape is  (258, 500)\n",
      "Output dimensions: 500\n",
      "growing model size ...\n"
     ]
    },
    {
     "name": "stderr",
     "output_type": "stream",
     "text": [
      "100%|██████████| 1/1 [00:12<00:00, 12.05s/it]\n"
     ]
    },
    {
     "name": "stdout",
     "output_type": "stream",
     "text": [
      "Evaluating in individual mode on test set\n",
      "multilabel-indicator multilabel-indicator\n",
      "float32 float32\n",
      "(3185, 20) (3185, 20)\n",
      "Evaluating in combined mode on test set\n",
      "multilabel-indicator multilabel-indicator\n",
      "float32 float32\n",
      "(3185, 500) (3185, 500)\n"
     ]
    },
    {
     "name": "stderr",
     "output_type": "stream",
     "text": [
      "  0%|          | 0/1 [00:00<?, ?it/s]"
     ]
    },
    {
     "name": "stdout",
     "output_type": "stream",
     "text": [
      "Training and Evaluating on task 26\n",
      "Train data shape is  (258, 500)\n",
      "Train Labels shape is  (258, 20)\n",
      "Classes trained are: 500 to 520\n",
      "Samples with all negative labels 2\n",
      "Augmenting class labels...\n",
      "Train Labels shape is  (258, 520)\n",
      "Output dimensions: 520\n",
      "growing model size ...\n"
     ]
    },
    {
     "name": "stderr",
     "output_type": "stream",
     "text": [
      "100%|██████████| 1/1 [00:12<00:00, 12.11s/it]\n"
     ]
    },
    {
     "name": "stdout",
     "output_type": "stream",
     "text": [
      "Evaluating in individual mode on test set\n",
      "multilabel-indicator multilabel-indicator\n",
      "float32 float32\n",
      "(3185, 20) (3185, 20)\n",
      "Evaluating in combined mode on test set\n",
      "multilabel-indicator multilabel-indicator\n",
      "float32 float32\n",
      "(3185, 520) (3185, 520)\n"
     ]
    },
    {
     "name": "stderr",
     "output_type": "stream",
     "text": [
      "  0%|          | 0/1 [00:00<?, ?it/s]"
     ]
    },
    {
     "name": "stdout",
     "output_type": "stream",
     "text": [
      "Training and Evaluating on task 27\n",
      "Train data shape is  (258, 500)\n",
      "Train Labels shape is  (258, 20)\n",
      "Classes trained are: 520 to 540\n",
      "Samples with all negative labels 3\n",
      "Augmenting class labels...\n",
      "Train Labels shape is  (258, 540)\n",
      "Output dimensions: 540\n",
      "growing model size ...\n"
     ]
    },
    {
     "name": "stderr",
     "output_type": "stream",
     "text": [
      "100%|██████████| 1/1 [00:12<00:00, 12.28s/it]\n"
     ]
    },
    {
     "name": "stdout",
     "output_type": "stream",
     "text": [
      "Evaluating in individual mode on test set\n",
      "multilabel-indicator multilabel-indicator\n",
      "float32 float32\n",
      "(3185, 20) (3185, 20)\n",
      "Evaluating in combined mode on test set\n",
      "multilabel-indicator multilabel-indicator\n",
      "float32 float32\n",
      "(3185, 540) (3185, 540)\n"
     ]
    },
    {
     "name": "stderr",
     "output_type": "stream",
     "text": [
      "  0%|          | 0/1 [00:00<?, ?it/s]"
     ]
    },
    {
     "name": "stdout",
     "output_type": "stream",
     "text": [
      "Training and Evaluating on task 28\n",
      "Train data shape is  (258, 500)\n",
      "Train Labels shape is  (258, 20)\n",
      "Classes trained are: 540 to 560\n",
      "Samples with all negative labels 4\n",
      "Augmenting class labels...\n",
      "Train Labels shape is  (258, 560)\n",
      "Output dimensions: 560\n",
      "growing model size ...\n"
     ]
    },
    {
     "name": "stderr",
     "output_type": "stream",
     "text": [
      "100%|██████████| 1/1 [00:12<00:00, 12.16s/it]\n"
     ]
    },
    {
     "name": "stdout",
     "output_type": "stream",
     "text": [
      "Evaluating in individual mode on test set\n",
      "multilabel-indicator multilabel-indicator\n",
      "float32 float32\n",
      "(3185, 20) (3185, 20)\n",
      "Evaluating in combined mode on test set\n",
      "multilabel-indicator multilabel-indicator\n",
      "float32 float32\n",
      "(3185, 560) (3185, 560)\n"
     ]
    },
    {
     "name": "stderr",
     "output_type": "stream",
     "text": [
      "  0%|          | 0/1 [00:00<?, ?it/s]"
     ]
    },
    {
     "name": "stdout",
     "output_type": "stream",
     "text": [
      "Training and Evaluating on task 29\n",
      "Train data shape is  (258, 500)\n",
      "Train Labels shape is  (258, 20)\n",
      "Classes trained are: 560 to 580\n",
      "Samples with all negative labels 3\n",
      "Augmenting class labels...\n",
      "Train Labels shape is  (258, 580)\n",
      "Output dimensions: 580\n",
      "growing model size ...\n"
     ]
    },
    {
     "name": "stderr",
     "output_type": "stream",
     "text": [
      "100%|██████████| 1/1 [00:12<00:00, 12.20s/it]\n"
     ]
    },
    {
     "name": "stdout",
     "output_type": "stream",
     "text": [
      "Evaluating in individual mode on test set\n",
      "multilabel-indicator multilabel-indicator\n",
      "float32 float32\n",
      "(3185, 20) (3185, 20)\n",
      "Evaluating in combined mode on test set\n",
      "multilabel-indicator multilabel-indicator\n",
      "float32 float32\n",
      "(3185, 580) (3185, 580)\n"
     ]
    },
    {
     "name": "stderr",
     "output_type": "stream",
     "text": [
      "  0%|          | 0/1 [00:00<?, ?it/s]"
     ]
    },
    {
     "name": "stdout",
     "output_type": "stream",
     "text": [
      "Training and Evaluating on task 30\n",
      "Train data shape is  (258, 500)\n",
      "Train Labels shape is  (258, 20)\n",
      "Classes trained are: 580 to 600\n",
      "Samples with all negative labels 6\n",
      "Augmenting class labels...\n",
      "Train Labels shape is  (258, 600)\n",
      "Output dimensions: 600\n",
      "growing model size ...\n"
     ]
    },
    {
     "name": "stderr",
     "output_type": "stream",
     "text": [
      "100%|██████████| 1/1 [00:12<00:00, 12.17s/it]\n"
     ]
    },
    {
     "name": "stdout",
     "output_type": "stream",
     "text": [
      "Evaluating in individual mode on test set\n",
      "multilabel-indicator multilabel-indicator\n",
      "float32 float32\n",
      "(3185, 20) (3185, 20)\n",
      "Evaluating in combined mode on test set\n",
      "multilabel-indicator multilabel-indicator\n",
      "float32 float32\n",
      "(3185, 600) (3185, 600)\n"
     ]
    },
    {
     "name": "stderr",
     "output_type": "stream",
     "text": [
      "  0%|          | 0/1 [00:00<?, ?it/s]"
     ]
    },
    {
     "name": "stdout",
     "output_type": "stream",
     "text": [
      "Training and Evaluating on task 31\n",
      "Train data shape is  (258, 500)\n",
      "Train Labels shape is  (258, 20)\n",
      "Classes trained are: 600 to 620\n",
      "Samples with all negative labels 3\n",
      "Augmenting class labels...\n",
      "Train Labels shape is  (258, 620)\n",
      "Output dimensions: 620\n",
      "growing model size ...\n"
     ]
    },
    {
     "name": "stderr",
     "output_type": "stream",
     "text": [
      "100%|██████████| 1/1 [00:12<00:00, 12.17s/it]\n"
     ]
    },
    {
     "name": "stdout",
     "output_type": "stream",
     "text": [
      "Evaluating in individual mode on test set\n",
      "multilabel-indicator multilabel-indicator\n",
      "float32 float32\n",
      "(3185, 20) (3185, 20)\n",
      "Evaluating in combined mode on test set\n",
      "multilabel-indicator multilabel-indicator\n",
      "float32 float32\n",
      "(3185, 620) (3185, 620)\n"
     ]
    },
    {
     "name": "stderr",
     "output_type": "stream",
     "text": [
      "  0%|          | 0/1 [00:00<?, ?it/s]"
     ]
    },
    {
     "name": "stdout",
     "output_type": "stream",
     "text": [
      "Training and Evaluating on task 32\n",
      "Train data shape is  (258, 500)\n",
      "Train Labels shape is  (258, 20)\n",
      "Classes trained are: 620 to 640\n",
      "Samples with all negative labels 3\n",
      "Augmenting class labels...\n",
      "Train Labels shape is  (258, 640)\n",
      "Output dimensions: 640\n",
      "growing model size ...\n"
     ]
    },
    {
     "name": "stderr",
     "output_type": "stream",
     "text": [
      "100%|██████████| 1/1 [00:12<00:00, 12.16s/it]\n"
     ]
    },
    {
     "name": "stdout",
     "output_type": "stream",
     "text": [
      "Evaluating in individual mode on test set\n",
      "multilabel-indicator multilabel-indicator\n",
      "float32 float32\n",
      "(3185, 20) (3185, 20)\n",
      "Evaluating in combined mode on test set\n",
      "multilabel-indicator multilabel-indicator\n",
      "float32 float32\n",
      "(3185, 640) (3185, 640)\n"
     ]
    },
    {
     "name": "stderr",
     "output_type": "stream",
     "text": [
      "  0%|          | 0/1 [00:00<?, ?it/s]"
     ]
    },
    {
     "name": "stdout",
     "output_type": "stream",
     "text": [
      "Training and Evaluating on task 33\n",
      "Train data shape is  (258, 500)\n",
      "Train Labels shape is  (258, 20)\n",
      "Classes trained are: 640 to 660\n",
      "Samples with all negative labels 5\n",
      "Augmenting class labels...\n",
      "Train Labels shape is  (258, 660)\n",
      "Output dimensions: 660\n",
      "growing model size ...\n"
     ]
    },
    {
     "name": "stderr",
     "output_type": "stream",
     "text": [
      "100%|██████████| 1/1 [00:12<00:00, 12.17s/it]\n"
     ]
    },
    {
     "name": "stdout",
     "output_type": "stream",
     "text": [
      "Evaluating in individual mode on test set\n",
      "multilabel-indicator multilabel-indicator\n",
      "float32 float32\n",
      "(3185, 20) (3185, 20)\n",
      "Evaluating in combined mode on test set\n",
      "multilabel-indicator multilabel-indicator\n",
      "float32 float32\n",
      "(3185, 660) (3185, 660)\n"
     ]
    },
    {
     "name": "stderr",
     "output_type": "stream",
     "text": [
      "  0%|          | 0/1 [00:00<?, ?it/s]"
     ]
    },
    {
     "name": "stdout",
     "output_type": "stream",
     "text": [
      "Training and Evaluating on task 34\n",
      "Train data shape is  (258, 500)\n",
      "Train Labels shape is  (258, 20)\n",
      "Classes trained are: 660 to 680\n",
      "Samples with all negative labels 3\n",
      "Augmenting class labels...\n",
      "Train Labels shape is  (258, 680)\n",
      "Output dimensions: 680\n",
      "growing model size ...\n"
     ]
    },
    {
     "name": "stderr",
     "output_type": "stream",
     "text": [
      "100%|██████████| 1/1 [00:12<00:00, 12.24s/it]\n"
     ]
    },
    {
     "name": "stdout",
     "output_type": "stream",
     "text": [
      "Evaluating in individual mode on test set\n",
      "multilabel-indicator multilabel-indicator\n",
      "float32 float32\n",
      "(3185, 20) (3185, 20)\n",
      "Evaluating in combined mode on test set\n",
      "multilabel-indicator multilabel-indicator\n",
      "float32 float32\n",
      "(3185, 680) (3185, 680)\n"
     ]
    },
    {
     "name": "stderr",
     "output_type": "stream",
     "text": [
      "  0%|          | 0/1 [00:00<?, ?it/s]"
     ]
    },
    {
     "name": "stdout",
     "output_type": "stream",
     "text": [
      "Training and Evaluating on task 35\n",
      "Train data shape is  (258, 500)\n",
      "Train Labels shape is  (258, 20)\n",
      "Classes trained are: 680 to 700\n",
      "Samples with all negative labels 8\n",
      "Augmenting class labels...\n",
      "Train Labels shape is  (258, 700)\n",
      "Output dimensions: 700\n",
      "growing model size ...\n"
     ]
    },
    {
     "name": "stderr",
     "output_type": "stream",
     "text": [
      "100%|██████████| 1/1 [00:12<00:00, 12.31s/it]\n"
     ]
    },
    {
     "name": "stdout",
     "output_type": "stream",
     "text": [
      "Evaluating in individual mode on test set\n",
      "multilabel-indicator multilabel-indicator\n",
      "float32 float32\n",
      "(3185, 20) (3185, 20)\n",
      "Evaluating in combined mode on test set\n",
      "multilabel-indicator multilabel-indicator\n",
      "float32 float32\n",
      "(3185, 700) (3185, 700)\n"
     ]
    },
    {
     "name": "stderr",
     "output_type": "stream",
     "text": [
      "  0%|          | 0/1 [00:00<?, ?it/s]"
     ]
    },
    {
     "name": "stdout",
     "output_type": "stream",
     "text": [
      "Training and Evaluating on task 36\n",
      "Train data shape is  (258, 500)\n",
      "Train Labels shape is  (258, 20)\n",
      "Classes trained are: 700 to 720\n",
      "Samples with all negative labels 6\n",
      "Augmenting class labels...\n",
      "Train Labels shape is  (258, 720)\n",
      "Output dimensions: 720\n",
      "growing model size ...\n"
     ]
    },
    {
     "name": "stderr",
     "output_type": "stream",
     "text": [
      "100%|██████████| 1/1 [00:12<00:00, 12.25s/it]\n"
     ]
    },
    {
     "name": "stdout",
     "output_type": "stream",
     "text": [
      "Evaluating in individual mode on test set\n",
      "multilabel-indicator multilabel-indicator\n",
      "float32 float32\n",
      "(3185, 20) (3185, 20)\n",
      "Evaluating in combined mode on test set\n",
      "multilabel-indicator multilabel-indicator\n",
      "float32 float32\n",
      "(3185, 720) (3185, 720)\n"
     ]
    },
    {
     "name": "stderr",
     "output_type": "stream",
     "text": [
      "  0%|          | 0/1 [00:00<?, ?it/s]"
     ]
    },
    {
     "name": "stdout",
     "output_type": "stream",
     "text": [
      "Training and Evaluating on task 37\n",
      "Train data shape is  (258, 500)\n",
      "Train Labels shape is  (258, 20)\n",
      "Classes trained are: 720 to 740\n",
      "Samples with all negative labels 3\n",
      "Augmenting class labels...\n",
      "Train Labels shape is  (258, 740)\n",
      "Output dimensions: 740\n",
      "growing model size ...\n"
     ]
    },
    {
     "name": "stderr",
     "output_type": "stream",
     "text": [
      "100%|██████████| 1/1 [00:12<00:00, 12.24s/it]\n"
     ]
    },
    {
     "name": "stdout",
     "output_type": "stream",
     "text": [
      "Evaluating in individual mode on test set\n",
      "multilabel-indicator multilabel-indicator\n",
      "float32 float32\n",
      "(3185, 20) (3185, 20)\n",
      "Evaluating in combined mode on test set\n",
      "multilabel-indicator multilabel-indicator\n",
      "float32 float32\n",
      "(3185, 740) (3185, 740)\n"
     ]
    },
    {
     "name": "stderr",
     "output_type": "stream",
     "text": [
      "  0%|          | 0/1 [00:00<?, ?it/s]"
     ]
    },
    {
     "name": "stdout",
     "output_type": "stream",
     "text": [
      "Training and Evaluating on task 38\n",
      "Train data shape is  (258, 500)\n",
      "Train Labels shape is  (258, 20)\n",
      "Classes trained are: 740 to 760\n",
      "Samples with all negative labels 4\n",
      "Augmenting class labels...\n",
      "Train Labels shape is  (258, 760)\n",
      "Output dimensions: 760\n",
      "growing model size ...\n"
     ]
    },
    {
     "name": "stderr",
     "output_type": "stream",
     "text": [
      "100%|██████████| 1/1 [00:12<00:00, 12.06s/it]\n"
     ]
    },
    {
     "name": "stdout",
     "output_type": "stream",
     "text": [
      "Evaluating in individual mode on test set\n",
      "multilabel-indicator multilabel-indicator\n",
      "float32 float32\n",
      "(3185, 20) (3185, 20)\n",
      "Evaluating in combined mode on test set\n",
      "multilabel-indicator multilabel-indicator\n",
      "float32 float32\n",
      "(3185, 760) (3185, 760)\n"
     ]
    },
    {
     "name": "stderr",
     "output_type": "stream",
     "text": [
      "  0%|          | 0/1 [00:00<?, ?it/s]"
     ]
    },
    {
     "name": "stdout",
     "output_type": "stream",
     "text": [
      "Training and Evaluating on task 39\n",
      "Train data shape is  (258, 500)\n",
      "Train Labels shape is  (258, 20)\n",
      "Classes trained are: 760 to 780\n",
      "Samples with all negative labels 6\n",
      "Augmenting class labels...\n",
      "Train Labels shape is  (258, 780)\n",
      "Output dimensions: 780\n",
      "growing model size ...\n"
     ]
    },
    {
     "name": "stderr",
     "output_type": "stream",
     "text": [
      "100%|██████████| 1/1 [00:13<00:00, 13.25s/it]\n"
     ]
    },
    {
     "name": "stdout",
     "output_type": "stream",
     "text": [
      "Evaluating in individual mode on test set\n",
      "multilabel-indicator multilabel-indicator\n",
      "float32 float32\n",
      "(3185, 20) (3185, 20)\n",
      "Evaluating in combined mode on test set\n",
      "multilabel-indicator multilabel-indicator\n",
      "float32 float32\n",
      "(3185, 780) (3185, 780)\n"
     ]
    },
    {
     "name": "stderr",
     "output_type": "stream",
     "text": [
      "  0%|          | 0/1 [00:00<?, ?it/s]"
     ]
    },
    {
     "name": "stdout",
     "output_type": "stream",
     "text": [
      "Training and Evaluating on task 40\n",
      "Train data shape is  (258, 500)\n",
      "Train Labels shape is  (258, 20)\n",
      "Classes trained are: 780 to 800\n",
      "Samples with all negative labels 2\n",
      "Augmenting class labels...\n",
      "Train Labels shape is  (258, 800)\n",
      "Output dimensions: 800\n",
      "growing model size ...\n"
     ]
    },
    {
     "name": "stderr",
     "output_type": "stream",
     "text": [
      "100%|██████████| 1/1 [00:12<00:00, 12.20s/it]\n"
     ]
    },
    {
     "name": "stdout",
     "output_type": "stream",
     "text": [
      "Evaluating in individual mode on test set\n",
      "multilabel-indicator multilabel-indicator\n",
      "float32 float32\n",
      "(3185, 20) (3185, 20)\n",
      "Evaluating in combined mode on test set\n",
      "multilabel-indicator multilabel-indicator\n",
      "float32 float32\n",
      "(3185, 800) (3185, 800)\n"
     ]
    },
    {
     "name": "stderr",
     "output_type": "stream",
     "text": [
      "  0%|          | 0/1 [00:00<?, ?it/s]"
     ]
    },
    {
     "name": "stdout",
     "output_type": "stream",
     "text": [
      "Training and Evaluating on task 41\n",
      "Train data shape is  (258, 500)\n",
      "Train Labels shape is  (258, 20)\n",
      "Classes trained are: 800 to 820\n",
      "Samples with all negative labels 4\n",
      "Augmenting class labels...\n",
      "Train Labels shape is  (258, 820)\n",
      "Output dimensions: 820\n",
      "growing model size ...\n"
     ]
    },
    {
     "name": "stderr",
     "output_type": "stream",
     "text": [
      "100%|██████████| 1/1 [00:12<00:00, 12.23s/it]\n"
     ]
    },
    {
     "name": "stdout",
     "output_type": "stream",
     "text": [
      "Evaluating in individual mode on test set\n",
      "multilabel-indicator multilabel-indicator\n",
      "float32 float32\n",
      "(3185, 20) (3185, 20)\n",
      "Evaluating in combined mode on test set\n",
      "multilabel-indicator multilabel-indicator\n",
      "float32 float32\n",
      "(3185, 820) (3185, 820)\n"
     ]
    },
    {
     "name": "stderr",
     "output_type": "stream",
     "text": [
      "  0%|          | 0/1 [00:00<?, ?it/s]"
     ]
    },
    {
     "name": "stdout",
     "output_type": "stream",
     "text": [
      "Training and Evaluating on task 42\n",
      "Train data shape is  (258, 500)\n",
      "Train Labels shape is  (258, 20)\n",
      "Classes trained are: 820 to 840\n",
      "Samples with all negative labels 4\n",
      "Augmenting class labels...\n",
      "Train Labels shape is  (258, 840)\n",
      "Output dimensions: 840\n",
      "growing model size ...\n"
     ]
    },
    {
     "name": "stderr",
     "output_type": "stream",
     "text": [
      "100%|██████████| 1/1 [00:12<00:00, 12.21s/it]\n"
     ]
    },
    {
     "name": "stdout",
     "output_type": "stream",
     "text": [
      "Evaluating in individual mode on test set\n",
      "multilabel-indicator multilabel-indicator\n",
      "float32 float32\n",
      "(3185, 20) (3185, 20)\n",
      "Evaluating in combined mode on test set\n",
      "multilabel-indicator multilabel-indicator\n",
      "float32 float32\n",
      "(3185, 840) (3185, 840)\n"
     ]
    },
    {
     "name": "stderr",
     "output_type": "stream",
     "text": [
      "  0%|          | 0/1 [00:00<?, ?it/s]"
     ]
    },
    {
     "name": "stdout",
     "output_type": "stream",
     "text": [
      "Training and Evaluating on task 43\n",
      "Train data shape is  (258, 500)\n",
      "Train Labels shape is  (258, 20)\n",
      "Classes trained are: 840 to 860\n",
      "Samples with all negative labels 4\n",
      "Augmenting class labels...\n",
      "Train Labels shape is  (258, 860)\n",
      "Output dimensions: 860\n",
      "growing model size ...\n"
     ]
    },
    {
     "name": "stderr",
     "output_type": "stream",
     "text": [
      "100%|██████████| 1/1 [00:12<00:00, 12.13s/it]\n"
     ]
    },
    {
     "name": "stdout",
     "output_type": "stream",
     "text": [
      "Evaluating in individual mode on test set\n",
      "multilabel-indicator multilabel-indicator\n",
      "float32 float32\n",
      "(3185, 20) (3185, 20)\n",
      "Evaluating in combined mode on test set\n",
      "multilabel-indicator multilabel-indicator\n",
      "float32 float32\n",
      "(3185, 860) (3185, 860)\n"
     ]
    },
    {
     "name": "stderr",
     "output_type": "stream",
     "text": [
      "  0%|          | 0/1 [00:00<?, ?it/s]"
     ]
    },
    {
     "name": "stdout",
     "output_type": "stream",
     "text": [
      "Training and Evaluating on task 44\n",
      "Train data shape is  (258, 500)\n",
      "Train Labels shape is  (258, 20)\n",
      "Classes trained are: 860 to 880\n",
      "Samples with all negative labels 5\n",
      "Augmenting class labels...\n",
      "Train Labels shape is  (258, 880)\n",
      "Output dimensions: 880\n",
      "growing model size ...\n"
     ]
    },
    {
     "name": "stderr",
     "output_type": "stream",
     "text": [
      "100%|██████████| 1/1 [00:12<00:00, 12.17s/it]\n"
     ]
    },
    {
     "name": "stdout",
     "output_type": "stream",
     "text": [
      "Evaluating in individual mode on test set\n",
      "multilabel-indicator multilabel-indicator\n",
      "float32 float32\n",
      "(3185, 20) (3185, 20)\n",
      "Evaluating in combined mode on test set\n",
      "multilabel-indicator multilabel-indicator\n",
      "float32 float32\n",
      "(3185, 880) (3185, 880)\n"
     ]
    },
    {
     "name": "stderr",
     "output_type": "stream",
     "text": [
      "  0%|          | 0/1 [00:00<?, ?it/s]"
     ]
    },
    {
     "name": "stdout",
     "output_type": "stream",
     "text": [
      "Training and Evaluating on task 45\n",
      "Train data shape is  (258, 500)\n",
      "Train Labels shape is  (258, 20)\n",
      "Classes trained are: 880 to 900\n",
      "Samples with all negative labels 2\n",
      "Augmenting class labels...\n",
      "Train Labels shape is  (258, 900)\n",
      "Output dimensions: 900\n",
      "growing model size ...\n"
     ]
    },
    {
     "name": "stderr",
     "output_type": "stream",
     "text": [
      "100%|██████████| 1/1 [00:12<00:00, 12.93s/it]\n"
     ]
    },
    {
     "name": "stdout",
     "output_type": "stream",
     "text": [
      "Evaluating in individual mode on test set\n",
      "multilabel-indicator multilabel-indicator\n",
      "float32 float32\n",
      "(3185, 20) (3185, 20)\n",
      "Evaluating in combined mode on test set\n",
      "multilabel-indicator multilabel-indicator\n",
      "float32 float32\n",
      "(3185, 900) (3185, 900)\n"
     ]
    },
    {
     "name": "stderr",
     "output_type": "stream",
     "text": [
      "  0%|          | 0/1 [00:00<?, ?it/s]"
     ]
    },
    {
     "name": "stdout",
     "output_type": "stream",
     "text": [
      "Training and Evaluating on task 46\n",
      "Train data shape is  (258, 500)\n",
      "Train Labels shape is  (258, 20)\n",
      "Classes trained are: 900 to 920\n",
      "Samples with all negative labels 3\n",
      "Augmenting class labels...\n",
      "Train Labels shape is  (258, 920)\n",
      "Output dimensions: 920\n",
      "growing model size ...\n"
     ]
    },
    {
     "name": "stderr",
     "output_type": "stream",
     "text": [
      "100%|██████████| 1/1 [00:12<00:00, 12.23s/it]\n"
     ]
    },
    {
     "name": "stdout",
     "output_type": "stream",
     "text": [
      "Evaluating in individual mode on test set\n",
      "multilabel-indicator multilabel-indicator\n",
      "float32 float32\n",
      "(3185, 20) (3185, 20)\n",
      "Evaluating in combined mode on test set\n",
      "multilabel-indicator multilabel-indicator\n",
      "float32 float32\n",
      "(3185, 920) (3185, 920)\n"
     ]
    },
    {
     "name": "stderr",
     "output_type": "stream",
     "text": [
      "  0%|          | 0/1 [00:00<?, ?it/s]"
     ]
    },
    {
     "name": "stdout",
     "output_type": "stream",
     "text": [
      "Training and Evaluating on task 47\n",
      "Train data shape is  (258, 500)\n",
      "Train Labels shape is  (258, 20)\n",
      "Classes trained are: 920 to 940\n",
      "Samples with all negative labels 4\n",
      "Augmenting class labels...\n",
      "Train Labels shape is  (258, 940)\n",
      "Output dimensions: 940\n",
      "growing model size ...\n"
     ]
    },
    {
     "name": "stderr",
     "output_type": "stream",
     "text": [
      "100%|██████████| 1/1 [00:12<00:00, 12.22s/it]\n"
     ]
    },
    {
     "name": "stdout",
     "output_type": "stream",
     "text": [
      "Evaluating in individual mode on test set\n",
      "multilabel-indicator multilabel-indicator\n",
      "float32 float32\n",
      "(3185, 20) (3185, 20)\n",
      "Evaluating in combined mode on test set\n",
      "multilabel-indicator multilabel-indicator\n",
      "float32 float32\n",
      "(3185, 940) (3185, 940)\n"
     ]
    },
    {
     "name": "stderr",
     "output_type": "stream",
     "text": [
      "  0%|          | 0/1 [00:00<?, ?it/s]"
     ]
    },
    {
     "name": "stdout",
     "output_type": "stream",
     "text": [
      "Training and Evaluating on task 48\n",
      "Train data shape is  (258, 500)\n",
      "Train Labels shape is  (258, 20)\n",
      "Classes trained are: 940 to 960\n",
      "Samples with all negative labels 5\n",
      "Augmenting class labels...\n",
      "Train Labels shape is  (258, 960)\n",
      "Output dimensions: 960\n",
      "growing model size ...\n"
     ]
    },
    {
     "name": "stderr",
     "output_type": "stream",
     "text": [
      "100%|██████████| 1/1 [00:12<00:00, 12.31s/it]\n"
     ]
    },
    {
     "name": "stdout",
     "output_type": "stream",
     "text": [
      "Evaluating in individual mode on test set\n",
      "multilabel-indicator multilabel-indicator\n",
      "float32 float32\n",
      "(3185, 20) (3185, 20)\n",
      "Evaluating in combined mode on test set\n",
      "multilabel-indicator multilabel-indicator\n",
      "float32 float32\n",
      "(3185, 960) (3185, 960)\n"
     ]
    },
    {
     "name": "stderr",
     "output_type": "stream",
     "text": [
      "  0%|          | 0/1 [00:00<?, ?it/s]"
     ]
    },
    {
     "name": "stdout",
     "output_type": "stream",
     "text": [
      "Training and Evaluating on task 49\n",
      "Train data shape is  (258, 500)\n",
      "Train Labels shape is  (258, 20)\n",
      "Classes trained are: 960 to 980\n",
      "Samples with all negative labels 2\n",
      "Augmenting class labels...\n",
      "Train Labels shape is  (258, 980)\n",
      "Output dimensions: 980\n",
      "growing model size ...\n"
     ]
    },
    {
     "name": "stderr",
     "output_type": "stream",
     "text": [
      "100%|██████████| 1/1 [00:12<00:00, 12.15s/it]\n"
     ]
    },
    {
     "name": "stdout",
     "output_type": "stream",
     "text": [
      "Evaluating in individual mode on test set\n",
      "multilabel-indicator multilabel-indicator\n",
      "float32 float32\n",
      "(3185, 20) (3185, 20)\n",
      "Evaluating in combined mode on test set\n",
      "multilabel-indicator multilabel-indicator\n",
      "float32 float32\n",
      "(3185, 980) (3185, 980)\n"
     ]
    },
    {
     "name": "stderr",
     "output_type": "stream",
     "text": [
      "  0%|          | 0/1 [00:00<?, ?it/s]"
     ]
    },
    {
     "name": "stdout",
     "output_type": "stream",
     "text": [
      "Training and Evaluating on task 50\n",
      "Train data shape is  (278, 500)\n",
      "Train Labels shape is  (278, 3)\n",
      "Classes trained are: 980 to 983\n",
      "Samples with all negative labels 0\n",
      "Augmenting class labels...\n",
      "Train Labels shape is  (278, 983)\n",
      "Output dimensions: 983\n",
      "growing model size ...\n"
     ]
    },
    {
     "name": "stderr",
     "output_type": "stream",
     "text": [
      "100%|██████████| 1/1 [00:13<00:00, 13.89s/it]\n"
     ]
    },
    {
     "name": "stdout",
     "output_type": "stream",
     "text": [
      "Evaluating in individual mode on test set\n",
      "multilabel-indicator multilabel-indicator\n",
      "float32 float32\n",
      "(3185, 3) (3185, 3)\n",
      "Evaluating in combined mode on test set\n",
      "multilabel-indicator multilabel-indicator\n",
      "float32 float32\n",
      "(3185, 983) (3185, 983)\n",
      "Evaluating in individual mode on test set\n",
      "|                     |          0 |          1 |          2 |         3 |         4 |         5 |          6 |          7 |          8 |         9 |        10 |        11 |        12 |         13 |         14 |         15 |         16 |         17 |         18 |        19 |         20 |        21 |        22 |        23 |        24 |         25 |         26 |         27 |        28 |         29 |         30 |        31 |         32 |         33 |         34 |        35 |        36 |        37 |         38 |         39 |        40 |         41 |         42 |         43 |         44 |         45 |         46 |        47 |         48 |        49 |\n",
      "|:--------------------|-----------:|-----------:|-----------:|----------:|----------:|----------:|-----------:|-----------:|-----------:|----------:|----------:|----------:|----------:|-----------:|-----------:|-----------:|-----------:|-----------:|-----------:|----------:|-----------:|----------:|----------:|----------:|----------:|-----------:|-----------:|-----------:|----------:|-----------:|-----------:|----------:|-----------:|-----------:|-----------:|----------:|----------:|----------:|-----------:|-----------:|----------:|-----------:|-----------:|-----------:|-----------:|-----------:|-----------:|----------:|-----------:|----------:|\n",
      "| hamming loss        | 0.450581   | 0.65157    | 0.301962   | 0.347143  | 0.635196  | 0.73832   | 0.495259   | 0.647896   | 0.507724   | 0.645212  | 0.436531  | 0.545997  | 0.570801  | 0.502684   | 0.297959   | 0.646248   | 0.498901   | 0.595243   | 0.507959   | 0.501397  | 0.49854    | 0.495714  | 0.440283  | 0.62843   | 0.493736  | 0.500314   | 0.599906   | 0.25292    | 0.692151  | 0.405651   | 0.498399   | 0.333407  | 0.405322   | 0.551821   | 0.691774   | 0.539294  | 0.6273    | 0.63617   | 0.499639   | 0.501115   | 0.580126  | 0.401491   | 0.507849   | 0.525871   | 0.559466   | 0.596264   | 0.456625   | 0.617834  | 0.402826   | 0.0128728 |\n",
      "| zero_one_loss       | 1          | 1          | 1          | 1         | 1         | 1         | 1          | 1          | 1          | 1         | 1         | 1         | 1         | 1          | 1          | 1          | 1          | 1          | 1          | 1         | 1          | 1         | 1         | 1         | 1         | 1          | 1          | 1          | 1         | 1          | 1          | 1         | 1          | 1          | 1          | 1         | 1         | 1         | 1          | 1          | 1         | 1          | 1          | 1          | 1          | 1          | 1          | 1         | 1          | 0.0383046 |\n",
      "| one_error           | 0          | 0          | 0          | 0         | 0         | 0         | 0          | 0          | 0          | 0         | 0         | 0         | 0         | 0          | 0          | 0          | 0          | 0          | 0          | 0         | 0          | 0         | 0         | 0         | 0         | 0          | 0          | 0          | 0         | 0          | 0          | 0         | 0          | 0          | 0          | 0         | 0         | 0         | 0          | 0          | 0         | 0          | 0          | 0          | 0          | 0          | 0          | 0         | 0          | 0         |\n",
      "| micro av. jaccard   | 0.00822391 | 0.00878848 | 0.0162132  | 0.0425615 | 0.0262791 | 0.0220619 | 0.0166448  | 0.00621253 | 0.00879586 | 0.018976  | 0.0340767 | 0.0231983 | 0.0556825 | 0.0138585  | 0.0232606  | 0.0120713  | 0.0108009  | 0.0133746  | 0.0145276  | 0.0271398 | 0.0104079  | 0.0287287 | 0.0414901 | 0.0397937 | 0.0256815 | 0.0133432  | 0.0160414  | 0.0335333  | 0.0179307 | 0.0058862  | 0.0151078  | 0.0576804 | 0.00943794 | 0.0173874  | 0.0141393  | 0.0282861 | 0.0428294 | 0.0241765 | 0.0184728  | 0.00995596 | 0.0370544 | 0.00960384 | 0.00556392 | 0.017942   | 0.01634    | 0.015245   | 0.00499436 | 0.0624166 | 0.0185129  | 0         |\n",
      "| macro av. jaccard   | 0.00373626 | 0.00577708 | 0.00497645 | 0.0154317 | 0.0171429 | 0.0166562 | 0.00838305 | 0.00405024 | 0.00450549 | 0.0124804 | 0.0154003 | 0.012967  | 0.0336578 | 0.00706436 | 0.00709576 | 0.00789639 | 0.00544741 | 0.00806907 | 0.00748823 | 0.0139874 | 0.00524333 | 0.0146625 | 0.0190581 | 0.026044  | 0.0130141 | 0.00676609 | 0.00978022 | 0.00877551 | 0.0126374 | 0.00240188 | 0.00764521 | 0.0204082 | 0.00386185 | 0.00976452 | 0.00992151 | 0.0156986 | 0.0280691 | 0.0157614 | 0.00940345 | 0.00503925 | 0.0223234 | 0.00389325 | 0.00284144 | 0.00960754 | 0.00929356 | 0.00923077 | 0.00229199 | 0.0411303 | 0.00759812 | 0         |\n",
      "| micro av. precision | 0.00830281 | 0.00888782 | 0.0165882  | 0.0440906 | 0.0263736 | 0.0222083 | 0.0167661  | 0.00623113 | 0.00901099 | 0.0192006 | 0.0342229 | 0.0235764 | 0.0560963 | 0.0141287  | 0.0236525  | 0.0121483  | 0.0108948  | 0.0134485  | 0.0149765  | 0.0279749 | 0.0104867  | 0.029325  | 0.0423513 | 0.0400676 | 0.0260283 | 0.0135322  | 0.0163004  | 0.035102   | 0.0180534 | 0.00600471 | 0.0152904  | 0.058309  | 0.00965463 | 0.0177537  | 0.0141736  | 0.0285429 | 0.0431832 | 0.0242483 | 0.0188069  | 0.0100785  | 0.0372057 | 0.00973312 | 0.00568289 | 0.0192151  | 0.0168974  | 0.0153846  | 0.00509332 | 0.0632774 | 0.0189953  | 0         |\n",
      "| macro av. precision | 0.00373626 | 0.00577708 | 0.00497645 | 0.0154317 | 0.0171429 | 0.0166562 | 0.00838305 | 0.00405024 | 0.00450549 | 0.0124804 | 0.0154003 | 0.012967  | 0.0336578 | 0.00706436 | 0.00709576 | 0.00789639 | 0.00544741 | 0.00806907 | 0.00748823 | 0.0139874 | 0.00524333 | 0.0146625 | 0.0190581 | 0.026044  | 0.0130141 | 0.00676609 | 0.00978022 | 0.00877551 | 0.0126374 | 0.00240188 | 0.00764521 | 0.0204082 | 0.00386185 | 0.00976452 | 0.00992151 | 0.0156986 | 0.0280691 | 0.0157614 | 0.00940345 | 0.00503925 | 0.0223234 | 0.00389325 | 0.00284144 | 0.00960754 | 0.00929356 | 0.00923077 | 0.00229199 | 0.0411303 | 0.00759812 | 0         |\n",
      "| micro av. recall    | 0.463938   | 0.440191   | 0.417655   | 0.551009  | 0.879936  | 0.769956  | 0.697128   | 0.675393   | 0.269231   | 0.618677  | 0.888587  | 0.591267  | 0.883031  | 0.420168   | 0.583979   | 0.655802   | 0.55609    | 0.708966   | 0.326489   | 0.476216  | 0.58087    | 0.58558   | 0.671089  | 0.853395  | 0.658459  | 0.488662   | 0.502419   | 0.428681   | 0.725225  | 0.22973    | 0.558486   | 0.842515  | 0.296029   | 0.457353   | 0.854054   | 0.758725  | 0.839437  | 0.890861  | 0.509787   | 0.45021    | 0.901141  | 0.419628   | 0.209977   | 0.213092   | 0.331281   | 0.626866   | 0.204482   | 0.821059  | 0.421603   | 0         |\n",
      "| macro av. recall    | 0.4        | 0.65       | 0.3        | 0.35      | 0.65      | 0.75      | 0.5        | 0.65       | 0.5        | 0.65      | 0.45      | 0.55      | 0.6       | 0.5        | 0.3        | 0.65       | 0.5        | 0.6        | 0.5        | 0.5       | 0.5        | 0.5       | 0.45      | 0.65      | 0.5       | 0.5        | 0.6        | 0.25       | 0.7       | 0.4        | 0.5        | 0.35      | 0.4        | 0.55       | 0.7        | 0.55      | 0.65      | 0.65      | 0.5        | 0.5        | 0.6       | 0.4        | 0.5        | 0.5        | 0.55       | 0.6        | 0.45       | 0.65      | 0.4        | 0         |\n",
      "| micro av. f1        | 0.0163137  | 0.0174238  | 0.031909   | 0.0816479 | 0.0512123 | 0.0431713 | 0.0327447  | 0.0123483  | 0.0174383  | 0.0372453 | 0.0659075 | 0.0453448 | 0.105491  | 0.0273382  | 0.0454637  | 0.0238547  | 0.0213709  | 0.0263962  | 0.0286392  | 0.0528454 | 0.0206014  | 0.0558529 | 0.0796745 | 0.0765416 | 0.050077  | 0.0263351  | 0.0315763  | 0.0648906  | 0.0352298 | 0.0117035  | 0.0297659  | 0.10907   | 0.0186994  | 0.0341805  | 0.0278844  | 0.0550161 | 0.0821408 | 0.0472115 | 0.0362755  | 0.0197156  | 0.0714609 | 0.019025   | 0.0110663  | 0.0352514  | 0.0321547  | 0.0300322  | 0.00993907 | 0.117499  | 0.0363527  | 0         |\n",
      "| macro av. f1        | 0.00736979 | 0.0113708  | 0.00965119 | 0.0278529 | 0.0274982 | 0.0302958 | 0.0154819  | 0.00803633 | 0.00879654 | 0.0232454 | 0.0272743 | 0.0243724 | 0.0550972 | 0.0136492  | 0.0134201  | 0.0153453  | 0.0106806  | 0.0156805  | 0.0145857  | 0.0258389 | 0.0102475  | 0.0277088 | 0.0327663 | 0.0472522 | 0.0235505 | 0.0131008  | 0.0188993  | 0.0168676  | 0.0237567 | 0.00473225 | 0.014655   | 0.036511  | 0.00761251 | 0.0186423  | 0.0190819  | 0.0270278 | 0.0436266 | 0.0297628 | 0.0181878  | 0.00982507 | 0.0368925 | 0.00769062 | 0.00564089 | 0.0181409  | 0.0172876  | 0.0180259  | 0.00455633 | 0.0658443 | 0.0146858  | 0         |\n",
      "| imb. av. f1         | 0.384011   | 0.336089   | 0.730539   | 0.65535   | 0.254495  | 0.217159  | 0.530779   | 0.380168   | 0.357399   | 0.356461  | 0.783275  | 0.433694  | 0.402362  | 0.444031   | 0.812102   | 0.318757   | 0.491207   | 0.407809   | 0.556531   | 0.426294  | 0.545797   | 0.500592  | 0.363885  | 0.596676  | 0.604389  | 0.56601    | 0.286711   | 0.947403   | 0.205532  | 0.467702   | 0.525107   | 0.789691  | 0.529464   | 0.201517   | 0.268087   | 0.408195  | 0.282494  | 0.602709  | 0.547955   | 0.481256   | 0.411414  | 0.674385   | 0.385272   | 0.409951   | 0.327279   | 0.481891   | 0.562005   | 0.42607   | 0.539283   | 0.988854  |\n",
      "Evaluating in combined mode on test set\n",
      "|                     |          0 |          1 |          2 |          3 |          4 |         5 |         6 |          7 |          8 |          9 |         10 |        11 |        12 |        13 |        14 |        15 |        16 |        17 |        18 |        19 |        20 |        21 |        22 |        23 |        24 |        25 |        26 |        27 |        28 |        29 |        30 |        31 |        32 |        33 |        34 |        35 |        36 |        37 |        38 |        39 |        40 |        41 |        42 |        43 |        44 |        45 |        46 |        47 |        48 |        49 |\n",
      "|:--------------------|-----------:|-----------:|-----------:|-----------:|-----------:|----------:|----------:|-----------:|-----------:|-----------:|-----------:|----------:|----------:|----------:|----------:|----------:|----------:|----------:|----------:|----------:|----------:|----------:|----------:|----------:|----------:|----------:|----------:|----------:|----------:|----------:|----------:|----------:|----------:|----------:|----------:|----------:|----------:|----------:|----------:|----------:|----------:|----------:|----------:|----------:|----------:|----------:|----------:|----------:|----------:|----------:|\n",
      "| hamming loss        | 0.450581   | 0.551075   | 0.468038   | 0.437814   | 0.47729    | 0.520795  | 0.517147  | 0.533491   | 0.530628   | 0.542086   | 0.53249    | 0.533616  | 0.536476  | 0.534063  | 0.518322  | 0.526318  | 0.524705  | 0.528624  | 0.527536  | 0.526229  | 0.524911  | 0.523584  | 0.519962  | 0.524481  | 0.523251  | 0.522369  | 0.525241  | 0.515515  | 0.521606  | 0.517741  | 0.517117  | 0.511376  | 0.508162  | 0.509446  | 0.514656  | 0.51534   | 0.518366  | 0.521466  | 0.520906  | 0.520412  | 0.521868  | 0.519002  | 0.518743  | 0.518905  | 0.519806  | 0.521468  | 0.520089  | 0.522125  | 0.51969   | 0.518143  |\n",
      "| zero_one_loss       | 1          | 1          | 1          | 1          | 1          | 1         | 1         | 1          | 1          | 1          | 1          | 1         | 1         | 1         | 1         | 1         | 1         | 1         | 1         | 1         | 1         | 1         | 1         | 1         | 1         | 1         | 1         | 1         | 1         | 1         | 1         | 1         | 1         | 1         | 1         | 1         | 1         | 1         | 1         | 1         | 1         | 1         | 1         | 1         | 1         | 1         | 1         | 1         | 1         | 1         |\n",
      "| one_error           | 0          | 0          | 0          | 0          | 0          | 0         | 0         | 0          | 0          | 0          | 0          | 0         | 0         | 0         | 0         | 0         | 0         | 0         | 0         | 0         | 0         | 0         | 0         | 0         | 0         | 0         | 0         | 0         | 0         | 0         | 0         | 0         | 0         | 0         | 0         | 0         | 0         | 0         | 0         | 0         | 0         | 0         | 0         | 0         | 0         | 0         | 0         | 0         | 0         | 0         |\n",
      "| micro av. jaccard   | 0.00822391 | 0.00855775 | 0.0102141  | 0.0167987  | 0.0193401  | 0.0199845 | 0.019529  | 0.0175305  | 0.0166092  | 0.0168915  | 0.0181933  | 0.0186221 | 0.0217642 | 0.0212367 | 0.0213144 | 0.0206112 | 0.0200676 | 0.0196516 | 0.0193932 | 0.0197651 | 0.0193457 | 0.0197532 | 0.0205709 | 0.0215489 | 0.0217055 | 0.0214    | 0.0211745 | 0.0213937 | 0.0212358 | 0.020841  | 0.0206637 | 0.0214469 | 0.0211601 | 0.0210403 | 0.0207771 | 0.020997  | 0.0217268 | 0.0218057 | 0.021724  | 0.021444  | 0.0218739 | 0.0216506 | 0.0212902 | 0.0212133 | 0.0210973 | 0.0209527 | 0.0206593 | 0.0217333 | 0.0216826 | 0.021681  |\n",
      "| macro av. jaccard   | 0.00373626 | 0.00475667 | 0.00482993 | 0.00748038 | 0.00941287 | 0.0106201 | 0.0103005 | 0.00951923 | 0.00896215 | 0.00931397 | 0.00986728 | 0.0101256 | 0.0119358 | 0.0115878 | 0.0112883 | 0.0110763 | 0.0107452 | 0.0105965 | 0.010433  | 0.0106107 | 0.0103551 | 0.0105509 | 0.0109208 | 0.0115509 | 0.0116094 | 0.0114231 | 0.0113623 | 0.0112699 | 0.0113171 | 0.0110199 | 0.010911  | 0.0112078 | 0.0109852 | 0.0109493 | 0.0109199 | 0.0110527 | 0.0115126 | 0.0116244 | 0.0115674 | 0.0114042 | 0.0116706 | 0.0114854 | 0.0112844 | 0.0112463 | 0.0112029 | 0.01116   | 0.0109713 | 0.0115996 | 0.011518  | 0.0114828 |\n",
      "| micro av. precision | 0.00830281 | 0.00864849 | 0.0103499  | 0.017098   | 0.0196102  | 0.0202288 | 0.0197544 | 0.0177102  | 0.016804   | 0.0170899  | 0.0183966  | 0.0188383 | 0.0220092 | 0.0214873 | 0.0215701 | 0.0208496 | 0.0202965 | 0.0198685 | 0.0196263 | 0.0200201 | 0.0195907 | 0.0200103 | 0.0208446 | 0.0218285 | 0.0219875 | 0.0216789 | 0.0214533 | 0.0216878 | 0.021521  | 0.0211244 | 0.0209438 | 0.0217364 | 0.0214504 | 0.0213339 | 0.0210577 | 0.0212779 | 0.0220137 | 0.0220863 | 0.0220064 | 0.0217224 | 0.0221525 | 0.0219266 | 0.0215657 | 0.0215146 | 0.0214067 | 0.0212571 | 0.0209614 | 0.0220508 | 0.0220031 | 0.0220031 |\n",
      "| macro av. precision | 0.00373626 | 0.00475667 | 0.00482993 | 0.00748038 | 0.00941287 | 0.0106201 | 0.0103005 | 0.00951923 | 0.00896215 | 0.00931397 | 0.00986728 | 0.0101256 | 0.0119358 | 0.0115878 | 0.0112883 | 0.0110763 | 0.0107452 | 0.0105965 | 0.010433  | 0.0106107 | 0.0103551 | 0.0105509 | 0.0109208 | 0.0115509 | 0.0116094 | 0.0114231 | 0.0113623 | 0.0112699 | 0.0113171 | 0.0110199 | 0.010911  | 0.0112078 | 0.0109852 | 0.0109493 | 0.0109199 | 0.0110527 | 0.0115126 | 0.0116244 | 0.0115674 | 0.0114042 | 0.0116706 | 0.0114854 | 0.0112844 | 0.0112463 | 0.0112029 | 0.01116   | 0.0109713 | 0.0115996 | 0.011518  | 0.0114828 |\n",
      "| micro av. recall    | 0.463938   | 0.449222   | 0.437856   | 0.489723   | 0.584064   | 0.623407  | 0.631167  | 0.633373   | 0.588883   | 0.592707   | 0.622098   | 0.618656  | 0.661624  | 0.645472  | 0.642636  | 0.643211  | 0.64022   | 0.642857  | 0.620156  | 0.608042  | 0.607357  | 0.605934  | 0.610431  | 0.627207  | 0.628544  | 0.624472  | 0.619673  | 0.612089  | 0.615788  | 0.60836   | 0.607135  | 0.616943  | 0.609899  | 0.60461   | 0.609229  | 0.614002  | 0.625063  | 0.631789  | 0.628653  | 0.625913  | 0.63496   | 0.632341  | 0.62498   | 0.602373  | 0.593421  | 0.593991  | 0.589004  | 0.601564  | 0.598127  | 0.596905  |\n",
      "| macro av. recall    | 0.4        | 0.525      | 0.45       | 0.425      | 0.47       | 0.516667  | 0.514286  | 0.53125    | 0.527778   | 0.54       | 0.531818   | 0.533333  | 0.538462  | 0.535714  | 0.52      | 0.528125  | 0.526471  | 0.530556  | 0.528947  | 0.5275    | 0.52619   | 0.525     | 0.521739  | 0.527083  | 0.526     | 0.525     | 0.527778  | 0.517857  | 0.524138  | 0.52      | 0.519355  | 0.514062  | 0.510606  | 0.511765  | 0.517143  | 0.518056  | 0.521622  | 0.525     | 0.524359  | 0.52375   | 0.52561   | 0.522619  | 0.522093  | 0.521591  | 0.522222  | 0.523913  | 0.52234   | 0.525     | 0.522449  | 0.520855  |\n",
      "| micro av. f1        | 0.0163137  | 0.0169703  | 0.0202217  | 0.0330424  | 0.0379462  | 0.039186  | 0.0383098 | 0.0344569  | 0.0326756  | 0.0332218  | 0.0357364  | 0.0365632 | 0.0426012 | 0.0415901 | 0.0417391 | 0.0403899 | 0.0393457 | 0.0385457 | 0.0380485 | 0.038764  | 0.0379571 | 0.0387412 | 0.0403126 | 0.0421886 | 0.0424887 | 0.0419032 | 0.0414708 | 0.0418913 | 0.0415885 | 0.040831  | 0.0404908 | 0.0419932 | 0.0414432 | 0.0412135 | 0.0407084 | 0.0411304 | 0.0425296 | 0.0426806 | 0.0425241 | 0.0419875 | 0.0428113 | 0.0423836 | 0.0416927 | 0.0415453 | 0.0413228 | 0.0410454 | 0.0404822 | 0.0425421 | 0.0424448 | 0.0424417 |\n",
      "| macro av. f1        | 0.00736979 | 0.00937032 | 0.00946394 | 0.0140612  | 0.0167486  | 0.0190064 | 0.0185029 | 0.0171946  | 0.0162615  | 0.0169599  | 0.0178976  | 0.0184371 | 0.0212571 | 0.0207137 | 0.0202275 | 0.0199223 | 0.0193787 | 0.0191732 | 0.0189318 | 0.0192772 | 0.0188472 | 0.01925   | 0.0198376 | 0.0209799 | 0.0210827 | 0.0207757 | 0.0207062 | 0.0205691 | 0.0206791 | 0.0201475 | 0.0199703 | 0.0204872 | 0.0200971 | 0.0200543 | 0.0200265 | 0.020221  | 0.0208536 | 0.021088  | 0.0210137 | 0.0207339 | 0.0211281 | 0.0208081 | 0.0204554 | 0.0204028 | 0.0203336 | 0.0202834 | 0.0199488 | 0.0209049 | 0.020778  | 0.0207146 |\n",
      "| imb. av. f1         | 0.384011   | 0.368887   | 0.453223   | 0.484123   | 0.435664   | 0.404759  | 0.423363  | 0.41834    | 0.412625   | 0.406789   | 0.444671   | 0.444015  | 0.441789  | 0.441957  | 0.461502  | 0.454381  | 0.456154  | 0.453945  | 0.458128  | 0.457036  | 0.460933  | 0.46204   | 0.45707   | 0.461152  | 0.465821  | 0.469134  | 0.464405  | 0.480567  | 0.471288  | 0.47114   | 0.473175  | 0.482074  | 0.483077  | 0.474882  | 0.467388  | 0.465522  | 0.460409  | 0.464718  | 0.466254  | 0.466742  | 0.465293  | 0.469791  | 0.467993  | 0.466979  | 0.464089  | 0.464372  | 0.466848  | 0.466069  | 0.466982  | 0.467762  |\n",
      "File saved to ./checkpoints_new/delicious_0_LwF_asy.pkl\n",
      "Number of Tasks: 50\n",
      "Forgetting in task 1: first time imb. av. f1 = 0.7952, after all tasks imb. av. f1 = 0.3840\n",
      "Forgetting in task 2: first time imb. av. f1 = 0.9948, after all tasks imb. av. f1 = 0.3840\n",
      "Forgetting in task 3: first time imb. av. f1 = 0.9946, after all tasks imb. av. f1 = 0.3840\n",
      "Forgetting in task 4: first time imb. av. f1 = 0.9929, after all tasks imb. av. f1 = 0.3840\n",
      "Forgetting in task 5: first time imb. av. f1 = 0.9961, after all tasks imb. av. f1 = 0.3840\n",
      "Forgetting in task 6: first time imb. av. f1 = 0.9949, after all tasks imb. av. f1 = 0.3840\n",
      "Forgetting in task 7: first time imb. av. f1 = 0.9959, after all tasks imb. av. f1 = 0.3840\n",
      "Forgetting in task 8: first time imb. av. f1 = 0.9953, after all tasks imb. av. f1 = 0.3840\n",
      "Forgetting in task 9: first time imb. av. f1 = 0.9947, after all tasks imb. av. f1 = 0.3840\n",
      "Forgetting in task 10: first time imb. av. f1 = 0.9958, after all tasks imb. av. f1 = 0.3840\n",
      "Forgetting in task 11: first time imb. av. f1 = 0.9961, after all tasks imb. av. f1 = 0.3840\n",
      "Forgetting in task 12: first time imb. av. f1 = 0.9936, after all tasks imb. av. f1 = 0.3840\n",
      "Forgetting in task 13: first time imb. av. f1 = 0.9933, after all tasks imb. av. f1 = 0.3840\n",
      "Forgetting in task 14: first time imb. av. f1 = 0.9956, after all tasks imb. av. f1 = 0.3840\n",
      "Forgetting in task 15: first time imb. av. f1 = 0.9941, after all tasks imb. av. f1 = 0.3840\n",
      "Forgetting in task 16: first time imb. av. f1 = 0.9940, after all tasks imb. av. f1 = 0.3840\n",
      "Forgetting in task 17: first time imb. av. f1 = 0.9941, after all tasks imb. av. f1 = 0.3840\n",
      "Forgetting in task 18: first time imb. av. f1 = 0.9941, after all tasks imb. av. f1 = 0.3840\n",
      "Forgetting in task 19: first time imb. av. f1 = 0.9936, after all tasks imb. av. f1 = 0.3840\n",
      "Forgetting in task 20: first time imb. av. f1 = 0.9926, after all tasks imb. av. f1 = 0.3840\n",
      "Forgetting in task 21: first time imb. av. f1 = 0.9946, after all tasks imb. av. f1 = 0.3840\n",
      "Forgetting in task 22: first time imb. av. f1 = 0.9915, after all tasks imb. av. f1 = 0.3840\n",
      "Forgetting in task 23: first time imb. av. f1 = 0.9957, after all tasks imb. av. f1 = 0.3840\n",
      "Forgetting in task 24: first time imb. av. f1 = 0.9926, after all tasks imb. av. f1 = 0.3840\n",
      "Forgetting in task 25: first time imb. av. f1 = 0.9936, after all tasks imb. av. f1 = 0.3840\n",
      "Forgetting in task 26: first time imb. av. f1 = 0.9939, after all tasks imb. av. f1 = 0.3840\n",
      "Forgetting in task 27: first time imb. av. f1 = 0.9924, after all tasks imb. av. f1 = 0.3840\n",
      "Forgetting in task 28: first time imb. av. f1 = 0.9944, after all tasks imb. av. f1 = 0.3840\n",
      "Forgetting in task 29: first time imb. av. f1 = 0.9946, after all tasks imb. av. f1 = 0.3840\n",
      "Forgetting in task 30: first time imb. av. f1 = 0.9958, after all tasks imb. av. f1 = 0.3840\n",
      "Forgetting in task 31: first time imb. av. f1 = 0.9956, after all tasks imb. av. f1 = 0.3840\n",
      "Forgetting in task 32: first time imb. av. f1 = 0.9942, after all tasks imb. av. f1 = 0.3840\n",
      "Forgetting in task 33: first time imb. av. f1 = 0.9923, after all tasks imb. av. f1 = 0.3840\n",
      "Forgetting in task 34: first time imb. av. f1 = 0.9947, after all tasks imb. av. f1 = 0.3840\n",
      "Forgetting in task 35: first time imb. av. f1 = 0.8851, after all tasks imb. av. f1 = 0.3840\n",
      "Forgetting in task 36: first time imb. av. f1 = 0.9949, after all tasks imb. av. f1 = 0.3840\n",
      "Forgetting in task 37: first time imb. av. f1 = 0.9950, after all tasks imb. av. f1 = 0.3840\n",
      "Forgetting in task 38: first time imb. av. f1 = 0.9955, after all tasks imb. av. f1 = 0.3840\n",
      "Forgetting in task 39: first time imb. av. f1 = 0.9926, after all tasks imb. av. f1 = 0.3840\n",
      "Forgetting in task 40: first time imb. av. f1 = 0.9008, after all tasks imb. av. f1 = 0.3840\n",
      "Forgetting in task 41: first time imb. av. f1 = 0.9952, after all tasks imb. av. f1 = 0.3840\n",
      "Forgetting in task 42: first time imb. av. f1 = 0.9942, after all tasks imb. av. f1 = 0.3840\n",
      "Forgetting in task 43: first time imb. av. f1 = 0.9943, after all tasks imb. av. f1 = 0.3840\n",
      "Forgetting in task 44: first time imb. av. f1 = 0.9931, after all tasks imb. av. f1 = 0.3840\n",
      "Forgetting in task 45: first time imb. av. f1 = 0.8146, after all tasks imb. av. f1 = 0.3840\n",
      "Forgetting in task 46: first time imb. av. f1 = 0.9927, after all tasks imb. av. f1 = 0.3840\n",
      "Forgetting in task 47: first time imb. av. f1 = 0.8854, after all tasks imb. av. f1 = 0.3840\n",
      "Forgetting in task 48: first time imb. av. f1 = 0.9943, after all tasks imb. av. f1 = 0.3840\n",
      "Forgetting in task 49: first time imb. av. f1 = 0.9629, after all tasks imb. av. f1 = 0.3840\n",
      "Forgetting in task 50: first time imb. av. f1 = 0.9889, after all tasks imb. av. f1 = 0.3840\n"
     ]
    },
    {
     "data": {
      "image/png": "[encoded data removed]",
      "text/plain": [
       "<Figure size 360x360 with 1 Axes>"
      ]
     },
     "metadata": {
      "needs_background": "light"
     },
     "output_type": "display_data"
    }
   ],
   "source": [
    "hparams = Hyperparameters('delicious', continual_method, device, num_tasks=50)\n",
    "experiment = ContinualExperiment(hparams)\n",
    "experiment.run()"
   ]
  },
  {
   "cell_type": "markdown",
   "metadata": {},
   "source": [
    "## Mediamill, 50 tasks"
   ]
  },
  {
   "cell_type": "code",
   "execution_count": 20,
   "metadata": {},
   "outputs": [
    {
     "name": "stdout",
     "output_type": "stream",
     "text": [
      "Processing Data ...\n"
     ]
    },
    {
     "name": "stderr",
     "output_type": "stream",
     "text": [
      "  0%|          | 0/1 [00:00<?, ?it/s]"
     ]
    },
    {
     "name": "stdout",
     "output_type": "stream",
     "text": [
      "(30993, 120)\n",
      "(12914, 120)\n",
      "(30993, 101)\n",
      "(12914, 101)\n",
      "Begin training in LwF mode ...\n",
      "Training and Evaluating on task 1\n",
      "Train data shape is  (619, 120)\n",
      "Train Labels shape is  (619, 2)\n",
      "Classes trained are: 0 to 2\n",
      "Samples with all negative labels 0\n",
      "Output dimensions: 2\n"
     ]
    },
    {
     "name": "stderr",
     "output_type": "stream",
     "text": [
      "100%|██████████| 1/1 [00:00<00:00,  2.91it/s]\n"
     ]
    },
    {
     "name": "stdout",
     "output_type": "stream",
     "text": [
      "Evaluating in individual mode on test set\n",
      "multilabel-indicator multilabel-indicator\n",
      "float32 float32\n",
      "(12914, 2) (12914, 2)\n",
      "Evaluating in combined mode on test set\n",
      "multilabel-indicator multilabel-indicator\n",
      "float32 float32\n",
      "(12914, 2) (12914, 2)\n",
      "Training and Evaluating on task 2\n",
      "Train data shape is  (619, 120)\n",
      "Train Labels shape is  (619, 2)\n",
      "Classes trained are: 2 to 4\n",
      "Samples with all negative labels 1\n",
      "Augmenting class labels...\n"
     ]
    },
    {
     "name": "stderr",
     "output_type": "stream",
     "text": [
      "  0%|          | 0/1 [00:00<?, ?it/s]"
     ]
    },
    {
     "name": "stdout",
     "output_type": "stream",
     "text": [
      "Train Labels shape is  (619, 4)\n",
      "Output dimensions: 4\n",
      "growing model size ...\n"
     ]
    },
    {
     "name": "stderr",
     "output_type": "stream",
     "text": [
      "100%|██████████| 1/1 [01:06<00:00, 66.65s/it]\n"
     ]
    },
    {
     "name": "stdout",
     "output_type": "stream",
     "text": [
      "Evaluating in individual mode on test set\n",
      "multilabel-indicator multilabel-indicator\n",
      "float32 float32\n",
      "(12914, 2) (12914, 2)\n",
      "Evaluating in combined mode on test set\n",
      "multilabel-indicator multilabel-indicator\n",
      "float32 float32\n",
      "(12914, 4) (12914, 4)\n",
      "Training and Evaluating on task 3\n",
      "Train data shape is  (619, 120)\n",
      "Train Labels shape is  (619, 2)\n",
      "Classes trained are: 4 to 6\n",
      "Samples with all negative labels 1\n",
      "Augmenting class labels...\n"
     ]
    },
    {
     "name": "stderr",
     "output_type": "stream",
     "text": [
      "  0%|          | 0/1 [00:00<?, ?it/s]"
     ]
    },
    {
     "name": "stdout",
     "output_type": "stream",
     "text": [
      "Train Labels shape is  (619, 6)\n",
      "Output dimensions: 6\n",
      "growing model size ...\n"
     ]
    },
    {
     "name": "stderr",
     "output_type": "stream",
     "text": [
      "100%|██████████| 1/1 [01:07<00:00, 67.15s/it]\n"
     ]
    },
    {
     "name": "stdout",
     "output_type": "stream",
     "text": [
      "Evaluating in individual mode on test set\n",
      "multilabel-indicator multilabel-indicator\n",
      "float32 float32\n",
      "(12914, 2) (12914, 2)\n",
      "Evaluating in combined mode on test set\n",
      "multilabel-indicator multilabel-indicator\n",
      "float32 float32\n",
      "(12914, 6) (12914, 6)\n",
      "Training and Evaluating on task 4\n",
      "Train data shape is  (619, 120)\n",
      "Train Labels shape is  (619, 2)\n",
      "Classes trained are: 6 to 8\n",
      "Samples with all negative labels 1\n",
      "Augmenting class labels...\n"
     ]
    },
    {
     "name": "stderr",
     "output_type": "stream",
     "text": [
      "  0%|          | 0/1 [00:00<?, ?it/s]"
     ]
    },
    {
     "name": "stdout",
     "output_type": "stream",
     "text": [
      "Train Labels shape is  (619, 8)\n",
      "Output dimensions: 8\n",
      "growing model size ...\n"
     ]
    },
    {
     "name": "stderr",
     "output_type": "stream",
     "text": [
      "100%|██████████| 1/1 [01:07<00:00, 67.60s/it]\n"
     ]
    },
    {
     "name": "stdout",
     "output_type": "stream",
     "text": [
      "Evaluating in individual mode on test set\n",
      "multilabel-indicator multilabel-indicator\n",
      "float32 float32\n",
      "(12914, 2) (12914, 2)\n",
      "Evaluating in combined mode on test set\n",
      "multilabel-indicator multilabel-indicator\n",
      "float32 float32\n",
      "(12914, 8) (12914, 8)\n",
      "Training and Evaluating on task 5\n",
      "Train data shape is  (619, 120)\n",
      "Train Labels shape is  (619, 2)\n",
      "Classes trained are: 8 to 10\n",
      "Samples with all negative labels 2\n",
      "Augmenting class labels...\n"
     ]
    },
    {
     "name": "stderr",
     "output_type": "stream",
     "text": [
      "  0%|          | 0/1 [00:00<?, ?it/s]"
     ]
    },
    {
     "name": "stdout",
     "output_type": "stream",
     "text": [
      "Train Labels shape is  (619, 10)\n",
      "Output dimensions: 10\n",
      "growing model size ...\n"
     ]
    },
    {
     "name": "stderr",
     "output_type": "stream",
     "text": [
      "100%|██████████| 1/1 [01:08<00:00, 68.09s/it]\n"
     ]
    },
    {
     "name": "stdout",
     "output_type": "stream",
     "text": [
      "Evaluating in individual mode on test set\n",
      "multilabel-indicator multilabel-indicator\n",
      "float32 float32\n",
      "(12914, 2) (12914, 2)\n",
      "Evaluating in combined mode on test set\n",
      "multilabel-indicator multilabel-indicator\n",
      "float32 float32\n",
      "(12914, 10) (12914, 10)\n",
      "Training and Evaluating on task 6\n",
      "Train data shape is  (619, 120)\n",
      "Train Labels shape is  (619, 2)\n",
      "Classes trained are: 10 to 12\n",
      "Samples with all negative labels 1\n",
      "Augmenting class labels...\n"
     ]
    },
    {
     "name": "stderr",
     "output_type": "stream",
     "text": [
      "  0%|          | 0/1 [00:00<?, ?it/s]"
     ]
    },
    {
     "name": "stdout",
     "output_type": "stream",
     "text": [
      "Train Labels shape is  (619, 12)\n",
      "Output dimensions: 12\n",
      "growing model size ...\n"
     ]
    },
    {
     "name": "stderr",
     "output_type": "stream",
     "text": [
      "100%|██████████| 1/1 [01:08<00:00, 68.32s/it]\n"
     ]
    },
    {
     "name": "stdout",
     "output_type": "stream",
     "text": [
      "Evaluating in individual mode on test set\n",
      "multilabel-indicator multilabel-indicator\n",
      "float32 float32\n",
      "(12914, 2) (12914, 2)\n",
      "Evaluating in combined mode on test set\n",
      "multilabel-indicator multilabel-indicator\n",
      "float32 float32\n",
      "(12914, 12) (12914, 12)\n",
      "Training and Evaluating on task 7\n",
      "Train data shape is  (619, 120)\n",
      "Train Labels shape is  (619, 2)\n",
      "Classes trained are: 12 to 14\n",
      "Samples with all negative labels 0\n",
      "Augmenting class labels...\n"
     ]
    },
    {
     "name": "stderr",
     "output_type": "stream",
     "text": [
      "  0%|          | 0/1 [00:00<?, ?it/s]"
     ]
    },
    {
     "name": "stdout",
     "output_type": "stream",
     "text": [
      "Train Labels shape is  (619, 14)\n",
      "Output dimensions: 14\n",
      "growing model size ...\n"
     ]
    },
    {
     "name": "stderr",
     "output_type": "stream",
     "text": [
      "100%|██████████| 1/1 [01:08<00:00, 68.78s/it]\n"
     ]
    },
    {
     "name": "stdout",
     "output_type": "stream",
     "text": [
      "Evaluating in individual mode on test set\n",
      "multilabel-indicator multilabel-indicator\n",
      "float32 float32\n",
      "(12914, 2) (12914, 2)\n",
      "Evaluating in combined mode on test set\n",
      "multilabel-indicator multilabel-indicator\n",
      "float32 float32\n",
      "(12914, 14) (12914, 14)\n",
      "Training and Evaluating on task 8\n",
      "Train data shape is  (619, 120)\n",
      "Train Labels shape is  (619, 2)\n",
      "Classes trained are: 14 to 16\n",
      "Samples with all negative labels 0\n",
      "Augmenting class labels...\n"
     ]
    },
    {
     "name": "stderr",
     "output_type": "stream",
     "text": [
      "  0%|          | 0/1 [00:00<?, ?it/s]"
     ]
    },
    {
     "name": "stdout",
     "output_type": "stream",
     "text": [
      "Train Labels shape is  (619, 16)\n",
      "Output dimensions: 16\n",
      "growing model size ...\n"
     ]
    },
    {
     "name": "stderr",
     "output_type": "stream",
     "text": [
      "100%|██████████| 1/1 [01:07<00:00, 67.43s/it]\n"
     ]
    },
    {
     "name": "stdout",
     "output_type": "stream",
     "text": [
      "Evaluating in individual mode on test set\n",
      "multilabel-indicator multilabel-indicator\n",
      "float32 float32\n",
      "(12914, 2) (12914, 2)\n",
      "Evaluating in combined mode on test set\n",
      "multilabel-indicator multilabel-indicator\n",
      "float32 float32\n",
      "(12914, 16) (12914, 16)\n",
      "Training and Evaluating on task 9\n",
      "Train data shape is  (619, 120)\n",
      "Train Labels shape is  (619, 2)\n",
      "Classes trained are: 16 to 18\n",
      "Samples with all negative labels 0\n",
      "Augmenting class labels...\n"
     ]
    },
    {
     "name": "stderr",
     "output_type": "stream",
     "text": [
      "  0%|          | 0/1 [00:00<?, ?it/s]"
     ]
    },
    {
     "name": "stdout",
     "output_type": "stream",
     "text": [
      "Train Labels shape is  (619, 18)\n",
      "Output dimensions: 18\n",
      "growing model size ...\n"
     ]
    },
    {
     "name": "stderr",
     "output_type": "stream",
     "text": [
      "100%|██████████| 1/1 [01:07<00:00, 67.29s/it]\n"
     ]
    },
    {
     "name": "stdout",
     "output_type": "stream",
     "text": [
      "Evaluating in individual mode on test set\n",
      "multilabel-indicator multilabel-indicator\n",
      "float32 float32\n",
      "(12914, 2) (12914, 2)\n",
      "Evaluating in combined mode on test set\n",
      "multilabel-indicator multilabel-indicator\n",
      "float32 float32\n",
      "(12914, 18) (12914, 18)\n",
      "Training and Evaluating on task 10\n",
      "Train data shape is  (619, 120)\n",
      "Train Labels shape is  (619, 2)\n",
      "Classes trained are: 18 to 20\n",
      "Samples with all negative labels 1\n",
      "Augmenting class labels...\n"
     ]
    },
    {
     "name": "stderr",
     "output_type": "stream",
     "text": [
      "  0%|          | 0/1 [00:00<?, ?it/s]"
     ]
    },
    {
     "name": "stdout",
     "output_type": "stream",
     "text": [
      "Train Labels shape is  (619, 20)\n",
      "Output dimensions: 20\n",
      "growing model size ...\n"
     ]
    },
    {
     "name": "stderr",
     "output_type": "stream",
     "text": [
      "100%|██████████| 1/1 [01:07<00:00, 67.28s/it]\n"
     ]
    },
    {
     "name": "stdout",
     "output_type": "stream",
     "text": [
      "Evaluating in individual mode on test set\n",
      "multilabel-indicator multilabel-indicator\n",
      "float32 float32\n",
      "(12914, 2) (12914, 2)\n",
      "Evaluating in combined mode on test set\n",
      "multilabel-indicator multilabel-indicator\n",
      "float32 float32\n",
      "(12914, 20) (12914, 20)\n",
      "Training and Evaluating on task 11\n",
      "Train data shape is  (619, 120)\n",
      "Train Labels shape is  (619, 2)\n",
      "Classes trained are: 20 to 22\n",
      "Samples with all negative labels 0\n",
      "Augmenting class labels...\n"
     ]
    },
    {
     "name": "stderr",
     "output_type": "stream",
     "text": [
      "  0%|          | 0/1 [00:00<?, ?it/s]"
     ]
    },
    {
     "name": "stdout",
     "output_type": "stream",
     "text": [
      "Train Labels shape is  (619, 22)\n",
      "Output dimensions: 22\n",
      "growing model size ...\n"
     ]
    },
    {
     "name": "stderr",
     "output_type": "stream",
     "text": [
      "100%|██████████| 1/1 [01:07<00:00, 67.47s/it]\n"
     ]
    },
    {
     "name": "stdout",
     "output_type": "stream",
     "text": [
      "Evaluating in individual mode on test set\n",
      "multilabel-indicator multilabel-indicator\n",
      "float32 float32\n",
      "(12914, 2) (12914, 2)\n",
      "Evaluating in combined mode on test set\n",
      "multilabel-indicator multilabel-indicator\n",
      "float32 float32\n",
      "(12914, 22) (12914, 22)\n",
      "Training and Evaluating on task 12\n",
      "Train data shape is  (619, 120)\n",
      "Train Labels shape is  (619, 2)\n",
      "Classes trained are: 22 to 24\n",
      "Samples with all negative labels 1\n",
      "Augmenting class labels...\n"
     ]
    },
    {
     "name": "stderr",
     "output_type": "stream",
     "text": [
      "  0%|          | 0/1 [00:00<?, ?it/s]"
     ]
    },
    {
     "name": "stdout",
     "output_type": "stream",
     "text": [
      "Train Labels shape is  (619, 24)\n",
      "Output dimensions: 24\n",
      "growing model size ...\n"
     ]
    },
    {
     "name": "stderr",
     "output_type": "stream",
     "text": [
      "100%|██████████| 1/1 [01:07<00:00, 67.06s/it]\n"
     ]
    },
    {
     "name": "stdout",
     "output_type": "stream",
     "text": [
      "Evaluating in individual mode on test set\n",
      "multilabel-indicator multilabel-indicator\n",
      "float32 float32\n",
      "(12914, 2) (12914, 2)\n",
      "Evaluating in combined mode on test set\n",
      "multilabel-indicator multilabel-indicator\n",
      "float32 float32\n",
      "(12914, 24) (12914, 24)\n",
      "Training and Evaluating on task 13\n",
      "Train data shape is  (619, 120)\n",
      "Train Labels shape is  (619, 2)\n",
      "Classes trained are: 24 to 26\n",
      "Samples with all negative labels 2\n",
      "Augmenting class labels...\n"
     ]
    },
    {
     "name": "stderr",
     "output_type": "stream",
     "text": [
      "  0%|          | 0/1 [00:00<?, ?it/s]"
     ]
    },
    {
     "name": "stdout",
     "output_type": "stream",
     "text": [
      "Train Labels shape is  (619, 26)\n",
      "Output dimensions: 26\n",
      "growing model size ...\n"
     ]
    },
    {
     "name": "stderr",
     "output_type": "stream",
     "text": [
      "100%|██████████| 1/1 [01:07<00:00, 67.03s/it]\n"
     ]
    },
    {
     "name": "stdout",
     "output_type": "stream",
     "text": [
      "Evaluating in individual mode on test set\n",
      "multilabel-indicator multilabel-indicator\n",
      "float32 float32\n",
      "(12914, 2) (12914, 2)\n",
      "Evaluating in combined mode on test set\n",
      "multilabel-indicator multilabel-indicator\n",
      "float32 float32\n",
      "(12914, 26) (12914, 26)\n",
      "Training and Evaluating on task 14\n",
      "Train data shape is  (619, 120)\n",
      "Train Labels shape is  (619, 2)\n",
      "Classes trained are: 26 to 28\n",
      "Samples with all negative labels 1\n",
      "Augmenting class labels...\n"
     ]
    },
    {
     "name": "stderr",
     "output_type": "stream",
     "text": [
      "  0%|          | 0/1 [00:00<?, ?it/s]"
     ]
    },
    {
     "name": "stdout",
     "output_type": "stream",
     "text": [
      "Train Labels shape is  (619, 28)\n",
      "Output dimensions: 28\n",
      "growing model size ...\n"
     ]
    },
    {
     "name": "stderr",
     "output_type": "stream",
     "text": [
      "100%|██████████| 1/1 [01:07<00:00, 67.44s/it]\n"
     ]
    },
    {
     "name": "stdout",
     "output_type": "stream",
     "text": [
      "Evaluating in individual mode on test set\n",
      "multilabel-indicator multilabel-indicator\n",
      "float32 float32\n",
      "(12914, 2) (12914, 2)\n",
      "Evaluating in combined mode on test set\n",
      "multilabel-indicator multilabel-indicator\n",
      "float32 float32\n",
      "(12914, 28) (12914, 28)\n",
      "Training and Evaluating on task 15\n",
      "Train data shape is  (619, 120)\n",
      "Train Labels shape is  (619, 2)\n",
      "Classes trained are: 28 to 30\n",
      "Samples with all negative labels 1\n",
      "Augmenting class labels...\n"
     ]
    },
    {
     "name": "stderr",
     "output_type": "stream",
     "text": [
      "  0%|          | 0/1 [00:00<?, ?it/s]"
     ]
    },
    {
     "name": "stdout",
     "output_type": "stream",
     "text": [
      "Train Labels shape is  (619, 30)\n",
      "Output dimensions: 30\n",
      "growing model size ...\n"
     ]
    },
    {
     "name": "stderr",
     "output_type": "stream",
     "text": [
      "100%|██████████| 1/1 [01:07<00:00, 67.65s/it]\n"
     ]
    },
    {
     "name": "stdout",
     "output_type": "stream",
     "text": [
      "Evaluating in individual mode on test set\n",
      "multilabel-indicator multilabel-indicator\n",
      "float32 float32\n",
      "(12914, 2) (12914, 2)\n",
      "Evaluating in combined mode on test set\n",
      "multilabel-indicator multilabel-indicator\n",
      "float32 float32\n",
      "(12914, 30) (12914, 30)\n",
      "Training and Evaluating on task 16\n",
      "Train data shape is  (619, 120)\n",
      "Train Labels shape is  (619, 2)\n",
      "Classes trained are: 30 to 32\n",
      "Samples with all negative labels 1\n",
      "Augmenting class labels...\n"
     ]
    },
    {
     "name": "stderr",
     "output_type": "stream",
     "text": [
      "  0%|          | 0/1 [00:00<?, ?it/s]"
     ]
    },
    {
     "name": "stdout",
     "output_type": "stream",
     "text": [
      "Train Labels shape is  (619, 32)\n",
      "Output dimensions: 32\n",
      "growing model size ...\n"
     ]
    },
    {
     "name": "stderr",
     "output_type": "stream",
     "text": [
      "100%|██████████| 1/1 [01:07<00:00, 67.17s/it]\n"
     ]
    },
    {
     "name": "stdout",
     "output_type": "stream",
     "text": [
      "Evaluating in individual mode on test set\n",
      "multilabel-indicator multilabel-indicator\n",
      "float32 float32\n",
      "(12914, 2) (12914, 2)\n",
      "Evaluating in combined mode on test set\n",
      "multilabel-indicator multilabel-indicator\n",
      "float32 float32\n",
      "(12914, 32) (12914, 32)\n",
      "Training and Evaluating on task 17\n",
      "Train data shape is  (619, 120)\n",
      "Train Labels shape is  (619, 2)\n",
      "Classes trained are: 32 to 34\n",
      "Samples with all negative labels 1\n",
      "Augmenting class labels...\n"
     ]
    },
    {
     "name": "stderr",
     "output_type": "stream",
     "text": [
      "  0%|          | 0/1 [00:00<?, ?it/s]"
     ]
    },
    {
     "name": "stdout",
     "output_type": "stream",
     "text": [
      "Train Labels shape is  (619, 34)\n",
      "Output dimensions: 34\n",
      "growing model size ...\n"
     ]
    },
    {
     "name": "stderr",
     "output_type": "stream",
     "text": [
      "100%|██████████| 1/1 [01:07<00:00, 67.20s/it]\n"
     ]
    },
    {
     "name": "stdout",
     "output_type": "stream",
     "text": [
      "Evaluating in individual mode on test set\n",
      "multilabel-indicator multilabel-indicator\n",
      "float32 float32\n",
      "(12914, 2) (12914, 2)\n",
      "Evaluating in combined mode on test set\n",
      "multilabel-indicator multilabel-indicator\n",
      "float32 float32\n",
      "(12914, 34) (12914, 34)\n",
      "Training and Evaluating on task 18\n",
      "Train data shape is  (619, 120)\n",
      "Train Labels shape is  (619, 2)\n",
      "Classes trained are: 34 to 36\n",
      "Samples with all negative labels 0\n",
      "Augmenting class labels...\n"
     ]
    },
    {
     "name": "stderr",
     "output_type": "stream",
     "text": [
      "  0%|          | 0/1 [00:00<?, ?it/s]"
     ]
    },
    {
     "name": "stdout",
     "output_type": "stream",
     "text": [
      "Train Labels shape is  (619, 36)\n",
      "Output dimensions: 36\n",
      "growing model size ...\n"
     ]
    },
    {
     "name": "stderr",
     "output_type": "stream",
     "text": [
      "100%|██████████| 1/1 [01:07<00:00, 67.12s/it]\n"
     ]
    },
    {
     "name": "stdout",
     "output_type": "stream",
     "text": [
      "Evaluating in individual mode on test set\n",
      "multilabel-indicator multilabel-indicator\n",
      "float32 float32\n",
      "(12914, 2) (12914, 2)\n",
      "Evaluating in combined mode on test set\n",
      "multilabel-indicator multilabel-indicator\n",
      "float32 float32\n",
      "(12914, 36) (12914, 36)\n",
      "Training and Evaluating on task 19\n",
      "Train data shape is  (619, 120)\n",
      "Train Labels shape is  (619, 2)\n",
      "Classes trained are: 36 to 38\n",
      "Samples with all negative labels 1\n",
      "Augmenting class labels...\n"
     ]
    },
    {
     "name": "stderr",
     "output_type": "stream",
     "text": [
      "  0%|          | 0/1 [00:00<?, ?it/s]"
     ]
    },
    {
     "name": "stdout",
     "output_type": "stream",
     "text": [
      "Train Labels shape is  (619, 38)\n",
      "Output dimensions: 38\n",
      "growing model size ...\n"
     ]
    },
    {
     "name": "stderr",
     "output_type": "stream",
     "text": [
      "100%|██████████| 1/1 [01:07<00:00, 67.15s/it]\n"
     ]
    },
    {
     "name": "stdout",
     "output_type": "stream",
     "text": [
      "Evaluating in individual mode on test set\n",
      "multilabel-indicator multilabel-indicator\n",
      "float32 float32\n",
      "(12914, 2) (12914, 2)\n",
      "Evaluating in combined mode on test set\n",
      "multilabel-indicator multilabel-indicator\n",
      "float32 float32\n",
      "(12914, 38) (12914, 38)\n",
      "Training and Evaluating on task 20\n",
      "Train data shape is  (619, 120)\n",
      "Train Labels shape is  (619, 2)\n",
      "Classes trained are: 38 to 40\n",
      "Samples with all negative labels 1\n",
      "Augmenting class labels...\n"
     ]
    },
    {
     "name": "stderr",
     "output_type": "stream",
     "text": [
      "  0%|          | 0/1 [00:00<?, ?it/s]"
     ]
    },
    {
     "name": "stdout",
     "output_type": "stream",
     "text": [
      "Train Labels shape is  (619, 40)\n",
      "Output dimensions: 40\n",
      "growing model size ...\n"
     ]
    },
    {
     "name": "stderr",
     "output_type": "stream",
     "text": [
      "100%|██████████| 1/1 [01:07<00:00, 67.20s/it]\n"
     ]
    },
    {
     "name": "stdout",
     "output_type": "stream",
     "text": [
      "Evaluating in individual mode on test set\n",
      "multilabel-indicator multilabel-indicator\n",
      "float32 float32\n",
      "(12914, 2) (12914, 2)\n",
      "Evaluating in combined mode on test set\n",
      "multilabel-indicator multilabel-indicator\n",
      "float32 float32\n",
      "(12914, 40) (12914, 40)\n",
      "Training and Evaluating on task 21\n",
      "Train data shape is  (619, 120)\n",
      "Train Labels shape is  (619, 2)\n",
      "Classes trained are: 40 to 42\n",
      "Samples with all negative labels 0\n",
      "Augmenting class labels...\n"
     ]
    },
    {
     "name": "stderr",
     "output_type": "stream",
     "text": [
      "  0%|          | 0/1 [00:00<?, ?it/s]"
     ]
    },
    {
     "name": "stdout",
     "output_type": "stream",
     "text": [
      "Train Labels shape is  (619, 42)\n",
      "Output dimensions: 42\n",
      "growing model size ...\n"
     ]
    },
    {
     "name": "stderr",
     "output_type": "stream",
     "text": [
      "100%|██████████| 1/1 [01:07<00:00, 67.09s/it]\n"
     ]
    },
    {
     "name": "stdout",
     "output_type": "stream",
     "text": [
      "Evaluating in individual mode on test set\n",
      "multilabel-indicator multilabel-indicator\n",
      "float32 float32\n",
      "(12914, 2) (12914, 2)\n",
      "Evaluating in combined mode on test set\n",
      "multilabel-indicator multilabel-indicator\n",
      "float32 float32\n",
      "(12914, 42) (12914, 42)\n",
      "Training and Evaluating on task 22\n",
      "Train data shape is  (619, 120)\n",
      "Train Labels shape is  (619, 2)\n",
      "Classes trained are: 42 to 44\n",
      "Samples with all negative labels 0\n",
      "Augmenting class labels...\n"
     ]
    },
    {
     "name": "stderr",
     "output_type": "stream",
     "text": [
      "  0%|          | 0/1 [00:00<?, ?it/s]"
     ]
    },
    {
     "name": "stdout",
     "output_type": "stream",
     "text": [
      "Train Labels shape is  (619, 44)\n",
      "Output dimensions: 44\n",
      "growing model size ...\n"
     ]
    },
    {
     "name": "stderr",
     "output_type": "stream",
     "text": [
      "100%|██████████| 1/1 [01:07<00:00, 67.43s/it]\n"
     ]
    },
    {
     "name": "stdout",
     "output_type": "stream",
     "text": [
      "Evaluating in individual mode on test set\n",
      "multilabel-indicator multilabel-indicator\n",
      "float32 float32\n",
      "(12914, 2) (12914, 2)\n",
      "Evaluating in combined mode on test set\n",
      "multilabel-indicator multilabel-indicator\n",
      "float32 float32\n",
      "(12914, 44) (12914, 44)\n",
      "Training and Evaluating on task 23\n",
      "Train data shape is  (619, 120)\n",
      "Train Labels shape is  (619, 2)\n",
      "Classes trained are: 44 to 46\n",
      "Samples with all negative labels 2\n",
      "Augmenting class labels...\n"
     ]
    },
    {
     "name": "stderr",
     "output_type": "stream",
     "text": [
      "  0%|          | 0/1 [00:00<?, ?it/s]"
     ]
    },
    {
     "name": "stdout",
     "output_type": "stream",
     "text": [
      "Train Labels shape is  (619, 46)\n",
      "Output dimensions: 46\n",
      "growing model size ...\n"
     ]
    },
    {
     "name": "stderr",
     "output_type": "stream",
     "text": [
      "100%|██████████| 1/1 [01:07<00:00, 67.43s/it]\n"
     ]
    },
    {
     "name": "stdout",
     "output_type": "stream",
     "text": [
      "Evaluating in individual mode on test set\n",
      "multilabel-indicator multilabel-indicator\n",
      "float32 float32\n",
      "(12914, 2) (12914, 2)\n",
      "Evaluating in combined mode on test set\n",
      "multilabel-indicator multilabel-indicator\n",
      "float32 float32\n",
      "(12914, 46) (12914, 46)\n",
      "Training and Evaluating on task 24\n",
      "Train data shape is  (619, 120)\n",
      "Train Labels shape is  (619, 2)\n",
      "Classes trained are: 46 to 48\n",
      "Samples with all negative labels 1\n",
      "Augmenting class labels...\n"
     ]
    },
    {
     "name": "stderr",
     "output_type": "stream",
     "text": [
      "  0%|          | 0/1 [00:00<?, ?it/s]"
     ]
    },
    {
     "name": "stdout",
     "output_type": "stream",
     "text": [
      "Train Labels shape is  (619, 48)\n",
      "Output dimensions: 48\n",
      "growing model size ...\n"
     ]
    },
    {
     "name": "stderr",
     "output_type": "stream",
     "text": [
      "100%|██████████| 1/1 [01:07<00:00, 67.50s/it]\n"
     ]
    },
    {
     "name": "stdout",
     "output_type": "stream",
     "text": [
      "Evaluating in individual mode on test set\n",
      "multilabel-indicator multilabel-indicator\n",
      "float32 float32\n",
      "(12914, 2) (12914, 2)\n",
      "Evaluating in combined mode on test set\n",
      "multilabel-indicator multilabel-indicator\n",
      "float32 float32\n",
      "(12914, 48) (12914, 48)\n",
      "Training and Evaluating on task 25\n",
      "Train data shape is  (619, 120)\n",
      "Train Labels shape is  (619, 2)\n",
      "Classes trained are: 48 to 50\n",
      "Samples with all negative labels 1\n",
      "Augmenting class labels...\n"
     ]
    },
    {
     "name": "stderr",
     "output_type": "stream",
     "text": [
      "  0%|          | 0/1 [00:00<?, ?it/s]"
     ]
    },
    {
     "name": "stdout",
     "output_type": "stream",
     "text": [
      "Train Labels shape is  (619, 50)\n",
      "Output dimensions: 50\n",
      "growing model size ...\n"
     ]
    },
    {
     "name": "stderr",
     "output_type": "stream",
     "text": [
      "100%|██████████| 1/1 [01:08<00:00, 68.62s/it]\n"
     ]
    },
    {
     "name": "stdout",
     "output_type": "stream",
     "text": [
      "Evaluating in individual mode on test set\n",
      "multilabel-indicator multilabel-indicator\n",
      "float32 float32\n",
      "(12914, 2) (12914, 2)\n",
      "Evaluating in combined mode on test set\n",
      "multilabel-indicator multilabel-indicator\n",
      "float32 float32\n",
      "(12914, 50) (12914, 50)\n",
      "Training and Evaluating on task 26\n",
      "Train data shape is  (619, 120)\n",
      "Train Labels shape is  (619, 2)\n",
      "Classes trained are: 50 to 52\n",
      "Samples with all negative labels 2\n",
      "Augmenting class labels...\n"
     ]
    },
    {
     "name": "stderr",
     "output_type": "stream",
     "text": [
      "  0%|          | 0/1 [00:00<?, ?it/s]"
     ]
    },
    {
     "name": "stdout",
     "output_type": "stream",
     "text": [
      "Train Labels shape is  (619, 52)\n",
      "Output dimensions: 52\n",
      "growing model size ...\n"
     ]
    },
    {
     "name": "stderr",
     "output_type": "stream",
     "text": [
      "100%|██████████| 1/1 [01:09<00:00, 69.04s/it]\n"
     ]
    },
    {
     "name": "stdout",
     "output_type": "stream",
     "text": [
      "Evaluating in individual mode on test set\n",
      "multilabel-indicator multilabel-indicator\n",
      "float32 float32\n",
      "(12914, 2) (12914, 2)\n",
      "Evaluating in combined mode on test set\n",
      "multilabel-indicator multilabel-indicator\n",
      "float32 float32\n",
      "(12914, 52) (12914, 52)\n",
      "Training and Evaluating on task 27\n",
      "Train data shape is  (619, 120)\n",
      "Train Labels shape is  (619, 2)\n",
      "Classes trained are: 52 to 54\n",
      "Samples with all negative labels 1\n",
      "Augmenting class labels...\n"
     ]
    },
    {
     "name": "stderr",
     "output_type": "stream",
     "text": [
      "  0%|          | 0/1 [00:00<?, ?it/s]"
     ]
    },
    {
     "name": "stdout",
     "output_type": "stream",
     "text": [
      "Train Labels shape is  (619, 54)\n",
      "Output dimensions: 54\n",
      "growing model size ...\n"
     ]
    },
    {
     "name": "stderr",
     "output_type": "stream",
     "text": [
      "100%|██████████| 1/1 [01:07<00:00, 67.64s/it]\n"
     ]
    },
    {
     "name": "stdout",
     "output_type": "stream",
     "text": [
      "Evaluating in individual mode on test set\n",
      "multilabel-indicator multilabel-indicator\n",
      "float32 float32\n",
      "(12914, 2) (12914, 2)\n",
      "Evaluating in combined mode on test set\n",
      "multilabel-indicator multilabel-indicator\n",
      "float32 float32\n",
      "(12914, 54) (12914, 54)\n",
      "Training and Evaluating on task 28\n",
      "Train data shape is  (619, 120)\n",
      "Train Labels shape is  (619, 2)\n",
      "Classes trained are: 54 to 56\n",
      "Samples with all negative labels 1\n",
      "Augmenting class labels...\n"
     ]
    },
    {
     "name": "stderr",
     "output_type": "stream",
     "text": [
      "  0%|          | 0/1 [00:00<?, ?it/s]"
     ]
    },
    {
     "name": "stdout",
     "output_type": "stream",
     "text": [
      "Train Labels shape is  (619, 56)\n",
      "Output dimensions: 56\n",
      "growing model size ...\n"
     ]
    },
    {
     "name": "stderr",
     "output_type": "stream",
     "text": [
      "100%|██████████| 1/1 [01:07<00:00, 67.27s/it]\n"
     ]
    },
    {
     "name": "stdout",
     "output_type": "stream",
     "text": [
      "Evaluating in individual mode on test set\n",
      "multilabel-indicator multilabel-indicator\n",
      "float32 float32\n",
      "(12914, 2) (12914, 2)\n",
      "Evaluating in combined mode on test set\n",
      "multilabel-indicator multilabel-indicator\n",
      "float32 float32\n",
      "(12914, 56) (12914, 56)\n",
      "Training and Evaluating on task 29\n",
      "Train data shape is  (619, 120)\n",
      "Train Labels shape is  (619, 2)\n",
      "Classes trained are: 56 to 58\n",
      "Samples with all negative labels 0\n",
      "Augmenting class labels...\n"
     ]
    },
    {
     "name": "stderr",
     "output_type": "stream",
     "text": [
      "  0%|          | 0/1 [00:00<?, ?it/s]"
     ]
    },
    {
     "name": "stdout",
     "output_type": "stream",
     "text": [
      "Train Labels shape is  (619, 58)\n",
      "Output dimensions: 58\n",
      "growing model size ...\n"
     ]
    },
    {
     "name": "stderr",
     "output_type": "stream",
     "text": [
      "100%|██████████| 1/1 [01:07<00:00, 67.53s/it]\n"
     ]
    },
    {
     "name": "stdout",
     "output_type": "stream",
     "text": [
      "Evaluating in individual mode on test set\n",
      "multilabel-indicator multilabel-indicator\n",
      "float32 float32\n",
      "(12914, 2) (12914, 2)\n",
      "Evaluating in combined mode on test set\n",
      "multilabel-indicator multilabel-indicator\n",
      "float32 float32\n",
      "(12914, 58) (12914, 58)\n",
      "Training and Evaluating on task 30\n",
      "Train data shape is  (619, 120)\n",
      "Train Labels shape is  (619, 2)\n",
      "Classes trained are: 58 to 60\n",
      "Samples with all negative labels 0\n",
      "Augmenting class labels...\n"
     ]
    },
    {
     "name": "stderr",
     "output_type": "stream",
     "text": [
      "  0%|          | 0/1 [00:00<?, ?it/s]"
     ]
    },
    {
     "name": "stdout",
     "output_type": "stream",
     "text": [
      "Train Labels shape is  (619, 60)\n",
      "Output dimensions: 60\n",
      "growing model size ...\n"
     ]
    },
    {
     "name": "stderr",
     "output_type": "stream",
     "text": [
      "100%|██████████| 1/1 [01:07<00:00, 67.41s/it]\n"
     ]
    },
    {
     "name": "stdout",
     "output_type": "stream",
     "text": [
      "Evaluating in individual mode on test set\n",
      "multilabel-indicator multilabel-indicator\n",
      "float32 float32\n",
      "(12914, 2) (12914, 2)\n",
      "Evaluating in combined mode on test set\n",
      "multilabel-indicator multilabel-indicator\n",
      "float32 float32\n",
      "(12914, 60) (12914, 60)\n",
      "Training and Evaluating on task 31\n",
      "Train data shape is  (619, 120)\n",
      "Train Labels shape is  (619, 2)\n",
      "Classes trained are: 60 to 62\n",
      "Samples with all negative labels 0\n",
      "Augmenting class labels...\n"
     ]
    },
    {
     "name": "stderr",
     "output_type": "stream",
     "text": [
      "  0%|          | 0/1 [00:00<?, ?it/s]"
     ]
    },
    {
     "name": "stdout",
     "output_type": "stream",
     "text": [
      "Train Labels shape is  (619, 62)\n",
      "Output dimensions: 62\n",
      "growing model size ...\n"
     ]
    },
    {
     "name": "stderr",
     "output_type": "stream",
     "text": [
      "100%|██████████| 1/1 [01:07<00:00, 67.13s/it]\n"
     ]
    },
    {
     "name": "stdout",
     "output_type": "stream",
     "text": [
      "Evaluating in individual mode on test set\n",
      "multilabel-indicator multilabel-indicator\n",
      "float32 float32\n",
      "(12914, 2) (12914, 2)\n",
      "Evaluating in combined mode on test set\n",
      "multilabel-indicator multilabel-indicator\n",
      "float32 float32\n",
      "(12914, 62) (12914, 62)\n",
      "Training and Evaluating on task 32\n",
      "Train data shape is  (619, 120)\n",
      "Train Labels shape is  (619, 2)\n",
      "Classes trained are: 62 to 64\n",
      "Samples with all negative labels 0\n",
      "Augmenting class labels...\n"
     ]
    },
    {
     "name": "stderr",
     "output_type": "stream",
     "text": [
      "  0%|          | 0/1 [00:00<?, ?it/s]"
     ]
    },
    {
     "name": "stdout",
     "output_type": "stream",
     "text": [
      "Train Labels shape is  (619, 64)\n",
      "Output dimensions: 64\n",
      "growing model size ...\n"
     ]
    },
    {
     "name": "stderr",
     "output_type": "stream",
     "text": [
      "100%|██████████| 1/1 [01:07<00:00, 67.14s/it]\n"
     ]
    },
    {
     "name": "stdout",
     "output_type": "stream",
     "text": [
      "Evaluating in individual mode on test set\n",
      "multilabel-indicator multilabel-indicator\n",
      "float32 float32\n",
      "(12914, 2) (12914, 2)\n",
      "Evaluating in combined mode on test set\n",
      "multilabel-indicator multilabel-indicator\n",
      "float32 float32\n",
      "(12914, 64) (12914, 64)\n",
      "Training and Evaluating on task 33\n",
      "Train data shape is  (619, 120)\n",
      "Train Labels shape is  (619, 2)\n",
      "Classes trained are: 64 to 66\n",
      "Samples with all negative labels 2\n",
      "Augmenting class labels...\n"
     ]
    },
    {
     "name": "stderr",
     "output_type": "stream",
     "text": [
      "  0%|          | 0/1 [00:00<?, ?it/s]"
     ]
    },
    {
     "name": "stdout",
     "output_type": "stream",
     "text": [
      "Train Labels shape is  (619, 66)\n",
      "Output dimensions: 66\n",
      "growing model size ...\n"
     ]
    },
    {
     "name": "stderr",
     "output_type": "stream",
     "text": [
      "100%|██████████| 1/1 [01:07<00:00, 67.10s/it]\n"
     ]
    },
    {
     "name": "stdout",
     "output_type": "stream",
     "text": [
      "Evaluating in individual mode on test set\n",
      "multilabel-indicator multilabel-indicator\n",
      "float32 float32\n",
      "(12914, 2) (12914, 2)\n",
      "Evaluating in combined mode on test set\n",
      "multilabel-indicator multilabel-indicator\n",
      "float32 float32\n",
      "(12914, 66) (12914, 66)\n",
      "Training and Evaluating on task 34\n",
      "Train data shape is  (619, 120)\n",
      "Train Labels shape is  (619, 2)\n",
      "Classes trained are: 66 to 68\n",
      "Samples with all negative labels 1\n",
      "Augmenting class labels...\n"
     ]
    },
    {
     "name": "stderr",
     "output_type": "stream",
     "text": [
      "  0%|          | 0/1 [00:00<?, ?it/s]"
     ]
    },
    {
     "name": "stdout",
     "output_type": "stream",
     "text": [
      "Train Labels shape is  (619, 68)\n",
      "Output dimensions: 68\n",
      "growing model size ...\n"
     ]
    },
    {
     "name": "stderr",
     "output_type": "stream",
     "text": [
      "100%|██████████| 1/1 [01:07<00:00, 67.22s/it]\n"
     ]
    },
    {
     "name": "stdout",
     "output_type": "stream",
     "text": [
      "Evaluating in individual mode on test set\n",
      "multilabel-indicator multilabel-indicator\n",
      "float32 float32\n",
      "(12914, 2) (12914, 2)\n",
      "Evaluating in combined mode on test set\n",
      "multilabel-indicator multilabel-indicator\n",
      "float32 float32\n",
      "(12914, 68) (12914, 68)\n",
      "Training and Evaluating on task 35\n",
      "Train data shape is  (619, 120)\n",
      "Train Labels shape is  (619, 2)\n",
      "Classes trained are: 68 to 70\n",
      "Samples with all negative labels 0\n",
      "Augmenting class labels...\n"
     ]
    },
    {
     "name": "stderr",
     "output_type": "stream",
     "text": [
      "  0%|          | 0/1 [00:00<?, ?it/s]"
     ]
    },
    {
     "name": "stdout",
     "output_type": "stream",
     "text": [
      "Train Labels shape is  (619, 70)\n",
      "Output dimensions: 70\n",
      "growing model size ...\n"
     ]
    },
    {
     "name": "stderr",
     "output_type": "stream",
     "text": [
      "100%|██████████| 1/1 [01:08<00:00, 68.10s/it]\n"
     ]
    },
    {
     "name": "stdout",
     "output_type": "stream",
     "text": [
      "Evaluating in individual mode on test set\n",
      "multilabel-indicator multilabel-indicator\n",
      "float32 float32\n",
      "(12914, 2) (12914, 2)\n",
      "Evaluating in combined mode on test set\n",
      "multilabel-indicator multilabel-indicator\n",
      "float32 float32\n",
      "(12914, 70) (12914, 70)\n",
      "Training and Evaluating on task 36\n",
      "Train data shape is  (619, 120)\n",
      "Train Labels shape is  (619, 2)\n",
      "Classes trained are: 70 to 72\n",
      "Samples with all negative labels 0\n",
      "Augmenting class labels...\n"
     ]
    },
    {
     "name": "stderr",
     "output_type": "stream",
     "text": [
      "  0%|          | 0/1 [00:00<?, ?it/s]"
     ]
    },
    {
     "name": "stdout",
     "output_type": "stream",
     "text": [
      "Train Labels shape is  (619, 72)\n",
      "Output dimensions: 72\n",
      "growing model size ...\n"
     ]
    },
    {
     "name": "stderr",
     "output_type": "stream",
     "text": [
      "100%|██████████| 1/1 [01:06<00:00, 66.78s/it]\n"
     ]
    },
    {
     "name": "stdout",
     "output_type": "stream",
     "text": [
      "Evaluating in individual mode on test set\n",
      "multilabel-indicator multilabel-indicator\n",
      "float32 float32\n",
      "(12914, 2) (12914, 2)\n",
      "Evaluating in combined mode on test set\n",
      "multilabel-indicator multilabel-indicator\n",
      "float32 float32\n",
      "(12914, 72) (12914, 72)\n",
      "Training and Evaluating on task 37\n",
      "Train data shape is  (619, 120)\n",
      "Train Labels shape is  (619, 2)\n",
      "Classes trained are: 72 to 74\n",
      "Samples with all negative labels 0\n",
      "Augmenting class labels...\n"
     ]
    },
    {
     "name": "stderr",
     "output_type": "stream",
     "text": [
      "  0%|          | 0/1 [00:00<?, ?it/s]"
     ]
    },
    {
     "name": "stdout",
     "output_type": "stream",
     "text": [
      "Train Labels shape is  (619, 74)\n",
      "Output dimensions: 74\n",
      "growing model size ...\n"
     ]
    },
    {
     "name": "stderr",
     "output_type": "stream",
     "text": [
      "100%|██████████| 1/1 [01:07<00:00, 67.30s/it]\n"
     ]
    },
    {
     "name": "stdout",
     "output_type": "stream",
     "text": [
      "Evaluating in individual mode on test set\n",
      "multilabel-indicator multilabel-indicator\n",
      "float32 float32\n",
      "(12914, 2) (12914, 2)\n",
      "Evaluating in combined mode on test set\n",
      "multilabel-indicator multilabel-indicator\n",
      "float32 float32\n",
      "(12914, 74) (12914, 74)\n",
      "Training and Evaluating on task 38\n",
      "Train data shape is  (619, 120)\n",
      "Train Labels shape is  (619, 2)\n",
      "Classes trained are: 74 to 76\n",
      "Samples with all negative labels 1\n",
      "Augmenting class labels...\n"
     ]
    },
    {
     "name": "stderr",
     "output_type": "stream",
     "text": [
      "  0%|          | 0/1 [00:00<?, ?it/s]"
     ]
    },
    {
     "name": "stdout",
     "output_type": "stream",
     "text": [
      "Train Labels shape is  (619, 76)\n",
      "Output dimensions: 76\n",
      "growing model size ...\n"
     ]
    },
    {
     "name": "stderr",
     "output_type": "stream",
     "text": [
      "100%|██████████| 1/1 [01:07<00:00, 67.33s/it]\n"
     ]
    },
    {
     "name": "stdout",
     "output_type": "stream",
     "text": [
      "Evaluating in individual mode on test set\n",
      "multilabel-indicator multilabel-indicator\n",
      "float32 float32\n",
      "(12914, 2) (12914, 2)\n",
      "Evaluating in combined mode on test set\n",
      "multilabel-indicator multilabel-indicator\n",
      "float32 float32\n",
      "(12914, 76) (12914, 76)\n",
      "Training and Evaluating on task 39\n",
      "Train data shape is  (619, 120)\n",
      "Train Labels shape is  (619, 2)\n",
      "Classes trained are: 76 to 78\n",
      "Samples with all negative labels 0\n",
      "Augmenting class labels...\n"
     ]
    },
    {
     "name": "stderr",
     "output_type": "stream",
     "text": [
      "  0%|          | 0/1 [00:00<?, ?it/s]"
     ]
    },
    {
     "name": "stdout",
     "output_type": "stream",
     "text": [
      "Train Labels shape is  (619, 78)\n",
      "Output dimensions: 78\n",
      "growing model size ...\n"
     ]
    },
    {
     "name": "stderr",
     "output_type": "stream",
     "text": [
      "100%|██████████| 1/1 [01:07<00:00, 67.06s/it]\n"
     ]
    },
    {
     "name": "stdout",
     "output_type": "stream",
     "text": [
      "Evaluating in individual mode on test set\n",
      "multilabel-indicator multilabel-indicator\n",
      "float32 float32\n",
      "(12914, 2) (12914, 2)\n",
      "Evaluating in combined mode on test set\n",
      "multilabel-indicator multilabel-indicator\n",
      "float32 float32\n",
      "(12914, 78) (12914, 78)\n",
      "Training and Evaluating on task 40\n",
      "Train data shape is  (619, 120)\n",
      "Train Labels shape is  (619, 2)\n",
      "Classes trained are: 78 to 80\n",
      "Samples with all negative labels 1\n",
      "Augmenting class labels...\n"
     ]
    },
    {
     "name": "stderr",
     "output_type": "stream",
     "text": [
      "  0%|          | 0/1 [00:00<?, ?it/s]"
     ]
    },
    {
     "name": "stdout",
     "output_type": "stream",
     "text": [
      "Train Labels shape is  (619, 80)\n",
      "Output dimensions: 80\n",
      "growing model size ...\n"
     ]
    },
    {
     "name": "stderr",
     "output_type": "stream",
     "text": [
      "100%|██████████| 1/1 [01:07<00:00, 67.16s/it]\n"
     ]
    },
    {
     "name": "stdout",
     "output_type": "stream",
     "text": [
      "Evaluating in individual mode on test set\n",
      "multilabel-indicator multilabel-indicator\n",
      "float32 float32\n",
      "(12914, 2) (12914, 2)\n",
      "Evaluating in combined mode on test set\n",
      "multilabel-indicator multilabel-indicator\n",
      "float32 float32\n",
      "(12914, 80) (12914, 80)\n",
      "Training and Evaluating on task 41\n",
      "Train data shape is  (619, 120)\n",
      "Train Labels shape is  (619, 2)\n",
      "Classes trained are: 80 to 82\n",
      "Samples with all negative labels 1\n",
      "Augmenting class labels...\n"
     ]
    },
    {
     "name": "stderr",
     "output_type": "stream",
     "text": [
      "  0%|          | 0/1 [00:00<?, ?it/s]"
     ]
    },
    {
     "name": "stdout",
     "output_type": "stream",
     "text": [
      "Train Labels shape is  (619, 82)\n",
      "Output dimensions: 82\n",
      "growing model size ...\n"
     ]
    },
    {
     "name": "stderr",
     "output_type": "stream",
     "text": [
      "100%|██████████| 1/1 [01:07<00:00, 67.10s/it]\n"
     ]
    },
    {
     "name": "stdout",
     "output_type": "stream",
     "text": [
      "Evaluating in individual mode on test set\n",
      "multilabel-indicator multilabel-indicator\n",
      "float32 float32\n",
      "(12914, 2) (12914, 2)\n",
      "Evaluating in combined mode on test set\n",
      "multilabel-indicator multilabel-indicator\n",
      "float32 float32\n",
      "(12914, 82) (12914, 82)\n",
      "Training and Evaluating on task 42\n",
      "Train data shape is  (619, 120)\n",
      "Train Labels shape is  (619, 2)\n",
      "Classes trained are: 82 to 84\n",
      "Samples with all negative labels 0\n",
      "Augmenting class labels...\n"
     ]
    },
    {
     "name": "stderr",
     "output_type": "stream",
     "text": [
      "  0%|          | 0/1 [00:00<?, ?it/s]"
     ]
    },
    {
     "name": "stdout",
     "output_type": "stream",
     "text": [
      "Train Labels shape is  (619, 84)\n",
      "Output dimensions: 84\n",
      "growing model size ...\n"
     ]
    },
    {
     "name": "stderr",
     "output_type": "stream",
     "text": [
      "100%|██████████| 1/1 [01:06<00:00, 66.87s/it]\n"
     ]
    },
    {
     "name": "stdout",
     "output_type": "stream",
     "text": [
      "Evaluating in individual mode on test set\n",
      "multilabel-indicator multilabel-indicator\n",
      "float32 float32\n",
      "(12914, 2) (12914, 2)\n",
      "Evaluating in combined mode on test set\n",
      "multilabel-indicator multilabel-indicator\n",
      "float32 float32\n",
      "(12914, 84) (12914, 84)\n",
      "Training and Evaluating on task 43\n",
      "Train data shape is  (619, 120)\n",
      "Train Labels shape is  (619, 2)\n",
      "Classes trained are: 84 to 86\n",
      "Samples with all negative labels 1\n",
      "Augmenting class labels...\n"
     ]
    },
    {
     "name": "stderr",
     "output_type": "stream",
     "text": [
      "  0%|          | 0/1 [00:00<?, ?it/s]"
     ]
    },
    {
     "name": "stdout",
     "output_type": "stream",
     "text": [
      "Train Labels shape is  (619, 86)\n",
      "Output dimensions: 86\n",
      "growing model size ...\n"
     ]
    },
    {
     "name": "stderr",
     "output_type": "stream",
     "text": [
      "100%|██████████| 1/1 [01:07<00:00, 67.13s/it]\n"
     ]
    },
    {
     "name": "stdout",
     "output_type": "stream",
     "text": [
      "Evaluating in individual mode on test set\n",
      "multilabel-indicator multilabel-indicator\n",
      "float32 float32\n",
      "(12914, 2) (12914, 2)\n",
      "Evaluating in combined mode on test set\n",
      "multilabel-indicator multilabel-indicator\n",
      "float32 float32\n",
      "(12914, 86) (12914, 86)\n",
      "Training and Evaluating on task 44\n",
      "Train data shape is  (619, 120)\n",
      "Train Labels shape is  (619, 2)\n",
      "Classes trained are: 86 to 88\n",
      "Samples with all negative labels 1\n",
      "Augmenting class labels...\n"
     ]
    },
    {
     "name": "stderr",
     "output_type": "stream",
     "text": [
      "  0%|          | 0/1 [00:00<?, ?it/s]"
     ]
    },
    {
     "name": "stdout",
     "output_type": "stream",
     "text": [
      "Train Labels shape is  (619, 88)\n",
      "Output dimensions: 88\n",
      "growing model size ...\n"
     ]
    },
    {
     "name": "stderr",
     "output_type": "stream",
     "text": [
      "100%|██████████| 1/1 [01:07<00:00, 67.55s/it]\n"
     ]
    },
    {
     "name": "stdout",
     "output_type": "stream",
     "text": [
      "Evaluating in individual mode on test set\n",
      "multilabel-indicator multilabel-indicator\n",
      "float32 float32\n",
      "(12914, 2) (12914, 2)\n",
      "Evaluating in combined mode on test set\n",
      "multilabel-indicator multilabel-indicator\n",
      "float32 float32\n",
      "(12914, 88) (12914, 88)\n",
      "Training and Evaluating on task 45\n",
      "Train data shape is  (619, 120)\n",
      "Train Labels shape is  (619, 2)\n",
      "Classes trained are: 88 to 90\n",
      "Samples with all negative labels 0\n",
      "Augmenting class labels...\n"
     ]
    },
    {
     "name": "stderr",
     "output_type": "stream",
     "text": [
      "  0%|          | 0/1 [00:00<?, ?it/s]"
     ]
    },
    {
     "name": "stdout",
     "output_type": "stream",
     "text": [
      "Train Labels shape is  (619, 90)\n",
      "Output dimensions: 90\n",
      "growing model size ...\n"
     ]
    },
    {
     "name": "stderr",
     "output_type": "stream",
     "text": [
      "100%|██████████| 1/1 [01:07<00:00, 67.26s/it]\n"
     ]
    },
    {
     "name": "stdout",
     "output_type": "stream",
     "text": [
      "Evaluating in individual mode on test set\n",
      "multilabel-indicator multilabel-indicator\n",
      "float32 float32\n",
      "(12914, 2) (12914, 2)\n",
      "Evaluating in combined mode on test set\n",
      "multilabel-indicator multilabel-indicator\n",
      "float32 float32\n",
      "(12914, 90) (12914, 90)\n",
      "Training and Evaluating on task 46\n",
      "Train data shape is  (619, 120)\n",
      "Train Labels shape is  (619, 2)\n",
      "Classes trained are: 90 to 92\n",
      "Samples with all negative labels 1\n",
      "Augmenting class labels...\n"
     ]
    },
    {
     "name": "stderr",
     "output_type": "stream",
     "text": [
      "  0%|          | 0/1 [00:00<?, ?it/s]"
     ]
    },
    {
     "name": "stdout",
     "output_type": "stream",
     "text": [
      "Train Labels shape is  (619, 92)\n",
      "Output dimensions: 92\n",
      "growing model size ...\n"
     ]
    },
    {
     "name": "stderr",
     "output_type": "stream",
     "text": [
      "100%|██████████| 1/1 [01:08<00:00, 68.26s/it]\n"
     ]
    },
    {
     "name": "stdout",
     "output_type": "stream",
     "text": [
      "Evaluating in individual mode on test set\n",
      "multilabel-indicator multilabel-indicator\n",
      "float32 float32\n",
      "(12914, 2) (12914, 2)\n",
      "Evaluating in combined mode on test set\n",
      "multilabel-indicator multilabel-indicator\n",
      "float32 float32\n",
      "(12914, 92) (12914, 92)\n",
      "Training and Evaluating on task 47\n",
      "Train data shape is  (619, 120)\n",
      "Train Labels shape is  (619, 2)\n",
      "Classes trained are: 92 to 94\n",
      "Samples with all negative labels 0\n",
      "Augmenting class labels...\n"
     ]
    },
    {
     "name": "stderr",
     "output_type": "stream",
     "text": [
      "  0%|          | 0/1 [00:00<?, ?it/s]"
     ]
    },
    {
     "name": "stdout",
     "output_type": "stream",
     "text": [
      "Train Labels shape is  (619, 94)\n",
      "Output dimensions: 94\n",
      "growing model size ...\n"
     ]
    },
    {
     "name": "stderr",
     "output_type": "stream",
     "text": [
      "100%|██████████| 1/1 [01:08<00:00, 68.15s/it]\n"
     ]
    },
    {
     "name": "stdout",
     "output_type": "stream",
     "text": [
      "Evaluating in individual mode on test set\n",
      "multilabel-indicator multilabel-indicator\n",
      "float32 float32\n",
      "(12914, 2) (12914, 2)\n",
      "Evaluating in combined mode on test set\n",
      "multilabel-indicator multilabel-indicator\n",
      "float32 float32\n",
      "(12914, 94) (12914, 94)\n",
      "Training and Evaluating on task 48\n",
      "Train data shape is  (619, 120)\n",
      "Train Labels shape is  (619, 2)\n",
      "Classes trained are: 94 to 96\n",
      "Samples with all negative labels 1\n",
      "Augmenting class labels...\n"
     ]
    },
    {
     "name": "stderr",
     "output_type": "stream",
     "text": [
      "  0%|          | 0/1 [00:00<?, ?it/s]"
     ]
    },
    {
     "name": "stdout",
     "output_type": "stream",
     "text": [
      "Train Labels shape is  (619, 96)\n",
      "Output dimensions: 96\n",
      "growing model size ...\n"
     ]
    },
    {
     "name": "stderr",
     "output_type": "stream",
     "text": [
      "100%|██████████| 1/1 [01:07<00:00, 67.21s/it]\n"
     ]
    },
    {
     "name": "stdout",
     "output_type": "stream",
     "text": [
      "Evaluating in individual mode on test set\n",
      "multilabel-indicator multilabel-indicator\n",
      "float32 float32\n",
      "(12914, 2) (12914, 2)\n",
      "Evaluating in combined mode on test set\n",
      "multilabel-indicator multilabel-indicator\n",
      "float32 float32\n",
      "(12914, 96) (12914, 96)\n",
      "Training and Evaluating on task 49\n",
      "Train data shape is  (619, 120)\n",
      "Train Labels shape is  (619, 2)\n",
      "Classes trained are: 96 to 98\n",
      "Samples with all negative labels 1\n",
      "Augmenting class labels...\n"
     ]
    },
    {
     "name": "stderr",
     "output_type": "stream",
     "text": [
      "  0%|          | 0/1 [00:00<?, ?it/s]"
     ]
    },
    {
     "name": "stdout",
     "output_type": "stream",
     "text": [
      "Train Labels shape is  (619, 98)\n",
      "Output dimensions: 98\n",
      "growing model size ...\n"
     ]
    },
    {
     "name": "stderr",
     "output_type": "stream",
     "text": [
      "100%|██████████| 1/1 [01:07<00:00, 67.65s/it]\n"
     ]
    },
    {
     "name": "stdout",
     "output_type": "stream",
     "text": [
      "Evaluating in individual mode on test set\n",
      "multilabel-indicator multilabel-indicator\n",
      "float32 float32\n",
      "(12914, 2) (12914, 2)\n",
      "Evaluating in combined mode on test set\n",
      "multilabel-indicator multilabel-indicator\n",
      "float32 float32\n",
      "(12914, 98) (12914, 98)\n",
      "Training and Evaluating on task 50\n",
      "Train data shape is  (662, 120)\n",
      "Train Labels shape is  (662, 3)\n",
      "Classes trained are: 98 to 101\n",
      "Samples with all negative labels 2\n",
      "Augmenting class labels...\n"
     ]
    },
    {
     "name": "stderr",
     "output_type": "stream",
     "text": [
      "  0%|          | 0/1 [00:00<?, ?it/s]"
     ]
    },
    {
     "name": "stdout",
     "output_type": "stream",
     "text": [
      "Train Labels shape is  (662, 101)\n",
      "Output dimensions: 101\n",
      "growing model size ...\n"
     ]
    },
    {
     "name": "stderr",
     "output_type": "stream",
     "text": [
      "100%|██████████| 1/1 [01:16<00:00, 76.43s/it]\n"
     ]
    },
    {
     "name": "stdout",
     "output_type": "stream",
     "text": [
      "Evaluating in individual mode on test set\n",
      "multilabel-indicator multilabel-indicator\n",
      "float32 float32\n",
      "(12914, 3) (12914, 3)\n",
      "Evaluating in combined mode on test set\n",
      "multilabel-indicator multilabel-indicator\n",
      "float32 float32\n",
      "(12914, 101) (12914, 101)\n",
      "Evaluating in individual mode on test set\n",
      "|                     |          0 |           1 |          2 |          3 |           4 |           5 |         6 |           7 |          8 |          9 |         10 |         11 |          12 |         13 |         14 |          15 |        16 |        17 |         18 |         19 |         20 |         21 |        22 |          23 |          24 |         25 |          26 |         27 |        28 |        29 |         30 |          31 |         32 |       33 |        34 |         35 |          36 |          37 |        38 |        39 |         40 |         41 |          42 |          43 |         44 |         45 |         46 |        47 |        48 |         49 |\n",
      "|:--------------------|-----------:|------------:|-----------:|-----------:|------------:|------------:|----------:|------------:|-----------:|-----------:|-----------:|-----------:|------------:|-----------:|-----------:|------------:|----------:|----------:|-----------:|-----------:|-----------:|-----------:|----------:|------------:|------------:|-----------:|------------:|-----------:|----------:|----------:|-----------:|------------:|-----------:|---------:|----------:|-----------:|------------:|------------:|----------:|----------:|-----------:|-----------:|------------:|------------:|-----------:|-----------:|-----------:|----------:|----------:|-----------:|\n",
      "| hamming loss        | 0.00483971 | 0.0287672   | 0.993573   | 0.997987   | 0.499032    | 0.0585024   | 0.0059238 | 0.999458    | 0.969297   | 0.500348   | 0.506659   | 0.495005   | 0.419545    | 0.00909865 | 0.498955   | 0.561871    | 0.193317  | 0.0131253 | 0.00623354 | 0.00882763 | 0.00348459 | 0.959734   | 0.979673  | 0.499187    | 0.501704    | 0.111158   | 0.499303    | 0.505846   | 0.491366  | 0.0124671 | 0.499574   | 0.998374    | 0.682902   | 0.550836 | 0.975492  | 0.00344587 | 0.500503    | 0.532562    | 0.989546  | 0.546151  | 0.00410407 | 0.983971   | 0.570505    | 0.497793    | 0.50151    | 0.498916   | 0.461127   | 0.480564  | 0.535427  | 0.331449   |\n",
      "| zero_one_loss       | 0.00967942 | 0.0573022   | 1          | 1          | 0.997677    | 0.116076    | 0.0118476 | 1           | 1          | 0.994889   | 0.997909   | 0.987068   | 0.838934    | 0.0181973  | 0.997909   | 0.998606    | 0.378969  | 0.0262506 | 0.0124671  | 0.0176553  | 0.00696918 | 0.999923   | 1         | 0.998142    | 0.999768    | 0.219452   | 0.998529    | 0.988772   | 0.934799  | 0.0249342 | 0.989856   | 1           | 0.984435   | 0.850705 | 1         | 0.00689175 | 0.998761    | 0.999226    | 1         | 0.992411  | 0.00820815 | 1          | 0.998993    | 0.994812    | 0.997445   | 0.991714   | 0.914666   | 0.922023  | 0.981493  | 0.98188    |\n",
      "| one_error           | 0          | 0.000232306 | 0.987146   | 0.995973   | 0.000387177 | 0.000929224 | 0         | 0.998916    | 0.938594   | 0.00580765 | 0.0154096  | 0.00294254 | 0.000154871 | 0          | 0          | 0.125136    | 0.0076661 | 0         | 0          | 0          | 0          | 0.919545   | 0.959346  | 0.000232306 | 0.00363946  | 0.00286511 | 7.74353e-05 | 0.0229209  | 0.0479325 | 0         | 0.00929224 | 0.996748    | 0.381369   | 0.250968 | 0.950983  | 0          | 0.00224562  | 0.0658975   | 0.979092  | 0.0998916 | 0          | 0.967942   | 0.142016    | 0.000774353 | 0.00557534 | 0.00611739 | 0.00758866 | 0.0391048 | 0.0893604 | 0          |\n",
      "| micro av. jaccard   | 0          | 0           | 0.00642713 | 0.00201332 | 0.00232216  | 0           | 0         | 0.000542047 | 0.0307031  | 0.00508122 | 0.00205903 | 0.01297    | 0.16117     | 0          | 0.00378788 | 0.00158239  | 0.617336  | 0         | 0          | 0          | 0          | 0.0402664  | 0.0203268 | 0.00185802  | 0.000231464 | 0          | 0.00147116  | 0.0117994  | 0.0627723 | 0         | 0.0100506  | 0.00162614  | 0.0126511  | 0        | 0.0245083 | 0          | 0.00123619  | 0.00079907  | 0.0104538 | 0.0192588 | 0          | 0.0160291  | 0.000881475 | 0.00518415  | 0.0025412  | 0.00838784 | 0.0870765  | 0.0814771 | 0.0834438 | 0.0186473  |\n",
      "| macro av. jaccard   | 0          | 0           | 0.00642713 | 0.00201332 | 0.00116153  | 0           | 0         | 0.000542047 | 0.0307031  | 0.00255537 | 0.00104538 | 0.00650457 | 0.0806102   | 0          | 0.00189717 | 0.000890506 | 0.311871  | 0         | 0          | 0          | 0          | 0.0402664  | 0.0203268 | 0.000929224 | 0.000116153 | 0          | 0.000735636 | 0.00603996 | 0.03291   | 0         | 0.00507201 | 0.00162614  | 0.00875019 | 0        | 0.0245083 | 0          | 0.000619483 | 0.000425894 | 0.0104538 | 0.0107248 | 0          | 0.0160291  | 0.00050333  | 0.00259408  | 0.00127768 | 0.00422023 | 0.0439833  | 0.0426282 | 0.0487455 | 0.00629807 |\n",
      "| micro av. precision | 0          | 0           | 0.00642713 | 0.00201332 | 0.00232306  | 0           | 0         | 0.000542047 | 0.0307031  | 0.00511073 | 0.00209075 | 0.0130091  | 0.16122     | 0          | 0.00379433 | 0.00178101  | 0.623742  | 0         | 0          | 0          | 0          | 0.0402664  | 0.0203268 | 0.00185845  | 0.000232306 | 0          | 0.00147127  | 0.0120799  | 0.06582   | 0         | 0.010144   | 0.00162614  | 0.0175004  | 0        | 0.0245083 | 0          | 0.00123897  | 0.000851789 | 0.0104538 | 0.0214496 | 0          | 0.0160291  | 0.00100666  | 0.00518817  | 0.00255537 | 0.00844045 | 0.0879665  | 0.0852563 | 0.0974911 | 0.0188942  |\n",
      "| macro av. precision | 0          | 0           | 0.00642713 | 0.00201332 | 0.00116153  | 0           | 0         | 0.000542047 | 0.0307031  | 0.00255537 | 0.00104538 | 0.00650457 | 0.0806102   | 0          | 0.00189717 | 0.000890506 | 0.311871  | 0         | 0          | 0          | 0          | 0.0402664  | 0.0203268 | 0.000929224 | 0.000116153 | 0          | 0.000735636 | 0.00603996 | 0.03291   | 0         | 0.00507201 | 0.00162614  | 0.00875019 | 0        | 0.0245083 | 0          | 0.000619483 | 0.000425894 | 0.0104538 | 0.0107248 | 0          | 0.0160291  | 0.00050333  | 0.00259408  | 0.00127768 | 0.00422023 | 0.0439833  | 0.0426282 | 0.0487455 | 0.00629807 |\n",
      "| micro av. recall    | 0          | 0           | 1          | 1          | 0.857143    | 0           | 0         | 1           | 1          | 0.468085   | 0.119469   | 0.811594   | 0.998082    | 0          | 0.690141   | 0.0139903   | 0.983637  | 0         | 0          | 0          | 0          | 1          | 1         | 0.888889    | 0.06        | 0          | 0.95        | 0.336933   | 0.575491  | 0         | 0.521912   | 1           | 0.0436631  | 0        | 1         | 0          | 0.355556    | 0.0127462   | 1         | 0.158648  | 0          | 1          | 0.00703844  | 0.87013     | 0.314286   | 0.573684   | 0.895899   | 0.647647  | 0.366735  | 0.587952   |\n",
      "| macro av. recall    | 0          | 0           | 1          | 1          | 0.5         | 0           | 0         | 1           | 1          | 0.5        | 0.5        | 0.5        | 0.5         | 0          | 0.5        | 0.5         | 0.5       | 0         | 0          | 0          | 0          | 1          | 1         | 0.5         | 0.5         | 0          | 0.5         | 0.5        | 0.5       | 0         | 0.5        | 1           | 0.5        | 0        | 1         | 0          | 0.5         | 0.5         | 1         | 0.5       | 0          | 1          | 0.5         | 0.5         | 0.5        | 0.5        | 0.5        | 0.5       | 0.5       | 0.333333   |\n",
      "| micro av. f1        | 0          | 0           | 0.0127722  | 0.00401855 | 0.00463356  | 0           | 0         | 0.00108351  | 0.059577   | 0.0101111  | 0.00410959 | 0.0256078  | 0.2776      | 0          | 0.00754717 | 0.00315977  | 0.763399  | 0         | 0          | 0          | 0          | 0.0774155  | 0.0398437 | 0.00370914  | 0.00046282  | 0          | 0.00293799  | 0.0233236  | 0.118129  | 0         | 0.0199013  | 0.003247    | 0.0249862  | 0        | 0.047844  | 0          | 0.00246933  | 0.00159686  | 0.0206912 | 0.0377899 | 0          | 0.0315525  | 0.0017614   | 0.0103148   | 0.00506951 | 0.0166361  | 0.160203   | 0.150677  | 0.154034  | 0.0366119  |\n",
      "| macro av. f1        | 0          | 0           | 0.0127616  | 0.00401468 | 0.00231768  | 0           | 0         | 0.00108308  | 0.0580805  | 0.00508475 | 0.00208639 | 0.0128421  | 0.138837    | 0          | 0.00377999 | 0.00177785  | 0.384138  | 0         | 0          | 0          | 0          | 0.0747911  | 0.0394509 | 0.001855    | 0.000232252 | 0          | 0.00146911  | 0.0119357  | 0.0617553 | 0         | 0.0100422  | 0.00324467  | 0.0171994  | 0        | 0.0473211 | 0          | 0.00123743  | 0.000851064 | 0.0205506 | 0.0209992 | 0          | 0.0313592  | 0.00100565  | 0.00516139  | 0.00254885 | 0.00836981 | 0.0808541  | 0.0785587 | 0.0888309 | 0.0123626  |\n",
      "| imb. av. f1         | 0.999477   | 0.984697    | 0.00559747 | 0.00108409 | 0.83789     | 0.989598    | 0.994118  | 0.000193588 | 0.00410622 | 0.468527   | 0.122749   | 0.80866    | 0.997682    | 0.993968   | 0.68496    | 0.0145056   | 0.983593  | 0.991646  | 0.997719   | 0.991205   | 0.996558   | 0.00370144 | 0.0101052 | 0.862125    | 0.0768576   | 0.980293   | 0.909154    | 0.337609   | 0.5754    | 0.996902  | 0.521743   | 0.000936264 | 0.0437687  | 0.527601 | 0.0130766 | 0.997018   | 0.361681    | 0.0137975   | 0.0035643 | 0.158986  | 0.996219   | 0.00973749 | 0.0074954   | 0.860815    | 0.317729   | 0.572928   | 0.895337   | 0.647496  | 0.366792  | 0.958959   |\n",
      "Evaluating in combined mode on test set\n",
      "|                     |          0 |         1 |          2 |          3 |          4 |          5 |          6 |          7 |          8 |          9 |         10 |         11 |        12 |         13 |         14 |         15 |        16 |        17 |        18 |        19 |        20 |        21 |        22 |        23 |        24 |        25 |        26 |        27 |        28 |        29 |        30 |        31 |        32 |        33 |        34 |        35 |        36 |        37 |        38 |        39 |        40 |        41 |        42 |        43 |        44 |        45 |        46 |        47 |        48 |        49 |\n",
      "|:--------------------|-----------:|----------:|-----------:|-----------:|-----------:|-----------:|-----------:|-----------:|-----------:|-----------:|-----------:|-----------:|----------:|-----------:|-----------:|-----------:|----------:|----------:|----------:|----------:|----------:|----------:|----------:|----------:|----------:|----------:|----------:|----------:|----------:|----------:|----------:|----------:|----------:|----------:|----------:|----------:|----------:|----------:|----------:|----------:|----------:|----------:|----------:|----------:|----------:|----------:|----------:|----------:|----------:|----------:|\n",
      "| hamming loss        | 0.00483971 | 0.0168035 | 0.342393   | 0.506292   | 0.50484    | 0.43045    | 0.369804   | 0.44851    | 0.506376   | 0.505773   | 0.505853   | 0.504949   | 0.49838   | 0.463431   | 0.465799   | 0.471804   | 0.455422  | 0.43085   | 0.408502  | 0.388518  | 0.370183  | 0.396981  | 0.422316  | 0.425518  | 0.428566  | 0.416358  | 0.41943   | 0.422516  | 0.42489   | 0.411143  | 0.413996  | 0.432257  | 0.439853  | 0.443117  | 0.458328  | 0.445692  | 0.447173  | 0.44942   | 0.46327   | 0.465342  | 0.454092  | 0.466708  | 0.469122  | 0.469774  | 0.470479  | 0.471097  | 0.470885  | 0.471087  | 0.4724    | 0.468213  |\n",
      "| zero_one_loss       | 0.00967942 | 0.0669816 | 1          | 1          | 1          | 1          | 1          | 1          | 1          | 1          | 1          | 1          | 1         | 1          | 1          | 1          | 1         | 1         | 1         | 1         | 1         | 1         | 1         | 1         | 1         | 1         | 1         | 1         | 1         | 1         | 1         | 1         | 1         | 1         | 1         | 1         | 1         | 1         | 1         | 1         | 1         | 1         | 1         | 1         | 1         | 1         | 1         | 1         | 1         | 1         |\n",
      "| one_error           | 0          | 0         | 0          | 0          | 0          | 0          | 0          | 0          | 0          | 0          | 0          | 0          | 0         | 0          | 0          | 0          | 0         | 0         | 0         | 0         | 0         | 0         | 0         | 0         | 0         | 0         | 0         | 0         | 0         | 0         | 0         | 0         | 0         | 0         | 0         | 0         | 0         | 0         | 0         | 0         | 0         | 0         | 0         | 0         | 0         | 0         | 0         | 0         | 0         | 0         |\n",
      "| micro av. jaccard   | 0          | 0         | 0.00621816 | 0.00415048 | 0.00378956 | 0.00370404 | 0.00369559 | 0.00281917 | 0.00888324 | 0.00850841 | 0.00792462 | 0.00833872 | 0.0199021 | 0.0198747  | 0.0187432  | 0.0174862  | 0.0544943 | 0.0544071 | 0.0543658 | 0.0543074 | 0.0542843 | 0.052764  | 0.0495901 | 0.0473633 | 0.0452557 | 0.0448118 | 0.0429804 | 0.0416874 | 0.0425464 | 0.0425052 | 0.0412818 | 0.0385253 | 0.0373384 | 0.0360224 | 0.03533   | 0.0353227 | 0.0343257 | 0.0333143 | 0.0320896 | 0.0317179 | 0.0317111 | 0.0309358 | 0.0301107 | 0.0295251 | 0.0289028 | 0.0284401 | 0.0297385 | 0.0308986 | 0.032182  | 0.0319013 |\n",
      "| macro av. jaccard   | 0          | 0         | 0.00214238 | 0.00211011 | 0.0019204  | 0.00160033 | 0.00137171 | 0.001268   | 0.00453857 | 0.00434025 | 0.00404072 | 0.00424604 | 0.0101202 | 0.00939733 | 0.00889732 | 0.00839689 | 0.0262483 | 0.0247901 | 0.0234853 | 0.0223111 | 0.0212486 | 0.0221131 | 0.0220354 | 0.021156  | 0.0203144 | 0.0195331 | 0.0188369 | 0.0183798 | 0.0188809 | 0.0182515 | 0.0178264 | 0.0173201 | 0.0170604 | 0.0165586 | 0.0167858 | 0.0163195 | 0.0158952 | 0.0154881 | 0.015359  | 0.0152431 | 0.0148714 | 0.0148989 | 0.0145641 | 0.0142921 | 0.0140029 | 0.0137902 | 0.0144326 | 0.01502   | 0.0157083 | 0.0154288 |\n",
      "| micro av. precision | 0          | 0         | 0.00642713 | 0.00422023 | 0.00384079 | 0.00384079 | 0.00384079 | 0.00289829 | 0.00907714 | 0.0086805  | 0.00808143 | 0.00849208 | 0.0202404 | 0.0202404  | 0.0190657  | 0.0179134  | 0.0557776 | 0.0557776 | 0.0557776 | 0.0557776 | 0.0557776 | 0.0540542 | 0.0506814 | 0.0483565 | 0.0461691 | 0.0461691 | 0.0442257 | 0.0428863 | 0.0438036 | 0.0438036 | 0.042509  | 0.0395888 | 0.0388271 | 0.0388271 | 0.0379034 | 0.0379034 | 0.0367576 | 0.0356695 | 0.0342286 | 0.0338737 | 0.0338737 | 0.0329345 | 0.0321158 | 0.0314426 | 0.0307381 | 0.0302072 | 0.0315504 | 0.032771  | 0.0342092 | 0.0338763 |\n",
      "| macro av. precision | 0          | 0         | 0.00214238 | 0.00211011 | 0.0019204  | 0.00160033 | 0.00137171 | 0.001268   | 0.00453857 | 0.00434025 | 0.00404072 | 0.00424604 | 0.0101202 | 0.00939733 | 0.00889732 | 0.00839689 | 0.0262483 | 0.0247901 | 0.0234853 | 0.0223111 | 0.0212486 | 0.0221131 | 0.0220354 | 0.021156  | 0.0203144 | 0.0195331 | 0.0188369 | 0.0183798 | 0.0188809 | 0.0182515 | 0.0178264 | 0.0173201 | 0.0170604 | 0.0165586 | 0.0167858 | 0.0163195 | 0.0158952 | 0.0154881 | 0.015359  | 0.0152431 | 0.0148714 | 0.0148989 | 0.0145641 | 0.0142921 | 0.0140029 | 0.0137902 | 0.0144326 | 0.01502   | 0.0157083 | 0.0154288 |\n",
      "| micro av. recall    | 0          | 0         | 0.160542   | 0.200737   | 0.221231   | 0.0942249  | 0.0890485  | 0.0936049  | 0.293708   | 0.300295   | 0.289972   | 0.315891   | 0.543506  | 0.523817   | 0.525618   | 0.423068   | 0.70313   | 0.688882  | 0.682316  | 0.673229  | 0.669708  | 0.688531  | 0.697241  | 0.697516  | 0.695825  | 0.603858  | 0.604176  | 0.598604  | 0.597162  | 0.589152  | 0.588456  | 0.589167  | 0.493367  | 0.332746  | 0.342273  | 0.341588  | 0.341602  | 0.335341  | 0.339276  | 0.332615  | 0.331872  | 0.337651  | 0.325368  | 0.32621   | 0.326185  | 0.327124  | 0.341168  | 0.350989  | 0.351946  | 0.353667  |\n",
      "| macro av. recall    | 0          | 0         | 0.333333   | 0.5        | 0.5        | 0.416667   | 0.357143   | 0.4375     | 0.5        | 0.5        | 0.5        | 0.5        | 0.5       | 0.464286   | 0.466667   | 0.46875    | 0.470588  | 0.444444  | 0.421053  | 0.4       | 0.380952  | 0.409091  | 0.434783  | 0.4375    | 0.44      | 0.423077  | 0.425926  | 0.428571  | 0.431034  | 0.416667  | 0.419355  | 0.4375    | 0.439394  | 0.426471  | 0.442857  | 0.430556  | 0.432432  | 0.434211  | 0.448718  | 0.45      | 0.439024  | 0.452381  | 0.453488  | 0.454545  | 0.455556  | 0.456522  | 0.457447  | 0.458333  | 0.459184  | 0.455446  |\n",
      "| micro av. f1        | 0          | 0         | 0.0123595  | 0.00826666 | 0.0075505  | 0.00738073 | 0.00736397 | 0.0056225  | 0.01761    | 0.0168733  | 0.0157246  | 0.0165395  | 0.0390274 | 0.0389748  | 0.0367967  | 0.0343714  | 0.103356  | 0.103199  | 0.103125  | 0.10302   | 0.102979  | 0.100239  | 0.0944942 | 0.0904429 | 0.0865926 | 0.0857797 | 0.0824183 | 0.0800383 | 0.0816202 | 0.0815444 | 0.0792903 | 0.0741923 | 0.0719889 | 0.0695399 | 0.0682488 | 0.0682352 | 0.0663732 | 0.0644804 | 0.0621837 | 0.0614856 | 0.0614729 | 0.0600151 | 0.0584611 | 0.0573568 | 0.0561818 | 0.0553072 | 0.0577594 | 0.059945  | 0.0623573 | 0.0618301 |\n",
      "| macro av. f1        | 0          | 0         | 0.00425386 | 0.00419407 | 0.00381879 | 0.00318233 | 0.00272771 | 0.00252213 | 0.00869529 | 0.00833423 | 0.00776625 | 0.00818923 | 0.0182391 | 0.0169363  | 0.0160592  | 0.0151666  | 0.0368708 | 0.0348225 | 0.0329897 | 0.0313402 | 0.0298478 | 0.0318907 | 0.0322194 | 0.0309542 | 0.0297253 | 0.0285821 | 0.0275779 | 0.0270192 | 0.028217  | 0.0272765 | 0.0267205 | 0.0259869 | 0.0257206 | 0.0249641 | 0.0256029 | 0.0248917 | 0.0242524 | 0.0236366 | 0.0235574 | 0.0234935 | 0.0229205 | 0.0231214 | 0.0226071 | 0.0222106 | 0.0217736 | 0.0214823 | 0.0227455 | 0.0239083 | 0.0252332 | 0.0248509 |\n",
      "| imb. av. f1         | 0.999477   | 0.998923  | 0.907182   | 0.625451   | 0.69277    | 0.699597   | 0.711047   | 0.38345    | 0.372453   | 0.37452    | 0.366903   | 0.376824   | 0.455745  | 0.464258   | 0.472667   | 0.461327   | 0.463619  | 0.469212  | 0.488497  | 0.493325  | 0.505221  | 0.494416  | 0.490575  | 0.539386  | 0.48884   | 0.490387  | 0.566247  | 0.565525  | 0.565534  | 0.572326  | 0.572069  | 0.545351  | 0.544645  | 0.544643  | 0.542737  | 0.549634  | 0.544578  | 0.531798  | 0.525475  | 0.525034  | 0.530292  | 0.528018  | 0.51785   | 0.527407  | 0.525049  | 0.525313  | 0.526118  | 0.526199  | 0.526147  | 0.537182  |\n",
      "File saved to ./checkpoints_new/mediamill_0_LwF_asy.pkl\n",
      "Number of Tasks: 50\n",
      "Forgetting in task 1: first time imb. av. f1 = 0.9995, after all tasks imb. av. f1 = 0.9995\n",
      "Forgetting in task 2: first time imb. av. f1 = 0.9847, after all tasks imb. av. f1 = 0.9995\n",
      "Forgetting in task 3: first time imb. av. f1 = 0.9944, after all tasks imb. av. f1 = 0.9995\n",
      "Forgetting in task 4: first time imb. av. f1 = 0.9989, after all tasks imb. av. f1 = 0.9995\n",
      "Forgetting in task 5: first time imb. av. f1 = 0.9993, after all tasks imb. av. f1 = 0.9995\n",
      "Forgetting in task 6: first time imb. av. f1 = 0.9896, after all tasks imb. av. f1 = 0.9995\n",
      "Forgetting in task 7: first time imb. av. f1 = 0.9941, after all tasks imb. av. f1 = 0.9995\n",
      "Forgetting in task 8: first time imb. av. f1 = 0.9998, after all tasks imb. av. f1 = 0.9995\n",
      "Forgetting in task 9: first time imb. av. f1 = 0.0351, after all tasks imb. av. f1 = 0.9995\n",
      "Forgetting in task 10: first time imb. av. f1 = 0.9946, after all tasks imb. av. f1 = 0.9995\n",
      "Forgetting in task 11: first time imb. av. f1 = 0.9963, after all tasks imb. av. f1 = 0.9995\n",
      "Forgetting in task 12: first time imb. av. f1 = 0.9951, after all tasks imb. av. f1 = 0.9995\n",
      "Forgetting in task 13: first time imb. av. f1 = 0.9993, after all tasks imb. av. f1 = 0.9995\n",
      "Forgetting in task 14: first time imb. av. f1 = 0.9940, after all tasks imb. av. f1 = 0.9995\n",
      "Forgetting in task 15: first time imb. av. f1 = 0.9976, after all tasks imb. av. f1 = 0.9995\n",
      "Forgetting in task 16: first time imb. av. f1 = 0.9964, after all tasks imb. av. f1 = 0.9995\n",
      "Forgetting in task 17: first time imb. av. f1 = 0.9795, after all tasks imb. av. f1 = 0.9995\n",
      "Forgetting in task 18: first time imb. av. f1 = 0.9916, after all tasks imb. av. f1 = 0.9995\n",
      "Forgetting in task 19: first time imb. av. f1 = 0.9977, after all tasks imb. av. f1 = 0.9995\n",
      "Forgetting in task 20: first time imb. av. f1 = 0.9912, after all tasks imb. av. f1 = 0.9995\n",
      "Forgetting in task 21: first time imb. av. f1 = 0.9966, after all tasks imb. av. f1 = 0.9995\n",
      "Forgetting in task 22: first time imb. av. f1 = 0.9963, after all tasks imb. av. f1 = 0.9995\n",
      "Forgetting in task 23: first time imb. av. f1 = 0.9899, after all tasks imb. av. f1 = 0.9995\n",
      "Forgetting in task 24: first time imb. av. f1 = 0.9995, after all tasks imb. av. f1 = 0.9995\n",
      "Forgetting in task 25: first time imb. av. f1 = 0.9995, after all tasks imb. av. f1 = 0.9995\n",
      "Forgetting in task 26: first time imb. av. f1 = 0.9803, after all tasks imb. av. f1 = 0.9995\n",
      "Forgetting in task 27: first time imb. av. f1 = 0.9998, after all tasks imb. av. f1 = 0.9995\n",
      "Forgetting in task 28: first time imb. av. f1 = 0.9840, after all tasks imb. av. f1 = 0.9995\n",
      "Forgetting in task 29: first time imb. av. f1 = 0.9441, after all tasks imb. av. f1 = 0.9995\n",
      "Forgetting in task 30: first time imb. av. f1 = 0.9969, after all tasks imb. av. f1 = 0.9995\n",
      "Forgetting in task 31: first time imb. av. f1 = 0.9903, after all tasks imb. av. f1 = 0.9995\n",
      "Forgetting in task 32: first time imb. av. f1 = 0.9991, after all tasks imb. av. f1 = 0.9995\n",
      "Forgetting in task 33: first time imb. av. f1 = 0.9665, after all tasks imb. av. f1 = 0.9995\n",
      "Forgetting in task 34: first time imb. av. f1 = 0.5276, after all tasks imb. av. f1 = 0.9995\n",
      "Forgetting in task 35: first time imb. av. f1 = 0.9869, after all tasks imb. av. f1 = 0.9995\n",
      "Forgetting in task 36: first time imb. av. f1 = 0.9970, after all tasks imb. av. f1 = 0.9995\n",
      "Forgetting in task 37: first time imb. av. f1 = 0.9984, after all tasks imb. av. f1 = 0.9995\n",
      "Forgetting in task 38: first time imb. av. f1 = 0.9982, after all tasks imb. av. f1 = 0.9995\n",
      "Forgetting in task 39: first time imb. av. f1 = 0.9964, after all tasks imb. av. f1 = 0.9995\n",
      "Forgetting in task 40: first time imb. av. f1 = 0.9639, after all tasks imb. av. f1 = 0.9995\n",
      "Forgetting in task 41: first time imb. av. f1 = 0.9962, after all tasks imb. av. f1 = 0.9995\n",
      "Forgetting in task 42: first time imb. av. f1 = 0.9903, after all tasks imb. av. f1 = 0.9995\n",
      "Forgetting in task 43: first time imb. av. f1 = 0.0075, after all tasks imb. av. f1 = 0.9995\n",
      "Forgetting in task 44: first time imb. av. f1 = 0.9986, after all tasks imb. av. f1 = 0.9995\n",
      "Forgetting in task 45: first time imb. av. f1 = 0.9965, after all tasks imb. av. f1 = 0.9995\n",
      "Forgetting in task 46: first time imb. av. f1 = 0.9928, after all tasks imb. av. f1 = 0.9995\n",
      "Forgetting in task 47: first time imb. av. f1 = 0.9816, after all tasks imb. av. f1 = 0.9995\n",
      "Forgetting in task 48: first time imb. av. f1 = 0.9399, after all tasks imb. av. f1 = 0.9995\n",
      "Forgetting in task 49: first time imb. av. f1 = 0.8765, after all tasks imb. av. f1 = 0.9995\n",
      "Forgetting in task 50: first time imb. av. f1 = 0.9590, after all tasks imb. av. f1 = 0.9995\n"
     ]
    },
    {
     "data": {
      "image/png": "[encoded data removed]",
      "text/plain": [
       "<Figure size 360x360 with 1 Axes>"
      ]
     },
     "metadata": {
      "needs_background": "light"
     },
     "output_type": "display_data"
    }
   ],
   "source": [
    "hparams = Hyperparameters('mediamill', continual_method, device, num_tasks=50)\n",
    "experiment = ContinualExperiment(hparams)\n",
    "experiment.run()"
   ]
  }
 ],
 "metadata": {
  "kernelspec": {
   "display_name": "DL_gpu",
   "language": "python",
   "name": "dl_gpu"
  },
  "language_info": {
   "codemirror_mode": {
    "name": "ipython",
    "version": 3
   },
   "file_extension": ".py",
   "mimetype": "text/x-python",
   "name": "python",
   "nbconvert_exporter": "python",
   "pygments_lexer": "ipython3",
   "version": "3.7.7"
  }
 },
 "nbformat": 4,
 "nbformat_minor": 2
}
