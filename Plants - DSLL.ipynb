{
 "cells": [
  {
   "cell_type": "code",
   "execution_count": 1,
   "metadata": {},
   "outputs": [],
   "source": [
    "from ContinualEvolvingSNN import *\n",
    "import arff\n",
    "import warnings\n",
    "from scipy.io import loadmat\n",
    "warnings.filterwarnings(\"ignore\")\n",
    "%matplotlib inline\n",
    "np.random.seed(0)\n",
    "torch.manual_seed(0)\n",
    "torch.cuda.manual_seed(0)\n",
    "device = torch.device('cuda:2' if torch.cuda.is_available() else 'cpu')"
   ]
  },
  {
   "cell_type": "markdown",
   "metadata": {},
   "source": [
    "## Load Data and Convert to Spikes"
   ]
  },
  {
   "cell_type": "code",
   "execution_count": 2,
   "metadata": {},
   "outputs": [
    {
     "name": "stderr",
     "output_type": "stream",
     "text": [
      "100%|██████████| 588/588 [00:00<00:00, 5596.52it/s]\n",
      "100%|██████████| 390/390 [00:00<00:00, 7672.72it/s]"
     ]
    },
    {
     "name": "stdout",
     "output_type": "stream",
     "text": [
      "Train data shape:  (588, 1, 300)\n",
      "Train labels shape:  (588, 12)\n",
      "Test data shape:  (390, 1, 300)\n",
      "Test labels shape:  (390, 12)\n"
     ]
    },
    {
     "name": "stderr",
     "output_type": "stream",
     "text": [
      "\n"
     ]
    }
   ],
   "source": [
    "trainpath = '../datasets/PlantPseAAC/PlantPseAAC978_train_MVMD.mat'\n",
    "testpath = '../datasets/PlantPseAAC/PlantPseAAC978_test_MVMD.mat'\n",
    "\n",
    "train_ = loadmat(trainpath)\n",
    "train_data, train_labels = train_['transformed_train_data'], np.array(train_['labels'])\n",
    "\n",
    "test_ = loadmat(testpath)\n",
    "test_data, test_labels = test_['transformed_test_data'], np.array(test_['labels'])\n",
    "\n",
    "a = train_data.max(axis=0)\n",
    "b = train_data.min(axis=0)\n",
    "\n",
    "train_spikes = encoding(train_data, device, a, b)\n",
    "test_spikes = encoding(test_data, device, a, b)\n",
    "print(\"Train data shape: \", np.array(train_spikes).shape)\n",
    "print(\"Train labels shape: \", np.array(train_labels).shape)\n",
    "print(\"Test data shape: \", np.array(test_spikes).shape)\n",
    "print(\"Test labels shape: \", np.array(test_labels).shape)"
   ]
  },
  {
   "cell_type": "markdown",
   "metadata": {},
   "source": [
    "## DSLL Training and Evaluation Mode"
   ]
  },
  {
   "cell_type": "code",
   "execution_count": 3,
   "metadata": {},
   "outputs": [
    {
     "name": "stdout",
     "output_type": "stream",
     "text": [
      "Training and Evaluating on task 1\n",
      "Train data shape is  (588, 1, 300)\n",
      "Train Labels shape is  (588, 4)\n",
      "Classes trained are: 0 to 4\n"
     ]
    },
    {
     "name": "stderr",
     "output_type": "stream",
     "text": [
      "  0%|          | 0/2500 [00:00<?, ?it/s]"
     ]
    },
    {
     "name": "stdout",
     "output_type": "stream",
     "text": [
      "Class 0, class 1 neurons = 1, class 0 neurons = 21\n",
      "Class 1, class 1 neurons = 4, class 0 neurons = 4\n",
      "Class 2, class 1 neurons = 3, class 0 neurons = 9\n",
      "Class 3, class 1 neurons = 6, class 0 neurons = 6\n"
     ]
    },
    {
     "name": "stderr",
     "output_type": "stream",
     "text": [
      "100%|██████████| 2500/2500 [3:05:16<00:00,  4.45s/it]  \n"
     ]
    },
    {
     "name": "stdout",
     "output_type": "stream",
     "text": [
      "Evaluating in individual mode on test set\n",
      "multilabel-indicator multilabel-indicator\n",
      "uint8 int64\n",
      "(390, 4) (390, 4)\n",
      "|                     |        0 |\n",
      "|:--------------------|---------:|\n",
      "| hamming loss        | 0.162821 |\n",
      "| zero_one_loss       | 0.564103 |\n",
      "| one_error           | 0        |\n",
      "| micro av. jaccard   | 0.15894  |\n",
      "| macro av. jaccard   | 0.103087 |\n",
      "| micro av. precision | 0.366412 |\n",
      "| macro av. precision | 0.298519 |\n",
      "| micro av. recall    | 0.219178 |\n",
      "| macro av. recall    | 0.141169 |\n",
      "| micro av. f1        | 0.274286 |\n",
      "| macro av. f1        | 0.177661 |\n",
      "Evaluating in combined mode on test set\n",
      "multilabel-indicator multilabel-indicator\n",
      "uint8 int64\n",
      "(390, 4) (390, 4)\n",
      "|                     |        0 |\n",
      "|:--------------------|---------:|\n",
      "| hamming loss        | 0.162821 |\n",
      "| zero_one_loss       | 0.564103 |\n",
      "| one_error           | 0        |\n",
      "| micro av. jaccard   | 0.15894  |\n",
      "| macro av. jaccard   | 0.103087 |\n",
      "| micro av. precision | 0.366412 |\n",
      "| macro av. precision | 0.298519 |\n",
      "| micro av. recall    | 0.219178 |\n",
      "| macro av. recall    | 0.141169 |\n",
      "| micro av. f1        | 0.274286 |\n",
      "| macro av. f1        | 0.177661 |\n",
      "Training and Evaluating on task 2\n",
      "Train data shape is  (588, 1, 300)\n",
      "Train Labels shape is  (588, 4)\n",
      "Classes trained are: 4 to 8\n",
      "Augmenting class labels...\n",
      "Train Labels shape is  (588, 8)\n"
     ]
    },
    {
     "name": "stderr",
     "output_type": "stream",
     "text": [
      "  0%|          | 0/2500 [00:00<?, ?it/s]"
     ]
    },
    {
     "name": "stdout",
     "output_type": "stream",
     "text": [
      "Class 0, class 1 neurons = 1, class 0 neurons = 29\n",
      "Class 1, class 1 neurons = 7, class 0 neurons = 19\n",
      "Class 2, class 1 neurons = 4, class 0 neurons = 15\n",
      "Class 3, class 1 neurons = 8, class 0 neurons = 8\n",
      "Class 4, class 1 neurons = 3, class 0 neurons = 7\n",
      "Class 5, class 1 neurons = 1, class 0 neurons = 8\n",
      "Class 6, class 1 neurons = 1, class 0 neurons = 8\n",
      "Class 7, class 1 neurons = 8, class 0 neurons = 11\n"
     ]
    },
    {
     "name": "stderr",
     "output_type": "stream",
     "text": [
      "100%|██████████| 2500/2500 [6:47:30<00:00,  9.78s/it]  \n"
     ]
    },
    {
     "name": "stdout",
     "output_type": "stream",
     "text": [
      "Evaluating in individual mode on test set\n",
      "multilabel-indicator multilabel-indicator\n",
      "uint8 int64\n",
      "(390, 4) (390, 4)\n",
      "|                     |         0 |\n",
      "|:--------------------|----------:|\n",
      "| hamming loss        | 0.0641026 |\n",
      "| zero_one_loss       | 0.253846  |\n",
      "| one_error           | 0         |\n",
      "| micro av. jaccard   | 0.0196078 |\n",
      "| macro av. jaccard   | 0.0357143 |\n",
      "| micro av. precision | 0.142857  |\n",
      "| macro av. precision | 0.0833333 |\n",
      "| micro av. recall    | 0.0222222 |\n",
      "| macro av. recall    | 0.05      |\n",
      "| micro av. f1        | 0.0384615 |\n",
      "| macro av. f1        | 0.0625    |\n",
      "Evaluating in combined mode on test set\n",
      "multilabel-indicator multilabel-indicator\n",
      "uint8 int64\n",
      "(390, 8) (390, 8)\n",
      "|                     |         0 |\n",
      "|:--------------------|----------:|\n",
      "| hamming loss        | 0.113782  |\n",
      "| zero_one_loss       | 0.733333  |\n",
      "| one_error           | 0         |\n",
      "| micro av. jaccard   | 0.123457  |\n",
      "| macro av. jaccard   | 0.0668174 |\n",
      "| micro av. precision | 0.342466  |\n",
      "| macro av. precision | 0.247159  |\n",
      "| micro av. recall    | 0.161812  |\n",
      "| macro av. recall    | 0.0922643 |\n",
      "| micro av. f1        | 0.21978   |\n",
      "| macro av. f1        | 0.115673  |\n",
      "Training and Evaluating on task 3\n",
      "Train data shape is  (588, 1, 300)\n",
      "Train Labels shape is  (588, 4)\n",
      "Classes trained are: 8 to 12\n",
      "Augmenting class labels...\n",
      "Train Labels shape is  (588, 12)\n"
     ]
    },
    {
     "name": "stderr",
     "output_type": "stream",
     "text": [
      "  0%|          | 0/2500 [00:00<?, ?it/s]"
     ]
    },
    {
     "name": "stdout",
     "output_type": "stream",
     "text": [
      "Class 0, class 1 neurons = 1, class 0 neurons = 29\n",
      "Class 1, class 1 neurons = 7, class 0 neurons = 27\n",
      "Class 2, class 1 neurons = 7, class 0 neurons = 18\n",
      "Class 3, class 1 neurons = 10, class 0 neurons = 9\n",
      "Class 4, class 1 neurons = 4, class 0 neurons = 28\n",
      "Class 5, class 1 neurons = 3, class 0 neurons = 13\n",
      "Class 6, class 1 neurons = 2, class 0 neurons = 17\n",
      "Class 7, class 1 neurons = 10, class 0 neurons = 27\n",
      "Class 8, class 1 neurons = 3, class 0 neurons = 9\n",
      "Class 9, class 1 neurons = 1, class 0 neurons = 14\n",
      "Class 10, class 1 neurons = 3, class 0 neurons = 11\n",
      "Class 11, class 1 neurons = 4, class 0 neurons = 10\n"
     ]
    },
    {
     "name": "stderr",
     "output_type": "stream",
     "text": [
      "100%|██████████| 2500/2500 [12:15:49<00:00, 17.66s/it]  \n"
     ]
    },
    {
     "name": "stdout",
     "output_type": "stream",
     "text": [
      "Evaluating in individual mode on test set\n",
      "multilabel-indicator multilabel-indicator\n",
      "uint8 int64\n",
      "(390, 4) (390, 4)\n",
      "|                     |         0 |\n",
      "|:--------------------|----------:|\n",
      "| hamming loss        | 0.0685897 |\n",
      "| zero_one_loss       | 0.264103  |\n",
      "| one_error           | 0         |\n",
      "| micro av. jaccard   | 0.195489  |\n",
      "| macro av. jaccard   | 0.122777  |\n",
      "| micro av. precision | 0.464286  |\n",
      "| macro av. precision | 0.312245  |\n",
      "| micro av. recall    | 0.252427  |\n",
      "| macro av. recall    | 0.15572   |\n",
      "| micro av. f1        | 0.327044  |\n",
      "| macro av. f1        | 0.19709   |\n",
      "Evaluating in combined mode on test set\n",
      "multilabel-indicator multilabel-indicator\n",
      "uint8 int64\n",
      "(390, 12) (390, 12)\n",
      "|                     |         0 |\n",
      "|:--------------------|----------:|\n",
      "| hamming loss        | 0.0982906 |\n",
      "| zero_one_loss       | 0.851282  |\n",
      "| one_error           | 0         |\n",
      "| micro av. jaccard   | 0.151292  |\n",
      "| macro av. jaccard   | 0.0866545 |\n",
      "| micro av. precision | 0.386792  |\n",
      "| macro av. precision | 0.301753  |\n",
      "| micro av. recall    | 0.199029  |\n",
      "| macro av. recall    | 0.118533  |\n",
      "| micro av. f1        | 0.262821  |\n",
      "| macro av. f1        | 0.144739  |\n",
      "Evaluating in individual mode on test set\n",
      "|                     |        0 |         1 |         2 |\n",
      "|:--------------------|---------:|----------:|----------:|\n",
      "| hamming loss        | 0.163462 | 0.0628205 | 0.0685897 |\n",
      "| zero_one_loss       | 0.579487 | 0.251282  | 0.264103  |\n",
      "| one_error           | 0        | 0         | 0         |\n",
      "| micro av. jaccard   | 0.172078 | 0.029703  | 0.195489  |\n",
      "| macro av. jaccard   | 0.103464 | 0.0337221 | 0.122777  |\n",
      "| micro av. precision | 0.373239 | 0.214286  | 0.464286  |\n",
      "| macro av. precision | 0.412458 | 0.180556  | 0.312245  |\n",
      "| micro av. recall    | 0.242009 | 0.0333333 | 0.252427  |\n",
      "| macro av. recall    | 0.145494 | 0.054386  | 0.15572   |\n",
      "| micro av. f1        | 0.293629 | 0.0576923 | 0.327044  |\n",
      "| macro av. f1        | 0.176022 | 0.0611062 | 0.19709   |\n",
      "Evaluating in combined mode on test set\n",
      "|                     |        0 |         1 |         2 |\n",
      "|:--------------------|---------:|----------:|----------:|\n",
      "| hamming loss        | 0.163462 | 0.113141  | 0.0982906 |\n",
      "| zero_one_loss       | 0.579487 | 0.720513  | 0.851282  |\n",
      "| one_error           | 0        | 0         | 0         |\n",
      "| micro av. jaccard   | 0.172078 | 0.136919  | 0.151292  |\n",
      "| macro av. jaccard   | 0.103464 | 0.0685933 | 0.0866545 |\n",
      "| micro av. precision | 0.373239 | 0.358974  | 0.386792  |\n",
      "| macro av. precision | 0.412458 | 0.296507  | 0.301753  |\n",
      "| micro av. recall    | 0.242009 | 0.18123   | 0.199029  |\n",
      "| macro av. recall    | 0.145494 | 0.0999398 | 0.118533  |\n",
      "| micro av. f1        | 0.293629 | 0.24086   | 0.262821  |\n",
      "| macro av. f1        | 0.176022 | 0.118564  | 0.144739  |\n",
      "Number of Tasks: 3\n",
      "Forgetting in task 1: first time micro av. f1 = 0.2743, after all tasks micro av. f1 = 0.2936\n",
      "Forgetting in task 2: first time micro av. f1 = 0.0385, after all tasks micro av. f1 = 0.2936\n",
      "Forgetting in task 3: first time micro av. f1 = 0.3270, after all tasks micro av. f1 = 0.2936\n"
     ]
    },
    {
     "data": {
      "image/png": "[encoded data removed]",
      "text/plain": [
       "<Figure size 360x360 with 1 Axes>"
      ]
     },
     "metadata": {
      "needs_background": "light"
     },
     "output_type": "display_data"
    }
   ],
   "source": [
    "hparams_dict = {\n",
    "    'inputs': 300,\n",
    "    'outputs': 12,\n",
    "    'time_constant': 300,\n",
    "    'alpha_a': 0.40,\n",
    "    'alpha_m': 0.07,\n",
    "    'w_max': 100.0,\n",
    "    'w_min': -100.0,\n",
    "    'lr': 1e-3,\n",
    "    'sim_time': 600,\n",
    "    'n_epochs': 2500,\n",
    "    'print_every': 500,\n",
    "    'name': 'Plants',\n",
    "    'tasks': {'samples': None, 'labels': [4, 4, 4]},\n",
    "    'seed': 2,\n",
    "    'ckpt_dir': './checkpoints/plants',\n",
    "    'load_from_file': None,\n",
    "    'device': device\n",
    "}\n",
    "net = OverallSNN(hparams_dict)\n",
    "net.fit_and_evaluate(train_spikes, train_labels, test_spikes, test_labels)"
   ]
  },
  {
   "cell_type": "code",
   "execution_count": 3,
   "metadata": {},
   "outputs": [
    {
     "name": "stdout",
     "output_type": "stream",
     "text": [
      "Training and Evaluating on task 1\n",
      "Train data shape is  (588, 1, 300)\n",
      "Train Labels shape is  (588, 4)\n",
      "Classes trained are: 0 to 4\n"
     ]
    },
    {
     "name": "stderr",
     "output_type": "stream",
     "text": [
      "  0%|          | 0/2500 [00:00<?, ?it/s]"
     ]
    },
    {
     "name": "stdout",
     "output_type": "stream",
     "text": [
      "Class 0, class 1 neurons = 4, class 0 neurons = 4\n",
      "Class 1, class 1 neurons = 1, class 0 neurons = 21\n",
      "Class 2, class 1 neurons = 3, class 0 neurons = 7\n",
      "Class 3, class 1 neurons = 1, class 0 neurons = 8\n"
     ]
    },
    {
     "name": "stderr",
     "output_type": "stream",
     "text": [
      "100%|██████████| 2500/2500 [2:56:06<00:00,  4.23s/it]  \n"
     ]
    },
    {
     "name": "stdout",
     "output_type": "stream",
     "text": [
      "Evaluating in individual mode on test set\n",
      "multilabel-indicator multilabel-indicator\n",
      "uint8 int64\n",
      "(390, 4) (390, 4)\n",
      "|                     |         0 |\n",
      "|:--------------------|----------:|\n",
      "| hamming loss        | 0.0391026 |\n",
      "| zero_one_loss       | 0.153846  |\n",
      "| one_error           | 0         |\n",
      "| micro av. jaccard   | 0.016129  |\n",
      "| macro av. jaccard   | 0.0208333 |\n",
      "| micro av. precision | 0.166667  |\n",
      "| macro av. precision | 0.25      |\n",
      "| micro av. recall    | 0.0175439 |\n",
      "| macro av. recall    | 0.0208333 |\n",
      "| micro av. f1        | 0.031746  |\n",
      "| macro av. f1        | 0.0384615 |\n",
      "Evaluating in combined mode on test set\n",
      "multilabel-indicator multilabel-indicator\n",
      "uint8 int64\n",
      "(390, 4) (390, 4)\n",
      "|                     |         0 |\n",
      "|:--------------------|----------:|\n",
      "| hamming loss        | 0.0391026 |\n",
      "| zero_one_loss       | 0.153846  |\n",
      "| one_error           | 0         |\n",
      "| micro av. jaccard   | 0.016129  |\n",
      "| macro av. jaccard   | 0.0208333 |\n",
      "| micro av. precision | 0.166667  |\n",
      "| macro av. precision | 0.25      |\n",
      "| micro av. recall    | 0.0175439 |\n",
      "| macro av. recall    | 0.0208333 |\n",
      "| micro av. f1        | 0.031746  |\n",
      "| macro av. f1        | 0.0384615 |\n",
      "Training and Evaluating on task 2\n",
      "Train data shape is  (588, 1, 300)\n",
      "Train Labels shape is  (588, 4)\n",
      "Classes trained are: 4 to 8\n",
      "Augmenting class labels...\n",
      "Train Labels shape is  (588, 8)\n"
     ]
    },
    {
     "name": "stderr",
     "output_type": "stream",
     "text": [
      "  0%|          | 0/2500 [00:00<?, ?it/s]"
     ]
    },
    {
     "name": "stdout",
     "output_type": "stream",
     "text": [
      "Class 0, class 1 neurons = 7, class 0 neurons = 19\n",
      "Class 1, class 1 neurons = 1, class 0 neurons = 29\n",
      "Class 2, class 1 neurons = 4, class 0 neurons = 28\n",
      "Class 3, class 1 neurons = 2, class 0 neurons = 17\n",
      "Class 4, class 1 neurons = 6, class 0 neurons = 6\n",
      "Class 5, class 1 neurons = 3, class 0 neurons = 9\n",
      "Class 6, class 1 neurons = 1, class 0 neurons = 8\n",
      "Class 7, class 1 neurons = 8, class 0 neurons = 11\n"
     ]
    },
    {
     "name": "stderr",
     "output_type": "stream",
     "text": [
      "100%|██████████| 2500/2500 [8:18:10<00:00, 11.96s/it]  \n"
     ]
    },
    {
     "name": "stdout",
     "output_type": "stream",
     "text": [
      "Evaluating in individual mode on test set\n",
      "multilabel-indicator multilabel-indicator\n",
      "uint8 int64\n",
      "(390, 4) (390, 4)\n",
      "|                     |         0 |\n",
      "|:--------------------|----------:|\n",
      "| hamming loss        | 0.171154  |\n",
      "| zero_one_loss       | 0.641026  |\n",
      "| one_error           | 0         |\n",
      "| micro av. jaccard   | 0.107023  |\n",
      "| macro av. jaccard   | 0.0847059 |\n",
      "| micro av. precision | 0.405063  |\n",
      "| macro av. precision | 0.271979  |\n",
      "| micro av. recall    | 0.126984  |\n",
      "| macro av. recall    | 0.106264  |\n",
      "| micro av. f1        | 0.193353  |\n",
      "| macro av. f1        | 0.150576  |\n",
      "Evaluating in combined mode on test set\n",
      "multilabel-indicator multilabel-indicator\n",
      "uint8 int64\n",
      "(390, 8) (390, 8)\n",
      "|                     |         0 |\n",
      "|:--------------------|----------:|\n",
      "| hamming loss        | 0.105449  |\n",
      "| zero_one_loss       | 0.746154  |\n",
      "| one_error           | 0         |\n",
      "| micro av. jaccard   | 0.0911602 |\n",
      "| macro av. jaccard   | 0.0527696 |\n",
      "| micro av. precision | 0.383721  |\n",
      "| macro av. precision | 0.26099   |\n",
      "| micro av. recall    | 0.106796  |\n",
      "| macro av. recall    | 0.0635486 |\n",
      "| micro av. f1        | 0.167089  |\n",
      "| macro av. f1        | 0.0945186 |\n",
      "Training and Evaluating on task 3\n",
      "Train data shape is  (588, 1, 300)\n",
      "Train Labels shape is  (588, 4)\n",
      "Classes trained are: 8 to 12\n",
      "Augmenting class labels...\n",
      "Train Labels shape is  (588, 12)\n"
     ]
    },
    {
     "name": "stderr",
     "output_type": "stream",
     "text": [
      "  0%|          | 0/2500 [00:00<?, ?it/s]"
     ]
    },
    {
     "name": "stdout",
     "output_type": "stream",
     "text": [
      "Class 0, class 1 neurons = 7, class 0 neurons = 27\n",
      "Class 1, class 1 neurons = 1, class 0 neurons = 29\n",
      "Class 2, class 1 neurons = 5, class 0 neurons = 34\n",
      "Class 3, class 1 neurons = 2, class 0 neurons = 35\n",
      "Class 4, class 1 neurons = 8, class 0 neurons = 7\n",
      "Class 5, class 1 neurons = 13, class 0 neurons = 13\n",
      "Class 6, class 1 neurons = 3, class 0 neurons = 13\n",
      "Class 7, class 1 neurons = 10, class 0 neurons = 27\n",
      "Class 8, class 1 neurons = 1, class 0 neurons = 14\n",
      "Class 9, class 1 neurons = 3, class 0 neurons = 9\n",
      "Class 10, class 1 neurons = 4, class 0 neurons = 10\n",
      "Class 11, class 1 neurons = 3, class 0 neurons = 11\n"
     ]
    },
    {
     "name": "stderr",
     "output_type": "stream",
     "text": [
      "100%|██████████| 2500/2500 [13:05:51<00:00, 18.86s/it]  \n"
     ]
    },
    {
     "name": "stdout",
     "output_type": "stream",
     "text": [
      "Evaluating in individual mode on test set\n",
      "multilabel-indicator multilabel-indicator\n",
      "uint8 int64\n",
      "(390, 4) (390, 4)\n",
      "|                     |         0 |\n",
      "|:--------------------|----------:|\n",
      "| hamming loss        | 0.0685897 |\n",
      "| zero_one_loss       | 0.266667  |\n",
      "| one_error           | 0         |\n",
      "| micro av. jaccard   | 0.218978  |\n",
      "| macro av. jaccard   | 0.145402  |\n",
      "| micro av. precision | 0.46875   |\n",
      "| macro av. precision | 0.307692  |\n",
      "| micro av. recall    | 0.291262  |\n",
      "| macro av. recall    | 0.199682  |\n",
      "| micro av. f1        | 0.359281  |\n",
      "| macro av. f1        | 0.237613  |\n",
      "Evaluating in combined mode on test set\n",
      "multilabel-indicator multilabel-indicator\n",
      "uint8 int64\n",
      "(390, 12) (390, 12)\n",
      "|                     |         0 |\n",
      "|:--------------------|----------:|\n",
      "| hamming loss        | 0.0961538 |\n",
      "| zero_one_loss       | 0.892308  |\n",
      "| one_error           | 0         |\n",
      "| micro av. jaccard   | 0.115914  |\n",
      "| macro av. jaccard   | 0.0838156 |\n",
      "| micro av. precision | 0.378205  |\n",
      "| macro av. precision | 0.28864   |\n",
      "| micro av. recall    | 0.143204  |\n",
      "| macro av. recall    | 0.11345   |\n",
      "| micro av. f1        | 0.207746  |\n",
      "| macro av. f1        | 0.143356  |\n",
      "Evaluating in individual mode on test set\n",
      "|                     |         0 |         1 |         2 |\n",
      "|:--------------------|----------:|----------:|----------:|\n",
      "| hamming loss        | 0.0384615 | 0.18141   | 0.0685897 |\n",
      "| zero_one_loss       | 0.151282  | 0.669231  | 0.266667  |\n",
      "| one_error           | 0         | 0         | 0         |\n",
      "| micro av. jaccard   | 0.0163934 | 0.0900322 | 0.218978  |\n",
      "| macro av. jaccard   | 0.0208333 | 0.0852118 | 0.145402  |\n",
      "| micro av. precision | 0.2       | 0.321839  | 0.46875   |\n",
      "| macro av. precision | 0.25      | 0.308226  | 0.307692  |\n",
      "| micro av. recall    | 0.0175439 | 0.111111  | 0.291262  |\n",
      "| macro av. recall    | 0.0208333 | 0.119836  | 0.199682  |\n",
      "| micro av. f1        | 0.0322581 | 0.165192  | 0.359281  |\n",
      "| macro av. f1        | 0.0384615 | 0.153995  | 0.237613  |\n",
      "Evaluating in combined mode on test set\n",
      "|                     |         0 |         1 |         2 |\n",
      "|:--------------------|----------:|----------:|----------:|\n",
      "| hamming loss        | 0.0384615 | 0.109936  | 0.0961538 |\n",
      "| zero_one_loss       | 0.151282  | 0.769231  | 0.892308  |\n",
      "| one_error           | 0         | 0         | 0         |\n",
      "| micro av. jaccard   | 0.0163934 | 0.077957  | 0.115914  |\n",
      "| macro av. jaccard   | 0.0208333 | 0.0530226 | 0.0838156 |\n",
      "| micro av. precision | 0.2       | 0.315217  | 0.378205  |\n",
      "| macro av. precision | 0.25      | 0.279113  | 0.28864   |\n",
      "| micro av. recall    | 0.0175439 | 0.0938511 | 0.143204  |\n",
      "| macro av. recall    | 0.0208333 | 0.0703345 | 0.11345   |\n",
      "| micro av. f1        | 0.0322581 | 0.144638  | 0.207746  |\n",
      "| macro av. f1        | 0.0384615 | 0.0962284 | 0.143356  |\n",
      "Number of Tasks: 3\n",
      "Forgetting in task 1: first time micro av. f1 = 0.0317, after all tasks micro av. f1 = 0.0323\n",
      "Forgetting in task 2: first time micro av. f1 = 0.1934, after all tasks micro av. f1 = 0.0323\n",
      "Forgetting in task 3: first time micro av. f1 = 0.3593, after all tasks micro av. f1 = 0.0323\n"
     ]
    },
    {
     "data": {
      "image/png": "[encoded data removed]",
      "text/plain": [
       "<Figure size 360x360 with 1 Axes>"
      ]
     },
     "metadata": {
      "needs_background": "light"
     },
     "output_type": "display_data"
    }
   ],
   "source": [
    "hparams_dict = {\n",
    "    'inputs': 300,\n",
    "    'outputs': 12,\n",
    "    'time_constant': 300,\n",
    "    'alpha_a': 0.40,\n",
    "    'alpha_m': 0.07,\n",
    "    'w_max': 100.0,\n",
    "    'w_min': -100.0,\n",
    "    'lr': 1e-3,\n",
    "    'sim_time': 600,\n",
    "    'n_epochs': 2500,\n",
    "    'print_every': 500,\n",
    "    'name': 'Plants',\n",
    "    'tasks': {'samples': None, 'labels': [4, 4, 4]},\n",
    "    'seed': 244,\n",
    "    'ckpt_dir': './checkpoints/plants',\n",
    "    'load_from_file': None,\n",
    "    'device': device\n",
    "}\n",
    "net = OverallSNN(hparams_dict)\n",
    "net.fit_and_evaluate(train_spikes, train_labels, test_spikes, test_labels)"
   ]
  },
  {
   "cell_type": "code",
   "execution_count": 4,
   "metadata": {},
   "outputs": [
    {
     "name": "stdout",
     "output_type": "stream",
     "text": [
      "Training and Evaluating on task 1\n",
      "Train data shape is  (588, 1, 300)\n",
      "Train Labels shape is  (588, 4)\n",
      "Classes trained are: 0 to 4\n"
     ]
    },
    {
     "name": "stderr",
     "output_type": "stream",
     "text": [
      "  0%|          | 0/2500 [00:00<?, ?it/s]"
     ]
    },
    {
     "name": "stdout",
     "output_type": "stream",
     "text": [
      "Class 0, class 1 neurons = 3, class 0 neurons = 7\n",
      "Class 1, class 1 neurons = 3, class 0 neurons = 11\n",
      "Class 2, class 1 neurons = 1, class 0 neurons = 21\n",
      "Class 3, class 1 neurons = 4, class 0 neurons = 4\n"
     ]
    },
    {
     "name": "stderr",
     "output_type": "stream",
     "text": [
      "100%|██████████| 2500/2500 [3:01:12<00:00,  4.35s/it]  \n"
     ]
    },
    {
     "name": "stdout",
     "output_type": "stream",
     "text": [
      "Evaluating in individual mode on test set\n",
      "multilabel-indicator multilabel-indicator\n",
      "uint8 int64\n",
      "(390, 4) (390, 4)\n",
      "|                     |         0 |\n",
      "|:--------------------|----------:|\n",
      "| hamming loss        | 0.0416667 |\n",
      "| zero_one_loss       | 0.166667  |\n",
      "| one_error           | 0         |\n",
      "| micro av. jaccard   | 0.084507  |\n",
      "| macro av. jaccard   | 0.0833333 |\n",
      "| micro av. precision | 0.5       |\n",
      "| macro av. precision | 0.388889  |\n",
      "| micro av. recall    | 0.0923077 |\n",
      "| macro av. recall    | 0.0989583 |\n",
      "| micro av. f1        | 0.155844  |\n",
      "| macro av. f1        | 0.138462  |\n",
      "Evaluating in combined mode on test set\n",
      "multilabel-indicator multilabel-indicator\n",
      "uint8 int64\n",
      "(390, 4) (390, 4)\n",
      "|                     |         0 |\n",
      "|:--------------------|----------:|\n",
      "| hamming loss        | 0.0416667 |\n",
      "| zero_one_loss       | 0.166667  |\n",
      "| one_error           | 0         |\n",
      "| micro av. jaccard   | 0.084507  |\n",
      "| macro av. jaccard   | 0.0833333 |\n",
      "| micro av. precision | 0.5       |\n",
      "| macro av. precision | 0.388889  |\n",
      "| micro av. recall    | 0.0923077 |\n",
      "| macro av. recall    | 0.0989583 |\n",
      "| micro av. f1        | 0.155844  |\n",
      "| macro av. f1        | 0.138462  |\n",
      "Training and Evaluating on task 2\n",
      "Train data shape is  (588, 1, 300)\n",
      "Train Labels shape is  (588, 4)\n",
      "Classes trained are: 4 to 8\n",
      "Augmenting class labels...\n",
      "Train Labels shape is  (588, 8)\n"
     ]
    },
    {
     "name": "stderr",
     "output_type": "stream",
     "text": [
      "  0%|          | 0/2500 [00:00<?, ?it/s]"
     ]
    },
    {
     "name": "stdout",
     "output_type": "stream",
     "text": [
      "Class 0, class 1 neurons = 4, class 0 neurons = 28\n",
      "Class 1, class 1 neurons = 4, class 0 neurons = 32\n",
      "Class 2, class 1 neurons = 1, class 0 neurons = 29\n",
      "Class 3, class 1 neurons = 7, class 0 neurons = 19\n",
      "Class 4, class 1 neurons = 1, class 0 neurons = 8\n",
      "Class 5, class 1 neurons = 3, class 0 neurons = 9\n",
      "Class 6, class 1 neurons = 1, class 0 neurons = 8\n",
      "Class 7, class 1 neurons = 6, class 0 neurons = 6\n"
     ]
    },
    {
     "name": "stderr",
     "output_type": "stream",
     "text": [
      "100%|██████████| 2500/2500 [7:48:08<00:00, 11.24s/it]  \n"
     ]
    },
    {
     "name": "stdout",
     "output_type": "stream",
     "text": [
      "Evaluating in individual mode on test set\n",
      "multilabel-indicator multilabel-indicator\n",
      "uint8 int64\n",
      "(390, 4) (390, 4)\n",
      "|                     |        0 |\n",
      "|:--------------------|---------:|\n",
      "| hamming loss        | 0.149359 |\n",
      "| zero_one_loss       | 0.530769 |\n",
      "| one_error           | 0        |\n",
      "| micro av. jaccard   | 0.167857 |\n",
      "| macro av. jaccard   | 0.102582 |\n",
      "| micro av. precision | 0.379032 |\n",
      "| macro av. precision | 0.237922 |\n",
      "| micro av. recall    | 0.231527 |\n",
      "| macro av. recall    | 0.141815 |\n",
      "| micro av. f1        | 0.287462 |\n",
      "| macro av. f1        | 0.176921 |\n",
      "Evaluating in combined mode on test set\n",
      "multilabel-indicator multilabel-indicator\n",
      "uint8 int64\n",
      "(390, 8) (390, 8)\n",
      "|                     |         0 |\n",
      "|:--------------------|----------:|\n",
      "| hamming loss        | 0.0951923 |\n",
      "| zero_one_loss       | 0.646154  |\n",
      "| one_error           | 0         |\n",
      "| micro av. jaccard   | 0.148997  |\n",
      "| macro av. jaccard   | 0.0911197 |\n",
      "| micro av. precision | 0.390977  |\n",
      "| macro av. precision | 0.343961  |\n",
      "| micro av. recall    | 0.19403   |\n",
      "| macro av. recall    | 0.112574  |\n",
      "| micro av. f1        | 0.259352  |\n",
      "| macro av. f1        | 0.15531   |\n",
      "Training and Evaluating on task 3\n",
      "Train data shape is  (588, 1, 300)\n",
      "Train Labels shape is  (588, 4)\n",
      "Classes trained are: 8 to 12\n",
      "Augmenting class labels...\n",
      "Train Labels shape is  (588, 12)\n"
     ]
    },
    {
     "name": "stderr",
     "output_type": "stream",
     "text": [
      "  0%|          | 0/2500 [00:00<?, ?it/s]"
     ]
    },
    {
     "name": "stdout",
     "output_type": "stream",
     "text": [
      "Class 0, class 1 neurons = 5, class 0 neurons = 34\n",
      "Class 1, class 1 neurons = 4, class 0 neurons = 38\n",
      "Class 2, class 1 neurons = 1, class 0 neurons = 29\n",
      "Class 3, class 1 neurons = 7, class 0 neurons = 27\n",
      "Class 4, class 1 neurons = 2, class 0 neurons = 17\n",
      "Class 5, class 1 neurons = 8, class 0 neurons = 13\n",
      "Class 6, class 1 neurons = 3, class 0 neurons = 13\n",
      "Class 7, class 1 neurons = 8, class 0 neurons = 7\n",
      "Class 8, class 1 neurons = 8, class 0 neurons = 11\n",
      "Class 9, class 1 neurons = 4, class 0 neurons = 10\n",
      "Class 10, class 1 neurons = 3, class 0 neurons = 9\n",
      "Class 11, class 1 neurons = 1, class 0 neurons = 14\n"
     ]
    },
    {
     "name": "stderr",
     "output_type": "stream",
     "text": [
      "100%|██████████| 2500/2500 [13:34:07<00:00, 19.54s/it]  \n"
     ]
    },
    {
     "name": "stdout",
     "output_type": "stream",
     "text": [
      "Evaluating in individual mode on test set\n",
      "multilabel-indicator multilabel-indicator\n",
      "uint8 int64\n",
      "(390, 4) (390, 4)\n",
      "|                     |         0 |\n",
      "|:--------------------|----------:|\n",
      "| hamming loss        | 0.0923077 |\n",
      "| zero_one_loss       | 0.358974  |\n",
      "| one_error           | 0         |\n",
      "| micro av. jaccard   | 0.137725  |\n",
      "| macro av. jaccard   | 0.0756579 |\n",
      "| micro av. precision | 0.5       |\n",
      "| macro av. precision | 0.14375   |\n",
      "| micro av. recall    | 0.159722  |\n",
      "| macro av. recall    | 0.0974576 |\n",
      "| micro av. f1        | 0.242105  |\n",
      "| macro av. f1        | 0.116162  |\n",
      "Evaluating in combined mode on test set\n",
      "multilabel-indicator multilabel-indicator\n",
      "uint8 int64\n",
      "(390, 12) (390, 12)\n",
      "|                     |         0 |\n",
      "|:--------------------|----------:|\n",
      "| hamming loss        | 0.0910256 |\n",
      "| zero_one_loss       | 0.853846  |\n",
      "| one_error           | 0         |\n",
      "| micro av. jaccard   | 0.148     |\n",
      "| macro av. jaccard   | 0.0883018 |\n",
      "| micro av. precision | 0.45679   |\n",
      "| macro av. precision | 0.273494  |\n",
      "| micro av. recall    | 0.179612  |\n",
      "| macro av. recall    | 0.112636  |\n",
      "| micro av. f1        | 0.25784   |\n",
      "| macro av. f1        | 0.14578   |\n",
      "Evaluating in individual mode on test set\n",
      "|                     |         0 |        1 |         2 |\n",
      "|:--------------------|----------:|---------:|----------:|\n",
      "| hamming loss        | 0.0416667 | 0.139103 | 0.0923077 |\n",
      "| zero_one_loss       | 0.166667  | 0.505128 | 0.358974  |\n",
      "| one_error           | 0         | 0        | 0         |\n",
      "| micro av. jaccard   | 0.0714286 | 0.174905 | 0.137725  |\n",
      "| macro av. jaccard   | 0.0763889 | 0.112858 | 0.0756579 |\n",
      "| micro av. precision | 0.5       | 0.433962 | 0.5       |\n",
      "| macro av. precision | 0.416667  | 0.260064 | 0.14375   |\n",
      "| micro av. recall    | 0.0769231 | 0.226601 | 0.159722  |\n",
      "| macro av. recall    | 0.0833333 | 0.157116 | 0.0974576 |\n",
      "| micro av. f1        | 0.133333  | 0.297735 | 0.242105  |\n",
      "| macro av. f1        | 0.129371  | 0.191809 | 0.116162  |\n",
      "Evaluating in combined mode on test set\n",
      "|                     |         0 |         1 |         2 |\n",
      "|:--------------------|----------:|----------:|----------:|\n",
      "| hamming loss        | 0.0416667 | 0.0903846 | 0.0910256 |\n",
      "| zero_one_loss       | 0.166667  | 0.623077  | 0.853846  |\n",
      "| one_error           | 0         | 0         | 0         |\n",
      "| micro av. jaccard   | 0.0714286 | 0.153153  | 0.148     |\n",
      "| macro av. jaccard   | 0.0763889 | 0.0946237 | 0.0883018 |\n",
      "| micro av. precision | 0.5       | 0.439655  | 0.45679   |\n",
      "| macro av. precision | 0.416667  | 0.338366  | 0.273494  |\n",
      "| micro av. recall    | 0.0769231 | 0.190299  | 0.179612  |\n",
      "| macro av. recall    | 0.0833333 | 0.120225  | 0.112636  |\n",
      "| micro av. f1        | 0.133333  | 0.265625  | 0.25784   |\n",
      "| macro av. f1        | 0.129371  | 0.16059   | 0.14578   |\n",
      "Number of Tasks: 3\n",
      "Forgetting in task 1: first time micro av. f1 = 0.1558, after all tasks micro av. f1 = 0.1333\n",
      "Forgetting in task 2: first time micro av. f1 = 0.2875, after all tasks micro av. f1 = 0.1333\n",
      "Forgetting in task 3: first time micro av. f1 = 0.2421, after all tasks micro av. f1 = 0.1333\n"
     ]
    },
    {
     "data": {
      "image/png": "[encoded data removed]",
      "text/plain": [
       "<Figure size 360x360 with 1 Axes>"
      ]
     },
     "metadata": {
      "needs_background": "light"
     },
     "output_type": "display_data"
    }
   ],
   "source": [
    "hparams_dict = {\n",
    "    'inputs': 300,\n",
    "    'outputs': 12,\n",
    "    'time_constant': 300,\n",
    "    'alpha_a': 0.40,\n",
    "    'alpha_m': 0.07,\n",
    "    'w_max': 100.0,\n",
    "    'w_min': -100.0,\n",
    "    'lr': 1e-3,\n",
    "    'sim_time': 600,\n",
    "    'n_epochs': 2500,\n",
    "    'print_every': 500,\n",
    "    'name': 'Plants',\n",
    "    'tasks': {'samples': None, 'labels': [4, 4, 4]},\n",
    "    'seed': 833,\n",
    "    'ckpt_dir': './checkpoints/plants',\n",
    "    'load_from_file': None,\n",
    "    'device': device\n",
    "}\n",
    "net = OverallSNN(hparams_dict)\n",
    "net.fit_and_evaluate(train_spikes, train_labels, test_spikes, test_labels)"
   ]
  }
 ],
 "metadata": {
  "kernelspec": {
   "display_name": "DL_gpu",
   "language": "python",
   "name": "dl_gpu"
  },
  "language_info": {
   "codemirror_mode": {
    "name": "ipython",
    "version": 3
   },
   "file_extension": ".py",
   "mimetype": "text/x-python",
   "name": "python",
   "nbconvert_exporter": "python",
   "pygments_lexer": "ipython3",
   "version": "3.7.7"
  }
 },
 "nbformat": 4,
 "nbformat_minor": 4
}
