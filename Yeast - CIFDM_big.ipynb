{
 "cells": [
  {
   "cell_type": "code",
   "execution_count": 1,
   "metadata": {},
   "outputs": [],
   "source": [
    "from ContinualEvolvingSNN import *\n",
    "import arff\n",
    "import warnings\n",
    "from scipy.io import loadmat\n",
    "from utils import *\n",
    "warnings.filterwarnings(\"ignore\")\n",
    "%matplotlib inline\n",
    "np.random.seed(0)\n",
    "torch.manual_seed(0)\n",
    "torch.cuda.manual_seed(0)\n",
    "device = torch.device('cuda:3' if torch.cuda.is_available() else 'cpu')"
   ]
  },
  {
   "cell_type": "markdown",
   "metadata": {},
   "source": [
    "## Load Data and Convert to Spikes"
   ]
  },
  {
   "cell_type": "code",
   "execution_count": 2,
   "metadata": {},
   "outputs": [
    {
     "name": "stderr",
     "output_type": "stream",
     "text": [
      "100%|██████████| 1500/1500 [00:00<00:00, 6523.00it/s]\n",
      "100%|██████████| 917/917 [00:00<00:00, 7947.70it/s]"
     ]
    },
    {
     "name": "stdout",
     "output_type": "stream",
     "text": [
      "Train data shape:  (1500, 1, 618)\n",
      "Train labels shape:  (1500, 14)\n",
      "Test data shape:  (917, 1, 618)\n",
      "Test labels shape:  (917, 14)\n"
     ]
    },
    {
     "name": "stderr",
     "output_type": "stream",
     "text": [
      "\n"
     ]
    }
   ],
   "source": [
    "train_path = '../datasets/yeast/yeast-train.arff'\n",
    "test_path = '../datasets/yeast/yeast-test.arff'\n",
    "num_features = 103\n",
    "train_data = arff.load(open(train_path, 'rt'))\n",
    "train_data = np.array(train_data['data']).astype(np.float32)\n",
    "test_data = arff.load(open(test_path, 'rt'))\n",
    "test_data = np.array(test_data['data']).astype(np.float32)\n",
    "a = train_data[:, :num_features].max(axis=0)\n",
    "b = train_data[:, :num_features].min(axis=0)\n",
    "\n",
    "train_spikes, train_labels = encode_data_to_spikes(train_data, device, num_features, a, b)\n",
    "test_spikes, test_labels = encode_data_to_spikes(test_data, device, num_features, a, b)\n",
    "print(\"Train data shape: \", np.array(train_spikes).shape)\n",
    "print(\"Train labels shape: \", np.array(train_labels).shape)\n",
    "print(\"Test data shape: \", np.array(test_spikes).shape)\n",
    "print(\"Test labels shape: \", np.array(test_labels).shape)"
   ]
  },
  {
   "cell_type": "markdown",
   "metadata": {},
   "source": [
    "## CIFDM Training and Evaluation Mode"
   ]
  },
  {
   "cell_type": "code",
   "execution_count": 3,
   "metadata": {},
   "outputs": [
    {
     "name": "stdout",
     "output_type": "stream",
     "text": [
      "Training and Evaluating on task 1\n",
      "Train data shape is  (250, 1, 618)\n",
      "Train Labels shape is  (250, 2)\n",
      "Classes trained are: 0 to 2\n"
     ]
    },
    {
     "name": "stderr",
     "output_type": "stream",
     "text": [
      "  0%|          | 0/100 [00:00<?, ?it/s]"
     ]
    },
    {
     "name": "stdout",
     "output_type": "stream",
     "text": [
      "Class 0, class 1 neurons = 2, class 0 neurons = 1\n",
      "Class 1, class 1 neurons = 1, class 0 neurons = 1\n"
     ]
    },
    {
     "name": "stderr",
     "output_type": "stream",
     "text": [
      "100%|██████████| 100/100 [00:58<00:00,  1.70it/s]\n"
     ]
    },
    {
     "name": "stdout",
     "output_type": "stream",
     "text": [
      "Evaluating in individual mode on test set\n",
      "multilabel-indicator multilabel-indicator\n",
      "float32 int64\n",
      "(917, 2) (917, 2)\n",
      "|                     |         0 |\n",
      "|:--------------------|----------:|\n",
      "| hamming loss        | 0.312977  |\n",
      "| zero_one_loss       | 0.53217   |\n",
      "| one_error           | 0.0937841 |\n",
      "| micro av. jaccard   | 0.266922  |\n",
      "| macro av. jaccard   | 0.193663  |\n",
      "| micro av. precision | 0.55      |\n",
      "| macro av. precision | 0.77139   |\n",
      "| micro av. recall    | 0.341503  |\n",
      "| macro av. recall    | 0.271968  |\n",
      "| micro av. f1        | 0.421371  |\n",
      "| macro av. f1        | 0.291334  |\n",
      "Evaluating in combined mode on test set\n",
      "multilabel-indicator multilabel-indicator\n",
      "float32 int64\n",
      "(917, 2) (917, 2)\n",
      "|                     |         0 |\n",
      "|:--------------------|----------:|\n",
      "| hamming loss        | 0.312977  |\n",
      "| zero_one_loss       | 0.53217   |\n",
      "| one_error           | 0.0937841 |\n",
      "| micro av. jaccard   | 0.266922  |\n",
      "| macro av. jaccard   | 0.193663  |\n",
      "| micro av. precision | 0.55      |\n",
      "| macro av. precision | 0.77139   |\n",
      "| micro av. recall    | 0.341503  |\n",
      "| macro av. recall    | 0.271968  |\n",
      "| micro av. f1        | 0.421371  |\n",
      "| macro av. f1        | 0.291334  |\n",
      "Training and Evaluating on task 2\n",
      "Train data shape is  (250, 1, 618)\n",
      "Train Labels shape is  (250, 2)\n",
      "Classes trained are: 2 to 4\n",
      "Augmenting class labels...\n",
      "Train Labels shape is  (250, 4)\n"
     ]
    },
    {
     "name": "stderr",
     "output_type": "stream",
     "text": [
      "  0%|          | 0/100 [00:00<?, ?it/s]"
     ]
    },
    {
     "name": "stdout",
     "output_type": "stream",
     "text": [
      "Class 0, class 1 neurons = 2, class 0 neurons = 1\n",
      "Class 1, class 1 neurons = 3, class 0 neurons = 2\n",
      "Class 2, class 1 neurons = 2, class 0 neurons = 1\n",
      "Class 3, class 1 neurons = 1, class 0 neurons = 1\n"
     ]
    },
    {
     "name": "stderr",
     "output_type": "stream",
     "text": [
      "100%|██████████| 100/100 [02:00<00:00,  1.21s/it]\n"
     ]
    },
    {
     "name": "stdout",
     "output_type": "stream",
     "text": [
      "Evaluating in individual mode on test set\n",
      "multilabel-indicator multilabel-indicator\n",
      "float32 int64\n",
      "(917, 2) (917, 2)\n",
      "|                     |         0 |\n",
      "|:--------------------|----------:|\n",
      "| hamming loss        | 0.257361  |\n",
      "| zero_one_loss       | 0.439477  |\n",
      "| one_error           | 0.0752454 |\n",
      "| micro av. jaccard   | 0.335211  |\n",
      "| macro av. jaccard   | 0.229287  |\n",
      "| micro av. precision | 0.639785  |\n",
      "| macro av. precision | 0.319892  |\n",
      "| micro av. recall    | 0.413194  |\n",
      "| macro av. recall    | 0.309091  |\n",
      "| micro av. f1        | 0.50211   |\n",
      "| macro av. f1        | 0.314399  |\n",
      "Evaluating in combined mode on test set\n",
      "multilabel-indicator multilabel-indicator\n",
      "float32 int64\n",
      "(917, 4) (917, 4)\n",
      "|                     |         0 |\n",
      "|:--------------------|----------:|\n",
      "| hamming loss        | 0.290349  |\n",
      "| zero_one_loss       | 0.72301   |\n",
      "| one_error           | 0.0130862 |\n",
      "| micro av. jaccard   | 0.2961    |\n",
      "| macro av. jaccard   | 0.204541  |\n",
      "| micro av. precision | 0.57956   |\n",
      "| macro av. precision | 0.290869  |\n",
      "| micro av. recall    | 0.377104  |\n",
      "| macro av. recall    | 0.288133  |\n",
      "| micro av. f1        | 0.45691   |\n",
      "| macro av. f1        | 0.289441  |\n",
      "Training and Evaluating on task 3\n",
      "Train data shape is  (250, 1, 618)\n",
      "Train Labels shape is  (250, 2)\n",
      "Classes trained are: 4 to 6\n",
      "Augmenting class labels...\n",
      "Train Labels shape is  (250, 6)\n"
     ]
    },
    {
     "name": "stderr",
     "output_type": "stream",
     "text": [
      "  0%|          | 0/100 [00:00<?, ?it/s]"
     ]
    },
    {
     "name": "stdout",
     "output_type": "stream",
     "text": [
      "Class 0, class 1 neurons = 2, class 0 neurons = 1\n",
      "Class 1, class 1 neurons = 4, class 0 neurons = 3\n",
      "Class 2, class 1 neurons = 2, class 0 neurons = 1\n",
      "Class 3, class 1 neurons = 3, class 0 neurons = 2\n",
      "Class 4, class 1 neurons = 2, class 0 neurons = 1\n",
      "Class 5, class 1 neurons = 1, class 0 neurons = 1\n"
     ]
    },
    {
     "name": "stderr",
     "output_type": "stream",
     "text": [
      "100%|██████████| 100/100 [03:02<00:00,  1.83s/it]\n"
     ]
    },
    {
     "name": "stdout",
     "output_type": "stream",
     "text": [
      "Evaluating in individual mode on test set\n",
      "multilabel-indicator multilabel-indicator\n",
      "float32 int64\n",
      "(917, 2) (917, 2)\n",
      "|                     |         0 |\n",
      "|:--------------------|----------:|\n",
      "| hamming loss        | 0.0567067 |\n",
      "| zero_one_loss       | 0.113413  |\n",
      "| one_error           | 0         |\n",
      "| micro av. jaccard   | 0         |\n",
      "| macro av. jaccard   | 0         |\n",
      "| micro av. precision | 0         |\n",
      "| macro av. precision | 0         |\n",
      "| micro av. recall    | 0         |\n",
      "| macro av. recall    | 0         |\n",
      "| micro av. f1        | 0         |\n",
      "| macro av. f1        | 0         |\n",
      "Evaluating in combined mode on test set\n",
      "multilabel-indicator multilabel-indicator\n",
      "float32 int64\n",
      "(917, 6) (917, 6)\n",
      "|                     |        0 |\n",
      "|:--------------------|---------:|\n",
      "| hamming loss        | 0.216467 |\n",
      "| zero_one_loss       | 0.747001 |\n",
      "| one_error           | 0        |\n",
      "| micro av. jaccard   | 0.27378  |\n",
      "| macro av. jaccard   | 0.133806 |\n",
      "| micro av. precision | 0.563363 |\n",
      "| macro av. precision | 0.189679 |\n",
      "| micro av. recall    | 0.347523 |\n",
      "| macro av. recall    | 0.192407 |\n",
      "| micro av. f1        | 0.429871 |\n",
      "| macro av. f1        | 0.190677 |\n",
      "Training and Evaluating on task 4\n",
      "Train data shape is  (250, 1, 618)\n",
      "Train Labels shape is  (250, 2)\n",
      "Classes trained are: 6 to 8\n",
      "Augmenting class labels...\n",
      "Train Labels shape is  (250, 8)\n"
     ]
    },
    {
     "name": "stderr",
     "output_type": "stream",
     "text": [
      "  0%|          | 0/100 [00:00<?, ?it/s]"
     ]
    },
    {
     "name": "stdout",
     "output_type": "stream",
     "text": [
      "Class 0, class 1 neurons = 2, class 0 neurons = 1\n",
      "Class 1, class 1 neurons = 4, class 0 neurons = 5\n",
      "Class 2, class 1 neurons = 2, class 0 neurons = 1\n",
      "Class 3, class 1 neurons = 4, class 0 neurons = 3\n",
      "Class 4, class 1 neurons = 2, class 0 neurons = 1\n",
      "Class 5, class 1 neurons = 1, class 0 neurons = 1\n",
      "Class 6, class 1 neurons = 1, class 0 neurons = 2\n",
      "Class 7, class 1 neurons = 2, class 0 neurons = 1\n"
     ]
    },
    {
     "name": "stderr",
     "output_type": "stream",
     "text": [
      "100%|██████████| 100/100 [04:05<00:00,  2.46s/it]\n"
     ]
    },
    {
     "name": "stdout",
     "output_type": "stream",
     "text": [
      "Evaluating in individual mode on test set\n",
      "multilabel-indicator multilabel-indicator\n",
      "float32 int64\n",
      "(917, 2) (917, 2)\n",
      "|                     |         0 |\n",
      "|:--------------------|----------:|\n",
      "| hamming loss        | 0.255725  |\n",
      "| zero_one_loss       | 0.460196  |\n",
      "| one_error           | 0.0512541 |\n",
      "| micro av. jaccard   | 0.627482  |\n",
      "| macro av. jaccard   | 0.526026  |\n",
      "| micro av. precision | 0.731481  |\n",
      "| macro av. precision | 0.687062  |\n",
      "| micro av. recall    | 0.815273  |\n",
      "| macro av. recall    | 0.6836    |\n",
      "| micro av. f1        | 0.771108  |\n",
      "| macro av. f1        | 0.660625  |\n",
      "Evaluating in combined mode on test set\n",
      "multilabel-indicator multilabel-indicator\n",
      "float32 int64\n",
      "(917, 8) (917, 8)\n",
      "|                     |        0 |\n",
      "|:--------------------|---------:|\n",
      "| hamming loss        | 0.226145 |\n",
      "| zero_one_loss       | 0.811341 |\n",
      "| one_error           | 0        |\n",
      "| micro av. jaccard   | 0.434946 |\n",
      "| macro av. jaccard   | 0.237278 |\n",
      "| micro av. precision | 0.654201 |\n",
      "| macro av. precision | 0.313692 |\n",
      "| micro av. recall    | 0.564794 |\n",
      "| macro av. recall    | 0.327404 |\n",
      "| micro av. f1        | 0.606219 |\n",
      "| macro av. f1        | 0.313495 |\n",
      "Training and Evaluating on task 5\n",
      "Train data shape is  (250, 1, 618)\n",
      "Train Labels shape is  (250, 2)\n",
      "Classes trained are: 8 to 10\n",
      "Augmenting class labels...\n",
      "Train Labels shape is  (250, 10)\n"
     ]
    },
    {
     "name": "stderr",
     "output_type": "stream",
     "text": [
      "  0%|          | 0/100 [00:00<?, ?it/s]"
     ]
    },
    {
     "name": "stdout",
     "output_type": "stream",
     "text": [
      "Class 0, class 1 neurons = 2, class 0 neurons = 1\n",
      "Class 1, class 1 neurons = 4, class 0 neurons = 6\n",
      "Class 2, class 1 neurons = 2, class 0 neurons = 1\n",
      "Class 3, class 1 neurons = 5, class 0 neurons = 4\n",
      "Class 4, class 1 neurons = 2, class 0 neurons = 1\n",
      "Class 5, class 1 neurons = 1, class 0 neurons = 1\n",
      "Class 6, class 1 neurons = 1, class 0 neurons = 3\n",
      "Class 7, class 1 neurons = 3, class 0 neurons = 2\n",
      "Class 8, class 1 neurons = 2, class 0 neurons = 1\n",
      "Class 9, class 1 neurons = 2, class 0 neurons = 1\n"
     ]
    },
    {
     "name": "stderr",
     "output_type": "stream",
     "text": [
      "100%|██████████| 100/100 [05:08<00:00,  3.08s/it]\n"
     ]
    },
    {
     "name": "stdout",
     "output_type": "stream",
     "text": [
      "Evaluating in individual mode on test set\n",
      "multilabel-indicator multilabel-indicator\n",
      "float32 int64\n",
      "(917, 2) (917, 2)\n",
      "|                     |         0 |\n",
      "|:--------------------|----------:|\n",
      "| hamming loss        | 0.0937841 |\n",
      "| zero_one_loss       | 0.158124  |\n",
      "| one_error           | 0.0294438 |\n",
      "| micro av. jaccard   | 0         |\n",
      "| macro av. jaccard   | 0         |\n",
      "| micro av. precision | 0         |\n",
      "| macro av. precision | 0         |\n",
      "| micro av. recall    | 0         |\n",
      "| macro av. recall    | 0         |\n",
      "| micro av. f1        | 0         |\n",
      "| macro av. f1        | 0         |\n",
      "Evaluating in combined mode on test set\n",
      "multilabel-indicator multilabel-indicator\n",
      "float32 int64\n",
      "(917, 10) (917, 10)\n",
      "|                     |        0 |\n",
      "|:--------------------|---------:|\n",
      "| hamming loss        | 0.200763 |\n",
      "| zero_one_loss       | 0.812432 |\n",
      "| one_error           | 0        |\n",
      "| micro av. jaccard   | 0.411257 |\n",
      "| macro av. jaccard   | 0.189744 |\n",
      "| micro av. precision | 0.649495 |\n",
      "| macro av. precision | 0.250619 |\n",
      "| micro av. recall    | 0.528566 |\n",
      "| macro av. recall    | 0.263976 |\n",
      "| micro av. f1        | 0.582823 |\n",
      "| macro av. f1        | 0.250808 |\n",
      "Training and Evaluating on task 6\n",
      "Train data shape is  (250, 1, 618)\n",
      "Train Labels shape is  (250, 3)\n",
      "Classes trained are: 10 to 13\n",
      "Augmenting class labels...\n",
      "Train Labels shape is  (250, 13)\n"
     ]
    },
    {
     "name": "stderr",
     "output_type": "stream",
     "text": [
      "  0%|          | 0/100 [00:00<?, ?it/s]"
     ]
    },
    {
     "name": "stdout",
     "output_type": "stream",
     "text": [
      "Class 0, class 1 neurons = 2, class 0 neurons = 1\n",
      "Class 1, class 1 neurons = 4, class 0 neurons = 8\n",
      "Class 2, class 1 neurons = 2, class 0 neurons = 1\n",
      "Class 3, class 1 neurons = 6, class 0 neurons = 6\n",
      "Class 4, class 1 neurons = 2, class 0 neurons = 1\n",
      "Class 5, class 1 neurons = 1, class 0 neurons = 1\n",
      "Class 6, class 1 neurons = 1, class 0 neurons = 3\n",
      "Class 7, class 1 neurons = 4, class 0 neurons = 3\n",
      "Class 8, class 1 neurons = 2, class 0 neurons = 1\n",
      "Class 9, class 1 neurons = 2, class 0 neurons = 1\n",
      "Class 10, class 1 neurons = 2, class 0 neurons = 1\n",
      "Class 11, class 1 neurons = 1, class 0 neurons = 2\n",
      "Class 12, class 1 neurons = 2, class 0 neurons = 1\n"
     ]
    },
    {
     "name": "stderr",
     "output_type": "stream",
     "text": [
      "100%|██████████| 100/100 [06:49<00:00,  4.09s/it]\n"
     ]
    },
    {
     "name": "stdout",
     "output_type": "stream",
     "text": [
      "Evaluating in individual mode on test set\n",
      "multilabel-indicator multilabel-indicator\n",
      "float32 int64\n",
      "(917, 3) (917, 3)\n",
      "|                     |          0 |\n",
      "|:--------------------|-----------:|\n",
      "| hamming loss        | 0.232643   |\n",
      "| zero_one_loss       | 0.557252   |\n",
      "| one_error           | 0.00654308 |\n",
      "| micro av. jaccard   | 0.562842   |\n",
      "| macro av. jaccard   | 0.377744   |\n",
      "| micro av. precision | 0.715278   |\n",
      "| macro av. precision | 0.576257   |\n",
      "| micro av. recall    | 0.725352   |\n",
      "| macro av. recall    | 0.501515   |\n",
      "| micro av. f1        | 0.72028    |\n",
      "| macro av. f1        | 0.47659    |\n",
      "Evaluating in combined mode on test set\n",
      "multilabel-indicator multilabel-indicator\n",
      "float32 int64\n",
      "(917, 13) (917, 13)\n",
      "|                     |        0 |\n",
      "|:--------------------|---------:|\n",
      "| hamming loss        | 0.210469 |\n",
      "| zero_one_loss       | 0.853871 |\n",
      "| one_error           | 0        |\n",
      "| micro av. jaccard   | 0.456926 |\n",
      "| macro av. jaccard   | 0.231393 |\n",
      "| micro av. precision | 0.667615 |\n",
      "| macro av. precision | 0.320545 |\n",
      "| micro av. recall    | 0.591482 |\n",
      "| macro av. recall    | 0.319066 |\n",
      "| micro av. f1        | 0.627247 |\n",
      "| macro av. f1        | 0.30112  |\n",
      "Evaluating in individual mode on test set\n",
      "|                     |        0 |         1 |         2 |         3 |         4 |          5 |\n",
      "|:--------------------|---------:|----------:|----------:|----------:|----------:|-----------:|\n",
      "| hamming loss        | 0.340785 | 0.262814  | 0.0567067 | 0.264995  | 0.0937841 | 0.232643   |\n",
      "| zero_one_loss       | 0.556161 | 0.443839  | 0.113413  | 0.471101  | 0.158124  | 0.557252   |\n",
      "| one_error           | 0.125409 | 0.0817884 | 0         | 0.0588877 | 0.0294438 | 0.00654308 |\n",
      "| micro av. jaccard   | 0.304009 | 0.31339   | 0         | 0.620313  | 0         | 0.562842   |\n",
      "| macro av. jaccard   | 0.201031 | 0.215264  | 0         | 0.521142  | 0         | 0.377744   |\n",
      "| micro av. precision | 0.488372 | 0.635838  | 0         | 0.718552  | 0         | 0.715278   |\n",
      "| macro av. precision | 0.244186 | 0.317919  | 0         | 0.657051  | 0         | 0.576257   |\n",
      "| micro av. recall    | 0.446078 | 0.381944  | 0         | 0.819401  | 0         | 0.725352   |\n",
      "| macro av. recall    | 0.347328 | 0.285714  | 0         | 0.688612  | 0         | 0.501515   |\n",
      "| micro av. f1        | 0.466268 | 0.477223  | 0         | 0.76567   | 0         | 0.72028    |\n",
      "| macro av. f1        | 0.286765 | 0.300958  | 0         | 0.654673  | 0         | 0.47659    |\n",
      "Evaluating in combined mode on test set\n",
      "|                     |        0 |         1 |        2 |        3 |        4 |        5 |\n",
      "|:--------------------|---------:|----------:|---------:|---------:|---------:|---------:|\n",
      "| hamming loss        | 0.340785 | 0.301799  | 0.220102 | 0.231325 | 0.203817 | 0.210469 |\n",
      "| zero_one_loss       | 0.556161 | 0.728462  | 0.749182 | 0.824427 | 0.82879  | 0.853871 |\n",
      "| one_error           | 0.125409 | 0.0218103 | 0        | 0        | 0        | 0        |\n",
      "| micro av. jaccard   | 0.304009 | 0.308125  | 0.289319 | 0.4313   | 0.407795 | 0.456926 |\n",
      "| macro av. jaccard   | 0.201031 | 0.208148  | 0.138765 | 0.234359 | 0.187487 | 0.231393 |\n",
      "| micro av. precision | 0.488372 | 0.544751  | 0.544751 | 0.640299 | 0.640299 | 0.667615 |\n",
      "| macro av. precision | 0.244186 | 0.281053  | 0.187368 | 0.304789 | 0.243831 | 0.320545 |\n",
      "| micro av. recall    | 0.446078 | 0.414983  | 0.381579 | 0.569217 | 0.528977 | 0.591482 |\n",
      "| macro av. recall    | 0.347328 | 0.316521  | 0.211014 | 0.330414 | 0.264331 | 0.319066 |\n",
      "| micro av. f1        | 0.466268 | 0.471094  | 0.448794 | 0.602669 | 0.579338 | 0.627247 |\n",
      "| macro av. f1        | 0.286765 | 0.293861  | 0.195907 | 0.310599 | 0.248479 | 0.30112  |\n",
      "Number of Tasks: 6\n",
      "Forgetting in task 1: first time micro av. f1 = 0.4214, after all tasks micro av. f1 = 0.4663\n",
      "Forgetting in task 2: first time micro av. f1 = 0.5021, after all tasks micro av. f1 = 0.4663\n",
      "Forgetting in task 3: first time micro av. f1 = 0.0000, after all tasks micro av. f1 = 0.4663\n",
      "Forgetting in task 4: first time micro av. f1 = 0.7711, after all tasks micro av. f1 = 0.4663\n",
      "Forgetting in task 5: first time micro av. f1 = 0.0000, after all tasks micro av. f1 = 0.4663\n",
      "Forgetting in task 6: first time micro av. f1 = 0.7203, after all tasks micro av. f1 = 0.4663\n"
     ]
    },
    {
     "data": {
      "image/png": "[encoded data removed]",
      "text/plain": [
       "<Figure size 360x360 with 1 Axes>"
      ]
     },
     "metadata": {
      "needs_background": "light"
     },
     "output_type": "display_data"
    }
   ],
   "source": [
    "hparams_dict = {\n",
    "    'inputs': 618,\n",
    "    'outputs': 13,\n",
    "    'time_constant': 300,\n",
    "    'alpha_a': 0.42,\n",
    "    'alpha_m': 0.07,\n",
    "    'w_max': 100.0,\n",
    "    'w_min': -100.0,\n",
    "    'lr': 5e-3,\n",
    "    'sim_time': 600,\n",
    "    'n_epochs': 100,\n",
    "    'print_every': 10,\n",
    "    'name': 'Yeast',\n",
    "    'tasks': {'samples': [250, 250, 250, 250, 250, 250], 'labels': [2, 2, 2, 2, 2, 3]},\n",
    "    'seed': 5,\n",
    "    'ckpt_dir': './checkpoints/yeast',\n",
    "    'load_from_file': None,\n",
    "    'device': device\n",
    "}\n",
    "net = OverallSNN(hparams_dict)\n",
    "net.fit_and_evaluate(train_spikes, train_labels, test_spikes, test_labels)"
   ]
  }
 ],
 "metadata": {
  "kernelspec": {
   "display_name": "DL_gpu",
   "language": "python",
   "name": "dl_gpu"
  },
  "language_info": {
   "codemirror_mode": {
    "name": "ipython",
    "version": 3
   },
   "file_extension": ".py",
   "mimetype": "text/x-python",
   "name": "python",
   "nbconvert_exporter": "python",
   "pygments_lexer": "ipython3",
   "version": "3.7.7"
  }
 },
 "nbformat": 4,
 "nbformat_minor": 4
}
