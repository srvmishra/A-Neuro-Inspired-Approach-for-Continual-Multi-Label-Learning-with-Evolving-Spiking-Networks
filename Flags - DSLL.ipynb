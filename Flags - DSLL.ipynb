{
 "cells": [
  {
   "cell_type": "code",
   "execution_count": 1,
   "metadata": {},
   "outputs": [],
   "source": [
    "from ContinualEvolvingSNN import *\n",
    "import arff\n",
    "import warnings\n",
    "from scipy.io import loadmat\n",
    "warnings.filterwarnings(\"ignore\")\n",
    "%matplotlib inline\n",
    "np.random.seed(0)\n",
    "torch.manual_seed(0)\n",
    "torch.cuda.manual_seed(0)\n",
    "device = torch.device('cuda:1' if torch.cuda.is_available() else 'cpu')"
   ]
  },
  {
   "cell_type": "markdown",
   "metadata": {},
   "source": [
    "## Load Data and Convert to Spikes"
   ]
  },
  {
   "cell_type": "code",
   "execution_count": 2,
   "metadata": {},
   "outputs": [
    {
     "name": "stderr",
     "output_type": "stream",
     "text": [
      "100%|██████████| 129/129 [00:00<00:00, 2730.40it/s]\n",
      "100%|██████████| 65/65 [00:00<00:00, 2775.96it/s]"
     ]
    },
    {
     "name": "stdout",
     "output_type": "stream",
     "text": [
      "Train data shape:  (129, 1, 114)\n",
      "Train labels shape:  (129, 7)\n",
      "Test data shape:  (65, 1, 114)\n",
      "Test labels shape:  (65, 7)\n"
     ]
    },
    {
     "name": "stderr",
     "output_type": "stream",
     "text": [
      "\n"
     ]
    }
   ],
   "source": [
    "train_path = '../datasets/flags/flags-train.arff'\n",
    "test_path = '../datasets/flags/flags-test.arff'\n",
    "num_features = 19\n",
    "train_data = arff.load(open(train_path, 'rt'))\n",
    "train_data = np.array(train_data['data']).astype(np.float32)\n",
    "test_data = arff.load(open(test_path, 'rt'))\n",
    "test_data = np.array(test_data['data']).astype(np.float32)\n",
    "a = train_data[:, :num_features].max(axis=0)\n",
    "b = train_data[:, :num_features].min(axis=0)\n",
    "\n",
    "train_spikes, train_labels = encode_data_to_spikes(train_data, device, num_features, a, b)\n",
    "test_spikes, test_labels = encode_data_to_spikes(test_data, device, num_features, a, b)\n",
    "print(\"Train data shape: \", np.array(train_spikes).shape)\n",
    "print(\"Train labels shape: \", train_labels.shape)\n",
    "print(\"Test data shape: \", np.array(test_spikes).shape)\n",
    "print(\"Test labels shape: \", test_labels.shape)"
   ]
  },
  {
   "cell_type": "markdown",
   "metadata": {},
   "source": [
    "## DSLL Training and Evaluation Mode"
   ]
  },
  {
   "cell_type": "code",
   "execution_count": 3,
   "metadata": {},
   "outputs": [
    {
     "name": "stdout",
     "output_type": "stream",
     "text": [
      "Training and Evaluating on task 1\n",
      "Train data shape is  (129, 1, 114)\n",
      "Train Labels shape is  (129, 3)\n",
      "Classes trained are: 0 to 3\n"
     ]
    },
    {
     "name": "stderr",
     "output_type": "stream",
     "text": [
      "  0%|          | 0/4000 [00:00<?, ?it/s]"
     ]
    },
    {
     "name": "stdout",
     "output_type": "stream",
     "text": [
      "Class 0, class 1 neurons = 5, class 0 neurons = 2\n",
      "Class 1, class 1 neurons = 3, class 0 neurons = 4\n",
      "Class 2, class 1 neurons = 5, class 0 neurons = 2\n"
     ]
    },
    {
     "name": "stderr",
     "output_type": "stream",
     "text": [
      "100%|██████████| 4000/4000 [1:53:03<00:00,  1.70s/it]\n"
     ]
    },
    {
     "name": "stdout",
     "output_type": "stream",
     "text": [
      "Evaluating in individual mode on test set\n",
      "multilabel-indicator multilabel-indicator\n",
      "float32 int64\n",
      "(65, 3) (65, 3)\n",
      "|                     |         0 |\n",
      "|:--------------------|----------:|\n",
      "| hamming loss        | 0.302564  |\n",
      "| zero_one_loss       | 0.646154  |\n",
      "| one_error           | 0.0615385 |\n",
      "| micro av. jaccard   | 0.584507  |\n",
      "| macro av. jaccard   | 0.546154  |\n",
      "| micro av. precision | 0.715517  |\n",
      "| macro av. precision | 0.700488  |\n",
      "| micro av. recall    | 0.761468  |\n",
      "| macro av. recall    | 0.719416  |\n",
      "| micro av. f1        | 0.737778  |\n",
      "| macro av. f1        | 0.693957  |\n",
      "Evaluating in combined mode on test set\n",
      "multilabel-indicator multilabel-indicator\n",
      "float32 int64\n",
      "(65, 3) (65, 3)\n",
      "|                     |         0 |\n",
      "|:--------------------|----------:|\n",
      "| hamming loss        | 0.302564  |\n",
      "| zero_one_loss       | 0.646154  |\n",
      "| one_error           | 0.0615385 |\n",
      "| micro av. jaccard   | 0.584507  |\n",
      "| macro av. jaccard   | 0.546154  |\n",
      "| micro av. precision | 0.715517  |\n",
      "| macro av. precision | 0.700488  |\n",
      "| micro av. recall    | 0.761468  |\n",
      "| macro av. recall    | 0.719416  |\n",
      "| micro av. f1        | 0.737778  |\n",
      "| macro av. f1        | 0.693957  |\n",
      "Training and Evaluating on task 2\n",
      "Train data shape is  (129, 1, 114)\n",
      "Train Labels shape is  (129, 2)\n",
      "Classes trained are: 3 to 5\n",
      "Augmenting class labels...\n",
      "Train Labels shape is  (129, 5)\n"
     ]
    },
    {
     "name": "stderr",
     "output_type": "stream",
     "text": [
      "  0%|          | 0/4000 [00:00<?, ?it/s]"
     ]
    },
    {
     "name": "stdout",
     "output_type": "stream",
     "text": [
      "Class 0, class 1 neurons = 5, class 0 neurons = 2\n",
      "Class 1, class 1 neurons = 6, class 0 neurons = 6\n",
      "Class 2, class 1 neurons = 7, class 0 neurons = 2\n",
      "Class 3, class 1 neurons = 5, class 0 neurons = 4\n",
      "Class 4, class 1 neurons = 6, class 0 neurons = 4\n"
     ]
    },
    {
     "name": "stderr",
     "output_type": "stream",
     "text": [
      "100%|██████████| 4000/4000 [3:35:35<00:00,  3.23s/it]  \n"
     ]
    },
    {
     "name": "stdout",
     "output_type": "stream",
     "text": [
      "Evaluating in individual mode on test set\n",
      "multilabel-indicator multilabel-indicator\n",
      "float32 int64\n",
      "(65, 2) (65, 2)\n",
      "|                     |         0 |\n",
      "|:--------------------|----------:|\n",
      "| hamming loss        | 0.215385  |\n",
      "| zero_one_loss       | 0.353846  |\n",
      "| one_error           | 0.0769231 |\n",
      "| micro av. jaccard   | 0.72      |\n",
      "| macro av. jaccard   | 0.690104  |\n",
      "| micro av. precision | 0.791209  |\n",
      "| macro av. precision | 0.787326  |\n",
      "| micro av. recall    | 0.888889  |\n",
      "| macro av. recall    | 0.85      |\n",
      "| micro av. f1        | 0.837209  |\n",
      "| macro av. f1        | 0.811899  |\n",
      "Evaluating in combined mode on test set\n",
      "multilabel-indicator multilabel-indicator\n",
      "float32 int64\n",
      "(65, 5) (65, 5)\n",
      "|                     |        0 |\n",
      "|:--------------------|---------:|\n",
      "| hamming loss        | 0.252308 |\n",
      "| zero_one_loss       | 0.753846 |\n",
      "| one_error           | 0        |\n",
      "| micro av. jaccard   | 0.659751 |\n",
      "| macro av. jaccard   | 0.627275 |\n",
      "| micro av. precision | 0.757143 |\n",
      "| macro av. precision | 0.745389 |\n",
      "| micro av. recall    | 0.836842 |\n",
      "| macro av. recall    | 0.797239 |\n",
      "| micro av. f1        | 0.795    |\n",
      "| macro av. f1        | 0.7627   |\n",
      "Training and Evaluating on task 3\n",
      "Train data shape is  (129, 1, 114)\n",
      "Train Labels shape is  (129, 2)\n",
      "Classes trained are: 5 to 7\n",
      "Augmenting class labels...\n",
      "Train Labels shape is  (129, 7)\n"
     ]
    },
    {
     "name": "stderr",
     "output_type": "stream",
     "text": [
      "  0%|          | 0/4000 [00:00<?, ?it/s]"
     ]
    },
    {
     "name": "stdout",
     "output_type": "stream",
     "text": [
      "Class 0, class 1 neurons = 5, class 0 neurons = 2\n",
      "Class 1, class 1 neurons = 9, class 0 neurons = 8\n",
      "Class 2, class 1 neurons = 11, class 0 neurons = 2\n",
      "Class 3, class 1 neurons = 6, class 0 neurons = 5\n",
      "Class 4, class 1 neurons = 6, class 0 neurons = 4\n",
      "Class 5, class 1 neurons = 3, class 0 neurons = 5\n",
      "Class 6, class 1 neurons = 3, class 0 neurons = 5\n"
     ]
    },
    {
     "name": "stderr",
     "output_type": "stream",
     "text": [
      "100%|██████████| 4000/4000 [3:59:15<00:00,  3.59s/it]  \n"
     ]
    },
    {
     "name": "stdout",
     "output_type": "stream",
     "text": [
      "Evaluating in individual mode on test set\n",
      "multilabel-indicator multilabel-indicator\n",
      "float32 int64\n",
      "(65, 2) (65, 2)\n",
      "|                     |         0 |\n",
      "|:--------------------|----------:|\n",
      "| hamming loss        | 0.207692  |\n",
      "| zero_one_loss       | 0.384615  |\n",
      "| one_error           | 0.0307692 |\n",
      "| micro av. jaccard   | 0.129032  |\n",
      "| macro av. jaccard   | 0.0833333 |\n",
      "| micro av. precision | 0.5       |\n",
      "| macro av. precision | 0.285714  |\n",
      "| micro av. recall    | 0.148148  |\n",
      "| macro av. recall    | 0.0952381 |\n",
      "| micro av. f1        | 0.228571  |\n",
      "| macro av. f1        | 0.142857  |\n",
      "Evaluating in combined mode on test set\n",
      "multilabel-indicator multilabel-indicator\n",
      "float32 int64\n",
      "(65, 7) (65, 7)\n",
      "|                     |        0 |\n",
      "|:--------------------|---------:|\n",
      "| hamming loss        | 0.250549 |\n",
      "| zero_one_loss       | 0.830769 |\n",
      "| one_error           | 0        |\n",
      "| micro av. jaccard   | 0.580882 |\n",
      "| macro av. jaccard   | 0.455264 |\n",
      "| micro av. precision | 0.741784 |\n",
      "| macro av. precision | 0.606563 |\n",
      "| micro av. recall    | 0.728111 |\n",
      "| macro av. recall    | 0.576665 |\n",
      "| micro av. f1        | 0.734884 |\n",
      "| macro av. f1        | 0.572109 |\n",
      "Evaluating in individual mode on test set\n",
      "|                     |         0 |        1 |         2 |\n",
      "|:--------------------|----------:|---------:|----------:|\n",
      "| hamming loss        | 0.276923  | 0.253846 | 0.207692  |\n",
      "| zero_one_loss       | 0.630769  | 0.4      | 0.384615  |\n",
      "| one_error           | 0.0461538 | 0.107692 | 0.0307692 |\n",
      "| micro av. jaccard   | 0.614286  | 0.673267 | 0.129032  |\n",
      "| macro av. jaccard   | 0.584148  | 0.633868 | 0.0833333 |\n",
      "| micro av. precision | 0.735043  | 0.772727 | 0.5       |\n",
      "| macro av. precision | 0.720287  | 0.756825 | 0.285714  |\n",
      "| micro av. recall    | 0.788991  | 0.839506 | 0.148148  |\n",
      "| macro av. recall    | 0.755262  | 0.790196 | 0.0952381 |\n",
      "| micro av. f1        | 0.761062  | 0.804734 | 0.228571  |\n",
      "| macro av. f1        | 0.729103  | 0.765869 | 0.142857  |\n",
      "Evaluating in combined mode on test set\n",
      "|                     |         0 |        1 |        2 |\n",
      "|:--------------------|----------:|---------:|---------:|\n",
      "| hamming loss        | 0.276923  | 0.267692 | 0.250549 |\n",
      "| zero_one_loss       | 0.630769  | 0.784615 | 0.830769 |\n",
      "| one_error           | 0.0461538 | 0        | 0        |\n",
      "| micro av. jaccard   | 0.614286  | 0.639004 | 0.580882 |\n",
      "| macro av. jaccard   | 0.584148  | 0.604036 | 0.455264 |\n",
      "| micro av. precision | 0.735043  | 0.75122  | 0.741784 |\n",
      "| macro av. precision | 0.720287  | 0.734902 | 0.606563 |\n",
      "| micro av. recall    | 0.788991  | 0.810526 | 0.728111 |\n",
      "| macro av. recall    | 0.755262  | 0.769236 | 0.576665 |\n",
      "| micro av. f1        | 0.761062  | 0.779747 | 0.734884 |\n",
      "| macro av. f1        | 0.729103  | 0.743809 | 0.572109 |\n",
      "Number of Tasks: 3\n",
      "Forgetting in task 1: first time micro av. f1 = 0.7378, after all tasks micro av. f1 = 0.7611\n",
      "Forgetting in task 2: first time micro av. f1 = 0.8372, after all tasks micro av. f1 = 0.7611\n",
      "Forgetting in task 3: first time micro av. f1 = 0.2286, after all tasks micro av. f1 = 0.7611\n"
     ]
    },
    {
     "data": {
      "image/png": "[encoded data removed]",
      "text/plain": [
       "<Figure size 360x360 with 1 Axes>"
      ]
     },
     "metadata": {
      "needs_background": "light"
     },
     "output_type": "display_data"
    }
   ],
   "source": [
    "hparams_dict = {\n",
    "    'inputs': 114,\n",
    "    'outputs': 7,\n",
    "    'time_constant': 300,\n",
    "    'alpha_a': 0.52,\n",
    "    'alpha_m': 0.22,\n",
    "    'w_max': 100.0,\n",
    "    'w_min': -100.0,\n",
    "    'lr': 1e-4,\n",
    "    'sim_time': 600,\n",
    "    'n_epochs': 4000,\n",
    "    'print_every': 400,\n",
    "    'name': 'Flags',\n",
    "    'tasks': {'samples': None, 'labels': [3, 2, 2]},\n",
    "    'seed': 2,\n",
    "    'ckpt_dir': './checkpoints/flags',\n",
    "    'load_from_file': None,\n",
    "    'device': device\n",
    "}\n",
    "net = OverallSNN(hparams_dict)\n",
    "net.fit_and_evaluate(train_spikes, train_labels, test_spikes, test_labels)"
   ]
  },
  {
   "cell_type": "code",
   "execution_count": 4,
   "metadata": {},
   "outputs": [
    {
     "name": "stdout",
     "output_type": "stream",
     "text": [
      "Training and Evaluating on task 1\n",
      "Train data shape is  (129, 1, 114)\n",
      "Train Labels shape is  (129, 3)\n",
      "Classes trained are: 0 to 3\n"
     ]
    },
    {
     "name": "stderr",
     "output_type": "stream",
     "text": [
      "  0%|          | 0/4000 [00:00<?, ?it/s]"
     ]
    },
    {
     "name": "stdout",
     "output_type": "stream",
     "text": [
      "Class 0, class 1 neurons = 6, class 0 neurons = 4\n",
      "Class 1, class 1 neurons = 3, class 0 neurons = 5\n",
      "Class 2, class 1 neurons = 3, class 0 neurons = 5\n"
     ]
    },
    {
     "name": "stderr",
     "output_type": "stream",
     "text": [
      "100%|██████████| 4000/4000 [38:02<00:00,  1.75it/s]\n"
     ]
    },
    {
     "name": "stdout",
     "output_type": "stream",
     "text": [
      "Evaluating in individual mode on test set\n",
      "multilabel-indicator multilabel-indicator\n",
      "float32 int64\n",
      "(65, 3) (65, 3)\n",
      "|                     |        0 |\n",
      "|:--------------------|---------:|\n",
      "| hamming loss        | 0.205128 |\n",
      "| zero_one_loss       | 0.476923 |\n",
      "| one_error           | 0        |\n",
      "| micro av. jaccard   | 0.578947 |\n",
      "| macro av. jaccard   | 0.321181 |\n",
      "| micro av. precision | 0.763889 |\n",
      "| macro av. precision | 0.456101 |\n",
      "| micro av. recall    | 0.705128 |\n",
      "| macro av. recall    | 0.396825 |\n",
      "| micro av. f1        | 0.733333 |\n",
      "| macro av. f1        | 0.39089  |\n",
      "Evaluating in combined mode on test set\n",
      "multilabel-indicator multilabel-indicator\n",
      "float32 int64\n",
      "(65, 3) (65, 3)\n",
      "|                     |        0 |\n",
      "|:--------------------|---------:|\n",
      "| hamming loss        | 0.205128 |\n",
      "| zero_one_loss       | 0.476923 |\n",
      "| one_error           | 0        |\n",
      "| micro av. jaccard   | 0.578947 |\n",
      "| macro av. jaccard   | 0.321181 |\n",
      "| micro av. precision | 0.763889 |\n",
      "| macro av. precision | 0.456101 |\n",
      "| micro av. recall    | 0.705128 |\n",
      "| macro av. recall    | 0.396825 |\n",
      "| micro av. f1        | 0.733333 |\n",
      "| macro av. f1        | 0.39089  |\n",
      "Training and Evaluating on task 2\n",
      "Train data shape is  (129, 1, 114)\n",
      "Train Labels shape is  (129, 2)\n",
      "Classes trained are: 3 to 5\n",
      "Augmenting class labels...\n",
      "Train Labels shape is  (129, 5)\n"
     ]
    },
    {
     "name": "stderr",
     "output_type": "stream",
     "text": [
      "  0%|          | 0/4000 [00:00<?, ?it/s]"
     ]
    },
    {
     "name": "stdout",
     "output_type": "stream",
     "text": [
      "Class 0, class 1 neurons = 6, class 0 neurons = 4\n",
      "Class 1, class 1 neurons = 3, class 0 neurons = 5\n",
      "Class 2, class 1 neurons = 3, class 0 neurons = 5\n",
      "Class 3, class 1 neurons = 5, class 0 neurons = 4\n",
      "Class 4, class 1 neurons = 3, class 0 neurons = 4\n"
     ]
    },
    {
     "name": "stderr",
     "output_type": "stream",
     "text": [
      "100%|██████████| 4000/4000 [58:40<00:00,  1.14it/s]\n"
     ]
    },
    {
     "name": "stdout",
     "output_type": "stream",
     "text": [
      "Evaluating in individual mode on test set\n",
      "multilabel-indicator multilabel-indicator\n",
      "float32 int64\n",
      "(65, 2) (65, 2)\n",
      "|                     |        0 |\n",
      "|:--------------------|---------:|\n",
      "| hamming loss        | 0.261538 |\n",
      "| zero_one_loss       | 0.523077 |\n",
      "| one_error           | 0        |\n",
      "| micro av. jaccard   | 0.540541 |\n",
      "| macro av. jaccard   | 0.541667 |\n",
      "| micro av. precision | 0.701754 |\n",
      "| macro av. precision | 0.705556 |\n",
      "| micro av. recall    | 0.701754 |\n",
      "| macro av. recall    | 0.701852 |\n",
      "| micro av. f1        | 0.701754 |\n",
      "| macro av. f1        | 0.701754 |\n",
      "Evaluating in combined mode on test set\n",
      "multilabel-indicator multilabel-indicator\n",
      "float32 int64\n",
      "(65, 5) (65, 5)\n",
      "|                     |        0 |\n",
      "|:--------------------|---------:|\n",
      "| hamming loss        | 0.218462 |\n",
      "| zero_one_loss       | 0.676923 |\n",
      "| one_error           | 0        |\n",
      "| micro av. jaccard   | 0.57485  |\n",
      "| macro av. jaccard   | 0.446943 |\n",
      "| micro av. precision | 0.75     |\n",
      "| macro av. precision | 0.707619 |\n",
      "| micro av. recall    | 0.711111 |\n",
      "| macro av. recall    | 0.557772 |\n",
      "| micro av. f1        | 0.730038 |\n",
      "| macro av. f1        | 0.580214 |\n",
      "Training and Evaluating on task 3\n",
      "Train data shape is  (129, 1, 114)\n",
      "Train Labels shape is  (129, 2)\n",
      "Classes trained are: 5 to 7\n",
      "Augmenting class labels...\n",
      "Train Labels shape is  (129, 7)\n"
     ]
    },
    {
     "name": "stderr",
     "output_type": "stream",
     "text": [
      "  0%|          | 0/4000 [00:00<?, ?it/s]"
     ]
    },
    {
     "name": "stdout",
     "output_type": "stream",
     "text": [
      "Class 0, class 1 neurons = 6, class 0 neurons = 4\n",
      "Class 1, class 1 neurons = 3, class 0 neurons = 5\n",
      "Class 2, class 1 neurons = 3, class 0 neurons = 6\n",
      "Class 3, class 1 neurons = 6, class 0 neurons = 5\n",
      "Class 4, class 1 neurons = 6, class 0 neurons = 6\n",
      "Class 5, class 1 neurons = 5, class 0 neurons = 2\n",
      "Class 6, class 1 neurons = 5, class 0 neurons = 2\n"
     ]
    },
    {
     "name": "stderr",
     "output_type": "stream",
     "text": [
      "100%|██████████| 4000/4000 [1:21:50<00:00,  1.23s/it]\n"
     ]
    },
    {
     "name": "stdout",
     "output_type": "stream",
     "text": [
      "Evaluating in individual mode on test set\n",
      "multilabel-indicator multilabel-indicator\n",
      "float32 int64\n",
      "(65, 2) (65, 2)\n",
      "|                     |         0 |\n",
      "|:--------------------|----------:|\n",
      "| hamming loss        | 0.292308  |\n",
      "| zero_one_loss       | 0.492308  |\n",
      "| one_error           | 0.0923077 |\n",
      "| micro av. jaccard   | 0.631068  |\n",
      "| macro av. jaccard   | 0.587449  |\n",
      "| micro av. precision | 0.755814  |\n",
      "| macro av. precision | 0.757875  |\n",
      "| micro av. recall    | 0.792683  |\n",
      "| macro av. recall    | 0.742424  |\n",
      "| micro av. f1        | 0.77381   |\n",
      "| macro av. f1        | 0.726121  |\n",
      "Evaluating in combined mode on test set\n",
      "multilabel-indicator multilabel-indicator\n",
      "float32 int64\n",
      "(65, 7) (65, 7)\n",
      "|                     |        0 |\n",
      "|:--------------------|---------:|\n",
      "| hamming loss        | 0.246154 |\n",
      "| zero_one_loss       | 0.830769 |\n",
      "| one_error           | 0        |\n",
      "| micro av. jaccard   | 0.588235 |\n",
      "| macro av. jaccard   | 0.480199 |\n",
      "| micro av. precision | 0.744186 |\n",
      "| macro av. precision | 0.690263 |\n",
      "| micro av. recall    | 0.737327 |\n",
      "| macro av. recall    | 0.606297 |\n",
      "| micro av. f1        | 0.740741 |\n",
      "| macro av. f1        | 0.614941 |\n",
      "Evaluating in individual mode on test set\n",
      "|                     |        0 |         1 |         2 |\n",
      "|:--------------------|---------:|----------:|----------:|\n",
      "| hamming loss        | 0.2      | 0.269231  | 0.292308  |\n",
      "| zero_one_loss       | 0.461538 | 0.523077  | 0.492308  |\n",
      "| one_error           | 0        | 0.0153846 | 0.0923077 |\n",
      "| micro av. jaccard   | 0.589474 | 0.527027  | 0.631068  |\n",
      "| macro av. jaccard   | 0.37748  | 0.527027  | 0.587449  |\n",
      "| micro av. precision | 0.767123 | 0.696429  | 0.755814  |\n",
      "| macro av. precision | 0.63955  | 0.698718  | 0.757875  |\n",
      "| micro av. recall    | 0.717949 | 0.684211  | 0.792683  |\n",
      "| macro av. recall    | 0.461718 | 0.687037  | 0.742424  |\n",
      "| micro av. f1        | 0.741722 | 0.690265  | 0.77381   |\n",
      "| macro av. f1        | 0.490674 | 0.690163  | 0.726121  |\n",
      "Evaluating in combined mode on test set\n",
      "|                     |        0 |        1 |        2 |\n",
      "|:--------------------|---------:|---------:|---------:|\n",
      "| hamming loss        | 0.2      | 0.227692 | 0.246154 |\n",
      "| zero_one_loss       | 0.461538 | 0.707692 | 0.830769 |\n",
      "| one_error           | 0        | 0        | 0        |\n",
      "| micro av. jaccard   | 0.589474 | 0.56213  | 0.588235 |\n",
      "| macro av. jaccard   | 0.37748  | 0.437299 | 0.480199 |\n",
      "| micro av. precision | 0.767123 | 0.736434 | 0.744186 |\n",
      "| macro av. precision | 0.63955  | 0.663217 | 0.690263 |\n",
      "| micro av. recall    | 0.717949 | 0.703704 | 0.737327 |\n",
      "| macro av. recall    | 0.461718 | 0.551846 | 0.606297 |\n",
      "| micro av. f1        | 0.741722 | 0.719697 | 0.740741 |\n",
      "| macro av. f1        | 0.490674 | 0.570469 | 0.614941 |\n",
      "Number of Tasks: 3\n",
      "Forgetting in task 1: first time micro av. f1 = 0.7333, after all tasks micro av. f1 = 0.7417\n",
      "Forgetting in task 2: first time micro av. f1 = 0.7018, after all tasks micro av. f1 = 0.7417\n",
      "Forgetting in task 3: first time micro av. f1 = 0.7738, after all tasks micro av. f1 = 0.7417\n"
     ]
    },
    {
     "data": {
      "image/png": "[encoded data removed]",
      "text/plain": [
       "<Figure size 360x360 with 1 Axes>"
      ]
     },
     "metadata": {
      "needs_background": "light"
     },
     "output_type": "display_data"
    }
   ],
   "source": [
    "hparams_dict = {\n",
    "    'inputs': 114,\n",
    "    'outputs': 7,\n",
    "    'time_constant': 300,\n",
    "    'alpha_a': 0.52,\n",
    "    'alpha_m': 0.22,\n",
    "    'w_max': 100.0,\n",
    "    'w_min': -100.0,\n",
    "    'lr': 1e-4,\n",
    "    'sim_time': 600,\n",
    "    'n_epochs': 4000,\n",
    "    'print_every': 400,\n",
    "    'name': 'Flags',\n",
    "    'tasks': {'samples': None, 'labels': [3, 2, 2]},\n",
    "    'seed': 3,\n",
    "    'ckpt_dir': './checkpoints/flags',\n",
    "    'load_from_file': None,\n",
    "    'device': device\n",
    "}\n",
    "net = OverallSNN(hparams_dict)\n",
    "net.fit_and_evaluate(train_spikes, train_labels, test_spikes, test_labels)"
   ]
  },
  {
   "cell_type": "code",
   "execution_count": 5,
   "metadata": {},
   "outputs": [
    {
     "name": "stdout",
     "output_type": "stream",
     "text": [
      "Training and Evaluating on task 1\n",
      "Train data shape is  (129, 1, 114)\n",
      "Train Labels shape is  (129, 3)\n",
      "Classes trained are: 0 to 3\n"
     ]
    },
    {
     "name": "stderr",
     "output_type": "stream",
     "text": [
      "  0%|          | 0/4000 [00:00<?, ?it/s]"
     ]
    },
    {
     "name": "stdout",
     "output_type": "stream",
     "text": [
      "Class 0, class 1 neurons = 6, class 0 neurons = 4\n",
      "Class 1, class 1 neurons = 3, class 0 neurons = 5\n",
      "Class 2, class 1 neurons = 5, class 0 neurons = 4\n"
     ]
    },
    {
     "name": "stderr",
     "output_type": "stream",
     "text": [
      "100%|██████████| 4000/4000 [39:02<00:00,  1.71it/s]\n"
     ]
    },
    {
     "name": "stdout",
     "output_type": "stream",
     "text": [
      "Evaluating in individual mode on test set\n",
      "multilabel-indicator multilabel-indicator\n",
      "float32 int64\n",
      "(65, 3) (65, 3)\n",
      "|                     |        0 |\n",
      "|:--------------------|---------:|\n",
      "| hamming loss        | 0.179487 |\n",
      "| zero_one_loss       | 0.430769 |\n",
      "| one_error           | 0        |\n",
      "| micro av. jaccard   | 0.672897 |\n",
      "| macro av. jaccard   | 0.460069 |\n",
      "| micro av. precision | 0.782609 |\n",
      "| macro av. precision | 0.524884 |\n",
      "| micro av. recall    | 0.827586 |\n",
      "| macro av. recall    | 0.566667 |\n",
      "| micro av. f1        | 0.804469 |\n",
      "| macro av. f1        | 0.541266 |\n",
      "Evaluating in combined mode on test set\n",
      "multilabel-indicator multilabel-indicator\n",
      "float32 int64\n",
      "(65, 3) (65, 3)\n",
      "|                     |        0 |\n",
      "|:--------------------|---------:|\n",
      "| hamming loss        | 0.179487 |\n",
      "| zero_one_loss       | 0.430769 |\n",
      "| one_error           | 0        |\n",
      "| micro av. jaccard   | 0.672897 |\n",
      "| macro av. jaccard   | 0.460069 |\n",
      "| micro av. precision | 0.782609 |\n",
      "| macro av. precision | 0.524884 |\n",
      "| micro av. recall    | 0.827586 |\n",
      "| macro av. recall    | 0.566667 |\n",
      "| micro av. f1        | 0.804469 |\n",
      "| macro av. f1        | 0.541266 |\n",
      "Training and Evaluating on task 2\n",
      "Train data shape is  (129, 1, 114)\n",
      "Train Labels shape is  (129, 2)\n",
      "Classes trained are: 3 to 5\n",
      "Augmenting class labels...\n",
      "Train Labels shape is  (129, 5)\n"
     ]
    },
    {
     "name": "stderr",
     "output_type": "stream",
     "text": [
      "  0%|          | 0/4000 [00:00<?, ?it/s]"
     ]
    },
    {
     "name": "stdout",
     "output_type": "stream",
     "text": [
      "Class 0, class 1 neurons = 6, class 0 neurons = 4\n",
      "Class 1, class 1 neurons = 3, class 0 neurons = 5\n",
      "Class 2, class 1 neurons = 6, class 0 neurons = 5\n",
      "Class 3, class 1 neurons = 5, class 0 neurons = 2\n",
      "Class 4, class 1 neurons = 3, class 0 neurons = 4\n"
     ]
    },
    {
     "name": "stderr",
     "output_type": "stream",
     "text": [
      "100%|██████████| 4000/4000 [58:54<00:00,  1.13it/s] \n"
     ]
    },
    {
     "name": "stdout",
     "output_type": "stream",
     "text": [
      "Evaluating in individual mode on test set\n",
      "multilabel-indicator multilabel-indicator\n",
      "float32 int64\n",
      "(65, 2) (65, 2)\n",
      "|                     |        0 |\n",
      "|:--------------------|---------:|\n",
      "| hamming loss        | 0.269231 |\n",
      "| zero_one_loss       | 0.430769 |\n",
      "| one_error           | 0.107692 |\n",
      "| micro av. jaccard   | 0.660194 |\n",
      "| macro av. jaccard   | 0.626923 |\n",
      "| micro av. precision | 0.715789 |\n",
      "| macro av. precision | 0.69359  |\n",
      "| micro av. recall    | 0.894737 |\n",
      "| macro av. recall    | 0.851852 |\n",
      "| micro av. f1        | 0.795322 |\n",
      "| macro av. f1        | 0.763158 |\n",
      "Evaluating in combined mode on test set\n",
      "multilabel-indicator multilabel-indicator\n",
      "float32 int64\n",
      "(65, 5) (65, 5)\n",
      "|                     |        0 |\n",
      "|:--------------------|---------:|\n",
      "| hamming loss        | 0.227692 |\n",
      "| zero_one_loss       | 0.753846 |\n",
      "| one_error           | 0        |\n",
      "| micro av. jaccard   | 0.649289 |\n",
      "| macro av. jaccard   | 0.532888 |\n",
      "| micro av. precision | 0.740541 |\n",
      "| macro av. precision | 0.680166 |\n",
      "| micro av. recall    | 0.840491 |\n",
      "| macro av. recall    | 0.690153 |\n",
      "| micro av. f1        | 0.787356 |\n",
      "| macro av. f1        | 0.661611 |\n",
      "Training and Evaluating on task 3\n",
      "Train data shape is  (129, 1, 114)\n",
      "Train Labels shape is  (129, 2)\n",
      "Classes trained are: 5 to 7\n",
      "Augmenting class labels...\n",
      "Train Labels shape is  (129, 7)\n"
     ]
    },
    {
     "name": "stderr",
     "output_type": "stream",
     "text": [
      "  0%|          | 0/4000 [00:00<?, ?it/s]"
     ]
    },
    {
     "name": "stdout",
     "output_type": "stream",
     "text": [
      "Class 0, class 1 neurons = 6, class 0 neurons = 4\n",
      "Class 1, class 1 neurons = 3, class 0 neurons = 5\n",
      "Class 2, class 1 neurons = 7, class 0 neurons = 5\n",
      "Class 3, class 1 neurons = 5, class 0 neurons = 2\n",
      "Class 4, class 1 neurons = 6, class 0 neurons = 6\n",
      "Class 5, class 1 neurons = 3, class 0 neurons = 5\n",
      "Class 6, class 1 neurons = 5, class 0 neurons = 2\n"
     ]
    },
    {
     "name": "stderr",
     "output_type": "stream",
     "text": [
      "100%|██████████| 4000/4000 [1:21:35<00:00,  1.22s/it]\n"
     ]
    },
    {
     "name": "stdout",
     "output_type": "stream",
     "text": [
      "Evaluating in individual mode on test set\n",
      "multilabel-indicator multilabel-indicator\n",
      "float32 int64\n",
      "(65, 2) (65, 2)\n",
      "|                     |        0 |\n",
      "|:--------------------|---------:|\n",
      "| hamming loss        | 0.338462 |\n",
      "| zero_one_loss       | 0.569231 |\n",
      "| one_error           | 0.107692 |\n",
      "| micro av. jaccard   | 0.301587 |\n",
      "| macro av. jaccard   | 0.275641 |\n",
      "| micro av. precision | 0.678571 |\n",
      "| macro av. precision | 0.642857 |\n",
      "| micro av. recall    | 0.351852 |\n",
      "| macro av. recall    | 0.322511 |\n",
      "| micro av. f1        | 0.463415 |\n",
      "| macro av. f1        | 0.420635 |\n",
      "Evaluating in combined mode on test set\n",
      "multilabel-indicator multilabel-indicator\n",
      "float32 int64\n",
      "(65, 7) (65, 7)\n",
      "|                     |        0 |\n",
      "|:--------------------|---------:|\n",
      "| hamming loss        | 0.250549 |\n",
      "| zero_one_loss       | 0.830769 |\n",
      "| one_error           | 0        |\n",
      "| micro av. jaccard   | 0.580882 |\n",
      "| macro av. jaccard   | 0.470724 |\n",
      "| micro av. precision | 0.741784 |\n",
      "| macro av. precision | 0.677489 |\n",
      "| micro av. recall    | 0.728111 |\n",
      "| macro av. recall    | 0.595165 |\n",
      "| micro av. f1        | 0.734884 |\n",
      "| macro av. f1        | 0.602292 |\n",
      "Evaluating in individual mode on test set\n",
      "|                     |        0 |        1 |        2 |\n",
      "|:--------------------|---------:|---------:|---------:|\n",
      "| hamming loss        | 0.194872 | 0.246154 | 0.338462 |\n",
      "| zero_one_loss       | 0.446154 | 0.384615 | 0.569231 |\n",
      "| one_error           | 0        | 0.107692 | 0.107692 |\n",
      "| micro av. jaccard   | 0.648148 | 0.683168 | 0.301587 |\n",
      "| macro av. jaccard   | 0.479207 | 0.653083 | 0.275641 |\n",
      "| micro av. precision | 0.769231 | 0.734043 | 0.678571 |\n",
      "| macro av. precision | 0.674807 | 0.716146 | 0.642857 |\n",
      "| micro av. recall    | 0.804598 | 0.907895 | 0.351852 |\n",
      "| macro av. recall    | 0.593464 | 0.87037  | 0.322511 |\n",
      "| micro av. f1        | 0.786517 | 0.811765 | 0.463415 |\n",
      "| macro av. f1        | 0.601921 | 0.784506 | 0.420635 |\n",
      "Evaluating in combined mode on test set\n",
      "|                     |        0 |        1 |        2 |\n",
      "|:--------------------|---------:|---------:|---------:|\n",
      "| hamming loss        | 0.194872 | 0.215385 | 0.250549 |\n",
      "| zero_one_loss       | 0.446154 | 0.676923 | 0.830769 |\n",
      "| one_error           | 0        | 0        | 0        |\n",
      "| micro av. jaccard   | 0.648148 | 0.665072 | 0.580882 |\n",
      "| macro av. jaccard   | 0.479207 | 0.548757 | 0.470724 |\n",
      "| micro av. precision | 0.769231 | 0.751351 | 0.741784 |\n",
      "| macro av. precision | 0.674807 | 0.691342 | 0.677489 |\n",
      "| micro av. recall    | 0.804598 | 0.852761 | 0.728111 |\n",
      "| macro av. recall    | 0.593464 | 0.704227 | 0.595165 |\n",
      "| micro av. f1        | 0.786517 | 0.798851 | 0.734884 |\n",
      "| macro av. f1        | 0.601921 | 0.674955 | 0.602292 |\n",
      "Number of Tasks: 3\n",
      "Forgetting in task 1: first time micro av. f1 = 0.8045, after all tasks micro av. f1 = 0.7865\n",
      "Forgetting in task 2: first time micro av. f1 = 0.7953, after all tasks micro av. f1 = 0.7865\n",
      "Forgetting in task 3: first time micro av. f1 = 0.4634, after all tasks micro av. f1 = 0.7865\n"
     ]
    },
    {
     "data": {
      "image/png": "[encoded data removed]",
      "text/plain": [
       "<Figure size 360x360 with 1 Axes>"
      ]
     },
     "metadata": {
      "needs_background": "light"
     },
     "output_type": "display_data"
    }
   ],
   "source": [
    "hparams_dict = {\n",
    "    'inputs': 114,\n",
    "    'outputs': 7,\n",
    "    'time_constant': 300,\n",
    "    'alpha_a': 0.52,\n",
    "    'alpha_m': 0.22,\n",
    "    'w_max': 100.0,\n",
    "    'w_min': -100.0,\n",
    "    'lr': 1e-4,\n",
    "    'sim_time': 600,\n",
    "    'n_epochs': 4000,\n",
    "    'print_every': 400,\n",
    "    'name': 'Flags',\n",
    "    'tasks': {'samples': None, 'labels': [3, 2, 2]},\n",
    "    'seed': 4,\n",
    "    'ckpt_dir': './checkpoints/flags',\n",
    "    'load_from_file': None,\n",
    "    'device': device\n",
    "}\n",
    "net = OverallSNN(hparams_dict)\n",
    "net.fit_and_evaluate(train_spikes, train_labels, test_spikes, test_labels)"
   ]
  }
 ],
 "metadata": {
  "kernelspec": {
   "display_name": "DL_gpu",
   "language": "python",
   "name": "dl_gpu"
  },
  "language_info": {
   "codemirror_mode": {
    "name": "ipython",
    "version": 3
   },
   "file_extension": ".py",
   "mimetype": "text/x-python",
   "name": "python",
   "nbconvert_exporter": "python",
   "pygments_lexer": "ipython3",
   "version": "3.7.7"
  }
 },
 "nbformat": 4,
 "nbformat_minor": 4
}
