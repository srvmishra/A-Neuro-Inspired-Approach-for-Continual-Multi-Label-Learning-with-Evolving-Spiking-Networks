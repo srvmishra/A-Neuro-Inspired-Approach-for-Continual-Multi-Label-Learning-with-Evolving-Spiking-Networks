{
 "cells": [
  {
   "cell_type": "code",
   "execution_count": 1,
   "metadata": {},
   "outputs": [],
   "source": [
    "from ContinualEvolvingSNN import *\n",
    "import arff\n",
    "import warnings\n",
    "from scipy.io import loadmat\n",
    "warnings.filterwarnings(\"ignore\")\n",
    "%matplotlib inline\n",
    "np.random.seed(0)\n",
    "torch.manual_seed(0)\n",
    "torch.cuda.manual_seed(0)\n",
    "device = torch.device('cuda:2' if torch.cuda.is_available() else 'cpu')"
   ]
  },
  {
   "cell_type": "markdown",
   "metadata": {},
   "source": [
    "## Load Data and Convert to Spikes"
   ]
  },
  {
   "cell_type": "code",
   "execution_count": 2,
   "metadata": {},
   "outputs": [
    {
     "name": "stderr",
     "output_type": "stream",
     "text": [
      "100%|██████████| 4658/4658 [00:00<00:00, 7285.23it/s]\n",
      "100%|██████████| 3108/3108 [00:00<00:00, 7516.85it/s]"
     ]
    },
    {
     "name": "stdout",
     "output_type": "stream",
     "text": [
      "Train data shape:  (4658, 1, 120)\n",
      "Train labels shape:  (4658, 19)\n",
      "Test data shape:  (3108, 1, 120)\n",
      "Test labels shape:  (3108, 19)\n"
     ]
    },
    {
     "name": "stderr",
     "output_type": "stream",
     "text": [
      "\n"
     ]
    }
   ],
   "source": [
    "trainpath = '../datasets/EukaryotePseAAC/EukaryotePseAAC7766_train_MVMD.mat'\n",
    "testpath = '../datasets/EukaryotePseAAC/EukaryotePseAAC7766_test_MVMD.mat'\n",
    "\n",
    "train_ = loadmat(trainpath)\n",
    "train_data, train_labels = train_['transformed_train_data'], np.array(train_['labels'])\n",
    "\n",
    "test_ = loadmat(testpath)\n",
    "test_data, test_labels = test_['transformed_test_data'], np.array(test_['labels'])\n",
    "\n",
    "a = train_data.max(axis=0)\n",
    "b = train_data.min(axis=0)\n",
    "\n",
    "delete_indices = [0, 12, 15]\n",
    "train_labels = np.delete(train_labels, delete_indices, 1)\n",
    "test_labels = np.delete(test_labels, delete_indices, 1)\n",
    "\n",
    "train_spikes = encoding(train_data, device, a, b)\n",
    "test_spikes = encoding(test_data, device, a, b)\n",
    "print(\"Train data shape: \", np.array(train_spikes).shape)\n",
    "print(\"Train labels shape: \", np.array(train_labels).shape)\n",
    "print(\"Test data shape: \", np.array(test_spikes).shape)\n",
    "print(\"Test labels shape: \", np.array(test_labels).shape)"
   ]
  },
  {
   "cell_type": "markdown",
   "metadata": {},
   "source": [
    "## CIFDM Training and Evaluation Mode"
   ]
  },
  {
   "cell_type": "code",
   "execution_count": 3,
   "metadata": {},
   "outputs": [
    {
     "name": "stdout",
     "output_type": "stream",
     "text": [
      "Training and Evaluating on task 1\n",
      "Train data shape is  (435, 1, 120)\n",
      "Train Labels shape is  (435, 2)\n",
      "Classes trained are: 0 to 2\n"
     ]
    },
    {
     "name": "stderr",
     "output_type": "stream",
     "text": [
      "  0%|          | 0/2500 [00:00<?, ?it/s]"
     ]
    },
    {
     "name": "stdout",
     "output_type": "stream",
     "text": [
      "Class 0, class 1 neurons = 1, class 0 neurons = 1\n",
      "Class 1, class 1 neurons = 1, class 0 neurons = 1\n"
     ]
    },
    {
     "name": "stderr",
     "output_type": "stream",
     "text": [
      "100%|██████████| 2500/2500 [30:53<00:00,  1.35it/s]\n"
     ]
    },
    {
     "name": "stdout",
     "output_type": "stream",
     "text": [
      "Evaluating in individual mode on test set\n",
      "multilabel-indicator multilabel-indicator\n",
      "uint8 int64\n",
      "(3108, 2) (3108, 2)\n",
      "|                     |          0 |\n",
      "|:--------------------|-----------:|\n",
      "| hamming loss        | 0.458494   |\n",
      "| zero_one_loss       | 0.910875   |\n",
      "| one_error           | 0.00611326 |\n",
      "| micro av. jaccard   | 0.0888747  |\n",
      "| macro av. jaccard   | 0.0447233  |\n",
      "| micro av. precision | 0.0894466  |\n",
      "| macro av. precision | 0.0447233  |\n",
      "| micro av. recall    | 0.932886   |\n",
      "| macro av. recall    | 0.5        |\n",
      "| micro av. f1        | 0.163241   |\n",
      "| macro av. f1        | 0.0821028  |\n",
      "Evaluating in combined mode on test set\n",
      "multilabel-indicator multilabel-indicator\n",
      "uint8 int64\n",
      "(3108, 2) (3108, 2)\n",
      "|                     |          0 |\n",
      "|:--------------------|-----------:|\n",
      "| hamming loss        | 0.458494   |\n",
      "| zero_one_loss       | 0.910875   |\n",
      "| one_error           | 0.00611326 |\n",
      "| micro av. jaccard   | 0.0888747  |\n",
      "| macro av. jaccard   | 0.0447233  |\n",
      "| micro av. precision | 0.0894466  |\n",
      "| macro av. precision | 0.0447233  |\n",
      "| micro av. recall    | 0.932886   |\n",
      "| macro av. recall    | 0.5        |\n",
      "| micro av. f1        | 0.163241   |\n",
      "| macro av. f1        | 0.0821028  |\n",
      "Training and Evaluating on task 2\n",
      "Train data shape is  (530, 1, 120)\n",
      "Train Labels shape is  (530, 2)\n",
      "Classes trained are: 2 to 4\n",
      "Augmenting class labels...\n",
      "Train Labels shape is  (530, 4)\n"
     ]
    },
    {
     "name": "stderr",
     "output_type": "stream",
     "text": [
      "  0%|          | 0/2500 [00:00<?, ?it/s]"
     ]
    },
    {
     "name": "stdout",
     "output_type": "stream",
     "text": [
      "Class 0, class 1 neurons = 2, class 0 neurons = 1\n",
      "Class 1, class 1 neurons = 1, class 0 neurons = 2\n",
      "Class 2, class 1 neurons = 1, class 0 neurons = 2\n",
      "Class 3, class 1 neurons = 1, class 0 neurons = 2\n"
     ]
    },
    {
     "name": "stderr",
     "output_type": "stream",
     "text": [
      "100%|██████████| 2500/2500 [1:19:10<00:00,  1.90s/it]\n"
     ]
    },
    {
     "name": "stdout",
     "output_type": "stream",
     "text": [
      "Evaluating in individual mode on test set\n",
      "multilabel-indicator multilabel-indicator\n",
      "uint8 int64\n",
      "(3108, 2) (3108, 2)\n",
      "|                     |           0 |\n",
      "|:--------------------|------------:|\n",
      "| hamming loss        | 0.124678    |\n",
      "| zero_one_loss       | 0.248391    |\n",
      "| one_error           | 0.000965251 |\n",
      "| micro av. jaccard   | 0.126268    |\n",
      "| macro av. jaccard   | 0.100945    |\n",
      "| micro av. precision | 0.138786    |\n",
      "| macro av. precision | 0.12004     |\n",
      "| micro av. recall    | 0.583333    |\n",
      "| macro av. recall    | 0.433014    |\n",
      "| micro av. f1        | 0.224224    |\n",
      "| macro av. f1        | 0.181747    |\n",
      "Evaluating in combined mode on test set\n",
      "multilabel-indicator multilabel-indicator\n",
      "uint8 int64\n",
      "(3108, 4) (3108, 4)\n",
      "|                     |         0 |\n",
      "|:--------------------|----------:|\n",
      "| hamming loss        | 0.291586  |\n",
      "| zero_one_loss       | 0.932432  |\n",
      "| one_error           | 0         |\n",
      "| micro av. jaccard   | 0.0971357 |\n",
      "| macro av. jaccard   | 0.0728341 |\n",
      "| micro av. precision | 0.0996169 |\n",
      "| macro av. precision | 0.0823815 |\n",
      "| micro av. recall    | 0.795918  |\n",
      "| macro av. recall    | 0.466507  |\n",
      "| micro av. f1        | 0.177072  |\n",
      "| macro av. f1        | 0.131925  |\n",
      "Training and Evaluating on task 3\n",
      "Train data shape is  (438, 1, 120)\n",
      "Train Labels shape is  (438, 2)\n",
      "Classes trained are: 4 to 6\n",
      "Augmenting class labels...\n",
      "Train Labels shape is  (438, 6)\n"
     ]
    },
    {
     "name": "stderr",
     "output_type": "stream",
     "text": [
      "  0%|          | 0/2500 [00:00<?, ?it/s]"
     ]
    },
    {
     "name": "stdout",
     "output_type": "stream",
     "text": [
      "Class 0, class 1 neurons = 2, class 0 neurons = 1\n",
      "Class 1, class 1 neurons = 1, class 0 neurons = 2\n",
      "Class 2, class 1 neurons = 2, class 0 neurons = 4\n",
      "Class 3, class 1 neurons = 2, class 0 neurons = 4\n",
      "Class 4, class 1 neurons = 1, class 0 neurons = 2\n",
      "Class 5, class 1 neurons = 2, class 0 neurons = 1\n"
     ]
    },
    {
     "name": "stderr",
     "output_type": "stream",
     "text": [
      "100%|██████████| 2500/2500 [1:43:33<00:00,  2.49s/it]\n"
     ]
    },
    {
     "name": "stdout",
     "output_type": "stream",
     "text": [
      "Evaluating in individual mode on test set\n",
      "multilabel-indicator multilabel-indicator\n",
      "uint8 int64\n",
      "(3108, 2) (3108, 2)\n",
      "|                     |        0 |\n",
      "|:--------------------|---------:|\n",
      "| hamming loss        | 0.364543 |\n",
      "| zero_one_loss       | 0.71879  |\n",
      "| one_error           | 0.010296 |\n",
      "| micro av. jaccard   | 0.278344 |\n",
      "| macro av. jaccard   | 0.140605 |\n",
      "| micro av. precision | 0.28121  |\n",
      "| macro av. precision | 0.140605 |\n",
      "| micro av. recall    | 0.96468  |\n",
      "| macro av. recall    | 0.5      |\n",
      "| micro av. f1        | 0.435476 |\n",
      "| macro av. f1        | 0.219488 |\n",
      "Evaluating in combined mode on test set\n",
      "multilabel-indicator multilabel-indicator\n",
      "uint8 int64\n",
      "(3108, 6) (3108, 6)\n",
      "|                     |         0 |\n",
      "|:--------------------|----------:|\n",
      "| hamming loss        | 0.312956  |\n",
      "| zero_one_loss       | 0.995495  |\n",
      "| one_error           | 0         |\n",
      "| micro av. jaccard   | 0.17559   |\n",
      "| macro av. jaccard   | 0.0813966 |\n",
      "| micro av. precision | 0.179469  |\n",
      "| macro av. precision | 0.0831376 |\n",
      "| micro av. recall    | 0.890401  |\n",
      "| macro av. recall    | 0.431818  |\n",
      "| micro av. f1        | 0.298726  |\n",
      "| macro av. f1        | 0.135638  |\n",
      "Training and Evaluating on task 4\n",
      "Train data shape is  (465, 1, 120)\n",
      "Train Labels shape is  (465, 2)\n",
      "Classes trained are: 6 to 8\n",
      "Augmenting class labels...\n",
      "Train Labels shape is  (465, 8)\n"
     ]
    },
    {
     "name": "stderr",
     "output_type": "stream",
     "text": [
      "  0%|          | 0/2500 [00:00<?, ?it/s]"
     ]
    },
    {
     "name": "stdout",
     "output_type": "stream",
     "text": [
      "Class 0, class 1 neurons = 2, class 0 neurons = 1\n",
      "Class 1, class 1 neurons = 1, class 0 neurons = 2\n",
      "Class 2, class 1 neurons = 2, class 0 neurons = 4\n",
      "Class 3, class 1 neurons = 3, class 0 neurons = 5\n",
      "Class 4, class 1 neurons = 1, class 0 neurons = 2\n",
      "Class 5, class 1 neurons = 2, class 0 neurons = 1\n",
      "Class 6, class 1 neurons = 1, class 0 neurons = 1\n",
      "Class 7, class 1 neurons = 1, class 0 neurons = 1\n"
     ]
    },
    {
     "name": "stderr",
     "output_type": "stream",
     "text": [
      "100%|██████████| 2500/2500 [2:16:36<00:00,  3.28s/it]  \n"
     ]
    },
    {
     "name": "stdout",
     "output_type": "stream",
     "text": [
      "Evaluating in individual mode on test set\n",
      "multilabel-indicator multilabel-indicator\n",
      "uint8 int64\n",
      "(3108, 2) (3108, 2)\n",
      "|                     |         0 |\n",
      "|:--------------------|----------:|\n",
      "| hamming loss        | 0.037323  |\n",
      "| zero_one_loss       | 0.0746461 |\n",
      "| one_error           | 0         |\n",
      "| micro av. jaccard   | 0         |\n",
      "| macro av. jaccard   | 0         |\n",
      "| micro av. precision | 0         |\n",
      "| macro av. precision | 0         |\n",
      "| micro av. recall    | 0         |\n",
      "| macro av. recall    | 0         |\n",
      "| micro av. f1        | 0         |\n",
      "| macro av. f1        | 0         |\n",
      "Evaluating in combined mode on test set\n",
      "multilabel-indicator multilabel-indicator\n",
      "uint8 int64\n",
      "(3108, 8) (3108, 8)\n",
      "|                     |         0 |\n",
      "|:--------------------|----------:|\n",
      "| hamming loss        | 0.246099  |\n",
      "| zero_one_loss       | 0.995495  |\n",
      "| one_error           | 0         |\n",
      "| micro av. jaccard   | 0.169855  |\n",
      "| macro av. jaccard   | 0.061338  |\n",
      "| micro av. precision | 0.178985  |\n",
      "| macro av. precision | 0.0623783 |\n",
      "| micro av. recall    | 0.769042  |\n",
      "| macro av. recall    | 0.331169  |\n",
      "| micro av. f1        | 0.290386  |\n",
      "| macro av. f1        | 0.102193  |\n",
      "Training and Evaluating on task 5\n",
      "Train data shape is  (465, 1, 120)\n",
      "Train Labels shape is  (465, 2)\n",
      "Classes trained are: 8 to 10\n",
      "Augmenting class labels...\n",
      "Train Labels shape is  (465, 10)\n"
     ]
    },
    {
     "name": "stderr",
     "output_type": "stream",
     "text": [
      "  0%|          | 0/2500 [00:00<?, ?it/s]"
     ]
    },
    {
     "name": "stdout",
     "output_type": "stream",
     "text": [
      "Class 0, class 1 neurons = 2, class 0 neurons = 1\n",
      "Class 1, class 1 neurons = 1, class 0 neurons = 2\n",
      "Class 2, class 1 neurons = 2, class 0 neurons = 4\n",
      "Class 3, class 1 neurons = 4, class 0 neurons = 6\n",
      "Class 4, class 1 neurons = 1, class 0 neurons = 2\n",
      "Class 5, class 1 neurons = 2, class 0 neurons = 1\n",
      "Class 6, class 1 neurons = 1, class 0 neurons = 1\n",
      "Class 7, class 1 neurons = 1, class 0 neurons = 1\n",
      "Class 8, class 1 neurons = 1, class 0 neurons = 1\n",
      "Class 9, class 1 neurons = 1, class 0 neurons = 1\n"
     ]
    },
    {
     "name": "stderr",
     "output_type": "stream",
     "text": [
      "100%|██████████| 2500/2500 [2:47:01<00:00,  4.01s/it]  \n"
     ]
    },
    {
     "name": "stdout",
     "output_type": "stream",
     "text": [
      "Evaluating in individual mode on test set\n",
      "multilabel-indicator multilabel-indicator\n",
      "uint8 int64\n",
      "(3108, 2) (3108, 2)\n",
      "|                     |         0 |\n",
      "|:--------------------|----------:|\n",
      "| hamming loss        | 0.0701416 |\n",
      "| zero_one_loss       | 0.140283  |\n",
      "| one_error           | 0         |\n",
      "| micro av. jaccard   | 0         |\n",
      "| macro av. jaccard   | 0         |\n",
      "| micro av. precision | 0         |\n",
      "| macro av. precision | 0         |\n",
      "| micro av. recall    | 0         |\n",
      "| macro av. recall    | 0         |\n",
      "| micro av. f1        | 0         |\n",
      "| macro av. f1        | 0         |\n",
      "Evaluating in combined mode on test set\n",
      "multilabel-indicator multilabel-indicator\n",
      "uint8 int64\n",
      "(3108, 10) (3108, 10)\n",
      "|                     |         0 |\n",
      "|:--------------------|----------:|\n",
      "| hamming loss        | 0.209942  |\n",
      "| zero_one_loss       | 0.995817  |\n",
      "| one_error           | 0         |\n",
      "| micro av. jaccard   | 0.160124  |\n",
      "| macro av. jaccard   | 0.048638  |\n",
      "| micro av. precision | 0.179019  |\n",
      "| macro av. precision | 0.0496168 |\n",
      "| micro av. recall    | 0.602713  |\n",
      "| macro av. recall    | 0.25974   |\n",
      "| micro av. f1        | 0.276046  |\n",
      "| macro av. f1        | 0.0810622 |\n",
      "Training and Evaluating on task 6\n",
      "Train data shape is  (465, 1, 120)\n",
      "Train Labels shape is  (465, 2)\n",
      "Classes trained are: 10 to 12\n",
      "Augmenting class labels...\n",
      "Train Labels shape is  (465, 12)\n"
     ]
    },
    {
     "name": "stderr",
     "output_type": "stream",
     "text": [
      "  0%|          | 0/2500 [00:00<?, ?it/s]"
     ]
    },
    {
     "name": "stdout",
     "output_type": "stream",
     "text": [
      "Class 0, class 1 neurons = 4, class 0 neurons = 1\n",
      "Class 1, class 1 neurons = 1, class 0 neurons = 4\n",
      "Class 2, class 1 neurons = 2, class 0 neurons = 6\n",
      "Class 3, class 1 neurons = 5, class 0 neurons = 9\n",
      "Class 4, class 1 neurons = 1, class 0 neurons = 4\n",
      "Class 5, class 1 neurons = 4, class 0 neurons = 1\n",
      "Class 6, class 1 neurons = 1, class 0 neurons = 3\n",
      "Class 7, class 1 neurons = 1, class 0 neurons = 3\n",
      "Class 8, class 1 neurons = 1, class 0 neurons = 3\n",
      "Class 9, class 1 neurons = 1, class 0 neurons = 3\n",
      "Class 10, class 1 neurons = 1, class 0 neurons = 3\n",
      "Class 11, class 1 neurons = 1, class 0 neurons = 3\n"
     ]
    },
    {
     "name": "stderr",
     "output_type": "stream",
     "text": [
      "100%|██████████| 2500/2500 [3:57:42<00:00,  5.70s/it]  \n"
     ]
    },
    {
     "name": "stdout",
     "output_type": "stream",
     "text": [
      "Evaluating in individual mode on test set\n",
      "multilabel-indicator multilabel-indicator\n",
      "uint8 int64\n",
      "(3108, 2) (3108, 2)\n",
      "|                     |         0 |\n",
      "|:--------------------|----------:|\n",
      "| hamming loss        | 0.0210746 |\n",
      "| zero_one_loss       | 0.0421493 |\n",
      "| one_error           | 0         |\n",
      "| micro av. jaccard   | 0         |\n",
      "| macro av. jaccard   | 0         |\n",
      "| micro av. precision | 0         |\n",
      "| macro av. precision | 0         |\n",
      "| micro av. recall    | 0         |\n",
      "| macro av. recall    | 0         |\n",
      "| micro av. f1        | 0         |\n",
      "| macro av. f1        | 0         |\n",
      "Evaluating in combined mode on test set\n",
      "multilabel-indicator multilabel-indicator\n",
      "uint8 int64\n",
      "(3108, 12) (3108, 12)\n",
      "|                     |         0 |\n",
      "|:--------------------|----------:|\n",
      "| hamming loss        | 0.177043  |\n",
      "| zero_one_loss       | 0.996139  |\n",
      "| one_error           | 0         |\n",
      "| micro av. jaccard   | 0.158103  |\n",
      "| macro av. jaccard   | 0.0408248 |\n",
      "| micro av. precision | 0.180023  |\n",
      "| macro av. precision | 0.0418007 |\n",
      "| micro av. recall    | 0.56492   |\n",
      "| macro av. recall    | 0.214286  |\n",
      "| micro av. f1        | 0.273038  |\n",
      "| macro av. f1        | 0.0680213 |\n",
      "Training and Evaluating on task 7\n",
      "Train data shape is  (465, 1, 120)\n",
      "Train Labels shape is  (465, 2)\n",
      "Classes trained are: 12 to 14\n",
      "Augmenting class labels...\n",
      "Train Labels shape is  (465, 14)\n"
     ]
    },
    {
     "name": "stderr",
     "output_type": "stream",
     "text": [
      "  0%|          | 0/2500 [00:00<?, ?it/s]"
     ]
    },
    {
     "name": "stdout",
     "output_type": "stream",
     "text": [
      "Class 0, class 1 neurons = 4, class 0 neurons = 1\n",
      "Class 1, class 1 neurons = 1, class 0 neurons = 4\n",
      "Class 2, class 1 neurons = 2, class 0 neurons = 6\n",
      "Class 3, class 1 neurons = 5, class 0 neurons = 13\n",
      "Class 4, class 1 neurons = 1, class 0 neurons = 4\n",
      "Class 5, class 1 neurons = 4, class 0 neurons = 1\n",
      "Class 6, class 1 neurons = 1, class 0 neurons = 3\n",
      "Class 7, class 1 neurons = 1, class 0 neurons = 3\n",
      "Class 8, class 1 neurons = 1, class 0 neurons = 3\n",
      "Class 9, class 1 neurons = 1, class 0 neurons = 3\n",
      "Class 10, class 1 neurons = 1, class 0 neurons = 3\n",
      "Class 11, class 1 neurons = 1, class 0 neurons = 3\n",
      "Class 12, class 1 neurons = 1, class 0 neurons = 5\n",
      "Class 13, class 1 neurons = 1, class 0 neurons = 4\n"
     ]
    },
    {
     "name": "stderr",
     "output_type": "stream",
     "text": [
      "100%|██████████| 2500/2500 [4:43:57<00:00,  6.81s/it]  \n"
     ]
    },
    {
     "name": "stdout",
     "output_type": "stream",
     "text": [
      "Evaluating in individual mode on test set\n",
      "multilabel-indicator multilabel-indicator\n",
      "uint8 int64\n",
      "(3108, 2) (3108, 2)\n",
      "|                     |         0 |\n",
      "|:--------------------|----------:|\n",
      "| hamming loss        | 0.0678893 |\n",
      "| zero_one_loss       | 0.135779  |\n",
      "| one_error           | 0         |\n",
      "| micro av. jaccard   | 0.126294  |\n",
      "| macro av. jaccard   | 0.065032  |\n",
      "| micro av. precision | 0.209622  |\n",
      "| macro av. precision | 0.104811  |\n",
      "| micro av. recall    | 0.241107  |\n",
      "| macro av. recall    | 0.127615  |\n",
      "| micro av. f1        | 0.224265  |\n",
      "| macro av. f1        | 0.115094  |\n",
      "Evaluating in combined mode on test set\n",
      "multilabel-indicator multilabel-indicator\n",
      "uint8 int64\n",
      "(3108, 14) (3108, 14)\n",
      "|                     |         0 |\n",
      "|:--------------------|----------:|\n",
      "| hamming loss        | 0.163081  |\n",
      "| zero_one_loss       | 0.996139  |\n",
      "| one_error           | 0         |\n",
      "| micro av. jaccard   | 0.154735  |\n",
      "| macro av. jaccard   | 0.0433777 |\n",
      "| micro av. precision | 0.179271  |\n",
      "| macro av. precision | 0.0497608 |\n",
      "| micro av. recall    | 0.530637  |\n",
      "| macro av. recall    | 0.200977  |\n",
      "| micro av. f1        | 0.268001  |\n",
      "| macro av. f1        | 0.0732842 |\n",
      "Training and Evaluating on task 8\n",
      "Train data shape is  (465, 1, 120)\n",
      "Train Labels shape is  (465, 2)\n",
      "Classes trained are: 14 to 16\n",
      "Augmenting class labels...\n",
      "Train Labels shape is  (465, 16)\n"
     ]
    },
    {
     "name": "stderr",
     "output_type": "stream",
     "text": [
      "  0%|          | 0/2500 [00:00<?, ?it/s]"
     ]
    },
    {
     "name": "stdout",
     "output_type": "stream",
     "text": [
      "Class 0, class 1 neurons = 4, class 0 neurons = 1\n",
      "Class 1, class 1 neurons = 1, class 0 neurons = 4\n",
      "Class 2, class 1 neurons = 2, class 0 neurons = 6\n",
      "Class 3, class 1 neurons = 5, class 0 neurons = 16\n",
      "Class 4, class 1 neurons = 1, class 0 neurons = 4\n",
      "Class 5, class 1 neurons = 4, class 0 neurons = 1\n",
      "Class 6, class 1 neurons = 1, class 0 neurons = 3\n",
      "Class 7, class 1 neurons = 1, class 0 neurons = 3\n",
      "Class 8, class 1 neurons = 1, class 0 neurons = 3\n",
      "Class 9, class 1 neurons = 1, class 0 neurons = 3\n",
      "Class 10, class 1 neurons = 1, class 0 neurons = 3\n",
      "Class 11, class 1 neurons = 1, class 0 neurons = 3\n",
      "Class 12, class 1 neurons = 1, class 0 neurons = 5\n",
      "Class 13, class 1 neurons = 2, class 0 neurons = 5\n",
      "Class 14, class 1 neurons = 1, class 0 neurons = 1\n",
      "Class 15, class 1 neurons = 1, class 0 neurons = 2\n"
     ]
    },
    {
     "name": "stderr",
     "output_type": "stream",
     "text": [
      "100%|██████████| 2500/2500 [5:20:06<00:00,  7.68s/it]  \n"
     ]
    },
    {
     "name": "stdout",
     "output_type": "stream",
     "text": [
      "Evaluating in individual mode on test set\n",
      "multilabel-indicator multilabel-indicator\n",
      "uint8 int64\n",
      "(3108, 2) (3108, 2)\n",
      "|                     |         0 |\n",
      "|:--------------------|----------:|\n",
      "| hamming loss        | 0.202381  |\n",
      "| zero_one_loss       | 0.402831  |\n",
      "| one_error           | 0.0019305 |\n",
      "| micro av. jaccard   | 0.295238  |\n",
      "| macro av. jaccard   | 0.151524  |\n",
      "| micro av. precision | 0.395349  |\n",
      "| macro av. precision | 0.197674  |\n",
      "| micro av. recall    | 0.538304  |\n",
      "| macro av. recall    | 0.282422  |\n",
      "| micro av. f1        | 0.455882  |\n",
      "| macro av. f1        | 0.232568  |\n",
      "Evaluating in combined mode on test set\n",
      "multilabel-indicator multilabel-indicator\n",
      "uint8 int64\n",
      "(3108, 16) (3108, 16)\n",
      "|                     |         0 |\n",
      "|:--------------------|----------:|\n",
      "| hamming loss        | 0.169683  |\n",
      "| zero_one_loss       | 0.998069  |\n",
      "| one_error           | 0         |\n",
      "| micro av. jaccard   | 0.177743  |\n",
      "| macro av. jaccard   | 0.0557931 |\n",
      "| micro av. precision | 0.210648  |\n",
      "| macro av. precision | 0.0657377 |\n",
      "| micro av. recall    | 0.532244  |\n",
      "| macro av. recall    | 0.20948   |\n",
      "| micro av. f1        | 0.301837  |\n",
      "| macro av. f1        | 0.0914074 |\n",
      "Training and Evaluating on task 9\n",
      "Train data shape is  (465, 1, 120)\n",
      "Train Labels shape is  (465, 2)\n",
      "Classes trained are: 16 to 18\n",
      "Augmenting class labels...\n",
      "Train Labels shape is  (465, 18)\n"
     ]
    },
    {
     "name": "stderr",
     "output_type": "stream",
     "text": [
      "  0%|          | 0/2500 [00:00<?, ?it/s]"
     ]
    },
    {
     "name": "stdout",
     "output_type": "stream",
     "text": [
      "Class 0, class 1 neurons = 4, class 0 neurons = 1\n",
      "Class 1, class 1 neurons = 1, class 0 neurons = 5\n",
      "Class 2, class 1 neurons = 2, class 0 neurons = 6\n",
      "Class 3, class 1 neurons = 5, class 0 neurons = 17\n",
      "Class 4, class 1 neurons = 1, class 0 neurons = 4\n",
      "Class 5, class 1 neurons = 4, class 0 neurons = 1\n",
      "Class 6, class 1 neurons = 1, class 0 neurons = 3\n",
      "Class 7, class 1 neurons = 1, class 0 neurons = 3\n",
      "Class 8, class 1 neurons = 1, class 0 neurons = 3\n",
      "Class 9, class 1 neurons = 1, class 0 neurons = 3\n",
      "Class 10, class 1 neurons = 1, class 0 neurons = 3\n",
      "Class 11, class 1 neurons = 1, class 0 neurons = 3\n",
      "Class 12, class 1 neurons = 1, class 0 neurons = 5\n",
      "Class 13, class 1 neurons = 3, class 0 neurons = 6\n",
      "Class 14, class 1 neurons = 2, class 0 neurons = 2\n",
      "Class 15, class 1 neurons = 1, class 0 neurons = 2\n",
      "Class 16, class 1 neurons = 1, class 0 neurons = 2\n",
      "Class 17, class 1 neurons = 1, class 0 neurons = 2\n"
     ]
    },
    {
     "name": "stderr",
     "output_type": "stream",
     "text": [
      "100%|██████████| 2500/2500 [5:58:08<00:00,  8.60s/it]  \n"
     ]
    },
    {
     "name": "stdout",
     "output_type": "stream",
     "text": [
      "Evaluating in individual mode on test set\n",
      "multilabel-indicator multilabel-indicator\n",
      "uint8 int64\n",
      "(3108, 2) (3108, 2)\n",
      "|                     |          0 |\n",
      "|:--------------------|-----------:|\n",
      "| hamming loss        | 0.00788288 |\n",
      "| zero_one_loss       | 0.0157658  |\n",
      "| one_error           | 0          |\n",
      "| micro av. jaccard   | 0          |\n",
      "| macro av. jaccard   | 0          |\n",
      "| micro av. precision | 0          |\n",
      "| macro av. precision | 0          |\n",
      "| micro av. recall    | 0          |\n",
      "| macro av. recall    | 0          |\n",
      "| micro av. f1        | 0          |\n",
      "| macro av. f1        | 0          |\n",
      "Evaluating in combined mode on test set\n",
      "multilabel-indicator multilabel-indicator\n",
      "uint8 int64\n",
      "(3108, 18) (3108, 18)\n",
      "|                     |         0 |\n",
      "|:--------------------|----------:|\n",
      "| hamming loss        | 0.153225  |\n",
      "| zero_one_loss       | 0.998069  |\n",
      "| one_error           | 0         |\n",
      "| micro av. jaccard   | 0.178691  |\n",
      "| macro av. jaccard   | 0.0500549 |\n",
      "| micro av. precision | 0.211308  |\n",
      "| macro av. precision | 0.0576634 |\n",
      "| micro av. recall    | 0.536536  |\n",
      "| macro av. recall    | 0.189856  |\n",
      "| micro av. f1        | 0.303203  |\n",
      "| macro av. f1        | 0.0815483 |\n",
      "Training and Evaluating on task 10\n",
      "Train data shape is  (465, 1, 120)\n",
      "Train Labels shape is  (465, 1)\n",
      "Classes trained are: 18 to 19\n",
      "Augmenting class labels...\n",
      "Train Labels shape is  (465, 19)\n"
     ]
    },
    {
     "name": "stderr",
     "output_type": "stream",
     "text": [
      "  0%|          | 0/2500 [00:00<?, ?it/s]"
     ]
    },
    {
     "name": "stdout",
     "output_type": "stream",
     "text": [
      "Class 0, class 1 neurons = 4, class 0 neurons = 1\n",
      "Class 1, class 1 neurons = 1, class 0 neurons = 5\n",
      "Class 2, class 1 neurons = 2, class 0 neurons = 6\n",
      "Class 3, class 1 neurons = 5, class 0 neurons = 18\n",
      "Class 4, class 1 neurons = 1, class 0 neurons = 4\n",
      "Class 5, class 1 neurons = 4, class 0 neurons = 1\n",
      "Class 6, class 1 neurons = 1, class 0 neurons = 3\n",
      "Class 7, class 1 neurons = 1, class 0 neurons = 3\n",
      "Class 8, class 1 neurons = 1, class 0 neurons = 3\n",
      "Class 9, class 1 neurons = 1, class 0 neurons = 3\n",
      "Class 10, class 1 neurons = 1, class 0 neurons = 3\n",
      "Class 11, class 1 neurons = 1, class 0 neurons = 3\n",
      "Class 12, class 1 neurons = 1, class 0 neurons = 5\n",
      "Class 13, class 1 neurons = 4, class 0 neurons = 7\n",
      "Class 14, class 1 neurons = 3, class 0 neurons = 3\n",
      "Class 15, class 1 neurons = 1, class 0 neurons = 2\n",
      "Class 16, class 1 neurons = 1, class 0 neurons = 2\n",
      "Class 17, class 1 neurons = 1, class 0 neurons = 2\n",
      "Class 18, class 1 neurons = 1, class 0 neurons = 1\n"
     ]
    },
    {
     "name": "stderr",
     "output_type": "stream",
     "text": [
      "100%|██████████| 2500/2500 [6:18:55<00:00,  9.09s/it]  \n"
     ]
    },
    {
     "name": "stdout",
     "output_type": "stream",
     "text": [
      "Evaluating in individual mode on test set\n",
      "binary binary\n",
      "uint8 int64\n",
      "(3108, 1) (3108, 1)\n",
      "|                     |        0 |\n",
      "|:--------------------|---------:|\n",
      "| hamming loss        | 0.117761 |\n",
      "| zero_one_loss       | 0.117761 |\n",
      "| one_error           | 0.117761 |\n",
      "| micro av. jaccard   | 0.789292 |\n",
      "| macro av. jaccard   | 0.474955 |\n",
      "| micro av. precision | 0.882239 |\n",
      "| macro av. precision | 0.530914 |\n",
      "| micro av. recall    | 0.882239 |\n",
      "| macro av. recall    | 0.645075 |\n",
      "| micro av. f1        | 0.882239 |\n",
      "| macro av. f1        | 0.532712 |\n",
      "Evaluating in combined mode on test set\n",
      "multilabel-indicator multilabel-indicator\n",
      "uint8 int64\n",
      "(3108, 19) (3108, 19)\n",
      "|                     |         0 |\n",
      "|:--------------------|----------:|\n",
      "| hamming loss        | 0.152154  |\n",
      "| zero_one_loss       | 0.998391  |\n",
      "| one_error           | 0         |\n",
      "| micro av. jaccard   | 0.175234  |\n",
      "| macro av. jaccard   | 0.0504    |\n",
      "| micro av. precision | 0.206178  |\n",
      "| macro av. precision | 0.057692  |\n",
      "| micro av. recall    | 0.538657  |\n",
      "| macro av. recall    | 0.200404  |\n",
      "| micro av. f1        | 0.298211  |\n",
      "| macro av. f1        | 0.0829191 |\n",
      "Evaluating in individual mode on test set\n",
      "|                     |          0 |         1 |        2 |         3 |         4 |         5 |          6 |         7 |          8 |        9 |\n",
      "|:--------------------|-----------:|----------:|---------:|----------:|----------:|----------:|-----------:|----------:|-----------:|---------:|\n",
      "| hamming loss        | 0.458494   | 0.136583  | 0.364543 | 0.037323  | 0.0701416 | 0.0210746 | 0.0849421  | 0.205598  | 0.00788288 | 0.117761 |\n",
      "| zero_one_loss       | 0.910875   | 0.271236  | 0.71879  | 0.0746461 | 0.140283  | 0.0421493 | 0.169562   | 0.409266  | 0.0157658  | 0.117761 |\n",
      "| one_error           | 0.00611326 | 0.0019305 | 0.010296 | 0         | 0         | 0         | 0.00032175 | 0.0019305 | 0          | 0.117761 |\n",
      "| micro av. jaccard   | 0.0888747  | 0.0880773 | 0.278344 | 0         | 0         | 0         | 0.100511   | 0.315479  | 0          | 0.789292 |\n",
      "| macro av. jaccard   | 0.0447233  | 0.0459127 | 0.140605 | 0         | 0         | 0         | 0.0514834  | 0.161724  | 0          | 0.474955 |\n",
      "| micro av. precision | 0.0894466  | 0.0998782 | 0.28121  | 0         | 0         | 0         | 0.150127   | 0.398781  | 0          | 0.882239 |\n",
      "| macro av. precision | 0.0447233  | 0.0499391 | 0.140605 | 0         | 0         | 0         | 0.0750636  | 0.199391  | 0          | 0.530914 |\n",
      "| micro av. recall    | 0.932886   | 0.427083  | 0.96468  | 0         | 0         | 0         | 0.233202   | 0.601634  | 0          | 0.882239 |\n",
      "| macro av. recall    | 0.5        | 0.266234  | 0.5      | 0         | 0         | 0         | 0.123431   | 0.315648  | 0          | 0.645075 |\n",
      "| micro av. f1        | 0.163241   | 0.161895  | 0.435476 | 0         | 0         | 0         | 0.182663   | 0.479642  | 0          | 0.882239 |\n",
      "| macro av. f1        | 0.0821028  | 0.0841026 | 0.219488 | 0         | 0         | 0         | 0.0933544  | 0.244398  | 0          | 0.532712 |\n",
      "Evaluating in combined mode on test set\n",
      "|                     |          0 |         1 |         2 |         3 |         4 |         5 |         6 |         7 |         8 |         9 |\n",
      "|:--------------------|-----------:|----------:|----------:|----------:|----------:|----------:|----------:|----------:|----------:|----------:|\n",
      "| hamming loss        | 0.458494   | 0.297539  | 0.319873  | 0.249236  | 0.213417  | 0.18136   | 0.167586  | 0.172338  | 0.154065  | 0.152154  |\n",
      "| zero_one_loss       | 0.910875   | 0.939833  | 0.995817  | 0.995817  | 0.995817  | 0.996139  | 0.996139  | 0.998391  | 0.998391  | 0.998391  |\n",
      "| one_error           | 0.00611326 | 0         | 0         | 0         | 0         | 0         | 0         | 0         | 0         | 0         |\n",
      "| micro av. jaccard   | 0.0888747  | 0.0886918 | 0.171413  | 0.166061  | 0.156858  | 0.154289  | 0.150612  | 0.180061  | 0.179221  | 0.175234  |\n",
      "| macro av. jaccard   | 0.0447233  | 0.045318  | 0.0770803 | 0.0578102 | 0.0462482 | 0.0385401 | 0.0403892 | 0.0555561 | 0.0493832 | 0.0504    |\n",
      "| micro av. precision | 0.0894466  | 0.0916264 | 0.175359  | 0.175359  | 0.175359  | 0.175359  | 0.174024  | 0.211294  | 0.211294  | 0.206178  |\n",
      "| macro av. precision | 0.0447233  | 0.0473312 | 0.0784224 | 0.0588168 | 0.0470535 | 0.0392112 | 0.044333  | 0.0637152 | 0.0566357 | 0.057692  |\n",
      "| micro av. recall    | 0.932886   | 0.734694  | 0.883954  | 0.757985  | 0.597868  | 0.562187  | 0.528186  | 0.549168  | 0.541427  | 0.538657  |\n",
      "| macro av. recall    | 0.5        | 0.383117  | 0.422078  | 0.316558  | 0.253247  | 0.211039  | 0.198524  | 0.213164  | 0.189479  | 0.200404  |\n",
      "| micro av. f1        | 0.163241   | 0.162933  | 0.29266   | 0.284824  | 0.271179  | 0.267331  | 0.261794  | 0.305173  | 0.303965  | 0.298211  |\n",
      "| macro av. f1        | 0.0821028  | 0.0831027 | 0.128564  | 0.0964233 | 0.0771386 | 0.0642822 | 0.0684354 | 0.0904307 | 0.0803829 | 0.0829191 |\n",
      "Number of Tasks: 10\n",
      "Forgetting in task 1: first time micro av. f1 = 0.1632, after all tasks micro av. f1 = 0.1632\n",
      "Forgetting in task 2: first time micro av. f1 = 0.2242, after all tasks micro av. f1 = 0.1632\n",
      "Forgetting in task 3: first time micro av. f1 = 0.4355, after all tasks micro av. f1 = 0.1632\n",
      "Forgetting in task 4: first time micro av. f1 = 0.0000, after all tasks micro av. f1 = 0.1632\n",
      "Forgetting in task 5: first time micro av. f1 = 0.0000, after all tasks micro av. f1 = 0.1632\n",
      "Forgetting in task 6: first time micro av. f1 = 0.0000, after all tasks micro av. f1 = 0.1632\n",
      "Forgetting in task 7: first time micro av. f1 = 0.2243, after all tasks micro av. f1 = 0.1632\n",
      "Forgetting in task 8: first time micro av. f1 = 0.4559, after all tasks micro av. f1 = 0.1632\n",
      "Forgetting in task 9: first time micro av. f1 = 0.0000, after all tasks micro av. f1 = 0.1632\n",
      "Forgetting in task 10: first time micro av. f1 = 0.8822, after all tasks micro av. f1 = 0.1632\n"
     ]
    },
    {
     "data": {
      "image/png": "[encoded data removed]",
      "text/plain": [
       "<Figure size 360x360 with 1 Axes>"
      ]
     },
     "metadata": {
      "needs_background": "light"
     },
     "output_type": "display_data"
    }
   ],
   "source": [
    "hparams_dict = {\n",
    "    'inputs': 120,\n",
    "    'outputs': 19,\n",
    "    'time_constant': 300,\n",
    "    'alpha_a': 0.42,\n",
    "    'alpha_m': 0.07,\n",
    "    'w_max': 100.0,\n",
    "    'w_min': -100.0,\n",
    "    'lr': 5e-4,\n",
    "    'sim_time': 600,\n",
    "    'n_epochs': 2500,\n",
    "    'print_every': 500,\n",
    "    'name': 'Plants',\n",
    "    'tasks': {'samples': [435, 530, 438] + [465]*7, 'labels': [2]*9 + [1]},\n",
    "    'seed': 2,\n",
    "    'add_extra_neuron': True,\n",
    "    'ckpt_dir': './checkpoints/eukaryote/mvmd',\n",
    "    'load_from_file': None,\n",
    "    'device': device\n",
    "}\n",
    "net = OverallSNN(hparams_dict)\n",
    "net.fit_and_evaluate(train_spikes, train_labels, test_spikes, test_labels)"
   ]
  }
 ],
 "metadata": {
  "kernelspec": {
   "display_name": "DL_gpu",
   "language": "python",
   "name": "dl_gpu"
  },
  "language_info": {
   "codemirror_mode": {
    "name": "ipython",
    "version": 3
   },
   "file_extension": ".py",
   "mimetype": "text/x-python",
   "name": "python",
   "nbconvert_exporter": "python",
   "pygments_lexer": "ipython3",
   "version": "3.7.7"
  }
 },
 "nbformat": 4,
 "nbformat_minor": 4
}
