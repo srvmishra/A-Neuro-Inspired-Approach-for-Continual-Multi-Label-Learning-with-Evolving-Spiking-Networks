{
 "cells": [
  {
   "cell_type": "code",
   "execution_count": 1,
   "metadata": {},
   "outputs": [],
   "source": [
    "from ContinualEvolvingSNN import *\n",
    "import arff\n",
    "import warnings\n",
    "from scipy.io import loadmat\n",
    "warnings.filterwarnings(\"ignore\")\n",
    "%matplotlib inline\n",
    "np.random.seed(0)\n",
    "torch.manual_seed(0)\n",
    "torch.cuda.manual_seed(0)\n",
    "device = torch.device('cuda:1' if torch.cuda.is_available() else 'cpu')"
   ]
  },
  {
   "cell_type": "markdown",
   "metadata": {},
   "source": [
    "## Load Data and Convert to Spikes"
   ]
  },
  {
   "cell_type": "code",
   "execution_count": 2,
   "metadata": {},
   "outputs": [
    {
     "name": "stderr",
     "output_type": "stream",
     "text": [
      "100%|██████████| 311/311 [00:00<00:00, 6036.42it/s]\n",
      "100%|██████████| 208/208 [00:00<00:00, 6218.52it/s]"
     ]
    },
    {
     "name": "stdout",
     "output_type": "stream",
     "text": [
      "Train data shape:  (311, 1, 300)\n",
      "Train labels shape:  (311, 4)\n",
      "Test data shape:  (208, 1, 300)\n",
      "Test labels shape:  (208, 4)\n"
     ]
    },
    {
     "name": "stderr",
     "output_type": "stream",
     "text": [
      "\n"
     ]
    }
   ],
   "source": [
    "trainpath = '../datasets/GpositivePseAAC/Gram_positivePseAAC519_train_MVMD.mat'\n",
    "testpath = '../datasets/GpositivePseAAC/Gram_positivePseAAC519_test_MVMD.mat'\n",
    "\n",
    "train_ = loadmat(trainpath)\n",
    "train_data, train_labels = train_['transformed_train_data'], np.array(train_['labels'])\n",
    "\n",
    "test_ = loadmat(testpath)\n",
    "test_data, test_labels = test_['transformed_test_data'], np.array(test_['labels'])\n",
    "\n",
    "a = train_data.max(axis=0)\n",
    "b = train_data.min(axis=0)\n",
    "\n",
    "train_spikes = encoding(train_data, device, a, b)\n",
    "test_spikes = encoding(test_data, device, a, b)\n",
    "print(\"Train data shape: \", np.array(train_spikes).shape)\n",
    "print(\"Train labels shape: \", np.array(train_labels).shape)\n",
    "print(\"Test data shape: \", np.array(test_spikes).shape)\n",
    "print(\"Test labels shape: \", np.array(test_labels).shape)"
   ]
  },
  {
   "cell_type": "markdown",
   "metadata": {},
   "source": [
    "## CIFDM Training and Evaluation Mode"
   ]
  },
  {
   "cell_type": "code",
   "execution_count": 3,
   "metadata": {},
   "outputs": [
    {
     "name": "stdout",
     "output_type": "stream",
     "text": [
      "Training and Evaluating on task 1\n",
      "Train data shape is  (105, 1, 300)\n",
      "Train Labels shape is  (105, 2)\n",
      "Classes trained are: 0 to 2\n"
     ]
    },
    {
     "name": "stderr",
     "output_type": "stream",
     "text": [
      "  0%|          | 0/2500 [00:00<?, ?it/s]"
     ]
    },
    {
     "name": "stdout",
     "output_type": "stream",
     "text": [
      "Class 0, class 1 neurons = 2, class 0 neurons = 1\n",
      "Class 1, class 1 neurons = 1, class 0 neurons = 2\n"
     ]
    },
    {
     "name": "stderr",
     "output_type": "stream",
     "text": [
      "100%|██████████| 2500/2500 [32:06<00:00,  1.30it/s]\n"
     ]
    },
    {
     "name": "stdout",
     "output_type": "stream",
     "text": [
      "Evaluating in individual mode on test set\n",
      "multilabel-indicator multilabel-indicator\n",
      "uint8 int64\n",
      "(208, 2) (208, 2)\n",
      "|                     |         0 |\n",
      "|:--------------------|----------:|\n",
      "| hamming loss        | 0.348558  |\n",
      "| zero_one_loss       | 0.663462  |\n",
      "| one_error           | 0.0336538 |\n",
      "| micro av. jaccard   | 0.325581  |\n",
      "| macro av. jaccard   | 0.168269  |\n",
      "| micro av. precision | 0.336538  |\n",
      "| macro av. precision | 0.168269  |\n",
      "| micro av. recall    | 0.909091  |\n",
      "| macro av. recall    | 0.5       |\n",
      "| micro av. f1        | 0.491228  |\n",
      "| macro av. f1        | 0.251799  |\n",
      "Evaluating in combined mode on test set\n",
      "multilabel-indicator multilabel-indicator\n",
      "uint8 int64\n",
      "(208, 2) (208, 2)\n",
      "|                     |         0 |\n",
      "|:--------------------|----------:|\n",
      "| hamming loss        | 0.348558  |\n",
      "| zero_one_loss       | 0.663462  |\n",
      "| one_error           | 0.0336538 |\n",
      "| micro av. jaccard   | 0.325581  |\n",
      "| macro av. jaccard   | 0.168269  |\n",
      "| micro av. precision | 0.336538  |\n",
      "| macro av. precision | 0.168269  |\n",
      "| micro av. recall    | 0.909091  |\n",
      "| macro av. recall    | 0.5       |\n",
      "| micro av. f1        | 0.491228  |\n",
      "| macro av. f1        | 0.251799  |\n",
      "Training and Evaluating on task 2\n",
      "Train data shape is  (103, 1, 300)\n",
      "Train Labels shape is  (103, 1)\n",
      "Classes trained are: 2 to 3\n",
      "Augmenting class labels...\n",
      "Train Labels shape is  (103, 3)\n"
     ]
    },
    {
     "name": "stderr",
     "output_type": "stream",
     "text": [
      "  0%|          | 0/2500 [00:00<?, ?it/s]"
     ]
    },
    {
     "name": "stdout",
     "output_type": "stream",
     "text": [
      "Class 0, class 1 neurons = 2, class 0 neurons = 1\n",
      "Class 1, class 1 neurons = 1, class 0 neurons = 4\n",
      "Class 2, class 1 neurons = 2, class 0 neurons = 3\n"
     ]
    },
    {
     "name": "stderr",
     "output_type": "stream",
     "text": [
      "100%|██████████| 2500/2500 [53:10<00:00,  1.28s/it]\n"
     ]
    },
    {
     "name": "stdout",
     "output_type": "stream",
     "text": [
      "Evaluating in individual mode on test set\n",
      "binary binary\n",
      "uint8 int64\n",
      "(208, 1) (208, 1)\n",
      "|                     |        0 |\n",
      "|:--------------------|---------:|\n",
      "| hamming loss        | 0.557692 |\n",
      "| zero_one_loss       | 0.557692 |\n",
      "| one_error           | 0.557692 |\n",
      "| micro av. jaccard   | 0.283951 |\n",
      "| macro av. jaccard   | 0.244543 |\n",
      "| micro av. precision | 0.442308 |\n",
      "| macro av. precision | 0.708543 |\n",
      "| micro av. recall    | 0.442308 |\n",
      "| macro av. recall    | 0.536    |\n",
      "| micro av. f1        | 0.442308 |\n",
      "| macro av. f1        | 0.36149  |\n",
      "Evaluating in combined mode on test set\n",
      "multilabel-indicator multilabel-indicator\n",
      "uint8 int64\n",
      "(208, 3) (208, 3)\n",
      "|                     |         0 |\n",
      "|:--------------------|----------:|\n",
      "| hamming loss        | 0.418269  |\n",
      "| zero_one_loss       | 0.990385  |\n",
      "| one_error           | 0.0192308 |\n",
      "| micro av. jaccard   | 0.369565  |\n",
      "| macro av. jaccard   | 0.251208  |\n",
      "| micro av. precision | 0.375921  |\n",
      "| macro av. precision | 0.251208  |\n",
      "| micro av. recall    | 0.95625   |\n",
      "| macro av. recall    | 0.666667  |\n",
      "| micro av. f1        | 0.539683  |\n",
      "| macro av. f1        | 0.364083  |\n",
      "Training and Evaluating on task 3\n",
      "Train data shape is  (103, 1, 300)\n",
      "Train Labels shape is  (103, 1)\n",
      "Classes trained are: 3 to 4\n",
      "Augmenting class labels...\n",
      "Train Labels shape is  (103, 4)\n"
     ]
    },
    {
     "name": "stderr",
     "output_type": "stream",
     "text": [
      "  0%|          | 0/2500 [00:00<?, ?it/s]"
     ]
    },
    {
     "name": "stdout",
     "output_type": "stream",
     "text": [
      "Class 0, class 1 neurons = 3, class 0 neurons = 1\n",
      "Class 1, class 1 neurons = 1, class 0 neurons = 6\n",
      "Class 2, class 1 neurons = 14, class 0 neurons = 6\n",
      "Class 3, class 1 neurons = 10, class 0 neurons = 2\n"
     ]
    },
    {
     "name": "stderr",
     "output_type": "stream",
     "text": [
      "100%|██████████| 2500/2500 [1:48:48<00:00,  2.61s/it]\n"
     ]
    },
    {
     "name": "stdout",
     "output_type": "stream",
     "text": [
      "Evaluating in individual mode on test set\n",
      "binary binary\n",
      "uint8 int64\n",
      "(208, 1) (208, 1)\n",
      "|                     |        0 |\n",
      "|:--------------------|---------:|\n",
      "| hamming loss        | 0.355769 |\n",
      "| zero_one_loss       | 0.355769 |\n",
      "| one_error           | 0.355769 |\n",
      "| micro av. jaccard   | 0.475177 |\n",
      "| macro av. jaccard   | 0.459518 |\n",
      "| micro av. precision | 0.644231 |\n",
      "| macro av. precision | 0.662766 |\n",
      "| micro av. recall    | 0.644231 |\n",
      "| macro av. recall    | 0.724939 |\n",
      "| micro av. f1        | 0.644231 |\n",
      "| macro av. f1        | 0.624219 |\n",
      "Evaluating in combined mode on test set\n",
      "multilabel-indicator multilabel-indicator\n",
      "uint8 int64\n",
      "(208, 4) (208, 4)\n",
      "|                     |         0 |\n",
      "|:--------------------|----------:|\n",
      "| hamming loss        | 0.405048  |\n",
      "| zero_one_loss       | 1         |\n",
      "| one_error           | 0.0240385 |\n",
      "| micro av. jaccard   | 0.36773   |\n",
      "| macro av. jaccard   | 0.279249  |\n",
      "| micro av. precision | 0.376923  |\n",
      "| macro av. precision | 0.284215  |\n",
      "| micro av. recall    | 0.937799  |\n",
      "| macro av. recall    | 0.719388  |\n",
      "| micro av. f1        | 0.537723  |\n",
      "| macro av. f1        | 0.406401  |\n",
      "Evaluating in individual mode on test set\n",
      "|                     |         0 |        1 |        2 |\n",
      "|:--------------------|----------:|---------:|---------:|\n",
      "| hamming loss        | 0.348558  | 0.567308 | 0.355769 |\n",
      "| zero_one_loss       | 0.663462  | 0.567308 | 0.355769 |\n",
      "| one_error           | 0.0336538 | 0.567308 | 0.355769 |\n",
      "| micro av. jaccard   | 0.325581  | 0.276074 | 0.475177 |\n",
      "| macro av. jaccard   | 0.168269  | 0.234468 | 0.459518 |\n",
      "| micro av. precision | 0.336538  | 0.432692 | 0.644231 |\n",
      "| macro av. precision | 0.168269  | 0.706468 | 0.662766 |\n",
      "| micro av. recall    | 0.909091  | 0.432692 | 0.644231 |\n",
      "| macro av. recall    | 0.5       | 0.528    | 0.724939 |\n",
      "| micro av. f1        | 0.491228  | 0.432692 | 0.644231 |\n",
      "| macro av. f1        | 0.251799  | 0.345284 | 0.624219 |\n",
      "Evaluating in combined mode on test set\n",
      "|                     |         0 |         1 |         2 |\n",
      "|:--------------------|----------:|----------:|----------:|\n",
      "| hamming loss        | 0.348558  | 0.421474  | 0.405048  |\n",
      "| zero_one_loss       | 0.663462  | 0.995192  | 1         |\n",
      "| one_error           | 0.0336538 | 0.0240385 | 0.0240385 |\n",
      "| micro av. jaccard   | 0.325581  | 0.367788  | 0.36773   |\n",
      "| macro av. jaccard   | 0.168269  | 0.249825  | 0.279249  |\n",
      "| micro av. precision | 0.336538  | 0.374083  | 0.376923  |\n",
      "| macro av. precision | 0.168269  | 0.249825  | 0.284215  |\n",
      "| micro av. recall    | 0.909091  | 0.95625   | 0.937799  |\n",
      "| macro av. recall    | 0.5       | 0.666667  | 0.719388  |\n",
      "| micro av. f1        | 0.491228  | 0.537786  | 0.537723  |\n",
      "| macro av. f1        | 0.251799  | 0.362701  | 0.406401  |\n",
      "Number of Tasks: 3\n",
      "Forgetting in task 1: first time micro av. f1 = 0.4912, after all tasks micro av. f1 = 0.4912\n",
      "Forgetting in task 2: first time micro av. f1 = 0.4423, after all tasks micro av. f1 = 0.4912\n",
      "Forgetting in task 3: first time micro av. f1 = 0.6442, after all tasks micro av. f1 = 0.4912\n"
     ]
    },
    {
     "data": {
      "image/png": "[encoded data removed]",
      "text/plain": [
       "<Figure size 360x360 with 1 Axes>"
      ]
     },
     "metadata": {
      "needs_background": "light"
     },
     "output_type": "display_data"
    }
   ],
   "source": [
    "hparams_dict = {\n",
    "    'inputs': 300,\n",
    "    'outputs': 4,\n",
    "    'time_constant': 300,\n",
    "    'alpha_a': 0.42,\n",
    "    'alpha_m': 0.07,\n",
    "    'w_max': 100.0,\n",
    "    'w_min': -100.0,\n",
    "    'lr': 5e-4,\n",
    "    'sim_time': 600,\n",
    "    'n_epochs': 2500,\n",
    "    'print_every': 500,\n",
    "    'name': 'Gpositive',\n",
    "    'tasks': {'samples': [105, 103, 103], 'labels': [2, 1, 1]},\n",
    "    'seed': 2,\n",
    "    'ckpt_dir': './checkpoints/gpositive',\n",
    "    'load_from_file': None,\n",
    "    'device': device\n",
    "}\n",
    "net = OverallSNN(hparams_dict)\n",
    "net.fit_and_evaluate(train_spikes, train_labels, test_spikes, test_labels)"
   ]
  },
  {
   "cell_type": "code",
   "execution_count": 4,
   "metadata": {},
   "outputs": [
    {
     "name": "stdout",
     "output_type": "stream",
     "text": [
      "Training and Evaluating on task 1\n",
      "Train data shape is  (105, 1, 300)\n",
      "Train Labels shape is  (105, 2)\n",
      "Classes trained are: 0 to 2\n"
     ]
    },
    {
     "name": "stderr",
     "output_type": "stream",
     "text": [
      "  0%|          | 0/2500 [00:00<?, ?it/s]"
     ]
    },
    {
     "name": "stdout",
     "output_type": "stream",
     "text": [
      "Class 0, class 1 neurons = 2, class 0 neurons = 1\n",
      "Class 1, class 1 neurons = 1, class 0 neurons = 2\n"
     ]
    },
    {
     "name": "stderr",
     "output_type": "stream",
     "text": [
      "100%|██████████| 2500/2500 [31:40<00:00,  1.32it/s]\n"
     ]
    },
    {
     "name": "stdout",
     "output_type": "stream",
     "text": [
      "Evaluating in individual mode on test set\n",
      "multilabel-indicator multilabel-indicator\n",
      "uint8 int64\n",
      "(208, 2) (208, 2)\n",
      "|                     |         0 |\n",
      "|:--------------------|----------:|\n",
      "| hamming loss        | 0.348558  |\n",
      "| zero_one_loss       | 0.663462  |\n",
      "| one_error           | 0.0336538 |\n",
      "| micro av. jaccard   | 0.325581  |\n",
      "| macro av. jaccard   | 0.168269  |\n",
      "| micro av. precision | 0.336538  |\n",
      "| macro av. precision | 0.168269  |\n",
      "| micro av. recall    | 0.909091  |\n",
      "| macro av. recall    | 0.5       |\n",
      "| micro av. f1        | 0.491228  |\n",
      "| macro av. f1        | 0.251799  |\n",
      "Evaluating in combined mode on test set\n",
      "multilabel-indicator multilabel-indicator\n",
      "uint8 int64\n",
      "(208, 2) (208, 2)\n",
      "|                     |         0 |\n",
      "|:--------------------|----------:|\n",
      "| hamming loss        | 0.348558  |\n",
      "| zero_one_loss       | 0.663462  |\n",
      "| one_error           | 0.0336538 |\n",
      "| micro av. jaccard   | 0.325581  |\n",
      "| macro av. jaccard   | 0.168269  |\n",
      "| micro av. precision | 0.336538  |\n",
      "| macro av. precision | 0.168269  |\n",
      "| micro av. recall    | 0.909091  |\n",
      "| macro av. recall    | 0.5       |\n",
      "| micro av. f1        | 0.491228  |\n",
      "| macro av. f1        | 0.251799  |\n",
      "Training and Evaluating on task 2\n",
      "Train data shape is  (103, 1, 300)\n",
      "Train Labels shape is  (103, 1)\n",
      "Classes trained are: 2 to 3\n",
      "Augmenting class labels...\n",
      "Train Labels shape is  (103, 3)\n"
     ]
    },
    {
     "name": "stderr",
     "output_type": "stream",
     "text": [
      "  0%|          | 0/2500 [00:00<?, ?it/s]"
     ]
    },
    {
     "name": "stdout",
     "output_type": "stream",
     "text": [
      "Class 0, class 1 neurons = 2, class 0 neurons = 1\n",
      "Class 1, class 1 neurons = 1, class 0 neurons = 4\n",
      "Class 2, class 1 neurons = 1, class 0 neurons = 12\n"
     ]
    },
    {
     "name": "stderr",
     "output_type": "stream",
     "text": [
      "100%|██████████| 2500/2500 [1:03:28<00:00,  1.52s/it]\n"
     ]
    },
    {
     "name": "stdout",
     "output_type": "stream",
     "text": [
      "Evaluating in individual mode on test set\n",
      "binary binary\n",
      "uint8 int64\n",
      "(208, 1) (208, 1)\n",
      "|                     |        0 |\n",
      "|:--------------------|---------:|\n",
      "| hamming loss        | 0.235577 |\n",
      "| zero_one_loss       | 0.235577 |\n",
      "| one_error           | 0.235577 |\n",
      "| micro av. jaccard   | 0.618677 |\n",
      "| macro av. jaccard   | 0.382212 |\n",
      "| micro av. precision | 0.764423 |\n",
      "| macro av. precision | 0.382212 |\n",
      "| micro av. recall    | 0.764423 |\n",
      "| macro av. recall    | 0.5      |\n",
      "| micro av. f1        | 0.764423 |\n",
      "| macro av. f1        | 0.433243 |\n",
      "Evaluating in combined mode on test set\n",
      "multilabel-indicator multilabel-indicator\n",
      "uint8 int64\n",
      "(208, 3) (208, 3)\n",
      "|                     |        0 |\n",
      "|:--------------------|---------:|\n",
      "| hamming loss        | 0.310897 |\n",
      "| zero_one_loss       | 0.668269 |\n",
      "| one_error           | 0        |\n",
      "| micro av. jaccard   | 0.265152 |\n",
      "| macro av. jaccard   | 0.112179 |\n",
      "| micro av. precision | 0.336538 |\n",
      "| macro av. precision | 0.112179 |\n",
      "| micro av. recall    | 0.555556 |\n",
      "| macro av. recall    | 0.333333 |\n",
      "| micro av. f1        | 0.419162 |\n",
      "| macro av. f1        | 0.167866 |\n",
      "Training and Evaluating on task 3\n",
      "Train data shape is  (103, 1, 300)\n",
      "Train Labels shape is  (103, 1)\n",
      "Classes trained are: 3 to 4\n",
      "Augmenting class labels...\n",
      "Train Labels shape is  (103, 4)\n"
     ]
    },
    {
     "name": "stderr",
     "output_type": "stream",
     "text": [
      "  0%|          | 0/2500 [00:00<?, ?it/s]"
     ]
    },
    {
     "name": "stdout",
     "output_type": "stream",
     "text": [
      "Class 0, class 1 neurons = 3, class 0 neurons = 1\n",
      "Class 1, class 1 neurons = 1, class 0 neurons = 6\n",
      "Class 2, class 1 neurons = 1, class 0 neurons = 12\n",
      "Class 3, class 1 neurons = 2, class 0 neurons = 12\n"
     ]
    },
    {
     "name": "stderr",
     "output_type": "stream",
     "text": [
      "100%|██████████| 2500/2500 [1:39:37<00:00,  2.39s/it]\n"
     ]
    },
    {
     "name": "stdout",
     "output_type": "stream",
     "text": [
      "Evaluating in individual mode on test set\n",
      "binary binary\n",
      "uint8 int64\n",
      "(208, 1) (208, 1)\n",
      "|                     |        0 |\n",
      "|:--------------------|---------:|\n",
      "| hamming loss        | 0.307692 |\n",
      "| zero_one_loss       | 0.307692 |\n",
      "| one_error           | 0.307692 |\n",
      "| micro av. jaccard   | 0.529412 |\n",
      "| macro av. jaccard   | 0.523617 |\n",
      "| micro av. precision | 0.692308 |\n",
      "| macro av. precision | 0.684956 |\n",
      "| micro av. recall    | 0.692308 |\n",
      "| macro av. recall    | 0.691373 |\n",
      "| micro av. f1        | 0.692308 |\n",
      "| macro av. f1        | 0.685771 |\n",
      "Evaluating in combined mode on test set\n",
      "multilabel-indicator multilabel-indicator\n",
      "uint8 int64\n",
      "(208, 4) (208, 4)\n",
      "|                     |        0 |\n",
      "|:--------------------|---------:|\n",
      "| hamming loss        | 0.310096 |\n",
      "| zero_one_loss       | 0.807692 |\n",
      "| one_error           | 0        |\n",
      "| micro av. jaccard   | 0.32987  |\n",
      "| macro av. jaccard   | 0.201903 |\n",
      "| micro av. precision | 0.419142 |\n",
      "| macro av. precision | 0.234135 |\n",
      "| micro av. recall    | 0.607656 |\n",
      "| macro av. recall    | 0.421687 |\n",
      "| micro av. f1        | 0.496094 |\n",
      "| macro av. f1        | 0.286012 |\n",
      "Evaluating in individual mode on test set\n",
      "|                     |         0 |        1 |        2 |\n",
      "|:--------------------|----------:|---------:|---------:|\n",
      "| hamming loss        | 0.348558  | 0.235577 | 0.307692 |\n",
      "| zero_one_loss       | 0.663462  | 0.235577 | 0.307692 |\n",
      "| one_error           | 0.0336538 | 0.235577 | 0.307692 |\n",
      "| micro av. jaccard   | 0.325581  | 0.618677 | 0.529412 |\n",
      "| macro av. jaccard   | 0.168269  | 0.382212 | 0.523617 |\n",
      "| micro av. precision | 0.336538  | 0.764423 | 0.692308 |\n",
      "| macro av. precision | 0.168269  | 0.382212 | 0.684956 |\n",
      "| micro av. recall    | 0.909091  | 0.764423 | 0.692308 |\n",
      "| macro av. recall    | 0.5       | 0.5      | 0.691373 |\n",
      "| micro av. f1        | 0.491228  | 0.764423 | 0.692308 |\n",
      "| macro av. f1        | 0.251799  | 0.433243 | 0.685771 |\n",
      "Evaluating in combined mode on test set\n",
      "|                     |         0 |        1 |        2 |\n",
      "|:--------------------|----------:|---------:|---------:|\n",
      "| hamming loss        | 0.348558  | 0.310897 | 0.310096 |\n",
      "| zero_one_loss       | 0.663462  | 0.668269 | 0.807692 |\n",
      "| one_error           | 0.0336538 | 0        | 0        |\n",
      "| micro av. jaccard   | 0.325581  | 0.265152 | 0.32987  |\n",
      "| macro av. jaccard   | 0.168269  | 0.112179 | 0.201903 |\n",
      "| micro av. precision | 0.336538  | 0.336538 | 0.419142 |\n",
      "| macro av. precision | 0.168269  | 0.112179 | 0.234135 |\n",
      "| micro av. recall    | 0.909091  | 0.555556 | 0.607656 |\n",
      "| macro av. recall    | 0.5       | 0.333333 | 0.421687 |\n",
      "| micro av. f1        | 0.491228  | 0.419162 | 0.496094 |\n",
      "| macro av. f1        | 0.251799  | 0.167866 | 0.286012 |\n",
      "Number of Tasks: 3\n",
      "Forgetting in task 1: first time micro av. f1 = 0.4912, after all tasks micro av. f1 = 0.4912\n",
      "Forgetting in task 2: first time micro av. f1 = 0.7644, after all tasks micro av. f1 = 0.4912\n",
      "Forgetting in task 3: first time micro av. f1 = 0.6923, after all tasks micro av. f1 = 0.4912\n"
     ]
    },
    {
     "data": {
      "image/png": "[encoded data removed]",
      "text/plain": [
       "<Figure size 360x360 with 1 Axes>"
      ]
     },
     "metadata": {
      "needs_background": "light"
     },
     "output_type": "display_data"
    }
   ],
   "source": [
    "hparams_dict = {\n",
    "    'inputs': 300,\n",
    "    'outputs': 4,\n",
    "    'time_constant': 300,\n",
    "    'alpha_a': 0.42,\n",
    "    'alpha_m': 0.07,\n",
    "    'w_max': 100.0,\n",
    "    'w_min': -100.0,\n",
    "    'lr': 5e-4,\n",
    "    'sim_time': 600,\n",
    "    'n_epochs': 2500,\n",
    "    'print_every': 500,\n",
    "    'name': 'Gpositive',\n",
    "    'tasks': {'samples': [105, 103, 103], 'labels': [2, 1, 1]},\n",
    "    'seed': 4,\n",
    "    'ckpt_dir': './checkpoints/gpositive',\n",
    "    'load_from_file': None,\n",
    "    'device': device\n",
    "}\n",
    "net = OverallSNN(hparams_dict)\n",
    "net.fit_and_evaluate(train_spikes, train_labels, test_spikes, test_labels)"
   ]
  },
  {
   "cell_type": "code",
   "execution_count": 5,
   "metadata": {},
   "outputs": [
    {
     "name": "stdout",
     "output_type": "stream",
     "text": [
      "Training and Evaluating on task 1\n",
      "Train data shape is  (105, 1, 300)\n",
      "Train Labels shape is  (105, 2)\n",
      "Classes trained are: 0 to 2\n"
     ]
    },
    {
     "name": "stderr",
     "output_type": "stream",
     "text": [
      "  0%|          | 0/2500 [00:00<?, ?it/s]"
     ]
    },
    {
     "name": "stdout",
     "output_type": "stream",
     "text": [
      "Class 0, class 1 neurons = 2, class 0 neurons = 1\n",
      "Class 1, class 1 neurons = 1, class 0 neurons = 2\n"
     ]
    },
    {
     "name": "stderr",
     "output_type": "stream",
     "text": [
      "100%|██████████| 2500/2500 [31:39<00:00,  1.32it/s]\n"
     ]
    },
    {
     "name": "stdout",
     "output_type": "stream",
     "text": [
      "Evaluating in individual mode on test set\n",
      "multilabel-indicator multilabel-indicator\n",
      "uint8 int64\n",
      "(208, 2) (208, 2)\n",
      "|                     |         0 |\n",
      "|:--------------------|----------:|\n",
      "| hamming loss        | 0.348558  |\n",
      "| zero_one_loss       | 0.663462  |\n",
      "| one_error           | 0.0336538 |\n",
      "| micro av. jaccard   | 0.325581  |\n",
      "| macro av. jaccard   | 0.168269  |\n",
      "| micro av. precision | 0.336538  |\n",
      "| macro av. precision | 0.168269  |\n",
      "| micro av. recall    | 0.909091  |\n",
      "| macro av. recall    | 0.5       |\n",
      "| micro av. f1        | 0.491228  |\n",
      "| macro av. f1        | 0.251799  |\n",
      "Evaluating in combined mode on test set\n",
      "multilabel-indicator multilabel-indicator\n",
      "uint8 int64\n",
      "(208, 2) (208, 2)\n",
      "|                     |         0 |\n",
      "|:--------------------|----------:|\n",
      "| hamming loss        | 0.348558  |\n",
      "| zero_one_loss       | 0.663462  |\n",
      "| one_error           | 0.0336538 |\n",
      "| micro av. jaccard   | 0.325581  |\n",
      "| macro av. jaccard   | 0.168269  |\n",
      "| micro av. precision | 0.336538  |\n",
      "| macro av. precision | 0.168269  |\n",
      "| micro av. recall    | 0.909091  |\n",
      "| macro av. recall    | 0.5       |\n",
      "| micro av. f1        | 0.491228  |\n",
      "| macro av. f1        | 0.251799  |\n",
      "Training and Evaluating on task 2\n",
      "Train data shape is  (103, 1, 300)\n",
      "Train Labels shape is  (103, 1)\n",
      "Classes trained are: 2 to 3\n",
      "Augmenting class labels...\n",
      "Train Labels shape is  (103, 3)\n"
     ]
    },
    {
     "name": "stderr",
     "output_type": "stream",
     "text": [
      "  0%|          | 0/2500 [00:00<?, ?it/s]"
     ]
    },
    {
     "name": "stdout",
     "output_type": "stream",
     "text": [
      "Class 0, class 1 neurons = 2, class 0 neurons = 1\n",
      "Class 1, class 1 neurons = 1, class 0 neurons = 4\n",
      "Class 2, class 1 neurons = 2, class 0 neurons = 3\n"
     ]
    },
    {
     "name": "stderr",
     "output_type": "stream",
     "text": [
      "100%|██████████| 2500/2500 [51:49<00:00,  1.24s/it]\n"
     ]
    },
    {
     "name": "stdout",
     "output_type": "stream",
     "text": [
      "Evaluating in individual mode on test set\n",
      "binary binary\n",
      "uint8 int64\n",
      "(208, 1) (208, 1)\n",
      "|                     |        0 |\n",
      "|:--------------------|---------:|\n",
      "| hamming loss        | 0.557692 |\n",
      "| zero_one_loss       | 0.557692 |\n",
      "| one_error           | 0.557692 |\n",
      "| micro av. jaccard   | 0.283951 |\n",
      "| macro av. jaccard   | 0.244543 |\n",
      "| micro av. precision | 0.442308 |\n",
      "| macro av. precision | 0.708543 |\n",
      "| micro av. recall    | 0.442308 |\n",
      "| macro av. recall    | 0.536    |\n",
      "| micro av. f1        | 0.442308 |\n",
      "| macro av. f1        | 0.36149  |\n",
      "Evaluating in combined mode on test set\n",
      "multilabel-indicator multilabel-indicator\n",
      "uint8 int64\n",
      "(208, 3) (208, 3)\n",
      "|                     |         0 |\n",
      "|:--------------------|----------:|\n",
      "| hamming loss        | 0.418269  |\n",
      "| zero_one_loss       | 0.990385  |\n",
      "| one_error           | 0.0192308 |\n",
      "| micro av. jaccard   | 0.369565  |\n",
      "| macro av. jaccard   | 0.251208  |\n",
      "| micro av. precision | 0.375921  |\n",
      "| macro av. precision | 0.251208  |\n",
      "| micro av. recall    | 0.95625   |\n",
      "| macro av. recall    | 0.666667  |\n",
      "| micro av. f1        | 0.539683  |\n",
      "| macro av. f1        | 0.364083  |\n",
      "Training and Evaluating on task 3\n",
      "Train data shape is  (103, 1, 300)\n",
      "Train Labels shape is  (103, 1)\n",
      "Classes trained are: 3 to 4\n",
      "Augmenting class labels...\n",
      "Train Labels shape is  (103, 4)\n"
     ]
    },
    {
     "name": "stderr",
     "output_type": "stream",
     "text": [
      "  0%|          | 0/2500 [00:00<?, ?it/s]"
     ]
    },
    {
     "name": "stdout",
     "output_type": "stream",
     "text": [
      "Class 0, class 1 neurons = 3, class 0 neurons = 1\n",
      "Class 1, class 1 neurons = 1, class 0 neurons = 6\n",
      "Class 2, class 1 neurons = 14, class 0 neurons = 6\n",
      "Class 3, class 1 neurons = 10, class 0 neurons = 2\n"
     ]
    },
    {
     "name": "stderr",
     "output_type": "stream",
     "text": [
      "100%|██████████| 2500/2500 [1:47:51<00:00,  2.59s/it]\n"
     ]
    },
    {
     "name": "stdout",
     "output_type": "stream",
     "text": [
      "Evaluating in individual mode on test set\n",
      "binary binary\n",
      "uint8 int64\n",
      "(208, 1) (208, 1)\n",
      "|                     |        0 |\n",
      "|:--------------------|---------:|\n",
      "| hamming loss        | 0.355769 |\n",
      "| zero_one_loss       | 0.355769 |\n",
      "| one_error           | 0.355769 |\n",
      "| micro av. jaccard   | 0.475177 |\n",
      "| macro av. jaccard   | 0.459518 |\n",
      "| micro av. precision | 0.644231 |\n",
      "| macro av. precision | 0.662766 |\n",
      "| micro av. recall    | 0.644231 |\n",
      "| macro av. recall    | 0.724939 |\n",
      "| micro av. f1        | 0.644231 |\n",
      "| macro av. f1        | 0.624219 |\n",
      "Evaluating in combined mode on test set\n",
      "multilabel-indicator multilabel-indicator\n",
      "uint8 int64\n",
      "(208, 4) (208, 4)\n",
      "|                     |         0 |\n",
      "|:--------------------|----------:|\n",
      "| hamming loss        | 0.40625   |\n",
      "| zero_one_loss       | 1         |\n",
      "| one_error           | 0.0240385 |\n",
      "| micro av. jaccard   | 0.367041  |\n",
      "| macro av. jaccard   | 0.278738  |\n",
      "| micro av. precision | 0.3762    |\n",
      "| macro av. precision | 0.283704  |\n",
      "| micro av. recall    | 0.937799  |\n",
      "| macro av. recall    | 0.719388  |\n",
      "| micro av. f1        | 0.536986  |\n",
      "| macro av. f1        | 0.405888  |\n",
      "Evaluating in individual mode on test set\n",
      "|                     |         0 |        1 |        2 |\n",
      "|:--------------------|----------:|---------:|---------:|\n",
      "| hamming loss        | 0.348558  | 0.572115 | 0.355769 |\n",
      "| zero_one_loss       | 0.663462  | 0.572115 | 0.355769 |\n",
      "| one_error           | 0.0336538 | 0.572115 | 0.355769 |\n",
      "| micro av. jaccard   | 0.325581  | 0.272171 | 0.475177 |\n",
      "| macro av. jaccard   | 0.168269  | 0.229446 | 0.459518 |\n",
      "| micro av. precision | 0.336538  | 0.427885 | 0.644231 |\n",
      "| macro av. precision | 0.168269  | 0.705446 | 0.662766 |\n",
      "| micro av. recall    | 0.909091  | 0.427885 | 0.644231 |\n",
      "| macro av. recall    | 0.5       | 0.524    | 0.724939 |\n",
      "| micro av. f1        | 0.491228  | 0.427885 | 0.644231 |\n",
      "| macro av. f1        | 0.251799  | 0.33703  | 0.624219 |\n",
      "Evaluating in combined mode on test set\n",
      "|                     |         0 |         1 |         2 |\n",
      "|:--------------------|----------:|----------:|----------:|\n",
      "| hamming loss        | 0.348558  | 0.423077  | 0.40625   |\n",
      "| zero_one_loss       | 0.663462  | 0.995192  | 1         |\n",
      "| one_error           | 0.0336538 | 0.0240385 | 0.0240385 |\n",
      "| micro av. jaccard   | 0.325581  | 0.366906  | 0.367041  |\n",
      "| macro av. jaccard   | 0.168269  | 0.249143  | 0.278738  |\n",
      "| micro av. precision | 0.336538  | 0.373171  | 0.3762    |\n",
      "| macro av. precision | 0.168269  | 0.249143  | 0.283704  |\n",
      "| micro av. recall    | 0.909091  | 0.95625   | 0.937799  |\n",
      "| macro av. recall    | 0.5       | 0.666667  | 0.719388  |\n",
      "| micro av. f1        | 0.491228  | 0.536842  | 0.536986  |\n",
      "| macro av. f1        | 0.251799  | 0.362018  | 0.405888  |\n",
      "Number of Tasks: 3\n",
      "Forgetting in task 1: first time micro av. f1 = 0.4912, after all tasks micro av. f1 = 0.4912\n",
      "Forgetting in task 2: first time micro av. f1 = 0.4423, after all tasks micro av. f1 = 0.4912\n",
      "Forgetting in task 3: first time micro av. f1 = 0.6442, after all tasks micro av. f1 = 0.4912\n"
     ]
    },
    {
     "data": {
      "image/png": "[encoded data removed]",
      "text/plain": [
       "<Figure size 360x360 with 1 Axes>"
      ]
     },
     "metadata": {
      "needs_background": "light"
     },
     "output_type": "display_data"
    }
   ],
   "source": [
    "hparams_dict = {\n",
    "    'inputs': 300,\n",
    "    'outputs': 4,\n",
    "    'time_constant': 300,\n",
    "    'alpha_a': 0.42,\n",
    "    'alpha_m': 0.07,\n",
    "    'w_max': 100.0,\n",
    "    'w_min': -100.0,\n",
    "    'lr': 5e-4,\n",
    "    'sim_time': 600,\n",
    "    'n_epochs': 2500,\n",
    "    'print_every': 500,\n",
    "    'name': 'Gpositive',\n",
    "    'tasks': {'samples': [105, 103, 103], 'labels': [2, 1, 1]},\n",
    "    'seed': 5,\n",
    "    'ckpt_dir': './checkpoints/gpositive',\n",
    "    'load_from_file': None,\n",
    "    'device': device\n",
    "}\n",
    "net = OverallSNN(hparams_dict)\n",
    "net.fit_and_evaluate(train_spikes, train_labels, test_spikes, test_labels)"
   ]
  }
 ],
 "metadata": {
  "kernelspec": {
   "display_name": "DL_gpu",
   "language": "python",
   "name": "dl_gpu"
  },
  "language_info": {
   "codemirror_mode": {
    "name": "ipython",
    "version": 3
   },
   "file_extension": ".py",
   "mimetype": "text/x-python",
   "name": "python",
   "nbconvert_exporter": "python",
   "pygments_lexer": "ipython3",
   "version": "3.7.7"
  }
 },
 "nbformat": 4,
 "nbformat_minor": 4
}
