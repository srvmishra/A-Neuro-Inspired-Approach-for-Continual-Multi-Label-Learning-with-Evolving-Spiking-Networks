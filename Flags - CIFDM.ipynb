{
 "cells": [
  {
   "cell_type": "code",
   "execution_count": 1,
   "metadata": {},
   "outputs": [],
   "source": [
    "from ContinualEvolvingSNN import *\n",
    "import arff\n",
    "import warnings\n",
    "from scipy.io import loadmat\n",
    "warnings.filterwarnings(\"ignore\")\n",
    "%matplotlib inline\n",
    "np.random.seed(0)\n",
    "torch.manual_seed(0)\n",
    "torch.cuda.manual_seed(0)\n",
    "device = torch.device('cuda:1' if torch.cuda.is_available() else 'cpu')"
   ]
  },
  {
   "cell_type": "markdown",
   "metadata": {},
   "source": [
    "## Load Data and Convert to Spikes"
   ]
  },
  {
   "cell_type": "code",
   "execution_count": 2,
   "metadata": {},
   "outputs": [
    {
     "name": "stderr",
     "output_type": "stream",
     "text": [
      "100%|██████████| 129/129 [00:00<00:00, 7969.85it/s]\n",
      "100%|██████████| 65/65 [00:00<00:00, 8105.30it/s]"
     ]
    },
    {
     "name": "stdout",
     "output_type": "stream",
     "text": [
      "Train data shape:  (129, 1, 114)\n",
      "Train labels shape:  (129, 7)\n",
      "Test data shape:  (65, 1, 114)\n",
      "Test labels shape:  (65, 7)\n"
     ]
    },
    {
     "name": "stderr",
     "output_type": "stream",
     "text": [
      "\n"
     ]
    }
   ],
   "source": [
    "train_path = '../datasets/flags/flags-train.arff'\n",
    "test_path = '../datasets/flags/flags-test.arff'\n",
    "num_features = 19\n",
    "train_data = arff.load(open(train_path, 'rt'))\n",
    "train_data = np.array(train_data['data']).astype(np.float32)\n",
    "test_data = arff.load(open(test_path, 'rt'))\n",
    "test_data = np.array(test_data['data']).astype(np.float32)\n",
    "a = train_data[:, :num_features].max(axis=0)\n",
    "b = train_data[:, :num_features].min(axis=0)\n",
    "\n",
    "train_spikes, train_labels = encode_data_to_spikes(train_data, device, num_features, a, b)\n",
    "test_spikes, test_labels = encode_data_to_spikes(test_data, device, num_features, a, b)\n",
    "print(\"Train data shape: \", np.array(train_spikes).shape)\n",
    "print(\"Train labels shape: \", train_labels.shape)\n",
    "print(\"Test data shape: \", np.array(test_spikes).shape)\n",
    "print(\"Test labels shape: \", test_labels.shape)"
   ]
  },
  {
   "cell_type": "markdown",
   "metadata": {},
   "source": [
    "## CIFDM Training and Evaluation Mode"
   ]
  },
  {
   "cell_type": "code",
   "execution_count": 3,
   "metadata": {},
   "outputs": [
    {
     "name": "stdout",
     "output_type": "stream",
     "text": [
      "Training and Evaluating on task 1\n",
      "Train data shape is  (43, 1, 114)\n",
      "Train Labels shape is  (43, 3)\n",
      "Classes trained are: 0 to 3\n"
     ]
    },
    {
     "name": "stderr",
     "output_type": "stream",
     "text": [
      "  0%|          | 1/4000 [00:00<12:28,  5.34it/s]"
     ]
    },
    {
     "name": "stdout",
     "output_type": "stream",
     "text": [
      "Class 0, class 1 neurons = 5, class 0 neurons = 2\n",
      "Class 1, class 1 neurons = 3, class 0 neurons = 4\n",
      "Class 2, class 1 neurons = 4, class 0 neurons = 2\n"
     ]
    },
    {
     "name": "stderr",
     "output_type": "stream",
     "text": [
      "100%|██████████| 4000/4000 [36:56<00:00,  1.80it/s]\n"
     ]
    },
    {
     "name": "stdout",
     "output_type": "stream",
     "text": [
      "Evaluating in individual mode on test set\n",
      "multilabel-indicator multilabel-indicator\n",
      "float32 int64\n",
      "(65, 3) (65, 3)\n",
      "|                     |         0 |\n",
      "|:--------------------|----------:|\n",
      "| hamming loss        | 0.353846  |\n",
      "| zero_one_loss       | 0.676923  |\n",
      "| one_error           | 0.0923077 |\n",
      "| micro av. jaccard   | 0.543046  |\n",
      "| macro av. jaccard   | 0.494615  |\n",
      "| micro av. precision | 0.66129   |\n",
      "| macro av. precision | 0.671495  |\n",
      "| micro av. recall    | 0.752294  |\n",
      "| macro av. recall    | 0.720539  |\n",
      "| micro av. f1        | 0.703863  |\n",
      "| macro av. f1        | 0.636099  |\n",
      "Evaluating in combined mode on test set\n",
      "multilabel-indicator multilabel-indicator\n",
      "float32 int64\n",
      "(65, 3) (65, 3)\n",
      "|                     |         0 |\n",
      "|:--------------------|----------:|\n",
      "| hamming loss        | 0.353846  |\n",
      "| zero_one_loss       | 0.676923  |\n",
      "| one_error           | 0.0923077 |\n",
      "| micro av. jaccard   | 0.543046  |\n",
      "| macro av. jaccard   | 0.494615  |\n",
      "| micro av. precision | 0.66129   |\n",
      "| macro av. precision | 0.671495  |\n",
      "| micro av. recall    | 0.752294  |\n",
      "| macro av. recall    | 0.720539  |\n",
      "| micro av. f1        | 0.703863  |\n",
      "| macro av. f1        | 0.636099  |\n",
      "Training and Evaluating on task 2\n",
      "Train data shape is  (43, 1, 114)\n",
      "Train Labels shape is  (43, 2)\n",
      "Classes trained are: 3 to 5\n",
      "Augmenting class labels...\n",
      "Train Labels shape is  (43, 5)\n"
     ]
    },
    {
     "name": "stderr",
     "output_type": "stream",
     "text": [
      "  0%|          | 0/4000 [00:00<?, ?it/s]"
     ]
    },
    {
     "name": "stdout",
     "output_type": "stream",
     "text": [
      "Class 0, class 1 neurons = 5, class 0 neurons = 2\n",
      "Class 1, class 1 neurons = 3, class 0 neurons = 4\n",
      "Class 2, class 1 neurons = 4, class 0 neurons = 3\n",
      "Class 3, class 1 neurons = 3, class 0 neurons = 1\n",
      "Class 4, class 1 neurons = 2, class 0 neurons = 1\n"
     ]
    },
    {
     "name": "stderr",
     "output_type": "stream",
     "text": [
      "100%|██████████| 4000/4000 [54:49<00:00,  1.22it/s]\n"
     ]
    },
    {
     "name": "stdout",
     "output_type": "stream",
     "text": [
      "Evaluating in individual mode on test set\n",
      "multilabel-indicator multilabel-indicator\n",
      "float32 int64\n",
      "(65, 2) (65, 2)\n",
      "|                     |        0 |\n",
      "|:--------------------|---------:|\n",
      "| hamming loss        | 0.323077 |\n",
      "| zero_one_loss       | 0.446154 |\n",
      "| one_error           | 0.2      |\n",
      "| micro av. jaccard   | 0.557895 |\n",
      "| macro av. jaccard   | 0.425641 |\n",
      "| micro av. precision | 0.791045 |\n",
      "| macro av. precision | 0.892308 |\n",
      "| micro av. recall    | 0.654321 |\n",
      "| macro av. recall    | 0.533333 |\n",
      "| micro av. f1        | 0.716216 |\n",
      "| macro av. f1        | 0.502155 |\n",
      "Evaluating in combined mode on test set\n",
      "multilabel-indicator multilabel-indicator\n",
      "float32 int64\n",
      "(65, 5) (65, 5)\n",
      "|                     |        0 |\n",
      "|:--------------------|---------:|\n",
      "| hamming loss        | 0.316923 |\n",
      "| zero_one_loss       | 0.8      |\n",
      "| one_error           | 0        |\n",
      "| micro av. jaccard   | 0.567227 |\n",
      "| macro av. jaccard   | 0.480622 |\n",
      "| micro av. precision | 0.737705 |\n",
      "| macro av. precision | 0.823971 |\n",
      "| micro av. recall    | 0.710526 |\n",
      "| macro av. recall    | 0.647003 |\n",
      "| micro av. f1        | 0.723861 |\n",
      "| macro av. f1        | 0.593698 |\n",
      "Training and Evaluating on task 3\n",
      "Train data shape is  (43, 1, 114)\n",
      "Train Labels shape is  (43, 2)\n",
      "Classes trained are: 5 to 7\n",
      "Augmenting class labels...\n",
      "Train Labels shape is  (43, 7)\n"
     ]
    },
    {
     "name": "stderr",
     "output_type": "stream",
     "text": [
      "  0%|          | 0/4000 [00:00<?, ?it/s]"
     ]
    },
    {
     "name": "stdout",
     "output_type": "stream",
     "text": [
      "Class 0, class 1 neurons = 5, class 0 neurons = 2\n",
      "Class 1, class 1 neurons = 5, class 0 neurons = 5\n",
      "Class 2, class 1 neurons = 5, class 0 neurons = 3\n",
      "Class 3, class 1 neurons = 4, class 0 neurons = 2\n",
      "Class 4, class 1 neurons = 3, class 0 neurons = 1\n",
      "Class 5, class 1 neurons = 3, class 0 neurons = 2\n",
      "Class 6, class 1 neurons = 3, class 0 neurons = 3\n"
     ]
    },
    {
     "name": "stderr",
     "output_type": "stream",
     "text": [
      "100%|██████████| 4000/4000 [1:21:30<00:00,  1.22s/it]\n"
     ]
    },
    {
     "name": "stdout",
     "output_type": "stream",
     "text": [
      "Evaluating in individual mode on test set\n",
      "multilabel-indicator multilabel-indicator\n",
      "float32 int64\n",
      "(65, 2) (65, 2)\n",
      "|                     |         0 |\n",
      "|:--------------------|----------:|\n",
      "| hamming loss        | 0.261538  |\n",
      "| zero_one_loss       | 0.476923  |\n",
      "| one_error           | 0.0461538 |\n",
      "| micro av. jaccard   | 0.128205  |\n",
      "| macro av. jaccard   | 0.0961538 |\n",
      "| micro av. precision | 0.294118  |\n",
      "| macro av. precision | 0.25      |\n",
      "| micro av. recall    | 0.185185  |\n",
      "| macro av. recall    | 0.119048  |\n",
      "| micro av. f1        | 0.227273  |\n",
      "| macro av. f1        | 0.16129   |\n",
      "Evaluating in combined mode on test set\n",
      "multilabel-indicator multilabel-indicator\n",
      "float32 int64\n",
      "(65, 7) (65, 7)\n",
      "|                     |        0 |\n",
      "|:--------------------|---------:|\n",
      "| hamming loss        | 0.312088 |\n",
      "| zero_one_loss       | 0.892308 |\n",
      "| one_error           | 0        |\n",
      "| micro av. jaccard   | 0.483636 |\n",
      "| macro av. jaccard   | 0.349675 |\n",
      "| micro av. precision | 0.696335 |\n",
      "| macro av. precision | 0.626923 |\n",
      "| micro av. recall    | 0.612903 |\n",
      "| macro av. recall    | 0.461575 |\n",
      "| micro av. f1        | 0.651961 |\n",
      "| macro av. f1        | 0.442308 |\n",
      "Evaluating in individual mode on test set\n",
      "|                     |         0 |        1 |         2 |\n",
      "|:--------------------|----------:|---------:|----------:|\n",
      "| hamming loss        | 0.333333  | 0.330769 | 0.261538  |\n",
      "| zero_one_loss       | 0.676923  | 0.461538 | 0.476923  |\n",
      "| one_error           | 0.0461538 | 0.2      | 0.0461538 |\n",
      "| micro av. jaccard   | 0.539007  | 0.547368 | 0.128205  |\n",
      "| macro av. jaccard   | 0.479157  | 0.408974 | 0.0961538 |\n",
      "| micro av. precision | 0.703704  | 0.787879 | 0.294118  |\n",
      "| macro av. precision | 0.701282  | 0.892308 | 0.25      |\n",
      "| micro av. recall    | 0.697248  | 0.641975 | 0.185185  |\n",
      "| macro av. recall    | 0.653199  | 0.516667 | 0.119048  |\n",
      "| micro av. f1        | 0.700461  | 0.707483 | 0.227273  |\n",
      "| macro av. f1        | 0.609917  | 0.471913 | 0.16129   |\n",
      "Evaluating in combined mode on test set\n",
      "|                     |         0 |        1 |        2 |\n",
      "|:--------------------|----------:|---------:|---------:|\n",
      "| hamming loss        | 0.333333  | 0.332308 | 0.312088 |\n",
      "| zero_one_loss       | 0.676923  | 0.815385 | 0.892308 |\n",
      "| one_error           | 0.0461538 | 0        | 0        |\n",
      "| micro av. jaccard   | 0.539007  | 0.542373 | 0.483636 |\n",
      "| macro av. jaccard   | 0.479157  | 0.451084 | 0.349675 |\n",
      "| micro av. precision | 0.703704  | 0.735632 | 0.696335 |\n",
      "| macro av. precision | 0.701282  | 0.777692 | 0.626923 |\n",
      "| micro av. recall    | 0.697248  | 0.673684 | 0.612903 |\n",
      "| macro av. recall    | 0.653199  | 0.598586 | 0.461575 |\n",
      "| micro av. f1        | 0.700461  | 0.703297 | 0.651961 |\n",
      "| macro av. f1        | 0.609917  | 0.554716 | 0.442308 |\n",
      "Number of Tasks: 3\n",
      "Forgetting in task 1: first time micro av. f1 = 0.7039, after all tasks micro av. f1 = 0.7005\n",
      "Forgetting in task 2: first time micro av. f1 = 0.7162, after all tasks micro av. f1 = 0.7005\n",
      "Forgetting in task 3: first time micro av. f1 = 0.2273, after all tasks micro av. f1 = 0.7005\n"
     ]
    },
    {
     "data": {
      "image/png": "[encoded data removed]",
      "text/plain": [
       "<Figure size 360x360 with 1 Axes>"
      ]
     },
     "metadata": {
      "needs_background": "light"
     },
     "output_type": "display_data"
    }
   ],
   "source": [
    "hparams_dict = {\n",
    "    'inputs': 114,\n",
    "    'outputs': 7,\n",
    "    'time_constant': 300,\n",
    "    'alpha_a': 0.52,\n",
    "    'alpha_m': 0.22,\n",
    "    'w_max': 100.0,\n",
    "    'w_min': -100.0,\n",
    "    'lr': 1e-4,\n",
    "    'sim_time': 600,\n",
    "    'n_epochs': 4000,\n",
    "    'print_every': 400,\n",
    "    'name': 'Flags',\n",
    "    'tasks': {'samples': [43, 43, 43], 'labels': [3, 2, 2]},\n",
    "    'seed': 2,\n",
    "    'ckpt_dir': './checkpoints/flags',\n",
    "    'load_from_file': None,\n",
    "    'device': device\n",
    "}\n",
    "net = OverallSNN(hparams_dict)\n",
    "net.fit_and_evaluate(train_spikes, train_labels, test_spikes, test_labels)"
   ]
  },
  {
   "cell_type": "code",
   "execution_count": 4,
   "metadata": {},
   "outputs": [
    {
     "name": "stdout",
     "output_type": "stream",
     "text": [
      "Training and Evaluating on task 1\n",
      "Train data shape is  (43, 1, 114)\n",
      "Train Labels shape is  (43, 3)\n",
      "Classes trained are: 0 to 3\n"
     ]
    },
    {
     "name": "stderr",
     "output_type": "stream",
     "text": [
      "  0%|          | 0/4000 [00:00<?, ?it/s]"
     ]
    },
    {
     "name": "stdout",
     "output_type": "stream",
     "text": [
      "Class 0, class 1 neurons = 5, class 0 neurons = 2\n",
      "Class 1, class 1 neurons = 2, class 0 neurons = 5\n",
      "Class 2, class 1 neurons = 2, class 0 neurons = 5\n"
     ]
    },
    {
     "name": "stderr",
     "output_type": "stream",
     "text": [
      "100%|██████████| 4000/4000 [37:47<00:00,  1.76it/s]\n"
     ]
    },
    {
     "name": "stdout",
     "output_type": "stream",
     "text": [
      "Evaluating in individual mode on test set\n",
      "multilabel-indicator multilabel-indicator\n",
      "float32 int64\n",
      "(65, 3) (65, 3)\n",
      "|                     |         0 |\n",
      "|:--------------------|----------:|\n",
      "| hamming loss        | 0.184615  |\n",
      "| zero_one_loss       | 0.476923  |\n",
      "| one_error           | 0.0153846 |\n",
      "| micro av. jaccard   | 0.595506  |\n",
      "| macro av. jaccard   | 0.338053  |\n",
      "| micro av. precision | 0.828125  |\n",
      "| macro av. precision | 0.55364   |\n",
      "| micro av. recall    | 0.679487  |\n",
      "| macro av. recall    | 0.393091  |\n",
      "| micro av. f1        | 0.746479  |\n",
      "| macro av. f1        | 0.417035  |\n",
      "Evaluating in combined mode on test set\n",
      "multilabel-indicator multilabel-indicator\n",
      "float32 int64\n",
      "(65, 3) (65, 3)\n",
      "|                     |         0 |\n",
      "|:--------------------|----------:|\n",
      "| hamming loss        | 0.184615  |\n",
      "| zero_one_loss       | 0.476923  |\n",
      "| one_error           | 0.0153846 |\n",
      "| micro av. jaccard   | 0.595506  |\n",
      "| macro av. jaccard   | 0.338053  |\n",
      "| micro av. precision | 0.828125  |\n",
      "| macro av. precision | 0.55364   |\n",
      "| micro av. recall    | 0.679487  |\n",
      "| macro av. recall    | 0.393091  |\n",
      "| micro av. f1        | 0.746479  |\n",
      "| macro av. f1        | 0.417035  |\n",
      "Training and Evaluating on task 2\n",
      "Train data shape is  (43, 1, 114)\n",
      "Train Labels shape is  (43, 2)\n",
      "Classes trained are: 3 to 5\n",
      "Augmenting class labels...\n",
      "Train Labels shape is  (43, 5)\n"
     ]
    },
    {
     "name": "stderr",
     "output_type": "stream",
     "text": [
      "  0%|          | 0/4000 [00:00<?, ?it/s]"
     ]
    },
    {
     "name": "stdout",
     "output_type": "stream",
     "text": [
      "Class 0, class 1 neurons = 6, class 0 neurons = 2\n",
      "Class 1, class 1 neurons = 2, class 0 neurons = 5\n",
      "Class 2, class 1 neurons = 2, class 0 neurons = 5\n",
      "Class 3, class 1 neurons = 3, class 0 neurons = 1\n",
      "Class 4, class 1 neurons = 2, class 0 neurons = 3\n"
     ]
    },
    {
     "name": "stderr",
     "output_type": "stream",
     "text": [
      "100%|██████████| 4000/4000 [57:22<00:00,  1.16it/s]\n"
     ]
    },
    {
     "name": "stdout",
     "output_type": "stream",
     "text": [
      "Evaluating in individual mode on test set\n",
      "multilabel-indicator multilabel-indicator\n",
      "float32 int64\n",
      "(65, 2) (65, 2)\n",
      "|                     |        0 |\n",
      "|:--------------------|---------:|\n",
      "| hamming loss        | 0.4      |\n",
      "| zero_one_loss       | 0.630769 |\n",
      "| one_error           | 0.169231 |\n",
      "| micro av. jaccard   | 0.103448 |\n",
      "| macro av. jaccard   | 0.104762 |\n",
      "| micro av. precision | 0.857143 |\n",
      "| macro av. precision | 0.9      |\n",
      "| micro av. recall    | 0.105263 |\n",
      "| macro av. recall    | 0.107407 |\n",
      "| micro av. f1        | 0.1875   |\n",
      "| macro av. f1        | 0.1875   |\n",
      "Evaluating in combined mode on test set\n",
      "multilabel-indicator multilabel-indicator\n",
      "float32 int64\n",
      "(65, 5) (65, 5)\n",
      "|                     |        0 |\n",
      "|:--------------------|---------:|\n",
      "| hamming loss        | 0.286154 |\n",
      "| zero_one_loss       | 0.8      |\n",
      "| one_error           | 0        |\n",
      "| micro av. jaccard   | 0.358621 |\n",
      "| macro av. jaccard   | 0.220641 |\n",
      "| micro av. precision | 0.83871  |\n",
      "| macro av. precision | 0.688    |\n",
      "| micro av. recall    | 0.385185 |\n",
      "| macro av. recall    | 0.245764 |\n",
      "| micro av. f1        | 0.527919 |\n",
      "| macro av. f1        | 0.302875 |\n",
      "Training and Evaluating on task 3\n",
      "Train data shape is  (43, 1, 114)\n",
      "Train Labels shape is  (43, 2)\n",
      "Classes trained are: 5 to 7\n",
      "Augmenting class labels...\n",
      "Train Labels shape is  (43, 7)\n"
     ]
    },
    {
     "name": "stderr",
     "output_type": "stream",
     "text": [
      "  0%|          | 0/4000 [00:00<?, ?it/s]"
     ]
    },
    {
     "name": "stdout",
     "output_type": "stream",
     "text": [
      "Class 0, class 1 neurons = 9, class 0 neurons = 2\n",
      "Class 1, class 1 neurons = 2, class 0 neurons = 5\n",
      "Class 2, class 1 neurons = 2, class 0 neurons = 5\n",
      "Class 3, class 1 neurons = 4, class 0 neurons = 2\n",
      "Class 4, class 1 neurons = 2, class 0 neurons = 4\n",
      "Class 5, class 1 neurons = 3, class 0 neurons = 2\n",
      "Class 6, class 1 neurons = 4, class 0 neurons = 2\n"
     ]
    },
    {
     "name": "stderr",
     "output_type": "stream",
     "text": [
      "100%|██████████| 4000/4000 [1:23:28<00:00,  1.25s/it]\n"
     ]
    },
    {
     "name": "stdout",
     "output_type": "stream",
     "text": [
      "Evaluating in individual mode on test set\n",
      "multilabel-indicator multilabel-indicator\n",
      "float32 int64\n",
      "(65, 2) (65, 2)\n",
      "|                     |        0 |\n",
      "|:--------------------|---------:|\n",
      "| hamming loss        | 0.346154 |\n",
      "| zero_one_loss       | 0.538462 |\n",
      "| one_error           | 0.153846 |\n",
      "| micro av. jaccard   | 0.567308 |\n",
      "| macro av. jaccard   | 0.505128 |\n",
      "| micro av. precision | 0.728395 |\n",
      "| macro av. precision | 0.689423 |\n",
      "| micro av. recall    | 0.719512 |\n",
      "| macro av. recall    | 0.651515 |\n",
      "| micro av. f1        | 0.723926 |\n",
      "| macro av. f1        | 0.633906 |\n",
      "Evaluating in combined mode on test set\n",
      "multilabel-indicator multilabel-indicator\n",
      "float32 int64\n",
      "(65, 7) (65, 7)\n",
      "|                     |        0 |\n",
      "|:--------------------|---------:|\n",
      "| hamming loss        | 0.320879 |\n",
      "| zero_one_loss       | 0.907692 |\n",
      "| one_error           | 0        |\n",
      "| micro av. jaccard   | 0.408907 |\n",
      "| macro av. jaccard   | 0.283623 |\n",
      "| micro av. precision | 0.770992 |\n",
      "| macro av. precision | 0.680538 |\n",
      "| micro av. recall    | 0.465438 |\n",
      "| macro av. recall    | 0.336701 |\n",
      "| micro av. f1        | 0.58046  |\n",
      "| macro av. f1        | 0.384887 |\n",
      "Evaluating in individual mode on test set\n",
      "|                     |         0 |        1 |        2 |\n",
      "|:--------------------|----------:|---------:|---------:|\n",
      "| hamming loss        | 0.25641   | 0.392308 | 0.346154 |\n",
      "| zero_one_loss       | 0.661538  | 0.615385 | 0.538462 |\n",
      "| one_error           | 0.0153846 | 0.169231 | 0.153846 |\n",
      "| micro av. jaccard   | 0.411765  | 0.12069  | 0.567308 |\n",
      "| macro av. jaccard   | 0.242495  | 0.12381  | 0.505128 |\n",
      "| micro av. precision | 0.833333  | 0.875    | 0.728395 |\n",
      "| macro av. precision | 0.509259  | 0.928571 | 0.689423 |\n",
      "| micro av. recall    | 0.448718  | 0.122807 | 0.719512 |\n",
      "| macro av. recall    | 0.266106  | 0.127778 | 0.651515 |\n",
      "| micro av. f1        | 0.583333  | 0.215385 | 0.723926 |\n",
      "| macro av. f1        | 0.336313  | 0.208729 | 0.633906 |\n",
      "Evaluating in combined mode on test set\n",
      "|                     |         0 |        1 |        2 |\n",
      "|:--------------------|----------:|---------:|---------:|\n",
      "| hamming loss        | 0.25641   | 0.310769 | 0.320879 |\n",
      "| zero_one_loss       | 0.661538  | 0.876923 | 0.907692 |\n",
      "| one_error           | 0.0153846 | 0        | 0        |\n",
      "| micro av. jaccard   | 0.411765  | 0.293706 | 0.408907 |\n",
      "| macro av. jaccard   | 0.242495  | 0.195021 | 0.283623 |\n",
      "| micro av. precision | 0.833333  | 0.84     | 0.770992 |\n",
      "| macro av. precision | 0.509259  | 0.676984 | 0.680538 |\n",
      "| micro av. recall    | 0.448718  | 0.311111 | 0.465438 |\n",
      "| macro av. recall    | 0.266106  | 0.210775 | 0.336701 |\n",
      "| micro av. f1        | 0.583333  | 0.454054 | 0.58046  |\n",
      "| macro av. f1        | 0.336313  | 0.285279 | 0.384887 |\n",
      "Number of Tasks: 3\n",
      "Forgetting in task 1: first time micro av. f1 = 0.7465, after all tasks micro av. f1 = 0.5833\n",
      "Forgetting in task 2: first time micro av. f1 = 0.1875, after all tasks micro av. f1 = 0.5833\n",
      "Forgetting in task 3: first time micro av. f1 = 0.7239, after all tasks micro av. f1 = 0.5833\n"
     ]
    },
    {
     "data": {
      "image/png": "[encoded data removed]",
      "text/plain": [
       "<Figure size 360x360 with 1 Axes>"
      ]
     },
     "metadata": {
      "needs_background": "light"
     },
     "output_type": "display_data"
    }
   ],
   "source": [
    "hparams_dict = {\n",
    "    'inputs': 114,\n",
    "    'outputs': 7,\n",
    "    'time_constant': 300,\n",
    "    'alpha_a': 0.52,\n",
    "    'alpha_m': 0.22,\n",
    "    'w_max': 100.0,\n",
    "    'w_min': -100.0,\n",
    "    'lr': 1e-4,\n",
    "    'sim_time': 600,\n",
    "    'n_epochs': 4000,\n",
    "    'print_every': 400,\n",
    "    'name': 'Flags',\n",
    "    'tasks': {'samples': [43, 43, 43], 'labels': [3, 2, 2]},\n",
    "    'seed': 3,\n",
    "    'ckpt_dir': './checkpoints/flags',\n",
    "    'load_from_file': None,\n",
    "    'device': device\n",
    "}\n",
    "net = OverallSNN(hparams_dict)\n",
    "net.fit_and_evaluate(train_spikes, train_labels, test_spikes, test_labels)"
   ]
  },
  {
   "cell_type": "code",
   "execution_count": 5,
   "metadata": {},
   "outputs": [
    {
     "name": "stdout",
     "output_type": "stream",
     "text": [
      "Training and Evaluating on task 1\n",
      "Train data shape is  (43, 1, 114)\n",
      "Train Labels shape is  (43, 3)\n",
      "Classes trained are: 0 to 3\n"
     ]
    },
    {
     "name": "stderr",
     "output_type": "stream",
     "text": [
      "  0%|          | 0/4000 [00:00<?, ?it/s]"
     ]
    },
    {
     "name": "stdout",
     "output_type": "stream",
     "text": [
      "Class 0, class 1 neurons = 5, class 0 neurons = 2\n",
      "Class 1, class 1 neurons = 2, class 0 neurons = 5\n",
      "Class 2, class 1 neurons = 4, class 0 neurons = 4\n"
     ]
    },
    {
     "name": "stderr",
     "output_type": "stream",
     "text": [
      "100%|██████████| 4000/4000 [38:50<00:00,  1.72it/s]\n"
     ]
    },
    {
     "name": "stdout",
     "output_type": "stream",
     "text": [
      "Evaluating in individual mode on test set\n",
      "multilabel-indicator multilabel-indicator\n",
      "float32 int64\n",
      "(65, 3) (65, 3)\n",
      "|                     |        0 |\n",
      "|:--------------------|---------:|\n",
      "| hamming loss        | 0.189744 |\n",
      "| zero_one_loss       | 0.415385 |\n",
      "| one_error           | 0        |\n",
      "| micro av. jaccard   | 0.633663 |\n",
      "| macro av. jaccard   | 0.419158 |\n",
      "| micro av. precision | 0.820513 |\n",
      "| macro av. precision | 0.542529 |\n",
      "| micro av. recall    | 0.735632 |\n",
      "| macro av. recall    | 0.491503 |\n",
      "| micro av. f1        | 0.775758 |\n",
      "| macro av. f1        | 0.506911 |\n",
      "Evaluating in combined mode on test set\n",
      "multilabel-indicator multilabel-indicator\n",
      "float32 int64\n",
      "(65, 3) (65, 3)\n",
      "|                     |        0 |\n",
      "|:--------------------|---------:|\n",
      "| hamming loss        | 0.189744 |\n",
      "| zero_one_loss       | 0.415385 |\n",
      "| one_error           | 0        |\n",
      "| micro av. jaccard   | 0.633663 |\n",
      "| macro av. jaccard   | 0.419158 |\n",
      "| micro av. precision | 0.820513 |\n",
      "| macro av. precision | 0.542529 |\n",
      "| micro av. recall    | 0.735632 |\n",
      "| macro av. recall    | 0.491503 |\n",
      "| micro av. f1        | 0.775758 |\n",
      "| macro av. f1        | 0.506911 |\n",
      "Training and Evaluating on task 2\n",
      "Train data shape is  (43, 1, 114)\n",
      "Train Labels shape is  (43, 2)\n",
      "Classes trained are: 3 to 5\n",
      "Augmenting class labels...\n",
      "Train Labels shape is  (43, 5)\n"
     ]
    },
    {
     "name": "stderr",
     "output_type": "stream",
     "text": [
      "  0%|          | 0/4000 [00:00<?, ?it/s]"
     ]
    },
    {
     "name": "stdout",
     "output_type": "stream",
     "text": [
      "Class 0, class 1 neurons = 6, class 0 neurons = 2\n",
      "Class 1, class 1 neurons = 2, class 0 neurons = 5\n",
      "Class 2, class 1 neurons = 4, class 0 neurons = 4\n",
      "Class 3, class 1 neurons = 3, class 0 neurons = 2\n",
      "Class 4, class 1 neurons = 2, class 0 neurons = 3\n"
     ]
    },
    {
     "name": "stderr",
     "output_type": "stream",
     "text": [
      "100%|██████████| 4000/4000 [59:34<00:00,  1.12it/s]\n"
     ]
    },
    {
     "name": "stdout",
     "output_type": "stream",
     "text": [
      "Evaluating in individual mode on test set\n",
      "multilabel-indicator multilabel-indicator\n",
      "float32 int64\n",
      "(65, 2) (65, 2)\n",
      "|                     |         0 |\n",
      "|:--------------------|----------:|\n",
      "| hamming loss        | 0.346154  |\n",
      "| zero_one_loss       | 0.615385  |\n",
      "| one_error           | 0.0769231 |\n",
      "| micro av. jaccard   | 0.5       |\n",
      "| macro av. jaccard   | 0.402074  |\n",
      "| micro av. precision | 0.762712  |\n",
      "| macro av. precision | 0.77963   |\n",
      "| micro av. recall    | 0.592105  |\n",
      "| macro av. recall    | 0.492441  |\n",
      "| micro av. f1        | 0.666667  |\n",
      "| macro av. f1        | 0.523058  |\n",
      "Evaluating in combined mode on test set\n",
      "multilabel-indicator multilabel-indicator\n",
      "float32 int64\n",
      "(65, 5) (65, 5)\n",
      "|                     |        0 |\n",
      "|:--------------------|---------:|\n",
      "| hamming loss        | 0.276923 |\n",
      "| zero_one_loss       | 0.815385 |\n",
      "| one_error           | 0        |\n",
      "| micro av. jaccard   | 0.52381  |\n",
      "| macro av. jaccard   | 0.373791 |\n",
      "| micro av. precision | 0.792    |\n",
      "| macro av. precision | 0.629852 |\n",
      "| micro av. recall    | 0.607362 |\n",
      "| macro av. recall    | 0.441682 |\n",
      "| micro av. f1        | 0.6875   |\n",
      "| macro av. f1        | 0.479908 |\n",
      "Training and Evaluating on task 3\n",
      "Train data shape is  (43, 1, 114)\n",
      "Train Labels shape is  (43, 2)\n",
      "Classes trained are: 5 to 7\n",
      "Augmenting class labels...\n",
      "Train Labels shape is  (43, 7)\n"
     ]
    },
    {
     "name": "stderr",
     "output_type": "stream",
     "text": [
      "  0%|          | 0/4000 [00:00<?, ?it/s]"
     ]
    },
    {
     "name": "stdout",
     "output_type": "stream",
     "text": [
      "Class 0, class 1 neurons = 9, class 0 neurons = 2\n",
      "Class 1, class 1 neurons = 2, class 0 neurons = 5\n",
      "Class 2, class 1 neurons = 5, class 0 neurons = 5\n",
      "Class 3, class 1 neurons = 4, class 0 neurons = 2\n",
      "Class 4, class 1 neurons = 2, class 0 neurons = 4\n",
      "Class 5, class 1 neurons = 3, class 0 neurons = 2\n",
      "Class 6, class 1 neurons = 4, class 0 neurons = 2\n"
     ]
    },
    {
     "name": "stderr",
     "output_type": "stream",
     "text": [
      "100%|██████████| 4000/4000 [1:26:29<00:00,  1.30s/it]\n"
     ]
    },
    {
     "name": "stdout",
     "output_type": "stream",
     "text": [
      "Evaluating in individual mode on test set\n",
      "multilabel-indicator multilabel-indicator\n",
      "float32 int64\n",
      "(65, 2) (65, 2)\n",
      "|                     |        0 |\n",
      "|:--------------------|---------:|\n",
      "| hamming loss        | 0.384615 |\n",
      "| zero_one_loss       | 0.646154 |\n",
      "| one_error           | 0.123077 |\n",
      "| micro av. jaccard   | 0.230769 |\n",
      "| macro av. jaccard   | 0.224359 |\n",
      "| micro av. precision | 0.576923 |\n",
      "| macro av. precision | 0.5625   |\n",
      "| micro av. recall    | 0.277778 |\n",
      "| macro av. recall    | 0.270563 |\n",
      "| micro av. f1        | 0.375    |\n",
      "| macro av. f1        | 0.365372 |\n",
      "Evaluating in combined mode on test set\n",
      "multilabel-indicator multilabel-indicator\n",
      "float32 int64\n",
      "(65, 7) (65, 7)\n",
      "|                     |        0 |\n",
      "|:--------------------|---------:|\n",
      "| hamming loss        | 0.318681 |\n",
      "| zero_one_loss       | 0.907692 |\n",
      "| one_error           | 0        |\n",
      "| micro av. jaccard   | 0.422311 |\n",
      "| macro av. jaccard   | 0.324786 |\n",
      "| micro av. precision | 0.757143 |\n",
      "| macro av. precision | 0.625107 |\n",
      "| micro av. recall    | 0.488479 |\n",
      "| macro av. recall    | 0.379169 |\n",
      "| micro av. f1        | 0.593838 |\n",
      "| macro av. f1        | 0.451997 |\n",
      "Evaluating in individual mode on test set\n",
      "|                     |        0 |         1 |        2 |\n",
      "|:--------------------|---------:|----------:|---------:|\n",
      "| hamming loss        | 0.261538 | 0.338462  | 0.384615 |\n",
      "| zero_one_loss       | 0.676923 | 0.584615  | 0.646154 |\n",
      "| one_error           | 0        | 0.0923077 | 0.123077 |\n",
      "| micro av. jaccard   | 0.46875  | 0.511111  | 0.230769 |\n",
      "| macro av. jaccard   | 0.321779 | 0.429724  | 0.224359 |\n",
      "| micro av. precision | 0.833333 | 0.766667  | 0.576923 |\n",
      "| macro av. precision | 0.546296 | 0.80593   | 0.5625   |\n",
      "| micro av. recall    | 0.517241 | 0.605263  | 0.277778 |\n",
      "| macro av. recall    | 0.35817  | 0.519274  | 0.270563 |\n",
      "| micro av. f1        | 0.638298 | 0.676471  | 0.375    |\n",
      "| macro av. f1        | 0.431992 | 0.568627  | 0.365372 |\n",
      "Evaluating in combined mode on test set\n",
      "|                     |        0 |        1 |        2 |\n",
      "|:--------------------|---------:|---------:|---------:|\n",
      "| hamming loss        | 0.261538 | 0.292308 | 0.318681 |\n",
      "| zero_one_loss       | 0.676923 | 0.815385 | 0.907692 |\n",
      "| one_error           | 0        | 0        | 0        |\n",
      "| micro av. jaccard   | 0.46875  | 0.489247 | 0.422311 |\n",
      "| macro av. jaccard   | 0.321779 | 0.364957 | 0.324786 |\n",
      "| micro av. precision | 0.833333 | 0.798246 | 0.757143 |\n",
      "| macro av. precision | 0.546296 | 0.65015  | 0.625107 |\n",
      "| micro av. recall    | 0.517241 | 0.558282 | 0.488479 |\n",
      "| macro av. recall    | 0.35817  | 0.422612 | 0.379169 |\n",
      "| micro av. f1        | 0.638298 | 0.65704  | 0.593838 |\n",
      "| macro av. f1        | 0.431992 | 0.486646 | 0.451997 |\n",
      "Number of Tasks: 3\n",
      "Forgetting in task 1: first time micro av. f1 = 0.7758, after all tasks micro av. f1 = 0.6383\n",
      "Forgetting in task 2: first time micro av. f1 = 0.6667, after all tasks micro av. f1 = 0.6383\n",
      "Forgetting in task 3: first time micro av. f1 = 0.3750, after all tasks micro av. f1 = 0.6383\n"
     ]
    },
    {
     "data": {
      "image/png": "[encoded data removed]",
      "text/plain": [
       "<Figure size 360x360 with 1 Axes>"
      ]
     },
     "metadata": {
      "needs_background": "light"
     },
     "output_type": "display_data"
    }
   ],
   "source": [
    "hparams_dict = {\n",
    "    'inputs': 114,\n",
    "    'outputs': 7,\n",
    "    'time_constant': 300,\n",
    "    'alpha_a': 0.52,\n",
    "    'alpha_m': 0.22,\n",
    "    'w_max': 100.0,\n",
    "    'w_min': -100.0,\n",
    "    'lr': 1e-4,\n",
    "    'sim_time': 600,\n",
    "    'n_epochs': 4000,\n",
    "    'print_every': 400,\n",
    "    'name': 'Flags',\n",
    "    'tasks': {'samples': [43, 43, 43], 'labels': [3, 2, 2]},\n",
    "    'seed': 4,\n",
    "    'ckpt_dir': './checkpoints/flags',\n",
    "    'load_from_file': None,\n",
    "    'device': device\n",
    "}\n",
    "net = OverallSNN(hparams_dict)\n",
    "net.fit_and_evaluate(train_spikes, train_labels, test_spikes, test_labels)"
   ]
  }
 ],
 "metadata": {
  "kernelspec": {
   "display_name": "DL_gpu",
   "language": "python",
   "name": "dl_gpu"
  },
  "language_info": {
   "codemirror_mode": {
    "name": "ipython",
    "version": 3
   },
   "file_extension": ".py",
   "mimetype": "text/x-python",
   "name": "python",
   "nbconvert_exporter": "python",
   "pygments_lexer": "ipython3",
   "version": "3.7.7"
  }
 },
 "nbformat": 4,
 "nbformat_minor": 4
}
