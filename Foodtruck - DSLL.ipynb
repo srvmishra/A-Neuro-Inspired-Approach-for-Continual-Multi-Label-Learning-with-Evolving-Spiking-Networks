{
 "cells": [
  {
   "cell_type": "code",
   "execution_count": 1,
   "metadata": {},
   "outputs": [],
   "source": [
    "from ContinualEvolvingSNN import *\n",
    "import arff\n",
    "import warnings\n",
    "from scipy.io import loadmat\n",
    "warnings.filterwarnings(\"ignore\")\n",
    "%matplotlib inline\n",
    "np.random.seed(0)\n",
    "torch.manual_seed(0)\n",
    "torch.cuda.manual_seed(0)\n",
    "device = torch.device('cuda:1' if torch.cuda.is_available() else 'cpu')"
   ]
  },
  {
   "cell_type": "markdown",
   "metadata": {},
   "source": [
    "## Load Data and Convert to Spikes"
   ]
  },
  {
   "cell_type": "code",
   "execution_count": 2,
   "metadata": {},
   "outputs": [
    {
     "name": "stdout",
     "output_type": "stream",
     "text": [
      "Before converting to spikes: \n",
      "Train data shape:  (250, 33)\n",
      "Test data shape:  (250, 33)\n"
     ]
    },
    {
     "name": "stderr",
     "output_type": "stream",
     "text": [
      "100%|██████████| 250/250 [00:00<00:00, 8235.69it/s]\n",
      "100%|██████████| 250/250 [00:00<00:00, 8793.75it/s]"
     ]
    },
    {
     "name": "stdout",
     "output_type": "stream",
     "text": [
      "Train data shape:  (250, 1, 126)\n",
      "Train labels shape:  (250, 12)\n",
      "Test data shape:  (250, 1, 126)\n",
      "Test labels shape:  (250, 12)\n"
     ]
    },
    {
     "name": "stderr",
     "output_type": "stream",
     "text": [
      "\n"
     ]
    }
   ],
   "source": [
    "train_path = '../datasets/foodtruck/foodtruck-rand-hout-tra.arff'\n",
    "test_path = '../datasets/foodtruck/foodtruck-rand-hout-tst.arff'\n",
    "num_features = 21\n",
    "\n",
    "train_data = arff.load(open(train_path, 'rt'))\n",
    "col_names = [x[0] for x in train_data['attributes']]\n",
    "train_data_arr = np.array(train_data['data'])\n",
    "train_data_arr = np.vstack([np.array(col_names), train_data_arr])\n",
    "np.savetxt('../datasets/foodtruck/train.csv', train_data_arr, fmt='%s', delimiter=',')\n",
    "train_df = pd.read_csv('../datasets/foodtruck/train.csv')\n",
    "train_df['time'].replace(['lunch', 'afternoon', 'happy_hour', 'dinner', 'dawn'], [0, 1, 2, 3, 4], inplace=True)\n",
    "train_df['motivation'].replace(['ads', 'by_chance', 'friend', 'social_network', 'web'], [0, 1, 2, 3, 4], inplace=True)\n",
    "train_df['marital.status'].replace(['divorced', 'married', 'single'], [0, 1, 2], inplace=True)\n",
    "train_df['gender'].replace(['F', 'M'], [0, 1], inplace=True)\n",
    "for c in train_df.columns:\n",
    "    train_df[c] = train_df[c].astype('float')\n",
    "train_data = train_df.to_numpy()\n",
    "\n",
    "test_data = arff.load(open(test_path, 'rt'))\n",
    "col_names = [x[0] for x in test_data['attributes']]\n",
    "test_data_arr = np.array(test_data['data'])\n",
    "test_data_arr = np.vstack([np.array(col_names), test_data_arr])\n",
    "np.savetxt('../datasets/foodtruck/test.csv', train_data_arr, fmt='%s', delimiter=',')\n",
    "test_df = pd.read_csv('../datasets/foodtruck/test.csv')\n",
    "test_df['time'].replace(['lunch', 'afternoon', 'happy_hour', 'dinner', 'dawn'], [0, 1, 2, 3, 4], inplace=True)\n",
    "test_df['motivation'].replace(['ads', 'by_chance', 'friend', 'social_network', 'web'], [0, 1, 2, 3, 4], inplace=True)\n",
    "test_df['marital.status'].replace(['divorced', 'married', 'single'], [0, 1, 2], inplace=True)\n",
    "test_df['gender'].replace(['F', 'M'], [0, 1], inplace=True)\n",
    "for c in test_df.columns:\n",
    "    test_df[c] = test_df[c].astype('float')\n",
    "test_data = test_df.to_numpy()\n",
    "\n",
    "print(\"Before converting to spikes: \")\n",
    "print(\"Train data shape: \", train_data.shape)\n",
    "print(\"Test data shape: \", test_data.shape)\n",
    "\n",
    "a = train_data[:, :num_features].max(axis=0)\n",
    "b = train_data[:, :num_features].min(axis=0)\n",
    "\n",
    "train_spikes, train_labels = encode_data_to_spikes(train_data, device, num_features, a, b)\n",
    "test_spikes, test_labels = encode_data_to_spikes(test_data, device, num_features, a, b)\n",
    "print(\"Train data shape: \", np.array(train_spikes).shape)\n",
    "print(\"Train labels shape: \", np.array(train_labels).shape)\n",
    "print(\"Test data shape: \", np.array(test_spikes).shape)\n",
    "print(\"Test labels shape: \", np.array(test_labels).shape)"
   ]
  },
  {
   "cell_type": "markdown",
   "metadata": {},
   "source": [
    "## DSLL Training and Evaluation Mode"
   ]
  },
  {
   "cell_type": "code",
   "execution_count": 3,
   "metadata": {},
   "outputs": [
    {
     "name": "stdout",
     "output_type": "stream",
     "text": [
      "Training and Evaluating on task 1\n",
      "Train data shape is  (250, 1, 126)\n",
      "Train Labels shape is  (250, 4)\n",
      "Classes trained are: 0 to 4\n"
     ]
    },
    {
     "name": "stderr",
     "output_type": "stream",
     "text": [
      "  0%|          | 0/5000 [00:00<?, ?it/s]"
     ]
    },
    {
     "name": "stdout",
     "output_type": "stream",
     "text": [
      "Class 0, class 1 neurons = 9, class 0 neurons = 7\n",
      "Class 1, class 1 neurons = 3, class 0 neurons = 11\n",
      "Class 2, class 1 neurons = 3, class 0 neurons = 13\n",
      "Class 3, class 1 neurons = 8, class 0 neurons = 9\n",
      "Class 4, class 1 neurons = 0, class 0 neurons = 0\n",
      "Class 5, class 1 neurons = 0, class 0 neurons = 0\n",
      "Class 6, class 1 neurons = 0, class 0 neurons = 0\n",
      "Class 7, class 1 neurons = 0, class 0 neurons = 0\n",
      "Class 8, class 1 neurons = 0, class 0 neurons = 0\n",
      "Class 9, class 1 neurons = 0, class 0 neurons = 0\n",
      "Class 10, class 1 neurons = 0, class 0 neurons = 0\n",
      "Class 11, class 1 neurons = 0, class 0 neurons = 0\n"
     ]
    },
    {
     "name": "stderr",
     "output_type": "stream",
     "text": [
      "100%|██████████| 5000/5000 [11:00:40<00:00,  7.93s/it]  \n"
     ]
    },
    {
     "name": "stdout",
     "output_type": "stream",
     "text": [
      "Evaluating in individual mode on test set\n",
      "multilabel-indicator multilabel-indicator\n",
      "float64 int64\n",
      "(250, 4) (250, 4)\n",
      "|                     |        0 |\n",
      "|:--------------------|---------:|\n",
      "| hamming loss        | 0.027    |\n",
      "| zero_one_loss       | 0.108    |\n",
      "| one_error           | 0        |\n",
      "| micro av. jaccard   | 0.920354 |\n",
      "| macro av. jaccard   | 0.87274  |\n",
      "| micro av. precision | 0.971963 |\n",
      "| macro av. precision | 0.973912 |\n",
      "| micro av. recall    | 0.945455 |\n",
      "| macro av. recall    | 0.895856 |\n",
      "| micro av. f1        | 0.958525 |\n",
      "| macro av. f1        | 0.929272 |\n",
      "Evaluating in combined mode on test set\n",
      "multilabel-indicator multilabel-indicator\n",
      "float64 int64\n",
      "(250, 4) (250, 4)\n",
      "|                     |        0 |\n",
      "|:--------------------|---------:|\n",
      "| hamming loss        | 0.027    |\n",
      "| zero_one_loss       | 0.108    |\n",
      "| one_error           | 0        |\n",
      "| micro av. jaccard   | 0.920354 |\n",
      "| macro av. jaccard   | 0.87274  |\n",
      "| micro av. precision | 0.971963 |\n",
      "| macro av. precision | 0.973912 |\n",
      "| micro av. recall    | 0.945455 |\n",
      "| macro av. recall    | 0.895856 |\n",
      "| micro av. f1        | 0.958525 |\n",
      "| macro av. f1        | 0.929272 |\n",
      "Training and Evaluating on task 2\n",
      "Train data shape is  (250, 1, 126)\n",
      "Train Labels shape is  (250, 4)\n",
      "Classes trained are: 4 to 8\n",
      "Augmenting class labels...\n",
      "Train Labels shape is  (250, 8)\n"
     ]
    },
    {
     "name": "stderr",
     "output_type": "stream",
     "text": [
      "  0%|          | 0/5000 [00:00<?, ?it/s]"
     ]
    },
    {
     "name": "stdout",
     "output_type": "stream",
     "text": [
      "Class 0, class 1 neurons = 17, class 0 neurons = 11\n",
      "Class 1, class 1 neurons = 6, class 0 neurons = 21\n",
      "Class 2, class 1 neurons = 3, class 0 neurons = 19\n",
      "Class 3, class 1 neurons = 13, class 0 neurons = 17\n",
      "Class 4, class 1 neurons = 4, class 0 neurons = 13\n",
      "Class 5, class 1 neurons = 2, class 0 neurons = 14\n",
      "Class 6, class 1 neurons = 5, class 0 neurons = 14\n",
      "Class 7, class 1 neurons = 5, class 0 neurons = 12\n",
      "Class 8, class 1 neurons = 0, class 0 neurons = 0\n",
      "Class 9, class 1 neurons = 0, class 0 neurons = 0\n",
      "Class 10, class 1 neurons = 0, class 0 neurons = 0\n",
      "Class 11, class 1 neurons = 0, class 0 neurons = 0\n"
     ]
    },
    {
     "name": "stderr",
     "output_type": "stream",
     "text": [
      "100%|██████████| 5000/5000 [28:08:12<00:00, 20.26s/it]   \n"
     ]
    },
    {
     "name": "stdout",
     "output_type": "stream",
     "text": [
      "Evaluating in individual mode on test set\n",
      "multilabel-indicator multilabel-indicator\n",
      "float64 int64\n",
      "(250, 4) (250, 4)\n",
      "|                     |        0 |\n",
      "|:--------------------|---------:|\n",
      "| hamming loss        | 0.008    |\n",
      "| zero_one_loss       | 0.028    |\n",
      "| one_error           | 0        |\n",
      "| micro av. jaccard   | 0.876923 |\n",
      "| macro av. jaccard   | 0.880682 |\n",
      "| micro av. precision | 1        |\n",
      "| macro av. precision | 1        |\n",
      "| micro av. recall    | 0.876923 |\n",
      "| macro av. recall    | 0.880682 |\n",
      "| micro av. f1        | 0.934426 |\n",
      "| macro av. f1        | 0.933761 |\n",
      "Evaluating in combined mode on test set\n",
      "multilabel-indicator multilabel-indicator\n",
      "float64 int64\n",
      "(250, 8) (250, 8)\n",
      "|                     |        0 |\n",
      "|:--------------------|---------:|\n",
      "| hamming loss        | 0.0175   |\n",
      "| zero_one_loss       | 0.128    |\n",
      "| one_error           | 0        |\n",
      "| micro av. jaccard   | 0.913366 |\n",
      "| macro av. jaccard   | 0.876711 |\n",
      "| micro av. precision | 0.97619  |\n",
      "| macro av. precision | 0.986956 |\n",
      "| micro av. recall    | 0.934177 |\n",
      "| macro av. recall    | 0.888269 |\n",
      "| micro av. f1        | 0.954722 |\n",
      "| macro av. f1        | 0.931517 |\n",
      "Training and Evaluating on task 3\n",
      "Train data shape is  (250, 1, 126)\n",
      "Train Labels shape is  (250, 4)\n",
      "Classes trained are: 8 to 12\n",
      "Augmenting class labels...\n",
      "Train Labels shape is  (250, 12)\n"
     ]
    },
    {
     "name": "stderr",
     "output_type": "stream",
     "text": [
      "  0%|          | 0/5000 [00:00<?, ?it/s]"
     ]
    },
    {
     "name": "stdout",
     "output_type": "stream",
     "text": [
      "Class 0, class 1 neurons = 22, class 0 neurons = 14\n",
      "Class 1, class 1 neurons = 10, class 0 neurons = 27\n",
      "Class 2, class 1 neurons = 3, class 0 neurons = 22\n",
      "Class 3, class 1 neurons = 13, class 0 neurons = 18\n",
      "Class 4, class 1 neurons = 5, class 0 neurons = 18\n",
      "Class 5, class 1 neurons = 2, class 0 neurons = 17\n",
      "Class 6, class 1 neurons = 5, class 0 neurons = 15\n",
      "Class 7, class 1 neurons = 5, class 0 neurons = 13\n",
      "Class 8, class 1 neurons = 6, class 0 neurons = 12\n",
      "Class 9, class 1 neurons = 4, class 0 neurons = 13\n",
      "Class 10, class 1 neurons = 6, class 0 neurons = 12\n",
      "Class 11, class 1 neurons = 6, class 0 neurons = 12\n"
     ]
    },
    {
     "name": "stderr",
     "output_type": "stream",
     "text": [
      "100%|██████████| 5000/5000 [23:11:31<00:00, 16.70s/it]   \n"
     ]
    },
    {
     "name": "stdout",
     "output_type": "stream",
     "text": [
      "Evaluating in individual mode on test set\n",
      "multilabel-indicator multilabel-indicator\n",
      "float64 int64\n",
      "(250, 4) (250, 4)\n",
      "|                     |        0 |\n",
      "|:--------------------|---------:|\n",
      "| hamming loss        | 0.012    |\n",
      "| zero_one_loss       | 0.044    |\n",
      "| one_error           | 0        |\n",
      "| micro av. jaccard   | 0.928994 |\n",
      "| macro av. jaccard   | 0.883505 |\n",
      "| micro av. precision | 1        |\n",
      "| macro av. precision | 1        |\n",
      "| micro av. recall    | 0.928994 |\n",
      "| macro av. recall    | 0.883505 |\n",
      "| micro av. f1        | 0.96319  |\n",
      "| macro av. f1        | 0.935989 |\n",
      "Evaluating in combined mode on test set\n",
      "multilabel-indicator multilabel-indicator\n",
      "float64 int64\n",
      "(250, 12) (250, 12)\n",
      "|                     |         0 |\n",
      "|:--------------------|----------:|\n",
      "| hamming loss        | 0.0156667 |\n",
      "| zero_one_loss       | 0.164     |\n",
      "| one_error           | 0         |\n",
      "| micro av. jaccard   | 0.917976  |\n",
      "| macro av. jaccard   | 0.878976  |\n",
      "| micro av. precision | 0.983178  |\n",
      "| macro av. precision | 0.991304  |\n",
      "| micro av. recall    | 0.932624  |\n",
      "| macro av. recall    | 0.886681  |\n",
      "| micro av. f1        | 0.957234  |\n",
      "| macro av. f1        | 0.933007  |\n",
      "Evaluating in individual mode on test set\n",
      "|                     |        0 |        1 |        2 |\n",
      "|:--------------------|---------:|---------:|---------:|\n",
      "| hamming loss        | 0.027    | 0.008    | 0.012    |\n",
      "| zero_one_loss       | 0.108    | 0.028    | 0.044    |\n",
      "| one_error           | 0        | 0        | 0        |\n",
      "| micro av. jaccard   | 0.920354 | 0.876923 | 0.928994 |\n",
      "| macro av. jaccard   | 0.87274  | 0.880682 | 0.883505 |\n",
      "| micro av. precision | 0.971963 | 1        | 1        |\n",
      "| macro av. precision | 0.973912 | 1        | 1        |\n",
      "| micro av. recall    | 0.945455 | 0.876923 | 0.928994 |\n",
      "| macro av. recall    | 0.895856 | 0.880682 | 0.883505 |\n",
      "| micro av. f1        | 0.958525 | 0.934426 | 0.96319  |\n",
      "| macro av. f1        | 0.929272 | 0.933761 | 0.935989 |\n",
      "Evaluating in combined mode on test set\n",
      "|                     |        0 |        1 |         2 |\n",
      "|:--------------------|---------:|---------:|----------:|\n",
      "| hamming loss        | 0.027    | 0.0175   | 0.0156667 |\n",
      "| zero_one_loss       | 0.108    | 0.128    | 0.164     |\n",
      "| one_error           | 0        | 0        | 0         |\n",
      "| micro av. jaccard   | 0.920354 | 0.913366 | 0.917976  |\n",
      "| macro av. jaccard   | 0.87274  | 0.876711 | 0.878976  |\n",
      "| micro av. precision | 0.971963 | 0.97619  | 0.983178  |\n",
      "| macro av. precision | 0.973912 | 0.986956 | 0.991304  |\n",
      "| micro av. recall    | 0.945455 | 0.934177 | 0.932624  |\n",
      "| macro av. recall    | 0.895856 | 0.888269 | 0.886681  |\n",
      "| micro av. f1        | 0.958525 | 0.954722 | 0.957234  |\n",
      "| macro av. f1        | 0.929272 | 0.931517 | 0.933007  |\n",
      "Number of Tasks: 3\n",
      "Forgetting in task 1: first time micro av. f1 = 0.9585, after all tasks micro av. f1 = 0.9585\n",
      "Forgetting in task 2: first time micro av. f1 = 0.9344, after all tasks micro av. f1 = 0.9585\n",
      "Forgetting in task 3: first time micro av. f1 = 0.9632, after all tasks micro av. f1 = 0.9585\n"
     ]
    },
    {
     "data": {
      "image/png": "[encoded data removed]",
      "text/plain": [
       "<Figure size 360x360 with 1 Axes>"
      ]
     },
     "metadata": {
      "needs_background": "light"
     },
     "output_type": "display_data"
    }
   ],
   "source": [
    "hparams_dict = {\n",
    "    'inputs': 126,\n",
    "    'outputs': 12,\n",
    "    'time_constant': 300,\n",
    "    'alpha_a': 0.48,\n",
    "    'alpha_m': 0.07,\n",
    "    'w_max': 100.0,\n",
    "    'w_min': -100.0,\n",
    "    'lr': 5e-4,\n",
    "    'sim_time': 600,\n",
    "    'n_epochs': 5000,\n",
    "    'print_every': 500,\n",
    "    'name': 'Foodtruck',\n",
    "    'tasks': {'samples': None, 'labels': [4, 4, 4]},\n",
    "    'seed': 2,\n",
    "    'ckpt_dir': './checkpoints/foodtruck',\n",
    "    'load_from_file': None,\n",
    "    'device': device\n",
    "}\n",
    "net = OverallSNN(hparams_dict)\n",
    "net.fit_and_evaluate(train_spikes, train_labels, test_spikes, test_labels)"
   ]
  },
  {
   "cell_type": "code",
   "execution_count": 4,
   "metadata": {},
   "outputs": [
    {
     "name": "stdout",
     "output_type": "stream",
     "text": [
      "Training and Evaluating on task 1\n",
      "Train data shape is  (250, 1, 126)\n",
      "Train Labels shape is  (250, 4)\n",
      "Classes trained are: 0 to 4\n"
     ]
    },
    {
     "name": "stderr",
     "output_type": "stream",
     "text": [
      "  0%|          | 0/5000 [00:00<?, ?it/s]"
     ]
    },
    {
     "name": "stdout",
     "output_type": "stream",
     "text": [
      "Class 0, class 1 neurons = 2, class 0 neurons = 14\n",
      "Class 1, class 1 neurons = 4, class 0 neurons = 13\n",
      "Class 2, class 1 neurons = 3, class 0 neurons = 11\n",
      "Class 3, class 1 neurons = 3, class 0 neurons = 13\n",
      "Class 4, class 1 neurons = 0, class 0 neurons = 0\n",
      "Class 5, class 1 neurons = 0, class 0 neurons = 0\n",
      "Class 6, class 1 neurons = 0, class 0 neurons = 0\n",
      "Class 7, class 1 neurons = 0, class 0 neurons = 0\n",
      "Class 8, class 1 neurons = 0, class 0 neurons = 0\n",
      "Class 9, class 1 neurons = 0, class 0 neurons = 0\n",
      "Class 10, class 1 neurons = 0, class 0 neurons = 0\n",
      "Class 11, class 1 neurons = 0, class 0 neurons = 0\n"
     ]
    },
    {
     "name": "stderr",
     "output_type": "stream",
     "text": [
      "100%|██████████| 5000/5000 [2:23:50<00:00,  1.73s/it]  \n"
     ]
    },
    {
     "name": "stdout",
     "output_type": "stream",
     "text": [
      "Evaluating in individual mode on test set\n",
      "multilabel-indicator multilabel-indicator\n",
      "float64 int64\n",
      "(250, 4) (250, 4)\n",
      "|                     |        0 |\n",
      "|:--------------------|---------:|\n",
      "| hamming loss        | 0.38     |\n",
      "| zero_one_loss       | 0.916    |\n",
      "| one_error           | 0.02     |\n",
      "| micro av. jaccard   | 0.088729 |\n",
      "| macro av. jaccard   | 0.113999 |\n",
      "| micro av. precision | 0.298387 |\n",
      "| macro av. precision | 0.445811 |\n",
      "| micro av. recall    | 0.112121 |\n",
      "| macro av. recall    | 0.215781 |\n",
      "| micro av. f1        | 0.162996 |\n",
      "| macro av. f1        | 0.20011  |\n",
      "Evaluating in combined mode on test set\n",
      "multilabel-indicator multilabel-indicator\n",
      "float64 int64\n",
      "(250, 4) (250, 4)\n",
      "|                     |        0 |\n",
      "|:--------------------|---------:|\n",
      "| hamming loss        | 0.38     |\n",
      "| zero_one_loss       | 0.916    |\n",
      "| one_error           | 0.02     |\n",
      "| micro av. jaccard   | 0.088729 |\n",
      "| macro av. jaccard   | 0.113999 |\n",
      "| micro av. precision | 0.298387 |\n",
      "| macro av. precision | 0.445811 |\n",
      "| micro av. recall    | 0.112121 |\n",
      "| macro av. recall    | 0.215781 |\n",
      "| micro av. f1        | 0.162996 |\n",
      "| macro av. f1        | 0.20011  |\n",
      "Training and Evaluating on task 2\n",
      "Train data shape is  (250, 1, 126)\n",
      "Train Labels shape is  (250, 4)\n",
      "Classes trained are: 4 to 8\n",
      "Augmenting class labels...\n",
      "Train Labels shape is  (250, 8)\n"
     ]
    },
    {
     "name": "stderr",
     "output_type": "stream",
     "text": [
      "  0%|          | 0/5000 [00:00<?, ?it/s]"
     ]
    },
    {
     "name": "stdout",
     "output_type": "stream",
     "text": [
      "Class 0, class 1 neurons = 2, class 0 neurons = 17\n",
      "Class 1, class 1 neurons = 5, class 0 neurons = 18\n",
      "Class 2, class 1 neurons = 7, class 0 neurons = 19\n",
      "Class 3, class 1 neurons = 4, class 0 neurons = 20\n",
      "Class 4, class 1 neurons = 8, class 0 neurons = 9\n",
      "Class 5, class 1 neurons = 6, class 0 neurons = 12\n",
      "Class 6, class 1 neurons = 4, class 0 neurons = 13\n",
      "Class 7, class 1 neurons = 5, class 0 neurons = 14\n",
      "Class 8, class 1 neurons = 0, class 0 neurons = 0\n",
      "Class 9, class 1 neurons = 0, class 0 neurons = 0\n",
      "Class 10, class 1 neurons = 0, class 0 neurons = 0\n",
      "Class 11, class 1 neurons = 0, class 0 neurons = 0\n"
     ]
    },
    {
     "name": "stderr",
     "output_type": "stream",
     "text": [
      "100%|██████████| 5000/5000 [5:34:14<00:00,  4.01s/it]  \n"
     ]
    },
    {
     "name": "stdout",
     "output_type": "stream",
     "text": [
      "Evaluating in individual mode on test set\n",
      "multilabel-indicator multilabel-indicator\n",
      "float64 int64\n",
      "(250, 4) (250, 4)\n",
      "|                     |        0 |\n",
      "|:--------------------|---------:|\n",
      "| hamming loss        | 0.124    |\n",
      "| zero_one_loss       | 0.312    |\n",
      "| one_error           | 0.012    |\n",
      "| micro av. jaccard   | 0.120567 |\n",
      "| macro av. jaccard   | 0.111975 |\n",
      "| micro av. precision | 0.182796 |\n",
      "| macro av. precision | 0.175824 |\n",
      "| micro av. recall    | 0.261538 |\n",
      "| macro av. recall    | 0.242832 |\n",
      "| micro av. f1        | 0.21519  |\n",
      "| macro av. f1        | 0.198926 |\n",
      "Evaluating in combined mode on test set\n",
      "multilabel-indicator multilabel-indicator\n",
      "float64 int64\n",
      "(250, 8) (250, 8)\n",
      "|                     |         0 |\n",
      "|:--------------------|----------:|\n",
      "| hamming loss        | 0.2515    |\n",
      "| zero_one_loss       | 0.936     |\n",
      "| one_error           | 0         |\n",
      "| micro av. jaccard   | 0.0969479 |\n",
      "| macro av. jaccard   | 0.113177  |\n",
      "| micro av. precision | 0.25      |\n",
      "| macro av. precision | 0.311074  |\n",
      "| micro av. recall    | 0.136709  |\n",
      "| macro av. recall    | 0.229307  |\n",
      "| micro av. f1        | 0.176759  |\n",
      "| macro av. f1        | 0.19981   |\n",
      "Training and Evaluating on task 3\n",
      "Train data shape is  (250, 1, 126)\n",
      "Train Labels shape is  (250, 4)\n",
      "Classes trained are: 8 to 12\n",
      "Augmenting class labels...\n",
      "Train Labels shape is  (250, 12)\n"
     ]
    },
    {
     "name": "stderr",
     "output_type": "stream",
     "text": [
      "  0%|          | 0/5000 [00:00<?, ?it/s]"
     ]
    },
    {
     "name": "stdout",
     "output_type": "stream",
     "text": [
      "Class 0, class 1 neurons = 2, class 0 neurons = 17\n",
      "Class 1, class 1 neurons = 5, class 0 neurons = 19\n",
      "Class 2, class 1 neurons = 9, class 0 neurons = 23\n",
      "Class 3, class 1 neurons = 4, class 0 neurons = 21\n",
      "Class 4, class 1 neurons = 12, class 0 neurons = 17\n",
      "Class 5, class 1 neurons = 6, class 0 neurons = 13\n",
      "Class 6, class 1 neurons = 5, class 0 neurons = 18\n",
      "Class 7, class 1 neurons = 5, class 0 neurons = 15\n",
      "Class 8, class 1 neurons = 6, class 0 neurons = 12\n",
      "Class 9, class 1 neurons = 5, class 0 neurons = 12\n",
      "Class 10, class 1 neurons = 6, class 0 neurons = 12\n",
      "Class 11, class 1 neurons = 3, class 0 neurons = 11\n"
     ]
    },
    {
     "name": "stderr",
     "output_type": "stream",
     "text": [
      "100%|██████████| 5000/5000 [8:37:34<00:00,  6.21s/it]  \n"
     ]
    },
    {
     "name": "stdout",
     "output_type": "stream",
     "text": [
      "Evaluating in individual mode on test set\n",
      "multilabel-indicator multilabel-indicator\n",
      "float64 int64\n",
      "(250, 4) (250, 4)\n",
      "|                     |        0 |\n",
      "|:--------------------|---------:|\n",
      "| hamming loss        | 0.118    |\n",
      "| zero_one_loss       | 0.412    |\n",
      "| one_error           | 0        |\n",
      "| micro av. jaccard   | 0.458716 |\n",
      "| macro av. jaccard   | 0.532384 |\n",
      "| micro av. precision | 0.671141 |\n",
      "| macro av. precision | 0.655033 |\n",
      "| micro av. recall    | 0.591716 |\n",
      "| macro av. recall    | 0.572763 |\n",
      "| micro av. f1        | 0.628931 |\n",
      "| macro av. f1        | 0.609572 |\n",
      "Evaluating in combined mode on test set\n",
      "multilabel-indicator multilabel-indicator\n",
      "float64 int64\n",
      "(250, 12) (250, 12)\n",
      "|                     |        0 |\n",
      "|:--------------------|---------:|\n",
      "| hamming loss        | 0.207    |\n",
      "| zero_one_loss       | 0.968    |\n",
      "| one_error           | 0        |\n",
      "| micro av. jaccard   | 0.19871  |\n",
      "| macro av. jaccard   | 0.252912 |\n",
      "| micro av. precision | 0.421918 |\n",
      "| macro av. precision | 0.425727 |\n",
      "| micro av. recall    | 0.27305  |\n",
      "| macro av. recall    | 0.343792 |\n",
      "| micro av. f1        | 0.331539 |\n",
      "| macro av. f1        | 0.336397 |\n",
      "Evaluating in individual mode on test set\n",
      "|                     |         0 |        1 |        2 |\n",
      "|:--------------------|----------:|---------:|---------:|\n",
      "| hamming loss        | 0.379     | 0.124    | 0.118    |\n",
      "| zero_one_loss       | 0.916     | 0.312    | 0.412    |\n",
      "| one_error           | 0.02      | 0.012    | 0        |\n",
      "| micro av. jaccard   | 0.0889423 | 0.120567 | 0.458716 |\n",
      "| macro av. jaccard   | 0.114379  | 0.111975 | 0.532384 |\n",
      "| micro av. precision | 0.300813  | 0.182796 | 0.671141 |\n",
      "| macro av. precision | 0.446325  | 0.175824 | 0.655033 |\n",
      "| micro av. recall    | 0.112121  | 0.261538 | 0.591716 |\n",
      "| macro av. recall    | 0.215781  | 0.242832 | 0.572763 |\n",
      "| micro av. f1        | 0.163355  | 0.21519  | 0.628931 |\n",
      "| macro av. f1        | 0.200694  | 0.198926 | 0.609572 |\n",
      "Evaluating in combined mode on test set\n",
      "|                     |         0 |         1 |        2 |\n",
      "|:--------------------|----------:|----------:|---------:|\n",
      "| hamming loss        | 0.379     | 0.2515    | 0.207    |\n",
      "| zero_one_loss       | 0.916     | 0.936     | 0.968    |\n",
      "| one_error           | 0.02      | 0         | 0        |\n",
      "| micro av. jaccard   | 0.0889423 | 0.0969479 | 0.19871  |\n",
      "| macro av. jaccard   | 0.114379  | 0.113177  | 0.252912 |\n",
      "| micro av. precision | 0.300813  | 0.25      | 0.421918 |\n",
      "| macro av. precision | 0.446325  | 0.311074  | 0.425727 |\n",
      "| micro av. recall    | 0.112121  | 0.136709  | 0.27305  |\n",
      "| macro av. recall    | 0.215781  | 0.229307  | 0.343792 |\n",
      "| micro av. f1        | 0.163355  | 0.176759  | 0.331539 |\n",
      "| macro av. f1        | 0.200694  | 0.19981   | 0.336397 |\n",
      "Number of Tasks: 3\n",
      "Forgetting in task 1: first time micro av. f1 = 0.1630, after all tasks micro av. f1 = 0.1634\n",
      "Forgetting in task 2: first time micro av. f1 = 0.2152, after all tasks micro av. f1 = 0.1634\n",
      "Forgetting in task 3: first time micro av. f1 = 0.6289, after all tasks micro av. f1 = 0.1634\n"
     ]
    },
    {
     "data": {
      "image/png": "[encoded data removed]",
      "text/plain": [
       "<Figure size 360x360 with 1 Axes>"
      ]
     },
     "metadata": {
      "needs_background": "light"
     },
     "output_type": "display_data"
    }
   ],
   "source": [
    "hparams_dict = {\n",
    "    'inputs': 126,\n",
    "    'outputs': 12,\n",
    "    'time_constant': 300,\n",
    "    'alpha_a': 0.48,\n",
    "    'alpha_m': 0.07,\n",
    "    'w_max': 100.0,\n",
    "    'w_min': -100.0,\n",
    "    'lr': 5e-4,\n",
    "    'sim_time': 600,\n",
    "    'n_epochs': 5000,\n",
    "    'print_every': 500,\n",
    "    'name': 'Foodtruck',\n",
    "    'tasks': {'samples': None, 'labels': [4, 4, 4]},\n",
    "    'seed': 3,\n",
    "    'ckpt_dir': './checkpoints/foodtruck',\n",
    "    'load_from_file': None,\n",
    "    'device': device\n",
    "}\n",
    "net = OverallSNN(hparams_dict)\n",
    "net.fit_and_evaluate(train_spikes, train_labels, test_spikes, test_labels)"
   ]
  },
  {
   "cell_type": "code",
   "execution_count": 3,
   "metadata": {},
   "outputs": [
    {
     "name": "stdout",
     "output_type": "stream",
     "text": [
      "Training and Evaluating on task 1\n",
      "Train data shape is  (250, 1, 126)\n",
      "Train Labels shape is  (250, 4)\n",
      "Classes trained are: 0 to 4\n"
     ]
    },
    {
     "name": "stderr",
     "output_type": "stream",
     "text": [
      "  0%|          | 0/5000 [00:00<?, ?it/s]"
     ]
    },
    {
     "name": "stdout",
     "output_type": "stream",
     "text": [
      "Class 0, class 1 neurons = 8, class 0 neurons = 9\n",
      "Class 1, class 1 neurons = 4, class 0 neurons = 13\n",
      "Class 2, class 1 neurons = 5, class 0 neurons = 14\n",
      "Class 3, class 1 neurons = 4, class 0 neurons = 13\n",
      "Class 4, class 1 neurons = 0, class 0 neurons = 0\n",
      "Class 5, class 1 neurons = 0, class 0 neurons = 0\n",
      "Class 6, class 1 neurons = 0, class 0 neurons = 0\n",
      "Class 7, class 1 neurons = 0, class 0 neurons = 0\n",
      "Class 8, class 1 neurons = 0, class 0 neurons = 0\n",
      "Class 9, class 1 neurons = 0, class 0 neurons = 0\n",
      "Class 10, class 1 neurons = 0, class 0 neurons = 0\n",
      "Class 11, class 1 neurons = 0, class 0 neurons = 0\n"
     ]
    },
    {
     "name": "stderr",
     "output_type": "stream",
     "text": [
      "100%|██████████| 5000/5000 [2:32:53<00:00,  1.83s/it]  \n"
     ]
    },
    {
     "name": "stdout",
     "output_type": "stream",
     "text": [
      "Evaluating in individual mode on test set\n",
      "multilabel-indicator multilabel-indicator\n",
      "float64 int64\n",
      "(250, 4) (250, 4)\n",
      "|                     |        0 |\n",
      "|:--------------------|---------:|\n",
      "| hamming loss        | 0.333    |\n",
      "| zero_one_loss       | 0.936    |\n",
      "| one_error           | 0        |\n",
      "| micro av. jaccard   | 0.119048 |\n",
      "| macro av. jaccard   | 0.104785 |\n",
      "| micro av. precision | 0.483871 |\n",
      "| macro av. precision | 0.424944 |\n",
      "| micro av. recall    | 0.136364 |\n",
      "| macro av. recall    | 0.127677 |\n",
      "| micro av. f1        | 0.212766 |\n",
      "| macro av. f1        | 0.188031 |\n",
      "Evaluating in combined mode on test set\n",
      "multilabel-indicator multilabel-indicator\n",
      "float64 int64\n",
      "(250, 4) (250, 4)\n",
      "|                     |        0 |\n",
      "|:--------------------|---------:|\n",
      "| hamming loss        | 0.333    |\n",
      "| zero_one_loss       | 0.936    |\n",
      "| one_error           | 0        |\n",
      "| micro av. jaccard   | 0.119048 |\n",
      "| macro av. jaccard   | 0.104785 |\n",
      "| micro av. precision | 0.483871 |\n",
      "| macro av. precision | 0.424944 |\n",
      "| micro av. recall    | 0.136364 |\n",
      "| macro av. recall    | 0.127677 |\n",
      "| micro av. f1        | 0.212766 |\n",
      "| macro av. f1        | 0.188031 |\n",
      "Training and Evaluating on task 2\n",
      "Train data shape is  (250, 1, 126)\n",
      "Train Labels shape is  (250, 4)\n",
      "Classes trained are: 4 to 8\n",
      "Augmenting class labels...\n",
      "Train Labels shape is  (250, 8)\n"
     ]
    },
    {
     "name": "stderr",
     "output_type": "stream",
     "text": [
      "  0%|          | 0/5000 [00:00<?, ?it/s]"
     ]
    },
    {
     "name": "stdout",
     "output_type": "stream",
     "text": [
      "Class 0, class 1 neurons = 13, class 0 neurons = 17\n",
      "Class 1, class 1 neurons = 5, class 0 neurons = 18\n",
      "Class 2, class 1 neurons = 5, class 0 neurons = 15\n",
      "Class 3, class 1 neurons = 4, class 0 neurons = 15\n",
      "Class 4, class 1 neurons = 4, class 0 neurons = 13\n",
      "Class 5, class 1 neurons = 9, class 0 neurons = 7\n",
      "Class 6, class 1 neurons = 6, class 0 neurons = 12\n",
      "Class 7, class 1 neurons = 5, class 0 neurons = 14\n",
      "Class 8, class 1 neurons = 0, class 0 neurons = 0\n",
      "Class 9, class 1 neurons = 0, class 0 neurons = 0\n",
      "Class 10, class 1 neurons = 0, class 0 neurons = 0\n",
      "Class 11, class 1 neurons = 0, class 0 neurons = 0\n"
     ]
    },
    {
     "name": "stderr",
     "output_type": "stream",
     "text": [
      "100%|██████████| 5000/5000 [6:36:01<00:00,  4.75s/it]  \n"
     ]
    },
    {
     "name": "stdout",
     "output_type": "stream",
     "text": [
      "Evaluating in individual mode on test set\n",
      "multilabel-indicator multilabel-indicator\n",
      "float64 int64\n",
      "(250, 4) (250, 4)\n",
      "|                     |         0 |\n",
      "|:--------------------|----------:|\n",
      "| hamming loss        | 0.307     |\n",
      "| zero_one_loss       | 0.828     |\n",
      "| one_error           | 0.004     |\n",
      "| micro av. jaccard   | 0.0943953 |\n",
      "| macro av. jaccard   | 0.250076  |\n",
      "| micro av. precision | 0.104575  |\n",
      "| macro av. precision | 0.326243  |\n",
      "| micro av. recall    | 0.492308  |\n",
      "| macro av. recall    | 0.470105  |\n",
      "| micro av. f1        | 0.172507  |\n",
      "| macro av. f1        | 0.320879  |\n",
      "Evaluating in combined mode on test set\n",
      "multilabel-indicator multilabel-indicator\n",
      "float64 int64\n",
      "(250, 8) (250, 8)\n",
      "|                     |        0 |\n",
      "|:--------------------|---------:|\n",
      "| hamming loss        | 0.32     |\n",
      "| zero_one_loss       | 0.964    |\n",
      "| one_error           | 0        |\n",
      "| micro av. jaccard   | 0.107392 |\n",
      "| macro av. jaccard   | 0.177431 |\n",
      "| micro av. precision | 0.192982 |\n",
      "| macro av. precision | 0.375594 |\n",
      "| micro av. recall    | 0.194937 |\n",
      "| macro av. recall    | 0.298891 |\n",
      "| micro av. f1        | 0.193955 |\n",
      "| macro av. f1        | 0.254455 |\n",
      "Training and Evaluating on task 3\n",
      "Train data shape is  (250, 1, 126)\n",
      "Train Labels shape is  (250, 4)\n",
      "Classes trained are: 8 to 12\n",
      "Augmenting class labels...\n",
      "Train Labels shape is  (250, 12)\n"
     ]
    },
    {
     "name": "stderr",
     "output_type": "stream",
     "text": [
      "  0%|          | 0/5000 [00:00<?, ?it/s]"
     ]
    },
    {
     "name": "stdout",
     "output_type": "stream",
     "text": [
      "Class 0, class 1 neurons = 13, class 0 neurons = 21\n",
      "Class 1, class 1 neurons = 5, class 0 neurons = 19\n",
      "Class 2, class 1 neurons = 5, class 0 neurons = 16\n",
      "Class 3, class 1 neurons = 4, class 0 neurons = 17\n",
      "Class 4, class 1 neurons = 5, class 0 neurons = 18\n",
      "Class 5, class 1 neurons = 17, class 0 neurons = 11\n",
      "Class 6, class 1 neurons = 10, class 0 neurons = 20\n",
      "Class 7, class 1 neurons = 5, class 0 neurons = 15\n",
      "Class 8, class 1 neurons = 2, class 0 neurons = 14\n",
      "Class 9, class 1 neurons = 6, class 0 neurons = 12\n",
      "Class 10, class 1 neurons = 9, class 0 neurons = 7\n",
      "Class 11, class 1 neurons = 5, class 0 neurons = 12\n"
     ]
    },
    {
     "name": "stderr",
     "output_type": "stream",
     "text": [
      "100%|██████████| 5000/5000 [10:26:31<00:00,  7.52s/it] \n"
     ]
    },
    {
     "name": "stdout",
     "output_type": "stream",
     "text": [
      "Evaluating in individual mode on test set\n",
      "multilabel-indicator multilabel-indicator\n",
      "float64 int64\n",
      "(250, 4) (250, 4)\n",
      "|                     |         0 |\n",
      "|:--------------------|----------:|\n",
      "| hamming loss        | 0.34      |\n",
      "| zero_one_loss       | 0.868     |\n",
      "| one_error           | 0         |\n",
      "| micro av. jaccard   | 0.0607735 |\n",
      "| macro av. jaccard   | 0.0897619 |\n",
      "| micro av. precision | 0.102326  |\n",
      "| macro av. precision | 0.254258  |\n",
      "| micro av. recall    | 0.130178  |\n",
      "| macro av. recall    | 0.232257  |\n",
      "| micro av. f1        | 0.114583  |\n",
      "| macro av. f1        | 0.152835  |\n",
      "Evaluating in combined mode on test set\n",
      "multilabel-indicator multilabel-indicator\n",
      "float64 int64\n",
      "(250, 12) (250, 12)\n",
      "|                     |         0 |\n",
      "|:--------------------|----------:|\n",
      "| hamming loss        | 0.326333  |\n",
      "| zero_one_loss       | 1         |\n",
      "| one_error           | 0         |\n",
      "| micro av. jaccard   | 0.0918367 |\n",
      "| macro av. jaccard   | 0.148254  |\n",
      "| micro av. precision | 0.161501  |\n",
      "| macro av. precision | 0.335211  |\n",
      "| micro av. recall    | 0.175532  |\n",
      "| macro av. recall    | 0.27668   |\n",
      "| micro av. f1        | 0.168224  |\n",
      "| macro av. f1        | 0.220665  |\n",
      "Evaluating in individual mode on test set\n",
      "|                     |        0 |         1 |         2 |\n",
      "|:--------------------|---------:|----------:|----------:|\n",
      "| hamming loss        | 0.333    | 0.306     | 0.34      |\n",
      "| zero_one_loss       | 0.936    | 0.828     | 0.868     |\n",
      "| one_error           | 0        | 0.004     | 0         |\n",
      "| micro av. jaccard   | 0.119048 | 0.0946746 | 0.0607735 |\n",
      "| macro av. jaccard   | 0.104785 | 0.250216  | 0.0897619 |\n",
      "| micro av. precision | 0.483871 | 0.104918  | 0.102326  |\n",
      "| macro av. precision | 0.424944 | 0.32643   | 0.254258  |\n",
      "| micro av. recall    | 0.136364 | 0.492308  | 0.130178  |\n",
      "| macro av. recall    | 0.127677 | 0.470105  | 0.232257  |\n",
      "| micro av. f1        | 0.212766 | 0.172973  | 0.114583  |\n",
      "| macro av. f1        | 0.188031 | 0.32113   | 0.152835  |\n",
      "Evaluating in combined mode on test set\n",
      "|                     |        0 |        1 |         2 |\n",
      "|:--------------------|---------:|---------:|----------:|\n",
      "| hamming loss        | 0.333    | 0.3195   | 0.326333  |\n",
      "| zero_one_loss       | 0.936    | 0.964    | 1         |\n",
      "| one_error           | 0        | 0        | 0         |\n",
      "| micro av. jaccard   | 0.119048 | 0.107542 | 0.0918367 |\n",
      "| macro av. jaccard   | 0.104785 | 0.177501 | 0.148254  |\n",
      "| micro av. precision | 0.483871 | 0.193467 | 0.161501  |\n",
      "| macro av. precision | 0.424944 | 0.375687 | 0.335211  |\n",
      "| micro av. recall    | 0.136364 | 0.194937 | 0.175532  |\n",
      "| macro av. recall    | 0.127677 | 0.298891 | 0.27668   |\n",
      "| micro av. f1        | 0.212766 | 0.194199 | 0.168224  |\n",
      "| macro av. f1        | 0.188031 | 0.25458  | 0.220665  |\n",
      "Number of Tasks: 3\n",
      "Forgetting in task 1: first time micro av. f1 = 0.2128, after all tasks micro av. f1 = 0.2128\n",
      "Forgetting in task 2: first time micro av. f1 = 0.1725, after all tasks micro av. f1 = 0.2128\n",
      "Forgetting in task 3: first time micro av. f1 = 0.1146, after all tasks micro av. f1 = 0.2128\n"
     ]
    },
    {
     "data": {
      "image/png": "[encoded data removed]",
      "text/plain": [
       "<Figure size 360x360 with 1 Axes>"
      ]
     },
     "metadata": {
      "needs_background": "light"
     },
     "output_type": "display_data"
    }
   ],
   "source": [
    "hparams_dict = {\n",
    "    'inputs': 126,\n",
    "    'outputs': 12,\n",
    "    'time_constant': 300,\n",
    "    'alpha_a': 0.48,\n",
    "    'alpha_m': 0.07,\n",
    "    'w_max': 100.0,\n",
    "    'w_min': -100.0,\n",
    "    'lr': 5e-4,\n",
    "    'sim_time': 600,\n",
    "    'n_epochs': 5000,\n",
    "    'print_every': 500,\n",
    "    'name': 'Foodtruck',\n",
    "    'tasks': {'samples': None, 'labels': [4, 4, 4]},\n",
    "    'seed': 4,\n",
    "    'ckpt_dir': './checkpoints/foodtruck',\n",
    "    'load_from_file': None,\n",
    "    'device': device\n",
    "}\n",
    "net = OverallSNN(hparams_dict)\n",
    "net.fit_and_evaluate(train_spikes, train_labels, test_spikes, test_labels)"
   ]
  }
 ],
 "metadata": {
  "kernelspec": {
   "display_name": "DL_gpu",
   "language": "python",
   "name": "dl_gpu"
  },
  "language_info": {
   "codemirror_mode": {
    "name": "ipython",
    "version": 3
   },
   "file_extension": ".py",
   "mimetype": "text/x-python",
   "name": "python",
   "nbconvert_exporter": "python",
   "pygments_lexer": "ipython3",
   "version": "3.7.7"
  }
 },
 "nbformat": 4,
 "nbformat_minor": 4
}
