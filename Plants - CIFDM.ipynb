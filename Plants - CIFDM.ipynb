{
 "cells": [
  {
   "cell_type": "code",
   "execution_count": 1,
   "metadata": {},
   "outputs": [],
   "source": [
    "from ContinualEvolvingSNN import *\n",
    "import arff\n",
    "import warnings\n",
    "from scipy.io import loadmat\n",
    "from utils import *\n",
    "warnings.filterwarnings(\"ignore\")\n",
    "%matplotlib inline\n",
    "np.random.seed(0)\n",
    "torch.manual_seed(0)\n",
    "torch.cuda.manual_seed(0)\n",
    "device = torch.device('cuda:3' if torch.cuda.is_available() else 'cpu')"
   ]
  },
  {
   "cell_type": "markdown",
   "metadata": {},
   "source": [
    "## Load Data and Convert to Spikes"
   ]
  },
  {
   "cell_type": "code",
   "execution_count": 2,
   "metadata": {},
   "outputs": [
    {
     "name": "stderr",
     "output_type": "stream",
     "text": [
      "100%|██████████| 588/588 [00:00<00:00, 5662.81it/s]\n",
      "100%|██████████| 390/390 [00:00<00:00, 7793.02it/s]"
     ]
    },
    {
     "name": "stdout",
     "output_type": "stream",
     "text": [
      "Train data shape:  (588, 1, 300)\n",
      "Train labels shape:  (588, 12)\n",
      "Test data shape:  (390, 1, 300)\n",
      "Test labels shape:  (390, 12)\n"
     ]
    },
    {
     "name": "stderr",
     "output_type": "stream",
     "text": [
      "\n"
     ]
    }
   ],
   "source": [
    "trainpath = '../datasets/PlantPseAAC/PlantPseAAC978_train_MVMD.mat'\n",
    "testpath = '../datasets/PlantPseAAC/PlantPseAAC978_test_MVMD.mat'\n",
    "\n",
    "train_ = loadmat(trainpath)\n",
    "train_data, train_labels = train_['transformed_train_data'], np.array(train_['labels'])\n",
    "\n",
    "test_ = loadmat(testpath)\n",
    "test_data, test_labels = test_['transformed_test_data'], np.array(test_['labels'])\n",
    "\n",
    "a = train_data.max(axis=0)\n",
    "b = train_data.min(axis=0)\n",
    "\n",
    "train_spikes = encoding(train_data, device, a, b)\n",
    "test_spikes = encoding(test_data, device, a, b)\n",
    "print(\"Train data shape: \", np.array(train_spikes).shape)\n",
    "print(\"Train labels shape: \", np.array(train_labels).shape)\n",
    "print(\"Test data shape: \", np.array(test_spikes).shape)\n",
    "print(\"Test labels shape: \", np.array(test_labels).shape)"
   ]
  },
  {
   "cell_type": "code",
   "execution_count": 3,
   "metadata": {},
   "outputs": [],
   "source": [
    "# samples = [196, 196, 196]\n",
    "# labels = [4, 4, 4]\n",
    "# seeds = return_seed(samples, labels, train_labels)\n",
    "# seeds"
   ]
  },
  {
   "cell_type": "markdown",
   "metadata": {},
   "source": [
    "## CIFDM Training and Evaluation Mode"
   ]
  },
  {
   "cell_type": "code",
   "execution_count": 4,
   "metadata": {},
   "outputs": [
    {
     "name": "stdout",
     "output_type": "stream",
     "text": [
      "Training and Evaluating on task 1\n",
      "Train data shape is  (196, 1, 300)\n",
      "Train Labels shape is  (196, 4)\n",
      "Classes trained are: 0 to 4\n"
     ]
    },
    {
     "name": "stderr",
     "output_type": "stream",
     "text": [
      "  0%|          | 0/2500 [00:00<?, ?it/s]"
     ]
    },
    {
     "name": "stdout",
     "output_type": "stream",
     "text": [
      "Class 0, class 1 neurons = 1, class 0 neurons = 18\n",
      "Class 1, class 1 neurons = 4, class 0 neurons = 3\n",
      "Class 2, class 1 neurons = 3, class 0 neurons = 4\n",
      "Class 3, class 1 neurons = 1, class 0 neurons = 6\n"
     ]
    },
    {
     "name": "stderr",
     "output_type": "stream",
     "text": [
      "100%|██████████| 2500/2500 [50:50<00:00,  1.22s/it]\n"
     ]
    },
    {
     "name": "stdout",
     "output_type": "stream",
     "text": [
      "Evaluating in individual mode on test set\n",
      "multilabel-indicator multilabel-indicator\n",
      "uint8 int64\n",
      "(390, 4) (390, 4)\n",
      "|                     |        0 |\n",
      "|:--------------------|---------:|\n",
      "| hamming loss        | 0.204487 |\n",
      "| zero_one_loss       | 0.615385 |\n",
      "| one_error           | 0        |\n",
      "| micro av. jaccard   | 0.245863 |\n",
      "| macro av. jaccard   | 0.150327 |\n",
      "| micro av. precision | 0.337662 |\n",
      "| macro av. precision | 0.183142 |\n",
      "| micro av. recall    | 0.474886 |\n",
      "| macro av. recall    | 0.357356 |\n",
      "| micro av. f1        | 0.394687 |\n",
      "| macro av. f1        | 0.24135  |\n",
      "Evaluating in combined mode on test set\n",
      "multilabel-indicator multilabel-indicator\n",
      "uint8 int64\n",
      "(390, 4) (390, 4)\n",
      "|                     |        0 |\n",
      "|:--------------------|---------:|\n",
      "| hamming loss        | 0.204487 |\n",
      "| zero_one_loss       | 0.615385 |\n",
      "| one_error           | 0        |\n",
      "| micro av. jaccard   | 0.245863 |\n",
      "| macro av. jaccard   | 0.150327 |\n",
      "| micro av. precision | 0.337662 |\n",
      "| macro av. precision | 0.183142 |\n",
      "| micro av. recall    | 0.474886 |\n",
      "| macro av. recall    | 0.357356 |\n",
      "| micro av. f1        | 0.394687 |\n",
      "| macro av. f1        | 0.24135  |\n",
      "Training and Evaluating on task 2\n",
      "Train data shape is  (196, 1, 300)\n",
      "Train Labels shape is  (196, 4)\n",
      "Classes trained are: 4 to 8\n",
      "Augmenting class labels...\n",
      "Train Labels shape is  (196, 8)\n"
     ]
    },
    {
     "name": "stderr",
     "output_type": "stream",
     "text": [
      "  0%|          | 0/2500 [00:00<?, ?it/s]"
     ]
    },
    {
     "name": "stdout",
     "output_type": "stream",
     "text": [
      "Class 0, class 1 neurons = 3, class 0 neurons = 20\n",
      "Class 1, class 1 neurons = 5, class 0 neurons = 6\n",
      "Class 2, class 1 neurons = 6, class 0 neurons = 5\n",
      "Class 3, class 1 neurons = 1, class 0 neurons = 16\n",
      "Class 4, class 1 neurons = 1, class 0 neurons = 2\n",
      "Class 5, class 1 neurons = 1, class 0 neurons = 2\n",
      "Class 6, class 1 neurons = 1, class 0 neurons = 2\n",
      "Class 7, class 1 neurons = 4, class 0 neurons = 2\n"
     ]
    },
    {
     "name": "stderr",
     "output_type": "stream",
     "text": [
      "100%|██████████| 2500/2500 [1:35:43<00:00,  2.30s/it]\n"
     ]
    },
    {
     "name": "stdout",
     "output_type": "stream",
     "text": [
      "Evaluating in individual mode on test set\n",
      "multilabel-indicator multilabel-indicator\n",
      "uint8 int64\n",
      "(390, 4) (390, 4)\n",
      "|                     |         0 |\n",
      "|:--------------------|----------:|\n",
      "| hamming loss        | 0.0955128 |\n",
      "| zero_one_loss       | 0.338462  |\n",
      "| one_error           | 0         |\n",
      "| micro av. jaccard   | 0.0387097 |\n",
      "| macro av. jaccard   | 0.0522123 |\n",
      "| micro av. precision | 0.084507  |\n",
      "| macro av. precision | 0.0825611 |\n",
      "| micro av. recall    | 0.0666667 |\n",
      "| macro av. recall    | 0.145833  |\n",
      "| micro av. f1        | 0.0745342 |\n",
      "| macro av. f1        | 0.0972222 |\n",
      "Evaluating in combined mode on test set\n",
      "multilabel-indicator multilabel-indicator\n",
      "uint8 int64\n",
      "(390, 8) (390, 8)\n",
      "|                     |         0 |\n",
      "|:--------------------|----------:|\n",
      "| hamming loss        | 0.15      |\n",
      "| zero_one_loss       | 0.725641  |\n",
      "| one_error           | 0         |\n",
      "| micro av. jaccard   | 0.186087  |\n",
      "| macro av. jaccard   | 0.0973248 |\n",
      "| micro av. precision | 0.286863  |\n",
      "| macro av. precision | 0.136028  |\n",
      "| micro av. recall    | 0.346278  |\n",
      "| macro av. recall    | 0.2344    |\n",
      "| micro av. f1        | 0.313783  |\n",
      "| macro av. f1        | 0.164035  |\n",
      "Training and Evaluating on task 3\n",
      "Train data shape is  (196, 1, 300)\n",
      "Train Labels shape is  (196, 4)\n",
      "Classes trained are: 8 to 12\n",
      "Augmenting class labels...\n",
      "Train Labels shape is  (196, 12)\n"
     ]
    },
    {
     "name": "stderr",
     "output_type": "stream",
     "text": [
      "  0%|          | 0/2500 [00:00<?, ?it/s]"
     ]
    },
    {
     "name": "stdout",
     "output_type": "stream",
     "text": [
      "Class 0, class 1 neurons = 5, class 0 neurons = 22\n",
      "Class 1, class 1 neurons = 7, class 0 neurons = 11\n",
      "Class 2, class 1 neurons = 10, class 0 neurons = 6\n",
      "Class 3, class 1 neurons = 1, class 0 neurons = 20\n",
      "Class 4, class 1 neurons = 3, class 0 neurons = 6\n",
      "Class 5, class 1 neurons = 2, class 0 neurons = 6\n",
      "Class 6, class 1 neurons = 2, class 0 neurons = 6\n",
      "Class 7, class 1 neurons = 6, class 0 neurons = 5\n",
      "Class 8, class 1 neurons = 1, class 0 neurons = 5\n",
      "Class 9, class 1 neurons = 1, class 0 neurons = 4\n",
      "Class 10, class 1 neurons = 1, class 0 neurons = 4\n",
      "Class 11, class 1 neurons = 2, class 0 neurons = 4\n"
     ]
    },
    {
     "name": "stderr",
     "output_type": "stream",
     "text": [
      "100%|██████████| 2500/2500 [2:51:57<00:00,  4.13s/it]  \n"
     ]
    },
    {
     "name": "stdout",
     "output_type": "stream",
     "text": [
      "Evaluating in individual mode on test set\n",
      "multilabel-indicator multilabel-indicator\n",
      "uint8 int64\n",
      "(390, 4) (390, 4)\n",
      "|                     |         0 |\n",
      "|:--------------------|----------:|\n",
      "| hamming loss        | 0.123718  |\n",
      "| zero_one_loss       | 0.453846  |\n",
      "| one_error           | 0         |\n",
      "| micro av. jaccard   | 0.0809524 |\n",
      "| macro av. jaccard   | 0.0874594 |\n",
      "| micro av. precision | 0.137097  |\n",
      "| macro av. precision | 0.104391  |\n",
      "| micro av. recall    | 0.165049  |\n",
      "| macro av. recall    | 0.296875  |\n",
      "| micro av. f1        | 0.14978   |\n",
      "| macro av. f1        | 0.153947  |\n",
      "Evaluating in combined mode on test set\n",
      "multilabel-indicator multilabel-indicator\n",
      "uint8 int64\n",
      "(390, 12) (390, 12)\n",
      "|                     |         0 |\n",
      "|:--------------------|----------:|\n",
      "| hamming loss        | 0.13953   |\n",
      "| zero_one_loss       | 0.864103  |\n",
      "| one_error           | 0         |\n",
      "| micro av. jaccard   | 0.157419  |\n",
      "| macro av. jaccard   | 0.0906543 |\n",
      "| micro av. precision | 0.251546  |\n",
      "| macro av. precision | 0.214612  |\n",
      "| micro av. recall    | 0.296117  |\n",
      "| macro av. recall    | 0.240399  |\n",
      "| micro av. f1        | 0.272018  |\n",
      "| macro av. f1        | 0.155272  |\n",
      "Evaluating in individual mode on test set\n",
      "|                     |        0 |         1 |         2 |\n",
      "|:--------------------|---------:|----------:|----------:|\n",
      "| hamming loss        | 0.202564 | 0.0923077 | 0.123718  |\n",
      "| zero_one_loss       | 0.623077 | 0.325641  | 0.453846  |\n",
      "| one_error           | 0        | 0         | 0         |\n",
      "| micro av. jaccard   | 0.238554 | 0.04      | 0.0809524 |\n",
      "| macro av. jaccard   | 0.13252  | 0.0519832 | 0.0874594 |\n",
      "| micro av. precision | 0.335593 | 0.0909091 | 0.137097  |\n",
      "| macro av. precision | 0.206985 | 0.332461  | 0.104391  |\n",
      "| micro av. recall    | 0.452055 | 0.0666667 | 0.165049  |\n",
      "| macro av. recall    | 0.29077  | 0.133553  | 0.296875  |\n",
      "| micro av. f1        | 0.385214 | 0.0769231 | 0.14978   |\n",
      "| macro av. f1        | 0.215122 | 0.0967471 | 0.153947  |\n",
      "Evaluating in combined mode on test set\n",
      "|                     |        0 |         1 |         2 |\n",
      "|:--------------------|---------:|----------:|----------:|\n",
      "| hamming loss        | 0.202564 | 0.147436  | 0.13953   |\n",
      "| zero_one_loss       | 0.623077 | 0.723077  | 0.864103  |\n",
      "| one_error           | 0        | 0         | 0         |\n",
      "| micro av. jaccard   | 0.238554 | 0.185841  | 0.157419  |\n",
      "| macro av. jaccard   | 0.13252  | 0.0922518 | 0.0906543 |\n",
      "| micro av. precision | 0.335593 | 0.290859  | 0.251546  |\n",
      "| macro av. precision | 0.206985 | 0.269723  | 0.214612  |\n",
      "| micro av. recall    | 0.452055 | 0.339806  | 0.296117  |\n",
      "| macro av. recall    | 0.29077  | 0.212161  | 0.240399  |\n",
      "| micro av. f1        | 0.385214 | 0.313433  | 0.272018  |\n",
      "| macro av. f1        | 0.215122 | 0.155935  | 0.155272  |\n",
      "Number of Tasks: 3\n",
      "Forgetting in task 1: first time micro av. f1 = 0.3947, after all tasks micro av. f1 = 0.3852\n",
      "Forgetting in task 2: first time micro av. f1 = 0.0745, after all tasks micro av. f1 = 0.3852\n",
      "Forgetting in task 3: first time micro av. f1 = 0.1498, after all tasks micro av. f1 = 0.3852\n"
     ]
    },
    {
     "data": {
      "image/png": "[encoded data removed]",
      "text/plain": [
       "<Figure size 360x360 with 1 Axes>"
      ]
     },
     "metadata": {
      "needs_background": "light"
     },
     "output_type": "display_data"
    }
   ],
   "source": [
    "hparams_dict = {\n",
    "    'inputs': 300,\n",
    "    'outputs': 12,\n",
    "    'time_constant': 300,\n",
    "    'alpha_a': 0.40,\n",
    "    'alpha_m': 0.07,\n",
    "    'w_max': 100.0,\n",
    "    'w_min': -100.0,\n",
    "    'lr': 1e-3,\n",
    "    'sim_time': 600,\n",
    "    'n_epochs': 2500,\n",
    "    'print_every': 500,\n",
    "    'name': 'Plants',\n",
    "    'tasks': {'samples': [196, 196, 196], 'labels': [4, 4, 4]},\n",
    "    'seed': 2,\n",
    "    'ckpt_dir': './checkpoints/plants',\n",
    "    'load_from_file': None,\n",
    "    'device': device\n",
    "}\n",
    "net = OverallSNN(hparams_dict)\n",
    "net.fit_and_evaluate(train_spikes, train_labels, test_spikes, test_labels)"
   ]
  },
  {
   "cell_type": "code",
   "execution_count": 5,
   "metadata": {},
   "outputs": [
    {
     "name": "stdout",
     "output_type": "stream",
     "text": [
      "Training and Evaluating on task 1\n",
      "Train data shape is  (196, 1, 300)\n",
      "Train Labels shape is  (196, 4)\n",
      "Classes trained are: 0 to 4\n"
     ]
    },
    {
     "name": "stderr",
     "output_type": "stream",
     "text": [
      "  0%|          | 0/2500 [00:00<?, ?it/s]"
     ]
    },
    {
     "name": "stdout",
     "output_type": "stream",
     "text": [
      "Class 0, class 1 neurons = 4, class 0 neurons = 3\n",
      "Class 1, class 1 neurons = 1, class 0 neurons = 18\n",
      "Class 2, class 1 neurons = 1, class 0 neurons = 6\n",
      "Class 3, class 1 neurons = 1, class 0 neurons = 7\n"
     ]
    },
    {
     "name": "stderr",
     "output_type": "stream",
     "text": [
      "100%|██████████| 2500/2500 [54:39<00:00,  1.31s/it]\n"
     ]
    },
    {
     "name": "stdout",
     "output_type": "stream",
     "text": [
      "Evaluating in individual mode on test set\n",
      "multilabel-indicator multilabel-indicator\n",
      "uint8 int64\n",
      "(390, 4) (390, 4)\n",
      "|                     |         0 |\n",
      "|:--------------------|----------:|\n",
      "| hamming loss        | 0.0615385 |\n",
      "| zero_one_loss       | 0.228205  |\n",
      "| one_error           | 0         |\n",
      "| micro av. jaccard   | 0.111111  |\n",
      "| macro av. jaccard   | 0.0658602 |\n",
      "| micro av. precision | 0.190476  |\n",
      "| macro av. precision | 0.088969  |\n",
      "| micro av. recall    | 0.210526  |\n",
      "| macro av. recall    | 0.164773  |\n",
      "| micro av. f1        | 0.2       |\n",
      "| macro av. f1        | 0.115546  |\n",
      "Evaluating in combined mode on test set\n",
      "multilabel-indicator multilabel-indicator\n",
      "uint8 int64\n",
      "(390, 4) (390, 4)\n",
      "|                     |         0 |\n",
      "|:--------------------|----------:|\n",
      "| hamming loss        | 0.0615385 |\n",
      "| zero_one_loss       | 0.228205  |\n",
      "| one_error           | 0         |\n",
      "| micro av. jaccard   | 0.111111  |\n",
      "| macro av. jaccard   | 0.0658602 |\n",
      "| micro av. precision | 0.190476  |\n",
      "| macro av. precision | 0.088969  |\n",
      "| micro av. recall    | 0.210526  |\n",
      "| macro av. recall    | 0.164773  |\n",
      "| micro av. f1        | 0.2       |\n",
      "| macro av. f1        | 0.115546  |\n",
      "Training and Evaluating on task 2\n",
      "Train data shape is  (196, 1, 300)\n",
      "Train Labels shape is  (196, 4)\n",
      "Classes trained are: 4 to 8\n",
      "Augmenting class labels...\n",
      "Train Labels shape is  (196, 8)\n"
     ]
    },
    {
     "name": "stderr",
     "output_type": "stream",
     "text": [
      "  0%|          | 0/2500 [00:00<?, ?it/s]"
     ]
    },
    {
     "name": "stdout",
     "output_type": "stream",
     "text": [
      "Class 0, class 1 neurons = 5, class 0 neurons = 6\n",
      "Class 1, class 1 neurons = 3, class 0 neurons = 20\n",
      "Class 2, class 1 neurons = 1, class 0 neurons = 13\n",
      "Class 3, class 1 neurons = 1, class 0 neurons = 17\n",
      "Class 4, class 1 neurons = 2, class 0 neurons = 3\n",
      "Class 5, class 1 neurons = 1, class 0 neurons = 2\n",
      "Class 6, class 1 neurons = 1, class 0 neurons = 2\n",
      "Class 7, class 1 neurons = 4, class 0 neurons = 2\n"
     ]
    },
    {
     "name": "stderr",
     "output_type": "stream",
     "text": [
      "100%|██████████| 2500/2500 [1:49:21<00:00,  2.62s/it]\n"
     ]
    },
    {
     "name": "stdout",
     "output_type": "stream",
     "text": [
      "Evaluating in individual mode on test set\n",
      "multilabel-indicator multilabel-indicator\n",
      "uint8 int64\n",
      "(390, 4) (390, 4)\n",
      "|                     |        0 |\n",
      "|:--------------------|---------:|\n",
      "| hamming loss        | 0.239103 |\n",
      "| zero_one_loss       | 0.712821 |\n",
      "| one_error           | 0        |\n",
      "| micro av. jaccard   | 0.142529 |\n",
      "| macro av. jaccard   | 0.100773 |\n",
      "| micro av. precision | 0.253061 |\n",
      "| macro av. precision | 0.219464 |\n",
      "| micro av. recall    | 0.246032 |\n",
      "| macro av. recall    | 0.244002 |\n",
      "| micro av. f1        | 0.249497 |\n",
      "| macro av. f1        | 0.174811 |\n",
      "Evaluating in combined mode on test set\n",
      "multilabel-indicator multilabel-indicator\n",
      "uint8 int64\n",
      "(390, 8) (390, 8)\n",
      "|                     |         0 |\n",
      "|:--------------------|----------:|\n",
      "| hamming loss        | 0.14391   |\n",
      "| zero_one_loss       | 0.784615  |\n",
      "| one_error           | 0         |\n",
      "| micro av. jaccard   | 0.136538  |\n",
      "| macro av. jaccard   | 0.0837199 |\n",
      "| micro av. precision | 0.251773  |\n",
      "| macro av. precision | 0.16714   |\n",
      "| micro av. recall    | 0.229773  |\n",
      "| macro av. recall    | 0.182607  |\n",
      "| micro av. f1        | 0.240271  |\n",
      "| macro av. f1        | 0.145847  |\n",
      "Training and Evaluating on task 3\n",
      "Train data shape is  (196, 1, 300)\n",
      "Train Labels shape is  (196, 4)\n",
      "Classes trained are: 8 to 12\n",
      "Augmenting class labels...\n",
      "Train Labels shape is  (196, 12)\n"
     ]
    },
    {
     "name": "stderr",
     "output_type": "stream",
     "text": [
      "  0%|          | 0/2500 [00:00<?, ?it/s]"
     ]
    },
    {
     "name": "stdout",
     "output_type": "stream",
     "text": [
      "Class 0, class 1 neurons = 7, class 0 neurons = 11\n",
      "Class 1, class 1 neurons = 5, class 0 neurons = 22\n",
      "Class 2, class 1 neurons = 1, class 0 neurons = 16\n",
      "Class 3, class 1 neurons = 1, class 0 neurons = 20\n",
      "Class 4, class 1 neurons = 6, class 0 neurons = 4\n",
      "Class 5, class 1 neurons = 2, class 0 neurons = 6\n",
      "Class 6, class 1 neurons = 2, class 0 neurons = 3\n",
      "Class 7, class 1 neurons = 6, class 0 neurons = 5\n",
      "Class 8, class 1 neurons = 1, class 0 neurons = 4\n",
      "Class 9, class 1 neurons = 1, class 0 neurons = 5\n",
      "Class 10, class 1 neurons = 2, class 0 neurons = 4\n",
      "Class 11, class 1 neurons = 1, class 0 neurons = 4\n"
     ]
    },
    {
     "name": "stderr",
     "output_type": "stream",
     "text": [
      "100%|██████████| 2500/2500 [2:51:50<00:00,  4.12s/it]  \n"
     ]
    },
    {
     "name": "stdout",
     "output_type": "stream",
     "text": [
      "Evaluating in individual mode on test set\n",
      "multilabel-indicator multilabel-indicator\n",
      "uint8 int64\n",
      "(390, 4) (390, 4)\n",
      "|                     |         0 |\n",
      "|:--------------------|----------:|\n",
      "| hamming loss        | 0.126282  |\n",
      "| zero_one_loss       | 0.466667  |\n",
      "| one_error           | 0         |\n",
      "| micro av. jaccard   | 0.087963  |\n",
      "| macro av. jaccard   | 0.0917708 |\n",
      "| micro av. precision | 0.143939  |\n",
      "| macro av. precision | 0.108329  |\n",
      "| micro av. recall    | 0.184466  |\n",
      "| macro av. recall    | 0.321875  |\n",
      "| micro av. f1        | 0.161702  |\n",
      "| macro av. f1        | 0.161811  |\n",
      "Evaluating in combined mode on test set\n",
      "multilabel-indicator multilabel-indicator\n",
      "uint8 int64\n",
      "(390, 12) (390, 12)\n",
      "|                     |         0 |\n",
      "|:--------------------|----------:|\n",
      "| hamming loss        | 0.132051  |\n",
      "| zero_one_loss       | 0.907692  |\n",
      "| one_error           | 0         |\n",
      "| micro av. jaccard   | 0.11588   |\n",
      "| macro av. jaccard   | 0.0866339 |\n",
      "| micro av. precision | 0.220109  |\n",
      "| macro av. precision | 0.24645   |\n",
      "| micro av. recall    | 0.196602  |\n",
      "| macro av. recall    | 0.212701  |\n",
      "| micro av. f1        | 0.207692  |\n",
      "| macro av. f1        | 0.152551  |\n",
      "Evaluating in individual mode on test set\n",
      "|                     |         0 |        1 |         2 |\n",
      "|:--------------------|----------:|---------:|----------:|\n",
      "| hamming loss        | 0.0403846 | 0.229487 | 0.126282  |\n",
      "| zero_one_loss       | 0.158974  | 0.697436 | 0.466667  |\n",
      "| one_error           | 0         | 0        | 0         |\n",
      "| micro av. jaccard   | 0.0869565 | 0.135266 | 0.087963  |\n",
      "| macro av. jaccard   | 0.0569892 | 0.111142 | 0.0917708 |\n",
      "| micro av. precision | 0.333333  | 0.256881 | 0.143939  |\n",
      "| macro av. precision | 0.151786  | 0.479235 | 0.108329  |\n",
      "| micro av. recall    | 0.105263  | 0.222222 | 0.184466  |\n",
      "| macro av. recall    | 0.0776515 | 0.238578 | 0.321875  |\n",
      "| micro av. f1        | 0.16      | 0.238298 | 0.161702  |\n",
      "| macro av. f1        | 0.100694  | 0.195147 | 0.161811  |\n",
      "Evaluating in combined mode on test set\n",
      "|                     |         0 |         1 |         2 |\n",
      "|:--------------------|----------:|----------:|----------:|\n",
      "| hamming loss        | 0.0403846 | 0.134936  | 0.132051  |\n",
      "| zero_one_loss       | 0.158974  | 0.779487  | 0.907692  |\n",
      "| one_error           | 0         | 0         | 0         |\n",
      "| micro av. jaccard   | 0.0869565 | 0.128364  | 0.11588   |\n",
      "| macro av. jaccard   | 0.0569892 | 0.0840654 | 0.0866339 |\n",
      "| micro av. precision | 0.333333  | 0.262712  | 0.220109  |\n",
      "| macro av. precision | 0.151786  | 0.31551   | 0.24645   |\n",
      "| micro av. recall    | 0.105263  | 0.200647  | 0.196602  |\n",
      "| macro av. recall    | 0.0776515 | 0.158115  | 0.212701  |\n",
      "| micro av. f1        | 0.16      | 0.227523  | 0.207692  |\n",
      "| macro av. f1        | 0.100694  | 0.147921  | 0.152551  |\n",
      "Number of Tasks: 3\n",
      "Forgetting in task 1: first time micro av. f1 = 0.2000, after all tasks micro av. f1 = 0.1600\n",
      "Forgetting in task 2: first time micro av. f1 = 0.2495, after all tasks micro av. f1 = 0.1600\n",
      "Forgetting in task 3: first time micro av. f1 = 0.1617, after all tasks micro av. f1 = 0.1600\n"
     ]
    },
    {
     "data": {
      "image/png": "[encoded data removed]",
      "text/plain": [
       "<Figure size 360x360 with 1 Axes>"
      ]
     },
     "metadata": {
      "needs_background": "light"
     },
     "output_type": "display_data"
    }
   ],
   "source": [
    "hparams_dict = {\n",
    "    'inputs': 300,\n",
    "    'outputs': 12,\n",
    "    'time_constant': 300,\n",
    "    'alpha_a': 0.40,\n",
    "    'alpha_m': 0.07,\n",
    "    'w_max': 100.0,\n",
    "    'w_min': -100.0,\n",
    "    'lr': 1e-3,\n",
    "    'sim_time': 600,\n",
    "    'n_epochs': 2500,\n",
    "    'print_every': 500,\n",
    "    'name': 'Plants',\n",
    "    'tasks': {'samples': [196, 196, 196], 'labels': [4, 4, 4]},\n",
    "    'seed': 244,\n",
    "    'ckpt_dir': './checkpoints/plants',\n",
    "    'load_from_file': None,\n",
    "    'device': device\n",
    "}\n",
    "net = OverallSNN(hparams_dict)\n",
    "net.fit_and_evaluate(train_spikes, train_labels, test_spikes, test_labels)"
   ]
  },
  {
   "cell_type": "code",
   "execution_count": 6,
   "metadata": {},
   "outputs": [
    {
     "name": "stdout",
     "output_type": "stream",
     "text": [
      "Training and Evaluating on task 1\n",
      "Train data shape is  (196, 1, 300)\n",
      "Train Labels shape is  (196, 4)\n",
      "Classes trained are: 0 to 4\n"
     ]
    },
    {
     "name": "stderr",
     "output_type": "stream",
     "text": [
      "  0%|          | 0/2500 [00:00<?, ?it/s]"
     ]
    },
    {
     "name": "stdout",
     "output_type": "stream",
     "text": [
      "Class 0, class 1 neurons = 1, class 0 neurons = 6\n",
      "Class 1, class 1 neurons = 1, class 0 neurons = 10\n",
      "Class 2, class 1 neurons = 1, class 0 neurons = 18\n",
      "Class 3, class 1 neurons = 4, class 0 neurons = 3\n"
     ]
    },
    {
     "name": "stderr",
     "output_type": "stream",
     "text": [
      "100%|██████████| 2500/2500 [57:06<00:00,  1.37s/it]\n"
     ]
    },
    {
     "name": "stdout",
     "output_type": "stream",
     "text": [
      "Evaluating in individual mode on test set\n",
      "multilabel-indicator multilabel-indicator\n",
      "uint8 int64\n",
      "(390, 4) (390, 4)\n",
      "|                     |         0 |\n",
      "|:--------------------|----------:|\n",
      "| hamming loss        | 0.0666667 |\n",
      "| zero_one_loss       | 0.248718  |\n",
      "| one_error           | 0         |\n",
      "| micro av. jaccard   | 0.103448  |\n",
      "| macro av. jaccard   | 0.0659091 |\n",
      "| micro av. precision | 0.190476  |\n",
      "| macro av. precision | 0.0892857 |\n",
      "| micro av. recall    | 0.184615  |\n",
      "| macro av. recall    | 0.164773  |\n",
      "| micro av. f1        | 0.1875    |\n",
      "| macro av. f1        | 0.115767  |\n",
      "Evaluating in combined mode on test set\n",
      "multilabel-indicator multilabel-indicator\n",
      "uint8 int64\n",
      "(390, 4) (390, 4)\n",
      "|                     |         0 |\n",
      "|:--------------------|----------:|\n",
      "| hamming loss        | 0.0666667 |\n",
      "| zero_one_loss       | 0.248718  |\n",
      "| one_error           | 0         |\n",
      "| micro av. jaccard   | 0.103448  |\n",
      "| macro av. jaccard   | 0.0659091 |\n",
      "| micro av. precision | 0.190476  |\n",
      "| macro av. precision | 0.0892857 |\n",
      "| micro av. recall    | 0.184615  |\n",
      "| macro av. recall    | 0.164773  |\n",
      "| micro av. f1        | 0.1875    |\n",
      "| macro av. f1        | 0.115767  |\n",
      "Training and Evaluating on task 2\n",
      "Train data shape is  (196, 1, 300)\n",
      "Train Labels shape is  (196, 4)\n",
      "Classes trained are: 4 to 8\n",
      "Augmenting class labels...\n",
      "Train Labels shape is  (196, 8)\n"
     ]
    },
    {
     "name": "stderr",
     "output_type": "stream",
     "text": [
      "  0%|          | 0/2500 [00:00<?, ?it/s]"
     ]
    },
    {
     "name": "stdout",
     "output_type": "stream",
     "text": [
      "Class 0, class 1 neurons = 1, class 0 neurons = 13\n",
      "Class 1, class 1 neurons = 1, class 0 neurons = 15\n",
      "Class 2, class 1 neurons = 3, class 0 neurons = 20\n",
      "Class 3, class 1 neurons = 5, class 0 neurons = 6\n",
      "Class 4, class 1 neurons = 1, class 0 neurons = 2\n",
      "Class 5, class 1 neurons = 1, class 0 neurons = 2\n",
      "Class 6, class 1 neurons = 1, class 0 neurons = 2\n",
      "Class 7, class 1 neurons = 2, class 0 neurons = 3\n"
     ]
    },
    {
     "name": "stderr",
     "output_type": "stream",
     "text": [
      "100%|██████████| 2500/2500 [1:45:21<00:00,  2.53s/it]\n"
     ]
    },
    {
     "name": "stdout",
     "output_type": "stream",
     "text": [
      "Evaluating in individual mode on test set\n",
      "multilabel-indicator multilabel-indicator\n",
      "uint8 int64\n",
      "(390, 4) (390, 4)\n",
      "|                     |        0 |\n",
      "|:--------------------|---------:|\n",
      "| hamming loss        | 0.240385 |\n",
      "| zero_one_loss       | 0.712821 |\n",
      "| one_error           | 0        |\n",
      "| micro av. jaccard   | 0.151584 |\n",
      "| macro av. jaccard   | 0.105739 |\n",
      "| micro av. precision | 0.218954 |\n",
      "| macro av. precision | 0.238303 |\n",
      "| micro av. recall    | 0.330049 |\n",
      "| macro av. recall    | 0.322378 |\n",
      "| micro av. f1        | 0.263261 |\n",
      "| macro av. f1        | 0.185619 |\n",
      "Evaluating in combined mode on test set\n",
      "multilabel-indicator multilabel-indicator\n",
      "uint8 int64\n",
      "(390, 8) (390, 8)\n",
      "|                     |         0 |\n",
      "|:--------------------|----------:|\n",
      "| hamming loss        | 0.148077  |\n",
      "| zero_one_loss       | 0.784615  |\n",
      "| one_error           | 0         |\n",
      "| micro av. jaccard   | 0.141264  |\n",
      "| macro av. jaccard   | 0.0848139 |\n",
      "| micro av. precision | 0.219653  |\n",
      "| macro av. precision | 0.173318  |\n",
      "| micro av. recall    | 0.283582  |\n",
      "| macro av. recall    | 0.221795  |\n",
      "| micro av. f1        | 0.247557  |\n",
      "| macro av. f1        | 0.14919   |\n",
      "Training and Evaluating on task 3\n",
      "Train data shape is  (196, 1, 300)\n",
      "Train Labels shape is  (196, 4)\n",
      "Classes trained are: 8 to 12\n",
      "Augmenting class labels...\n",
      "Train Labels shape is  (196, 12)\n"
     ]
    },
    {
     "name": "stderr",
     "output_type": "stream",
     "text": [
      "  0%|          | 0/2500 [00:00<?, ?it/s]"
     ]
    },
    {
     "name": "stdout",
     "output_type": "stream",
     "text": [
      "Class 0, class 1 neurons = 1, class 0 neurons = 16\n",
      "Class 1, class 1 neurons = 1, class 0 neurons = 16\n",
      "Class 2, class 1 neurons = 5, class 0 neurons = 25\n",
      "Class 3, class 1 neurons = 7, class 0 neurons = 11\n",
      "Class 4, class 1 neurons = 2, class 0 neurons = 6\n",
      "Class 5, class 1 neurons = 2, class 0 neurons = 6\n",
      "Class 6, class 1 neurons = 2, class 0 neurons = 6\n",
      "Class 7, class 1 neurons = 6, class 0 neurons = 4\n",
      "Class 8, class 1 neurons = 4, class 0 neurons = 1\n",
      "Class 9, class 1 neurons = 2, class 0 neurons = 4\n",
      "Class 10, class 1 neurons = 1, class 0 neurons = 5\n",
      "Class 11, class 1 neurons = 1, class 0 neurons = 4\n"
     ]
    },
    {
     "name": "stderr",
     "output_type": "stream",
     "text": [
      "100%|██████████| 2500/2500 [2:51:49<00:00,  4.12s/it]  \n"
     ]
    },
    {
     "name": "stdout",
     "output_type": "stream",
     "text": [
      "Evaluating in individual mode on test set\n",
      "multilabel-indicator multilabel-indicator\n",
      "uint8 int64\n",
      "(390, 4) (390, 4)\n",
      "|                     |         0 |\n",
      "|:--------------------|----------:|\n",
      "| hamming loss        | 0.186538  |\n",
      "| zero_one_loss       | 0.594872  |\n",
      "| one_error           | 0         |\n",
      "| micro av. jaccard   | 0.104615  |\n",
      "| macro av. jaccard   | 0.0835009 |\n",
      "| micro av. precision | 0.15814   |\n",
      "| macro av. precision | 0.102624  |\n",
      "| micro av. recall    | 0.236111  |\n",
      "| macro av. recall    | 0.278399  |\n",
      "| micro av. f1        | 0.189415  |\n",
      "| macro av. f1        | 0.149381  |\n",
      "Evaluating in combined mode on test set\n",
      "multilabel-indicator multilabel-indicator\n",
      "uint8 int64\n",
      "(390, 12) (390, 12)\n",
      "|                     |         0 |\n",
      "|:--------------------|----------:|\n",
      "| hamming loss        | 0.161966  |\n",
      "| zero_one_loss       | 0.910256  |\n",
      "| one_error           | 0         |\n",
      "| micro av. jaccard   | 0.13173   |\n",
      "| macro av. jaccard   | 0.0786626 |\n",
      "| micro av. precision | 0.199653  |\n",
      "| macro av. precision | 0.149887  |\n",
      "| micro av. recall    | 0.279126  |\n",
      "| macro av. recall    | 0.221774  |\n",
      "| micro av. f1        | 0.232794  |\n",
      "| macro av. f1        | 0.139702  |\n",
      "Evaluating in individual mode on test set\n",
      "|                     |         0 |        1 |         2 |\n",
      "|:--------------------|----------:|---------:|----------:|\n",
      "| hamming loss        | 0.0519231 | 0.247436 | 0.186538  |\n",
      "| zero_one_loss       | 0.205128  | 0.710256 | 0.594872  |\n",
      "| one_error           | 0         | 0        | 0         |\n",
      "| micro av. jaccard   | 0.0581395 | 0.164502 | 0.104615  |\n",
      "| macro av. jaccard   | 0.0416667 | 0.11082  | 0.0835009 |\n",
      "| micro av. precision | 0.192308  | 0.226866 | 0.15814   |\n",
      "| macro av. precision | 0.107955  | 0.239084 | 0.102624  |\n",
      "| micro av. recall    | 0.0769231 | 0.374384 | 0.236111  |\n",
      "| macro av. recall    | 0.0662879 | 0.320636 | 0.278399  |\n",
      "| micro av. f1        | 0.10989   | 0.282528 | 0.189415  |\n",
      "| macro av. f1        | 0.0767045 | 0.193019 | 0.149381  |\n",
      "Evaluating in combined mode on test set\n",
      "|                     |         0 |         1 |         2 |\n",
      "|:--------------------|----------:|----------:|----------:|\n",
      "| hamming loss        | 0.0519231 | 0.149679  | 0.161966  |\n",
      "| zero_one_loss       | 0.205128  | 0.787179  | 0.910256  |\n",
      "| one_error           | 0         | 0         | 0         |\n",
      "| micro av. jaccard   | 0.0581395 | 0.14781   | 0.13173   |\n",
      "| macro av. jaccard   | 0.0416667 | 0.0762434 | 0.0786626 |\n",
      "| micro av. precision | 0.192308  | 0.224377  | 0.199653  |\n",
      "| macro av. precision | 0.107955  | 0.173519  | 0.149887  |\n",
      "| micro av. recall    | 0.0769231 | 0.302239  | 0.279126  |\n",
      "| macro av. recall    | 0.0662879 | 0.193462  | 0.221774  |\n",
      "| micro av. f1        | 0.10989   | 0.257552  | 0.232794  |\n",
      "| macro av. f1        | 0.0767045 | 0.134862  | 0.139702  |\n",
      "Number of Tasks: 3\n",
      "Forgetting in task 1: first time micro av. f1 = 0.1875, after all tasks micro av. f1 = 0.1099\n",
      "Forgetting in task 2: first time micro av. f1 = 0.2633, after all tasks micro av. f1 = 0.1099\n",
      "Forgetting in task 3: first time micro av. f1 = 0.1894, after all tasks micro av. f1 = 0.1099\n"
     ]
    },
    {
     "data": {
      "image/png": "[encoded data removed]",
      "text/plain": [
       "<Figure size 360x360 with 1 Axes>"
      ]
     },
     "metadata": {
      "needs_background": "light"
     },
     "output_type": "display_data"
    }
   ],
   "source": [
    "hparams_dict = {\n",
    "    'inputs': 300,\n",
    "    'outputs': 12,\n",
    "    'time_constant': 300,\n",
    "    'alpha_a': 0.40,\n",
    "    'alpha_m': 0.07,\n",
    "    'w_max': 100.0,\n",
    "    'w_min': -100.0,\n",
    "    'lr': 1e-3,\n",
    "    'sim_time': 600,\n",
    "    'n_epochs': 2500,\n",
    "    'print_every': 500,\n",
    "    'name': 'Plants',\n",
    "    'tasks': {'samples': [196, 196, 196], 'labels': [4, 4, 4]},\n",
    "    'seed': 833,\n",
    "    'ckpt_dir': './checkpoints/plants',\n",
    "    'load_from_file': None,\n",
    "    'device': device\n",
    "}\n",
    "net = OverallSNN(hparams_dict)\n",
    "net.fit_and_evaluate(train_spikes, train_labels, test_spikes, test_labels)"
   ]
  },
  {
   "cell_type": "code",
   "execution_count": null,
   "metadata": {},
   "outputs": [],
   "source": []
  }
 ],
 "metadata": {
  "kernelspec": {
   "display_name": "DL_gpu",
   "language": "python",
   "name": "dl_gpu"
  },
  "language_info": {
   "codemirror_mode": {
    "name": "ipython",
    "version": 3
   },
   "file_extension": ".py",
   "mimetype": "text/x-python",
   "name": "python",
   "nbconvert_exporter": "python",
   "pygments_lexer": "ipython3",
   "version": "3.7.7"
  }
 },
 "nbformat": 4,
 "nbformat_minor": 4
}
