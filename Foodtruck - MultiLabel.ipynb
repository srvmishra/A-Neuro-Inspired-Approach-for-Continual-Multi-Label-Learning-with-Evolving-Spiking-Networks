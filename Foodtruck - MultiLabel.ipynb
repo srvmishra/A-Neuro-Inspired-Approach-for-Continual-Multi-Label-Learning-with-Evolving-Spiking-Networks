{
 "cells": [
  {
   "cell_type": "code",
   "execution_count": 1,
   "metadata": {},
   "outputs": [],
   "source": [
    "from MultiLabelEvolvingSNN import *\n",
    "import arff\n",
    "import warnings\n",
    "from scipy.io import loadmat\n",
    "warnings.filterwarnings(\"ignore\")\n",
    "%matplotlib inline\n",
    "np.random.seed(0)\n",
    "torch.manual_seed(0)\n",
    "torch.cuda.manual_seed(0)\n",
    "device = torch.device('cuda:1' if torch.cuda.is_available() else 'cpu')"
   ]
  },
  {
   "attachments": {},
   "cell_type": "markdown",
   "metadata": {},
   "source": [
    "## Load Data and Convert to Spikes"
   ]
  },
  {
   "cell_type": "code",
   "execution_count": 2,
   "metadata": {},
   "outputs": [
    {
     "name": "stdout",
     "output_type": "stream",
     "text": [
      "Before converting to spikes: \n",
      "Train data shape:  (250, 33)\n",
      "Test data shape:  (250, 33)\n"
     ]
    },
    {
     "name": "stderr",
     "output_type": "stream",
     "text": [
      "100%|██████████| 250/250 [00:00<00:00, 4279.99it/s]\n",
      "100%|██████████| 250/250 [00:00<00:00, 7760.73it/s]"
     ]
    },
    {
     "name": "stdout",
     "output_type": "stream",
     "text": [
      "Train data shape:  (250, 1, 126)\n",
      "Train labels shape:  (250, 12)\n",
      "Test data shape:  (250, 1, 126)\n",
      "Test labels shape:  (250, 12)\n"
     ]
    },
    {
     "name": "stderr",
     "output_type": "stream",
     "text": [
      "\n"
     ]
    }
   ],
   "source": [
    "train_path = '../datasets/foodtruck/foodtruck-rand-hout-tra.arff'\n",
    "test_path = '../datasets/foodtruck/foodtruck-rand-hout-tst.arff'\n",
    "num_features = 21\n",
    "\n",
    "train_data = arff.load(open(train_path, 'rt'))\n",
    "col_names = [x[0] for x in train_data['attributes']]\n",
    "train_data_arr = np.array(train_data['data'])\n",
    "train_data_arr = np.vstack([np.array(col_names), train_data_arr])\n",
    "np.savetxt('../datasets/foodtruck/train.csv', train_data_arr, fmt='%s', delimiter=',')\n",
    "train_df = pd.read_csv('../datasets/foodtruck/train.csv')\n",
    "train_df['time'].replace(['lunch', 'afternoon', 'happy_hour', 'dinner', 'dawn'], [0, 1, 2, 3, 4], inplace=True)\n",
    "train_df['motivation'].replace(['ads', 'by_chance', 'friend', 'social_network', 'web'], [0, 1, 2, 3, 4], inplace=True)\n",
    "train_df['marital.status'].replace(['divorced', 'married', 'single'], [0, 1, 2], inplace=True)\n",
    "train_df['gender'].replace(['F', 'M'], [0, 1], inplace=True)\n",
    "for c in train_df.columns:\n",
    "    train_df[c] = train_df[c].astype('float')\n",
    "train_data = train_df.to_numpy()\n",
    "\n",
    "test_data = arff.load(open(test_path, 'rt'))\n",
    "col_names = [x[0] for x in test_data['attributes']]\n",
    "test_data_arr = np.array(test_data['data'])\n",
    "test_data_arr = np.vstack([np.array(col_names), test_data_arr])\n",
    "np.savetxt('../datasets/foodtruck/test.csv', train_data_arr, fmt='%s', delimiter=',')\n",
    "test_df = pd.read_csv('../datasets/foodtruck/test.csv')\n",
    "test_df['time'].replace(['lunch', 'afternoon', 'happy_hour', 'dinner', 'dawn'], [0, 1, 2, 3, 4], inplace=True)\n",
    "test_df['motivation'].replace(['ads', 'by_chance', 'friend', 'social_network', 'web'], [0, 1, 2, 3, 4], inplace=True)\n",
    "test_df['marital.status'].replace(['divorced', 'married', 'single'], [0, 1, 2], inplace=True)\n",
    "test_df['gender'].replace(['F', 'M'], [0, 1], inplace=True)\n",
    "for c in test_df.columns:\n",
    "    test_df[c] = test_df[c].astype('float')\n",
    "test_data = test_df.to_numpy()\n",
    "\n",
    "print(\"Before converting to spikes: \")\n",
    "print(\"Train data shape: \", train_data.shape)\n",
    "print(\"Test data shape: \", test_data.shape)\n",
    "\n",
    "a = train_data[:, :num_features].max(axis=0)\n",
    "b = train_data[:, :num_features].min(axis=0)\n",
    "\n",
    "train_spikes, train_labels = encode_data_to_spikes(train_data, device, num_features, a, b)\n",
    "test_spikes, test_labels = encode_data_to_spikes(test_data, device, num_features, a, b)\n",
    "print(\"Train data shape: \", np.array(train_spikes).shape)\n",
    "print(\"Train labels shape: \", np.array(train_labels).shape)\n",
    "print(\"Test data shape: \", np.array(test_spikes).shape)\n",
    "print(\"Test labels shape: \", np.array(test_labels).shape)"
   ]
  },
  {
   "attachments": {},
   "cell_type": "markdown",
   "metadata": {},
   "source": [
    "## SNN"
   ]
  },
  {
   "cell_type": "code",
   "execution_count": 3,
   "metadata": {},
   "outputs": [
    {
     "name": "stderr",
     "output_type": "stream",
     "text": [
      "  0%|          | 0/5000 [00:00<?, ?it/s]"
     ]
    },
    {
     "name": "stdout",
     "output_type": "stream",
     "text": [
      "Class 0, class 1 neurons = 9, class 0 neurons = 7\n",
      "Class 1, class 1 neurons = 3, class 0 neurons = 11\n",
      "Class 2, class 1 neurons = 3, class 0 neurons = 13\n",
      "Class 3, class 1 neurons = 8, class 0 neurons = 9\n",
      "Class 4, class 1 neurons = 4, class 0 neurons = 13\n",
      "Class 5, class 1 neurons = 2, class 0 neurons = 14\n",
      "Class 6, class 1 neurons = 5, class 0 neurons = 14\n",
      "Class 7, class 1 neurons = 5, class 0 neurons = 12\n",
      "Class 8, class 1 neurons = 6, class 0 neurons = 12\n",
      "Class 9, class 1 neurons = 4, class 0 neurons = 13\n",
      "Class 10, class 1 neurons = 6, class 0 neurons = 12\n",
      "Class 11, class 1 neurons = 6, class 0 neurons = 12\n"
     ]
    },
    {
     "name": "stderr",
     "output_type": "stream",
     "text": [
      " 10%|█         | 500/5000 [2:26:55<21:58:22, 17.58s/it]"
     ]
    },
    {
     "name": "stdout",
     "output_type": "stream",
     "text": [
      "Epoch number: 500\n",
      "Train Precision: 0.8512, Test Precision: 0.8512\n",
      "Train Recall: 0.6489, Test Recall: 0.6489\n",
      "Train F1: 0.7364, Test F1: 0.7364\n",
      "Max. train classwise accuracy for is 0.9760\n",
      "Min. train classwise accuracy for is 0.8360\n",
      "Max. test classwise accuracy for is 0.9760\n",
      "Min. test classwise accuracy for is 0.8360\n"
     ]
    },
    {
     "name": "stderr",
     "output_type": "stream",
     "text": [
      " 20%|██        | 1000/5000 [4:53:32<19:31:31, 17.57s/it]"
     ]
    },
    {
     "name": "stdout",
     "output_type": "stream",
     "text": [
      "Epoch number: 1000\n",
      "Train Precision: 0.8916, Test Precision: 0.8916\n",
      "Train Recall: 0.7145, Test Recall: 0.7145\n",
      "Train F1: 0.7933, Test F1: 0.7933\n",
      "Max. train classwise accuracy for is 0.9840\n",
      "Min. train classwise accuracy for is 0.8760\n",
      "Max. test classwise accuracy for is 0.9840\n",
      "Min. test classwise accuracy for is 0.8760\n"
     ]
    },
    {
     "name": "stderr",
     "output_type": "stream",
     "text": [
      " 30%|███       | 1500/5000 [7:20:02<17:04:40, 17.57s/it]"
     ]
    },
    {
     "name": "stdout",
     "output_type": "stream",
     "text": [
      "Epoch number: 1500\n",
      "Train Precision: 0.9216, Test Precision: 0.9216\n",
      "Train Recall: 0.7713, Test Recall: 0.7713\n",
      "Train F1: 0.8398, Test F1: 0.8398\n",
      "Max. train classwise accuracy for is 0.9880\n",
      "Min. train classwise accuracy for is 0.8960\n",
      "Max. test classwise accuracy for is 0.9880\n",
      "Min. test classwise accuracy for is 0.8960\n"
     ]
    },
    {
     "name": "stderr",
     "output_type": "stream",
     "text": [
      " 40%|████      | 2000/5000 [9:46:21<14:37:43, 17.55s/it]"
     ]
    },
    {
     "name": "stdout",
     "output_type": "stream",
     "text": [
      "Epoch number: 2000\n",
      "Train Precision: 0.9405, Test Precision: 0.9405\n",
      "Train Recall: 0.8121, Test Recall: 0.8121\n",
      "Train F1: 0.8716, Test F1: 0.8716\n",
      "Max. train classwise accuracy for is 0.9880\n",
      "Min. train classwise accuracy for is 0.9160\n",
      "Max. test classwise accuracy for is 0.9880\n",
      "Min. test classwise accuracy for is 0.9160\n"
     ]
    },
    {
     "name": "stderr",
     "output_type": "stream",
     "text": [
      " 50%|█████     | 2500/5000 [12:12:29<12:10:57, 17.54s/it]"
     ]
    },
    {
     "name": "stdout",
     "output_type": "stream",
     "text": [
      "Epoch number: 2500\n",
      "Train Precision: 0.9554, Test Precision: 0.9554\n",
      "Train Recall: 0.8351, Test Recall: 0.8351\n",
      "Train F1: 0.8912, Test F1: 0.8912\n",
      "Max. train classwise accuracy for is 0.9880\n",
      "Min. train classwise accuracy for is 0.9320\n",
      "Max. test classwise accuracy for is 0.9880\n",
      "Min. test classwise accuracy for is 0.9320\n"
     ]
    },
    {
     "name": "stderr",
     "output_type": "stream",
     "text": [
      " 60%|██████    | 3000/5000 [14:38:08<9:40:22, 17.41s/it] "
     ]
    },
    {
     "name": "stdout",
     "output_type": "stream",
     "text": [
      "Epoch number: 3000\n",
      "Train Precision: 0.9702, Test Precision: 0.9702\n",
      "Train Recall: 0.8670, Test Recall: 0.8670\n",
      "Train F1: 0.9157, Test F1: 0.9157\n",
      "Max. train classwise accuracy for is 0.9920\n",
      "Min. train classwise accuracy for is 0.9480\n",
      "Max. test classwise accuracy for is 0.9920\n",
      "Min. test classwise accuracy for is 0.9480\n"
     ]
    },
    {
     "name": "stderr",
     "output_type": "stream",
     "text": [
      " 70%|███████   | 3500/5000 [17:03:11<7:12:39, 17.31s/it]"
     ]
    },
    {
     "name": "stdout",
     "output_type": "stream",
     "text": [
      "Epoch number: 3500\n",
      "Train Precision: 0.9765, Test Precision: 0.9765\n",
      "Train Recall: 0.8848, Test Recall: 0.8848\n",
      "Train F1: 0.9284, Test F1: 0.9284\n",
      "Max. train classwise accuracy for is 0.9920\n",
      "Min. train classwise accuracy for is 0.9520\n",
      "Max. test classwise accuracy for is 0.9920\n",
      "Min. test classwise accuracy for is 0.9520\n"
     ]
    },
    {
     "name": "stderr",
     "output_type": "stream",
     "text": [
      " 80%|████████  | 4000/5000 [19:27:16<4:47:42, 17.26s/it]"
     ]
    },
    {
     "name": "stdout",
     "output_type": "stream",
     "text": [
      "Epoch number: 4000\n",
      "Train Precision: 0.9806, Test Precision: 0.9806\n",
      "Train Recall: 0.8972, Test Recall: 0.8972\n",
      "Train F1: 0.9370, Test F1: 0.9370\n",
      "Max. train classwise accuracy for is 0.9920\n",
      "Min. train classwise accuracy for is 0.9520\n",
      "Max. test classwise accuracy for is 0.9920\n",
      "Min. test classwise accuracy for is 0.9520\n"
     ]
    },
    {
     "name": "stderr",
     "output_type": "stream",
     "text": [
      " 90%|█████████ | 4500/5000 [21:50:31<2:22:39, 17.12s/it]"
     ]
    },
    {
     "name": "stdout",
     "output_type": "stream",
     "text": [
      "Epoch number: 4500\n",
      "Train Precision: 0.9830, Test Precision: 0.9830\n",
      "Train Recall: 0.9238, Test Recall: 0.9238\n",
      "Train F1: 0.9525, Test F1: 0.9525\n",
      "Max. train classwise accuracy for is 1.0000\n",
      "Min. train classwise accuracy for is 0.9640\n",
      "Max. test classwise accuracy for is 1.0000\n",
      "Min. test classwise accuracy for is 0.9640\n"
     ]
    },
    {
     "name": "stderr",
     "output_type": "stream",
     "text": [
      "100%|██████████| 5000/5000 [24:11:32<00:00, 17.42s/it]  "
     ]
    },
    {
     "name": "stdout",
     "output_type": "stream",
     "text": [
      "Epoch number: 5000\n",
      "Train Precision: 0.9814, Test Precision: 0.9814\n",
      "Train Recall: 0.9344, Test Recall: 0.9344\n",
      "Train F1: 0.9573, Test F1: 0.9573\n",
      "Max. train classwise accuracy for is 1.0000\n",
      "Min. train classwise accuracy for is 0.9480\n",
      "Max. test classwise accuracy for is 1.0000\n",
      "Min. test classwise accuracy for is 0.9480\n",
      "Max. Test Precision: 0.9867 at epoch 4355\n",
      "Test Recall at max. test precision: 0.9238\n",
      "Test F1 at max. test precision: 0.9542\n",
      "Train Precision at max. test precision: 0.9867\n",
      "Train Recall at max. test precision: 0.9238\n",
      "Train F1 at max. test precision: 0.9542\n",
      "Max. Test Recall: 0.9362 at epoch 4914\n",
      "Test Precision at max. test recall: 0.9796\n",
      "Test F1 at max. test recall: 0.9574\n",
      "Train Recall at max. test recall: 0.9362\n",
      "Train Precision at max. test recall: 0.9796\n",
      "Train F1 at max. test recall: 0.9574\n",
      "Max. Test F1: 0.9574 at epoch 4914\n",
      "Test Recall at max. test F1: 0.9362\n",
      "Test Precision at max. test F1: 0.9796\n",
      "Train Recall at max. test F1: 0.9362\n",
      "Train Precision at max. test F1: 0.9796\n",
      "Train F1 at max. test F1: 0.9574\n"
     ]
    },
    {
     "name": "stderr",
     "output_type": "stream",
     "text": [
      "\n"
     ]
    },
    {
     "data": {
      "image/png": "[encoded data removed]",
      "text/plain": [
       "<Figure size 720x720 with 1 Axes>"
      ]
     },
     "metadata": {
      "needs_background": "light"
     },
     "output_type": "display_data"
    },
    {
     "data": {
      "image/png": "[encoded data removed]",
      "text/plain": [
       "<Figure size 720x720 with 1 Axes>"
      ]
     },
     "metadata": {
      "needs_background": "light"
     },
     "output_type": "display_data"
    },
    {
     "data": {
      "image/png": "[encoded data removed]",
      "text/plain": [
       "<Figure size 720x720 with 1 Axes>"
      ]
     },
     "metadata": {
      "needs_background": "light"
     },
     "output_type": "display_data"
    }
   ],
   "source": [
    "hparams_dict = {\n",
    "    'inputs': 126,\n",
    "    'outputs': 12,\n",
    "    'time_constant': 300,\n",
    "    'alpha_a': 0.48,\n",
    "    'alpha_m': 0.07,\n",
    "    'w_max': 100.0,\n",
    "    'w_min': -100.0,\n",
    "    'lr': 5e-4,\n",
    "    'sim_time': 600,\n",
    "    'n_epochs': 5000,\n",
    "    'print_every': 500,\n",
    "    'name': 'Foodtruck',\n",
    "    'seed': 2,\n",
    "    'ckpt_dir': './checkpoints/foodtruck',\n",
    "    'load_from_file': None,\n",
    "    'device': device\n",
    "}\n",
    "net = OverallSNN(hparams_dict)\n",
    "train_history, test_history = net.fit(train_spikes, train_labels, test_spikes, test_labels)"
   ]
  },
  {
   "cell_type": "code",
   "execution_count": 3,
   "metadata": {},
   "outputs": [
    {
     "name": "stdout",
     "output_type": "stream",
     "text": [
      "Model was trained on 12 classes\n",
      "Evaluating Model on train mode\n",
      "Classwise Results\n",
      "|                     |        0 |        1 |        2 |        3 |        4 |        5 |        6 |   7 |        8 |         9 |        10 |        11 |\n",
      "|:--------------------|---------:|---------:|---------:|---------:|---------:|---------:|---------:|----:|---------:|----------:|----------:|----------:|\n",
      "| class               | 1        | 2        | 3        | 4        | 5        | 6        | 7        |   8 | 9        | 10        | 11        | 12        |\n",
      "| accuracy            | 0.98     | 0.948    | 0.976    | 0.988    | 0.98     | 0.992    | 0.996    |   1 | 0.996    |  0.988    |  0.984    |  0.984    |\n",
      "| hamming loss        | 0.02     | 0.052    | 0.024    | 0.012    | 0.02     | 0.008    | 0.004    |   0 | 0.004    |  0.012    |  0.016    |  0.016    |\n",
      "| zero_one_loss       | 0.02     | 0.052    | 0.024    | 0.012    | 0.02     | 0.008    | 0.004    |   0 | 0.004    |  0.012    |  0.016    |  0.016    |\n",
      "| micro av. jaccard   | 0.960784 | 0.901141 | 0.953125 | 0.976285 | 0.960784 | 0.984127 | 0.992032 |   1 | 0.992032 |  0.976285 |  0.968504 |  0.968504 |\n",
      "| macro av. jaccard   | 0.951617 | 0.887695 | 0.871572 | 0.959455 | 0.875634 | 0.895868 | 0.972835 |   1 | 0.985703 |  0.905409 |  0.880414 |  0.966072 |\n",
      "| micro av. precision | 0.98     | 0.948    | 0.976    | 0.988    | 0.98     | 0.992    | 0.996    |   1 | 0.996    |  0.988    |  0.984    |  0.984    |\n",
      "| macro av. precision | 0.973016 | 0.935824 | 0.986957 | 0.992788 | 0.98927  | 0.995868 | 0.997835 |   1 | 0.997608 |  0.993644 |  0.991525 |  0.985069 |\n",
      "| micro av. recall    | 0.98     | 0.948    | 0.976    | 0.988    | 0.98     | 0.992    | 0.996    |   1 | 0.996    |  0.988    |  0.984    |  0.984    |\n",
      "| macro av. recall    | 0.97722  | 0.944693 | 0.884615 | 0.966667 | 0.886364 | 0.9      | 0.975    |   1 | 0.988095 |  0.911765 |  0.888889 |  0.980531 |\n",
      "| micro av. f1        | 0.98     | 0.948    | 0.976    | 0.988    | 0.98     | 0.992    | 0.996    |   1 | 0.996    |  0.988    |  0.984    |  0.984    |\n",
      "| macro av. f1        | 0.975089 | 0.940058 | 0.928175 | 0.979127 | 0.930474 | 0.94237  | 0.986095 |   1 | 0.992777 |  0.948415 |  0.933226 |  0.982722 |\n",
      "Overall Results\n",
      "|                     |         0 |\n",
      "|:--------------------|----------:|\n",
      "| hamming loss        | 0.0156667 |\n",
      "| zero_one_loss       | 0.164     |\n",
      "| one_error           | 0         |\n",
      "| micro av. jaccard   | 0.918261  |\n",
      "| macro av. jaccard   | 0.881774  |\n",
      "| micro av. precision | 0.979592  |\n",
      "| macro av. precision | 0.989918  |\n",
      "| micro av. recall    | 0.93617   |\n",
      "| macro av. recall    | 0.890792  |\n",
      "| micro av. f1        | 0.957389  |\n",
      "| macro av. f1        | 0.934893  |\n",
      "Evaluating Model on test mode\n",
      "Classwise Results\n",
      "|                     |        0 |        1 |        2 |        3 |        4 |        5 |        6 |   7 |        8 |         9 |        10 |        11 |\n",
      "|:--------------------|---------:|---------:|---------:|---------:|---------:|---------:|---------:|----:|---------:|----------:|----------:|----------:|\n",
      "| class               | 1        | 2        | 3        | 4        | 5        | 6        | 7        |   8 | 9        | 10        | 11        | 12        |\n",
      "| accuracy            | 0.98     | 0.948    | 0.976    | 0.988    | 0.98     | 0.992    | 0.996    |   1 | 0.996    |  0.988    |  0.984    |  0.984    |\n",
      "| hamming loss        | 0.02     | 0.052    | 0.024    | 0.012    | 0.02     | 0.008    | 0.004    |   0 | 0.004    |  0.012    |  0.016    |  0.016    |\n",
      "| zero_one_loss       | 0.02     | 0.052    | 0.024    | 0.012    | 0.02     | 0.008    | 0.004    |   0 | 0.004    |  0.012    |  0.016    |  0.016    |\n",
      "| micro av. jaccard   | 0.960784 | 0.901141 | 0.953125 | 0.976285 | 0.960784 | 0.984127 | 0.992032 |   1 | 0.992032 |  0.976285 |  0.968504 |  0.968504 |\n",
      "| macro av. jaccard   | 0.951617 | 0.887695 | 0.871572 | 0.959455 | 0.875634 | 0.895868 | 0.972835 |   1 | 0.985703 |  0.905409 |  0.880414 |  0.966072 |\n",
      "| micro av. precision | 0.98     | 0.948    | 0.976    | 0.988    | 0.98     | 0.992    | 0.996    |   1 | 0.996    |  0.988    |  0.984    |  0.984    |\n",
      "| macro av. precision | 0.973016 | 0.935824 | 0.986957 | 0.992788 | 0.98927  | 0.995868 | 0.997835 |   1 | 0.997608 |  0.993644 |  0.991525 |  0.985069 |\n",
      "| micro av. recall    | 0.98     | 0.948    | 0.976    | 0.988    | 0.98     | 0.992    | 0.996    |   1 | 0.996    |  0.988    |  0.984    |  0.984    |\n",
      "| macro av. recall    | 0.97722  | 0.944693 | 0.884615 | 0.966667 | 0.886364 | 0.9      | 0.975    |   1 | 0.988095 |  0.911765 |  0.888889 |  0.980531 |\n",
      "| micro av. f1        | 0.98     | 0.948    | 0.976    | 0.988    | 0.98     | 0.992    | 0.996    |   1 | 0.996    |  0.988    |  0.984    |  0.984    |\n",
      "| macro av. f1        | 0.975089 | 0.940058 | 0.928175 | 0.979127 | 0.930474 | 0.94237  | 0.986095 |   1 | 0.992777 |  0.948415 |  0.933226 |  0.982722 |\n",
      "Overall Results\n",
      "|                     |         0 |\n",
      "|:--------------------|----------:|\n",
      "| hamming loss        | 0.0156667 |\n",
      "| zero_one_loss       | 0.164     |\n",
      "| one_error           | 0         |\n",
      "| micro av. jaccard   | 0.918261  |\n",
      "| macro av. jaccard   | 0.881774  |\n",
      "| micro av. precision | 0.979592  |\n",
      "| macro av. precision | 0.989918  |\n",
      "| micro av. recall    | 0.93617   |\n",
      "| macro av. recall    | 0.890792  |\n",
      "| micro av. f1        | 0.957389  |\n",
      "| macro av. f1        | 0.934893  |\n",
      "Evaluating Model on combined mode\n",
      "Classwise Results\n",
      "|                     |        0 |        1 |        2 |        3 |        4 |        5 |        6 |   7 |        8 |         9 |        10 |        11 |\n",
      "|:--------------------|---------:|---------:|---------:|---------:|---------:|---------:|---------:|----:|---------:|----------:|----------:|----------:|\n",
      "| class               | 1        | 2        | 3        | 4        | 5        | 6        | 7        |   8 | 9        | 10        | 11        | 12        |\n",
      "| accuracy            | 0.98     | 0.948    | 0.976    | 0.988    | 0.98     | 0.992    | 0.996    |   1 | 0.996    |  0.988    |  0.984    |  0.984    |\n",
      "| hamming loss        | 0.02     | 0.052    | 0.024    | 0.012    | 0.02     | 0.008    | 0.004    |   0 | 0.004    |  0.012    |  0.016    |  0.016    |\n",
      "| zero_one_loss       | 0.02     | 0.052    | 0.024    | 0.012    | 0.02     | 0.008    | 0.004    |   0 | 0.004    |  0.012    |  0.016    |  0.016    |\n",
      "| micro av. jaccard   | 0.960784 | 0.901141 | 0.953125 | 0.976285 | 0.960784 | 0.984127 | 0.992032 |   1 | 0.992032 |  0.976285 |  0.968504 |  0.968504 |\n",
      "| macro av. jaccard   | 0.951617 | 0.887695 | 0.871572 | 0.959455 | 0.875634 | 0.895868 | 0.972835 |   1 | 0.985703 |  0.905409 |  0.880414 |  0.966072 |\n",
      "| micro av. precision | 0.98     | 0.948    | 0.976    | 0.988    | 0.98     | 0.992    | 0.996    |   1 | 0.996    |  0.988    |  0.984    |  0.984    |\n",
      "| macro av. precision | 0.973016 | 0.935824 | 0.986957 | 0.992788 | 0.98927  | 0.995868 | 0.997835 |   1 | 0.997608 |  0.993644 |  0.991525 |  0.985069 |\n",
      "| micro av. recall    | 0.98     | 0.948    | 0.976    | 0.988    | 0.98     | 0.992    | 0.996    |   1 | 0.996    |  0.988    |  0.984    |  0.984    |\n",
      "| macro av. recall    | 0.97722  | 0.944693 | 0.884615 | 0.966667 | 0.886364 | 0.9      | 0.975    |   1 | 0.988095 |  0.911765 |  0.888889 |  0.980531 |\n",
      "| micro av. f1        | 0.98     | 0.948    | 0.976    | 0.988    | 0.98     | 0.992    | 0.996    |   1 | 0.996    |  0.988    |  0.984    |  0.984    |\n",
      "| macro av. f1        | 0.975089 | 0.940058 | 0.928175 | 0.979127 | 0.930474 | 0.94237  | 0.986095 |   1 | 0.992777 |  0.948415 |  0.933226 |  0.982722 |\n",
      "Overall Results\n",
      "|                     |         0 |\n",
      "|:--------------------|----------:|\n",
      "| hamming loss        | 0.0156667 |\n",
      "| zero_one_loss       | 0.164     |\n",
      "| one_error           | 0         |\n",
      "| micro av. jaccard   | 0.918261  |\n",
      "| macro av. jaccard   | 0.881774  |\n",
      "| micro av. precision | 0.979592  |\n",
      "| macro av. precision | 0.989918  |\n",
      "| micro av. recall    | 0.93617   |\n",
      "| macro av. recall    | 0.890792  |\n",
      "| micro av. f1        | 0.957389  |\n",
      "| macro av. f1        | 0.934893  |\n"
     ]
    }
   ],
   "source": [
    "hparams_dict = {\n",
    "    'inputs': 126,\n",
    "    'outputs': 12,\n",
    "    'time_constant': 300,\n",
    "    'alpha_a': 0.48,\n",
    "    'alpha_m': 0.07,\n",
    "    'w_max': 100.0,\n",
    "    'w_min': -100.0,\n",
    "    'lr': 5e-4,\n",
    "    'sim_time': 600,\n",
    "    'n_epochs': 5000,\n",
    "    'print_every': 500,\n",
    "    'name': 'Foodtruck',\n",
    "    'seed': 2,\n",
    "    'ckpt_dir': './checkpoints/foodtruck',\n",
    "    'load_from_file': './checkpoints/foodtruck/best_f1_model0.0005_5000.pkl',\n",
    "    'device': device\n",
    "}\n",
    "net = OverallSNN(hparams_dict)\n",
    "metrics = Metrics(net, train_spikes, train_labels, test_spikes, test_labels)\n",
    "metrics.evaluate()"
   ]
  }
 ],
 "metadata": {
  "kernelspec": {
   "display_name": "DL_gpu",
   "language": "python",
   "name": "dl_gpu"
  },
  "language_info": {
   "codemirror_mode": {
    "name": "ipython",
    "version": 3
   },
   "file_extension": ".py",
   "mimetype": "text/x-python",
   "name": "python",
   "nbconvert_exporter": "python",
   "pygments_lexer": "ipython3",
   "version": "3.7.7"
  }
 },
 "nbformat": 4,
 "nbformat_minor": 4
}
