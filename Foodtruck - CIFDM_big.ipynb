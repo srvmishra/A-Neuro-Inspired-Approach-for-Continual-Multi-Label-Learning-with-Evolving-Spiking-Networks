{
 "cells": [
  {
   "cell_type": "code",
   "execution_count": 1,
   "metadata": {},
   "outputs": [],
   "source": [
    "from ContinualEvolvingSNN import *\n",
    "import arff\n",
    "import warnings\n",
    "from scipy.io import loadmat\n",
    "warnings.filterwarnings(\"ignore\")\n",
    "%matplotlib inline\n",
    "np.random.seed(0)\n",
    "torch.manual_seed(0)\n",
    "torch.cuda.manual_seed(0)\n",
    "device = torch.device('cuda:3' if torch.cuda.is_available() else 'cpu')"
   ]
  },
  {
   "cell_type": "markdown",
   "metadata": {},
   "source": [
    "## Load Data and Convert to Spikes"
   ]
  },
  {
   "cell_type": "code",
   "execution_count": 2,
   "metadata": {},
   "outputs": [
    {
     "name": "stdout",
     "output_type": "stream",
     "text": [
      "Before converting to spikes: \n",
      "Train data shape:  (250, 33)\n",
      "Test data shape:  (250, 33)\n"
     ]
    },
    {
     "name": "stderr",
     "output_type": "stream",
     "text": [
      "100%|██████████| 250/250 [00:00<00:00, 4282.61it/s]\n",
      "100%|██████████| 250/250 [00:00<00:00, 7372.50it/s]"
     ]
    },
    {
     "name": "stdout",
     "output_type": "stream",
     "text": [
      "Train data shape:  (250, 1, 126)\n",
      "Train labels shape:  (250, 12)\n",
      "Test data shape:  (250, 1, 126)\n",
      "Test labels shape:  (250, 12)\n"
     ]
    },
    {
     "name": "stderr",
     "output_type": "stream",
     "text": [
      "\n"
     ]
    }
   ],
   "source": [
    "train_path = '../datasets/foodtruck/foodtruck-rand-hout-tra.arff'\n",
    "test_path = '../datasets/foodtruck/foodtruck-rand-hout-tst.arff'\n",
    "num_features = 21\n",
    "\n",
    "train_data = arff.load(open(train_path, 'rt'))\n",
    "col_names = [x[0] for x in train_data['attributes']]\n",
    "train_data_arr = np.array(train_data['data'])\n",
    "train_data_arr = np.vstack([np.array(col_names), train_data_arr])\n",
    "np.savetxt('../datasets/foodtruck/train.csv', train_data_arr, fmt='%s', delimiter=',')\n",
    "train_df = pd.read_csv('../datasets/foodtruck/train.csv')\n",
    "train_df['time'].replace(['lunch', 'afternoon', 'happy_hour', 'dinner', 'dawn'], [0, 1, 2, 3, 4], inplace=True)\n",
    "train_df['motivation'].replace(['ads', 'by_chance', 'friend', 'social_network', 'web'], [0, 1, 2, 3, 4], inplace=True)\n",
    "train_df['marital.status'].replace(['divorced', 'married', 'single'], [0, 1, 2], inplace=True)\n",
    "train_df['gender'].replace(['F', 'M'], [0, 1], inplace=True)\n",
    "for c in train_df.columns:\n",
    "    train_df[c] = train_df[c].astype('float')\n",
    "train_data = train_df.to_numpy()\n",
    "\n",
    "test_data = arff.load(open(test_path, 'rt'))\n",
    "col_names = [x[0] for x in test_data['attributes']]\n",
    "test_data_arr = np.array(test_data['data'])\n",
    "test_data_arr = np.vstack([np.array(col_names), test_data_arr])\n",
    "np.savetxt('../datasets/foodtruck/test.csv', train_data_arr, fmt='%s', delimiter=',')\n",
    "test_df = pd.read_csv('../datasets/foodtruck/test.csv')\n",
    "test_df['time'].replace(['lunch', 'afternoon', 'happy_hour', 'dinner', 'dawn'], [0, 1, 2, 3, 4], inplace=True)\n",
    "test_df['motivation'].replace(['ads', 'by_chance', 'friend', 'social_network', 'web'], [0, 1, 2, 3, 4], inplace=True)\n",
    "test_df['marital.status'].replace(['divorced', 'married', 'single'], [0, 1, 2], inplace=True)\n",
    "test_df['gender'].replace(['F', 'M'], [0, 1], inplace=True)\n",
    "for c in test_df.columns:\n",
    "    test_df[c] = test_df[c].astype('float')\n",
    "test_data = test_df.to_numpy()\n",
    "\n",
    "print(\"Before converting to spikes: \")\n",
    "print(\"Train data shape: \", train_data.shape)\n",
    "print(\"Test data shape: \", test_data.shape)\n",
    "\n",
    "a = train_data[:, :num_features].max(axis=0)\n",
    "b = train_data[:, :num_features].min(axis=0)\n",
    "\n",
    "train_spikes, train_labels = encode_data_to_spikes(train_data, device, num_features, a, b)\n",
    "test_spikes, test_labels = encode_data_to_spikes(test_data, device, num_features, a, b)\n",
    "print(\"Train data shape: \", np.array(train_spikes).shape)\n",
    "print(\"Train labels shape: \", np.array(train_labels).shape)\n",
    "print(\"Test data shape: \", np.array(test_spikes).shape)\n",
    "print(\"Test labels shape: \", np.array(test_labels).shape)"
   ]
  },
  {
   "cell_type": "markdown",
   "metadata": {},
   "source": [
    "## CIFDM Training and Evaluation Mode"
   ]
  },
  {
   "cell_type": "code",
   "execution_count": 3,
   "metadata": {},
   "outputs": [
    {
     "name": "stdout",
     "output_type": "stream",
     "text": [
      "Training and Evaluating on task 1\n",
      "Train data shape is  (40, 1, 126)\n",
      "Train Labels shape is  (40, 2)\n",
      "Classes trained are: 0 to 2\n"
     ]
    },
    {
     "name": "stderr",
     "output_type": "stream",
     "text": [
      "  0%|          | 1/5000 [00:00<09:04,  9.17it/s]"
     ]
    },
    {
     "name": "stdout",
     "output_type": "stream",
     "text": [
      "Class 0, class 1 neurons = 1, class 0 neurons = 5\n",
      "Class 1, class 1 neurons = 1, class 0 neurons = 5\n"
     ]
    },
    {
     "name": "stderr",
     "output_type": "stream",
     "text": [
      "100%|██████████| 5000/5000 [09:00<00:00,  9.24it/s]\n"
     ]
    },
    {
     "name": "stdout",
     "output_type": "stream",
     "text": [
      "Evaluating in individual mode on test set\n",
      "multilabel-indicator multilabel-indicator\n",
      "float64 int64\n",
      "(250, 2) (250, 2)\n",
      "|                     |         0 |\n",
      "|:--------------------|----------:|\n",
      "| hamming loss        | 0.042     |\n",
      "| zero_one_loss       | 0.076     |\n",
      "| one_error           | 0.008     |\n",
      "| micro av. jaccard   | 0.0869565 |\n",
      "| macro av. jaccard   | 0.0884615 |\n",
      "| micro av. precision | 1         |\n",
      "| macro av. precision | 1         |\n",
      "| micro av. recall    | 0.0869565 |\n",
      "| macro av. recall    | 0.0884615 |\n",
      "| micro av. f1        | 0.16      |\n",
      "| macro av. f1        | 0.162338  |\n",
      "Evaluating in combined mode on test set\n",
      "multilabel-indicator multilabel-indicator\n",
      "float64 int64\n",
      "(250, 2) (250, 2)\n",
      "|                     |         0 |\n",
      "|:--------------------|----------:|\n",
      "| hamming loss        | 0.042     |\n",
      "| zero_one_loss       | 0.076     |\n",
      "| one_error           | 0.008     |\n",
      "| micro av. jaccard   | 0.0869565 |\n",
      "| macro av. jaccard   | 0.0884615 |\n",
      "| micro av. precision | 1         |\n",
      "| macro av. precision | 1         |\n",
      "| micro av. recall    | 0.0869565 |\n",
      "| macro av. recall    | 0.0884615 |\n",
      "| micro av. f1        | 0.16      |\n",
      "| macro av. f1        | 0.162338  |\n",
      "Training and Evaluating on task 2\n",
      "Train data shape is  (40, 1, 126)\n",
      "Train Labels shape is  (40, 2)\n",
      "Classes trained are: 2 to 4\n",
      "Augmenting class labels...\n",
      "Train Labels shape is  (40, 4)\n"
     ]
    },
    {
     "name": "stderr",
     "output_type": "stream",
     "text": [
      "  0%|          | 0/5000 [00:00<?, ?it/s]"
     ]
    },
    {
     "name": "stdout",
     "output_type": "stream",
     "text": [
      "Class 0, class 1 neurons = 1, class 0 neurons = 7\n",
      "Class 1, class 1 neurons = 1, class 0 neurons = 7\n",
      "Class 2, class 1 neurons = 1, class 0 neurons = 7\n",
      "Class 3, class 1 neurons = 1, class 0 neurons = 7\n"
     ]
    },
    {
     "name": "stderr",
     "output_type": "stream",
     "text": [
      "100%|██████████| 5000/5000 [18:57<00:00,  4.40it/s]\n"
     ]
    },
    {
     "name": "stdout",
     "output_type": "stream",
     "text": [
      "Evaluating in individual mode on test set\n",
      "multilabel-indicator multilabel-indicator\n",
      "float64 int64\n",
      "(250, 2) (250, 2)\n",
      "|                     |        0 |\n",
      "|:--------------------|---------:|\n",
      "| hamming loss        | 0.132    |\n",
      "| zero_one_loss       | 0.228    |\n",
      "| one_error           | 0.036    |\n",
      "| micro av. jaccard   | 0.142857 |\n",
      "| macro av. jaccard   | 0.146375 |\n",
      "| micro av. precision | 0.244444 |\n",
      "| macro av. precision | 0.244071 |\n",
      "| micro av. recall    | 0.255814 |\n",
      "| macro av. recall    | 0.272624 |\n",
      "| micro av. f1        | 0.25     |\n",
      "| macro av. f1        | 0.254167 |\n",
      "Evaluating in combined mode on test set\n",
      "multilabel-indicator multilabel-indicator\n",
      "float64 int64\n",
      "(250, 4) (250, 4)\n",
      "|                     |        0 |\n",
      "|:--------------------|---------:|\n",
      "| hamming loss        | 0.087    |\n",
      "| zero_one_loss       | 0.284    |\n",
      "| one_error           | 0        |\n",
      "| micro av. jaccard   | 0.13     |\n",
      "| macro av. jaccard   | 0.117418 |\n",
      "| micro av. precision | 0.276596 |\n",
      "| macro av. precision | 0.622036 |\n",
      "| micro av. recall    | 0.19697  |\n",
      "| macro av. recall    | 0.180543 |\n",
      "| micro av. f1        | 0.230088 |\n",
      "| macro av. f1        | 0.208252 |\n",
      "Training and Evaluating on task 3\n",
      "Train data shape is  (40, 1, 126)\n",
      "Train Labels shape is  (40, 2)\n",
      "Classes trained are: 4 to 6\n",
      "Augmenting class labels...\n",
      "Train Labels shape is  (40, 6)\n"
     ]
    },
    {
     "name": "stderr",
     "output_type": "stream",
     "text": [
      "  0%|          | 0/5000 [00:00<?, ?it/s]"
     ]
    },
    {
     "name": "stdout",
     "output_type": "stream",
     "text": [
      "Class 0, class 1 neurons = 1, class 0 neurons = 7\n",
      "Class 1, class 1 neurons = 1, class 0 neurons = 7\n",
      "Class 2, class 1 neurons = 1, class 0 neurons = 9\n",
      "Class 3, class 1 neurons = 1, class 0 neurons = 8\n",
      "Class 4, class 1 neurons = 3, class 0 neurons = 7\n",
      "Class 5, class 1 neurons = 2, class 0 neurons = 7\n"
     ]
    },
    {
     "name": "stderr",
     "output_type": "stream",
     "text": [
      "100%|██████████| 5000/5000 [27:18<00:00,  3.05it/s]\n"
     ]
    },
    {
     "name": "stdout",
     "output_type": "stream",
     "text": [
      "Evaluating in individual mode on test set\n",
      "multilabel-indicator multilabel-indicator\n",
      "float64 int64\n",
      "(250, 2) (250, 2)\n",
      "|                     |        0 |\n",
      "|:--------------------|---------:|\n",
      "| hamming loss        | 0.234    |\n",
      "| zero_one_loss       | 0.404    |\n",
      "| one_error           | 0.064    |\n",
      "| micro av. jaccard   | 0.282209 |\n",
      "| macro av. jaccard   | 0.231585 |\n",
      "| micro av. precision | 0.484211 |\n",
      "| macro av. precision | 0.405123 |\n",
      "| micro av. recall    | 0.403509 |\n",
      "| macro av. recall    | 0.336462 |\n",
      "| micro av. f1        | 0.440191 |\n",
      "| macro av. f1        | 0.367604 |\n",
      "Evaluating in combined mode on test set\n",
      "multilabel-indicator multilabel-indicator\n",
      "float64 int64\n",
      "(250, 6) (250, 6)\n",
      "|                     |        0 |\n",
      "|:--------------------|---------:|\n",
      "| hamming loss        | 0.132667 |\n",
      "| zero_one_loss       | 0.536    |\n",
      "| one_error           | 0        |\n",
      "| micro av. jaccard   | 0.222656 |\n",
      "| macro av. jaccard   | 0.149996 |\n",
      "| micro av. precision | 0.428571 |\n",
      "| macro av. precision | 0.551708 |\n",
      "| micro av. recall    | 0.316667 |\n",
      "| macro av. recall    | 0.212908 |\n",
      "| micro av. f1        | 0.364217 |\n",
      "| macro av. f1        | 0.253283 |\n",
      "Training and Evaluating on task 4\n",
      "Train data shape is  (40, 1, 126)\n",
      "Train Labels shape is  (40, 2)\n",
      "Classes trained are: 6 to 8\n",
      "Augmenting class labels...\n",
      "Train Labels shape is  (40, 8)\n"
     ]
    },
    {
     "name": "stderr",
     "output_type": "stream",
     "text": [
      "  0%|          | 0/5000 [00:00<?, ?it/s]"
     ]
    },
    {
     "name": "stdout",
     "output_type": "stream",
     "text": [
      "Class 0, class 1 neurons = 1, class 0 neurons = 7\n",
      "Class 1, class 1 neurons = 1, class 0 neurons = 7\n",
      "Class 2, class 1 neurons = 1, class 0 neurons = 9\n",
      "Class 3, class 1 neurons = 1, class 0 neurons = 8\n",
      "Class 4, class 1 neurons = 4, class 0 neurons = 8\n",
      "Class 5, class 1 neurons = 2, class 0 neurons = 8\n",
      "Class 6, class 1 neurons = 4, class 0 neurons = 5\n",
      "Class 7, class 1 neurons = 2, class 0 neurons = 3\n"
     ]
    },
    {
     "name": "stderr",
     "output_type": "stream",
     "text": [
      "100%|██████████| 5000/5000 [35:42<00:00,  2.33it/s]\n"
     ]
    },
    {
     "name": "stdout",
     "output_type": "stream",
     "text": [
      "Evaluating in individual mode on test set\n",
      "multilabel-indicator multilabel-indicator\n",
      "float64 int64\n",
      "(250, 2) (250, 2)\n",
      "|                     |        0 |\n",
      "|:--------------------|---------:|\n",
      "| hamming loss        | 0.22     |\n",
      "| zero_one_loss       | 0.396    |\n",
      "| one_error           | 0.044    |\n",
      "| micro av. jaccard   | 0.364162 |\n",
      "| macro av. jaccard   | 0.332369 |\n",
      "| micro av. precision | 0.543103 |\n",
      "| macro av. precision | 0.561412 |\n",
      "| micro av. recall    | 0.525    |\n",
      "| macro av. recall    | 0.475275 |\n",
      "| micro av. f1        | 0.533898 |\n",
      "| macro av. f1        | 0.493823 |\n",
      "Evaluating in combined mode on test set\n",
      "multilabel-indicator multilabel-indicator\n",
      "float64 int64\n",
      "(250, 8) (250, 8)\n",
      "|                     |        0 |\n",
      "|:--------------------|---------:|\n",
      "| hamming loss        | 0.15     |\n",
      "| zero_one_loss       | 0.716    |\n",
      "| one_error           | 0        |\n",
      "| micro av. jaccard   | 0.28401  |\n",
      "| macro av. jaccard   | 0.196383 |\n",
      "| micro av. precision | 0.5      |\n",
      "| macro av. precision | 0.569263 |\n",
      "| micro av. recall    | 0.396667 |\n",
      "| macro av. recall    | 0.271147 |\n",
      "| micro av. f1        | 0.442379 |\n",
      "| macro av. f1        | 0.314168 |\n",
      "Training and Evaluating on task 5\n",
      "Train data shape is  (40, 1, 126)\n",
      "Train Labels shape is  (40, 2)\n",
      "Classes trained are: 8 to 10\n",
      "Augmenting class labels...\n",
      "Train Labels shape is  (40, 10)\n"
     ]
    },
    {
     "name": "stderr",
     "output_type": "stream",
     "text": [
      "  0%|          | 0/5000 [00:00<?, ?it/s]"
     ]
    },
    {
     "name": "stdout",
     "output_type": "stream",
     "text": [
      "Class 0, class 1 neurons = 1, class 0 neurons = 8\n",
      "Class 1, class 1 neurons = 1, class 0 neurons = 8\n",
      "Class 2, class 1 neurons = 1, class 0 neurons = 10\n",
      "Class 3, class 1 neurons = 1, class 0 neurons = 10\n",
      "Class 4, class 1 neurons = 5, class 0 neurons = 11\n",
      "Class 5, class 1 neurons = 2, class 0 neurons = 9\n",
      "Class 6, class 1 neurons = 4, class 0 neurons = 6\n",
      "Class 7, class 1 neurons = 4, class 0 neurons = 6\n",
      "Class 8, class 1 neurons = 5, class 0 neurons = 6\n",
      "Class 9, class 1 neurons = 3, class 0 neurons = 7\n"
     ]
    },
    {
     "name": "stderr",
     "output_type": "stream",
     "text": [
      "100%|██████████| 5000/5000 [49:41<00:00,  1.68it/s]\n"
     ]
    },
    {
     "name": "stdout",
     "output_type": "stream",
     "text": [
      "Evaluating in individual mode on test set\n",
      "multilabel-indicator multilabel-indicator\n",
      "float64 int64\n",
      "(250, 2) (250, 2)\n",
      "|                     |        0 |\n",
      "|:--------------------|---------:|\n",
      "| hamming loss        | 0.206    |\n",
      "| zero_one_loss       | 0.368    |\n",
      "| one_error           | 0.044    |\n",
      "| micro av. jaccard   | 0.622711 |\n",
      "| macro av. jaccard   | 0.438914 |\n",
      "| micro av. precision | 0.696721 |\n",
      "| macro av. precision | 0.505206 |\n",
      "| micro av. recall    | 0.854271 |\n",
      "| macro av. recall    | 0.644721 |\n",
      "| micro av. f1        | 0.767494 |\n",
      "| macro av. f1        | 0.565103 |\n",
      "Evaluating in combined mode on test set\n",
      "multilabel-indicator multilabel-indicator\n",
      "float64 int64\n",
      "(250, 10) (250, 10)\n",
      "|                     |        0 |\n",
      "|:--------------------|---------:|\n",
      "| hamming loss        | 0.1632   |\n",
      "| zero_one_loss       | 0.8      |\n",
      "| one_error           | 0        |\n",
      "| micro av. jaccard   | 0.405248 |\n",
      "| macro av. jaccard   | 0.239476 |\n",
      "| micro av. precision | 0.597849 |\n",
      "| macro av. precision | 0.555962 |\n",
      "| micro av. recall    | 0.557114 |\n",
      "| macro av. recall    | 0.333834 |\n",
      "| micro av. f1        | 0.576763 |\n",
      "| macro av. f1        | 0.357891 |\n",
      "Training and Evaluating on task 6\n",
      "Train data shape is  (50, 1, 126)\n",
      "Train Labels shape is  (50, 2)\n",
      "Classes trained are: 10 to 12\n",
      "Augmenting class labels...\n",
      "Train Labels shape is  (50, 12)\n"
     ]
    },
    {
     "name": "stderr",
     "output_type": "stream",
     "text": [
      "  0%|          | 0/5000 [00:00<?, ?it/s]"
     ]
    },
    {
     "name": "stdout",
     "output_type": "stream",
     "text": [
      "Class 0, class 1 neurons = 1, class 0 neurons = 9\n",
      "Class 1, class 1 neurons = 1, class 0 neurons = 8\n",
      "Class 2, class 1 neurons = 1, class 0 neurons = 10\n",
      "Class 3, class 1 neurons = 1, class 0 neurons = 10\n",
      "Class 4, class 1 neurons = 5, class 0 neurons = 11\n",
      "Class 5, class 1 neurons = 2, class 0 neurons = 9\n",
      "Class 6, class 1 neurons = 4, class 0 neurons = 6\n",
      "Class 7, class 1 neurons = 4, class 0 neurons = 6\n",
      "Class 8, class 1 neurons = 5, class 0 neurons = 6\n",
      "Class 9, class 1 neurons = 3, class 0 neurons = 7\n",
      "Class 10, class 1 neurons = 1, class 0 neurons = 7\n",
      "Class 11, class 1 neurons = 2, class 0 neurons = 5\n"
     ]
    },
    {
     "name": "stderr",
     "output_type": "stream",
     "text": [
      "100%|██████████| 5000/5000 [1:12:27<00:00,  1.15it/s]\n"
     ]
    },
    {
     "name": "stdout",
     "output_type": "stream",
     "text": [
      "Evaluating in individual mode on test set\n",
      "multilabel-indicator multilabel-indicator\n",
      "float64 int64\n",
      "(250, 2) (250, 2)\n",
      "|                     |        0 |\n",
      "|:--------------------|---------:|\n",
      "| hamming loss        | 0.138    |\n",
      "| zero_one_loss       | 0.248    |\n",
      "| one_error           | 0.028    |\n",
      "| micro av. jaccard   | 0.126582 |\n",
      "| macro av. jaccard   | 0.116585 |\n",
      "| micro av. precision | 0.416667 |\n",
      "| macro av. precision | 0.52381  |\n",
      "| micro av. recall    | 0.153846 |\n",
      "| macro av. recall    | 0.138889 |\n",
      "| micro av. f1        | 0.224719 |\n",
      "| macro av. f1        | 0.208169 |\n",
      "Evaluating in combined mode on test set\n",
      "multilabel-indicator multilabel-indicator\n",
      "float64 int64\n",
      "(250, 12) (250, 12)\n",
      "|                     |        0 |\n",
      "|:--------------------|---------:|\n",
      "| hamming loss        | 0.158    |\n",
      "| zero_one_loss       | 0.824    |\n",
      "| one_error           | 0        |\n",
      "| micro av. jaccard   | 0.371353 |\n",
      "| macro av. jaccard   | 0.210054 |\n",
      "| micro av. precision | 0.595745 |\n",
      "| macro av. precision | 0.551429 |\n",
      "| micro av. recall    | 0.496454 |\n",
      "| macro av. recall    | 0.285352 |\n",
      "| micro av. f1        | 0.541586 |\n",
      "| macro av. f1        | 0.320755 |\n",
      "Evaluating in individual mode on test set\n",
      "|                     |         0 |        1 |        2 |        3 |        4 |        5 |\n",
      "|:--------------------|----------:|---------:|---------:|---------:|---------:|---------:|\n",
      "| hamming loss        | 0.042     | 0.124    | 0.238    | 0.216    | 0.19     | 0.138    |\n",
      "| zero_one_loss       | 0.076     | 0.22     | 0.396    | 0.396    | 0.344    | 0.248    |\n",
      "| one_error           | 0.008     | 0.028    | 0.08     | 0.036    | 0.036    | 0.028    |\n",
      "| micro av. jaccard   | 0.0869565 | 0.101449 | 0.242038 | 0.320755 | 0.644195 | 0.126582 |\n",
      "| macro av. jaccard   | 0.0884615 | 0.102352 | 0.208822 | 0.283667 | 0.460439 | 0.116585 |\n",
      "| micro av. precision | 1         | 0.212121 | 0.469136 | 0.566667 | 0.716667 | 0.416667 |\n",
      "| macro av. precision | 1         | 0.212406 | 0.410096 | 0.618881 | 0.543379 | 0.52381  |\n",
      "| micro av. recall    | 0.0869565 | 0.162791 | 0.333333 | 0.425    | 0.864322 | 0.153846 |\n",
      "| macro av. recall    | 0.0884615 | 0.165158 | 0.292984 | 0.376374 | 0.650246 | 0.138889 |\n",
      "| micro av. f1        | 0.16      | 0.184211 | 0.389744 | 0.485714 | 0.783599 | 0.224719 |\n",
      "| macro av. f1        | 0.162338  | 0.185663 | 0.34177  | 0.434604 | 0.591987 | 0.208169 |\n",
      "Evaluating in combined mode on test set\n",
      "|                     |         0 |         1 |        2 |        3 |        4 |        5 |\n",
      "|:--------------------|----------:|----------:|---------:|---------:|---------:|---------:|\n",
      "| hamming loss        | 0.042     | 0.083     | 0.134667 | 0.155    | 0.162    | 0.158    |\n",
      "| zero_one_loss       | 0.076     | 0.276     | 0.532    | 0.708    | 0.788    | 0.824    |\n",
      "| one_error           | 0.008     | 0         | 0        | 0        | 0        | 0        |\n",
      "| micro av. jaccard   | 0.0869565 | 0.0978261 | 0.188755 | 0.240196 | 0.4      | 0.371353 |\n",
      "| macro av. jaccard   | 0.0884615 | 0.0954067 | 0.133212 | 0.170826 | 0.228748 | 0.210054 |\n",
      "| micro av. precision | 1         | 0.257143  | 0.405172 | 0.475728 | 0.605381 | 0.595745 |\n",
      "| macro av. precision | 1         | 0.606203  | 0.540834 | 0.560346 | 0.556952 | 0.551429 |\n",
      "| micro av. recall    | 0.0869565 | 0.136364  | 0.261111 | 0.326667 | 0.541082 | 0.496454 |\n",
      "| macro av. recall    | 0.0884615 | 0.12681   | 0.182201 | 0.230744 | 0.314645 | 0.285352 |\n",
      "| micro av. f1        | 0.16      | 0.178218  | 0.317568 | 0.387352 | 0.571429 | 0.541586 |\n",
      "| macro av. f1        | 0.162338  | 0.174     | 0.229924 | 0.281094 | 0.343272 | 0.320755 |\n",
      "Number of Tasks: 6\n",
      "Forgetting in task 1: first time micro av. f1 = 0.1600, after all tasks micro av. f1 = 0.1600\n",
      "Forgetting in task 2: first time micro av. f1 = 0.2500, after all tasks micro av. f1 = 0.1600\n",
      "Forgetting in task 3: first time micro av. f1 = 0.4402, after all tasks micro av. f1 = 0.1600\n",
      "Forgetting in task 4: first time micro av. f1 = 0.5339, after all tasks micro av. f1 = 0.1600\n",
      "Forgetting in task 5: first time micro av. f1 = 0.7675, after all tasks micro av. f1 = 0.1600\n",
      "Forgetting in task 6: first time micro av. f1 = 0.2247, after all tasks micro av. f1 = 0.1600\n"
     ]
    },
    {
     "data": {
      "image/png": "[encoded data removed]",
      "text/plain": [
       "<Figure size 360x360 with 1 Axes>"
      ]
     },
     "metadata": {
      "needs_background": "light"
     },
     "output_type": "display_data"
    }
   ],
   "source": [
    "hparams_dict = {\n",
    "    'inputs': 126,\n",
    "    'outputs': 12,\n",
    "    'time_constant': 300,\n",
    "    'alpha_a': 0.48,\n",
    "    'alpha_m': 0.07,\n",
    "    'w_max': 100.0,\n",
    "    'w_min': -100.0,\n",
    "    'lr': 5e-4,\n",
    "    'sim_time': 600,\n",
    "    'n_epochs': 5000,\n",
    "    'print_every': 500,\n",
    "    'name': 'Foodtruck',\n",
    "    'tasks': {'samples': [40, 40, 40, 40, 40, 50], 'labels': [2, 2, 2, 2, 2, 2]},\n",
    "    'seed': 5,\n",
    "    'ckpt_dir': './checkpoints/foodtruck',\n",
    "    'load_from_file': None,\n",
    "    'device': device\n",
    "}\n",
    "net = OverallSNN(hparams_dict)\n",
    "net.fit_and_evaluate(train_spikes, train_labels, test_spikes, test_labels)"
   ]
  }
 ],
 "metadata": {
  "kernelspec": {
   "display_name": "DL_gpu",
   "language": "python",
   "name": "dl_gpu"
  },
  "language_info": {
   "codemirror_mode": {
    "name": "ipython",
    "version": 3
   },
   "file_extension": ".py",
   "mimetype": "text/x-python",
   "name": "python",
   "nbconvert_exporter": "python",
   "pygments_lexer": "ipython3",
   "version": "3.7.7"
  }
 },
 "nbformat": 4,
 "nbformat_minor": 4
}
