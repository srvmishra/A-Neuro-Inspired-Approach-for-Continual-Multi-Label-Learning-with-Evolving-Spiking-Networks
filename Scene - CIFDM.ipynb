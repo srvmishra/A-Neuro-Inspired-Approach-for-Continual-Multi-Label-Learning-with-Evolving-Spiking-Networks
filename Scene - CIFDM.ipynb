{
 "cells": [
  {
   "cell_type": "code",
   "execution_count": 1,
   "metadata": {},
   "outputs": [],
   "source": [
    "from ContinualEvolvingSNN import *\n",
    "import arff\n",
    "import warnings\n",
    "from scipy.io import loadmat\n",
    "from utils import *\n",
    "warnings.filterwarnings(\"ignore\")\n",
    "%matplotlib inline\n",
    "np.random.seed(0)\n",
    "torch.manual_seed(0)\n",
    "torch.cuda.manual_seed(0)\n",
    "device = torch.device('cuda:1' if torch.cuda.is_available() else 'cpu')"
   ]
  },
  {
   "cell_type": "markdown",
   "metadata": {},
   "source": [
    "## Load Data and Convert to Spikes"
   ]
  },
  {
   "cell_type": "code",
   "execution_count": 2,
   "metadata": {},
   "outputs": [
    {
     "name": "stderr",
     "output_type": "stream",
     "text": [
      "100%|██████████| 1211/1211 [00:00<00:00, 7290.77it/s]\n",
      "100%|██████████| 1196/1196 [00:00<00:00, 8633.76it/s]"
     ]
    },
    {
     "name": "stdout",
     "output_type": "stream",
     "text": [
      "Train data shape:  (1211, 1, 300)\n",
      "Train labels shape:  (1211, 6)\n",
      "Test data shape:  (1196, 1, 300)\n",
      "Test labels shape:  (1196, 6)\n"
     ]
    },
    {
     "name": "stderr",
     "output_type": "stream",
     "text": [
      "\n"
     ]
    }
   ],
   "source": [
    "trainpath = '../datasets/scene/scene_train_MVMD.mat'\n",
    "testpath = '../datasets/scene/scene_test_MVMD.mat'\n",
    "\n",
    "train_ = loadmat(trainpath)\n",
    "train_data, train_labels = train_['transformed_train_data'], np.array(train_['labels'])\n",
    "\n",
    "test_ = loadmat(testpath)\n",
    "test_data, test_labels = test_['transformed_test_data'], np.array(test_['labels'])\n",
    "\n",
    "a = train_data.max(axis=0)\n",
    "b = train_data.min(axis=0)\n",
    "\n",
    "train_spikes = encoding(train_data, device, a, b)\n",
    "test_spikes = encoding(test_data, device, a, b)\n",
    "print(\"Train data shape: \", np.array(train_spikes).shape)\n",
    "print(\"Train labels shape: \", np.array(train_labels).shape)\n",
    "print(\"Test data shape: \", np.array(test_spikes).shape)\n",
    "print(\"Test labels shape: \", np.array(test_labels).shape)"
   ]
  },
  {
   "cell_type": "code",
   "execution_count": 3,
   "metadata": {},
   "outputs": [],
   "source": [
    "# samples = [405, 403, 403]\n",
    "# labels = [2, 2, 2]\n",
    "# seeds = return_seed(samples, labels, train_labels)\n",
    "# seeds"
   ]
  },
  {
   "cell_type": "markdown",
   "metadata": {},
   "source": [
    "## CIFDM Training and Evaluation Mode"
   ]
  },
  {
   "cell_type": "code",
   "execution_count": 4,
   "metadata": {},
   "outputs": [
    {
     "name": "stdout",
     "output_type": "stream",
     "text": [
      "Training and Evaluating on task 1\n",
      "Train data shape is  (405, 1, 300)\n",
      "Train Labels shape is  (405, 2)\n",
      "Classes trained are: 0 to 2\n"
     ]
    },
    {
     "name": "stderr",
     "output_type": "stream",
     "text": [
      "  0%|          | 0/2500 [00:00<?, ?it/s]"
     ]
    },
    {
     "name": "stdout",
     "output_type": "stream",
     "text": [
      "Class 0, class 1 neurons = 1, class 0 neurons = 7\n",
      "Class 1, class 1 neurons = 7, class 0 neurons = 1\n"
     ]
    },
    {
     "name": "stderr",
     "output_type": "stream",
     "text": [
      "100%|██████████| 2500/2500 [47:26<00:00,  1.14s/it]\n"
     ]
    },
    {
     "name": "stdout",
     "output_type": "stream",
     "text": [
      "Evaluating in individual mode on test set\n",
      "multilabel-indicator multilabel-indicator\n",
      "float32 int64\n",
      "(1196, 2) (1196, 2)\n",
      "|                     |         0 |\n",
      "|:--------------------|----------:|\n",
      "| hamming loss        | 0.2801    |\n",
      "| zero_one_loss       | 0.543478  |\n",
      "| one_error           | 0.0167224 |\n",
      "| micro av. jaccard   | 0.357622  |\n",
      "| macro av. jaccard   | 0.437603  |\n",
      "| micro av. precision | 0.366765  |\n",
      "| macro av. precision | 0.460413  |\n",
      "| micro av. recall    | 0.934837  |\n",
      "| macro av. recall    | 0.934761  |\n",
      "| micro av. f1        | 0.526836  |\n",
      "| macro av. f1        | 0.586398  |\n",
      "Evaluating in combined mode on test set\n",
      "multilabel-indicator multilabel-indicator\n",
      "float32 int64\n",
      "(1196, 2) (1196, 2)\n",
      "|                     |         0 |\n",
      "|:--------------------|----------:|\n",
      "| hamming loss        | 0.2801    |\n",
      "| zero_one_loss       | 0.543478  |\n",
      "| one_error           | 0.0167224 |\n",
      "| micro av. jaccard   | 0.357622  |\n",
      "| macro av. jaccard   | 0.437603  |\n",
      "| micro av. precision | 0.366765  |\n",
      "| macro av. precision | 0.460413  |\n",
      "| micro av. recall    | 0.934837  |\n",
      "| macro av. recall    | 0.934761  |\n",
      "| micro av. f1        | 0.526836  |\n",
      "| macro av. f1        | 0.586398  |\n",
      "Training and Evaluating on task 2\n",
      "Train data shape is  (403, 1, 300)\n",
      "Train Labels shape is  (403, 2)\n",
      "Classes trained are: 2 to 4\n",
      "Augmenting class labels...\n",
      "Train Labels shape is  (403, 4)\n"
     ]
    },
    {
     "name": "stderr",
     "output_type": "stream",
     "text": [
      "  0%|          | 0/2500 [00:00<?, ?it/s]"
     ]
    },
    {
     "name": "stdout",
     "output_type": "stream",
     "text": [
      "Class 0, class 1 neurons = 3, class 0 neurons = 14\n",
      "Class 1, class 1 neurons = 13, class 0 neurons = 3\n",
      "Class 2, class 1 neurons = 6, class 0 neurons = 1\n",
      "Class 3, class 1 neurons = 2, class 0 neurons = 6\n"
     ]
    },
    {
     "name": "stderr",
     "output_type": "stream",
     "text": [
      "100%|██████████| 2500/2500 [1:57:32<00:00,  2.82s/it]\n"
     ]
    },
    {
     "name": "stdout",
     "output_type": "stream",
     "text": [
      "Evaluating in individual mode on test set\n",
      "multilabel-indicator multilabel-indicator\n",
      "float32 int64\n",
      "(1196, 2) (1196, 2)\n",
      "|                     |        0 |\n",
      "|:--------------------|---------:|\n",
      "| hamming loss        | 0.198579 |\n",
      "| zero_one_loss       | 0.376254 |\n",
      "| one_error           | 0.020903 |\n",
      "| micro av. jaccard   | 0.447031 |\n",
      "| macro av. jaccard   | 0.453061 |\n",
      "| micro av. precision | 0.476427 |\n",
      "| macro av. precision | 0.487098 |\n",
      "| micro av. recall    | 0.878719 |\n",
      "| macro av. recall    | 0.881941 |\n",
      "| micro av. f1        | 0.61786  |\n",
      "| macro av. f1        | 0.621052 |\n",
      "Evaluating in combined mode on test set\n",
      "multilabel-indicator multilabel-indicator\n",
      "float32 int64\n",
      "(1196, 4) (1196, 4)\n",
      "|                     |        0 |\n",
      "|:--------------------|---------:|\n",
      "| hamming loss        | 0.24561  |\n",
      "| zero_one_loss       | 0.7801   |\n",
      "| one_error           | 0        |\n",
      "| micro av. jaccard   | 0.388339 |\n",
      "| macro av. jaccard   | 0.438935 |\n",
      "| micro av. precision | 0.407428 |\n",
      "| macro av. precision | 0.470227 |\n",
      "| micro av. recall    | 0.892344 |\n",
      "| macro av. recall    | 0.894576 |\n",
      "| micro av. f1        | 0.55943  |\n",
      "| macro av. f1        | 0.596749 |\n",
      "Training and Evaluating on task 3\n",
      "Train data shape is  (403, 1, 300)\n",
      "Train Labels shape is  (403, 2)\n",
      "Classes trained are: 4 to 6\n",
      "Augmenting class labels...\n",
      "Train Labels shape is  (403, 6)\n"
     ]
    },
    {
     "name": "stderr",
     "output_type": "stream",
     "text": [
      "  0%|          | 0/2500 [00:00<?, ?it/s]"
     ]
    },
    {
     "name": "stdout",
     "output_type": "stream",
     "text": [
      "Class 0, class 1 neurons = 4, class 0 neurons = 18\n",
      "Class 1, class 1 neurons = 17, class 0 neurons = 4\n",
      "Class 2, class 1 neurons = 11, class 0 neurons = 2\n",
      "Class 3, class 1 neurons = 3, class 0 neurons = 7\n",
      "Class 4, class 1 neurons = 5, class 0 neurons = 2\n",
      "Class 5, class 1 neurons = 2, class 0 neurons = 5\n"
     ]
    },
    {
     "name": "stderr",
     "output_type": "stream",
     "text": [
      "100%|██████████| 2500/2500 [3:00:10<00:00,  4.32s/it]  \n"
     ]
    },
    {
     "name": "stdout",
     "output_type": "stream",
     "text": [
      "Evaluating in individual mode on test set\n",
      "multilabel-indicator multilabel-indicator\n",
      "float32 int64\n",
      "(1196, 2) (1196, 2)\n",
      "|                     |         0 |\n",
      "|:--------------------|----------:|\n",
      "| hamming loss        | 0.360786  |\n",
      "| zero_one_loss       | 0.62709   |\n",
      "| one_error           | 0.0944816 |\n",
      "| micro av. jaccard   | 0.268024  |\n",
      "| macro av. jaccard   | 0.267648  |\n",
      "| micro av. precision | 0.306202  |\n",
      "| macro av. precision | 0.306031  |\n",
      "| micro av. recall    | 0.682505  |\n",
      "| macro av. recall    | 0.68099   |\n",
      "| micro av. f1        | 0.422742  |\n",
      "| macro av. f1        | 0.422265  |\n",
      "Evaluating in combined mode on test set\n",
      "multilabel-indicator multilabel-indicator\n",
      "float32 int64\n",
      "(1196, 6) (1196, 6)\n",
      "|                     |        0 |\n",
      "|:--------------------|---------:|\n",
      "| hamming loss        | 0.287625 |\n",
      "| zero_one_loss       | 0.945652 |\n",
      "| one_error           | 0        |\n",
      "| micro av. jaccard   | 0.328344 |\n",
      "| macro av. jaccard   | 0.36324  |\n",
      "| micro av. precision | 0.362558 |\n",
      "| macro av. precision | 0.410028 |\n",
      "| micro av. recall    | 0.776751 |\n",
      "| macro av. recall    | 0.782273 |\n",
      "| micro av. f1        | 0.494366 |\n",
      "| macro av. f1        | 0.521792 |\n",
      "Evaluating in individual mode on test set\n",
      "|                     |         0 |         1 |         2 |\n",
      "|:--------------------|----------:|----------:|----------:|\n",
      "| hamming loss        | 0.292224  | 0.209866  | 0.360786  |\n",
      "| zero_one_loss       | 0.559365  | 0.392977  | 0.62709   |\n",
      "| one_error           | 0.0250836 | 0.0267559 | 0.0944816 |\n",
      "| micro av. jaccard   | 0.327885  | 0.412178  | 0.268024  |\n",
      "| macro av. jaccard   | 0.405054  | 0.417018  | 0.267648  |\n",
      "| micro av. precision | 0.347251  | 0.457737  | 0.306202  |\n",
      "| macro av. precision | 0.453062  | 0.470991  | 0.306031  |\n",
      "| micro av. recall    | 0.854637  | 0.805492  | 0.682505  |\n",
      "| macro av. recall    | 0.854523  | 0.811308  | 0.68099   |\n",
      "| micro av. f1        | 0.493845  | 0.583748  | 0.422742  |\n",
      "| macro av. f1        | 0.555947  | 0.587165  | 0.422265  |\n",
      "Evaluating in combined mode on test set\n",
      "|                     |         0 |          1 |        2 |\n",
      "|:--------------------|----------:|-----------:|---------:|\n",
      "| hamming loss        | 0.292224  | 0.251045   | 0.287625 |\n",
      "| zero_one_loss       | 0.559365  | 0.779264   | 0.945652 |\n",
      "| one_error           | 0.0250836 | 0.00083612 | 0        |\n",
      "| micro av. jaccard   | 0.327885  | 0.365892   | 0.328344 |\n",
      "| macro av. jaccard   | 0.405054  | 0.411036   | 0.36324  |\n",
      "| micro av. precision | 0.347251  | 0.395774   | 0.362558 |\n",
      "| macro av. precision | 0.453062  | 0.462027   | 0.410028 |\n",
      "| micro av. recall    | 0.854637  | 0.828947   | 0.776751 |\n",
      "| macro av. recall    | 0.854523  | 0.832915   | 0.782273 |\n",
      "| micro av. f1        | 0.493845  | 0.535756   | 0.494366 |\n",
      "| macro av. f1        | 0.555947  | 0.571556   | 0.521792 |\n",
      "Number of Tasks: 3\n",
      "Forgetting in task 1: first time micro av. f1 = 0.5268, after all tasks micro av. f1 = 0.4938\n",
      "Forgetting in task 2: first time micro av. f1 = 0.6179, after all tasks micro av. f1 = 0.4938\n",
      "Forgetting in task 3: first time micro av. f1 = 0.4227, after all tasks micro av. f1 = 0.4938\n"
     ]
    },
    {
     "data": {
      "image/png": "[encoded data removed]",
      "text/plain": [
       "<Figure size 360x360 with 1 Axes>"
      ]
     },
     "metadata": {
      "needs_background": "light"
     },
     "output_type": "display_data"
    }
   ],
   "source": [
    "hparams_dict = {\n",
    "    'inputs': 300,\n",
    "    'outputs': 6,\n",
    "    'time_constant': 300,\n",
    "    'alpha_a': 0.42,\n",
    "    'alpha_m': 0.07,\n",
    "    'w_max': 100.0,\n",
    "    'w_min': -100.0,\n",
    "    'lr': 5e-4,\n",
    "    'sim_time': 600,\n",
    "    'n_epochs': 2500,\n",
    "    'print_every': 500,\n",
    "    'name': 'Scene',\n",
    "    'tasks': {'samples': [405, 403, 403], 'labels': [2, 2, 2]},\n",
    "    'seed': 2,\n",
    "    'ckpt_dir': './checkpoints/scene',\n",
    "    'load_from_file': None,\n",
    "    'device': device\n",
    "}\n",
    "net = OverallSNN(hparams_dict)\n",
    "net.fit_and_evaluate(train_spikes, train_labels, test_spikes, test_labels)"
   ]
  },
  {
   "cell_type": "code",
   "execution_count": 5,
   "metadata": {},
   "outputs": [
    {
     "name": "stdout",
     "output_type": "stream",
     "text": [
      "Training and Evaluating on task 1\n",
      "Train data shape is  (405, 1, 300)\n",
      "Train Labels shape is  (405, 2)\n",
      "Classes trained are: 0 to 2\n"
     ]
    },
    {
     "name": "stderr",
     "output_type": "stream",
     "text": [
      "  0%|          | 0/2500 [00:00<?, ?it/s]"
     ]
    },
    {
     "name": "stdout",
     "output_type": "stream",
     "text": [
      "Class 0, class 1 neurons = 7, class 0 neurons = 1\n",
      "Class 1, class 1 neurons = 1, class 0 neurons = 7\n"
     ]
    },
    {
     "name": "stderr",
     "output_type": "stream",
     "text": [
      "100%|██████████| 2500/2500 [47:04<00:00,  1.13s/it]\n"
     ]
    },
    {
     "name": "stdout",
     "output_type": "stream",
     "text": [
      "Evaluating in individual mode on test set\n",
      "multilabel-indicator multilabel-indicator\n",
      "float32 int64\n",
      "(1196, 2) (1196, 2)\n",
      "|                     |         0 |\n",
      "|:--------------------|----------:|\n",
      "| hamming loss        | 0.2801    |\n",
      "| zero_one_loss       | 0.542642  |\n",
      "| one_error           | 0.0175585 |\n",
      "| micro av. jaccard   | 0.358238  |\n",
      "| macro av. jaccard   | 0.438096  |\n",
      "| micro av. precision | 0.367026  |\n",
      "| macro av. precision | 0.460735  |\n",
      "| micro av. recall    | 0.937343  |\n",
      "| macro av. recall    | 0.937261  |\n",
      "| micro av. f1        | 0.527504  |\n",
      "| macro av. f1        | 0.587023  |\n",
      "Evaluating in combined mode on test set\n",
      "multilabel-indicator multilabel-indicator\n",
      "float32 int64\n",
      "(1196, 2) (1196, 2)\n",
      "|                     |         0 |\n",
      "|:--------------------|----------:|\n",
      "| hamming loss        | 0.2801    |\n",
      "| zero_one_loss       | 0.542642  |\n",
      "| one_error           | 0.0175585 |\n",
      "| micro av. jaccard   | 0.358238  |\n",
      "| macro av. jaccard   | 0.438096  |\n",
      "| micro av. precision | 0.367026  |\n",
      "| macro av. precision | 0.460735  |\n",
      "| micro av. recall    | 0.937343  |\n",
      "| macro av. recall    | 0.937261  |\n",
      "| micro av. f1        | 0.527504  |\n",
      "| macro av. f1        | 0.587023  |\n",
      "Training and Evaluating on task 2\n",
      "Train data shape is  (403, 1, 300)\n",
      "Train Labels shape is  (403, 2)\n",
      "Classes trained are: 2 to 4\n",
      "Augmenting class labels...\n",
      "Train Labels shape is  (403, 4)\n"
     ]
    },
    {
     "name": "stderr",
     "output_type": "stream",
     "text": [
      "  0%|          | 0/2500 [00:00<?, ?it/s]"
     ]
    },
    {
     "name": "stdout",
     "output_type": "stream",
     "text": [
      "Class 0, class 1 neurons = 13, class 0 neurons = 3\n",
      "Class 1, class 1 neurons = 3, class 0 neurons = 14\n",
      "Class 2, class 1 neurons = 6, class 0 neurons = 1\n",
      "Class 3, class 1 neurons = 2, class 0 neurons = 6\n"
     ]
    },
    {
     "name": "stderr",
     "output_type": "stream",
     "text": [
      "100%|██████████| 2500/2500 [1:57:35<00:00,  2.82s/it]\n"
     ]
    },
    {
     "name": "stdout",
     "output_type": "stream",
     "text": [
      "Evaluating in individual mode on test set\n",
      "multilabel-indicator multilabel-indicator\n",
      "float32 int64\n",
      "(1196, 2) (1196, 2)\n",
      "|                     |         0 |\n",
      "|:--------------------|----------:|\n",
      "| hamming loss        | 0.197742  |\n",
      "| zero_one_loss       | 0.372074  |\n",
      "| one_error           | 0.0234114 |\n",
      "| micro av. jaccard   | 0.444183  |\n",
      "| macro av. jaccard   | 0.449994  |\n",
      "| micro av. precision | 0.477273  |\n",
      "| macro av. precision | 0.487132  |\n",
      "| micro av. recall    | 0.864989  |\n",
      "| macro av. recall    | 0.867331  |\n",
      "| micro av. f1        | 0.615134  |\n",
      "| macro av. f1        | 0.617973  |\n",
      "Evaluating in combined mode on test set\n",
      "multilabel-indicator multilabel-indicator\n",
      "float32 int64\n",
      "(1196, 4) (1196, 4)\n",
      "|                     |          0 |\n",
      "|:--------------------|-----------:|\n",
      "| hamming loss        | 0.246237   |\n",
      "| zero_one_loss       | 0.789298   |\n",
      "| one_error           | 0.00167224 |\n",
      "| micro av. jaccard   | 0.385819   |\n",
      "| macro av. jaccard   | 0.43949    |\n",
      "| micro av. precision | 0.406147   |\n",
      "| macro av. precision | 0.471621   |\n",
      "| micro av. recall    | 0.885167   |\n",
      "| macro av. recall    | 0.887284   |\n",
      "| micro av. f1        | 0.55681    |\n",
      "| macro av. f1        | 0.596134   |\n",
      "Training and Evaluating on task 3\n",
      "Train data shape is  (403, 1, 300)\n",
      "Train Labels shape is  (403, 2)\n",
      "Classes trained are: 4 to 6\n",
      "Augmenting class labels...\n",
      "Train Labels shape is  (403, 6)\n"
     ]
    },
    {
     "name": "stderr",
     "output_type": "stream",
     "text": [
      "  0%|          | 0/2500 [00:00<?, ?it/s]"
     ]
    },
    {
     "name": "stdout",
     "output_type": "stream",
     "text": [
      "Class 0, class 1 neurons = 17, class 0 neurons = 3\n",
      "Class 1, class 1 neurons = 5, class 0 neurons = 19\n",
      "Class 2, class 1 neurons = 10, class 0 neurons = 2\n",
      "Class 3, class 1 neurons = 4, class 0 neurons = 7\n",
      "Class 4, class 1 neurons = 2, class 0 neurons = 5\n",
      "Class 5, class 1 neurons = 5, class 0 neurons = 2\n"
     ]
    },
    {
     "name": "stderr",
     "output_type": "stream",
     "text": [
      "100%|██████████| 2500/2500 [3:02:32<00:00,  4.38s/it]  \n"
     ]
    },
    {
     "name": "stdout",
     "output_type": "stream",
     "text": [
      "Evaluating in individual mode on test set\n",
      "multilabel-indicator multilabel-indicator\n",
      "float32 int64\n",
      "(1196, 2) (1196, 2)\n",
      "|                     |        0 |\n",
      "|:--------------------|---------:|\n",
      "| hamming loss        | 0.367475 |\n",
      "| zero_one_loss       | 0.632943 |\n",
      "| one_error           | 0.102007 |\n",
      "| micro av. jaccard   | 0.26811  |\n",
      "| macro av. jaccard   | 0.267943 |\n",
      "| micro av. precision | 0.303774 |\n",
      "| macro av. precision | 0.303859 |\n",
      "| micro av. recall    | 0.695464 |\n",
      "| macro av. recall    | 0.694095 |\n",
      "| micro av. f1        | 0.42285  |\n",
      "| macro av. f1        | 0.42264  |\n",
      "Evaluating in combined mode on test set\n",
      "multilabel-indicator multilabel-indicator\n",
      "float32 int64\n",
      "(1196, 6) (1196, 6)\n",
      "|                     |        0 |\n",
      "|:--------------------|---------:|\n",
      "| hamming loss        | 0.288462 |\n",
      "| zero_one_loss       | 0.952341 |\n",
      "| one_error           | 0        |\n",
      "| micro av. jaccard   | 0.331611 |\n",
      "| macro av. jaccard   | 0.373693 |\n",
      "| micro av. precision | 0.36354  |\n",
      "| macro av. precision | 0.41623  |\n",
      "| micro av. recall    | 0.790608 |\n",
      "| macro av. recall    | 0.794716 |\n",
      "| micro av. f1        | 0.49806  |\n",
      "| macro av. f1        | 0.530394 |\n",
      "Evaluating in individual mode on test set\n",
      "|                     |        0 |         1 |        2 |\n",
      "|:--------------------|---------:|----------:|---------:|\n",
      "| hamming loss        | 0.302676 | 0.195234  | 0.367475 |\n",
      "| zero_one_loss       | 0.584448 | 0.364548  | 0.632943 |\n",
      "| one_error           | 0.020903 | 0.0259197 | 0.102007 |\n",
      "| micro av. jaccard   | 0.325256 | 0.432564  | 0.26811  |\n",
      "| macro av. jaccard   | 0.419611 | 0.433524  | 0.267943 |\n",
      "| micro av. precision | 0.341153 | 0.479784  | 0.303774 |\n",
      "| macro av. precision | 0.462841 | 0.481989  | 0.303859 |\n",
      "| micro av. recall    | 0.874687 | 0.814645  | 0.695464 |\n",
      "| macro av. recall    | 0.874598 | 0.815454  | 0.694095 |\n",
      "| micro av. f1        | 0.490858 | 0.603902  | 0.42285  |\n",
      "| macro av. f1        | 0.564882 | 0.603661  | 0.42264  |\n",
      "Evaluating in combined mode on test set\n",
      "|                     |        0 |        1 |        2 |\n",
      "|:--------------------|---------:|---------:|---------:|\n",
      "| hamming loss        | 0.302676 | 0.248955 | 0.288462 |\n",
      "| zero_one_loss       | 0.584448 | 0.780936 | 0.952341 |\n",
      "| one_error           | 0.020903 | 0        | 0        |\n",
      "| micro av. jaccard   | 0.325256 | 0.371835 | 0.331611 |\n",
      "| macro av. jaccard   | 0.419611 | 0.426567 | 0.373693 |\n",
      "| micro av. precision | 0.341153 | 0.399433 | 0.36354  |\n",
      "| macro av. precision | 0.462841 | 0.472415 | 0.41623  |\n",
      "| micro av. recall    | 0.874687 | 0.843301 | 0.790608 |\n",
      "| macro av. recall    | 0.874598 | 0.845026 | 0.794716 |\n",
      "| micro av. f1        | 0.490858 | 0.542099 | 0.49806  |\n",
      "| macro av. f1        | 0.564882 | 0.584271 | 0.530394 |\n",
      "Number of Tasks: 3\n",
      "Forgetting in task 1: first time micro av. f1 = 0.5275, after all tasks micro av. f1 = 0.4909\n",
      "Forgetting in task 2: first time micro av. f1 = 0.6151, after all tasks micro av. f1 = 0.4909\n",
      "Forgetting in task 3: first time micro av. f1 = 0.4228, after all tasks micro av. f1 = 0.4909\n"
     ]
    },
    {
     "data": {
      "image/png": "[encoded data removed]",
      "text/plain": [
       "<Figure size 360x360 with 1 Axes>"
      ]
     },
     "metadata": {
      "needs_background": "light"
     },
     "output_type": "display_data"
    }
   ],
   "source": [
    "hparams_dict = {\n",
    "    'inputs': 300,\n",
    "    'outputs': 6,\n",
    "    'time_constant': 300,\n",
    "    'alpha_a': 0.42,\n",
    "    'alpha_m': 0.07,\n",
    "    'w_max': 100.0,\n",
    "    'w_min': -100.0,\n",
    "    'lr': 5e-4,\n",
    "    'sim_time': 600,\n",
    "    'n_epochs': 2500,\n",
    "    'print_every': 500,\n",
    "    'name': 'Scene',\n",
    "    'tasks': {'samples': [405, 403, 403], 'labels': [2, 2, 2]},\n",
    "    'seed': 63,\n",
    "    'ckpt_dir': './checkpoints/scene',\n",
    "    'load_from_file': None,\n",
    "    'device': device\n",
    "}\n",
    "net = OverallSNN(hparams_dict)\n",
    "net.fit_and_evaluate(train_spikes, train_labels, test_spikes, test_labels)"
   ]
  },
  {
   "cell_type": "code",
   "execution_count": 6,
   "metadata": {},
   "outputs": [
    {
     "name": "stdout",
     "output_type": "stream",
     "text": [
      "Training and Evaluating on task 1\n",
      "Train data shape is  (405, 1, 300)\n",
      "Train Labels shape is  (405, 2)\n",
      "Classes trained are: 0 to 2\n"
     ]
    },
    {
     "name": "stderr",
     "output_type": "stream",
     "text": [
      "  0%|          | 0/2500 [00:00<?, ?it/s]"
     ]
    },
    {
     "name": "stdout",
     "output_type": "stream",
     "text": [
      "Class 0, class 1 neurons = 1, class 0 neurons = 7\n",
      "Class 1, class 1 neurons = 7, class 0 neurons = 1\n"
     ]
    },
    {
     "name": "stderr",
     "output_type": "stream",
     "text": [
      "100%|██████████| 2500/2500 [47:12<00:00,  1.13s/it]\n"
     ]
    },
    {
     "name": "stdout",
     "output_type": "stream",
     "text": [
      "Evaluating in individual mode on test set\n",
      "multilabel-indicator multilabel-indicator\n",
      "float32 int64\n",
      "(1196, 2) (1196, 2)\n",
      "|                     |         0 |\n",
      "|:--------------------|----------:|\n",
      "| hamming loss        | 0.279682  |\n",
      "| zero_one_loss       | 0.541806  |\n",
      "| one_error           | 0.0175585 |\n",
      "| micro av. jaccard   | 0.358581  |\n",
      "| macro av. jaccard   | 0.440066  |\n",
      "| micro av. precision | 0.367387  |\n",
      "| macro av. precision | 0.463012  |\n",
      "| micro av. recall    | 0.937343  |\n",
      "| macro av. recall    | 0.937261  |\n",
      "| micro av. f1        | 0.527876  |\n",
      "| macro av. f1        | 0.588437  |\n",
      "Evaluating in combined mode on test set\n",
      "multilabel-indicator multilabel-indicator\n",
      "float32 int64\n",
      "(1196, 2) (1196, 2)\n",
      "|                     |         0 |\n",
      "|:--------------------|----------:|\n",
      "| hamming loss        | 0.279682  |\n",
      "| zero_one_loss       | 0.541806  |\n",
      "| one_error           | 0.0175585 |\n",
      "| micro av. jaccard   | 0.358581  |\n",
      "| macro av. jaccard   | 0.440066  |\n",
      "| micro av. precision | 0.367387  |\n",
      "| macro av. precision | 0.463012  |\n",
      "| micro av. recall    | 0.937343  |\n",
      "| macro av. recall    | 0.937261  |\n",
      "| micro av. f1        | 0.527876  |\n",
      "| macro av. f1        | 0.588437  |\n",
      "Training and Evaluating on task 2\n",
      "Train data shape is  (403, 1, 300)\n",
      "Train Labels shape is  (403, 2)\n",
      "Classes trained are: 2 to 4\n",
      "Augmenting class labels...\n",
      "Train Labels shape is  (403, 4)\n"
     ]
    },
    {
     "name": "stderr",
     "output_type": "stream",
     "text": [
      "  0%|          | 0/2500 [00:00<?, ?it/s]"
     ]
    },
    {
     "name": "stdout",
     "output_type": "stream",
     "text": [
      "Class 0, class 1 neurons = 3, class 0 neurons = 14\n",
      "Class 1, class 1 neurons = 13, class 0 neurons = 3\n",
      "Class 2, class 1 neurons = 6, class 0 neurons = 1\n",
      "Class 3, class 1 neurons = 2, class 0 neurons = 6\n"
     ]
    },
    {
     "name": "stderr",
     "output_type": "stream",
     "text": [
      "100%|██████████| 2500/2500 [1:56:57<00:00,  2.81s/it]\n"
     ]
    },
    {
     "name": "stdout",
     "output_type": "stream",
     "text": [
      "Evaluating in individual mode on test set\n",
      "multilabel-indicator multilabel-indicator\n",
      "float32 int64\n",
      "(1196, 2) (1196, 2)\n",
      "|                     |         0 |\n",
      "|:--------------------|----------:|\n",
      "| hamming loss        | 0.197742  |\n",
      "| zero_one_loss       | 0.373746  |\n",
      "| one_error           | 0.0217391 |\n",
      "| micro av. jaccard   | 0.446136  |\n",
      "| macro av. jaccard   | 0.452188  |\n",
      "| micro av. precision | 0.477444  |\n",
      "| macro av. precision | 0.487723  |\n",
      "| micro av. recall    | 0.871854  |\n",
      "| macro av. recall    | 0.874441  |\n",
      "| micro av. f1        | 0.617004  |\n",
      "| macro av. f1        | 0.620036  |\n",
      "Evaluating in combined mode on test set\n",
      "multilabel-indicator multilabel-indicator\n",
      "float32 int64\n",
      "(1196, 4) (1196, 4)\n",
      "|                     |          0 |\n",
      "|:--------------------|-----------:|\n",
      "| hamming loss        | 0.24561    |\n",
      "| zero_one_loss       | 0.787625   |\n",
      "| one_error           | 0.00083612 |\n",
      "| micro av. jaccard   | 0.388021   |\n",
      "| macro av. jaccard   | 0.441304   |\n",
      "| micro av. precision | 0.407326   |\n",
      "| macro av. precision | 0.472491   |\n",
      "| micro av. recall    | 0.891148   |\n",
      "| macro av. recall    | 0.893339   |\n",
      "| micro av. f1        | 0.559099   |\n",
      "| macro av. f1        | 0.598102   |\n",
      "Training and Evaluating on task 3\n",
      "Train data shape is  (403, 1, 300)\n",
      "Train Labels shape is  (403, 2)\n",
      "Classes trained are: 4 to 6\n",
      "Augmenting class labels...\n",
      "Train Labels shape is  (403, 6)\n"
     ]
    },
    {
     "name": "stderr",
     "output_type": "stream",
     "text": [
      "  0%|          | 0/2500 [00:00<?, ?it/s]"
     ]
    },
    {
     "name": "stdout",
     "output_type": "stream",
     "text": [
      "Class 0, class 1 neurons = 5, class 0 neurons = 19\n",
      "Class 1, class 1 neurons = 19, class 0 neurons = 4\n",
      "Class 2, class 1 neurons = 10, class 0 neurons = 2\n",
      "Class 3, class 1 neurons = 4, class 0 neurons = 7\n",
      "Class 4, class 1 neurons = 2, class 0 neurons = 5\n",
      "Class 5, class 1 neurons = 5, class 0 neurons = 2\n"
     ]
    },
    {
     "name": "stderr",
     "output_type": "stream",
     "text": [
      "100%|██████████| 2500/2500 [3:06:02<00:00,  4.47s/it]  \n"
     ]
    },
    {
     "name": "stdout",
     "output_type": "stream",
     "text": [
      "Evaluating in individual mode on test set\n",
      "multilabel-indicator multilabel-indicator\n",
      "float32 int64\n",
      "(1196, 2) (1196, 2)\n",
      "|                     |         0 |\n",
      "|:--------------------|----------:|\n",
      "| hamming loss        | 0.36204   |\n",
      "| zero_one_loss       | 0.627926  |\n",
      "| one_error           | 0.0961538 |\n",
      "| micro av. jaccard   | 0.267343  |\n",
      "| macro av. jaccard   | 0.267433  |\n",
      "| micro av. precision | 0.305314  |\n",
      "| macro av. precision | 0.30557   |\n",
      "| micro av. recall    | 0.682505  |\n",
      "| macro av. recall    | 0.681914  |\n",
      "| micro av. f1        | 0.421896  |\n",
      "| macro av. f1        | 0.422007  |\n",
      "Evaluating in combined mode on test set\n",
      "multilabel-indicator multilabel-indicator\n",
      "float32 int64\n",
      "(1196, 6) (1196, 6)\n",
      "|                     |          0 |\n",
      "|:--------------------|-----------:|\n",
      "| hamming loss        | 0.285117   |\n",
      "| zero_one_loss       | 0.960702   |\n",
      "| one_error           | 0.00083612 |\n",
      "| micro av. jaccard   | 0.331373   |\n",
      "| macro av. jaccard   | 0.374102   |\n",
      "| micro av. precision | 0.365405   |\n",
      "| macro av. precision | 0.421315   |\n",
      "| micro av. recall    | 0.7806     |\n",
      "| macro av. recall    | 0.786115   |\n",
      "| micro av. f1        | 0.497791   |\n",
      "| macro av. f1        | 0.53073    |\n",
      "Evaluating in individual mode on test set\n",
      "|                     |         0 |         1 |         2 |\n",
      "|:--------------------|----------:|----------:|----------:|\n",
      "| hamming loss        | 0.297659  | 0.195652  | 0.36204   |\n",
      "| zero_one_loss       | 0.575251  | 0.366221  | 0.627926  |\n",
      "| one_error           | 0.0200669 | 0.0250836 | 0.0961538 |\n",
      "| micro av. jaccard   | 0.328935  | 0.427173  | 0.267343  |\n",
      "| macro av. jaccard   | 0.424858  | 0.430014  | 0.267433  |\n",
      "| micro av. precision | 0.345203  | 0.478738  | 0.305314  |\n",
      "| macro av. precision | 0.472329  | 0.486044  | 0.30557   |\n",
      "| micro av. recall    | 0.874687  | 0.798627  | 0.682505  |\n",
      "| macro av. recall    | 0.874573  | 0.801857  | 0.681914  |\n",
      "| micro av. f1        | 0.495035  | 0.598628  | 0.421896  |\n",
      "| macro av. f1        | 0.570084  | 0.600099  | 0.422007  |\n",
      "Evaluating in combined mode on test set\n",
      "|                     |         0 |          1 |          2 |\n",
      "|:--------------------|----------:|-----------:|-----------:|\n",
      "| hamming loss        | 0.297659  | 0.246656   | 0.285117   |\n",
      "| zero_one_loss       | 0.575251  | 0.775084   | 0.960702   |\n",
      "| one_error           | 0.0200669 | 0.00083612 | 0.00083612 |\n",
      "| micro av. jaccard   | 0.328935  | 0.371672   | 0.331373   |\n",
      "| macro av. jaccard   | 0.424858  | 0.427436   | 0.374102   |\n",
      "| micro av. precision | 0.345203  | 0.401149   | 0.365405   |\n",
      "| macro av. precision | 0.472329  | 0.479187   | 0.421315   |\n",
      "| micro av. recall    | 0.874687  | 0.834928   | 0.7806     |\n",
      "| macro av. recall    | 0.874573  | 0.838215   | 0.786115   |\n",
      "| micro av. f1        | 0.495035  | 0.541925   | 0.497791   |\n",
      "| macro av. f1        | 0.570084  | 0.585091   | 0.53073    |\n",
      "Number of Tasks: 3\n",
      "Forgetting in task 1: first time micro av. f1 = 0.5279, after all tasks micro av. f1 = 0.4950\n",
      "Forgetting in task 2: first time micro av. f1 = 0.6170, after all tasks micro av. f1 = 0.4950\n",
      "Forgetting in task 3: first time micro av. f1 = 0.4219, after all tasks micro av. f1 = 0.4950\n"
     ]
    },
    {
     "data": {
      "image/png": "[encoded data removed]",
      "text/plain": [
       "<Figure size 360x360 with 1 Axes>"
      ]
     },
     "metadata": {
      "needs_background": "light"
     },
     "output_type": "display_data"
    }
   ],
   "source": [
    "hparams_dict = {\n",
    "    'inputs': 300,\n",
    "    'outputs': 6,\n",
    "    'time_constant': 300,\n",
    "    'alpha_a': 0.42,\n",
    "    'alpha_m': 0.07,\n",
    "    'w_max': 100.0,\n",
    "    'w_min': -100.0,\n",
    "    'lr': 5e-4,\n",
    "    'sim_time': 600,\n",
    "    'n_epochs': 2500,\n",
    "    'print_every': 500,\n",
    "    'name': 'Scene',\n",
    "    'tasks': {'samples': [405, 403, 403], 'labels': [2, 2, 2]},\n",
    "    'seed': 66, \n",
    "    'ckpt_dir': './checkpoints/scene',\n",
    "    'load_from_file': None,\n",
    "    'device': device\n",
    "}\n",
    "net = OverallSNN(hparams_dict)\n",
    "net.fit_and_evaluate(train_spikes, train_labels, test_spikes, test_labels)"
   ]
  },
  {
   "cell_type": "code",
   "execution_count": null,
   "metadata": {},
   "outputs": [],
   "source": []
  }
 ],
 "metadata": {
  "kernelspec": {
   "display_name": "DL_gpu",
   "language": "python",
   "name": "dl_gpu"
  },
  "language_info": {
   "codemirror_mode": {
    "name": "ipython",
    "version": 3
   },
   "file_extension": ".py",
   "mimetype": "text/x-python",
   "name": "python",
   "nbconvert_exporter": "python",
   "pygments_lexer": "ipython3",
   "version": "3.7.7"
  }
 },
 "nbformat": 4,
 "nbformat_minor": 4
}
