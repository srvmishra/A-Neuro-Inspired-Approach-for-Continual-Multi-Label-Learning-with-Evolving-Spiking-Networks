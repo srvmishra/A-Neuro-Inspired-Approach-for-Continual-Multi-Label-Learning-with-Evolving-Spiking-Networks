{
 "cells": [
  {
   "cell_type": "code",
   "execution_count": 1,
   "metadata": {},
   "outputs": [],
   "source": [
    "from ContinualEvolvingSNN import *\n",
    "import arff\n",
    "import warnings\n",
    "from scipy.io import loadmat\n",
    "from utils import *\n",
    "warnings.filterwarnings(\"ignore\")\n",
    "%matplotlib inline\n",
    "np.random.seed(0)\n",
    "torch.manual_seed(0)\n",
    "torch.cuda.manual_seed(0)\n",
    "device = torch.device('cuda:0' if torch.cuda.is_available() else 'cpu')"
   ]
  },
  {
   "cell_type": "markdown",
   "metadata": {},
   "source": [
    "## Load Data and Convert to Spikes"
   ]
  },
  {
   "cell_type": "code",
   "execution_count": 2,
   "metadata": {},
   "outputs": [
    {
     "name": "stderr",
     "output_type": "stream",
     "text": [
      "100%|██████████| 124/124 [00:00<00:00, 2764.15it/s]\n",
      "100%|██████████| 83/83 [00:00<00:00, 7193.45it/s]"
     ]
    },
    {
     "name": "stdout",
     "output_type": "stream",
     "text": [
      "Train data shape:  (124, 1, 300)\n",
      "Train labels shape:  (124, 6)\n",
      "Test data shape:  (83, 1, 300)\n",
      "Test labels shape:  (83, 6)\n"
     ]
    },
    {
     "name": "stderr",
     "output_type": "stream",
     "text": [
      "\n"
     ]
    }
   ],
   "source": [
    "trainpath = '../datasets/VirusPseAAC/VirusPseAAC207_train_MVMD.mat'\n",
    "testpath = '../datasets/VirusPseAAC/VirusPseAAC207_test_MVMD.mat'\n",
    "\n",
    "train_ = loadmat(trainpath)\n",
    "train_data, train_labels = train_['transformed_train_data'], np.array(train_['labels'])\n",
    "\n",
    "test_ = loadmat(testpath)\n",
    "test_data, test_labels = test_['transformed_test_data'], np.array(test_['labels'])\n",
    "\n",
    "a = train_data.max(axis=0)\n",
    "b = train_data.min(axis=0)\n",
    "\n",
    "train_spikes = encoding(train_data, device, a, b)\n",
    "test_spikes = encoding(test_data, device, a, b)\n",
    "print(\"Train data shape: \", np.array(train_spikes).shape)\n",
    "print(\"Train labels shape: \", np.array(train_labels).shape)\n",
    "print(\"Test data shape: \", np.array(test_spikes).shape)\n",
    "print(\"Test labels shape: \", np.array(test_labels).shape)"
   ]
  },
  {
   "cell_type": "code",
   "execution_count": 3,
   "metadata": {},
   "outputs": [],
   "source": [
    "# samples = [32, 60, 32]\n",
    "# labels = [2, 2, 2]\n",
    "# seeds = return_seed(samples, labels, train_labels)\n",
    "# seeds"
   ]
  },
  {
   "cell_type": "markdown",
   "metadata": {},
   "source": [
    "## CIFDM Training and Evaluation Mode"
   ]
  },
  {
   "cell_type": "code",
   "execution_count": 4,
   "metadata": {},
   "outputs": [
    {
     "name": "stdout",
     "output_type": "stream",
     "text": [
      "Training and Evaluating on task 1\n",
      "Train data shape is  (32, 1, 300)\n",
      "Train Labels shape is  (32, 2)\n",
      "Classes trained are: 0 to 2\n"
     ]
    },
    {
     "name": "stderr",
     "output_type": "stream",
     "text": [
      "  0%|          | 1/2500 [00:00<05:58,  6.96it/s]"
     ]
    },
    {
     "name": "stdout",
     "output_type": "stream",
     "text": [
      "Class 0, class 1 neurons = 1, class 0 neurons = 9\n",
      "Class 1, class 1 neurons = 5, class 0 neurons = 6\n"
     ]
    },
    {
     "name": "stderr",
     "output_type": "stream",
     "text": [
      "100%|██████████| 2500/2500 [04:28<00:00,  9.33it/s]\n"
     ]
    },
    {
     "name": "stdout",
     "output_type": "stream",
     "text": [
      "Evaluating in individual mode on test set\n",
      "multilabel-indicator multilabel-indicator\n",
      "uint8 int64\n",
      "(83, 2) (83, 2)\n",
      "|                     |        0 |\n",
      "|:--------------------|---------:|\n",
      "| hamming loss        | 0.355422 |\n",
      "| zero_one_loss       | 0.710843 |\n",
      "| one_error           | 0        |\n",
      "| micro av. jaccard   | 0.213333 |\n",
      "| macro av. jaccard   | 0.590278 |\n",
      "| micro av. precision | 0.213333 |\n",
      "| macro av. precision | 0.590278 |\n",
      "| micro av. recall    | 1        |\n",
      "| macro av. recall    | 1        |\n",
      "| micro av. f1        | 0.351648 |\n",
      "| macro av. f1        | 0.652941 |\n",
      "Evaluating in combined mode on test set\n",
      "multilabel-indicator multilabel-indicator\n",
      "uint8 int64\n",
      "(83, 2) (83, 2)\n",
      "|                     |        0 |\n",
      "|:--------------------|---------:|\n",
      "| hamming loss        | 0.355422 |\n",
      "| zero_one_loss       | 0.710843 |\n",
      "| one_error           | 0        |\n",
      "| micro av. jaccard   | 0.213333 |\n",
      "| macro av. jaccard   | 0.590278 |\n",
      "| micro av. precision | 0.213333 |\n",
      "| macro av. precision | 0.590278 |\n",
      "| micro av. recall    | 1        |\n",
      "| macro av. recall    | 1        |\n",
      "| micro av. f1        | 0.351648 |\n",
      "| macro av. f1        | 0.652941 |\n",
      "Training and Evaluating on task 2\n",
      "Train data shape is  (60, 1, 300)\n",
      "Train Labels shape is  (60, 2)\n",
      "Classes trained are: 2 to 4\n",
      "Augmenting class labels...\n",
      "Train Labels shape is  (60, 4)\n"
     ]
    },
    {
     "name": "stderr",
     "output_type": "stream",
     "text": [
      "  0%|          | 0/2500 [00:00<?, ?it/s]"
     ]
    },
    {
     "name": "stdout",
     "output_type": "stream",
     "text": [
      "Class 0, class 1 neurons = 1, class 0 neurons = 36\n",
      "Class 1, class 1 neurons = 31, class 0 neurons = 7\n",
      "Class 2, class 1 neurons = 2, class 0 neurons = 17\n",
      "Class 3, class 1 neurons = 17, class 0 neurons = 4\n"
     ]
    },
    {
     "name": "stderr",
     "output_type": "stream",
     "text": [
      "100%|██████████| 2500/2500 [31:06<00:00,  1.34it/s]\n"
     ]
    },
    {
     "name": "stdout",
     "output_type": "stream",
     "text": [
      "Evaluating in individual mode on test set\n",
      "multilabel-indicator multilabel-indicator\n",
      "uint8 int64\n",
      "(83, 2) (83, 2)\n",
      "|                     |         0 |\n",
      "|:--------------------|----------:|\n",
      "| hamming loss        | 0.295181  |\n",
      "| zero_one_loss       | 0.518072  |\n",
      "| one_error           | 0.0722892 |\n",
      "| micro av. jaccard   | 0.363636  |\n",
      "| macro av. jaccard   | 0.202899  |\n",
      "| micro av. precision | 0.4375    |\n",
      "| macro av. precision | 0.222222  |\n",
      "| micro av. recall    | 0.682927  |\n",
      "| macro av. recall    | 0.411765  |\n",
      "| micro av. f1        | 0.533333  |\n",
      "| macro av. f1        | 0.28866   |\n",
      "Evaluating in combined mode on test set\n",
      "multilabel-indicator multilabel-indicator\n",
      "uint8 int64\n",
      "(83, 4) (83, 4)\n",
      "|                     |        0 |\n",
      "|:--------------------|---------:|\n",
      "| hamming loss        | 0.337349 |\n",
      "| zero_one_loss       | 0.903614 |\n",
      "| one_error           | 0        |\n",
      "| micro av. jaccard   | 0.277419 |\n",
      "| macro av. jaccard   | 0.311449 |\n",
      "| micro av. precision | 0.304965 |\n",
      "| macro av. precision | 0.404444 |\n",
      "| micro av. recall    | 0.754386 |\n",
      "| macro av. recall    | 0.622549 |\n",
      "| micro av. f1        | 0.434343 |\n",
      "| macro av. f1        | 0.418194 |\n",
      "Training and Evaluating on task 3\n",
      "Train data shape is  (32, 1, 300)\n",
      "Train Labels shape is  (32, 2)\n",
      "Classes trained are: 4 to 6\n",
      "Augmenting class labels...\n",
      "Train Labels shape is  (32, 6)\n"
     ]
    },
    {
     "name": "stderr",
     "output_type": "stream",
     "text": [
      "  0%|          | 0/2500 [00:00<?, ?it/s]"
     ]
    },
    {
     "name": "stdout",
     "output_type": "stream",
     "text": [
      "Class 0, class 1 neurons = 1, class 0 neurons = 49\n",
      "Class 1, class 1 neurons = 43, class 0 neurons = 7\n",
      "Class 2, class 1 neurons = 2, class 0 neurons = 32\n",
      "Class 3, class 1 neurons = 32, class 0 neurons = 5\n",
      "Class 4, class 1 neurons = 7, class 0 neurons = 7\n",
      "Class 5, class 1 neurons = 8, class 0 neurons = 7\n"
     ]
    },
    {
     "name": "stderr",
     "output_type": "stream",
     "text": [
      "100%|██████████| 2500/2500 [27:55<00:00,  1.49it/s]\n"
     ]
    },
    {
     "name": "stdout",
     "output_type": "stream",
     "text": [
      "Evaluating in individual mode on test set\n",
      "multilabel-indicator multilabel-indicator\n",
      "uint8 int64\n",
      "(83, 2) (83, 2)\n",
      "|                     |        0 |\n",
      "|:--------------------|---------:|\n",
      "| hamming loss        | 0.361446 |\n",
      "| zero_one_loss       | 0.614458 |\n",
      "| one_error           | 0.108434 |\n",
      "| micro av. jaccard   | 0.354839 |\n",
      "| macro av. jaccard   | 0.198795 |\n",
      "| micro av. precision | 0.392857 |\n",
      "| macro av. precision | 0.198795 |\n",
      "| micro av. recall    | 0.785714 |\n",
      "| macro av. recall    | 0.5      |\n",
      "| micro av. f1        | 0.52381  |\n",
      "| macro av. f1        | 0.284483 |\n",
      "Evaluating in combined mode on test set\n",
      "multilabel-indicator multilabel-indicator\n",
      "uint8 int64\n",
      "(83, 6) (83, 6)\n",
      "|                     |        0 |\n",
      "|:--------------------|---------:|\n",
      "| hamming loss        | 0.333333 |\n",
      "| zero_one_loss       | 0.975904 |\n",
      "| one_error           | 0        |\n",
      "| micro av. jaccard   | 0.308333 |\n",
      "| macro av. jaccard   | 0.2786   |\n",
      "| micro av. precision | 0.344186 |\n",
      "| macro av. precision | 0.345677 |\n",
      "| micro av. recall    | 0.747475 |\n",
      "| macro av. recall    | 0.571895 |\n",
      "| micro av. f1        | 0.471338 |\n",
      "| macro av. f1        | 0.377741 |\n",
      "Evaluating in individual mode on test set\n",
      "|                     |         0 |         1 |        2 |\n",
      "|:--------------------|----------:|----------:|---------:|\n",
      "| hamming loss        | 0.39759   | 0.240964  | 0.361446 |\n",
      "| zero_one_loss       | 0.783133  | 0.433735  | 0.614458 |\n",
      "| one_error           | 0.0120482 | 0.0481928 | 0.108434 |\n",
      "| micro av. jaccard   | 0.185185  | 0.393939  | 0.354839 |\n",
      "| macro av. jaccard   | 0.416667  | 0.220339  | 0.198795 |\n",
      "| micro av. precision | 0.1875    | 0.509804  | 0.392857 |\n",
      "| macro av. precision | 0.583333  | 0.254902  | 0.198795 |\n",
      "| micro av. recall    | 0.9375    | 0.634146  | 0.785714 |\n",
      "| macro av. recall    | 0.833333  | 0.382353  | 0.5      |\n",
      "| micro av. f1        | 0.3125    | 0.565217  | 0.52381  |\n",
      "| macro av. f1        | 0.542857  | 0.305882  | 0.284483 |\n",
      "Evaluating in combined mode on test set\n",
      "|                     |         0 |        1 |        2 |\n",
      "|:--------------------|----------:|---------:|---------:|\n",
      "| hamming loss        | 0.39759   | 0.319277 | 0.333333 |\n",
      "| zero_one_loss       | 0.783133  | 0.879518 | 0.975904 |\n",
      "| one_error           | 0.0120482 | 0        | 0        |\n",
      "| micro av. jaccard   | 0.185185  | 0.278912 | 0.308333 |\n",
      "| macro av. jaccard   | 0.416667  | 0.318503 | 0.2786   |\n",
      "| micro av. precision | 0.1875    | 0.312977 | 0.344186 |\n",
      "| macro av. precision | 0.583333  | 0.419118 | 0.345677 |\n",
      "| micro av. recall    | 0.9375    | 0.719298 | 0.747475 |\n",
      "| macro av. recall    | 0.833333  | 0.607843 | 0.571895 |\n",
      "| micro av. f1        | 0.3125    | 0.43617  | 0.471338 |\n",
      "| macro av. f1        | 0.542857  | 0.42437  | 0.377741 |\n",
      "Number of Tasks: 3\n",
      "Forgetting in task 1: first time micro av. f1 = 0.3516, after all tasks micro av. f1 = 0.3125\n",
      "Forgetting in task 2: first time micro av. f1 = 0.5333, after all tasks micro av. f1 = 0.3125\n",
      "Forgetting in task 3: first time micro av. f1 = 0.5238, after all tasks micro av. f1 = 0.3125\n"
     ]
    },
    {
     "data": {
      "image/png": "[encoded data removed]",
      "text/plain": [
       "<Figure size 360x360 with 1 Axes>"
      ]
     },
     "metadata": {
      "needs_background": "light"
     },
     "output_type": "display_data"
    }
   ],
   "source": [
    "hparams_dict = {\n",
    "    'inputs': 300,\n",
    "    'outputs': 6,\n",
    "    'time_constant': 300,\n",
    "    'alpha_a': 0.38,\n",
    "    'alpha_m': 0.07,\n",
    "    'w_max': 100.0,\n",
    "    'w_min': -100.0,\n",
    "    'lr': 5e-3,\n",
    "    'sim_time': 600,\n",
    "    'n_epochs': 2500,\n",
    "    'print_every': 500,\n",
    "    'name': 'Virus',\n",
    "    'tasks': {'samples': [32, 60, 32], 'labels': [2, 2, 2]},\n",
    "    'seed': 2,\n",
    "    'ckpt_dir': './checkpoints/virus',\n",
    "    'load_from_file': None,\n",
    "    'device': device\n",
    "}\n",
    "net = OverallSNN(hparams_dict)\n",
    "net.fit_and_evaluate(train_spikes, train_labels, test_spikes, test_labels)"
   ]
  },
  {
   "cell_type": "code",
   "execution_count": 5,
   "metadata": {},
   "outputs": [
    {
     "name": "stdout",
     "output_type": "stream",
     "text": [
      "Training and Evaluating on task 1\n",
      "Train data shape is  (32, 1, 300)\n",
      "Train Labels shape is  (32, 2)\n",
      "Classes trained are: 0 to 2\n"
     ]
    },
    {
     "name": "stderr",
     "output_type": "stream",
     "text": [
      "  0%|          | 0/2500 [00:00<?, ?it/s]"
     ]
    },
    {
     "name": "stdout",
     "output_type": "stream",
     "text": [
      "Class 0, class 1 neurons = 5, class 0 neurons = 6\n",
      "Class 1, class 1 neurons = 1, class 0 neurons = 9\n"
     ]
    },
    {
     "name": "stderr",
     "output_type": "stream",
     "text": [
      "100%|██████████| 2500/2500 [04:28<00:00,  9.33it/s]\n"
     ]
    },
    {
     "name": "stdout",
     "output_type": "stream",
     "text": [
      "Evaluating in individual mode on test set\n",
      "multilabel-indicator multilabel-indicator\n",
      "uint8 int64\n",
      "(83, 2) (83, 2)\n",
      "|                     |        0 |\n",
      "|:--------------------|---------:|\n",
      "| hamming loss        | 0.355422 |\n",
      "| zero_one_loss       | 0.710843 |\n",
      "| one_error           | 0        |\n",
      "| micro av. jaccard   | 0.213333 |\n",
      "| macro av. jaccard   | 0.590278 |\n",
      "| micro av. precision | 0.213333 |\n",
      "| macro av. precision | 0.590278 |\n",
      "| micro av. recall    | 1        |\n",
      "| macro av. recall    | 1        |\n",
      "| micro av. f1        | 0.351648 |\n",
      "| macro av. f1        | 0.652941 |\n",
      "Evaluating in combined mode on test set\n",
      "multilabel-indicator multilabel-indicator\n",
      "uint8 int64\n",
      "(83, 2) (83, 2)\n",
      "|                     |        0 |\n",
      "|:--------------------|---------:|\n",
      "| hamming loss        | 0.355422 |\n",
      "| zero_one_loss       | 0.710843 |\n",
      "| one_error           | 0        |\n",
      "| micro av. jaccard   | 0.213333 |\n",
      "| macro av. jaccard   | 0.590278 |\n",
      "| micro av. precision | 0.213333 |\n",
      "| macro av. precision | 0.590278 |\n",
      "| micro av. recall    | 1        |\n",
      "| macro av. recall    | 1        |\n",
      "| micro av. f1        | 0.351648 |\n",
      "| macro av. f1        | 0.652941 |\n",
      "Training and Evaluating on task 2\n",
      "Train data shape is  (60, 1, 300)\n",
      "Train Labels shape is  (60, 2)\n",
      "Classes trained are: 2 to 4\n",
      "Augmenting class labels...\n",
      "Train Labels shape is  (60, 4)\n"
     ]
    },
    {
     "name": "stderr",
     "output_type": "stream",
     "text": [
      "  0%|          | 0/2500 [00:00<?, ?it/s]"
     ]
    },
    {
     "name": "stdout",
     "output_type": "stream",
     "text": [
      "Class 0, class 1 neurons = 30, class 0 neurons = 7\n",
      "Class 1, class 1 neurons = 1, class 0 neurons = 36\n",
      "Class 2, class 1 neurons = 2, class 0 neurons = 17\n",
      "Class 3, class 1 neurons = 17, class 0 neurons = 4\n"
     ]
    },
    {
     "name": "stderr",
     "output_type": "stream",
     "text": [
      "100%|██████████| 2500/2500 [30:55<00:00,  1.35it/s]\n"
     ]
    },
    {
     "name": "stdout",
     "output_type": "stream",
     "text": [
      "Evaluating in individual mode on test set\n",
      "multilabel-indicator multilabel-indicator\n",
      "uint8 int64\n",
      "(83, 2) (83, 2)\n",
      "|                     |         0 |\n",
      "|:--------------------|----------:|\n",
      "| hamming loss        | 0.295181  |\n",
      "| zero_one_loss       | 0.518072  |\n",
      "| one_error           | 0.0722892 |\n",
      "| micro av. jaccard   | 0.363636  |\n",
      "| macro av. jaccard   | 0.202899  |\n",
      "| micro av. precision | 0.4375    |\n",
      "| macro av. precision | 0.222222  |\n",
      "| micro av. recall    | 0.682927  |\n",
      "| macro av. recall    | 0.411765  |\n",
      "| micro av. f1        | 0.533333  |\n",
      "| macro av. f1        | 0.28866   |\n",
      "Evaluating in combined mode on test set\n",
      "multilabel-indicator multilabel-indicator\n",
      "uint8 int64\n",
      "(83, 4) (83, 4)\n",
      "|                     |        0 |\n",
      "|:--------------------|---------:|\n",
      "| hamming loss        | 0.337349 |\n",
      "| zero_one_loss       | 0.903614 |\n",
      "| one_error           | 0        |\n",
      "| micro av. jaccard   | 0.282051 |\n",
      "| macro av. jaccard   | 0.394212 |\n",
      "| micro av. precision | 0.307692 |\n",
      "| macro av. precision | 0.403874 |\n",
      "| micro av. recall    | 0.77193  |\n",
      "| macro av. recall    | 0.705882 |\n",
      "| micro av. f1        | 0.44     |\n",
      "| macro av. f1        | 0.467364 |\n",
      "Training and Evaluating on task 3\n",
      "Train data shape is  (32, 1, 300)\n",
      "Train Labels shape is  (32, 2)\n",
      "Classes trained are: 4 to 6\n",
      "Augmenting class labels...\n",
      "Train Labels shape is  (32, 6)\n"
     ]
    },
    {
     "name": "stderr",
     "output_type": "stream",
     "text": [
      "  0%|          | 0/2500 [00:00<?, ?it/s]"
     ]
    },
    {
     "name": "stdout",
     "output_type": "stream",
     "text": [
      "Class 0, class 1 neurons = 42, class 0 neurons = 7\n",
      "Class 1, class 1 neurons = 1, class 0 neurons = 50\n",
      "Class 2, class 1 neurons = 2, class 0 neurons = 32\n",
      "Class 3, class 1 neurons = 32, class 0 neurons = 5\n",
      "Class 4, class 1 neurons = 8, class 0 neurons = 7\n",
      "Class 5, class 1 neurons = 7, class 0 neurons = 7\n"
     ]
    },
    {
     "name": "stderr",
     "output_type": "stream",
     "text": [
      "100%|██████████| 2500/2500 [27:51<00:00,  1.50it/s]\n"
     ]
    },
    {
     "name": "stdout",
     "output_type": "stream",
     "text": [
      "Evaluating in individual mode on test set\n",
      "multilabel-indicator multilabel-indicator\n",
      "uint8 int64\n",
      "(83, 2) (83, 2)\n",
      "|                     |        0 |\n",
      "|:--------------------|---------:|\n",
      "| hamming loss        | 0.361446 |\n",
      "| zero_one_loss       | 0.614458 |\n",
      "| one_error           | 0.108434 |\n",
      "| micro av. jaccard   | 0.354839 |\n",
      "| macro av. jaccard   | 0.198795 |\n",
      "| micro av. precision | 0.392857 |\n",
      "| macro av. precision | 0.198795 |\n",
      "| micro av. recall    | 0.785714 |\n",
      "| macro av. recall    | 0.5      |\n",
      "| micro av. f1        | 0.52381  |\n",
      "| macro av. f1        | 0.284483 |\n",
      "Evaluating in combined mode on test set\n",
      "multilabel-indicator multilabel-indicator\n",
      "uint8 int64\n",
      "(83, 6) (83, 6)\n",
      "|                     |        0 |\n",
      "|:--------------------|---------:|\n",
      "| hamming loss        | 0.331325 |\n",
      "| zero_one_loss       | 0.975904 |\n",
      "| one_error           | 0        |\n",
      "| micro av. jaccard   | 0.3125   |\n",
      "| macro av. jaccard   | 0.334156 |\n",
      "| micro av. precision | 0.347222 |\n",
      "| macro av. precision | 0.345677 |\n",
      "| micro av. recall    | 0.757576 |\n",
      "| macro av. recall    | 0.627451 |\n",
      "| micro av. f1        | 0.47619  |\n",
      "| macro av. f1        | 0.411074 |\n",
      "Evaluating in individual mode on test set\n",
      "|                     |        0 |         1 |        2 |\n",
      "|:--------------------|---------:|----------:|---------:|\n",
      "| hamming loss        | 0.391566 | 0.240964  | 0.361446 |\n",
      "| zero_one_loss       | 0.783133 | 0.433735  | 0.614458 |\n",
      "| one_error           | 0        | 0.0481928 | 0.108434 |\n",
      "| micro av. jaccard   | 0.197531 | 0.393939  | 0.354839 |\n",
      "| macro av. jaccard   | 0.583333 | 0.220339  | 0.198795 |\n",
      "| micro av. precision | 0.197531 | 0.509804  | 0.392857 |\n",
      "| macro av. precision | 0.583333 | 0.254902  | 0.198795 |\n",
      "| micro av. recall    | 1        | 0.634146  | 0.785714 |\n",
      "| macro av. recall    | 1        | 0.382353  | 0.5      |\n",
      "| micro av. f1        | 0.329897 | 0.565217  | 0.52381  |\n",
      "| macro av. f1        | 0.642857 | 0.305882  | 0.284483 |\n",
      "Evaluating in combined mode on test set\n",
      "|                     |        0 |        1 |        2 |\n",
      "|:--------------------|---------:|---------:|---------:|\n",
      "| hamming loss        | 0.391566 | 0.316265 | 0.331325 |\n",
      "| zero_one_loss       | 0.783133 | 0.879518 | 0.975904 |\n",
      "| one_error           | 0        | 0        | 0        |\n",
      "| micro av. jaccard   | 0.197531 | 0.285714 | 0.3125   |\n",
      "| macro av. jaccard   | 0.583333 | 0.401836 | 0.334156 |\n",
      "| micro av. precision | 0.197531 | 0.318182 | 0.347222 |\n",
      "| macro av. precision | 0.583333 | 0.419118 | 0.345677 |\n",
      "| micro av. recall    | 1        | 0.736842 | 0.757576 |\n",
      "| macro av. recall    | 1        | 0.691176 | 0.627451 |\n",
      "| micro av. f1        | 0.329897 | 0.444444 | 0.47619  |\n",
      "| macro av. f1        | 0.642857 | 0.47437  | 0.411074 |\n",
      "Number of Tasks: 3\n",
      "Forgetting in task 1: first time micro av. f1 = 0.3516, after all tasks micro av. f1 = 0.3299\n",
      "Forgetting in task 2: first time micro av. f1 = 0.5333, after all tasks micro av. f1 = 0.3299\n",
      "Forgetting in task 3: first time micro av. f1 = 0.5238, after all tasks micro av. f1 = 0.3299\n"
     ]
    },
    {
     "data": {
      "image/png": "[encoded data removed]",
      "text/plain": [
       "<Figure size 360x360 with 1 Axes>"
      ]
     },
     "metadata": {
      "needs_background": "light"
     },
     "output_type": "display_data"
    }
   ],
   "source": [
    "hparams_dict = {\n",
    "    'inputs': 300,\n",
    "    'outputs': 6,\n",
    "    'time_constant': 300,\n",
    "    'alpha_a': 0.38,\n",
    "    'alpha_m': 0.07,\n",
    "    'w_max': 100.0,\n",
    "    'w_min': -100.0,\n",
    "    'lr': 5e-3,\n",
    "    'sim_time': 600,\n",
    "    'n_epochs': 2500,\n",
    "    'print_every': 500,\n",
    "    'name': 'Virus',\n",
    "    'tasks': {'samples': [32, 60, 32], 'labels': [2, 2, 2]},\n",
    "    'seed': 63,\n",
    "    'ckpt_dir': './checkpoints/virus',\n",
    "    'load_from_file': None,\n",
    "    'device': device\n",
    "}\n",
    "net = OverallSNN(hparams_dict)\n",
    "net.fit_and_evaluate(train_spikes, train_labels, test_spikes, test_labels)"
   ]
  },
  {
   "cell_type": "code",
   "execution_count": 6,
   "metadata": {},
   "outputs": [
    {
     "name": "stdout",
     "output_type": "stream",
     "text": [
      "Training and Evaluating on task 1\n",
      "Train data shape is  (32, 1, 300)\n",
      "Train Labels shape is  (32, 2)\n",
      "Classes trained are: 0 to 2\n"
     ]
    },
    {
     "name": "stderr",
     "output_type": "stream",
     "text": [
      "  0%|          | 0/2500 [00:00<?, ?it/s]"
     ]
    },
    {
     "name": "stdout",
     "output_type": "stream",
     "text": [
      "Class 0, class 1 neurons = 1, class 0 neurons = 9\n",
      "Class 1, class 1 neurons = 5, class 0 neurons = 6\n"
     ]
    },
    {
     "name": "stderr",
     "output_type": "stream",
     "text": [
      "100%|██████████| 2500/2500 [04:29<00:00,  9.28it/s]\n"
     ]
    },
    {
     "name": "stdout",
     "output_type": "stream",
     "text": [
      "Evaluating in individual mode on test set\n",
      "multilabel-indicator multilabel-indicator\n",
      "uint8 int64\n",
      "(83, 2) (83, 2)\n",
      "|                     |        0 |\n",
      "|:--------------------|---------:|\n",
      "| hamming loss        | 0.355422 |\n",
      "| zero_one_loss       | 0.710843 |\n",
      "| one_error           | 0        |\n",
      "| micro av. jaccard   | 0.213333 |\n",
      "| macro av. jaccard   | 0.590278 |\n",
      "| micro av. precision | 0.213333 |\n",
      "| macro av. precision | 0.590278 |\n",
      "| micro av. recall    | 1        |\n",
      "| macro av. recall    | 1        |\n",
      "| micro av. f1        | 0.351648 |\n",
      "| macro av. f1        | 0.652941 |\n",
      "Evaluating in combined mode on test set\n",
      "multilabel-indicator multilabel-indicator\n",
      "uint8 int64\n",
      "(83, 2) (83, 2)\n",
      "|                     |        0 |\n",
      "|:--------------------|---------:|\n",
      "| hamming loss        | 0.355422 |\n",
      "| zero_one_loss       | 0.710843 |\n",
      "| one_error           | 0        |\n",
      "| micro av. jaccard   | 0.213333 |\n",
      "| macro av. jaccard   | 0.590278 |\n",
      "| micro av. precision | 0.213333 |\n",
      "| macro av. precision | 0.590278 |\n",
      "| micro av. recall    | 1        |\n",
      "| macro av. recall    | 1        |\n",
      "| micro av. f1        | 0.351648 |\n",
      "| macro av. f1        | 0.652941 |\n",
      "Training and Evaluating on task 2\n",
      "Train data shape is  (60, 1, 300)\n",
      "Train Labels shape is  (60, 2)\n",
      "Classes trained are: 2 to 4\n",
      "Augmenting class labels...\n",
      "Train Labels shape is  (60, 4)\n"
     ]
    },
    {
     "name": "stderr",
     "output_type": "stream",
     "text": [
      "  0%|          | 0/2500 [00:00<?, ?it/s]"
     ]
    },
    {
     "name": "stdout",
     "output_type": "stream",
     "text": [
      "Class 0, class 1 neurons = 1, class 0 neurons = 36\n",
      "Class 1, class 1 neurons = 30, class 0 neurons = 7\n",
      "Class 2, class 1 neurons = 2, class 0 neurons = 17\n",
      "Class 3, class 1 neurons = 17, class 0 neurons = 4\n"
     ]
    },
    {
     "name": "stderr",
     "output_type": "stream",
     "text": [
      "100%|██████████| 2500/2500 [31:12<00:00,  1.34it/s]\n"
     ]
    },
    {
     "name": "stdout",
     "output_type": "stream",
     "text": [
      "Evaluating in individual mode on test set\n",
      "multilabel-indicator multilabel-indicator\n",
      "uint8 int64\n",
      "(83, 2) (83, 2)\n",
      "|                     |         0 |\n",
      "|:--------------------|----------:|\n",
      "| hamming loss        | 0.295181  |\n",
      "| zero_one_loss       | 0.518072  |\n",
      "| one_error           | 0.0722892 |\n",
      "| micro av. jaccard   | 0.363636  |\n",
      "| macro av. jaccard   | 0.202899  |\n",
      "| micro av. precision | 0.4375    |\n",
      "| macro av. precision | 0.222222  |\n",
      "| micro av. recall    | 0.682927  |\n",
      "| macro av. recall    | 0.411765  |\n",
      "| micro av. f1        | 0.533333  |\n",
      "| macro av. f1        | 0.28866   |\n",
      "Evaluating in combined mode on test set\n",
      "multilabel-indicator multilabel-indicator\n",
      "uint8 int64\n",
      "(83, 4) (83, 4)\n",
      "|                     |        0 |\n",
      "|:--------------------|---------:|\n",
      "| hamming loss        | 0.337349 |\n",
      "| zero_one_loss       | 0.903614 |\n",
      "| one_error           | 0        |\n",
      "| micro av. jaccard   | 0.277419 |\n",
      "| macro av. jaccard   | 0.311449 |\n",
      "| micro av. precision | 0.304965 |\n",
      "| macro av. precision | 0.404444 |\n",
      "| micro av. recall    | 0.754386 |\n",
      "| macro av. recall    | 0.622549 |\n",
      "| micro av. f1        | 0.434343 |\n",
      "| macro av. f1        | 0.418194 |\n",
      "Training and Evaluating on task 3\n",
      "Train data shape is  (32, 1, 300)\n",
      "Train Labels shape is  (32, 2)\n",
      "Classes trained are: 4 to 6\n",
      "Augmenting class labels...\n",
      "Train Labels shape is  (32, 6)\n"
     ]
    },
    {
     "name": "stderr",
     "output_type": "stream",
     "text": [
      "  0%|          | 0/2500 [00:00<?, ?it/s]"
     ]
    },
    {
     "name": "stdout",
     "output_type": "stream",
     "text": [
      "Class 0, class 1 neurons = 1, class 0 neurons = 50\n",
      "Class 1, class 1 neurons = 42, class 0 neurons = 7\n",
      "Class 2, class 1 neurons = 2, class 0 neurons = 32\n",
      "Class 3, class 1 neurons = 32, class 0 neurons = 5\n",
      "Class 4, class 1 neurons = 8, class 0 neurons = 7\n",
      "Class 5, class 1 neurons = 7, class 0 neurons = 7\n"
     ]
    },
    {
     "name": "stderr",
     "output_type": "stream",
     "text": [
      "100%|██████████| 2500/2500 [29:25<00:00,  1.42it/s]\n"
     ]
    },
    {
     "name": "stdout",
     "output_type": "stream",
     "text": [
      "Evaluating in individual mode on test set\n",
      "multilabel-indicator multilabel-indicator\n",
      "uint8 int64\n",
      "(83, 2) (83, 2)\n",
      "|                     |        0 |\n",
      "|:--------------------|---------:|\n",
      "| hamming loss        | 0.361446 |\n",
      "| zero_one_loss       | 0.614458 |\n",
      "| one_error           | 0.108434 |\n",
      "| micro av. jaccard   | 0.354839 |\n",
      "| macro av. jaccard   | 0.198795 |\n",
      "| micro av. precision | 0.392857 |\n",
      "| macro av. precision | 0.198795 |\n",
      "| micro av. recall    | 0.785714 |\n",
      "| macro av. recall    | 0.5      |\n",
      "| micro av. f1        | 0.52381  |\n",
      "| macro av. f1        | 0.284483 |\n",
      "Evaluating in combined mode on test set\n",
      "multilabel-indicator multilabel-indicator\n",
      "uint8 int64\n",
      "(83, 6) (83, 6)\n",
      "|                     |        0 |\n",
      "|:--------------------|---------:|\n",
      "| hamming loss        | 0.333333 |\n",
      "| zero_one_loss       | 0.975904 |\n",
      "| one_error           | 0        |\n",
      "| micro av. jaccard   | 0.308333 |\n",
      "| macro av. jaccard   | 0.2786   |\n",
      "| micro av. precision | 0.344186 |\n",
      "| macro av. precision | 0.345677 |\n",
      "| micro av. recall    | 0.747475 |\n",
      "| macro av. recall    | 0.571895 |\n",
      "| micro av. f1        | 0.471338 |\n",
      "| macro av. f1        | 0.377741 |\n",
      "Evaluating in individual mode on test set\n",
      "|                     |         0 |         1 |        2 |\n",
      "|:--------------------|----------:|----------:|---------:|\n",
      "| hamming loss        | 0.39759   | 0.240964  | 0.361446 |\n",
      "| zero_one_loss       | 0.783133  | 0.433735  | 0.614458 |\n",
      "| one_error           | 0.0120482 | 0.0481928 | 0.108434 |\n",
      "| micro av. jaccard   | 0.185185  | 0.393939  | 0.354839 |\n",
      "| macro av. jaccard   | 0.416667  | 0.220339  | 0.198795 |\n",
      "| micro av. precision | 0.1875    | 0.509804  | 0.392857 |\n",
      "| macro av. precision | 0.583333  | 0.254902  | 0.198795 |\n",
      "| micro av. recall    | 0.9375    | 0.634146  | 0.785714 |\n",
      "| macro av. recall    | 0.833333  | 0.382353  | 0.5      |\n",
      "| micro av. f1        | 0.3125    | 0.565217  | 0.52381  |\n",
      "| macro av. f1        | 0.542857  | 0.305882  | 0.284483 |\n",
      "Evaluating in combined mode on test set\n",
      "|                     |         0 |        1 |        2 |\n",
      "|:--------------------|----------:|---------:|---------:|\n",
      "| hamming loss        | 0.39759   | 0.319277 | 0.333333 |\n",
      "| zero_one_loss       | 0.783133  | 0.879518 | 0.975904 |\n",
      "| one_error           | 0.0120482 | 0        | 0        |\n",
      "| micro av. jaccard   | 0.185185  | 0.278912 | 0.308333 |\n",
      "| macro av. jaccard   | 0.416667  | 0.318503 | 0.2786   |\n",
      "| micro av. precision | 0.1875    | 0.312977 | 0.344186 |\n",
      "| macro av. precision | 0.583333  | 0.419118 | 0.345677 |\n",
      "| micro av. recall    | 0.9375    | 0.719298 | 0.747475 |\n",
      "| macro av. recall    | 0.833333  | 0.607843 | 0.571895 |\n",
      "| micro av. f1        | 0.3125    | 0.43617  | 0.471338 |\n",
      "| macro av. f1        | 0.542857  | 0.42437  | 0.377741 |\n",
      "Number of Tasks: 3\n",
      "Forgetting in task 1: first time micro av. f1 = 0.3516, after all tasks micro av. f1 = 0.3125\n",
      "Forgetting in task 2: first time micro av. f1 = 0.5333, after all tasks micro av. f1 = 0.3125\n",
      "Forgetting in task 3: first time micro av. f1 = 0.5238, after all tasks micro av. f1 = 0.3125\n"
     ]
    },
    {
     "data": {
      "image/png": "[encoded data removed]",
      "text/plain": [
       "<Figure size 360x360 with 1 Axes>"
      ]
     },
     "metadata": {
      "needs_background": "light"
     },
     "output_type": "display_data"
    }
   ],
   "source": [
    "hparams_dict = {\n",
    "    'inputs': 300,\n",
    "    'outputs': 6,\n",
    "    'time_constant': 300,\n",
    "    'alpha_a': 0.38,\n",
    "    'alpha_m': 0.07,\n",
    "    'w_max': 100.0,\n",
    "    'w_min': -100.0,\n",
    "    'lr': 5e-3,\n",
    "    'sim_time': 600,\n",
    "    'n_epochs': 2500,\n",
    "    'print_every': 500,\n",
    "    'name': 'Virus',\n",
    "    'tasks': {'samples': [32, 60, 32], 'labels': [2, 2, 2]},\n",
    "    'seed': 66,\n",
    "    'ckpt_dir': './checkpoints/virus',\n",
    "    'load_from_file': None,\n",
    "    'device': device\n",
    "}\n",
    "net = OverallSNN(hparams_dict)\n",
    "net.fit_and_evaluate(train_spikes, train_labels, test_spikes, test_labels)"
   ]
  },
  {
   "cell_type": "code",
   "execution_count": null,
   "metadata": {},
   "outputs": [],
   "source": []
  }
 ],
 "metadata": {
  "kernelspec": {
   "display_name": "DL_gpu",
   "language": "python",
   "name": "dl_gpu"
  },
  "language_info": {
   "codemirror_mode": {
    "name": "ipython",
    "version": 3
   },
   "file_extension": ".py",
   "mimetype": "text/x-python",
   "name": "python",
   "nbconvert_exporter": "python",
   "pygments_lexer": "ipython3",
   "version": "3.7.7"
  }
 },
 "nbformat": 4,
 "nbformat_minor": 4
}
