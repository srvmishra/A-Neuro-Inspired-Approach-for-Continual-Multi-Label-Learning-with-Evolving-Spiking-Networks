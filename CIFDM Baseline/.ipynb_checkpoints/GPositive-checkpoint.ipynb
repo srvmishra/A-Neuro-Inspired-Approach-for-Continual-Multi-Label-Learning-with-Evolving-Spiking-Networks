{
 "cells": [
  {
   "cell_type": "code",
   "execution_count": null,
   "metadata": {},
   "outputs": [
    {
     "name": "stdout",
     "output_type": "stream",
     "text": [
      "data_name: gpositive.\n",
      "seed: 2.\n",
      "shuffle: True.\n",
      "upper_bound: False.\n",
      "embed_dim: 200.\n",
      "task_num: 3.\n",
      "weight: 30.\n",
      "use_teacher: False.\n",
      "gamma: 8.\n",
      "first_epoch: 40.\n",
      "pse_epoch: 1.\n",
      "ssl_epoch 1.\n",
      "new_epoch: 40.\n",
      "sti_epoch: 15.\n",
      "ste_epoch: 40.\n",
      "ts_epoch: 5.\n",
      "as_epoch: 20\n",
      "first_batch: 64.\n",
      "ssl_batch: 64.\n",
      "new_batch: 64.\n",
      "st_batch: 64.\n",
      "ts_batch: 64.\n",
      "as_batch: 64\n",
      "\n",
      "(311, 444) (208, 444)\n",
      "torch.Size([208, 4])\n",
      "0.2512019230769231\n",
      "task: 0, #samples: 105, #negative samples: 48, #positive samples: 0\n",
      "task: 1, #samples: 103, #negative samples: 64, #positive samples: 39\n",
      "task: 2, #samples: 103, #negative samples: 103, #positive samples: 0\n",
      "======================== Task 0 ========================\n",
      "Train single mode Epoch:  15%|██▊                | 6/40 [00:08<00:44,  1.31s/it]"
     ]
    }
   ],
   "source": [
    "!python3 main.py --name gpositive --shuffle 1 --seed 2 --device 0"
   ]
  },
  {
   "cell_type": "code",
   "execution_count": null,
   "metadata": {},
   "outputs": [],
   "source": [
    "!python3 main.py --name gpositive --shuffle 1 --seed 4 --device 0"
   ]
  },
  {
   "cell_type": "code",
   "execution_count": null,
   "metadata": {},
   "outputs": [],
   "source": [
    "!python3 main.py --name gpositive --shuffle 1 --seed 5 --device 0"
   ]
  }
 ],
 "metadata": {
  "kernelspec": {
   "display_name": "DL_gpu",
   "language": "python",
   "name": "dl_gpu"
  },
  "language_info": {
   "codemirror_mode": {
    "name": "ipython",
    "version": 3
   },
   "file_extension": ".py",
   "mimetype": "text/x-python",
   "name": "python",
   "nbconvert_exporter": "python",
   "pygments_lexer": "ipython3",
   "version": "3.7.7"
  }
 },
 "nbformat": 4,
 "nbformat_minor": 4
}
