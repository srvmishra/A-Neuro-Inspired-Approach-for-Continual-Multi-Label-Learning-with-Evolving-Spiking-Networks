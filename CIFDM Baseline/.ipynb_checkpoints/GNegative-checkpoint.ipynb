{
 "cells": [
  {
   "cell_type": "code",
   "execution_count": null,
   "metadata": {},
   "outputs": [
    {
     "name": "stdout",
     "output_type": "stream",
     "text": [
      "data_name: gnegative.\n",
      "seed: 2.\n",
      "shuffle: True.\n",
      "upper_bound: False.\n",
      "embed_dim: 200.\n",
      "task_num: 3.\n",
      "weight: 30.\n",
      "use_teacher: False.\n",
      "gamma: 8.\n",
      "first_epoch: 40.\n",
      "pse_epoch: 1.\n",
      "ssl_epoch 1.\n",
      "new_epoch: 40.\n",
      "sti_epoch: 15.\n",
      "ste_epoch: 40.\n",
      "ts_epoch: 5.\n",
      "as_epoch: 20\n",
      "first_batch: 64.\n",
      "ssl_batch: 64.\n",
      "new_batch: 64.\n",
      "st_batch: 64.\n",
      "ts_batch: 64.\n",
      "as_batch: 64\n",
      "\n",
      "(836, 448) (556, 448)\n",
      "torch.Size([556, 8])\n",
      "0.13196942446043167\n",
      "task: 0, #samples: 350, #negative samples: 338, #positive samples: 0\n",
      "task: 1, #samples: 350, #negative samples: 219, #positive samples: 0\n",
      "task: 2, #samples: 136, #negative samples: 65, #positive samples: 0\n",
      "======================== Task 0 ========================\n",
      "Train single mode Epoch:   2%|▍                  | 1/40 [00:03<02:08,  3.28s/it]"
     ]
    }
   ],
   "source": [
    "!python3 main.py --name gnegative --shuffle 1 --seed 2 --device 0"
   ]
  },
  {
   "cell_type": "code",
   "execution_count": null,
   "metadata": {},
   "outputs": [],
   "source": [
    "!python3 main.py --name gnegative --shuffle 1 --seed 222 --device 0"
   ]
  },
  {
   "cell_type": "code",
   "execution_count": null,
   "metadata": {},
   "outputs": [],
   "source": [
    "!python3 main.py --name gnegative --shuffle 1 --seed 131 --device 0"
   ]
  }
 ],
 "metadata": {
  "kernelspec": {
   "display_name": "DL_gpu",
   "language": "python",
   "name": "dl_gpu"
  },
  "language_info": {
   "codemirror_mode": {
    "name": "ipython",
    "version": 3
   },
   "file_extension": ".py",
   "mimetype": "text/x-python",
   "name": "python",
   "nbconvert_exporter": "python",
   "pygments_lexer": "ipython3",
   "version": "3.7.7"
  }
 },
 "nbformat": 4,
 "nbformat_minor": 4
}
