{
 "cells": [
  {
   "cell_type": "code",
   "execution_count": null,
   "metadata": {},
   "outputs": [
    {
     "name": "stdout",
     "output_type": "stream",
     "text": [
      "data_name: foodtruck.\n",
      "seed: 2.\n",
      "shuffle: True.\n",
      "upper_bound: False.\n",
      "embed_dim: 200.\n",
      "task_num: 3.\n",
      "weight: 30.\n",
      "use_teacher: False.\n",
      "gamma: 8.\n",
      "first_epoch: 40.\n",
      "pse_epoch: 1.\n",
      "ssl_epoch 1.\n",
      "new_epoch: 40.\n",
      "sti_epoch: 15.\n",
      "ste_epoch: 40.\n",
      "ts_epoch: 5.\n",
      "as_epoch: 20\n",
      "first_batch: 64.\n",
      "ssl_batch: 64.\n",
      "new_batch: 64.\n",
      "st_batch: 64.\n",
      "ts_batch: 64.\n",
      "as_batch: 64\n",
      "\n",
      "(250, 33) (250, 33)\n",
      "torch.Size([250, 12])\n",
      "0.188\n",
      "task: 0, #samples: 90, #negative samples: 21, #positive samples: 0\n",
      "task: 1, #samples: 80, #negative samples: 32, #positive samples: 1\n",
      "task: 2, #samples: 80, #negative samples: 47, #positive samples: 0\n",
      "======================== Task 0 ========================\n",
      "Train single mode Epoch:  12%|██▍                | 5/40 [00:12<01:29,  2.56s/it]"
     ]
    }
   ],
   "source": [
    "!python3 main.py --name foodtruck --shuffle 1 --seed 2 --device 1"
   ]
  },
  {
   "cell_type": "code",
   "execution_count": null,
   "metadata": {},
   "outputs": [],
   "source": [
    "!python3 main.py --name foodtruck --shuffle 1 --seed 3 --device 1"
   ]
  },
  {
   "cell_type": "code",
   "execution_count": null,
   "metadata": {},
   "outputs": [],
   "source": [
    "!python3 main.py --name foodtruck --shuffle 1 --seed 4 --device 1"
   ]
  }
 ],
 "metadata": {
  "kernelspec": {
   "display_name": "DL_gpu",
   "language": "python",
   "name": "dl_gpu"
  },
  "language_info": {
   "codemirror_mode": {
    "name": "ipython",
    "version": 3
   },
   "file_extension": ".py",
   "mimetype": "text/x-python",
   "name": "python",
   "nbconvert_exporter": "python",
   "pygments_lexer": "ipython3",
   "version": "3.7.7"
  }
 },
 "nbformat": 4,
 "nbformat_minor": 4
}
