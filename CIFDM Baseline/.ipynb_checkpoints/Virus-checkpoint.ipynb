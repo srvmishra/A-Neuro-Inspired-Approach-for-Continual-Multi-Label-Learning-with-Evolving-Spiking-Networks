{
 "cells": [
  {
   "cell_type": "code",
   "execution_count": null,
   "metadata": {},
   "outputs": [
    {
     "name": "stdout",
     "output_type": "stream",
     "text": [
      "data_name: virus.\n",
      "seed: 2.\n",
      "shuffle: True.\n",
      "upper_bound: False.\n",
      "embed_dim: 200.\n",
      "task_num: 3.\n",
      "weight: 30.\n",
      "use_teacher: False.\n",
      "gamma: 8.\n",
      "first_epoch: 40.\n",
      "pse_epoch: 1.\n",
      "ssl_epoch 1.\n",
      "new_epoch: 40.\n",
      "sti_epoch: 15.\n",
      "ste_epoch: 40.\n",
      "ts_epoch: 5.\n",
      "as_epoch: 20\n",
      "first_batch: 64.\n",
      "ssl_batch: 64.\n",
      "new_batch: 64.\n",
      "st_batch: 64.\n",
      "ts_batch: 64.\n",
      "as_batch: 64\n",
      "\n",
      "(124, 446) (83, 446)\n",
      "torch.Size([83, 6])\n",
      "0.19879518072289157\n",
      "task: 0, #samples: 32, #negative samples: 18, #positive samples: 0\n",
      "task: 1, #samples: 60, #negative samples: 35, #positive samples: 0\n",
      "task: 2, #samples: 32, #negative samples: 28, #positive samples: 1\n",
      "======================== Task 0 ========================\n",
      "Train single mode Epoch:  40%|███████▏          | 16/40 [00:38<00:54,  2.29s/it]"
     ]
    }
   ],
   "source": [
    "!python3 main.py --name virus --shuffle 1 --seed 2 --device 3"
   ]
  },
  {
   "cell_type": "code",
   "execution_count": null,
   "metadata": {},
   "outputs": [],
   "source": [
    "!python3 main.py --name virus --shuffle 1 --seed 63 --device 3"
   ]
  },
  {
   "cell_type": "code",
   "execution_count": null,
   "metadata": {},
   "outputs": [],
   "source": [
    "!python3 main.py --name virus --shuffle 1 --seed 66 --device 3"
   ]
  }
 ],
 "metadata": {
  "kernelspec": {
   "display_name": "DL_gpu",
   "language": "python",
   "name": "dl_gpu"
  },
  "language_info": {
   "codemirror_mode": {
    "name": "ipython",
    "version": 3
   },
   "file_extension": ".py",
   "mimetype": "text/x-python",
   "name": "python",
   "nbconvert_exporter": "python",
   "pygments_lexer": "ipython3",
   "version": "3.7.7"
  }
 },
 "nbformat": 4,
 "nbformat_minor": 4
}
