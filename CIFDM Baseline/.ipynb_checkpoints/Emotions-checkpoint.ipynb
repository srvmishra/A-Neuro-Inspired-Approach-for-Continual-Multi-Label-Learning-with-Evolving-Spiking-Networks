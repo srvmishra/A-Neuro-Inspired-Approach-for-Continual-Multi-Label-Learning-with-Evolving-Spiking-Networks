{
 "cells": [
  {
   "cell_type": "code",
   "execution_count": null,
   "metadata": {},
   "outputs": [
    {
     "name": "stdout",
     "output_type": "stream",
     "text": [
      "data_name: emotions.\n",
      "seed: 2.\n",
      "shuffle: True.\n",
      "upper_bound: False.\n",
      "embed_dim: 200.\n",
      "task_num: 3.\n",
      "weight: 30.\n",
      "use_teacher: False.\n",
      "gamma: 8.\n",
      "first_epoch: 40.\n",
      "pse_epoch: 1.\n",
      "ssl_epoch 1.\n",
      "new_epoch: 40.\n",
      "sti_epoch: 15.\n",
      "ste_epoch: 40.\n",
      "ts_epoch: 5.\n",
      "as_epoch: 20\n",
      "first_batch: 64.\n",
      "ssl_batch: 64.\n",
      "new_batch: 64.\n",
      "st_batch: 64.\n",
      "ts_batch: 64.\n",
      "as_batch: 64\n",
      "\n",
      "(391, 78) (202, 78)\n",
      "torch.Size([202, 6])\n",
      "0.3292079207920792\n",
      "task: 0, #samples: 130, #negative samples: 53, #positive samples: 2\n",
      "task: 1, #samples: 130, #negative samples: 65, #positive samples: 26\n",
      "task: 2, #samples: 131, #negative samples: 66, #positive samples: 0\n",
      "======================== Task 0 ========================\n",
      "Train single mode Epoch:  62%|███████████▎      | 25/40 [00:53<00:36,  2.46s/it]"
     ]
    }
   ],
   "source": [
    "!python3 main.py --name emotions --shuffle 1 --seed 2 --device 1"
   ]
  },
  {
   "cell_type": "code",
   "execution_count": null,
   "metadata": {},
   "outputs": [],
   "source": [
    "!python3 main.py --name emotions --shuffle 1 --seed 3 --device 1"
   ]
  },
  {
   "cell_type": "code",
   "execution_count": null,
   "metadata": {},
   "outputs": [],
   "source": [
    "!python3 main.py --name emotions --shuffle 1 --seed 4 --device 1"
   ]
  }
 ],
 "metadata": {
  "kernelspec": {
   "display_name": "DL_gpu",
   "language": "python",
   "name": "dl_gpu"
  },
  "language_info": {
   "codemirror_mode": {
    "name": "ipython",
    "version": 3
   },
   "file_extension": ".py",
   "mimetype": "text/x-python",
   "name": "python",
   "nbconvert_exporter": "python",
   "pygments_lexer": "ipython3",
   "version": "3.7.7"
  }
 },
 "nbformat": 4,
 "nbformat_minor": 4
}
