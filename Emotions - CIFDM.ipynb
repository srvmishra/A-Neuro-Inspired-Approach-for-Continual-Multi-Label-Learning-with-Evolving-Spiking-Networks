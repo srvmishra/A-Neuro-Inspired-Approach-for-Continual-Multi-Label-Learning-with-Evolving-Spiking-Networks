{
 "cells": [
  {
   "cell_type": "code",
   "execution_count": 1,
   "metadata": {},
   "outputs": [],
   "source": [
    "from ContinualEvolvingSNN import *\n",
    "import arff\n",
    "import warnings\n",
    "from scipy.io import loadmat\n",
    "warnings.filterwarnings(\"ignore\")\n",
    "%matplotlib inline\n",
    "np.random.seed(0)\n",
    "torch.manual_seed(0)\n",
    "torch.cuda.manual_seed(0)\n",
    "device = torch.device('cuda:3' if torch.cuda.is_available() else 'cpu')"
   ]
  },
  {
   "attachments": {},
   "cell_type": "markdown",
   "metadata": {},
   "source": [
    "## Load Data and Convert to Spikes"
   ]
  },
  {
   "cell_type": "code",
   "execution_count": 2,
   "metadata": {},
   "outputs": [
    {
     "name": "stderr",
     "output_type": "stream",
     "text": [
      "100%|██████████| 391/391 [00:00<00:00, 8603.05it/s]\n",
      "100%|██████████| 202/202 [00:00<00:00, 8492.79it/s]"
     ]
    },
    {
     "name": "stdout",
     "output_type": "stream",
     "text": [
      "Train data shape:  (391, 1, 432)\n",
      "Train labels shape:  (391, 6)\n",
      "Test data shape:  (202, 1, 432)\n",
      "Test labels shape:  (202, 6)\n"
     ]
    },
    {
     "name": "stderr",
     "output_type": "stream",
     "text": [
      "\n"
     ]
    }
   ],
   "source": [
    "train_path = '../datasets/emotions/emotions-train.arff'\n",
    "test_path = '../datasets/emotions/emotions-test.arff'\n",
    "num_features = 72\n",
    "train_data = arff.load(open(train_path, 'rt'))\n",
    "train_data = np.array(train_data['data']).astype(np.float32)\n",
    "test_data = arff.load(open(test_path, 'rt'))\n",
    "test_data = np.array(test_data['data']).astype(np.float32)\n",
    "a = train_data[:, :num_features].max(axis=0)\n",
    "b = train_data[:, :num_features].min(axis=0)\n",
    "\n",
    "train_spikes, train_labels = encode_data_to_spikes(train_data, device, num_features, a, b)\n",
    "test_spikes, test_labels = encode_data_to_spikes(test_data, device, num_features, a, b)\n",
    "print(\"Train data shape: \", np.array(train_spikes).shape)\n",
    "print(\"Train labels shape: \", np.array(train_labels).shape)\n",
    "print(\"Test data shape: \", np.array(test_spikes).shape)\n",
    "print(\"Test labels shape: \", np.array(test_labels).shape)"
   ]
  },
  {
   "attachments": {},
   "cell_type": "markdown",
   "metadata": {},
   "source": [
    "## CIFDM Training and Evaluation Mode"
   ]
  },
  {
   "cell_type": "code",
   "execution_count": 3,
   "metadata": {},
   "outputs": [
    {
     "name": "stdout",
     "output_type": "stream",
     "text": [
      "Training and Evaluating on task 1\n",
      "Train data shape is  (130, 1, 432)\n",
      "Train Labels shape is  (130, 2)\n",
      "Classes trained are: 0 to 2\n"
     ]
    },
    {
     "name": "stderr",
     "output_type": "stream",
     "text": [
      "  0%|          | 0/2000 [00:00<?, ?it/s]"
     ]
    },
    {
     "name": "stdout",
     "output_type": "stream",
     "text": [
      "Class 0, class 1 neurons = 2, class 0 neurons = 4\n",
      "Class 1, class 1 neurons = 3, class 0 neurons = 4\n"
     ]
    },
    {
     "name": "stderr",
     "output_type": "stream",
     "text": [
      "100%|██████████| 2000/2000 [39:16<00:00,  1.18s/it]\n"
     ]
    },
    {
     "name": "stdout",
     "output_type": "stream",
     "text": [
      "Evaluating in individual mode on test set\n",
      "multilabel-indicator multilabel-indicator\n",
      "float32 int64\n",
      "(202, 2) (202, 2)\n",
      "|                     |         0 |\n",
      "|:--------------------|----------:|\n",
      "| hamming loss        | 0.25      |\n",
      "| zero_one_loss       | 0.405941  |\n",
      "| one_error           | 0.0940594 |\n",
      "| micro av. jaccard   | 0.36875   |\n",
      "| macro av. jaccard   | 0.368492  |\n",
      "| micro av. precision | 0.556604  |\n",
      "| macro av. precision | 0.56423   |\n",
      "| micro av. recall    | 0.522124  |\n",
      "| macro av. recall    | 0.520402  |\n",
      "| micro av. f1        | 0.538813  |\n",
      "| macro av. f1        | 0.538533  |\n",
      "Evaluating in combined mode on test set\n",
      "multilabel-indicator multilabel-indicator\n",
      "float32 int64\n",
      "(202, 2) (202, 2)\n",
      "|                     |         0 |\n",
      "|:--------------------|----------:|\n",
      "| hamming loss        | 0.25      |\n",
      "| zero_one_loss       | 0.405941  |\n",
      "| one_error           | 0.0940594 |\n",
      "| micro av. jaccard   | 0.36875   |\n",
      "| macro av. jaccard   | 0.368492  |\n",
      "| micro av. precision | 0.556604  |\n",
      "| macro av. precision | 0.56423   |\n",
      "| micro av. recall    | 0.522124  |\n",
      "| macro av. recall    | 0.520402  |\n",
      "| micro av. f1        | 0.538813  |\n",
      "| macro av. f1        | 0.538533  |\n",
      "Training and Evaluating on task 2\n",
      "Train data shape is  (130, 1, 432)\n",
      "Train Labels shape is  (130, 2)\n",
      "Classes trained are: 2 to 4\n",
      "Augmenting class labels...\n",
      "Train Labels shape is  (130, 4)\n"
     ]
    },
    {
     "name": "stderr",
     "output_type": "stream",
     "text": [
      "  0%|          | 0/2000 [00:00<?, ?it/s]"
     ]
    },
    {
     "name": "stdout",
     "output_type": "stream",
     "text": [
      "Class 0, class 1 neurons = 4, class 0 neurons = 8\n",
      "Class 1, class 1 neurons = 6, class 0 neurons = 7\n",
      "Class 2, class 1 neurons = 3, class 0 neurons = 5\n",
      "Class 3, class 1 neurons = 2, class 0 neurons = 3\n"
     ]
    },
    {
     "name": "stderr",
     "output_type": "stream",
     "text": [
      "100%|██████████| 2000/2000 [1:33:15<00:00,  2.80s/it]\n"
     ]
    },
    {
     "name": "stdout",
     "output_type": "stream",
     "text": [
      "Evaluating in individual mode on test set\n",
      "multilabel-indicator multilabel-indicator\n",
      "float32 int64\n",
      "(202, 2) (202, 2)\n",
      "|                     |         0 |\n",
      "|:--------------------|----------:|\n",
      "| hamming loss        | 0.235149  |\n",
      "| zero_one_loss       | 0.40099   |\n",
      "| one_error           | 0.0693069 |\n",
      "| micro av. jaccard   | 0.522613  |\n",
      "| macro av. jaccard   | 0.537297  |\n",
      "| micro av. precision | 0.702703  |\n",
      "| macro av. precision | 0.70996   |\n",
      "| micro av. recall    | 0.670968  |\n",
      "| macro av. recall    | 0.685381  |\n",
      "| micro av. f1        | 0.686469  |\n",
      "| macro av. f1        | 0.697206  |\n",
      "Evaluating in combined mode on test set\n",
      "multilabel-indicator multilabel-indicator\n",
      "float32 int64\n",
      "(202, 4) (202, 4)\n",
      "|                     |        0 |\n",
      "|:--------------------|---------:|\n",
      "| hamming loss        | 0.252475 |\n",
      "| zero_one_loss       | 0.693069 |\n",
      "| one_error           | 0        |\n",
      "| micro av. jaccard   | 0.412104 |\n",
      "| macro av. jaccard   | 0.400531 |\n",
      "| micro av. precision | 0.644144 |\n",
      "| macro av. precision | 0.629409 |\n",
      "| micro av. recall    | 0.533582 |\n",
      "| macro av. recall    | 0.514615 |\n",
      "| micro av. f1        | 0.583673 |\n",
      "| macro av. f1        | 0.557315 |\n",
      "Training and Evaluating on task 3\n",
      "Train data shape is  (131, 1, 432)\n",
      "Train Labels shape is  (131, 2)\n",
      "Classes trained are: 4 to 6\n",
      "Augmenting class labels...\n",
      "Train Labels shape is  (131, 6)\n"
     ]
    },
    {
     "name": "stderr",
     "output_type": "stream",
     "text": [
      "  0%|          | 0/2000 [00:00<?, ?it/s]"
     ]
    },
    {
     "name": "stdout",
     "output_type": "stream",
     "text": [
      "Class 0, class 1 neurons = 5, class 0 neurons = 10\n",
      "Class 1, class 1 neurons = 8, class 0 neurons = 11\n",
      "Class 2, class 1 neurons = 7, class 0 neurons = 8\n",
      "Class 3, class 1 neurons = 3, class 0 neurons = 7\n",
      "Class 4, class 1 neurons = 2, class 0 neurons = 5\n",
      "Class 5, class 1 neurons = 3, class 0 neurons = 4\n"
     ]
    },
    {
     "name": "stderr",
     "output_type": "stream",
     "text": [
      "100%|██████████| 2000/2000 [2:39:45<00:00,  4.79s/it]  \n"
     ]
    },
    {
     "name": "stdout",
     "output_type": "stream",
     "text": [
      "Evaluating in individual mode on test set\n",
      "multilabel-indicator multilabel-indicator\n",
      "float32 int64\n",
      "(202, 2) (202, 2)\n",
      "|                     |        0 |\n",
      "|:--------------------|---------:|\n",
      "| hamming loss        | 0.227723 |\n",
      "| zero_one_loss       | 0.405941 |\n",
      "| one_error           | 0.049505 |\n",
      "| micro av. jaccard   | 0.468208 |\n",
      "| macro av. jaccard   | 0.468141 |\n",
      "| micro av. precision | 0.658537 |\n",
      "| macro av. precision | 0.658155 |\n",
      "| micro av. recall    | 0.618321 |\n",
      "| macro av. recall    | 0.618564 |\n",
      "| micro av. f1        | 0.637795 |\n",
      "| macro av. f1        | 0.637733 |\n",
      "Evaluating in combined mode on test set\n",
      "multilabel-indicator multilabel-indicator\n",
      "float32 int64\n",
      "(202, 6) (202, 6)\n",
      "|                     |        0 |\n",
      "|:--------------------|---------:|\n",
      "| hamming loss        | 0.256601 |\n",
      "| zero_one_loss       | 0.826733 |\n",
      "| one_error           | 0        |\n",
      "| micro av. jaccard   | 0.415414 |\n",
      "| macro av. jaccard   | 0.413955 |\n",
      "| micro av. precision | 0.624294 |\n",
      "| macro av. precision | 0.616607 |\n",
      "| micro av. recall    | 0.553885 |\n",
      "| macro av. recall    | 0.555163 |\n",
      "| micro av. f1        | 0.586985 |\n",
      "| macro av. f1        | 0.574905 |\n",
      "Evaluating in individual mode on test set\n",
      "|                     |         0 |         1 |        2 |\n",
      "|:--------------------|----------:|----------:|---------:|\n",
      "| hamming loss        | 0.262376  | 0.279703  | 0.227723 |\n",
      "| zero_one_loss       | 0.440594  | 0.475248  | 0.405941 |\n",
      "| one_error           | 0.0841584 | 0.0841584 | 0.049505 |\n",
      "| micro av. jaccard   | 0.273973  | 0.469484  | 0.468208 |\n",
      "| macro av. jaccard   | 0.280342  | 0.493382  | 0.468141 |\n",
      "| micro av. precision | 0.547945  | 0.632911  | 0.658537 |\n",
      "| macro av. precision | 0.558333  | 0.633333  | 0.658155 |\n",
      "| micro av. recall    | 0.353982  | 0.645161  | 0.618321 |\n",
      "| macro av. recall    | 0.356246  | 0.690678  | 0.618564 |\n",
      "| micro av. f1        | 0.430108  | 0.638978  | 0.637795 |\n",
      "| macro av. f1        | 0.434692  | 0.652289  | 0.637733 |\n",
      "Evaluating in combined mode on test set\n",
      "|                     |         0 |        1 |        2 |\n",
      "|:--------------------|----------:|---------:|---------:|\n",
      "| hamming loss        | 0.262376  | 0.27104  | 0.256601 |\n",
      "| zero_one_loss       | 0.440594  | 0.727723 | 0.826733 |\n",
      "| one_error           | 0.0841584 | 0        | 0        |\n",
      "| micro av. jaccard   | 0.273973  | 0.389972 | 0.415414 |\n",
      "| macro av. jaccard   | 0.280342  | 0.386862 | 0.413955 |\n",
      "| micro av. precision | 0.547945  | 0.606061 | 0.624294 |\n",
      "| macro av. precision | 0.558333  | 0.595833 | 0.616607 |\n",
      "| micro av. recall    | 0.353982  | 0.522388 | 0.553885 |\n",
      "| macro av. recall    | 0.356246  | 0.523462 | 0.555163 |\n",
      "| micro av. f1        | 0.430108  | 0.561122 | 0.586985 |\n",
      "| macro av. f1        | 0.434692  | 0.543491 | 0.574905 |\n",
      "Number of Tasks: 3\n",
      "Forgetting in task 1: first time micro av. f1 = 0.5388, after all tasks micro av. f1 = 0.4301\n",
      "Forgetting in task 2: first time micro av. f1 = 0.6865, after all tasks micro av. f1 = 0.4301\n",
      "Forgetting in task 3: first time micro av. f1 = 0.6378, after all tasks micro av. f1 = 0.4301\n"
     ]
    },
    {
     "data": {
      "image/png": "[encoded data removed]",
      "text/plain": [
       "<Figure size 360x360 with 1 Axes>"
      ]
     },
     "metadata": {
      "needs_background": "light"
     },
     "output_type": "display_data"
    },
    {
     "data": {
      "text/plain": [
       "(None,)"
      ]
     },
     "execution_count": 3,
     "metadata": {},
     "output_type": "execute_result"
    }
   ],
   "source": [
    "hparams_dict = {\n",
    "    'inputs': 432,\n",
    "    'outputs': 6,\n",
    "    'time_constant': 300,\n",
    "    'alpha_a': 0.42,\n",
    "    'alpha_m': 0.07,\n",
    "    'w_max': 100.0,\n",
    "    'w_min': -100.0,\n",
    "    'lr': 1e-3,\n",
    "    'sim_time': 600,\n",
    "    'n_epochs': 2000,\n",
    "    'print_every': 200,\n",
    "    'name': 'Emotions',\n",
    "    'tasks': {'samples': [130, 130, 131], 'labels': [2, 2, 2]},\n",
    "    'seed': 2,\n",
    "    'ckpt_dir': './checkpoints/emotions',\n",
    "    'load_from_file': None,\n",
    "    'device': device\n",
    "}\n",
    "net = OverallSNN(hparams_dict)\n",
    "net.fit_and_evaluate(train_spikes, train_labels, test_spikes, test_labels)"
   ]
  },
  {
   "cell_type": "code",
   "execution_count": 4,
   "metadata": {},
   "outputs": [
    {
     "name": "stdout",
     "output_type": "stream",
     "text": [
      "Training and Evaluating on task 1\n",
      "Train data shape is  (130, 1, 432)\n",
      "Train Labels shape is  (130, 2)\n",
      "Classes trained are: 0 to 2\n"
     ]
    },
    {
     "name": "stderr",
     "output_type": "stream",
     "text": [
      "  0%|          | 0/2000 [00:00<?, ?it/s]"
     ]
    },
    {
     "name": "stdout",
     "output_type": "stream",
     "text": [
      "Class 0, class 1 neurons = 2, class 0 neurons = 3\n",
      "Class 1, class 1 neurons = 5, class 0 neurons = 3\n"
     ]
    },
    {
     "name": "stderr",
     "output_type": "stream",
     "text": [
      "100%|██████████| 2000/2000 [38:31<00:00,  1.16s/it]\n"
     ]
    },
    {
     "name": "stdout",
     "output_type": "stream",
     "text": [
      "Evaluating in individual mode on test set\n",
      "multilabel-indicator multilabel-indicator\n",
      "float32 int64\n",
      "(202, 2) (202, 2)\n",
      "|                     |         0 |\n",
      "|:--------------------|----------:|\n",
      "| hamming loss        | 0.193069  |\n",
      "| zero_one_loss       | 0.381188  |\n",
      "| one_error           | 0.0049505 |\n",
      "| micro av. jaccard   | 0.450704  |\n",
      "| macro av. jaccard   | 0.450198  |\n",
      "| micro av. precision | 0.719101  |\n",
      "| macro av. precision | 0.718242  |\n",
      "| micro av. recall    | 0.547009  |\n",
      "| macro av. recall    | 0.54661   |\n",
      "| micro av. f1        | 0.621359  |\n",
      "| macro av. f1        | 0.620032  |\n",
      "Evaluating in combined mode on test set\n",
      "multilabel-indicator multilabel-indicator\n",
      "float32 int64\n",
      "(202, 2) (202, 2)\n",
      "|                     |         0 |\n",
      "|:--------------------|----------:|\n",
      "| hamming loss        | 0.193069  |\n",
      "| zero_one_loss       | 0.381188  |\n",
      "| one_error           | 0.0049505 |\n",
      "| micro av. jaccard   | 0.450704  |\n",
      "| macro av. jaccard   | 0.450198  |\n",
      "| micro av. precision | 0.719101  |\n",
      "| macro av. precision | 0.718242  |\n",
      "| micro av. recall    | 0.547009  |\n",
      "| macro av. recall    | 0.54661   |\n",
      "| micro av. f1        | 0.621359  |\n",
      "| macro av. f1        | 0.620032  |\n",
      "Training and Evaluating on task 2\n",
      "Train data shape is  (130, 1, 432)\n",
      "Train Labels shape is  (130, 2)\n",
      "Classes trained are: 2 to 4\n",
      "Augmenting class labels...\n",
      "Train Labels shape is  (130, 4)\n"
     ]
    },
    {
     "name": "stderr",
     "output_type": "stream",
     "text": [
      "  0%|          | 0/2000 [00:00<?, ?it/s]"
     ]
    },
    {
     "name": "stdout",
     "output_type": "stream",
     "text": [
      "Class 0, class 1 neurons = 4, class 0 neurons = 9\n",
      "Class 1, class 1 neurons = 6, class 0 neurons = 10\n",
      "Class 2, class 1 neurons = 2, class 0 neurons = 4\n",
      "Class 3, class 1 neurons = 2, class 0 neurons = 5\n"
     ]
    },
    {
     "name": "stderr",
     "output_type": "stream",
     "text": [
      "100%|██████████| 2000/2000 [1:36:32<00:00,  2.90s/it]\n"
     ]
    },
    {
     "name": "stdout",
     "output_type": "stream",
     "text": [
      "Evaluating in individual mode on test set\n",
      "multilabel-indicator multilabel-indicator\n",
      "float32 int64\n",
      "(202, 2) (202, 2)\n",
      "|                     |        0 |\n",
      "|:--------------------|---------:|\n",
      "| hamming loss        | 0.311881 |\n",
      "| zero_one_loss       | 0.50495  |\n",
      "| one_error           | 0.118812 |\n",
      "| micro av. jaccard   | 0.340314 |\n",
      "| macro av. jaccard   | 0.352413 |\n",
      "| micro av. precision | 0.524194 |\n",
      "| macro av. precision | 0.592162 |\n",
      "| micro av. recall    | 0.492424 |\n",
      "| macro av. recall    | 0.493963 |\n",
      "| micro av. f1        | 0.507812 |\n",
      "| macro av. f1        | 0.51601  |\n",
      "Evaluating in combined mode on test set\n",
      "multilabel-indicator multilabel-indicator\n",
      "float32 int64\n",
      "(202, 4) (202, 4)\n",
      "|                     |        0 |\n",
      "|:--------------------|---------:|\n",
      "| hamming loss        | 0.27104  |\n",
      "| zero_one_loss       | 0.722772 |\n",
      "| one_error           | 0        |\n",
      "| micro av. jaccard   | 0.350148 |\n",
      "| macro av. jaccard   | 0.357944 |\n",
      "| micro av. precision | 0.572816 |\n",
      "| macro av. precision | 0.619593 |\n",
      "| micro av. recall    | 0.473896 |\n",
      "| macro av. recall    | 0.47353  |\n",
      "| micro av. f1        | 0.518681 |\n",
      "| macro av. f1        | 0.524473 |\n",
      "Training and Evaluating on task 3\n",
      "Train data shape is  (131, 1, 432)\n",
      "Train Labels shape is  (131, 2)\n",
      "Classes trained are: 4 to 6\n",
      "Augmenting class labels...\n",
      "Train Labels shape is  (131, 6)\n"
     ]
    },
    {
     "name": "stderr",
     "output_type": "stream",
     "text": [
      "  0%|          | 0/2000 [00:00<?, ?it/s]"
     ]
    },
    {
     "name": "stdout",
     "output_type": "stream",
     "text": [
      "Class 0, class 1 neurons = 5, class 0 neurons = 11\n",
      "Class 1, class 1 neurons = 7, class 0 neurons = 13\n",
      "Class 2, class 1 neurons = 3, class 0 neurons = 9\n",
      "Class 3, class 1 neurons = 3, class 0 neurons = 10\n",
      "Class 4, class 1 neurons = 3, class 0 neurons = 4\n",
      "Class 5, class 1 neurons = 2, class 0 neurons = 4\n"
     ]
    },
    {
     "name": "stderr",
     "output_type": "stream",
     "text": [
      "100%|██████████| 2000/2000 [2:38:59<00:00,  4.77s/it]  \n"
     ]
    },
    {
     "name": "stdout",
     "output_type": "stream",
     "text": [
      "Evaluating in individual mode on test set\n",
      "multilabel-indicator multilabel-indicator\n",
      "float32 int64\n",
      "(202, 2) (202, 2)\n",
      "|                     |         0 |\n",
      "|:--------------------|----------:|\n",
      "| hamming loss        | 0.257426  |\n",
      "| zero_one_loss       | 0.435644  |\n",
      "| one_error           | 0.0792079 |\n",
      "| micro av. jaccard   | 0.485149  |\n",
      "| macro av. jaccard   | 0.488281  |\n",
      "| micro av. precision | 0.653333  |\n",
      "| macro av. precision | 0.652518  |\n",
      "| micro av. recall    | 0.653333  |\n",
      "| macro av. recall    | 0.660301  |\n",
      "| micro av. f1        | 0.653333  |\n",
      "| macro av. f1        | 0.656085  |\n",
      "Evaluating in combined mode on test set\n",
      "multilabel-indicator multilabel-indicator\n",
      "float32 int64\n",
      "(202, 6) (202, 6)\n",
      "|                     |        0 |\n",
      "|:--------------------|---------:|\n",
      "| hamming loss        | 0.274752 |\n",
      "| zero_one_loss       | 0.846535 |\n",
      "| one_error           | 0        |\n",
      "| micro av. jaccard   | 0.396739 |\n",
      "| macro av. jaccard   | 0.399453 |\n",
      "| micro av. precision | 0.58871  |\n",
      "| macro av. precision | 0.611986 |\n",
      "| micro av. recall    | 0.548872 |\n",
      "| macro av. recall    | 0.54495  |\n",
      "| micro av. f1        | 0.568093 |\n",
      "| macro av. f1        | 0.566021 |\n",
      "Evaluating in individual mode on test set\n",
      "|                     |         0 |        1 |         2 |\n",
      "|:--------------------|----------:|---------:|----------:|\n",
      "| hamming loss        | 0.240099  | 0.326733 | 0.257426  |\n",
      "| zero_one_loss       | 0.465347  | 0.539604 | 0.435644  |\n",
      "| one_error           | 0.0148515 | 0.113861 | 0.0792079 |\n",
      "| micro av. jaccard   | 0.366013  | 0.329949 | 0.485149  |\n",
      "| macro av. jaccard   | 0.367979  | 0.3421   | 0.488281  |\n",
      "| micro av. precision | 0.608696  | 0.5      | 0.653333  |\n",
      "| macro av. precision | 0.609929  | 0.57351  | 0.652518  |\n",
      "| micro av. recall    | 0.478632  | 0.492424 | 0.653333  |\n",
      "| macro av. recall    | 0.47896   | 0.495589 | 0.660301  |\n",
      "| micro av. f1        | 0.535885  | 0.496183 | 0.653333  |\n",
      "| macro av. f1        | 0.536545  | 0.505432 | 0.656085  |\n",
      "Evaluating in combined mode on test set\n",
      "|                     |         0 |         1 |        2 |\n",
      "|:--------------------|----------:|----------:|---------:|\n",
      "| hamming loss        | 0.240099  | 0.283416  | 0.274752 |\n",
      "| zero_one_loss       | 0.465347  | 0.732673  | 0.846535 |\n",
      "| one_error           | 0.0148515 | 0.0049505 | 0        |\n",
      "| micro av. jaccard   | 0.366013  | 0.345714  | 0.396739 |\n",
      "| macro av. jaccard   | 0.367979  | 0.35504   | 0.399453 |\n",
      "| micro av. precision | 0.608696  | 0.545045  | 0.58871  |\n",
      "| macro av. precision | 0.609929  | 0.591719  | 0.611986 |\n",
      "| micro av. recall    | 0.478632  | 0.485944  | 0.548872 |\n",
      "| macro av. recall    | 0.47896   | 0.487274  | 0.54495  |\n",
      "| micro av. f1        | 0.535885  | 0.5138    | 0.568093 |\n",
      "| macro av. f1        | 0.536545  | 0.520989  | 0.566021 |\n",
      "Number of Tasks: 3\n",
      "Forgetting in task 1: first time micro av. f1 = 0.6214, after all tasks micro av. f1 = 0.5359\n",
      "Forgetting in task 2: first time micro av. f1 = 0.5078, after all tasks micro av. f1 = 0.5359\n",
      "Forgetting in task 3: first time micro av. f1 = 0.6533, after all tasks micro av. f1 = 0.5359\n"
     ]
    },
    {
     "data": {
      "image/png": "[encoded data removed]",
      "text/plain": [
       "<Figure size 360x360 with 1 Axes>"
      ]
     },
     "metadata": {
      "needs_background": "light"
     },
     "output_type": "display_data"
    },
    {
     "data": {
      "text/plain": [
       "(None,)"
      ]
     },
     "execution_count": 4,
     "metadata": {},
     "output_type": "execute_result"
    }
   ],
   "source": [
    "hparams_dict = {\n",
    "    'inputs': 432,\n",
    "    'outputs': 6,\n",
    "    'time_constant': 300,\n",
    "    'alpha_a': 0.42,\n",
    "    'alpha_m': 0.07,\n",
    "    'w_max': 100.0,\n",
    "    'w_min': -100.0,\n",
    "    'lr': 1e-3,\n",
    "    'sim_time': 600,\n",
    "    'n_epochs': 2000,\n",
    "    'print_every': 200,\n",
    "    'name': 'Emotions',\n",
    "    'tasks': {'samples': [130, 130, 131], 'labels': [2, 2, 2]},\n",
    "    'seed': 3,\n",
    "    'ckpt_dir': './checkpoints/emotions',\n",
    "    'load_from_file': None,\n",
    "    'device': device\n",
    "}\n",
    "net = OverallSNN(hparams_dict)\n",
    "net.fit_and_evaluate(train_spikes, train_labels, test_spikes, test_labels)"
   ]
  },
  {
   "cell_type": "code",
   "execution_count": 5,
   "metadata": {},
   "outputs": [
    {
     "name": "stdout",
     "output_type": "stream",
     "text": [
      "Training and Evaluating on task 1\n",
      "Train data shape is  (130, 1, 432)\n",
      "Train Labels shape is  (130, 2)\n",
      "Classes trained are: 0 to 2\n"
     ]
    },
    {
     "name": "stderr",
     "output_type": "stream",
     "text": [
      "  0%|          | 0/2000 [00:00<?, ?it/s]"
     ]
    },
    {
     "name": "stdout",
     "output_type": "stream",
     "text": [
      "Class 0, class 1 neurons = 3, class 0 neurons = 3\n",
      "Class 1, class 1 neurons = 5, class 0 neurons = 3\n"
     ]
    },
    {
     "name": "stderr",
     "output_type": "stream",
     "text": [
      "100%|██████████| 2000/2000 [39:46<00:00,  1.19s/it]\n"
     ]
    },
    {
     "name": "stdout",
     "output_type": "stream",
     "text": [
      "Evaluating in individual mode on test set\n",
      "multilabel-indicator multilabel-indicator\n",
      "float32 int64\n",
      "(202, 2) (202, 2)\n",
      "|                     |         0 |\n",
      "|:--------------------|----------:|\n",
      "| hamming loss        | 0.225248  |\n",
      "| zero_one_loss       | 0.39604   |\n",
      "| one_error           | 0.0544554 |\n",
      "| micro av. jaccard   | 0.441718  |\n",
      "| macro av. jaccard   | 0.437921  |\n",
      "| micro av. precision | 0.692308  |\n",
      "| macro av. precision | 0.692012  |\n",
      "| micro av. recall    | 0.549618  |\n",
      "| macro av. recall    | 0.544521  |\n",
      "| micro av. f1        | 0.612766  |\n",
      "| macro av. f1        | 0.608519  |\n",
      "Evaluating in combined mode on test set\n",
      "multilabel-indicator multilabel-indicator\n",
      "float32 int64\n",
      "(202, 2) (202, 2)\n",
      "|                     |         0 |\n",
      "|:--------------------|----------:|\n",
      "| hamming loss        | 0.225248  |\n",
      "| zero_one_loss       | 0.39604   |\n",
      "| one_error           | 0.0544554 |\n",
      "| micro av. jaccard   | 0.441718  |\n",
      "| macro av. jaccard   | 0.437921  |\n",
      "| micro av. precision | 0.692308  |\n",
      "| macro av. precision | 0.692012  |\n",
      "| micro av. recall    | 0.549618  |\n",
      "| macro av. recall    | 0.544521  |\n",
      "| micro av. f1        | 0.612766  |\n",
      "| macro av. f1        | 0.608519  |\n",
      "Training and Evaluating on task 2\n",
      "Train data shape is  (130, 1, 432)\n",
      "Train Labels shape is  (130, 2)\n",
      "Classes trained are: 2 to 4\n",
      "Augmenting class labels...\n",
      "Train Labels shape is  (130, 4)\n"
     ]
    },
    {
     "name": "stderr",
     "output_type": "stream",
     "text": [
      "  0%|          | 0/2000 [00:00<?, ?it/s]"
     ]
    },
    {
     "name": "stdout",
     "output_type": "stream",
     "text": [
      "Class 0, class 1 neurons = 6, class 0 neurons = 7\n",
      "Class 1, class 1 neurons = 6, class 0 neurons = 10\n",
      "Class 2, class 1 neurons = 2, class 0 neurons = 3\n",
      "Class 3, class 1 neurons = 4, class 0 neurons = 3\n"
     ]
    },
    {
     "name": "stderr",
     "output_type": "stream",
     "text": [
      "100%|██████████| 2000/2000 [1:34:30<00:00,  2.84s/it]\n"
     ]
    },
    {
     "name": "stdout",
     "output_type": "stream",
     "text": [
      "Evaluating in individual mode on test set\n",
      "multilabel-indicator multilabel-indicator\n",
      "float32 int64\n",
      "(202, 2) (202, 2)\n",
      "|                     |        0 |\n",
      "|:--------------------|---------:|\n",
      "| hamming loss        | 0.205446 |\n",
      "| zero_one_loss       | 0.391089 |\n",
      "| one_error           | 0.019802 |\n",
      "| micro av. jaccard   | 0.442953 |\n",
      "| macro av. jaccard   | 0.446107 |\n",
      "| micro av. precision | 0.647059 |\n",
      "| macro av. precision | 0.62931  |\n",
      "| micro av. recall    | 0.584071 |\n",
      "| macro av. recall    | 0.576585 |\n",
      "| micro av. f1        | 0.613953 |\n",
      "| macro av. f1        | 0.600558 |\n",
      "Evaluating in combined mode on test set\n",
      "multilabel-indicator multilabel-indicator\n",
      "float32 int64\n",
      "(202, 4) (202, 4)\n",
      "|                     |        0 |\n",
      "|:--------------------|---------:|\n",
      "| hamming loss        | 0.220297 |\n",
      "| zero_one_loss       | 0.628713 |\n",
      "| one_error           | 0        |\n",
      "| micro av. jaccard   | 0.429487 |\n",
      "| macro av. jaccard   | 0.430517 |\n",
      "| micro av. precision | 0.663366 |\n",
      "| macro av. precision | 0.652873 |\n",
      "| micro av. recall    | 0.54918  |\n",
      "| macro av. recall    | 0.546854 |\n",
      "| micro av. f1        | 0.600897 |\n",
      "| macro av. f1        | 0.593136 |\n",
      "Training and Evaluating on task 3\n",
      "Train data shape is  (131, 1, 432)\n",
      "Train Labels shape is  (131, 2)\n",
      "Classes trained are: 4 to 6\n",
      "Augmenting class labels...\n",
      "Train Labels shape is  (131, 6)\n"
     ]
    },
    {
     "name": "stderr",
     "output_type": "stream",
     "text": [
      "  0%|          | 0/2000 [00:00<?, ?it/s]"
     ]
    },
    {
     "name": "stdout",
     "output_type": "stream",
     "text": [
      "Class 0, class 1 neurons = 8, class 0 neurons = 11\n",
      "Class 1, class 1 neurons = 7, class 0 neurons = 14\n",
      "Class 2, class 1 neurons = 3, class 0 neurons = 7\n",
      "Class 3, class 1 neurons = 7, class 0 neurons = 6\n",
      "Class 4, class 1 neurons = 1, class 0 neurons = 5\n",
      "Class 5, class 1 neurons = 2, class 0 neurons = 4\n"
     ]
    },
    {
     "name": "stderr",
     "output_type": "stream",
     "text": [
      "100%|██████████| 2000/2000 [2:39:39<00:00,  4.79s/it]  \n"
     ]
    },
    {
     "name": "stdout",
     "output_type": "stream",
     "text": [
      "Evaluating in individual mode on test set\n",
      "multilabel-indicator multilabel-indicator\n",
      "float32 int64\n",
      "(202, 2) (202, 2)\n",
      "|                     |        0 |\n",
      "|:--------------------|---------:|\n",
      "| hamming loss        | 0.316832 |\n",
      "| zero_one_loss       | 0.524752 |\n",
      "| one_error           | 0.108911 |\n",
      "| micro av. jaccard   | 0.396226 |\n",
      "| macro av. jaccard   | 0.383233 |\n",
      "| micro av. precision | 0.595745 |\n",
      "| macro av. precision | 0.578581 |\n",
      "| micro av. recall    | 0.541935 |\n",
      "| macro av. recall    | 0.525689 |\n",
      "| micro av. f1        | 0.567568 |\n",
      "| macro av. f1        | 0.550854 |\n",
      "Evaluating in combined mode on test set\n",
      "multilabel-indicator multilabel-indicator\n",
      "float32 int64\n",
      "(202, 6) (202, 6)\n",
      "|                     |        0 |\n",
      "|:--------------------|---------:|\n",
      "| hamming loss        | 0.242574 |\n",
      "| zero_one_loss       | 0.806931 |\n",
      "| one_error           | 0        |\n",
      "| micro av. jaccard   | 0.445283 |\n",
      "| macro av. jaccard   | 0.44206  |\n",
      "| micro av. precision | 0.643052 |\n",
      "| macro av. precision | 0.639238 |\n",
      "| micro av. recall    | 0.591479 |\n",
      "| macro av. recall    | 0.590117 |\n",
      "| micro av. f1        | 0.616188 |\n",
      "| macro av. f1        | 0.605855 |\n",
      "Evaluating in individual mode on test set\n",
      "|                     |         0 |        1 |        2 |\n",
      "|:--------------------|----------:|---------:|---------:|\n",
      "| hamming loss        | 0.205446  | 0.205446 | 0.316832 |\n",
      "| zero_one_loss       | 0.356436  | 0.381188 | 0.524752 |\n",
      "| one_error           | 0.0544554 | 0.029703 | 0.108911 |\n",
      "| micro av. jaccard   | 0.477987  | 0.477987 | 0.396226 |\n",
      "| macro av. jaccard   | 0.477273  | 0.465674 | 0.383233 |\n",
      "| micro av. precision | 0.730769  | 0.622951 | 0.595745 |\n",
      "| macro av. precision | 0.734074  | 0.60506  | 0.578581 |\n",
      "| micro av. recall    | 0.580153  | 0.672566 | 0.541935 |\n",
      "| macro av. recall    | 0.582546  | 0.662116 | 0.525689 |\n",
      "| micro av. f1        | 0.646809  | 0.646809 | 0.567568 |\n",
      "| macro av. f1        | 0.645833  | 0.620878 | 0.550854 |\n",
      "Evaluating in combined mode on test set\n",
      "|                     |         0 |        1 |        2 |\n",
      "|:--------------------|----------:|---------:|---------:|\n",
      "| hamming loss        | 0.205446  | 0.205446 | 0.242574 |\n",
      "| zero_one_loss       | 0.356436  | 0.618812 | 0.806931 |\n",
      "| one_error           | 0.0544554 | 0        | 0        |\n",
      "| micro av. jaccard   | 0.477987  | 0.477987 | 0.445283 |\n",
      "| macro av. jaccard   | 0.477273  | 0.471473 | 0.44206  |\n",
      "| micro av. precision | 0.730769  | 0.672566 | 0.643052 |\n",
      "| macro av. precision | 0.734074  | 0.669567 | 0.639238 |\n",
      "| micro av. recall    | 0.580153  | 0.622951 | 0.591479 |\n",
      "| macro av. recall    | 0.582546  | 0.622331 | 0.590117 |\n",
      "| micro av. f1        | 0.646809  | 0.646809 | 0.616188 |\n",
      "| macro av. f1        | 0.645833  | 0.633356 | 0.605855 |\n",
      "Number of Tasks: 3\n",
      "Forgetting in task 1: first time micro av. f1 = 0.6128, after all tasks micro av. f1 = 0.6468\n",
      "Forgetting in task 2: first time micro av. f1 = 0.6140, after all tasks micro av. f1 = 0.6468\n",
      "Forgetting in task 3: first time micro av. f1 = 0.5676, after all tasks micro av. f1 = 0.6468\n"
     ]
    },
    {
     "data": {
      "image/png": "[encoded data removed]",
      "text/plain": [
       "<Figure size 360x360 with 1 Axes>"
      ]
     },
     "metadata": {
      "needs_background": "light"
     },
     "output_type": "display_data"
    },
    {
     "data": {
      "text/plain": [
       "(None,)"
      ]
     },
     "execution_count": 5,
     "metadata": {},
     "output_type": "execute_result"
    }
   ],
   "source": [
    "hparams_dict = {\n",
    "    'inputs': 432,\n",
    "    'outputs': 6,\n",
    "    'time_constant': 300,\n",
    "    'alpha_a': 0.42,\n",
    "    'alpha_m': 0.07,\n",
    "    'w_max': 100.0,\n",
    "    'w_min': -100.0,\n",
    "    'lr': 1e-3,\n",
    "    'sim_time': 600,\n",
    "    'n_epochs': 2000,\n",
    "    'print_every': 200,\n",
    "    'name': 'Emotions',\n",
    "    'tasks': {'samples': [130, 130, 131], 'labels': [2, 2, 2]},\n",
    "    'seed': 4,\n",
    "    'ckpt_dir': './checkpoints/emotions',\n",
    "    'load_from_file': None,\n",
    "    'device': device\n",
    "}\n",
    "net = OverallSNN(hparams_dict)\n",
    "net.fit_and_evaluate(train_spikes, train_labels, test_spikes, test_labels)"
   ]
  }
 ],
 "metadata": {
  "kernelspec": {
   "display_name": "DL_gpu",
   "language": "python",
   "name": "dl_gpu"
  },
  "language_info": {
   "codemirror_mode": {
    "name": "ipython",
    "version": 3
   },
   "file_extension": ".py",
   "mimetype": "text/x-python",
   "name": "python",
   "nbconvert_exporter": "python",
   "pygments_lexer": "ipython3",
   "version": "3.7.7"
  }
 },
 "nbformat": 4,
 "nbformat_minor": 4
}
