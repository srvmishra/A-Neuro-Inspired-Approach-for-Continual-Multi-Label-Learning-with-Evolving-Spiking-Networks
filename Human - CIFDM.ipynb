{
 "cells": [
  {
   "cell_type": "code",
   "execution_count": 1,
   "metadata": {},
   "outputs": [],
   "source": [
    "from ContinualEvolvingSNN import *\n",
    "import arff\n",
    "import warnings\n",
    "from scipy.io import loadmat\n",
    "warnings.filterwarnings(\"ignore\")\n",
    "%matplotlib inline\n",
    "np.random.seed(0)\n",
    "torch.manual_seed(0)\n",
    "torch.cuda.manual_seed(0)\n",
    "device = torch.device('cuda:0' if torch.cuda.is_available() else 'cpu')"
   ]
  },
  {
   "cell_type": "markdown",
   "metadata": {},
   "source": [
    "## Load Data and Convert to Spikes"
   ]
  },
  {
   "cell_type": "code",
   "execution_count": 2,
   "metadata": {},
   "outputs": [
    {
     "name": "stderr",
     "output_type": "stream",
     "text": [
      "100%|██████████| 1862/1862 [00:00<00:00, 7341.38it/s]\n",
      "100%|██████████| 1244/1244 [00:00<00:00, 8224.97it/s]"
     ]
    },
    {
     "name": "stdout",
     "output_type": "stream",
     "text": [
      "Train data shape:  (1862, 1, 120)\n",
      "Train labels shape:  (1862, 11)\n",
      "Test data shape:  (1244, 1, 120)\n",
      "Test labels shape:  (1244, 11)\n"
     ]
    },
    {
     "name": "stderr",
     "output_type": "stream",
     "text": [
      "\n"
     ]
    }
   ],
   "source": [
    "trainpath = '../datasets/HumanPseAAC/HumanPseAAC3106_train_MVMD.mat'\n",
    "testpath = '../datasets/HumanPseAAC/HumanPseAAC3106_test_MVMD.mat'\n",
    "\n",
    "train_ = loadmat(trainpath)\n",
    "train_data, train_labels = train_['transformed_train_data'], np.array(train_['labels'])\n",
    "\n",
    "test_ = loadmat(testpath)\n",
    "test_data, test_labels = test_['transformed_test_data'], np.array(test_['labels'])\n",
    "\n",
    "a = train_data.max(axis=0)\n",
    "b = train_data.min(axis=0)\n",
    "\n",
    "train_spikes = encoding(train_data, device, a, b)\n",
    "test_spikes = encoding(test_data, device, a, b)\n",
    "\n",
    "delete_indices = [3, 8, 13]\n",
    "train_labels = np.delete(train_labels, delete_indices, 1)\n",
    "test_labels = np.delete(test_labels, delete_indices, 1)\n",
    "\n",
    "print(\"Train data shape: \", np.array(train_spikes).shape)\n",
    "print(\"Train labels shape: \", np.array(train_labels).shape)\n",
    "print(\"Test data shape: \", np.array(test_spikes).shape)\n",
    "print(\"Test labels shape: \", np.array(test_labels).shape)"
   ]
  },
  {
   "cell_type": "markdown",
   "metadata": {},
   "source": [
    "## CIFDM Training and Evaluation Mode"
   ]
  },
  {
   "cell_type": "code",
   "execution_count": 3,
   "metadata": {},
   "outputs": [
    {
     "name": "stdout",
     "output_type": "stream",
     "text": [
      "Training and Evaluating on task 1\n",
      "Train data shape is  (310, 1, 120)\n",
      "Train Labels shape is  (310, 2)\n",
      "Classes trained are: 0 to 2\n"
     ]
    },
    {
     "name": "stderr",
     "output_type": "stream",
     "text": [
      "  0%|          | 0/2500 [00:00<?, ?it/s]"
     ]
    },
    {
     "name": "stdout",
     "output_type": "stream",
     "text": [
      "Class 0, class 1 neurons = 2, class 0 neurons = 1\n",
      "Class 1, class 1 neurons = 1, class 0 neurons = 2\n"
     ]
    },
    {
     "name": "stderr",
     "output_type": "stream",
     "text": [
      "100%|██████████| 2500/2500 [24:13<00:00,  1.72it/s]\n"
     ]
    },
    {
     "name": "stdout",
     "output_type": "stream",
     "text": [
      "Evaluating in individual mode on test set\n",
      "multilabel-indicator multilabel-indicator\n",
      "uint8 int64\n",
      "(1244, 2) (1244, 2)\n",
      "|                     |         0 |\n",
      "|:--------------------|----------:|\n",
      "| hamming loss        | 0.395498  |\n",
      "| zero_one_loss       | 0.751608  |\n",
      "| one_error           | 0.0393891 |\n",
      "| micro av. jaccard   | 0.25228   |\n",
      "| macro av. jaccard   | 0.172696  |\n",
      "| micro av. precision | 0.257165  |\n",
      "| macro av. precision | 0.194859  |\n",
      "| micro av. recall    | 0.929972  |\n",
      "| macro av. recall    | 0.596774  |\n",
      "| micro av. f1        | 0.402913  |\n",
      "| macro av. f1        | 0.284566  |\n",
      "Evaluating in combined mode on test set\n",
      "multilabel-indicator multilabel-indicator\n",
      "uint8 int64\n",
      "(1244, 2) (1244, 2)\n",
      "|                     |         0 |\n",
      "|:--------------------|----------:|\n",
      "| hamming loss        | 0.395498  |\n",
      "| zero_one_loss       | 0.751608  |\n",
      "| one_error           | 0.0393891 |\n",
      "| micro av. jaccard   | 0.25228   |\n",
      "| macro av. jaccard   | 0.172696  |\n",
      "| micro av. precision | 0.257165  |\n",
      "| macro av. precision | 0.194859  |\n",
      "| micro av. recall    | 0.929972  |\n",
      "| macro av. recall    | 0.596774  |\n",
      "| micro av. f1        | 0.402913  |\n",
      "| macro av. f1        | 0.284566  |\n",
      "Training and Evaluating on task 2\n",
      "Train data shape is  (310, 1, 120)\n",
      "Train Labels shape is  (310, 2)\n",
      "Classes trained are: 2 to 4\n",
      "Augmenting class labels...\n",
      "Train Labels shape is  (310, 4)\n"
     ]
    },
    {
     "name": "stderr",
     "output_type": "stream",
     "text": [
      "  0%|          | 0/2500 [00:00<?, ?it/s]"
     ]
    },
    {
     "name": "stdout",
     "output_type": "stream",
     "text": [
      "Class 0, class 1 neurons = 2, class 0 neurons = 3\n",
      "Class 1, class 1 neurons = 2, class 0 neurons = 2\n",
      "Class 2, class 1 neurons = 1, class 0 neurons = 2\n",
      "Class 3, class 1 neurons = 1, class 0 neurons = 2\n"
     ]
    },
    {
     "name": "stderr",
     "output_type": "stream",
     "text": [
      "100%|██████████| 2500/2500 [47:02<00:00,  1.13s/it]\n"
     ]
    },
    {
     "name": "stdout",
     "output_type": "stream",
     "text": [
      "Evaluating in individual mode on test set\n",
      "multilabel-indicator multilabel-indicator\n",
      "uint8 int64\n",
      "(1244, 2) (1244, 2)\n",
      "|                     |         0 |\n",
      "|:--------------------|----------:|\n",
      "| hamming loss        | 0.0872186 |\n",
      "| zero_one_loss       | 0.174437  |\n",
      "| one_error           | 0         |\n",
      "| micro av. jaccard   | 0.114286  |\n",
      "| macro av. jaccard   | 0.0654206 |\n",
      "| micro av. precision | 0.189189  |\n",
      "| macro av. precision | 0.0945946 |\n",
      "| micro av. recall    | 0.224     |\n",
      "| macro av. recall    | 0.148936  |\n",
      "| micro av. f1        | 0.205128  |\n",
      "| macro av. f1        | 0.115702  |\n",
      "Evaluating in combined mode on test set\n",
      "multilabel-indicator multilabel-indicator\n",
      "uint8 int64\n",
      "(1244, 4) (1244, 4)\n",
      "|                     |        0 |\n",
      "|:--------------------|---------:|\n",
      "| hamming loss        | 0.243971 |\n",
      "| zero_one_loss       | 0.766077 |\n",
      "| one_error           | 0        |\n",
      "| micro av. jaccard   | 0.229206 |\n",
      "| macro av. jaccard   | 0.118574 |\n",
      "| micro av. precision | 0.248281 |\n",
      "| macro av. precision | 0.141038 |\n",
      "| micro av. recall    | 0.748963 |\n",
      "| macro av. recall    | 0.38092  |\n",
      "| micro av. f1        | 0.372934 |\n",
      "| macro av. f1        | 0.199307 |\n",
      "Training and Evaluating on task 3\n",
      "Train data shape is  (310, 1, 120)\n",
      "Train Labels shape is  (310, 2)\n",
      "Classes trained are: 4 to 6\n",
      "Augmenting class labels...\n",
      "Train Labels shape is  (310, 6)\n"
     ]
    },
    {
     "name": "stderr",
     "output_type": "stream",
     "text": [
      "  0%|          | 0/2500 [00:00<?, ?it/s]"
     ]
    },
    {
     "name": "stdout",
     "output_type": "stream",
     "text": [
      "Class 0, class 1 neurons = 2, class 0 neurons = 6\n",
      "Class 1, class 1 neurons = 4, class 0 neurons = 2\n",
      "Class 2, class 1 neurons = 1, class 0 neurons = 4\n",
      "Class 3, class 1 neurons = 2, class 0 neurons = 5\n",
      "Class 4, class 1 neurons = 3, class 0 neurons = 1\n",
      "Class 5, class 1 neurons = 1, class 0 neurons = 3\n"
     ]
    },
    {
     "name": "stderr",
     "output_type": "stream",
     "text": [
      "100%|██████████| 2500/2500 [1:20:15<00:00,  1.93s/it]\n"
     ]
    },
    {
     "name": "stdout",
     "output_type": "stream",
     "text": [
      "Evaluating in individual mode on test set\n",
      "multilabel-indicator multilabel-indicator\n",
      "uint8 int64\n",
      "(1244, 2) (1244, 2)\n",
      "|                     |         0 |\n",
      "|:--------------------|----------:|\n",
      "| hamming loss        | 0.387862  |\n",
      "| zero_one_loss       | 0.745981  |\n",
      "| one_error           | 0.0297428 |\n",
      "| micro av. jaccard   | 0.126697  |\n",
      "| macro av. jaccard   | 0.0671141 |\n",
      "| micro av. precision | 0.135922  |\n",
      "| macro av. precision | 0.0679612 |\n",
      "| micro av. recall    | 0.651163  |\n",
      "| macro av. recall    | 0.457516  |\n",
      "| micro av. f1        | 0.2249    |\n",
      "| macro av. f1        | 0.118343  |\n",
      "Evaluating in combined mode on test set\n",
      "multilabel-indicator multilabel-indicator\n",
      "uint8 int64\n",
      "(1244, 6) (1244, 6)\n",
      "|                     |         0 |\n",
      "|:--------------------|----------:|\n",
      "| hamming loss        | 0.298232  |\n",
      "| zero_one_loss       | 0.979904  |\n",
      "| one_error           | 0         |\n",
      "| micro av. jaccard   | 0.183419  |\n",
      "| macro av. jaccard   | 0.0974008 |\n",
      "| micro av. precision | 0.197707  |\n",
      "| macro av. precision | 0.108973  |\n",
      "| micro av. recall    | 0.71736   |\n",
      "| macro av. recall    | 0.415489  |\n",
      "| micro av. f1        | 0.309981  |\n",
      "| macro av. f1        | 0.165838  |\n",
      "Training and Evaluating on task 4\n",
      "Train data shape is  (310, 1, 120)\n",
      "Train Labels shape is  (310, 2)\n",
      "Classes trained are: 6 to 8\n",
      "Augmenting class labels...\n",
      "Train Labels shape is  (310, 8)\n"
     ]
    },
    {
     "name": "stderr",
     "output_type": "stream",
     "text": [
      "  0%|          | 0/2500 [00:00<?, ?it/s]"
     ]
    },
    {
     "name": "stdout",
     "output_type": "stream",
     "text": [
      "Class 0, class 1 neurons = 2, class 0 neurons = 8\n",
      "Class 1, class 1 neurons = 4, class 0 neurons = 2\n",
      "Class 2, class 1 neurons = 1, class 0 neurons = 5\n",
      "Class 3, class 1 neurons = 4, class 0 neurons = 6\n",
      "Class 4, class 1 neurons = 4, class 0 neurons = 2\n",
      "Class 5, class 1 neurons = 1, class 0 neurons = 3\n",
      "Class 6, class 1 neurons = 1, class 0 neurons = 1\n",
      "Class 7, class 1 neurons = 1, class 0 neurons = 1\n"
     ]
    },
    {
     "name": "stderr",
     "output_type": "stream",
     "text": [
      "100%|██████████| 2500/2500 [1:45:33<00:00,  2.53s/it]\n"
     ]
    },
    {
     "name": "stdout",
     "output_type": "stream",
     "text": [
      "Evaluating in individual mode on test set\n",
      "multilabel-indicator multilabel-indicator\n",
      "uint8 int64\n",
      "(1244, 2) (1244, 2)\n",
      "|                     |         0 |\n",
      "|:--------------------|----------:|\n",
      "| hamming loss        | 0.220659  |\n",
      "| zero_one_loss       | 0.42926   |\n",
      "| one_error           | 0.0120579 |\n",
      "| micro av. jaccard   | 0.191458  |\n",
      "| macro av. jaccard   | 0.166063  |\n",
      "| micro av. precision | 0.208     |\n",
      "| macro av. precision | 0.18149   |\n",
      "| micro av. recall    | 0.706522  |\n",
      "| macro av. recall    | 0.638039  |\n",
      "| micro av. f1        | 0.321384  |\n",
      "| macro av. f1        | 0.282239  |\n",
      "Evaluating in combined mode on test set\n",
      "multilabel-indicator multilabel-indicator\n",
      "uint8 int64\n",
      "(1244, 8) (1244, 8)\n",
      "|                     |        0 |\n",
      "|:--------------------|---------:|\n",
      "| hamming loss        | 0.277633 |\n",
      "| zero_one_loss       | 0.985531 |\n",
      "| one_error           | 0        |\n",
      "| micro av. jaccard   | 0.185676 |\n",
      "| macro av. jaccard   | 0.114408 |\n",
      "| micro av. precision | 0.200509 |\n",
      "| macro av. precision | 0.127848 |\n",
      "| micro av. recall    | 0.715096 |\n",
      "| macro av. recall    | 0.473829 |\n",
      "| micro av. f1        | 0.313199 |\n",
      "| macro av. f1        | 0.194473 |\n",
      "Training and Evaluating on task 5\n",
      "Train data shape is  (622, 1, 120)\n",
      "Train Labels shape is  (622, 3)\n",
      "Classes trained are: 8 to 11\n",
      "Augmenting class labels...\n",
      "Train Labels shape is  (622, 11)\n"
     ]
    },
    {
     "name": "stderr",
     "output_type": "stream",
     "text": [
      "  0%|          | 0/2500 [00:00<?, ?it/s]"
     ]
    },
    {
     "name": "stdout",
     "output_type": "stream",
     "text": [
      "Class 0, class 1 neurons = 2, class 0 neurons = 13\n",
      "Class 1, class 1 neurons = 5, class 0 neurons = 2\n",
      "Class 2, class 1 neurons = 1, class 0 neurons = 8\n",
      "Class 3, class 1 neurons = 7, class 0 neurons = 9\n",
      "Class 4, class 1 neurons = 7, class 0 neurons = 3\n",
      "Class 5, class 1 neurons = 1, class 0 neurons = 3\n",
      "Class 6, class 1 neurons = 2, class 0 neurons = 4\n",
      "Class 7, class 1 neurons = 3, class 0 neurons = 4\n",
      "Class 8, class 1 neurons = 3, class 0 neurons = 1\n",
      "Class 9, class 1 neurons = 1, class 0 neurons = 3\n",
      "Class 10, class 1 neurons = 2, class 0 neurons = 3\n"
     ]
    },
    {
     "name": "stderr",
     "output_type": "stream",
     "text": [
      "100%|██████████| 2500/2500 [5:36:57<00:00,  8.09s/it]  \n"
     ]
    },
    {
     "name": "stdout",
     "output_type": "stream",
     "text": [
      "Evaluating in individual mode on test set\n",
      "multilabel-indicator multilabel-indicator\n",
      "uint8 int64\n",
      "(1244, 3) (1244, 3)\n",
      "|                     |          0 |\n",
      "|:--------------------|-----------:|\n",
      "| hamming loss        | 0.228832   |\n",
      "| zero_one_loss       | 0.604502   |\n",
      "| one_error           | 0.00160772 |\n",
      "| micro av. jaccard   | 0.354497   |\n",
      "| macro av. jaccard   | 0.225317   |\n",
      "| micro av. precision | 0.379757   |\n",
      "| macro av. precision | 0.249652   |\n",
      "| micro av. recall    | 0.842011   |\n",
      "| macro av. recall    | 0.527006   |\n",
      "| micro av. f1        | 0.523438   |\n",
      "| macro av. f1        | 0.33594    |\n",
      "Evaluating in combined mode on test set\n",
      "multilabel-indicator multilabel-indicator\n",
      "uint8 int64\n",
      "(1244, 11) (1244, 11)\n",
      "|                     |        0 |\n",
      "|:--------------------|---------:|\n",
      "| hamming loss        | 0.257819 |\n",
      "| zero_one_loss       | 0.997588 |\n",
      "| one_error           | 0        |\n",
      "| micro av. jaccard   | 0.232209 |\n",
      "| macro av. jaccard   | 0.14161  |\n",
      "| micro av. precision | 0.252604 |\n",
      "| macro av. precision | 0.160768 |\n",
      "| micro av. recall    | 0.742003 |\n",
      "| macro av. recall    | 0.463201 |\n",
      "| micro av. f1        | 0.376899 |\n",
      "| macro av. f1        | 0.227933 |\n",
      "Evaluating in individual mode on test set\n",
      "|                     |         0 |         1 |         2 |          3 |          4 |\n",
      "|:--------------------|----------:|----------:|----------:|-----------:|-----------:|\n",
      "| hamming loss        | 0.439711  | 0.0759646 | 0.37701   | 0.182074   | 0.228832   |\n",
      "| zero_one_loss       | 0.784566  | 0.151929  | 0.721061  | 0.355305   | 0.604502   |\n",
      "| one_error           | 0.0948553 | 0         | 0.0329582 | 0.00884244 | 0.00160772 |\n",
      "| micro av. jaccard   | 0.236567  | 0.0825243 | 0.126629  | 0.189624   | 0.354497   |\n",
      "| macro av. jaccard   | 0.16542   | 0.0485714 | 0.0671937 | 0.159693   | 0.225317   |\n",
      "| micro av. precision | 0.239576  | 0.173469  | 0.136683  | 0.220374   | 0.379757   |\n",
      "| macro av. precision | 0.169041  | 0.0867347 | 0.0683417 | 0.185629   | 0.249652   |\n",
      "| micro av. recall    | 0.94958   | 0.136     | 0.632558  | 0.576087   | 0.842011   |\n",
      "| macro av. recall    | 0.709677  | 0.0904255 | 0.444444  | 0.512549   | 0.527006   |\n",
      "| micro av. f1        | 0.382619  | 0.152466  | 0.224793  | 0.318797   | 0.523438   |\n",
      "| macro av. f1        | 0.272     | 0.0885417 | 0.118467  | 0.270715   | 0.33594    |\n",
      "Evaluating in combined mode on test set\n",
      "|                     |         0 |        1 |         2 |        3 |        4 |\n",
      "|:--------------------|----------:|---------:|----------:|---------:|---------:|\n",
      "| hamming loss        | 0.439711  | 0.257838 | 0.297562  | 0.26869  | 0.257819 |\n",
      "| zero_one_loss       | 0.784566  | 0.795016 | 0.972669  | 0.983119 | 0.997588 |\n",
      "| one_error           | 0.0948553 | 0        | 0         | 0        | 0        |\n",
      "| micro av. jaccard   | 0.236567  | 0.217206 | 0.181349  | 0.182763 | 0.232209 |\n",
      "| macro av. jaccard   | 0.16542   | 0.106996 | 0.0937285 | 0.11022  | 0.14161  |\n",
      "| micro av. precision | 0.239576  | 0.235294 | 0.196172  | 0.200067 | 0.252604 |\n",
      "| macro av. precision | 0.169041  | 0.127888 | 0.108039  | 0.127437 | 0.160768 |\n",
      "| micro av. recall    | 0.94958   | 0.738589 | 0.705882  | 0.678774 | 0.742003 |\n",
      "| macro av. recall    | 0.709677  | 0.400051 | 0.414849  | 0.439274 | 0.463201 |\n",
      "| micro av. f1        | 0.382619  | 0.356892 | 0.30702   | 0.309044 | 0.376899 |\n",
      "| macro av. f1        | 0.272     | 0.180271 | 0.159669  | 0.187431 | 0.227933 |\n",
      "Number of Tasks: 5\n",
      "Forgetting in task 1: first time micro av. f1 = 0.4029, after all tasks micro av. f1 = 0.3826\n",
      "Forgetting in task 2: first time micro av. f1 = 0.2051, after all tasks micro av. f1 = 0.3826\n",
      "Forgetting in task 3: first time micro av. f1 = 0.2249, after all tasks micro av. f1 = 0.3826\n",
      "Forgetting in task 4: first time micro av. f1 = 0.3214, after all tasks micro av. f1 = 0.3826\n",
      "Forgetting in task 5: first time micro av. f1 = 0.5234, after all tasks micro av. f1 = 0.3826\n"
     ]
    },
    {
     "data": {
      "image/png": "[encoded data removed]",
      "text/plain": [
       "<Figure size 360x360 with 1 Axes>"
      ]
     },
     "metadata": {
      "needs_background": "light"
     },
     "output_type": "display_data"
    }
   ],
   "source": [
    "hparams_dict = {\n",
    "    'inputs': 120,\n",
    "    'outputs': 11,\n",
    "    'time_constant': 300,\n",
    "    'alpha_a': 0.42,\n",
    "    'alpha_m': 0.07,\n",
    "    'w_max': 100.0,\n",
    "    'w_min': -100.0,\n",
    "    'lr': 5e-4,\n",
    "    'sim_time': 600,\n",
    "    'n_epochs': 2500,\n",
    "    'print_every': 500,\n",
    "    'name': 'Plants',\n",
    "    'tasks': {'samples': [310]*4 + [622], 'labels': [2]*4 + [3]},\n",
    "    'seed': 2,\n",
    "    'ckpt_dir': './checkpoints/human/mvmd',\n",
    "    'load_from_file': None,\n",
    "    'device': device\n",
    "}\n",
    "net = OverallSNN(hparams_dict)\n",
    "net.fit_and_evaluate(train_spikes, train_labels, test_spikes, test_labels)"
   ]
  }
 ],
 "metadata": {
  "kernelspec": {
   "display_name": "DL_gpu",
   "language": "python",
   "name": "dl_gpu"
  },
  "language_info": {
   "codemirror_mode": {
    "name": "ipython",
    "version": 3
   },
   "file_extension": ".py",
   "mimetype": "text/x-python",
   "name": "python",
   "nbconvert_exporter": "python",
   "pygments_lexer": "ipython3",
   "version": "3.7.7"
  }
 },
 "nbformat": 4,
 "nbformat_minor": 4
}
