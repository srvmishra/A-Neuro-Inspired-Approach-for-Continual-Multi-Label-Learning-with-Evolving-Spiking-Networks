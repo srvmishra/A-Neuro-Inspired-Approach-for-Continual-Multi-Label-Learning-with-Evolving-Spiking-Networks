{
 "cells": [
  {
   "cell_type": "code",
   "execution_count": 1,
   "metadata": {},
   "outputs": [],
   "source": [
    "from ContinualEvolvingSNN import *\n",
    "import arff\n",
    "import warnings\n",
    "from scipy.io import loadmat\n",
    "warnings.filterwarnings(\"ignore\")\n",
    "%matplotlib inline\n",
    "np.random.seed(0)\n",
    "torch.manual_seed(0)\n",
    "torch.cuda.manual_seed(0)\n",
    "device = torch.device('cuda:0' if torch.cuda.is_available() else 'cpu')"
   ]
  },
  {
   "cell_type": "markdown",
   "metadata": {},
   "source": [
    "## Load Data and Convert to Spikes"
   ]
  },
  {
   "cell_type": "code",
   "execution_count": 2,
   "metadata": {},
   "outputs": [
    {
     "name": "stderr",
     "output_type": "stream",
     "text": [
      "100%|██████████| 1211/1211 [00:00<00:00, 5174.27it/s]\n",
      "100%|██████████| 1196/1196 [00:00<00:00, 6338.67it/s]"
     ]
    },
    {
     "name": "stdout",
     "output_type": "stream",
     "text": [
      "Train data shape:  (1211, 1, 300)\n",
      "Train labels shape:  (1211, 6)\n",
      "Test data shape:  (1196, 1, 300)\n",
      "Test labels shape:  (1196, 6)\n"
     ]
    },
    {
     "name": "stderr",
     "output_type": "stream",
     "text": [
      "\n"
     ]
    }
   ],
   "source": [
    "trainpath = '../datasets/scene/scene_train_MVMD.mat'\n",
    "testpath = '../datasets/scene/scene_test_MVMD.mat'\n",
    "\n",
    "train_ = loadmat(trainpath)\n",
    "train_data, train_labels = train_['transformed_train_data'], np.array(train_['labels'])\n",
    "\n",
    "test_ = loadmat(testpath)\n",
    "test_data, test_labels = test_['transformed_test_data'], np.array(test_['labels'])\n",
    "\n",
    "a = train_data.max(axis=0)\n",
    "b = train_data.min(axis=0)\n",
    "\n",
    "train_spikes = encoding(train_data, device, a, b)\n",
    "test_spikes = encoding(test_data, device, a, b)\n",
    "print(\"Train data shape: \", np.array(train_spikes).shape)\n",
    "print(\"Train labels shape: \", np.array(train_labels).shape)\n",
    "print(\"Test data shape: \", np.array(test_spikes).shape)\n",
    "print(\"Test labels shape: \", np.array(test_labels).shape)"
   ]
  },
  {
   "cell_type": "markdown",
   "metadata": {},
   "source": [
    "## DSLL Training and Evaluation Mode"
   ]
  },
  {
   "cell_type": "code",
   "execution_count": 3,
   "metadata": {},
   "outputs": [
    {
     "name": "stdout",
     "output_type": "stream",
     "text": [
      "Training and Evaluating on task 1\n",
      "Train data shape is  (1211, 1, 300)\n",
      "Train Labels shape is  (1211, 2)\n",
      "Classes trained are: 0 to 2\n"
     ]
    },
    {
     "name": "stderr",
     "output_type": "stream",
     "text": [
      "  0%|          | 0/2500 [00:00<?, ?it/s]"
     ]
    },
    {
     "name": "stdout",
     "output_type": "stream",
     "text": [
      "Class 0, class 1 neurons = 1, class 0 neurons = 8\n",
      "Class 1, class 1 neurons = 7, class 0 neurons = 5\n"
     ]
    },
    {
     "name": "stderr",
     "output_type": "stream",
     "text": [
      "100%|██████████| 2500/2500 [9:11:34<00:00, 13.24s/it]  \n"
     ]
    },
    {
     "name": "stdout",
     "output_type": "stream",
     "text": [
      "Evaluating in individual mode on test set\n",
      "multilabel-indicator multilabel-indicator\n",
      "float32 int64\n",
      "(1196, 2) (1196, 2)\n",
      "|                     |          0 |\n",
      "|:--------------------|-----------:|\n",
      "| hamming loss        | 0.0769231  |\n",
      "| zero_one_loss       | 0.151338   |\n",
      "| one_error           | 0.00250836 |\n",
      "| micro av. jaccard   | 0.60515    |\n",
      "| macro av. jaccard   | 0.616412   |\n",
      "| micro av. precision | 0.808023   |\n",
      "| macro av. precision | 0.823427   |\n",
      "| micro av. recall    | 0.706767   |\n",
      "| macro av. recall    | 0.706847   |\n",
      "| micro av. f1        | 0.754011   |\n",
      "| macro av. f1        | 0.758203   |\n",
      "Evaluating in combined mode on test set\n",
      "multilabel-indicator multilabel-indicator\n",
      "float32 int64\n",
      "(1196, 2) (1196, 2)\n",
      "|                     |          0 |\n",
      "|:--------------------|-----------:|\n",
      "| hamming loss        | 0.0769231  |\n",
      "| zero_one_loss       | 0.151338   |\n",
      "| one_error           | 0.00250836 |\n",
      "| micro av. jaccard   | 0.60515    |\n",
      "| macro av. jaccard   | 0.616412   |\n",
      "| micro av. precision | 0.808023   |\n",
      "| macro av. precision | 0.823427   |\n",
      "| micro av. recall    | 0.706767   |\n",
      "| macro av. recall    | 0.706847   |\n",
      "| micro av. f1        | 0.754011   |\n",
      "| macro av. f1        | 0.758203   |\n",
      "Training and Evaluating on task 2\n",
      "Train data shape is  (1211, 1, 300)\n",
      "Train Labels shape is  (1211, 2)\n",
      "Classes trained are: 2 to 4\n",
      "Augmenting class labels...\n",
      "Train Labels shape is  (1211, 4)\n"
     ]
    },
    {
     "name": "stderr",
     "output_type": "stream",
     "text": [
      "  0%|          | 0/2500 [00:00<?, ?it/s]"
     ]
    },
    {
     "name": "stdout",
     "output_type": "stream",
     "text": [
      "Class 0, class 1 neurons = 3, class 0 neurons = 10\n",
      "Class 1, class 1 neurons = 9, class 0 neurons = 12\n",
      "Class 2, class 1 neurons = 2, class 0 neurons = 7\n",
      "Class 3, class 1 neurons = 3, class 0 neurons = 8\n"
     ]
    },
    {
     "name": "stderr",
     "output_type": "stream",
     "text": [
      "100%|██████████| 2500/2500 [15:10:07<00:00, 21.84s/it]   \n"
     ]
    },
    {
     "name": "stdout",
     "output_type": "stream",
     "text": [
      "Evaluating in individual mode on test set\n",
      "multilabel-indicator multilabel-indicator\n",
      "float32 int64\n",
      "(1196, 2) (1196, 2)\n",
      "|                     |          0 |\n",
      "|:--------------------|-----------:|\n",
      "| hamming loss        | 0.0714883  |\n",
      "| zero_one_loss       | 0.133779   |\n",
      "| one_error           | 0.00919732 |\n",
      "| micro av. jaccard   | 0.664706   |\n",
      "| macro av. jaccard   | 0.665013   |\n",
      "| micro av. precision | 0.822816   |\n",
      "| macro av. precision | 0.823152   |\n",
      "| micro av. recall    | 0.775744   |\n",
      "| macro av. recall    | 0.779198   |\n",
      "| micro av. f1        | 0.798587   |\n",
      "| macro av. f1        | 0.798786   |\n",
      "Evaluating in combined mode on test set\n",
      "multilabel-indicator multilabel-indicator\n",
      "float32 int64\n",
      "(1196, 4) (1196, 4)\n",
      "|                     |        0 |\n",
      "|:--------------------|---------:|\n",
      "| hamming loss        | 0.076087 |\n",
      "| zero_one_loss       | 0.269231 |\n",
      "| one_error           | 0        |\n",
      "| micro av. jaccard   | 0.622798 |\n",
      "| macro av. jaccard   | 0.625534 |\n",
      "| micro av. precision | 0.823288 |\n",
      "| macro av. precision | 0.822485 |\n",
      "| micro av. recall    | 0.7189   |\n",
      "| macro av. recall    | 0.718048 |\n",
      "| micro av. f1        | 0.767561 |\n",
      "| macro av. f1        | 0.764433 |\n",
      "Training and Evaluating on task 3\n",
      "Train data shape is  (1211, 1, 300)\n",
      "Train Labels shape is  (1211, 2)\n",
      "Classes trained are: 4 to 6\n",
      "Augmenting class labels...\n",
      "Train Labels shape is  (1211, 6)\n"
     ]
    },
    {
     "name": "stderr",
     "output_type": "stream",
     "text": [
      "  0%|          | 0/2500 [00:00<?, ?it/s]"
     ]
    },
    {
     "name": "stdout",
     "output_type": "stream",
     "text": [
      "Class 0, class 1 neurons = 5, class 0 neurons = 13\n",
      "Class 1, class 1 neurons = 13, class 0 neurons = 18\n",
      "Class 2, class 1 neurons = 8, class 0 neurons = 9\n",
      "Class 3, class 1 neurons = 6, class 0 neurons = 11\n",
      "Class 4, class 1 neurons = 6, class 0 neurons = 1\n",
      "Class 5, class 1 neurons = 3, class 0 neurons = 1\n"
     ]
    },
    {
     "name": "stderr",
     "output_type": "stream",
     "text": [
      "100%|██████████| 2500/2500 [9:41:58<00:00, 13.97s/it]  \n"
     ]
    },
    {
     "name": "stdout",
     "output_type": "stream",
     "text": [
      "Evaluating in individual mode on test set\n",
      "multilabel-indicator multilabel-indicator\n",
      "float32 int64\n",
      "(1196, 2) (1196, 2)\n",
      "|                     |         0 |\n",
      "|:--------------------|----------:|\n",
      "| hamming loss        | 0.159699  |\n",
      "| zero_one_loss       | 0.281773  |\n",
      "| one_error           | 0.0376254 |\n",
      "| micro av. jaccard   | 0.371711  |\n",
      "| macro av. jaccard   | 0.379763  |\n",
      "| micro av. precision | 0.609164  |\n",
      "| macro av. precision | 0.610439  |\n",
      "| micro av. recall    | 0.488121  |\n",
      "| macro av. recall    | 0.496886  |\n",
      "| micro av. f1        | 0.541966  |\n",
      "| macro av. f1        | 0.546947  |\n",
      "Evaluating in combined mode on test set\n",
      "multilabel-indicator multilabel-indicator\n",
      "float32 int64\n",
      "(1196, 6) (1196, 6)\n",
      "|                     |        0 |\n",
      "|:--------------------|---------:|\n",
      "| hamming loss        | 0.104794 |\n",
      "| zero_one_loss       | 0.479097 |\n",
      "| one_error           | 0        |\n",
      "| micro av. jaccard   | 0.517949 |\n",
      "| macro av. jaccard   | 0.536168 |\n",
      "| micro av. precision | 0.755847 |\n",
      "| macro av. precision | 0.754916 |\n",
      "| micro av. recall    | 0.622017 |\n",
      "| macro av. recall    | 0.629031 |\n",
      "| micro av. f1        | 0.682432 |\n",
      "| macro av. f1        | 0.683884 |\n",
      "Evaluating in individual mode on test set\n",
      "|                     |          0 |          1 |         2 |\n",
      "|:--------------------|-----------:|-----------:|----------:|\n",
      "| hamming loss        | 0.0840301  | 0.0706522  | 0.159699  |\n",
      "| zero_one_loss       | 0.167224   | 0.133779   | 0.281773  |\n",
      "| one_error           | 0.00083612 | 0.00752508 | 0.0376254 |\n",
      "| micro av. jaccard   | 0.554324   | 0.662675   | 0.371711  |\n",
      "| macro av. jaccard   | 0.565215   | 0.663526   | 0.379763  |\n",
      "| micro av. precision | 0.827815   | 0.838384   | 0.609164  |\n",
      "| macro av. precision | 0.815924   | 0.838384   | 0.610439  |\n",
      "| micro av. recall    | 0.626566   | 0.759725   | 0.488121  |\n",
      "| macro av. recall    | 0.626947   | 0.763259   | 0.496886  |\n",
      "| micro av. f1        | 0.713267   | 0.797119   | 0.541966  |\n",
      "| macro av. f1        | 0.707079   | 0.797626   | 0.546947  |\n",
      "Evaluating in combined mode on test set\n",
      "|                     |          0 |         1 |        2 |\n",
      "|:--------------------|-----------:|----------:|---------:|\n",
      "| hamming loss        | 0.0840301  | 0.0773411 | 0.104794 |\n",
      "| zero_one_loss       | 0.167224   | 0.2801    | 0.479097 |\n",
      "| one_error           | 0.00083612 | 0         | 0        |\n",
      "| micro av. jaccard   | 0.554324   | 0.611345  | 0.517949 |\n",
      "| macro av. jaccard   | 0.565215   | 0.614371  | 0.536168 |\n",
      "| micro av. precision | 0.827815   | 0.833811  | 0.755847 |\n",
      "| macro av. precision | 0.815924   | 0.827154  | 0.754916 |\n",
      "| micro av. recall    | 0.626566   | 0.696172  | 0.622017 |\n",
      "| macro av. recall    | 0.626947   | 0.695103  | 0.629031 |\n",
      "| micro av. f1        | 0.713267   | 0.758801  | 0.682432 |\n",
      "| macro av. f1        | 0.707079   | 0.752353  | 0.683884 |\n",
      "Number of Tasks: 3\n",
      "Forgetting in task 1: first time micro av. f1 = 0.7540, after all tasks micro av. f1 = 0.7133\n",
      "Forgetting in task 2: first time micro av. f1 = 0.7986, after all tasks micro av. f1 = 0.7133\n",
      "Forgetting in task 3: first time micro av. f1 = 0.5420, after all tasks micro av. f1 = 0.7133\n"
     ]
    },
    {
     "data": {
      "image/png": "[encoded data removed]",
      "text/plain": [
       "<Figure size 360x360 with 1 Axes>"
      ]
     },
     "metadata": {
      "needs_background": "light"
     },
     "output_type": "display_data"
    }
   ],
   "source": [
    "hparams_dict = {\n",
    "    'inputs': 300,\n",
    "    'outputs': 6,\n",
    "    'time_constant': 300,\n",
    "    'alpha_a': 0.42,\n",
    "    'alpha_m': 0.07,\n",
    "    'w_max': 100.0,\n",
    "    'w_min': -100.0,\n",
    "    'lr': 5e-4,\n",
    "    'sim_time': 600,\n",
    "    'n_epochs': 2500,\n",
    "    'print_every': 500,\n",
    "    'name': 'Scene',\n",
    "    'tasks': {'samples': None, 'labels': [2, 2, 2]},\n",
    "    'seed': 2,\n",
    "    'ckpt_dir': './checkpoints/scene',\n",
    "    'load_from_file': None,\n",
    "    'device': device\n",
    "}\n",
    "net = OverallSNN(hparams_dict)\n",
    "net.fit_and_evaluate(train_spikes, train_labels, test_spikes, test_labels)"
   ]
  },
  {
   "cell_type": "code",
   "execution_count": 4,
   "metadata": {},
   "outputs": [
    {
     "name": "stdout",
     "output_type": "stream",
     "text": [
      "Training and Evaluating on task 1\n",
      "Train data shape is  (1211, 1, 300)\n",
      "Train Labels shape is  (1211, 2)\n",
      "Classes trained are: 0 to 2\n"
     ]
    },
    {
     "name": "stderr",
     "output_type": "stream",
     "text": [
      "  0%|          | 0/2500 [00:00<?, ?it/s]"
     ]
    },
    {
     "name": "stdout",
     "output_type": "stream",
     "text": [
      "Class 0, class 1 neurons = 3, class 0 neurons = 8\n",
      "Class 1, class 1 neurons = 3, class 0 neurons = 1\n"
     ]
    },
    {
     "name": "stderr",
     "output_type": "stream",
     "text": [
      "100%|██████████| 2500/2500 [2:18:17<00:00,  3.32s/it]  \n"
     ]
    },
    {
     "name": "stdout",
     "output_type": "stream",
     "text": [
      "Evaluating in individual mode on test set\n",
      "multilabel-indicator multilabel-indicator\n",
      "float32 int64\n",
      "(1196, 2) (1196, 2)\n",
      "|                     |          0 |\n",
      "|:--------------------|-----------:|\n",
      "| hamming loss        | 0.104097   |\n",
      "| zero_one_loss       | 0.204849   |\n",
      "| one_error           | 0.00334448 |\n",
      "| micro av. jaccard   | 0.524809   |\n",
      "| macro av. jaccard   | 0.523212   |\n",
      "| micro av. precision | 0.774648   |\n",
      "| macro av. precision | 0.765643   |\n",
      "| micro av. recall    | 0.619369   |\n",
      "| macro av. recall    | 0.61319    |\n",
      "| micro av. f1        | 0.68836    |\n",
      "| macro av. f1        | 0.680763   |\n",
      "Evaluating in combined mode on test set\n",
      "multilabel-indicator multilabel-indicator\n",
      "float32 int64\n",
      "(1196, 2) (1196, 2)\n",
      "|                     |          0 |\n",
      "|:--------------------|-----------:|\n",
      "| hamming loss        | 0.104097   |\n",
      "| zero_one_loss       | 0.204849   |\n",
      "| one_error           | 0.00334448 |\n",
      "| micro av. jaccard   | 0.524809   |\n",
      "| macro av. jaccard   | 0.523212   |\n",
      "| micro av. precision | 0.774648   |\n",
      "| macro av. precision | 0.765643   |\n",
      "| micro av. recall    | 0.619369   |\n",
      "| macro av. recall    | 0.61319    |\n",
      "| micro av. f1        | 0.68836    |\n",
      "| macro av. f1        | 0.680763   |\n",
      "Training and Evaluating on task 2\n",
      "Train data shape is  (1211, 1, 300)\n",
      "Train Labels shape is  (1211, 2)\n",
      "Classes trained are: 2 to 4\n",
      "Augmenting class labels...\n",
      "Train Labels shape is  (1211, 4)\n"
     ]
    },
    {
     "name": "stderr",
     "output_type": "stream",
     "text": [
      "  0%|          | 0/2500 [00:00<?, ?it/s]"
     ]
    },
    {
     "name": "stdout",
     "output_type": "stream",
     "text": [
      "Class 0, class 1 neurons = 7, class 0 neurons = 13\n",
      "Class 1, class 1 neurons = 5, class 0 neurons = 2\n",
      "Class 2, class 1 neurons = 6, class 0 neurons = 1\n",
      "Class 3, class 1 neurons = 7, class 0 neurons = 5\n"
     ]
    },
    {
     "name": "stderr",
     "output_type": "stream",
     "text": [
      "100%|██████████| 2500/2500 [5:26:58<00:00,  7.85s/it]  \n"
     ]
    },
    {
     "name": "stdout",
     "output_type": "stream",
     "text": [
      "Evaluating in individual mode on test set\n",
      "multilabel-indicator multilabel-indicator\n",
      "float32 int64\n",
      "(1196, 2) (1196, 2)\n",
      "|                     |          0 |\n",
      "|:--------------------|-----------:|\n",
      "| hamming loss        | 0.122492   |\n",
      "| zero_one_loss       | 0.239967   |\n",
      "| one_error           | 0.00501672 |\n",
      "| micro av. jaccard   | 0.478648   |\n",
      "| macro av. jaccard   | 0.529405   |\n",
      "| micro av. precision | 0.715426   |\n",
      "| macro av. precision | 0.753935   |\n",
      "| micro av. recall    | 0.591209   |\n",
      "| macro av. recall    | 0.607628   |\n",
      "| micro av. f1        | 0.647413   |\n",
      "| macro av. f1        | 0.672311   |\n",
      "Evaluating in combined mode on test set\n",
      "multilabel-indicator multilabel-indicator\n",
      "float32 int64\n",
      "(1196, 4) (1196, 4)\n",
      "|                     |        0 |\n",
      "|:--------------------|---------:|\n",
      "| hamming loss        | 0.115385 |\n",
      "| zero_one_loss       | 0.393813 |\n",
      "| one_error           | 0        |\n",
      "| micro av. jaccard   | 0.492647 |\n",
      "| macro av. jaccard   | 0.518151 |\n",
      "| micro av. precision | 0.73931  |\n",
      "| macro av. precision | 0.756201 |\n",
      "| micro av. recall    | 0.596218 |\n",
      "| macro av. recall    | 0.60197  |\n",
      "| micro av. f1        | 0.660099 |\n",
      "| macro av. f1        | 0.669997 |\n",
      "Training and Evaluating on task 3\n",
      "Train data shape is  (1211, 1, 300)\n",
      "Train Labels shape is  (1211, 2)\n",
      "Classes trained are: 4 to 6\n",
      "Augmenting class labels...\n",
      "Train Labels shape is  (1211, 6)\n"
     ]
    },
    {
     "name": "stderr",
     "output_type": "stream",
     "text": [
      "  0%|          | 0/2500 [00:00<?, ?it/s]"
     ]
    },
    {
     "name": "stdout",
     "output_type": "stream",
     "text": [
      "Class 0, class 1 neurons = 9, class 0 neurons = 19\n",
      "Class 1, class 1 neurons = 7, class 0 neurons = 4\n",
      "Class 2, class 1 neurons = 9, class 0 neurons = 2\n",
      "Class 3, class 1 neurons = 9, class 0 neurons = 12\n",
      "Class 4, class 1 neurons = 1, class 0 neurons = 8\n",
      "Class 5, class 1 neurons = 2, class 0 neurons = 7\n"
     ]
    },
    {
     "name": "stderr",
     "output_type": "stream",
     "text": [
      "100%|██████████| 2500/2500 [24:42:40<00:00, 35.58s/it]   \n"
     ]
    },
    {
     "name": "stdout",
     "output_type": "stream",
     "text": [
      "Evaluating in individual mode on test set\n",
      "multilabel-indicator multilabel-indicator\n",
      "float32 int64\n",
      "(1196, 2) (1196, 2)\n",
      "|                     |          0 |\n",
      "|:--------------------|-----------:|\n",
      "| hamming loss        | 0.0806856  |\n",
      "| zero_one_loss       | 0.155518   |\n",
      "| one_error           | 0.00585284 |\n",
      "| micro av. jaccard   | 0.610887   |\n",
      "| macro av. jaccard   | 0.613918   |\n",
      "| micro av. precision | 0.759398   |\n",
      "| macro av. precision | 0.758732   |\n",
      "| micro av. recall    | 0.7575     |\n",
      "| macro av. recall    | 0.7575     |\n",
      "| micro av. f1        | 0.758448   |\n",
      "| macro av. f1        | 0.758086   |\n",
      "Evaluating in combined mode on test set\n",
      "multilabel-indicator multilabel-indicator\n",
      "float32 int64\n",
      "(1196, 6) (1196, 6)\n",
      "|                     |        0 |\n",
      "|:--------------------|---------:|\n",
      "| hamming loss        | 0.104654 |\n",
      "| zero_one_loss       | 0.494147 |\n",
      "| one_error           | 0        |\n",
      "| micro av. jaccard   | 0.508508 |\n",
      "| macro av. jaccard   | 0.525285 |\n",
      "| micro av. precision | 0.772366 |\n",
      "| macro av. precision | 0.757945 |\n",
      "| micro av. recall    | 0.598152 |\n",
      "| macro av. recall    | 0.614565 |\n",
      "| micro av. f1        | 0.674187 |\n",
      "| macro av. f1        | 0.668004 |\n",
      "Evaluating in individual mode on test set\n",
      "|                     |          0 |          1 |          2 |\n",
      "|:--------------------|-----------:|-----------:|-----------:|\n",
      "| hamming loss        | 0.108696   | 0.124582   | 0.0806856  |\n",
      "| zero_one_loss       | 0.214047   | 0.248328   | 0.155518   |\n",
      "| one_error           | 0.00334448 | 0.00083612 | 0.00585284 |\n",
      "| micro av. jaccard   | 0.504762   | 0.412229   | 0.610887   |\n",
      "| macro av. jaccard   | 0.503375   | 0.458562   | 0.613918   |\n",
      "| micro av. precision | 0.765896   | 0.800766   | 0.759398   |\n",
      "| macro av. precision | 0.75998    | 0.755123   | 0.758732   |\n",
      "| micro av. recall    | 0.596847   | 0.459341   | 0.7575     |\n",
      "| macro av. recall    | 0.592399   | 0.493797   | 0.7575     |\n",
      "| micro av. f1        | 0.670886   | 0.583799   | 0.758448   |\n",
      "| macro av. f1        | 0.665797   | 0.580128   | 0.758086   |\n",
      "Evaluating in combined mode on test set\n",
      "|                     |          0 |        1 |        2 |\n",
      "|:--------------------|-----------:|---------:|---------:|\n",
      "| hamming loss        | 0.108696   | 0.116639 | 0.104654 |\n",
      "| zero_one_loss       | 0.214047   | 0.414716 | 0.494147 |\n",
      "| one_error           | 0.00334448 | 0        | 0        |\n",
      "| micro av. jaccard   | 0.504762   | 0.459302 | 0.508508 |\n",
      "| macro av. jaccard   | 0.503375   | 0.480968 | 0.525285 |\n",
      "| micro av. precision | 0.765896   | 0.78089  | 0.772366 |\n",
      "| macro av. precision | 0.75998    | 0.757552 | 0.757945 |\n",
      "| micro av. recall    | 0.596847   | 0.527253 | 0.598152 |\n",
      "| macro av. recall    | 0.592399   | 0.543098 | 0.614565 |\n",
      "| micro av. f1        | 0.670886   | 0.629482 | 0.674187 |\n",
      "| macro av. f1        | 0.665797   | 0.622962 | 0.668004 |\n",
      "Number of Tasks: 3\n",
      "Forgetting in task 1: first time micro av. f1 = 0.6884, after all tasks micro av. f1 = 0.6709\n",
      "Forgetting in task 2: first time micro av. f1 = 0.6474, after all tasks micro av. f1 = 0.6709\n",
      "Forgetting in task 3: first time micro av. f1 = 0.7584, after all tasks micro av. f1 = 0.6709\n"
     ]
    },
    {
     "data": {
      "image/png": "[encoded data removed]",
      "text/plain": [
       "<Figure size 360x360 with 1 Axes>"
      ]
     },
     "metadata": {
      "needs_background": "light"
     },
     "output_type": "display_data"
    }
   ],
   "source": [
    "hparams_dict = {\n",
    "    'inputs': 300,\n",
    "    'outputs': 6,\n",
    "    'time_constant': 300,\n",
    "    'alpha_a': 0.42,\n",
    "    'alpha_m': 0.07,\n",
    "    'w_max': 100.0,\n",
    "    'w_min': -100.0,\n",
    "    'lr': 5e-4,\n",
    "    'sim_time': 600,\n",
    "    'n_epochs': 2500,\n",
    "    'print_every': 500,\n",
    "    'name': 'Scene',\n",
    "    'tasks': {'samples': None, 'labels': [2, 2, 2]},\n",
    "    'seed': 3,\n",
    "    'ckpt_dir': './checkpoints/scene',\n",
    "    'load_from_file': None,\n",
    "    'device': device\n",
    "}\n",
    "net = OverallSNN(hparams_dict)\n",
    "net.fit_and_evaluate(train_spikes, train_labels, test_spikes, test_labels)"
   ]
  },
  {
   "cell_type": "code",
   "execution_count": 3,
   "metadata": {},
   "outputs": [
    {
     "name": "stdout",
     "output_type": "stream",
     "text": [
      "Training and Evaluating on task 1\n",
      "Train data shape is  (1211, 1, 300)\n",
      "Train Labels shape is  (1211, 2)\n",
      "Classes trained are: 0 to 2\n"
     ]
    },
    {
     "name": "stderr",
     "output_type": "stream",
     "text": [
      "  0%|          | 0/2500 [00:00<?, ?it/s]"
     ]
    },
    {
     "name": "stdout",
     "output_type": "stream",
     "text": [
      "Class 0, class 1 neurons = 6, class 0 neurons = 1\n",
      "Class 1, class 1 neurons = 3, class 0 neurons = 1\n"
     ]
    },
    {
     "name": "stderr",
     "output_type": "stream",
     "text": [
      "100%|██████████| 2500/2500 [1:58:33<00:00,  2.85s/it]\n"
     ]
    },
    {
     "name": "stdout",
     "output_type": "stream",
     "text": [
      "Evaluating in individual mode on test set\n",
      "multilabel-indicator multilabel-indicator\n",
      "float32 int64\n",
      "(1196, 2) (1196, 2)\n",
      "|                     |         0 |\n",
      "|:--------------------|----------:|\n",
      "| hamming loss        | 0.163043  |\n",
      "| zero_one_loss       | 0.282609  |\n",
      "| one_error           | 0.0434783 |\n",
      "| micro av. jaccard   | 0.37299   |\n",
      "| macro av. jaccard   | 0.378676  |\n",
      "| micro av. precision | 0.59335   |\n",
      "| macro av. precision | 0.593433  |\n",
      "| micro av. recall    | 0.50108   |\n",
      "| macro av. recall    | 0.50953   |\n",
      "| micro av. f1        | 0.543326  |\n",
      "| macro av. f1        | 0.546845  |\n",
      "Evaluating in combined mode on test set\n",
      "multilabel-indicator multilabel-indicator\n",
      "float32 int64\n",
      "(1196, 2) (1196, 2)\n",
      "|                     |         0 |\n",
      "|:--------------------|----------:|\n",
      "| hamming loss        | 0.163043  |\n",
      "| zero_one_loss       | 0.282609  |\n",
      "| one_error           | 0.0434783 |\n",
      "| micro av. jaccard   | 0.37299   |\n",
      "| macro av. jaccard   | 0.378676  |\n",
      "| micro av. precision | 0.59335   |\n",
      "| macro av. precision | 0.593433  |\n",
      "| micro av. recall    | 0.50108   |\n",
      "| macro av. recall    | 0.50953   |\n",
      "| micro av. f1        | 0.543326  |\n",
      "| macro av. f1        | 0.546845  |\n",
      "Training and Evaluating on task 2\n",
      "Train data shape is  (1211, 1, 300)\n",
      "Train Labels shape is  (1211, 2)\n",
      "Classes trained are: 2 to 4\n",
      "Augmenting class labels...\n",
      "Train Labels shape is  (1211, 4)\n"
     ]
    },
    {
     "name": "stderr",
     "output_type": "stream",
     "text": [
      "  0%|          | 0/2500 [00:00<?, ?it/s]"
     ]
    },
    {
     "name": "stdout",
     "output_type": "stream",
     "text": [
      "Class 0, class 1 neurons = 9, class 0 neurons = 2\n",
      "Class 1, class 1 neurons = 6, class 0 neurons = 2\n",
      "Class 2, class 1 neurons = 3, class 0 neurons = 8\n",
      "Class 3, class 1 neurons = 1, class 0 neurons = 8\n"
     ]
    },
    {
     "name": "stderr",
     "output_type": "stream",
     "text": [
      "100%|██████████| 2500/2500 [4:51:09<00:00,  6.99s/it]  \n"
     ]
    },
    {
     "name": "stdout",
     "output_type": "stream",
     "text": [
      "Evaluating in individual mode on test set\n",
      "multilabel-indicator multilabel-indicator\n",
      "float32 int64\n",
      "(1196, 2) (1196, 2)\n",
      "|                     |         0 |\n",
      "|:--------------------|----------:|\n",
      "| hamming loss        | 0.0944816 |\n",
      "| zero_one_loss       | 0.174749  |\n",
      "| one_error           | 0.014214  |\n",
      "| micro av. jaccard   | 0.56705   |\n",
      "| macro av. jaccard   | 0.566067  |\n",
      "| micro av. precision | 0.776903  |\n",
      "| macro av. precision | 0.774979  |\n",
      "| micro av. recall    | 0.677346  |\n",
      "| macro av. recall    | 0.674821  |\n",
      "| micro av. f1        | 0.723716  |\n",
      "| macro av. f1        | 0.720771  |\n",
      "Evaluating in combined mode on test set\n",
      "multilabel-indicator multilabel-indicator\n",
      "float32 int64\n",
      "(1196, 4) (1196, 4)\n",
      "|                     |        0 |\n",
      "|:--------------------|---------:|\n",
      "| hamming loss        | 0.132107 |\n",
      "| zero_one_loss       | 0.427258 |\n",
      "| one_error           | 0        |\n",
      "| micro av. jaccard   | 0.433184 |\n",
      "| macro av. jaccard   | 0.443911 |\n",
      "| micro av. precision | 0.691977 |\n",
      "| macro av. precision | 0.67834  |\n",
      "| micro av. recall    | 0.536667 |\n",
      "| macro av. recall    | 0.547305 |\n",
      "| micro av. f1        | 0.604506 |\n",
      "| macro av. f1        | 0.599219 |\n",
      "Training and Evaluating on task 3\n",
      "Train data shape is  (1211, 1, 300)\n",
      "Train Labels shape is  (1211, 2)\n",
      "Classes trained are: 4 to 6\n",
      "Augmenting class labels...\n",
      "Train Labels shape is  (1211, 6)\n"
     ]
    },
    {
     "name": "stderr",
     "output_type": "stream",
     "text": [
      "  0%|          | 0/2500 [00:00<?, ?it/s]"
     ]
    },
    {
     "name": "stdout",
     "output_type": "stream",
     "text": [
      "Class 0, class 1 neurons = 13, class 0 neurons = 3\n",
      "Class 1, class 1 neurons = 9, class 0 neurons = 3\n",
      "Class 2, class 1 neurons = 6, class 0 neurons = 12\n",
      "Class 3, class 1 neurons = 4, class 0 neurons = 10\n",
      "Class 4, class 1 neurons = 7, class 0 neurons = 5\n",
      "Class 5, class 1 neurons = 2, class 0 neurons = 7\n"
     ]
    },
    {
     "name": "stderr",
     "output_type": "stream",
     "text": [
      "100%|██████████| 2500/2500 [8:34:16<00:00, 12.34s/it]  \n"
     ]
    },
    {
     "name": "stdout",
     "output_type": "stream",
     "text": [
      "Evaluating in individual mode on test set\n",
      "multilabel-indicator multilabel-indicator\n",
      "float32 int64\n",
      "(1196, 2) (1196, 2)\n",
      "|                     |         0 |\n",
      "|:--------------------|----------:|\n",
      "| hamming loss        | 0.0568562 |\n",
      "| zero_one_loss       | 0.103679  |\n",
      "| one_error           | 0.0100334 |\n",
      "| micro av. jaccard   | 0.695749  |\n",
      "| macro av. jaccard   | 0.696739  |\n",
      "| micro av. precision | 0.866295  |\n",
      "| macro av. precision | 0.876154  |\n",
      "| micro av. recall    | 0.779449  |\n",
      "| macro av. recall    | 0.779347  |\n",
      "| micro av. f1        | 0.82058   |\n",
      "| macro av. f1        | 0.821195  |\n",
      "Evaluating in combined mode on test set\n",
      "multilabel-indicator multilabel-indicator\n",
      "float32 int64\n",
      "(1196, 6) (1196, 6)\n",
      "|                     |        0 |\n",
      "|:--------------------|---------:|\n",
      "| hamming loss        | 0.10772  |\n",
      "| zero_one_loss       | 0.509197 |\n",
      "| one_error           | 0        |\n",
      "| micro av. jaccard   | 0.492449 |\n",
      "| macro av. jaccard   | 0.507916 |\n",
      "| micro av. precision | 0.770021 |\n",
      "| macro av. precision | 0.757796 |\n",
      "| micro av. recall    | 0.577367 |\n",
      "| macro av. recall    | 0.589887 |\n",
      "| micro av. f1        | 0.659921 |\n",
      "| macro av. f1        | 0.653217 |\n",
      "Evaluating in individual mode on test set\n",
      "|                     |         0 |         1 |         2 |\n",
      "|:--------------------|----------:|----------:|----------:|\n",
      "| hamming loss        | 0.164298  | 0.102007  | 0.0568562 |\n",
      "| zero_one_loss       | 0.300167  | 0.193144  | 0.103679  |\n",
      "| one_error           | 0.0284281 | 0.0108696 | 0.0100334 |\n",
      "| micro av. jaccard   | 0.311734  | 0.516832  | 0.695749  |\n",
      "| macro av. jaccard   | 0.316339  | 0.510669  | 0.696739  |\n",
      "| micro av. precision | 0.622378  | 0.793313  | 0.866295  |\n",
      "| macro av. precision | 0.615949  | 0.781286  | 0.876154  |\n",
      "| micro av. recall    | 0.384449  | 0.597254  | 0.779449  |\n",
      "| macro av. recall    | 0.402212  | 0.588101  | 0.779347  |\n",
      "| micro av. f1        | 0.4753    | 0.681462  | 0.82058   |\n",
      "| macro av. f1        | 0.469088  | 0.66937   | 0.821195  |\n",
      "Evaluating in combined mode on test set\n",
      "|                     |         0 |        1 |        2 |\n",
      "|:--------------------|----------:|---------:|---------:|\n",
      "| hamming loss        | 0.164298  | 0.133152 | 0.10772  |\n",
      "| zero_one_loss       | 0.300167  | 0.436455 | 0.509197 |\n",
      "| one_error           | 0.0284281 | 0        | 0        |\n",
      "| micro av. jaccard   | 0.311734  | 0.407993 | 0.492449 |\n",
      "| macro av. jaccard   | 0.316339  | 0.413504 | 0.507916 |\n",
      "| micro av. precision | 0.622378  | 0.713821 | 0.770021 |\n",
      "| macro av. precision | 0.615949  | 0.698617 | 0.757796 |\n",
      "| micro av. recall    | 0.384449  | 0.487778 | 0.577367 |\n",
      "| macro av. recall    | 0.402212  | 0.495156 | 0.589887 |\n",
      "| micro av. f1        | 0.4753    | 0.579538 | 0.659921 |\n",
      "| macro av. f1        | 0.469088  | 0.569229 | 0.653217 |\n",
      "Number of Tasks: 3\n",
      "Forgetting in task 1: first time micro av. f1 = 0.5433, after all tasks micro av. f1 = 0.4753\n",
      "Forgetting in task 2: first time micro av. f1 = 0.7237, after all tasks micro av. f1 = 0.4753\n",
      "Forgetting in task 3: first time micro av. f1 = 0.8206, after all tasks micro av. f1 = 0.4753\n"
     ]
    },
    {
     "data": {
      "image/png": "[encoded data removed]",
      "text/plain": [
       "<Figure size 360x360 with 1 Axes>"
      ]
     },
     "metadata": {
      "needs_background": "light"
     },
     "output_type": "display_data"
    }
   ],
   "source": [
    "hparams_dict = {\n",
    "    'inputs': 300,\n",
    "    'outputs': 6,\n",
    "    'time_constant': 300,\n",
    "    'alpha_a': 0.42,\n",
    "    'alpha_m': 0.07,\n",
    "    'w_max': 100.0,\n",
    "    'w_min': -100.0,\n",
    "    'lr': 5e-4,\n",
    "    'sim_time': 600,\n",
    "    'n_epochs': 2500,\n",
    "    'print_every': 500,\n",
    "    'name': 'Scene',\n",
    "    'tasks': {'samples': None, 'labels': [2, 2, 2]},\n",
    "    'seed': 4,\n",
    "    'ckpt_dir': './checkpoints/scene',\n",
    "    'load_from_file': None,\n",
    "    'device': device\n",
    "}\n",
    "net = OverallSNN(hparams_dict)\n",
    "net.fit_and_evaluate(train_spikes, train_labels, test_spikes, test_labels)"
   ]
  },
  {
   "cell_type": "code",
   "execution_count": null,
   "metadata": {},
   "outputs": [],
   "source": []
  }
 ],
 "metadata": {
  "kernelspec": {
   "display_name": "DL_gpu",
   "language": "python",
   "name": "dl_gpu"
  },
  "language_info": {
   "codemirror_mode": {
    "name": "ipython",
    "version": 3
   },
   "file_extension": ".py",
   "mimetype": "text/x-python",
   "name": "python",
   "nbconvert_exporter": "python",
   "pygments_lexer": "ipython3",
   "version": "3.7.7"
  }
 },
 "nbformat": 4,
 "nbformat_minor": 4
}
